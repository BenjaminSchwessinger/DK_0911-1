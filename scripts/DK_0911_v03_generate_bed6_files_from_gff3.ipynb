{
 "cells": [
  {
   "cell_type": "code",
   "execution_count": null,
   "metadata": {
    "collapsed": true
   },
   "outputs": [],
   "source": [
    "'''NOTE - we didn't need to do this. 'bedtools getfasta' allows gff3 input (see below),\n",
    "and produces exactly the same output as with the converted bed file (tested with 'diff'\n",
    "function)'''\n",
    "\n",
    "# cd /home/gamran/genome_analysis/Warrior/Richard/output/genome_v03\n",
    "# bedtools getfasta -fi DK_0911_v03_h_ctg.fa -bed DK_0911_v03_h_ctg.anno.gff3 -fo DK_0911_v03_h_ctg.gene.fa \n",
    "# bedtools getfasta -fi DK_0911_v03_p_ctg.fa -bed DK_0911_v03_p_ctg.anno.gff3 -fo DK_0911_v03_p_ctg.gene.fa "
   ]
  },
  {
   "cell_type": "code",
   "execution_count": 12,
   "metadata": {
    "collapsed": false
   },
   "outputs": [],
   "source": [
    "import pandas as pd\n",
    "import os\n",
    "\n",
    "BASE_DIR = '/home/gamran/genome_analysis/Warrior/Richard/output/genome_v03/'\n",
    "\n",
    "H_CTG_GFF_LOC = BASE_DIR + 'DK_0911_v03_h_ctg.anno.gff3'\n",
    "P_CTG_GFF_LOC = BASE_DIR + 'DK_0911_v03_p_ctg.anno.gff3'\n",
    "\n",
    "pgff_df = pd.read_table(P_CTG_GFF_LOC, header = None,  \\\n",
    "                  names = ['seqid', 'source', 'type', 'start', 'end', 'score', 'strand', 'phase', 'attributes'])\n",
    "hgff_df = pd.read_table(H_CTG_GFF_LOC, header = None,  \\\n",
    "                  names = ['seqid', 'source', 'type', 'start', 'end', 'score', 'strand', 'phase', 'attributes']) "
   ]
  },
  {
   "cell_type": "code",
   "execution_count": 13,
   "metadata": {
    "collapsed": false
   },
   "outputs": [],
   "source": [
    "# make pCtg BED6 DataFrame\n",
    "pbed_df = pgff_df.loc[:, ['seqid', 'start', 'end', 'type', 'score', 'strand']]\n",
    "pbed_df = pbed_df.rename(index=str, columns={'seqid':'chrom', 'start':'chromStart', 'end':'chromEnd', 'type':'name'})\n",
    "\n",
    "pbed_df['chromStart'] = pbed_df['chromStart'] - 1\n",
    "pbed_df['name'] = pbed_df['chrom']\n",
    "# pbed_df['chrom'] = pbed_df['chrom'].apply(lambda s: s[8:11])\n",
    "pbed_df.set_index('chrom', inplace = True)"
   ]
  },
  {
   "cell_type": "code",
   "execution_count": 14,
   "metadata": {
    "collapsed": true
   },
   "outputs": [],
   "source": [
    "# make htg BED6 DataFrame\n",
    "hbed_df = hgff_df.loc[:, ['seqid', 'start', 'end', 'type', 'score', 'strand']]\n",
    "hbed_df = hbed_df.rename(index=str, columns={'seqid':'chrom', 'start':'chromStart', 'end':'chromEnd', 'type':'name'})\n",
    "\n",
    "hbed_df['chromStart'] = hbed_df['chromStart'] - 1\n",
    "hbed_df['name'] = hbed_df['chrom']\n",
    "# hbed_df['chrom'] = hbed_df['chrom'].apply(lambda s: s[8:11])\n",
    "hbed_df.set_index('chrom', inplace = True)"
   ]
  },
  {
   "cell_type": "code",
   "execution_count": 15,
   "metadata": {
    "collapsed": false
   },
   "outputs": [],
   "source": [
    "# write pCtg BED6 DataFrame to BED file\n",
    "base_filename = 'DK_0911_v03_p_ctg.anno.bed'\n",
    "\n",
    "with open(os.path.join(BASE_DIR, base_filename), 'w') as outfile:\n",
    "    pbed_df.to_csv(outfile, sep='\\t', header = False)"
   ]
  },
  {
   "cell_type": "code",
   "execution_count": 16,
   "metadata": {
    "collapsed": false
   },
   "outputs": [],
   "source": [
    "# write htg BED6 DataFrame to BED file\n",
    "base_filename = 'DK_0911_v03_h_ctg.anno.bed'\n",
    "\n",
    "with open(os.path.join(BASE_DIR, base_filename), 'w') as outfile:\n",
    "    hbed_df.to_csv(outfile, sep='\\t', header = False)"
   ]
  },
  {
   "cell_type": "code",
   "execution_count": null,
   "metadata": {
    "collapsed": true
   },
   "outputs": [],
   "source": []
  }
 ],
 "metadata": {
  "anaconda-cloud": {},
  "kernelspec": {
   "display_name": "Python [conda root]",
   "language": "python",
   "name": "conda-root-py"
  },
  "language_info": {
   "codemirror_mode": {
    "name": "ipython",
    "version": 3
   },
   "file_extension": ".py",
   "mimetype": "text/x-python",
   "name": "python",
   "nbconvert_exporter": "python",
   "pygments_lexer": "ipython3",
   "version": "3.5.2"
  }
 },
 "nbformat": 4,
 "nbformat_minor": 1
}
