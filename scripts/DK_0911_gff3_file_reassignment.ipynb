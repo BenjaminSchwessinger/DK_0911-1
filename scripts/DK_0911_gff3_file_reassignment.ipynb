{
 "cells": [
  {
   "cell_type": "code",
   "execution_count": 212,
   "metadata": {
    "collapsed": false,
    "scrolled": true
   },
   "outputs": [],
   "source": [
    "import pandas as pd\n",
    "\n",
    "BASE_DIR = '/home/gamran/genome_analysis/Warrior/annotation/'\n",
    "\n",
    "H_CTG_GFF_LOC = BASE_DIR + 'DK_0911_v01_h_ctg/DK_0911_v01_h_ctg.evm.all.lt.gff3'\n",
    "P_CTG_GFF_LOC = BASE_DIR + 'DK_0911_v01_p_ctg/DK_0911_v01_p_ctg.evm.all.lt.gff3'\n",
    "\n",
    "pCtg_df = pd.read_table(P_CTG_GFF_LOC, skiprows = 1, header = None, index_col = 0, \\\n",
    "                  names = ['seqid', 'source', 'type', 'start', 'end', 'score', 'strand', 'phase', 'attributes'])\n",
    "htg_df = pd.read_table(H_CTG_GFF_LOC, skiprows = 1, header = None, index_col = 0, \\\n",
    "                  names = ['seqid', 'source', 'type', 'start', 'end', 'score', 'strand', 'phase', 'attributes']) \n",
    "\n",
    "def assign(pwohNum, pwhNum, pCtg_df, htg_df):\n",
    "    '''Assigns a single pwoh to a pwh, removing the pwoh from the \n",
    "    gff pCtg_df and assigning it to the gff htg_df with the correct\n",
    "    naming convention. For example, pcontig_086 that is a pwoh\n",
    "    belonging to pcontig_039 will be renamed to hcontig_039_086 and\n",
    "    removed from pCtg_df and added to htg_df.'''\n",
    "    '''NOTE that this does not handle duplicates (e.g. if hcontig_039_086\n",
    "    already exists, this function does nothing to handle this case)'''\n",
    "    \n",
    "    # e.g. 86 -> '086'\n",
    "    pwohNum = '0'*(3-len(str(pwohNum))) + str(pwohNum)\n",
    "    pwhNum = '0'*(3-len(str(pwhNum))) + str(pwhNum)\n",
    "    \n",
    "    htg = pCtg_df.loc['pcontig_' + pwohNum]\n",
    "    pCtg_df = pCtg_df.drop('pcontig_' + pwohNum)\n",
    "    htg.index = ['hcontig_%s_%s' % (pwhNum, pwohNum)]*len(htg.index)\n",
    "    htg_df = pd.concat([htg_df, htg])\n",
    "    \n",
    "    return pCtg_df, htg_df\n",
    "\n",
    "# pCtg_df, htg_df = assign(86, 39, pCtg_df, htg_df)\n",
    "\n",
    "def testAssign(pCtg_df, htg_df):\n",
    "    '''tests assign() function with one example case. Checks that pwoh was removed\n",
    "    from pCtg_df and also that it was reassigned to the htg_df with the correct naming'''\n",
    "    \n",
    "    newHtgs = len(pCtg_df[[s.startswith('pcontig_086') for s in pCtg_df.index]])\n",
    "    startHtgs = len(htg_df[[s.startswith('hcontig_039') for s in htg_df.index]])\n",
    "    \n",
    "    pCtg_df, htg_df = assign(86, 39, pCtg_df, htg_df)\n",
    "    assert(len(pCtg_df[[s.startswith('pcontig_086') for s in pCtg_df.index]]) == 0)\n",
    "    \n",
    "    finalHtgs = len(htg_df[[s.startswith('hcontig_039') for s in htg_df.index]])\n",
    "    assert(finalHtgs == newHtgs + startHtgs)\n",
    "\n",
    "    return True\n",
    "\n",
    "testAssign(pCtg_df, htg_df)\n",
    "\n",
    "def assignMany(pairs, pCtg_df, htg_df):\n",
    "    for pwohNum, pwhNum in pairs:\n",
    "        pCtg_df, htg_df = assign(pwohNum, pwhNum, pCtg_df, htg_df)\n",
    "    return pCtg_df, htg_df\n",
    "\n",
    "pairs = [(86, 39), \\\n",
    "        (96, 33), \\\n",
    "        (97, 39), \\\n",
    "        (100, 33), \\\n",
    "        (103, 74)]\n",
    "\n",
    "pCtg_df, htg_df = assignMany(pairs, pCtg_df, htg_df)\n",
    "\n",
    "# pCtg_df[[s.startswith('pcontig_086') for s in pCtg_df.index]]\n",
    "# htg_df[[s.startswith('hcontig_074') for s in htg_df.index]]"
   ]
  },
  {
   "cell_type": "code",
   "execution_count": 213,
   "metadata": {
    "collapsed": false
   },
   "outputs": [],
   "source": [
    "# write to haplotigs to new file (v03)\n",
    "base_filename = 'DK_0911_v03_h_ctg.evm.all.lt.gff3'\n",
    "folder_path = BASE_DIR + 'DK_0911_v03_h_ctg'\n",
    "if not os.path.exists(folder_path):\n",
    "    os.mkdir(folder_path)\n",
    "with open(os.path.join(folder_path, base_filename), 'w') as outfile:\n",
    "    htg_df.to_csv(outfile, sep='\\t', header = False)"
   ]
  },
  {
   "cell_type": "code",
   "execution_count": 214,
   "metadata": {
    "collapsed": true
   },
   "outputs": [],
   "source": [
    "# write primary contigs to new file (v03)\n",
    "base_filename = 'DK_0911_v03_p_ctg.evm.all.lt.gff3'\n",
    "folder_path = BASE_DIR + 'DK_0911_v03_p_ctg'\n",
    "if not os.path.exists(folder_path):\n",
    "    os.mkdir(folder_path)\n",
    "with open(os.path.join(folder_path, base_filename), 'w') as outfile:\n",
    "    pCtg_df.to_csv(outfile, sep='\\t', header = False)"
   ]
  },
  {
   "cell_type": "code",
   "execution_count": null,
   "metadata": {
    "collapsed": true
   },
   "outputs": [],
   "source": []
  }
 ],
 "metadata": {
  "anaconda-cloud": {},
  "kernelspec": {
   "display_name": "Python [default]",
   "language": "python",
   "name": "python3"
  },
  "language_info": {
   "codemirror_mode": {
    "name": "ipython",
    "version": 3
   },
   "file_extension": ".py",
   "mimetype": "text/x-python",
   "name": "python",
   "nbconvert_exporter": "python",
   "pygments_lexer": "ipython3",
   "version": "3.5.2"
  }
 },
 "nbformat": 4,
 "nbformat_minor": 1
}
