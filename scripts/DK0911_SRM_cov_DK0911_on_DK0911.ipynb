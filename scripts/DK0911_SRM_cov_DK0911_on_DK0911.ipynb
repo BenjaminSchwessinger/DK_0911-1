{
 "cells": [
  {
   "cell_type": "markdown",
   "metadata": {},
   "source": [
    "### SRM coverage analysis for p, ph mapping for 'phased' and unphased regions"
   ]
  },
  {
   "cell_type": "markdown",
   "metadata": {},
   "source": [
    "This notebook is aimed at calculating the coverage of the genome using short read illumina data mapped with bwa againts primary contigs and primary contigs + haplotigs.\n",
    "\n",
    "* calculate the coverage in 1000 bp sliding windows (200bp) for p and p+h mapping.\n",
    "* calculate the coverage when mapping against primary contigs in regions with h overlap and without\n",
    "* plot those out and see"
   ]
  },
  {
   "cell_type": "code",
   "execution_count": 1,
   "metadata": {
    "ExecuteTime": {
     "end_time": "2018-04-03T06:41:03.557153Z",
     "start_time": "2018-04-03T06:41:03.164457Z"
    },
    "collapsed": true
   },
   "outputs": [],
   "source": [
    "%matplotlib inline"
   ]
  },
  {
   "cell_type": "code",
   "execution_count": 2,
   "metadata": {
    "ExecuteTime": {
     "end_time": "2018-04-03T06:41:05.654674Z",
     "start_time": "2018-04-03T06:41:03.944406Z"
    }
   },
   "outputs": [
    {
     "name": "stderr",
     "output_type": "stream",
     "text": [
      "/home/benjamin/anaconda3/lib/python3.5/site-packages/Bio/SearchIO/__init__.py:211: BiopythonExperimentalWarning: Bio.SearchIO is an experimental submodule which may undergo significant changes prior to its future official release.\n",
      "  BiopythonExperimentalWarning)\n"
     ]
    }
   ],
   "source": [
    "import pandas as pd\n",
    "import os\n",
    "import re\n",
    "from Bio import SeqIO\n",
    "from Bio import SeqUtils\n",
    "import pysam\n",
    "from Bio.SeqRecord import SeqRecord\n",
    "from pybedtools import BedTool\n",
    "import numpy as np\n",
    "import pybedtools\n",
    "import time\n",
    "import matplotlib.pyplot as plt\n",
    "import sys\n",
    "import subprocess\n",
    "import shutil\n",
    "from Bio.Seq import Seq\n",
    "import pysam\n",
    "from Bio import SearchIO\n",
    "import json\n",
    "import glob\n",
    "import scipy.stats as stats\n",
    "import statsmodels as sms\n",
    "import statsmodels.sandbox.stats.multicomp\n",
    "import distance\n",
    "import seaborn as sns\n",
    "from pybedtools import BedTool\n",
    "import matplotlib\n",
    "from sklearn.externals.joblib import Parallel, delayed\n",
    "import itertools as it\n",
    "import tempfile\n",
    "from scipy.signal import argrelextrema"
   ]
  },
  {
   "cell_type": "code",
   "execution_count": 3,
   "metadata": {
    "ExecuteTime": {
     "end_time": "2018-04-03T06:46:20.388610Z",
     "start_time": "2018-04-03T06:46:20.378019Z"
    },
    "collapsed": true
   },
   "outputs": [],
   "source": [
    "#Define some PATH variables\n",
    "BASE_AA_PATH = '/home/benjamin/genome_assembly/Warrior/genome_v04'\n",
    "COV_PATH = '/home/benjamin/genome_assembly/Warrior/COV'\n",
    "SRM_PATH = os.path.join('/home/benjamin/genome_assembly/Warrior/SRM')"
   ]
  },
  {
   "cell_type": "code",
   "execution_count": 4,
   "metadata": {},
   "outputs": [],
   "source": [
    "genome = 'DK_0911_v04'\n",
    "mapping_project = \"PRI_NTKN_DK0911_on_%s\" % genome\n",
    "pbam_short_fn = 'DK_0911_v03_p_ctg.bwamem.PRI_NTKN_DK0911.sam.sorted.bam'\n",
    "phbam_short_fn = 'DK_0911_v03_ph_ctg.bwamem.PRI_NTKN_DK0911.sam.sorted.bam'\n",
    "h_on_p_fn = '/home/benjamin/genome_assembly/Warrior/allele_analysis/v04/allele_analysis/DK_0911_v04_p_ctg.p_by_h_cov.gff'\n",
    "threads = 6\n",
    "OUT_PATH = os.path.join(COV_PATH, 'analysis', mapping_project)\n",
    "if not os.path.exists(OUT_PATH):\n",
    "    os.makedirs(OUT_PATH)\n",
    "TMP_PATH = os.path.join(OUT_PATH, 'tmp')\n",
    "if not os.path.exists(TMP_PATH):\n",
    "    os.makedirs(TMP_PATH)"
   ]
  },
  {
   "cell_type": "markdown",
   "metadata": {},
   "source": [
    "Now parallelize the bedtools and samtools functions.\n",
    "This requires the following:\n",
    "* split the window bedfile in as many non-overlapping bedfiels as we have threads and return the file locations as in a list.\n",
    "* a function that takes a two filenames bedfile window and bam file and does a subprocess using samtools \n",
    "\n",
    "\n",
    "\n"
   ]
  },
  {
   "cell_type": "raw",
   "metadata": {},
   "source": [
    "subprocess.check_output(blast_command, shell=True, stderr=subprocess.STDOUT)"
   ]
  },
  {
   "cell_type": "code",
   "execution_count": 5,
   "metadata": {},
   "outputs": [],
   "source": [
    "def run_command(command):\n",
    "    print('\\nRunnning now!\\n')\n",
    "    print(command)\n",
    "    output = subprocess.check_output(command, shell=True, stderr=subprocess.STDOUT)\n",
    "    print('\\nDone\\nWith ouput:\\n%s' % output)\n",
    "    print(output)"
   ]
  },
  {
   "cell_type": "code",
   "execution_count": 6,
   "metadata": {},
   "outputs": [],
   "source": [
    "def hello_print(command_list):\n",
    "    print(command_list)"
   ]
  },
  {
   "cell_type": "code",
   "execution_count": 7,
   "metadata": {},
   "outputs": [],
   "source": [
    "def faidx_genome(genome_fn, contig_fn):\n",
    "    '''Generates a genome file used for samtools and such if not already present.\n",
    "    Input: \n",
    "    Abspath filename of output genome_file.\n",
    "    Abspath filename for genome contig file.'''\n",
    "    if not os.path.exists(genome_fn):\n",
    "        sammtools_command = 'samtools faidx %s' % contig_fn\n",
    "        run_command(samtools_command)\n",
    "        genome_file_command = 'cat %s.fai | sort -k1,1n | cut -f 1,2 > %s' %(contig_fn, genome_fn)\n",
    "        run_command(genome_file_command)\n",
    "    else:\n",
    "        print('%s already exists!' % genome_fn)"
   ]
  },
  {
   "cell_type": "code",
   "execution_count": 8,
   "metadata": {},
   "outputs": [],
   "source": [
    "def sort_gff_file(gff_fn):\n",
    "    '''Sorts gff file and returns the Abspath to the sorted gff file.'''\n",
    "    gff3sport_pl = '/home/benjamin/genome_assembly/PST79/FALCON/p_assemblies/v9_1/Pst_104E_v12/get_homologues/gff3sort/gff3sort.pl'\n",
    "    if gff_fn.endswith('gff'):\n",
    "        out_fn = gff_fn.replace('.gff', '.sorted.gff')\n",
    "    elif gff_fn.endswith('gff3'):\n",
    "        out_fn = gff_fn.replace('.gff3', '.sorted.gff3')\n",
    "    else:\n",
    "        print('Please make sure your gff %s file ends with gff or gff3' % gff_fn.split['/'][-1])\n",
    "    sort_command = 'perl %s --precise %s > %s' %(gff3sport_pl, gff_fn, out_fn)\n",
    "    run_command(sort_command)\n",
    "    return out_fn"
   ]
  },
  {
   "cell_type": "code",
   "execution_count": 9,
   "metadata": {},
   "outputs": [],
   "source": [
    "def bed_file_split(bed_fn, num_chunks, tmp_path = TMP_PATH):\n",
    "    '''Splits a bedfile into even chunks of files plus the reads. Each file having the same number of lines.\n",
    "    Input:\n",
    "    bed file name abspath\n",
    "    chunks to split into\n",
    "    tmp_path where the split files get saved into.\n",
    "    Returns:\n",
    "    List of abspath filenames for split bed files.'''\n",
    "    infilename = bed_fn\n",
    "    number_of_lines = 0\n",
    "    with open(infilename, 'rb') as infile:\n",
    "        for x in infile:\n",
    "            number_of_lines = number_of_lines + 1\n",
    "    print('in_file_line_number:', number_of_lines)\n",
    "    chunk_size = number_of_lines // num_chunks\n",
    "    print('target chunk_size:', chunk_size)\n",
    "    files = []\n",
    "    \n",
    "    previous = 0\n",
    "    for i,y in enumerate([x for x in range(0, number_of_lines, chunk_size)]):\n",
    "        if y == 0:\n",
    "            continue\n",
    "                    \n",
    "        else:\n",
    "            temp_fn = os.path.join(TMP_PATH, '%s_%s' % (os.path.basename(bed_fn), i-1))\n",
    "            with open(temp_fn, 'w') as temp_file:\n",
    "                with open(infilename, 'r') as infile:\n",
    "                    for line_number, line in enumerate(infile):\n",
    "                        if line_number < y and line_number >= previous:\n",
    "                            print(line.rstrip(), file=temp_file)\n",
    "                        else:\n",
    "                            continue\n",
    "            previous = y\n",
    "            files.append(temp_fn)\n",
    "    if y < number_of_lines:\n",
    "        temp_fn = os.path.join(TMP_PATH, '%s_%s' % (os.path.basename(bed_fn), i))\n",
    "        with open(temp_fn, 'w') as temp_file:\n",
    "                with open(infilename, 'r') as infile:\n",
    "                    for line_number, line in enumerate(infile):\n",
    "                        if line_number >= y:\n",
    "                            print(line.rstrip(), file=temp_file)\n",
    "                        else:\n",
    "                            continue\n",
    "    files.append(temp_fn)\n",
    "    return files"
   ]
  },
  {
   "cell_type": "code",
   "execution_count": 10,
   "metadata": {},
   "outputs": [],
   "source": [
    "def samcov_file_split(basefile_name, chunks, tmp_path = TMP_PATH):\n",
    "    \"\"\"This function takes the samcov file and generates the split filenames necessary to run the \n",
    "    parallelized run_sam_bedcov.\"\"\"\n",
    "    chunk_base_name = os.path.join(tmp_path, os.path.basename(basefile_name))\n",
    "    return_list = []\n",
    "    for x in range(0, chunks):\n",
    "        return_list.append('%s_%s' % (chunk_base_name, x))\n",
    "    return return_list"
   ]
  },
  {
   "cell_type": "code",
   "execution_count": 11,
   "metadata": {},
   "outputs": [],
   "source": [
    "def combine_samcov_files(file_list):\n",
    "    \"\"\"This function concatenates samcov files from a tmp folder into the folder below. And removes all tmp files.\"\"\"\n",
    "    command = 'cat'\n",
    "    combined_file = os.path.basename(file_list[0])[:-2]\n",
    "    combined_file_fn = os.path.join(os.path.dirname(file_list[0]),'..', combined_file)\n",
    "    for file in file_list:\n",
    "        command = command + ' %s' % file\n",
    "    command = command + ' > %s'  % combined_file_fn\n",
    "    run_command(command)"
   ]
  },
  {
   "cell_type": "code",
   "execution_count": 12,
   "metadata": {},
   "outputs": [],
   "source": [
    "def remove_files(file_list):\n",
    "    for file in file_list:\n",
    "        os.remove(file)"
   ]
  },
  {
   "cell_type": "code",
   "execution_count": 13,
   "metadata": {},
   "outputs": [],
   "source": [
    "def run_sam_bedcov(bed_fn, bam_fn, samcov_fn, parallel = False):\n",
    "    \"\"\"This function runst samtools bedcov. It also has the option to do this in parallel spliting up the bed_cov file in equal junks plus one.\n",
    "    Input:\n",
    "        bed file name as Abspath.\n",
    "        bam file name as Abspath.\n",
    "        Samcov file as Abspath.\n",
    "        Option to run thinks in parllel. Set to False. Provide the number of threads you want to run -1.\n",
    "    Output:\n",
    "        It generate the samcov files and saves them to file.\"\"\"\n",
    "    command = 'samtools bedcov %s %s > %s' % (bed_fn, bam_fn, samcov_fn)\n",
    "    if parallel != False and type(parallel) == int:\n",
    "        split_bed_files = bed_file_split(bed_fn, parallel)\n",
    "        split_samcov_files = samcov_file_split(samcov_fn, len(split_bed_files), tmp_path=TMP_PATH)\n",
    "        bam_files = [bam_fn]*len(split_bed_files)\n",
    "        n_threads = len(split_bed_files)\n",
    "        Parallel(n_jobs=n_threads)(delayed(run_sam_bedcov)(bed, bam, sam) for bed, bam, sam in zip(split_bed_files, bam_files, split_samcov_files))\n",
    "        combine_samcov_files(split_samcov_files)\n",
    "        remove_files(split_samcov_files)\n",
    "        remove_files(split_bed_files)\n",
    "    else:\n",
    "        run_command(command)"
   ]
  },
  {
   "cell_type": "code",
   "execution_count": 14,
   "metadata": {},
   "outputs": [],
   "source": [
    "def diploid_coverage(df):\n",
    "    \"\"\"This function tries to define the 'diploid coverage' of a samcov dataframe in case of two major coverage peaks.\n",
    "    In case of a single peak it will return its coverage.\n",
    "    It checks if the dataframe contains high coverage outliers and removes those for the analysis.\n",
    "    Input:\n",
    "        Samcov dataframe. \n",
    "    Output:\n",
    "        Location of diploid coverage peak for diploids.\n",
    "        Location of haploid coverage peak in case of haploids.\n",
    "    \"\"\"\n",
    "    #function that first checks if the dataframe if trimmed down\n",
    "    if df.ave_cov.max() > 10 * df.ave_cov.mean():\n",
    "        print(\"Reducing dataframe to quantile 0.99\")\n",
    "        q_up = 0.99\n",
    "        q_down = 1 - 0.99\n",
    "        low = x.quantile(q_down) - 1.5*(x.quantile(q_up) - x.quantile(q_down))\n",
    "        high = x.quantile(q_up) + 1.5*(x.quantile(q_up) - x.quantile(q_down))\n",
    "        df = df[(df.ave_cov >= low) & (df.ave_cov <= high)]\n",
    "    cov_bin = pd.cut(df.ave_cov, bins=200)\n",
    "    value_counts = cov_bin.value_counts().sort_index()\n",
    "    value_counts_df = value_counts.reset_index()\n",
    "    local_max = argrelextrema(value_counts.values, np.greater, order=10, mode ='wrap')[0]\n",
    "    sub_df = value_counts_df.loc[local_max]\n",
    "    sub_df['mids'] = sub_df['index'].apply(lambda x: float(x.mid))\n",
    "    sub_df = sub_df[sub_df.ave_cov > sub_df.ave_cov.max()*0.1]\n",
    "    #now comes the heuristic\n",
    "    print('These are the options for the peaks that are greater than 10% of the max peak.')\n",
    "    print(sub_df)\n",
    "    if len(sub_df.mids) == 1:\n",
    "        #print(\"step 1\")\n",
    "        return sub_df.mids[sub_df.mids.index[0]]\n",
    "    elif len(sub_df.mids) == 2:\n",
    "        #print('step 2')\n",
    "        return sub_df.mids[sub_df.mids.index[1]]\n",
    "    elif len(sub_df.mids) > 2:\n",
    "        #drop everything at the left edge\n",
    "        mids = sub_df.mids[np.array(sub_df['mids']) >0.1*df.ave_cov.mean()]\n",
    "        if len(mids) == 1:\n",
    "            #print('something')\n",
    "            return mids[mids.index[0]]\n",
    "            #continue\n",
    "        elif len(mids) == 2:\n",
    "            dvision = mids[mids.index[1]]/mids[mids.index[0]] \n",
    "            if 1.85 < dvision < 2.15:\n",
    "                return mids[mids.index[1]]"
   ]
  },
  {
   "cell_type": "raw",
   "metadata": {},
   "source": [
    "run_sam_bedcov(test_bed, pbam_fn, test_bed.replace('.bed', '.somethingelse'), parallel = 8)"
   ]
  },
  {
   "cell_type": "code",
   "execution_count": 15,
   "metadata": {},
   "outputs": [],
   "source": [
    "def samcov_slurp(file_name, fil=True, low=0, high=1000000, quantile = False, norm = False):\n",
    "    \"\"\"Reads in a samcov file as a dataframe and can filter it by quantiles, high and low values.\n",
    "    It can also normalize. Either by a given value or by the calculated diploid coverage if norm is set to true.\n",
    "    If norm is set to false it will simply normalize by the overall mean coverage of the dataframe. This could be an issue\n",
    "    for multi peak coverage plots.\"\"\"\n",
    "    samcov_header = ['contig', 'start', 'stop', 'total_cov']\n",
    "    df = pd.read_csv(file_name, sep='\\t', header=None, names=samcov_header)\n",
    "    df['ave_cov'] = df.total_cov/(df.stop-df.start)\n",
    "    #rounder = pd.Series([0,0,0,0,2], index = df.columns)\n",
    "    df.ave_cov = df.ave_cov.round()\n",
    "    \n",
    "    if fil == True and quantile == False:\n",
    "        df = df[(df.ave_cov >= low) & (df.ave_cov <= high)]\n",
    "    elif fil == True and type(quantile) == float:\n",
    "        x = df.ave_cov\n",
    "        q_up = quantile\n",
    "        q_down = 1 - quantile\n",
    "        low = x.quantile(q_down) - 1.5*(x.quantile(q_up) - x.quantile(q_down))\n",
    "        high = x.quantile(q_up) + 1.5*(x.quantile(q_up) - x.quantile(q_down))\n",
    "        df = df[(df.ave_cov >= low) & (df.ave_cov <= high)]\n",
    "    if 'p_mapping' in file_name:\n",
    "        df = df[df.contig.str.startswith('pcontig')].copy()\n",
    "    \n",
    "    if norm == False:\n",
    "        df['norm_cov'] = df['ave_cov']/df['ave_cov'].mean()\n",
    "    elif type(norm) == int:\n",
    "        df['norm_cov'] = df['ave_cov']/norm\n",
    "    elif norm == True:\n",
    "        calcuated_coverage = diploid_coverage(df)\n",
    "        df['norm_cov'] = df['ave_cov']/calcuated_coverage\n",
    "        print(\"This is the calculated diploid coverage: %i\" % calcuated_coverage)\n",
    "    return df"
   ]
  },
  {
   "cell_type": "markdown",
   "metadata": {},
   "source": [
    "### Program starts here ###"
   ]
  },
  {
   "cell_type": "code",
   "execution_count": 16,
   "metadata": {
    "ExecuteTime": {
     "end_time": "2018-04-03T06:46:40.059127Z",
     "start_time": "2018-04-03T06:46:40.046505Z"
    },
    "collapsed": true
   },
   "outputs": [],
   "source": [
    "#define some filenames for assembly files\n",
    "p_fn = os.path.join(BASE_AA_PATH, '%s_p_ctg.fa' % genome)\n",
    "ph_fn = os.path.join(BASE_AA_PATH,'%s_ph_ctg.fa' % genome)\n",
    "p_genome_file_fn = os.path.join(BASE_AA_PATH, '%s_p_ctg.genome_file' % genome)\n",
    "ph_genome_file_fn = os.path.join(BASE_AA_PATH, \\\n",
    "                                 '%s_ph_ctg.genome_file' % genome)\n",
    "#and mapping bam files\n",
    "pbam_fn = os.path.join(SRM_PATH, pbam_short_fn)\n",
    "phbam_fn = os.path.join(SRM_PATH, phbam_short_fn)"
   ]
  },
  {
   "cell_type": "code",
   "execution_count": 17,
   "metadata": {
    "ExecuteTime": {
     "end_time": "2018-04-03T06:46:47.031212Z",
     "start_time": "2018-04-03T06:46:45.442471Z"
    },
    "collapsed": true
   },
   "outputs": [
    {
     "name": "stdout",
     "output_type": "stream",
     "text": [
      "/home/benjamin/genome_assembly/Warrior/genome_v04/DK_0911_v04_p_ctg.genome_file already exists!\n",
      "/home/benjamin/genome_assembly/Warrior/genome_v04/DK_0911_v04_ph_ctg.genome_file already exists!\n",
      "\n",
      "Runnning now!\n",
      "\n",
      "perl /home/benjamin/genome_assembly/PST79/FALCON/p_assemblies/v9_1/Pst_104E_v12/get_homologues/gff3sort/gff3sort.pl --precise /home/benjamin/genome_assembly/Warrior/allele_analysis/v04/allele_analysis/DK_0911_v04_p_ctg.p_by_h_cov.gff > /home/benjamin/genome_assembly/Warrior/allele_analysis/v04/allele_analysis/DK_0911_v04_p_ctg.p_by_h_cov.sorted.gff\n",
      "\n",
      "Done\n",
      "With ouput:\n",
      "b''\n",
      "b''\n"
     ]
    }
   ],
   "source": [
    "#run some indexing and genome_file commands\n",
    "faidx_genome(p_genome_file_fn, p_fn)\n",
    "faidx_genome(ph_genome_file_fn, ph_fn)\n",
    "h_on_p_sorted_fn = sort_gff_file(h_on_p_fn)"
   ]
  },
  {
   "cell_type": "code",
   "execution_count": 18,
   "metadata": {
    "ExecuteTime": {
     "end_time": "2018-04-03T06:57:02.748442Z",
     "start_time": "2018-04-03T06:57:00.228496Z"
    },
    "collapsed": true,
    "scrolled": true
   },
   "outputs": [],
   "source": [
    "#now make some window files\n",
    "p_window_1k200_bed = BedTool().window_maker(g=p_genome_file_fn, w=1000, s=200)\n",
    "ph_window_1k200_bed = BedTool().window_maker(g=ph_genome_file_fn, w=1000, s=200)\n",
    "h_on_p_bed = BedTool(fn=h_on_p_sorted_fn)\n",
    "h_on_p_bed_pos_1k200_bed = p_window_1k200_bed.intersect(h_on_p_bed)\n",
    "h_on_p_bed_neg_1k200_bed = p_window_1k200_bed.subtract(h_on_p_bed)"
   ]
  },
  {
   "cell_type": "code",
   "execution_count": 19,
   "metadata": {
    "ExecuteTime": {
     "end_time": "2018-04-04T07:08:28.548869Z",
     "start_time": "2018-04-04T07:08:28.542235Z"
    },
    "collapsed": true
   },
   "outputs": [],
   "source": [
    "#define some outfile names\n",
    "p_window_1k200_fn = os.path.join(OUT_PATH, '%s_p_ctg.p_window_1k200.cov' % mapping_project)\n",
    "ph_window_1k200_fn = os.path.join(OUT_PATH, '%s_ph_ctg.ph_window_1k200.cov' % mapping_project)\n",
    "p_h_on_p_window_1k200_fn = os.path.join(OUT_PATH, \\\n",
    "                                        '%s_ctg.h_on_p.p_window_1k200.cov' %mapping_project)\n",
    "p_h_not_on_p_window_1k200_fn = os.path.join(OUT_PATH, \\\n",
    "                                        '%s_p_ctg.h_not_on_p.p_window_1k200.cov' %mapping_project)"
   ]
  },
  {
   "cell_type": "code",
   "execution_count": 20,
   "metadata": {
    "ExecuteTime": {
     "end_time": "2018-04-04T07:10:00.139314Z",
     "start_time": "2018-04-04T07:09:59.431291Z"
    }
   },
   "outputs": [
    {
     "data": {
      "text/plain": [
       "<BedTool(/home/benjamin/genome_assembly/Warrior/COV/analysis/PRI_NTKN_DK0911_on_DK_0911_v04/PRI_NTKN_DK0911_on_DK_0911_v04_p_ctg.h_not_on_p.p_window_1k200.bed)>"
      ]
     },
     "execution_count": 20,
     "metadata": {},
     "output_type": "execute_result"
    }
   ],
   "source": [
    "#save out the bed files for overlaps\n",
    "p_window_1k200_bed.saveas(p_window_1k200_fn.replace('.cov', '.bed'))\n",
    "ph_window_1k200_bed.saveas(ph_window_1k200_fn.replace('.cov','.bed'))\n",
    "h_on_p_bed_pos_1k200_bed.saveas(p_h_on_p_window_1k200_fn.replace('.cov', '.bed'))\n",
    "h_on_p_bed_neg_1k200_bed.saveas(p_h_not_on_p_window_1k200_fn.replace('.cov', '.bed'))"
   ]
  },
  {
   "cell_type": "code",
   "execution_count": 21,
   "metadata": {},
   "outputs": [],
   "source": [
    "bed_list = [p_window_1k200_fn.replace('.cov', '.bed'), ph_window_1k200_fn.replace('.cov', '.bed'),\\\n",
    "            p_h_on_p_window_1k200_fn.replace('.cov', '.bed'), p_h_not_on_p_window_1k200_fn.replace('.cov', '.bed'),\\\n",
    "           p_h_on_p_window_1k200_fn.replace('.cov', '.bed'), p_h_not_on_p_window_1k200_fn.replace('.cov', '.bed')]\n",
    "bam_list = [pbam_fn, phbam_fn, phbam_fn, phbam_fn,pbam_fn, pbam_fn]\n",
    "samcov_list = [p_window_1k200_fn.replace('.cov', '.p_mapping.samcov'), ph_window_1k200_fn.replace('.cov', '.ph_mapping.samcov'),\\\n",
    "              p_h_on_p_window_1k200_fn.replace('.cov', '.ph_mapping.samcov'), p_h_not_on_p_window_1k200_fn.replace('.cov', '.ph_mapping.samcov'),\\\n",
    "              p_h_on_p_window_1k200_fn.replace('.cov', '.p_mapping.samcov'), p_h_not_on_p_window_1k200_fn.replace('.cov', '.p_mapping.samcov')]"
   ]
  },
  {
   "cell_type": "code",
   "execution_count": null,
   "metadata": {},
   "outputs": [
    {
     "name": "stdout",
     "output_type": "stream",
     "text": [
      "in_file_line_number: 372183\n",
      "target chunk_size: 62030\n",
      "\n",
      "Runnning now!\n",
      "\n",
      "Runnning now!\n",
      "\n",
      "Runnning now!\n",
      "\n",
      "Runnning now!\n",
      "\n",
      "\n",
      "\n",
      "Runnning now!\n",
      "\n",
      "samtools bedcov /home/benjamin/genome_assembly/Warrior/COV/analysis/PRI_NTKN_DK0911_on_DK_0911_v04/tmp/PRI_NTKN_DK0911_on_DK_0911_v04_p_ctg.p_window_1k200.bed_0 /home/benjamin/genome_assembly/Warrior/SRM/DK_0911_v03_p_ctg.bwamem.PRI_NTKN_DK0911.sam.sorted.bam > /home/benjamin/genome_assembly/Warrior/COV/analysis/PRI_NTKN_DK0911_on_DK_0911_v04/tmp/PRI_NTKN_DK0911_on_DK_0911_v04_p_ctg.p_window_1k200.p_mapping.samcov_0\n",
      "\n",
      "Runnning now!\n",
      "\n",
      "Runnning now!\n",
      "samtools bedcov /home/benjamin/genome_assembly/Warrior/COV/analysis/PRI_NTKN_DK0911_on_DK_0911_v04/tmp/PRI_NTKN_DK0911_on_DK_0911_v04_p_ctg.p_window_1k200.bed_1 /home/benjamin/genome_assembly/Warrior/SRM/DK_0911_v03_p_ctg.bwamem.PRI_NTKN_DK0911.sam.sorted.bam > /home/benjamin/genome_assembly/Warrior/COV/analysis/PRI_NTKN_DK0911_on_DK_0911_v04/tmp/PRI_NTKN_DK0911_on_DK_0911_v04_p_ctg.p_window_1k200.p_mapping.samcov_1\n",
      "samtools bedcov /home/benjamin/genome_assembly/Warrior/COV/analysis/PRI_NTKN_DK0911_on_DK_0911_v04/tmp/PRI_NTKN_DK0911_on_DK_0911_v04_p_ctg.p_window_1k200.bed_3 /home/benjamin/genome_assembly/Warrior/SRM/DK_0911_v03_p_ctg.bwamem.PRI_NTKN_DK0911.sam.sorted.bam > /home/benjamin/genome_assembly/Warrior/COV/analysis/PRI_NTKN_DK0911_on_DK_0911_v04/tmp/PRI_NTKN_DK0911_on_DK_0911_v04_p_ctg.p_window_1k200.p_mapping.samcov_3\n",
      "\n",
      "\n",
      "\n",
      "\n",
      "samtools bedcov /home/benjamin/genome_assembly/Warrior/COV/analysis/PRI_NTKN_DK0911_on_DK_0911_v04/tmp/PRI_NTKN_DK0911_on_DK_0911_v04_p_ctg.p_window_1k200.bed_4 /home/benjamin/genome_assembly/Warrior/SRM/DK_0911_v03_p_ctg.bwamem.PRI_NTKN_DK0911.sam.sorted.bam > /home/benjamin/genome_assembly/Warrior/COV/analysis/PRI_NTKN_DK0911_on_DK_0911_v04/tmp/PRI_NTKN_DK0911_on_DK_0911_v04_p_ctg.p_window_1k200.p_mapping.samcov_4\n",
      "samtools bedcov /home/benjamin/genome_assembly/Warrior/COV/analysis/PRI_NTKN_DK0911_on_DK_0911_v04/tmp/PRI_NTKN_DK0911_on_DK_0911_v04_p_ctg.p_window_1k200.bed_5 /home/benjamin/genome_assembly/Warrior/SRM/DK_0911_v03_p_ctg.bwamem.PRI_NTKN_DK0911.sam.sorted.bam > /home/benjamin/genome_assembly/Warrior/COV/analysis/PRI_NTKN_DK0911_on_DK_0911_v04/tmp/PRI_NTKN_DK0911_on_DK_0911_v04_p_ctg.p_window_1k200.p_mapping.samcov_5\n",
      "samtools bedcov /home/benjamin/genome_assembly/Warrior/COV/analysis/PRI_NTKN_DK0911_on_DK_0911_v04/tmp/PRI_NTKN_DK0911_on_DK_0911_v04_p_ctg.p_window_1k200.bed_2 /home/benjamin/genome_assembly/Warrior/SRM/DK_0911_v03_p_ctg.bwamem.PRI_NTKN_DK0911.sam.sorted.bam > /home/benjamin/genome_assembly/Warrior/COV/analysis/PRI_NTKN_DK0911_on_DK_0911_v04/tmp/PRI_NTKN_DK0911_on_DK_0911_v04_p_ctg.p_window_1k200.p_mapping.samcov_2\n",
      "samtools bedcov /home/benjamin/genome_assembly/Warrior/COV/analysis/PRI_NTKN_DK0911_on_DK_0911_v04/tmp/PRI_NTKN_DK0911_on_DK_0911_v04_p_ctg.p_window_1k200.bed_6 /home/benjamin/genome_assembly/Warrior/SRM/DK_0911_v03_p_ctg.bwamem.PRI_NTKN_DK0911.sam.sorted.bam > /home/benjamin/genome_assembly/Warrior/COV/analysis/PRI_NTKN_DK0911_on_DK_0911_v04/tmp/PRI_NTKN_DK0911_on_DK_0911_v04_p_ctg.p_window_1k200.p_mapping.samcov_6\n",
      "\n",
      "Done\n",
      "With ouput:\n",
      "b''\n",
      "b''\n",
      "\n",
      "Done\n",
      "With ouput:\n",
      "b''\n",
      "b''\n",
      "\n",
      "Done\n",
      "With ouput:\n",
      "b''\n",
      "b''\n",
      "\n",
      "Done\n",
      "With ouput:\n",
      "b''\n",
      "b''\n",
      "\n",
      "Done\n",
      "With ouput:\n",
      "b''\n",
      "b''\n",
      "\n",
      "Done\n",
      "With ouput:\n",
      "b''\n",
      "b''\n",
      "\n",
      "Done\n",
      "With ouput:\n",
      "b''\n",
      "b''\n",
      "\n",
      "Runnning now!\n",
      "\n",
      "cat /home/benjamin/genome_assembly/Warrior/COV/analysis/PRI_NTKN_DK0911_on_DK_0911_v04/tmp/PRI_NTKN_DK0911_on_DK_0911_v04_p_ctg.p_window_1k200.p_mapping.samcov_0 /home/benjamin/genome_assembly/Warrior/COV/analysis/PRI_NTKN_DK0911_on_DK_0911_v04/tmp/PRI_NTKN_DK0911_on_DK_0911_v04_p_ctg.p_window_1k200.p_mapping.samcov_1 /home/benjamin/genome_assembly/Warrior/COV/analysis/PRI_NTKN_DK0911_on_DK_0911_v04/tmp/PRI_NTKN_DK0911_on_DK_0911_v04_p_ctg.p_window_1k200.p_mapping.samcov_2 /home/benjamin/genome_assembly/Warrior/COV/analysis/PRI_NTKN_DK0911_on_DK_0911_v04/tmp/PRI_NTKN_DK0911_on_DK_0911_v04_p_ctg.p_window_1k200.p_mapping.samcov_3 /home/benjamin/genome_assembly/Warrior/COV/analysis/PRI_NTKN_DK0911_on_DK_0911_v04/tmp/PRI_NTKN_DK0911_on_DK_0911_v04_p_ctg.p_window_1k200.p_mapping.samcov_4 /home/benjamin/genome_assembly/Warrior/COV/analysis/PRI_NTKN_DK0911_on_DK_0911_v04/tmp/PRI_NTKN_DK0911_on_DK_0911_v04_p_ctg.p_window_1k200.p_mapping.samcov_5 /home/benjamin/genome_assembly/Warrior/COV/analysis/PRI_NTKN_DK0911_on_DK_0911_v04/tmp/PRI_NTKN_DK0911_on_DK_0911_v04_p_ctg.p_window_1k200.p_mapping.samcov_6 > /home/benjamin/genome_assembly/Warrior/COV/analysis/PRI_NTKN_DK0911_on_DK_0911_v04/tmp/../PRI_NTKN_DK0911_on_DK_0911_v04_p_ctg.p_window_1k200.p_mapping.samcov\n",
      "\n",
      "Done\n",
      "With ouput:\n",
      "b''\n",
      "b''\n",
      "in_file_line_number: 633395\n",
      "target chunk_size: 105565\n",
      "\n",
      "Runnning now!\n",
      "\n",
      "Runnning now!\n",
      "\n",
      "\n",
      "samtools bedcov /home/benjamin/genome_assembly/Warrior/COV/analysis/PRI_NTKN_DK0911_on_DK_0911_v04/tmp/PRI_NTKN_DK0911_on_DK_0911_v04_ph_ctg.ph_window_1k200.bed_1 /home/benjamin/genome_assembly/Warrior/SRM/DK_0911_v03_ph_ctg.bwamem.PRI_NTKN_DK0911.sam.sorted.bam > /home/benjamin/genome_assembly/Warrior/COV/analysis/PRI_NTKN_DK0911_on_DK_0911_v04/tmp/PRI_NTKN_DK0911_on_DK_0911_v04_ph_ctg.ph_window_1k200.ph_mapping.samcov_1\n",
      "\n",
      "Runnning now!\n",
      "\n",
      "Runnning now!\n",
      "samtools bedcov /home/benjamin/genome_assembly/Warrior/COV/analysis/PRI_NTKN_DK0911_on_DK_0911_v04/tmp/PRI_NTKN_DK0911_on_DK_0911_v04_ph_ctg.ph_window_1k200.bed_0 /home/benjamin/genome_assembly/Warrior/SRM/DK_0911_v03_ph_ctg.bwamem.PRI_NTKN_DK0911.sam.sorted.bam > /home/benjamin/genome_assembly/Warrior/COV/analysis/PRI_NTKN_DK0911_on_DK_0911_v04/tmp/PRI_NTKN_DK0911_on_DK_0911_v04_ph_ctg.ph_window_1k200.ph_mapping.samcov_0\n",
      "\n",
      "samtools bedcov /home/benjamin/genome_assembly/Warrior/COV/analysis/PRI_NTKN_DK0911_on_DK_0911_v04/tmp/PRI_NTKN_DK0911_on_DK_0911_v04_ph_ctg.ph_window_1k200.bed_2 /home/benjamin/genome_assembly/Warrior/SRM/DK_0911_v03_ph_ctg.bwamem.PRI_NTKN_DK0911.sam.sorted.bam > /home/benjamin/genome_assembly/Warrior/COV/analysis/PRI_NTKN_DK0911_on_DK_0911_v04/tmp/PRI_NTKN_DK0911_on_DK_0911_v04_ph_ctg.ph_window_1k200.ph_mapping.samcov_2\n",
      "\n",
      "samtools bedcov /home/benjamin/genome_assembly/Warrior/COV/analysis/PRI_NTKN_DK0911_on_DK_0911_v04/tmp/PRI_NTKN_DK0911_on_DK_0911_v04_ph_ctg.ph_window_1k200.bed_3 /home/benjamin/genome_assembly/Warrior/SRM/DK_0911_v03_ph_ctg.bwamem.PRI_NTKN_DK0911.sam.sorted.bam > /home/benjamin/genome_assembly/Warrior/COV/analysis/PRI_NTKN_DK0911_on_DK_0911_v04/tmp/PRI_NTKN_DK0911_on_DK_0911_v04_ph_ctg.ph_window_1k200.ph_mapping.samcov_3\n",
      "\n",
      "Runnning now!\n",
      "\n",
      "Runnning now!\n",
      "\n",
      "\n",
      "samtools bedcov /home/benjamin/genome_assembly/Warrior/COV/analysis/PRI_NTKN_DK0911_on_DK_0911_v04/tmp/PRI_NTKN_DK0911_on_DK_0911_v04_ph_ctg.ph_window_1k200.bed_5 /home/benjamin/genome_assembly/Warrior/SRM/DK_0911_v03_ph_ctg.bwamem.PRI_NTKN_DK0911.sam.sorted.bam > /home/benjamin/genome_assembly/Warrior/COV/analysis/PRI_NTKN_DK0911_on_DK_0911_v04/tmp/PRI_NTKN_DK0911_on_DK_0911_v04_ph_ctg.ph_window_1k200.ph_mapping.samcov_5\n",
      "samtools bedcov /home/benjamin/genome_assembly/Warrior/COV/analysis/PRI_NTKN_DK0911_on_DK_0911_v04/tmp/PRI_NTKN_DK0911_on_DK_0911_v04_ph_ctg.ph_window_1k200.bed_4 /home/benjamin/genome_assembly/Warrior/SRM/DK_0911_v03_ph_ctg.bwamem.PRI_NTKN_DK0911.sam.sorted.bam > /home/benjamin/genome_assembly/Warrior/COV/analysis/PRI_NTKN_DK0911_on_DK_0911_v04/tmp/PRI_NTKN_DK0911_on_DK_0911_v04_ph_ctg.ph_window_1k200.ph_mapping.samcov_4\n",
      "\n",
      "Runnning now!\n",
      "\n",
      "samtools bedcov /home/benjamin/genome_assembly/Warrior/COV/analysis/PRI_NTKN_DK0911_on_DK_0911_v04/tmp/PRI_NTKN_DK0911_on_DK_0911_v04_ph_ctg.ph_window_1k200.bed_6 /home/benjamin/genome_assembly/Warrior/SRM/DK_0911_v03_ph_ctg.bwamem.PRI_NTKN_DK0911.sam.sorted.bam > /home/benjamin/genome_assembly/Warrior/COV/analysis/PRI_NTKN_DK0911_on_DK_0911_v04/tmp/PRI_NTKN_DK0911_on_DK_0911_v04_ph_ctg.ph_window_1k200.ph_mapping.samcov_6\n",
      "\n",
      "Done\n",
      "With ouput:\n",
      "b''\n",
      "b''\n",
      "\n",
      "Done\n",
      "With ouput:\n",
      "b''\n",
      "b''\n",
      "\n",
      "Done\n",
      "With ouput:\n",
      "b''\n",
      "b''\n",
      "\n",
      "Done\n",
      "With ouput:\n",
      "b''\n",
      "b''\n",
      "\n",
      "Done\n",
      "With ouput:\n",
      "b''\n",
      "b''\n",
      "\n",
      "Done\n",
      "With ouput:\n",
      "b''\n",
      "b''\n",
      "\n",
      "Done\n",
      "With ouput:\n",
      "b''\n",
      "b''\n",
      "\n",
      "Runnning now!\n",
      "\n",
      "cat /home/benjamin/genome_assembly/Warrior/COV/analysis/PRI_NTKN_DK0911_on_DK_0911_v04/tmp/PRI_NTKN_DK0911_on_DK_0911_v04_ph_ctg.ph_window_1k200.ph_mapping.samcov_0 /home/benjamin/genome_assembly/Warrior/COV/analysis/PRI_NTKN_DK0911_on_DK_0911_v04/tmp/PRI_NTKN_DK0911_on_DK_0911_v04_ph_ctg.ph_window_1k200.ph_mapping.samcov_1 /home/benjamin/genome_assembly/Warrior/COV/analysis/PRI_NTKN_DK0911_on_DK_0911_v04/tmp/PRI_NTKN_DK0911_on_DK_0911_v04_ph_ctg.ph_window_1k200.ph_mapping.samcov_2 /home/benjamin/genome_assembly/Warrior/COV/analysis/PRI_NTKN_DK0911_on_DK_0911_v04/tmp/PRI_NTKN_DK0911_on_DK_0911_v04_ph_ctg.ph_window_1k200.ph_mapping.samcov_3 /home/benjamin/genome_assembly/Warrior/COV/analysis/PRI_NTKN_DK0911_on_DK_0911_v04/tmp/PRI_NTKN_DK0911_on_DK_0911_v04_ph_ctg.ph_window_1k200.ph_mapping.samcov_4 /home/benjamin/genome_assembly/Warrior/COV/analysis/PRI_NTKN_DK0911_on_DK_0911_v04/tmp/PRI_NTKN_DK0911_on_DK_0911_v04_ph_ctg.ph_window_1k200.ph_mapping.samcov_5 /home/benjamin/genome_assembly/Warrior/COV/analysis/PRI_NTKN_DK0911_on_DK_0911_v04/tmp/PRI_NTKN_DK0911_on_DK_0911_v04_ph_ctg.ph_window_1k200.ph_mapping.samcov_6 > /home/benjamin/genome_assembly/Warrior/COV/analysis/PRI_NTKN_DK0911_on_DK_0911_v04/tmp/../PRI_NTKN_DK0911_on_DK_0911_v04_ph_ctg.ph_window_1k200.ph_mapping.samcov\n",
      "\n",
      "Done\n",
      "With ouput:\n",
      "b''\n",
      "b''\n",
      "in_file_line_number: 260499\n",
      "target chunk_size: 43416\n",
      "\n",
      "Runnning now!\n",
      "\n",
      "samtools bedcov /home/benjamin/genome_assembly/Warrior/COV/analysis/PRI_NTKN_DK0911_on_DK_0911_v04/tmp/PRI_NTKN_DK0911_on_DK_0911_v04_ctg.h_on_p.p_window_1k200.bed_0 /home/benjamin/genome_assembly/Warrior/SRM/DK_0911_v03_ph_ctg.bwamem.PRI_NTKN_DK0911.sam.sorted.bam > /home/benjamin/genome_assembly/Warrior/COV/analysis/PRI_NTKN_DK0911_on_DK_0911_v04/tmp/PRI_NTKN_DK0911_on_DK_0911_v04_ctg.h_on_p.p_window_1k200.ph_mapping.samcov_0\n",
      "\n",
      "Runnning now!\n",
      "\n",
      "\n",
      "Runnning now!\n",
      "samtools bedcov /home/benjamin/genome_assembly/Warrior/COV/analysis/PRI_NTKN_DK0911_on_DK_0911_v04/tmp/PRI_NTKN_DK0911_on_DK_0911_v04_ctg.h_on_p.p_window_1k200.bed_1 /home/benjamin/genome_assembly/Warrior/SRM/DK_0911_v03_ph_ctg.bwamem.PRI_NTKN_DK0911.sam.sorted.bam > /home/benjamin/genome_assembly/Warrior/COV/analysis/PRI_NTKN_DK0911_on_DK_0911_v04/tmp/PRI_NTKN_DK0911_on_DK_0911_v04_ctg.h_on_p.p_window_1k200.ph_mapping.samcov_1\n",
      "\n",
      "samtools bedcov /home/benjamin/genome_assembly/Warrior/COV/analysis/PRI_NTKN_DK0911_on_DK_0911_v04/tmp/PRI_NTKN_DK0911_on_DK_0911_v04_ctg.h_on_p.p_window_1k200.bed_2 /home/benjamin/genome_assembly/Warrior/SRM/DK_0911_v03_ph_ctg.bwamem.PRI_NTKN_DK0911.sam.sorted.bam > /home/benjamin/genome_assembly/Warrior/COV/analysis/PRI_NTKN_DK0911_on_DK_0911_v04/tmp/PRI_NTKN_DK0911_on_DK_0911_v04_ctg.h_on_p.p_window_1k200.ph_mapping.samcov_2\n",
      "\n",
      "Runnning now!\n",
      "\n",
      "samtools bedcov /home/benjamin/genome_assembly/Warrior/COV/analysis/PRI_NTKN_DK0911_on_DK_0911_v04/tmp/PRI_NTKN_DK0911_on_DK_0911_v04_ctg.h_on_p.p_window_1k200.bed_3 /home/benjamin/genome_assembly/Warrior/SRM/DK_0911_v03_ph_ctg.bwamem.PRI_NTKN_DK0911.sam.sorted.bam > /home/benjamin/genome_assembly/Warrior/COV/analysis/PRI_NTKN_DK0911_on_DK_0911_v04/tmp/PRI_NTKN_DK0911_on_DK_0911_v04_ctg.h_on_p.p_window_1k200.ph_mapping.samcov_3\n",
      "\n",
      "Runnning now!\n",
      "\n",
      "Runnning now!\n",
      "\n",
      "\n",
      "samtools bedcov /home/benjamin/genome_assembly/Warrior/COV/analysis/PRI_NTKN_DK0911_on_DK_0911_v04/tmp/PRI_NTKN_DK0911_on_DK_0911_v04_ctg.h_on_p.p_window_1k200.bed_5 /home/benjamin/genome_assembly/Warrior/SRM/DK_0911_v03_ph_ctg.bwamem.PRI_NTKN_DK0911.sam.sorted.bam > /home/benjamin/genome_assembly/Warrior/COV/analysis/PRI_NTKN_DK0911_on_DK_0911_v04/tmp/PRI_NTKN_DK0911_on_DK_0911_v04_ctg.h_on_p.p_window_1k200.ph_mapping.samcov_5\n",
      "samtools bedcov /home/benjamin/genome_assembly/Warrior/COV/analysis/PRI_NTKN_DK0911_on_DK_0911_v04/tmp/PRI_NTKN_DK0911_on_DK_0911_v04_ctg.h_on_p.p_window_1k200.bed_4 /home/benjamin/genome_assembly/Warrior/SRM/DK_0911_v03_ph_ctg.bwamem.PRI_NTKN_DK0911.sam.sorted.bam > /home/benjamin/genome_assembly/Warrior/COV/analysis/PRI_NTKN_DK0911_on_DK_0911_v04/tmp/PRI_NTKN_DK0911_on_DK_0911_v04_ctg.h_on_p.p_window_1k200.ph_mapping.samcov_4\n",
      "\n",
      "Runnning now!\n",
      "\n",
      "samtools bedcov /home/benjamin/genome_assembly/Warrior/COV/analysis/PRI_NTKN_DK0911_on_DK_0911_v04/tmp/PRI_NTKN_DK0911_on_DK_0911_v04_ctg.h_on_p.p_window_1k200.bed_6 /home/benjamin/genome_assembly/Warrior/SRM/DK_0911_v03_ph_ctg.bwamem.PRI_NTKN_DK0911.sam.sorted.bam > /home/benjamin/genome_assembly/Warrior/COV/analysis/PRI_NTKN_DK0911_on_DK_0911_v04/tmp/PRI_NTKN_DK0911_on_DK_0911_v04_ctg.h_on_p.p_window_1k200.ph_mapping.samcov_6\n",
      "\n",
      "Done\n",
      "With ouput:\n",
      "b''\n",
      "b''\n",
      "\n",
      "Done\n",
      "With ouput:\n",
      "b''\n",
      "b''\n"
     ]
    }
   ],
   "source": [
    "for bed, bam, sam in zip(bed_list, bam_list, samcov_list):\n",
    "    run_sam_bedcov(bed, bam, sam, parallel=threads)"
   ]
  },
  {
   "cell_type": "code",
   "execution_count": null,
   "metadata": {},
   "outputs": [],
   "source": [
    "for sam_file in samcov_list:\n",
    "    print(os.path.exists(sam_file))"
   ]
  },
  {
   "cell_type": "code",
   "execution_count": null,
   "metadata": {},
   "outputs": [],
   "source": [
    "#now read in the samtools bedcov files\n",
    "p_window_1k200_samcov_df = samcov_slurp(samcov_list[1] +'_1', quantile = 0.99, norm = True)"
   ]
  },
  {
   "cell_type": "code",
   "execution_count": null,
   "metadata": {},
   "outputs": [],
   "source": [
    "p_window_1k200_samcov_df.norm_cov.plot.hist(bins=200)"
   ]
  },
  {
   "cell_type": "code",
   "execution_count": null,
   "metadata": {},
   "outputs": [],
   "source": []
  },
  {
   "cell_type": "code",
   "execution_count": null,
   "metadata": {
    "ExecuteTime": {
     "start_time": "2018-04-04T07:10:45.062Z"
    },
    "collapsed": true
   },
   "outputs": [],
   "source": [
    "#now add also the p_mapping p wo and w h overlap\n",
    "p_h_on_p_window_1k200_samcov_p_mapping_df = samcov_slurp(\\\n",
    "                        p_h_on_p_window_1k200_fn.replace('.cov', '.p_mapping.samcov'))\n",
    "p_h_not_on_p_window_1k200_samcov_p_mapping_df = samcov_slurp(\\\n",
    "                        p_h_not_on_p_window_1k200_fn.replace('.cov', '.p_mapping.samcov'))\n",
    "p_h_on_p_window_1k200_samcov_p_mapping_uf_df = samcov_slurp(\\\n",
    "                        p_h_on_p_window_1k200_fn.replace('.cov', '.p_mapping.samcov'),fil=False)\n",
    "p_h_not_on_p_window_1k200_samcov_p_mapping_uf_df = samcov_slurp(\\\n",
    "                        p_h_not_on_p_window_1k200_fn.replace('.cov', '.p_mapping.samcov'),fil=False)"
   ]
  },
  {
   "cell_type": "code",
   "execution_count": null,
   "metadata": {
    "ExecuteTime": {
     "start_time": "2018-04-04T07:10:45.453Z"
    },
    "collapsed": true
   },
   "outputs": [],
   "source": [
    "p_window_1k200_samcov_uf_df = samcov_slurp(p_window_1k200_fn.replace('.cov', '.samcov'),fil=False)\n",
    "ph_window_1k200_samcov_uf_df = samcov_slurp(ph_window_1k200_fn.replace('.cov', '.samcov'),fil=False)\n",
    "p_h_on_p_window_1k200_samcov_uf_df = samcov_slurp(p_h_on_p_window_1k200_fn.replace('.cov', '.samcov'),fil=False)\n",
    "p_h_not_on_p_window_1k200_samcov_uf_df = samcov_slurp(p_h_not_on_p_window_1k200_fn.replace('.cov', '.samcov'),fil=False)"
   ]
  },
  {
   "cell_type": "code",
   "execution_count": null,
   "metadata": {
    "ExecuteTime": {
     "end_time": "2018-04-04T06:43:26.027424Z",
     "start_time": "2018-04-04T06:43:26.018386Z"
    },
    "code_folding": [],
    "collapsed": true
   },
   "outputs": [],
   "source": [
    "#histogram of \n",
    "font = {'family' : 'normal',\n",
    "        'weight' : 'bold',\n",
    "        'size'   : 20}\n",
    "label_config_x = {'fontsize'            : 'large',\n",
    "      'verticalalignment'   : 'top',\n",
    "      'horizontalalignment' : 'center'\n",
    "      }\n",
    "label_config_y = {'fontsize'            : 'large',\n",
    "      'verticalalignment'   : 'bottom',\n",
    "      'horizontalalignment' : 'center'\n",
    "      }\n",
    "matplotlib.rc('font', **font)"
   ]
  },
  {
   "cell_type": "code",
   "execution_count": null,
   "metadata": {
    "ExecuteTime": {
     "end_time": "2018-04-04T07:06:20.033416Z",
     "start_time": "2018-04-04T07:06:15.142759Z"
    }
   },
   "outputs": [],
   "source": [
    "#now do the figure\n",
    "fig, ax1 = plt.subplots(3, 2, figsize=(25,20), sharex='all')\n",
    "#set style\n",
    "sns.set_style(\"ticks\")\n",
    "sns.despine()\n",
    "pallete = sns.color_palette('colorblind')\n",
    "\n",
    "\n",
    "ax1[0,0].hist(p_window_1k200_samcov_df.ave_cov, bins=100, color=pallete[0])\n",
    "ax1[0,0].text(60, 22000, 'mean cov = %i\\nmedian cov = %i' % \\\n",
    "             (p_window_1k200_samcov_uf_df.ave_cov.mean(),\\\n",
    "              p_window_1k200_samcov_uf_df.ave_cov.median() ))\n",
    "ax1[0,0].text(60, 35000, 'ref = primary contigs')\n",
    "ax1[0,0].plot([60, 100], [33000, 33000], lw =4, color = pallete[0])\n",
    "ax1[0,0].text(55, 32000, 'p')\n",
    "ax1[0,0].set_xlim([0,115])\n",
    "\n",
    "#now plot the ph mapping with primeray mapping only\n",
    "ph_p_samcov_df = \\\n",
    "ph_window_1k200_samcov_df[ph_window_1k200_samcov_df.contig.str.startswith('p')] \n",
    "ph_p_samcov_un_df = \\\n",
    "ph_window_1k200_samcov_uf_df[ph_window_1k200_samcov_uf_df.contig.str.startswith('p')]\n",
    "\n",
    "ax1[1,0].hist(ph_p_samcov_df.ave_cov, bins=100, color=pallete[1])\n",
    "ax1[1,0].text(60, 40000, 'mean cov = %i\\nmedian cov = %i' % \\\n",
    "             (ph_p_samcov_un_df.ave_cov.mean(),\\\n",
    "              ph_p_samcov_un_df.ave_cov.median() ))\n",
    "ax1[1,0].text(60, 75000, 'ref = primary contigs + haplotigs')\n",
    "ax1[1,0].plot([60, 100], [68000, 68000], lw =4, color = pallete[1])\n",
    "ax1[1,0].plot([60, 70], [63000, 63000], lw =4, color = 'k')\n",
    "ax1[1,0].plot([80, 100], [63000, 63000], lw =4, color = 'k')\n",
    "ax1[1,0].text(55, 62000, 'p\\nh')\n",
    "ax1[1,0].set_xlim([0,115])\n",
    "\n",
    "\n",
    "#now plot the ph mapping with haplotig mapping only\n",
    "ph_h_samcov_df = \\\n",
    "ph_window_1k200_samcov_df[ph_window_1k200_samcov_df.contig.str.startswith('h')] \n",
    "ph_h_samcov_un_df = \\\n",
    "ph_window_1k200_samcov_uf_df[ph_window_1k200_samcov_uf_df.contig.str.startswith('h')]\n",
    "\n",
    "ax1[2,0].hist(ph_h_samcov_df.ave_cov, bins=100, color=pallete[2])\n",
    "ax1[2,0].text(60, 40000, 'mean cov = %i\\nmedian cov = %i' % \\\n",
    "             (ph_h_samcov_un_df.ave_cov.mean(),\\\n",
    "              ph_h_samcov_un_df.ave_cov.median() ))\n",
    "ax1[2,0].text(60, 75000, 'ref = primary contigs + haplotigs')\n",
    "ax1[2,0].plot([60, 100], [68000, 68000], lw =4, color = 'k')\n",
    "ax1[2,0].plot([60, 70], [63000, 63000], lw =4, color = pallete[2])\n",
    "ax1[2,0].plot([80, 100], [63000, 63000], lw =4, color = pallete[2])\n",
    "ax1[2,0].text(55, 62000, 'p\\nh')\n",
    "ax1[2,0].set_xlim([0,115])\n",
    "\n",
    "\n",
    "#now plot the ph mapping with primaries with overlaps\n",
    "ax1[1,1].hist(p_h_on_p_window_1k200_samcov_df.ave_cov, bins=100, color=pallete[3])\n",
    "ax1[1,1].text(60, 32000, 'mean cov = %i\\nmedian cov = %i' % \\\n",
    "             (p_h_on_p_window_1k200_samcov_uf_df.ave_cov.mean(),\\\n",
    "              p_h_on_p_window_1k200_samcov_uf_df.ave_cov.median() ))\n",
    "ax1[1,1].text(60, 58000, 'ref = primary contigs + haplotigs')\n",
    "ax1[1,1].plot([60, 70], [52000, 52000], lw =4, color = pallete[3])\n",
    "ax1[1,1].plot([80, 100], [52000, 52000], lw =4, color = pallete[3])\n",
    "ax1[1,1].plot([70, 80], [52000, 52000], lw =4, color = 'k')\n",
    "ax1[1,1].plot([60, 70], [48000, 48000], lw =4, color = 'k')\n",
    "ax1[1,1].plot([80, 100], [48000, 48000], lw =4, color = 'k')\n",
    "ax1[1,1].text(55, 47000, 'p\\nh')\n",
    "ax1[1,1].set_xlim([0,115])\n",
    "\n",
    "#now plot the ph mapping with primaries with overlaps\n",
    "ax1[2,1].hist(p_h_not_on_p_window_1k200_samcov_df.ave_cov, bins=100, color=pallete[4])\n",
    "ax1[2,1].text(60, 15000, 'mean cov = %i\\nmedian cov = %i' % \\\n",
    "             (p_h_not_on_p_window_1k200_samcov_uf_df.ave_cov.mean(),\\\n",
    "              p_h_not_on_p_window_1k200_samcov_uf_df.ave_cov.median() ))\n",
    "ax1[2,1].text(60, 28000, 'ref = primary contigs + haplotigs')\n",
    "ax1[2,1].plot([60, 70], [26000, 26000], lw =4, color = 'k')\n",
    "ax1[2,1].plot([80, 100], [26000, 26000], lw =4, color = 'k')\n",
    "ax1[2,1].plot([70, 80], [26000, 26000], lw =4, color = pallete[4])\n",
    "ax1[2,1].plot([60, 70], [24000, 24000], lw =4, color = 'k')\n",
    "ax1[2,1].plot([80, 100], [24000, 24000], lw =4, color = 'k')\n",
    "ax1[2,1].text(55, 23500, 'p\\nh')\n",
    "\n",
    "ax1[2,1].set_xlim([0,115])\n",
    "\n",
    "#add the labels\n",
    "fig.text(0.06, 0.5, 'Frequency', ha='center', va='center', rotation='vertical')\n",
    "fig.text(0.5, 0.09, 'Fold Coverage',ha='center', va='center')\n",
    "\n",
    "#make plot [0,1] disappear\n",
    "ax1[0,1].axis('off')\n",
    "text = '''\n",
    "Legend:\\n\n",
    "ref == reference used for Illumina short read mapping\n",
    "p == primary contigs\n",
    "h == haplotigs\n",
    "color decodes genome regions that are analyzed for coverage\n",
    "e.g. pink indicates regions of primary contigs that have\n",
    "an overlapping haplotig\n",
    "'''\n",
    "ax1[0,1].text(0, 0.5, text)\n",
    "out_fn = os.path.join(OUT_PATH, '%s_SRM_coverage.png' % genome)\n",
    "#fig.savefig(out_fn, dpi=600)"
   ]
  },
  {
   "cell_type": "code",
   "execution_count": null,
   "metadata": {
    "collapsed": true
   },
   "outputs": [],
   "source": [
    "#now do the figure\n",
    "fig, ax1 = plt.subplots(4, 2, figsize=(25,30), sharex='all')\n",
    "#set style\n",
    "sns.set_style(\"ticks\")\n",
    "sns.despine()\n",
    "pallete = sns.color_palette('colorblind')\n",
    "\n",
    "\n",
    "ax1[0,0].hist(p_window_1k200_samcov_df.ave_cov, bins=100, color=pallete[0])\n",
    "ax1[0,0].text(200, 22000, 'mean cov = %i\\nmedian cov = %i' % \\\n",
    "             (p_window_1k200_samcov_uf_df.ave_cov.mean(),\\\n",
    "              p_window_1k200_samcov_uf_df.ave_cov.median() ))\n",
    "ax1[0,0].text(180, 35000, 'ref = primary contigs')\n",
    "ax1[0,0].plot([200, 390], [33000, 33000], lw =4, color = pallete[0])\n",
    "ax1[0,0].text(180, 32000, 'p')\n",
    "ax1[0,0].set_xlim([0,400])\n",
    "\n",
    "#add label\n",
    "ax1[0,0].text(10,35000, 'A', fontsize=30)\n",
    "\n",
    "#now add the primary mapping plots with p w h\n",
    "ax1[0,1].hist(p_h_on_p_window_1k200_samcov_p_mapping_df.ave_cov, bins=100, color=pallete[3])\n",
    "ax1[0,1].text(200, 22000, 'mean cov = %i\\nmedian cov = %i' % \\\n",
    "             (p_h_on_p_window_1k200_samcov_p_mapping_uf_df.ave_cov.mean(),\\\n",
    "              p_h_on_p_window_1k200_samcov_p_mapping_uf_df.ave_cov.median() ))\n",
    "ax1[0,1].text(180, 35000, 'ref = primary contigs')\n",
    "ax1[0,1].plot([200, 250], [33000, 33000], lw =4, color = pallete[3])\n",
    "ax1[0,1].plot([300, 390], [33000, 33000], lw =4, color = pallete[3])\n",
    "ax1[0,1].plot([250, 300], [33000, 33000], lw =4, color = 'k')\n",
    "ax1[0,1].plot([200, 250], [31000, 31000], lw =4, color = 'k')\n",
    "ax1[0,1].plot([300, 390], [31000, 31000], lw =4, color = 'k')\n",
    "ax1[0,1].text(180, 30000, 'p\\nh')\n",
    "ax1[0,1].set_xlim([0,400])\n",
    "\n",
    "#add label\n",
    "ax1[0,1].text(10,35000, 'B', fontsize=30)\n",
    "\n",
    "#now add the primary mapping plots with p wo h\n",
    "ax1[1,1].hist(p_h_not_on_p_window_1k200_samcov_p_mapping_df.ave_cov, bins=100, color=pallete[4])\n",
    "ax1[1,1].text(200, 8000, 'mean cov = %i\\nmedian cov = %i' % \\\n",
    "             (p_h_not_on_p_window_1k200_samcov_p_mapping_uf_df.ave_cov.mean(),\\\n",
    "              p_h_not_on_p_window_1k200_samcov_p_mapping_uf_df.ave_cov.median() ))\n",
    "ax1[1,1].text(180, 18000, 'ref = primary contigs')\n",
    "ax1[1,1].plot([200, 250], [16000, 16000], lw =4, color = 'k')\n",
    "ax1[1,1].plot([300, 390], [16000, 16000], lw =4, color = 'k')\n",
    "ax1[1,1].plot([250, 300], [16000, 16000], lw =4, color = pallete[4])\n",
    "ax1[1,1].plot([200, 250], [15000, 15000], lw =4, color = 'k')\n",
    "ax1[1,1].plot([300, 390], [15000, 15000], lw =4, color = 'k')\n",
    "ax1[1,1].text(180, 14500, 'p\\nh')\n",
    "ax1[1,1].set_xlim([0,400])\n",
    "\n",
    "#add label\n",
    "ax1[1,1].text(10,17500, 'C', fontsize=30)\n",
    "\n",
    "#now plot the ph mapping with primeray mapping only\n",
    "ph_p_samcov_df = \\\n",
    "ph_window_1k200_samcov_df[ph_window_1k200_samcov_df.contig.str.startswith('p')] \n",
    "ph_p_samcov_un_df = \\\n",
    "ph_window_1k200_samcov_uf_df[ph_window_1k200_samcov_uf_df.contig.str.startswith('p')]\n",
    "\n",
    "ax1[2,0].hist(ph_p_samcov_df.ave_cov, bins=100, color=pallete[1])\n",
    "ax1[2,0].text(200, 40000, 'mean cov = %i\\nmedian cov = %i' % \\\n",
    "             (ph_p_samcov_un_df.ave_cov.mean(),\\\n",
    "              ph_p_samcov_un_df.ave_cov.median() ))\n",
    "ax1[2,0].text(180, 75000, 'ref = primary contigs + haplotigs')\n",
    "ax1[2,0].plot([200, 390], [68000, 68000], lw =4, color = pallete[1])\n",
    "ax1[2,0].plot([200, 250], [63000, 63000], lw =4, color = 'k')\n",
    "ax1[2,0].plot([300, 390], [63000, 63000], lw =4, color = 'k')\n",
    "ax1[2,0].text(180, 62000, 'p\\nh')\n",
    "ax1[2,0].set_xlim([0,400])\n",
    "\n",
    "#add label\n",
    "ax1[2,0].text(10,80000, 'D', fontsize=30)\n",
    "\n",
    "#now plot the ph mapping with haplotig mapping only\n",
    "ph_h_samcov_df = \\\n",
    "ph_window_1k200_samcov_df[ph_window_1k200_samcov_df.contig.str.startswith('h')] \n",
    "ph_h_samcov_un_df = \\\n",
    "ph_window_1k200_samcov_uf_df[ph_window_1k200_samcov_uf_df.contig.str.startswith('h')]\n",
    "\n",
    "ax1[3,0].hist(ph_h_samcov_df.ave_cov, bins=100, color=pallete[2])\n",
    "ax1[3,0].text(200, 40000, 'mean cov = %i\\nmedian cov = %i' % \\\n",
    "             (ph_h_samcov_un_df.ave_cov.mean(),\\\n",
    "              ph_h_samcov_un_df.ave_cov.median() ))\n",
    "ax1[3,0].text(180, 75000, 'ref = primary contigs + haplotigs')\n",
    "ax1[3,0].plot([200, 390], [68000, 68000], lw =4, color = 'k')\n",
    "ax1[3,0].plot([200, 250], [63000, 63000], lw =4, color = pallete[2])\n",
    "ax1[3,0].plot([300, 390], [63000, 63000], lw =4, color = pallete[2])\n",
    "ax1[3,0].text(180, 62000, 'p\\nh')\n",
    "ax1[3,0].set_xlim([0,400])\n",
    "#add label\n",
    "ax1[3,0].text(10,70000, 'F', fontsize=30)\n",
    "\n",
    "\n",
    "#now plot the ph mapping with primaries with overlaps\n",
    "ax1[2,1].hist(p_h_on_p_window_1k200_samcov_df.ave_cov, bins=100, color=pallete[3])\n",
    "ax1[2,1].text(200, 32000, 'mean cov = %i\\nmedian cov = %i' % \\\n",
    "             (p_h_on_p_window_1k200_samcov_uf_df.ave_cov.mean(),\\\n",
    "              p_h_on_p_window_1k200_samcov_uf_df.ave_cov.median() ))\n",
    "ax1[2,1].text(180, 58000, 'ref = primary contigs + haplotigs')\n",
    "ax1[2,1].plot([200, 250], [52000, 52000], lw =4, color = pallete[3])\n",
    "ax1[2,1].plot([300, 390], [52000, 52000], lw =4, color = pallete[3])\n",
    "ax1[2,1].plot([250, 300], [52000, 52000], lw =4, color = 'k')\n",
    "ax1[2,1].plot([200, 250], [48000, 48000], lw =4, color = 'k')\n",
    "ax1[2,1].plot([300, 390], [48000, 48000], lw =4, color = 'k')\n",
    "ax1[2,1].text(180, 47000, 'p\\nh')\n",
    "ax1[2,1].set_xlim([0,400])\n",
    "\n",
    "#add label\n",
    "ax1[2,1].text(10,63000, 'E', fontsize=30)\n",
    "\n",
    "\n",
    "#now plot the ph mapping with primaries with overlaps\n",
    "ax1[3,1].hist(p_h_not_on_p_window_1k200_samcov_df.ave_cov, bins=100, color=pallete[4])\n",
    "ax1[3,1].text(200, 15000, 'mean cov = %i\\nmedian cov = %i' % \\\n",
    "             (p_h_not_on_p_window_1k200_samcov_uf_df.ave_cov.mean(),\\\n",
    "              p_h_not_on_p_window_1k200_samcov_uf_df.ave_cov.median() ))\n",
    "ax1[3,1].text(180, 28000, 'ref = primary contigs + haplotigs')\n",
    "ax1[3,1].plot([200, 250], [26000, 26000], lw =4, color = 'k')\n",
    "ax1[3,1].plot([300, 390], [26000, 26000], lw =4, color = 'k')\n",
    "ax1[3,1].plot([250, 300], [26000, 26000], lw =4, color = pallete[4])\n",
    "ax1[3,1].plot([200, 250], [24000, 24000], lw =4, color = 'k')\n",
    "ax1[3,1].plot([300, 390], [24000, 24000], lw =4, color = 'k')\n",
    "ax1[3,1].text(180, 23500, 'p\\nh')\n",
    "\n",
    "ax1[3,1].set_xlim([0,400])\n",
    "\n",
    "#add label\n",
    "ax1[3,1].text(10,26000, 'G', fontsize=30)\n",
    "\n",
    "#add the labels\n",
    "fig.text(0.06, 0.5, 'Frequency', ha='center', va='center', rotation='vertical')\n",
    "fig.text(0.5, 0.09, 'Fold Coverage',ha='center', va='center')\n",
    "\n",
    "#make plot [0,1] disappear\n",
    "ax1[1,0].axis('off')\n",
    "text = '''\n",
    "Legend:\\n\n",
    "ref == reference used for Illumina short read mapping\n",
    "p == primary contigs\n",
    "h == haplotigs\n",
    "color decodes genome regions \n",
    "that are analyzed for coverage\n",
    "e.g. pink indicates regions of primary contigs that have\n",
    "an overlapping haplotig\n",
    "'''\n",
    "ax1[1,0].text(0, 0.5, text)\n",
    "out_fn = os.path.join(OUT_PATH, 'SRM_coverage_v2.png')\n",
    "#fig.savefig(out_fn, dpi=600)"
   ]
  },
  {
   "cell_type": "code",
   "execution_count": null,
   "metadata": {
    "collapsed": true
   },
   "outputs": [],
   "source": [
    "print(ax1[1,1])"
   ]
  },
  {
   "cell_type": "code",
   "execution_count": null,
   "metadata": {
    "collapsed": true
   },
   "outputs": [],
   "source": [
    "#add single label\n",
    "fig.add_subplot(111, frameon=False)\n",
    "# hide tick and tick label of the big axes\n",
    "plt.tick_params(labelcolor='none', top='off', bottom='off', left='off', right='off')\n",
    "plt.grid(False)\n",
    "plt.xlabel(\"Fold coverage\", {\n",
    "      'fontsize'            : 20,\n",
    "      'verticalalignment'   : 'top',\n",
    "      'horizontalalignment' : 'center',\n",
    "        'weight' : 'bold'\n",
    "      })\n",
    "plt.ylabel(\"Frequency\")"
   ]
  }
 ],
 "metadata": {
  "kernelspec": {
   "display_name": "Python [default]",
   "language": "python",
   "name": "python3"
  },
  "language_info": {
   "codemirror_mode": {
    "name": "ipython",
    "version": 3
   },
   "file_extension": ".py",
   "mimetype": "text/x-python",
   "name": "python",
   "nbconvert_exporter": "python",
   "pygments_lexer": "ipython3",
   "version": "3.5.3"
  },
  "toc": {
   "nav_menu": {},
   "number_sections": true,
   "sideBar": true,
   "skip_h1_title": false,
   "title_cell": "Table of Contents",
   "title_sidebar": "Contents",
   "toc_cell": false,
   "toc_position": {},
   "toc_section_display": true,
   "toc_window_display": false
  }
 },
 "nbformat": 4,
 "nbformat_minor": 2
}
