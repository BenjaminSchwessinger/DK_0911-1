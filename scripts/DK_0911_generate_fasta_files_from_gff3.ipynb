{
 "cells": [
  {
   "cell_type": "markdown",
   "metadata": {},
   "source": [
    "Inputs: gff3 file & fasta files\n",
    "\n",
    "Outputs: set of fasta files (CDS, protein, gene), for both primary contigs and haplotigs independently and combined. All fasta files will use ID tags as headers (as opposed to locus tags)."
   ]
  },
  {
   "cell_type": "code",
   "execution_count": 1,
   "metadata": {},
   "outputs": [],
   "source": [
    "import pandas as pd\n",
    "import os\n",
    "import re\n",
    "\n",
    "GENOME_VERSION = 'v04'\n",
    "\n",
    "LOCUS_SEARCH = re.compile(r'^.*locus_tag=(.*?)(;|$)')\n",
    "\n",
    "GENOME_PATH = '/home/gamran/genome_analysis/Warrior/Richard/output/genome_%s/' % GENOME_VERSION\n",
    "GENOME = 'DK_0911_%s' % GENOME_VERSION\n",
    "\n",
    "H_CTG_GFF_LOC = os.path.join(GENOME_PATH, GENOME + '_h_ctg.anno.gff3')\n",
    "P_CTG_GFF_LOC = os.path.join(GENOME_PATH, GENOME + '_p_ctg.anno.gff3')\n",
    "\n",
    "pgff_df = pd.read_table(P_CTG_GFF_LOC, header = None,  \\\n",
    "                  names = ['seqid', 'source', 'type', 'start', 'end', 'score', 'strand', 'phase', 'attributes'])\n",
    "hgff_df = pd.read_table(H_CTG_GFF_LOC, header = None,  \\\n",
    "                  names = ['seqid', 'source', 'type', 'start', 'end', 'score', 'strand', 'phase', 'attributes']) "
   ]
  },
  {
   "cell_type": "code",
   "execution_count": 2,
   "metadata": {},
   "outputs": [],
   "source": [
    "# extract only genes\n",
    "pgff_genes_df = pgff_df[pgff_df['type'] == 'gene']\n",
    "hgff_genes_df = hgff_df[hgff_df['type'] == 'gene']"
   ]
  },
  {
   "cell_type": "code",
   "execution_count": 3,
   "metadata": {},
   "outputs": [],
   "source": [
    "def getBedDf(gff_genes_df):\n",
    "    '''returns a BED6 DataFrame from gff gene-only DataFrame'''\n",
    "    bed_df = gff_genes_df.loc[:, ['seqid', 'start', 'end', 'attributes', 'score', 'strand']]\n",
    "    bed_df = bed_df.rename(index=str, columns={'seqid':'chrom', 'start':'chromStart', 'end':'chromEnd', 'attributes':'name'})\n",
    "\n",
    "    bed_df['chromStart'] = bed_df['chromStart'] - 1\n",
    "    bed_df['name'] = bed_df['name'].apply(lambda s: LOCUS_SEARCH.match(s).group(1))\n",
    "    bed_df.set_index('chrom', inplace = True)\n",
    "    \n",
    "    return bed_df\n",
    "pbed_df = getBedDf(pgff_genes_df)\n",
    "hbed_df = getBedDf(hgff_genes_df)"
   ]
  },
  {
   "cell_type": "code",
   "execution_count": 4,
   "metadata": {},
   "outputs": [],
   "source": [
    "def writeDfToBed(out_name, bed_df, genome_path = GENOME_PATH):\n",
    "    '''writes a bed DataFrame to a BED file'''\n",
    "    with open(os.path.join(genome_path, out_name), 'w') as outfile:\n",
    "        bed_df.to_csv(outfile, sep='\\t', header = False)\n",
    "\n",
    "writeDfToBed('%s_p_ctg.gene.bed' % GENOME, pbed_df)\n",
    "writeDfToBed('%s_h_ctg.gene.bed' % GENOME, hbed_df)"
   ]
  },
  {
   "cell_type": "code",
   "execution_count": 5,
   "metadata": {},
   "outputs": [],
   "source": [
    "# cd /home/gamran/genome_analysis/Warrior/Richard/output/genome_v03\n",
    "os.chdir(GENOME_PATH)\n",
    "!bedtools getfasta -name -s -fi {GENOME}_h_ctg.fa -bed {GENOME}_h_ctg.gene.bed -fo {GENOME}_h_ctg.gene.long_header.fa\n",
    "!bedtools getfasta -name -s -fi {GENOME}_p_ctg.fa -bed {GENOME}_p_ctg.gene.bed -fo {GENOME}_p_ctg.gene.long_header.fa \n",
    "# Headers look like:\n",
    "# DK0911_18236::hcontig_000_001:131-2632(-)"
   ]
  },
  {
   "cell_type": "code",
   "execution_count": 6,
   "metadata": {},
   "outputs": [],
   "source": [
    "from Bio import SeqIO\n",
    "\n",
    "def changeHeaders(in_file, out_file, genome_path = GENOME_PATH):\n",
    "    '''Changing headers from in_file to look like: DK0911_00000 in out_file.\n",
    "    Deletes in_file after finished (long_header file)'''\n",
    "    os.chdir(genome_path)\n",
    "    with open(in_file, \"r\") as input_handle, open(out_file, \"w\") as output_handle:\n",
    "        sequences = [s for s in SeqIO.parse(input_handle, \"fasta\")]\n",
    "        for s in sequences:\n",
    "            s.id = s.id[:12]\n",
    "            s.description = ''\n",
    "        SeqIO.write(sequences, output_handle, \"fasta\")\n",
    "    os.remove(in_file)\n",
    "\n",
    "changeHeaders(\"%s_h_ctg.gene.long_header.fa\" % GENOME, \"%s_h_ctg.gene.fa\" % GENOME)\n",
    "changeHeaders(\"%s_p_ctg.gene.long_header.fa\" % GENOME, \"%s_p_ctg.gene.fa\" % GENOME)"
   ]
  },
  {
   "cell_type": "code",
   "execution_count": 7,
   "metadata": {},
   "outputs": [],
   "source": [
    "# Generate PROTEIN & CDS fasta files\n",
    "os.chdir(GENOME_PATH)\n",
    "!write_fasta_from_gff.py -i {GENOME}_p_ctg.anno.gff3 -o {GENOME}_p_ctg.protein.fa -t protein -f {GENOME}_p_ctg.fa\n",
    "!write_fasta_from_gff.py -i {GENOME}_h_ctg.anno.gff3 -o {GENOME}_h_ctg.protein.fa -t protein -f {GENOME}_h_ctg.fa\n",
    "!write_fasta_from_gff.py -i {GENOME}_h_ctg.anno.gff3 -o {GENOME}_h_ctg.cds.fa -t cds -f {GENOME}_h_ctg.fa\n",
    "!write_fasta_from_gff.py -i {GENOME}_p_ctg.anno.gff3 -o {GENOME}_p_ctg.cds.fa -t cds -f {GENOME}_p_ctg.fa"
   ]
  },
  {
   "cell_type": "code",
   "execution_count": 8,
   "metadata": {},
   "outputs": [],
   "source": [
    "os.chdir('/home/gamran/genome_analysis/Warrior/Richard/scripts')\n",
    "%run DK_0911_dictionaries.ipynb"
   ]
  },
  {
   "cell_type": "code",
   "execution_count": 9,
   "metadata": {},
   "outputs": [
    {
     "data": {
      "text/plain": [
       "True"
      ]
     },
     "execution_count": 9,
     "metadata": {},
     "output_type": "execute_result"
    }
   ],
   "source": [
    "## At this point, all fasta files have 'locus_tag' from the gff3 file 'attributes' column as\n",
    "## their sequence identifier. This is changed to the id tag using\n",
    "## functions in the DK_0911_dictionaries.ipynb\n",
    "\n",
    "# 1) Create combined (primary + haplotig) fasta files, with ID tags as headers\n",
    "# 2) Re-write independent fasta files (primary / haplotig) with ID tags as headers\n",
    "\n",
    "P_GENE_FA = os.path.join(GENOME_PATH, '%s_p_ctg.gene.fa' % GENOME)\n",
    "P_PROTEIN_FA = os.path.join(GENOME_PATH, '%s_p_ctg.protein.fa' % GENOME)\n",
    "P_CDS_FA = os.path.join(GENOME_PATH, '%s_p_ctg.cds.fa' % GENOME)\n",
    "\n",
    "H_GENE_FA = os.path.join(GENOME_PATH, '%s_h_ctg.gene.fa' % GENOME)\n",
    "H_PROTEIN_FA = os.path.join(GENOME_PATH, '%s_h_ctg.protein.fa' % GENOME)\n",
    "H_CDS_FA = os.path.join(GENOME_PATH, '%s_h_ctg.cds.fa' % GENOME)\n",
    "\n",
    "PH_PROTEIN_FA = os.path.join(GENOME_PATH, '%s_ph_ctg.protein.fa' % GENOME)\n",
    "PH_GENE_FA = os.path.join(GENOME_PATH, '%s_ph_ctg.gene.fa' % GENOME)\n",
    "PH_CDS_FA = os.path.join(GENOME_PATH, '%s_ph_ctg.cds.fa' % GENOME)\n",
    "\n",
    "changeFastaToIdTag([P_GENE_FA, H_GENE_FA], PH_GENE_FA)\n",
    "changeFastaToIdTag([P_PROTEIN_FA, H_PROTEIN_FA], PH_PROTEIN_FA)\n",
    "changeFastaToIdTag([P_CDS_FA, H_CDS_FA], PH_CDS_FA)\n",
    "\n",
    "changeFastaToIdTag([P_GENE_FA], P_GENE_FA)\n",
    "changeFastaToIdTag([P_PROTEIN_FA], P_PROTEIN_FA)\n",
    "changeFastaToIdTag([P_CDS_FA], P_CDS_FA)\n",
    "\n",
    "changeFastaToIdTag([H_GENE_FA], H_GENE_FA)\n",
    "changeFastaToIdTag([H_PROTEIN_FA], H_PROTEIN_FA)\n",
    "changeFastaToIdTag([H_CDS_FA], H_CDS_FA)"
   ]
  },
  {
   "cell_type": "code",
   "execution_count": null,
   "metadata": {},
   "outputs": [],
   "source": []
  }
 ],
 "metadata": {
  "anaconda-cloud": {},
  "kernelspec": {
   "display_name": "Python [conda root]",
   "language": "python",
   "name": "conda-root-py"
  },
  "language_info": {
   "codemirror_mode": {
    "name": "ipython",
    "version": 3
   },
   "file_extension": ".py",
   "mimetype": "text/x-python",
   "name": "python",
   "nbconvert_exporter": "python",
   "pygments_lexer": "ipython3",
   "version": "3.5.2"
  }
 },
 "nbformat": 4,
 "nbformat_minor": 1
}
