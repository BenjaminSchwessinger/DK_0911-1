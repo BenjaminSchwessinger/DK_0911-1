{
 "cells": [
  {
   "cell_type": "raw",
   "metadata": {},
   "source": [
    "This is a notebook to do whole genome alignments of DK0911 and Pst_104E with nucmer.\n",
    "We will start with doing alignments with \n",
    "nucmer -maxmatch -l 100 -c 500\n",
    "based on assemblytics here \n",
    "\n",
    "-l|minmatch     Set the minimum length of a single match (default 20)\n",
    "-c|mincluster   Sets the minimum length of a cluster of matches (default 65)\n",
    "--maxmatch      Use all anchor matches regardless of their uniqueness\n",
    "\n",
    "delta-filter \n",
    "-g \tGlobal alignment using length*identity weighted LIS (longest increasing subset). For every reference-query pair, leave only the alignments which form the longest mutually consistent set\n",
    "-i float \tSet the minimum alignment identity [0, 100], (default 0)\n",
    "-l int \tSet the minimum alignment length (default 0)\n",
    "-q \tQuery alignment using length*identity weighted LIS. For each query, leave only the alignments which form the longest consistent set for the query\n",
    "-r \tReference alignment using length*identity weighted LIS. For each reference, leave only the alignments which form the longest consistent set for the reference.\n",
    "-u float \tSet the minimum alignment uniqueness, i.e. percent of the alignment matching to unique reference AND query sequence [0, 100], (default 0)\n",
    "-o float \tSet the maximum alignment overlap for -r and -q options as a percent of the alignment length [0, 100], (default 75)\n",
    "\n",
    "USAGE: show-coords  [options]  <deltafile>\n",
    "\n",
    "-b          Merges overlapping alignments regardless of match dir\n",
    "            or frame and does not display any idenitity information.\n",
    "-B          Switch output to btab format\n",
    "-c          Include percent coverage information in the output\n",
    "-d          Display the alignment direction in the additional\n",
    "            FRM columns (default for promer)\n",
    "-g          Deprecated option. Please use 'delta-filter' instead\n",
    "-h          Display help information\n",
    "-H          Do not print the output header\n",
    "-I float    Set minimum percent identity to display\n",
    "-k          Knockout (do not display) alignments that overlap\n",
    "            another alignment in a different frame by more than 50%\n",
    "            of their length, AND have a smaller percent similarity\n",
    "            or are less than 75% of the size of the other alignment\n",
    "            (promer only)\n",
    "-l          Include the sequence length information in the output\n",
    "-L long     Set minimum alignment length to display\n",
    "-o          Annotate maximal alignments between two sequences, i.e.\n",
    "            overlaps between reference and query sequences\n",
    "-q          Sort output lines by query IDs and coordinates\n",
    "-r          Sort output lines by reference IDs and coordinates\n",
    "-T          Switch output to tab-delimited format\n",
    "\n",
    "\n",
    "mummerplot \n",
    "mummerplot -h\n",
    "\n",
    "  USAGE: mummerplot  [options]  <match file>\n",
    "\n",
    "  DESCRIPTION:\n",
    "    mummerplot generates plots of alignment data produced by mummer, nucmer,\n",
    "    promer or show-tiling by using the GNU gnuplot utility. After generating\n",
    "    the appropriate scripts and datafiles, mummerplot will attempt to run\n",
    "    gnuplot to generate the plot. If this attempt fails, a warning will be\n",
    "    output and the resulting .gp and .[frh]plot files will remain so that the\n",
    "    user may run gnuplot independently. If the attempt succeeds, either an x11\n",
    "    window will be spawned or an additional output file will be generated\n",
    "    (.ps or .png depending on the selected terminal). Feel free to edit the\n",
    "    resulting gnuplot script (.gp) and rerun gnuplot to change line thinkness,\n",
    "    labels, colors, plot size etc.\n",
    "\n",
    "  MANDATORY:\n",
    "    match file      Set the alignment input to 'match file'\n",
    "                    Valid inputs are from mummer, nucmer, promer and\n",
    "                    show-tiling (.out, .cluster, .delta and .tiling)\n",
    "\n",
    "  OPTIONS:\n",
    "    -b|breaklen     Highlight alignments with breakpoints further than\n",
    "                    breaklen nucleotides from the nearest sequence end\n",
    "    --[no]color     Color plot lines with a percent similarity gradient or\n",
    "                    turn off all plot color (default color by match dir)\n",
    "                    If the plot is very sparse, edit the .gp script to plot\n",
    "                    with 'linespoints' instead of 'lines'\n",
    "    -c\n",
    "    --[no]coverage  Generate a reference coverage plot (default for .tiling)\n",
    "    --depend        Print the dependency information and exit\n",
    "    -f\n",
    "    --filter        Only display .delta alignments which represent the \"best\"\n",
    "                    hit to any particular spot on either sequence, i.e. a\n",
    "                    one-to-one mapping of reference and query subsequences\n",
    "    -h\n",
    "    --help          Display help information and exit\n",
    "    -l\n",
    "    --layout        Layout a .delta multiplot in an intelligible fashion,\n",
    "                    this option requires the -R -Q options\n",
    "    --fat           Layout sequences using fattest alignment only\n",
    "    -p|prefix       Set the prefix of the output files (default 'out')\n",
    "    -rv             Reverse video for x11 plots\n",
    "    -r|IdR          Plot a particular reference sequence ID on the X-axis\n",
    "    -q|IdQ          Plot a particular query sequence ID on the Y-axis\n",
    "    -R|Rfile        Plot an ordered set of reference sequences from Rfile\n",
    "    -Q|Qfile        Plot an ordered set of query sequences from Qfile\n",
    "                    Rfile/Qfile Can either be the original DNA multi-FastA\n",
    "                    files or lists of sequence IDs, lens and dirs [ /+/-]\n",
    "    -r|rport        Specify the port to send reference ID and position on\n",
    "                    mouse double click in X11 plot window\n",
    "    -q|qport        Specify the port to send query IDs and position on mouse\n",
    "                    double click in X11 plot window\n",
    "    -s|size         Set the output size to small, medium or large\n",
    "                    --small --medium --large (default 'small')\n",
    "    -S\n",
    "    --SNP           Highlight SNP locations in each alignment\n",
    "    -t|terminal     Set the output terminal to x11, postscript or png\n",
    "                    --x11 --postscript --png (default 'x11')\n",
    "    -t|title        Specify the gnuplot plot title (default none)\n",
    "    -x|xrange       Set the xrange for the plot '[min:max]'\n",
    "    -y|yrange       Set the yrange for the plot '[min:max]'\n",
    "    -V\n",
    "    --version       Display the version information and exit"
   ]
  },
  {
   "cell_type": "code",
   "execution_count": 1,
   "metadata": {},
   "outputs": [],
   "source": [
    "%matplotlib inline"
   ]
  },
  {
   "cell_type": "code",
   "execution_count": 2,
   "metadata": {},
   "outputs": [
    {
     "name": "stderr",
     "output_type": "stream",
     "text": [
      "/home/benjamin/anaconda3/lib/python3.5/site-packages/Bio/SearchIO/__init__.py:211: BiopythonExperimentalWarning: Bio.SearchIO is an experimental submodule which may undergo significant changes prior to its future official release.\n",
      "  BiopythonExperimentalWarning)\n"
     ]
    }
   ],
   "source": [
    "import pandas as pd\n",
    "import os\n",
    "import re\n",
    "from Bio import SeqIO\n",
    "from Bio import SeqUtils\n",
    "import pysam\n",
    "from Bio.SeqRecord import SeqRecord\n",
    "from pybedtools import BedTool\n",
    "import numpy as np\n",
    "import pybedtools\n",
    "import time\n",
    "import matplotlib.pyplot as plt\n",
    "import sys\n",
    "import subprocess\n",
    "import shutil\n",
    "from Bio.Seq import Seq\n",
    "import pysam\n",
    "from Bio import SearchIO\n",
    "import json\n",
    "import glob\n",
    "import scipy.stats as stats\n",
    "import statsmodels as sms\n",
    "import statsmodels.sandbox.stats.multicomp\n",
    "import distance\n",
    "import seaborn as sns\n",
    "from pybedtools import BedTool\n",
    "import matplotlib\n",
    "from sklearn.externals.joblib import Parallel, delayed\n",
    "import itertools as it\n",
    "import tempfile\n",
    "from scipy.signal import argrelextrema\n",
    "import scipy\n",
    "from IPython.display import Image\n",
    "from PIL import Image"
   ]
  },
  {
   "cell_type": "raw",
   "metadata": {},
   "source": [
    "Before the run\n",
    "$cp Pst_104E_v13_h_ctg.fa /home/benjamin/genome_assembly/PST79/FALCON/p_assemblies/v9_1/Pst_104E_v12/Warrior_comp_runs/mummer_comp/.\n",
    "$cp Pst_104E_v13_p_ctg.fa /home/benjamin/genome_assembly/PST79/FALCON/p_assemblies/v9_1/Pst_104E_v12/Warrior_comp_runs/mummer_comp/.\n",
    "$cp Pst_104E_v13_ph_ctg.fa /home/benjamin/genome_assembly/PST79/FALCON/p_assemblies/v9_1/Pst_104E_v12/Warrior_comp_runs/mummer_comp/.\n",
    "$cp DK_0911_v04_h_ctg.fa /home/benjamin/genome_assembly/PST79/FALCON/p_assemblies/v9_1/Pst_104E_v12/Warrior_comp_runs/mummer_comp/.\n",
    "$cp DK_0911_v04_p_ctg.fa /home/benjamin/genome_assembly/PST79/FALCON/p_assemblies/v9_1/Pst_104E_v12/Warrior_comp_runs/mummer_comp/.\n",
    "$cp DK_0911_v04_ph_ctg.fa /home/benjamin/genome_assembly/PST79/FALCON/p_assemblies/v9_1/Pst_104E_v12/Warrior_comp_runs/mummer_comp/."
   ]
  },
  {
   "cell_type": "code",
   "execution_count": 3,
   "metadata": {},
   "outputs": [],
   "source": [
    "#now do some folder as input\n",
    "BASEFOLDER = '/home/benjamin/genome_assembly/PST79/FALCON/p_assemblies/v9_1/Pst_104E_v12/Warrior_comp_runs/mummer_comp'\n",
    "GENOME_FOLDER = os.path.join(BASEFOLDER, 'genomes')\n",
    "OUTFOLDER = os.path.join(BASEFOLDER, 'output')\n",
    "if not os.path.exists(OUTFOLDER):\n",
    "    os.makedirs(OUTFOLDER)\n",
    "DK0911_p = 'DK_0911_v04_p_ctg.fa'\n",
    "DK0911_h = 'DK_0911_v04_h_ctg.fa'\n",
    "DK0911_ph = 'DK_0911_v04_ph_ctg.fa'\n",
    "PST_104E_p = 'Pst_104E_v13_p_ctg.fa'\n",
    "PST_104E_h = 'Pst_104E_v13_h_ctg.fa'\n",
    "PST_104E_ph = 'Pst_104E_v13_ph_ctg.fa'"
   ]
  },
  {
   "cell_type": "code",
   "execution_count": null,
   "metadata": {},
   "outputs": [],
   "source": []
  },
  {
   "cell_type": "code",
   "execution_count": 119,
   "metadata": {},
   "outputs": [],
   "source": [
    "def run_command(command, v=False):\n",
    "    #print('\\nRunnning now!\\n')\n",
    "    if v == True:\n",
    "        print(command)\n",
    "    try:\n",
    "        output = subprocess.check_output(command, shell=True, stderr=subprocess.STDOUT)\n",
    "    except subprocess.CalledProcessError as ex:\n",
    "        o = ex.output\n",
    "        returncode = ex.returncode\n",
    "        if returncode == 25:\n",
    "            next\n",
    "        else:\n",
    "            raise\n",
    "    #print(\"Done with it!\")\n",
    "    #print('\\nDone\\nWith ouput:\\n%s' % output)\n",
    "    #print(output)"
   ]
  },
  {
   "cell_type": "code",
   "execution_count": 5,
   "metadata": {},
   "outputs": [],
   "source": [
    "def run_nucmer(ref, query,maxmatch=True, l=100, c=500):\n",
    "    '''Run nucmer with three options.'''\n",
    "    #print(os.path.basename(ref)[:-3])\n",
    "    delta = os.path.join(OUTFOLDER, '%s.%s.l%s.c%s.delta' % (os.path.basename(ref)[:-3], os.path.basename(query)[:-3], l,c))\n",
    "    command='/home/benjamin/anaconda3/mummer-4.0.0/bin/nucmer -l %s -c %s -t 10 %s %s --prefix=%s' % (l, c, ref, query, delta.replace('.delta', ''))\n",
    "    if maxmatch == True:\n",
    "        delta = os.path.join(OUTFOLDER, '%s.%s.l%s.c%s.mm.delta' % (os.path.basename(ref)[:-3], os.path.basename(query)[:-3], l,c))\n",
    "        command='nucmer --maxmatch -l %s -c %s %s %s --prefix=%s' % (l, c, ref, query, delta.replace('.delta', ''))\n",
    "    if not os.path.exists(delta):\n",
    "        run_command(command)\n",
    "    return delta"
   ]
  },
  {
   "cell_type": "code",
   "execution_count": 70,
   "metadata": {},
   "outputs": [],
   "source": [
    "def run_delta_filter(delta, v=False, **kwargs):\n",
    "    filter_string = ''\n",
    "    if kwargs is not None:\n",
    "        for key,value in kwargs.items():\n",
    "            if v == True:\n",
    "                print('Used following delta filter option: %s %s' % (key,value))\n",
    "            filter_string = '%s %s' % (filter_string, value)\n",
    "    delta_filter = delta.replace('.delta', '.deltafilter_%s' %(filter_string.replace(' ', '').replace('-','')))\n",
    "    command = '/home/benjamin/anaconda3/mummer-4.0.0/bin/delta-filter %s % s > %s' % (filter_string, delta, delta_filter)\n",
    "    run_command(command)\n",
    "    return delta_filter"
   ]
  },
  {
   "cell_type": "code",
   "execution_count": 72,
   "metadata": {},
   "outputs": [],
   "source": [
    "def run_show_coords(delta_filter,v=False, **kwargs):\n",
    "    filter_string = ''\n",
    "    if kwargs is not None:\n",
    "        for key,value in kwargs.items():\n",
    "            if v==True:\n",
    "                print('Used following show-coords option: %s %s' % (key,value))\n",
    "            filter_string = '%s %s' % (filter_string, value)\n",
    "    #print(delta_filter.index('.delta'))\n",
    "    showcoords = '%s_%s.coords' % (delta_filter[:delta_filter.index('.delta')], filter_string.replace(' ', '').replace('-',''))\n",
    "    command = '/home/benjamin/anaconda3/mummer-4.0.0/bin/show-coords -T %s %s > %s' % (filter_string, delta_filter, showcoords)\n",
    "    run_command(command)\n",
    "    return showcoords"
   ]
  },
  {
   "cell_type": "code",
   "execution_count": 79,
   "metadata": {},
   "outputs": [],
   "source": [
    "def run_mummerplot(delta_filter,v=False, **kwargs):\n",
    "    filter_string = ''\n",
    "    if kwargs is not None:\n",
    "        for key,value in kwargs.items():\n",
    "            if v == True:\n",
    "                print('Used following mummerplot option: %s %s' % (key,value))\n",
    "            filter_string = '%s %s' % (filter_string, value)\n",
    "    mummerplot = os.path.basename(delta_filter)\n",
    "    if 'r' in kwargs.keys():\n",
    "            mummerplot = mummerplot + kwargs['r'].replace('-r ','_')\n",
    "    previous_dir = os.getcwd()\n",
    "    os.chdir(OUTFOLDER)\n",
    "    command = '/home/benjamin/anaconda3/mummer-4.0.0/bin/mummerplot %s -p %s --png %s' % (filter_string, mummerplot, delta_filter)\n",
    "    run_command(command)\n",
    "    os.chdir(previous_dir)\n",
    "    return '%s.png' % (os.path.join(OUTFOLDER, mummerplot))"
   ]
  },
  {
   "cell_type": "code",
   "execution_count": 121,
   "metadata": {},
   "outputs": [],
   "source": [
    "def show_cov_plot(mummerplot, show=False):\n",
    "    if not os.path.exists(mummerplot):\n",
    "        return None\n",
    "    image = Image.open(mummerplot)\n",
    "    image = image.crop((10,500,800,800))\n",
    "    print('\\n##########\\n')\n",
    "    print('This is the coverage plot %s!' % os.path.basename(mummerplot))\n",
    "    print('\\n##########\\n')\n",
    "    if show==True:\n",
    "        image\n",
    "    return image"
   ]
  },
  {
   "cell_type": "code",
   "execution_count": 123,
   "metadata": {},
   "outputs": [],
   "source": [
    "def show_align_plot(mummerplot, show=False):\n",
    "    if not os.path.exists(mummerplot):\n",
    "        return None\n",
    "    image = Image.open(mummerplot)\n",
    "    print('\\n##########\\n')\n",
    "    print('This is the alignment plot %s!' % os.path.basename(mummerplot))\n",
    "    print('\\n##########\\n')\n",
    "    if show==True:\n",
    "        image\n",
    "    return image"
   ]
  },
  {
   "cell_type": "code",
   "execution_count": 118,
   "metadata": {},
   "outputs": [
    {
     "ename": "NameError",
     "evalue": "name 'CalledProcessError' is not defined",
     "output_type": "error",
     "traceback": [
      "\u001b[0;31m---------------------------------------------------------------------------\u001b[0m",
      "\u001b[0;31mCalledProcessError\u001b[0m                        Traceback (most recent call last)",
      "\u001b[0;32m<ipython-input-117-d5c6f430f4dd>\u001b[0m in \u001b[0;36mrun_command\u001b[0;34m(command, v)\u001b[0m\n\u001b[1;32m      5\u001b[0m     \u001b[0;32mtry\u001b[0m\u001b[0;34m:\u001b[0m\u001b[0;34m\u001b[0m\u001b[0m\n\u001b[0;32m----> 6\u001b[0;31m         \u001b[0moutput\u001b[0m \u001b[0;34m=\u001b[0m \u001b[0msubprocess\u001b[0m\u001b[0;34m.\u001b[0m\u001b[0mcheck_output\u001b[0m\u001b[0;34m(\u001b[0m\u001b[0mcommand\u001b[0m\u001b[0;34m,\u001b[0m \u001b[0mshell\u001b[0m\u001b[0;34m=\u001b[0m\u001b[0;32mTrue\u001b[0m\u001b[0;34m,\u001b[0m \u001b[0mstderr\u001b[0m\u001b[0;34m=\u001b[0m\u001b[0msubprocess\u001b[0m\u001b[0;34m.\u001b[0m\u001b[0mSTDOUT\u001b[0m\u001b[0;34m)\u001b[0m\u001b[0;34m\u001b[0m\u001b[0m\n\u001b[0m\u001b[1;32m      7\u001b[0m     \u001b[0;32mexcept\u001b[0m \u001b[0mCalledProcessError\u001b[0m \u001b[0;32mas\u001b[0m \u001b[0mex\u001b[0m\u001b[0;34m:\u001b[0m\u001b[0;34m\u001b[0m\u001b[0m\n",
      "\u001b[0;32m~/anaconda3/lib/python3.5/subprocess.py\u001b[0m in \u001b[0;36mcheck_output\u001b[0;34m(timeout, *popenargs, **kwargs)\u001b[0m\n\u001b[1;32m    315\u001b[0m     return run(*popenargs, stdout=PIPE, timeout=timeout, check=True,\n\u001b[0;32m--> 316\u001b[0;31m                **kwargs).stdout\n\u001b[0m\u001b[1;32m    317\u001b[0m \u001b[0;34m\u001b[0m\u001b[0m\n",
      "\u001b[0;32m~/anaconda3/lib/python3.5/subprocess.py\u001b[0m in \u001b[0;36mrun\u001b[0;34m(input, timeout, check, *popenargs, **kwargs)\u001b[0m\n\u001b[1;32m    397\u001b[0m             raise CalledProcessError(retcode, process.args,\n\u001b[0;32m--> 398\u001b[0;31m                                      output=stdout, stderr=stderr)\n\u001b[0m\u001b[1;32m    399\u001b[0m     \u001b[0;32mreturn\u001b[0m \u001b[0mCompletedProcess\u001b[0m\u001b[0;34m(\u001b[0m\u001b[0mprocess\u001b[0m\u001b[0;34m.\u001b[0m\u001b[0margs\u001b[0m\u001b[0;34m,\u001b[0m \u001b[0mretcode\u001b[0m\u001b[0;34m,\u001b[0m \u001b[0mstdout\u001b[0m\u001b[0;34m,\u001b[0m \u001b[0mstderr\u001b[0m\u001b[0;34m)\u001b[0m\u001b[0;34m\u001b[0m\u001b[0m\n",
      "\u001b[0;31mCalledProcessError\u001b[0m: Command '/home/benjamin/anaconda3/mummer-4.0.0/bin/mummerplot  -r pcontig_193 -p Pst_104E_v13_p_ctg.DK_0911_v04_p_ctg.l100.c500.mm.deltafilter_mu90i98_pcontig_193 --png /home/benjamin/genome_assembly/PST79/FALCON/p_assemblies/v9_1/Pst_104E_v12/Warrior_comp_runs/mummer_comp/output/Pst_104E_v13_p_ctg.DK_0911_v04_p_ctg.l100.c500.mm.deltafilter_mu90i98' returned non-zero exit status 25",
      "\nDuring handling of the above exception, another exception occurred:\n",
      "\u001b[0;31mNameError\u001b[0m                                 Traceback (most recent call last)",
      "\u001b[0;32m<ipython-input-118-535929e2d7d6>\u001b[0m in \u001b[0;36m<module>\u001b[0;34m()\u001b[0m\n\u001b[0;32m----> 1\u001b[0;31m \u001b[0mshow_align_plot\u001b[0m\u001b[0;34m(\u001b[0m\u001b[0mrun_mummerplot\u001b[0m\u001b[0;34m(\u001b[0m\u001b[0mrun_delta_filter\u001b[0m\u001b[0;34m(\u001b[0m\u001b[0mdelta_Pst_104E_DK0911p_mm\u001b[0m\u001b[0;34m,\u001b[0m \u001b[0;34m**\u001b[0m\u001b[0;34m{\u001b[0m\u001b[0;34m'm'\u001b[0m\u001b[0;34m:\u001b[0m\u001b[0;34m'-m'\u001b[0m\u001b[0;34m,\u001b[0m \u001b[0;34m'i'\u001b[0m\u001b[0;34m:\u001b[0m \u001b[0;34m'-i 98'\u001b[0m\u001b[0;34m,\u001b[0m \u001b[0;34m'u'\u001b[0m\u001b[0;34m:\u001b[0m \u001b[0;34m'-u 90'\u001b[0m\u001b[0;34m}\u001b[0m\u001b[0;34m)\u001b[0m\u001b[0;34m,\u001b[0m \u001b[0;34m**\u001b[0m\u001b[0;34m{\u001b[0m \u001b[0;34m'r'\u001b[0m\u001b[0;34m:\u001b[0m \u001b[0;34m'-r %s'\u001b[0m \u001b[0;34m%\u001b[0m \u001b[0;34m'pcontig_193'\u001b[0m \u001b[0;34m}\u001b[0m\u001b[0;34m)\u001b[0m\u001b[0;34m)\u001b[0m\u001b[0;34m\u001b[0m\u001b[0m\n\u001b[0m",
      "\u001b[0;32m<ipython-input-79-4f83a9f11872>\u001b[0m in \u001b[0;36mrun_mummerplot\u001b[0;34m(delta_filter, v, **kwargs)\u001b[0m\n\u001b[1;32m     12\u001b[0m     \u001b[0mos\u001b[0m\u001b[0;34m.\u001b[0m\u001b[0mchdir\u001b[0m\u001b[0;34m(\u001b[0m\u001b[0mOUTFOLDER\u001b[0m\u001b[0;34m)\u001b[0m\u001b[0;34m\u001b[0m\u001b[0m\n\u001b[1;32m     13\u001b[0m     \u001b[0mcommand\u001b[0m \u001b[0;34m=\u001b[0m \u001b[0;34m'/home/benjamin/anaconda3/mummer-4.0.0/bin/mummerplot %s -p %s --png %s'\u001b[0m \u001b[0;34m%\u001b[0m \u001b[0;34m(\u001b[0m\u001b[0mfilter_string\u001b[0m\u001b[0;34m,\u001b[0m \u001b[0mmummerplot\u001b[0m\u001b[0;34m,\u001b[0m \u001b[0mdelta_filter\u001b[0m\u001b[0;34m)\u001b[0m\u001b[0;34m\u001b[0m\u001b[0m\n\u001b[0;32m---> 14\u001b[0;31m     \u001b[0mrun_command\u001b[0m\u001b[0;34m(\u001b[0m\u001b[0mcommand\u001b[0m\u001b[0;34m)\u001b[0m\u001b[0;34m\u001b[0m\u001b[0m\n\u001b[0m\u001b[1;32m     15\u001b[0m     \u001b[0mos\u001b[0m\u001b[0;34m.\u001b[0m\u001b[0mchdir\u001b[0m\u001b[0;34m(\u001b[0m\u001b[0mprevious_dir\u001b[0m\u001b[0;34m)\u001b[0m\u001b[0;34m\u001b[0m\u001b[0m\n\u001b[1;32m     16\u001b[0m     \u001b[0;32mreturn\u001b[0m \u001b[0;34m'%s.png'\u001b[0m \u001b[0;34m%\u001b[0m \u001b[0;34m(\u001b[0m\u001b[0mos\u001b[0m\u001b[0;34m.\u001b[0m\u001b[0mpath\u001b[0m\u001b[0;34m.\u001b[0m\u001b[0mjoin\u001b[0m\u001b[0;34m(\u001b[0m\u001b[0mOUTFOLDER\u001b[0m\u001b[0;34m,\u001b[0m \u001b[0mmummerplot\u001b[0m\u001b[0;34m)\u001b[0m\u001b[0;34m)\u001b[0m\u001b[0;34m\u001b[0m\u001b[0m\n",
      "\u001b[0;32m<ipython-input-117-d5c6f430f4dd>\u001b[0m in \u001b[0;36mrun_command\u001b[0;34m(command, v)\u001b[0m\n\u001b[1;32m      5\u001b[0m     \u001b[0;32mtry\u001b[0m\u001b[0;34m:\u001b[0m\u001b[0;34m\u001b[0m\u001b[0m\n\u001b[1;32m      6\u001b[0m         \u001b[0moutput\u001b[0m \u001b[0;34m=\u001b[0m \u001b[0msubprocess\u001b[0m\u001b[0;34m.\u001b[0m\u001b[0mcheck_output\u001b[0m\u001b[0;34m(\u001b[0m\u001b[0mcommand\u001b[0m\u001b[0;34m,\u001b[0m \u001b[0mshell\u001b[0m\u001b[0;34m=\u001b[0m\u001b[0;32mTrue\u001b[0m\u001b[0;34m,\u001b[0m \u001b[0mstderr\u001b[0m\u001b[0;34m=\u001b[0m\u001b[0msubprocess\u001b[0m\u001b[0;34m.\u001b[0m\u001b[0mSTDOUT\u001b[0m\u001b[0;34m)\u001b[0m\u001b[0;34m\u001b[0m\u001b[0m\n\u001b[0;32m----> 7\u001b[0;31m     \u001b[0;32mexcept\u001b[0m \u001b[0mCalledProcessError\u001b[0m \u001b[0;32mas\u001b[0m \u001b[0mex\u001b[0m\u001b[0;34m:\u001b[0m\u001b[0;34m\u001b[0m\u001b[0m\n\u001b[0m\u001b[1;32m      8\u001b[0m         \u001b[0mo\u001b[0m \u001b[0;34m=\u001b[0m \u001b[0mex\u001b[0m\u001b[0;34m.\u001b[0m\u001b[0moutput\u001b[0m\u001b[0;34m\u001b[0m\u001b[0m\n\u001b[1;32m      9\u001b[0m         \u001b[0mreturncode\u001b[0m \u001b[0;34m=\u001b[0m \u001b[0mex\u001b[0m\u001b[0;34m.\u001b[0m\u001b[0mreturncode\u001b[0m\u001b[0;34m\u001b[0m\u001b[0m\n",
      "\u001b[0;31mNameError\u001b[0m: name 'CalledProcessError' is not defined"
     ]
    }
   ],
   "source": [
    "show_align_plot(run_mummerplot(run_delta_filter(delta_Pst_104E_DK0911p_mm, **{'m':'-m', 'i': '-i 98', 'u': '-u 90'}), **{ 'r': '-r %s' % 'pcontig_193' }))"
   ]
  },
  {
   "cell_type": "code",
   "execution_count": 13,
   "metadata": {},
   "outputs": [],
   "source": [
    "delta_DK0911_self_nmm = run_nucmer(os.path.join(GENOME_FOLDER, DK0911_p), os.path.join(GENOME_FOLDER, DK0911_h), maxmatch=False)\n",
    "delta_DK0911_Pst_104Ep_nmm = run_nucmer(os.path.join(GENOME_FOLDER, DK0911_p), os.path.join(GENOME_FOLDER, PST_104E_p), maxmatch=False)\n",
    "delta_DK0911_Pst_104Eph_nmm = run_nucmer(os.path.join(GENOME_FOLDER, DK0911_p), os.path.join(GENOME_FOLDER, PST_104E_ph), maxmatch=False)\n",
    "delta_Pst_104E_DK0911ph_nmm = run_nucmer(os.path.join(GENOME_FOLDER, PST_104E_p), os.path.join(GENOME_FOLDER, DK0911_ph), maxmatch=False)\n",
    "delta_Pst_104E_self_nmm = run_nucmer(os.path.join(GENOME_FOLDER, PST_104E_p), os.path.join(GENOME_FOLDER, PST_104E_h), maxmatch=False)\n",
    "delta_Pst_104E_DK0911p_nmm = run_nucmer(os.path.join(GENOME_FOLDER, PST_104E_p), os.path.join(GENOME_FOLDER, DK0911_p), maxmatch=False)"
   ]
  },
  {
   "cell_type": "code",
   "execution_count": 14,
   "metadata": {},
   "outputs": [],
   "source": [
    "delta_Pst_104Eph_DK0911ph_mm = run_nucmer(os.path.join(GENOME_FOLDER, PST_104E_ph), os.path.join(GENOME_FOLDER, DK0911_ph))\n",
    "delta_DK0911ph_Pst_104Eph_mm = run_nucmer(os.path.join(GENOME_FOLDER, DK0911_ph), os.path.join(GENOME_FOLDER, PST_104E_ph))"
   ]
  },
  {
   "cell_type": "code",
   "execution_count": 15,
   "metadata": {},
   "outputs": [],
   "source": [
    "#run a couple of delta mapping for mummer\n",
    "delta_DK0911_self_mm = run_nucmer(os.path.join(GENOME_FOLDER, DK0911_p), os.path.join(GENOME_FOLDER, DK0911_h))\n",
    "delta_DK0911_Pst_104Ep_mm = run_nucmer(os.path.join(GENOME_FOLDER, DK0911_p), os.path.join(GENOME_FOLDER, PST_104E_p))\n",
    "delta_DK0911_Pst_104Eph_mm = run_nucmer(os.path.join(GENOME_FOLDER, DK0911_p), os.path.join(GENOME_FOLDER, PST_104E_ph))"
   ]
  },
  {
   "cell_type": "code",
   "execution_count": 16,
   "metadata": {},
   "outputs": [],
   "source": [
    "delta_Pst_104E_DK0911p_mm = run_nucmer(os.path.join(GENOME_FOLDER, PST_104E_p), os.path.join(GENOME_FOLDER, DK0911_p))\n",
    "delta_Pst_104E_DK0911ph_mm = run_nucmer(os.path.join(GENOME_FOLDER, PST_104E_p), os.path.join(GENOME_FOLDER, DK0911_ph))\n",
    "delta_Pst_104E_self_mm = run_nucmer(os.path.join(GENOME_FOLDER, PST_104E_p), os.path.join(GENOME_FOLDER, PST_104E_h))"
   ]
  },
  {
   "cell_type": "code",
   "execution_count": 80,
   "metadata": {},
   "outputs": [
    {
     "name": "stdout",
     "output_type": "stream",
     "text": [
      "\n",
      "##########\n",
      "\n",
      "This is the coverage plot DK_0911_v04_p_ctg.DK_0911_v04_h_ctg.l100.c500.mm.deltafilter_m_pcontig_000.png!\n",
      "\n",
      "##########\n",
      "\n"
     ]
    },
    {
     "data": {
      "image/png": "[encoded data removed]",
      "text/plain": [
       "<PIL.Image.Image image mode=P size=790x300 at 0x7F8A4E439DA0>"
      ]
     },
     "execution_count": 80,
     "metadata": {},
     "output_type": "execute_result"
    }
   ],
   "source": [
    "show_cov_plot(run_mummerplot(run_delta_filter(delta_DK0911_self_mm, **{'m':'-m'}), **{'c': '-c', 'r': '-r pcontig_000'}))"
   ]
  },
  {
   "cell_type": "code",
   "execution_count": 81,
   "metadata": {},
   "outputs": [
    {
     "name": "stdout",
     "output_type": "stream",
     "text": [
      "\n",
      "##########\n",
      "\n",
      "This is the coverage plot DK_0911_v04_p_ctg.DK_0911_v04_h_ctg.l100.c500.deltafilter_m_pcontig_000.png!\n",
      "\n",
      "##########\n",
      "\n"
     ]
    },
    {
     "data": {
      "image/png": "[encoded data removed]",
      "text/plain": [
       "<PIL.Image.Image image mode=P size=790x300 at 0x7F8A4FD59FD0>"
      ]
     },
     "execution_count": 81,
     "metadata": {},
     "output_type": "execute_result"
    }
   ],
   "source": [
    "show_cov_plot(run_mummerplot(run_delta_filter(delta_DK0911_self_nmm, **{'m':'-m'}), **{'c': '-c', 'r': '-r pcontig_000'}))"
   ]
  },
  {
   "cell_type": "code",
   "execution_count": 82,
   "metadata": {},
   "outputs": [
    {
     "name": "stdout",
     "output_type": "stream",
     "text": [
      "\n",
      "##########\n",
      "\n",
      "This is the coverage plot DK_0911_v04_p_ctg.Pst_104E_v13_p_ctg.l100.c500.mm.deltafilter_m_pcontig_000.png!\n",
      "\n",
      "##########\n",
      "\n"
     ]
    },
    {
     "data": {
      "image/png": "[encoded data removed]",
      "text/plain": [
       "<PIL.Image.Image image mode=P size=790x300 at 0x7F8A4E439BE0>"
      ]
     },
     "execution_count": 82,
     "metadata": {},
     "output_type": "execute_result"
    }
   ],
   "source": [
    "show_cov_plot(run_mummerplot(run_delta_filter(delta_DK0911_Pst_104Ep_mm, **{'m':'-m'}), **{'c': '-c', 'r': '-r pcontig_000'}))"
   ]
  },
  {
   "cell_type": "code",
   "execution_count": 108,
   "metadata": {},
   "outputs": [
    {
     "name": "stdout",
     "output_type": "stream",
     "text": [
      "\n",
      "##########\n",
      "\n",
      "This is the coverage plot DK_0911_v04_p_ctg.Pst_104E_v13_ph_ctg.l100.c500.mm.deltafilter_m_pcontig_000.png!\n",
      "\n",
      "##########\n",
      "\n"
     ]
    },
    {
     "data": {
      "image/png": "[encoded data removed]",
      "text/plain": [
       "<PIL.Image.Image image mode=P size=790x300 at 0x7F8A4FDDAA20>"
      ]
     },
     "execution_count": 108,
     "metadata": {},
     "output_type": "execute_result"
    }
   ],
   "source": [
    "show_cov_plot(run_mummerplot(run_delta_filter(delta_DK0911_Pst_104Eph_mm, **{'m':'-m'}), **{'c': '-c', 'r': '-r pcontig_000'}))"
   ]
  },
  {
   "cell_type": "code",
   "execution_count": 28,
   "metadata": {},
   "outputs": [
    {
     "name": "stdout",
     "output_type": "stream",
     "text": [
      "Used following delta filter option: m -m\n",
      "Used following delta filter option: i -i 80\n",
      "/home/benjamin/anaconda3/mummer-4.0.0/bin/delta-filter  -m -i 80 /home/benjamin/genome_assembly/PST79/FALCON/p_assemblies/v9_1/Pst_104E_v12/Warrior_comp_runs/mummer_comp/output/DK_0911_v04_p_ctg.Pst_104E_v13_ph_ctg.l100.c500.mm.delta > /home/benjamin/genome_assembly/PST79/FALCON/p_assemblies/v9_1/Pst_104E_v12/Warrior_comp_runs/mummer_comp/output/DK_0911_v04_p_ctg.Pst_104E_v13_ph_ctg.l100.c500.mm.deltafilter_mi80\n",
      "Used following mummerplot option: c -c\n",
      "Used following mummerplot option: r -r pcontig_002\n",
      "/home/benjamin/anaconda3/mummer-4.0.0/bin/mummerplot  -c -r pcontig_002 -p DK_0911_v04_p_ctg.Pst_104E_v13_ph_ctg.l100.c500.mm.deltafilter_mi80 --png /home/benjamin/genome_assembly/PST79/FALCON/p_assemblies/v9_1/Pst_104E_v12/Warrior_comp_runs/mummer_comp/output/DK_0911_v04_p_ctg.Pst_104E_v13_ph_ctg.l100.c500.mm.deltafilter_mi80\n",
      "\n",
      "##########\n",
      "\n",
      "This is the coverage plot DK_0911_v04_p_ctg.Pst_104E_v13_ph_ctg.l100.c500.mm.deltafilter_mi80.png!\n",
      "\n",
      "##########\n",
      "\n"
     ]
    },
    {
     "data": {
      "image/png": "[encoded data removed]",
      "text/plain": [
       "<PIL.Image.Image image mode=P size=790x300 at 0x7F8A50559C50>"
      ]
     },
     "execution_count": 28,
     "metadata": {},
     "output_type": "execute_result"
    }
   ],
   "source": [
    "show_cov_plot(run_mummerplot(run_delta_filter(delta_DK0911_Pst_104Eph_mm, **{'m':'-m', 'i': '-i 80'}), **{'c': '-c', 'r': '-r pcontig_002'}))"
   ]
  },
  {
   "cell_type": "code",
   "execution_count": 30,
   "metadata": {},
   "outputs": [
    {
     "name": "stdout",
     "output_type": "stream",
     "text": [
      "Used following delta filter option: m -m\n",
      "Used following delta filter option: i -i 80\n",
      "/home/benjamin/anaconda3/mummer-4.0.0/bin/delta-filter  -m -i 80 /home/benjamin/genome_assembly/PST79/FALCON/p_assemblies/v9_1/Pst_104E_v12/Warrior_comp_runs/mummer_comp/output/DK_0911_v04_p_ctg.Pst_104E_v13_ph_ctg.l100.c500.mm.delta > /home/benjamin/genome_assembly/PST79/FALCON/p_assemblies/v9_1/Pst_104E_v12/Warrior_comp_runs/mummer_comp/output/DK_0911_v04_p_ctg.Pst_104E_v13_ph_ctg.l100.c500.mm.deltafilter_mi80\n",
      "Used following mummerplot option: c -c\n",
      "Used following mummerplot option: r -r pcontig_020\n",
      "/home/benjamin/anaconda3/mummer-4.0.0/bin/mummerplot  -c -r pcontig_020 -p DK_0911_v04_p_ctg.Pst_104E_v13_ph_ctg.l100.c500.mm.deltafilter_mi80 --png /home/benjamin/genome_assembly/PST79/FALCON/p_assemblies/v9_1/Pst_104E_v12/Warrior_comp_runs/mummer_comp/output/DK_0911_v04_p_ctg.Pst_104E_v13_ph_ctg.l100.c500.mm.deltafilter_mi80\n",
      "\n",
      "##########\n",
      "\n",
      "This is the coverage plot DK_0911_v04_p_ctg.Pst_104E_v13_ph_ctg.l100.c500.mm.deltafilter_mi80.png!\n",
      "\n",
      "##########\n",
      "\n"
     ]
    },
    {
     "data": {
      "image/png": "[encoded data removed]",
      "text/plain": [
       "<PIL.Image.Image image mode=P size=790x300 at 0x7F8A50559CF8>"
      ]
     },
     "execution_count": 30,
     "metadata": {},
     "output_type": "execute_result"
    }
   ],
   "source": [
    "show_cov_plot(run_mummerplot(run_delta_filter(delta_DK0911_Pst_104Eph_mm, **{'m':'-m', 'i': '-i 80'}), **{'c': '-c', 'r': '-r pcontig_020'}))"
   ]
  },
  {
   "cell_type": "code",
   "execution_count": 41,
   "metadata": {},
   "outputs": [
    {
     "name": "stdout",
     "output_type": "stream",
     "text": [
      "Used following delta filter option: m -m\n",
      "Used following delta filter option: i -i 98\n",
      "/home/benjamin/anaconda3/mummer-4.0.0/bin/delta-filter  -m -i 98 /home/benjamin/genome_assembly/PST79/FALCON/p_assemblies/v9_1/Pst_104E_v12/Warrior_comp_runs/mummer_comp/output/Pst_104E_v13_p_ctg.DK_0911_v04_ph_ctg.l100.c500.mm.delta > /home/benjamin/genome_assembly/PST79/FALCON/p_assemblies/v9_1/Pst_104E_v12/Warrior_comp_runs/mummer_comp/output/Pst_104E_v13_p_ctg.DK_0911_v04_ph_ctg.l100.c500.mm.deltafilter_mi98\n",
      "Used following mummerplot option: c -c\n",
      "Used following mummerplot option: r -r pcontig_010\n",
      "/home/benjamin/anaconda3/mummer-4.0.0/bin/mummerplot  -c -r pcontig_010 -p Pst_104E_v13_p_ctg.DK_0911_v04_ph_ctg.l100.c500.mm.deltafilter_mi98 --png /home/benjamin/genome_assembly/PST79/FALCON/p_assemblies/v9_1/Pst_104E_v12/Warrior_comp_runs/mummer_comp/output/Pst_104E_v13_p_ctg.DK_0911_v04_ph_ctg.l100.c500.mm.deltafilter_mi98\n",
      "\n",
      "##########\n",
      "\n",
      "This is the coverage plot Pst_104E_v13_p_ctg.DK_0911_v04_ph_ctg.l100.c500.mm.deltafilter_mi98.png!\n",
      "\n",
      "##########\n",
      "\n"
     ]
    },
    {
     "data": {
      "image/png": "[encoded data removed]",
      "text/plain": [
       "<PIL.Image.Image image mode=P size=790x300 at 0x7F8A50559278>"
      ]
     },
     "execution_count": 41,
     "metadata": {},
     "output_type": "execute_result"
    }
   ],
   "source": [
    "show_cov_plot(run_mummerplot(run_delta_filter(delta_Pst_104E_DK0911ph_mm, **{'m':'-m', 'i': '-i 98'}), **{'c': '-c', 'r': '-r pcontig_010'}))"
   ]
  },
  {
   "cell_type": "code",
   "execution_count": 109,
   "metadata": {},
   "outputs": [
    {
     "name": "stdout",
     "output_type": "stream",
     "text": [
      "pcontig_193\n",
      "\n",
      "##########\n",
      "\n",
      "This is the alignment plot Pst_104E_v13_p_ctg.DK_0911_v04_p_ctg.l100.c500.mm.deltafilter_mu0i98_pcontig_193.png!\n",
      "\n",
      "##########\n",
      "\n"
     ]
    },
    {
     "data": {
      "image/png": "[encoded data removed]",
      "text/plain": [
       "<PIL.PngImagePlugin.PngImageFile image mode=P size=800x800 at 0x7F89EC45C0B8>"
      ]
     },
     "metadata": {},
     "output_type": "display_data"
    },
    {
     "name": "stdout",
     "output_type": "stream",
     "text": [
      "pcontig_225\n",
      "\n",
      "##########\n",
      "\n",
      "This is the alignment plot Pst_104E_v13_p_ctg.DK_0911_v04_p_ctg.l100.c500.mm.deltafilter_mu0i98_pcontig_225.png!\n",
      "\n",
      "##########\n",
      "\n"
     ]
    },
    {
     "data": {
      "image/png": "[encoded data removed]",
      "text/plain": [
       "<PIL.PngImagePlugin.PngImageFile image mode=P size=800x800 at 0x7F8A4FD60DA0>"
      ]
     },
     "metadata": {},
     "output_type": "display_data"
    },
    {
     "name": "stdout",
     "output_type": "stream",
     "text": [
      "pcontig_164\n",
      "\n",
      "##########\n",
      "\n",
      "This is the alignment plot Pst_104E_v13_p_ctg.DK_0911_v04_p_ctg.l100.c500.mm.deltafilter_mu0i98_pcontig_164.png!\n",
      "\n",
      "##########\n",
      "\n"
     ]
    },
    {
     "data": {
      "image/png": "[encoded data removed]",
      "text/plain": [
       "<PIL.PngImagePlugin.PngImageFile image mode=P size=800x800 at 0x7F89EC3DF240>"
      ]
     },
     "metadata": {},
     "output_type": "display_data"
    },
    {
     "name": "stdout",
     "output_type": "stream",
     "text": [
      "pcontig_166\n",
      "\n",
      "##########\n",
      "\n",
      "This is the alignment plot Pst_104E_v13_p_ctg.DK_0911_v04_p_ctg.l100.c500.mm.deltafilter_mu0i98_pcontig_166.png!\n",
      "\n",
      "##########\n",
      "\n"
     ]
    },
    {
     "data": {
      "image/png": "[encoded data removed]",
      "text/plain": [
       "<PIL.PngImagePlugin.PngImageFile image mode=P size=800x800 at 0x7F8A47841828>"
      ]
     },
     "metadata": {},
     "output_type": "display_data"
    },
    {
     "name": "stdout",
     "output_type": "stream",
     "text": [
      "pcontig_184\n",
      "\n",
      "##########\n",
      "\n",
      "This is the alignment plot Pst_104E_v13_p_ctg.DK_0911_v04_p_ctg.l100.c500.mm.deltafilter_mu0i98_pcontig_184.png!\n",
      "\n",
      "##########\n",
      "\n"
     ]
    },
    {
     "data": {
      "image/png": "[encoded data removed]",
      "text/plain": [
       "<PIL.PngImagePlugin.PngImageFile image mode=P size=800x800 at 0x7F8A4FDAE198>"
      ]
     },
     "metadata": {},
     "output_type": "display_data"
    }
   ],
   "source": [
    "lenght = 0\n",
    "for seq in SeqIO.parse(os.path.join(GENOME_FOLDER, PST_104E_p), 'fasta'):\n",
    "    if lenght < 5:\n",
    "        print(seq.id)\n",
    "        image = show_align_plot(run_mummerplot(run_delta_filter(delta_Pst_104E_DK0911p_mm, **{'m':'-m', 'i': '-i 98', 'u': '-u 0'}), **{ 'r': '-r %s' % seq.id }))\n",
    "        display(image)\n",
    "        lenght += 1"
   ]
  },
  {
   "cell_type": "code",
   "execution_count": 91,
   "metadata": {},
   "outputs": [
    {
     "name": "stdout",
     "output_type": "stream",
     "text": [
      "\n",
      "##########\n",
      "\n",
      "This is the alignment plot Pst_104E_v13_p_ctg.DK_0911_v04_p_ctg.l100.c500.mm.deltafilter_mu0i90_pcontig_193.png!\n",
      "\n",
      "##########\n",
      "\n"
     ]
    }
   ],
   "source": [
    "image = show_align_plot(run_mummerplot(run_delta_filter(delta_Pst_104E_DK0911p_mm, **{'m':'-m', 'i': '-i 90', 'u': '-u 0'}), **{ 'r': '-r pcontig_193'}))"
   ]
  },
  {
   "cell_type": "code",
   "execution_count": 99,
   "metadata": {},
   "outputs": [
    {
     "data": {
      "image/png": "[encoded data removed]",
      "text/plain": [
       "<matplotlib.figure.Figure at 0x7f8a4e119278>"
      ]
     },
     "metadata": {},
     "output_type": "display_data"
    }
   ],
   "source": [
    "fig, ax = plt.subplots(2)\n",
    "ax[1] = image"
   ]
  },
  {
   "cell_type": "code",
   "execution_count": 87,
   "metadata": {},
   "outputs": [
    {
     "name": "stdout",
     "output_type": "stream",
     "text": [
      "\n",
      "##########\n",
      "\n",
      "This is the alignment plot Pst_104E_v13_p_ctg.DK_0911_v04_p_ctg.l100.c500.mm.deltafilter_mu0i90_pcontig_193.png!\n",
      "\n",
      "##########\n",
      "\n"
     ]
    },
    {
     "data": {
      "image/png": "[encoded data removed]",
      "text/plain": [
       "<PIL.PngImagePlugin.PngImageFile image mode=P size=800x800 at 0x7F8A4E438A90>"
      ]
     },
     "execution_count": 87,
     "metadata": {},
     "output_type": "execute_result"
    }
   ],
   "source": [
    "show_align_plot(run_mummerplot(run_delta_filter(delta_Pst_104E_DK0911p_mm, **{'m':'-m', 'i': '-i 90', 'u': '-u 0'}), **{ 'r': '-r pcontig_193'}))"
   ]
  },
  {
   "cell_type": "code",
   "execution_count": 59,
   "metadata": {},
   "outputs": [
    {
     "name": "stdout",
     "output_type": "stream",
     "text": [
      "Used following delta filter option: m -m\n",
      "Used following delta filter option: u -u 0\n",
      "Used following delta filter option: i -i 98\n",
      "/home/benjamin/anaconda3/mummer-4.0.0/bin/delta-filter  -m -u 0 -i 98 /home/benjamin/genome_assembly/PST79/FALCON/p_assemblies/v9_1/Pst_104E_v12/Warrior_comp_runs/mummer_comp/output/Pst_104E_v13_p_ctg.DK_0911_v04_ph_ctg.l100.c500.mm.delta > /home/benjamin/genome_assembly/PST79/FALCON/p_assemblies/v9_1/Pst_104E_v12/Warrior_comp_runs/mummer_comp/output/Pst_104E_v13_p_ctg.DK_0911_v04_ph_ctg.l100.c500.mm.deltafilter_mu0i98\n",
      "Used following mummerplot option: c -c\n",
      "Used following mummerplot option: r -r pcontig_003\n",
      "/home/benjamin/anaconda3/mummer-4.0.0/bin/mummerplot  -c -r pcontig_003 -p Pst_104E_v13_p_ctg.DK_0911_v04_ph_ctg.l100.c500.mm.deltafilter_mu0i98 --png /home/benjamin/genome_assembly/PST79/FALCON/p_assemblies/v9_1/Pst_104E_v12/Warrior_comp_runs/mummer_comp/output/Pst_104E_v13_p_ctg.DK_0911_v04_ph_ctg.l100.c500.mm.deltafilter_mu0i98\n",
      "\n",
      "##########\n",
      "\n",
      "This is the coverage plot Pst_104E_v13_p_ctg.DK_0911_v04_ph_ctg.l100.c500.mm.deltafilter_mu0i98.png!\n",
      "\n",
      "##########\n",
      "\n"
     ]
    },
    {
     "data": {
      "image/png": "[encoded data removed]",
      "text/plain": [
       "<PIL.Image.Image image mode=P size=790x300 at 0x7F8A4FD8BAC8>"
      ]
     },
     "execution_count": 59,
     "metadata": {},
     "output_type": "execute_result"
    }
   ],
   "source": [
    "show_cov_plot(run_mummerplot(run_delta_filter(delta_Pst_104E_DK0911ph_mm, **{'m':'-m', 'i': '-i 98', 'u': '-u 0'}), **{'c': '-c', 'r': '-r pcontig_003'}))"
   ]
  },
  {
   "cell_type": "code",
   "execution_count": 67,
   "metadata": {},
   "outputs": [
    {
     "name": "stdout",
     "output_type": "stream",
     "text": [
      "Used following delta filter option: m -m\n",
      "Used following delta filter option: u -u 90\n",
      "Used following delta filter option: i -i 90\n",
      "/home/benjamin/anaconda3/mummer-4.0.0/bin/delta-filter  -m -u 90 -i 90 /home/benjamin/genome_assembly/PST79/FALCON/p_assemblies/v9_1/Pst_104E_v12/Warrior_comp_runs/mummer_comp/output/Pst_104E_v13_p_ctg.DK_0911_v04_p_ctg.l100.c500.mm.delta > /home/benjamin/genome_assembly/PST79/FALCON/p_assemblies/v9_1/Pst_104E_v12/Warrior_comp_runs/mummer_comp/output/Pst_104E_v13_p_ctg.DK_0911_v04_p_ctg.l100.c500.mm.deltafilter_mu90i90\n",
      "Used following mummerplot option: r -r pcontig_000\n",
      "/home/benjamin/anaconda3/mummer-4.0.0/bin/mummerplot  -r pcontig_000 -p Pst_104E_v13_p_ctg.DK_0911_v04_p_ctg.l100.c500.mm.deltafilter_mu90i90 --png /home/benjamin/genome_assembly/PST79/FALCON/p_assemblies/v9_1/Pst_104E_v12/Warrior_comp_runs/mummer_comp/output/Pst_104E_v13_p_ctg.DK_0911_v04_p_ctg.l100.c500.mm.deltafilter_mu90i90\n",
      "This is the alignment plot Pst_104E_v13_p_ctg.DK_0911_v04_p_ctg.l100.c500.mm.deltafilter_mu90i90.png!\n"
     ]
    },
    {
     "data": {
      "image/png": "[encoded data removed]",
      "text/plain": [
       "<PIL.PngImagePlugin.PngImageFile image mode=P size=800x800 at 0x7F8A4FD59978>"
      ]
     },
     "execution_count": 67,
     "metadata": {},
     "output_type": "execute_result"
    }
   ],
   "source": [
    "show_align_plot(run_mummerplot(run_delta_filter(delta_Pst_104E_DK0911p_mm, **{'m':'-m', 'i': '-i 90', 'u': '-u 90'}), **{'r': '-r pcontig_000'}))"
   ]
  },
  {
   "cell_type": "code",
   "execution_count": null,
   "metadata": {},
   "outputs": [],
   "source": []
  },
  {
   "cell_type": "code",
   "execution_count": null,
   "metadata": {},
   "outputs": [],
   "source": [
    "delta_filter = {'m':'-m'}\n",
    "showcoords_fiter = {}\n",
    "mummerplot_filter = {'c': '-c', 'r': '-r pcontig_000'}"
   ]
  },
  {
   "cell_type": "code",
   "execution_count": null,
   "metadata": {},
   "outputs": [],
   "source": [
    "from PIL import Image\n",
    "\n",
    "# we get the image\n",
    "\n",
    "image = Image.open(run_mummerplot(run_delta_filter(delta_DK0911_self_mm, **{'m':'-m'}), **{'c': '-c', 'r': '-r pcontig_000'}))"
   ]
  },
  {
   "cell_type": "code",
   "execution_count": null,
   "metadata": {},
   "outputs": [],
   "source": [
    "image.size"
   ]
  },
  {
   "cell_type": "code",
   "execution_count": null,
   "metadata": {},
   "outputs": [],
   "source": [
    "image.crop((10,500,800,800))"
   ]
  },
  {
   "cell_type": "code",
   "execution_count": 166,
   "metadata": {},
   "outputs": [
    {
     "name": "stdout",
     "output_type": "stream",
     "text": [
      "Used following delta filter option: m -m\n",
      "Used following mummerplot option: c -c\n",
      "Used following mummerplot option: r -r pcontig_000\n"
     ]
    },
    {
     "data": {
      "image/png": "[encoded data removed]",
      "text/plain": [
       "<IPython.core.display.Image object>"
      ]
     },
     "metadata": {},
     "output_type": "display_data"
    },
    {
     "name": "stdout",
     "output_type": "stream",
     "text": [
      "Used following mummerplot option: c -c\n",
      "Used following mummerplot option: r -r pcontig_000\n"
     ]
    },
    {
     "data": {
      "image/png": "[encoded data removed]",
      "text/plain": [
       "<IPython.core.display.Image object>"
      ]
     },
     "metadata": {},
     "output_type": "display_data"
    }
   ],
   "source": [
    "display(Image(run_mummerplot(run_delta_filter(delta_DK0911_self_mm, **{'m':'-m'}), **{'c': '-c', 'r': '-r pcontig_000'})))\n",
    "display(Image(run_mummerplot(run_delta_filter(delta_DK0911_self_mm), **{'c': '-c', 'r': '-r pcontig_000'})))\n",
    "display(Image(run_mummerplot(run_delta_filter(delta_DK0911_self_nmm), **{'c': '-c', 'r': '-r pcontig_000'})))"
   ]
  },
  {
   "cell_type": "code",
   "execution_count": null,
   "metadata": {},
   "outputs": [],
   "source": [
    "os."
   ]
  },
  {
   "cell_type": "code",
   "execution_count": 164,
   "metadata": {},
   "outputs": [
    {
     "name": "stdout",
     "output_type": "stream",
     "text": [
      "\n",
      "Runnning now!\n",
      "\n",
      "delta-filter  /home/benjamin/genome_assembly/PST79/FALCON/p_assemblies/v9_1/Pst_104E_v12/Warrior_comp_runs/mummer_comp/output/DK_0911_v04_p_ctg.DK_0911_v04_h_ctg.l100.c500.mm.delta > /home/benjamin/genome_assembly/PST79/FALCON/p_assemblies/v9_1/Pst_104E_v12/Warrior_comp_runs/mummer_comp/output/DK_0911_v04_p_ctg.DK_0911_v04_h_ctg.l100.c500.mm.deltafilter_\n",
      "Done with it!\n",
      "Used following mummerplot option: c -c\n",
      "Used following mummerplot option: r -r pcontig_000\n",
      "\n",
      "Runnning now!\n",
      "\n",
      "mummerplot  -c -r pcontig_000 -p DK_0911_v04_p_ctg.DK_0911_v04_h_ctg.l100.c500.mm.deltafilter_ --png /home/benjamin/genome_assembly/PST79/FALCON/p_assemblies/v9_1/Pst_104E_v12/Warrior_comp_runs/mummer_comp/output/DK_0911_v04_p_ctg.DK_0911_v04_h_ctg.l100.c500.mm.deltafilter_\n",
      "Done with it!\n"
     ]
    },
    {
     "data": {
      "image/png": "[encoded data removed]",
      "text/plain": [
       "<IPython.core.display.Image object>"
      ]
     },
     "metadata": {},
     "output_type": "display_data"
    }
   ],
   "source": [
    "display(Image(run_mummerplot(run_delta_filter(delta_DK0911_self_mm), **{'c': '-c', 'r': '-r pcontig_000'})))"
   ]
  },
  {
   "cell_type": "code",
   "execution_count": 157,
   "metadata": {},
   "outputs": [],
   "source": [
    "np_image = [img2array(im) for im in images]"
   ]
  },
  {
   "cell_type": "code",
   "execution_count": 160,
   "metadata": {},
   "outputs": [
    {
     "data": {
      "text/plain": [
       "[]"
      ]
     },
     "execution_count": 160,
     "metadata": {},
     "output_type": "execute_result"
    }
   ],
   "source": [
    "np_image "
   ]
  },
  {
   "cell_type": "code",
   "execution_count": 159,
   "metadata": {},
   "outputs": [],
   "source": [
    "for img in np_image:\n",
    "    plt.figure()\n",
    "    plt.imshow(img)"
   ]
  },
  {
   "cell_type": "code",
   "execution_count": 150,
   "metadata": {},
   "outputs": [
    {
     "name": "stdout",
     "output_type": "stream",
     "text": [
      "Used following delta filter option: m -m\n",
      "\n",
      "Runnning now!\n",
      "\n",
      "delta-filter  -m /home/benjamin/genome_assembly/PST79/FALCON/p_assemblies/v9_1/Pst_104E_v12/Warrior_comp_runs/mummer_comp/output/DK_0911_v04_p_ctg.DK_0911_v04_h_ctg.l100.c500.mm.delta > /home/benjamin/genome_assembly/PST79/FALCON/p_assemblies/v9_1/Pst_104E_v12/Warrior_comp_runs/mummer_comp/output/DK_0911_v04_p_ctg.DK_0911_v04_h_ctg.l100.c500.mm.deltafilter_m\n",
      "Done with it!\n",
      "Used following mummerplot option: c -c\n",
      "Used following mummerplot option: r -r pcontig_000\n",
      "\n",
      "Runnning now!\n",
      "\n",
      "mummerplot  -c -r pcontig_000 -p DK_0911_v04_p_ctg.DK_0911_v04_h_ctg.l100.c500.mm.deltafilter_m --png /home/benjamin/genome_assembly/PST79/FALCON/p_assemblies/v9_1/Pst_104E_v12/Warrior_comp_runs/mummer_comp/output/DK_0911_v04_p_ctg.DK_0911_v04_h_ctg.l100.c500.mm.deltafilter_m\n",
      "Done with it!\n"
     ]
    },
    {
     "data": {
      "image/png": "[encoded data removed]",
      "text/plain": [
       "<IPython.core.display.Image object>"
      ]
     },
     "metadata": {
      "image/png": {
       "height": 300,
       "width": 1000
      }
     },
     "output_type": "display_data"
    }
   ],
   "source": [
    "display(Image(run_mummerplot(run_delta_filter(delta_DK0911_self_mm, **{'m':'-m'}), **{'c': '-c', 'r': '-r pcontig_000'}), width=1000, height=300))"
   ]
  },
  {
   "cell_type": "code",
   "execution_count": 131,
   "metadata": {},
   "outputs": [],
   "source": [
    "delta_filters = {'m':'-m'}\n",
    "delta_filters = {}\n",
    "show_coords_filter = {'l': '-l', 'r': '-r'}\n",
    "mummerplot_filter = {'c': '-c', 'r': '-r pcontig_000'}"
   ]
  },
  {
   "cell_type": "code",
   "execution_count": 146,
   "metadata": {},
   "outputs": [
    {
     "name": "stdout",
     "output_type": "stream",
     "text": [
      "Used following delta filter option: m -m\n",
      "\n",
      "Runnning now!\n",
      "\n",
      "delta-filter  -m /home/benjamin/genome_assembly/PST79/FALCON/p_assemblies/v9_1/Pst_104E_v12/Warrior_comp_runs/mummer_comp/output/DK_0911_v04_p_ctg.DK_0911_v04_h_ctg.l100.c500.mm.delta > /home/benjamin/genome_assembly/PST79/FALCON/p_assemblies/v9_1/Pst_104E_v12/Warrior_comp_runs/mummer_comp/output/DK_0911_v04_p_ctg.DK_0911_v04_h_ctg.l100.c500.mm.deltafilter_m\n",
      "Done with it!\n",
      "Used following mummerplot option: c -c\n",
      "Used following mummerplot option: r -r pcontig_000\n",
      "\n",
      "Runnning now!\n",
      "\n",
      "mummerplot  -c -r pcontig_000 -p DK_0911_v04_p_ctg.DK_0911_v04_h_ctg.l100.c500.mm.deltafilter_m --png /home/benjamin/genome_assembly/PST79/FALCON/p_assemblies/v9_1/Pst_104E_v12/Warrior_comp_runs/mummer_comp/output/DK_0911_v04_p_ctg.DK_0911_v04_h_ctg.l100.c500.mm.deltafilter_m\n",
      "Done with it!\n"
     ]
    },
    {
     "data": {
      "image/png": "[encoded data removed]",
      "text/plain": [
       "<IPython.core.display.Image object>"
      ]
     },
     "execution_count": 146,
     "metadata": {
      "image/png": {
       "height": 300,
       "width": 1000
      }
     },
     "output_type": "execute_result"
    }
   ],
   "source": [
    "Image(run_mummerplot(run_delta_filter(delta_DK0911_self_mm, **{'m':'-m'}), **{'c': '-c', 'r': '-r pcontig_000'}), width=1000, height=300)"
   ]
  },
  {
   "cell_type": "code",
   "execution_count": null,
   "metadata": {},
   "outputs": [],
   "source": [
    "Image(run_mummerplot(run_delta_filter(delta_DK0911_self_mm), **{'c': '-c', 'r': '-r pcontig_000'}))"
   ]
  },
  {
   "cell_type": "code",
   "execution_count": 120,
   "metadata": {},
   "outputs": [
    {
     "name": "stdout",
     "output_type": "stream",
     "text": [
      "Used following show-coords option: r -r\n",
      "Used following show-coords option: l -l\n",
      "\n",
      "Runnning now!\n",
      "\n",
      "show-coords -T  -r -l /home/benjamin/genome_assembly/PST79/FALCON/p_assemblies/v9_1/Pst_104E_v12/Warrior_comp_runs/mummer_comp/output/DK_0911_v04_p_ctg.DK_0911_v04_h_ctg.l100.c500.mm.deltafilter_m > /home/benjamin/genome_assembly/PST79/FALCON/p_assemblies/v9_1/Pst_104E_v12/Warrior_comp_runs/mummer_comp/output/DK_0911_v04_p_ctg.DK_0911_v04_h_ctg.l100.c500.mm_rl.coords\n",
      "\n",
      "Done\n",
      "With ouput:\n",
      "b''\n",
      "b''\n"
     ]
    }
   ],
   "source": [
    "showcoords = run_show_coords(delta_filter, **show_coords_filter)"
   ]
  },
  {
   "cell_type": "code",
   "execution_count": 133,
   "metadata": {},
   "outputs": [
    {
     "name": "stdout",
     "output_type": "stream",
     "text": [
      "Used following mummerplot option: c -c\n",
      "Used following mummerplot option: r -r pcontig_000\n",
      "\n",
      "Runnning now!\n",
      "\n",
      "mummerplot  -c -r pcontig_000 -p DK_0911_v04_p_ctg.DK_0911_v04_h_ctg.l100.c500.mm.deltafilter_ --png /home/benjamin/genome_assembly/PST79/FALCON/p_assemblies/v9_1/Pst_104E_v12/Warrior_comp_runs/mummer_comp/output/DK_0911_v04_p_ctg.DK_0911_v04_h_ctg.l100.c500.mm.deltafilter_\n",
      "\n",
      "Done\n",
      "With ouput:\n",
      "b'gnuplot 4.6 patchlevel 6\\nReading delta file /home/benjamin/genome_assembly/PST79/FALCON/p_assemblies/v9_1/Pst_104E_v12/Warrior_comp_runs/mummer_comp/output/DK_0911_v04_p_ctg.DK_0911_v04_h_ctg.l100.c500.mm.deltafilter_\\nWriting plot files DK_0911_v04_p_ctg.DK_0911_v04_h_ctg.l100.c500.mm.deltafilter_.fplot, DK_0911_v04_p_ctg.DK_0911_v04_h_ctg.l100.c500.mm.deltafilter_.rplot\\nWriting gnuplot script DK_0911_v04_p_ctg.DK_0911_v04_h_ctg.l100.c500.mm.deltafilter_.gp\\nRendering plot DK_0911_v04_p_ctg.DK_0911_v04_h_ctg.l100.c500.mm.deltafilter_.png\\n'\n",
      "b'gnuplot 4.6 patchlevel 6\\nReading delta file /home/benjamin/genome_assembly/PST79/FALCON/p_assemblies/v9_1/Pst_104E_v12/Warrior_comp_runs/mummer_comp/output/DK_0911_v04_p_ctg.DK_0911_v04_h_ctg.l100.c500.mm.deltafilter_\\nWriting plot files DK_0911_v04_p_ctg.DK_0911_v04_h_ctg.l100.c500.mm.deltafilter_.fplot, DK_0911_v04_p_ctg.DK_0911_v04_h_ctg.l100.c500.mm.deltafilter_.rplot\\nWriting gnuplot script DK_0911_v04_p_ctg.DK_0911_v04_h_ctg.l100.c500.mm.deltafilter_.gp\\nRendering plot DK_0911_v04_p_ctg.DK_0911_v04_h_ctg.l100.c500.mm.deltafilter_.png\\n'\n"
     ]
    }
   ],
   "source": [
    "mummer_plot = run_mummerplot(delta_filter, **mummerplot_filter)"
   ]
  },
  {
   "cell_type": "code",
   "execution_count": 134,
   "metadata": {},
   "outputs": [
    {
     "data": {
      "image/png": "[encoded data removed]",
      "text/plain": [
       "<IPython.core.display.Image object>"
      ]
     },
     "execution_count": 134,
     "metadata": {},
     "output_type": "execute_result"
    }
   ],
   "source": [
    "previous_dir = os.getcwd()\n",
    "os.chdir(OUTFOLDER)\n",
    "Image(mummer_plot)\n",
    "#os.chdir(previous_dir)"
   ]
  },
  {
   "cell_type": "code",
   "execution_count": null,
   "metadata": {},
   "outputs": [],
   "source": []
  }
 ],
 "metadata": {
  "kernelspec": {
   "display_name": "Python [default]",
   "language": "python",
   "name": "python3"
  },
  "language_info": {
   "codemirror_mode": {
    "name": "ipython",
    "version": 3
   },
   "file_extension": ".py",
   "mimetype": "text/x-python",
   "name": "python",
   "nbconvert_exporter": "python",
   "pygments_lexer": "ipython3",
   "version": "3.5.3"
  }
 },
 "nbformat": 4,
 "nbformat_minor": 2
}
