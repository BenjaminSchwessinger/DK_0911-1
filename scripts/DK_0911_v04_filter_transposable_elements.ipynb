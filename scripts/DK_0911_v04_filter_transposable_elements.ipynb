{
 "cells": [
  {
   "cell_type": "code",
   "execution_count": 1,
   "metadata": {},
   "outputs": [],
   "source": [
    "import pandas as pd\n",
    "import re\n",
    "import os"
   ]
  },
  {
   "cell_type": "code",
   "execution_count": 2,
   "metadata": {},
   "outputs": [],
   "source": [
    "BLAST_IN_FILE = '/home/gamran/genome_analysis/Warrior/blast_Repbase/DK_0911_v03_ph_ctg.RM407.blastp.out'\n",
    "TPSI_IN_FILE = '/home/gamran/genome_analysis/Warrior/Richard/transposonPSI/DK_0911_v03_ph_ctg.protein.fa.TPSI.topHits.onlyHits'\n",
    "\n",
    "v04_OUT_PATH = '/home/gamran/genome_analysis/Warrior/Richard/output/genome_v04/'\n",
    "GENOME_V03_PATH = '/home/gamran/genome_analysis/Warrior/Richard/output/genome_v03'\n",
    "H_CTG_GFF_PATH = os.path.join(GENOME_V03_PATH, 'DK_0911_v03_h_ctg.anno.gff3')\n",
    "P_CTG_GFF_PATH = os.path.join(GENOME_V03_PATH, 'DK_0911_v03_p_ctg.anno.gff3')"
   ]
  },
  {
   "cell_type": "code",
   "execution_count": 3,
   "metadata": {},
   "outputs": [],
   "source": [
    "blast_header = ['Query', 'Target', 'PctID', 'AlnLgth', 'NumMis', 'NumGap', 'StartQuery', 'StopQuery', 'StartTarget',\\\n",
    "              'StopTarget', 'e-value','BitScore']\n",
    "blast_df = pd.read_csv(BLAST_IN_FILE, sep='\\t', header=None, names=blast_header)\n",
    "blast_df = blast_df[blast_df['e-value'] < 1e-10]\n",
    "blast_df['contigLoc'] = blast_df['Query'].apply(lambda s: s.replace('evm.model.', ''))\n",
    "\n",
    "tpsi_df = pd.read_csv(TPSI_IN_FILE, sep='\\t', header=None)\n",
    "tpsi_df = tpsi_df[tpsi_df[19] < 10**-10]\n",
    "tpsi_df['contigLoc'] = tpsi_df[5].apply(lambda s: s.replace('evm.model.', ''))"
   ]
  },
  {
   "cell_type": "code",
   "execution_count": 4,
   "metadata": {},
   "outputs": [],
   "source": [
    "pCtg_gff_df = pd.read_table(P_CTG_GFF_PATH, header = None, index_col = None, \\\n",
    "                  names = ['seqid', 'source', 'type', 'start', 'end', 'score', 'strand', 'phase', 'attributes'])\n",
    "htg_gff_df = pd.read_table(H_CTG_GFF_PATH, header = None, index_col = None, \\\n",
    "                  names = ['seqid', 'source', 'type', 'start', 'end', 'score', 'strand', 'phase', 'attributes']) \n",
    "\n",
    "pCtg_gff_df.head()\n",
    "\n",
    "ID_SEARCH = re.compile(r'^.*ID=(.*?)(;|$)')\n",
    "P_CONTIG_LOC_SEARCH = re.compile(r'^.*\\.(pcontig_\\d{3}\\.\\d+)(?:\\.|$)')\n",
    "H_CONTIG_LOC_SEARCH = re.compile(r'^.*\\.((?:p|h)contig_\\d{3}(?:_\\d{3})?\\.\\d+)(?:\\.|$)')\n",
    "\n",
    "# P_CONTIG_LOC_SEARCH.match('cds.evm.model.pcontig_000.1').group(1) will yield 'pcontig_000.1'\n",
    "# H_CONTIG_LOC_SEARCH.match('evm.model.hcontig_006_028.2').group(1) will yield 'hcontig_006_028.2'\n",
    "\n",
    "pCtg_gff_df['contigID'] = pCtg_gff_df['attributes'].apply(lambda s: ID_SEARCH.match(s).group(1))\n",
    "pCtg_gff_df['contigLoc'] = pCtg_gff_df['contigID'].apply(lambda s: P_CONTIG_LOC_SEARCH.match(s).group(1))\n",
    "\n",
    "htg_gff_df['contigID'] = htg_gff_df['attributes'].apply(lambda s: ID_SEARCH.match(s).group(1))\n",
    "htg_gff_df['contigLoc'] = htg_gff_df['contigID'].apply(lambda s: H_CONTIG_LOC_SEARCH.match(s).group(1))"
   ]
  },
  {
   "cell_type": "code",
   "execution_count": 5,
   "metadata": {},
   "outputs": [
    {
     "name": "stderr",
     "output_type": "stream",
     "text": [
      "/home/gamran/anaconda3/lib/python3.5/site-packages/ipykernel/__main__.py:26: SettingWithCopyWarning: \n",
      "A value is trying to be set on a copy of a slice from a DataFrame.\n",
      "Try using .loc[row_indexer,col_indexer] = value instead\n",
      "\n",
      "See the caveats in the documentation: http://pandas.pydata.org/pandas-docs/stable/indexing.html#indexing-view-versus-copy\n",
      "/home/gamran/anaconda3/lib/python3.5/site-packages/ipykernel/__main__.py:34: SettingWithCopyWarning: \n",
      "A value is trying to be set on a copy of a slice from a DataFrame\n",
      "\n",
      "See the caveats in the documentation: http://pandas.pydata.org/pandas-docs/stable/indexing.html#indexing-view-versus-copy\n"
     ]
    },
    {
     "name": "stdout",
     "output_type": "stream",
     "text": [
      "Number of elements filtered out: 5344\n"
     ]
    },
    {
     "name": "stderr",
     "output_type": "stream",
     "text": [
      "/home/gamran/anaconda3/lib/python3.5/site-packages/ipykernel/__main__.py:35: SettingWithCopyWarning: \n",
      "A value is trying to be set on a copy of a slice from a DataFrame\n",
      "\n",
      "See the caveats in the documentation: http://pandas.pydata.org/pandas-docs/stable/indexing.html#indexing-view-versus-copy\n"
     ]
    }
   ],
   "source": [
    "## THIS PART OF THE CODE IS NOT RE-USABLE FOR FUTURE STRAINS.\n",
    "## however, the re-writing of this code should be straightforward to adapt to a blast database\n",
    "## with proper labelling.\n",
    "\n",
    "## Discovered bug due to incomplete renaming when re-assigning pwoh to htgs; changed seqid\n",
    "## but did not change attributes column. Thus, the ID tag of the attributes column was \n",
    "## still the same as the initial primary contigs (pcontig_xxx.x instead of hcontig_xxx_xxx.x)\n",
    "## blast dataframe was already generated with this incorrect labelling, so we filter based on\n",
    "## these incorrect labels, and then fix the labels after (below).\n",
    "\n",
    "filtered_htg_gff_df = htg_gff_df[(~htg_gff_df['contigLoc'].isin(blast_df['contigLoc'])) & (~htg_gff_df['contigLoc'].isin(tpsi_df['contigLoc']))]\n",
    "filtered_pCtg_gff_df = pCtg_gff_df[(~pCtg_gff_df['contigLoc'].isin(blast_df['contigLoc'])) & (~pCtg_gff_df['contigLoc'].isin(tpsi_df['contigLoc']))]\n",
    "\n",
    "# fix attributes column before writing to gff.\n",
    "def fixHtgAttributes(row):\n",
    "    attributes = row['attributes']\n",
    "    contigLoc = row['contigLoc']\n",
    "    seqid = row['seqid']\n",
    "    \n",
    "    numberSuffix = contigLoc.split('.')[-1]\n",
    "    if attributes.find('pcontig') == -1:\n",
    "        return attributes\n",
    "    return attributes.replace(contigLoc, '%s.%s' %(seqid, str(numberSuffix)))\n",
    "\n",
    "# fix attributes column (may not be required in future versions)\n",
    "filtered_htg_gff_df['attributes'] = filtered_htg_gff_df.apply(fixHtgAttributes, axis=1)\n",
    "\n",
    "# report how many elements were filtered\n",
    "sumBeforeFilter = htg_gff_df['contigLoc'].unique().size + pCtg_gff_df['contigLoc'].unique().size\n",
    "sumAfterFilter = filtered_htg_gff_df['contigLoc'].unique().size + filtered_pCtg_gff_df['contigLoc'].unique().size\n",
    "print(\"Number of elements filtered out: %s\" % (sumBeforeFilter - sumAfterFilter))\n",
    "\n",
    "# drop created columns\n",
    "filtered_htg_gff_df.drop(['contigID', 'contigLoc'], inplace=True, axis=1)\n",
    "filtered_pCtg_gff_df.drop(['contigID', 'contigLoc'], inplace=True, axis=1)\n",
    "\n",
    "filtered_htg_gff_df.to_csv(os.path.join(v04_OUT_PATH, 'DK_0911_v04_h_ctg.anno.gff3'), sep='\\t', header=None, index=None)\n",
    "filtered_pCtg_gff_df.to_csv(os.path.join(v04_OUT_PATH, 'DK_0911_v04_p_ctg.anno.gff3'), sep='\\t', header=None, index=None)"
   ]
  },
  {
   "cell_type": "code",
   "execution_count": 6,
   "metadata": {},
   "outputs": [
    {
     "name": "stdout",
     "output_type": "stream",
     "text": [
      "Number of unique TE hits found from BLAST (e < 1e-10): 5042\n",
      "Number of unique TE hits from TPSI (e < 1e-10): 3758\n",
      "Number of unique TE hits from BLAST or TPSI (e < 1e-10): 5344\n"
     ]
    }
   ],
   "source": [
    "print(\"Number of unique TE hits found from BLAST (e < 1e-10): %s\" % blast_df['Query'].unique().size)\n",
    "print(\"Number of unique TE hits from TPSI (e < 1e-10): %s\" % tpsi_df[5].unique().size)\n",
    "print(\"Number of unique TE hits from BLAST or TPSI (e < 1e-10): %s\" % pd.concat([tpsi_df[5], blast_df['Query']], axis=0).unique().size)"
   ]
  },
  {
   "cell_type": "code",
   "execution_count": null,
   "metadata": {},
   "outputs": [],
   "source": []
  }
 ],
 "metadata": {
  "anaconda-cloud": {},
  "kernelspec": {
   "display_name": "Python [default]",
   "language": "python",
   "name": "python3"
  },
  "language_info": {
   "codemirror_mode": {
    "name": "ipython",
    "version": 3
   },
   "file_extension": ".py",
   "mimetype": "text/x-python",
   "name": "python",
   "nbconvert_exporter": "python",
   "pygments_lexer": "ipython3",
   "version": "3.5.2"
  }
 },
 "nbformat": 4,
 "nbformat_minor": 1
}
