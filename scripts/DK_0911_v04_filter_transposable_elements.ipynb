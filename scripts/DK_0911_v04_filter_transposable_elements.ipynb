{
 "cells": [
  {
   "cell_type": "code",
   "execution_count": 1,
   "metadata": {},
   "outputs": [],
   "source": [
    "import pandas as pd\n",
    "import re\n",
    "import os"
   ]
  },
  {
   "cell_type": "code",
   "execution_count": 2,
   "metadata": {},
   "outputs": [],
   "source": [
    "BLAST_IN_FILE = '/home/gamran/genome_analysis/Warrior/blast_Repbase/DK_0911_v03_ph_ctg.RM407.blastp.out'\n",
    "\n",
    "v04_OUT_PATH = '/home/gamran/genome_analysis/Warrior/Richard/output/genome_v04/'\n",
    "v031_OUT_PATH = '/home/gamran/genome_analysis/Warrior/Richard/output/genome_v03.1/'\n",
    "GENOME_V03_PATH = '/home/gamran/genome_analysis/Warrior/Richard/output/genome_v03'\n",
    "H_CTG_GFF_PATH = os.path.join(GENOME_V03_PATH, 'DK_0911_v03_h_ctg.anno.gff3')\n",
    "P_CTG_GFF_PATH = os.path.join(GENOME_V03_PATH, 'DK_0911_v03_p_ctg.anno.gff3')\n",
    "\n",
    "blast_header = ['Query', 'Target', 'PctID', 'AlnLgth', 'NumMis', 'NumGap', 'StartQuery', 'StopQuery', 'StartTarget',\\\n",
    "              'StopTarget', 'e-value','BitScore']\n",
    "blast_df = pd.read_csv(BLAST_IN_FILE, sep='\\t', header=None, names=blast_header)"
   ]
  },
  {
   "cell_type": "code",
   "execution_count": 3,
   "metadata": {},
   "outputs": [],
   "source": [
    "blast_df = blast_df[blast_df['e-value'] <= 1e-10]\n",
    "blast_df['contigLoc'] = blast_df['Query'].apply(lambda s: s.replace('evm.model.', ''))"
   ]
  },
  {
   "cell_type": "code",
   "execution_count": 4,
   "metadata": {},
   "outputs": [],
   "source": [
    "pCtg_gff_df = pd.read_table(P_CTG_GFF_PATH, header = None, index_col = None, \\\n",
    "                  names = ['seqid', 'source', 'type', 'start', 'end', 'score', 'strand', 'phase', 'attributes'])\n",
    "htg_gff_df = pd.read_table(H_CTG_GFF_PATH, header = None, index_col = None, \\\n",
    "                  names = ['seqid', 'source', 'type', 'start', 'end', 'score', 'strand', 'phase', 'attributes']) \n",
    "\n",
    "pCtg_gff_df.head()\n",
    "\n",
    "ID_SEARCH = re.compile(r'^.*ID=(.*?)(;|$)')\n",
    "P_CONTIG_LOC_SEARCH = re.compile(r'^.*\\.(pcontig_\\d{3}\\.\\d+)(?:\\.|$)')\n",
    "H_CONTIG_LOC_SEARCH = re.compile(r'^.*\\.((?:p|h)contig_\\d{3}(?:_\\d{3})?\\.\\d+)(?:\\.|$)')\n",
    "\n",
    "# P_CONTIG_LOC_SEARCH.match('cds.evm.model.pcontig_000.1').group(1)\n",
    "# H_CONTIG_LOC_SEARCH.match('evm.model.hcontig_006_028.2').group(1)\n",
    "\n",
    "pCtg_gff_df['contigID'] = pCtg_gff_df['attributes'].apply(lambda s: ID_SEARCH.match(s).group(1))\n",
    "pCtg_gff_df['contigLoc'] = pCtg_gff_df['contigID'].apply(lambda s: P_CONTIG_LOC_SEARCH.match(s).group(1))\n",
    "\n",
    "htg_gff_df['contigID'] = htg_gff_df['attributes'].apply(lambda s: ID_SEARCH.match(s).group(1))\n",
    "htg_gff_df['contigLoc'] = htg_gff_df['contigID'].apply(lambda s: H_CONTIG_LOC_SEARCH.match(s).group(1))"
   ]
  },
  {
   "cell_type": "code",
   "execution_count": 5,
   "metadata": {},
   "outputs": [],
   "source": [
    "# Discovered bug due to incomplete renaming when re-assigning pwoh to htgs; changed seqid\n",
    "# but did not change attributes column. Thus, the ID tag of the attributes column was \n",
    "# still the same as the initial primary contigs (pcontig_xxx.x instead of hcontig_xxx_xxx.x)\n",
    "# blast dataframe was already generated with this incorrect labelling, so we filter based on\n",
    "# these incorrect labels, and then fix the labels after (in the cell below).\n",
    "\n",
    "filtered_htg_gff_df = htg_gff_df[(~htg_gff_df['contigLoc'].isin(blast_df['contigLoc']))]\n",
    "filtered_pCtg_gff_df = pCtg_gff_df[(~pCtg_gff_df['contigLoc'].isin(blast_df['contigLoc']))]"
   ]
  },
  {
   "cell_type": "code",
   "execution_count": 6,
   "metadata": {},
   "outputs": [
    {
     "name": "stderr",
     "output_type": "stream",
     "text": [
      "/home/gamran/anaconda3/lib/python3.5/site-packages/ipykernel/__main__.py:12: SettingWithCopyWarning: \n",
      "A value is trying to be set on a copy of a slice from a DataFrame.\n",
      "Try using .loc[row_indexer,col_indexer] = value instead\n",
      "\n",
      "See the caveats in the documentation: http://pandas.pydata.org/pandas-docs/stable/indexing.html#indexing-view-versus-copy\n",
      "/home/gamran/anaconda3/lib/python3.5/site-packages/ipykernel/__main__.py:13: SettingWithCopyWarning: \n",
      "A value is trying to be set on a copy of a slice from a DataFrame\n",
      "\n",
      "See the caveats in the documentation: http://pandas.pydata.org/pandas-docs/stable/indexing.html#indexing-view-versus-copy\n",
      "/home/gamran/anaconda3/lib/python3.5/site-packages/ipykernel/__main__.py:15: SettingWithCopyWarning: \n",
      "A value is trying to be set on a copy of a slice from a DataFrame\n",
      "\n",
      "See the caveats in the documentation: http://pandas.pydata.org/pandas-docs/stable/indexing.html#indexing-view-versus-copy\n"
     ]
    }
   ],
   "source": [
    "# fix attributes column before writing to gff.\n",
    "def fixHtgAttributes(row):\n",
    "    attributes = row['attributes']\n",
    "    contigLoc = row['contigLoc']\n",
    "    seqid = row['seqid']\n",
    "    \n",
    "    numberSuffix = contigLoc.split('.')[-1]\n",
    "    if attributes.find('pcontig') == -1:\n",
    "        return attributes\n",
    "    return attributes.replace(contigLoc, '%s.%s' %(seqid, str(numberSuffix)))\n",
    "\n",
    "filtered_htg_gff_df['attributes'] = filtered_htg_gff_df.apply(fixHtgAttributes, axis=1)\n",
    "filtered_htg_gff_df.drop(['contigID', 'contigLoc'], inplace=True, axis=1)\n",
    "\n",
    "filtered_pCtg_gff_df.drop(['contigID', 'contigLoc'], inplace=True, axis=1)\n",
    "\n",
    "filtered_htg_gff_df.to_csv(os.path.join(v04_OUT_PATH, 'DK_0911_v04_h_ctg.anno.gff3'), sep='\\t', header=None, index=None)\n",
    "filtered_pCtg_gff_df.to_csv(os.path.join(v04_OUT_PATH, 'DK_0911_v04_p_ctg.anno.gff3'), sep='\\t', header=None, index=None)"
   ]
  },
  {
   "cell_type": "code",
   "execution_count": 7,
   "metadata": {},
   "outputs": [],
   "source": [
    "# fix attributes column in genome v03, and re-write this as genome v03.1 \n",
    "htg_gff_df['attributes'] = htg_gff_df.apply(fixHtgAttributes, axis=1)\n",
    "htg_gff_df.drop(['contigID', 'contigLoc'], inplace=True, axis=1)\n",
    "pCtg_gff_df.drop(['contigID', 'contigLoc'], inplace=True, axis=1)\n",
    "\n",
    "htg_gff_df.to_csv(os.path.join(v031_OUT_PATH, 'DK_0911_v03.1_h_ctg.anno.gff3'), sep='\\t', header=None, index=None)\n",
    "pCtg_gff_df.to_csv(os.path.join(v031_OUT_PATH, 'DK_0911_v03.1_p_ctg.anno.gff3'), sep='\\t', header=None, index=None)"
   ]
  },
  {
   "cell_type": "code",
   "execution_count": null,
   "metadata": {},
   "outputs": [],
   "source": []
  }
 ],
 "metadata": {
  "anaconda-cloud": {},
  "kernelspec": {
   "display_name": "Python [default]",
   "language": "python",
   "name": "python3"
  },
  "language_info": {
   "codemirror_mode": {
    "name": "ipython",
    "version": 3
   },
   "file_extension": ".py",
   "mimetype": "text/x-python",
   "name": "python",
   "nbconvert_exporter": "python",
   "pygments_lexer": "ipython3",
   "version": "3.5.2"
  }
 },
 "nbformat": 4,
 "nbformat_minor": 1
}
