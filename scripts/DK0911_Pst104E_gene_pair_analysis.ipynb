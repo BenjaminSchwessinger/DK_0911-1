{
 "cells": [
  {
   "cell_type": "markdown",
   "metadata": {},
   "source": []
  },
  {
   "cell_type": "code",
   "execution_count": 1,
   "metadata": {
    "ExecuteTime": {
     "end_time": "2019-05-29T08:07:24.714119Z",
     "start_time": "2019-05-29T08:07:24.380322Z"
    },
    "collapsed": true
   },
   "outputs": [],
   "source": [
    "%matplotlib inline"
   ]
  },
  {
   "cell_type": "code",
   "execution_count": 2,
   "metadata": {
    "ExecuteTime": {
     "end_time": "2019-05-29T08:07:30.881275Z",
     "start_time": "2019-05-29T08:07:29.748460Z"
    },
    "collapsed": true
   },
   "outputs": [],
   "source": [
    "import pandas as pd\n",
    "import os\n",
    "import shutil\n",
    "from Bio import SeqIO\n",
    "from Bio import AlignIO\n",
    "import distance\n",
    "import editdistance\n",
    "import math\n",
    "import subprocess\n",
    "import numpy as np\n",
    "import re\n",
    "import seaborn as sns\n",
    "import matplotlib.pyplot as plt\n",
    "import matplotlib as mpl\n",
    "import collections\n",
    "import pybedtools\n",
    "from sklearn.externals.joblib import Parallel, delayed\n",
    "import itertools as it"
   ]
  },
  {
   "cell_type": "code",
   "execution_count": 7,
   "metadata": {
    "ExecuteTime": {
     "end_time": "2019-05-29T08:56:43.627368Z",
     "start_time": "2019-05-29T08:56:43.603358Z"
    }
   },
   "outputs": [],
   "source": [
    "PAML_PATH = '/home/benjamin/genome_assembly/Warrior/DK0911_v04/comp_orthology/paml'\n",
    "PROTEIN_DICT = {}\n",
    "CDS_DICT = {}\n",
    "PAIRING_DICT = {}\n",
    "PROTEIN_DICT['DK0911'] = os.path.join(PAML_PATH, 'DK_0911_v04LT_ph_ctg.protein.fa')\n",
    "PROTEIN_DICT['Pst104E'] = os.path.join(PAML_PATH, 'Pst_104E_v13_ph_ctg.protein.fa')\n",
    "CDS_DICT['DK0911'] = os.path.join(PAML_PATH, 'DK_0911_v04LT_ph_ctg.cds.fa')\n",
    "CDS_DICT['Pst104E'] = os.path.join(PAML_PATH, 'Pst_104E_v13_ph_ctg.cds.fa')\n",
    "PAIRING_DICT['DK0911'] = os.path.join(PAML_PATH, 'DK.combined.paring')\n",
    "PAIRING_DICT['Pst104E'] = os.path.join(PAML_PATH, 'PAu.combined.paring')\n",
    "\n",
    "genomes = ['DK0911', 'Pst104E']"
   ]
  },
  {
   "cell_type": "code",
   "execution_count": 8,
   "metadata": {
    "ExecuteTime": {
     "end_time": "2019-05-29T08:57:39.068002Z",
     "start_time": "2019-05-29T08:57:39.060159Z"
    },
    "collapsed": true
   },
   "outputs": [],
   "source": [
    "def getFastaDict(fastaFile):\n",
    "    d = {}\n",
    "    for gene in SeqIO.parse(fastaFile, 'fasta'):\n",
    "        d[gene.id] = gene\n",
    "    return d"
   ]
  },
  {
   "cell_type": "code",
   "execution_count": 6,
   "metadata": {
    "ExecuteTime": {
     "end_time": "2019-05-29T08:51:50.309234Z",
     "start_time": "2019-05-29T08:51:50.271041Z"
    }
   },
   "outputs": [],
   "source": [
    "def writeAllelicFasta(alleleOne, alleleTwo, alleleType, fa_dict, outPath):\n",
    "    '''writes fasta file containing fasta information for two alleles\n",
    "    in the outPath'''\n",
    "    assert(alleleType.upper() in ['CDS', 'GENE', 'PROTEIN'])\n",
    "    \n",
    "    alleleSeqRecords = []\n",
    "    alleleSeqRecords.append(fa_dict[alleleOne])\n",
    "    alleleSeqRecords.append(fa_dict[alleleTwo])\n",
    "    \n",
    "    with open(os.path.join(outPath, alleleType.lower() + '.fa'), 'w') as outFile:\n",
    "        SeqIO.write(alleleSeqRecords, outFile, 'fasta')\n",
    "    return True\n",
    "\n",
    "def writeAlignmentScript(alleleOutPath, scriptLoc):\n",
    "    with open(scriptLoc, 'a') as outFile:\n",
    "        print('cd %s' % alleleOutPath, file=outFile)\n",
    "        print('muscle -clwstrict -in protein.fa -out protein.aln', file=outFile)\n",
    "        print('perl /home/benjamin/anaconda3/orthologr/inst/pal2nal/pal2nal.v14/pal2nal.pl -output paml protein.aln cds.fa > cds_codon.aln', file=outFile)\n",
    "        print('perl /home/benjamin/anaconda3/orthologr/inst/pal2nal/pal2nal.v14/pal2nal.pl protein.aln cds.fa > cds_codon.clustal', file=outFile)\n",
    "        print('cp %s/yn00.ctl ./' % PAML_PATH, file=outFile)\n",
    "        print('yn00', file=outFile)\n",
    "    return True"
   ]
  },
  {
   "cell_type": "code",
   "execution_count": 15,
   "metadata": {
    "ExecuteTime": {
     "end_time": "2019-05-29T09:08:28.406328Z",
     "start_time": "2019-05-29T09:08:28.374513Z"
    }
   },
   "outputs": [],
   "source": [
    "def prepareAlignmentBashScript(pairing_fn, protein_dict, cds_dict, script_fn, OUT_PATH):\n",
    "    with open(script_fn, 'w') as pamlScript:\n",
    "        print('#!/bin/bash', file=pamlScript)\n",
    "    \n",
    "    df = pd.read_csv(pairing_fn, sep='\\t', header=None, names=['Query', 'Target'])\n",
    "    \n",
    "    for index, [Query, Target] in df.iloc[:, :2].iterrows():\n",
    "\n",
    "        alleleOutPath = os.path.join(OUT_PATH, '%s_%s' % (Query, Target))\n",
    "        if not os.path.exists(alleleOutPath):\n",
    "            os.mkdir(os.path.join(OUT_PATH, '%s_%s' % (Query, Target)))\n",
    "\n",
    "        writeAllelicFasta(Query, Target, 'CDS', cds_dict, alleleOutPath)\n",
    "        writeAllelicFasta(Query, Target, 'PROTEIN', protein_dict, alleleOutPath)\n",
    "\n",
    "        writeAlignmentScript(alleleOutPath, script_fn)\n",
    "    return True"
   ]
  },
  {
   "cell_type": "code",
   "execution_count": 9,
   "metadata": {
    "ExecuteTime": {
     "end_time": "2019-05-29T08:58:47.880297Z",
     "start_time": "2019-05-29T08:58:45.853894Z"
    },
    "collapsed": true
   },
   "outputs": [],
   "source": [
    "protein_dict = {}\n",
    "for genome in genomes:\n",
    "    protein_dict.update(getFastaDict(PROTEIN_DICT[genome]))"
   ]
  },
  {
   "cell_type": "code",
   "execution_count": 21,
   "metadata": {
    "ExecuteTime": {
     "end_time": "2019-05-29T09:11:43.379247Z",
     "start_time": "2019-05-29T09:11:41.247863Z"
    },
    "collapsed": true
   },
   "outputs": [],
   "source": [
    "cds_dict = {}\n",
    "for genome in genomes:\n",
    "    cds_dict.update(getFastaDict(CDS_DICT[genome]))"
   ]
  },
  {
   "cell_type": "code",
   "execution_count": 22,
   "metadata": {
    "ExecuteTime": {
     "end_time": "2019-05-29T09:12:28.492846Z",
     "start_time": "2019-05-29T09:11:47.120473Z"
    }
   },
   "outputs": [],
   "source": [
    "for genome in genomes:\n",
    "    BASE_OUT = os.path.join(PAML_PATH, genome)\n",
    "    if not os.path.exists(BASE_OUT):\n",
    "        os.makedirs(BASE_OUT)\n",
    "    paml_script_fn = os.path.join(BASE_OUT, 'paml_script.sh')\n",
    "    prepareAlignmentBashScript(PAIRING_DICT[genome], protein_dict, cds_dict, paml_script_fn, BASE_OUT)"
   ]
  },
  {
   "cell_type": "markdown",
   "metadata": {},
   "source": [
    "#### Execute both paml scripts on the command line"
   ]
  },
  {
   "cell_type": "code",
   "execution_count": null,
   "metadata": {
    "collapsed": true
   },
   "outputs": [],
   "source": []
  }
 ],
 "metadata": {
  "kernelspec": {
   "display_name": "Python [default]",
   "language": "python",
   "name": "python3"
  },
  "language_info": {
   "codemirror_mode": {
    "name": "ipython",
    "version": 3
   },
   "file_extension": ".py",
   "mimetype": "text/x-python",
   "name": "python",
   "nbconvert_exporter": "python",
   "pygments_lexer": "ipython3",
   "version": "3.5.4"
  },
  "toc": {
   "nav_menu": {},
   "number_sections": true,
   "sideBar": true,
   "skip_h1_title": false,
   "title_cell": "Table of Contents",
   "title_sidebar": "Contents",
   "toc_cell": false,
   "toc_position": {},
   "toc_section_display": true,
   "toc_window_display": false
  }
 },
 "nbformat": 4,
 "nbformat_minor": 2
}
