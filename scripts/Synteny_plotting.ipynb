{
 "cells": [
  {
   "cell_type": "code",
   "execution_count": 13,
   "metadata": {
    "ExecuteTime": {
     "end_time": "2019-02-15T05:03:53.609194Z",
     "start_time": "2019-02-15T05:03:53.586836Z"
    },
    "collapsed": true
   },
   "outputs": [],
   "source": [
    "%matplotlib inline"
   ]
  },
  {
   "cell_type": "code",
   "execution_count": 1,
   "metadata": {
    "ExecuteTime": {
     "end_time": "2019-02-15T04:54:59.993384Z",
     "start_time": "2019-02-15T04:54:56.800002Z"
    }
   },
   "outputs": [
    {
     "name": "stderr",
     "output_type": "stream",
     "text": [
      "/home/benjamin/anaconda3/lib/python3.5/site-packages/Bio/SearchIO/__init__.py:211: BiopythonExperimentalWarning: Bio.SearchIO is an experimental submodule which may undergo significant changes prior to its future official release.\n",
      "  BiopythonExperimentalWarning)\n"
     ]
    }
   ],
   "source": [
    "import pandas as pd\n",
    "import os\n",
    "import re\n",
    "from Bio import SeqIO\n",
    "from Bio import SeqUtils\n",
    "import pysam\n",
    "from Bio.SeqRecord import SeqRecord\n",
    "from pybedtools import BedTool\n",
    "import numpy as np\n",
    "import pybedtools\n",
    "import time\n",
    "import matplotlib.pyplot as plt\n",
    "import sys\n",
    "import subprocess\n",
    "import shutil\n",
    "from Bio.Seq import Seq\n",
    "import pysam\n",
    "from Bio import SearchIO\n",
    "import json\n",
    "import glob\n",
    "import scipy.stats as stats\n",
    "import statsmodels as sms\n",
    "import statsmodels.sandbox.stats.multicomp\n",
    "import distance\n",
    "import seaborn as sns\n",
    "from pybedtools import BedTool\n",
    "import matplotlib\n",
    "from sklearn.externals.joblib import Parallel, delayed\n",
    "import itertools as it\n",
    "import tempfile\n",
    "from scipy.signal import argrelextrema\n",
    "import scipy\n",
    "from IPython.display import Image\n",
    "from PIL import Image\n",
    "from collections import OrderedDict"
   ]
  },
  {
   "cell_type": "code",
   "execution_count": 2,
   "metadata": {
    "ExecuteTime": {
     "end_time": "2019-02-15T04:55:31.229271Z",
     "start_time": "2019-02-15T04:55:31.202948Z"
    },
    "collapsed": true
   },
   "outputs": [],
   "source": [
    "OUT_PATH = '/home/benjamin/genome_assembly/Warrior/DK0911_v04/comp_orthology/orthofinder/test_folder/'"
   ]
  },
  {
   "cell_type": "code",
   "execution_count": 80,
   "metadata": {
    "ExecuteTime": {
     "end_time": "2019-02-15T05:32:19.956141Z",
     "start_time": "2019-02-15T05:32:19.934462Z"
    },
    "collapsed": true
   },
   "outputs": [],
   "source": [
    "up_match_df = pd.read_csv(os.path.join(OUT_PATH, '14022019_up_match_df.csv'), index_col = 0)\n",
    "down_match_df = pd.read_csv(os.path.join(OUT_PATH, '14022019_down_match_df.csv'), index_col = 0)"
   ]
  },
  {
   "cell_type": "code",
   "execution_count": 81,
   "metadata": {
    "ExecuteTime": {
     "end_time": "2019-02-15T05:32:20.445176Z",
     "start_time": "2019-02-15T05:32:20.394401Z"
    }
   },
   "outputs": [
    {
     "data": {
      "text/html": [
       "<div>\n",
       "<style>\n",
       "    .dataframe thead tr:only-child th {\n",
       "        text-align: right;\n",
       "    }\n",
       "\n",
       "    .dataframe thead th {\n",
       "        text-align: left;\n",
       "    }\n",
       "\n",
       "    .dataframe tbody tr th {\n",
       "        vertical-align: top;\n",
       "    }\n",
       "</style>\n",
       "<table border=\"1\" class=\"dataframe\">\n",
       "  <thead>\n",
       "    <tr style=\"text-align: right;\">\n",
       "      <th></th>\n",
       "      <th>0</th>\n",
       "      <th>1</th>\n",
       "      <th>2</th>\n",
       "      <th>3</th>\n",
       "      <th>4</th>\n",
       "      <th>5</th>\n",
       "      <th>6</th>\n",
       "      <th>7</th>\n",
       "    </tr>\n",
       "  </thead>\n",
       "  <tbody>\n",
       "    <tr>\n",
       "      <th>Pst104E_00000</th>\n",
       "      <td>1.0</td>\n",
       "      <td>1.0</td>\n",
       "      <td>1.0</td>\n",
       "      <td>1.0</td>\n",
       "      <td>1.0</td>\n",
       "      <td>0.0</td>\n",
       "      <td>1.0</td>\n",
       "      <td>1.0</td>\n",
       "    </tr>\n",
       "    <tr>\n",
       "      <th>Pst104E_00001</th>\n",
       "      <td>1.0</td>\n",
       "      <td>1.0</td>\n",
       "      <td>1.0</td>\n",
       "      <td>1.0</td>\n",
       "      <td>0.0</td>\n",
       "      <td>1.0</td>\n",
       "      <td>1.0</td>\n",
       "      <td>1.0</td>\n",
       "    </tr>\n",
       "    <tr>\n",
       "      <th>Pst104E_00002</th>\n",
       "      <td>1.0</td>\n",
       "      <td>1.0</td>\n",
       "      <td>1.0</td>\n",
       "      <td>0.0</td>\n",
       "      <td>1.0</td>\n",
       "      <td>1.0</td>\n",
       "      <td>1.0</td>\n",
       "      <td>0.0</td>\n",
       "    </tr>\n",
       "    <tr>\n",
       "      <th>Pst104E_00003</th>\n",
       "      <td>1.0</td>\n",
       "      <td>1.0</td>\n",
       "      <td>0.0</td>\n",
       "      <td>1.0</td>\n",
       "      <td>1.0</td>\n",
       "      <td>1.0</td>\n",
       "      <td>0.0</td>\n",
       "      <td>0.0</td>\n",
       "    </tr>\n",
       "    <tr>\n",
       "      <th>Pst104E_00004</th>\n",
       "      <td>1.0</td>\n",
       "      <td>0.0</td>\n",
       "      <td>1.0</td>\n",
       "      <td>1.0</td>\n",
       "      <td>1.0</td>\n",
       "      <td>0.0</td>\n",
       "      <td>0.0</td>\n",
       "      <td>0.0</td>\n",
       "    </tr>\n",
       "  </tbody>\n",
       "</table>\n",
       "</div>"
      ],
      "text/plain": [
       "                 0    1    2    3    4    5    6    7\n",
       "Pst104E_00000  1.0  1.0  1.0  1.0  1.0  0.0  1.0  1.0\n",
       "Pst104E_00001  1.0  1.0  1.0  1.0  0.0  1.0  1.0  1.0\n",
       "Pst104E_00002  1.0  1.0  1.0  0.0  1.0  1.0  1.0  0.0\n",
       "Pst104E_00003  1.0  1.0  0.0  1.0  1.0  1.0  0.0  0.0\n",
       "Pst104E_00004  1.0  0.0  1.0  1.0  1.0  0.0  0.0  0.0"
      ]
     },
     "execution_count": 81,
     "metadata": {},
     "output_type": "execute_result"
    }
   ],
   "source": [
    "up_match_df.head()"
   ]
  },
  {
   "cell_type": "code",
   "execution_count": 82,
   "metadata": {
    "ExecuteTime": {
     "end_time": "2019-02-15T05:32:21.120107Z",
     "start_time": "2019-02-15T05:32:21.078633Z"
    }
   },
   "outputs": [
    {
     "data": {
      "text/html": [
       "<div>\n",
       "<style>\n",
       "    .dataframe thead tr:only-child th {\n",
       "        text-align: right;\n",
       "    }\n",
       "\n",
       "    .dataframe thead th {\n",
       "        text-align: left;\n",
       "    }\n",
       "\n",
       "    .dataframe tbody tr th {\n",
       "        vertical-align: top;\n",
       "    }\n",
       "</style>\n",
       "<table border=\"1\" class=\"dataframe\">\n",
       "  <thead>\n",
       "    <tr style=\"text-align: right;\">\n",
       "      <th></th>\n",
       "      <th>0</th>\n",
       "      <th>1</th>\n",
       "      <th>2</th>\n",
       "      <th>3</th>\n",
       "      <th>4</th>\n",
       "      <th>5</th>\n",
       "      <th>6</th>\n",
       "      <th>7</th>\n",
       "    </tr>\n",
       "  </thead>\n",
       "  <tbody>\n",
       "    <tr>\n",
       "      <th>Pst104E_00000</th>\n",
       "      <td>NaN</td>\n",
       "      <td>NaN</td>\n",
       "      <td>NaN</td>\n",
       "      <td>NaN</td>\n",
       "      <td>NaN</td>\n",
       "      <td>NaN</td>\n",
       "      <td>NaN</td>\n",
       "      <td>NaN</td>\n",
       "    </tr>\n",
       "    <tr>\n",
       "      <th>Pst104E_00001</th>\n",
       "      <td>1.0</td>\n",
       "      <td>NaN</td>\n",
       "      <td>NaN</td>\n",
       "      <td>NaN</td>\n",
       "      <td>NaN</td>\n",
       "      <td>NaN</td>\n",
       "      <td>NaN</td>\n",
       "      <td>NaN</td>\n",
       "    </tr>\n",
       "    <tr>\n",
       "      <th>Pst104E_00002</th>\n",
       "      <td>1.0</td>\n",
       "      <td>1.0</td>\n",
       "      <td>NaN</td>\n",
       "      <td>NaN</td>\n",
       "      <td>NaN</td>\n",
       "      <td>NaN</td>\n",
       "      <td>NaN</td>\n",
       "      <td>NaN</td>\n",
       "    </tr>\n",
       "    <tr>\n",
       "      <th>Pst104E_00003</th>\n",
       "      <td>1.0</td>\n",
       "      <td>1.0</td>\n",
       "      <td>1.0</td>\n",
       "      <td>NaN</td>\n",
       "      <td>NaN</td>\n",
       "      <td>NaN</td>\n",
       "      <td>NaN</td>\n",
       "      <td>NaN</td>\n",
       "    </tr>\n",
       "    <tr>\n",
       "      <th>Pst104E_00004</th>\n",
       "      <td>1.0</td>\n",
       "      <td>1.0</td>\n",
       "      <td>1.0</td>\n",
       "      <td>1.0</td>\n",
       "      <td>NaN</td>\n",
       "      <td>NaN</td>\n",
       "      <td>NaN</td>\n",
       "      <td>NaN</td>\n",
       "    </tr>\n",
       "  </tbody>\n",
       "</table>\n",
       "</div>"
      ],
      "text/plain": [
       "                 0    1    2    3   4   5   6   7\n",
       "Pst104E_00000  NaN  NaN  NaN  NaN NaN NaN NaN NaN\n",
       "Pst104E_00001  1.0  NaN  NaN  NaN NaN NaN NaN NaN\n",
       "Pst104E_00002  1.0  1.0  NaN  NaN NaN NaN NaN NaN\n",
       "Pst104E_00003  1.0  1.0  1.0  NaN NaN NaN NaN NaN\n",
       "Pst104E_00004  1.0  1.0  1.0  1.0 NaN NaN NaN NaN"
      ]
     },
     "execution_count": 82,
     "metadata": {},
     "output_type": "execute_result"
    }
   ],
   "source": [
    "down_match_df.head()"
   ]
  },
  {
   "cell_type": "code",
   "execution_count": 83,
   "metadata": {
    "ExecuteTime": {
     "end_time": "2019-02-15T05:32:23.113137Z",
     "start_time": "2019-02-15T05:32:23.098432Z"
    }
   },
   "outputs": [
    {
     "data": {
      "text/plain": [
       "Index(['Pst104E_00000', 'Pst104E_00007', 'Pst104E_00010', 'Pst104E_00018',\n",
       "       'Pst104E_00019', 'Pst104E_00024', 'Pst104E_00028', 'Pst104E_00032',\n",
       "       'Pst104E_00033', 'Pst104E_00040',\n",
       "       ...\n",
       "       'Pst104E_00980', 'Pst104E_00981', 'Pst104E_00983', 'Pst104E_00985',\n",
       "       'Pst104E_00989', 'Pst104E_00991', 'Pst104E_00994', 'Pst104E_00996',\n",
       "       'Pst104E_00997', 'Pst104E_00998'],\n",
       "      dtype='object', length=288)"
      ]
     },
     "execution_count": 83,
     "metadata": {},
     "output_type": "execute_result"
    }
   ],
   "source": [
    "down_match_df[down_match_df['0'] != 1].index #.apply(lambda x: len(x) == np.count_nonzero(np.isnan(x)), axis = 1).sum()"
   ]
  },
  {
   "cell_type": "code",
   "execution_count": 95,
   "metadata": {
    "ExecuteTime": {
     "end_time": "2019-02-15T05:34:27.613166Z",
     "start_time": "2019-02-15T05:34:27.592136Z"
    }
   },
   "outputs": [
    {
     "data": {
      "text/plain": [
       "True"
      ]
     },
     "execution_count": 95,
     "metadata": {},
     "output_type": "execute_result"
    }
   ],
   "source": [
    "down_match_df.shape[0] == up_match_df.shape[0]"
   ]
  },
  {
   "cell_type": "code",
   "execution_count": 96,
   "metadata": {
    "ExecuteTime": {
     "end_time": "2019-02-15T05:34:28.111703Z",
     "start_time": "2019-02-15T05:34:28.092123Z"
    }
   },
   "outputs": [
    {
     "data": {
      "text/plain": [
       "288"
      ]
     },
     "execution_count": 96,
     "metadata": {},
     "output_type": "execute_result"
    }
   ],
   "source": [
    "down_0_no_match.shape[0]"
   ]
  },
  {
   "cell_type": "code",
   "execution_count": 97,
   "metadata": {
    "ExecuteTime": {
     "end_time": "2019-02-15T05:34:28.599655Z",
     "start_time": "2019-02-15T05:34:28.582654Z"
    }
   },
   "outputs": [
    {
     "data": {
      "text/plain": [
       "830"
      ]
     },
     "execution_count": 97,
     "metadata": {},
     "output_type": "execute_result"
    }
   ],
   "source": [
    "both_0_no_match.sum()"
   ]
  },
  {
   "cell_type": "code",
   "execution_count": 101,
   "metadata": {
    "ExecuteTime": {
     "end_time": "2019-02-15T05:35:25.367900Z",
     "start_time": "2019-02-15T05:35:25.303021Z"
    }
   },
   "outputs": [],
   "source": [
    "up_hit_array = up_match_df.apply(lambda x: np.sum(x))\n",
    "up_possible_hit_array = up_match_df.apply(lambda x: np.count_nonzero(~np.isnan(x)))\n",
    "down_hit_array = down_match_df.apply(lambda x: np.sum(x))[::-1]\n",
    "down_possible_hit_array = down_match_df.apply(lambda x: np.count_nonzero(~np.isnan(x)))[::-1]\n",
    "x_axis_index = np.array(range(-(len(up_match_df.columns)),(len(up_match_df.columns)+1) ))\n",
    "\n",
    "\n",
    "up_0_no_match = up_match_df[up_match_df['0'] != 1].index\n",
    "down_0_no_match = down_match_df[down_match_df['0'] != 1].index\n",
    "both_0_match = np.array(down_match_df.shape[0] - sum(down_match_df.loc[up_0_no_match, '0'] != 1))\n",
    "y_axis_hit_array =  np.concatenate((down_hit_array, both_0_match, up_hit_array), axis=None)\n",
    "y_axis_possible_hit = np.concatenate((down_possible_hit_array, np.array(down_match_df.shape[0]),\\\n",
    "                                      up_possible_hit_array), axis= None)"
   ]
  },
  {
   "cell_type": "code",
   "execution_count": 102,
   "metadata": {
    "ExecuteTime": {
     "end_time": "2019-02-15T05:35:25.815897Z",
     "start_time": "2019-02-15T05:35:25.805106Z"
    }
   },
   "outputs": [
    {
     "data": {
      "text/plain": [
       "array([ 339.,  488.,  522.,  551.,  585.,  614.,  652.,  674.,  830.,\n",
       "        794.,  665.,  629.,  596.,  567.,  536.,  508.,  356.])"
      ]
     },
     "execution_count": 102,
     "metadata": {},
     "output_type": "execute_result"
    }
   ],
   "source": [
    "y_axis_hit_array"
   ]
  },
  {
   "cell_type": "code",
   "execution_count": 103,
   "metadata": {
    "ExecuteTime": {
     "end_time": "2019-02-15T05:35:26.545999Z",
     "start_time": "2019-02-15T05:35:26.535976Z"
    }
   },
   "outputs": [
    {
     "data": {
      "text/plain": [
       "array([793, 800, 805, 811, 818, 823, 829, 836, 962, 838, 835, 833, 828,\n",
       "       822, 819, 815, 810])"
      ]
     },
     "execution_count": 103,
     "metadata": {},
     "output_type": "execute_result"
    }
   ],
   "source": [
    "y_axis_possible_hit"
   ]
  },
  {
   "cell_type": "code",
   "execution_count": 105,
   "metadata": {
    "ExecuteTime": {
     "end_time": "2019-02-15T05:36:23.149198Z",
     "start_time": "2019-02-15T05:36:23.134709Z"
    }
   },
   "outputs": [
    {
     "data": {
      "text/plain": [
       "array([-8, -7, -6, -5, -4, -3, -2, -1,  0,  1,  2,  3,  4,  5,  6,  7,  8])"
      ]
     },
     "execution_count": 105,
     "metadata": {},
     "output_type": "execute_result"
    }
   ],
   "source": [
    "x_axis_index"
   ]
  },
  {
   "cell_type": "code",
   "execution_count": 129,
   "metadata": {
    "ExecuteTime": {
     "end_time": "2019-02-15T05:54:34.509226Z",
     "start_time": "2019-02-15T05:54:33.350558Z"
    }
   },
   "outputs": [
    {
     "data": {
      "text/plain": [
       "<matplotlib.text.Text at 0x7fb0320b3978>"
      ]
     },
     "execution_count": 129,
     "metadata": {},
     "output_type": "execute_result"
    },
    {
     "data": {
      "image/png": "[encoded data removed]",
      "text/plain": [
       "<matplotlib.figure.Figure at 0x7fb032078860>"
      ]
     },
     "metadata": {},
     "output_type": "display_data"
    }
   ],
   "source": [
    "fig, ax = plt.subplots(figsize=(12,12))\n",
    "\n",
    "ax.bar(x_axis_index, y_axis_possible_hit,width =1,\\\n",
    "       fill = False, edgecolor='r', linewidth = 2, label = 'Possible orthologs hits.')\n",
    "ax.bar(x_axis_index, y_axis_hit_array, width =1,fill = True, edgecolor='b',\\\n",
    "       alpha = 0.5, linewidth = 2, label = 'Observed orthologs hits.' )\n",
    "\n",
    "ax.set_xticks(x_axis_index)\n",
    "ax.tick_params(axis='both', which='major', labelsize=20)\n",
    "ax.legend(prop={'size': 15})\n",
    "ax.set_ylabel('Number of Genes', size=20)\n",
    "ax.set_xlabel('Relative Position', size=20)\n"
   ]
  },
  {
   "cell_type": "code",
   "execution_count": null,
   "metadata": {
    "collapsed": true
   },
   "outputs": [],
   "source": []
  }
 ],
 "metadata": {
  "kernelspec": {
   "display_name": "Python [default]",
   "language": "python",
   "name": "python3"
  },
  "language_info": {
   "codemirror_mode": {
    "name": "ipython",
    "version": 3
   },
   "file_extension": ".py",
   "mimetype": "text/x-python",
   "name": "python",
   "nbconvert_exporter": "python",
   "pygments_lexer": "ipython3",
   "version": "3.5.3"
  },
  "toc": {
   "nav_menu": {},
   "number_sections": true,
   "sideBar": true,
   "skip_h1_title": false,
   "title_cell": "Table of Contents",
   "title_sidebar": "Contents",
   "toc_cell": false,
   "toc_position": {},
   "toc_section_display": true,
   "toc_window_display": false
  }
 },
 "nbformat": 4,
 "nbformat_minor": 2
}
