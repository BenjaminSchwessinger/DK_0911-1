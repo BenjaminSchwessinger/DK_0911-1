{
 "cells": [
  {
   "cell_type": "raw",
   "metadata": {},
   "source": [
    "This notebook performs specific alignments on primary contigs and their associated haplotigs. Adapted from an original script by Benjamin Schwessinger."
   ]
  },
  {
   "cell_type": "code",
   "execution_count": 2,
   "metadata": {
    "collapsed": true
   },
   "outputs": [],
   "source": [
    "import os\n",
    "from Bio import SeqIO \n",
    "import shutil\n",
    "import subprocess"
   ]
  },
  {
   "cell_type": "code",
   "execution_count": 9,
   "metadata": {
    "collapsed": false
   },
   "outputs": [],
   "source": [
    "#Define the PATH for variable parameters\n",
    "BASE_AA_PATH = '/home/gamran/genome_analysis/Warrior/Richard/output/nucmer_assemblytics/'\n",
    "BASE_A_PATH = '/home/gamran/genome_analysis/Warrior/genome/'\n",
    "OUT_PATH_NUCMER = os.path.join(BASE_AA_PATH, 'nucmer_analysis/')\n",
    "OUT_PATH_ASSEMBLYTICS = os.path.join(BASE_AA_PATH, 'Assemblytics/')\n",
    "MUMMER_PATH_PREFIX = '/home/benjamin/anaconda3/bin/'\n",
    "ASSEMBLYTICS_PATH = '/home/benjamin/genome_assembly/PST79/FALCON/p_assemblies/v9_1/downstream_analysis_2017/scripts/Assemblytics'\n",
    "py2_env = 'py27' #python 2 environment in conda \n",
    "if not os.path.isdir(OUT_PATH_NUCMER):\n",
    "    os.mkdir(OUT_PATH_NUCMER)\n",
    "if not os.path.isdir(OUT_PATH_ASSEMBLYTICS):\n",
    "    os.mkdir(OUT_PATH_ASSEMBLYTICS)"
   ]
  },
  {
   "cell_type": "code",
   "execution_count": 4,
   "metadata": {
    "collapsed": true
   },
   "outputs": [],
   "source": [
    "#Define your p and h genome and move it into the allele analysis folder\n",
    "genome_prefix  = 'DK_0911_v03'\n",
    "p_genome = 'DK_0911_v03_p_ctg'\n",
    "h_genome = 'DK_0911_v03_h_ctg'\n",
    "genome_file_suffix = '.genome_file'\n",
    "for x in (x + '.fa' for x in [p_genome, h_genome]):\n",
    "    shutil.copy2(BASE_A_PATH + x, OUT_PATH_NUCMER)\n",
    "    shutil.copy2(BASE_A_PATH + x, OUT_PATH_ASSEMBLYTICS)"
   ]
  },
  {
   "cell_type": "code",
   "execution_count": 5,
   "metadata": {
    "code_folding": [],
    "collapsed": false
   },
   "outputs": [
    {
     "name": "stdout",
     "output_type": "stream",
     "text": [
      "DK_0911_v03_assemblytics.sh\n"
     ]
    }
   ],
   "source": [
    "#define the scripts to generate\n",
    "bash_script_q= genome_prefix+\"_ph_ctg_qmapping.sh\"\n",
    "bash_script_g=genome_prefix+\"_ph_ctg_gmapping.sh\"\n",
    "bash_script_nucmer_assemblytics = genome_prefix +\"_nucmer_assemblytics_mapping.sh\"\n",
    "bash_script_assemblytics = genome_prefix + '_assemblytics.sh'"
   ]
  },
  {
   "cell_type": "code",
   "execution_count": null,
   "metadata": {
    "collapsed": false
   },
   "outputs": [],
   "source": [
    "outfq = open(os.path.join(OUT_PATH_NUCMER, bash_script_q), 'w')\n",
    "outfq.write('#!/bin/bash\\n')\n",
    "outfg = open(os.path.join(OUT_PATH_NUCMER,bash_script_g), 'w')\n",
    "outfg.write('#!/bin/bash\\n')#parsing out P and corresponding h contigs and writing a short nucmer script that aligns them against each other\n",
    "outfna = open(os.path.join(OUT_PATH_ASSEMBLYTICS,bash_script_nucmer_assemblytics), 'w')\n",
    "outfna.write('#!/bin/bash\\n')\n",
    "\n",
    "for pseq_record in SeqIO.parse(OUT_PATH_ASSEMBLYTICS+'/'+genome_prefix+'_p_ctg.fa', 'fasta'):\n",
    "    p_acontigs = []\n",
    "    p_contig = pseq_record.id.split(\"_\")[0]+\"_\"+pseq_record.id.split(\"_\")[1]\n",
    "    suffix = genome_prefix+\"_\"+p_contig+\"_php\"\n",
    "    p_file = genome_prefix+\"_\"+p_contig+'.fa'\n",
    "    SeqIO.write(pseq_record, OUT_PATH_ASSEMBLYTICS+'/'+ p_file, 'fasta')\n",
    "    SeqIO.write(pseq_record,OUT_PATH_NUCMER+'/'+ p_file, 'fasta')\n",
    "    for aseq_record in SeqIO.parse(OUT_PATH_ASSEMBLYTICS+'/'+genome_prefix+'_h_ctg.fa', 'fasta'):\n",
    "        if aseq_record.id.split(\"_\")[1]  == pseq_record.id.split(\"_\")[1]:\n",
    "            p_acontigs.append(aseq_record)\n",
    "    a_file = genome_prefix +\"_\"+pseq_record.id.split(\"_\")[0]+\"_\"+pseq_record.id.split(\"_\")[1]+'_h_ctgs.fa'\n",
    "    #if we have alternative contigs save those too\n",
    "    if p_acontigs != []:\n",
    "        outfq.write('cd ' + OUT_PATH_NUCMER + '\\n')\n",
    "        SeqIO.write(p_acontigs, OUT_PATH_ASSEMBLYTICS+'/'+  a_file, 'fasta')\n",
    "        SeqIO.write(p_acontigs, OUT_PATH_NUCMER+'/'+  a_file, 'fasta')\n",
    "        outfq.write(MUMMER_PATH_PREFIX +'/nucmer '+p_file+' '+a_file+\" > \"+'out.delta\\n')\n",
    "        outfq.write(MUMMER_PATH_PREFIX +'/delta-filter -q '+'out.delta'+\" > \"+suffix+\"_qfiltered.delta\\n\")\n",
    "        outfq.write(MUMMER_PATH_PREFIX +'/show-coords -T '+suffix+\"_qfiltered.delta > \"+suffix+\".qcoords\\n\")\n",
    "        outfq.write(MUMMER_PATH_PREFIX +'/mummerplot -p '+suffix+'_qfiltered --png '+suffix+\"_qfiltered.delta\\n\")\n",
    "        outfq.write(MUMMER_PATH_PREFIX +'/mummerplot -c -p '+suffix+'_qfiltered_cov --png '+suffix+\"_qfiltered.delta\\n\")\n",
    "        #for g_file bash script\n",
    "        outfg.write('cd ' + OUT_PATH_NUCMER + '\\n')\n",
    "        outfg.write(MUMMER_PATH_PREFIX +'/nucmer '+p_file+' '+a_file+\" > \"+'out.delta\\n')\n",
    "        outfg.write(MUMMER_PATH_PREFIX +'/delta-filter -g '+'out.delta'+\" > \"+suffix+\"_gfiltered.delta\\n\")\n",
    "        outfg.write(MUMMER_PATH_PREFIX +'/show-coords -T '+suffix+\"_gfiltered.delta > \"+suffix+\".gcoords\\n\")\n",
    "        outfg.write(MUMMER_PATH_PREFIX +'/mummerplot -p '+suffix+'_gfiltered --png '+suffix+\"_gfiltered.delta\\n\")\n",
    "        outfg.write(MUMMER_PATH_PREFIX +'/mummerplot -c -p  '+suffix+'_gfiltered_cov --png '+suffix+\"_gfiltered.delta\\n\")\n",
    "        #for nucmer assemblytics out\n",
    "        outfna.write('cd ' + OUT_PATH_ASSEMBLYTICS + '\\n')\n",
    "        outfna.write(MUMMER_PATH_PREFIX +'/nucmer -maxmatch -l 100 -c 500 '+p_file+' '+a_file+' -prefix ' + suffix +'\\n')\n",
    "outfna.close()    \n",
    "outfq.close()\n",
    "outfg.close()  "
   ]
  },
  {
   "cell_type": "code",
   "execution_count": 6,
   "metadata": {
    "collapsed": false
   },
   "outputs": [],
   "source": [
    "#run the scripts and check if there are errors\n",
    "\n",
    "bash_script_q_stderr = subprocess.check_output('bash %s' %os.path.join(OUT_PATH_NUCMER, bash_script_q), shell=True, stderr=subprocess.STDOUT)\n",
    "bash_script_g_stderr = subprocess.check_output('bash %s' %os.path.join(OUT_PATH_NUCMER, bash_script_g), shell=True, stderr=subprocess.STDOUT)\n",
    "bash_script_assemblytics_stderr = subprocess.check_output('bash %s' %os.path.join(OUT_PATH_ASSEMBLYTICS, bash_script_nucmer_assemblytics), shell=True, stderr=subprocess.STDOUT)"
   ]
  },
  {
   "cell_type": "code",
   "execution_count": null,
   "metadata": {
    "collapsed": false
   },
   "outputs": [],
   "source": [
    "#write the Assemblytics script\n",
    "outfnarun = open(os.path.join(OUT_PATH_ASSEMBLYTICS, bash_script_assemblytics), 'w')\n",
    "outfnarun.write('#!/bin/bash\\n')\n",
    "delta_files = [x for x in os.listdir(OUT_PATH_ASSEMBLYTICS) if x.endswith('delta')]\n",
    "outfnarun.write('export PATH=\"%s\":$PATH\\n'% ASSEMBLYTICS_PATH)\n",
    "outfnarun.write('#Assemblytics delta_file output_prefix unique_anchor_length maximum_feature_length path_to_R_scripts\\n')\n",
    "outfnarun.write('source activate %s\\n' %py2_env)\n",
    "outfnarun.write('cd %s\\n' %OUT_PATH_ASSEMBLYTICS)\n",
    "# outfnarun.write('cd %s' % OUT_PATH_ASSEMBLYTICS)\n",
    "for delta in delta_files:\n",
    "    folder_name = OUT_PATH_ASSEMBLYTICS + delta[:-6] + '_8kbp'\n",
    "    output_prefix = delta[:-6] + '_8kbp_50kp'\n",
    "    outfnarun.write(\"mkdir %s\\ncp %s %s\\ncd %s\\n\" % (folder_name, delta, folder_name, folder_name))\n",
    "    outfnarun.write(\"Assemblytics %s %s 8000 50000 %s\\n\" % (delta, output_prefix, ASSEMBLYTICS_PATH) )\n",
    "    output_prefix = delta[:-6] + '_8kbp_10kp'\n",
    "    outfnarun.write(\"Assemblytics %s %s 8000 10000 %s\\ncd ..\\n\" % (delta, output_prefix, ASSEMBLYTICS_PATH) )\n",
    "\n",
    "outfnarun.write('source deactivate\\n')\n",
    "outfnarun.close()"
   ]
  },
  {
   "cell_type": "code",
   "execution_count": null,
   "metadata": {
    "collapsed": true
   },
   "outputs": [],
   "source": [
    "# DK_0911_v03_assemblytics.sh\n",
    "bash_script_assemblytics_stderr = subprocess.check_output('bash %s' %os.path.join(OUT_PATH_ASSEMBLYTICS, bash_script_assemblytics), shell=True, stderr=subprocess.STDOUT)\n"
   ]
  },
  {
   "cell_type": "markdown",
   "metadata": {},
   "source": []
  }
 ],
 "metadata": {
  "anaconda-cloud": {},
  "kernelspec": {
   "display_name": "Python [default]",
   "language": "python",
   "name": "python3"
  },
  "language_info": {
   "codemirror_mode": {
    "name": "ipython",
    "version": 3
   },
   "file_extension": ".py",
   "mimetype": "text/x-python",
   "name": "python",
   "nbconvert_exporter": "python",
   "pygments_lexer": "ipython3",
   "version": "3.5.2"
  }
 },
 "nbformat": 4,
 "nbformat_minor": 1
}
