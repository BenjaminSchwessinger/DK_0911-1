{
 "cells": [
  {
   "cell_type": "code",
   "execution_count": 16,
   "metadata": {
    "collapsed": false
   },
   "outputs": [
    {
     "name": "stdout",
     "output_type": "stream",
     "text": [
      "Total number of haplotigs: 1176\n",
      "Total haplotig length: 52126201\n",
      "Total number of primary contigs: 94\n",
      "Total primary contig length: 74427617\n"
     ]
    }
   ],
   "source": [
    "from Bio import SeqIO\n",
    "\n",
    "FILE_PATH = '/home/gamran/genome_analysis/Warrior/genome/'\n",
    "P_FILE_NAME = 'DK_0911_v03_p_ctg.fa'\n",
    "H_FILE_NAME = 'DK_0911_v03_h_ctg.fa'\n",
    "\n",
    "H_CTG_FILE_LOC = FILE_PATH + H_FILE_NAME\n",
    "P_CTG_FILE_LOC = FILE_PATH + P_FILE_NAME\n",
    "\n",
    "htgs = [h for h in SeqIO.parse(H_CTG_FILE_LOC, 'fasta')]\n",
    "pCtgs = [p for p in SeqIO.parse(P_CTG_FILE_LOC, 'fasta')]\n",
    "\n",
    "sumHtgs = 0\n",
    "sumPCtgs = 0\n",
    "for htg in htgs:\n",
    "    # print('ID: %s length %i' %(htg.id, len(htg.seq)))\n",
    "    sumHtgs += len(htg.seq)\n",
    "for pCtg in pCtgs:\n",
    "    # print('ID: %s length %i' %(pCtg.id, len(pCtg.seq)))\n",
    "    sumPCtgs += len(pCtg.seq)\n",
    "print('\\\n",
    "Total number of haplotigs: %i\\n\\\n",
    "Total haplotig length: %i\\n\\\n",
    "Total number of primary contigs: %i\\n\\\n",
    "Total primary contig length: %i'\\\n",
    "%(len(htgs), sumHtgs, len(pCtgs), sumPCtgs))"
   ]
  },
  {
   "cell_type": "code",
   "execution_count": null,
   "metadata": {
    "collapsed": true
   },
   "outputs": [],
   "source": []
  }
 ],
 "metadata": {
  "anaconda-cloud": {},
  "kernelspec": {
   "display_name": "Python [conda root]",
   "language": "python",
   "name": "conda-root-py"
  },
  "language_info": {
   "codemirror_mode": {
    "name": "ipython",
    "version": 3
   },
   "file_extension": ".py",
   "mimetype": "text/x-python",
   "name": "python",
   "nbconvert_exporter": "python",
   "pygments_lexer": "ipython3",
   "version": "3.5.2"
  }
 },
 "nbformat": 4,
 "nbformat_minor": 1
}
