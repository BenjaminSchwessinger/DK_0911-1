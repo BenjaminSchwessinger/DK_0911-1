{
 "cells": [
  {
   "cell_type": "code",
   "execution_count": 1,
   "metadata": {},
   "outputs": [
    {
     "ename": "Exception",
     "evalue": "Please define GENOME_VERSION in the local ipynb to use DK_0911_dictionaries.",
     "output_type": "error",
     "traceback": [
      "\u001b[0;31m---------------------------------------------------------------------------\u001b[0m",
      "\u001b[0;31mNameError\u001b[0m                                 Traceback (most recent call last)",
      "\u001b[0;32m<ipython-input-1-7834626e5bf8>\u001b[0m in \u001b[0;36m<module>\u001b[0;34m()\u001b[0m\n\u001b[1;32m      5\u001b[0m \u001b[0;32mtry\u001b[0m\u001b[0;34m:\u001b[0m\u001b[0;34m\u001b[0m\u001b[0m\n\u001b[0;32m----> 6\u001b[0;31m     \u001b[0mGENOME_VERSION\u001b[0m\u001b[0;34m\u001b[0m\u001b[0m\n\u001b[0m\u001b[1;32m      7\u001b[0m \u001b[0;32mexcept\u001b[0m \u001b[0mNameError\u001b[0m\u001b[0;34m:\u001b[0m\u001b[0;34m\u001b[0m\u001b[0m\n",
      "\u001b[0;31mNameError\u001b[0m: name 'GENOME_VERSION' is not defined",
      "\nDuring handling of the above exception, another exception occurred:\n",
      "\u001b[0;31mException\u001b[0m                                 Traceback (most recent call last)",
      "\u001b[0;32m<ipython-input-1-7834626e5bf8>\u001b[0m in \u001b[0;36m<module>\u001b[0;34m()\u001b[0m\n\u001b[1;32m      6\u001b[0m     \u001b[0mGENOME_VERSION\u001b[0m\u001b[0;34m\u001b[0m\u001b[0m\n\u001b[1;32m      7\u001b[0m \u001b[0;32mexcept\u001b[0m \u001b[0mNameError\u001b[0m\u001b[0;34m:\u001b[0m\u001b[0;34m\u001b[0m\u001b[0m\n\u001b[0;32m----> 8\u001b[0;31m     \u001b[0;32mraise\u001b[0m \u001b[0mException\u001b[0m\u001b[0;34m(\u001b[0m\u001b[0;34m'Please define GENOME_VERSION in the local ipynb to use DK_0911_dictionaries.'\u001b[0m\u001b[0;34m)\u001b[0m\u001b[0;34m\u001b[0m\u001b[0m\n\u001b[0m\u001b[1;32m      9\u001b[0m \u001b[0;34m\u001b[0m\u001b[0m\n\u001b[1;32m     10\u001b[0m \u001b[0mFILE_PATH\u001b[0m \u001b[0;34m=\u001b[0m \u001b[0;34m'/home/gamran/genome_analysis/Warrior/genome_%s/'\u001b[0m\u001b[0;34m\u001b[0m\u001b[0m\n",
      "\u001b[0;31mException\u001b[0m: Please define GENOME_VERSION in the local ipynb to use DK_0911_dictionaries."
     ]
    }
   ],
   "source": [
    "from Bio import SeqIO\n",
    "\n",
    "\n",
    "# IF NOT IMPORTING FROM ANOTHER IPYNB, SET GENOME_VERSION IN THIS NOTEBOOK\n",
    "try:\n",
    "    GENOME_VERSION\n",
    "except NameError:\n",
    "    raise Exception('Please define GENOME_VERSION in the local ipynb to use DK_0911_dictionaries.')\n",
    "\n",
    "FILE_PATH = '/home/gamran/genome_analysis/Warrior/Richard/output/genome_%s/' % GENOME_VERSION\n",
    "\n",
    "P_FILE_NAME = 'DK_0911_%s_p_ctg.fa' % GENOME_VERSION\n",
    "H_FILE_NAME = 'DK_0911_%s_h_ctg.fa' % GENOME_VERSION\n",
    "\n",
    "H_CTG_FILE_LOC = FILE_PATH + H_FILE_NAME\n",
    "P_CTG_FILE_LOC = FILE_PATH + P_FILE_NAME\n",
    "\n",
    "htgs = [h for h in SeqIO.parse(H_CTG_FILE_LOC, 'fasta')]\n",
    "pCtgs = [p for p in SeqIO.parse(P_CTG_FILE_LOC, 'fasta')]\n",
    "\n",
    "def getPCtgNum(ctg):\n",
    "    '''returns the primary contig number to which a haplotig or primary contig belongs,\n",
    "    e.g. hcontig_003_048 will return 003\n",
    "    e.g. pcontig_008 will return 008'''\n",
    "    return ctg[8:11]\n",
    "\n",
    "def getPairedContigs(pCtgs, htgs):\n",
    "    '''returns a tuple containing all [pwhs]\n",
    "    from a <SeqRecord> list of PCtgs and htgs.'''\n",
    "    \n",
    "    pwhs = []\n",
    "    pwohs = []\n",
    "    \n",
    "    l = []\n",
    "    for htg in htgs:\n",
    "        pCtgNum = getPCtgNum(htg.id)\n",
    "        if pCtgNum not in l:\n",
    "            l.append(pCtgNum)\n",
    "    \n",
    "    for pCtg in pCtgs:\n",
    "        if getPCtgNum(pCtg.id) in l:\n",
    "            pwhs.append(pCtg)\n",
    "            l.remove(getPCtgNum(pCtg.id))\n",
    "        else:\n",
    "            pwohs.append(pCtg)\n",
    "    return pwhs, pwohs\n",
    "\n",
    "pwhs, pwohs = getPairedContigs(pCtgs, htgs)\n",
    "\n",
    "sumHtgs = sum([len(htg.seq) for htg in htgs])\n",
    "sumPCtgs = sum([len(pCtg.seq) for pCtg in pCtgs])\n",
    "\n",
    "sumPwhs = sum([len(pwh.seq) for pwh in pwhs])\n",
    "sumPwohs = sum([len(pwoh.seq) for pwoh in pwohs])\n",
    "\n",
    "def getPwhSize():\n",
    "    return sumPwhs\n",
    "\n",
    "print('\\\n",
    "Total number of haplotigs: %i\\n\\\n",
    "Total haplotig length: %i\\n\\n\\\n",
    "Total number of primary contigs: %i\\n\\\n",
    "Total primary contig length: %i\\n\\n\\\n",
    "Total number of primary contigs with haplotigs: %i\\n\\\n",
    "Total primary contigs with haplotigs length: %i\\n\\n\\\n",
    "Total number of primary contigs without haplotigs: %i\\n\\\n",
    "Total primary contigs without haplotigs length: %i'\\\n",
    "\n",
    "%(len(htgs), sumHtgs, len(pCtgs), sumPCtgs, len(pwhs), sumPwhs, len(pwohs), sumPwohs))"
   ]
  },
  {
   "cell_type": "code",
   "execution_count": 2,
   "metadata": {},
   "outputs": [
    {
     "name": "stdout",
     "output_type": "stream",
     "text": [
      "1240505 1240505 75668122\r\n"
     ]
    }
   ],
   "source": [
    "# !grep -v '^>' {P_CTG_FILE_LOC} | wc"
   ]
  },
  {
   "cell_type": "code",
   "execution_count": 3,
   "metadata": {},
   "outputs": [
    {
     "name": "stdout",
     "output_type": "stream",
     "text": [
      " 869358  869358 52995559\r\n"
     ]
    }
   ],
   "source": [
    "# !grep -v '^>' {H_CTG_FILE_LOC} | wc"
   ]
  },
  {
   "cell_type": "code",
   "execution_count": null,
   "metadata": {
    "collapsed": true
   },
   "outputs": [],
   "source": []
  }
 ],
 "metadata": {
  "anaconda-cloud": {},
  "kernelspec": {
   "display_name": "Python [conda root]",
   "language": "python",
   "name": "conda-root-py"
  },
  "language_info": {
   "codemirror_mode": {
    "name": "ipython",
    "version": 3
   },
   "file_extension": ".py",
   "mimetype": "text/x-python",
   "name": "python",
   "nbconvert_exporter": "python",
   "pygments_lexer": "ipython3",
   "version": "3.5.2"
  }
 },
 "nbformat": 4,
 "nbformat_minor": 1
}
