{
 "cells": [
  {
   "cell_type": "code",
   "execution_count": 21,
   "metadata": {
    "collapsed": false
   },
   "outputs": [
    {
     "name": "stdout",
     "output_type": "stream",
     "text": [
      "Total number of haplotigs: 1176\n",
      "Total haplotig length: 52126201\n",
      "\n",
      "Total number of primary contigs: 94\n",
      "Total primary contig length: 74427617\n",
      "\n",
      "Total number of primary contigs with haplotigs: 86\n",
      "Total primary contigs with haplotigs length: 73945211\n",
      "\n",
      "Total number of primary contigs without haplotigs: 8\n",
      "Total primary contigs without haplotigs length: 482406\n"
     ]
    }
   ],
   "source": [
    "from Bio import SeqIO\n",
    "\n",
    "FILE_PATH = '/home/gamran/genome_analysis/Warrior/genome/'\n",
    "P_FILE_NAME = 'DK_0911_v03_p_ctg.fa'\n",
    "H_FILE_NAME = 'DK_0911_v03_h_ctg.fa'\n",
    "\n",
    "H_CTG_FILE_LOC = FILE_PATH + H_FILE_NAME\n",
    "P_CTG_FILE_LOC = FILE_PATH + P_FILE_NAME\n",
    "\n",
    "htgs = [h for h in SeqIO.parse(H_CTG_FILE_LOC, 'fasta')]\n",
    "pCtgs = [p for p in SeqIO.parse(P_CTG_FILE_LOC, 'fasta')]\n",
    "\n",
    "def getPCtgNum(ctg):\n",
    "    '''returns the primary contig number to which a haplotig or primary contig belongs,\n",
    "    e.g. hcontig_003_048 will return 003\n",
    "    e.g. pcontig_008 will return 008'''\n",
    "    return ctg[8:11]\n",
    "\n",
    "def getPairedContigs(pCtgs, htgs):\n",
    "    '''returns a tuple containing all [pwhs]\n",
    "    from a <SeqRecord> list of PCtgs and htgs.'''\n",
    "    \n",
    "    pwhs = []\n",
    "    pwohs = []\n",
    "    \n",
    "    l = []\n",
    "    for htg in htgs:\n",
    "        pCtgNum = getPCtgNum(htg.id)\n",
    "        if pCtgNum not in l:\n",
    "            l.append(pCtgNum)\n",
    "    \n",
    "    for pCtg in pCtgs:\n",
    "        if getPCtgNum(pCtg.id) in l:\n",
    "            pwhs.append(pCtg)\n",
    "            l.remove(getPCtgNum(pCtg.id))\n",
    "        else:\n",
    "            pwohs.append(pCtg)\n",
    "    return pwhs, pwohs\n",
    "\n",
    "pwhs, pwohs = getPairedContigs(pCtgs, htgs)\n",
    "\n",
    "sumHtgs = sum([len(htg.seq) for htg in htgs])\n",
    "sumPCtgs = sum([len(pCtg.seq) for pCtg in pCtgs])\n",
    "\n",
    "sumPwhs = sum([len(pwh.seq) for pwh in pwhs])\n",
    "sumPwohs = sum([len(pwoh.seq) for pwoh in pwohs])\n",
    "    \n",
    "print('\\\n",
    "Total number of haplotigs: %i\\n\\\n",
    "Total haplotig length: %i\\n\\n\\\n",
    "Total number of primary contigs: %i\\n\\\n",
    "Total primary contig length: %i\\n\\n\\\n",
    "Total number of primary contigs with haplotigs: %i\\n\\\n",
    "Total primary contigs with haplotigs length: %i\\n\\n\\\n",
    "Total number of primary contigs without haplotigs: %i\\n\\\n",
    "Total primary contigs without haplotigs length: %i'\\\n",
    "\n",
    "%(len(htgs), sumHtgs, len(pCtgs), sumPCtgs, len(pwhs), sumPwhs, len(pwohs), sumPwohs))"
   ]
  },
  {
   "cell_type": "code",
   "execution_count": 18,
   "metadata": {
    "collapsed": false
   },
   "outputs": [
    {
     "name": "stdout",
     "output_type": "stream",
     "text": [
      "1240505 1240505 75668122\r\n"
     ]
    }
   ],
   "source": [
    "!grep -v '^>' {P_CTG_FILE_LOC} | wc"
   ]
  },
  {
   "cell_type": "code",
   "execution_count": 19,
   "metadata": {
    "collapsed": false
   },
   "outputs": [
    {
     "name": "stdout",
     "output_type": "stream",
     "text": [
      " 869358  869358 52995559\r\n"
     ]
    }
   ],
   "source": [
    "!grep -v '^>' {H_CTG_FILE_LOC} | wc"
   ]
  },
  {
   "cell_type": "code",
   "execution_count": null,
   "metadata": {
    "collapsed": true
   },
   "outputs": [],
   "source": []
  }
 ],
 "metadata": {
  "anaconda-cloud": {},
  "kernelspec": {
   "display_name": "Python [conda root]",
   "language": "python",
   "name": "conda-root-py"
  },
  "language_info": {
   "codemirror_mode": {
    "name": "ipython",
    "version": 3
   },
   "file_extension": ".py",
   "mimetype": "text/x-python",
   "name": "python",
   "nbconvert_exporter": "python",
   "pygments_lexer": "ipython3",
   "version": "3.5.2"
  }
 },
 "nbformat": 4,
 "nbformat_minor": 1
}
