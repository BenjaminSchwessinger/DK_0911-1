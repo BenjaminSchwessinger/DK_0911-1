{
 "cells": [
  {
   "cell_type": "markdown",
   "metadata": {},
   "source": [
    "#### Presence absence analysis of the DK0911 genome based on orthology\n",
    "\n"
   ]
  },
  {
   "cell_type": "markdown",
   "metadata": {},
   "source": [
    "#### Usefull folders\n",
    "\n",
    "- Warrior TE analysis: /home/benjamin/genome_assembly/Warrior/TE_analysis\n",
    "- Pst_104_TE analysis: /home/benjamin/genome_assembly/PST79/FALCON/p_assemblies/v9_1/Pst_104E_v12/Warrior_comp_runs/REPET/TE_analysis\n",
    "- comparative coverage: /home/benjamin/genome_assembly/Warrior/TE_analysis\n"
   ]
  },
  {
   "cell_type": "markdown",
   "metadata": {},
   "source": [
    "## Start with filtering the mapping files at the appropriate level"
   ]
  },
  {
   "cell_type": "code",
   "execution_count": 1,
   "metadata": {
    "ExecuteTime": {
     "end_time": "2019-05-06T11:26:43.501805Z",
     "start_time": "2019-05-06T11:26:43.225364Z"
    },
    "collapsed": true
   },
   "outputs": [],
   "source": [
    "%matplotlib inline"
   ]
  },
  {
   "cell_type": "code",
   "execution_count": 2,
   "metadata": {
    "ExecuteTime": {
     "end_time": "2019-05-06T11:26:45.481540Z",
     "start_time": "2019-05-06T11:26:44.438983Z"
    },
    "collapsed": true
   },
   "outputs": [],
   "source": [
    "import os\n",
    "from pybedtools import BedTool\n",
    "import pandas as pd\n",
    "import scipy\n",
    "import pandas as pd\n",
    "import numpy as np # need for  stats\n",
    "import matplotlib.pyplot as plt\n",
    "import seaborn as sns\n",
    "import re\n",
    "from scipy.stats import mannwhitneyu\n",
    "from scipy.stats import fisher_exact\n",
    "from scipy.stats import spearmanr\n",
    "from scipy.stats import wilcoxon\n",
    "from scipy.stats import kruskal\n",
    "from statsmodels.stats.multitest import multipletests\n",
    "from seaborn import boxenplot\n",
    "import pybedtools"
   ]
  },
  {
   "cell_type": "code",
   "execution_count": 7,
   "metadata": {
    "ExecuteTime": {
     "end_time": "2019-05-06T11:36:35.198153Z",
     "start_time": "2019-05-06T11:36:35.186721Z"
    },
    "collapsed": true
   },
   "outputs": [],
   "source": [
    "DK0911_ortho_dir = '/home/benjamin/genome_assembly/Warrior/DK0911_v04/comp_orthology/orthofinder/DK0911_vs_Ps104E_v13/'\n",
    "Pst_104E_ortho_dir = '/home/benjamin/genome_assembly/Warrior/DK0911_v04/comp_orthology/orthofinder/Ps104E_v13_vs_DK0911/'\n",
    "DK0911_genome_file_fn = '/home/benjamin/genome_assembly/Warrior/genome_v04/DK_0911_v04_ph_ctg.genome_file'\n",
    "Pst_104E_genome_file_fn = \\\n",
    "'/home/benjamin/genome_assembly/PST79/FALCON/p_assemblies/v9_1/092017_assembly/Pst_104E_v13_ph_ctg.genome_file'\n",
    "OUT_dir = '/home/benjamin/genome_assembly/Warrior/DK0911_v04/comp_orthology/orthofinder/downstream_analysis/'"
   ]
  },
  {
   "cell_type": "markdown",
   "metadata": {
    "ExecuteTime": {
     "end_time": "2019-05-06T11:26:51.264463Z",
     "start_time": "2019-05-06T11:26:51.256515Z"
    },
    "collapsed": true
   },
   "source": [
    "* do simple checks if any of the genes is more likely to lack orthologs then others e.g. BUSCOS vs effectors and such\n",
    "* check if the missing orthologs overlap with other missing genes\n",
    "* pull in the Synet file for synteny and ask if effectors are in longer blogs or ask what is the speciatly of shorter blogs or now hits\n"
   ]
  },
  {
   "cell_type": "code",
   "execution_count": null,
   "metadata": {
    "collapsed": true
   },
   "outputs": [],
   "source": []
  },
  {
   "cell_type": "code",
   "execution_count": null,
   "metadata": {
    "collapsed": true
   },
   "outputs": [],
   "source": []
  },
  {
   "cell_type": "code",
   "execution_count": null,
   "metadata": {
    "collapsed": true
   },
   "outputs": [],
   "source": []
  },
  {
   "cell_type": "code",
   "execution_count": 5,
   "metadata": {
    "ExecuteTime": {
     "end_time": "2019-05-06T11:26:55.662648Z",
     "start_time": "2019-05-06T11:26:55.649459Z"
    },
    "collapsed": true
   },
   "outputs": [],
   "source": [
    "###all the bedfiles\n",
    "Pst_104E_annotation_dir = '/home/benjamin/genome_assembly/Warrior/DK0911_v04/comp_orthology/Pst104E_annotations/'\n",
    "Pst_104E_dict = {}\n",
    "Pst_104E_dict['Busco'] = os.path.join(Pst_104E_annotation_dir, 'Pst_104E_v13_ph_ctg.busco.gene.bed')\n",
    "Pst_104E_dict['All_genes'] = os.path.join(Pst_104E_annotation_dir, 'Pst_104E_v13_ph_ctg.genes.gene.bed')\n",
    "Pst_104E_dict['Secretome'] = os.path.join(Pst_104E_annotation_dir, 'Pst_104E_v13_ph_ctg.secretome.gene.bed')\n",
    "Pst_104E_dict['Ceffectors'] = os.path.join(Pst_104E_annotation_dir, 'Pst_104E_v13_ph_ctg.ceffectors.gene.bed')\n",
    "Pst_104E_dict['EffectorP'] = os.path.join(Pst_104E_annotation_dir, 'Pst_104E_v13_ph_ctg.effectorp.gene.bed')\n",
    "Pst_104E_dict['TE_superfamily'] = os.path.join(Pst_104E_annotation_dir, 'Pst_104E_v13_ph_ctg.104Ep_DK0911p.REPET.superfamily.gff')"
   ]
  },
  {
   "cell_type": "code",
   "execution_count": 6,
   "metadata": {
    "ExecuteTime": {
     "end_time": "2019-05-06T11:26:56.622280Z",
     "start_time": "2019-05-06T11:26:56.604068Z"
    },
    "collapsed": true
   },
   "outputs": [],
   "source": [
    "###all the bedfiles\n",
    "DK0911_annotation_dir = '/home/benjamin/genome_assembly/Warrior/DK0911_v04/comp_orthology/DK0911_annotations/'\n",
    "DK0911_dict = {}\n",
    "DK0911_dict['Busco'] = os.path.join(DK0911_annotation_dir, 'DK_0911_v04_ph_ctg.busco.gene.bed')\n",
    "DK0911_dict['All_genes'] = os.path.join(DK0911_annotation_dir, 'DK_0911_v04_ph_ctg.genes.gene.bed')\n",
    "DK0911_dict['Secretome'] = os.path.join(DK0911_annotation_dir, 'DK_0911_v04_ph_ctg.secretome.gene.bed')\n",
    "DK0911_dict['Ceffectors'] = os.path.join(DK0911_annotation_dir, 'DK_0911_v04_ph_ctg.effectorp20.gene.bed')\n",
    "DK0911_dict['EffectorP'] = os.path.join(DK0911_annotation_dir, 'DK_0911_v04_ph_ctg.effectorp20.gene.bed')\n",
    "DK0911_dict['TE_superfamily'] = os.path.join(DK0911_annotation_dir, 'DK_0911_v04_ph_ctg.104Ep_DK0911p.REPET.superfamily.gff')"
   ]
  },
  {
   "cell_type": "code",
   "execution_count": null,
   "metadata": {
    "collapsed": true
   },
   "outputs": [],
   "source": []
  },
  {
   "cell_type": "code",
   "execution_count": null,
   "metadata": {
    "collapsed": true
   },
   "outputs": [],
   "source": []
  },
  {
   "cell_type": "code",
   "execution_count": null,
   "metadata": {
    "collapsed": true
   },
   "outputs": [],
   "source": []
  },
  {
   "cell_type": "code",
   "execution_count": null,
   "metadata": {
    "collapsed": true
   },
   "outputs": [],
   "source": []
  },
  {
   "cell_type": "code",
   "execution_count": null,
   "metadata": {
    "collapsed": true
   },
   "outputs": [],
   "source": []
  },
  {
   "cell_type": "code",
   "execution_count": null,
   "metadata": {
    "collapsed": true
   },
   "outputs": [],
   "source": []
  },
  {
   "cell_type": "code",
   "execution_count": null,
   "metadata": {
    "collapsed": true
   },
   "outputs": [],
   "source": []
  },
  {
   "cell_type": "code",
   "execution_count": null,
   "metadata": {
    "collapsed": true
   },
   "outputs": [],
   "source": []
  },
  {
   "cell_type": "code",
   "execution_count": null,
   "metadata": {
    "collapsed": true
   },
   "outputs": [],
   "source": []
  },
  {
   "cell_type": "code",
   "execution_count": null,
   "metadata": {
    "collapsed": true
   },
   "outputs": [],
   "source": []
  },
  {
   "cell_type": "code",
   "execution_count": null,
   "metadata": {
    "collapsed": true
   },
   "outputs": [],
   "source": []
  },
  {
   "cell_type": "code",
   "execution_count": null,
   "metadata": {
    "ExecuteTime": {
     "end_time": "2019-05-06T11:20:42.519617Z",
     "start_time": "2019-05-06T11:20:42.499338Z"
    },
    "collapsed": true
   },
   "outputs": [],
   "source": [
    "def filter_bed(pairing):\n",
    "    \"\"\"Filter bedfiels by substracting one from the other and return resulting bed as dataframe.\n",
    "    Input: Tripled pairing of abs file path target, reference, ouf filename.\"\"\"\n",
    "    traget_bed_fn = pairing[0]\n",
    "    ref_bed_fn = pairing[1]\n",
    "    out_fn = pairing[2]\n",
    "    if not traget_bed_fn.split('.')[-1] == ref_bed_fn.split('.')[-1]:\n",
    "        print('oh no!')\n",
    "    traget_bed = BedTool(traget_bed_fn)\n",
    "    ref_bed = BedTool(ref_bed_fn)\n",
    "    filtered_bed = traget_bed.subtract(ref_bed).saveas(out_fn)\n",
    "    pybedtools.cleanup()\n",
    "    return filtered_bed.to_dataframe()"
   ]
  },
  {
   "cell_type": "code",
   "execution_count": null,
   "metadata": {
    "ExecuteTime": {
     "end_time": "2019-05-06T10:36:02.777978Z",
     "start_time": "2019-05-06T10:36:02.771375Z"
    },
    "collapsed": true
   },
   "outputs": [],
   "source": [
    "def non_covered_bases(df):\n",
    "    \"\"\"Calculate the coverage of a bed file provided as dataframe.\"\"\"\n",
    "    return sum(df['end'] - df['start'])"
   ]
  },
  {
   "cell_type": "code",
   "execution_count": null,
   "metadata": {
    "ExecuteTime": {
     "end_time": "2019-05-06T11:20:44.439005Z",
     "start_time": "2019-05-06T11:20:44.422286Z"
    },
    "collapsed": true
   },
   "outputs": [],
   "source": [
    "def randomize_bed(bed_in, genome_file_fn, out_dir, n=10):\n",
    "    \"\"\"Randomize a bedfile using shuffle of bedtools.\"\"\"\n",
    "    out_fn = os.path.join(out_dir, os.path.basename(bed_in).replace('.bed', '.random_%s.bed'))\n",
    "    bed = BedTool(bed_in)\n",
    "    for x in range(0, n):\n",
    "        bed.shuffle(g=genome_file_fn).saveas(out_fn % x)\n",
    "    pybedtools.cleanup()"
   ]
  },
  {
   "cell_type": "code",
   "execution_count": null,
   "metadata": {
    "ExecuteTime": {
     "end_time": "2019-05-06T11:20:47.954474Z",
     "start_time": "2019-05-06T11:20:47.946077Z"
    },
    "collapsed": true
   },
   "outputs": [],
   "source": [
    "def count_overlap_features(feature_bed, absence_bed, min_f_overlap):\n",
    "    \"\"\"Count the number of unqiue genes that intersect witht basence bedfile.\"\"\"\n",
    "    filtered_bed = BedTool(absence_bed)\n",
    "    target_bed = BedTool(feature_bed)\n",
    "    return target_bed.intersect(filtered_bed, f=min_f_overlap).to_dataframe().name.unique().shape[0]"
   ]
  },
  {
   "cell_type": "code",
   "execution_count": null,
   "metadata": {
    "ExecuteTime": {
     "end_time": "2019-05-06T11:20:45.840052Z",
     "start_time": "2019-05-06T11:20:45.798739Z"
    },
    "collapsed": true
   },
   "outputs": [],
   "source": [
    "def summary_dict_to_df(summary_dict, outer_index, inner_index):\n",
    "    \"\"\"Convert as summary dict with multiple keys and values of same length. To a multiindex dataframe.\"\"\"\n",
    "    assert(outer_index[0:int(len(outer_index)/2)] == outer_index[int(len(outer_index)/2):])\n",
    "    assert(inner_index[0:int(len(inner_index)/2)] == inner_index[int(len(inner_index)/2):])\n",
    "    df = pd.DataFrame.from_dict(summary_dict)\n",
    "    if any([x for x in outer_index if x.startswith('0')]):\n",
    "        df['Cut_off'] = [float(x.replace('0','.')) for x in outer_index[0:int(len(outer_index)/2)]]\n",
    "    else:\n",
    "        df['Cut_off'] = [float(x) for x in outer_index[0:int(len(outer_index)/2)]]\n",
    "    df['Type'] = inner_index[0:int(len(inner_index)/2)]\n",
    "    df.sort_values(['Cut_off', 'Type'], inplace = True)\n",
    "    index = pd.MultiIndex.from_tuples(list(zip(df['Cut_off'] , df['Type'])), names=['Cut-off', 'Type'])\n",
    "    df.index = index\n",
    "    return df.loc[:, df.columns[:2]].copy()"
   ]
  },
  {
   "cell_type": "code",
   "execution_count": null,
   "metadata": {
    "ExecuteTime": {
     "end_time": "2019-05-06T10:36:04.418854Z",
     "start_time": "2019-05-06T10:36:04.407714Z"
    },
    "collapsed": true
   },
   "outputs": [],
   "source": [
    "def get_TE_sf_df(fn):    \n",
    "    TE_header = ['Chrom', 'source', 'type', 'start', 'stop', 'score', 'strand', 'blank', 'superfamily']\n",
    "    TE_df = pd.read_csv(fn, sep='\\t', header = None, names=TE_header)\n",
    "    TE_df[\"interval\"] = TE_df.stop - TE_df.start + 1\n",
    "    TE_sf_cov_df= TE_df.groupby('superfamily')['interval'].sum()\n",
    "    return TE_sf_cov_df"
   ]
  },
  {
   "cell_type": "code",
   "execution_count": null,
   "metadata": {
    "ExecuteTime": {
     "end_time": "2019-05-06T11:20:53.850566Z",
     "start_time": "2019-05-06T11:20:53.841300Z"
    },
    "collapsed": true
   },
   "outputs": [],
   "source": [
    "def count_base_overlap_TE(feature_bed, absence_bed):\n",
    "    \"\"\"Count the number of basepair overlaps of a gff file with that intersect of \n",
    "    a basence bedfile.\n",
    "    Returns a series containing gff attributes as index and sum of missing bases as value.\"\"\"\n",
    "    filtered_bed = BedTool(absence_bed)\n",
    "    target_bed = BedTool(feature_bed)\n",
    "    overlap_df = target_bed.intersect(filtered_bed).to_dataframe()\n",
    "    overlap_df['interval'] = overlap_df.end - overlap_df.start + 1\n",
    "    overlap_sf_cov_df = overlap_df.groupby('attributes')['interval'].sum()\n",
    "    pybedtools.cleanup()\n",
    "    return overlap_sf_cov_df"
   ]
  },
  {
   "cell_type": "code",
   "execution_count": null,
   "metadata": {
    "ExecuteTime": {
     "end_time": "2019-05-06T10:36:05.587464Z",
     "start_time": "2019-05-06T10:36:05.495677Z"
    },
    "collapsed": true
   },
   "outputs": [],
   "source": [
    "def plot_TE_cov_expect(genome, TE_random_dict, color, out_fn):\n",
    "    TE_random_df = pd.concat(TE_random_dict, axis=1, sort=True)\n",
    "    TE_random_df.fillna(0, inplace=True)\n",
    "    rows = len(TE_random_df.index)//5\n",
    "    f1, ax = plt.subplots(rows, 5, figsize=(20, 30))\n",
    "\n",
    "\n",
    "    for key,y in zip(TE_random_df.index, product(range(0, rows), range(0,5))):\n",
    "        overlap = TE_sf_cov_dict[genome][key]\n",
    "        random_values = TE_random_df.loc[key,:]\n",
    "        count = 0 \n",
    "        for i in random_values:\n",
    "            if i > overlap:\n",
    "                count += 1\n",
    "        p = count/len(random_values)\n",
    "\n",
    "        two_side_p = 2*p\n",
    "\n",
    "        if two_side_p > 1:\n",
    "            two_side_p = round(2 - two_side_p, 3)\n",
    "        else:\n",
    "            two_side_p = round(two_side_p, 3)\n",
    "        sns.violinplot(y=random_values, color=pallete[1], ax=ax[y[0], y[1]])\n",
    "        ax[y[0], y[1]].axhline(y=overlap, color='r', linestyle='-')\n",
    "        ax[y[0], y[1]].set_title(key, fontsize=16)\n",
    "        ax[y[0], y[1]].set_yticklabels([])\n",
    "        ax[y[0], y[1]].set_ylabel('')\n",
    "        ax[y[0], y[1]].set_xlabel('p=' + str(two_side_p), fontsize=16)\n",
    "        ax[y[0] ,0].set_ylabel('Number of overlapping genes', fontsize=16)\n",
    "    plt.tight_layout()\n",
    "    plt.savefig(out_fn, dpi =300)\n",
    "    return f1"
   ]
  },
  {
   "cell_type": "code",
   "execution_count": null,
   "metadata": {
    "ExecuteTime": {
     "end_time": "2019-05-06T10:36:06.860920Z",
     "start_time": "2019-05-06T10:36:06.858119Z"
    },
    "collapsed": true
   },
   "outputs": [],
   "source": [
    "from itertools import product"
   ]
  },
  {
   "cell_type": "markdown",
   "metadata": {},
   "source": [
    "### Get some input values sorted"
   ]
  },
  {
   "cell_type": "code",
   "execution_count": null,
   "metadata": {
    "ExecuteTime": {
     "end_time": "2019-05-06T10:36:10.150119Z",
     "start_time": "2019-05-06T10:36:08.559206Z"
    },
    "collapsed": true
   },
   "outputs": [],
   "source": [
    "genome_size_dict = {}\n",
    "genome_size_dict['DK0911'] = pd.read_csv(DK0911_genome_file_fn, sep='\\t',header = None)[1].sum()\n",
    "genome_size_dict['Pst_104E'] = pd.read_csv(Pst_104E_genome_file_fn, sep='\\t',header = None)[1].sum()\n",
    "TE_sf_cov_dict = {}\n",
    "TE_sf_cov_dict['DK0911'] = get_TE_sf_df(DK0911_dict['TE_superfamily'])\n",
    "TE_sf_cov_dict['Pst_104E'] = get_TE_sf_df(Pst_104E_dict['TE_superfamily'])"
   ]
  },
  {
   "cell_type": "code",
   "execution_count": null,
   "metadata": {
    "collapsed": true
   },
   "outputs": [],
   "source": []
  },
  {
   "cell_type": "code",
   "execution_count": null,
   "metadata": {
    "collapsed": true
   },
   "outputs": [],
   "source": []
  },
  {
   "cell_type": "markdown",
   "metadata": {},
   "source": [
    "### This part looks at generating filtered bed files and random shuffled bed files for 0.3 cut-off\n",
    "\n",
    "The 0.3 coverage cut-off is choosen based on the DK0911 BUSCOs being pretty stable until this coverage cut-off."
   ]
  },
  {
   "cell_type": "code",
   "execution_count": null,
   "metadata": {
    "ExecuteTime": {
     "end_time": "2019-05-06T10:37:17.054643Z",
     "start_time": "2019-05-06T10:37:17.038929Z"
    },
    "collapsed": true
   },
   "outputs": [],
   "source": [
    "all_bed_fns = [os.path.join(SRM_cov_dir, x) for x in os.listdir(SRM_cov_dir) if x.endswith('bed') ] "
   ]
  },
  {
   "cell_type": "code",
   "execution_count": null,
   "metadata": {
    "ExecuteTime": {
     "end_time": "2019-05-06T10:37:19.656808Z",
     "start_time": "2019-05-06T10:37:19.638851Z"
    },
    "collapsed": true
   },
   "outputs": [],
   "source": [
    "references = [x for x in all_bed_fns if os.path.basename(x).startswith('DK_0911_v04_ph_ctg.bwamem.DK0911_gDNA.RG.')\\\n",
    "              or  os.path.basename(x).startswith('Pst_104E_v13_ph_ctg.bwamem.Pst79_folder5.')]\n",
    "references.sort()\n",
    "\n",
    "targets = [x for x in all_bed_fns if x not in references]\n",
    "targets.sort()\n",
    "\n",
    "out_fns = [os.path.join(SRM_cov_outdir, os.path.basename(x).replace('bed','.filtered.bed')) for x in targets]\n",
    "\n",
    "pairings = [x for x in zip(targets,references, out_fns)]"
   ]
  },
  {
   "cell_type": "code",
   "execution_count": null,
   "metadata": {
    "ExecuteTime": {
     "end_time": "2019-05-03T06:24:55.494368Z",
     "start_time": "2019-05-03T06:24:53.651866Z"
    },
    "collapsed": true
   },
   "outputs": [],
   "source": [
    "#filter the parings\n",
    "for pair in pairings:\n",
    "    filter_bed(pair)"
   ]
  },
  {
   "cell_type": "code",
   "execution_count": null,
   "metadata": {
    "ExecuteTime": {
     "end_time": "2019-05-03T06:24:55.515753Z",
     "start_time": "2019-05-03T06:24:55.510878Z"
    },
    "collapsed": true
   },
   "outputs": [],
   "source": [
    "print(\"This is the file that got randomized: %s\\n\\n\" % pairings[0][2])\n",
    "print(\"This is the file that got randomized: %s\\n\\n\" % pairings[-8][2])"
   ]
  },
  {
   "cell_type": "code",
   "execution_count": null,
   "metadata": {
    "ExecuteTime": {
     "end_time": "2019-05-03T06:32:14.995356Z",
     "start_time": "2019-05-03T06:25:01.978786Z"
    },
    "collapsed": true
   },
   "outputs": [],
   "source": [
    "#randomize the bedfiles of the lowcov targted. Yet first look at the results of fishers exact tests and\n",
    "#pick the appropriate coveraged cut off\n",
    "randomize_bed(pairings[-8][2], Pst_104E_genome_file_fn, SRM_cov_rand_outdir, n=5000)\n",
    "randomize_bed(pairings[0][2], DK0911_genome_file_fn, SRM_cov_rand_outdir, n=5000)"
   ]
  },
  {
   "cell_type": "markdown",
   "metadata": {},
   "source": [
    "### The next session compares the observed low coverage regions with different genes types in the two isolates\n",
    "First the results are saved in a dictionary and then converted to a multiindex dataframe"
   ]
  },
  {
   "cell_type": "code",
   "execution_count": null,
   "metadata": {
    "ExecuteTime": {
     "end_time": "2019-05-06T01:47:37.135411Z",
     "start_time": "2019-05-06T01:47:37.126130Z"
    },
    "collapsed": true
   },
   "outputs": [],
   "source": [
    "Pst_104E_dict.keys()"
   ]
  },
  {
   "cell_type": "code",
   "execution_count": null,
   "metadata": {
    "ExecuteTime": {
     "end_time": "2019-05-06T10:37:34.121962Z",
     "start_time": "2019-05-06T10:37:24.324658Z"
    },
    "collapsed": true
   },
   "outputs": [],
   "source": [
    "Fishers_summary_dict = {}\n",
    "Absence_summary_dict = {}\n",
    "outer_index = [] #being the cut off\n",
    "inner_index = [] #being the type of gene to look at\n",
    "Fishers_summary_dict['DK0911'] = []\n",
    "Fishers_summary_dict['Pst_104E'] = []\n",
    "Absence_summary_dict['DK0911'] = []\n",
    "Absence_summary_dict['Pst_104E'] = []\n",
    "min_overlap = 1\n",
    "keys = ['All_genes','Busco', 'Ceffectors',  'EffectorP',   'Secretome']\n",
    "#pair[2] is the filtered lowcov file as reference\n",
    "for pair in pairings:\n",
    "    if os.path.basename(pair[2]).startswith('DK_0911'):\n",
    "        expect_list = [count_overlap_features(DK0911_dict['All_genes'],pair[2],min_overlap) ,\\\n",
    "                       pd.read_csv(DK0911_dict['All_genes'], sep='\\t').shape[0]]\n",
    "        cut_off = os.path.basename(pair[2]).split('.')[-3].replace('lowcov', '')\n",
    "        for key in keys:\n",
    "            inner_index.append(key)\n",
    "            outer_index.append(cut_off)\n",
    "            test_list = [count_overlap_features(DK0911_dict[key],pair[2],min_overlap),\\\n",
    "                         pd.read_csv(DK0911_dict[key], sep='\\t').shape[0]]\n",
    "            Fishers_summary_dict['DK0911'].append(fisher_exact([test_list, expect_list])[1])\n",
    "            Absence_summary_dict['DK0911'].append(count_overlap_features(DK0911_dict[key],pair[2],min_overlap))\n",
    "    if os.path.basename(pair[2]).startswith('Pst_104E_v13_ph_ctg'):\n",
    "        expect_list = [count_overlap_features(Pst_104E_dict['All_genes'],pair[2],min_overlap) ,\\\n",
    "                       pd.read_csv(Pst_104E_dict['All_genes'], sep='\\t').shape[0]]\n",
    "        cut_off = os.path.basename(pair[2]).split('.')[-3].replace('lowcov', '')\n",
    "        for key in keys:\n",
    "            inner_index.append(key)\n",
    "            outer_index.append(cut_off)\n",
    "            test_list = [count_overlap_features(Pst_104E_dict[key],pair[2],min_overlap),\\\n",
    "                         pd.read_csv(Pst_104E_dict[key], sep='\\t').shape[0]]\n",
    "            Fishers_summary_dict['Pst_104E'].append(fisher_exact([test_list, expect_list])[1])\n",
    "            Absence_summary_dict['Pst_104E'].append(count_overlap_features(Pst_104E_dict[key],pair[2],min_overlap))"
   ]
  },
  {
   "cell_type": "code",
   "execution_count": null,
   "metadata": {
    "ExecuteTime": {
     "end_time": "2019-05-03T06:32:31.389246Z",
     "start_time": "2019-05-03T06:32:31.371301Z"
    },
    "collapsed": true
   },
   "outputs": [],
   "source": [
    "Fishers_df = summary_dict_to_df(Fishers_summary_dict, outer_index, inner_index)\n",
    "Absence_df = summary_dict_to_df(Absence_summary_dict, outer_index, inner_index)"
   ]
  },
  {
   "cell_type": "code",
   "execution_count": null,
   "metadata": {
    "ExecuteTime": {
     "end_time": "2019-05-03T06:32:31.412616Z",
     "start_time": "2019-05-03T06:32:31.390901Z"
    },
    "collapsed": true
   },
   "outputs": [],
   "source": [
    "out_fn = os.path.join(OUT_dir, 'Lowcov_fisher_mo%s_df.tsv' % min_overlap)\n",
    "Fishers_df.to_csv(out_fn, sep='\\t')\n",
    "Fishers_df"
   ]
  },
  {
   "cell_type": "code",
   "execution_count": null,
   "metadata": {
    "ExecuteTime": {
     "end_time": "2019-05-03T06:08:26.884158Z",
     "start_time": "2019-05-03T06:08:26.754991Z"
    },
    "collapsed": true
   },
   "outputs": [],
   "source": [
    "!wc -l {DK0911_dict['Secretome']}"
   ]
  },
  {
   "cell_type": "code",
   "execution_count": null,
   "metadata": {
    "ExecuteTime": {
     "end_time": "2019-05-03T06:32:31.432925Z",
     "start_time": "2019-05-03T06:32:31.414403Z"
    },
    "collapsed": true
   },
   "outputs": [],
   "source": [
    "out_fn = os.path.join(OUT_dir, 'Lowcov_absence_mo%s_df.tsv' % min_overlap)\n",
    "Absence_df.to_csv(out_fn, sep='\\t')\n",
    "Absence_df"
   ]
  },
  {
   "cell_type": "markdown",
   "metadata": {},
   "source": [
    "### Look over the different filtered lowcov regions and caculate the amount of uncovered bases"
   ]
  },
  {
   "cell_type": "code",
   "execution_count": null,
   "metadata": {
    "ExecuteTime": {
     "start_time": "2019-05-03T06:25:11.761Z"
    },
    "collapsed": true
   },
   "outputs": [],
   "source": [
    "#loop over the different lowcoverage file, filter them and count the total bases of lowcoverage\n",
    "summary_dict = {}\n",
    "summary_dict['DK0911'] = []\n",
    "summary_dict['Pst_104E'] = []\n",
    "index = []\n",
    "for pair in pairings:\n",
    "    non_cov_bases = non_covered_bases(filter_bed(pair))\n",
    "    cut_off = pair[2].split('.')[-3].replace('lowcov','')\n",
    "    index.append(cut_off)\n",
    "    if pair[2].split('.')[2].startswith('Pst79_'):\n",
    "        summary_dict['DK0911'].append(non_cov_bases)\n",
    "    elif pair[2].split('.')[2].startswith('DK0911_'):\n",
    "        summary_dict['Pst_104E'].append(non_cov_bases)\n",
    "\n",
    "length = len(index) \n",
    "index[0:int(length/2)] == index[int(length/2):]\n",
    "df = pd.DataFrame.from_dict(summary_dict)\n",
    "df.index = [float(x.replace('0','.')) for x in index[0:int(length/2)]]\n",
    "df.sort_index(inplace=True)\n",
    "#check on Pst_104E mapping on DK0911\n",
    "out_fn = os.path.join(OUT_dir, 'Lowcov_missing_bases_df.tsv')\n",
    "df.to_csv(out_fn, sep='\\t')\n",
    "df"
   ]
  },
  {
   "cell_type": "markdown",
   "metadata": {},
   "source": [
    "### Now look do the permutation tests at the 0.3 lowcov value for all gene groups in both isolates"
   ]
  },
  {
   "cell_type": "code",
   "execution_count": null,
   "metadata": {
    "ExecuteTime": {
     "end_time": "2019-05-06T10:37:40.635598Z",
     "start_time": "2019-05-06T10:37:40.629951Z"
    },
    "collapsed": true
   },
   "outputs": [],
   "source": [
    "Pst_random_dict_lowcov = {}\n",
    "DK0911_random_dict_lowcov = {}"
   ]
  },
  {
   "cell_type": "code",
   "execution_count": null,
   "metadata": {
    "ExecuteTime": {
     "end_time": "2019-05-06T10:36:57.926659Z",
     "start_time": "2019-05-06T10:36:57.819943Z"
    }
   },
   "outputs": [],
   "source": [
    "#loop over all gene files\n",
    "#for each gene file do the whole permuation test and safe it as part of a dictionary\n",
    "Pst_104E_random_fn_lowcov = [os.path.join(SRM_cov_rand_outdir, x) for x in os.listdir(SRM_cov_rand_outdir) if x.startswith('Pst')]\n",
    "Pst_104E_random_fn_lowcov.sort()\n",
    "DK0911_random_fn_lowcov = [os.path.join(SRM_cov_rand_outdir, x) for x in os.listdir(SRM_cov_rand_outdir) if x.startswith('DK')]\n",
    "DK0911_random_fn_lowcov.sort()\n",
    "Pst_random_dict_lowcov = {}\n",
    "DK0911_random_dict_lowcov = {}\n",
    "\n",
    "min_overlap = 1.0\n",
    "for key in keys:\n",
    "    Pst_random_dict_lowcov[key] = []\n",
    "    for rand_fn in Pst_104E_random_fn_lowcov:\n",
    "        Pst_random_dict_lowcov[key].append(count_overlap_features(Pst_104E_dict[key], rand_fn, min_overlap))\n",
    "    DK0911_random_dict_lowcov[key] = []\n",
    "    for rand_fn in DK0911_random_fn_lowcov:\n",
    "        DK0911_random_dict_lowcov[key].append(count_overlap_features(DK0911_dict[key], rand_fn, min_overlap))"
   ]
  },
  {
   "cell_type": "code",
   "execution_count": null,
   "metadata": {
    "ExecuteTime": {
     "end_time": "2019-05-06T03:48:52.003174Z",
     "start_time": "2019-05-06T03:48:41.776681Z"
    },
    "collapsed": true
   },
   "outputs": [],
   "source": [
    "pallete = [sns.color_palette('colorblind')[x] for x in [0,1]]\n",
    "reference_bed_fn = pairings[-8][2]\n",
    "columns = len(keys)\n",
    "f1, ax = plt.subplots(1, columns, figsize=(20, 4))\n",
    "\n",
    "\n",
    "for n, key in enumerate(keys):\n",
    "    overlap = count_overlap_features(Pst_104E_dict[key],reference_bed_fn, min_overlap)\n",
    "    random_values = Pst_random_dict_lowcov[key]\n",
    "    count = 0 \n",
    "    for i in random_values:\n",
    "        if i > overlap:\n",
    "            count += 1\n",
    "    p = count/len(random_values)\n",
    "    \n",
    "    two_side_p = 2*p\n",
    "    \n",
    "    if two_side_p > 1:\n",
    "        two_side_p = round(2 - two_side_p, 3)\n",
    "    sns.violinplot(y=random_values, color=pallete[0], ax=ax[n])\n",
    "    ax[n].axhline(y=overlap, color='r', linestyle='-')\n",
    "    ax[n].set_title(key, fontsize=16)\n",
    "    ax[n].set_xlabel('p=' + str(two_side_p), fontsize=16)\n",
    "    ax[0].set_ylabel('Number of overlapping genes', fontsize=16)\n",
    "    out_fn = os.path.join(OUT_dir, 'Pst104E_noncovered_%s_lowcov01_mo%s.facett.png' % (key,min_overlap))\n",
    "    plt.savefig(out_fn, dpi =300) "
   ]
  },
  {
   "cell_type": "code",
   "execution_count": null,
   "metadata": {
    "ExecuteTime": {
     "end_time": "2019-05-05T23:45:12.874004Z",
     "start_time": "2019-05-05T23:45:08.146870Z"
    },
    "collapsed": true
   },
   "outputs": [],
   "source": [
    "\n",
    "for key in keys:\n",
    "    overlap = count_overlap_features(Pst_104E_dict[key],reference_bed_fn, min_overlap)\n",
    "    random_values = Pst_random_dict_lowcov[key]\n",
    "\n",
    "    count = 0 \n",
    "    for i in random_values:\n",
    "        if i > overlap:\n",
    "            count += 1\n",
    "    p = count/len(random_values)\n",
    "    \n",
    "    two_side_p = 2*p\n",
    "    \n",
    "    if two_side_p > 1:\n",
    "        two_side_p = round(2 - two_side_p, 3)\n",
    "\n",
    "\n",
    "    f, ax = plt.subplots(figsize=(4, 7))\n",
    "    plt.style.use('fast')\n",
    "    sns.violinplot(y=random_values, color=pallete[0])\n",
    "    plt.axhline(y=overlap, color='r', linestyle='-')\n",
    "    plt.title(key, fontsize=16)\n",
    "    plt.ylabel('Number of overlapping genes', fontsize=16)\n",
    "    plt.xlabel('p=' + str(two_side_p), fontsize=16)\n",
    "    plt.rc('xtick', labelsize=16)\n",
    "    plt.rc('ytick', labelsize=16)\n",
    "    out_fn = os.path.join(OUT_dir, 'Pst104E_noncovered_%s_lowcov01_mo%s.png' % (key,min_overlap))\n",
    "    plt.savefig(out_fn, dpi =300)"
   ]
  },
  {
   "cell_type": "code",
   "execution_count": null,
   "metadata": {
    "ExecuteTime": {
     "end_time": "2019-05-06T03:46:02.794087Z",
     "start_time": "2019-05-06T03:45:52.476655Z"
    },
    "collapsed": true
   },
   "outputs": [],
   "source": [
    "reference_bed_fn = pairings[0][2]\n",
    "columns = len(keys)\n",
    "f1, ax = plt.subplots(1, columns, figsize=(20, 4))\n",
    "\n",
    "\n",
    "for n, key in enumerate(keys):\n",
    "    overlap = count_overlap_features(DK0911_dict[key],reference_bed_fn, min_overlap)\n",
    "    random_values = DK0911_random_dict_lowcov[key]\n",
    "    count = 0 \n",
    "    for i in random_values:\n",
    "        if i > overlap:\n",
    "            count += 1\n",
    "    p = count/len(random_values)\n",
    "    \n",
    "    two_side_p = 2*p\n",
    "    \n",
    "    if two_side_p > 1:\n",
    "        two_side_p = round(2 - two_side_p, 3)\n",
    "    sns.violinplot(y=random_values, color=pallete[1], ax=ax[n])\n",
    "    ax[n].axhline(y=overlap, color='r', linestyle='-')\n",
    "    ax[n].set_title(key, fontsize=16)\n",
    "    ax[n].set_xlabel('p=' + str(two_side_p), fontsize=16)\n",
    "    ax[0].set_ylabel('Number of overlapping genes', fontsize=16)\n",
    "    out_fn = os.path.join(OUT_dir, 'DK0911_noncovered_%s_lowcov01_mo%s.facett.png' % (key,min_overlap))\n",
    "    plt.savefig(out_fn, dpi =300) "
   ]
  },
  {
   "cell_type": "code",
   "execution_count": null,
   "metadata": {
    "ExecuteTime": {
     "end_time": "2019-05-05T23:45:31.172962Z",
     "start_time": "2019-05-05T23:45:26.571259Z"
    },
    "collapsed": true
   },
   "outputs": [],
   "source": [
    "reference_bed_fn = pairings[0][2]\n",
    "for key in keys:\n",
    "    overlap = count_overlap_features(DK0911_dict[key],reference_bed_fn, min_overlap)\n",
    "    random_values = DK0911_random_dict_lowcov[key]\n",
    "\n",
    "    count = 0 \n",
    "    for i in random_values:\n",
    "        if i > overlap:\n",
    "            count += 1\n",
    "    p = count/len(random_values)\n",
    "    \n",
    "    two_side_p = 2*p\n",
    "    \n",
    "    if two_side_p > 1:\n",
    "        two_side_p = round(2 - two_side_p, 3)\n",
    "\n",
    "\n",
    "\n",
    "    f, ax = plt.subplots(figsize=(4, 7))\n",
    "    plt.style.use('fast')\n",
    "    sns.violinplot(y=random_values, color=pallete[1])\n",
    "    plt.axhline(y=overlap, color='r', linestyle='-')\n",
    "    plt.title(key, fontsize=16)\n",
    "    plt.ylabel('Number of overlapping genes', fontsize=16)\n",
    "    plt.xlabel('p=' + str(two_side_p), fontsize=16)\n",
    "    plt.rc('xtick', labelsize=16)\n",
    "    plt.rc('ytick', labelsize=16)\n",
    "    out_fn = os.path.join(OUT_dir, 'DK0911_noncovered_%s_lowcov01_mo%s.png' % (key,min_overlap))\n",
    "    plt.savefig(out_fn, dpi =300)"
   ]
  },
  {
   "cell_type": "markdown",
   "metadata": {
    "collapsed": true
   },
   "source": [
    "There doesn't seem anything specific about any gene family when looking for coverage of the mapping and what is missing. All seem to be significantly enriched.\n",
    "\n",
    "### To-do\n",
    "\n",
    "* look at the coverage files and the mapping files in igv and see if they line up.\n",
    "    * done that and they looked just fine in case of DK0911 mapping onto Pst104E\n",
    "* look at the coverage plots that are part of the het cov plotting\n",
    "* genes that are not covered by Pst_104E reads by DK0911 could be genes related to sexual reproduction or infection of the host\n",
    "* check into the overlap of genes that are not covered in both methods (lowcov01 and WGA95) and orthofinder. See if there is anything special in terms of length, expression, or function.\n",
    "* check if there is non-random overlap between TE superfamilies and lowcov or WGA95 do this on the base overlap basis. If anything sticks out maybe look into family level and such.\n",
    "* consider doing the absence presence polymorphism on the gene level. For all genes count how often they are totally absent <- this doesn't work as the size of real observations is 1.\n",
    "* check if from the absent genes of of DK0911 in Pst104E are often both pairs of the allele or singletons\n",
    "\n",
    "\n",
    "### Orthology analysis\n",
    "\n",
    "* look into the singleton levels in other fungal species. Similar?"
   ]
  },
  {
   "cell_type": "markdown",
   "metadata": {},
   "source": [
    "## Now look at mummer whole genome alignment in the same way"
   ]
  },
  {
   "cell_type": "code",
   "execution_count": null,
   "metadata": {
    "ExecuteTime": {
     "end_time": "2019-05-03T08:13:46.494286Z",
     "start_time": "2019-05-03T08:13:46.489307Z"
    },
    "collapsed": true
   },
   "outputs": [],
   "source": [
    "mummer_files = [os.path.join(WGA_cov_dir, x) for x in os.listdir(WGA_cov_dir) if x.endswith('.bed')]\n",
    "mummer_files.sort()"
   ]
  },
  {
   "cell_type": "code",
   "execution_count": null,
   "metadata": {
    "ExecuteTime": {
     "end_time": "2019-05-03T08:14:24.409325Z",
     "start_time": "2019-05-03T08:14:01.486781Z"
    },
    "collapsed": true
   },
   "outputs": [],
   "source": [
    "Fishers_summary_dict = {}\n",
    "Absence_summary_dict = {}\n",
    "outer_index = [] #being the cut off\n",
    "inner_index = [] #being the type of gene to look at\n",
    "Fishers_summary_dict['DK0911'] = []\n",
    "Fishers_summary_dict['Pst_104E'] = []\n",
    "Absence_summary_dict['DK0911'] = []\n",
    "Absence_summary_dict['Pst_104E'] = []\n",
    "min_overlap = 1.0\n",
    "for m_fn in mummer_files:\n",
    "    if os.path.basename(m_fn).startswith('DK_0911'):\n",
    "        expect_list = [count_overlap_features(DK0911_dict['All_genes'],m_fn,min_overlap) ,\\\n",
    "                       pd.read_csv(DK0911_dict['All_genes'], sep='\\t').shape[0]]\n",
    "        cut_off = os.path.basename(m_fn).split('.')[-3].replace('deltafilter_i', '').replace('mu0g_','')\n",
    "        for key in keys:\n",
    "            inner_index.append(key)\n",
    "            outer_index.append(cut_off)\n",
    "            test_list = [count_overlap_features(DK0911_dict[key],m_fn,min_overlap),\\\n",
    "                         pd.read_csv(DK0911_dict[key], sep='\\t').shape[0]]\n",
    "            Fishers_summary_dict['DK0911'].append(fisher_exact([test_list, expect_list])[1])\n",
    "            Absence_summary_dict['DK0911'].append(count_overlap_features(DK0911_dict[key],m_fn,min_overlap))\n",
    "    if os.path.basename(m_fn).startswith('Pst_104E_v13_ph_ctg'):\n",
    "        expect_list = [count_overlap_features(Pst_104E_dict['All_genes'],m_fn,min_overlap) ,\\\n",
    "                       pd.read_csv(Pst_104E_dict['All_genes'], sep='\\t').shape[0]]\n",
    "        cut_off = os.path.basename(m_fn).split('.')[-3].replace('deltafilter_i', '').replace('mu0g_','')\n",
    "        for key in keys:\n",
    "            inner_index.append(key)\n",
    "            outer_index.append(cut_off)\n",
    "            test_list = [count_overlap_features(Pst_104E_dict[key],m_fn,min_overlap),\\\n",
    "                         pd.read_csv(Pst_104E_dict[key], sep='\\t').shape[0]]\n",
    "            Fishers_summary_dict['Pst_104E'].append(fisher_exact([test_list, expect_list])[1])\n",
    "            Absence_summary_dict['Pst_104E'].append(count_overlap_features(Pst_104E_dict[key],m_fn,min_overlap))"
   ]
  },
  {
   "cell_type": "code",
   "execution_count": null,
   "metadata": {
    "ExecuteTime": {
     "end_time": "2019-05-03T08:14:24.450400Z",
     "start_time": "2019-05-03T08:14:24.411911Z"
    },
    "collapsed": true
   },
   "outputs": [],
   "source": [
    "Fishers_df = summary_dict_to_df(Fishers_summary_dict, outer_index, inner_index)\n",
    "Absence_df = summary_dict_to_df(Absence_summary_dict, outer_index, inner_index)"
   ]
  },
  {
   "cell_type": "code",
   "execution_count": null,
   "metadata": {
    "ExecuteTime": {
     "end_time": "2019-05-03T08:14:24.494168Z",
     "start_time": "2019-05-03T08:14:24.452178Z"
    },
    "collapsed": true
   },
   "outputs": [],
   "source": [
    "out_fn = os.path.join(OUT_dir, 'WGA_fisher_df.tsv')\n",
    "Fishers_df.to_csv(out_fn, sep='\\t')\n",
    "Fishers_df"
   ]
  },
  {
   "cell_type": "code",
   "execution_count": null,
   "metadata": {
    "ExecuteTime": {
     "end_time": "2019-05-03T08:14:24.529956Z",
     "start_time": "2019-05-03T08:14:24.502048Z"
    },
    "collapsed": true
   },
   "outputs": [],
   "source": [
    "out_fn = os.path.join(OUT_dir, 'WGA_absence_df.tsv')\n",
    "Absence_df.to_csv(out_fn, sep='\\t')\n",
    "Absence_df"
   ]
  },
  {
   "cell_type": "code",
   "execution_count": null,
   "metadata": {
    "ExecuteTime": {
     "end_time": "2019-05-03T08:14:35.470524Z",
     "start_time": "2019-05-03T08:14:35.321813Z"
    },
    "collapsed": true
   },
   "outputs": [],
   "source": [
    "#loop over the different lowcoverage file, filter them and count the total bases of lowcoverage\n",
    "summary_dict = {}\n",
    "summary_dict['DK0911'] = []\n",
    "summary_dict['Pst_104E'] = []\n",
    "index = []\n",
    "for m_fn in mummer_files:\n",
    "    non_cov_bases = non_covered_bases(pd.read_csv(m_fn, sep='\\t', header=None, names=['chrom', 'start', 'end']))\n",
    "    cut_off = os.path.basename(m_fn).split('.')[-3].replace('deltafilter_i', '').replace('mu0g_','')\n",
    "    index.append(cut_off)\n",
    "    if m_fn.split('.')[1].startswith('Pst_'):\n",
    "        summary_dict['DK0911'].append(non_cov_bases)\n",
    "    elif m_fn.split('.')[1].startswith('DK_0911_'):\n",
    "        summary_dict['Pst_104E'].append(non_cov_bases)\n",
    "\n",
    "length = len(index) \n",
    "index[0:int(length/2)] == index[int(length/2):]\n",
    "df = pd.DataFrame.from_dict(summary_dict)\n",
    "df.index = [float(x) for x in index[0:int(length/2)]]\n",
    "df.sort_index(inplace=True)\n",
    "#check on Pst_104E mapping on DK0911\n",
    "out_fn = os.path.join(OUT_dir, 'WGA_missing_bases_df.tsv')\n",
    "df.to_csv(out_fn, sep='\\t')\n",
    "df"
   ]
  },
  {
   "cell_type": "code",
   "execution_count": null,
   "metadata": {
    "ExecuteTime": {
     "end_time": "2019-05-03T08:14:44.347219Z",
     "start_time": "2019-05-03T08:14:44.342256Z"
    },
    "collapsed": true
   },
   "outputs": [],
   "source": [
    "print(\"This is the file that got randomized: %s\\n\\n\" % mummer_files[-5])\n",
    "print(\"This is the file that got randomized: %s\\n\\n\" % mummer_files[5])"
   ]
  },
  {
   "cell_type": "code",
   "execution_count": null,
   "metadata": {
    "ExecuteTime": {
     "start_time": "2019-05-03T08:14:48.065Z"
    },
    "collapsed": true
   },
   "outputs": [],
   "source": [
    "#randomize the bedfiles of the WGA targted. Yet first look at the results of fishers exact tests and\n",
    "#pick the appropriate coveraged cut off\n",
    "randomize_bed(mummer_files[-5], Pst_104E_genome_file_fn, WGA_cov_rand_outdir, n=5000)\n",
    "randomize_bed(mummer_files[5], DK0911_genome_file_fn, WGA_cov_rand_outdir, n=5000)"
   ]
  },
  {
   "cell_type": "code",
   "execution_count": null,
   "metadata": {
    "ExecuteTime": {
     "end_time": "2019-05-06T10:38:00.487918Z",
     "start_time": "2019-05-06T10:38:00.483371Z"
    },
    "collapsed": true
   },
   "outputs": [],
   "source": [
    "Pst_random_dict_WGA = {}\n",
    "DK0911_random_dict_WGA = {}"
   ]
  },
  {
   "cell_type": "code",
   "execution_count": null,
   "metadata": {
    "ExecuteTime": {
     "start_time": "2019-05-03T08:14:48.552Z"
    },
    "collapsed": true
   },
   "outputs": [],
   "source": [
    "#loop over all gene files\n",
    "#for each gene file do the whole permuation test and safe it as part of a dictionary\n",
    "Pst_104E_random_fn_WGA = [os.path.join(WGA_cov_rand_outdir, x) for x in os.listdir(WGA_cov_rand_outdir) if x.startswith('Pst')]\n",
    "Pst_104E_random_fn_WGA.sort()\n",
    "DK0911_random_fn_WGA = [os.path.join(WGA_cov_rand_outdir, x) for x in os.listdir(WGA_cov_rand_outdir) if x.startswith('DK')]\n",
    "DK0911_random_fn_WGA.sort()\n",
    "Pst_random_dict_WGA = {}\n",
    "DK0911_random_dict_WGA = {}\n",
    "keys = Pst_104E_dict.keys()\n",
    "min_overlap = 1.0\n",
    "for key in keys:\n",
    "    Pst_random_dict_WGA[key] = []\n",
    "    for rand_fn in Pst_104E_random_fn_WGA:\n",
    "        Pst_random_dict_WGA[key].append(count_overlap_features(Pst_104E_dict[key], rand_fn, min_overlap))\n",
    "    DK0911_random_dict_WGA[key] = []\n",
    "    for rand_fn in DK0911_random_fn_WGA:\n",
    "        DK0911_random_dict_WGA[key].append(count_overlap_features(DK0911_dict[key], rand_fn, min_overlap))"
   ]
  },
  {
   "cell_type": "code",
   "execution_count": null,
   "metadata": {
    "ExecuteTime": {
     "end_time": "2019-05-06T03:42:45.732271Z",
     "start_time": "2019-05-06T03:42:35.079438Z"
    },
    "collapsed": true
   },
   "outputs": [],
   "source": [
    "reference_bed_fn = mummer_files[-5]\n",
    "columns = len(keys)\n",
    "f1, ax = plt.subplots(1, columns, figsize=(20, 4))\n",
    "\n",
    "\n",
    "for n, key in enumerate(keys):\n",
    "    overlap = count_overlap_features(Pst_104E_dict[key],reference_bed_fn, min_overlap)\n",
    "    random_values = Pst_random_dict_WGA[key]\n",
    "    count = 0 \n",
    "    for i in random_values:\n",
    "        if i > overlap:\n",
    "            count += 1\n",
    "    p = count/len(random_values)\n",
    "    \n",
    "    two_side_p = 2*p\n",
    "    \n",
    "    if two_side_p > 1:\n",
    "        two_side_p = round(2 - two_side_p, 3)\n",
    "    sns.violinplot(y=random_values, color=pallete[0], ax=ax[n])\n",
    "    ax[n].axhline(y=overlap, color='r', linestyle='-')\n",
    "    ax[n].set_title(key, fontsize=16)\n",
    "    ax[n].set_xlabel('p=' + str(two_side_p), fontsize=16)\n",
    "    ax[0].set_ylabel('Number of overlapping genes', fontsize=16)\n",
    "    out_fn = os.path.join(OUT_dir, 'Pst104E_noncovered_%s_WGAmi95_mo%s.facett.png' % (key,min_overlap))\n",
    "    plt.savefig(out_fn, dpi =300)"
   ]
  },
  {
   "cell_type": "code",
   "execution_count": null,
   "metadata": {
    "ExecuteTime": {
     "end_time": "2019-05-06T03:42:22.117209Z",
     "start_time": "2019-05-06T03:42:17.160518Z"
    },
    "collapsed": true
   },
   "outputs": [],
   "source": [
    "for key in keys:\n",
    "    overlap = count_overlap_features(Pst_104E_dict[key],reference_bed_fn, min_overlap)\n",
    "    random_values = Pst_random_dict_WGA[key]\n",
    "\n",
    "    count = 0 \n",
    "    for i in random_values:\n",
    "        if i > overlap:\n",
    "            count += 1\n",
    "    p = count/len(random_values)\n",
    "    \n",
    "    two_side_p = 2*p\n",
    "    \n",
    "    if two_side_p > 1:\n",
    "        two_side_p = round(2 - two_side_p, 3)\n",
    "        \n",
    "    f, ax = plt.subplots(figsize=(4, 7))\n",
    "    plt.style.use('fast')\n",
    "    sns.violinplot(y=random_values, color=pallete[0])\n",
    "    plt.axhline(y=overlap, color='r', linestyle='-')\n",
    "    plt.title(key, fontsize=16)\n",
    "    plt.ylabel('Number of overlapping genes', fontsize=16)\n",
    "\n",
    "    plt.rc('xtick', labelsize=16)\n",
    "    plt.rc('ytick', labelsize=16)\n",
    "    out_fn = os.path.join(OUT_dir, 'Pst104E_noncovered_%s_WGAmi95_mo%s.png' % (key,min_overlap))\n",
    "    plt.savefig(out_fn, dpi =300)"
   ]
  },
  {
   "cell_type": "code",
   "execution_count": null,
   "metadata": {
    "ExecuteTime": {
     "end_time": "2019-05-06T03:44:36.854792Z",
     "start_time": "2019-05-06T03:44:26.468532Z"
    },
    "collapsed": true
   },
   "outputs": [],
   "source": [
    "reference_bed_fn = mummer_files[5]\n",
    "columns = len(keys)\n",
    "f1, ax = plt.subplots(1, columns, figsize=(20, 4))\n",
    "\n",
    "\n",
    "for n, key in enumerate(keys):\n",
    "    overlap = count_overlap_features(DK0911_dict[key],reference_bed_fn, min_overlap)\n",
    "    random_values = DK0911_random_dict_WGA[key]\n",
    "    count = 0 \n",
    "    for i in random_values:\n",
    "        if i > overlap:\n",
    "            count += 1\n",
    "    p = count/len(random_values)\n",
    "    \n",
    "    two_side_p = 2*p\n",
    "    \n",
    "    if two_side_p > 1:\n",
    "        two_side_p = round(2 - two_side_p, 3)\n",
    "    sns.violinplot(y=random_values, color=pallete[1], ax=ax[n])\n",
    "    ax[n].axhline(y=overlap, color='r', linestyle='-')\n",
    "    ax[n].set_title(key, fontsize=16)\n",
    "    ax[n].set_xlabel('p=' + str(two_side_p), fontsize=16)\n",
    "    ax[0].set_ylabel('Number of overlapping genes', fontsize=16)\n",
    "    out_fn = os.path.join(OUT_dir, 'DK0911_noncovered_%s_WGAmi95_mo%s.facett.png' % (key,min_overlap))\n",
    "    plt.savefig(out_fn, dpi =300)    \n",
    "\n",
    "\n",
    "\n",
    "        "
   ]
  },
  {
   "cell_type": "code",
   "execution_count": null,
   "metadata": {
    "ExecuteTime": {
     "end_time": "2019-05-05T23:46:46.051264Z",
     "start_time": "2019-05-05T23:46:41.300190Z"
    },
    "collapsed": true
   },
   "outputs": [],
   "source": [
    "\n",
    "for key in keys:\n",
    "    overlap = count_overlap_features(DK0911_dict[key],reference_bed_fn, min_overlap)\n",
    "    random_values = DK0911_random_dict_WGA[key]\n",
    "\n",
    "    count = 0 \n",
    "    for i in random_values:\n",
    "        if i > overlap:\n",
    "            count += 1\n",
    "    p = count/len(random_values)\n",
    "    \n",
    "    two_side_p = 2*p\n",
    "    \n",
    "    if two_side_p > 1:\n",
    "        two_side_p = round(2 - two_side_p, 3)\n",
    "\n",
    "\n",
    "\n",
    "    f, ax = plt.subplots(figsize=(4, 7))\n",
    "    plt.style.use('fast')\n",
    "    sns.violinplot(y=random_values, color=pallete[1])\n",
    "    plt.axhline(y=overlap, color='r', linestyle='-')\n",
    "    plt.title(key, fontsize=16)\n",
    "    plt.ylabel('Number of overlapping genes', fontsize=16)\n",
    "    plt.xlabel('p=' + str(two_side_p), fontsize=16)\n",
    "    plt.rc('xtick', labelsize=16)\n",
    "    plt.rc('ytick', labelsize=16)\n",
    "    out_fn = os.path.join(OUT_dir, 'DK0911_noncovered_%s_WGAmi95_mo%s.png' % (key,min_overlap))\n",
    "    plt.savefig(out_fn, dpi =300)"
   ]
  },
  {
   "cell_type": "markdown",
   "metadata": {},
   "source": [
    "### To-Do\n",
    "\n",
    "* look at transposable elements. Think about sliglthly different analysis including superfamily and family level"
   ]
  },
  {
   "cell_type": "code",
   "execution_count": null,
   "metadata": {
    "ExecuteTime": {
     "start_time": "2019-05-06T11:21:04.826Z"
    },
    "collapsed": true
   },
   "outputs": [],
   "source": [
    "#loop over all gene files\n",
    "#for each gene file do the whole permuation test and safe it as part of a dictionary\n",
    "Pst_104E_random_fn_lowcov = [os.path.join(SRM_cov_rand_outdir, x) for x in os.listdir(SRM_cov_rand_outdir) if x.startswith('Pst')]\n",
    "Pst_104E_random_fn_lowcov.sort()\n",
    "DK0911_random_fn_lowcov = [os.path.join(SRM_cov_rand_outdir, x) for x in os.listdir(SRM_cov_rand_outdir) if x.startswith('DK')]\n",
    "DK0911_random_fn_lowcov.sort()\n",
    "#Pst_random_dict_lowcov = {}\n",
    "#DK0911_random_dict_lowcov = {}\n",
    "DK0911_random_dict_lowcov['TE_superfamily'] = []\n",
    "Pst_random_dict_lowcov['TE_superfamily'] = []\n",
    "for rand_fn in DK0911_random_fn_lowcov[:2500]:\n",
    "    DK0911_random_dict_lowcov['TE_superfamily'].append(count_base_overlap_TE(DK0911_dict['TE_superfamily'], rand_fn))\n",
    "for rand_fn in Pst_104E_random_fn_lowcov[:2500]:\n",
    "    #print(rand_fn)\n",
    "    Pst_random_dict_lowcov['TE_superfamily'].append(count_base_overlap_TE(Pst_104E_dict['TE_superfamily'], rand_fn))\n",
    "pybedtools.cleanup()"
   ]
  },
  {
   "cell_type": "code",
   "execution_count": null,
   "metadata": {
    "ExecuteTime": {
     "start_time": "2019-05-06T11:24:18.830Z"
    },
    "collapsed": true
   },
   "outputs": [],
   "source": [
    "#loop over all gene files\n",
    "#for each gene file do the whole permuation test and safe it as part of a dictionary\n",
    "Pst_104E_random_fn_WGA = [os.path.join(WGA_cov_rand_outdir, x) for x in os.listdir(WGA_cov_rand_outdir) if x.startswith('Pst')]\n",
    "Pst_104E_random_fn_WGA.sort()\n",
    "DK0911_random_fn_WGA = [os.path.join(WGA_cov_rand_outdir, x) for x in os.listdir(WGA_cov_rand_outdir) if x.startswith('DK')]\n",
    "DK0911_random_fn_WGA.sort()\n",
    "#Pst_random_dict_WGA = {}\n",
    "#DK0911_random_dict_WGA = {}\n",
    "Pst_random_dict_WGA['TE_superfamily'] = []\n",
    "DK0911_random_dict_WGA['TE_superfamily'] = []\n",
    "for rand_fn in DK0911_random_fn_WGA[:2500]:\n",
    "    DK0911_random_dict_WGA['TE_superfamily'].append(count_base_overlap_TE(DK0911_dict['TE_superfamily'], rand_fn))\n",
    "for rand_fn in Pst_104E_random_fn_WGA[:2500]:\n",
    "    Pst_random_dict_WGA['TE_superfamily'].append(count_base_overlap_TE(Pst_104E_dict['TE_superfamily'], rand_fn))\n",
    "pybedtools.cleanup(remove_all=True)"
   ]
  },
  {
   "cell_type": "code",
   "execution_count": null,
   "metadata": {
    "ExecuteTime": {
     "start_time": "2019-05-06T11:24:20.029Z"
    },
    "collapsed": true
   },
   "outputs": [],
   "source": [
    "out_fn = os.path.join(OUT_dir, 'DK0911_noncovered_TE_superfamily_lowcov01_mo.facett.png' )\n",
    "plot_TE_cov_expect('DK0911', DK0911_random_dict_lowcov['TE_superfamily'],pallete[1], out_fn)\n",
    "\n",
    "out_fn = os.path.join(OUT_dir, 'DK0911_noncovered_TE_superfamily_WGAmi95.facett.png' )\n",
    "plot_TE_cov_expect('DK0911', DK0911_random_dict_WGA['TE_superfamily'],pallete[1], out_fn)\n",
    "\n",
    "#Pst104E\n",
    "out_fn = os.path.join(OUT_dir, 'Pst104E_noncovered_TE_superfamily_lowcov01.facett.png')\n",
    "plot_TE_cov_expect('Pst_104E', Pst_104E_random_fn_lowcov['TE_superfamily'],pallete[0], out_fn)\n",
    "\n",
    "out_fn = os.path.join(OUT_dir, 'Pst104E_noncovered_TE_superfamily_WGAmi95.facett.png')\n",
    "plot_TE_cov_expect('Pst_104E', Pst_104E_random_fn_WGA['TE_superfamily'],pallete[0], out_fn)"
   ]
  },
  {
   "cell_type": "code",
   "execution_count": null,
   "metadata": {
    "ExecuteTime": {
     "start_time": "2019-05-06T11:24:21.291Z"
    },
    "collapsed": true
   },
   "outputs": [],
   "source": [
    "print(\"hello\")"
   ]
  },
  {
   "cell_type": "code",
   "execution_count": null,
   "metadata": {
    "collapsed": true
   },
   "outputs": [],
   "source": []
  },
  {
   "cell_type": "code",
   "execution_count": null,
   "metadata": {
    "collapsed": true
   },
   "outputs": [],
   "source": []
  },
  {
   "cell_type": "code",
   "execution_count": null,
   "metadata": {
    "collapsed": true
   },
   "outputs": [],
   "source": []
  },
  {
   "cell_type": "code",
   "execution_count": null,
   "metadata": {
    "collapsed": true
   },
   "outputs": [],
   "source": []
  },
  {
   "cell_type": "code",
   "execution_count": null,
   "metadata": {
    "ExecuteTime": {
     "end_time": "2019-05-06T04:46:04.121131Z",
     "start_time": "2019-05-06T04:45:43.664868Z"
    },
    "collapsed": true
   },
   "outputs": [],
   "source": [
    "out_fn = os.path.join(OUT_dir, 'DK0911_noncovered_%s_WGAmi95_mo%s.facett.png' % (key,min_overlap))\n",
    "\n",
    "\n",
    "\n",
    "TE_random_df = pd.concat(DK0911_random_dict_lowcov['TE_superfamily'], axis=1, sort=True)\n",
    "TE_random_df.fillna(0, inplace=True)\n",
    "genome = 'DK0911'\n",
    "\n",
    "rows = len(TE_random_df.index)//5\n",
    "f1, ax = plt.subplots(rows, 5, figsize=(20, 30))\n",
    "\n",
    "\n",
    "for key,y in zip(TE_random_df.index, product(range(0, rows), range(0,5))):\n",
    "    overlap = TE_sf_cov_dict[genome][key]\n",
    "    random_values = TE_random_df.loc[key,:]\n",
    "    count = 0 \n",
    "    for i in random_values:\n",
    "        if i > overlap:\n",
    "            count += 1\n",
    "    p = count/len(random_values)\n",
    "    \n",
    "    two_side_p = 2*p\n",
    "    \n",
    "    if two_side_p > 1:\n",
    "        two_side_p = round(2 - two_side_p, 3)\n",
    "    else:\n",
    "        two_side_p = round(two_side_p, 3)\n",
    "    sns.violinplot(y=random_values, color=pallete[1], ax=ax[y[0], y[1]])\n",
    "    ax[y[0], y[1]].axhline(y=overlap, color='r', linestyle='-')\n",
    "    ax[y[0], y[1]].set_title(key, fontsize=16)\n",
    "    ax[y[0], y[1]].set_yticklabels([])\n",
    "    ax[y[0], y[1]].set_ylabel('')\n",
    "    ax[y[0], y[1]].set_xlabel('p=' + str(two_side_p), fontsize=16)\n",
    "    ax[y[0] ,0].set_ylabel('Number of overlapping genes', fontsize=16)\n",
    "    plt.tight_layout()\n",
    "#plt.savefig(out_fn, dpi =300)    "
   ]
  },
  {
   "cell_type": "code",
   "execution_count": null,
   "metadata": {
    "ExecuteTime": {
     "end_time": "2019-05-06T03:58:18.003797Z",
     "start_time": "2019-05-06T03:58:17.905303Z"
    },
    "collapsed": true
   },
   "outputs": [],
   "source": [
    "TE_random_df"
   ]
  },
  {
   "cell_type": "code",
   "execution_count": null,
   "metadata": {
    "ExecuteTime": {
     "end_time": "2019-05-06T03:31:35.903675Z",
     "start_time": "2019-05-06T03:31:35.890708Z"
    },
    "collapsed": true
   },
   "outputs": [],
   "source": [
    "len(DK0911_random_dict_lowcov['TE_superfamily'])"
   ]
  },
  {
   "cell_type": "code",
   "execution_count": null,
   "metadata": {
    "ExecuteTime": {
     "end_time": "2019-05-06T03:31:33.188599Z",
     "start_time": "2019-05-06T03:31:33.171336Z"
    },
    "collapsed": true
   },
   "outputs": [],
   "source": [
    "print('hello')"
   ]
  },
  {
   "cell_type": "code",
   "execution_count": null,
   "metadata": {
    "collapsed": true
   },
   "outputs": [],
   "source": []
  },
  {
   "cell_type": "code",
   "execution_count": null,
   "metadata": {
    "collapsed": true
   },
   "outputs": [],
   "source": []
  },
  {
   "cell_type": "code",
   "execution_count": null,
   "metadata": {
    "collapsed": true
   },
   "outputs": [],
   "source": []
  },
  {
   "cell_type": "code",
   "execution_count": null,
   "metadata": {
    "ExecuteTime": {
     "end_time": "2019-05-06T02:16:53.134957Z",
     "start_time": "2019-05-06T02:16:53.129997Z"
    },
    "collapsed": true
   },
   "outputs": [],
   "source": [
    "filter_fn = pairings[0][2]"
   ]
  },
  {
   "cell_type": "code",
   "execution_count": null,
   "metadata": {
    "ExecuteTime": {
     "end_time": "2019-05-06T02:29:58.011336Z",
     "start_time": "2019-05-06T02:29:57.994696Z"
    },
    "collapsed": true
   },
   "outputs": [],
   "source": [
    "tmp_df.head()"
   ]
  },
  {
   "cell_type": "code",
   "execution_count": null,
   "metadata": {
    "ExecuteTime": {
     "end_time": "2019-05-06T02:30:07.371885Z",
     "start_time": "2019-05-06T02:30:06.740028Z"
    },
    "collapsed": true
   },
   "outputs": [],
   "source": [
    "overlap_df = count_base_overlap_TE(DK0911_dict['TE_superfamily'], filter_fn)\n",
    "overlap_df.sort_values(['seqname', 'start']).head()\n",
    "overlap_df['interval'] = overlap_df.end - overlap_df.start + 1\n",
    "overlap_sf_cov_df = overlap_df.groupby('attributes')['interval'].sum()\n",
    "genome_size = pd.read_csv(DK0911_genome_file_fn, sep='\\t',header = None)[1].sum()\n",
    "tmp_df = pd.read_csv(filter_fn, sep='\\t', header = None)\n",
    "missing_space = sum(tmp_df[2] - tmp_df[1])\n",
    "fraction_missing = round(missing_space/genome_size, 4)"
   ]
  },
  {
   "cell_type": "code",
   "execution_count": null,
   "metadata": {
    "ExecuteTime": {
     "end_time": "2019-05-06T02:33:08.206191Z",
     "start_time": "2019-05-06T02:33:08.200936Z"
    },
    "collapsed": true
   },
   "outputs": [],
   "source": [
    "TE_sf_cov_df.index"
   ]
  },
  {
   "cell_type": "code",
   "execution_count": null,
   "metadata": {
    "ExecuteTime": {
     "end_time": "2019-05-06T02:50:22.059705Z",
     "start_time": "2019-05-06T02:50:21.326496Z"
    },
    "collapsed": true
   },
   "outputs": [],
   "source": []
  },
  {
   "cell_type": "code",
   "execution_count": null,
   "metadata": {
    "ExecuteTime": {
     "end_time": "2019-05-06T02:54:24.971568Z",
     "start_time": "2019-05-06T02:51:53.802134Z"
    },
    "collapsed": true
   },
   "outputs": [],
   "source": [
    "Fishers_summary_dict = {}\n",
    "Absence_summary_dict = {}\n",
    "outer_index = [] #being the cut off\n",
    "inner_index = [] #being the type of gene to look at\n",
    "Fishers_summary_dict['DK0911'] = []\n",
    "Fishers_summary_dict['Pst_104E'] = []\n",
    "Absence_summary_dict['DK0911'] = []\n",
    "Absence_summary_dict['Pst_104E'] = []\n",
    "min_overlap = 1\n",
    "genome = 'DK0911'\n",
    "for pair in pairings[:1]:\n",
    "    overlap_df = count_base_overlap_TE(DK0911_dict['TE_superfamily'], pair[2])\n",
    "    overlap_df['interval'] = overlap_df.end - overlap_df.start + 1\n",
    "    overlap_sf_cov_df = overlap_df.groupby('attributes')['interval'].sum()\n",
    "    index = overlap_sf_cov_df.index\n",
    "    cut_off = os.path.basename(pair[2]).split('.')[-3].replace('lowcov', '')\n",
    "    for ind in index:\n",
    "        print(ind)\n",
    "        expect_list = [TE_sf_cov_dict[genome][ind], genome_size_dict[genome]]\n",
    "        inner_index.append(ind)\n",
    "        outer_index.append(cut_off)\n",
    "        test_list = [overlap_sf_cov_df[ind], missing_space]\n",
    "        Fishers_summary_dict[genome].append(fisher_exact([test_list, expect_list])[1])\n",
    "        Absence_summary_dict[genome]"
   ]
  },
  {
   "cell_type": "code",
   "execution_count": null,
   "metadata": {
    "collapsed": true
   },
   "outputs": [],
   "source": []
  },
  {
   "cell_type": "code",
   "execution_count": null,
   "metadata": {
    "ExecuteTime": {
     "end_time": "2019-05-06T02:54:33.075714Z",
     "start_time": "2019-05-06T02:54:33.062429Z"
    },
    "collapsed": true
   },
   "outputs": [],
   "source": [
    "Fishers_summary_dict[genome]"
   ]
  },
  {
   "cell_type": "code",
   "execution_count": null,
   "metadata": {
    "collapsed": true
   },
   "outputs": [],
   "source": []
  },
  {
   "cell_type": "code",
   "execution_count": null,
   "metadata": {
    "collapsed": true
   },
   "outputs": [],
   "source": []
  },
  {
   "cell_type": "code",
   "execution_count": null,
   "metadata": {
    "collapsed": true
   },
   "outputs": [],
   "source": []
  },
  {
   "cell_type": "code",
   "execution_count": null,
   "metadata": {
    "ExecuteTime": {
     "end_time": "2019-05-06T02:42:54.669098Z",
     "start_time": "2019-05-06T02:42:54.660615Z"
    },
    "collapsed": true
   },
   "outputs": [],
   "source": [
    "pairings[:1]"
   ]
  },
  {
   "cell_type": "code",
   "execution_count": null,
   "metadata": {
    "collapsed": true
   },
   "outputs": [],
   "source": []
  },
  {
   "cell_type": "code",
   "execution_count": null,
   "metadata": {
    "collapsed": true
   },
   "outputs": [],
   "source": []
  },
  {
   "cell_type": "code",
   "execution_count": null,
   "metadata": {
    "ExecuteTime": {
     "end_time": "2019-05-06T02:30:21.278643Z",
     "start_time": "2019-05-06T02:30:21.273599Z"
    },
    "collapsed": true
   },
   "outputs": [],
   "source": [
    "Fishers_summary_dict = {}\n",
    "Absence_summary_dict = {}\n",
    "outer_index = [] #being the cut off\n",
    "inner_index = [] #being the type of gene to look at\n",
    "Fishers_summary_dict['DK0911'] = []\n",
    "Fishers_summary_dict['Pst_104E'] = []\n",
    "Absence_summary_dict['DK0911'] = []\n",
    "Absence_summary_dict['Pst_104E'] = []\n",
    "min_overlap = 1\n",
    "index = TE_sf_cov_df.index\n",
    "#pair[2] is the filtered lowcov file as reference\n",
    "for pair in pairings:\n",
    "    if os.path.basename(pair[2]).startswith('DK_0911'):\n",
    "        expect_list = [count_overlap_features(DK0911_dict['All_genes'],pair[2],min_overlap) ,\\\n",
    "                       pd.read_csv(DK0911_dict['All_genes'], sep='\\t').shape[0]]\n",
    "        cut_off = os.path.basename(pair[2]).split('.')[-3].replace('lowcov', '')\n",
    "        for key in keys:\n",
    "            inner_index.append(key)\n",
    "            outer_index.append(cut_off)\n",
    "            test_list = [count_overlap_features(DK0911_dict[key],pair[2],min_overlap),\\\n",
    "                         pd.read_csv(DK0911_dict[key], sep='\\t').shape[0]]\n",
    "            Fishers_summary_dict['DK0911'].append(fisher_exact([test_list, expect_list])[1])\n",
    "            Absence_summary_dict['DK0911'].append(count_overlap_features(DK0911_dict[key],pair[2],min_overlap))\n",
    "    if os.path.basename(pair[2]).startswith('Pst_104E_v13_ph_ctg'):\n",
    "        expect_list = [count_overlap_features(Pst_104E_dict['All_genes'],pair[2],min_overlap) ,\\\n",
    "                       pd.read_csv(Pst_104E_dict['All_genes'], sep='\\t').shape[0]]\n",
    "        cut_off = os.path.basename(pair[2]).split('.')[-3].replace('lowcov', '')\n",
    "        for key in keys:\n",
    "            inner_index.append(key)\n",
    "            outer_index.append(cut_off)\n",
    "            test_list = [count_overlap_features(Pst_104E_dict[key],pair[2],min_overlap),\\\n",
    "                         pd.read_csv(Pst_104E_dict[key], sep='\\t').shape[0]]\n",
    "            Fishers_summary_dict['Pst_104E'].append(fisher_exact([test_list, expect_list])[1])\n",
    "            Absence_summary_dict['Pst_104E'].append(count_overlap_features(Pst_104E_dict[key],pair[2],min_overlap))\n"
   ]
  },
  {
   "cell_type": "markdown",
   "metadata": {},
   "source": []
  },
  {
   "cell_type": "code",
   "execution_count": null,
   "metadata": {
    "ExecuteTime": {
     "end_time": "2019-05-06T02:19:52.145190Z",
     "start_time": "2019-05-06T02:19:51.815860Z"
    },
    "collapsed": true
   },
   "outputs": [],
   "source": [
    "TE_df.sort_values(['Chrom','start']).head()"
   ]
  },
  {
   "cell_type": "code",
   "execution_count": null,
   "metadata": {
    "ExecuteTime": {
     "end_time": "2019-05-06T02:23:32.457558Z",
     "start_time": "2019-05-06T02:23:32.437817Z"
    },
    "collapsed": true
   },
   "outputs": [],
   "source": [
    "pd.concat([TE_sf_cov_df, overlap_sf_cov_df], axis=1)"
   ]
  },
  {
   "cell_type": "code",
   "execution_count": null,
   "metadata": {
    "ExecuteTime": {
     "end_time": "2019-05-06T01:57:51.043252Z",
     "start_time": "2019-05-06T01:57:51.028604Z"
    },
    "collapsed": true
   },
   "outputs": [],
   "source": [
    "TE_sf_cov_df.combine_first(TE_sf_cov_df)"
   ]
  },
  {
   "cell_type": "code",
   "execution_count": null,
   "metadata": {
    "ExecuteTime": {
     "end_time": "2019-05-06T01:55:28.643444Z",
     "start_time": "2019-05-06T01:55:28.614811Z"
    },
    "collapsed": true
   },
   "outputs": [],
   "source": [
    "pd.merge(TE_sf_cov_df, TE_sf_cov_df)"
   ]
  },
  {
   "cell_type": "code",
   "execution_count": null,
   "metadata": {
    "collapsed": true
   },
   "outputs": [],
   "source": []
  }
 ],
 "metadata": {
  "kernelspec": {
   "display_name": "Python [default]",
   "language": "python",
   "name": "python3"
  },
  "language_info": {
   "codemirror_mode": {
    "name": "ipython",
    "version": 3
   },
   "file_extension": ".py",
   "mimetype": "text/x-python",
   "name": "python",
   "nbconvert_exporter": "python",
   "pygments_lexer": "ipython3",
   "version": "3.5.4"
  },
  "toc": {
   "nav_menu": {},
   "number_sections": true,
   "sideBar": true,
   "skip_h1_title": false,
   "title_cell": "Table of Contents",
   "title_sidebar": "Contents",
   "toc_cell": false,
   "toc_position": {},
   "toc_section_display": true,
   "toc_window_display": false
  }
 },
 "nbformat": 4,
 "nbformat_minor": 2
}
