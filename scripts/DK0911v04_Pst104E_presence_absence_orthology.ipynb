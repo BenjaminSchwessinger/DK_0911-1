{
 "cells": [
  {
   "cell_type": "markdown",
   "metadata": {},
   "source": [
    "#### Presence absence analysis of the DK0911 genome based on orthology\n",
    "\n"
   ]
  },
  {
   "cell_type": "markdown",
   "metadata": {},
   "source": [
    "#### Usefull folders\n",
    "\n",
    "- Warrior TE analysis: /home/benjamin/genome_assembly/Warrior/TE_analysis\n",
    "- Pst_104_TE analysis: /home/benjamin/genome_assembly/PST79/FALCON/p_assemblies/v9_1/Pst_104E_v12/Warrior_comp_runs/REPET/TE_analysis\n",
    "- comparative coverage: /home/benjamin/genome_assembly/Warrior/TE_analysis\n"
   ]
  },
  {
   "cell_type": "code",
   "execution_count": 1,
   "metadata": {
    "ExecuteTime": {
     "end_time": "2019-05-09T05:56:23.621258Z",
     "start_time": "2019-05-09T05:56:23.206464Z"
    },
    "collapsed": true
   },
   "outputs": [],
   "source": [
    "%matplotlib inline"
   ]
  },
  {
   "cell_type": "code",
   "execution_count": 2,
   "metadata": {
    "ExecuteTime": {
     "end_time": "2019-05-09T05:56:25.133903Z",
     "start_time": "2019-05-09T05:56:23.710995Z"
    },
    "collapsed": true
   },
   "outputs": [],
   "source": [
    "import os\n",
    "from pybedtools import BedTool\n",
    "import pandas as pd\n",
    "import scipy\n",
    "import pandas as pd\n",
    "import numpy as np # need for  stats\n",
    "import matplotlib.pyplot as plt\n",
    "import seaborn as sns\n",
    "import re\n",
    "from scipy.stats import mannwhitneyu\n",
    "from scipy.stats import fisher_exact\n",
    "from scipy.stats import spearmanr\n",
    "from scipy.stats import wilcoxon\n",
    "from scipy.stats import kruskal\n",
    "from statsmodels.stats.multitest import multipletests\n",
    "from seaborn import boxenplot\n",
    "import pybedtools"
   ]
  },
  {
   "cell_type": "code",
   "execution_count": 121,
   "metadata": {
    "ExecuteTime": {
     "end_time": "2019-05-13T04:53:03.553176Z",
     "start_time": "2019-05-13T04:53:03.538565Z"
    },
    "collapsed": true
   },
   "outputs": [],
   "source": [
    "DK0911_ortho_dir = '/home/benjamin/genome_assembly/Warrior/DK0911_v04/comp_orthology/orthofinder/DK0911_vs_Ps104E_v13/'\n",
    "Pst_104E_ortho_dir = '/home/benjamin/genome_assembly/Warrior/DK0911_v04/comp_orthology/orthofinder/Ps104E_v13_vs_DK0911/'\n",
    "DK0911_genome_file_fn = '/home/benjamin/genome_assembly/Warrior/genome_v04/DK_0911_v04_ph_ctg.genome_file'\n",
    "Pst_104E_genome_file_fn = \\\n",
    "'/home/benjamin/genome_assembly/PST79/FALCON/p_assemblies/v9_1/092017_assembly/Pst_104E_v13_ph_ctg.genome_file'\n",
    "WGA_PAA_dir = '/home/benjamin/genome_assembly/Warrior/DK0911_v04/comp_COV/mummer4'\n",
    "LOWCOV_PAA_dir = '/home/benjamin/genome_assembly/Warrior/DK0911_v04/comp_COV/SRM_mapping/filtered/'\n",
    "ORTHOFINDER_FILE_NAME = '/home/benjamin/genome_assembly/Warrior/DK0911_v04/comp_orthology/orthofinder/result_update_redundant_protein_sets_01032019/Orthogroups_3_combined.csv'\n",
    "OUT_dir = '/home/benjamin/genome_assembly/Warrior/DK0911_v04/comp_orthology/orthofinder/downstream_analysis/'"
   ]
  },
  {
   "cell_type": "markdown",
   "metadata": {
    "ExecuteTime": {
     "end_time": "2019-05-06T11:26:51.264463Z",
     "start_time": "2019-05-06T11:26:51.256515Z"
    },
    "collapsed": true
   },
   "source": [
    "* do simple checks if any of the genes is more likely to lack orthologs then others e.g. BUSCOS vs effectors and such\n",
    "* check if the missing orthologs overlap with other missing genes\n",
    "* pull in the Synet file for synteny and ask if effectors are in longer blogs or ask what is the speciatly of shorter blogs or now hits\n"
   ]
  },
  {
   "cell_type": "code",
   "execution_count": 4,
   "metadata": {
    "ExecuteTime": {
     "end_time": "2019-05-09T05:56:26.166987Z",
     "start_time": "2019-05-09T05:56:26.014287Z"
    }
   },
   "outputs": [
    {
     "name": "stdout",
     "output_type": "stream",
     "text": [
      "190312_Ps104E_v13_vs_DK0911_allele.csv\r\n",
      "190312_Ps104E_v13_vs_DK0911_down_match_simple_true_df.csv\r\n",
      "190312_Ps104E_v13_vs_DK0911_paraloge.csv\r\n",
      "190312_Ps104E_v13_vs_DK0911_singleton.csv\r\n",
      "190312_Ps104E_v13_vs_DK0911_up_match_simple_true_df.csv\r\n"
     ]
    }
   ],
   "source": [
    "!ls {Pst_104E_ortho_dir}"
   ]
  },
  {
   "cell_type": "code",
   "execution_count": 5,
   "metadata": {
    "ExecuteTime": {
     "end_time": "2019-05-09T05:56:26.949382Z",
     "start_time": "2019-05-09T05:56:26.792203Z"
    }
   },
   "outputs": [
    {
     "name": "stdout",
     "output_type": "stream",
     "text": [
      ",Query,Target\r\n",
      "0,DK0911_04470,Pst104E_20672\r\n",
      "1,DK0911_19442,Pst104E_25968\r\n",
      "2,DK0911_14147,Pst104E_08558\r\n",
      "3,DK0911_22378,Pst104E_12318\r\n",
      "4,DK0911_27396,Pst104E_11533\r\n",
      "5,DK0911_19630,Pst104E_18568\r\n",
      "6,DK0911_04166,Pst104E_06388\r\n",
      "7,DK0911_07394,Pst104E_03870\r\n",
      "8,DK0911_14215,Pst104E_24248\r\n"
     ]
    }
   ],
   "source": [
    "!head {DK0911_ortho_dir}/190506_DK0911_vs_Ps104E_v13_allele.csv"
   ]
  },
  {
   "cell_type": "code",
   "execution_count": 6,
   "metadata": {
    "ExecuteTime": {
     "end_time": "2019-05-09T05:56:27.601234Z",
     "start_time": "2019-05-09T05:56:27.428029Z"
    }
   },
   "outputs": [
    {
     "name": "stdout",
     "output_type": "stream",
     "text": [
      ",Query,Target\r\n",
      "0,DK0911_27939,True\r\n",
      "1,DK0911_29816,True\r\n",
      "2,DK0911_24709,True\r\n",
      "3,DK0911_10401,True\r\n",
      "4,DK0911_02134,True\r\n",
      "5,DK0911_12283,True\r\n",
      "6,DK0911_29162,True\r\n",
      "7,DK0911_10479,True\r\n",
      "8,DK0911_12717,True\r\n"
     ]
    }
   ],
   "source": [
    "!head {DK0911_ortho_dir}/190506_DK0911_vs_Ps104E_v13_singleton.csv"
   ]
  },
  {
   "cell_type": "code",
   "execution_count": 7,
   "metadata": {
    "ExecuteTime": {
     "end_time": "2019-05-09T05:56:28.390951Z",
     "start_time": "2019-05-09T05:56:28.370737Z"
    },
    "collapsed": true
   },
   "outputs": [],
   "source": [
    "###all the bedfiles\n",
    "Pst_104E_annotation_dir = '/home/benjamin/genome_assembly/Warrior/DK0911_v04/comp_orthology/Pst104E_annotations/'\n",
    "Pst_104E_dict = {}\n",
    "Pst_104E_dict['Busco'] = os.path.join(Pst_104E_annotation_dir, 'Pst_104E_v13_ph_ctg.busco.gene.bed')\n",
    "Pst_104E_dict['All_genes'] = os.path.join(Pst_104E_annotation_dir, 'Pst_104E_v13_ph_ctg.genes.gene.bed')\n",
    "Pst_104E_dict['Secretome'] = os.path.join(Pst_104E_annotation_dir, 'Pst_104E_v13_ph_ctg.secretome.gene.bed')\n",
    "Pst_104E_dict['Ceffectors'] = os.path.join(Pst_104E_annotation_dir, 'Pst_104E_v13_ph_ctg.ceffectors.gene.bed')\n",
    "Pst_104E_dict['EffectorP'] = os.path.join(Pst_104E_annotation_dir, 'Pst_104E_v13_ph_ctg.effectorp.gene.bed')\n",
    "Pst_104E_dict['TE_superfamily'] = os.path.join(Pst_104E_annotation_dir, 'Pst_104E_v13_ph_ctg.104Ep_DK0911p.REPET.superfamily.gff')\n",
    "Pst_104E_dict['Lowcov_01'] = os.path.join(LOWCOV_PAA_dir, 'Pst_104E_v13_ph_ctg.bwamem.DK0911_gDNA.ph_window_w1000s200.ph_mapping.lowcov01.filtered.bed')\n",
    "Pst_104E_dict['WGA_95'] = os.path.join(WGA_PAA_dir, 'Pst_104E_v13_ph_ctg.DK_0911_v04_ph_ctg.l100.c500.mm.deltafilter_i95mu0g_.nr_reverse.bed')\n",
    "Pst_104E_dict['Singletons'] = os.path.join(Pst_104E_ortho_dir,'190312_Ps104E_v13_vs_DK0911_singleton.csv')\n",
    "Pst_104E_dict['Alleles'] = os.path.join(Pst_104E_ortho_dir, '190312_Ps104E_v13_vs_DK0911_allele.csv')\n",
    "Pst_104E_dict['Paraloges'] = os.path.join(Pst_104E_ortho_dir, '190312_Ps104E_v13_vs_DK0911_paraloge.csv')"
   ]
  },
  {
   "cell_type": "code",
   "execution_count": 8,
   "metadata": {
    "ExecuteTime": {
     "end_time": "2019-05-09T05:56:29.147921Z",
     "start_time": "2019-05-09T05:56:29.132231Z"
    },
    "collapsed": true
   },
   "outputs": [],
   "source": [
    "###all the bedfiles\n",
    "DK0911_annotation_dir = '/home/benjamin/genome_assembly/Warrior/DK0911_v04/comp_orthology/DK0911_annotations/'\n",
    "DK0911_dict = {}\n",
    "DK0911_dict['Busco'] = os.path.join(DK0911_annotation_dir, 'DK_0911_v04_ph_ctg.busco.gene.bed')\n",
    "DK0911_dict['All_genes'] = os.path.join(DK0911_annotation_dir, 'DK_0911_v04_ph_ctg.genes.gene.bed')\n",
    "DK0911_dict['Secretome'] = os.path.join(DK0911_annotation_dir, 'DK_0911_v04_ph_ctg.secretome.gene.bed')\n",
    "DK0911_dict['Ceffectors'] = os.path.join(DK0911_annotation_dir, 'DK_0911_v04_ph_ctg.effectorp20.gene.bed')\n",
    "DK0911_dict['EffectorP'] = os.path.join(DK0911_annotation_dir, 'DK_0911_v04_ph_ctg.effectorp20.gene.bed')\n",
    "DK0911_dict['TE_superfamily'] = os.path.join(DK0911_annotation_dir, 'DK_0911_v04_ph_ctg.104Ep_DK0911p.REPET.superfamily.gff')\n",
    "DK0911_dict['Lowcov_01'] = os.path.join(LOWCOV_PAA_dir, 'DK_0911_v04_ph_ctg.bwamem.Pst79_TS.RG.mark_dup.ph_window_w1000s200.ph_mapping.lowcov01.filtered.bed' )\n",
    "DK0911_dict['WGA_95'] = os.path.join(WGA_PAA_dir, 'DK_0911_v04_ph_ctg.Pst_104E_v13_ph_ctg.l100.c500.mm.deltafilter_i95mu0g_.nr_reverse.bed')\n",
    "DK0911_dict['Singletons'] = os.path.join(DK0911_ortho_dir,'190506_DK0911_vs_Ps104E_v13_singleton.csv')\n",
    "DK0911_dict['Alleles'] = os.path.join(DK0911_ortho_dir, '190506_DK0911_vs_Ps104E_v13_allele.csv')\n",
    "DK0911_dict['Paraloges'] = os.path.join(DK0911_ortho_dir, '190506_DK0911_vs_Ps104E_v13_paraloge.csv')"
   ]
  },
  {
   "cell_type": "code",
   "execution_count": 9,
   "metadata": {
    "ExecuteTime": {
     "end_time": "2019-05-09T05:56:30.176887Z",
     "start_time": "2019-05-09T05:56:30.163788Z"
    },
    "collapsed": true
   },
   "outputs": [],
   "source": [
    "def overlap_feature_names(bed_a_fn, bed_b_fn, min_f_overlap):\n",
    "    \"\"\"Count the number of unqiue genes that intersect witht basence bedfile.\n",
    "    Assumes bed_a_fn is a bed six file.\"\"\"\n",
    "    bed_a = BedTool(bed_a_fn)\n",
    "    bed_b = BedTool(bed_b_fn)\n",
    "    return bed_a.intersect(bed_b, f=min_f_overlap).to_dataframe().name.unique()"
   ]
  },
  {
   "cell_type": "code",
   "execution_count": 10,
   "metadata": {
    "ExecuteTime": {
     "end_time": "2019-05-09T05:56:30.450561Z",
     "start_time": "2019-05-09T05:56:30.436401Z"
    },
    "collapsed": true
   },
   "outputs": [],
   "source": [
    "def get_sing_para(fn):\n",
    "    if 'singleton' in fn:\n",
    "        return pd.read_csv(fn)['Query'].tolist()\n",
    "    elif 'paraloge' in fn:\n",
    "        queries = pd.read_csv(fn)['Query'].tolist()\n",
    "        targets = pd.read_csv(fn)['Target'].tolist()\n",
    "        return queries, targets\n",
    "    else:\n",
    "        raise ValueError"
   ]
  },
  {
   "cell_type": "code",
   "execution_count": 93,
   "metadata": {
    "ExecuteTime": {
     "end_time": "2019-05-09T07:33:30.607967Z",
     "start_time": "2019-05-09T07:33:30.601592Z"
    },
    "collapsed": true
   },
   "outputs": [],
   "source": [
    "def get_gene_list(bed_fn):\n",
    "    df = pd.read_csv(bed_fn, header=None, sep='\\t')\n",
    "    return df[3].unique()"
   ]
  },
  {
   "cell_type": "code",
   "execution_count": 11,
   "metadata": {
    "ExecuteTime": {
     "end_time": "2019-05-09T05:56:30.674366Z",
     "start_time": "2019-05-09T05:56:30.660824Z"
    },
    "collapsed": true
   },
   "outputs": [],
   "source": [
    "def subset_bed(name_list, bed_fn, out_fn):\n",
    "    df = pd.read_csv(bed_fn, header=None, sep='\\t')\n",
    "    df[df[3].isin(name_list)].to_csv(out_fn, sep='\\t', header=None, index=None)\n",
    "    return out_fn"
   ]
  },
  {
   "cell_type": "code",
   "execution_count": 12,
   "metadata": {
    "ExecuteTime": {
     "end_time": "2019-05-09T05:56:30.876298Z",
     "start_time": "2019-05-09T05:56:30.868633Z"
    },
    "collapsed": true
   },
   "outputs": [],
   "source": [
    "def random_genes(bed_fn, n):\n",
    "    df = pd.read_csv(bed_fn, header=None, sep='\\t')\n",
    "    return df.sample(n)[3].tolist()"
   ]
  },
  {
   "cell_type": "code",
   "execution_count": 13,
   "metadata": {
    "ExecuteTime": {
     "end_time": "2019-05-09T05:56:31.428450Z",
     "start_time": "2019-05-09T05:56:31.422980Z"
    },
    "collapsed": true
   },
   "outputs": [],
   "source": [
    "def fisher_p(test_list, expect_list):\n",
    "    return fisher_exact([[len(test_list[0]), len(test_list[1])], [len(expect_list[0]), len(expect_list[1])]])[1]"
   ]
  },
  {
   "cell_type": "code",
   "execution_count": 14,
   "metadata": {
    "ExecuteTime": {
     "end_time": "2019-05-09T05:56:31.869449Z",
     "start_time": "2019-05-09T05:56:31.854824Z"
    },
    "collapsed": true
   },
   "outputs": [],
   "source": [
    "def count_genes_in_bed(bed_fn):\n",
    "    return pd.read_csv(bed_fn, header=None, sep='\\t').shape[0]"
   ]
  },
  {
   "cell_type": "code",
   "execution_count": 15,
   "metadata": {
    "ExecuteTime": {
     "end_time": "2019-05-09T05:56:32.383287Z",
     "start_time": "2019-05-09T05:56:32.358719Z"
    },
    "collapsed": true
   },
   "outputs": [],
   "source": [
    "def summary_dict_to_df(summary_dict, outer_index, inner_index):\n",
    "    \"\"\"Convert as summary dict with multiple keys and values of same length. To a multiindex dataframe.\"\"\"\n",
    "    assert(outer_index[0:int(len(outer_index)/2)] == outer_index[int(len(outer_index)/2):])\n",
    "    assert(inner_index[0:int(len(inner_index)/2)] == inner_index[int(len(inner_index)/2):])\n",
    "    df = pd.DataFrame.from_dict(summary_dict)\n",
    "    df['Cut_off'] = [x for x in outer_index[0:int(len(outer_index)/2)]]\n",
    "    \n",
    "    df['Type'] = inner_index[0:int(len(inner_index)/2)]\n",
    "    df.sort_values(['Cut_off', 'Type'], inplace = True)\n",
    "    index = pd.MultiIndex.from_tuples(list(zip(df['Cut_off'] , df['Type'])), names=['Cut-off', 'Type'])\n",
    "    df.index = index\n",
    "    return df.loc[:, df.columns[:2]].copy()"
   ]
  },
  {
   "cell_type": "code",
   "execution_count": 232,
   "metadata": {
    "ExecuteTime": {
     "end_time": "2019-05-13T08:04:54.861240Z",
     "start_time": "2019-05-13T08:04:54.758655Z"
    },
    "collapsed": true
   },
   "outputs": [],
   "source": [
    "def plot_synteny(genome, df, color, out_fn):\n",
    "   \n",
    "    columns = [x for x in df.columns if genome in x][1:]\n",
    "    \n",
    "    f1, ax = plt.subplots(1, len(columns), figsize=(10, 5), sharey=True)\n",
    "     \n",
    "\n",
    "    for n, column in enumerate(columns):\n",
    "        sns.violinplot(y=df[df[column] == True]['aln_length'], color=color, ax=ax[n], cut =0)\n",
    "        #ax[y[0], y[1]].axhline(y=overlap, color='r', linestyle='-')\n",
    "        #ax[n].set_title(column, fontsize=16)\n",
    "        #ax[y[0], y[1]].set_yticklabels([])\n",
    "        ax[n].set_ylabel('')\n",
    "        ax[n].set_xlabel(column.replace(genome+\"_\",''), fontsize=16)\n",
    "        ax[n].text(0.05, 370, 'n=%s' % df[df[column] == True].shape[0])\n",
    "        if genome == 'DK0911':\n",
    "            _dict = DK0911_dict\n",
    "        elif genome =='Pst_104E':\n",
    "            _dict = Pst_104E_dict\n",
    "        ax[n].text(0.05, 350, 'max=%s' % len(get_gene_list\\\n",
    "                                               (_dict[column.replace(genome+\"_\",'')])))\n",
    "    ax[0].set_ylabel('Synteny Block Size', fontsize=16)\n",
    "    #f1.suptitle(genome)\n",
    "    plt.tight_layout()\n",
    "    #f1.suptitle(os.path.basename(out_fn))\n",
    "    #plt.savefig(out_fn, dpi =300)\n",
    "    sns.despine(f1)\n",
    "    return f1"
   ]
  },
  {
   "cell_type": "markdown",
   "metadata": {},
   "source": [
    "#### Start with a chek if all two inputs of orhtology and ben beds line up"
   ]
  },
  {
   "cell_type": "code",
   "execution_count": 138,
   "metadata": {
    "ExecuteTime": {
     "end_time": "2019-05-13T05:07:43.983934Z",
     "start_time": "2019-05-13T05:07:43.886901Z"
    },
    "collapsed": true
   },
   "outputs": [],
   "source": [
    "DK_all = get_gene_list(DK0911_dict['All_genes'])\n",
    "Pst_104_all = get_gene_list(Pst_104E_dict['All_genes'])"
   ]
  },
  {
   "cell_type": "code",
   "execution_count": 137,
   "metadata": {
    "ExecuteTime": {
     "end_time": "2019-05-13T05:06:14.433140Z",
     "start_time": "2019-05-13T05:06:14.218299Z"
    }
   },
   "outputs": [
    {
     "data": {
      "text/plain": [
       "True"
      ]
     },
     "execution_count": 137,
     "metadata": {},
     "output_type": "execute_result"
    }
   ],
   "source": [
    "set(DK_all) == (set(pd.read_csv(DK0911_dict['Alleles'], header=None)[1][1:].unique())\\\n",
    "| set(get_sing_para(DK0911_dict['Paraloges'])[0]) | set(get_sing_para(DK0911_dict['Singletons']))) "
   ]
  },
  {
   "cell_type": "code",
   "execution_count": 140,
   "metadata": {
    "ExecuteTime": {
     "end_time": "2019-05-13T05:09:26.025136Z",
     "start_time": "2019-05-13T05:09:25.752501Z"
    }
   },
   "outputs": [
    {
     "data": {
      "text/plain": [
       "True"
      ]
     },
     "execution_count": 140,
     "metadata": {},
     "output_type": "execute_result"
    }
   ],
   "source": [
    "set(Pst_104_all) == (set(pd.read_csv(Pst_104E_dict['Alleles'], header=None)[1][1:].unique())\\\n",
    "| set(get_sing_para(Pst_104E_dict['Paraloges'])[0]) | set(get_sing_para(Pst_104E_dict['Singletons']))) "
   ]
  },
  {
   "cell_type": "code",
   "execution_count": 23,
   "metadata": {
    "ExecuteTime": {
     "end_time": "2019-05-09T06:18:08.448039Z",
     "start_time": "2019-05-09T06:18:07.342683Z"
    }
   },
   "outputs": [
    {
     "name": "stdout",
     "output_type": "stream",
     "text": [
      "For DK_0911_v04_ph_ctg:\n",
      "WGA_missing:553, 1.48E-31\n",
      "LOWCOV_missing:724, 1.46E-32\n",
      "Combined_missing:185\n",
      "Random_missing:18\n",
      "\n",
      "For Pst_104E_v13_ph_ctg:\n",
      "WGA_missing:2084, 5.74E-201\n",
      "LOWCOV_missing:2394, 3.32E-207\n",
      "Combined_missing:1441\n",
      "Random_missing:151\n",
      "\n"
     ]
    }
   ],
   "source": [
    "#get the combined missing genes and test if the overlap is significant with a fishers exact test and randomization\n",
    "min_overlap = 1\n",
    "key = \"WGA_LOWCOV_combined_mo%s\" % str(min_overlap).replace('.','')\n",
    "\n",
    "for _dict in [DK0911_dict, Pst_104E_dict]:\n",
    "    WGA_genes = overlap_feature_names(_dict['All_genes'], _dict['WGA_95'], min_overlap)\n",
    "    WGA_random = random_genes(_dict['All_genes'], len(WGA_genes))\n",
    "    LOWCOV_genes = overlap_feature_names(_dict['All_genes'], _dict['Lowcov_01'], min_overlap)\n",
    "    LOWCOV_random = random_genes(_dict['All_genes'], len(LOWCOV_genes))\n",
    "    genome = os.path.basename(_dict['All_genes']).split('.')[0]\n",
    "    overlap_list = [x for x in WGA_genes if x in LOWCOV_genes]\n",
    "    random_overlap_list = [x for x in WGA_random if x in LOWCOV_random]\n",
    "    out_fn = os.path.join(OUT_dir, '%s.%s.bed' % (genome, key))\n",
    "    _dict[key] = subset_bed(overlap_list, _dict['All_genes'], out_fn)\n",
    "    p_WGA = fisher_p([overlap_list, WGA_genes],[random_overlap_list, WGA_genes] )\n",
    "    p_LOWCOV = fisher_p([overlap_list, LOWCOV_genes],[random_overlap_list, LOWCOV_genes] )\n",
    "    print('For %s:\\nWGA_missing:%s, %.2E\\nLOWCOV_missing:%s, %.2E\\nCombined_missing:%s\\nRandom_missing:%s\\n'%\\\n",
    "         (genome, len(WGA_genes), p_WGA,  len(LOWCOV_genes), p_LOWCOV, len(overlap_list), len(random_overlap_list)))"
   ]
  },
  {
   "cell_type": "code",
   "execution_count": 37,
   "metadata": {
    "ExecuteTime": {
     "end_time": "2019-05-09T06:28:54.271520Z",
     "start_time": "2019-05-09T06:28:53.612419Z"
    }
   },
   "outputs": [
    {
     "name": "stdout",
     "output_type": "stream",
     "text": [
      "For DK_0911_v04_ph_ctg:\n",
      "WGA_missing:553, 1.94E-15\n",
      "Singletons_missing:1275, 2.36E-16\n",
      "Combined_missing:133\n",
      "Random_missing:29\n",
      "\n",
      "For Pst_104E_v13_ph_ctg:\n",
      "WGA_missing:2084, 1.08E-27\n",
      "Singletons_missing:1404, 1.28E-26\n",
      "Combined_missing:345\n",
      "Random_missing:107\n",
      "\n"
     ]
    }
   ],
   "source": [
    "for _dict in [DK0911_dict, Pst_104E_dict]:\n",
    "    WGA_genes = overlap_feature_names(_dict['All_genes'], _dict['WGA_95'], min_overlap)\n",
    "    WGA_random = random_genes(_dict['All_genes'], len(WGA_genes))\n",
    "    singletons = get_sing_para(_dict['Singletons'])\n",
    "    singletons_random = random_genes(_dict['All_genes'], len(singletons))\n",
    "    genome = os.path.basename(_dict['All_genes']).split('.')[0]\n",
    "    overlap_list = [x for x in WGA_genes if x in singletons]\n",
    "    random_overlap_list = [x for x in WGA_random if x in singletons_random]\n",
    "    \n",
    "    p_WGA = fisher_p([overlap_list, WGA_genes],[random_overlap_list, WGA_genes] )\n",
    "    p_sing = fisher_p([overlap_list, singletons],[random_overlap_list, singletons] )\n",
    "    print('For %s:\\nWGA_missing:%s, %.2E\\nSingletons_missing:%s, %.2E\\nCombined_missing:%s\\nRandom_missing:%s\\n'%\\\n",
    "         (genome, len(WGA_genes), p_WGA,  len(singletons), p_sing, len(overlap_list), len(random_overlap_list)))\n",
    "\n"
   ]
  },
  {
   "cell_type": "code",
   "execution_count": 39,
   "metadata": {
    "ExecuteTime": {
     "end_time": "2019-05-09T06:31:47.553795Z",
     "start_time": "2019-05-09T06:31:46.683324Z"
    }
   },
   "outputs": [
    {
     "name": "stdout",
     "output_type": "stream",
     "text": [
      "For DK_0911_v04_ph_ctg:\n",
      "WGA_missing:553, 2.86E-03\n",
      "Singletons_missing:1275, 2.37E-03\n",
      "LOWCOV_missing:724, 3E-032\n",
      "Combined_missing:55\n",
      "Random_missing:27\n",
      "\n",
      "For Pst_104E_v13_ph_ctg:\n",
      "WGA_missing:2084, 1.58E-24\n",
      "Singletons_missing:1404, 8.68E-24\n",
      "LOWCOV_missing:2394, 8E-252\n",
      "Combined_missing:276\n",
      "Random_missing:80\n",
      "\n"
     ]
    }
   ],
   "source": [
    "for _dict in [DK0911_dict, Pst_104E_dict]:\n",
    "    WGA_genes = overlap_feature_names(_dict['All_genes'], _dict['WGA_95'], min_overlap)\n",
    "    WGA_random = random_genes(_dict['All_genes'], len(WGA_genes))\n",
    "    singletons = get_sing_para(_dict['Singletons'])\n",
    "    singletons_random = random_genes(_dict['All_genes'], len(singletons))\n",
    "    genome = os.path.basename(_dict['All_genes']).split('.')[0]\n",
    "    LOWCOV_genes = overlap_feature_names(_dict['All_genes'], _dict['Lowcov_01'], min_overlap)\n",
    "    LOWCOV_random = random_genes(_dict['All_genes'], len(LOWCOV_genes))\n",
    "    \n",
    "    overlap_list = [x for x in WGA_genes if x in singletons and x in LOWCOV_genes]\n",
    "    random_overlap_list = [x for x in WGA_random if x in singletons_random and LOWCOV_random]\n",
    "    \n",
    "    p_WGA = fisher_p([overlap_list, WGA_genes],[random_overlap_list, WGA_genes] )\n",
    "    p_sing = fisher_p([overlap_list, singletons],[random_overlap_list, singletons] )\n",
    "    p_LOWCOV = fisher_p([overlap_list, LOWCOV_genes],[random_overlap_list, LOWCOV_genes] )\n",
    "    print('For %s:\\nWGA_missing:%s, %.2E\\nSingletons_missing:%s, %.2E\\nLOWCOV_missing:%s, %.E2\\nCombined_missing:%s\\nRandom_missing:%s\\n'%\\\n",
    "         (genome, len(WGA_genes), p_WGA,  len(singletons), p_sing, len(LOWCOV_genes), p_LOWCOV,  len(overlap_list), len(random_overlap_list)))"
   ]
  },
  {
   "cell_type": "code",
   "execution_count": 31,
   "metadata": {
    "ExecuteTime": {
     "end_time": "2019-05-09T06:22:33.132065Z",
     "start_time": "2019-05-09T06:22:27.719572Z"
    },
    "collapsed": true
   },
   "outputs": [],
   "source": [
    "#numbers of overlaps in missing` vs. gene category and the states (as before)\n",
    "Fishers_summary_dict = {}\n",
    "Absence_summary_dict = {}\n",
    "outer_index = [] #being the cut off\n",
    "inner_index = [] #being the type of gene to look at\n",
    "Fishers_summary_dict['DK0911'] = []\n",
    "Fishers_summary_dict['Pst_104E'] = []\n",
    "Absence_summary_dict['DK0911'] = []\n",
    "Absence_summary_dict['Pst_104E'] = []\n",
    "min_overlap = 1\n",
    "key = ''\n",
    "gene_keys = ['All_genes','Busco', 'Ceffectors',  'EffectorP',   'Secretome']\n",
    "missing_keys = ['Lowcov_01', 'WGA_95',  'WGA_LOWCOV_combined_mo1',]\n",
    "\n",
    "for _dict in [DK0911_dict, Pst_104E_dict]:\n",
    "    for gene_key in gene_keys:\n",
    "        for missing_key in missing_keys:\n",
    "        \n",
    "            inner_index.append(missing_key)\n",
    "            outer_index.append(gene_key)\n",
    "            category_genes_missing = overlap_feature_names(_dict[gene_key], _dict[missing_key], min_overlap)\n",
    "            all_genes_missing = overlap_feature_names(_dict['All_genes'], _dict[missing_key], min_overlap)\n",
    "            p_value = fisher_exact([[len(category_genes_missing), count_genes_in_bed(_dict[gene_key])],\\\n",
    "                              [len(all_genes_missing), count_genes_in_bed(_dict['All_genes'])]])[1]\n",
    "            percent_lost = round(len(category_genes_missing)/count_genes_in_bed(_dict[gene_key])*100, 2)\n",
    "            absence_value = [len(category_genes_missing), count_genes_in_bed(_dict[gene_key]), percent_lost]\n",
    "            if os.path.basename(_dict['All_genes']).startswith('DK'):\n",
    "                key = 'DK0911'\n",
    "            elif os.path.basename(_dict['All_genes']).startswith('Pst_104'):\n",
    "                key = 'Pst_104E'\n",
    "            \n",
    "            Fishers_summary_dict[key].append(p_value)\n",
    "            Absence_summary_dict[key].append(absence_value)"
   ]
  },
  {
   "cell_type": "code",
   "execution_count": 32,
   "metadata": {
    "ExecuteTime": {
     "end_time": "2019-05-09T06:22:33.155192Z",
     "start_time": "2019-05-09T06:22:33.135690Z"
    },
    "collapsed": true
   },
   "outputs": [],
   "source": [
    "Fishers_df = summary_dict_to_df(Fishers_summary_dict, outer_index, inner_index)\n",
    "Absence_df = summary_dict_to_df(Absence_summary_dict, outer_index, inner_index)"
   ]
  },
  {
   "cell_type": "code",
   "execution_count": 33,
   "metadata": {
    "ExecuteTime": {
     "end_time": "2019-05-09T06:22:33.178444Z",
     "start_time": "2019-05-09T06:22:33.157658Z"
    }
   },
   "outputs": [
    {
     "data": {
      "text/html": [
       "<div>\n",
       "<style scoped>\n",
       "    .dataframe tbody tr th:only-of-type {\n",
       "        vertical-align: middle;\n",
       "    }\n",
       "\n",
       "    .dataframe tbody tr th {\n",
       "        vertical-align: top;\n",
       "    }\n",
       "\n",
       "    .dataframe thead th {\n",
       "        text-align: right;\n",
       "    }\n",
       "</style>\n",
       "<table border=\"1\" class=\"dataframe\">\n",
       "  <thead>\n",
       "    <tr style=\"text-align: right;\">\n",
       "      <th></th>\n",
       "      <th></th>\n",
       "      <th>DK0911</th>\n",
       "      <th>Pst_104E</th>\n",
       "    </tr>\n",
       "    <tr>\n",
       "      <th>Cut-off</th>\n",
       "      <th>Type</th>\n",
       "      <th></th>\n",
       "      <th></th>\n",
       "    </tr>\n",
       "  </thead>\n",
       "  <tbody>\n",
       "    <tr>\n",
       "      <th rowspan=\"3\" valign=\"top\">All_genes</th>\n",
       "      <th>Lowcov_01</th>\n",
       "      <td>1.000000e+00</td>\n",
       "      <td>1.000000e+00</td>\n",
       "    </tr>\n",
       "    <tr>\n",
       "      <th>WGA_95</th>\n",
       "      <td>1.000000e+00</td>\n",
       "      <td>1.000000e+00</td>\n",
       "    </tr>\n",
       "    <tr>\n",
       "      <th>WGA_LOWCOV_combined_mo1</th>\n",
       "      <td>1.000000e+00</td>\n",
       "      <td>1.000000e+00</td>\n",
       "    </tr>\n",
       "    <tr>\n",
       "      <th rowspan=\"3\" valign=\"top\">Busco</th>\n",
       "      <th>Lowcov_01</th>\n",
       "      <td>2.108868e-12</td>\n",
       "      <td>5.455648e-10</td>\n",
       "    </tr>\n",
       "    <tr>\n",
       "      <th>WGA_95</th>\n",
       "      <td>4.579768e-05</td>\n",
       "      <td>1.324495e-13</td>\n",
       "    </tr>\n",
       "    <tr>\n",
       "      <th>WGA_LOWCOV_combined_mo1</th>\n",
       "      <td>1.477667e-03</td>\n",
       "      <td>9.379411e-17</td>\n",
       "    </tr>\n",
       "    <tr>\n",
       "      <th rowspan=\"3\" valign=\"top\">Ceffectors</th>\n",
       "      <th>Lowcov_01</th>\n",
       "      <td>3.326542e-02</td>\n",
       "      <td>5.836811e-02</td>\n",
       "    </tr>\n",
       "    <tr>\n",
       "      <th>WGA_95</th>\n",
       "      <td>9.235022e-01</td>\n",
       "      <td>3.479875e-03</td>\n",
       "    </tr>\n",
       "    <tr>\n",
       "      <th>WGA_LOWCOV_combined_mo1</th>\n",
       "      <td>7.400221e-01</td>\n",
       "      <td>5.795804e-03</td>\n",
       "    </tr>\n",
       "    <tr>\n",
       "      <th rowspan=\"3\" valign=\"top\">EffectorP</th>\n",
       "      <th>Lowcov_01</th>\n",
       "      <td>3.326542e-02</td>\n",
       "      <td>4.923270e-02</td>\n",
       "    </tr>\n",
       "    <tr>\n",
       "      <th>WGA_95</th>\n",
       "      <td>9.235022e-01</td>\n",
       "      <td>5.003802e-01</td>\n",
       "    </tr>\n",
       "    <tr>\n",
       "      <th>WGA_LOWCOV_combined_mo1</th>\n",
       "      <td>7.400221e-01</td>\n",
       "      <td>7.886652e-01</td>\n",
       "    </tr>\n",
       "    <tr>\n",
       "      <th rowspan=\"3\" valign=\"top\">Secretome</th>\n",
       "      <th>Lowcov_01</th>\n",
       "      <td>1.436367e-06</td>\n",
       "      <td>5.983996e-02</td>\n",
       "    </tr>\n",
       "    <tr>\n",
       "      <th>WGA_95</th>\n",
       "      <td>1.839260e-02</td>\n",
       "      <td>2.438171e-03</td>\n",
       "    </tr>\n",
       "    <tr>\n",
       "      <th>WGA_LOWCOV_combined_mo1</th>\n",
       "      <td>1.750980e-02</td>\n",
       "      <td>6.937300e-05</td>\n",
       "    </tr>\n",
       "  </tbody>\n",
       "</table>\n",
       "</div>"
      ],
      "text/plain": [
       "                                          DK0911      Pst_104E\n",
       "Cut-off    Type                                               \n",
       "All_genes  Lowcov_01                1.000000e+00  1.000000e+00\n",
       "           WGA_95                   1.000000e+00  1.000000e+00\n",
       "           WGA_LOWCOV_combined_mo1  1.000000e+00  1.000000e+00\n",
       "Busco      Lowcov_01                2.108868e-12  5.455648e-10\n",
       "           WGA_95                   4.579768e-05  1.324495e-13\n",
       "           WGA_LOWCOV_combined_mo1  1.477667e-03  9.379411e-17\n",
       "Ceffectors Lowcov_01                3.326542e-02  5.836811e-02\n",
       "           WGA_95                   9.235022e-01  3.479875e-03\n",
       "           WGA_LOWCOV_combined_mo1  7.400221e-01  5.795804e-03\n",
       "EffectorP  Lowcov_01                3.326542e-02  4.923270e-02\n",
       "           WGA_95                   9.235022e-01  5.003802e-01\n",
       "           WGA_LOWCOV_combined_mo1  7.400221e-01  7.886652e-01\n",
       "Secretome  Lowcov_01                1.436367e-06  5.983996e-02\n",
       "           WGA_95                   1.839260e-02  2.438171e-03\n",
       "           WGA_LOWCOV_combined_mo1  1.750980e-02  6.937300e-05"
      ]
     },
     "execution_count": 33,
     "metadata": {},
     "output_type": "execute_result"
    }
   ],
   "source": [
    "Fishers_df"
   ]
  },
  {
   "cell_type": "code",
   "execution_count": 34,
   "metadata": {
    "ExecuteTime": {
     "end_time": "2019-05-09T06:22:37.712389Z",
     "start_time": "2019-05-09T06:22:37.682321Z"
    }
   },
   "outputs": [
    {
     "data": {
      "text/html": [
       "<div>\n",
       "<style scoped>\n",
       "    .dataframe tbody tr th:only-of-type {\n",
       "        vertical-align: middle;\n",
       "    }\n",
       "\n",
       "    .dataframe tbody tr th {\n",
       "        vertical-align: top;\n",
       "    }\n",
       "\n",
       "    .dataframe thead th {\n",
       "        text-align: right;\n",
       "    }\n",
       "</style>\n",
       "<table border=\"1\" class=\"dataframe\">\n",
       "  <thead>\n",
       "    <tr style=\"text-align: right;\">\n",
       "      <th></th>\n",
       "      <th></th>\n",
       "      <th>DK0911</th>\n",
       "      <th>Pst_104E</th>\n",
       "    </tr>\n",
       "    <tr>\n",
       "      <th>Cut-off</th>\n",
       "      <th>Type</th>\n",
       "      <th></th>\n",
       "      <th></th>\n",
       "    </tr>\n",
       "  </thead>\n",
       "  <tbody>\n",
       "    <tr>\n",
       "      <th rowspan=\"3\" valign=\"top\">All_genes</th>\n",
       "      <th>Lowcov_01</th>\n",
       "      <td>[724, 25940, 2.79]</td>\n",
       "      <td>[2394, 30249, 7.91]</td>\n",
       "    </tr>\n",
       "    <tr>\n",
       "      <th>WGA_95</th>\n",
       "      <td>[553, 25940, 2.13]</td>\n",
       "      <td>[2084, 30249, 6.89]</td>\n",
       "    </tr>\n",
       "    <tr>\n",
       "      <th>WGA_LOWCOV_combined_mo1</th>\n",
       "      <td>[185, 25940, 0.71]</td>\n",
       "      <td>[1441, 30249, 4.76]</td>\n",
       "    </tr>\n",
       "    <tr>\n",
       "      <th rowspan=\"3\" valign=\"top\">Busco</th>\n",
       "      <th>Lowcov_01</th>\n",
       "      <td>[13, 2178, 0.6]</td>\n",
       "      <td>[126, 2740, 4.6]</td>\n",
       "    </tr>\n",
       "    <tr>\n",
       "      <th>WGA_95</th>\n",
       "      <td>[20, 2178, 0.92]</td>\n",
       "      <td>[91, 2740, 3.32]</td>\n",
       "    </tr>\n",
       "    <tr>\n",
       "      <th>WGA_LOWCOV_combined_mo1</th>\n",
       "      <td>[4, 2178, 0.18]</td>\n",
       "      <td>[44, 2740, 1.61]</td>\n",
       "    </tr>\n",
       "    <tr>\n",
       "      <th rowspan=\"3\" valign=\"top\">Ceffectors</th>\n",
       "      <th>Lowcov_01</th>\n",
       "      <td>[25, 1376, 1.82]</td>\n",
       "      <td>[244, 3520, 6.93]</td>\n",
       "    </tr>\n",
       "    <tr>\n",
       "      <th>WGA_95</th>\n",
       "      <td>[28, 1376, 2.03]</td>\n",
       "      <td>[194, 3520, 5.51]</td>\n",
       "    </tr>\n",
       "    <tr>\n",
       "      <th>WGA_LOWCOV_combined_mo1</th>\n",
       "      <td>[8, 1376, 0.58]</td>\n",
       "      <td>[130, 3520, 3.69]</td>\n",
       "    </tr>\n",
       "    <tr>\n",
       "      <th rowspan=\"3\" valign=\"top\">EffectorP</th>\n",
       "      <th>Lowcov_01</th>\n",
       "      <td>[25, 1376, 1.82]</td>\n",
       "      <td>[189, 2038, 9.27]</td>\n",
       "    </tr>\n",
       "    <tr>\n",
       "      <th>WGA_95</th>\n",
       "      <td>[28, 1376, 2.03]</td>\n",
       "      <td>[149, 2038, 7.31]</td>\n",
       "    </tr>\n",
       "    <tr>\n",
       "      <th>WGA_LOWCOV_combined_mo1</th>\n",
       "      <td>[8, 1376, 0.58]</td>\n",
       "      <td>[100, 2038, 4.91]</td>\n",
       "    </tr>\n",
       "    <tr>\n",
       "      <th rowspan=\"3\" valign=\"top\">Secretome</th>\n",
       "      <th>Lowcov_01</th>\n",
       "      <td>[55, 3699, 1.49]</td>\n",
       "      <td>[327, 4637, 7.05]</td>\n",
       "    </tr>\n",
       "    <tr>\n",
       "      <th>WGA_95</th>\n",
       "      <td>[57, 3699, 1.54]</td>\n",
       "      <td>[261, 4637, 5.63]</td>\n",
       "    </tr>\n",
       "    <tr>\n",
       "      <th>WGA_LOWCOV_combined_mo1</th>\n",
       "      <td>[14, 3699, 0.38]</td>\n",
       "      <td>[159, 4637, 3.43]</td>\n",
       "    </tr>\n",
       "  </tbody>\n",
       "</table>\n",
       "</div>"
      ],
      "text/plain": [
       "                                                DK0911             Pst_104E\n",
       "Cut-off    Type                                                            \n",
       "All_genes  Lowcov_01                [724, 25940, 2.79]  [2394, 30249, 7.91]\n",
       "           WGA_95                   [553, 25940, 2.13]  [2084, 30249, 6.89]\n",
       "           WGA_LOWCOV_combined_mo1  [185, 25940, 0.71]  [1441, 30249, 4.76]\n",
       "Busco      Lowcov_01                   [13, 2178, 0.6]     [126, 2740, 4.6]\n",
       "           WGA_95                     [20, 2178, 0.92]     [91, 2740, 3.32]\n",
       "           WGA_LOWCOV_combined_mo1     [4, 2178, 0.18]     [44, 2740, 1.61]\n",
       "Ceffectors Lowcov_01                  [25, 1376, 1.82]    [244, 3520, 6.93]\n",
       "           WGA_95                     [28, 1376, 2.03]    [194, 3520, 5.51]\n",
       "           WGA_LOWCOV_combined_mo1     [8, 1376, 0.58]    [130, 3520, 3.69]\n",
       "EffectorP  Lowcov_01                  [25, 1376, 1.82]    [189, 2038, 9.27]\n",
       "           WGA_95                     [28, 1376, 2.03]    [149, 2038, 7.31]\n",
       "           WGA_LOWCOV_combined_mo1     [8, 1376, 0.58]    [100, 2038, 4.91]\n",
       "Secretome  Lowcov_01                  [55, 3699, 1.49]    [327, 4637, 7.05]\n",
       "           WGA_95                     [57, 3699, 1.54]    [261, 4637, 5.63]\n",
       "           WGA_LOWCOV_combined_mo1    [14, 3699, 0.38]    [159, 4637, 3.43]"
      ]
     },
     "execution_count": 34,
     "metadata": {},
     "output_type": "execute_result"
    }
   ],
   "source": [
    "Absence_df "
   ]
  },
  {
   "cell_type": "code",
   "execution_count": 29,
   "metadata": {
    "ExecuteTime": {
     "end_time": "2019-05-09T06:20:43.575301Z",
     "start_time": "2019-05-09T06:20:29.962800Z"
    }
   },
   "outputs": [
    {
     "name": "stdout",
     "output_type": "stream",
     "text": [
      "For DK0911:\n",
      "All_genes:[1275, 25940, 1275], 1.00E+00, 4.92\n",
      "For DK0911:\n",
      "Busco:[7, 2178, 1275], 5.91E-34, 0.32\n",
      "For DK0911:\n",
      "Ceffectors:[53, 1376, 1275], 9.31E-02, 3.85\n",
      "For DK0911:\n",
      "EffectorP:[53, 1376, 1275], 9.31E-02, 3.85\n",
      "For DK0911:\n",
      "Secretome:[109, 3699, 1275], 9.30E-08, 2.95\n",
      "For Pst_104E:\n",
      "All_genes:[1404, 30249, 1404], 1.00E+00, 4.64\n",
      "For Pst_104E:\n",
      "Busco:[17, 2740, 1404], 1.06E-31, 0.62\n",
      "For Pst_104E:\n",
      "Ceffectors:[153, 2960, 1404], 2.20E-01, 5.17\n",
      "For Pst_104E:\n",
      "EffectorP:[142, 2038, 1404], 2.07E-05, 6.97\n",
      "For Pst_104E:\n",
      "Secretome:[190, 4637, 1404], 1.21E-01, 4.10\n"
     ]
    }
   ],
   "source": [
    "#comparing number of genes in category with overlap in singletons\n",
    "#get the combined missing genes and test if the overlap is significant with a fishers exact test and randomization\n",
    "\n",
    "min_overlap = 1\n",
    "key = ''\n",
    "gene_keys = ['All_genes','Busco', 'Ceffectors',  'EffectorP',   'Secretome']\n",
    "for _dict in [DK0911_dict, Pst_104E_dict]:\n",
    "    for gene_key in gene_keys:    \n",
    "        category_genes = overlap_feature_names(_dict['All_genes'], _dict[gene_key], min_overlap)\n",
    "        all_genes = overlap_feature_names(_dict['All_genes'], _dict['All_genes'], min_overlap)\n",
    "        singletons = get_sing_para(_dict['Singletons'])\n",
    "            \n",
    "        all_genes_overlap = [x for x in all_genes if x in singletons]\n",
    "        \n",
    "            \n",
    "        catetory_genes_overlap = [x for x in category_genes if x in singletons]\n",
    "               \n",
    "        p_value = fisher_p([ catetory_genes_overlap, category_genes],[all_genes_overlap, all_genes])\n",
    "        absence_value = [len(catetory_genes_overlap), len(category_genes), len(singletons)]\n",
    "        percent_lost = len(catetory_genes_overlap)/len(category_genes) *100\n",
    "        if os.path.basename(_dict['All_genes']).startswith('DK'):\n",
    "            genome = 'DK0911'\n",
    "        elif os.path.basename(_dict['All_genes']).startswith('Pst_104'):\n",
    "            genome = 'Pst_104E'\n",
    "        \n",
    "            \n",
    "        print('For %s:\\n%s:%s, %.2E, %.2f'%\\\n",
    "         (genome, gene_key, absence_value,  p_value, percent_lost)) \n",
    "            \n",
    " "
   ]
  },
  {
   "cell_type": "code",
   "execution_count": 40,
   "metadata": {
    "ExecuteTime": {
     "end_time": "2019-05-09T06:43:29.354863Z",
     "start_time": "2019-05-09T06:43:29.350883Z"
    },
    "collapsed": true
   },
   "outputs": [],
   "source": [
    "syn_net_folder = '/home/benjamin/genome_assembly/Warrior/DK0911_v04/comp_orthology/run_SynNet/Genomes20190401_2103-SynNet-k0w0m25'\n",
    "syn_net_file = os.path.join(syn_net_folder, 'DK_PAu.collinearity')"
   ]
  },
  {
   "cell_type": "code",
   "execution_count": 153,
   "metadata": {
    "ExecuteTime": {
     "end_time": "2019-05-13T07:08:47.113181Z",
     "start_time": "2019-05-13T07:08:47.098438Z"
    },
    "collapsed": true
   },
   "outputs": [],
   "source": [
    "fn = syn_net_file"
   ]
  },
  {
   "cell_type": "markdown",
   "metadata": {},
   "source": [
    "want to get for each gene the position in the alignement, the length of the alignment, the alignement name, plus its match.\n"
   ]
  },
  {
   "cell_type": "code",
   "execution_count": 160,
   "metadata": {
    "ExecuteTime": {
     "end_time": "2019-05-13T07:09:45.517391Z",
     "start_time": "2019-05-13T07:09:44.829001Z"
    }
   },
   "outputs": [
    {
     "data": {
      "text/html": [
       "<div>\n",
       "<style scoped>\n",
       "    .dataframe tbody tr th:only-of-type {\n",
       "        vertical-align: middle;\n",
       "    }\n",
       "\n",
       "    .dataframe tbody tr th {\n",
       "        vertical-align: top;\n",
       "    }\n",
       "\n",
       "    .dataframe thead th {\n",
       "        text-align: right;\n",
       "    }\n",
       "</style>\n",
       "<table border=\"1\" class=\"dataframe\">\n",
       "  <thead>\n",
       "    <tr style=\"text-align: right;\">\n",
       "      <th></th>\n",
       "      <th>DK0911</th>\n",
       "      <th>Pst_104E</th>\n",
       "      <th>aln_length</th>\n",
       "      <th>aln_name</th>\n",
       "      <th>aln_position</th>\n",
       "      <th>distance_3</th>\n",
       "      <th>distance_5</th>\n",
       "    </tr>\n",
       "  </thead>\n",
       "  <tbody>\n",
       "    <tr>\n",
       "      <th>0</th>\n",
       "      <td>DK0911_00336</td>\n",
       "      <td>Pst104E_18142</td>\n",
       "      <td>6</td>\n",
       "      <td>Alignment 0</td>\n",
       "      <td>0</td>\n",
       "      <td>6</td>\n",
       "      <td>0</td>\n",
       "    </tr>\n",
       "    <tr>\n",
       "      <th>1</th>\n",
       "      <td>DK0911_00337</td>\n",
       "      <td>Pst104E_18143</td>\n",
       "      <td>6</td>\n",
       "      <td>Alignment 0</td>\n",
       "      <td>1</td>\n",
       "      <td>5</td>\n",
       "      <td>1</td>\n",
       "    </tr>\n",
       "    <tr>\n",
       "      <th>2</th>\n",
       "      <td>DK0911_00338</td>\n",
       "      <td>Pst104E_18144</td>\n",
       "      <td>6</td>\n",
       "      <td>Alignment 0</td>\n",
       "      <td>2</td>\n",
       "      <td>4</td>\n",
       "      <td>2</td>\n",
       "    </tr>\n",
       "    <tr>\n",
       "      <th>3</th>\n",
       "      <td>DK0911_00339</td>\n",
       "      <td>Pst104E_18145</td>\n",
       "      <td>6</td>\n",
       "      <td>Alignment 0</td>\n",
       "      <td>3</td>\n",
       "      <td>3</td>\n",
       "      <td>3</td>\n",
       "    </tr>\n",
       "    <tr>\n",
       "      <th>4</th>\n",
       "      <td>DK0911_00340</td>\n",
       "      <td>Pst104E_18146</td>\n",
       "      <td>6</td>\n",
       "      <td>Alignment 0</td>\n",
       "      <td>4</td>\n",
       "      <td>2</td>\n",
       "      <td>4</td>\n",
       "    </tr>\n",
       "    <tr>\n",
       "      <th>5</th>\n",
       "      <td>DK0911_00341</td>\n",
       "      <td>Pst104E_18147</td>\n",
       "      <td>6</td>\n",
       "      <td>Alignment 0</td>\n",
       "      <td>5</td>\n",
       "      <td>1</td>\n",
       "      <td>5</td>\n",
       "    </tr>\n",
       "    <tr>\n",
       "      <th>6</th>\n",
       "      <td>DK0911_00004</td>\n",
       "      <td>Pst104E_18230</td>\n",
       "      <td>230</td>\n",
       "      <td>Alignment 1</td>\n",
       "      <td>0</td>\n",
       "      <td>230</td>\n",
       "      <td>0</td>\n",
       "    </tr>\n",
       "    <tr>\n",
       "      <th>7</th>\n",
       "      <td>DK0911_00005</td>\n",
       "      <td>Pst104E_18231</td>\n",
       "      <td>230</td>\n",
       "      <td>Alignment 1</td>\n",
       "      <td>1</td>\n",
       "      <td>229</td>\n",
       "      <td>1</td>\n",
       "    </tr>\n",
       "    <tr>\n",
       "      <th>8</th>\n",
       "      <td>DK0911_00006</td>\n",
       "      <td>Pst104E_18232</td>\n",
       "      <td>230</td>\n",
       "      <td>Alignment 1</td>\n",
       "      <td>2</td>\n",
       "      <td>228</td>\n",
       "      <td>2</td>\n",
       "    </tr>\n",
       "    <tr>\n",
       "      <th>9</th>\n",
       "      <td>DK0911_00011</td>\n",
       "      <td>Pst104E_18233</td>\n",
       "      <td>230</td>\n",
       "      <td>Alignment 1</td>\n",
       "      <td>3</td>\n",
       "      <td>227</td>\n",
       "      <td>3</td>\n",
       "    </tr>\n",
       "    <tr>\n",
       "      <th>10</th>\n",
       "      <td>DK0911_00012</td>\n",
       "      <td>Pst104E_18234</td>\n",
       "      <td>230</td>\n",
       "      <td>Alignment 1</td>\n",
       "      <td>4</td>\n",
       "      <td>226</td>\n",
       "      <td>4</td>\n",
       "    </tr>\n",
       "    <tr>\n",
       "      <th>11</th>\n",
       "      <td>DK0911_00017</td>\n",
       "      <td>Pst104E_18235</td>\n",
       "      <td>230</td>\n",
       "      <td>Alignment 1</td>\n",
       "      <td>5</td>\n",
       "      <td>225</td>\n",
       "      <td>5</td>\n",
       "    </tr>\n",
       "    <tr>\n",
       "      <th>12</th>\n",
       "      <td>DK0911_00020</td>\n",
       "      <td>Pst104E_18236</td>\n",
       "      <td>230</td>\n",
       "      <td>Alignment 1</td>\n",
       "      <td>6</td>\n",
       "      <td>224</td>\n",
       "      <td>6</td>\n",
       "    </tr>\n",
       "    <tr>\n",
       "      <th>13</th>\n",
       "      <td>DK0911_00021</td>\n",
       "      <td>Pst104E_18237</td>\n",
       "      <td>230</td>\n",
       "      <td>Alignment 1</td>\n",
       "      <td>7</td>\n",
       "      <td>223</td>\n",
       "      <td>7</td>\n",
       "    </tr>\n",
       "    <tr>\n",
       "      <th>14</th>\n",
       "      <td>DK0911_00023</td>\n",
       "      <td>Pst104E_18238</td>\n",
       "      <td>230</td>\n",
       "      <td>Alignment 1</td>\n",
       "      <td>8</td>\n",
       "      <td>222</td>\n",
       "      <td>8</td>\n",
       "    </tr>\n",
       "    <tr>\n",
       "      <th>15</th>\n",
       "      <td>DK0911_00024</td>\n",
       "      <td>Pst104E_18239</td>\n",
       "      <td>230</td>\n",
       "      <td>Alignment 1</td>\n",
       "      <td>9</td>\n",
       "      <td>221</td>\n",
       "      <td>9</td>\n",
       "    </tr>\n",
       "    <tr>\n",
       "      <th>16</th>\n",
       "      <td>DK0911_00025</td>\n",
       "      <td>Pst104E_18240</td>\n",
       "      <td>230</td>\n",
       "      <td>Alignment 1</td>\n",
       "      <td>10</td>\n",
       "      <td>220</td>\n",
       "      <td>10</td>\n",
       "    </tr>\n",
       "    <tr>\n",
       "      <th>17</th>\n",
       "      <td>DK0911_00026</td>\n",
       "      <td>Pst104E_18241</td>\n",
       "      <td>230</td>\n",
       "      <td>Alignment 1</td>\n",
       "      <td>11</td>\n",
       "      <td>219</td>\n",
       "      <td>11</td>\n",
       "    </tr>\n",
       "    <tr>\n",
       "      <th>18</th>\n",
       "      <td>DK0911_00027</td>\n",
       "      <td>Pst104E_18242</td>\n",
       "      <td>230</td>\n",
       "      <td>Alignment 1</td>\n",
       "      <td>12</td>\n",
       "      <td>218</td>\n",
       "      <td>12</td>\n",
       "    </tr>\n",
       "    <tr>\n",
       "      <th>19</th>\n",
       "      <td>DK0911_00028</td>\n",
       "      <td>Pst104E_18243</td>\n",
       "      <td>230</td>\n",
       "      <td>Alignment 1</td>\n",
       "      <td>13</td>\n",
       "      <td>217</td>\n",
       "      <td>13</td>\n",
       "    </tr>\n",
       "    <tr>\n",
       "      <th>20</th>\n",
       "      <td>DK0911_00030</td>\n",
       "      <td>Pst104E_18244</td>\n",
       "      <td>230</td>\n",
       "      <td>Alignment 1</td>\n",
       "      <td>14</td>\n",
       "      <td>216</td>\n",
       "      <td>14</td>\n",
       "    </tr>\n",
       "    <tr>\n",
       "      <th>21</th>\n",
       "      <td>DK0911_00031</td>\n",
       "      <td>Pst104E_18245</td>\n",
       "      <td>230</td>\n",
       "      <td>Alignment 1</td>\n",
       "      <td>15</td>\n",
       "      <td>215</td>\n",
       "      <td>15</td>\n",
       "    </tr>\n",
       "    <tr>\n",
       "      <th>22</th>\n",
       "      <td>DK0911_00033</td>\n",
       "      <td>Pst104E_18246</td>\n",
       "      <td>230</td>\n",
       "      <td>Alignment 1</td>\n",
       "      <td>16</td>\n",
       "      <td>214</td>\n",
       "      <td>16</td>\n",
       "    </tr>\n",
       "    <tr>\n",
       "      <th>23</th>\n",
       "      <td>DK0911_00034</td>\n",
       "      <td>Pst104E_18247</td>\n",
       "      <td>230</td>\n",
       "      <td>Alignment 1</td>\n",
       "      <td>17</td>\n",
       "      <td>213</td>\n",
       "      <td>17</td>\n",
       "    </tr>\n",
       "    <tr>\n",
       "      <th>24</th>\n",
       "      <td>DK0911_00036</td>\n",
       "      <td>Pst104E_18248</td>\n",
       "      <td>230</td>\n",
       "      <td>Alignment 1</td>\n",
       "      <td>18</td>\n",
       "      <td>212</td>\n",
       "      <td>18</td>\n",
       "    </tr>\n",
       "    <tr>\n",
       "      <th>25</th>\n",
       "      <td>DK0911_00037</td>\n",
       "      <td>Pst104E_18249</td>\n",
       "      <td>230</td>\n",
       "      <td>Alignment 1</td>\n",
       "      <td>19</td>\n",
       "      <td>211</td>\n",
       "      <td>19</td>\n",
       "    </tr>\n",
       "    <tr>\n",
       "      <th>26</th>\n",
       "      <td>DK0911_00038</td>\n",
       "      <td>Pst104E_18250</td>\n",
       "      <td>230</td>\n",
       "      <td>Alignment 1</td>\n",
       "      <td>20</td>\n",
       "      <td>210</td>\n",
       "      <td>20</td>\n",
       "    </tr>\n",
       "    <tr>\n",
       "      <th>27</th>\n",
       "      <td>DK0911_00039</td>\n",
       "      <td>Pst104E_18251</td>\n",
       "      <td>230</td>\n",
       "      <td>Alignment 1</td>\n",
       "      <td>21</td>\n",
       "      <td>209</td>\n",
       "      <td>21</td>\n",
       "    </tr>\n",
       "    <tr>\n",
       "      <th>28</th>\n",
       "      <td>DK0911_00040</td>\n",
       "      <td>Pst104E_18252</td>\n",
       "      <td>230</td>\n",
       "      <td>Alignment 1</td>\n",
       "      <td>22</td>\n",
       "      <td>208</td>\n",
       "      <td>22</td>\n",
       "    </tr>\n",
       "    <tr>\n",
       "      <th>29</th>\n",
       "      <td>DK0911_00041</td>\n",
       "      <td>Pst104E_18253</td>\n",
       "      <td>230</td>\n",
       "      <td>Alignment 1</td>\n",
       "      <td>23</td>\n",
       "      <td>207</td>\n",
       "      <td>23</td>\n",
       "    </tr>\n",
       "    <tr>\n",
       "      <th>...</th>\n",
       "      <td>...</td>\n",
       "      <td>...</td>\n",
       "      <td>...</td>\n",
       "      <td>...</td>\n",
       "      <td>...</td>\n",
       "      <td>...</td>\n",
       "      <td>...</td>\n",
       "    </tr>\n",
       "    <tr>\n",
       "      <th>54814</th>\n",
       "      <td>DK0911_31275</td>\n",
       "      <td>Pst104E_29546</td>\n",
       "      <td>13</td>\n",
       "      <td>Alignment 3521</td>\n",
       "      <td>11</td>\n",
       "      <td>2</td>\n",
       "      <td>11</td>\n",
       "    </tr>\n",
       "    <tr>\n",
       "      <th>54815</th>\n",
       "      <td>DK0911_31278</td>\n",
       "      <td>Pst104E_29544</td>\n",
       "      <td>13</td>\n",
       "      <td>Alignment 3521</td>\n",
       "      <td>12</td>\n",
       "      <td>1</td>\n",
       "      <td>12</td>\n",
       "    </tr>\n",
       "    <tr>\n",
       "      <th>54816</th>\n",
       "      <td>DK0911_31260</td>\n",
       "      <td>Pst104E_29634</td>\n",
       "      <td>15</td>\n",
       "      <td>Alignment 3522</td>\n",
       "      <td>0</td>\n",
       "      <td>15</td>\n",
       "      <td>0</td>\n",
       "    </tr>\n",
       "    <tr>\n",
       "      <th>54817</th>\n",
       "      <td>DK0911_31261</td>\n",
       "      <td>Pst104E_29633</td>\n",
       "      <td>15</td>\n",
       "      <td>Alignment 3522</td>\n",
       "      <td>1</td>\n",
       "      <td>14</td>\n",
       "      <td>1</td>\n",
       "    </tr>\n",
       "    <tr>\n",
       "      <th>54818</th>\n",
       "      <td>DK0911_31262</td>\n",
       "      <td>Pst104E_29632</td>\n",
       "      <td>15</td>\n",
       "      <td>Alignment 3522</td>\n",
       "      <td>2</td>\n",
       "      <td>13</td>\n",
       "      <td>2</td>\n",
       "    </tr>\n",
       "    <tr>\n",
       "      <th>54819</th>\n",
       "      <td>DK0911_31263</td>\n",
       "      <td>Pst104E_29631</td>\n",
       "      <td>15</td>\n",
       "      <td>Alignment 3522</td>\n",
       "      <td>3</td>\n",
       "      <td>12</td>\n",
       "      <td>3</td>\n",
       "    </tr>\n",
       "    <tr>\n",
       "      <th>54820</th>\n",
       "      <td>DK0911_31264</td>\n",
       "      <td>Pst104E_29630</td>\n",
       "      <td>15</td>\n",
       "      <td>Alignment 3522</td>\n",
       "      <td>4</td>\n",
       "      <td>11</td>\n",
       "      <td>4</td>\n",
       "    </tr>\n",
       "    <tr>\n",
       "      <th>54821</th>\n",
       "      <td>DK0911_31267</td>\n",
       "      <td>Pst104E_29629</td>\n",
       "      <td>15</td>\n",
       "      <td>Alignment 3522</td>\n",
       "      <td>5</td>\n",
       "      <td>10</td>\n",
       "      <td>5</td>\n",
       "    </tr>\n",
       "    <tr>\n",
       "      <th>54822</th>\n",
       "      <td>DK0911_31268</td>\n",
       "      <td>Pst104E_29628</td>\n",
       "      <td>15</td>\n",
       "      <td>Alignment 3522</td>\n",
       "      <td>6</td>\n",
       "      <td>9</td>\n",
       "      <td>6</td>\n",
       "    </tr>\n",
       "    <tr>\n",
       "      <th>54823</th>\n",
       "      <td>DK0911_31269</td>\n",
       "      <td>Pst104E_29627</td>\n",
       "      <td>15</td>\n",
       "      <td>Alignment 3522</td>\n",
       "      <td>7</td>\n",
       "      <td>8</td>\n",
       "      <td>7</td>\n",
       "    </tr>\n",
       "    <tr>\n",
       "      <th>54824</th>\n",
       "      <td>DK0911_31271</td>\n",
       "      <td>Pst104E_29626</td>\n",
       "      <td>15</td>\n",
       "      <td>Alignment 3522</td>\n",
       "      <td>8</td>\n",
       "      <td>7</td>\n",
       "      <td>8</td>\n",
       "    </tr>\n",
       "    <tr>\n",
       "      <th>54825</th>\n",
       "      <td>DK0911_31272</td>\n",
       "      <td>Pst104E_29625</td>\n",
       "      <td>15</td>\n",
       "      <td>Alignment 3522</td>\n",
       "      <td>9</td>\n",
       "      <td>6</td>\n",
       "      <td>9</td>\n",
       "    </tr>\n",
       "    <tr>\n",
       "      <th>54826</th>\n",
       "      <td>DK0911_31273</td>\n",
       "      <td>Pst104E_29624</td>\n",
       "      <td>15</td>\n",
       "      <td>Alignment 3522</td>\n",
       "      <td>10</td>\n",
       "      <td>5</td>\n",
       "      <td>10</td>\n",
       "    </tr>\n",
       "    <tr>\n",
       "      <th>54827</th>\n",
       "      <td>DK0911_31274</td>\n",
       "      <td>Pst104E_29623</td>\n",
       "      <td>15</td>\n",
       "      <td>Alignment 3522</td>\n",
       "      <td>11</td>\n",
       "      <td>4</td>\n",
       "      <td>11</td>\n",
       "    </tr>\n",
       "    <tr>\n",
       "      <th>54828</th>\n",
       "      <td>DK0911_31275</td>\n",
       "      <td>Pst104E_29621</td>\n",
       "      <td>15</td>\n",
       "      <td>Alignment 3522</td>\n",
       "      <td>12</td>\n",
       "      <td>3</td>\n",
       "      <td>12</td>\n",
       "    </tr>\n",
       "    <tr>\n",
       "      <th>54829</th>\n",
       "      <td>DK0911_31276</td>\n",
       "      <td>Pst104E_29620</td>\n",
       "      <td>15</td>\n",
       "      <td>Alignment 3522</td>\n",
       "      <td>13</td>\n",
       "      <td>2</td>\n",
       "      <td>13</td>\n",
       "    </tr>\n",
       "    <tr>\n",
       "      <th>54830</th>\n",
       "      <td>DK0911_31278</td>\n",
       "      <td>Pst104E_29619</td>\n",
       "      <td>15</td>\n",
       "      <td>Alignment 3522</td>\n",
       "      <td>14</td>\n",
       "      <td>1</td>\n",
       "      <td>14</td>\n",
       "    </tr>\n",
       "    <tr>\n",
       "      <th>54831</th>\n",
       "      <td>DK0911_31261</td>\n",
       "      <td>Pst104E_14105</td>\n",
       "      <td>13</td>\n",
       "      <td>Alignment 3523</td>\n",
       "      <td>0</td>\n",
       "      <td>13</td>\n",
       "      <td>0</td>\n",
       "    </tr>\n",
       "    <tr>\n",
       "      <th>54832</th>\n",
       "      <td>DK0911_31262</td>\n",
       "      <td>Pst104E_14104</td>\n",
       "      <td>13</td>\n",
       "      <td>Alignment 3523</td>\n",
       "      <td>1</td>\n",
       "      <td>12</td>\n",
       "      <td>1</td>\n",
       "    </tr>\n",
       "    <tr>\n",
       "      <th>54833</th>\n",
       "      <td>DK0911_31263</td>\n",
       "      <td>Pst104E_14103</td>\n",
       "      <td>13</td>\n",
       "      <td>Alignment 3523</td>\n",
       "      <td>2</td>\n",
       "      <td>11</td>\n",
       "      <td>2</td>\n",
       "    </tr>\n",
       "    <tr>\n",
       "      <th>54834</th>\n",
       "      <td>DK0911_31264</td>\n",
       "      <td>Pst104E_14102</td>\n",
       "      <td>13</td>\n",
       "      <td>Alignment 3523</td>\n",
       "      <td>3</td>\n",
       "      <td>10</td>\n",
       "      <td>3</td>\n",
       "    </tr>\n",
       "    <tr>\n",
       "      <th>54835</th>\n",
       "      <td>DK0911_31267</td>\n",
       "      <td>Pst104E_14101</td>\n",
       "      <td>13</td>\n",
       "      <td>Alignment 3523</td>\n",
       "      <td>4</td>\n",
       "      <td>9</td>\n",
       "      <td>4</td>\n",
       "    </tr>\n",
       "    <tr>\n",
       "      <th>54836</th>\n",
       "      <td>DK0911_31268</td>\n",
       "      <td>Pst104E_14100</td>\n",
       "      <td>13</td>\n",
       "      <td>Alignment 3523</td>\n",
       "      <td>5</td>\n",
       "      <td>8</td>\n",
       "      <td>5</td>\n",
       "    </tr>\n",
       "    <tr>\n",
       "      <th>54837</th>\n",
       "      <td>DK0911_31271</td>\n",
       "      <td>Pst104E_14098</td>\n",
       "      <td>13</td>\n",
       "      <td>Alignment 3523</td>\n",
       "      <td>6</td>\n",
       "      <td>7</td>\n",
       "      <td>6</td>\n",
       "    </tr>\n",
       "    <tr>\n",
       "      <th>54838</th>\n",
       "      <td>DK0911_31272</td>\n",
       "      <td>Pst104E_14097</td>\n",
       "      <td>13</td>\n",
       "      <td>Alignment 3523</td>\n",
       "      <td>7</td>\n",
       "      <td>6</td>\n",
       "      <td>7</td>\n",
       "    </tr>\n",
       "    <tr>\n",
       "      <th>54839</th>\n",
       "      <td>DK0911_31273</td>\n",
       "      <td>Pst104E_14096</td>\n",
       "      <td>13</td>\n",
       "      <td>Alignment 3523</td>\n",
       "      <td>8</td>\n",
       "      <td>5</td>\n",
       "      <td>8</td>\n",
       "    </tr>\n",
       "    <tr>\n",
       "      <th>54840</th>\n",
       "      <td>DK0911_31274</td>\n",
       "      <td>Pst104E_14095</td>\n",
       "      <td>13</td>\n",
       "      <td>Alignment 3523</td>\n",
       "      <td>9</td>\n",
       "      <td>4</td>\n",
       "      <td>9</td>\n",
       "    </tr>\n",
       "    <tr>\n",
       "      <th>54841</th>\n",
       "      <td>DK0911_31275</td>\n",
       "      <td>Pst104E_14093</td>\n",
       "      <td>13</td>\n",
       "      <td>Alignment 3523</td>\n",
       "      <td>10</td>\n",
       "      <td>3</td>\n",
       "      <td>10</td>\n",
       "    </tr>\n",
       "    <tr>\n",
       "      <th>54842</th>\n",
       "      <td>DK0911_31276</td>\n",
       "      <td>Pst104E_14092</td>\n",
       "      <td>13</td>\n",
       "      <td>Alignment 3523</td>\n",
       "      <td>11</td>\n",
       "      <td>2</td>\n",
       "      <td>11</td>\n",
       "    </tr>\n",
       "    <tr>\n",
       "      <th>54843</th>\n",
       "      <td>DK0911_31278</td>\n",
       "      <td>Pst104E_14091</td>\n",
       "      <td>13</td>\n",
       "      <td>Alignment 3523</td>\n",
       "      <td>12</td>\n",
       "      <td>1</td>\n",
       "      <td>12</td>\n",
       "    </tr>\n",
       "  </tbody>\n",
       "</table>\n",
       "<p>54844 rows × 7 columns</p>\n",
       "</div>"
      ],
      "text/plain": [
       "             DK0911       Pst_104E  aln_length        aln_name  aln_position  \\\n",
       "0      DK0911_00336  Pst104E_18142           6     Alignment 0             0   \n",
       "1      DK0911_00337  Pst104E_18143           6     Alignment 0             1   \n",
       "2      DK0911_00338  Pst104E_18144           6     Alignment 0             2   \n",
       "3      DK0911_00339  Pst104E_18145           6     Alignment 0             3   \n",
       "4      DK0911_00340  Pst104E_18146           6     Alignment 0             4   \n",
       "5      DK0911_00341  Pst104E_18147           6     Alignment 0             5   \n",
       "6      DK0911_00004  Pst104E_18230         230     Alignment 1             0   \n",
       "7      DK0911_00005  Pst104E_18231         230     Alignment 1             1   \n",
       "8      DK0911_00006  Pst104E_18232         230     Alignment 1             2   \n",
       "9      DK0911_00011  Pst104E_18233         230     Alignment 1             3   \n",
       "10     DK0911_00012  Pst104E_18234         230     Alignment 1             4   \n",
       "11     DK0911_00017  Pst104E_18235         230     Alignment 1             5   \n",
       "12     DK0911_00020  Pst104E_18236         230     Alignment 1             6   \n",
       "13     DK0911_00021  Pst104E_18237         230     Alignment 1             7   \n",
       "14     DK0911_00023  Pst104E_18238         230     Alignment 1             8   \n",
       "15     DK0911_00024  Pst104E_18239         230     Alignment 1             9   \n",
       "16     DK0911_00025  Pst104E_18240         230     Alignment 1            10   \n",
       "17     DK0911_00026  Pst104E_18241         230     Alignment 1            11   \n",
       "18     DK0911_00027  Pst104E_18242         230     Alignment 1            12   \n",
       "19     DK0911_00028  Pst104E_18243         230     Alignment 1            13   \n",
       "20     DK0911_00030  Pst104E_18244         230     Alignment 1            14   \n",
       "21     DK0911_00031  Pst104E_18245         230     Alignment 1            15   \n",
       "22     DK0911_00033  Pst104E_18246         230     Alignment 1            16   \n",
       "23     DK0911_00034  Pst104E_18247         230     Alignment 1            17   \n",
       "24     DK0911_00036  Pst104E_18248         230     Alignment 1            18   \n",
       "25     DK0911_00037  Pst104E_18249         230     Alignment 1            19   \n",
       "26     DK0911_00038  Pst104E_18250         230     Alignment 1            20   \n",
       "27     DK0911_00039  Pst104E_18251         230     Alignment 1            21   \n",
       "28     DK0911_00040  Pst104E_18252         230     Alignment 1            22   \n",
       "29     DK0911_00041  Pst104E_18253         230     Alignment 1            23   \n",
       "...             ...            ...         ...             ...           ...   \n",
       "54814  DK0911_31275  Pst104E_29546          13  Alignment 3521            11   \n",
       "54815  DK0911_31278  Pst104E_29544          13  Alignment 3521            12   \n",
       "54816  DK0911_31260  Pst104E_29634          15  Alignment 3522             0   \n",
       "54817  DK0911_31261  Pst104E_29633          15  Alignment 3522             1   \n",
       "54818  DK0911_31262  Pst104E_29632          15  Alignment 3522             2   \n",
       "54819  DK0911_31263  Pst104E_29631          15  Alignment 3522             3   \n",
       "54820  DK0911_31264  Pst104E_29630          15  Alignment 3522             4   \n",
       "54821  DK0911_31267  Pst104E_29629          15  Alignment 3522             5   \n",
       "54822  DK0911_31268  Pst104E_29628          15  Alignment 3522             6   \n",
       "54823  DK0911_31269  Pst104E_29627          15  Alignment 3522             7   \n",
       "54824  DK0911_31271  Pst104E_29626          15  Alignment 3522             8   \n",
       "54825  DK0911_31272  Pst104E_29625          15  Alignment 3522             9   \n",
       "54826  DK0911_31273  Pst104E_29624          15  Alignment 3522            10   \n",
       "54827  DK0911_31274  Pst104E_29623          15  Alignment 3522            11   \n",
       "54828  DK0911_31275  Pst104E_29621          15  Alignment 3522            12   \n",
       "54829  DK0911_31276  Pst104E_29620          15  Alignment 3522            13   \n",
       "54830  DK0911_31278  Pst104E_29619          15  Alignment 3522            14   \n",
       "54831  DK0911_31261  Pst104E_14105          13  Alignment 3523             0   \n",
       "54832  DK0911_31262  Pst104E_14104          13  Alignment 3523             1   \n",
       "54833  DK0911_31263  Pst104E_14103          13  Alignment 3523             2   \n",
       "54834  DK0911_31264  Pst104E_14102          13  Alignment 3523             3   \n",
       "54835  DK0911_31267  Pst104E_14101          13  Alignment 3523             4   \n",
       "54836  DK0911_31268  Pst104E_14100          13  Alignment 3523             5   \n",
       "54837  DK0911_31271  Pst104E_14098          13  Alignment 3523             6   \n",
       "54838  DK0911_31272  Pst104E_14097          13  Alignment 3523             7   \n",
       "54839  DK0911_31273  Pst104E_14096          13  Alignment 3523             8   \n",
       "54840  DK0911_31274  Pst104E_14095          13  Alignment 3523             9   \n",
       "54841  DK0911_31275  Pst104E_14093          13  Alignment 3523            10   \n",
       "54842  DK0911_31276  Pst104E_14092          13  Alignment 3523            11   \n",
       "54843  DK0911_31278  Pst104E_14091          13  Alignment 3523            12   \n",
       "\n",
       "       distance_3  distance_5  \n",
       "0               6           0  \n",
       "1               5           1  \n",
       "2               4           2  \n",
       "3               3           3  \n",
       "4               2           4  \n",
       "5               1           5  \n",
       "6             230           0  \n",
       "7             229           1  \n",
       "8             228           2  \n",
       "9             227           3  \n",
       "10            226           4  \n",
       "11            225           5  \n",
       "12            224           6  \n",
       "13            223           7  \n",
       "14            222           8  \n",
       "15            221           9  \n",
       "16            220          10  \n",
       "17            219          11  \n",
       "18            218          12  \n",
       "19            217          13  \n",
       "20            216          14  \n",
       "21            215          15  \n",
       "22            214          16  \n",
       "23            213          17  \n",
       "24            212          18  \n",
       "25            211          19  \n",
       "26            210          20  \n",
       "27            209          21  \n",
       "28            208          22  \n",
       "29            207          23  \n",
       "...           ...         ...  \n",
       "54814           2          11  \n",
       "54815           1          12  \n",
       "54816          15           0  \n",
       "54817          14           1  \n",
       "54818          13           2  \n",
       "54819          12           3  \n",
       "54820          11           4  \n",
       "54821          10           5  \n",
       "54822           9           6  \n",
       "54823           8           7  \n",
       "54824           7           8  \n",
       "54825           6           9  \n",
       "54826           5          10  \n",
       "54827           4          11  \n",
       "54828           3          12  \n",
       "54829           2          13  \n",
       "54830           1          14  \n",
       "54831          13           0  \n",
       "54832          12           1  \n",
       "54833          11           2  \n",
       "54834          10           3  \n",
       "54835           9           4  \n",
       "54836           8           5  \n",
       "54837           7           6  \n",
       "54838           6           7  \n",
       "54839           5           8  \n",
       "54840           4           9  \n",
       "54841           3          10  \n",
       "54842           2          11  \n",
       "54843           1          12  \n",
       "\n",
       "[54844 rows x 7 columns]"
      ]
     },
     "execution_count": 160,
     "metadata": {},
     "output_type": "execute_result"
    }
   ],
   "source": [
    "synteny_dict = {}\n",
    "synteny_dict['aln_name'] = []\n",
    "synteny_dict['aln_position'] = []\n",
    "synteny_dict['aln_length'] = []\n",
    "synteny_dict['Pst_104E'] = []\n",
    "synteny_dict['DK0911'] = []\n",
    "synteny_dict['distance_5'] = []\n",
    "synteny_dict['distance_3'] = []\n",
    "len_pattern = re.compile(r'N=([^ ]*)')\n",
    "d_pattern = re.compile(r'DK[^\\t]*')\n",
    "p_pattern = re.compile(r'Pst[^\\t]*')\n",
    "position_pattern = re.compile(r'-([^:]*)')\n",
    "count = 0\n",
    "with open(fn, 'r') as fh:\n",
    "    for line in fh:\n",
    "        line.rstrip()\n",
    "        count = count + 1\n",
    "        if line.startswith(r'## '):\n",
    "            aln_len = int(re.findall(len_pattern, line)[0])\n",
    "            aln_name = line.split(':')[0][3:]\n",
    "        elif not line.startswith(r'#'):\n",
    "            aln_position = int(re.findall(position_pattern , line)[0].replace(' ', ''))\n",
    "            synteny_dict['DK0911'].append(re.findall(d_pattern, line)[0])\n",
    "            synteny_dict['Pst_104E'].append(re.findall(p_pattern, line)[0])\n",
    "            synteny_dict['aln_name'].append(aln_name)\n",
    "            synteny_dict['aln_length'].append(aln_len)\n",
    "            synteny_dict['aln_position'].append(aln_position)\n",
    "            synteny_dict['distance_5'].append(aln_position)\n",
    "            synteny_dict['distance_3'].append(aln_len - aln_position)\n",
    "syn_df = pd.DataFrame.from_dict(synteny_dict)\n",
    "syn_df"
   ]
  },
  {
   "cell_type": "code",
   "execution_count": 161,
   "metadata": {
    "ExecuteTime": {
     "end_time": "2019-05-13T07:09:46.457896Z",
     "start_time": "2019-05-13T07:09:46.100646Z"
    }
   },
   "outputs": [
    {
     "name": "stdout",
     "output_type": "stream",
     "text": [
      "DK0911_All_genes\n",
      "59.551053898329805\n",
      "23.0\n",
      "Pst_104E_All_genes\n",
      "59.551053898329805\n",
      "23.0\n",
      "DK0911_Busco\n",
      "77.74589008924377\n",
      "42.0\n",
      "Pst_104E_Busco\n",
      "78.15622182146078\n",
      "42.5\n",
      "DK0911_Ceffectors\n",
      "66.33576158940397\n",
      "30.0\n",
      "Pst_104E_Ceffectors\n",
      "64.18839501580807\n",
      "29.0\n",
      "DK0911_EffectorP\n",
      "66.33576158940397\n",
      "30.0\n",
      "Pst_104E_EffectorP\n",
      "64.71628972230175\n",
      "30.0\n",
      "DK0911_Secretome\n",
      "63.06071757129715\n",
      "28.0\n",
      "Pst_104E_Secretome\n",
      "62.88196983546618\n",
      "27.0\n"
     ]
    }
   ],
   "source": [
    "gene_keys = ['All_genes','Busco', 'Ceffectors',  'EffectorP',   'Secretome']\n",
    "for gene_type in gene_keys:\n",
    "    for _dict in [DK0911_dict, Pst_104E_dict]:\n",
    "        if os.path.basename(_dict['All_genes']).startswith('DK'):\n",
    "            key = 'DK0911_%s' % gene_type\n",
    "            _tmp_index = syn_df['DK0911'].isin(get_gene_list(_dict[gene_type]))\n",
    "            \n",
    "        elif os.path.basename(_dict['All_genes']).startswith('Pst'):\n",
    "            key = 'Pst_104E_%s' % gene_type\n",
    "\n",
    "            \n",
    "            _tmp_index = syn_df['Pst_104E'].isin(get_gene_list(_dict[gene_type]))\n",
    "        print(key)\n",
    "        print(np.mean(syn_df.loc[_tmp_index, 'aln_length']))\n",
    "        print(np.median(syn_df.loc[_tmp_index, 'aln_length']))\n",
    "        syn_df[key] = False\n",
    "        syn_df.loc[_tmp_index, key] = True"
   ]
  },
  {
   "cell_type": "code",
   "execution_count": 162,
   "metadata": {
    "ExecuteTime": {
     "end_time": "2019-05-13T07:09:49.728724Z",
     "start_time": "2019-05-13T07:09:49.721266Z"
    }
   },
   "outputs": [
    {
     "data": {
      "text/plain": [
       "Index(['DK0911', 'Pst_104E', 'aln_length', 'aln_name', 'aln_position',\n",
       "       'distance_3', 'distance_5', 'DK0911_All_genes', 'Pst_104E_All_genes',\n",
       "       'DK0911_Busco', 'Pst_104E_Busco', 'DK0911_Ceffectors',\n",
       "       'Pst_104E_Ceffectors', 'DK0911_EffectorP', 'Pst_104E_EffectorP',\n",
       "       'DK0911_Secretome', 'Pst_104E_Secretome'],\n",
       "      dtype='object')"
      ]
     },
     "execution_count": 162,
     "metadata": {},
     "output_type": "execute_result"
    }
   ],
   "source": [
    "syn_df.columns"
   ]
  },
  {
   "cell_type": "code",
   "execution_count": 231,
   "metadata": {
    "ExecuteTime": {
     "end_time": "2019-05-13T08:03:27.262459Z",
     "start_time": "2019-05-13T08:03:25.743319Z"
    }
   },
   "outputs": [
    {
     "data": {
      "image/png": "[encoded data removed]",
      "text/plain": [
       "<Figure size 720x360 with 5 Axes>"
      ]
     },
     "metadata": {},
     "output_type": "display_data"
    },
    {
     "data": {
      "image/png": "[encoded data removed]",
      "text/plain": [
       "<Figure size 720x360 with 5 Axes>"
      ]
     },
     "metadata": {},
     "output_type": "display_data"
    }
   ],
   "source": [
    "max_length_df_dict = {}\n",
    "pallete = [sns.color_palette('colorblind')[x] for x in [0,1]]\n",
    "for genome, color in zip(['Pst_104E', 'DK0911'], pallete): \n",
    "    idx = syn_df.groupby(genome)['aln_length'].transform(max) == syn_df['aln_length']\n",
    "    max_length_df_dict[genome] = syn_df.loc[idx].drop_duplicates([genome, 'aln_length']).copy()\n",
    "    for gene_type in syn_df.columns[-10:]:\n",
    "        if genome in gene_type:\n",
    "            _tmp_df = max_length_df_dict[genome]\n",
    "      \n",
    "            #print(genome, gene_type)\n",
    "            #print(_tmp_df[_tmp_df[gene_type] == True]['aln_length'].mean())\n",
    "    plot_synteny(genome, max_length_df_dict[genome], color, 'something')"
   ]
  },
  {
   "cell_type": "code",
   "execution_count": 230,
   "metadata": {
    "ExecuteTime": {
     "end_time": "2019-05-13T08:03:15.529175Z",
     "start_time": "2019-05-13T08:03:15.431813Z"
    }
   },
   "outputs": [],
   "source": []
  }
 ],
 "metadata": {
  "kernelspec": {
   "display_name": "Python [default]",
   "language": "python",
   "name": "python3"
  },
  "language_info": {
   "codemirror_mode": {
    "name": "ipython",
    "version": 3
   },
   "file_extension": ".py",
   "mimetype": "text/x-python",
   "name": "python",
   "nbconvert_exporter": "python",
   "pygments_lexer": "ipython3",
   "version": "3.5.4"
  },
  "toc": {
   "nav_menu": {},
   "number_sections": true,
   "sideBar": true,
   "skip_h1_title": false,
   "title_cell": "Table of Contents",
   "title_sidebar": "Contents",
   "toc_cell": false,
   "toc_position": {},
   "toc_section_display": true,
   "toc_window_display": false
  }
 },
 "nbformat": 4,
 "nbformat_minor": 2
}
