{
 "cells": [
  {
   "cell_type": "markdown",
   "metadata": {},
   "source": [
    "#### Presence absence analysis of the DK0911 genome based on orthology\n",
    "\n"
   ]
  },
  {
   "cell_type": "markdown",
   "metadata": {},
   "source": [
    "#### Usefull folders\n",
    "\n",
    "- Warrior TE analysis: /home/benjamin/genome_assembly/Warrior/TE_analysis\n",
    "- Pst_104_TE analysis: /home/benjamin/genome_assembly/PST79/FALCON/p_assemblies/v9_1/Pst_104E_v12/Warrior_comp_runs/REPET/TE_analysis\n",
    "- comparative coverage: /home/benjamin/genome_assembly/Warrior/TE_analysis\n"
   ]
  },
  {
   "cell_type": "code",
   "execution_count": 1,
   "metadata": {
    "ExecuteTime": {
     "end_time": "2019-05-30T23:32:59.951609Z",
     "start_time": "2019-05-30T23:32:59.579694Z"
    },
    "collapsed": true
   },
   "outputs": [],
   "source": [
    "%matplotlib inline"
   ]
  },
  {
   "cell_type": "code",
   "execution_count": 2,
   "metadata": {
    "ExecuteTime": {
     "end_time": "2019-05-30T23:33:01.467772Z",
     "start_time": "2019-05-30T23:33:00.503557Z"
    },
    "collapsed": true
   },
   "outputs": [],
   "source": [
    "import os\n",
    "from pybedtools import BedTool\n",
    "import pandas as pd\n",
    "import scipy\n",
    "import pandas as pd\n",
    "import numpy as np # need for  stats\n",
    "import matplotlib.pyplot as plt\n",
    "import seaborn as sns\n",
    "import re\n",
    "from scipy.stats import mannwhitneyu\n",
    "from scipy.stats import fisher_exact\n",
    "from scipy.stats import spearmanr\n",
    "from scipy.stats import wilcoxon\n",
    "from scipy.stats import kruskal\n",
    "from statsmodels.stats.multitest import multipletests\n",
    "from seaborn import boxenplot\n",
    "import pybedtools"
   ]
  },
  {
   "cell_type": "code",
   "execution_count": 3,
   "metadata": {
    "ExecuteTime": {
     "end_time": "2019-05-30T23:33:02.062478Z",
     "start_time": "2019-05-30T23:33:02.048370Z"
    },
    "collapsed": true
   },
   "outputs": [],
   "source": [
    "DK0911_ortho_dir = '/home/benjamin/genome_assembly/Warrior/DK0911_v04/comp_orthology/orthofinder/DK0911_vs_Ps104E_v13/'\n",
    "Pst_104E_ortho_dir = '/home/benjamin/genome_assembly/Warrior/DK0911_v04/comp_orthology/orthofinder/Ps104E_v13_vs_DK0911/'\n",
    "DK0911_genome_file_fn = '/home/benjamin/genome_assembly/Warrior/genome_v04/DK_0911_v04_ph_ctg.genome_file'\n",
    "Pst_104E_genome_file_fn = \\\n",
    "'/home/benjamin/genome_assembly/PST79/FALCON/p_assemblies/v9_1/092017_assembly/Pst_104E_v13_ph_ctg.genome_file'\n",
    "WGA_PAA_dir = '/home/benjamin/genome_assembly/Warrior/DK0911_v04/comp_COV/mummer4'\n",
    "LOWCOV_PAA_dir = '/home/benjamin/genome_assembly/Warrior/DK0911_v04/comp_COV/SRM_mapping/filtered/'\n",
    "ORTHOFINDER_FILE_NAME = '/home/benjamin/genome_assembly/Warrior/DK0911_v04/comp_orthology/orthofinder/result_update_redundant_protein_sets_01032019/Orthogroups_3_combined.csv'\n",
    "OUT_dir = '/home/benjamin/genome_assembly/Warrior/DK0911_v04/comp_orthology/orthofinder/downstream_analysis/'\n",
    "ORTHOFINDER_FILE_NAME = '/home/benjamin/genome_assembly/Warrior/DK0911_v04/comp_orthology/orthofinder/result_update_redundant_protein_sets_01032019/Orthogroups_3_combined.csv'"
   ]
  },
  {
   "cell_type": "markdown",
   "metadata": {
    "ExecuteTime": {
     "end_time": "2019-05-06T11:26:51.264463Z",
     "start_time": "2019-05-06T11:26:51.256515Z"
    },
    "collapsed": true
   },
   "source": [
    "* do simple checks if any of the genes is more likely to lack orthologs then others e.g. BUSCOS vs effectors and such\n",
    "* check if the missing orthologs overlap with other missing genes\n",
    "* pull in the Synet file for synteny and ask if effectors are in longer blogs or ask what is the speciatly of shorter blogs or now hits\n"
   ]
  },
  {
   "cell_type": "code",
   "execution_count": 4,
   "metadata": {
    "ExecuteTime": {
     "end_time": "2019-05-30T23:33:10.281344Z",
     "start_time": "2019-05-30T23:33:10.261267Z"
    },
    "collapsed": true
   },
   "outputs": [],
   "source": [
    "###all the bedfiles\n",
    "Pst_104E_annotation_dir = '/home/benjamin/genome_assembly/Warrior/DK0911_v04/comp_orthology/Pst104E_annotations/'\n",
    "Pst_104E_dict = {}\n",
    "Pst_104E_dict['Busco'] = os.path.join(Pst_104E_annotation_dir, 'Pst_104E_v13_ph_ctg.busco.gene.bed')\n",
    "Pst_104E_dict['All_genes'] = os.path.join(Pst_104E_annotation_dir, 'Pst_104E_v13_ph_ctg.genes.gene.bed')\n",
    "Pst_104E_dict['Primary_genes'] = os.path.join(Pst_104E_annotation_dir, 'Pst_104E_v13_p_ctg.genes.gene.bed')\n",
    "Pst_104E_dict['Secretome'] = os.path.join(Pst_104E_annotation_dir, 'Pst_104E_v13_ph_ctg.secretome.gene.bed')\n",
    "Pst_104E_dict['Ceffectors'] = os.path.join(Pst_104E_annotation_dir, 'Pst_104E_v13_ph_ctg.ceffectors.gene.bed')\n",
    "Pst_104E_dict['EffectorP'] = os.path.join(Pst_104E_annotation_dir, 'Pst_104E_v13_ph_ctg.effectorp.gene.bed')\n",
    "Pst_104E_dict['TE_superfamily'] = os.path.join(Pst_104E_annotation_dir, 'Pst_104E_v13_ph_ctg.104Ep_DK0911p.REPET.superfamily.gff')\n",
    "Pst_104E_dict['Lowcov_01'] = os.path.join(LOWCOV_PAA_dir, 'Pst_104E_v13_ph_ctg.bwamem.DK0911_gDNA.ph_window_w1000s200.ph_mapping.lowcov01.filtered.bed')\n",
    "Pst_104E_dict['WGA_95'] = os.path.join(WGA_PAA_dir, 'Pst_104E_v13_ph_ctg.DK_0911_v04_ph_ctg.l100.c500.mm.deltafilter_i95mu0g_.nr_reverse.bed')\n",
    "Pst_104E_dict['Singletons'] = os.path.join(Pst_104E_ortho_dir,'190312_Ps104E_v13_vs_DK0911_singleton.csv')\n",
    "Pst_104E_dict['Alleles'] = os.path.join(Pst_104E_ortho_dir, '190312_Ps104E_v13_vs_DK0911_allele.csv')\n",
    "Pst_104E_dict['Paraloges'] = os.path.join(Pst_104E_ortho_dir, '190312_Ps104E_v13_vs_DK0911_paraloge.csv')"
   ]
  },
  {
   "cell_type": "code",
   "execution_count": 5,
   "metadata": {
    "ExecuteTime": {
     "end_time": "2019-05-30T23:33:11.256125Z",
     "start_time": "2019-05-30T23:33:11.230340Z"
    },
    "collapsed": true
   },
   "outputs": [],
   "source": [
    "###all the bedfiles\n",
    "DK0911_annotation_dir = '/home/benjamin/genome_assembly/Warrior/DK0911_v04/comp_orthology/DK0911_annotations/'\n",
    "DK0911_dict = {}\n",
    "DK0911_dict['Busco'] = os.path.join(DK0911_annotation_dir, 'DK_0911_v04_ph_ctg.busco.gene.bed')\n",
    "DK0911_dict['All_genes'] = os.path.join(DK0911_annotation_dir, 'DK_0911_v04_ph_ctg.genes.gene.bed')\n",
    "DK0911_dict['Primary_genes'] = os.path.join(DK0911_annotation_dir, 'DK_0911_v04_p_ctg.genes.gene.bed')\n",
    "DK0911_dict['Secretome'] = os.path.join(DK0911_annotation_dir, 'DK_0911_v04_ph_ctg.secretome.gene.bed')\n",
    "DK0911_dict['Ceffectors'] = os.path.join(DK0911_annotation_dir, 'DK_0911_v04_ph_ctg.effectorp20.gene.bed')\n",
    "DK0911_dict['EffectorP'] = os.path.join(DK0911_annotation_dir, 'DK_0911_v04_ph_ctg.effectorp20.gene.bed')\n",
    "DK0911_dict['TE_superfamily'] = os.path.join(DK0911_annotation_dir, 'DK_0911_v04_ph_ctg.104Ep_DK0911p.REPET.superfamily.gff')\n",
    "DK0911_dict['Lowcov_01'] = os.path.join(LOWCOV_PAA_dir, 'DK_0911_v04_ph_ctg.bwamem.Pst79_TS.RG.mark_dup.ph_window_w1000s200.ph_mapping.lowcov01.filtered.bed' )\n",
    "DK0911_dict['WGA_95'] = os.path.join(WGA_PAA_dir, 'DK_0911_v04_ph_ctg.Pst_104E_v13_ph_ctg.l100.c500.mm.deltafilter_i95mu0g_.nr_reverse.bed')\n",
    "DK0911_dict['Singletons'] = os.path.join(DK0911_ortho_dir,'190506_DK0911_vs_Ps104E_v13_singleton.csv')\n",
    "DK0911_dict['Alleles'] = os.path.join(DK0911_ortho_dir, '190506_DK0911_vs_Ps104E_v13_allele.csv')\n",
    "DK0911_dict['Paraloges'] = os.path.join(DK0911_ortho_dir, '190506_DK0911_vs_Ps104E_v13_paraloge.csv')"
   ]
  },
  {
   "cell_type": "code",
   "execution_count": 6,
   "metadata": {
    "ExecuteTime": {
     "end_time": "2019-05-30T23:33:11.967384Z",
     "start_time": "2019-05-30T23:33:11.959166Z"
    },
    "collapsed": true
   },
   "outputs": [],
   "source": [
    "def overlap_feature_names(bed_a_fn, bed_b_fn, min_f_overlap):\n",
    "    \"\"\"Count the number of unqiue genes that intersect witht basence bedfile.\n",
    "    Assumes bed_a_fn is a bed six file.\"\"\"\n",
    "    bed_a = BedTool(bed_a_fn)\n",
    "    bed_b = BedTool(bed_b_fn)\n",
    "    return bed_a.intersect(bed_b, f=min_f_overlap).to_dataframe().name.unique()"
   ]
  },
  {
   "cell_type": "code",
   "execution_count": 7,
   "metadata": {
    "ExecuteTime": {
     "end_time": "2019-05-30T23:33:12.420740Z",
     "start_time": "2019-05-30T23:33:12.406803Z"
    },
    "collapsed": true
   },
   "outputs": [],
   "source": [
    "def get_sing_para(fn):\n",
    "    if 'singleton' in fn:\n",
    "        return pd.read_csv(fn)['Query'].tolist()\n",
    "    elif 'paraloge' in fn:\n",
    "        queries = pd.read_csv(fn)['Query'].tolist()\n",
    "        targets = pd.read_csv(fn)['Target'].tolist()\n",
    "        return queries, targets\n",
    "    else:\n",
    "        raise ValueError"
   ]
  },
  {
   "cell_type": "code",
   "execution_count": 8,
   "metadata": {
    "ExecuteTime": {
     "end_time": "2019-05-30T23:33:12.708340Z",
     "start_time": "2019-05-30T23:33:12.702755Z"
    },
    "collapsed": true
   },
   "outputs": [],
   "source": [
    "def get_gene_list(bed_fn):\n",
    "    df = pd.read_csv(bed_fn, header=None, sep='\\t')\n",
    "    return df[3].unique()"
   ]
  },
  {
   "cell_type": "code",
   "execution_count": 9,
   "metadata": {
    "ExecuteTime": {
     "end_time": "2019-05-30T23:33:12.999334Z",
     "start_time": "2019-05-30T23:33:12.990861Z"
    },
    "collapsed": true
   },
   "outputs": [],
   "source": [
    "def subset_bed(name_list, bed_fn, out_fn):\n",
    "    df = pd.read_csv(bed_fn, header=None, sep='\\t')\n",
    "    df[df[3].isin(name_list)].to_csv(out_fn, sep='\\t', header=None, index=None)\n",
    "    return out_fn"
   ]
  },
  {
   "cell_type": "code",
   "execution_count": 10,
   "metadata": {
    "ExecuteTime": {
     "end_time": "2019-05-30T23:33:13.260552Z",
     "start_time": "2019-05-30T23:33:13.254505Z"
    },
    "collapsed": true
   },
   "outputs": [],
   "source": [
    "def random_genes(bed_fn, n):\n",
    "    df = pd.read_csv(bed_fn, header=None, sep='\\t')\n",
    "    return df.sample(n)[3].tolist()"
   ]
  },
  {
   "cell_type": "code",
   "execution_count": 11,
   "metadata": {
    "ExecuteTime": {
     "end_time": "2019-05-30T23:33:13.428509Z",
     "start_time": "2019-05-30T23:33:13.422934Z"
    },
    "collapsed": true
   },
   "outputs": [],
   "source": [
    "def fisher_p(test_list, expect_list):\n",
    "    return fisher_exact([[len(test_list[0]), len(test_list[1])], [len(expect_list[0]), len(expect_list[1])]])[1]"
   ]
  },
  {
   "cell_type": "code",
   "execution_count": 12,
   "metadata": {
    "ExecuteTime": {
     "end_time": "2019-05-30T23:33:13.718857Z",
     "start_time": "2019-05-30T23:33:13.713958Z"
    },
    "collapsed": true
   },
   "outputs": [],
   "source": [
    "def count_genes_in_bed(bed_fn):\n",
    "    return pd.read_csv(bed_fn, header=None, sep='\\t').shape[0]"
   ]
  },
  {
   "cell_type": "code",
   "execution_count": 13,
   "metadata": {
    "ExecuteTime": {
     "end_time": "2019-05-30T23:33:13.988358Z",
     "start_time": "2019-05-30T23:33:13.956106Z"
    },
    "collapsed": true
   },
   "outputs": [],
   "source": [
    "def summary_dict_to_df(summary_dict, outer_index, inner_index):\n",
    "    \"\"\"Convert as summary dict with multiple keys and values of same length. To a multiindex dataframe.\"\"\"\n",
    "    assert(outer_index[0:int(len(outer_index)/2)] == outer_index[int(len(outer_index)/2):])\n",
    "    assert(inner_index[0:int(len(inner_index)/2)] == inner_index[int(len(inner_index)/2):])\n",
    "    df = pd.DataFrame.from_dict(summary_dict)\n",
    "    df['Cut_off'] = [x for x in outer_index[0:int(len(outer_index)/2)]]\n",
    "    \n",
    "    df['Type'] = inner_index[0:int(len(inner_index)/2)]\n",
    "    df.sort_values(['Cut_off', 'Type'], inplace = True)\n",
    "    index = pd.MultiIndex.from_tuples(list(zip(df['Cut_off'] , df['Type'])), names=['Cut-off', 'Type'])\n",
    "    df.index = index\n",
    "    return df.loc[:, df.columns[:2]].copy()"
   ]
  },
  {
   "cell_type": "code",
   "execution_count": 14,
   "metadata": {
    "ExecuteTime": {
     "end_time": "2019-05-30T23:33:14.396150Z",
     "start_time": "2019-05-30T23:33:14.258667Z"
    },
    "collapsed": true
   },
   "outputs": [],
   "source": [
    "def plot_synteny(genome, df,filter_bed_fn,color, out_fn):\n",
    "   \n",
    "    columns = [x for x in df.columns if genome in x][1:]\n",
    "    \n",
    "    f1, ax = plt.subplots(1, len(columns), figsize=(15, 5), sharey=True)\n",
    "    \n",
    "    for n, column in enumerate(columns):\n",
    "        if genome == 'DK0911':\n",
    "            _dict = DK0911_dict\n",
    "        elif genome =='Pst_104E':\n",
    "            _dict = Pst_104E_dict\n",
    "        sub_gene_list = get_gene_list(filter_bed_fn)\n",
    "        df = df[df[genome].isin(sub_gene_list)].copy()\n",
    "        df = df.reset_index(drop=True)    \n",
    "        max_genes = len([x for x in get_gene_list(_dict[column.replace(genome+'_','')]) if x in sub_gene_list])\n",
    "        \n",
    "        \n",
    "        sns.violinplot(y=df[df[column] == True]['aln_length'], color=color, ax=ax[n], cut =0)\n",
    "        #ax[y[0], y[1]].axhline(y=overlap, color='r', linestyle='-')\n",
    "        #ax[n].set_title(column, fontsize=16)\n",
    "        #ax[y[0], y[1]].set_yticklabels([])\n",
    "        ax[n].set_ylabel('')\n",
    "        ax[n].set_xlabel(column.replace(genome+\"_\",''), fontsize=16)\n",
    "        ax[n].text(0.1, 390, 'n=%s' % df[df[column] == True].shape[0])\n",
    "        \n",
    "        \n",
    "        \n",
    "        ax[n].text(0.1, 370, 'max=%s' % max_genes)\n",
    "        percentage = round(df[df[column] == True].shape[0]/max_genes*100,2)\n",
    "        ax[n].text(0.1, 350, '%%=%s' % percentage)\n",
    "    ax[0].set_ylabel('Synteny Block Size', fontsize=16)\n",
    "    ax[0].set_ylim(0, 400)\n",
    "    plt.subplots_adjust(right=0.3, left=0.1)\n",
    "    #f1.suptitle(genome)\n",
    "    plt.tight_layout()\n",
    "    #f1.suptitle(os.path.basename(out_fn))\n",
    "    #plt.savefig(out_fn, dpi =300)\n",
    "    sns.despine(f1)\n",
    "    return f1"
   ]
  },
  {
   "cell_type": "code",
   "execution_count": 15,
   "metadata": {
    "ExecuteTime": {
     "end_time": "2019-05-30T23:33:14.969980Z",
     "start_time": "2019-05-30T23:33:14.888409Z"
    },
    "collapsed": true
   },
   "outputs": [],
   "source": [
    "def get_collinear_df(fn):\n",
    "    \"\"\"Parses out a dataframe from a collinear file obtained with synet runs.\n",
    "    This is not universial right now but assumes that DK0911 is first in this file and Pst104 is\n",
    "    second in this file.\"\"\"\n",
    "\n",
    "    synteny_dict = {}\n",
    "    synteny_dict['aln_name'] = []\n",
    "    synteny_dict['aln_position'] = []\n",
    "    synteny_dict['aln_length'] = []\n",
    "    synteny_dict['Pst_104E'] = []\n",
    "    synteny_dict['DK0911'] = []\n",
    "    synteny_dict['distance_5'] = []\n",
    "    synteny_dict['distance_3'] = []\n",
    "    len_pattern = re.compile(r'N=([^ ]*)')\n",
    "    d_pattern = re.compile(r'DK[^\\t]*')\n",
    "    p_pattern = re.compile(r'Pst[^\\t]*')\n",
    "    position_pattern = re.compile(r'-([^:]*)')\n",
    "    count = 0\n",
    "    with open(fn, 'r') as fh:\n",
    "        for line in fh:\n",
    "            line.rstrip()\n",
    "            count = count + 1\n",
    "            if line.startswith(r'## '):\n",
    "                aln_len = int(re.findall(len_pattern, line)[0])\n",
    "                aln_name = line.split(':')[0][3:]\n",
    "            elif not line.startswith(r'#'):\n",
    "                aln_position = int(re.findall(position_pattern , line)[0].replace(' ', ''))\n",
    "                synteny_dict['DK0911'].append(re.findall(d_pattern, line)[0])\n",
    "                synteny_dict['Pst_104E'].append(re.findall(p_pattern, line)[0])\n",
    "                synteny_dict['aln_name'].append(aln_name)\n",
    "                synteny_dict['aln_length'].append(aln_len)\n",
    "                synteny_dict['aln_position'].append(aln_position)\n",
    "                synteny_dict['distance_5'].append(aln_position)\n",
    "                synteny_dict['distance_3'].append(aln_len - aln_position)\n",
    "    syn_df = pd.DataFrame.from_dict(synteny_dict)\n",
    "    return syn_df\n"
   ]
  },
  {
   "cell_type": "code",
   "execution_count": 16,
   "metadata": {
    "ExecuteTime": {
     "end_time": "2019-05-30T23:33:15.234188Z",
     "start_time": "2019-05-30T23:33:15.225339Z"
    },
    "collapsed": true
   },
   "outputs": [],
   "source": [
    "def get_diamond_six_df(fn):\n",
    "    header = ['qseqid',\n",
    " 'sseqid',\n",
    " 'pident',\n",
    " 'length',\n",
    " 'mismatch',\n",
    " 'gapopen',\n",
    " 'qstart',\n",
    " 'qend',\n",
    " 'sstart',\n",
    " 'send',\n",
    " 'evalue',\n",
    " 'bitscore']\n",
    "    return pd.read_csv(fn, header=None, sep='\\t', names=header)"
   ]
  },
  {
   "cell_type": "code",
   "execution_count": 17,
   "metadata": {
    "ExecuteTime": {
     "end_time": "2019-05-30T23:33:15.506543Z",
     "start_time": "2019-05-30T23:33:15.492477Z"
    },
    "collapsed": true
   },
   "outputs": [],
   "source": [
    "def add_gentype_column(df, gene_type_list, genome, bed_fn_dict):\n",
    "    \"\"\"A function that takes a collinear dataframe, a gentype list, a genome name and a dictionary\n",
    "    that contains the filenames for bedfiles of genes belonging to different genetypes.\n",
    "    The function adds a new column to the df with False/True to belonging to the genetype.\"\"\"\n",
    "    for gene_type in gene_type_list:\n",
    "        tmp_index = df[genome].isin(get_gene_list(bed_fn_dict[gene_type]))\n",
    "        key = '%s_%s' % (genome, gene_type)\n",
    "        df[key] = False\n",
    "        df.loc[tmp_index, key] = True\n",
    "    return df"
   ]
  },
  {
   "cell_type": "code",
   "execution_count": 18,
   "metadata": {
    "ExecuteTime": {
     "end_time": "2019-05-30T23:33:15.741054Z",
     "start_time": "2019-05-30T23:33:15.732814Z"
    },
    "collapsed": true
   },
   "outputs": [],
   "source": [
    "def get_genetype_means(df, genome, gene_keys):\n",
    "    means = []\n",
    "    for gene_type in gene_keys:\n",
    "        column = '%s_%s' % (genome, gene_type)\n",
    "        means.append(round(df[df[column] == True]['aln_length'].mean(),2))\n",
    "    return means"
   ]
  },
  {
   "cell_type": "code",
   "execution_count": 19,
   "metadata": {
    "ExecuteTime": {
     "end_time": "2019-05-30T23:33:16.000084Z",
     "start_time": "2019-05-30T23:33:15.990485Z"
    },
    "collapsed": true
   },
   "outputs": [],
   "source": [
    "def get_genetype_median(df, genome, gene_keys):\n",
    "    medians = []\n",
    "    for gene_type in gene_keys:\n",
    "        column = '%s_%s' % (genome, gene_type)\n",
    "        medians.append(round(df[df[column] == True]['aln_length'].median(),2))\n",
    "    return medians"
   ]
  },
  {
   "cell_type": "code",
   "execution_count": 20,
   "metadata": {
    "ExecuteTime": {
     "end_time": "2019-05-30T23:33:16.184406Z",
     "start_time": "2019-05-30T23:33:16.174381Z"
    },
    "collapsed": true
   },
   "outputs": [],
   "source": [
    "def get_genetype_percentage(df, genome, bed_fn_dict, subset_bed_fn, gene_keys):\n",
    "    percentages = []\n",
    "    for gene_type in gene_keys:\n",
    "        column = '%s_%s' % (genome, gene_type)\n",
    "        max_genes = set(get_gene_list(bed_fn_dict[gene_type])).intersection(get_gene_list(subset_bed_fn))\n",
    "        percentages.append(round(len(df[df[column] == True][genome].unique())/len(max_genes)*100,2))\n",
    "        \n",
    "    return percentages"
   ]
  },
  {
   "cell_type": "code",
   "execution_count": 21,
   "metadata": {
    "ExecuteTime": {
     "end_time": "2019-05-30T23:33:16.355154Z",
     "start_time": "2019-05-30T23:33:16.343555Z"
    },
    "collapsed": true
   },
   "outputs": [],
   "source": [
    "def max_colinear_df(_dict, gene_keys):\n",
    "    df = pd.DataFrame.from_dict(_dict)\n",
    "    df.index = gene_keys\n",
    "    new_columns = [int(x) for x in df.columns]\n",
    "    new_columns.sort()\n",
    "    new_columns = [str(x) for x in new_columns]\n",
    "    return df.loc[:, new_columns].copy()"
   ]
  },
  {
   "cell_type": "code",
   "execution_count": 22,
   "metadata": {
    "ExecuteTime": {
     "end_time": "2019-05-30T23:33:16.602434Z",
     "start_time": "2019-05-30T23:33:16.581533Z"
    },
    "collapsed": true
   },
   "outputs": [],
   "source": [
    "def get_ortho_dict(file_name):\n",
    "    \"\"\"Function that takes a orthofinder file name and generates an orthofinder dict.\n",
    "    Input:\n",
    "        CSV Filename of orthofinder output.\n",
    "    Output:\n",
    "        Orthofinder dict with keys intergers of the numerical part of the orthofinder group.\n",
    "        Values are the gene identifier of each orthogroup.\"\"\"\n",
    "    orthofinder_dict = {}\n",
    "    try:\n",
    "        with open(file_name) as fh:\n",
    "            for line in fh:\n",
    "                if line.startswith('OG'):\n",
    "                    line.strip()\n",
    "                    OG = line.split('\\t')[0]\n",
    "                    value = [x.strip() for x in line.split(OG)[1].replace('\\t',',').split(',') if x != '']\n",
    "                    orthofinder_dict[int(line.split('\\t')[0].strip('OG'))] = value\n",
    "        return orthofinder_dict\n",
    "    except FileNotFoundError:\n",
    "        print(\"Please check the orthofinder in put file.\")"
   ]
  },
  {
   "cell_type": "code",
   "execution_count": 23,
   "metadata": {
    "ExecuteTime": {
     "end_time": "2019-05-30T23:33:16.811755Z",
     "start_time": "2019-05-30T23:33:16.802546Z"
    },
    "collapsed": true
   },
   "outputs": [],
   "source": [
    "def get_gene_to_ortho_dict(orthofinder_dict):\n",
    "    \"\"\"Function that makes a gene to ortho dict.\"\"\"\n",
    "    gene_to_ortho_dict = {}\n",
    "    for key,value in orthofinder_dict.items():\n",
    "        for item in value:\n",
    "            gene_to_ortho_dict[item] = key\n",
    "    return gene_to_ortho_dict"
   ]
  },
  {
   "cell_type": "markdown",
   "metadata": {},
   "source": [
    "#### Start with a chek if all two inputs of orhtology and ben beds line up"
   ]
  },
  {
   "cell_type": "code",
   "execution_count": 24,
   "metadata": {
    "ExecuteTime": {
     "end_time": "2019-05-30T23:33:17.358615Z",
     "start_time": "2019-05-30T23:33:17.206224Z"
    },
    "collapsed": true
   },
   "outputs": [],
   "source": [
    "DK_all = get_gene_list(DK0911_dict['All_genes'])\n",
    "Pst_104_all = get_gene_list(Pst_104E_dict['All_genes'])"
   ]
  },
  {
   "cell_type": "code",
   "execution_count": 25,
   "metadata": {
    "ExecuteTime": {
     "end_time": "2019-05-30T23:33:17.703745Z",
     "start_time": "2019-05-30T23:33:17.491486Z"
    }
   },
   "outputs": [
    {
     "data": {
      "text/plain": [
       "True"
      ]
     },
     "execution_count": 25,
     "metadata": {},
     "output_type": "execute_result"
    }
   ],
   "source": [
    "set(DK_all) == (set(pd.read_csv(DK0911_dict['Alleles'], header=None)[1][1:].unique())\\\n",
    "| set(get_sing_para(DK0911_dict['Paraloges'])[0]) | set(get_sing_para(DK0911_dict['Singletons']))) "
   ]
  },
  {
   "cell_type": "code",
   "execution_count": 26,
   "metadata": {
    "ExecuteTime": {
     "end_time": "2019-05-30T23:33:18.684028Z",
     "start_time": "2019-05-30T23:33:18.416164Z"
    }
   },
   "outputs": [
    {
     "data": {
      "text/plain": [
       "True"
      ]
     },
     "execution_count": 26,
     "metadata": {},
     "output_type": "execute_result"
    }
   ],
   "source": [
    "set(Pst_104_all) == (set(pd.read_csv(Pst_104E_dict['Alleles'], header=None)[1][1:].unique())\\\n",
    "| set(get_sing_para(Pst_104E_dict['Paraloges'])[0]) | set(get_sing_para(Pst_104E_dict['Singletons']))) "
   ]
  },
  {
   "cell_type": "code",
   "execution_count": 27,
   "metadata": {
    "ExecuteTime": {
     "end_time": "2019-05-30T23:33:21.515490Z",
     "start_time": "2019-05-30T23:33:20.120484Z"
    }
   },
   "outputs": [
    {
     "name": "stdout",
     "output_type": "stream",
     "text": [
      "For DK_0911_v04_ph_ctg:\n",
      "WGA_missing:553, 6.96E-33\n",
      "LOWCOV_missing:724, 6.15E-34\n",
      "Combined_missing:185\n",
      "Random_missing:16\n",
      "\n",
      "For Pst_104E_v13_ph_ctg:\n",
      "WGA_missing:2084, 3.87E-202\n",
      "LOWCOV_missing:2394, 1.20E-208\n",
      "Combined_missing:1441\n",
      "Random_missing:149\n",
      "\n"
     ]
    }
   ],
   "source": [
    "#get the combined missing genes and test if the overlap is significant with a fishers exact test and randomization\n",
    "min_overlap = 1\n",
    "key = \"WGA_LOWCOV_combined_mo%s\" % str(min_overlap).replace('.','')\n",
    "\n",
    "for _dict in [DK0911_dict, Pst_104E_dict]:\n",
    "    WGA_genes = overlap_feature_names(_dict['All_genes'], _dict['WGA_95'], min_overlap)\n",
    "    WGA_random = random_genes(_dict['All_genes'], len(WGA_genes))\n",
    "    LOWCOV_genes = overlap_feature_names(_dict['All_genes'], _dict['Lowcov_01'], min_overlap)\n",
    "    LOWCOV_random = random_genes(_dict['All_genes'], len(LOWCOV_genes))\n",
    "    genome = os.path.basename(_dict['All_genes']).split('.')[0]\n",
    "    overlap_list = [x for x in WGA_genes if x in LOWCOV_genes]\n",
    "    random_overlap_list = [x for x in WGA_random if x in LOWCOV_random]\n",
    "    out_fn = os.path.join(OUT_dir, '%s.%s.bed' % (genome, key))\n",
    "    _dict[key] = subset_bed(overlap_list, _dict['All_genes'], out_fn)\n",
    "    p_WGA = fisher_p([overlap_list, WGA_genes],[random_overlap_list, WGA_genes] )\n",
    "    p_LOWCOV = fisher_p([overlap_list, LOWCOV_genes],[random_overlap_list, LOWCOV_genes] )\n",
    "    print('For %s:\\nWGA_missing:%s, %.2E\\nLOWCOV_missing:%s, %.2E\\nCombined_missing:%s\\nRandom_missing:%s\\n'%\\\n",
    "         (genome, len(WGA_genes), p_WGA,  len(LOWCOV_genes), p_LOWCOV, len(overlap_list), len(random_overlap_list)))"
   ]
  },
  {
   "cell_type": "code",
   "execution_count": 28,
   "metadata": {
    "ExecuteTime": {
     "end_time": "2019-05-30T23:33:22.144300Z",
     "start_time": "2019-05-30T23:33:21.518234Z"
    }
   },
   "outputs": [
    {
     "name": "stdout",
     "output_type": "stream",
     "text": [
      "For DK_0911_v04_ph_ctg:\n",
      "WGA_missing:553, 3.62E-17\n",
      "Singletons_missing:1275, 3.72E-18\n",
      "Combined_missing:133\n",
      "Random_missing:25\n",
      "\n",
      "For Pst_104E_v13_ph_ctg:\n",
      "WGA_missing:2084, 6.55E-30\n",
      "Singletons_missing:1404, 1.30E-28\n",
      "Combined_missing:345\n",
      "Random_missing:100\n",
      "\n"
     ]
    }
   ],
   "source": [
    "for _dict in [DK0911_dict, Pst_104E_dict]:\n",
    "    WGA_genes = overlap_feature_names(_dict['All_genes'], _dict['WGA_95'], min_overlap)\n",
    "    WGA_random = random_genes(_dict['All_genes'], len(WGA_genes))\n",
    "    singletons = get_sing_para(_dict['Singletons'])\n",
    "    singletons_random = random_genes(_dict['All_genes'], len(singletons))\n",
    "    genome = os.path.basename(_dict['All_genes']).split('.')[0]\n",
    "    overlap_list = [x for x in WGA_genes if x in singletons]\n",
    "    random_overlap_list = [x for x in WGA_random if x in singletons_random]\n",
    "    \n",
    "    p_WGA = fisher_p([overlap_list, WGA_genes],[random_overlap_list, WGA_genes] )\n",
    "    p_sing = fisher_p([overlap_list, singletons],[random_overlap_list, singletons] )\n",
    "    print('For %s:\\nWGA_missing:%s, %.2E\\nSingletons_missing:%s, %.2E\\nCombined_missing:%s\\nRandom_missing:%s\\n'%\\\n",
    "         (genome, len(WGA_genes), p_WGA,  len(singletons), p_sing, len(overlap_list), len(random_overlap_list)))\n",
    "\n"
   ]
  },
  {
   "cell_type": "code",
   "execution_count": 29,
   "metadata": {
    "ExecuteTime": {
     "end_time": "2019-05-30T23:33:23.957728Z",
     "start_time": "2019-05-30T23:33:23.065671Z"
    }
   },
   "outputs": [
    {
     "name": "stdout",
     "output_type": "stream",
     "text": [
      "For DK_0911_v04_ph_ctg:\n",
      "WGA_missing:553, 5.95E-04\n",
      "Singletons_missing:1275, 3.34E-04\n",
      "LOWCOV_missing:724, 4E-042\n",
      "Combined_missing:55\n",
      "Random_missing:23\n",
      "\n",
      "For Pst_104E_v13_ph_ctg:\n",
      "WGA_missing:2084, 2.47E-19\n",
      "Singletons_missing:1404, 1.11E-18\n",
      "LOWCOV_missing:2394, 2E-192\n",
      "Combined_missing:276\n",
      "Random_missing:98\n",
      "\n"
     ]
    }
   ],
   "source": [
    "for _dict in [DK0911_dict, Pst_104E_dict]:\n",
    "    WGA_genes = overlap_feature_names(_dict['All_genes'], _dict['WGA_95'], min_overlap)\n",
    "    WGA_random = random_genes(_dict['All_genes'], len(WGA_genes))\n",
    "    singletons = get_sing_para(_dict['Singletons'])\n",
    "    singletons_random = random_genes(_dict['All_genes'], len(singletons))\n",
    "    genome = os.path.basename(_dict['All_genes']).split('.')[0]\n",
    "    LOWCOV_genes = overlap_feature_names(_dict['All_genes'], _dict['Lowcov_01'], min_overlap)\n",
    "    LOWCOV_random = random_genes(_dict['All_genes'], len(LOWCOV_genes))\n",
    "    \n",
    "    overlap_list = [x for x in WGA_genes if x in singletons and x in LOWCOV_genes]\n",
    "    random_overlap_list = [x for x in WGA_random if x in singletons_random and LOWCOV_random]\n",
    "    \n",
    "    p_WGA = fisher_p([overlap_list, WGA_genes],[random_overlap_list, WGA_genes] )\n",
    "    p_sing = fisher_p([overlap_list, singletons],[random_overlap_list, singletons] )\n",
    "    p_LOWCOV = fisher_p([overlap_list, LOWCOV_genes],[random_overlap_list, LOWCOV_genes] )\n",
    "    print('For %s:\\nWGA_missing:%s, %.2E\\nSingletons_missing:%s, %.2E\\nLOWCOV_missing:%s, %.E2\\nCombined_missing:%s\\nRandom_missing:%s\\n'%\\\n",
    "         (genome, len(WGA_genes), p_WGA,  len(singletons), p_sing, len(LOWCOV_genes), p_LOWCOV,  len(overlap_list), len(random_overlap_list)))"
   ]
  },
  {
   "cell_type": "code",
   "execution_count": 30,
   "metadata": {
    "ExecuteTime": {
     "end_time": "2019-05-30T23:33:30.837600Z",
     "start_time": "2019-05-30T23:33:25.263345Z"
    },
    "collapsed": true
   },
   "outputs": [],
   "source": [
    "#numbers of overlaps in missing` vs. gene category and the states (as before)\n",
    "Fishers_summary_dict = {}\n",
    "Absence_summary_dict = {}\n",
    "outer_index = [] #being the cut off\n",
    "inner_index = [] #being the type of gene to look at\n",
    "Fishers_summary_dict['DK0911'] = []\n",
    "Fishers_summary_dict['Pst_104E'] = []\n",
    "Absence_summary_dict['DK0911'] = []\n",
    "Absence_summary_dict['Pst_104E'] = []\n",
    "min_overlap = 1\n",
    "key = ''\n",
    "gene_keys = ['All_genes','Busco', 'Ceffectors',  'EffectorP',   'Secretome']\n",
    "missing_keys = ['Lowcov_01', 'WGA_95',  'WGA_LOWCOV_combined_mo1',]\n",
    "\n",
    "for _dict in [DK0911_dict, Pst_104E_dict]:\n",
    "    for gene_key in gene_keys:\n",
    "        for missing_key in missing_keys:\n",
    "        \n",
    "            inner_index.append(missing_key)\n",
    "            outer_index.append(gene_key)\n",
    "            category_genes_missing = overlap_feature_names(_dict[gene_key], _dict[missing_key], min_overlap)\n",
    "            all_genes_missing = overlap_feature_names(_dict['All_genes'], _dict[missing_key], min_overlap)\n",
    "            p_value = fisher_exact([[len(category_genes_missing), count_genes_in_bed(_dict[gene_key])],\\\n",
    "                              [len(all_genes_missing), count_genes_in_bed(_dict['All_genes'])]])[1]\n",
    "            percent_lost = round(len(category_genes_missing)/count_genes_in_bed(_dict[gene_key])*100, 2)\n",
    "            absence_value = [len(category_genes_missing), count_genes_in_bed(_dict[gene_key]), percent_lost]\n",
    "            if os.path.basename(_dict['All_genes']).startswith('DK'):\n",
    "                key = 'DK0911'\n",
    "            elif os.path.basename(_dict['All_genes']).startswith('Pst_104'):\n",
    "                key = 'Pst_104E'\n",
    "            \n",
    "            Fishers_summary_dict[key].append(p_value)\n",
    "            Absence_summary_dict[key].append(absence_value)"
   ]
  },
  {
   "cell_type": "code",
   "execution_count": 31,
   "metadata": {
    "ExecuteTime": {
     "end_time": "2019-05-30T23:33:30.861251Z",
     "start_time": "2019-05-30T23:33:30.840585Z"
    },
    "collapsed": true
   },
   "outputs": [],
   "source": [
    "Fishers_df = summary_dict_to_df(Fishers_summary_dict, outer_index, inner_index)\n",
    "Absence_df = summary_dict_to_df(Absence_summary_dict, outer_index, inner_index)"
   ]
  },
  {
   "cell_type": "code",
   "execution_count": 32,
   "metadata": {
    "ExecuteTime": {
     "end_time": "2019-05-30T23:33:30.879864Z",
     "start_time": "2019-05-30T23:33:30.863391Z"
    }
   },
   "outputs": [
    {
     "data": {
      "text/html": [
       "<div>\n",
       "<style scoped>\n",
       "    .dataframe tbody tr th:only-of-type {\n",
       "        vertical-align: middle;\n",
       "    }\n",
       "\n",
       "    .dataframe tbody tr th {\n",
       "        vertical-align: top;\n",
       "    }\n",
       "\n",
       "    .dataframe thead th {\n",
       "        text-align: right;\n",
       "    }\n",
       "</style>\n",
       "<table border=\"1\" class=\"dataframe\">\n",
       "  <thead>\n",
       "    <tr style=\"text-align: right;\">\n",
       "      <th></th>\n",
       "      <th></th>\n",
       "      <th>DK0911</th>\n",
       "      <th>Pst_104E</th>\n",
       "    </tr>\n",
       "    <tr>\n",
       "      <th>Cut-off</th>\n",
       "      <th>Type</th>\n",
       "      <th></th>\n",
       "      <th></th>\n",
       "    </tr>\n",
       "  </thead>\n",
       "  <tbody>\n",
       "    <tr>\n",
       "      <th rowspan=\"3\" valign=\"top\">All_genes</th>\n",
       "      <th>Lowcov_01</th>\n",
       "      <td>1.000000e+00</td>\n",
       "      <td>1.000000e+00</td>\n",
       "    </tr>\n",
       "    <tr>\n",
       "      <th>WGA_95</th>\n",
       "      <td>1.000000e+00</td>\n",
       "      <td>1.000000e+00</td>\n",
       "    </tr>\n",
       "    <tr>\n",
       "      <th>WGA_LOWCOV_combined_mo1</th>\n",
       "      <td>1.000000e+00</td>\n",
       "      <td>1.000000e+00</td>\n",
       "    </tr>\n",
       "    <tr>\n",
       "      <th rowspan=\"3\" valign=\"top\">Busco</th>\n",
       "      <th>Lowcov_01</th>\n",
       "      <td>2.108868e-12</td>\n",
       "      <td>5.455648e-10</td>\n",
       "    </tr>\n",
       "    <tr>\n",
       "      <th>WGA_95</th>\n",
       "      <td>4.579768e-05</td>\n",
       "      <td>1.324495e-13</td>\n",
       "    </tr>\n",
       "    <tr>\n",
       "      <th>WGA_LOWCOV_combined_mo1</th>\n",
       "      <td>1.477667e-03</td>\n",
       "      <td>9.379411e-17</td>\n",
       "    </tr>\n",
       "    <tr>\n",
       "      <th rowspan=\"3\" valign=\"top\">Ceffectors</th>\n",
       "      <th>Lowcov_01</th>\n",
       "      <td>3.326542e-02</td>\n",
       "      <td>5.836811e-02</td>\n",
       "    </tr>\n",
       "    <tr>\n",
       "      <th>WGA_95</th>\n",
       "      <td>9.235022e-01</td>\n",
       "      <td>3.479875e-03</td>\n",
       "    </tr>\n",
       "    <tr>\n",
       "      <th>WGA_LOWCOV_combined_mo1</th>\n",
       "      <td>7.400221e-01</td>\n",
       "      <td>5.795804e-03</td>\n",
       "    </tr>\n",
       "    <tr>\n",
       "      <th rowspan=\"3\" valign=\"top\">EffectorP</th>\n",
       "      <th>Lowcov_01</th>\n",
       "      <td>3.326542e-02</td>\n",
       "      <td>4.923270e-02</td>\n",
       "    </tr>\n",
       "    <tr>\n",
       "      <th>WGA_95</th>\n",
       "      <td>9.235022e-01</td>\n",
       "      <td>5.003802e-01</td>\n",
       "    </tr>\n",
       "    <tr>\n",
       "      <th>WGA_LOWCOV_combined_mo1</th>\n",
       "      <td>7.400221e-01</td>\n",
       "      <td>7.886652e-01</td>\n",
       "    </tr>\n",
       "    <tr>\n",
       "      <th rowspan=\"3\" valign=\"top\">Secretome</th>\n",
       "      <th>Lowcov_01</th>\n",
       "      <td>1.436367e-06</td>\n",
       "      <td>5.983996e-02</td>\n",
       "    </tr>\n",
       "    <tr>\n",
       "      <th>WGA_95</th>\n",
       "      <td>1.839260e-02</td>\n",
       "      <td>2.438171e-03</td>\n",
       "    </tr>\n",
       "    <tr>\n",
       "      <th>WGA_LOWCOV_combined_mo1</th>\n",
       "      <td>1.750980e-02</td>\n",
       "      <td>6.937300e-05</td>\n",
       "    </tr>\n",
       "  </tbody>\n",
       "</table>\n",
       "</div>"
      ],
      "text/plain": [
       "                                          DK0911      Pst_104E\n",
       "Cut-off    Type                                               \n",
       "All_genes  Lowcov_01                1.000000e+00  1.000000e+00\n",
       "           WGA_95                   1.000000e+00  1.000000e+00\n",
       "           WGA_LOWCOV_combined_mo1  1.000000e+00  1.000000e+00\n",
       "Busco      Lowcov_01                2.108868e-12  5.455648e-10\n",
       "           WGA_95                   4.579768e-05  1.324495e-13\n",
       "           WGA_LOWCOV_combined_mo1  1.477667e-03  9.379411e-17\n",
       "Ceffectors Lowcov_01                3.326542e-02  5.836811e-02\n",
       "           WGA_95                   9.235022e-01  3.479875e-03\n",
       "           WGA_LOWCOV_combined_mo1  7.400221e-01  5.795804e-03\n",
       "EffectorP  Lowcov_01                3.326542e-02  4.923270e-02\n",
       "           WGA_95                   9.235022e-01  5.003802e-01\n",
       "           WGA_LOWCOV_combined_mo1  7.400221e-01  7.886652e-01\n",
       "Secretome  Lowcov_01                1.436367e-06  5.983996e-02\n",
       "           WGA_95                   1.839260e-02  2.438171e-03\n",
       "           WGA_LOWCOV_combined_mo1  1.750980e-02  6.937300e-05"
      ]
     },
     "execution_count": 32,
     "metadata": {},
     "output_type": "execute_result"
    }
   ],
   "source": [
    "Fishers_df"
   ]
  },
  {
   "cell_type": "code",
   "execution_count": 33,
   "metadata": {
    "ExecuteTime": {
     "end_time": "2019-05-30T23:33:30.899953Z",
     "start_time": "2019-05-30T23:33:30.881742Z"
    }
   },
   "outputs": [
    {
     "data": {
      "text/html": [
       "<div>\n",
       "<style scoped>\n",
       "    .dataframe tbody tr th:only-of-type {\n",
       "        vertical-align: middle;\n",
       "    }\n",
       "\n",
       "    .dataframe tbody tr th {\n",
       "        vertical-align: top;\n",
       "    }\n",
       "\n",
       "    .dataframe thead th {\n",
       "        text-align: right;\n",
       "    }\n",
       "</style>\n",
       "<table border=\"1\" class=\"dataframe\">\n",
       "  <thead>\n",
       "    <tr style=\"text-align: right;\">\n",
       "      <th></th>\n",
       "      <th></th>\n",
       "      <th>DK0911</th>\n",
       "      <th>Pst_104E</th>\n",
       "    </tr>\n",
       "    <tr>\n",
       "      <th>Cut-off</th>\n",
       "      <th>Type</th>\n",
       "      <th></th>\n",
       "      <th></th>\n",
       "    </tr>\n",
       "  </thead>\n",
       "  <tbody>\n",
       "    <tr>\n",
       "      <th rowspan=\"3\" valign=\"top\">All_genes</th>\n",
       "      <th>Lowcov_01</th>\n",
       "      <td>[724, 25940, 2.79]</td>\n",
       "      <td>[2394, 30249, 7.91]</td>\n",
       "    </tr>\n",
       "    <tr>\n",
       "      <th>WGA_95</th>\n",
       "      <td>[553, 25940, 2.13]</td>\n",
       "      <td>[2084, 30249, 6.89]</td>\n",
       "    </tr>\n",
       "    <tr>\n",
       "      <th>WGA_LOWCOV_combined_mo1</th>\n",
       "      <td>[185, 25940, 0.71]</td>\n",
       "      <td>[1441, 30249, 4.76]</td>\n",
       "    </tr>\n",
       "    <tr>\n",
       "      <th rowspan=\"3\" valign=\"top\">Busco</th>\n",
       "      <th>Lowcov_01</th>\n",
       "      <td>[13, 2178, 0.6]</td>\n",
       "      <td>[126, 2740, 4.6]</td>\n",
       "    </tr>\n",
       "    <tr>\n",
       "      <th>WGA_95</th>\n",
       "      <td>[20, 2178, 0.92]</td>\n",
       "      <td>[91, 2740, 3.32]</td>\n",
       "    </tr>\n",
       "    <tr>\n",
       "      <th>WGA_LOWCOV_combined_mo1</th>\n",
       "      <td>[4, 2178, 0.18]</td>\n",
       "      <td>[44, 2740, 1.61]</td>\n",
       "    </tr>\n",
       "    <tr>\n",
       "      <th rowspan=\"3\" valign=\"top\">Ceffectors</th>\n",
       "      <th>Lowcov_01</th>\n",
       "      <td>[25, 1376, 1.82]</td>\n",
       "      <td>[244, 3520, 6.93]</td>\n",
       "    </tr>\n",
       "    <tr>\n",
       "      <th>WGA_95</th>\n",
       "      <td>[28, 1376, 2.03]</td>\n",
       "      <td>[194, 3520, 5.51]</td>\n",
       "    </tr>\n",
       "    <tr>\n",
       "      <th>WGA_LOWCOV_combined_mo1</th>\n",
       "      <td>[8, 1376, 0.58]</td>\n",
       "      <td>[130, 3520, 3.69]</td>\n",
       "    </tr>\n",
       "    <tr>\n",
       "      <th rowspan=\"3\" valign=\"top\">EffectorP</th>\n",
       "      <th>Lowcov_01</th>\n",
       "      <td>[25, 1376, 1.82]</td>\n",
       "      <td>[189, 2038, 9.27]</td>\n",
       "    </tr>\n",
       "    <tr>\n",
       "      <th>WGA_95</th>\n",
       "      <td>[28, 1376, 2.03]</td>\n",
       "      <td>[149, 2038, 7.31]</td>\n",
       "    </tr>\n",
       "    <tr>\n",
       "      <th>WGA_LOWCOV_combined_mo1</th>\n",
       "      <td>[8, 1376, 0.58]</td>\n",
       "      <td>[100, 2038, 4.91]</td>\n",
       "    </tr>\n",
       "    <tr>\n",
       "      <th rowspan=\"3\" valign=\"top\">Secretome</th>\n",
       "      <th>Lowcov_01</th>\n",
       "      <td>[55, 3699, 1.49]</td>\n",
       "      <td>[327, 4637, 7.05]</td>\n",
       "    </tr>\n",
       "    <tr>\n",
       "      <th>WGA_95</th>\n",
       "      <td>[57, 3699, 1.54]</td>\n",
       "      <td>[261, 4637, 5.63]</td>\n",
       "    </tr>\n",
       "    <tr>\n",
       "      <th>WGA_LOWCOV_combined_mo1</th>\n",
       "      <td>[14, 3699, 0.38]</td>\n",
       "      <td>[159, 4637, 3.43]</td>\n",
       "    </tr>\n",
       "  </tbody>\n",
       "</table>\n",
       "</div>"
      ],
      "text/plain": [
       "                                                DK0911             Pst_104E\n",
       "Cut-off    Type                                                            \n",
       "All_genes  Lowcov_01                [724, 25940, 2.79]  [2394, 30249, 7.91]\n",
       "           WGA_95                   [553, 25940, 2.13]  [2084, 30249, 6.89]\n",
       "           WGA_LOWCOV_combined_mo1  [185, 25940, 0.71]  [1441, 30249, 4.76]\n",
       "Busco      Lowcov_01                   [13, 2178, 0.6]     [126, 2740, 4.6]\n",
       "           WGA_95                     [20, 2178, 0.92]     [91, 2740, 3.32]\n",
       "           WGA_LOWCOV_combined_mo1     [4, 2178, 0.18]     [44, 2740, 1.61]\n",
       "Ceffectors Lowcov_01                  [25, 1376, 1.82]    [244, 3520, 6.93]\n",
       "           WGA_95                     [28, 1376, 2.03]    [194, 3520, 5.51]\n",
       "           WGA_LOWCOV_combined_mo1     [8, 1376, 0.58]    [130, 3520, 3.69]\n",
       "EffectorP  Lowcov_01                  [25, 1376, 1.82]    [189, 2038, 9.27]\n",
       "           WGA_95                     [28, 1376, 2.03]    [149, 2038, 7.31]\n",
       "           WGA_LOWCOV_combined_mo1     [8, 1376, 0.58]    [100, 2038, 4.91]\n",
       "Secretome  Lowcov_01                  [55, 3699, 1.49]    [327, 4637, 7.05]\n",
       "           WGA_95                     [57, 3699, 1.54]    [261, 4637, 5.63]\n",
       "           WGA_LOWCOV_combined_mo1    [14, 3699, 0.38]    [159, 4637, 3.43]"
      ]
     },
     "execution_count": 33,
     "metadata": {},
     "output_type": "execute_result"
    }
   ],
   "source": [
    "Absence_df "
   ]
  },
  {
   "cell_type": "code",
   "execution_count": 34,
   "metadata": {
    "ExecuteTime": {
     "end_time": "2019-05-30T23:33:45.781982Z",
     "start_time": "2019-05-30T23:33:32.321215Z"
    }
   },
   "outputs": [
    {
     "name": "stdout",
     "output_type": "stream",
     "text": [
      "For DK0911:\n",
      "All_genes:[1275, 25940, 1275], 1.00E+00, 4.92\n",
      "For DK0911:\n",
      "Busco:[7, 2178, 1275], 5.91E-34, 0.32\n",
      "For DK0911:\n",
      "Ceffectors:[53, 1376, 1275], 9.31E-02, 3.85\n",
      "For DK0911:\n",
      "EffectorP:[53, 1376, 1275], 9.31E-02, 3.85\n",
      "For DK0911:\n",
      "Secretome:[109, 3699, 1275], 9.30E-08, 2.95\n",
      "For Pst_104E:\n",
      "All_genes:[1404, 30249, 1404], 1.00E+00, 4.64\n",
      "For Pst_104E:\n",
      "Busco:[17, 2740, 1404], 1.06E-31, 0.62\n",
      "For Pst_104E:\n",
      "Ceffectors:[153, 2960, 1404], 2.20E-01, 5.17\n",
      "For Pst_104E:\n",
      "EffectorP:[142, 2038, 1404], 2.07E-05, 6.97\n",
      "For Pst_104E:\n",
      "Secretome:[190, 4637, 1404], 1.21E-01, 4.10\n"
     ]
    }
   ],
   "source": [
    "#comparing number of genes in category with overlap in singletons\n",
    "#get the combined missing genes and test if the overlap is significant with a fishers exact test and randomization\n",
    "\n",
    "min_overlap = 1\n",
    "key = ''\n",
    "missing_dict = {}\n",
    "fisher_dict = {}\n",
    "missing_dict['DK0911'] = []\n",
    "missing_dict['Pst_104E'] = []\n",
    "fisher_dict['DK0911'] = []\n",
    "fisher_dict['Pst_104E'] = []\n",
    "gene_keys = ['All_genes','Busco', 'Ceffectors',  'EffectorP',   'Secretome']\n",
    "for _dict in [DK0911_dict, Pst_104E_dict]:\n",
    "    for gene_key in gene_keys:    \n",
    "        category_genes = overlap_feature_names(_dict['All_genes'], _dict[gene_key], min_overlap)\n",
    "        all_genes = overlap_feature_names(_dict['All_genes'], _dict['All_genes'], min_overlap)\n",
    "        singletons = get_sing_para(_dict['Singletons'])\n",
    "            \n",
    "        all_genes_overlap = [x for x in all_genes if x in singletons]\n",
    "        \n",
    "            \n",
    "        catetory_genes_overlap = [x for x in category_genes if x in singletons]\n",
    "               \n",
    "        p_value = fisher_p([ catetory_genes_overlap, category_genes],[all_genes_overlap, all_genes])\n",
    "        absence_value = [len(catetory_genes_overlap), len(category_genes), len(singletons)]\n",
    "        percent_lost = len(catetory_genes_overlap)/len(category_genes) *100\n",
    "        if os.path.basename(_dict['All_genes']).startswith('DK'):\n",
    "            genome = 'DK0911'\n",
    "        elif os.path.basename(_dict['All_genes']).startswith('Pst_104'):\n",
    "            genome = 'Pst_104E'\n",
    "        missing_dict[genome].append(absence_value[0])\n",
    "        fisher_dict[genome].append(p_value)\n",
    "            \n",
    "        print('For %s:\\n%s:%s, %.2E, %.2f'%\\\n",
    "         (genome, gene_key, absence_value,  p_value, percent_lost)) \n",
    "            \n",
    " "
   ]
  },
  {
   "cell_type": "code",
   "execution_count": 35,
   "metadata": {
    "ExecuteTime": {
     "end_time": "2019-05-30T23:33:45.796041Z",
     "start_time": "2019-05-30T23:33:45.784510Z"
    }
   },
   "outputs": [
    {
     "data": {
      "text/html": [
       "<div>\n",
       "<style scoped>\n",
       "    .dataframe tbody tr th:only-of-type {\n",
       "        vertical-align: middle;\n",
       "    }\n",
       "\n",
       "    .dataframe tbody tr th {\n",
       "        vertical-align: top;\n",
       "    }\n",
       "\n",
       "    .dataframe thead th {\n",
       "        text-align: right;\n",
       "    }\n",
       "</style>\n",
       "<table border=\"1\" class=\"dataframe\">\n",
       "  <thead>\n",
       "    <tr style=\"text-align: right;\">\n",
       "      <th></th>\n",
       "      <th>DK0911</th>\n",
       "      <th>Pst_104E</th>\n",
       "    </tr>\n",
       "  </thead>\n",
       "  <tbody>\n",
       "    <tr>\n",
       "      <th>All_genes</th>\n",
       "      <td>1275</td>\n",
       "      <td>1404</td>\n",
       "    </tr>\n",
       "    <tr>\n",
       "      <th>Busco</th>\n",
       "      <td>7</td>\n",
       "      <td>17</td>\n",
       "    </tr>\n",
       "    <tr>\n",
       "      <th>Ceffectors</th>\n",
       "      <td>53</td>\n",
       "      <td>153</td>\n",
       "    </tr>\n",
       "    <tr>\n",
       "      <th>EffectorP</th>\n",
       "      <td>53</td>\n",
       "      <td>142</td>\n",
       "    </tr>\n",
       "    <tr>\n",
       "      <th>Secretome</th>\n",
       "      <td>109</td>\n",
       "      <td>190</td>\n",
       "    </tr>\n",
       "  </tbody>\n",
       "</table>\n",
       "</div>"
      ],
      "text/plain": [
       "            DK0911  Pst_104E\n",
       "All_genes     1275      1404\n",
       "Busco            7        17\n",
       "Ceffectors      53       153\n",
       "EffectorP       53       142\n",
       "Secretome      109       190"
      ]
     },
     "execution_count": 35,
     "metadata": {},
     "output_type": "execute_result"
    }
   ],
   "source": [
    "df_missing = pd.DataFrame.from_dict(missing_dict)\n",
    "df_missing.index = gene_keys\n",
    "df_missing"
   ]
  },
  {
   "cell_type": "code",
   "execution_count": 267,
   "metadata": {
    "ExecuteTime": {
     "end_time": "2019-05-16T06:23:51.227752Z",
     "start_time": "2019-05-16T06:23:51.211120Z"
    }
   },
   "outputs": [
    {
     "data": {
      "text/html": [
       "<div>\n",
       "<style scoped>\n",
       "    .dataframe tbody tr th:only-of-type {\n",
       "        vertical-align: middle;\n",
       "    }\n",
       "\n",
       "    .dataframe tbody tr th {\n",
       "        vertical-align: top;\n",
       "    }\n",
       "\n",
       "    .dataframe thead th {\n",
       "        text-align: right;\n",
       "    }\n",
       "</style>\n",
       "<table border=\"1\" class=\"dataframe\">\n",
       "  <thead>\n",
       "    <tr style=\"text-align: right;\">\n",
       "      <th></th>\n",
       "      <th>DK0911</th>\n",
       "      <th>Pst_104E</th>\n",
       "    </tr>\n",
       "  </thead>\n",
       "  <tbody>\n",
       "    <tr>\n",
       "      <th>All_genes</th>\n",
       "      <td>1.000000e+00</td>\n",
       "      <td>1.000000e+00</td>\n",
       "    </tr>\n",
       "    <tr>\n",
       "      <th>Busco</th>\n",
       "      <td>5.906117e-34</td>\n",
       "      <td>1.059775e-31</td>\n",
       "    </tr>\n",
       "    <tr>\n",
       "      <th>Ceffectors</th>\n",
       "      <td>9.305928e-02</td>\n",
       "      <td>2.200546e-01</td>\n",
       "    </tr>\n",
       "    <tr>\n",
       "      <th>EffectorP</th>\n",
       "      <td>9.305928e-02</td>\n",
       "      <td>2.069424e-05</td>\n",
       "    </tr>\n",
       "    <tr>\n",
       "      <th>Secretome</th>\n",
       "      <td>9.297606e-08</td>\n",
       "      <td>1.211186e-01</td>\n",
       "    </tr>\n",
       "  </tbody>\n",
       "</table>\n",
       "</div>"
      ],
      "text/plain": [
       "                  DK0911      Pst_104E\n",
       "All_genes   1.000000e+00  1.000000e+00\n",
       "Busco       5.906117e-34  1.059775e-31\n",
       "Ceffectors  9.305928e-02  2.200546e-01\n",
       "EffectorP   9.305928e-02  2.069424e-05\n",
       "Secretome   9.297606e-08  1.211186e-01"
      ]
     },
     "execution_count": 267,
     "metadata": {},
     "output_type": "execute_result"
    }
   ],
   "source": [
    "df_fisher = pd.DataFrame.from_dict(fisher_dict)\n",
    "df_fisher.index = gene_keys\n",
    "df_fisher"
   ]
  },
  {
   "cell_type": "code",
   "execution_count": 36,
   "metadata": {
    "ExecuteTime": {
     "end_time": "2019-05-30T23:34:42.082312Z",
     "start_time": "2019-05-30T23:34:42.076406Z"
    },
    "collapsed": true
   },
   "outputs": [],
   "source": [
    "syn_net_base_folder = '/home/benjamin/genome_assembly/Warrior/DK0911_v04/comp_orthology/run_SynNet/'\n",
    "syn_net_files = [os.path.join(syn_net_base_folder, x, 'DK_PAu.collinearity') for x in os.listdir(syn_net_base_folder) if x.startswith('Genomes')]"
   ]
  },
  {
   "cell_type": "code",
   "execution_count": 37,
   "metadata": {
    "ExecuteTime": {
     "end_time": "2019-05-30T23:34:42.670436Z",
     "start_time": "2019-05-30T23:34:42.658563Z"
    }
   },
   "outputs": [
    {
     "name": "stdout",
     "output_type": "stream",
     "text": [
      "/home/benjamin/genome_assembly/Warrior/DK0911_v04/comp_orthology/run_SynNet/Genomes20190514_1113-SynNet-k25w0m3/DK_PAu.collinearity\n",
      "True\n",
      "/home/benjamin/genome_assembly/Warrior/DK0911_v04/comp_orthology/run_SynNet/Genomes20190514_1247-SynNet-k25w0m8/DK_PAu.collinearity\n",
      "True\n",
      "/home/benjamin/genome_assembly/Warrior/DK0911_v04/comp_orthology/run_SynNet/Genomes20190514_1016-SynNet-k25w0m0/DK_PAu.collinearity\n",
      "True\n",
      "/home/benjamin/genome_assembly/Warrior/DK0911_v04/comp_orthology/run_SynNet/Genomes20190514_1036-SynNet-k25w0m1/DK_PAu.collinearity\n",
      "True\n",
      "/home/benjamin/genome_assembly/Warrior/DK0911_v04/comp_orthology/run_SynNet/Genomes20190514_1149-SynNet-k25w0m5/DK_PAu.collinearity\n",
      "True\n",
      "/home/benjamin/genome_assembly/Warrior/DK0911_v04/comp_orthology/run_SynNet/Genomes20190514_1227-SynNet-k25w0m7/DK_PAu.collinearity\n",
      "True\n",
      "/home/benjamin/genome_assembly/Warrior/DK0911_v04/comp_orthology/run_SynNet/Genomes20190514_1054-SynNet-k25w0m2/DK_PAu.collinearity\n",
      "True\n",
      "/home/benjamin/genome_assembly/Warrior/DK0911_v04/comp_orthology/run_SynNet/Genomes20190514_1208-SynNet-k25w0m6/DK_PAu.collinearity\n",
      "True\n",
      "/home/benjamin/genome_assembly/Warrior/DK0911_v04/comp_orthology/run_SynNet/Genomes20190514_1130-SynNet-k25w0m4/DK_PAu.collinearity\n",
      "True\n",
      "/home/benjamin/genome_assembly/Warrior/DK0911_v04/comp_orthology/run_SynNet/Genomes20190401_2103-SynNet-k0w0m25/DK_PAu.collinearity\n",
      "True\n",
      "/home/benjamin/genome_assembly/Warrior/DK0911_v04/comp_orthology/run_SynNet/Genomes20190514_1342-SynNet-k25w0m15/DK_PAu.collinearity\n",
      "True\n",
      "/home/benjamin/genome_assembly/Warrior/DK0911_v04/comp_orthology/run_SynNet/Genomes20190514_1359-SynNet-k25w0m25/DK_PAu.collinearity\n",
      "True\n",
      "/home/benjamin/genome_assembly/Warrior/DK0911_v04/comp_orthology/run_SynNet/Genomes20190529_1333-SynNet-k500w0m9/DK_PAu.collinearity\n",
      "True\n",
      "/home/benjamin/genome_assembly/Warrior/DK0911_v04/comp_orthology/run_SynNet/Genomes20190514_1324-SynNet-k25w0m10/DK_PAu.collinearity\n",
      "True\n",
      "/home/benjamin/genome_assembly/Warrior/DK0911_v04/comp_orthology/run_SynNet/Genomes20190514_1418-SynNet-k25w0m35/DK_PAu.collinearity\n",
      "True\n",
      "/home/benjamin/genome_assembly/Warrior/DK0911_v04/comp_orthology/run_SynNet/Genomes20190514_1307-SynNet-k25w0m9/DK_PAu.collinearity\n",
      "True\n"
     ]
    }
   ],
   "source": [
    "for x in syn_net_files:\n",
    "    print(x)\n",
    "    print(os.path.exists(x))"
   ]
  },
  {
   "cell_type": "markdown",
   "metadata": {},
   "source": [
    "want to get for each gene the position in the alignement, the length of the alignment, the alignement name, plus its match.\n"
   ]
  },
  {
   "cell_type": "code",
   "execution_count": 38,
   "metadata": {
    "ExecuteTime": {
     "end_time": "2019-05-30T23:35:06.388112Z",
     "start_time": "2019-05-30T23:34:59.883265Z"
    },
    "collapsed": true
   },
   "outputs": [],
   "source": [
    "collinear_df_dict = {}\n",
    "for fn in syn_net_files:\n",
    "    collinear_df_dict[fn.split('/')[-2]] = get_collinear_df(fn)"
   ]
  },
  {
   "cell_type": "code",
   "execution_count": 39,
   "metadata": {
    "ExecuteTime": {
     "end_time": "2019-05-30T23:35:13.816708Z",
     "start_time": "2019-05-30T23:35:09.765955Z"
    },
    "collapsed": true
   },
   "outputs": [],
   "source": [
    "gene_keys = ['All_genes','Busco', 'Ceffectors',  'EffectorP',   'Secretome']\n",
    "for key, value in collinear_df_dict.items():\n",
    "    for genome, bed_fn_dict in zip(['DK0911', 'Pst_104E'], [DK0911_dict, Pst_104E_dict]):\n",
    "        collinear_df_dict[key] = add_gentype_column(value, gene_keys, genome, bed_fn_dict)"
   ]
  },
  {
   "cell_type": "code",
   "execution_count": 304,
   "metadata": {
    "ExecuteTime": {
     "end_time": "2019-05-24T02:43:47.466987Z",
     "start_time": "2019-05-24T02:43:47.464179Z"
    },
    "collapsed": true
   },
   "outputs": [],
   "source": [
    "#a dataframe that contains multiindex columns (genomes and m values) as columns, gentypes as rows\n",
    "#and values are lists of maximal collinear blocks per gene. Lose the linkage between geneid and block length"
   ]
  },
  {
   "cell_type": "code",
   "execution_count": 40,
   "metadata": {
    "ExecuteTime": {
     "end_time": "2019-05-30T23:36:33.880870Z",
     "start_time": "2019-05-30T23:35:29.076749Z"
    },
    "collapsed": true
   },
   "outputs": [],
   "source": [
    "max_collinear_df_dict = {}\n",
    "for key, tmp_df in collinear_df_dict.items():\n",
    "    m_pattern = re.compile(r'0m([0-9]*)')\n",
    "    m = re.findall(m_pattern, key)[0]\n",
    "    for genome in ['Pst_104E', 'DK0911']:\n",
    "        idx = tmp_df.groupby(genome)['aln_length'].agg(pd.Series.idxmax)\n",
    "        new_key = '%s_m%s' % (genome, m)\n",
    "        max_collinear_df_dict[new_key] =  tmp_df.iloc[idx].drop_duplicates([genome, 'aln_length']).copy()"
   ]
  },
  {
   "cell_type": "code",
   "execution_count": 41,
   "metadata": {
    "ExecuteTime": {
     "end_time": "2019-05-30T23:36:33.888404Z",
     "start_time": "2019-05-30T23:36:33.883539Z"
    }
   },
   "outputs": [
    {
     "data": {
      "text/plain": [
       "dict_keys(['Pst_104E_m9', 'DK0911_m7', 'DK0911_m35', 'DK0911_m15', 'Pst_104E_m15', 'DK0911_m1', 'Pst_104E_m3', 'Pst_104E_m6', 'DK0911_m9', 'DK0911_m2', 'Pst_104E_m8', 'DK0911_m25', 'Pst_104E_m4', 'DK0911_m8', 'Pst_104E_m10', 'Pst_104E_m1', 'DK0911_m10', 'Pst_104E_m25', 'DK0911_m3', 'Pst_104E_m7', 'DK0911_m0', 'DK0911_m6', 'Pst_104E_m5', 'Pst_104E_m0', 'DK0911_m4', 'DK0911_m5', 'Pst_104E_m35', 'Pst_104E_m2'])"
      ]
     },
     "execution_count": 41,
     "metadata": {},
     "output_type": "execute_result"
    }
   ],
   "source": [
    "max_collinear_df_dict.keys()"
   ]
  },
  {
   "cell_type": "code",
   "execution_count": 42,
   "metadata": {
    "ExecuteTime": {
     "end_time": "2019-05-30T23:36:33.893975Z",
     "start_time": "2019-05-30T23:36:33.890109Z"
    },
    "collapsed": true
   },
   "outputs": [],
   "source": [
    "import matplotlib\n",
    "font = {'family' : 'normal',\n",
    "        'weight' : 'regular',\n",
    "        'size'   : 14}\n",
    "\n",
    "matplotlib.rc('font', **font)"
   ]
  },
  {
   "cell_type": "code",
   "execution_count": 43,
   "metadata": {
    "ExecuteTime": {
     "end_time": "2019-05-30T23:36:34.155148Z",
     "start_time": "2019-05-30T23:36:33.895754Z"
    },
    "collapsed": true
   },
   "outputs": [],
   "source": [
    "Max_collinear_mean = {}\n",
    "for genome in ['Pst_104E' , 'DK0911']:\n",
    "    Max_collinear_mean[genome] = {}\n",
    "    for key, tmp_df in max_collinear_df_dict.items():\n",
    "        if key.startswith(genome):\n",
    "            m2_pattern = re.compile(r'_m([0-9]*)')\n",
    "            m = re.findall(m2_pattern, key)[0]\n",
    "            Max_collinear_mean[genome][m] = get_genetype_means(tmp_df, genome, gene_keys)\n",
    "    Max_collinear_mean[genome] = max_colinear_df(Max_collinear_mean[genome], gene_keys)    "
   ]
  },
  {
   "cell_type": "code",
   "execution_count": 44,
   "metadata": {
    "ExecuteTime": {
     "end_time": "2019-05-30T23:36:36.181619Z",
     "start_time": "2019-05-30T23:36:34.157205Z"
    }
   },
   "outputs": [
    {
     "data": {
      "text/plain": [
       "<matplotlib.legend.Legend at 0x7f77c17e40b8>"
      ]
     },
     "execution_count": 44,
     "metadata": {},
     "output_type": "execute_result"
    },
    {
     "name": "stderr",
     "output_type": "stream",
     "text": [
      "/home/benjamin/anaconda3/lib/python3.5/site-packages/matplotlib/font_manager.py:1328: UserWarning: findfont: Font family ['normal'] not found. Falling back to DejaVu Sans\n",
      "  (prop.get_family(), self.defaultFamily[fontext]))\n"
     ]
    },
    {
     "data": {
      "image/png": "[encoded data removed]",
      "text/plain": [
       "<Figure size 720x720 with 2 Axes>"
      ]
     },
     "metadata": {},
     "output_type": "display_data"
    }
   ],
   "source": [
    "f, ax = plt.subplots(1,2, figsize=[10,10], sharey=True)\n",
    "\n",
    "y= Max_collinear_mean['DK0911'].T.index\n",
    "\n",
    "for gene_type in gene_keys:\n",
    "    ax[0].plot(y, Max_collinear_mean['DK0911'].T[gene_type], 'o')\n",
    "    ax[0].title.set_text('DK0911')\n",
    "    ax[1].title.set_text(\"Pst_104E\" )\n",
    "    ax[1].plot(y, Max_collinear_mean['Pst_104E'].T[gene_type], 'o')\n",
    "\n",
    "f.text(0.5, 0.06, 'Max allowed gap size within alignment block', fontsize=16, ha='center', va='center')\n",
    "ax[0].set_ylabel('Mean Synteny Block Size',fontsize=16)\n",
    "plt.legend()"
   ]
  },
  {
   "cell_type": "code",
   "execution_count": 45,
   "metadata": {
    "ExecuteTime": {
     "end_time": "2019-05-30T23:36:36.420527Z",
     "start_time": "2019-05-30T23:36:36.183484Z"
    },
    "collapsed": true
   },
   "outputs": [],
   "source": [
    "Max_collinear_median = {}\n",
    "for genome in ['Pst_104E' , 'DK0911']:\n",
    "    Max_collinear_median[genome] = {}\n",
    "    for key, tmp_df in max_collinear_df_dict.items():\n",
    "        if key.startswith(genome):\n",
    "            m2_pattern = re.compile(r'_m([0-9]*)')\n",
    "            m = re.findall(m2_pattern, key)[0]\n",
    "            Max_collinear_median[genome][m] = get_genetype_median(tmp_df, genome, gene_keys)\n",
    "    Max_collinear_median[genome] = max_colinear_df(Max_collinear_median[genome], gene_keys)  "
   ]
  },
  {
   "cell_type": "code",
   "execution_count": 46,
   "metadata": {
    "ExecuteTime": {
     "end_time": "2019-05-30T23:36:37.735574Z",
     "start_time": "2019-05-30T23:36:36.422613Z"
    }
   },
   "outputs": [
    {
     "data": {
      "text/plain": [
       "<matplotlib.legend.Legend at 0x7f77c178f5c0>"
      ]
     },
     "execution_count": 46,
     "metadata": {},
     "output_type": "execute_result"
    },
    {
     "name": "stderr",
     "output_type": "stream",
     "text": [
      "/home/benjamin/anaconda3/lib/python3.5/site-packages/matplotlib/font_manager.py:1328: UserWarning: findfont: Font family ['normal'] not found. Falling back to DejaVu Sans\n",
      "  (prop.get_family(), self.defaultFamily[fontext]))\n"
     ]
    },
    {
     "data": {
      "image/png": "[encoded data removed]",
      "text/plain": [
       "<Figure size 720x720 with 2 Axes>"
      ]
     },
     "metadata": {},
     "output_type": "display_data"
    }
   ],
   "source": [
    "f, ax = plt.subplots(1,2, figsize=[10,10], sharey=True)\n",
    "\n",
    "y= Max_collinear_median['DK0911'].T.index\n",
    "\n",
    "for gene_type in gene_keys:\n",
    "    ax[0].plot(y, Max_collinear_median['DK0911'].T[gene_type], 'o')\n",
    "    ax[0].title.set_text('DK0911')\n",
    "    ax[1].title.set_text(\"Pst_104E\" )\n",
    "    ax[1].plot(y,Max_collinear_median['Pst_104E'].T[gene_type], 'o')\n",
    "\n",
    "f.text(0.5, 0.06, 'Max allowed gap size within alignment block', fontsize=16, ha='center', va='center')\n",
    "ax[0].set_ylabel('Median Synteny Block Size',fontsize=16)\n",
    "plt.legend()"
   ]
  },
  {
   "cell_type": "code",
   "execution_count": 48,
   "metadata": {
    "ExecuteTime": {
     "end_time": "2019-05-31T00:56:38.252209Z",
     "start_time": "2019-05-31T00:56:29.108969Z"
    },
    "collapsed": true
   },
   "outputs": [],
   "source": [
    "Max_percentage = {}\n",
    "for genome, genome_dict in zip(['Pst_104E' , 'DK0911'], [ Pst_104E_dict, DK0911_dict]):\n",
    "    Max_percentage[genome] = {}\n",
    "    for key, tmp_df in max_collinear_df_dict.items():\n",
    "        if key.startswith(genome):\n",
    "            m2_pattern = re.compile(r'_m([0-9]*)')\n",
    "            m = re.findall(m2_pattern, key)[0]\n",
    "            Max_percentage[genome][m] = get_genetype_percentage(tmp_df, genome, genome_dict,\\\n",
    "                                                                genome_dict['All_genes'],  gene_keys)\n",
    "    Max_percentage[genome] = max_colinear_df(Max_percentage[genome], gene_keys)    "
   ]
  },
  {
   "cell_type": "code",
   "execution_count": 49,
   "metadata": {
    "ExecuteTime": {
     "end_time": "2019-05-31T00:56:39.590666Z",
     "start_time": "2019-05-31T00:56:38.254248Z"
    }
   },
   "outputs": [
    {
     "data": {
      "text/plain": [
       "<matplotlib.legend.Legend at 0x7f77c20f3a20>"
      ]
     },
     "execution_count": 49,
     "metadata": {},
     "output_type": "execute_result"
    },
    {
     "name": "stderr",
     "output_type": "stream",
     "text": [
      "/home/benjamin/anaconda3/lib/python3.5/site-packages/matplotlib/font_manager.py:1328: UserWarning: findfont: Font family ['normal'] not found. Falling back to DejaVu Sans\n",
      "  (prop.get_family(), self.defaultFamily[fontext]))\n"
     ]
    },
    {
     "data": {
      "image/png": "[encoded data removed]",
      "text/plain": [
       "<Figure size 720x720 with 2 Axes>"
      ]
     },
     "metadata": {},
     "output_type": "display_data"
    }
   ],
   "source": [
    "f, ax = plt.subplots(1,2, figsize=[10,10], sharey=True)\n",
    "\n",
    "\n",
    "\n",
    "for gene_type in gene_keys:\n",
    "    ax[0].plot(Max_percentage['DK0911'].T[gene_type],'o')\n",
    "    ax[1].plot(Max_percentage['Pst_104E'].T[gene_type],'o')\n",
    "    ax[0].title.set_text('DK0911')\n",
    "    ax[1].title.set_text(\"Pst_104E\" )\n",
    "\n",
    "f.text(0.5, 0.06, 'Max allowed gap size within alignment block', fontsize=16, ha='center', va='center')\n",
    "ax[0].set_ylabel('Percentage of genes with synteny block',fontsize=16)\n",
    "ax[0].set_ylim(50,100)\n",
    "plt.legend()"
   ]
  },
  {
   "cell_type": "code",
   "execution_count": 62,
   "metadata": {
    "ExecuteTime": {
     "end_time": "2019-06-03T05:53:10.056166Z",
     "start_time": "2019-06-03T05:53:08.076861Z"
    },
    "collapsed": true
   },
   "outputs": [],
   "source": [
    "Max_collinear_mean_primary = {}\n",
    "for genome, genome_dict in zip(['Pst_104E' , 'DK0911'], [Pst_104E_dict, DK0911_dict]):\n",
    "    Max_collinear_mean_primary[genome] = {}\n",
    "    \n",
    "    for key, tmp_df in max_collinear_df_dict.items():\n",
    "        tmp_df = tmp_df[tmp_df[genome].isin(get_gene_list(genome_dict[\"Primary_genes\"]))].reset_index(drop=True).copy()\n",
    "        \n",
    "        if key.startswith(genome):\n",
    "            m2_pattern = re.compile(r'_m([0-9]*)')\n",
    "            m = re.findall(m2_pattern, key)[0]\n",
    "            Max_collinear_mean_primary[genome][m] = get_genetype_means(tmp_df, genome, gene_keys)\n",
    "    Max_collinear_mean_primary[genome] = max_colinear_df(Max_collinear_mean_primary[genome], gene_keys)    "
   ]
  },
  {
   "cell_type": "code",
   "execution_count": 51,
   "metadata": {
    "ExecuteTime": {
     "end_time": "2019-05-31T00:56:42.977243Z",
     "start_time": "2019-05-31T00:56:41.603444Z"
    }
   },
   "outputs": [
    {
     "data": {
      "text/plain": [
       "<matplotlib.legend.Legend at 0x7f77c12292b0>"
      ]
     },
     "execution_count": 51,
     "metadata": {},
     "output_type": "execute_result"
    },
    {
     "name": "stderr",
     "output_type": "stream",
     "text": [
      "/home/benjamin/anaconda3/lib/python3.5/site-packages/matplotlib/font_manager.py:1328: UserWarning: findfont: Font family ['normal'] not found. Falling back to DejaVu Sans\n",
      "  (prop.get_family(), self.defaultFamily[fontext]))\n"
     ]
    },
    {
     "data": {
      "image/png": "[encoded data removed]",
      "text/plain": [
       "<Figure size 720x720 with 2 Axes>"
      ]
     },
     "metadata": {},
     "output_type": "display_data"
    }
   ],
   "source": [
    "f, ax = plt.subplots(1,2, figsize=[10,10], sharey=True)\n",
    "\n",
    "y= Max_collinear_mean_primary['DK0911'].T.index\n",
    "\n",
    "for gene_type in gene_keys:\n",
    "    ax[0].plot(y, Max_collinear_mean_primary['DK0911'].T[gene_type], 'o')\n",
    "    ax[0].title.set_text('DK0911')\n",
    "    ax[1].title.set_text(\"Pst_104E\" )\n",
    "    ax[1].plot(y, Max_collinear_mean_primary['Pst_104E'].T[gene_type], 'o')\n",
    "\n",
    "f.text(0.5, 0.06, 'Max allowed gap size within alignment block', fontsize=16, ha='center', va='center')\n",
    "ax[0].set_ylabel('Mean Synteny Block Size',fontsize=16)\n",
    "plt.legend()"
   ]
  },
  {
   "cell_type": "code",
   "execution_count": 52,
   "metadata": {
    "ExecuteTime": {
     "end_time": "2019-05-31T00:56:50.892288Z",
     "start_time": "2019-05-31T00:56:42.979176Z"
    },
    "collapsed": true
   },
   "outputs": [],
   "source": [
    "Max_percentage_primary = {}\n",
    "for genome, bed_fn_dict in zip(['Pst_104E' , 'DK0911'], [ Pst_104E_dict, DK0911_dict]):\n",
    "    Max_percentage_primary[genome] = {}\n",
    "    for key, tmp_df in max_collinear_df_dict.items():\n",
    "        tmp_df = tmp_df[tmp_df[genome].isin(get_gene_list(bed_fn_dict[\"Primary_genes\"]))].reset_index(drop=True).copy()\n",
    "        if key.startswith(genome):\n",
    "            m2_pattern = re.compile(r'_m([0-9]*)')\n",
    "            m = re.findall(m2_pattern, key)[0]\n",
    "            Max_percentage_primary[genome][m] = get_genetype_percentage(tmp_df, genome, bed_fn_dict,\\\n",
    "                                                                        bed_fn_dict['Primary_genes'],  gene_keys)\n",
    "    Max_percentage_primary[genome] = max_colinear_df(Max_percentage_primary[genome], gene_keys)"
   ]
  },
  {
   "cell_type": "code",
   "execution_count": 53,
   "metadata": {
    "ExecuteTime": {
     "end_time": "2019-05-31T00:56:52.230465Z",
     "start_time": "2019-05-31T00:56:50.894424Z"
    }
   },
   "outputs": [
    {
     "data": {
      "text/plain": [
       "<matplotlib.legend.Legend at 0x7f77c2167358>"
      ]
     },
     "execution_count": 53,
     "metadata": {},
     "output_type": "execute_result"
    },
    {
     "name": "stderr",
     "output_type": "stream",
     "text": [
      "/home/benjamin/anaconda3/lib/python3.5/site-packages/matplotlib/font_manager.py:1328: UserWarning: findfont: Font family ['normal'] not found. Falling back to DejaVu Sans\n",
      "  (prop.get_family(), self.defaultFamily[fontext]))\n"
     ]
    },
    {
     "data": {
      "image/png": "[encoded data removed]",
      "text/plain": [
       "<Figure size 720x720 with 2 Axes>"
      ]
     },
     "metadata": {},
     "output_type": "display_data"
    }
   ],
   "source": [
    "f, ax = plt.subplots(1,2, figsize=[10,10], sharey=True)\n",
    "\n",
    "\n",
    "\n",
    "for gene_type in gene_keys:\n",
    "    ax[0].plot(Max_percentage_primary['DK0911'].T[gene_type],'o')\n",
    "    ax[1].plot(Max_percentage_primary['Pst_104E'].T[gene_type],'o')\n",
    "    ax[0].title.set_text('DK0911')\n",
    "    ax[1].title.set_text(\"Pst_104E\" )\n",
    "\n",
    "f.text(0.5, 0.06, 'Max allowed gap size within alignment block', fontsize=16, ha='center', va='center')\n",
    "ax[0].set_ylabel('Percentage of genes with synteny block',fontsize=16)\n",
    "ax[0].set_ylim(50,100)\n",
    "plt.legend()"
   ]
  },
  {
   "cell_type": "markdown",
   "metadata": {},
   "source": [
    "### Analysis\n",
    "\n",
    "Based on the plot above choose max allowed gap size of nine."
   ]
  },
  {
   "cell_type": "code",
   "execution_count": 59,
   "metadata": {
    "ExecuteTime": {
     "end_time": "2019-06-03T05:51:59.176940Z",
     "start_time": "2019-06-03T05:51:59.166624Z"
    },
    "collapsed": true
   },
   "outputs": [],
   "source": [
    "fn = '/home/benjamin/genome_assembly/Warrior/DK0911_v04/comp_orthology/run_SynNet/Genomes20190514_1307-SynNet-k25w0m9/DK_PAu.collinearity'"
   ]
  },
  {
   "cell_type": "code",
   "execution_count": 60,
   "metadata": {
    "ExecuteTime": {
     "end_time": "2019-06-03T05:52:00.607758Z",
     "start_time": "2019-06-03T05:51:59.797014Z"
    },
    "collapsed": true
   },
   "outputs": [],
   "source": [
    "syn_df = get_collinear_df(fn)\n",
    "gene_keys = ['All_genes','Busco', 'Ceffectors',  'EffectorP',   'Secretome']\n",
    "\n",
    "for genome, bed_fn_dict in zip(['DK0911', 'Pst_104E'], [DK0911_dict, Pst_104E_dict]):\n",
    "    syn_df = add_gentype_column(syn_df, gene_keys, genome, bed_fn_dict)"
   ]
  },
  {
   "cell_type": "code",
   "execution_count": 64,
   "metadata": {
    "ExecuteTime": {
     "end_time": "2019-06-03T05:55:20.637250Z",
     "start_time": "2019-06-03T05:54:18.850837Z"
    }
   },
   "outputs": [
    {
     "name": "stderr",
     "output_type": "stream",
     "text": [
      "/home/benjamin/anaconda3/lib/python3.5/site-packages/matplotlib/font_manager.py:1328: UserWarning: findfont: Font family ['normal'] not found. Falling back to DejaVu Sans\n",
      "  (prop.get_family(), self.defaultFamily[fontext]))\n"
     ]
    },
    {
     "data": {
      "image/png": "[encoded data removed]",
      "text/plain": [
       "<Figure size 1080x360 with 5 Axes>"
      ]
     },
     "metadata": {},
     "output_type": "display_data"
    },
    {
     "data": {
      "image/png": "[encoded data removed]",
      "text/plain": [
       "<Figure size 1080x360 with 5 Axes>"
      ]
     },
     "metadata": {},
     "output_type": "display_data"
    }
   ],
   "source": [
    "max_length_df_dict = {}\n",
    "pallete = [sns.color_palette('colorblind')[x] for x in [0,1]]\n",
    "for genome, color, genome_dict in zip(['Pst_104E', 'DK0911'], pallete, [Pst_104E_dict, DK0911_dict]): \n",
    "    idx = syn_df.groupby(genome)['aln_length'].agg(pd.Series.idxmax)\n",
    "    max_length_df_dict[genome] = syn_df.iloc[idx].drop_duplicates([genome, 'aln_length']).copy()\n",
    "    for gene_type in syn_df.columns[-10:]:\n",
    "        if genome in gene_type:\n",
    "            _tmp_df = max_length_df_dict[genome]\n",
    "      \n",
    "            #print(genome, gene_type)\n",
    "            #print(round(_tmp_df[_tmp_df[gene_type] == True]['aln_length'].mean(),2))\n",
    "            #print(round(_tmp_df[_tmp_df[gene_type] == True]['aln_length'].median(),2))\n",
    "    plot_synteny(genome, max_length_df_dict[genome],genome_dict[\"All_genes\"],   color, 'something')"
   ]
  },
  {
   "cell_type": "code",
   "execution_count": 65,
   "metadata": {
    "ExecuteTime": {
     "end_time": "2019-06-03T05:56:11.321992Z",
     "start_time": "2019-06-03T05:55:30.758694Z"
    }
   },
   "outputs": [
    {
     "name": "stdout",
     "output_type": "stream",
     "text": [
      "Pst_104E Pst_104E_All_genes\n",
      "126.31 100.0\n",
      "Pst_104E Pst_104E_Busco\n",
      "133.38 111.0\n",
      "Pst_104E Pst_104E_Ceffectors\n",
      "127.05 102.0\n",
      "Pst_104E Pst_104E_EffectorP\n",
      "126.55 111.0\n",
      "Pst_104E"
     ]
    },
    {
     "name": "stderr",
     "output_type": "stream",
     "text": [
      "/home/benjamin/anaconda3/lib/python3.5/site-packages/matplotlib/font_manager.py:1328: UserWarning: findfont: Font family ['normal'] not found. Falling back to DejaVu Sans\n",
      "  (prop.get_family(), self.defaultFamily[fontext]))\n"
     ]
    },
    {
     "name": "stdout",
     "output_type": "stream",
     "text": [
      " Pst_104E_Secretome\n",
      "127.63 102.0\n",
      "DK0911 DK0911_All_genes\n",
      "135.0 116.0\n",
      "DK0911 DK0911_Busco\n",
      "143.29 125.0\n",
      "DK0911 DK0911_Ceffectors\n",
      "139.84 127.0\n",
      "DK0911 DK0911_EffectorP\n",
      "139.84 127.0\n",
      "DK0911 DK0911_Secretome\n",
      "136.04 117.0\n"
     ]
    },
    {
     "data": {
      "image/png": "[encoded data removed]",
      "text/plain": [
       "<Figure size 1080x360 with 5 Axes>"
      ]
     },
     "metadata": {},
     "output_type": "display_data"
    },
    {
     "data": {
      "image/png": "[encoded data removed]",
      "text/plain": [
       "<Figure size 1080x360 with 5 Axes>"
      ]
     },
     "metadata": {},
     "output_type": "display_data"
    }
   ],
   "source": [
    "max_length_df_dict = {}\n",
    "pallete = [sns.color_palette('colorblind')[x] for x in [0,1]]\n",
    "for genome, color, genome_dict in zip(['Pst_104E', 'DK0911'], pallete, [Pst_104E_dict, DK0911_dict]): \n",
    "    idx = syn_df.groupby(genome)['aln_length'].agg(pd.Series.idxmax)\n",
    "    max_length_df_dict[genome] = syn_df.iloc[idx].drop_duplicates([genome, 'aln_length']).copy()\n",
    "    for gene_type in syn_df.columns[-10:]:\n",
    "        if genome in gene_type:\n",
    "            _tmp_df = max_length_df_dict[genome]\n",
    "            sub_gene_list = get_gene_list(genome_dict[\"Primary_genes\"])\n",
    "            _tmp_df = _tmp_df[_tmp_df[genome].isin(sub_gene_list)].copy()\n",
    "            _tmp_df = _tmp_df.reset_index(drop=True)\n",
    "            print(genome, gene_type)\n",
    "            print(round(_tmp_df[_tmp_df[gene_type] == True]['aln_length'].mean(),2),\\\n",
    "                  round(_tmp_df[_tmp_df[gene_type] == True]['aln_length'].median(),2))\n",
    "    plot_synteny(genome,_tmp_df,genome_dict[\"Primary_genes\"],   color, 'something')        "
   ]
  },
  {
   "cell_type": "code",
   "execution_count": 69,
   "metadata": {
    "ExecuteTime": {
     "end_time": "2019-06-03T05:59:05.272453Z",
     "start_time": "2019-06-03T05:59:05.180923Z"
    }
   },
   "outputs": [
    {
     "data": {
      "text/html": [
       "<div>\n",
       "<style scoped>\n",
       "    .dataframe tbody tr th:only-of-type {\n",
       "        vertical-align: middle;\n",
       "    }\n",
       "\n",
       "    .dataframe tbody tr th {\n",
       "        vertical-align: top;\n",
       "    }\n",
       "\n",
       "    .dataframe thead th {\n",
       "        text-align: right;\n",
       "    }\n",
       "</style>\n",
       "<table border=\"1\" class=\"dataframe\">\n",
       "  <thead>\n",
       "    <tr style=\"text-align: right;\">\n",
       "      <th></th>\n",
       "      <th>DK0911</th>\n",
       "      <th>Pst_104E</th>\n",
       "      <th>aln_length</th>\n",
       "      <th>aln_name</th>\n",
       "      <th>aln_position</th>\n",
       "      <th>distance_3</th>\n",
       "      <th>distance_5</th>\n",
       "      <th>DK0911_All_genes</th>\n",
       "      <th>DK0911_Busco</th>\n",
       "      <th>DK0911_Ceffectors</th>\n",
       "      <th>DK0911_EffectorP</th>\n",
       "      <th>DK0911_Secretome</th>\n",
       "      <th>Pst_104E_All_genes</th>\n",
       "      <th>Pst_104E_Busco</th>\n",
       "      <th>Pst_104E_Ceffectors</th>\n",
       "      <th>Pst_104E_EffectorP</th>\n",
       "      <th>Pst_104E_Secretome</th>\n",
       "    </tr>\n",
       "  </thead>\n",
       "  <tbody>\n",
       "    <tr>\n",
       "      <th>26229</th>\n",
       "      <td>DK0911_15056</td>\n",
       "      <td>Pst104E_00000</td>\n",
       "      <td>115</td>\n",
       "      <td>Alignment 1313</td>\n",
       "      <td>0</td>\n",
       "      <td>115</td>\n",
       "      <td>0</td>\n",
       "      <td>True</td>\n",
       "      <td>False</td>\n",
       "      <td>False</td>\n",
       "      <td>False</td>\n",
       "      <td>False</td>\n",
       "      <td>True</td>\n",
       "      <td>False</td>\n",
       "      <td>False</td>\n",
       "      <td>False</td>\n",
       "      <td>False</td>\n",
       "    </tr>\n",
       "    <tr>\n",
       "      <th>26230</th>\n",
       "      <td>DK0911_15057</td>\n",
       "      <td>Pst104E_00001</td>\n",
       "      <td>115</td>\n",
       "      <td>Alignment 1313</td>\n",
       "      <td>1</td>\n",
       "      <td>114</td>\n",
       "      <td>1</td>\n",
       "      <td>True</td>\n",
       "      <td>False</td>\n",
       "      <td>False</td>\n",
       "      <td>False</td>\n",
       "      <td>True</td>\n",
       "      <td>True</td>\n",
       "      <td>False</td>\n",
       "      <td>False</td>\n",
       "      <td>False</td>\n",
       "      <td>True</td>\n",
       "    </tr>\n",
       "    <tr>\n",
       "      <th>26231</th>\n",
       "      <td>DK0911_15058</td>\n",
       "      <td>Pst104E_00002</td>\n",
       "      <td>115</td>\n",
       "      <td>Alignment 1313</td>\n",
       "      <td>2</td>\n",
       "      <td>113</td>\n",
       "      <td>2</td>\n",
       "      <td>True</td>\n",
       "      <td>False</td>\n",
       "      <td>True</td>\n",
       "      <td>True</td>\n",
       "      <td>True</td>\n",
       "      <td>True</td>\n",
       "      <td>False</td>\n",
       "      <td>True</td>\n",
       "      <td>True</td>\n",
       "      <td>True</td>\n",
       "    </tr>\n",
       "    <tr>\n",
       "      <th>26232</th>\n",
       "      <td>DK0911_15059</td>\n",
       "      <td>Pst104E_00003</td>\n",
       "      <td>115</td>\n",
       "      <td>Alignment 1313</td>\n",
       "      <td>3</td>\n",
       "      <td>112</td>\n",
       "      <td>3</td>\n",
       "      <td>True</td>\n",
       "      <td>False</td>\n",
       "      <td>False</td>\n",
       "      <td>False</td>\n",
       "      <td>True</td>\n",
       "      <td>True</td>\n",
       "      <td>False</td>\n",
       "      <td>False</td>\n",
       "      <td>False</td>\n",
       "      <td>True</td>\n",
       "    </tr>\n",
       "    <tr>\n",
       "      <th>26233</th>\n",
       "      <td>DK0911_15060</td>\n",
       "      <td>Pst104E_00004</td>\n",
       "      <td>115</td>\n",
       "      <td>Alignment 1313</td>\n",
       "      <td>4</td>\n",
       "      <td>111</td>\n",
       "      <td>4</td>\n",
       "      <td>True</td>\n",
       "      <td>False</td>\n",
       "      <td>False</td>\n",
       "      <td>False</td>\n",
       "      <td>False</td>\n",
       "      <td>True</td>\n",
       "      <td>False</td>\n",
       "      <td>False</td>\n",
       "      <td>False</td>\n",
       "      <td>False</td>\n",
       "    </tr>\n",
       "    <tr>\n",
       "      <th>26234</th>\n",
       "      <td>DK0911_15061</td>\n",
       "      <td>Pst104E_00005</td>\n",
       "      <td>115</td>\n",
       "      <td>Alignment 1313</td>\n",
       "      <td>5</td>\n",
       "      <td>110</td>\n",
       "      <td>5</td>\n",
       "      <td>True</td>\n",
       "      <td>False</td>\n",
       "      <td>False</td>\n",
       "      <td>False</td>\n",
       "      <td>True</td>\n",
       "      <td>True</td>\n",
       "      <td>False</td>\n",
       "      <td>True</td>\n",
       "      <td>False</td>\n",
       "      <td>True</td>\n",
       "    </tr>\n",
       "    <tr>\n",
       "      <th>26235</th>\n",
       "      <td>DK0911_15062</td>\n",
       "      <td>Pst104E_00007</td>\n",
       "      <td>115</td>\n",
       "      <td>Alignment 1313</td>\n",
       "      <td>6</td>\n",
       "      <td>109</td>\n",
       "      <td>6</td>\n",
       "      <td>True</td>\n",
       "      <td>False</td>\n",
       "      <td>False</td>\n",
       "      <td>False</td>\n",
       "      <td>False</td>\n",
       "      <td>True</td>\n",
       "      <td>False</td>\n",
       "      <td>False</td>\n",
       "      <td>False</td>\n",
       "      <td>False</td>\n",
       "    </tr>\n",
       "    <tr>\n",
       "      <th>26236</th>\n",
       "      <td>DK0911_15063</td>\n",
       "      <td>Pst104E_00008</td>\n",
       "      <td>115</td>\n",
       "      <td>Alignment 1313</td>\n",
       "      <td>7</td>\n",
       "      <td>108</td>\n",
       "      <td>7</td>\n",
       "      <td>True</td>\n",
       "      <td>False</td>\n",
       "      <td>True</td>\n",
       "      <td>True</td>\n",
       "      <td>True</td>\n",
       "      <td>True</td>\n",
       "      <td>False</td>\n",
       "      <td>True</td>\n",
       "      <td>True</td>\n",
       "      <td>True</td>\n",
       "    </tr>\n",
       "    <tr>\n",
       "      <th>26237</th>\n",
       "      <td>DK0911_15064</td>\n",
       "      <td>Pst104E_00009</td>\n",
       "      <td>115</td>\n",
       "      <td>Alignment 1313</td>\n",
       "      <td>8</td>\n",
       "      <td>107</td>\n",
       "      <td>8</td>\n",
       "      <td>True</td>\n",
       "      <td>False</td>\n",
       "      <td>False</td>\n",
       "      <td>False</td>\n",
       "      <td>True</td>\n",
       "      <td>True</td>\n",
       "      <td>False</td>\n",
       "      <td>False</td>\n",
       "      <td>False</td>\n",
       "      <td>False</td>\n",
       "    </tr>\n",
       "    <tr>\n",
       "      <th>26238</th>\n",
       "      <td>DK0911_15068</td>\n",
       "      <td>Pst104E_00010</td>\n",
       "      <td>115</td>\n",
       "      <td>Alignment 1313</td>\n",
       "      <td>9</td>\n",
       "      <td>106</td>\n",
       "      <td>9</td>\n",
       "      <td>True</td>\n",
       "      <td>True</td>\n",
       "      <td>False</td>\n",
       "      <td>False</td>\n",
       "      <td>False</td>\n",
       "      <td>True</td>\n",
       "      <td>True</td>\n",
       "      <td>False</td>\n",
       "      <td>False</td>\n",
       "      <td>False</td>\n",
       "    </tr>\n",
       "    <tr>\n",
       "      <th>26239</th>\n",
       "      <td>DK0911_15069</td>\n",
       "      <td>Pst104E_00011</td>\n",
       "      <td>115</td>\n",
       "      <td>Alignment 1313</td>\n",
       "      <td>10</td>\n",
       "      <td>105</td>\n",
       "      <td>10</td>\n",
       "      <td>True</td>\n",
       "      <td>False</td>\n",
       "      <td>False</td>\n",
       "      <td>False</td>\n",
       "      <td>False</td>\n",
       "      <td>True</td>\n",
       "      <td>False</td>\n",
       "      <td>False</td>\n",
       "      <td>False</td>\n",
       "      <td>False</td>\n",
       "    </tr>\n",
       "    <tr>\n",
       "      <th>26240</th>\n",
       "      <td>DK0911_15070</td>\n",
       "      <td>Pst104E_00012</td>\n",
       "      <td>115</td>\n",
       "      <td>Alignment 1313</td>\n",
       "      <td>11</td>\n",
       "      <td>104</td>\n",
       "      <td>11</td>\n",
       "      <td>True</td>\n",
       "      <td>False</td>\n",
       "      <td>False</td>\n",
       "      <td>False</td>\n",
       "      <td>True</td>\n",
       "      <td>True</td>\n",
       "      <td>False</td>\n",
       "      <td>False</td>\n",
       "      <td>False</td>\n",
       "      <td>True</td>\n",
       "    </tr>\n",
       "    <tr>\n",
       "      <th>26241</th>\n",
       "      <td>DK0911_15071</td>\n",
       "      <td>Pst104E_00013</td>\n",
       "      <td>115</td>\n",
       "      <td>Alignment 1313</td>\n",
       "      <td>12</td>\n",
       "      <td>103</td>\n",
       "      <td>12</td>\n",
       "      <td>True</td>\n",
       "      <td>False</td>\n",
       "      <td>False</td>\n",
       "      <td>False</td>\n",
       "      <td>True</td>\n",
       "      <td>True</td>\n",
       "      <td>False</td>\n",
       "      <td>True</td>\n",
       "      <td>False</td>\n",
       "      <td>True</td>\n",
       "    </tr>\n",
       "    <tr>\n",
       "      <th>26242</th>\n",
       "      <td>DK0911_15072</td>\n",
       "      <td>Pst104E_00014</td>\n",
       "      <td>115</td>\n",
       "      <td>Alignment 1313</td>\n",
       "      <td>13</td>\n",
       "      <td>102</td>\n",
       "      <td>13</td>\n",
       "      <td>True</td>\n",
       "      <td>False</td>\n",
       "      <td>False</td>\n",
       "      <td>False</td>\n",
       "      <td>False</td>\n",
       "      <td>True</td>\n",
       "      <td>False</td>\n",
       "      <td>False</td>\n",
       "      <td>False</td>\n",
       "      <td>False</td>\n",
       "    </tr>\n",
       "    <tr>\n",
       "      <th>26243</th>\n",
       "      <td>DK0911_15073</td>\n",
       "      <td>Pst104E_00015</td>\n",
       "      <td>115</td>\n",
       "      <td>Alignment 1313</td>\n",
       "      <td>14</td>\n",
       "      <td>101</td>\n",
       "      <td>14</td>\n",
       "      <td>True</td>\n",
       "      <td>False</td>\n",
       "      <td>False</td>\n",
       "      <td>False</td>\n",
       "      <td>False</td>\n",
       "      <td>True</td>\n",
       "      <td>False</td>\n",
       "      <td>False</td>\n",
       "      <td>False</td>\n",
       "      <td>False</td>\n",
       "    </tr>\n",
       "    <tr>\n",
       "      <th>26244</th>\n",
       "      <td>DK0911_15074</td>\n",
       "      <td>Pst104E_00016</td>\n",
       "      <td>115</td>\n",
       "      <td>Alignment 1313</td>\n",
       "      <td>15</td>\n",
       "      <td>100</td>\n",
       "      <td>15</td>\n",
       "      <td>True</td>\n",
       "      <td>False</td>\n",
       "      <td>False</td>\n",
       "      <td>False</td>\n",
       "      <td>False</td>\n",
       "      <td>True</td>\n",
       "      <td>False</td>\n",
       "      <td>False</td>\n",
       "      <td>False</td>\n",
       "      <td>False</td>\n",
       "    </tr>\n",
       "    <tr>\n",
       "      <th>26245</th>\n",
       "      <td>DK0911_15075</td>\n",
       "      <td>Pst104E_00017</td>\n",
       "      <td>115</td>\n",
       "      <td>Alignment 1313</td>\n",
       "      <td>16</td>\n",
       "      <td>99</td>\n",
       "      <td>16</td>\n",
       "      <td>True</td>\n",
       "      <td>True</td>\n",
       "      <td>False</td>\n",
       "      <td>False</td>\n",
       "      <td>False</td>\n",
       "      <td>True</td>\n",
       "      <td>True</td>\n",
       "      <td>False</td>\n",
       "      <td>False</td>\n",
       "      <td>False</td>\n",
       "    </tr>\n",
       "    <tr>\n",
       "      <th>26246</th>\n",
       "      <td>DK0911_15084</td>\n",
       "      <td>Pst104E_00019</td>\n",
       "      <td>115</td>\n",
       "      <td>Alignment 1313</td>\n",
       "      <td>17</td>\n",
       "      <td>98</td>\n",
       "      <td>17</td>\n",
       "      <td>True</td>\n",
       "      <td>False</td>\n",
       "      <td>False</td>\n",
       "      <td>False</td>\n",
       "      <td>False</td>\n",
       "      <td>True</td>\n",
       "      <td>False</td>\n",
       "      <td>False</td>\n",
       "      <td>False</td>\n",
       "      <td>False</td>\n",
       "    </tr>\n",
       "    <tr>\n",
       "      <th>26247</th>\n",
       "      <td>DK0911_15085</td>\n",
       "      <td>Pst104E_00020</td>\n",
       "      <td>115</td>\n",
       "      <td>Alignment 1313</td>\n",
       "      <td>18</td>\n",
       "      <td>97</td>\n",
       "      <td>18</td>\n",
       "      <td>True</td>\n",
       "      <td>False</td>\n",
       "      <td>False</td>\n",
       "      <td>False</td>\n",
       "      <td>False</td>\n",
       "      <td>True</td>\n",
       "      <td>False</td>\n",
       "      <td>False</td>\n",
       "      <td>False</td>\n",
       "      <td>False</td>\n",
       "    </tr>\n",
       "    <tr>\n",
       "      <th>26248</th>\n",
       "      <td>DK0911_15086</td>\n",
       "      <td>Pst104E_00021</td>\n",
       "      <td>115</td>\n",
       "      <td>Alignment 1313</td>\n",
       "      <td>19</td>\n",
       "      <td>96</td>\n",
       "      <td>19</td>\n",
       "      <td>True</td>\n",
       "      <td>True</td>\n",
       "      <td>False</td>\n",
       "      <td>False</td>\n",
       "      <td>False</td>\n",
       "      <td>True</td>\n",
       "      <td>True</td>\n",
       "      <td>False</td>\n",
       "      <td>False</td>\n",
       "      <td>False</td>\n",
       "    </tr>\n",
       "    <tr>\n",
       "      <th>26249</th>\n",
       "      <td>DK0911_15087</td>\n",
       "      <td>Pst104E_00022</td>\n",
       "      <td>115</td>\n",
       "      <td>Alignment 1313</td>\n",
       "      <td>20</td>\n",
       "      <td>95</td>\n",
       "      <td>20</td>\n",
       "      <td>True</td>\n",
       "      <td>False</td>\n",
       "      <td>False</td>\n",
       "      <td>False</td>\n",
       "      <td>False</td>\n",
       "      <td>True</td>\n",
       "      <td>False</td>\n",
       "      <td>False</td>\n",
       "      <td>False</td>\n",
       "      <td>False</td>\n",
       "    </tr>\n",
       "    <tr>\n",
       "      <th>26250</th>\n",
       "      <td>DK0911_15088</td>\n",
       "      <td>Pst104E_00024</td>\n",
       "      <td>115</td>\n",
       "      <td>Alignment 1313</td>\n",
       "      <td>21</td>\n",
       "      <td>94</td>\n",
       "      <td>21</td>\n",
       "      <td>True</td>\n",
       "      <td>False</td>\n",
       "      <td>False</td>\n",
       "      <td>False</td>\n",
       "      <td>False</td>\n",
       "      <td>True</td>\n",
       "      <td>False</td>\n",
       "      <td>False</td>\n",
       "      <td>False</td>\n",
       "      <td>False</td>\n",
       "    </tr>\n",
       "    <tr>\n",
       "      <th>26251</th>\n",
       "      <td>DK0911_15090</td>\n",
       "      <td>Pst104E_00025</td>\n",
       "      <td>115</td>\n",
       "      <td>Alignment 1313</td>\n",
       "      <td>22</td>\n",
       "      <td>93</td>\n",
       "      <td>22</td>\n",
       "      <td>True</td>\n",
       "      <td>False</td>\n",
       "      <td>False</td>\n",
       "      <td>False</td>\n",
       "      <td>False</td>\n",
       "      <td>True</td>\n",
       "      <td>False</td>\n",
       "      <td>False</td>\n",
       "      <td>False</td>\n",
       "      <td>False</td>\n",
       "    </tr>\n",
       "    <tr>\n",
       "      <th>26252</th>\n",
       "      <td>DK0911_15091</td>\n",
       "      <td>Pst104E_00026</td>\n",
       "      <td>115</td>\n",
       "      <td>Alignment 1313</td>\n",
       "      <td>23</td>\n",
       "      <td>92</td>\n",
       "      <td>23</td>\n",
       "      <td>True</td>\n",
       "      <td>False</td>\n",
       "      <td>False</td>\n",
       "      <td>False</td>\n",
       "      <td>False</td>\n",
       "      <td>True</td>\n",
       "      <td>False</td>\n",
       "      <td>False</td>\n",
       "      <td>False</td>\n",
       "      <td>False</td>\n",
       "    </tr>\n",
       "    <tr>\n",
       "      <th>26253</th>\n",
       "      <td>DK0911_15092</td>\n",
       "      <td>Pst104E_00027</td>\n",
       "      <td>115</td>\n",
       "      <td>Alignment 1313</td>\n",
       "      <td>24</td>\n",
       "      <td>91</td>\n",
       "      <td>24</td>\n",
       "      <td>True</td>\n",
       "      <td>False</td>\n",
       "      <td>False</td>\n",
       "      <td>False</td>\n",
       "      <td>False</td>\n",
       "      <td>True</td>\n",
       "      <td>False</td>\n",
       "      <td>False</td>\n",
       "      <td>False</td>\n",
       "      <td>False</td>\n",
       "    </tr>\n",
       "    <tr>\n",
       "      <th>26254</th>\n",
       "      <td>DK0911_15095</td>\n",
       "      <td>Pst104E_00028</td>\n",
       "      <td>115</td>\n",
       "      <td>Alignment 1313</td>\n",
       "      <td>25</td>\n",
       "      <td>90</td>\n",
       "      <td>25</td>\n",
       "      <td>True</td>\n",
       "      <td>False</td>\n",
       "      <td>False</td>\n",
       "      <td>False</td>\n",
       "      <td>False</td>\n",
       "      <td>True</td>\n",
       "      <td>False</td>\n",
       "      <td>False</td>\n",
       "      <td>False</td>\n",
       "      <td>False</td>\n",
       "    </tr>\n",
       "    <tr>\n",
       "      <th>26255</th>\n",
       "      <td>DK0911_15097</td>\n",
       "      <td>Pst104E_00029</td>\n",
       "      <td>115</td>\n",
       "      <td>Alignment 1313</td>\n",
       "      <td>26</td>\n",
       "      <td>89</td>\n",
       "      <td>26</td>\n",
       "      <td>True</td>\n",
       "      <td>False</td>\n",
       "      <td>False</td>\n",
       "      <td>False</td>\n",
       "      <td>False</td>\n",
       "      <td>True</td>\n",
       "      <td>False</td>\n",
       "      <td>False</td>\n",
       "      <td>False</td>\n",
       "      <td>False</td>\n",
       "    </tr>\n",
       "    <tr>\n",
       "      <th>45466</th>\n",
       "      <td>DK0911_29105</td>\n",
       "      <td>Pst104E_00030</td>\n",
       "      <td>27</td>\n",
       "      <td>Alignment 2910</td>\n",
       "      <td>10</td>\n",
       "      <td>17</td>\n",
       "      <td>10</td>\n",
       "      <td>True</td>\n",
       "      <td>False</td>\n",
       "      <td>False</td>\n",
       "      <td>False</td>\n",
       "      <td>False</td>\n",
       "      <td>True</td>\n",
       "      <td>False</td>\n",
       "      <td>False</td>\n",
       "      <td>False</td>\n",
       "      <td>False</td>\n",
       "    </tr>\n",
       "    <tr>\n",
       "      <th>26256</th>\n",
       "      <td>DK0911_15098</td>\n",
       "      <td>Pst104E_00031</td>\n",
       "      <td>115</td>\n",
       "      <td>Alignment 1313</td>\n",
       "      <td>27</td>\n",
       "      <td>88</td>\n",
       "      <td>27</td>\n",
       "      <td>True</td>\n",
       "      <td>False</td>\n",
       "      <td>False</td>\n",
       "      <td>False</td>\n",
       "      <td>False</td>\n",
       "      <td>True</td>\n",
       "      <td>False</td>\n",
       "      <td>False</td>\n",
       "      <td>False</td>\n",
       "      <td>False</td>\n",
       "    </tr>\n",
       "    <tr>\n",
       "      <th>26257</th>\n",
       "      <td>DK0911_15099</td>\n",
       "      <td>Pst104E_00032</td>\n",
       "      <td>115</td>\n",
       "      <td>Alignment 1313</td>\n",
       "      <td>28</td>\n",
       "      <td>87</td>\n",
       "      <td>28</td>\n",
       "      <td>True</td>\n",
       "      <td>False</td>\n",
       "      <td>False</td>\n",
       "      <td>False</td>\n",
       "      <td>False</td>\n",
       "      <td>True</td>\n",
       "      <td>False</td>\n",
       "      <td>False</td>\n",
       "      <td>False</td>\n",
       "      <td>False</td>\n",
       "    </tr>\n",
       "    <tr>\n",
       "      <th>...</th>\n",
       "      <td>...</td>\n",
       "      <td>...</td>\n",
       "      <td>...</td>\n",
       "      <td>...</td>\n",
       "      <td>...</td>\n",
       "      <td>...</td>\n",
       "      <td>...</td>\n",
       "      <td>...</td>\n",
       "      <td>...</td>\n",
       "      <td>...</td>\n",
       "      <td>...</td>\n",
       "      <td>...</td>\n",
       "      <td>...</td>\n",
       "      <td>...</td>\n",
       "      <td>...</td>\n",
       "      <td>...</td>\n",
       "      <td>...</td>\n",
       "    </tr>\n",
       "    <tr>\n",
       "      <th>30734</th>\n",
       "      <td>DK0911_17411</td>\n",
       "      <td>Pst104E_30181</td>\n",
       "      <td>16</td>\n",
       "      <td>Alignment 1596</td>\n",
       "      <td>1</td>\n",
       "      <td>15</td>\n",
       "      <td>1</td>\n",
       "      <td>True</td>\n",
       "      <td>False</td>\n",
       "      <td>False</td>\n",
       "      <td>False</td>\n",
       "      <td>False</td>\n",
       "      <td>True</td>\n",
       "      <td>False</td>\n",
       "      <td>False</td>\n",
       "      <td>False</td>\n",
       "      <td>False</td>\n",
       "    </tr>\n",
       "    <tr>\n",
       "      <th>30749</th>\n",
       "      <td>DK0911_17411</td>\n",
       "      <td>Pst104E_30182</td>\n",
       "      <td>5</td>\n",
       "      <td>Alignment 1597</td>\n",
       "      <td>0</td>\n",
       "      <td>5</td>\n",
       "      <td>0</td>\n",
       "      <td>True</td>\n",
       "      <td>False</td>\n",
       "      <td>False</td>\n",
       "      <td>False</td>\n",
       "      <td>False</td>\n",
       "      <td>True</td>\n",
       "      <td>False</td>\n",
       "      <td>False</td>\n",
       "      <td>False</td>\n",
       "      <td>False</td>\n",
       "    </tr>\n",
       "    <tr>\n",
       "      <th>30733</th>\n",
       "      <td>DK0911_17410</td>\n",
       "      <td>Pst104E_30183</td>\n",
       "      <td>16</td>\n",
       "      <td>Alignment 1596</td>\n",
       "      <td>0</td>\n",
       "      <td>16</td>\n",
       "      <td>0</td>\n",
       "      <td>True</td>\n",
       "      <td>True</td>\n",
       "      <td>False</td>\n",
       "      <td>False</td>\n",
       "      <td>False</td>\n",
       "      <td>True</td>\n",
       "      <td>False</td>\n",
       "      <td>False</td>\n",
       "      <td>False</td>\n",
       "      <td>False</td>\n",
       "    </tr>\n",
       "    <tr>\n",
       "      <th>18518</th>\n",
       "      <td>DK0911_10611</td>\n",
       "      <td>Pst104E_30200</td>\n",
       "      <td>9</td>\n",
       "      <td>Alignment 889</td>\n",
       "      <td>8</td>\n",
       "      <td>1</td>\n",
       "      <td>8</td>\n",
       "      <td>True</td>\n",
       "      <td>False</td>\n",
       "      <td>False</td>\n",
       "      <td>False</td>\n",
       "      <td>False</td>\n",
       "      <td>True</td>\n",
       "      <td>False</td>\n",
       "      <td>False</td>\n",
       "      <td>False</td>\n",
       "      <td>False</td>\n",
       "    </tr>\n",
       "    <tr>\n",
       "      <th>18517</th>\n",
       "      <td>DK0911_10609</td>\n",
       "      <td>Pst104E_30202</td>\n",
       "      <td>9</td>\n",
       "      <td>Alignment 889</td>\n",
       "      <td>7</td>\n",
       "      <td>2</td>\n",
       "      <td>7</td>\n",
       "      <td>True</td>\n",
       "      <td>False</td>\n",
       "      <td>False</td>\n",
       "      <td>False</td>\n",
       "      <td>False</td>\n",
       "      <td>True</td>\n",
       "      <td>False</td>\n",
       "      <td>False</td>\n",
       "      <td>False</td>\n",
       "      <td>False</td>\n",
       "    </tr>\n",
       "    <tr>\n",
       "      <th>18516</th>\n",
       "      <td>DK0911_10608</td>\n",
       "      <td>Pst104E_30203</td>\n",
       "      <td>9</td>\n",
       "      <td>Alignment 889</td>\n",
       "      <td>6</td>\n",
       "      <td>3</td>\n",
       "      <td>6</td>\n",
       "      <td>True</td>\n",
       "      <td>False</td>\n",
       "      <td>False</td>\n",
       "      <td>False</td>\n",
       "      <td>False</td>\n",
       "      <td>True</td>\n",
       "      <td>False</td>\n",
       "      <td>False</td>\n",
       "      <td>False</td>\n",
       "      <td>False</td>\n",
       "    </tr>\n",
       "    <tr>\n",
       "      <th>18515</th>\n",
       "      <td>DK0911_10606</td>\n",
       "      <td>Pst104E_30204</td>\n",
       "      <td>9</td>\n",
       "      <td>Alignment 889</td>\n",
       "      <td>5</td>\n",
       "      <td>4</td>\n",
       "      <td>5</td>\n",
       "      <td>True</td>\n",
       "      <td>False</td>\n",
       "      <td>False</td>\n",
       "      <td>False</td>\n",
       "      <td>False</td>\n",
       "      <td>True</td>\n",
       "      <td>False</td>\n",
       "      <td>False</td>\n",
       "      <td>False</td>\n",
       "      <td>False</td>\n",
       "    </tr>\n",
       "    <tr>\n",
       "      <th>18514</th>\n",
       "      <td>DK0911_10605</td>\n",
       "      <td>Pst104E_30205</td>\n",
       "      <td>9</td>\n",
       "      <td>Alignment 889</td>\n",
       "      <td>4</td>\n",
       "      <td>5</td>\n",
       "      <td>4</td>\n",
       "      <td>True</td>\n",
       "      <td>False</td>\n",
       "      <td>False</td>\n",
       "      <td>False</td>\n",
       "      <td>False</td>\n",
       "      <td>True</td>\n",
       "      <td>False</td>\n",
       "      <td>False</td>\n",
       "      <td>False</td>\n",
       "      <td>False</td>\n",
       "    </tr>\n",
       "    <tr>\n",
       "      <th>18513</th>\n",
       "      <td>DK0911_10604</td>\n",
       "      <td>Pst104E_30206</td>\n",
       "      <td>9</td>\n",
       "      <td>Alignment 889</td>\n",
       "      <td>3</td>\n",
       "      <td>6</td>\n",
       "      <td>3</td>\n",
       "      <td>True</td>\n",
       "      <td>False</td>\n",
       "      <td>False</td>\n",
       "      <td>False</td>\n",
       "      <td>False</td>\n",
       "      <td>True</td>\n",
       "      <td>False</td>\n",
       "      <td>False</td>\n",
       "      <td>False</td>\n",
       "      <td>False</td>\n",
       "    </tr>\n",
       "    <tr>\n",
       "      <th>18512</th>\n",
       "      <td>DK0911_10602</td>\n",
       "      <td>Pst104E_30207</td>\n",
       "      <td>9</td>\n",
       "      <td>Alignment 889</td>\n",
       "      <td>2</td>\n",
       "      <td>7</td>\n",
       "      <td>2</td>\n",
       "      <td>True</td>\n",
       "      <td>False</td>\n",
       "      <td>False</td>\n",
       "      <td>False</td>\n",
       "      <td>False</td>\n",
       "      <td>True</td>\n",
       "      <td>False</td>\n",
       "      <td>False</td>\n",
       "      <td>False</td>\n",
       "      <td>False</td>\n",
       "    </tr>\n",
       "    <tr>\n",
       "      <th>18511</th>\n",
       "      <td>DK0911_10600</td>\n",
       "      <td>Pst104E_30208</td>\n",
       "      <td>9</td>\n",
       "      <td>Alignment 889</td>\n",
       "      <td>1</td>\n",
       "      <td>8</td>\n",
       "      <td>1</td>\n",
       "      <td>True</td>\n",
       "      <td>False</td>\n",
       "      <td>False</td>\n",
       "      <td>False</td>\n",
       "      <td>False</td>\n",
       "      <td>True</td>\n",
       "      <td>False</td>\n",
       "      <td>False</td>\n",
       "      <td>False</td>\n",
       "      <td>False</td>\n",
       "    </tr>\n",
       "    <tr>\n",
       "      <th>18510</th>\n",
       "      <td>DK0911_10599</td>\n",
       "      <td>Pst104E_30209</td>\n",
       "      <td>9</td>\n",
       "      <td>Alignment 889</td>\n",
       "      <td>0</td>\n",
       "      <td>9</td>\n",
       "      <td>0</td>\n",
       "      <td>True</td>\n",
       "      <td>False</td>\n",
       "      <td>False</td>\n",
       "      <td>False</td>\n",
       "      <td>False</td>\n",
       "      <td>True</td>\n",
       "      <td>False</td>\n",
       "      <td>False</td>\n",
       "      <td>False</td>\n",
       "      <td>False</td>\n",
       "    </tr>\n",
       "    <tr>\n",
       "      <th>30058</th>\n",
       "      <td>DK0911_16908</td>\n",
       "      <td>Pst104E_30224</td>\n",
       "      <td>6</td>\n",
       "      <td>Alignment 1561</td>\n",
       "      <td>5</td>\n",
       "      <td>1</td>\n",
       "      <td>5</td>\n",
       "      <td>True</td>\n",
       "      <td>False</td>\n",
       "      <td>False</td>\n",
       "      <td>False</td>\n",
       "      <td>False</td>\n",
       "      <td>True</td>\n",
       "      <td>False</td>\n",
       "      <td>False</td>\n",
       "      <td>False</td>\n",
       "      <td>False</td>\n",
       "    </tr>\n",
       "    <tr>\n",
       "      <th>30057</th>\n",
       "      <td>DK0911_16907</td>\n",
       "      <td>Pst104E_30225</td>\n",
       "      <td>6</td>\n",
       "      <td>Alignment 1561</td>\n",
       "      <td>4</td>\n",
       "      <td>2</td>\n",
       "      <td>4</td>\n",
       "      <td>True</td>\n",
       "      <td>True</td>\n",
       "      <td>False</td>\n",
       "      <td>False</td>\n",
       "      <td>False</td>\n",
       "      <td>True</td>\n",
       "      <td>True</td>\n",
       "      <td>False</td>\n",
       "      <td>False</td>\n",
       "      <td>False</td>\n",
       "    </tr>\n",
       "    <tr>\n",
       "      <th>30056</th>\n",
       "      <td>DK0911_16904</td>\n",
       "      <td>Pst104E_30226</td>\n",
       "      <td>6</td>\n",
       "      <td>Alignment 1561</td>\n",
       "      <td>3</td>\n",
       "      <td>3</td>\n",
       "      <td>3</td>\n",
       "      <td>True</td>\n",
       "      <td>False</td>\n",
       "      <td>False</td>\n",
       "      <td>False</td>\n",
       "      <td>False</td>\n",
       "      <td>True</td>\n",
       "      <td>False</td>\n",
       "      <td>False</td>\n",
       "      <td>False</td>\n",
       "      <td>False</td>\n",
       "    </tr>\n",
       "    <tr>\n",
       "      <th>30055</th>\n",
       "      <td>DK0911_16903</td>\n",
       "      <td>Pst104E_30227</td>\n",
       "      <td>6</td>\n",
       "      <td>Alignment 1561</td>\n",
       "      <td>2</td>\n",
       "      <td>4</td>\n",
       "      <td>2</td>\n",
       "      <td>True</td>\n",
       "      <td>True</td>\n",
       "      <td>False</td>\n",
       "      <td>False</td>\n",
       "      <td>False</td>\n",
       "      <td>True</td>\n",
       "      <td>True</td>\n",
       "      <td>False</td>\n",
       "      <td>False</td>\n",
       "      <td>False</td>\n",
       "    </tr>\n",
       "    <tr>\n",
       "      <th>30054</th>\n",
       "      <td>DK0911_16900</td>\n",
       "      <td>Pst104E_30228</td>\n",
       "      <td>6</td>\n",
       "      <td>Alignment 1561</td>\n",
       "      <td>1</td>\n",
       "      <td>5</td>\n",
       "      <td>1</td>\n",
       "      <td>True</td>\n",
       "      <td>False</td>\n",
       "      <td>False</td>\n",
       "      <td>False</td>\n",
       "      <td>False</td>\n",
       "      <td>True</td>\n",
       "      <td>False</td>\n",
       "      <td>False</td>\n",
       "      <td>False</td>\n",
       "      <td>False</td>\n",
       "    </tr>\n",
       "    <tr>\n",
       "      <th>30053</th>\n",
       "      <td>DK0911_16899</td>\n",
       "      <td>Pst104E_30229</td>\n",
       "      <td>6</td>\n",
       "      <td>Alignment 1561</td>\n",
       "      <td>0</td>\n",
       "      <td>6</td>\n",
       "      <td>0</td>\n",
       "      <td>True</td>\n",
       "      <td>True</td>\n",
       "      <td>False</td>\n",
       "      <td>False</td>\n",
       "      <td>False</td>\n",
       "      <td>True</td>\n",
       "      <td>True</td>\n",
       "      <td>False</td>\n",
       "      <td>False</td>\n",
       "      <td>False</td>\n",
       "    </tr>\n",
       "    <tr>\n",
       "      <th>29351</th>\n",
       "      <td>DK0911_16420</td>\n",
       "      <td>Pst104E_30232</td>\n",
       "      <td>7</td>\n",
       "      <td>Alignment 1536</td>\n",
       "      <td>0</td>\n",
       "      <td>7</td>\n",
       "      <td>0</td>\n",
       "      <td>True</td>\n",
       "      <td>False</td>\n",
       "      <td>False</td>\n",
       "      <td>False</td>\n",
       "      <td>True</td>\n",
       "      <td>True</td>\n",
       "      <td>False</td>\n",
       "      <td>False</td>\n",
       "      <td>False</td>\n",
       "      <td>False</td>\n",
       "    </tr>\n",
       "    <tr>\n",
       "      <th>29352</th>\n",
       "      <td>DK0911_16421</td>\n",
       "      <td>Pst104E_30233</td>\n",
       "      <td>7</td>\n",
       "      <td>Alignment 1536</td>\n",
       "      <td>1</td>\n",
       "      <td>6</td>\n",
       "      <td>1</td>\n",
       "      <td>True</td>\n",
       "      <td>False</td>\n",
       "      <td>True</td>\n",
       "      <td>True</td>\n",
       "      <td>True</td>\n",
       "      <td>True</td>\n",
       "      <td>False</td>\n",
       "      <td>True</td>\n",
       "      <td>True</td>\n",
       "      <td>True</td>\n",
       "    </tr>\n",
       "    <tr>\n",
       "      <th>29353</th>\n",
       "      <td>DK0911_16422</td>\n",
       "      <td>Pst104E_30234</td>\n",
       "      <td>7</td>\n",
       "      <td>Alignment 1536</td>\n",
       "      <td>2</td>\n",
       "      <td>5</td>\n",
       "      <td>2</td>\n",
       "      <td>True</td>\n",
       "      <td>False</td>\n",
       "      <td>False</td>\n",
       "      <td>False</td>\n",
       "      <td>False</td>\n",
       "      <td>True</td>\n",
       "      <td>False</td>\n",
       "      <td>False</td>\n",
       "      <td>False</td>\n",
       "      <td>False</td>\n",
       "    </tr>\n",
       "    <tr>\n",
       "      <th>29354</th>\n",
       "      <td>DK0911_16423</td>\n",
       "      <td>Pst104E_30235</td>\n",
       "      <td>7</td>\n",
       "      <td>Alignment 1536</td>\n",
       "      <td>3</td>\n",
       "      <td>4</td>\n",
       "      <td>3</td>\n",
       "      <td>True</td>\n",
       "      <td>False</td>\n",
       "      <td>False</td>\n",
       "      <td>False</td>\n",
       "      <td>False</td>\n",
       "      <td>True</td>\n",
       "      <td>False</td>\n",
       "      <td>False</td>\n",
       "      <td>False</td>\n",
       "      <td>False</td>\n",
       "    </tr>\n",
       "    <tr>\n",
       "      <th>29355</th>\n",
       "      <td>DK0911_16424</td>\n",
       "      <td>Pst104E_30236</td>\n",
       "      <td>7</td>\n",
       "      <td>Alignment 1536</td>\n",
       "      <td>4</td>\n",
       "      <td>3</td>\n",
       "      <td>4</td>\n",
       "      <td>True</td>\n",
       "      <td>False</td>\n",
       "      <td>False</td>\n",
       "      <td>False</td>\n",
       "      <td>False</td>\n",
       "      <td>True</td>\n",
       "      <td>False</td>\n",
       "      <td>False</td>\n",
       "      <td>False</td>\n",
       "      <td>False</td>\n",
       "    </tr>\n",
       "    <tr>\n",
       "      <th>29356</th>\n",
       "      <td>DK0911_16426</td>\n",
       "      <td>Pst104E_30237</td>\n",
       "      <td>7</td>\n",
       "      <td>Alignment 1536</td>\n",
       "      <td>5</td>\n",
       "      <td>2</td>\n",
       "      <td>5</td>\n",
       "      <td>True</td>\n",
       "      <td>False</td>\n",
       "      <td>False</td>\n",
       "      <td>False</td>\n",
       "      <td>False</td>\n",
       "      <td>True</td>\n",
       "      <td>False</td>\n",
       "      <td>False</td>\n",
       "      <td>False</td>\n",
       "      <td>False</td>\n",
       "    </tr>\n",
       "    <tr>\n",
       "      <th>29357</th>\n",
       "      <td>DK0911_16427</td>\n",
       "      <td>Pst104E_30238</td>\n",
       "      <td>7</td>\n",
       "      <td>Alignment 1536</td>\n",
       "      <td>6</td>\n",
       "      <td>1</td>\n",
       "      <td>6</td>\n",
       "      <td>True</td>\n",
       "      <td>True</td>\n",
       "      <td>False</td>\n",
       "      <td>False</td>\n",
       "      <td>False</td>\n",
       "      <td>True</td>\n",
       "      <td>False</td>\n",
       "      <td>False</td>\n",
       "      <td>False</td>\n",
       "      <td>False</td>\n",
       "    </tr>\n",
       "    <tr>\n",
       "      <th>36493</th>\n",
       "      <td>DK0911_21913</td>\n",
       "      <td>Pst104E_30240</td>\n",
       "      <td>5</td>\n",
       "      <td>Alignment 2096</td>\n",
       "      <td>0</td>\n",
       "      <td>5</td>\n",
       "      <td>0</td>\n",
       "      <td>True</td>\n",
       "      <td>False</td>\n",
       "      <td>False</td>\n",
       "      <td>False</td>\n",
       "      <td>True</td>\n",
       "      <td>True</td>\n",
       "      <td>False</td>\n",
       "      <td>True</td>\n",
       "      <td>True</td>\n",
       "      <td>True</td>\n",
       "    </tr>\n",
       "    <tr>\n",
       "      <th>36494</th>\n",
       "      <td>DK0911_21915</td>\n",
       "      <td>Pst104E_30241</td>\n",
       "      <td>5</td>\n",
       "      <td>Alignment 2096</td>\n",
       "      <td>1</td>\n",
       "      <td>4</td>\n",
       "      <td>1</td>\n",
       "      <td>True</td>\n",
       "      <td>False</td>\n",
       "      <td>False</td>\n",
       "      <td>False</td>\n",
       "      <td>False</td>\n",
       "      <td>True</td>\n",
       "      <td>False</td>\n",
       "      <td>False</td>\n",
       "      <td>False</td>\n",
       "      <td>False</td>\n",
       "    </tr>\n",
       "    <tr>\n",
       "      <th>36495</th>\n",
       "      <td>DK0911_21916</td>\n",
       "      <td>Pst104E_30242</td>\n",
       "      <td>5</td>\n",
       "      <td>Alignment 2096</td>\n",
       "      <td>2</td>\n",
       "      <td>3</td>\n",
       "      <td>2</td>\n",
       "      <td>True</td>\n",
       "      <td>False</td>\n",
       "      <td>False</td>\n",
       "      <td>False</td>\n",
       "      <td>True</td>\n",
       "      <td>True</td>\n",
       "      <td>False</td>\n",
       "      <td>False</td>\n",
       "      <td>False</td>\n",
       "      <td>True</td>\n",
       "    </tr>\n",
       "    <tr>\n",
       "      <th>36496</th>\n",
       "      <td>DK0911_21917</td>\n",
       "      <td>Pst104E_30243</td>\n",
       "      <td>5</td>\n",
       "      <td>Alignment 2096</td>\n",
       "      <td>3</td>\n",
       "      <td>2</td>\n",
       "      <td>3</td>\n",
       "      <td>True</td>\n",
       "      <td>False</td>\n",
       "      <td>False</td>\n",
       "      <td>False</td>\n",
       "      <td>True</td>\n",
       "      <td>True</td>\n",
       "      <td>False</td>\n",
       "      <td>True</td>\n",
       "      <td>False</td>\n",
       "      <td>True</td>\n",
       "    </tr>\n",
       "    <tr>\n",
       "      <th>36497</th>\n",
       "      <td>DK0911_21918</td>\n",
       "      <td>Pst104E_30248</td>\n",
       "      <td>5</td>\n",
       "      <td>Alignment 2096</td>\n",
       "      <td>4</td>\n",
       "      <td>1</td>\n",
       "      <td>4</td>\n",
       "      <td>True</td>\n",
       "      <td>False</td>\n",
       "      <td>False</td>\n",
       "      <td>False</td>\n",
       "      <td>False</td>\n",
       "      <td>True</td>\n",
       "      <td>False</td>\n",
       "      <td>False</td>\n",
       "      <td>False</td>\n",
       "      <td>False</td>\n",
       "    </tr>\n",
       "  </tbody>\n",
       "</table>\n",
       "<p>25694 rows × 17 columns</p>\n",
       "</div>"
      ],
      "text/plain": [
       "             DK0911       Pst_104E  aln_length        aln_name  aln_position  \\\n",
       "26229  DK0911_15056  Pst104E_00000         115  Alignment 1313             0   \n",
       "26230  DK0911_15057  Pst104E_00001         115  Alignment 1313             1   \n",
       "26231  DK0911_15058  Pst104E_00002         115  Alignment 1313             2   \n",
       "26232  DK0911_15059  Pst104E_00003         115  Alignment 1313             3   \n",
       "26233  DK0911_15060  Pst104E_00004         115  Alignment 1313             4   \n",
       "26234  DK0911_15061  Pst104E_00005         115  Alignment 1313             5   \n",
       "26235  DK0911_15062  Pst104E_00007         115  Alignment 1313             6   \n",
       "26236  DK0911_15063  Pst104E_00008         115  Alignment 1313             7   \n",
       "26237  DK0911_15064  Pst104E_00009         115  Alignment 1313             8   \n",
       "26238  DK0911_15068  Pst104E_00010         115  Alignment 1313             9   \n",
       "26239  DK0911_15069  Pst104E_00011         115  Alignment 1313            10   \n",
       "26240  DK0911_15070  Pst104E_00012         115  Alignment 1313            11   \n",
       "26241  DK0911_15071  Pst104E_00013         115  Alignment 1313            12   \n",
       "26242  DK0911_15072  Pst104E_00014         115  Alignment 1313            13   \n",
       "26243  DK0911_15073  Pst104E_00015         115  Alignment 1313            14   \n",
       "26244  DK0911_15074  Pst104E_00016         115  Alignment 1313            15   \n",
       "26245  DK0911_15075  Pst104E_00017         115  Alignment 1313            16   \n",
       "26246  DK0911_15084  Pst104E_00019         115  Alignment 1313            17   \n",
       "26247  DK0911_15085  Pst104E_00020         115  Alignment 1313            18   \n",
       "26248  DK0911_15086  Pst104E_00021         115  Alignment 1313            19   \n",
       "26249  DK0911_15087  Pst104E_00022         115  Alignment 1313            20   \n",
       "26250  DK0911_15088  Pst104E_00024         115  Alignment 1313            21   \n",
       "26251  DK0911_15090  Pst104E_00025         115  Alignment 1313            22   \n",
       "26252  DK0911_15091  Pst104E_00026         115  Alignment 1313            23   \n",
       "26253  DK0911_15092  Pst104E_00027         115  Alignment 1313            24   \n",
       "26254  DK0911_15095  Pst104E_00028         115  Alignment 1313            25   \n",
       "26255  DK0911_15097  Pst104E_00029         115  Alignment 1313            26   \n",
       "45466  DK0911_29105  Pst104E_00030          27  Alignment 2910            10   \n",
       "26256  DK0911_15098  Pst104E_00031         115  Alignment 1313            27   \n",
       "26257  DK0911_15099  Pst104E_00032         115  Alignment 1313            28   \n",
       "...             ...            ...         ...             ...           ...   \n",
       "30734  DK0911_17411  Pst104E_30181          16  Alignment 1596             1   \n",
       "30749  DK0911_17411  Pst104E_30182           5  Alignment 1597             0   \n",
       "30733  DK0911_17410  Pst104E_30183          16  Alignment 1596             0   \n",
       "18518  DK0911_10611  Pst104E_30200           9   Alignment 889             8   \n",
       "18517  DK0911_10609  Pst104E_30202           9   Alignment 889             7   \n",
       "18516  DK0911_10608  Pst104E_30203           9   Alignment 889             6   \n",
       "18515  DK0911_10606  Pst104E_30204           9   Alignment 889             5   \n",
       "18514  DK0911_10605  Pst104E_30205           9   Alignment 889             4   \n",
       "18513  DK0911_10604  Pst104E_30206           9   Alignment 889             3   \n",
       "18512  DK0911_10602  Pst104E_30207           9   Alignment 889             2   \n",
       "18511  DK0911_10600  Pst104E_30208           9   Alignment 889             1   \n",
       "18510  DK0911_10599  Pst104E_30209           9   Alignment 889             0   \n",
       "30058  DK0911_16908  Pst104E_30224           6  Alignment 1561             5   \n",
       "30057  DK0911_16907  Pst104E_30225           6  Alignment 1561             4   \n",
       "30056  DK0911_16904  Pst104E_30226           6  Alignment 1561             3   \n",
       "30055  DK0911_16903  Pst104E_30227           6  Alignment 1561             2   \n",
       "30054  DK0911_16900  Pst104E_30228           6  Alignment 1561             1   \n",
       "30053  DK0911_16899  Pst104E_30229           6  Alignment 1561             0   \n",
       "29351  DK0911_16420  Pst104E_30232           7  Alignment 1536             0   \n",
       "29352  DK0911_16421  Pst104E_30233           7  Alignment 1536             1   \n",
       "29353  DK0911_16422  Pst104E_30234           7  Alignment 1536             2   \n",
       "29354  DK0911_16423  Pst104E_30235           7  Alignment 1536             3   \n",
       "29355  DK0911_16424  Pst104E_30236           7  Alignment 1536             4   \n",
       "29356  DK0911_16426  Pst104E_30237           7  Alignment 1536             5   \n",
       "29357  DK0911_16427  Pst104E_30238           7  Alignment 1536             6   \n",
       "36493  DK0911_21913  Pst104E_30240           5  Alignment 2096             0   \n",
       "36494  DK0911_21915  Pst104E_30241           5  Alignment 2096             1   \n",
       "36495  DK0911_21916  Pst104E_30242           5  Alignment 2096             2   \n",
       "36496  DK0911_21917  Pst104E_30243           5  Alignment 2096             3   \n",
       "36497  DK0911_21918  Pst104E_30248           5  Alignment 2096             4   \n",
       "\n",
       "       distance_3  distance_5  DK0911_All_genes  DK0911_Busco  \\\n",
       "26229         115           0              True         False   \n",
       "26230         114           1              True         False   \n",
       "26231         113           2              True         False   \n",
       "26232         112           3              True         False   \n",
       "26233         111           4              True         False   \n",
       "26234         110           5              True         False   \n",
       "26235         109           6              True         False   \n",
       "26236         108           7              True         False   \n",
       "26237         107           8              True         False   \n",
       "26238         106           9              True          True   \n",
       "26239         105          10              True         False   \n",
       "26240         104          11              True         False   \n",
       "26241         103          12              True         False   \n",
       "26242         102          13              True         False   \n",
       "26243         101          14              True         False   \n",
       "26244         100          15              True         False   \n",
       "26245          99          16              True          True   \n",
       "26246          98          17              True         False   \n",
       "26247          97          18              True         False   \n",
       "26248          96          19              True          True   \n",
       "26249          95          20              True         False   \n",
       "26250          94          21              True         False   \n",
       "26251          93          22              True         False   \n",
       "26252          92          23              True         False   \n",
       "26253          91          24              True         False   \n",
       "26254          90          25              True         False   \n",
       "26255          89          26              True         False   \n",
       "45466          17          10              True         False   \n",
       "26256          88          27              True         False   \n",
       "26257          87          28              True         False   \n",
       "...           ...         ...               ...           ...   \n",
       "30734          15           1              True         False   \n",
       "30749           5           0              True         False   \n",
       "30733          16           0              True          True   \n",
       "18518           1           8              True         False   \n",
       "18517           2           7              True         False   \n",
       "18516           3           6              True         False   \n",
       "18515           4           5              True         False   \n",
       "18514           5           4              True         False   \n",
       "18513           6           3              True         False   \n",
       "18512           7           2              True         False   \n",
       "18511           8           1              True         False   \n",
       "18510           9           0              True         False   \n",
       "30058           1           5              True         False   \n",
       "30057           2           4              True          True   \n",
       "30056           3           3              True         False   \n",
       "30055           4           2              True          True   \n",
       "30054           5           1              True         False   \n",
       "30053           6           0              True          True   \n",
       "29351           7           0              True         False   \n",
       "29352           6           1              True         False   \n",
       "29353           5           2              True         False   \n",
       "29354           4           3              True         False   \n",
       "29355           3           4              True         False   \n",
       "29356           2           5              True         False   \n",
       "29357           1           6              True          True   \n",
       "36493           5           0              True         False   \n",
       "36494           4           1              True         False   \n",
       "36495           3           2              True         False   \n",
       "36496           2           3              True         False   \n",
       "36497           1           4              True         False   \n",
       "\n",
       "       DK0911_Ceffectors  DK0911_EffectorP  DK0911_Secretome  \\\n",
       "26229              False             False             False   \n",
       "26230              False             False              True   \n",
       "26231               True              True              True   \n",
       "26232              False             False              True   \n",
       "26233              False             False             False   \n",
       "26234              False             False              True   \n",
       "26235              False             False             False   \n",
       "26236               True              True              True   \n",
       "26237              False             False              True   \n",
       "26238              False             False             False   \n",
       "26239              False             False             False   \n",
       "26240              False             False              True   \n",
       "26241              False             False              True   \n",
       "26242              False             False             False   \n",
       "26243              False             False             False   \n",
       "26244              False             False             False   \n",
       "26245              False             False             False   \n",
       "26246              False             False             False   \n",
       "26247              False             False             False   \n",
       "26248              False             False             False   \n",
       "26249              False             False             False   \n",
       "26250              False             False             False   \n",
       "26251              False             False             False   \n",
       "26252              False             False             False   \n",
       "26253              False             False             False   \n",
       "26254              False             False             False   \n",
       "26255              False             False             False   \n",
       "45466              False             False             False   \n",
       "26256              False             False             False   \n",
       "26257              False             False             False   \n",
       "...                  ...               ...               ...   \n",
       "30734              False             False             False   \n",
       "30749              False             False             False   \n",
       "30733              False             False             False   \n",
       "18518              False             False             False   \n",
       "18517              False             False             False   \n",
       "18516              False             False             False   \n",
       "18515              False             False             False   \n",
       "18514              False             False             False   \n",
       "18513              False             False             False   \n",
       "18512              False             False             False   \n",
       "18511              False             False             False   \n",
       "18510              False             False             False   \n",
       "30058              False             False             False   \n",
       "30057              False             False             False   \n",
       "30056              False             False             False   \n",
       "30055              False             False             False   \n",
       "30054              False             False             False   \n",
       "30053              False             False             False   \n",
       "29351              False             False              True   \n",
       "29352               True              True              True   \n",
       "29353              False             False             False   \n",
       "29354              False             False             False   \n",
       "29355              False             False             False   \n",
       "29356              False             False             False   \n",
       "29357              False             False             False   \n",
       "36493              False             False              True   \n",
       "36494              False             False             False   \n",
       "36495              False             False              True   \n",
       "36496              False             False              True   \n",
       "36497              False             False             False   \n",
       "\n",
       "       Pst_104E_All_genes  Pst_104E_Busco  Pst_104E_Ceffectors  \\\n",
       "26229                True           False                False   \n",
       "26230                True           False                False   \n",
       "26231                True           False                 True   \n",
       "26232                True           False                False   \n",
       "26233                True           False                False   \n",
       "26234                True           False                 True   \n",
       "26235                True           False                False   \n",
       "26236                True           False                 True   \n",
       "26237                True           False                False   \n",
       "26238                True            True                False   \n",
       "26239                True           False                False   \n",
       "26240                True           False                False   \n",
       "26241                True           False                 True   \n",
       "26242                True           False                False   \n",
       "26243                True           False                False   \n",
       "26244                True           False                False   \n",
       "26245                True            True                False   \n",
       "26246                True           False                False   \n",
       "26247                True           False                False   \n",
       "26248                True            True                False   \n",
       "26249                True           False                False   \n",
       "26250                True           False                False   \n",
       "26251                True           False                False   \n",
       "26252                True           False                False   \n",
       "26253                True           False                False   \n",
       "26254                True           False                False   \n",
       "26255                True           False                False   \n",
       "45466                True           False                False   \n",
       "26256                True           False                False   \n",
       "26257                True           False                False   \n",
       "...                   ...             ...                  ...   \n",
       "30734                True           False                False   \n",
       "30749                True           False                False   \n",
       "30733                True           False                False   \n",
       "18518                True           False                False   \n",
       "18517                True           False                False   \n",
       "18516                True           False                False   \n",
       "18515                True           False                False   \n",
       "18514                True           False                False   \n",
       "18513                True           False                False   \n",
       "18512                True           False                False   \n",
       "18511                True           False                False   \n",
       "18510                True           False                False   \n",
       "30058                True           False                False   \n",
       "30057                True            True                False   \n",
       "30056                True           False                False   \n",
       "30055                True            True                False   \n",
       "30054                True           False                False   \n",
       "30053                True            True                False   \n",
       "29351                True           False                False   \n",
       "29352                True           False                 True   \n",
       "29353                True           False                False   \n",
       "29354                True           False                False   \n",
       "29355                True           False                False   \n",
       "29356                True           False                False   \n",
       "29357                True           False                False   \n",
       "36493                True           False                 True   \n",
       "36494                True           False                False   \n",
       "36495                True           False                False   \n",
       "36496                True           False                 True   \n",
       "36497                True           False                False   \n",
       "\n",
       "       Pst_104E_EffectorP  Pst_104E_Secretome  \n",
       "26229               False               False  \n",
       "26230               False                True  \n",
       "26231                True                True  \n",
       "26232               False                True  \n",
       "26233               False               False  \n",
       "26234               False                True  \n",
       "26235               False               False  \n",
       "26236                True                True  \n",
       "26237               False               False  \n",
       "26238               False               False  \n",
       "26239               False               False  \n",
       "26240               False                True  \n",
       "26241               False                True  \n",
       "26242               False               False  \n",
       "26243               False               False  \n",
       "26244               False               False  \n",
       "26245               False               False  \n",
       "26246               False               False  \n",
       "26247               False               False  \n",
       "26248               False               False  \n",
       "26249               False               False  \n",
       "26250               False               False  \n",
       "26251               False               False  \n",
       "26252               False               False  \n",
       "26253               False               False  \n",
       "26254               False               False  \n",
       "26255               False               False  \n",
       "45466               False               False  \n",
       "26256               False               False  \n",
       "26257               False               False  \n",
       "...                   ...                 ...  \n",
       "30734               False               False  \n",
       "30749               False               False  \n",
       "30733               False               False  \n",
       "18518               False               False  \n",
       "18517               False               False  \n",
       "18516               False               False  \n",
       "18515               False               False  \n",
       "18514               False               False  \n",
       "18513               False               False  \n",
       "18512               False               False  \n",
       "18511               False               False  \n",
       "18510               False               False  \n",
       "30058               False               False  \n",
       "30057               False               False  \n",
       "30056               False               False  \n",
       "30055               False               False  \n",
       "30054               False               False  \n",
       "30053               False               False  \n",
       "29351               False               False  \n",
       "29352                True                True  \n",
       "29353               False               False  \n",
       "29354               False               False  \n",
       "29355               False               False  \n",
       "29356               False               False  \n",
       "29357               False               False  \n",
       "36493                True                True  \n",
       "36494               False               False  \n",
       "36495               False                True  \n",
       "36496               False                True  \n",
       "36497               False               False  \n",
       "\n",
       "[25694 rows x 17 columns]"
      ]
     },
     "execution_count": 69,
     "metadata": {},
     "output_type": "execute_result"
    }
   ],
   "source": [
    "max_length_df_dict['Pst_104E']"
   ]
  },
  {
   "cell_type": "markdown",
   "metadata": {},
   "source": [
    "### Now fish out the best hits\n",
    "\n",
    "First get all the best hits based on the synteny\n",
    "\n",
    "sny_df groupby genome pull out genome number ask which one is in the best hit in the blast pair up."
   ]
  },
  {
   "cell_type": "code",
   "execution_count": 57,
   "metadata": {
    "ExecuteTime": {
     "end_time": "2019-06-03T05:51:32.947448Z",
     "start_time": "2019-06-03T05:51:30.160143Z"
    },
    "collapsed": true
   },
   "outputs": [],
   "source": [
    "syn_folder = '/home/benjamin/genome_assembly/Warrior/DK0911_v04/comp_orthology/run_SynNet/Genomes20190529_1333-SynNet-k500w0m9//'\n",
    "syn_df_fn = os.path.join(syn_folder, 'DK_PAu.collinearity')\n",
    "Diamond_df_dict = {}\n",
    "DK0911_diamond_fn = os.path.join(syn_folder, 'DK_PAu')\n",
    "Pst_104E_diamond_fn = os.path.join(syn_folder, 'PAu_DK')\n",
    "DK0911_pairing_fn = os.path.join(syn_folder, 'DK.pairing')\n",
    "Pst_104E_pairing_fn = os.path.join(syn_folder, 'PAu.pairing')\n",
    "\n",
    "DK0911_orthopairing_fn = os.path.join(syn_folder, 'DK.orthopairing')\n",
    "Pst_104E_orthopairing_fn = os.path.join(syn_folder, 'PAu.orthopairing')\n",
    "\n",
    "DK0911_nopairing_fn = os.path.join(syn_folder, 'DK.nopairing')\n",
    "Pst_104E_nopairing_fn = os.path.join(syn_folder, 'PAu.nopairing')\n",
    "syn_df = get_collinear_df(syn_df_fn)\n",
    "Diamond_df_dict['DK0911'] = get_diamond_six_df(DK0911_diamond_fn)\n",
    "Diamond_df_dict['Pst_104E'] = get_diamond_six_df(Pst_104E_diamond_fn)"
   ]
  },
  {
   "cell_type": "code",
   "execution_count": 786,
   "metadata": {
    "ExecuteTime": {
     "end_time": "2019-05-29T04:50:47.781806Z",
     "start_time": "2019-05-29T04:50:47.766404Z"
    },
    "collapsed": true
   },
   "outputs": [],
   "source": [
    "def get_best_blast_hit(query, subject, blast_df):\n",
    "    if len(blast_df[(blast_df['qseqid'] == query) & (blast_df['sseqid'].isin(subject))]) > 0:\n",
    "        idx = blast_df[(blast_df['qseqid'] == query) & (blast_df['sseqid'].isin(subject))]['bitscore'].idxmax()\n",
    "        return str(blast_df.loc[idx,'qseqid']), str(blast_df.loc[idx, 'sseqid'])\n",
    "    else:\n",
    "        return '',''"
   ]
  },
  {
   "cell_type": "code",
   "execution_count": 787,
   "metadata": {
    "ExecuteTime": {
     "end_time": "2019-05-29T06:44:26.115718Z",
     "start_time": "2019-05-29T04:50:50.381961Z"
    },
    "collapsed": true
   },
   "outputs": [],
   "source": [
    "#group by the query genome and loop of the groups\n",
    "#input the alignment hits into the get_best_blast_hit function\n",
    "#this function returns the best match\n",
    "Done_gene_list = {}\n",
    "Funn_gene_list = {}\n",
    "\n",
    "for q_genome, s_genome, out_fn in \\\n",
    "zip(['DK0911', 'Pst_104E'], ['Pst_104E', 'DK0911'], [DK0911_pairing_fn, Pst_104E_pairing_fn]):\n",
    "    grouped = syn_df.groupby(q_genome)\n",
    "    Done_gene_list[q_genome] = []\n",
    "    Funn_gene_list[q_genome] = []\n",
    "    with open(out_fn,'w') as out_hn:\n",
    "        for name, group in grouped:\n",
    "            #print(name)\n",
    "            query, subject = get_best_blast_hit(str(name), group[s_genome].tolist(), Diamond_df_dict[q_genome])\n",
    "            if query != '':\n",
    "                Done_gene_list[q_genome].append(query)\n",
    "                print(query, subject, sep='\\t', file = out_hn)\n",
    "            elif query == '':\n",
    "                Funn_gene_list[q_genome].append(name)\n",
    "#next fish out all the not done pairing and get those from the orthology analysis in a similar manner"
   ]
  },
  {
   "cell_type": "code",
   "execution_count": 788,
   "metadata": {
    "ExecuteTime": {
     "end_time": "2019-05-29T06:44:26.123117Z",
     "start_time": "2019-05-29T06:44:26.118315Z"
    }
   },
   "outputs": [
    {
     "name": "stdout",
     "output_type": "stream",
     "text": [
      "DK0911: 4\n",
      "Pst_104E: 3\n"
     ]
    }
   ],
   "source": [
    "for key, value in Funn_gene_list.items():\n",
    "    print('%s: %s' %(key, len(value)))"
   ]
  },
  {
   "cell_type": "code",
   "execution_count": 789,
   "metadata": {
    "ExecuteTime": {
     "end_time": "2019-05-29T06:44:26.275435Z",
     "start_time": "2019-05-29T06:44:26.125392Z"
    },
    "collapsed": true
   },
   "outputs": [],
   "source": [
    "#now save out all the genes without paring\n",
    "for genome, genome_dict, out_fn in zip(['DK0911', 'Pst_104E'], [DK0911_dict, Pst_104E_dict],\\\n",
    "                                       [DK0911_nopairing_fn, Pst_104E_nopairing_fn]):\n",
    "    nopairing_genes = set(get_gene_list(genome_dict['All_genes'])) - set(Done_gene_list[genome])\n",
    "    with open(out_fn, 'w') as out_hn:\n",
    "        for gene in nopairing_genes:\n",
    "            print(gene, file=out_hn)"
   ]
  },
  {
   "cell_type": "code",
   "execution_count": null,
   "metadata": {
    "ExecuteTime": {
     "start_time": "2019-05-29T04:50:55.146Z"
    },
    "collapsed": true
   },
   "outputs": [],
   "source": [
    "#get the orthofinder results read in\n",
    "#this is the dict for all orthogroups and what members they have\n",
    "orthofinder_dict = get_ortho_dict(ORTHOFINDER_FILE_NAME)\n",
    "#this is the dict for proteins and what orthogroup they have\n",
    "gene_to_ortho_dict = get_gene_to_ortho_dict(orthofinder_dict)"
   ]
  },
  {
   "cell_type": "code",
   "execution_count": null,
   "metadata": {
    "ExecuteTime": {
     "start_time": "2019-05-29T04:50:57.324Z"
    },
    "collapsed": true
   },
   "outputs": [],
   "source": [
    "No_match_dict = {}\n",
    "No_blast_match = {}\n",
    "Done_gene_list_ortho = {}\n",
    "for genome, genome_dict, target, out_fn in zip(['DK0911', 'Pst_104E'], [DK0911_dict, Pst_104E_dict], \\\n",
    "                                       ['Pst104E', 'DK0911'], [DK0911_orthopairing_fn, Pst_104E_orthopairing_fn]):\n",
    "    nopairing_genes = set(get_gene_list(genome_dict['All_genes'])) - set(Done_gene_list[genome])\n",
    "    No_match_dict[genome] = []\n",
    "    No_blast_match[genome] = []\n",
    "    Done_gene_list_ortho[genome] = []\n",
    "    with open(out_fn, 'w') as out_hn:\n",
    "        \n",
    "        for gene in nopairing_genes:\n",
    "            ortho_group = gene_to_ortho_dict[gene]\n",
    "            ortho_match = [x for x in orthofinder_dict[ortho_group] if x.startswith(target)]\n",
    "            if len(ortho_match) > 0:\n",
    "                query, subject = get_best_blast_hit(gene, ortho_match, Diamond_df_dict[genome])\n",
    "                if query != '':\n",
    "                    Done_gene_list_ortho[genome].append(query)\n",
    "                    print(query, subject, sep='\\t', file = out_hn)\n",
    "                elif query == '':\n",
    "                    No_blast_match[genome].append(gene)\n",
    "            elif len(ortho_match) == 0:\n",
    "                No_match_dict[genome].append(gene)"
   ]
  },
  {
   "cell_type": "code",
   "execution_count": 794,
   "metadata": {
    "ExecuteTime": {
     "end_time": "2019-05-29T07:20:40.396906Z",
     "start_time": "2019-05-29T07:20:40.391247Z"
    }
   },
   "outputs": [
    {
     "name": "stdout",
     "output_type": "stream",
     "text": [
      "DK0911: 192\n",
      "Pst_104E: 170\n"
     ]
    }
   ],
   "source": [
    "for key, value in No_blast_match.items():\n",
    "    print('%s: %s' %(key, len(value)))"
   ]
  },
  {
   "cell_type": "code",
   "execution_count": 795,
   "metadata": {
    "ExecuteTime": {
     "end_time": "2019-05-29T07:20:42.948876Z",
     "start_time": "2019-05-29T07:20:42.942671Z"
    }
   },
   "outputs": [
    {
     "name": "stdout",
     "output_type": "stream",
     "text": [
      "DK0911: 1021\n",
      "Pst_104E: 1118\n"
     ]
    }
   ],
   "source": [
    "for key, value in No_match_dict.items():\n",
    "    print('%s: %s' %(key, len(value)))"
   ]
  },
  {
   "cell_type": "markdown",
   "metadata": {},
   "source": [
    "### Comment\n",
    "Initially this was run with Genomes20190514_1307-SynNet-k25w0m9, but I ran the same parameters but changing the k value for the blast search to 500 to get better coverage in hits. \n",
    "\n",
    "I hope this will reduce the \n",
    "for key, value in Funn_gene_list.items():\n",
    "    print('%s: %s' %(key, len(value)))\n",
    "    \n",
    "DK0911: 93\n",
    "Pst_104E: 50\n",
    "\n",
    "and\n",
    "\n",
    "for key, value in No_blast_match.items():\n",
    "    print('%s: %s' %(key, len(value)))\n",
    "\n",
    "DK0911: 200\n",
    "Pst_104E: 174"
   ]
  },
  {
   "cell_type": "code",
   "execution_count": null,
   "metadata": {
    "collapsed": true
   },
   "outputs": [],
   "source": []
  }
 ],
 "metadata": {
  "kernelspec": {
   "display_name": "Python [default]",
   "language": "python",
   "name": "python3"
  },
  "language_info": {
   "codemirror_mode": {
    "name": "ipython",
    "version": 3
   },
   "file_extension": ".py",
   "mimetype": "text/x-python",
   "name": "python",
   "nbconvert_exporter": "python",
   "pygments_lexer": "ipython3",
   "version": "3.5.4"
  },
  "toc": {
   "nav_menu": {},
   "number_sections": true,
   "sideBar": true,
   "skip_h1_title": false,
   "title_cell": "Table of Contents",
   "title_sidebar": "Contents",
   "toc_cell": false,
   "toc_position": {},
   "toc_section_display": true,
   "toc_window_display": false
  }
 },
 "nbformat": 4,
 "nbformat_minor": 2
}
