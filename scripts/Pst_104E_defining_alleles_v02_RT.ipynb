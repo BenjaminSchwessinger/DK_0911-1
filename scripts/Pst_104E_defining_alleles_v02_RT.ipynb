{
 "cells": [
  {
   "cell_type": "markdown",
   "metadata": {},
   "source": [
    "# Defining Alleles v02"
   ]
  },
  {
   "cell_type": "markdown",
   "metadata": {},
   "source": [
    "Based on original code by Benjamin Schwessinger."
   ]
  },
  {
   "cell_type": "markdown",
   "metadata": {},
   "source": [
    "#### Inputs\n",
    "* Assemblytics alignment of all haplotigs onto their corresponding primary contigs. The *.oriented_coords.csv will be converted to a gff file of haplotig alignments onto their respective primary contigs\n",
    "* gff file of all features. This will be filtered down to genes only and separated out for each contig\n",
    "* protein and gene *fasta* files for reciprocal BLAST of haplotig sequences onto primary sequences\n",
    "* the .poff from proteinortho.\n",
    "\n",
    "#### Process\n",
    "* for each primary gene/protein the overlapping haplotig is pulled out and added to the BLAST DataFrame\n",
    "* best BLAST hits are first filtered on e-value minimum followed by BitScore maximum\n",
    "\n",
    "* proteinortho was also used to identify alleles. This was run as follows:\n",
    "```\n",
    "/home/gamran/anaconda3/proteinortho_v5.16b/proteinortho5.pl -project=ph_ctg_516 -synteny ph_ctg_516/Pst_104E_v13_h_ctg.protein.faa ph_ctg_516/Pst_104E_v13_p_ctg.protein.faa\n",
    "```\n",
    "* Use the poff-graph and poff-proteinortho-graph for analysis\n",
    "* Depending on the run, the poff_header needs to be defined. In the current case, 'Target' followed 'Query'\n",
    "\n",
    "#### Outputs\n",
    "* *Pst_104E_v13_p_ctg.full_df.alleles*: contains all proteinortho hits and the best BLAST (p on h) pairs out of those primary proteins not identified as having an allele pair by proteinortho.\n",
    "* *Pst_104E_v13_h_ctg.full_df.alleles*: contains all the best BLAST (h on p) hits (h on p).\n",
    "  * NOTE that initial allele cutoffs (QCov/TCov/PctID) are defined in `Pst_104E_post_allele_analysis_v02_RT`, and therefore the initial set of alleles is not defined in this notebook. Since we only want the best reciprocal BLAST hits for haplotig proteins that were not already identified as alleles, the filtering for removing haplotig proteins that have already been paired with a primary protein must occur in `Pst_104E_post_allele_analysis_v02_RT`.\n",
    "* These files can be filtered based on QCov/TCov/%ID/Levenshtein similarity in `Pst_104E_post_allele_analysis_v02_RTs`."
   ]
  },
  {
   "cell_type": "code",
   "execution_count": 1,
   "metadata": {
    "ExecuteTime": {
     "end_time": "2018-02-19T04:35:39.813660Z",
     "start_time": "2018-02-19T04:35:39.203766Z"
    },
    "collapsed": true
   },
   "outputs": [],
   "source": [
    "%matplotlib inline"
   ]
  },
  {
   "cell_type": "code",
   "execution_count": 2,
   "metadata": {
    "ExecuteTime": {
     "end_time": "2018-02-19T04:35:41.885575Z",
     "start_time": "2018-02-19T04:35:39.817908Z"
    },
    "collapsed": true
   },
   "outputs": [],
   "source": [
    "import pandas as pd\n",
    "import os\n",
    "import re\n",
    "from Bio import SeqIO\n",
    "import pysam\n",
    "from Bio.SeqRecord import SeqRecord\n",
    "from pybedtools import BedTool\n",
    "import numpy as np\n",
    "import pybedtools\n",
    "import time\n",
    "import matplotlib.pyplot as plt\n",
    "import sys\n",
    "import subprocess\n",
    "import shutil\n"
   ]
  },
  {
   "cell_type": "code",
   "execution_count": 3,
   "metadata": {
    "ExecuteTime": {
     "end_time": "2018-02-19T04:35:42.280026Z",
     "start_time": "2018-02-19T04:35:41.890558Z"
    },
    "collapsed": true
   },
   "outputs": [],
   "source": [
    "#Define the PATH\n",
    "\n",
    "GENOME_VERSION = 'Pst_104E_v12'\n",
    "\n",
    "BASE_OUT_PATH = '/home/benjamin/genome_assembly/PST79/FALCON/p_assemblies/v9_1/Pst_104E_v12/Warrior_comp_runs/allele_analysis/defining_alleles' \n",
    "GENOME_PATH = '/home/benjamin/genome_assembly/PST79/FALCON/p_assemblies/v9_1/032017_assembly'\n",
    "ASSEMBLYTICS_IN_PATH = '/home/benjamin/genome_assembly/PST79/FALCON/p_assemblies/v9_1/Pst_104E_v12/Assembletics' \n",
    "\n",
    "BLAST_DB = os.path.join(BASE_OUT_PATH, 'blast_DB')\n",
    "OUT_PATH = os.path.join(BASE_OUT_PATH, 'allele_analysis')\n",
    "OUT_tmp = os.path.join(OUT_PATH, 'tmp')\n",
    "PROTEINORTHO_OUT_PATH = os.path.join(BASE_OUT_PATH, 'proteinortho')\n",
    "    \n",
    "#renamed the allele path to reflect the proteinortho results\n",
    "ALLELE_PATH = os.path.join(OUT_PATH, 'alleles_proteinortho_graph516')\n",
    "if not os.path.exists(BASE_OUT_PATH):\n",
    "    os.mkdir(BASE_OUT_PATH)\n",
    "if not os.path.isdir(OUT_PATH):\n",
    "    os.mkdir(OUT_PATH)\n",
    "if not os.path.isdir(OUT_tmp):\n",
    "    os.mkdir(OUT_tmp)\n",
    "if not os.path.exists(ALLELE_PATH):\n",
    "    os.mkdir(ALLELE_PATH)\n",
    "if not os.path.exists(BLAST_DB):\n",
    "    os.mkdir(BLAST_DB)\n",
    "if not os.path.exists(PROTEINORTHO_OUT_PATH):\n",
    "    os.mkdir(PROTEINORTHO_OUT_PATH)\n",
    "\n",
    "#Define your p and h genome and move it into the allele analysis folder\n",
    "P_GENOME = 'Pst_104E_v12_p_ctg'\n",
    "H_GENOME = 'Pst_104E_v12_h_ctg'\n",
    "for x in (x + '.fa' for x in [P_GENOME, H_GENOME]):\n",
    "    shutil.copy2(GENOME_PATH+'/'+x, OUT_tmp)"
   ]
  },
  {
   "cell_type": "code",
   "execution_count": 4,
   "metadata": {
    "ExecuteTime": {
     "end_time": "2018-02-19T04:35:42.289132Z",
     "start_time": "2018-02-19T04:35:42.283392Z"
    },
    "collapsed": true
   },
   "outputs": [],
   "source": [
    "#get proteinortho synteny file which ends with .poff\n",
    "poff_graph_fn = os.path.join(PROTEINORTHO_OUT_PATH, 'ph_ctg_516.poff-graph')"
   ]
  },
  {
   "cell_type": "code",
   "execution_count": 5,
   "metadata": {
    "ExecuteTime": {
     "end_time": "2018-02-19T04:35:42.298038Z",
     "start_time": "2018-02-19T04:35:42.292605Z"
    },
    "collapsed": true
   },
   "outputs": [],
   "source": [
    "#Define ENV parameters for blast hits and threads used in blast analysis\n",
    "n_threads = 16\n",
    "e_value = 1e-3"
   ]
  },
  {
   "cell_type": "code",
   "execution_count": 6,
   "metadata": {
    "ExecuteTime": {
     "end_time": "2018-02-19T04:35:42.386704Z",
     "start_time": "2018-02-19T04:35:42.301621Z"
    },
    "collapsed": true
   },
   "outputs": [],
   "source": [
    "def att_column_p(x, y, z, a, b):\n",
    "    '''Generate attribute column of h on p p_gff dataframe.\n",
    "    '''\n",
    "    string = 'h_contig=%s;query_start=%s;query_stop=%s;query_length=%s;query_aln_ln=%s' % (x, str(y), str(z), str(a), str(b))\n",
    "    return string\n",
    "\n",
    "def att_column_h(x, y, z, a, b):\n",
    "    '''Generate attribute column of h on p h_gff dataframe.\n",
    "    '''\n",
    "    string = 'p_contig=%s;ref_start=%s;ref_stop=%s;ref_length=%s;ref_aln_ln=%s' % (x, str(y), str(z), str(a), str(b))\n",
    "    return string\n",
    "\n",
    "def gene_contig_subset(df, contig, feature):\n",
    "    '''Input the gff and subset the feature columne by gene.\n",
    "        Return data frame subset by contig and gene'''\n",
    "    tmp_df = df[(df[0].str.contains(contig)) & (df[2]==feature)]\n",
    "    tmp_df.sort_values(3,inplace=True)\n",
    "    tmp_df.reset_index(drop=True, inplace=True)\n",
    "    return tmp_df\n",
    "\n",
    "def same_contig_blast(x,y):\n",
    "    '''Function that checks if the blast hit in column y is on the same contig as the the query sequence in\n",
    "    column y.\n",
    "    '''\n",
    "    q_contig = re.search(r'[p|h]([a-z]*_[0-9]*)_?', x).group(1)\n",
    "    if y != 'NaN':\n",
    "        hit_contig = re.search(r'[p|h]([a-z]*_[0-9]*)_?', y).group(1)\n",
    "    else:\n",
    "        hit_contig = 'NaN'\n",
    "    return q_contig == hit_contig\n",
    "\n",
    "def target_on_mapped_haplotig(t_contig, h_contig_overlap):\n",
    "    '''Simple function that checks if the target contig is in the list of h overlapping contigs'''\n",
    "    if t_contig == False or h_contig_overlap == False:\n",
    "        return False\n",
    "    return t_contig in h_contig_overlap"
   ]
  },
  {
   "cell_type": "markdown",
   "metadata": {},
   "source": [
    "#### Considerations for blast analysis\n",
    "Do gene blast and protein blast. Initially go off protein blast results. They should be more imformative as it also includes the coding region and the frame.\n",
    "> Pull this in as a dataframe and filter it down as well to each contig. Do blasts both ways as well.\n",
    "> Copy over primary & haplotig .protein.fa and .gene.fa files from the BASE_A_folder, if not already present."
   ]
  },
  {
   "cell_type": "code",
   "execution_count": 7,
   "metadata": {
    "ExecuteTime": {
     "end_time": "2018-02-19T04:35:42.546220Z",
     "start_time": "2018-02-19T04:35:42.389635Z"
    }
   },
   "outputs": [
    {
     "name": "stdout",
     "output_type": "stream",
     "text": [
      "All databases generated and ready to go!\n"
     ]
    }
   ],
   "source": [
    "#generate the blast databases if not already present\n",
    "os.chdir(BLAST_DB)\n",
    "# copy over .protein.fa and .gene.fa files from the GENOME_PATH folder\n",
    "# if not already present, for both primary and haplotigs\n",
    "shutil.copy2(os.path.join(GENOME_PATH, P_GENOME + '.anno.protein.fa'), BLAST_DB)\n",
    "shutil.copy2(os.path.join(GENOME_PATH, P_GENOME + '.anno.gene.fa'), BLAST_DB)\n",
    "shutil.copy2(os.path.join(GENOME_PATH, H_GENOME + '.anno.protein.fa'), BLAST_DB)\n",
    "shutil.copy2(os.path.join(GENOME_PATH, H_GENOME + '.anno.gene.fa'), BLAST_DB)\n",
    "\n",
    "blast_dir_content = os.listdir(BLAST_DB)\n",
    "for x in blast_dir_content:\n",
    "    if x.endswith('.fa') and ({os.path.isfile(x + e) for e in ['.psq', '.phr', '.pin'] } != {True}\\\n",
    "           and {os.path.isfile(x + e) for e in ['.nin', '.nhr', '.nsq'] } != {True} ):\n",
    "\n",
    "        make_DB_options = ['-in']\n",
    "        make_DB_options.append(x)\n",
    "        make_DB_options.append('-dbtype')\n",
    "        if 'protein' in x:\n",
    "            make_DB_options.append('prot')\n",
    "        else:\n",
    "            make_DB_options.append('nucl')\n",
    "        make_DB_command = 'makeblastdb %s' % ' '.join(make_DB_options)\n",
    "        make_DB_stderr = subprocess.check_output(make_DB_command, shell=True, stderr=subprocess.STDOUT)\n",
    "        print('%s is done!' % make_DB_command)\n",
    "print(\"All databases generated and ready to go!\")"
   ]
  },
  {
   "cell_type": "code",
   "execution_count": 8,
   "metadata": {
    "ExecuteTime": {
     "end_time": "2018-02-19T04:35:42.689452Z",
     "start_time": "2018-02-19T04:35:42.548619Z"
    },
    "scrolled": false
   },
   "outputs": [
    {
     "name": "stdout",
     "output_type": "stream",
     "text": [
      "\n",
      "Blasting Pst_104E_v12_h_ctg.anno.protein.fa ...\n",
      "Blast command generated:\n",
      "blastp -query Pst_104E_v12_p_ctg.anno.protein.fa -db Pst_104E_v12_h_ctg.anno.protein.fa -outfmt 6 -evalue 0.001 -num_threads 16 > /home/benjamin/genome_assembly/PST79/FALCON/p_assemblies/v9_1/Pst_104E_v12/Warrior_comp_runs/allele_analysis/defining_alleles/allele_analysis/Pst_104E_v12_p_ctg.Pst_104E_v12_h_ctg.0.001.blastp.outfmt6\n",
      "Blast command completed previously!\n",
      "\n",
      "Blasting Pst_104E_v12_p_ctg.anno.protein.fa ...\n",
      "Blast command generated:\n",
      "blastp -query Pst_104E_v12_h_ctg.anno.protein.fa -db Pst_104E_v12_p_ctg.anno.protein.fa -outfmt 6 -evalue 0.001 -num_threads 16 > /home/benjamin/genome_assembly/PST79/FALCON/p_assemblies/v9_1/Pst_104E_v12/Warrior_comp_runs/allele_analysis/defining_alleles/allele_analysis/Pst_104E_v12_h_ctg.Pst_104E_v12_p_ctg.0.001.blastp.outfmt6\n",
      "Blast command completed previously!\n",
      "\n",
      "Blasting Pst_104E_v12_h_ctg.anno.gene.fa ...\n",
      "Blast command generated:\n",
      "blastn -query Pst_104E_v12_p_ctg.anno.gene.fa -db Pst_104E_v12_h_ctg.anno.gene.fa -outfmt 6 -evalue 0.001 -num_threads 16 > /home/benjamin/genome_assembly/PST79/FALCON/p_assemblies/v9_1/Pst_104E_v12/Warrior_comp_runs/allele_analysis/defining_alleles/allele_analysis/Pst_104E_v12_p_ctg.Pst_104E_v12_h_ctg.0.001.blastn.outfmt6\n",
      "Blast command completed previously!\n",
      "\n",
      "Blasting Pst_104E_v12_p_ctg.anno.gene.fa ...\n",
      "Blast command generated:\n",
      "blastn -query Pst_104E_v12_h_ctg.anno.gene.fa -db Pst_104E_v12_p_ctg.anno.gene.fa -outfmt 6 -evalue 0.001 -num_threads 16 > /home/benjamin/genome_assembly/PST79/FALCON/p_assemblies/v9_1/Pst_104E_v12/Warrior_comp_runs/allele_analysis/defining_alleles/allele_analysis/Pst_104E_v12_h_ctg.Pst_104E_v12_p_ctg.0.001.blastn.outfmt6\n",
      "Blast command completed previously!\n"
     ]
    }
   ],
   "source": [
    "blast_dict = {}\n",
    "blast_dict['gene_fa'] = [x for x  in os.listdir(BLAST_DB) if x.endswith('gene.fa') and 'ph_ctg' not in x]\n",
    "blast_dict['protein_fa'] = [x for x  in os.listdir(BLAST_DB) if x.endswith('protein.fa') and 'ph_ctg' not in x]\n",
    "blast_stderr_dict = {}\n",
    "\n",
    "for key in blast_dict.keys():\n",
    "    for n, query in enumerate(blast_dict[key]):\n",
    "        tmp_list = blast_dict[key][:]\n",
    "        tmp_stderr_list = []\n",
    "        #this loops through all remaining files and does blast against all those\n",
    "        del tmp_list[n]\n",
    "        for db in tmp_list:\n",
    "            print(\"\\nBlasting %s ...\" %db)\n",
    "            blast_options = ['-query']\n",
    "            blast_options.append(query)\n",
    "            blast_options.append('-db')\n",
    "\n",
    "            blast_options.append(db)\n",
    "            blast_options.append('-outfmt 6')\n",
    "            blast_options.append('-evalue')\n",
    "            blast_options.append(str(e_value))\n",
    "            blast_options.append('-num_threads')\n",
    "            blast_options.append(str(n_threads))\n",
    "            blast_options.append('>')\n",
    "            if 'gene' in query and 'gene' in db:\n",
    "                out_name_list = [ query.split('.')[0], db.split('.')[0], str(e_value), 'blastn.outfmt6']\n",
    "                out_name = os.path.join(OUT_PATH,'.'.join(out_name_list))\n",
    "                blast_options.append(out_name)\n",
    "                blast_command = 'blastn %s' % ' '.join(blast_options)\n",
    "            elif 'protein' in query and 'protein' in db:\n",
    "                out_name_list = [ query.split('.')[0], db.split('.')[0], str(e_value), 'blastp.outfmt6']\n",
    "                out_name = os.path.join(OUT_PATH,'.'.join(out_name_list))\n",
    "                blast_options.append(out_name)\n",
    "                blast_command = 'blastp %s' % ' '.join(blast_options)\n",
    "            print(\"Blast command generated:\\n%s\" % blast_command)\n",
    "            if not os.path.exists(out_name):\n",
    "                print(\"Executing new blast command...\")\n",
    "                blast_stderr_dict[blast_command] = subprocess.check_output(blast_command, shell=True, stderr=subprocess.STDOUT)\n",
    "                print(\"New blast executed!\")\n",
    "            else:\n",
    "                blast_stderr_dict[blast_command] = 'Previously done already!'\n",
    "                print(\"Blast command completed previously!\")"
   ]
  },
  {
   "cell_type": "code",
   "execution_count": 9,
   "metadata": {
    "ExecuteTime": {
     "end_time": "2018-02-19T04:35:44.258258Z",
     "start_time": "2018-02-19T04:35:42.693165Z"
    },
    "collapsed": true
   },
   "outputs": [],
   "source": [
    "# make a sequence length dict for all genes and proteins for which blast was performed\n",
    "seq_list = []\n",
    "length_list = []\n",
    "for key in blast_dict.keys():\n",
    "    for file in blast_dict[key]:\n",
    "        for seq in SeqIO.parse(open(os.path.join(GENOME_PATH, file)), 'fasta'):\n",
    "            seq_list.append(seq.id)\n",
    "            length_list.append(len(seq.seq))\n",
    "length_dict = dict(zip(seq_list, length_list))"
   ]
  },
  {
   "cell_type": "code",
   "execution_count": 10,
   "metadata": {
    "ExecuteTime": {
     "end_time": "2018-02-19T04:35:44.270602Z",
     "start_time": "2018-02-19T04:35:44.261956Z"
    },
    "collapsed": true
   },
   "outputs": [],
   "source": [
    "# get assemblytics folders\n",
    "ass_folders = [os.path.join(ASSEMBLYTICS_IN_PATH, x) for x in os.listdir(ASSEMBLYTICS_IN_PATH) if x.endswith('_php_8kbp')]\n",
    "ass_folders.sort()"
   ]
  },
  {
   "cell_type": "code",
   "execution_count": 11,
   "metadata": {
    "ExecuteTime": {
     "end_time": "2018-02-19T04:35:45.741595Z",
     "start_time": "2018-02-19T04:35:44.274774Z"
    },
    "collapsed": true
   },
   "outputs": [],
   "source": [
    "# read in the gff files\n",
    "p_gff = pd.read_csv(os.path.join(GENOME_PATH, P_GENOME+'.anno.gff3'), sep='\\t', header=None)\n",
    "h_gff = pd.read_csv(os.path.join(GENOME_PATH, H_GENOME+'.anno.gff3'), sep='\\t', header=None)"
   ]
  },
  {
   "cell_type": "code",
   "execution_count": 12,
   "metadata": {
    "ExecuteTime": {
     "end_time": "2018-02-19T04:35:45.766105Z",
     "start_time": "2018-02-19T04:35:45.744861Z"
    },
    "collapsed": true
   },
   "outputs": [],
   "source": [
    "def same_contig_blast(x,y):\n",
    "    '''Function that checks if the blast hit in column y is on the same contig as the the query sequence in\n",
    "    column y.\n",
    "    '''\n",
    "    try:\n",
    "        q_contig = re.search(r'[p|h]([a-z]*_[0-9]*)_?', x).group(1)\n",
    "        if y != 'NaN':\n",
    "            hit_contig = re.search(r'[p|h]([a-z]*_[0-9]*)_?', y).group(1)\n",
    "        else:\n",
    "            hit_contig = 'NaN'\n",
    "        return q_contig == hit_contig\n",
    "    except AttributeError:\n",
    "        print(\"AttributeError\\nx: %s\\ny: %s\" % (x, y))\n",
    "        sys.exit()\n",
    "    except TypeError:\n",
    "        print(\"x: %s\\ny: %s\" % (x, y))\n",
    "        print(\"TypeError\\ntype(x): %s\\ntype(y): %s\" % (type(x), type(y)))\n",
    "        sys.exit()\n"
   ]
  },
  {
   "cell_type": "code",
   "execution_count": 13,
   "metadata": {
    "ExecuteTime": {
     "end_time": "2018-02-19T04:36:28.562334Z",
     "start_time": "2018-02-19T04:35:45.769341Z"
    },
    "collapsed": true
   },
   "outputs": [],
   "source": [
    "#read in the blast df and add QLgth and QCov columns\n",
    "blast_out_dict = {}\n",
    "blast_header = ['Query', 'Target', 'PctID', 'AlnLgth', 'NumMis', 'NumGap', 'StartQuery', 'StopQuery', 'StartTarget',\\\n",
    "              'StopTarget', 'e-value','BitScore']\n",
    "for key in blast_stderr_dict.keys():\n",
    "    file_loc = key.split('>')[-1][1:]\n",
    "    # file_loc = .../output/defining_alleles/allele_analysis/DK_0911_v03_h_ctg.DK_0911_v03_p_ctg.0.001.blastp.outfmt6\n",
    "    \n",
    "    file_name = file_loc.split('/')[-1]\n",
    "    # DK_0911_v03_h_ctg.DK_0911_v03_p_ctg.0.001.blastp.outfmt6\n",
    "    \n",
    "    tmp_df = pd.read_csv(file_loc, sep='\\t', header=None, names=blast_header)\n",
    "\n",
    "    tmp_df['QLgth'] = tmp_df['Query'].apply(lambda x: length_dict[x])\n",
    "    tmp_df['QCov'] = tmp_df['AlnLgth']/tmp_df['QLgth']*100\n",
    "    \n",
    "    tmp_df['TLgth'] = tmp_df['Target'].map(length_dict)\n",
    "    tmp_df['TCov'] = tmp_df['AlnLgth']/tmp_df['TLgth']*100\n",
    "    \n",
    "    tmp_df.sort_values(by=['Query', 'e-value','BitScore', ],ascending=[True, True, False], inplace=True)\n",
    "    \n",
    "    # assert(len(tmp_df.loc[tmp_df['Query'] == 'pcontig_000:10023-10824']) == 0)\n",
    "    \n",
    "    #now make sure to add proteins/genes without blast hit to the DataFrame\n",
    "    #check if gene blast or protein blast and pull out respective query file\n",
    "    if file_loc.split('.')[-2] == 'blastp':\n",
    "        tmp_blast_seq = [x for x in blast_dict['protein_fa'] if x.startswith(file_name.split('.')[0])][0]\n",
    "    elif file_loc.split('.')[-2] == 'blastn':\n",
    "        tmp_blast_seq = [x for x in blast_dict['gene_fa'] if x.startswith(file_name.split('.')[0])][0]\n",
    "    tmp_all_blast_seq = []\n",
    "    #make list of all query sequences\n",
    "    for seq in SeqIO.parse(os.path.join(BLAST_DB, tmp_blast_seq), 'fasta'):\n",
    "        tmp_all_blast_seq.append(str(seq.id))\n",
    "    tmp_all_queries_w_hit = tmp_df[\"Query\"].unique()\n",
    "    tmp_queries_no_hit = set(tmp_all_blast_seq) - set(tmp_all_queries_w_hit)\n",
    "    no_hit_list = []\n",
    "    \n",
    "    #loop over the quieres with no hit and make list of list out of them the first element being the query id\n",
    "    for x in tmp_queries_no_hit:\n",
    "        NA_list = ['NaN'] * len(tmp_df.columns)\n",
    "        NA_list[0] = x\n",
    "        no_hit_list.append(NA_list)\n",
    "    \n",
    "    tmp_no_hit_df = pd.DataFrame(no_hit_list)\n",
    "    tmp_no_hit_df.columns = tmp_df.columns\n",
    "    tmp_no_hit_df['QLgth'] = tmp_no_hit_df.Query.apply(lambda x: length_dict[x])\n",
    "    #map stuff at the tmp level\n",
    "    \n",
    "    tmp_df = tmp_df.append(tmp_no_hit_df)\n",
    "    assert(len(tmp_df.loc[tmp_df['Query'] == 'NaN']) == 0)\n",
    "    \n",
    "    tmp_df['q_contig'] = tmp_df['Query'].str.extract(r'([p|h][a-z]*_[^.]*).?', expand = False)\n",
    "    tmp_df['t_contig'] = tmp_df['Target'].str.extract(r'([p|h][a-z]*_[^.]*).?', expand = False)\n",
    "    # print(tmp_df['q_contig'])\n",
    "    \n",
    "    #fix that if you don't extract anything return False and not 'nan'\n",
    "    tmp_df['t_contig'].fillna(False, inplace=True)\n",
    "    \n",
    "    # print(tmp_df.apply(lambda row: print(row['Query'])), axis = 1)\n",
    "    \n",
    "    tmp_df['q_contig == t_contig'] = tmp_df.apply(lambda row: same_contig_blast(row['Query'], row['Target']), axis = 1)\n",
    "    tmp_df.reset_index(inplace=True, drop=True)\n",
    "    blast_out_dict[file_name] = tmp_df.iloc[:,:]"
   ]
  },
  {
   "cell_type": "code",
   "execution_count": 14,
   "metadata": {
    "ExecuteTime": {
     "end_time": "2018-02-19T04:37:26.328855Z",
     "start_time": "2018-02-19T04:36:28.566953Z"
    }
   },
   "outputs": [
    {
     "name": "stderr",
     "output_type": "stream",
     "text": [
      "/home/benjamin/anaconda3/lib/python3.5/site-packages/ipykernel/__main__.py:17: SettingWithCopyWarning: \n",
      "A value is trying to be set on a copy of a slice from a DataFrame\n",
      "\n",
      "See the caveats in the documentation: http://pandas.pydata.org/pandas-docs/stable/indexing.html#indexing-view-versus-copy\n"
     ]
    },
    {
     "name": "stdout",
     "output_type": "stream",
     "text": [
      "Check on /home/benjamin/genome_assembly/PST79/FALCON/p_assemblies/v9_1/Pst_104E_v12/Assembletics/Pst_104E_v12_pcontig_118_php_8kbp assemblytics\n",
      "Check on /home/benjamin/genome_assembly/PST79/FALCON/p_assemblies/v9_1/Pst_104E_v12/Assembletics/Pst_104E_v12_pcontig_193_php_8kbp assemblytics\n"
     ]
    }
   ],
   "source": [
    "for folder in ass_folders:\n",
    "    '''\n",
    "    From oriented_coords.csv files generate gff files with the following set up.\n",
    "    h_contig overlap\n",
    "    'query', 'ref', 'h_feature', 'query_start', 'query_end', 'query_aln_len', 'strand', 'frame', 'attribute_h'\n",
    "    p_contig overlap\n",
    "    'ref', 'query', 'p_feature','ref_start','ref_end', 'alignment_length', 'strand', 'frame', 'attribute_p'.\n",
    "    Save those file in a new folder for further downstream analysis. The same folder should include the contig and gene filtered\n",
    "    gffs. \n",
    "    '''\n",
    "    orient_coords_file = [os.path.join(folder, x) for x in os.listdir(folder) if x.endswith('oriented_coords.csv')][0]\n",
    "    #load in df and generate several additions columns\n",
    "    tmp_df = pd.read_csv(orient_coords_file, sep=',')\n",
    "    #check if there is any resonable alignment if not go to the next one\n",
    "    if len(tmp_df) == 0:\n",
    "        print('Check on %s assemblytics' % (folder))\n",
    "        continue\n",
    "    tmp_df['p_feature'] = \"haplotig\"\n",
    "    tmp_df['h_feature'] ='primary_contig'\n",
    "    tmp_df['strand'] = \"+\"\n",
    "    tmp_df['frame'] = 0\n",
    "    tmp_df['query_aln_len'] = abs(tmp_df['query_end']-tmp_df['query_start'])\n",
    "    tmp_df['alignment_length'] = abs(tmp_df['ref_end'] - tmp_df['ref_start'])\n",
    "    tmp_df.reset_index(drop=True, inplace=True)\n",
    "    tmp_df.sort_values('query', inplace=True)\n",
    "    tmp_df['attribute_p'] = tmp_df.apply(lambda row: att_column_p(row['query'],row['query_start'], row['query_end'],\\\n",
    "                                                         row['query_length'], row['query_aln_len']), axis=1)\n",
    "    \n",
    "    tmp_df['attribute_h'] = tmp_df.apply(lambda row: att_column_h(row['ref'], row['ref_start'], row['ref_end'],\\\n",
    "                                                                  row['ref_length'], row['alignment_length']), axis=1)\n",
    "    \n",
    "    #generate tmp gff dataframe\n",
    "    tmp_p_gff_df = tmp_df.loc[:, ['ref', 'query', 'p_feature','ref_start','ref_end', 'alignment_length', 'strand', 'frame', 'attribute_p']]\n",
    "    #now filter added if start < stop swap round. And if start == 0. This was mostly?! only? the case for haplotigs\n",
    "    tmp_p_gff_df['comp'] = tmp_p_gff_df['ref_start'] - tmp_p_gff_df['ref_end']\n",
    "    tmp_swap_index  = tmp_p_gff_df['comp'] > 0\n",
    "    tmp_p_gff_df.loc[tmp_swap_index, 'ref_start'] , tmp_p_gff_df.loc[tmp_swap_index, 'ref_end'] = tmp_p_gff_df['ref_end'], tmp_p_gff_df['ref_start']\n",
    "    #and if 'ref_start' == g\n",
    "    is_null_index  = tmp_p_gff_df['ref_start'] == 0\n",
    "    tmp_p_gff_df.loc[is_null_index, 'ref_start'] = 1\n",
    "    tmp_p_gff_df = tmp_p_gff_df.iloc[:, 0:9]\n",
    "    tmp_p_gff_df.sort_values('ref_start',inplace=True)\n",
    "    tmp_h_gff_df = tmp_df.loc[:, ['query', 'ref', 'h_feature', 'query_start', 'query_end', 'query_aln_len', 'strand', 'frame', 'attribute_h']]\n",
    "    #same fix for tmp_h_gff\n",
    "    tmp_h_gff_df['comp'] = tmp_h_gff_df['query_start'] - tmp_h_gff_df['query_end']\n",
    "    tmp_swap_index  = tmp_h_gff_df['comp'] > 0\n",
    "    tmp_h_gff_df.loc[tmp_swap_index, 'query_start'] , tmp_h_gff_df.loc[tmp_swap_index, 'query_end'] = tmp_h_gff_df['query_end'], tmp_h_gff_df['query_start']\n",
    "    #and if 'query_start' == g\n",
    "    is_null_index  = tmp_h_gff_df['query_start'] == 0\n",
    "    tmp_h_gff_df.loc[is_null_index, 'query_start'] = 1\n",
    "    tmp_h_gff_df = tmp_h_gff_df.iloc[:, 0:9]\n",
    "    tmp_h_gff_df.sort_values('query_start', inplace=True)\n",
    "    #make the outfolder and save gff files of overlap and filtered gene files\n",
    "    folder_suffix = folder.split('/')[-1]\n",
    "    #get the contig\n",
    "    contig = re.search(r'p([a-z]*_[0-9]*)_', folder_suffix).group(1)\n",
    "    out_folder = os.path.join(OUT_PATH, folder_suffix)\n",
    "    if not os.path.exists(out_folder):\n",
    "        os.mkdir(out_folder)\n",
    "    out_name_p = os.path.join(out_folder, folder_suffix )\n",
    "    tmp_p_gff_df.to_csv(out_name_p+'.p_by_h_cov.gff', sep='\\t' ,header=None, index =None)\n",
    "    out_name_h =  os.path.join(out_folder, folder_suffix)\n",
    "    tmp_h_gff_df.to_csv(out_name_h+'.h_by_p_cov.gff' , sep='\\t' ,header=None, index =None)\n",
    "    #write those out to new folder for php together with the p and h gff of genes\n",
    "    p_gene_gff = gene_contig_subset(p_gff, contig, 'gene')\n",
    "    p_gene_gff.to_csv(out_name_p+'.p_gene.gff', sep='\\t' ,header=None, index =None)\n",
    "    h_gene_gff = gene_contig_subset(h_gff, contig, 'gene')\n",
    "    h_gene_gff.to_csv(out_name_h+'.h_gene.gff', sep='\\t' ,header=None, index =None)\n",
    "    \n",
    "    #next would be to do overlap between the gene gff and the corresponding alignment gff. Write this out. Dict for each gene and its corresponding h_contig/p_contig\n",
    "    "
   ]
  },
  {
   "cell_type": "code",
   "execution_count": 15,
   "metadata": {
    "ExecuteTime": {
     "end_time": "2018-02-19T04:37:26.359580Z",
     "start_time": "2018-02-19T04:37:26.332429Z"
    }
   },
   "outputs": [
    {
     "data": {
      "text/html": [
       "<div>\n",
       "<style>\n",
       "    .dataframe thead tr:only-child th {\n",
       "        text-align: right;\n",
       "    }\n",
       "\n",
       "    .dataframe thead th {\n",
       "        text-align: left;\n",
       "    }\n",
       "\n",
       "    .dataframe tbody tr th {\n",
       "        vertical-align: top;\n",
       "    }\n",
       "</style>\n",
       "<table border=\"1\" class=\"dataframe\">\n",
       "  <thead>\n",
       "    <tr style=\"text-align: right;\">\n",
       "      <th></th>\n",
       "      <th>0</th>\n",
       "      <th>1</th>\n",
       "      <th>2</th>\n",
       "      <th>3</th>\n",
       "      <th>4</th>\n",
       "      <th>5</th>\n",
       "      <th>6</th>\n",
       "      <th>7</th>\n",
       "      <th>8</th>\n",
       "    </tr>\n",
       "  </thead>\n",
       "  <tbody>\n",
       "    <tr>\n",
       "      <th>0</th>\n",
       "      <td>pcontig_225</td>\n",
       "      <td>EVM</td>\n",
       "      <td>gene</td>\n",
       "      <td>2067</td>\n",
       "      <td>2309</td>\n",
       "      <td>.</td>\n",
       "      <td>+</td>\n",
       "      <td>.</td>\n",
       "      <td>ID=evm.TU.pcontig_225.1;Name=gene_model_pconti...</td>\n",
       "    </tr>\n",
       "    <tr>\n",
       "      <th>1</th>\n",
       "      <td>pcontig_225</td>\n",
       "      <td>EVM</td>\n",
       "      <td>gene</td>\n",
       "      <td>2658</td>\n",
       "      <td>2883</td>\n",
       "      <td>.</td>\n",
       "      <td>+</td>\n",
       "      <td>.</td>\n",
       "      <td>ID=evm.TU.pcontig_225.2;Name=gene_model_pconti...</td>\n",
       "    </tr>\n",
       "    <tr>\n",
       "      <th>2</th>\n",
       "      <td>pcontig_225</td>\n",
       "      <td>EVM</td>\n",
       "      <td>gene</td>\n",
       "      <td>3999</td>\n",
       "      <td>5386</td>\n",
       "      <td>.</td>\n",
       "      <td>+</td>\n",
       "      <td>.</td>\n",
       "      <td>ID=evm.TU.pcontig_225.3;Name=gene_model_pconti...</td>\n",
       "    </tr>\n",
       "    <tr>\n",
       "      <th>3</th>\n",
       "      <td>pcontig_225</td>\n",
       "      <td>EVM</td>\n",
       "      <td>gene</td>\n",
       "      <td>13375</td>\n",
       "      <td>15212</td>\n",
       "      <td>.</td>\n",
       "      <td>+</td>\n",
       "      <td>.</td>\n",
       "      <td>ID=evm.TU.pcontig_225.4;Name=gene_model_pconti...</td>\n",
       "    </tr>\n",
       "    <tr>\n",
       "      <th>4</th>\n",
       "      <td>pcontig_225</td>\n",
       "      <td>EVM</td>\n",
       "      <td>gene</td>\n",
       "      <td>17272</td>\n",
       "      <td>18147</td>\n",
       "      <td>.</td>\n",
       "      <td>+</td>\n",
       "      <td>.</td>\n",
       "      <td>ID=evm.TU.pcontig_225.5;Name=gene_model_pconti...</td>\n",
       "    </tr>\n",
       "  </tbody>\n",
       "</table>\n",
       "</div>"
      ],
      "text/plain": [
       "             0    1     2      3      4  5  6  7  \\\n",
       "0  pcontig_225  EVM  gene   2067   2309  .  +  .   \n",
       "1  pcontig_225  EVM  gene   2658   2883  .  +  .   \n",
       "2  pcontig_225  EVM  gene   3999   5386  .  +  .   \n",
       "3  pcontig_225  EVM  gene  13375  15212  .  +  .   \n",
       "4  pcontig_225  EVM  gene  17272  18147  .  +  .   \n",
       "\n",
       "                                                   8  \n",
       "0  ID=evm.TU.pcontig_225.1;Name=gene_model_pconti...  \n",
       "1  ID=evm.TU.pcontig_225.2;Name=gene_model_pconti...  \n",
       "2  ID=evm.TU.pcontig_225.3;Name=gene_model_pconti...  \n",
       "3  ID=evm.TU.pcontig_225.4;Name=gene_model_pconti...  \n",
       "4  ID=evm.TU.pcontig_225.5;Name=gene_model_pconti...  "
      ]
     },
     "execution_count": 15,
     "metadata": {},
     "output_type": "execute_result"
    }
   ],
   "source": [
    "p_gene_gff.head()"
   ]
  },
  {
   "cell_type": "code",
   "execution_count": 16,
   "metadata": {
    "ExecuteTime": {
     "end_time": "2018-02-19T04:37:26.369267Z",
     "start_time": "2018-02-19T04:37:26.362732Z"
    },
    "collapsed": true
   },
   "outputs": [],
   "source": [
    "#now loop over the outfolders\n",
    "out_folders = [os.path.join(OUT_PATH, x) for x in os.listdir(OUT_PATH) if x.endswith('_php_8kbp')]\n",
    "out_folders.sort()"
   ]
  },
  {
   "cell_type": "code",
   "execution_count": 17,
   "metadata": {
    "ExecuteTime": {
     "end_time": "2018-02-19T04:37:39.306150Z",
     "start_time": "2018-02-19T04:37:26.372151Z"
    }
   },
   "outputs": [
    {
     "name": "stdout",
     "output_type": "stream",
     "text": [
      "This is the length of the intersect 588\n"
     ]
    },
    {
     "name": "stderr",
     "output_type": "stream",
     "text": [
      "/home/benjamin/anaconda3/lib/python3.5/site-packages/pybedtools/bedtool.py:3287: UserWarning: Default names for filetype gff are:\n",
      "['seqname', 'source', 'feature', 'start', 'end', 'score', 'strand', 'frame', 'attributes']\n",
      "but file has 18 fields; you can supply custom names with the `names` kwarg\n",
      "  % (self.file_type, _names, self.field_count()))\n"
     ]
    },
    {
     "name": "stdout",
     "output_type": "stream",
     "text": [
      "This is the length of the intersect 548\n"
     ]
    },
    {
     "name": "stderr",
     "output_type": "stream",
     "text": [
      "/home/benjamin/anaconda3/lib/python3.5/site-packages/pybedtools/bedtool.py:3287: UserWarning: Default names for filetype gff are:\n",
      "['seqname', 'source', 'feature', 'start', 'end', 'score', 'strand', 'frame', 'attributes']\n",
      "but file has 18 fields; you can supply custom names with the `names` kwarg\n",
      "  % (self.file_type, _names, self.field_count()))\n"
     ]
    },
    {
     "name": "stdout",
     "output_type": "stream",
     "text": [
      "This is the length of the intersect 496\n",
      "This is the length of the intersect 417\n"
     ]
    },
    {
     "name": "stderr",
     "output_type": "stream",
     "text": [
      "/home/benjamin/anaconda3/lib/python3.5/site-packages/pybedtools/bedtool.py:3287: UserWarning: Default names for filetype gff are:\n",
      "['seqname', 'source', 'feature', 'start', 'end', 'score', 'strand', 'frame', 'attributes']\n",
      "but file has 18 fields; you can supply custom names with the `names` kwarg\n",
      "  % (self.file_type, _names, self.field_count()))\n",
      "/home/benjamin/anaconda3/lib/python3.5/site-packages/pybedtools/bedtool.py:3287: UserWarning: Default names for filetype gff are:\n",
      "['seqname', 'source', 'feature', 'start', 'end', 'score', 'strand', 'frame', 'attributes']\n",
      "but file has 18 fields; you can supply custom names with the `names` kwarg\n",
      "  % (self.file_type, _names, self.field_count()))\n"
     ]
    },
    {
     "name": "stdout",
     "output_type": "stream",
     "text": [
      "This is the length of the intersect 319\n",
      "This is the length of the intersect 352\n"
     ]
    },
    {
     "name": "stderr",
     "output_type": "stream",
     "text": [
      "/home/benjamin/anaconda3/lib/python3.5/site-packages/pybedtools/bedtool.py:3287: UserWarning: Default names for filetype gff are:\n",
      "['seqname', 'source', 'feature', 'start', 'end', 'score', 'strand', 'frame', 'attributes']\n",
      "but file has 18 fields; you can supply custom names with the `names` kwarg\n",
      "  % (self.file_type, _names, self.field_count()))\n",
      "/home/benjamin/anaconda3/lib/python3.5/site-packages/pybedtools/bedtool.py:3287: UserWarning: Default names for filetype gff are:\n",
      "['seqname', 'source', 'feature', 'start', 'end', 'score', 'strand', 'frame', 'attributes']\n",
      "but file has 18 fields; you can supply custom names with the `names` kwarg\n",
      "  % (self.file_type, _names, self.field_count()))\n"
     ]
    },
    {
     "name": "stdout",
     "output_type": "stream",
     "text": [
      "This is the length of the intersect 388\n",
      "This is the length of the intersect 308\n"
     ]
    },
    {
     "name": "stderr",
     "output_type": "stream",
     "text": [
      "/home/benjamin/anaconda3/lib/python3.5/site-packages/pybedtools/bedtool.py:3287: UserWarning: Default names for filetype gff are:\n",
      "['seqname', 'source', 'feature', 'start', 'end', 'score', 'strand', 'frame', 'attributes']\n",
      "but file has 18 fields; you can supply custom names with the `names` kwarg\n",
      "  % (self.file_type, _names, self.field_count()))\n",
      "/home/benjamin/anaconda3/lib/python3.5/site-packages/pybedtools/bedtool.py:3287: UserWarning: Default names for filetype gff are:\n",
      "['seqname', 'source', 'feature', 'start', 'end', 'score', 'strand', 'frame', 'attributes']\n",
      "but file has 18 fields; you can supply custom names with the `names` kwarg\n",
      "  % (self.file_type, _names, self.field_count()))\n"
     ]
    },
    {
     "name": "stdout",
     "output_type": "stream",
     "text": [
      "This is the length of the intersect 266\n",
      "This is the length of the intersect 278\n"
     ]
    },
    {
     "name": "stderr",
     "output_type": "stream",
     "text": [
      "/home/benjamin/anaconda3/lib/python3.5/site-packages/pybedtools/bedtool.py:3287: UserWarning: Default names for filetype gff are:\n",
      "['seqname', 'source', 'feature', 'start', 'end', 'score', 'strand', 'frame', 'attributes']\n",
      "but file has 18 fields; you can supply custom names with the `names` kwarg\n",
      "  % (self.file_type, _names, self.field_count()))\n",
      "/home/benjamin/anaconda3/lib/python3.5/site-packages/pybedtools/bedtool.py:3287: UserWarning: Default names for filetype gff are:\n",
      "['seqname', 'source', 'feature', 'start', 'end', 'score', 'strand', 'frame', 'attributes']\n",
      "but file has 18 fields; you can supply custom names with the `names` kwarg\n",
      "  % (self.file_type, _names, self.field_count()))\n"
     ]
    },
    {
     "name": "stdout",
     "output_type": "stream",
     "text": [
      "This is the length of the intersect 255\n",
      "This is the length of the intersect 335\n"
     ]
    },
    {
     "name": "stderr",
     "output_type": "stream",
     "text": [
      "/home/benjamin/anaconda3/lib/python3.5/site-packages/pybedtools/bedtool.py:3287: UserWarning: Default names for filetype gff are:\n",
      "['seqname', 'source', 'feature', 'start', 'end', 'score', 'strand', 'frame', 'attributes']\n",
      "but file has 18 fields; you can supply custom names with the `names` kwarg\n",
      "  % (self.file_type, _names, self.field_count()))\n",
      "/home/benjamin/anaconda3/lib/python3.5/site-packages/pybedtools/bedtool.py:3287: UserWarning: Default names for filetype gff are:\n",
      "['seqname', 'source', 'feature', 'start', 'end', 'score', 'strand', 'frame', 'attributes']\n",
      "but file has 18 fields; you can supply custom names with the `names` kwarg\n",
      "  % (self.file_type, _names, self.field_count()))\n"
     ]
    },
    {
     "name": "stdout",
     "output_type": "stream",
     "text": [
      "This is the length of the intersect 299\n",
      "This is the length of the intersect 282\n"
     ]
    },
    {
     "name": "stderr",
     "output_type": "stream",
     "text": [
      "/home/benjamin/anaconda3/lib/python3.5/site-packages/pybedtools/bedtool.py:3287: UserWarning: Default names for filetype gff are:\n",
      "['seqname', 'source', 'feature', 'start', 'end', 'score', 'strand', 'frame', 'attributes']\n",
      "but file has 18 fields; you can supply custom names with the `names` kwarg\n",
      "  % (self.file_type, _names, self.field_count()))\n",
      "/home/benjamin/anaconda3/lib/python3.5/site-packages/pybedtools/bedtool.py:3287: UserWarning: Default names for filetype gff are:\n",
      "['seqname', 'source', 'feature', 'start', 'end', 'score', 'strand', 'frame', 'attributes']\n",
      "but file has 18 fields; you can supply custom names with the `names` kwarg\n",
      "  % (self.file_type, _names, self.field_count()))\n"
     ]
    },
    {
     "name": "stdout",
     "output_type": "stream",
     "text": [
      "This is the length of the intersect 213\n",
      "This is the length of the intersect 226\n"
     ]
    },
    {
     "name": "stderr",
     "output_type": "stream",
     "text": [
      "/home/benjamin/anaconda3/lib/python3.5/site-packages/pybedtools/bedtool.py:3287: UserWarning: Default names for filetype gff are:\n",
      "['seqname', 'source', 'feature', 'start', 'end', 'score', 'strand', 'frame', 'attributes']\n",
      "but file has 18 fields; you can supply custom names with the `names` kwarg\n",
      "  % (self.file_type, _names, self.field_count()))\n",
      "/home/benjamin/anaconda3/lib/python3.5/site-packages/pybedtools/bedtool.py:3287: UserWarning: Default names for filetype gff are:\n",
      "['seqname', 'source', 'feature', 'start', 'end', 'score', 'strand', 'frame', 'attributes']\n",
      "but file has 18 fields; you can supply custom names with the `names` kwarg\n",
      "  % (self.file_type, _names, self.field_count()))\n"
     ]
    },
    {
     "name": "stdout",
     "output_type": "stream",
     "text": [
      "This is the length of the intersect 276\n",
      "This is the length of the intersect 262\n"
     ]
    },
    {
     "name": "stderr",
     "output_type": "stream",
     "text": [
      "/home/benjamin/anaconda3/lib/python3.5/site-packages/pybedtools/bedtool.py:3287: UserWarning: Default names for filetype gff are:\n",
      "['seqname', 'source', 'feature', 'start', 'end', 'score', 'strand', 'frame', 'attributes']\n",
      "but file has 18 fields; you can supply custom names with the `names` kwarg\n",
      "  % (self.file_type, _names, self.field_count()))\n",
      "/home/benjamin/anaconda3/lib/python3.5/site-packages/pybedtools/bedtool.py:3287: UserWarning: Default names for filetype gff are:\n",
      "['seqname', 'source', 'feature', 'start', 'end', 'score', 'strand', 'frame', 'attributes']\n",
      "but file has 18 fields; you can supply custom names with the `names` kwarg\n",
      "  % (self.file_type, _names, self.field_count()))\n"
     ]
    },
    {
     "name": "stdout",
     "output_type": "stream",
     "text": [
      "This is the length of the intersect 294\n",
      "This is the length of the intersect 289\n"
     ]
    },
    {
     "name": "stderr",
     "output_type": "stream",
     "text": [
      "/home/benjamin/anaconda3/lib/python3.5/site-packages/pybedtools/bedtool.py:3287: UserWarning: Default names for filetype gff are:\n",
      "['seqname', 'source', 'feature', 'start', 'end', 'score', 'strand', 'frame', 'attributes']\n",
      "but file has 18 fields; you can supply custom names with the `names` kwarg\n",
      "  % (self.file_type, _names, self.field_count()))\n",
      "/home/benjamin/anaconda3/lib/python3.5/site-packages/pybedtools/bedtool.py:3287: UserWarning: Default names for filetype gff are:\n",
      "['seqname', 'source', 'feature', 'start', 'end', 'score', 'strand', 'frame', 'attributes']\n",
      "but file has 18 fields; you can supply custom names with the `names` kwarg\n",
      "  % (self.file_type, _names, self.field_count()))\n"
     ]
    },
    {
     "name": "stdout",
     "output_type": "stream",
     "text": [
      "This is the length of the intersect 253\n",
      "This is the length of the intersect 206\n"
     ]
    },
    {
     "name": "stderr",
     "output_type": "stream",
     "text": [
      "/home/benjamin/anaconda3/lib/python3.5/site-packages/pybedtools/bedtool.py:3287: UserWarning: Default names for filetype gff are:\n",
      "['seqname', 'source', 'feature', 'start', 'end', 'score', 'strand', 'frame', 'attributes']\n",
      "but file has 18 fields; you can supply custom names with the `names` kwarg\n",
      "  % (self.file_type, _names, self.field_count()))\n",
      "/home/benjamin/anaconda3/lib/python3.5/site-packages/pybedtools/bedtool.py:3287: UserWarning: Default names for filetype gff are:\n",
      "['seqname', 'source', 'feature', 'start', 'end', 'score', 'strand', 'frame', 'attributes']\n",
      "but file has 18 fields; you can supply custom names with the `names` kwarg\n",
      "  % (self.file_type, _names, self.field_count()))\n"
     ]
    },
    {
     "name": "stdout",
     "output_type": "stream",
     "text": [
      "This is the length of the intersect 240\n",
      "This is the length of the intersect 116\n"
     ]
    },
    {
     "name": "stderr",
     "output_type": "stream",
     "text": [
      "/home/benjamin/anaconda3/lib/python3.5/site-packages/pybedtools/bedtool.py:3287: UserWarning: Default names for filetype gff are:\n",
      "['seqname', 'source', 'feature', 'start', 'end', 'score', 'strand', 'frame', 'attributes']\n",
      "but file has 18 fields; you can supply custom names with the `names` kwarg\n",
      "  % (self.file_type, _names, self.field_count()))\n",
      "/home/benjamin/anaconda3/lib/python3.5/site-packages/pybedtools/bedtool.py:3287: UserWarning: Default names for filetype gff are:\n",
      "['seqname', 'source', 'feature', 'start', 'end', 'score', 'strand', 'frame', 'attributes']\n",
      "but file has 18 fields; you can supply custom names with the `names` kwarg\n",
      "  % (self.file_type, _names, self.field_count()))\n"
     ]
    },
    {
     "name": "stdout",
     "output_type": "stream",
     "text": [
      "This is the length of the intersect 240\n",
      "This is the length of the intersect 174\n"
     ]
    },
    {
     "name": "stderr",
     "output_type": "stream",
     "text": [
      "/home/benjamin/anaconda3/lib/python3.5/site-packages/pybedtools/bedtool.py:3287: UserWarning: Default names for filetype gff are:\n",
      "['seqname', 'source', 'feature', 'start', 'end', 'score', 'strand', 'frame', 'attributes']\n",
      "but file has 18 fields; you can supply custom names with the `names` kwarg\n",
      "  % (self.file_type, _names, self.field_count()))\n",
      "/home/benjamin/anaconda3/lib/python3.5/site-packages/pybedtools/bedtool.py:3287: UserWarning: Default names for filetype gff are:\n",
      "['seqname', 'source', 'feature', 'start', 'end', 'score', 'strand', 'frame', 'attributes']\n",
      "but file has 18 fields; you can supply custom names with the `names` kwarg\n",
      "  % (self.file_type, _names, self.field_count()))\n"
     ]
    },
    {
     "name": "stdout",
     "output_type": "stream",
     "text": [
      "This is the length of the intersect 196\n",
      "This is the length of the intersect 227\n"
     ]
    },
    {
     "name": "stderr",
     "output_type": "stream",
     "text": [
      "/home/benjamin/anaconda3/lib/python3.5/site-packages/pybedtools/bedtool.py:3287: UserWarning: Default names for filetype gff are:\n",
      "['seqname', 'source', 'feature', 'start', 'end', 'score', 'strand', 'frame', 'attributes']\n",
      "but file has 18 fields; you can supply custom names with the `names` kwarg\n",
      "  % (self.file_type, _names, self.field_count()))\n",
      "/home/benjamin/anaconda3/lib/python3.5/site-packages/pybedtools/bedtool.py:3287: UserWarning: Default names for filetype gff are:\n",
      "['seqname', 'source', 'feature', 'start', 'end', 'score', 'strand', 'frame', 'attributes']\n",
      "but file has 18 fields; you can supply custom names with the `names` kwarg\n",
      "  % (self.file_type, _names, self.field_count()))\n"
     ]
    },
    {
     "name": "stdout",
     "output_type": "stream",
     "text": [
      "This is the length of the intersect 181\n",
      "This is the length of the intersect 164\n"
     ]
    },
    {
     "name": "stderr",
     "output_type": "stream",
     "text": [
      "/home/benjamin/anaconda3/lib/python3.5/site-packages/pybedtools/bedtool.py:3287: UserWarning: Default names for filetype gff are:\n",
      "['seqname', 'source', 'feature', 'start', 'end', 'score', 'strand', 'frame', 'attributes']\n",
      "but file has 18 fields; you can supply custom names with the `names` kwarg\n",
      "  % (self.file_type, _names, self.field_count()))\n",
      "/home/benjamin/anaconda3/lib/python3.5/site-packages/pybedtools/bedtool.py:3287: UserWarning: Default names for filetype gff are:\n",
      "['seqname', 'source', 'feature', 'start', 'end', 'score', 'strand', 'frame', 'attributes']\n",
      "but file has 18 fields; you can supply custom names with the `names` kwarg\n",
      "  % (self.file_type, _names, self.field_count()))\n"
     ]
    },
    {
     "name": "stdout",
     "output_type": "stream",
     "text": [
      "This is the length of the intersect 7\n",
      "This is the length of the intersect 155\n"
     ]
    },
    {
     "name": "stderr",
     "output_type": "stream",
     "text": [
      "/home/benjamin/anaconda3/lib/python3.5/site-packages/pybedtools/bedtool.py:3287: UserWarning: Default names for filetype gff are:\n",
      "['seqname', 'source', 'feature', 'start', 'end', 'score', 'strand', 'frame', 'attributes']\n",
      "but file has 18 fields; you can supply custom names with the `names` kwarg\n",
      "  % (self.file_type, _names, self.field_count()))\n",
      "/home/benjamin/anaconda3/lib/python3.5/site-packages/pybedtools/bedtool.py:3287: UserWarning: Default names for filetype gff are:\n",
      "['seqname', 'source', 'feature', 'start', 'end', 'score', 'strand', 'frame', 'attributes']\n",
      "but file has 18 fields; you can supply custom names with the `names` kwarg\n",
      "  % (self.file_type, _names, self.field_count()))\n"
     ]
    },
    {
     "name": "stdout",
     "output_type": "stream",
     "text": [
      "This is the length of the intersect 186\n",
      "This is the length of the intersect 133\n"
     ]
    },
    {
     "name": "stderr",
     "output_type": "stream",
     "text": [
      "/home/benjamin/anaconda3/lib/python3.5/site-packages/pybedtools/bedtool.py:3287: UserWarning: Default names for filetype gff are:\n",
      "['seqname', 'source', 'feature', 'start', 'end', 'score', 'strand', 'frame', 'attributes']\n",
      "but file has 18 fields; you can supply custom names with the `names` kwarg\n",
      "  % (self.file_type, _names, self.field_count()))\n",
      "/home/benjamin/anaconda3/lib/python3.5/site-packages/pybedtools/bedtool.py:3287: UserWarning: Default names for filetype gff are:\n",
      "['seqname', 'source', 'feature', 'start', 'end', 'score', 'strand', 'frame', 'attributes']\n",
      "but file has 18 fields; you can supply custom names with the `names` kwarg\n",
      "  % (self.file_type, _names, self.field_count()))\n"
     ]
    },
    {
     "name": "stdout",
     "output_type": "stream",
     "text": [
      "This is the length of the intersect 191\n",
      "This is the length of the intersect 153\n"
     ]
    },
    {
     "name": "stderr",
     "output_type": "stream",
     "text": [
      "/home/benjamin/anaconda3/lib/python3.5/site-packages/pybedtools/bedtool.py:3287: UserWarning: Default names for filetype gff are:\n",
      "['seqname', 'source', 'feature', 'start', 'end', 'score', 'strand', 'frame', 'attributes']\n",
      "but file has 18 fields; you can supply custom names with the `names` kwarg\n",
      "  % (self.file_type, _names, self.field_count()))\n",
      "/home/benjamin/anaconda3/lib/python3.5/site-packages/pybedtools/bedtool.py:3287: UserWarning: Default names for filetype gff are:\n",
      "['seqname', 'source', 'feature', 'start', 'end', 'score', 'strand', 'frame', 'attributes']\n",
      "but file has 18 fields; you can supply custom names with the `names` kwarg\n",
      "  % (self.file_type, _names, self.field_count()))\n"
     ]
    },
    {
     "name": "stdout",
     "output_type": "stream",
     "text": [
      "This is the length of the intersect 152\n",
      "This is the length of the intersect 136\n"
     ]
    },
    {
     "name": "stderr",
     "output_type": "stream",
     "text": [
      "/home/benjamin/anaconda3/lib/python3.5/site-packages/pybedtools/bedtool.py:3287: UserWarning: Default names for filetype gff are:\n",
      "['seqname', 'source', 'feature', 'start', 'end', 'score', 'strand', 'frame', 'attributes']\n",
      "but file has 18 fields; you can supply custom names with the `names` kwarg\n",
      "  % (self.file_type, _names, self.field_count()))\n",
      "/home/benjamin/anaconda3/lib/python3.5/site-packages/pybedtools/bedtool.py:3287: UserWarning: Default names for filetype gff are:\n",
      "['seqname', 'source', 'feature', 'start', 'end', 'score', 'strand', 'frame', 'attributes']\n",
      "but file has 18 fields; you can supply custom names with the `names` kwarg\n",
      "  % (self.file_type, _names, self.field_count()))\n"
     ]
    },
    {
     "name": "stdout",
     "output_type": "stream",
     "text": [
      "This is the length of the intersect 135\n",
      "This is the length of the intersect 165\n"
     ]
    },
    {
     "name": "stderr",
     "output_type": "stream",
     "text": [
      "/home/benjamin/anaconda3/lib/python3.5/site-packages/pybedtools/bedtool.py:3287: UserWarning: Default names for filetype gff are:\n",
      "['seqname', 'source', 'feature', 'start', 'end', 'score', 'strand', 'frame', 'attributes']\n",
      "but file has 18 fields; you can supply custom names with the `names` kwarg\n",
      "  % (self.file_type, _names, self.field_count()))\n",
      "/home/benjamin/anaconda3/lib/python3.5/site-packages/pybedtools/bedtool.py:3287: UserWarning: Default names for filetype gff are:\n",
      "['seqname', 'source', 'feature', 'start', 'end', 'score', 'strand', 'frame', 'attributes']\n",
      "but file has 18 fields; you can supply custom names with the `names` kwarg\n",
      "  % (self.file_type, _names, self.field_count()))\n"
     ]
    },
    {
     "name": "stdout",
     "output_type": "stream",
     "text": [
      "This is the length of the intersect 111\n",
      "This is the length of the intersect 156\n"
     ]
    },
    {
     "name": "stderr",
     "output_type": "stream",
     "text": [
      "/home/benjamin/anaconda3/lib/python3.5/site-packages/pybedtools/bedtool.py:3287: UserWarning: Default names for filetype gff are:\n",
      "['seqname', 'source', 'feature', 'start', 'end', 'score', 'strand', 'frame', 'attributes']\n",
      "but file has 18 fields; you can supply custom names with the `names` kwarg\n",
      "  % (self.file_type, _names, self.field_count()))\n",
      "/home/benjamin/anaconda3/lib/python3.5/site-packages/pybedtools/bedtool.py:3287: UserWarning: Default names for filetype gff are:\n",
      "['seqname', 'source', 'feature', 'start', 'end', 'score', 'strand', 'frame', 'attributes']\n",
      "but file has 18 fields; you can supply custom names with the `names` kwarg\n",
      "  % (self.file_type, _names, self.field_count()))\n"
     ]
    },
    {
     "name": "stdout",
     "output_type": "stream",
     "text": [
      "This is the length of the intersect 85\n",
      "This is the length of the intersect 95\n",
      "This is the length of the intersect 140\n"
     ]
    },
    {
     "name": "stderr",
     "output_type": "stream",
     "text": [
      "/home/benjamin/anaconda3/lib/python3.5/site-packages/pybedtools/bedtool.py:3287: UserWarning: Default names for filetype gff are:\n",
      "['seqname', 'source', 'feature', 'start', 'end', 'score', 'strand', 'frame', 'attributes']\n",
      "but file has 18 fields; you can supply custom names with the `names` kwarg\n",
      "  % (self.file_type, _names, self.field_count()))\n",
      "/home/benjamin/anaconda3/lib/python3.5/site-packages/pybedtools/bedtool.py:3287: UserWarning: Default names for filetype gff are:\n",
      "['seqname', 'source', 'feature', 'start', 'end', 'score', 'strand', 'frame', 'attributes']\n",
      "but file has 18 fields; you can supply custom names with the `names` kwarg\n",
      "  % (self.file_type, _names, self.field_count()))\n",
      "/home/benjamin/anaconda3/lib/python3.5/site-packages/pybedtools/bedtool.py:3287: UserWarning: Default names for filetype gff are:\n",
      "['seqname', 'source', 'feature', 'start', 'end', 'score', 'strand', 'frame', 'attributes']\n",
      "but file has 18 fields; you can supply custom names with the `names` kwarg\n",
      "  % (self.file_type, _names, self.field_count()))\n",
      "/home/benjamin/anaconda3/lib/python3.5/site-packages/pybedtools/bedtool.py:3287: UserWarning: Default names for filetype gff are:\n",
      "['seqname', 'source', 'feature', 'start', 'end', 'score', 'strand', 'frame', 'attributes']\n",
      "but file has 18 fields; you can supply custom names with the `names` kwarg\n",
      "  % (self.file_type, _names, self.field_count()))\n"
     ]
    },
    {
     "name": "stdout",
     "output_type": "stream",
     "text": [
      "This is the length of the intersect 126\n",
      "This is the length of the intersect 69\n"
     ]
    },
    {
     "name": "stderr",
     "output_type": "stream",
     "text": [
      "/home/benjamin/anaconda3/lib/python3.5/site-packages/pybedtools/bedtool.py:3287: UserWarning: Default names for filetype gff are:\n",
      "['seqname', 'source', 'feature', 'start', 'end', 'score', 'strand', 'frame', 'attributes']\n",
      "but file has 18 fields; you can supply custom names with the `names` kwarg\n",
      "  % (self.file_type, _names, self.field_count()))\n",
      "/home/benjamin/anaconda3/lib/python3.5/site-packages/pybedtools/bedtool.py:3287: UserWarning: Default names for filetype gff are:\n",
      "['seqname', 'source', 'feature', 'start', 'end', 'score', 'strand', 'frame', 'attributes']\n",
      "but file has 18 fields; you can supply custom names with the `names` kwarg\n",
      "  % (self.file_type, _names, self.field_count()))\n"
     ]
    },
    {
     "name": "stdout",
     "output_type": "stream",
     "text": [
      "This is the length of the intersect 112\n",
      "This is the length of the intersect 157\n"
     ]
    },
    {
     "name": "stderr",
     "output_type": "stream",
     "text": [
      "/home/benjamin/anaconda3/lib/python3.5/site-packages/pybedtools/bedtool.py:3287: UserWarning: Default names for filetype gff are:\n",
      "['seqname', 'source', 'feature', 'start', 'end', 'score', 'strand', 'frame', 'attributes']\n",
      "but file has 18 fields; you can supply custom names with the `names` kwarg\n",
      "  % (self.file_type, _names, self.field_count()))\n",
      "/home/benjamin/anaconda3/lib/python3.5/site-packages/pybedtools/bedtool.py:3287: UserWarning: Default names for filetype gff are:\n",
      "['seqname', 'source', 'feature', 'start', 'end', 'score', 'strand', 'frame', 'attributes']\n",
      "but file has 18 fields; you can supply custom names with the `names` kwarg\n",
      "  % (self.file_type, _names, self.field_count()))\n"
     ]
    },
    {
     "name": "stdout",
     "output_type": "stream",
     "text": [
      "This is the length of the intersect 108\n",
      "This is the length of the intersect 131\n"
     ]
    },
    {
     "name": "stderr",
     "output_type": "stream",
     "text": [
      "/home/benjamin/anaconda3/lib/python3.5/site-packages/pybedtools/bedtool.py:3287: UserWarning: Default names for filetype gff are:\n",
      "['seqname', 'source', 'feature', 'start', 'end', 'score', 'strand', 'frame', 'attributes']\n",
      "but file has 18 fields; you can supply custom names with the `names` kwarg\n",
      "  % (self.file_type, _names, self.field_count()))\n",
      "/home/benjamin/anaconda3/lib/python3.5/site-packages/pybedtools/bedtool.py:3287: UserWarning: Default names for filetype gff are:\n",
      "['seqname', 'source', 'feature', 'start', 'end', 'score', 'strand', 'frame', 'attributes']\n",
      "but file has 18 fields; you can supply custom names with the `names` kwarg\n",
      "  % (self.file_type, _names, self.field_count()))\n",
      "/home/benjamin/anaconda3/lib/python3.5/site-packages/pybedtools/bedtool.py:3287: UserWarning: Default names for filetype gff are:\n",
      "['seqname', 'source', 'feature', 'start', 'end', 'score', 'strand', 'frame', 'attributes']\n",
      "but file has 18 fields; you can supply custom names with the `names` kwarg\n",
      "  % (self.file_type, _names, self.field_count()))\n"
     ]
    },
    {
     "name": "stdout",
     "output_type": "stream",
     "text": [
      "This is the length of the intersect 95\n",
      "This is the length of the intersect 136\n",
      "This is the length of the intersect 62\n",
      "This is the length of the intersect 104\n"
     ]
    },
    {
     "name": "stderr",
     "output_type": "stream",
     "text": [
      "/home/benjamin/anaconda3/lib/python3.5/site-packages/pybedtools/bedtool.py:3287: UserWarning: Default names for filetype gff are:\n",
      "['seqname', 'source', 'feature', 'start', 'end', 'score', 'strand', 'frame', 'attributes']\n",
      "but file has 18 fields; you can supply custom names with the `names` kwarg\n",
      "  % (self.file_type, _names, self.field_count()))\n",
      "/home/benjamin/anaconda3/lib/python3.5/site-packages/pybedtools/bedtool.py:3287: UserWarning: Default names for filetype gff are:\n",
      "['seqname', 'source', 'feature', 'start', 'end', 'score', 'strand', 'frame', 'attributes']\n",
      "but file has 18 fields; you can supply custom names with the `names` kwarg\n",
      "  % (self.file_type, _names, self.field_count()))\n"
     ]
    },
    {
     "name": "stdout",
     "output_type": "stream",
     "text": [
      "This is the length of the intersect 55\n",
      "This is the length of the intersect 87\n"
     ]
    },
    {
     "name": "stderr",
     "output_type": "stream",
     "text": [
      "/home/benjamin/anaconda3/lib/python3.5/site-packages/pybedtools/bedtool.py:3287: UserWarning: Default names for filetype gff are:\n",
      "['seqname', 'source', 'feature', 'start', 'end', 'score', 'strand', 'frame', 'attributes']\n",
      "but file has 18 fields; you can supply custom names with the `names` kwarg\n",
      "  % (self.file_type, _names, self.field_count()))\n",
      "/home/benjamin/anaconda3/lib/python3.5/site-packages/pybedtools/bedtool.py:3287: UserWarning: Default names for filetype gff are:\n",
      "['seqname', 'source', 'feature', 'start', 'end', 'score', 'strand', 'frame', 'attributes']\n",
      "but file has 18 fields; you can supply custom names with the `names` kwarg\n",
      "  % (self.file_type, _names, self.field_count()))\n"
     ]
    },
    {
     "name": "stdout",
     "output_type": "stream",
     "text": [
      "This is the length of the intersect 92\n",
      "This is the length of the intersect 94\n"
     ]
    },
    {
     "name": "stderr",
     "output_type": "stream",
     "text": [
      "/home/benjamin/anaconda3/lib/python3.5/site-packages/pybedtools/bedtool.py:3287: UserWarning: Default names for filetype gff are:\n",
      "['seqname', 'source', 'feature', 'start', 'end', 'score', 'strand', 'frame', 'attributes']\n",
      "but file has 18 fields; you can supply custom names with the `names` kwarg\n",
      "  % (self.file_type, _names, self.field_count()))\n",
      "/home/benjamin/anaconda3/lib/python3.5/site-packages/pybedtools/bedtool.py:3287: UserWarning: Default names for filetype gff are:\n",
      "['seqname', 'source', 'feature', 'start', 'end', 'score', 'strand', 'frame', 'attributes']\n",
      "but file has 18 fields; you can supply custom names with the `names` kwarg\n",
      "  % (self.file_type, _names, self.field_count()))\n"
     ]
    },
    {
     "name": "stdout",
     "output_type": "stream",
     "text": [
      "This is the length of the intersect 33\n",
      "This is the length of the intersect 61\n"
     ]
    },
    {
     "name": "stderr",
     "output_type": "stream",
     "text": [
      "/home/benjamin/anaconda3/lib/python3.5/site-packages/pybedtools/bedtool.py:3287: UserWarning: Default names for filetype gff are:\n",
      "['seqname', 'source', 'feature', 'start', 'end', 'score', 'strand', 'frame', 'attributes']\n",
      "but file has 18 fields; you can supply custom names with the `names` kwarg\n",
      "  % (self.file_type, _names, self.field_count()))\n",
      "/home/benjamin/anaconda3/lib/python3.5/site-packages/pybedtools/bedtool.py:3287: UserWarning: Default names for filetype gff are:\n",
      "['seqname', 'source', 'feature', 'start', 'end', 'score', 'strand', 'frame', 'attributes']\n",
      "but file has 18 fields; you can supply custom names with the `names` kwarg\n",
      "  % (self.file_type, _names, self.field_count()))\n"
     ]
    },
    {
     "name": "stdout",
     "output_type": "stream",
     "text": [
      "This is the length of the intersect 4\n",
      "This is the length of the intersect 91\n"
     ]
    },
    {
     "name": "stderr",
     "output_type": "stream",
     "text": [
      "/home/benjamin/anaconda3/lib/python3.5/site-packages/pybedtools/bedtool.py:3287: UserWarning: Default names for filetype gff are:\n",
      "['seqname', 'source', 'feature', 'start', 'end', 'score', 'strand', 'frame', 'attributes']\n",
      "but file has 18 fields; you can supply custom names with the `names` kwarg\n",
      "  % (self.file_type, _names, self.field_count()))\n",
      "/home/benjamin/anaconda3/lib/python3.5/site-packages/pybedtools/bedtool.py:3287: UserWarning: Default names for filetype gff are:\n",
      "['seqname', 'source', 'feature', 'start', 'end', 'score', 'strand', 'frame', 'attributes']\n",
      "but file has 18 fields; you can supply custom names with the `names` kwarg\n",
      "  % (self.file_type, _names, self.field_count()))\n"
     ]
    },
    {
     "name": "stdout",
     "output_type": "stream",
     "text": [
      "This is the length of the intersect 97\n",
      "This is the length of the intersect 31\n"
     ]
    },
    {
     "name": "stderr",
     "output_type": "stream",
     "text": [
      "/home/benjamin/anaconda3/lib/python3.5/site-packages/pybedtools/bedtool.py:3287: UserWarning: Default names for filetype gff are:\n",
      "['seqname', 'source', 'feature', 'start', 'end', 'score', 'strand', 'frame', 'attributes']\n",
      "but file has 18 fields; you can supply custom names with the `names` kwarg\n",
      "  % (self.file_type, _names, self.field_count()))\n",
      "/home/benjamin/anaconda3/lib/python3.5/site-packages/pybedtools/bedtool.py:3287: UserWarning: Default names for filetype gff are:\n",
      "['seqname', 'source', 'feature', 'start', 'end', 'score', 'strand', 'frame', 'attributes']\n",
      "but file has 18 fields; you can supply custom names with the `names` kwarg\n",
      "  % (self.file_type, _names, self.field_count()))\n"
     ]
    },
    {
     "name": "stdout",
     "output_type": "stream",
     "text": [
      "This is the length of the intersect 13\n",
      "This is the length of the intersect 10\n"
     ]
    },
    {
     "name": "stderr",
     "output_type": "stream",
     "text": [
      "/home/benjamin/anaconda3/lib/python3.5/site-packages/pybedtools/bedtool.py:3287: UserWarning: Default names for filetype gff are:\n",
      "['seqname', 'source', 'feature', 'start', 'end', 'score', 'strand', 'frame', 'attributes']\n",
      "but file has 18 fields; you can supply custom names with the `names` kwarg\n",
      "  % (self.file_type, _names, self.field_count()))\n",
      "/home/benjamin/anaconda3/lib/python3.5/site-packages/pybedtools/bedtool.py:3287: UserWarning: Default names for filetype gff are:\n",
      "['seqname', 'source', 'feature', 'start', 'end', 'score', 'strand', 'frame', 'attributes']\n",
      "but file has 18 fields; you can supply custom names with the `names` kwarg\n",
      "  % (self.file_type, _names, self.field_count()))\n"
     ]
    },
    {
     "name": "stdout",
     "output_type": "stream",
     "text": [
      "This is the length of the intersect 9\n",
      "This is the length of the intersect 33\n"
     ]
    },
    {
     "name": "stderr",
     "output_type": "stream",
     "text": [
      "/home/benjamin/anaconda3/lib/python3.5/site-packages/pybedtools/bedtool.py:3287: UserWarning: Default names for filetype gff are:\n",
      "['seqname', 'source', 'feature', 'start', 'end', 'score', 'strand', 'frame', 'attributes']\n",
      "but file has 18 fields; you can supply custom names with the `names` kwarg\n",
      "  % (self.file_type, _names, self.field_count()))\n",
      "/home/benjamin/anaconda3/lib/python3.5/site-packages/pybedtools/bedtool.py:3287: UserWarning: Default names for filetype gff are:\n",
      "['seqname', 'source', 'feature', 'start', 'end', 'score', 'strand', 'frame', 'attributes']\n",
      "but file has 18 fields; you can supply custom names with the `names` kwarg\n",
      "  % (self.file_type, _names, self.field_count()))\n"
     ]
    },
    {
     "name": "stdout",
     "output_type": "stream",
     "text": [
      "This is the length of the intersect 18\n",
      "This is the length of the intersect 2\n"
     ]
    },
    {
     "name": "stderr",
     "output_type": "stream",
     "text": [
      "/home/benjamin/anaconda3/lib/python3.5/site-packages/pybedtools/bedtool.py:3287: UserWarning: Default names for filetype gff are:\n",
      "['seqname', 'source', 'feature', 'start', 'end', 'score', 'strand', 'frame', 'attributes']\n",
      "but file has 18 fields; you can supply custom names with the `names` kwarg\n",
      "  % (self.file_type, _names, self.field_count()))\n",
      "/home/benjamin/anaconda3/lib/python3.5/site-packages/pybedtools/bedtool.py:3287: UserWarning: Default names for filetype gff are:\n",
      "['seqname', 'source', 'feature', 'start', 'end', 'score', 'strand', 'frame', 'attributes']\n",
      "but file has 18 fields; you can supply custom names with the `names` kwarg\n",
      "  % (self.file_type, _names, self.field_count()))\n"
     ]
    },
    {
     "name": "stdout",
     "output_type": "stream",
     "text": [
      "This is the length of the intersect 16\n",
      "This is the length of the intersect 64\n"
     ]
    },
    {
     "name": "stderr",
     "output_type": "stream",
     "text": [
      "/home/benjamin/anaconda3/lib/python3.5/site-packages/pybedtools/bedtool.py:3287: UserWarning: Default names for filetype gff are:\n",
      "['seqname', 'source', 'feature', 'start', 'end', 'score', 'strand', 'frame', 'attributes']\n",
      "but file has 18 fields; you can supply custom names with the `names` kwarg\n",
      "  % (self.file_type, _names, self.field_count()))\n",
      "/home/benjamin/anaconda3/lib/python3.5/site-packages/pybedtools/bedtool.py:3287: UserWarning: Default names for filetype gff are:\n",
      "['seqname', 'source', 'feature', 'start', 'end', 'score', 'strand', 'frame', 'attributes']\n",
      "but file has 18 fields; you can supply custom names with the `names` kwarg\n",
      "  % (self.file_type, _names, self.field_count()))\n"
     ]
    },
    {
     "name": "stdout",
     "output_type": "stream",
     "text": [
      "This is the length of the intersect 36\n",
      "This is the length of the intersect 50\n",
      "This is the length of the intersect 37\n"
     ]
    },
    {
     "name": "stderr",
     "output_type": "stream",
     "text": [
      "/home/benjamin/anaconda3/lib/python3.5/site-packages/pybedtools/bedtool.py:3287: UserWarning: Default names for filetype gff are:\n",
      "['seqname', 'source', 'feature', 'start', 'end', 'score', 'strand', 'frame', 'attributes']\n",
      "but file has 18 fields; you can supply custom names with the `names` kwarg\n",
      "  % (self.file_type, _names, self.field_count()))\n",
      "/home/benjamin/anaconda3/lib/python3.5/site-packages/pybedtools/bedtool.py:3287: UserWarning: Default names for filetype gff are:\n",
      "['seqname', 'source', 'feature', 'start', 'end', 'score', 'strand', 'frame', 'attributes']\n",
      "but file has 18 fields; you can supply custom names with the `names` kwarg\n",
      "  % (self.file_type, _names, self.field_count()))\n",
      "/home/benjamin/anaconda3/lib/python3.5/site-packages/pybedtools/bedtool.py:3287: UserWarning: Default names for filetype gff are:\n",
      "['seqname', 'source', 'feature', 'start', 'end', 'score', 'strand', 'frame', 'attributes']\n",
      "but file has 18 fields; you can supply custom names with the `names` kwarg\n",
      "  % (self.file_type, _names, self.field_count()))\n"
     ]
    },
    {
     "name": "stdout",
     "output_type": "stream",
     "text": [
      "This is the length of the intersect 37\n",
      "This is the length of the intersect 31\n",
      "This is the length of the intersect 11"
     ]
    },
    {
     "name": "stderr",
     "output_type": "stream",
     "text": [
      "/home/benjamin/anaconda3/lib/python3.5/site-packages/pybedtools/bedtool.py:3287: UserWarning: Default names for filetype gff are:\n",
      "['seqname', 'source', 'feature', 'start', 'end', 'score', 'strand', 'frame', 'attributes']\n",
      "but file has 18 fields; you can supply custom names with the `names` kwarg\n",
      "  % (self.file_type, _names, self.field_count()))\n",
      "/home/benjamin/anaconda3/lib/python3.5/site-packages/pybedtools/bedtool.py:3287: UserWarning: Default names for filetype gff are:\n",
      "['seqname', 'source', 'feature', 'start', 'end', 'score', 'strand', 'frame', 'attributes']\n",
      "but file has 18 fields; you can supply custom names with the `names` kwarg\n",
      "  % (self.file_type, _names, self.field_count()))\n",
      "/home/benjamin/anaconda3/lib/python3.5/site-packages/pybedtools/bedtool.py:3287: UserWarning: Default names for filetype gff are:\n",
      "['seqname', 'source', 'feature', 'start', 'end', 'score', 'strand', 'frame', 'attributes']\n",
      "but file has 18 fields; you can supply custom names with the `names` kwarg\n",
      "  % (self.file_type, _names, self.field_count()))\n"
     ]
    },
    {
     "name": "stdout",
     "output_type": "stream",
     "text": [
      "\n",
      "This is the length of the intersect 2\n"
     ]
    },
    {
     "name": "stderr",
     "output_type": "stream",
     "text": [
      "/home/benjamin/anaconda3/lib/python3.5/site-packages/pybedtools/bedtool.py:3287: UserWarning: Default names for filetype gff are:\n",
      "['seqname', 'source', 'feature', 'start', 'end', 'score', 'strand', 'frame', 'attributes']\n",
      "but file has 18 fields; you can supply custom names with the `names` kwarg\n",
      "  % (self.file_type, _names, self.field_count()))\n",
      "/home/benjamin/anaconda3/lib/python3.5/site-packages/pybedtools/bedtool.py:3287: UserWarning: Default names for filetype gff are:\n",
      "['seqname', 'source', 'feature', 'start', 'end', 'score', 'strand', 'frame', 'attributes']\n",
      "but file has 18 fields; you can supply custom names with the `names` kwarg\n",
      "  % (self.file_type, _names, self.field_count()))\n"
     ]
    },
    {
     "name": "stdout",
     "output_type": "stream",
     "text": [
      "This is the length of the intersect 20\n",
      "This is the length of the intersect 21\n"
     ]
    },
    {
     "name": "stderr",
     "output_type": "stream",
     "text": [
      "/home/benjamin/anaconda3/lib/python3.5/site-packages/pybedtools/bedtool.py:3287: UserWarning: Default names for filetype gff are:\n",
      "['seqname', 'source', 'feature', 'start', 'end', 'score', 'strand', 'frame', 'attributes']\n",
      "but file has 18 fields; you can supply custom names with the `names` kwarg\n",
      "  % (self.file_type, _names, self.field_count()))\n",
      "/home/benjamin/anaconda3/lib/python3.5/site-packages/pybedtools/bedtool.py:3287: UserWarning: Default names for filetype gff are:\n",
      "['seqname', 'source', 'feature', 'start', 'end', 'score', 'strand', 'frame', 'attributes']\n",
      "but file has 18 fields; you can supply custom names with the `names` kwarg\n",
      "  % (self.file_type, _names, self.field_count()))\n"
     ]
    },
    {
     "name": "stdout",
     "output_type": "stream",
     "text": [
      "This is the length of the intersect 20\n",
      "This is the length of the intersect 0\n",
      "This is the length of the intersect 6\n",
      "This is the length of the intersect 7\n",
      "This is the length of the intersect 17\n"
     ]
    },
    {
     "name": "stderr",
     "output_type": "stream",
     "text": [
      "/home/benjamin/anaconda3/lib/python3.5/site-packages/pybedtools/bedtool.py:3287: UserWarning: Default names for filetype gff are:\n",
      "['seqname', 'source', 'feature', 'start', 'end', 'score', 'strand', 'frame', 'attributes']\n",
      "but file has 18 fields; you can supply custom names with the `names` kwarg\n",
      "  % (self.file_type, _names, self.field_count()))\n",
      "/home/benjamin/anaconda3/lib/python3.5/site-packages/pybedtools/bedtool.py:3287: UserWarning: Default names for filetype gff are:\n",
      "['seqname', 'source', 'feature', 'start', 'end', 'score', 'strand', 'frame', 'attributes']\n",
      "but file has 18 fields; you can supply custom names with the `names` kwarg\n",
      "  % (self.file_type, _names, self.field_count()))\n",
      "/home/benjamin/anaconda3/lib/python3.5/site-packages/pybedtools/bedtool.py:3287: UserWarning: Default names for filetype gff are:\n",
      "['seqname', 'source', 'feature', 'start', 'end', 'score', 'strand', 'frame', 'attributes']\n",
      "but file has 18 fields; you can supply custom names with the `names` kwarg\n",
      "  % (self.file_type, _names, self.field_count()))\n"
     ]
    },
    {
     "name": "stdout",
     "output_type": "stream",
     "text": [
      "This is the length of the intersect 8\n",
      "This is the length of the intersect 1\n"
     ]
    },
    {
     "name": "stderr",
     "output_type": "stream",
     "text": [
      "/home/benjamin/anaconda3/lib/python3.5/site-packages/pybedtools/bedtool.py:3287: UserWarning: Default names for filetype gff are:\n",
      "['seqname', 'source', 'feature', 'start', 'end', 'score', 'strand', 'frame', 'attributes']\n",
      "but file has 18 fields; you can supply custom names with the `names` kwarg\n",
      "  % (self.file_type, _names, self.field_count()))\n",
      "/home/benjamin/anaconda3/lib/python3.5/site-packages/pybedtools/bedtool.py:3287: UserWarning: Default names for filetype gff are:\n",
      "['seqname', 'source', 'feature', 'start', 'end', 'score', 'strand', 'frame', 'attributes']\n",
      "but file has 18 fields; you can supply custom names with the `names` kwarg\n",
      "  % (self.file_type, _names, self.field_count()))\n"
     ]
    },
    {
     "name": "stdout",
     "output_type": "stream",
     "text": [
      "This is the length of the intersect 12\n",
      "This is the length of the intersect 7\n"
     ]
    },
    {
     "name": "stderr",
     "output_type": "stream",
     "text": [
      "/home/benjamin/anaconda3/lib/python3.5/site-packages/pybedtools/bedtool.py:3287: UserWarning: Default names for filetype gff are:\n",
      "['seqname', 'source', 'feature', 'start', 'end', 'score', 'strand', 'frame', 'attributes']\n",
      "but file has 18 fields; you can supply custom names with the `names` kwarg\n",
      "  % (self.file_type, _names, self.field_count()))\n",
      "/home/benjamin/anaconda3/lib/python3.5/site-packages/pybedtools/bedtool.py:3287: UserWarning: Default names for filetype gff are:\n",
      "['seqname', 'source', 'feature', 'start', 'end', 'score', 'strand', 'frame', 'attributes']\n",
      "but file has 18 fields; you can supply custom names with the `names` kwarg\n",
      "  % (self.file_type, _names, self.field_count()))\n"
     ]
    },
    {
     "name": "stdout",
     "output_type": "stream",
     "text": [
      "This is the length of the intersect 4\n",
      "This is the length of the intersect 0\n"
     ]
    },
    {
     "name": "stderr",
     "output_type": "stream",
     "text": [
      "/home/benjamin/anaconda3/lib/python3.5/site-packages/pybedtools/bedtool.py:3287: UserWarning: Default names for filetype gff are:\n",
      "['seqname', 'source', 'feature', 'start', 'end', 'score', 'strand', 'frame', 'attributes']\n",
      "but file has 18 fields; you can supply custom names with the `names` kwarg\n",
      "  % (self.file_type, _names, self.field_count()))\n"
     ]
    },
    {
     "name": "stdout",
     "output_type": "stream",
     "text": [
      "This is the length of the intersect 5\n",
      "This is the length of the intersect 0\n"
     ]
    },
    {
     "name": "stderr",
     "output_type": "stream",
     "text": [
      "/home/benjamin/anaconda3/lib/python3.5/site-packages/pybedtools/bedtool.py:3287: UserWarning: Default names for filetype gff are:\n",
      "['seqname', 'source', 'feature', 'start', 'end', 'score', 'strand', 'frame', 'attributes']\n",
      "but file has 18 fields; you can supply custom names with the `names` kwarg\n",
      "  % (self.file_type, _names, self.field_count()))\n"
     ]
    },
    {
     "name": "stdout",
     "output_type": "stream",
     "text": [
      "This is the length of the intersect 6\n",
      "This is the length of the intersect 9\n"
     ]
    },
    {
     "name": "stderr",
     "output_type": "stream",
     "text": [
      "/home/benjamin/anaconda3/lib/python3.5/site-packages/pybedtools/bedtool.py:3287: UserWarning: Default names for filetype gff are:\n",
      "['seqname', 'source', 'feature', 'start', 'end', 'score', 'strand', 'frame', 'attributes']\n",
      "but file has 18 fields; you can supply custom names with the `names` kwarg\n",
      "  % (self.file_type, _names, self.field_count()))\n",
      "/home/benjamin/anaconda3/lib/python3.5/site-packages/pybedtools/bedtool.py:3287: UserWarning: Default names for filetype gff are:\n",
      "['seqname', 'source', 'feature', 'start', 'end', 'score', 'strand', 'frame', 'attributes']\n",
      "but file has 18 fields; you can supply custom names with the `names` kwarg\n",
      "  % (self.file_type, _names, self.field_count()))\n"
     ]
    }
   ],
   "source": [
    "p_gene_h_contig_overlap_dict = {}\n",
    "for out_folder in out_folders:\n",
    "    tmp_folder_content = os.listdir(out_folder)\n",
    "    tmp_p_gene_gff = [os.path.join(out_folder, x) for x in tmp_folder_content if x.endswith('p_gene.gff') ][0]\n",
    "    tmp_p_gene_bed = pybedtools.BedTool(tmp_p_gene_gff).remove_invalid().saveas()\n",
    "    tmp_p_by_h_gff = [os.path.join(out_folder, x) for x in tmp_folder_content if x.endswith('p_by_h_cov.gff') ][0]\n",
    "    tmp_p_by_h_bed = pybedtools.BedTool(tmp_p_by_h_gff).remove_invalid().saveas()\n",
    "    #generate a bed intersect\n",
    "    p_gene_and_p_by_h = tmp_p_gene_bed.intersect(tmp_p_by_h_bed, wb=True)\n",
    "    #check the length of the obtained intersect is \n",
    "    print(\"This is the length of the intersect %i\" %len(p_gene_and_p_by_h ))\n",
    "    if len(p_gene_and_p_by_h) == 0:\n",
    "        continue\n",
    "    #turn this into a dataframe \n",
    "    p_gene_and_p_by_h_df = p_gene_and_p_by_h.to_dataframe()\n",
    "    p_gene_and_p_by_h_df['p_gene'] = p_gene_and_p_by_h_df[8].str.extract(r'ID=([^;]*);', expand=False)\n",
    "    p_gene_and_p_by_h_df['p_protein'] = p_gene_and_p_by_h_df['p_gene'].str.replace('TU', 'model')\n",
    "    #save this in the same folder as dataframe\n",
    "    p_gene_and_p_by_h_df.to_csv(tmp_p_gene_gff.replace('p_gene.gff', 'gene_haplotig_intersect.df'), sep='\\t', index=None)\n",
    "    p_gene_and_p_by_h_df_2 = p_gene_and_p_by_h_df.loc[:, [10, 'p_protein']]\n",
    "    #make a dict for the overlap of each gene with it's correspoding haplotig\n",
    "    tmp_p_gene_h_overlap_df = p_gene_and_p_by_h_df_2.groupby('p_protein')[10].apply(list)\n",
    "    tmp_p_gene_h_overlap_dict = dict(zip(tmp_p_gene_h_overlap_df.index, tmp_p_gene_h_overlap_df.values))\n",
    "    p_gene_h_contig_overlap_dict.update(tmp_p_gene_h_overlap_dict)\n",
    "    "
   ]
  },
  {
   "cell_type": "code",
   "execution_count": 18,
   "metadata": {
    "ExecuteTime": {
     "end_time": "2018-02-19T04:37:39.340678Z",
     "start_time": "2018-02-19T04:37:39.310557Z"
    },
    "collapsed": true
   },
   "outputs": [],
   "source": [
    "def get_h_gene_p_contig_overlap_dict(p_gene_h_contig_overlap_dict):\n",
    "    d = {}\n",
    "    for key in p_gene_h_contig_overlap_dict.keys():\n",
    "        for val in p_gene_h_contig_overlap_dict[key]:\n",
    "            if val in d:\n",
    "                d[val].append(key)\n",
    "            else:\n",
    "                d[val] = [key]\n",
    "    return d\n",
    "h_gene_p_contig_overlap_dict = get_h_gene_p_contig_overlap_dict(p_gene_h_contig_overlap_dict)"
   ]
  },
  {
   "cell_type": "code",
   "execution_count": 19,
   "metadata": {
    "ExecuteTime": {
     "end_time": "2018-02-19T04:37:54.426406Z",
     "start_time": "2018-02-19T04:37:39.343526Z"
    },
    "collapsed": true
   },
   "outputs": [],
   "source": [
    "#get out the p_protein on h_protein blast out dataframe and appand the h_contig overlap for each protein\n",
    "_key = [x for x in blast_out_dict.keys() if x.startswith(P_GENOME) and x.split('.')[-2] == 'blastp' and x.endswith('outfmt6')][0]\n",
    "p_gene_h_contig_overlap_df = pd.DataFrame([p_gene_h_contig_overlap_dict.keys(), p_gene_h_contig_overlap_dict.values()],  index = ['p_protein', 'h_contig_overlap']).T\n",
    "_tmp_df = blast_out_dict[_key]\n",
    "_tmp_df = _tmp_df.merge(p_gene_h_contig_overlap_df, how='outer' ,left_on='Query', right_on='p_protein')\n",
    "_tmp_df['h_contig_overlap'].fillna(False, inplace=True)\n",
    "#check if the protein hit resites on the overlapping haplotig\n",
    "_tmp_df['t_contig == h_contig_overlap'] = _tmp_df.apply(lambda row: target_on_mapped_haplotig(row['t_contig'], row['h_contig_overlap']), axis =1 )\n",
    "#blast_out_dict[_key] = _tmp_df"
   ]
  },
  {
   "cell_type": "code",
   "execution_count": 20,
   "metadata": {
    "ExecuteTime": {
     "end_time": "2018-02-19T04:37:59.923031Z",
     "start_time": "2018-02-19T04:37:54.431323Z"
    },
    "collapsed": true
   },
   "outputs": [],
   "source": [
    "#write the dataframe again\n",
    "_tmp_df.to_csv(os.path.join(OUT_PATH, _key+'.allele_analysis'), index=None, sep='\\t')"
   ]
  },
  {
   "cell_type": "code",
   "execution_count": 21,
   "metadata": {
    "ExecuteTime": {
     "end_time": "2018-02-19T04:57:42.148525Z",
     "start_time": "2018-02-19T04:37:59.925969Z"
    }
   },
   "outputs": [
    {
     "name": "stdout",
     "output_type": "stream",
     "text": [
      "/home/benjamin/genome_assembly/PST79/FALCON/p_assemblies/v9_1/032017_assembly\n",
      "Checking for correct files and directories...\n",
      "Created directory: /home/benjamin/genome_assembly/PST79/FALCON/p_assemblies/v9_1/Pst_104E_v12/Warrior_comp_runs/allele_analysis/defining_alleles/proteinortho/ph_ctg_516\n",
      "Copying Pst_104E_v12_h_ctg.anno.protein.faa file to /home/benjamin/genome_assembly/PST79/FALCON/p_assemblies/v9_1/Pst_104E_v12/Warrior_comp_runs/allele_analysis/defining_alleles/proteinortho/ph_ctg_516\n",
      "Copying Pst_104E_v12_p_ctg.anno.protein.faa file to /home/benjamin/genome_assembly/PST79/FALCON/p_assemblies/v9_1/Pst_104E_v12/Warrior_comp_runs/allele_analysis/defining_alleles/proteinortho/ph_ctg_516\n",
      "Writing a new proteinortho-compatible gff file at /home/benjamin/genome_assembly/PST79/FALCON/p_assemblies/v9_1/Pst_104E_v12/Warrior_comp_runs/allele_analysis/defining_alleles/proteinortho/ph_ctg_516/Pst_104E_v12_h_ctg.anno.protein.gff based on original at /home/benjamin/genome_assembly/PST79/FALCON/p_assemblies/v9_1/032017_assembly/Pst_104E_v12_h_ctg.anno.gff3\n",
      "Writing a new proteinortho-compatible gff file at /home/benjamin/genome_assembly/PST79/FALCON/p_assemblies/v9_1/Pst_104E_v12/Warrior_comp_runs/allele_analysis/defining_alleles/proteinortho/ph_ctg_516/Pst_104E_v12_p_ctg.anno.protein.gff based on original at /home/benjamin/genome_assembly/PST79/FALCON/p_assemblies/v9_1/032017_assembly/Pst_104E_v12_p_ctg.anno.gff3\n",
      "Files and directories required for proteinortho analysis exist.\n",
      "\n",
      "Checking whether proteinortho files already exist in /home/benjamin/genome_assembly/PST79/FALCON/p_assemblies/v9_1/Pst_104E_v12/Warrior_comp_runs/allele_analysis/defining_alleles/proteinortho...\n",
      "Folder reference dictionary:\n",
      "{'pin': 2, 'poff-graph': 1, 'gff': 2, 'faa': 2, 'proteinortho': 1, 'poff': 1, 'proteinortho-graph': 1, 'phr': 2, 'ffadj-graph': 1, 'psq': 2, 'blast-graph': 1}\n",
      "proteinortho: Discrepancy in *.pin files: 0 [FOLDER] vs 2 [REF]\n",
      "proteinortho: Discrepancy in *.poff-graph files: 0 [FOLDER] vs 1 [REF]\n",
      "proteinortho: Discrepancy in *.proteinortho files: 0 [FOLDER] vs 1 [REF]\n",
      "proteinortho: Discrepancy in *.poff files: 0 [FOLDER] vs 1 [REF]\n",
      "proteinortho: Discrepancy in *.proteinortho-graph files: 0 [FOLDER] vs 1 [REF]\n",
      "proteinortho: Discrepancy in *.phr files: 0 [FOLDER] vs 2 [REF]\n",
      "proteinortho: Discrepancy in *.ffadj-graph files: 0 [FOLDER] vs 1 [REF]\n",
      "proteinortho: Discrepancy in *.psq files: 0 [FOLDER] vs 2 [REF]\n",
      "proteinortho: Discrepancy in *.blast-graph files: 0 [FOLDER] vs 1 [REF]\n",
      "\n",
      "Not all files supposed to be generated by proteinortho appear to be present. Running proteinortho now (this may take some time)...\n",
      "b'*****************************************************************'\n",
      "b'Proteinortho with PoFF version 5.16b - An orthology detection tool'\n",
      "b'*****************************************************************'\n",
      "b'Detected 56 available CPU threads, Detected NCBI BLAST version 2.2.31+'\n",
      "b'Checking input files'\n",
      "b'Checking ph_ctg_516/Pst_104E_v12_h_ctg.anno.protein.faa... ph_ctg_516/Pst_104E_v12_h_ctg.anno.protein.faa\\t14321 genes\\tok'\n",
      "b'Checking ph_ctg_516/Pst_104E_v12_p_ctg.anno.protein.faa... ph_ctg_516/Pst_104E_v12_p_ctg.anno.protein.faa\\t15928 genes\\tok'\n",
      "b''\n",
      "b'**Step 1**'\n",
      "b'Generating indices'\n",
      "b\"Building database for 'ph_ctg_516/Pst_104E_v12_p_ctg.anno.protein.faa'\\t(15928 sequences)\"\n",
      "b\"Building database for 'ph_ctg_516/Pst_104E_v12_h_ctg.anno.protein.faa'\\t(14321 sequences)\"\n",
      "b''\n",
      "b'**Step 2**'\n",
      "b'\\r                                                                               \\rRunning blast analysis: 0% (0/1)\\r                                                                               \\rRunning blast analysis: 100% (1/1)\\r                                                                               \\rRunning blast analysis: 100% (1/1)'\n",
      "b'[OUTPUT] -> written to ph_ctg_516.blast-graph'\n",
      "b''\n",
      "b'**Step 3**'\n",
      "b'Clustering by similarity (Proteinortho mode)'\n",
      "b'Reading ph_ctg_516.blast-graph'\n",
      "b'2 species'\n",
      "b'22562 paired proteins'\n",
      "b'12228 bidirectional edges'\n",
      "b'\\r                          \\rClustering: 0.01%\\r                          \\rClustering: 0.02%\\r                          \\rClustering: 0.03%\\r                          \\rClustering: 0.04%\\r                          \\rClustering: 0.04%\\r                          \\rClustering: 0.05%\\r                          \\rClustering: 0.06%\\r                          \\rClustering: 0.07%\\r                          \\rClustering: 0.08%\\r                          \\rClustering: 0.09%\\r                          \\rClustering: 0.10%\\r                          \\rClustering: 0.11%\\r                          \\rClustering: 0.12%\\r                          \\rClustering: 0.12%\\r                          \\rClustering: 0.14%\\r                          \\rClustering: 0.15%\\r                          \\rClustering: 0.16%\\r                          \\rClustering: 0.16%\\r                          \\rClustering: 0.17%\\r                          \\rClustering: 0.18%\\r                          \\rClustering: 0.19%\\r                          \\rClustering: 0.20%\\r                          \\rClustering: 0.21%\\r                          \\rClustering: 0.22%\\r                          \\rClustering: 0.23%\\r                          \\rClustering: 0.24%\\r                          \\rClustering: 0.25%\\r                          \\rClustering: 0.26%\\r                          \\rClustering: 0.27%\\r                          \\rClustering: 0.28%\\r                          \\rClustering: 0.29%\\r                          \\rClustering: 0.30%\\r                          \\rClustering: 0.31%\\r                          \\rClustering: 0.31%\\r                          \\rClustering: 0.32%\\r                          \\rClustering: 0.33%\\r                          \\rClustering: 0.34%\\r                          \\rClustering: 0.35%\\r                          \\rClustering: 0.36%\\r                          \\rClustering: 0.37%\\r                          \\rClustering: 0.38%\\r                          \\rClustering: 0.39%\\r                          \\rClustering: 0.39%\\r                          \\rClustering: 0.40%\\r                          \\rClustering: 0.41%\\r                          \\rClustering: 0.42%\\r                          \\rClustering: 0.43%\\r                          \\rClustering: 0.44%\\r                          \\rClustering: 0.45%\\r                          \\rClustering: 0.46%\\r                          \\rClustering: 0.48%\\r                          \\rClustering: 0.49%\\r                          \\rClustering: 0.50%\\r                          \\rClustering: 0.51%\\r                          \\rClustering: 0.51%\\r                          \\rClustering: 0.52%\\r                          \\rClustering: 0.53%\\r                          \\rClustering: 0.54%\\r                          \\rClustering: 0.55%\\r                          \\rClustering: 0.56%\\r                          \\rClustering: 0.57%\\r                          \\rClustering: 0.58%\\r                          \\rClustering: 0.59%\\r                          \\rClustering: 0.59%\\r                          \\rClustering: 0.60%\\r                          \\rClustering: 0.61%\\r                          \\rClustering: 0.62%\\r                          \\rClustering: 0.63%\\r                          \\rClustering: 0.64%\\r                          \\rClustering: 0.65%\\r                          \\rClustering: 0.66%\\r                          \\rClustering: 0.66%\\r                          \\rClustering: 0.67%\\r                          \\rClustering: 0.68%\\r                          \\rClustering: 0.69%\\r                          \\rClustering: 0.70%\\r                          \\rClustering: 0.71%\\r                          \\rClustering: 0.72%\\r                          \\rClustering: 0.73%\\r                          \\rClustering: 0.74%\\r                          \\rClustering: 0.74%\\r                          \\rClustering: 0.75%\\r                          \\rClustering: 0.76%\\r                          \\rClustering: 0.77%\\r                          \\rClustering: 0.78%\\r                          \\rClustering: 0.79%\\r                          \\rClustering: 0.80%\\r                          \\rClustering: 0.81%\\r                          \\rClustering: 0.82%\\r                          \\rClustering: 0.82%\\r                          \\rClustering: 0.83%\\r                          \\rClustering: 0.84%\\r                          \\rClustering: 0.85%\\r                          \\rClustering: 0.86%\\r                          \\rClustering: 0.87%\\r                          \\rClustering: 0.88%\\r                          \\rClustering: 0.89%\\r                          \\rClustering: 0.90%\\r                          \\rClustering: 0.92%\\r                          \\rClustering: 0.94%\\r                          \\rClustering: 0.96%\\r                          \\rClustering: 0.98%\\r                          \\rClustering: 0.99%\\r                          \\rClustering: 1.01%\\r                          \\rClustering: 1.03%\\r                          \\rClustering: 1.05%\\r                          \\rClustering: 1.06%\\r                          \\rClustering: 1.08%\\r                          \\rClustering: 1.10%\\r                          \\rClustering: 1.12%\\r                          \\rClustering: 1.13%\\r                          \\rClustering: 1.15%\\r                          \\rClustering: 1.17%\\r                          \\rClustering: 1.19%\\r                          \\rClustering: 1.21%\\r                          \\rClustering: 1.22%\\r                          \\rClustering: 1.24%\\r                          \\rClustering: 1.26%\\r                          \\rClustering: 1.28%\\r                          \\rClustering: 1.29%\\r                          \\rClustering: 1.31%\\r                          \\rClustering: 1.33%\\r                          \\rClustering: 1.35%\\r                          \\rClustering: 1.37%\\r                          \\rClustering: 1.38%\\r                          \\rClustering: 1.40%\\r                          \\rClustering: 1.42%\\r                          \\rClustering: 1.44%\\r                          \\rClustering: 1.45%\\r                          \\rClustering: 1.47%\\r                          \\rClustering: 1.49%\\r                          \\rClustering: 1.51%\\r                          \\rClustering: 1.52%\\r                          \\rClustering: 1.54%\\r                          \\rClustering: 1.56%\\r                          \\rClustering: 1.58%\\r                          \\rClustering: 1.60%\\r                          \\rClustering: 1.61%\\r                          \\rClustering: 1.63%\\r                          \\rClustering: 1.65%\\r                          \\rClustering: 1.68%\\r                          \\rClustering: 1.69%\\r                          \\rClustering: 1.71%\\r                          \\rClustering: 1.73%\\r                          \\rClustering: 1.75%\\r                          \\rClustering: 1.76%\\r                          \\rClustering: 1.78%\\r                          \\rClustering: 1.81%\\r                          \\rClustering: 1.83%\\r                          \\rClustering: 1.86%\\r                          \\rClustering: 1.89%\\r                          \\rClustering: 1.91%\\r                          \\rClustering: 1.94%\\r                          \\rClustering: 1.97%\\r                          \\rClustering: 1.99%\\r                          \\rClustering: 2.02%\\r                          \\rClustering: 2.05%\\r                          \\rClustering: 2.07%\\r                          \\rClustering: 2.10%\\r                          \\rClustering: 2.12%\\r                          \\rClustering: 2.15%\\r                          \\rClustering: 2.18%\\r                          \\rClustering: 2.20%\\r                          \\rClustering: 2.23%\\r                          \\rClustering: 2.26%\\r                          \\rClustering: 2.28%\\r                          \\rClustering: 2.31%\\r                          \\rClustering: 2.34%\\r                          \\rClustering: 2.36%\\r                          \\rClustering: 2.39%\\r                          \\rClustering: 2.42%\\r                          \\rClustering: 2.44%\\r                          \\rClustering: 2.47%\\r                          \\rClustering: 2.50%\\r                          \\rClustering: 2.52%\\r                          \\rClustering: 2.55%\\r                          \\rClustering: 2.58%\\r                          \\rClustering: 2.60%\\r                          \\rClustering: 2.63%\\r                          \\rClustering: 2.65%\\r                          \\rClustering: 2.68%\\r                          \\rClustering: 2.72%\\r                          \\rClustering: 2.75%\\r                          \\rClustering: 2.79%\\r                          \\rClustering: 2.82%\\r                          \\rClustering: 2.86%\\r                          \\rClustering: 2.89%\\r                          \\rClustering: 2.93%\\r                          \\rClustering: 2.97%\\r                          \\rClustering: 3.00%\\r                          \\rClustering: 3.04%\\r                          \\rClustering: 3.08%\\r                          \\rClustering: 3.12%\\r                          \\rClustering: 3.16%\\r                          \\rClustering: 3.19%\\r                          \\rClustering: 3.23%\\r                          \\rClustering: 3.26%\\r                          \\rClustering: 3.30%\\r                          \\rClustering: 3.33%\\r                          \\rClustering: 3.37%\\r                          \\rClustering: 3.40%\\r                          \\rClustering: 3.44%\\r                          \\rClustering: 3.47%\\r                          \\rClustering: 3.51%\\r                          \\rClustering: 3.55%\\r                          \\rClustering: 3.60%\\r                          \\rClustering: 3.64%\\r                          \\rClustering: 3.69%\\r                          \\rClustering: 3.73%\\r                          \\rClustering: 3.78%\\r                          \\rClustering: 3.82%\\r                          \\rClustering: 3.86%\\r                          \\rClustering: 3.91%\\r                          \\rClustering: 3.95%\\r                          \\rClustering: 4.00%\\r                          \\rClustering: 4.04%\\r                          \\rClustering: 4.09%\\r                          \\rClustering: 4.13%\\r                          \\rClustering: 4.18%\\r                          \\rClustering: 4.22%\\r                          \\rClustering: 4.26%\\r                          \\rClustering: 4.31%\\r                          \\rClustering: 4.37%\\r                          \\rClustering: 4.41%\\r                          \\rClustering: 4.46%\\r                          \\rClustering: 4.51%\\r                          \\rClustering: 4.57%\\r                          \\rClustering: 4.61%\\r                          \\rClustering: 4.67%\\r                          \\rClustering: 4.73%\\r                          \\rClustering: 4.79%\\r                          \\rClustering: 4.84%\\r                          \\rClustering: 4.89%\\r                          \\rClustering: 4.95%\\r                          \\rClustering: 5.00%\\r                          \\rClustering: 5.05%\\r                          \\rClustering: 5.11%\\r                          \\rClustering: 5.16%\\r                          \\rClustering: 5.22%\\r                          \\rClustering: 5.27%\\r                          \\rClustering: 5.32%\\r                          \\rClustering: 5.39%\\r                          \\rClustering: 5.45%\\r                          \\rClustering: 5.51%\\r                          \\rClustering: 5.57%\\r                          \\rClustering: 5.63%\\r                          \\rClustering: 5.69%\\r                          \\rClustering: 5.75%\\r                          \\rClustering: 5.82%\\r                          \\rClustering: 5.88%\\r                          \\rClustering: 5.94%\\r                          \\rClustering: 6.01%\\r                          \\rClustering: 6.07%\\r                          \\rClustering: 6.13%\\r                          \\rClustering: 6.20%\\r                          \\rClustering: 6.26%\\r                          \\rClustering: 6.33%\\r                          \\rClustering: 6.40%\\r                          \\rClustering: 6.47%\\r                          \\rClustering: 6.54%\\r                          \\rClustering: 6.61%\\r                          \\rClustering: 6.68%\\r                          \\rClustering: 6.75%\\r                          \\rClustering: 6.83%\\r                          \\rClustering: 6.90%\\r                          \\rClustering: 6.97%\\r                          \\rClustering: 7.04%\\r                          \\rClustering: 7.11%\\r                          \\rClustering: 7.19%\\r                          \\rClustering: 7.26%\\r                          \\rClustering: 7.35%\\r                          \\rClustering: 7.43%\\r                          \\rClustering: 7.51%\\r                          \\rClustering: 7.59%\\r                          \\rClustering: 7.68%\\r                          \\rClustering: 7.76%\\r                          \\rClustering: 7.85%\\r                          \\rClustering: 7.92%\\r                          \\rClustering: 8.00%\\r                          \\rClustering: 8.09%\\r                          \\rClustering: 8.18%\\r                          \\rClustering: 8.27%\\r                          \\rClustering: 8.36%\\r                          \\rClustering: 8.45%\\r                          \\rClustering: 8.54%\\r                          \\rClustering: 8.63%\\r                          \\rClustering: 8.72%\\r                          \\rClustering: 8.82%\\r                          \\rClustering: 8.91%\\r                          \\rClustering: 9.01%\\r                          \\rClustering: 9.11%\\r                          \\rClustering: 9.21%\\r                          \\rClustering: 9.30%\\r                          \\rClustering: 9.40%\\r                          \\rClustering: 9.50%\\r                          \\rClustering: 9.60%\\r                          \\rClustering: 9.70%\\r                          \\rClustering: 9.80%\\r                          \\rClustering: 9.91%\\r                          \\rClustering: 10.01%\\r                          \\rClustering: 10.11%\\r                          \\rClustering: 10.22%\\r                          \\rClustering: 10.33%\\r                          \\rClustering: 10.43%\\r                          \\rClustering: 10.54%\\r                          \\rClustering: 10.65%\\r                          \\rClustering: 10.76%\\r                          \\rClustering: 10.88%\\r                          \\rClustering: 10.99%\\r                          \\rClustering: 11.11%\\r                          \\rClustering: 11.24%\\r                          \\rClustering: 11.36%\\r                          \\rClustering: 11.48%\\r                          \\rClustering: 11.60%\\r                          \\rClustering: 11.73%\\r                          \\rClustering: 11.85%\\r                          \\rClustering: 11.97%\\r                          \\rClustering: 12.11%\\r                          \\rClustering: 12.24%\\r                          \\rClustering: 12.36%\\r                          \\rClustering: 12.49%\\r                          \\rClustering: 12.61%\\r                          \\rClustering: 12.75%\\r                          \\rClustering: 12.88%\\r                          \\rClustering: 13.01%\\r                          \\rClustering: 13.15%\\r                          \\rClustering: 13.29%\\r                          \\rClustering: 13.42%\\r                          \\rClustering: 13.56%\\r                          \\rClustering: 13.70%\\r                          \\rClustering: 13.85%\\r                          \\rClustering: 13.99%\\r                          \\rClustering: 14.13%\\r                          \\rClustering: 14.27%\\r                          \\rClustering: 14.42%\\r                          \\rClustering: 14.56%\\r                          \\rClustering: 14.72%\\r                          \\rClustering: 14.87%\\r                          \\rClustering: 15.02%\\r                          \\rClustering: 15.17%\\r                          \\rClustering: 15.33%\\r                          \\rClustering: 15.49%\\r                          \\rClustering: 15.65%\\r                          \\rClustering: 15.81%\\r                          \\rClustering: 15.97%\\r                          \\rClustering: 16.14%\\r                          \\rClustering: 16.31%\\r                          \\rClustering: 16.47%\\r                          \\rClustering: 16.64%\\r                          \\rClustering: 16.82%\\r                          \\rClustering: 16.98%\\r                          \\rClustering: 17.16%\\r                          \\rClustering: 17.34%\\r                          \\rClustering: 17.52%\\r                          \\rClustering: 17.70%\\r                          \\rClustering: 17.88%\\r                          \\rClustering: 18.07%\\r                          \\rClustering: 18.26%\\r                          \\rClustering: 18.45%\\r                          \\rClustering: 18.64%\\r                          \\rClustering: 18.83%\\r                          \\rClustering: 19.02%\\r                          \\rClustering: 19.21%\\r                          \\rClustering: 19.41%\\r                          \\rClustering: 19.61%\\r                          \\rClustering: 19.81%\\r                          \\rClustering: 20.01%\\r                          \\rClustering: 20.21%\\r                          \\rClustering: 20.41%\\r                          \\rClustering: 20.62%\\r                          \\rClustering: 20.83%\\r                          \\rClustering: 21.04%\\r                          \\rClustering: 21.26%\\r                          \\rClustering: 21.47%\\r                          \\rClustering: 21.70%\\r                          \\rClustering: 21.92%\\r                          \\rClustering: 22.14%\\r                          \\rClustering: 22.37%\\r                          \\rClustering: 22.60%\\r                          \\rClustering: 22.83%\\r                          \\rClustering: 23.06%\\r                          \\rClustering: 23.29%\\r                          \\rClustering: 23.53%\\r                          \\rClustering: 23.77%\\r                          \\rClustering: 24.01%\\r                          \\rClustering: 24.25%\\r                          \\rClustering: 24.50%\\r                          \\rClustering: 24.75%\\r                          \\rClustering: 24.99%\\r                          \\rClustering: 25.25%\\r                          \\rClustering: 25.50%\\r                          \\rClustering: 25.76%\\r                          \\rClustering: 26.03%\\r                          \\rClustering: 26.29%\\r                          \\rClustering: 26.55%\\r                          \\rClustering: 26.82%\\r                          \\rClustering: 27.09%\\r                          \\rClustering: 27.37%\\r                          \\rClustering: 27.64%\\r                          \\rClustering: 27.93%\\r                          \\rClustering: 28.21%\\r                          \\rClustering: 28.50%\\r                          \\rClustering: 28.79%\\r                          \\rClustering: 29.08%\\r                          \\rClustering: 29.37%\\r                          \\rClustering: 29.67%\\r                          \\rClustering: 29.98%\\r                          \\rClustering: 30.28%\\r                          \\rClustering: 30.59%\\r                          \\rClustering: 30.90%\\r                          \\rClustering: 31.22%\\r                          \\rClustering: 31.54%\\r                          \\rClustering: 31.85%\\r                          \\rClustering: 32.17%\\r                          \\rClustering: 32.50%\\r                          \\rClustering: 32.83%\\r                          \\rClustering: 33.17%\\r                          \\rClustering: 33.50%\\r                          \\rClustering: 33.85%\\r                          \\rClustering: 34.19%\\r                          \\rClustering: 34.54%\\r                          \\rClustering: 34.89%\\r                          \\rClustering: 35.24%\\r                          \\rClustering: 35.60%\\r                          \\rClustering: 35.95%\\r                          \\rClustering: 36.32%\\r                          \\rClustering: 36.69%\\r                          \\rClustering: 37.05%\\r                          \\rClustering: 37.43%\\r                          \\rClustering: 37.81%\\r                          \\rClustering: 38.19%\\r                          \\rClustering: 38.58%\\r                          \\rClustering: 38.97%\\r                          \\rClustering: 39.36%\\r                          \\rClustering: 39.76%\\r                          \\rClustering: 40.16%\\r                          \\rClustering: 40.57%\\r                          \\rClustering: 40.98%\\r                          \\rClustering: 41.40%\\r                          \\rClustering: 41.82%\\r                          \\rClustering: 42.24%\\r                          \\rClustering: 42.67%\\r                          \\rClustering: 43.11%\\r                          \\rClustering: 43.55%\\r                          \\rClustering: 43.99%\\r                          \\rClustering: 44.43%\\r                          \\rClustering: 44.88%\\r                          \\rClustering: 45.33%\\r                          \\rClustering: 45.79%\\r                          \\rClustering: 46.25%\\r                          \\rClustering: 46.72%\\r                          \\rClustering: 47.19%\\r                          \\rClustering: 47.66%\\r                          \\rClustering: 48.14%\\r                          \\rClustering: 48.63%\\r                          \\rClustering: 49.12%\\r                          \\rClustering: 49.62%\\r                          \\rClustering: 50.12%\\r                          \\rClustering: 50.63%\\r                          \\rClustering: 51.14%\\r                          \\rClustering: 51.66%\\r                          \\rClustering: 52.18%\\r                          \\rClustering: 52.70%\\r                          \\rClustering: 53.23%\\r                          \\rClustering: 53.79%\\r                          \\rClustering: 54.33%\\r                          \\rClustering: 54.87%\\r                          \\rClustering: 55.43%\\r                          \\rClustering: 55.98%\\r                          \\rClustering: 56.55%\\r                          \\rClustering: 57.12%\\r                          \\rClustering: 57.69%\\r                          \\rClustering: 58.28%\\r                          \\rClustering: 58.87%\\r                          \\rClustering: 59.47%\\r                          \\rClustering: 60.07%\\r                          \\rClustering: 60.69%\\r                          \\rClustering: 61.29%\\r                          \\rClustering: 61.91%\\r                          \\rClustering: 62.53%\\r                          \\rClustering: 63.16%\\r                          \\rClustering: 63.80%\\r                          \\rClustering: 64.44%\\r                          \\rClustering: 65.08%\\r                          \\rClustering: 65.74%\\r                          \\rClustering: 66.40%\\r                          \\rClustering: 67.07%\\r                          \\rClustering: 67.75%\\r                          \\rClustering: 68.44%\\r                          \\rClustering: 69.13%\\r                          \\rClustering: 69.82%\\r                          \\rClustering: 70.53%\\r                          \\rClustering: 71.24%\\r                          \\rClustering: 71.96%\\r                          \\rClustering: 72.68%\\r                          \\rClustering: 73.41%\\r                          \\rClustering: 74.15%\\r                          \\rClustering: 74.90%\\r                          \\rClustering: 75.64%\\r                          \\rClustering: 76.40%\\r                          \\rClustering: 77.17%\\r                          \\rClustering: 77.95%\\r                          \\rClustering: 78.73%\\r                          \\rClustering: 79.52%\\r                          \\rClustering: 80.33%\\r                          \\rClustering: 81.15%\\r                          \\rClustering: 81.97%\\r                          \\rClustering: 82.79%\\r                          \\rClustering: 83.62%\\r                          \\rClustering: 84.46%\\r                          \\rClustering: 85.31%\\r                          \\rClustering: 86.16%\\r                          \\rClustering: 87.03%\\r                          \\rClustering: 87.91%\\r                          \\rClustering: 88.80%\\r                          \\rClustering: 89.69%\\r                          \\rClustering: 90.59%\\r                          \\rClustering: 91.50%\\r                          \\rClustering: 92.42%\\r                          \\rClustering: 93.35%\\r                          \\rClustering: 94.29%\\r                          \\rClustering: 95.24%\\r                          \\rClustering: 96.19%\\r                          \\rClustering: 97.17%\\r                          \\rClustering: 98.15%\\r                          \\rClustering: 99.13%\\rDone'\n",
      "b'Adding singles...'\n"
     ]
    },
    {
     "name": "stdout",
     "output_type": "stream",
     "text": [
      "b'[OUTPUT] -> written to ph_ctg_516.proteinortho'\n",
      "b'Writing graph...'\n",
      "b'Cleaning edge list...'\n",
      "b'Removed 16 / 12228 edges'\n",
      "b'Done.'\n",
      "b'[OUTPUT] -> written to ph_ctg_516.proteinortho-graph'\n",
      "b''\n",
      "b'Clustering by gene-order (POFF mode)'\n",
      "b'Reading ph_ctg_516.ffadj-graph'\n",
      "b'2 species'\n",
      "b'21723 paired proteins'\n",
      "b'11007 bidirectional edges'\n",
      "b'\\r                          \\rClustering: 0.01%\\r                          \\rClustering: 0.02%\\r                          \\rClustering: 0.03%\\r                          \\rClustering: 0.04%\\r                          \\rClustering: 0.05%\\r                          \\rClustering: 0.06%\\r                          \\rClustering: 0.06%\\r                          \\rClustering: 0.07%\\r                          \\rClustering: 0.08%\\r                          \\rClustering: 0.09%\\r                          \\rClustering: 0.10%\\r                          \\rClustering: 0.11%\\r                          \\rClustering: 0.12%\\r                          \\rClustering: 0.13%\\r                          \\rClustering: 0.14%\\r                          \\rClustering: 0.15%\\r                          \\rClustering: 0.16%\\r                          \\rClustering: 0.17%\\r                          \\rClustering: 0.17%\\r                          \\rClustering: 0.18%\\r                          \\rClustering: 0.19%\\r                          \\rClustering: 0.20%\\r                          \\rClustering: 0.21%\\r                          \\rClustering: 0.22%\\r                          \\rClustering: 0.23%\\r                          \\rClustering: 0.24%\\r                          \\rClustering: 0.25%\\r                          \\rClustering: 0.26%\\r                          \\rClustering: 0.27%\\r                          \\rClustering: 0.28%\\r                          \\rClustering: 0.29%\\r                          \\rClustering: 0.29%\\r                          \\rClustering: 0.30%\\r                          \\rClustering: 0.31%\\r                          \\rClustering: 0.32%\\r                          \\rClustering: 0.33%\\r                          \\rClustering: 0.34%\\r                          \\rClustering: 0.35%\\r                          \\rClustering: 0.36%\\r                          \\rClustering: 0.37%\\r                          \\rClustering: 0.38%\\r                          \\rClustering: 0.39%\\r                          \\rClustering: 0.40%\\r                          \\rClustering: 0.41%\\r                          \\rClustering: 0.41%\\r                          \\rClustering: 0.42%\\r                          \\rClustering: 0.43%\\r                          \\rClustering: 0.44%\\r                          \\rClustering: 0.45%\\r                          \\rClustering: 0.46%\\r                          \\rClustering: 0.47%\\r                          \\rClustering: 0.48%\\r                          \\rClustering: 0.49%\\r                          \\rClustering: 0.50%\\r                          \\rClustering: 0.51%\\r                          \\rClustering: 0.52%\\r                          \\rClustering: 0.52%\\r                          \\rClustering: 0.53%\\r                          \\rClustering: 0.54%\\r                          \\rClustering: 0.55%\\r                          \\rClustering: 0.56%\\r                          \\rClustering: 0.57%\\r                          \\rClustering: 0.58%\\r                          \\rClustering: 0.59%\\r                          \\rClustering: 0.60%\\r                          \\rClustering: 0.61%\\r                          \\rClustering: 0.62%\\r                          \\rClustering: 0.63%\\r                          \\rClustering: 0.64%\\r                          \\rClustering: 0.64%\\r                          \\rClustering: 0.65%\\r                          \\rClustering: 0.66%\\r                          \\rClustering: 0.67%\\r                          \\rClustering: 0.68%\\r                          \\rClustering: 0.69%\\r                          \\rClustering: 0.70%\\r                          \\rClustering: 0.71%\\r                          \\rClustering: 0.72%\\r                          \\rClustering: 0.73%\\r                          \\rClustering: 0.74%\\r                          \\rClustering: 0.75%\\r                          \\rClustering: 0.75%\\r                          \\rClustering: 0.76%\\r                          \\rClustering: 0.77%\\r                          \\rClustering: 0.78%\\r                          \\rClustering: 0.79%\\r                          \\rClustering: 0.80%\\r                          \\rClustering: 0.81%\\r                          \\rClustering: 0.82%\\r                          \\rClustering: 0.83%\\r                          \\rClustering: 0.84%\\r                          \\rClustering: 0.85%\\r                          \\rClustering: 0.86%\\r                          \\rClustering: 0.87%\\r                          \\rClustering: 0.87%\\r                          \\rClustering: 0.88%\\r                          \\rClustering: 0.89%\\r                          \\rClustering: 0.90%\\r                          \\rClustering: 0.91%\\r                          \\rClustering: 0.92%\\r                          \\rClustering: 0.94%\\r                          \\rClustering: 0.96%\\r                          \\rClustering: 0.98%\\r                          \\rClustering: 0.99%\\r                          \\rClustering: 1.01%\\r                          \\rClustering: 1.03%\\r                          \\rClustering: 1.05%\\r                          \\rClustering: 1.07%\\r                          \\rClustering: 1.09%\\r                          \\rClustering: 1.10%\\r                          \\rClustering: 1.12%\\r                          \\rClustering: 1.14%\\r                          \\rClustering: 1.16%\\r                          \\rClustering: 1.18%\\r                          \\rClustering: 1.20%\\r                          \\rClustering: 1.22%\\r                          \\rClustering: 1.23%\\r                          \\rClustering: 1.25%\\r                          \\rClustering: 1.27%\\r                          \\rClustering: 1.29%\\r                          \\rClustering: 1.31%\\r                          \\rClustering: 1.33%\\r                          \\rClustering: 1.34%\\r                          \\rClustering: 1.36%\\r                          \\rClustering: 1.38%\\r                          \\rClustering: 1.40%\\r                          \\rClustering: 1.42%\\r                          \\rClustering: 1.44%\\r                          \\rClustering: 1.45%\\r                          \\rClustering: 1.47%\\r                          \\rClustering: 1.49%\\r                          \\rClustering: 1.51%\\r                          \\rClustering: 1.53%\\r                          \\rClustering: 1.55%\\r                          \\rClustering: 1.57%\\r                          \\rClustering: 1.58%\\r                          \\rClustering: 1.60%\\r                          \\rClustering: 1.62%\\r                          \\rClustering: 1.64%\\r                          \\rClustering: 1.66%\\r                          \\rClustering: 1.68%\\r                          \\rClustering: 1.69%\\r                          \\rClustering: 1.71%\\r                          \\rClustering: 1.73%\\r                          \\rClustering: 1.75%\\r                          \\rClustering: 1.77%\\r                          \\rClustering: 1.79%\\r                          \\rClustering: 1.80%\\r                          \\rClustering: 1.82%\\r                          \\rClustering: 1.84%\\r                          \\rClustering: 1.87%\\r                          \\rClustering: 1.90%\\r                          \\rClustering: 1.92%\\r                          \\rClustering: 1.95%\\r                          \\rClustering: 1.98%\\r                          \\rClustering: 2.01%\\r                          \\rClustering: 2.03%\\r                          \\rClustering: 2.06%\\r                          \\rClustering: 2.09%\\r                          \\rClustering: 2.12%\\r                          \\rClustering: 2.15%\\r                          \\rClustering: 2.17%\\r                          \\rClustering: 2.20%\\r                          \\rClustering: 2.23%\\r                          \\rClustering: 2.26%\\r                          \\rClustering: 2.28%\\r                          \\rClustering: 2.31%\\r                          \\rClustering: 2.34%\\r                          \\rClustering: 2.37%\\r                          \\rClustering: 2.39%\\r                          \\rClustering: 2.42%\\r                          \\rClustering: 2.45%\\r                          \\rClustering: 2.48%\\r                          \\rClustering: 2.50%\\r                          \\rClustering: 2.53%\\r                          \\rClustering: 2.56%\\r                          \\rClustering: 2.59%\\r                          \\rClustering: 2.61%\\r                          \\rClustering: 2.64%\\r                          \\rClustering: 2.67%\\r                          \\rClustering: 2.70%\\r                          \\rClustering: 2.73%\\r                          \\rClustering: 2.75%\\r                          \\rClustering: 2.78%\\r                          \\rClustering: 2.82%\\r                          \\rClustering: 2.85%\\r                          \\rClustering: 2.89%\\r                          \\rClustering: 2.93%\\r                          \\rClustering: 2.96%\\r                          \\rClustering: 3.00%\\r                          \\rClustering: 3.04%\\r                          \\rClustering: 3.09%\\r                          \\rClustering: 3.13%\\r                          \\rClustering: 3.16%\\r                          \\rClustering: 3.19%\\r                          \\rClustering: 3.23%\\r                          \\rClustering: 3.27%\\r                          \\rClustering: 3.31%\\r                          \\rClustering: 3.34%\\r                          \\rClustering: 3.38%\\r                          \\rClustering: 3.42%\\r                          \\rClustering: 3.45%\\r                          \\rClustering: 3.49%\\r                          \\rClustering: 3.53%\\r                          \\rClustering: 3.56%\\r                          \\rClustering: 3.60%\\r                          \\rClustering: 3.64%\\r                          \\rClustering: 3.67%\\r                          \\rClustering: 3.71%\\r                          \\rClustering: 3.76%\\r                          \\rClustering: 3.80%\\r                          \\rClustering: 3.85%\\r                          \\rClustering: 3.89%\\r                          \\rClustering: 3.94%\\r                          \\rClustering: 3.99%\\r                          \\rClustering: 4.03%\\r                          \\rClustering: 4.08%\\r                          \\rClustering: 4.12%\\r                          \\rClustering: 4.17%\\r                          \\rClustering: 4.22%\\r                          \\rClustering: 4.26%\\r                          \\rClustering: 4.31%\\r                          \\rClustering: 4.35%\\r                          \\rClustering: 4.40%\\r                          \\rClustering: 4.45%\\r                          \\rClustering: 4.49%\\r                          \\rClustering: 4.54%\\r                          \\rClustering: 4.59%\\r                          \\rClustering: 4.63%\\r                          \\rClustering: 4.69%\\r                          \\rClustering: 4.74%\\r                          \\rClustering: 4.79%\\r                          \\rClustering: 4.85%\\r                          \\rClustering: 4.90%\\r                          \\rClustering: 4.96%\\r                          \\rClustering: 5.01%\\r                          \\rClustering: 5.07%\\r                          \\rClustering: 5.12%\\r                          \\rClustering: 5.18%\\r                          \\rClustering: 5.23%\\r                          \\rClustering: 5.29%\\r                          \\rClustering: 5.34%\\r                          \\rClustering: 5.40%\\r                          \\rClustering: 5.46%\\r                          \\rClustering: 5.51%\\r                          \\rClustering: 5.57%\\r                          \\rClustering: 5.63%\\r                          \\rClustering: 5.69%\\r                          \\rClustering: 5.76%\\r                          \\rClustering: 5.82%\\r                          \\rClustering: 5.89%\\r                          \\rClustering: 5.95%\\r                          \\rClustering: 6.02%\\r                          \\rClustering: 6.08%\\r                          \\rClustering: 6.15%\\r                          \\rClustering: 6.21%\\r                          \\rClustering: 6.27%\\r                          \\rClustering: 6.34%\\r                          \\rClustering: 6.40%\\r                          \\rClustering: 6.47%\\r                          \\rClustering: 6.54%\\r                          \\rClustering: 6.62%\\r                          \\rClustering: 6.69%\\r                          \\rClustering: 6.76%\\r                          \\rClustering: 6.84%\\r                          \\rClustering: 6.91%\\r                          \\rClustering: 6.98%\\r                          \\rClustering: 7.06%\\r                          \\rClustering: 7.13%\\r                          \\rClustering: 7.20%\\r                          \\rClustering: 7.28%\\r                          \\rClustering: 7.35%\\r                          \\rClustering: 7.43%\\r                          \\rClustering: 7.51%\\r                          \\rClustering: 7.59%\\r                          \\rClustering: 7.67%\\r                          \\rClustering: 7.75%\\r                          \\rClustering: 7.84%\\r                          \\rClustering: 7.92%\\r                          \\rClustering: 8.00%\\r                          \\rClustering: 8.08%\\r                          \\rClustering: 8.17%\\r                          \\rClustering: 8.25%\\r                          \\rClustering: 8.33%\\r                          \\rClustering: 8.42%\\r                          \\rClustering: 8.52%\\r                          \\rClustering: 8.60%\\r                          \\rClustering: 8.70%\\r                          \\rClustering: 8.79%\\r                          \\rClustering: 8.88%\\r                          \\rClustering: 8.97%\\r                          \\rClustering: 9.06%\\r                          \\rClustering: 9.16%\\r                          \\rClustering: 9.25%\\r                          \\rClustering: 9.35%\\r                          \\rClustering: 9.45%\\r                          \\rClustering: 9.55%\\r                          \\rClustering: 9.65%\\r                          \\rClustering: 9.75%\\r                          \\rClustering: 9.85%\\r                          \\rClustering: 9.95%\\r                          \\rClustering: 10.05%\\r                          \\rClustering: 10.16%\\r                          \\rClustering: 10.27%\\r                          \\rClustering: 10.38%\\r                          \\rClustering: 10.49%\\r                          \\rClustering: 10.60%\\r                          \\rClustering: 10.71%\\r                          \\rClustering: 10.82%\\r                          \\rClustering: 10.93%\\r                          \\rClustering: 11.04%\\r                          \\rClustering: 11.15%\\r                          \\rClustering: 11.27%\\r                          \\rClustering: 11.39%\\r                          \\rClustering: 11.51%\\r                          \\rClustering: 11.63%\\r                          \\rClustering: 11.75%\\r                          \\rClustering: 11.87%\\r                          \\rClustering: 11.99%\\r                          \\rClustering: 12.11%\\r                          \\rClustering: 12.24%\\r                          \\rClustering: 12.37%\\r                          \\rClustering: 12.50%\\r                          \\rClustering: 12.63%\\r                          \\rClustering: 12.76%\\r                          \\rClustering: 12.88%\\r                          \\rClustering: 13.01%\\r                          \\rClustering: 13.15%\\r                          \\rClustering: 13.29%\\r                          \\rClustering: 13.43%\\r                          \\rClustering: 13.57%\\r                          \\rClustering: 13.70%\\r                          \\rClustering: 13.84%\\r                          \\rClustering: 13.99%\\r                          \\rClustering: 14.14%\\r                          \\rClustering: 14.28%\\r                          \\rClustering: 14.43%\\r                          \\rClustering: 14.58%\\r                          \\rClustering: 14.73%\\r                          \\rClustering: 14.87%\\r                          \\rClustering: 15.03%\\r                          \\rClustering: 15.19%\\r                          \\rClustering: 15.34%\\r                          \\rClustering: 15.50%\\r                          \\rClustering: 15.65%\\r                          \\rClustering: 15.82%\\r                          \\rClustering: 15.98%\\r                          \\rClustering: 16.15%\\r                          \\rClustering: 16.31%\\r                          \\rClustering: 16.48%\\r                          \\rClustering: 16.65%\\r                          \\rClustering: 16.82%\\r                          \\rClustering: 17.00%\\r                          \\rClustering: 17.17%\\r                          \\rClustering: 17.35%\\r                          \\rClustering: 17.52%\\r                          \\rClustering: 17.70%\\r                          \\rClustering: 17.90%\\r                          \\rClustering: 18.08%\\r                          \\rClustering: 18.26%\\r                          \\rClustering: 18.45%\\r                          \\rClustering: 18.64%\\r                          \\rClustering: 18.84%\\r                          \\rClustering: 19.03%\\r                          \\rClustering: 19.22%\\r                          \\rClustering: 19.42%\\r                          \\rClustering: 19.62%\\r                          \\rClustering: 19.82%\\r                          \\rClustering: 20.02%\\r                          \\rClustering: 20.23%\\r                          \\rClustering: 20.43%\\r                          \\rClustering: 20.65%\\r                          \\rClustering: 20.86%\\r                          \\rClustering: 21.07%\\r                          \\rClustering: 21.28%\\r                          \\rClustering: 21.50%\\r                          \\rClustering: 21.72%\\r                          \\rClustering: 21.94%\\r                          \\rClustering: 22.17%\\r                          \\rClustering: 22.40%\\r                          \\rClustering: 22.63%\\r                          \\rClustering: 22.86%\\r                          \\rClustering: 23.09%\\r                          \\rClustering: 23.33%\\r                          \\rClustering: 23.56%\\r                          \\rClustering: 23.80%\\r                          \\rClustering: 24.04%\\r                          \\rClustering: 24.29%\\r                          \\rClustering: 24.53%\\r                          \\rClustering: 24.78%\\r                          \\rClustering: 25.03%\\r                          \\rClustering: 25.29%\\r                          \\rClustering: 25.54%\\r                          \\rClustering: 25.80%\\r                          \\rClustering: 26.07%\\r                          \\rClustering: 26.34%\\r                          \\rClustering: 26.60%\\r                          \\rClustering: 26.87%\\r                          \\rClustering: 27.15%\\r                          \\rClustering: 27.42%\\r                          \\rClustering: 27.70%\\r                          \\rClustering: 27.98%\\r                          \\rClustering: 28.27%\\r                          \\rClustering: 28.55%\\r                          \\rClustering: 28.85%\\r                          \\rClustering: 29.14%\\r                          \\rClustering: 29.44%\\r                          \\rClustering: 29.73%\\r                          \\rClustering: 30.03%\\r                          \\rClustering: 30.34%\\r                          \\rClustering: 30.64%\\r                          \\rClustering: 30.95%\\r                          \\rClustering: 31.27%\\r                          \\rClustering: 31.58%\\r                          \\rClustering: 31.90%\\r                          \\rClustering: 32.22%\\r                          \\rClustering: 32.56%\\r                          \\rClustering: 32.89%\\r                          \\rClustering: 33.22%\\r                          \\rClustering: 33.56%\\r                          \\rClustering: 33.90%\\r                          \\rClustering: 34.24%\\r                          \\rClustering: 34.59%\\r                          \\rClustering: 34.94%\\r                          \\rClustering: 35.29%\\r                          \\rClustering: 35.64%\\r                          \\rClustering: 36.00%\\r                          \\rClustering: 36.37%\\r                          \\rClustering: 36.74%\\r                          \\rClustering: 37.11%\\r                          \\rClustering: 37.49%\\r                          \\rClustering: 37.86%\\r                          \\rClustering: 38.25%\\r                          \\rClustering: 38.64%\\r                          \\rClustering: 39.02%\\r                          \\rClustering: 39.42%\\r                          \\rClustering: 39.82%\\r                          \\rClustering: 40.22%\\r                          \\rClustering: 40.63%\\r                          \\rClustering: 41.05%\\r                          \\rClustering: 41.47%\\r                          \\rClustering: 41.89%\\r                          \\rClustering: 42.31%\\r                          \\rClustering: 42.74%\\r                          \\rClustering: 43.18%\\r                          \\rClustering: 43.61%\\r                          \\rClustering: 44.05%\\r                          \\rClustering: 44.49%\\r                          \\rClustering: 44.94%\\r                          \\rClustering: 45.39%\\r                          \\rClustering: 45.85%\\r                          \\rClustering: 46.31%\\r                          \\rClustering: 46.78%\\r                          \\rClustering: 47.26%\\r                          \\rClustering: 47.74%\\r                          \\rClustering: 48.22%\\r                          \\rClustering: 48.70%\\r                          \\rClustering: 49.19%\\r                          \\rClustering: 49.68%\\r                          \\rClustering: 50.18%\\r                          \\rClustering: 50.69%\\r                          \\rClustering: 51.20%\\r                          \\rClustering: 51.72%\\r                          \\rClustering: 52.25%\\r                          \\rClustering: 52.77%\\r                          \\rClustering: 53.30%\\r                          \\rClustering: 53.84%\\r                          \\rClustering: 54.38%\\r                          \\rClustering: 54.94%\\r                          \\rClustering: 55.49%\\r                          \\rClustering: 56.05%\\r                          \\rClustering: 56.61%\\r                          \\rClustering: 57.18%\\r                          \\rClustering: 57.76%\\r                          \\rClustering: 58.34%\\r                          \\rClustering: 58.93%\\r                          \\rClustering: 59.53%\\r                          \\rClustering: 60.13%\\r                          \\rClustering: 60.73%\\r                          \\rClustering: 61.34%\\r                          \\rClustering: 61.96%\\r                          \\rClustering: 62.58%\\r                          \\rClustering: 63.21%\\r                          \\rClustering: 63.85%\\r                          \\rClustering: 64.49%\\r                          \\rClustering: 65.14%\\r                          \\rClustering: 65.80%\\r                          \\rClustering: 66.46%\\r                          \\rClustering: 67.13%\\r                          \\rClustering: 67.80%\\r                          \\rClustering: 68.49%\\r                          \\rClustering: 69.18%\\r                          \\rClustering: 69.88%\\r                          \\rClustering: 70.58%\\r                          \\rClustering: 71.29%\\r                          \\rClustering: 72.00%\\r                          \\rClustering: 72.73%\\r                          \\rClustering: 73.46%\\r                          \\rClustering: 74.20%\\r                          \\rClustering: 74.94%\\r                          \\rClustering: 75.69%\\r                          \\rClustering: 76.45%\\r                          \\rClustering: 77.23%\\r                          \\rClustering: 78.00%\\r                          \\rClustering: 78.78%\\r                          \\rClustering: 79.58%\\r                          \\rClustering: 80.38%\\r                          \\rClustering: 81.19%\\r                          \\rClustering: 82.01%\\r                          \\rClustering: 82.83%\\r                          \\rClustering: 83.66%\\r                          \\rClustering: 84.50%\\r                          \\rClustering: 85.36%\\r                          \\rClustering: 86.21%\\r                          \\rClustering: 87.08%\\r                          \\rClustering: 87.95%\\r                          \\rClustering: 88.84%\\r                          \\rClustering: 89.73%\\r                          \\rClustering: 90.62%\\r                          \\rClustering: 91.53%\\r                          \\rClustering: 92.46%\\r                          \\rClustering: 93.38%\\r                          \\rClustering: 94.32%\\r                          \\rClustering: 95.27%\\r                          \\rClustering: 96.23%\\r                          \\rClustering: 97.19%\\r                          \\rClustering: 98.17%\\r                          \\rClustering: 99.16%\\rDone'\n",
      "b'Adding singles...'\n"
     ]
    },
    {
     "name": "stdout",
     "output_type": "stream",
     "text": [
      "b'[OUTPUT] -> written to ph_ctg_516.poff'\n",
      "b'Writing graph...'\n",
      "b'Cleaning edge list...'\n",
      "b'Removed 0 / 11007 edges'\n",
      "b'Done.'\n",
      "b'[OUTPUT] -> written to ph_ctg_516.poff-graph'\n",
      "b''\n",
      "b'All finished.'\n",
      "Proteinortho finished running.\n"
     ]
    }
   ],
   "source": [
    "os.chdir('/home/benjamin/genome_assembly/Warrior/RT_script_base/DK_0911-1/scripts')\n",
    "%run 'Pst_104E_proteinortho_RT.ipynb'"
   ]
  },
  {
   "cell_type": "code",
   "execution_count": 22,
   "metadata": {
    "ExecuteTime": {
     "end_time": "2018-02-19T04:57:42.194711Z",
     "start_time": "2018-02-19T04:57:42.152714Z"
    },
    "collapsed": true
   },
   "outputs": [],
   "source": [
    "poff_graph_header = ['Target', 'Query', 'evalue_ab', 'bitscore_ab', 'evalue_ba', 'bitscore_ba', 'same_strand' , 'simscore']\n",
    "po_df = pd.read_csv(poff_graph_fn, sep='\\t', header=None, names=poff_graph_header, comment='#' )\n"
   ]
  },
  {
   "cell_type": "code",
   "execution_count": 23,
   "metadata": {
    "ExecuteTime": {
     "end_time": "2018-02-19T04:57:42.204232Z",
     "start_time": "2018-02-19T04:57:42.197840Z"
    }
   },
   "outputs": [
    {
     "data": {
      "text/plain": [
       "11007"
      ]
     },
     "execution_count": 23,
     "metadata": {},
     "output_type": "execute_result"
    }
   ],
   "source": [
    "len(po_df)"
   ]
  },
  {
   "cell_type": "code",
   "execution_count": 24,
   "metadata": {
    "ExecuteTime": {
     "end_time": "2018-02-19T04:57:42.224019Z",
     "start_time": "2018-02-19T04:57:42.207128Z"
    },
    "collapsed": true,
    "scrolled": true
   },
   "outputs": [],
   "source": [
    "def reduceGroups(g, labels, maxBest):\n",
    "    '''returns the best hit based on e-value and BitScore per group'''\n",
    "    for label, maxBest in zip(labels, maxBest):\n",
    "        if len(g) == 1:\n",
    "            return g\n",
    "        if maxBest:\n",
    "            g = g[g[label] == g[label].max()]\n",
    "        else:\n",
    "            g = g[g[label] == g[label].min()]\n",
    "#     if len(g) > 1:\n",
    "#         print('Could not reduce group to 1 element. %s ' % g['Query'])\n",
    "    return g"
   ]
  },
  {
   "cell_type": "code",
   "execution_count": 25,
   "metadata": {
    "ExecuteTime": {
     "end_time": "2018-02-19T04:57:45.324452Z",
     "start_time": "2018-02-19T04:57:42.227058Z"
    }
   },
   "outputs": [
    {
     "name": "stdout",
     "output_type": "stream",
     "text": [
      "Index(['Query', 'Target', 'PctID', 'AlnLgth', 'NumMis', 'NumGap', 'StartQuery',\n",
      "       'StopQuery', 'StartTarget', 'StopTarget', 'e-value', 'BitScore',\n",
      "       'QLgth', 'QCov', 'TLgth', 'TCov', 'q_contig', 't_contig',\n",
      "       'q_contig == t_contig', 'p_protein', 'h_contig_overlap',\n",
      "       't_contig == h_contig_overlap', 'allele_source'],\n",
      "      dtype='object')\n"
     ]
    }
   ],
   "source": [
    "# Add a comparision column to po_df and _tmp_df\n",
    "po_df['comp'] = po_df['Query'] + po_df['Target']\n",
    "_tmp_df['comp'] = _tmp_df['Query'] + _tmp_df['Target']\n",
    "\n",
    "#here we need to sort on this new comp column and just keep the best hit\n",
    "#this should fix the issue\n",
    "\n",
    "\n",
    "#generate a new allele_source column\n",
    "_tmp_df['allele_source'] = 'BLAST'\n",
    "_tmp_df.loc[_tmp_df[_tmp_df.comp.isin(po_df.comp.unique())].index, 'allele_source' ] = 'PO'\n",
    "#now drop the comp column again\n",
    "_tmp_df = _tmp_df.drop('comp', 1)\n",
    "\n",
    "print(_tmp_df.columns)"
   ]
  },
  {
   "cell_type": "code",
   "execution_count": 26,
   "metadata": {
    "ExecuteTime": {
     "end_time": "2018-02-19T04:57:45.380343Z",
     "start_time": "2018-02-19T04:57:45.328341Z"
    }
   },
   "outputs": [
    {
     "data": {
      "text/html": [
       "<div>\n",
       "<style>\n",
       "    .dataframe thead tr:only-child th {\n",
       "        text-align: right;\n",
       "    }\n",
       "\n",
       "    .dataframe thead th {\n",
       "        text-align: left;\n",
       "    }\n",
       "\n",
       "    .dataframe tbody tr th {\n",
       "        vertical-align: top;\n",
       "    }\n",
       "</style>\n",
       "<table border=\"1\" class=\"dataframe\">\n",
       "  <thead>\n",
       "    <tr style=\"text-align: right;\">\n",
       "      <th></th>\n",
       "      <th>Query</th>\n",
       "      <th>Target</th>\n",
       "      <th>PctID</th>\n",
       "      <th>AlnLgth</th>\n",
       "      <th>NumMis</th>\n",
       "      <th>NumGap</th>\n",
       "      <th>StartQuery</th>\n",
       "      <th>StopQuery</th>\n",
       "      <th>StartTarget</th>\n",
       "      <th>StopTarget</th>\n",
       "      <th>...</th>\n",
       "      <th>QCov</th>\n",
       "      <th>TLgth</th>\n",
       "      <th>TCov</th>\n",
       "      <th>q_contig</th>\n",
       "      <th>t_contig</th>\n",
       "      <th>q_contig == t_contig</th>\n",
       "      <th>p_protein</th>\n",
       "      <th>h_contig_overlap</th>\n",
       "      <th>t_contig == h_contig_overlap</th>\n",
       "      <th>allele_source</th>\n",
       "    </tr>\n",
       "  </thead>\n",
       "  <tbody>\n",
       "    <tr>\n",
       "      <th>0</th>\n",
       "      <td>evm.model.pcontig_000.10</td>\n",
       "      <td>evm.model.hcontig_000_031.5</td>\n",
       "      <td>70.19</td>\n",
       "      <td>161</td>\n",
       "      <td>1</td>\n",
       "      <td>1</td>\n",
       "      <td>1</td>\n",
       "      <td>114</td>\n",
       "      <td>1</td>\n",
       "      <td>161</td>\n",
       "      <td>...</td>\n",
       "      <td>141.228</td>\n",
       "      <td>161</td>\n",
       "      <td>100</td>\n",
       "      <td>pcontig_000</td>\n",
       "      <td>hcontig_000_031</td>\n",
       "      <td>True</td>\n",
       "      <td>evm.model.pcontig_000.10</td>\n",
       "      <td>[hcontig_000_003, hcontig_000_031]</td>\n",
       "      <td>True</td>\n",
       "      <td>PO</td>\n",
       "    </tr>\n",
       "    <tr>\n",
       "      <th>1</th>\n",
       "      <td>evm.model.pcontig_000.10</td>\n",
       "      <td>evm.model.hcontig_000_003.11</td>\n",
       "      <td>59.68</td>\n",
       "      <td>124</td>\n",
       "      <td>3</td>\n",
       "      <td>1</td>\n",
       "      <td>1</td>\n",
       "      <td>77</td>\n",
       "      <td>1</td>\n",
       "      <td>124</td>\n",
       "      <td>...</td>\n",
       "      <td>108.772</td>\n",
       "      <td>219</td>\n",
       "      <td>56.621</td>\n",
       "      <td>pcontig_000</td>\n",
       "      <td>hcontig_000_003</td>\n",
       "      <td>True</td>\n",
       "      <td>evm.model.pcontig_000.10</td>\n",
       "      <td>[hcontig_000_003, hcontig_000_031]</td>\n",
       "      <td>True</td>\n",
       "      <td>BLAST</td>\n",
       "    </tr>\n",
       "    <tr>\n",
       "      <th>2</th>\n",
       "      <td>evm.model.pcontig_000.100</td>\n",
       "      <td>evm.model.hcontig_000_003.107</td>\n",
       "      <td>99.21</td>\n",
       "      <td>1141</td>\n",
       "      <td>9</td>\n",
       "      <td>0</td>\n",
       "      <td>1</td>\n",
       "      <td>1141</td>\n",
       "      <td>1</td>\n",
       "      <td>1141</td>\n",
       "      <td>...</td>\n",
       "      <td>99.7378</td>\n",
       "      <td>1163</td>\n",
       "      <td>98.1083</td>\n",
       "      <td>pcontig_000</td>\n",
       "      <td>hcontig_000_003</td>\n",
       "      <td>True</td>\n",
       "      <td>evm.model.pcontig_000.100</td>\n",
       "      <td>[hcontig_000_003]</td>\n",
       "      <td>True</td>\n",
       "      <td>PO</td>\n",
       "    </tr>\n",
       "    <tr>\n",
       "      <th>3</th>\n",
       "      <td>evm.model.pcontig_000.100</td>\n",
       "      <td>evm.model.hcontig_000_003.112</td>\n",
       "      <td>72.12</td>\n",
       "      <td>104</td>\n",
       "      <td>13</td>\n",
       "      <td>1</td>\n",
       "      <td>473</td>\n",
       "      <td>576</td>\n",
       "      <td>4</td>\n",
       "      <td>91</td>\n",
       "      <td>...</td>\n",
       "      <td>9.09091</td>\n",
       "      <td>122</td>\n",
       "      <td>85.2459</td>\n",
       "      <td>pcontig_000</td>\n",
       "      <td>hcontig_000_003</td>\n",
       "      <td>True</td>\n",
       "      <td>evm.model.pcontig_000.100</td>\n",
       "      <td>[hcontig_000_003]</td>\n",
       "      <td>True</td>\n",
       "      <td>BLAST</td>\n",
       "    </tr>\n",
       "    <tr>\n",
       "      <th>4</th>\n",
       "      <td>evm.model.pcontig_000.101</td>\n",
       "      <td>evm.model.hcontig_000_003.108</td>\n",
       "      <td>89.03</td>\n",
       "      <td>237</td>\n",
       "      <td>20</td>\n",
       "      <td>1</td>\n",
       "      <td>1</td>\n",
       "      <td>231</td>\n",
       "      <td>1</td>\n",
       "      <td>237</td>\n",
       "      <td>...</td>\n",
       "      <td>102.597</td>\n",
       "      <td>237</td>\n",
       "      <td>100</td>\n",
       "      <td>pcontig_000</td>\n",
       "      <td>hcontig_000_003</td>\n",
       "      <td>True</td>\n",
       "      <td>evm.model.pcontig_000.101</td>\n",
       "      <td>[hcontig_000_003]</td>\n",
       "      <td>True</td>\n",
       "      <td>PO</td>\n",
       "    </tr>\n",
       "  </tbody>\n",
       "</table>\n",
       "<p>5 rows × 23 columns</p>\n",
       "</div>"
      ],
      "text/plain": [
       "                       Query                         Target  PctID AlnLgth  \\\n",
       "0   evm.model.pcontig_000.10    evm.model.hcontig_000_031.5  70.19     161   \n",
       "1   evm.model.pcontig_000.10   evm.model.hcontig_000_003.11  59.68     124   \n",
       "2  evm.model.pcontig_000.100  evm.model.hcontig_000_003.107  99.21    1141   \n",
       "3  evm.model.pcontig_000.100  evm.model.hcontig_000_003.112  72.12     104   \n",
       "4  evm.model.pcontig_000.101  evm.model.hcontig_000_003.108  89.03     237   \n",
       "\n",
       "  NumMis NumGap StartQuery StopQuery StartTarget StopTarget      ...       \\\n",
       "0      1      1          1       114           1        161      ...        \n",
       "1      3      1          1        77           1        124      ...        \n",
       "2      9      0          1      1141           1       1141      ...        \n",
       "3     13      1        473       576           4         91      ...        \n",
       "4     20      1          1       231           1        237      ...        \n",
       "\n",
       "      QCov TLgth     TCov     q_contig         t_contig q_contig == t_contig  \\\n",
       "0  141.228   161      100  pcontig_000  hcontig_000_031                 True   \n",
       "1  108.772   219   56.621  pcontig_000  hcontig_000_003                 True   \n",
       "2  99.7378  1163  98.1083  pcontig_000  hcontig_000_003                 True   \n",
       "3  9.09091   122  85.2459  pcontig_000  hcontig_000_003                 True   \n",
       "4  102.597   237      100  pcontig_000  hcontig_000_003                 True   \n",
       "\n",
       "                   p_protein                    h_contig_overlap  \\\n",
       "0   evm.model.pcontig_000.10  [hcontig_000_003, hcontig_000_031]   \n",
       "1   evm.model.pcontig_000.10  [hcontig_000_003, hcontig_000_031]   \n",
       "2  evm.model.pcontig_000.100                   [hcontig_000_003]   \n",
       "3  evm.model.pcontig_000.100                   [hcontig_000_003]   \n",
       "4  evm.model.pcontig_000.101                   [hcontig_000_003]   \n",
       "\n",
       "   t_contig == h_contig_overlap allele_source  \n",
       "0                          True            PO  \n",
       "1                          True         BLAST  \n",
       "2                          True            PO  \n",
       "3                          True         BLAST  \n",
       "4                          True            PO  \n",
       "\n",
       "[5 rows x 23 columns]"
      ]
     },
     "execution_count": 26,
     "metadata": {},
     "output_type": "execute_result"
    }
   ],
   "source": [
    "_tmp_df.head()"
   ]
  },
  {
   "cell_type": "code",
   "execution_count": 27,
   "metadata": {
    "ExecuteTime": {
     "end_time": "2018-02-19T04:58:31.224018Z",
     "start_time": "2018-02-19T04:57:45.383360Z"
    }
   },
   "outputs": [
    {
     "name": "stdout",
     "output_type": "stream",
     "text": [
      "284007\n"
     ]
    }
   ],
   "source": [
    "print(len(_tmp_df))\n",
    "no_PO_df = _tmp_df[_tmp_df['allele_source'] == 'BLAST']\n",
    "PO_df = _tmp_df[_tmp_df['allele_source'] == 'PO']\n",
    "no_PO_df = no_PO_df.groupby('Query').apply(lambda g: reduceGroups(g, ['e-value', 'BitScore'], [False, True]))\n",
    "_tmp_df = no_PO_df.append(PO_df, ignore_index=True)\n",
    "#now remove hits of the dataframe where query and target are the same\n",
    "_tmp_df.drop_duplicates(['Query', 'Target'], inplace=True)"
   ]
  },
  {
   "cell_type": "code",
   "execution_count": 28,
   "metadata": {
    "ExecuteTime": {
     "end_time": "2018-02-19T04:58:31.839207Z",
     "start_time": "2018-02-19T04:58:31.227911Z"
    },
    "collapsed": true
   },
   "outputs": [],
   "source": [
    "_tmp_df.to_csv(os.path.join(ALLELE_PATH, P_GENOME + '.full_df.alleles'), sep='\\t', index=None)"
   ]
  },
  {
   "cell_type": "code",
   "execution_count": 29,
   "metadata": {
    "ExecuteTime": {
     "end_time": "2018-02-19T04:59:57.209280Z",
     "start_time": "2018-02-19T04:58:31.842457Z"
    },
    "collapsed": true
   },
   "outputs": [],
   "source": [
    "htgOnPctgBlast = pd.read_csv(os.path.join(OUT_PATH, '%s.%s.0.001.blastp.outfmt6' % (H_GENOME, P_GENOME)), sep='\\t', index_col=None, header=None, names=blast_header)\n",
    "htgOnPctgBlast['QLgth'] = htgOnPctgBlast['Query'].apply(lambda x: length_dict[x])\n",
    "\n",
    "## for the h on p BLAST, calculating QCov=AlnLgth/QLgth*100% provides a misleading figure,\n",
    "## as the Query becomes the haplotig, which is shorter than the primary contig.\n",
    "## Thus we also calculate: TCov=AlnLgth/TLgth*100% (i.e. alignment/(primary protein length))\n",
    "htgOnPctgBlast['QCov'] = htgOnPctgBlast['AlnLgth']/htgOnPctgBlast['QLgth']*100\n",
    "htgOnPctgBlast['TLgth'] = htgOnPctgBlast['Target'].map(length_dict)\n",
    "htgOnPctgBlast['TCov'] = htgOnPctgBlast['AlnLgth']/htgOnPctgBlast['TLgth']*100\n",
    "\n",
    "htgOnPctgBlast['q_contig'] = htgOnPctgBlast['Query'].str.extract(r'([p|h][a-z]*_[^.]*).?', expand = False)\n",
    "htgOnPctgBlast['t_contig'] = htgOnPctgBlast['Target'].str.extract(r'([p|h][a-z]*_[^.]*).?', expand = False)\n",
    "\n",
    "htgOnPctgBlast['q_contig == t_contig'] = htgOnPctgBlast.apply(lambda row: same_contig_blast(row['Query'], row['Target']), axis = 1)\n",
    "htgOnPctgBlast.reset_index(inplace=True, drop=True)\n",
    "\n",
    "#get out the p_protein on h_protein blast out dataframe and append the h_contig overlap for each protein\n",
    "p_gene_h_contig_overlap_df = pd.DataFrame([h_gene_p_contig_overlap_dict.keys(), h_gene_p_contig_overlap_dict.values()],  index = ['p_protein', 'h_contig_overlap']).T\n",
    "\n",
    "htgOnPctgBlast = htgOnPctgBlast.merge(p_gene_h_contig_overlap_df, how='outer' ,left_on='q_contig', right_on='p_protein')\n",
    "htgOnPctgBlast['h_contig_overlap'].fillna(False, inplace=True)\n",
    "# check if the protein hit resides on the overlapping haplotig\n",
    "\n",
    "htgOnPctgBlast['t_contig == h_contig_overlap'] = htgOnPctgBlast.apply(lambda row: target_on_mapped_haplotig(row['Target'], row['h_contig_overlap']), axis = 1)\n",
    "htgOnPctgBlast['allele_source'] = 'h_rBLAST'\n",
    "htgOnPctgBlast = htgOnPctgBlast.groupby('Query').apply(lambda g: reduceGroups(g, ['e-value', 'BitScore'], [False, True]))\n",
    "\n",
    "#now remove hits of the dataframe where query and target are the same\n",
    "\n",
    "htgOnPctgBlast.drop_duplicates(['Query', 'Target'], inplace=True)"
   ]
  },
  {
   "cell_type": "code",
   "execution_count": 30,
   "metadata": {
    "ExecuteTime": {
     "end_time": "2018-02-19T04:59:59.198044Z",
     "start_time": "2018-02-19T04:59:57.213051Z"
    },
    "collapsed": true
   },
   "outputs": [],
   "source": [
    "htgOnPctgBlast.to_csv(os.path.join(ALLELE_PATH, H_GENOME + '.full_df.alleles'), sep='\\t', index=None, header=True)"
   ]
  },
  {
   "cell_type": "code",
   "execution_count": 31,
   "metadata": {
    "ExecuteTime": {
     "end_time": "2018-02-19T04:59:59.207670Z",
     "start_time": "2018-02-19T04:59:59.201726Z"
    },
    "collapsed": true
   },
   "outputs": [],
   "source": [
    "for boolean in _tmp_df.columns == htgOnPctgBlast.columns:\n",
    "    if boolean == False:\n",
    "        raise Exception('Both these DataFrames must have the same column headers for This script to work.')"
   ]
  },
  {
   "cell_type": "code",
   "execution_count": 32,
   "metadata": {
    "ExecuteTime": {
     "end_time": "2018-02-19T04:59:59.281194Z",
     "start_time": "2018-02-19T04:59:59.211336Z"
    },
    "collapsed": true
   },
   "outputs": [],
   "source": [
    "if _tmp_df[_tmp_df.allele_source == 'PO'].shape[0] == po_df.shape[0] == False:\n",
    "    raise Exception('Please check the proteinortho input and the blast input.\\\n",
    "    There are an incorrect number of allele pairings in the final dataframe.')"
   ]
  },
  {
   "cell_type": "code",
   "execution_count": null,
   "metadata": {
    "collapsed": true
   },
   "outputs": [],
   "source": []
  }
 ],
 "metadata": {
  "anaconda-cloud": {},
  "kernelspec": {
   "display_name": "Python [default]",
   "language": "python",
   "name": "python3"
  },
  "language_info": {
   "codemirror_mode": {
    "name": "ipython",
    "version": 3
   },
   "file_extension": ".py",
   "mimetype": "text/x-python",
   "name": "python",
   "nbconvert_exporter": "python",
   "pygments_lexer": "ipython3",
   "version": "3.5.3"
  }
 },
 "nbformat": 4,
 "nbformat_minor": 1
}
