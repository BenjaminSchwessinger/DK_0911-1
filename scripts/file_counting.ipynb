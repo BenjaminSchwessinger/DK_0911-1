{
 "cells": [
  {
   "cell_type": "code",
   "execution_count": null,
   "metadata": {},
   "outputs": [],
   "source": [
    "# CHECK IF MAPPING WENT CORRECTLY\n",
    "\n",
    "def getFileExtensions(cwd):\n",
    "    '''returns a list of all file extensions in a working directory, cwd'''\n",
    "    allFiles = os.walk(cwd)\n",
    "    exts = []\n",
    "    for walk_output in allFiles:\n",
    "        for file_name in walk_output[-1]:\n",
    "            exts.append(file_name.split(\".\")[-1])\n",
    "    return(exts)\n",
    "\n",
    "def getExtensionCounts(cwd, ignoreExts = []):\n",
    "    '''returns a dictionary of all file extensions and their occurrences\n",
    "    in a working directory, cwd. Does not count extensions in ignoreExts'''\n",
    "    d = {}\n",
    "    allFileExtensions = getFileExtensions(cwd)\n",
    "    for key in allFileExtensions:\n",
    "        if key not in d and key not in ignoreExts:\n",
    "            d[key] = allFileExtensions.count(key)\n",
    "    return d\n",
    "\n",
    "def getFolderName(folder_loc):\n",
    "    '''returns the folder name from a folder location'''\n",
    "    return folder_loc.split(\"/\")[-1]\n",
    "\n",
    "def getDiscrepancies(folder_loc, refDict):\n",
    "    '''returns a string describing all the file extension count discrepancies that\n",
    "    exist between a folder (at folder_loc) and a reference dictionary (refDict) of\n",
    "    file extensions (as from getExtensionCounts).'''\n",
    "    s = ''\n",
    "    fileExtensions = getFileExtensions(folder_loc)\n",
    "    for ext in refDict:\n",
    "        if refDict[ext] != fileExtensions.count(ext):\n",
    "            problem_folder = getFolderName(folder_loc)\n",
    "            s += ('%s: Discrepancy in *.%s files: %i vs %i [REF]\\n' %(problem_folder, ext, fileExtensions.count(ext), refDict[ext]))\n",
    "    return s"
   ]
  }
 ],
 "metadata": {
  "anaconda-cloud": {},
  "kernelspec": {
   "display_name": "Python [default]",
   "language": "python",
   "name": "python3"
  },
  "language_info": {
   "codemirror_mode": {
    "name": "ipython",
    "version": 3
   },
   "file_extension": ".py",
   "mimetype": "text/x-python",
   "name": "python",
   "nbconvert_exporter": "python",
   "pygments_lexer": "ipython3",
   "version": "3.5.2"
  }
 },
 "nbformat": 4,
 "nbformat_minor": 1
}
