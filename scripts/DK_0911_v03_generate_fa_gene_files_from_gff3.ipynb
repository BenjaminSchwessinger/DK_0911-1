{
 "cells": [
  {
   "cell_type": "code",
   "execution_count": 102,
   "metadata": {
    "collapsed": false
   },
   "outputs": [],
   "source": [
    "# cd /home/gamran/genome_analysis/Warrior/Richard/output/genome_v03\n",
    "# bedtools getfasta -name -fi DK_0911_v03_h_ctg.fa -bed DK_0911_v03_h_ctg.gene.bed -fo DK_0911_v03_h_ctg.gene.fa\n",
    "# bedtools getfasta -name -fi DK_0911_v03_p_ctg.fa -bed DK_0911_v03_p_ctg.gene.bed -fo DK_0911_v03_p_ctg.gene.fa "
   ]
  },
  {
   "cell_type": "code",
   "execution_count": 117,
   "metadata": {
    "collapsed": false
   },
   "outputs": [],
   "source": [
    "import pandas as pd\n",
    "import os\n",
    "import re\n",
    "\n",
    "LOCUS_SEARCH = re.compile(r'^.*locus_tag=(.*?)(;|$)')\n",
    "\n",
    "BASE_DIR = '/home/gamran/genome_analysis/Warrior/Richard/output/genome_v03/'\n",
    "\n",
    "H_CTG_GFF_LOC = BASE_DIR + 'DK_0911_v03_h_ctg.anno.gff3'\n",
    "P_CTG_GFF_LOC = BASE_DIR + 'DK_0911_v03_p_ctg.anno.gff3'\n",
    "\n",
    "pgff_df = pd.read_table(P_CTG_GFF_LOC, header = None,  \\\n",
    "                  names = ['seqid', 'source', 'type', 'start', 'end', 'score', 'strand', 'phase', 'attributes'])\n",
    "hgff_df = pd.read_table(H_CTG_GFF_LOC, header = None,  \\\n",
    "                  names = ['seqid', 'source', 'type', 'start', 'end', 'score', 'strand', 'phase', 'attributes']) "
   ]
  },
  {
   "cell_type": "code",
   "execution_count": 119,
   "metadata": {
    "collapsed": false
   },
   "outputs": [],
   "source": [
    "# extract only genes\n",
    "pgff_genes_df = pgff_df[pgff_df['type'] == 'gene']\n",
    "hgff_genes_df = hgff_df[hgff_df['type'] == 'gene']"
   ]
  },
  {
   "cell_type": "code",
   "execution_count": 169,
   "metadata": {
    "collapsed": false
   },
   "outputs": [],
   "source": [
    "def getBedDf(gff_genes_df):\n",
    "    '''returns a BED6 DataFrame from gff gene-only DataFrame'''\n",
    "    bed_df = gff_genes_df.loc[:, ['seqid', 'start', 'end', 'attributes', 'score', 'strand']]\n",
    "    bed_df = bed_df.rename(index=str, columns={'seqid':'chrom', 'start':'chromStart', 'end':'chromEnd', 'attributes':'name'})\n",
    "\n",
    "    bed_df['chromStart'] = bed_df['chromStart'] - 1\n",
    "    bed_df['name'] = bed_df['name'].apply(lambda s: LOCUS_SEARCH.match(s).group(1))\n",
    "    bed_df.set_index('chrom', inplace = True)\n",
    "    \n",
    "    return bed_df\n",
    "pbed_df = getBedDf(pgff_genes_df)\n",
    "hbed_df = getBedDf(hgff_genes_df)"
   ]
  },
  {
   "cell_type": "code",
   "execution_count": 176,
   "metadata": {
    "collapsed": false
   },
   "outputs": [],
   "source": [
    "def writeDfToBed(out_name, bed_df, base_dir = BASE_DIR):\n",
    "    '''writes a bed DataFrame to a BED file'''\n",
    "    with open(os.path.join(base_dir, out_name), 'w') as outfile:\n",
    "        bed_df.to_csv(outfile, sep='\\t', header = False)\n",
    "\n",
    "writeDfToBed('DK_0911_v03_p_ctg.gene.bed', pbed_df)\n",
    "writeDfToBed('DK_0911_v03_h_ctg.gene.bed', hbed_df)"
   ]
  },
  {
   "cell_type": "code",
   "execution_count": 126,
   "metadata": {
    "collapsed": false
   },
   "outputs": [],
   "source": [
    "# cd /home/gamran/genome_analysis/Warrior/Richard/output/genome_v03\n",
    "os.chdir(BASE_DIR)\n",
    "!bedtools getfasta -name -s -fi DK_0911_v03_h_ctg.fa -bed DK_0911_v03_h_ctg.gene.bed -fo DK_0911_v03_h_ctg.gene.long_header.fa\n",
    "!bedtools getfasta -name -s -fi DK_0911_v03_p_ctg.fa -bed DK_0911_v03_p_ctg.gene.bed -fo DK_0911_v03_p_ctg.gene.long_header.fa \n",
    "# Headers look like:\n",
    "# DK0911_18236::hcontig_000_001:131-2632(-)"
   ]
  },
  {
   "cell_type": "code",
   "execution_count": 177,
   "metadata": {
    "collapsed": false
   },
   "outputs": [],
   "source": [
    "from Bio import SeqIO\n",
    "\n",
    "def changeHeaders(in_file, out_file, base_dir = BASE_DIR):\n",
    "    '''Changing headers from in_file to look like: DK0911_00000 in out_file.\n",
    "    Deletes in_file after finished (long_header file)'''\n",
    "    os.chdir(base_dir)\n",
    "    with open(in_file, \"r\") as input_handle, open(out_file, \"w\") as output_handle:\n",
    "        sequences = [s for s in SeqIO.parse(input_handle, \"fasta\")]\n",
    "        for s in sequences:\n",
    "            s.id = s.id[:12]\n",
    "            s.description = ''\n",
    "        SeqIO.write(sequences, output_handle, \"fasta\")\n",
    "    os.remove(in_file)\n",
    "\n",
    "changeHeaders(\"DK_0911_v03_h_ctg.gene.long_header.fa\", \"DK_0911_v03_h_ctg.gene.fa\")\n",
    "changeHeaders(\"DK_0911_v03_p_ctg.gene.long_header.fa\", \"DK_0911_v03_p_ctg.gene.fa\")"
   ]
  },
  {
   "cell_type": "code",
   "execution_count": null,
   "metadata": {
    "collapsed": true
   },
   "outputs": [],
   "source": []
  }
 ],
 "metadata": {
  "anaconda-cloud": {},
  "kernelspec": {
   "display_name": "Python [conda root]",
   "language": "python",
   "name": "conda-root-py"
  },
  "language_info": {
   "codemirror_mode": {
    "name": "ipython",
    "version": 3
   },
   "file_extension": ".py",
   "mimetype": "text/x-python",
   "name": "python",
   "nbconvert_exporter": "python",
   "pygments_lexer": "ipython3",
   "version": "3.5.2"
  }
 },
 "nbformat": 4,
 "nbformat_minor": 1
}
