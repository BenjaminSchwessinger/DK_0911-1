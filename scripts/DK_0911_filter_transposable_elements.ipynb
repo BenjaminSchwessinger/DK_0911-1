{
 "cells": [
  {
   "cell_type": "markdown",
   "metadata": {},
   "source": [
    "# Filter Transposable Elements"
   ]
  },
  {
   "cell_type": "markdown",
   "metadata": {},
   "source": [
    "- Inputs: **BLAST** & **transposonPSI** DataFrames, .*gff3* files.\n",
    "- Programs: N/A\n",
    "- Purpose: generate new *gff3* files without transposable elements.\n",
    "\n",
    "After this, re-run code from `DK_0911_generate_fasta_files_from_gff3` onwards for genomic analysis of alleles without transposable elements."
   ]
  },
  {
   "cell_type": "code",
   "execution_count": 4,
   "metadata": {},
   "outputs": [],
   "source": [
    "import pandas as pd\n",
    "import re\n",
    "import os"
   ]
  },
  {
   "cell_type": "code",
   "execution_count": 5,
   "metadata": {},
   "outputs": [],
   "source": [
    "GENOME_IN_VERSION = 'v03'\n",
    "GENOME_OUT_VERSION = 'v04'\n",
    "\n",
    "BLAST_IN_FILE = '/home/gamran/genome_analysis/Warrior/Richard/TE_filtering/blast_Repbase/DK_0911_%s_ph_ctg.RM407.blastp.out' % GENOME_IN_VERSION\n",
    "TPSI_IN_FILE = '/home/gamran/genome_analysis/Warrior/Richard/TE_filtering/transposonPSI/DK_0911_%s_ph_ctg.protein.fa.TPSI.topHits.onlyHits' % GENOME_IN_VERSION\n",
    "\n",
    "UNFILTERED_IN_PATH = '/home/gamran/genome_analysis/Warrior/Richard/output/genome_%s' % GENOME_IN_VERSION\n",
    "FILTERED_OUT_PATH = '/home/gamran/genome_analysis/Warrior/Richard/output/genome_%s/' % GENOME_OUT_VERSION\n",
    "\n",
    "GENOME_IN = 'DK_0911_%s' % GENOME_IN_VERSION\n",
    "GENOME_OUT = 'DK_0911_%s' % GENOME_OUT_VERSION\n",
    "\n",
    "H_CTG_GFF_PATH = os.path.join(UNFILTERED_IN_PATH, GENOME_IN + '_h_ctg.anno.gff3')\n",
    "P_CTG_GFF_PATH = os.path.join(UNFILTERED_IN_PATH, GENOME_IN + '_p_ctg.anno.gff3')\n",
    "\n",
    "eValueCutoff = 1e-10"
   ]
  },
  {
   "cell_type": "code",
   "execution_count": 6,
   "metadata": {},
   "outputs": [],
   "source": [
    "# Read in DataFrames (BLAST, transposonPSI, GFF)\n",
    "blast_header = ['Query', 'Target', 'PctID', 'AlnLgth', 'NumMis', 'NumGap', 'StartQuery', 'StopQuery', 'StartTarget', 'StopTarget', 'e-value','BitScore']\n",
    "blast_df = pd.read_csv(BLAST_IN_FILE, sep='\\t', header=None, names=blast_header)\n",
    "blast_df = blast_df[blast_df['e-value'] < eValueCutoff]\n",
    "\n",
    "tpsi_df = pd.read_csv(TPSI_IN_FILE, sep='\\t', header=None)\n",
    "tpsi_df = tpsi_df[tpsi_df[19] < eValueCutoff] # column 19 is the e-value column\n",
    "\n",
    "pCtg_gff_df = pd.read_table(P_CTG_GFF_PATH, header = None, index_col = None, names = ['seqid', 'source', 'type', 'start', 'end', 'score', 'strand', 'phase', 'attributes'])\n",
    "htg_gff_df = pd.read_table(H_CTG_GFF_PATH, header = None, index_col = None, names = ['seqid', 'source', 'type', 'start', 'end', 'score', 'strand', 'phase', 'attributes']) "
   ]
  },
  {
   "cell_type": "code",
   "execution_count": 8,
   "metadata": {},
   "outputs": [
    {
     "data": {
      "text/html": [
       "<div>\n",
       "<table border=\"1\" class=\"dataframe\">\n",
       "  <thead>\n",
       "    <tr style=\"text-align: right;\">\n",
       "      <th></th>\n",
       "      <th>Query</th>\n",
       "      <th>Target</th>\n",
       "      <th>PctID</th>\n",
       "      <th>AlnLgth</th>\n",
       "      <th>NumMis</th>\n",
       "      <th>NumGap</th>\n",
       "      <th>StartQuery</th>\n",
       "      <th>StopQuery</th>\n",
       "      <th>StartTarget</th>\n",
       "      <th>StopTarget</th>\n",
       "      <th>e-value</th>\n",
       "      <th>BitScore</th>\n",
       "    </tr>\n",
       "  </thead>\n",
       "  <tbody>\n",
       "    <tr>\n",
       "      <th>0</th>\n",
       "      <td>evm.model.hcontig_006_028.2</td>\n",
       "      <td>I-2_BF_pol#LINE/Jockey</td>\n",
       "      <td>31.47</td>\n",
       "      <td>143</td>\n",
       "      <td>74</td>\n",
       "      <td>1</td>\n",
       "      <td>25</td>\n",
       "      <td>143</td>\n",
       "      <td>1092</td>\n",
       "      <td>1234</td>\n",
       "      <td>1.000000e-14</td>\n",
       "      <td>71.2</td>\n",
       "    </tr>\n",
       "    <tr>\n",
       "      <th>1</th>\n",
       "      <td>evm.model.hcontig_006_028.2</td>\n",
       "      <td>Outcast-1_BF_pol#LINE/Jockey</td>\n",
       "      <td>31.21</td>\n",
       "      <td>141</td>\n",
       "      <td>73</td>\n",
       "      <td>1</td>\n",
       "      <td>25</td>\n",
       "      <td>141</td>\n",
       "      <td>1135</td>\n",
       "      <td>1275</td>\n",
       "      <td>3.000000e-14</td>\n",
       "      <td>70.1</td>\n",
       "    </tr>\n",
       "    <tr>\n",
       "      <th>2</th>\n",
       "      <td>evm.model.hcontig_006_028.2</td>\n",
       "      <td>I-2_AC_pol#LINE/I</td>\n",
       "      <td>31.88</td>\n",
       "      <td>138</td>\n",
       "      <td>83</td>\n",
       "      <td>4</td>\n",
       "      <td>10</td>\n",
       "      <td>141</td>\n",
       "      <td>1105</td>\n",
       "      <td>1237</td>\n",
       "      <td>7.000000e-13</td>\n",
       "      <td>65.9</td>\n",
       "    </tr>\n",
       "    <tr>\n",
       "      <th>3</th>\n",
       "      <td>evm.model.hcontig_006_028.2</td>\n",
       "      <td>Tad1-1_EP_pol#LINE/Tad1</td>\n",
       "      <td>27.33</td>\n",
       "      <td>172</td>\n",
       "      <td>92</td>\n",
       "      <td>5</td>\n",
       "      <td>5</td>\n",
       "      <td>143</td>\n",
       "      <td>1112</td>\n",
       "      <td>1283</td>\n",
       "      <td>4.000000e-12</td>\n",
       "      <td>63.5</td>\n",
       "    </tr>\n",
       "    <tr>\n",
       "      <th>4</th>\n",
       "      <td>evm.model.hcontig_006_028.2</td>\n",
       "      <td>Nimb-3_DR_pol#LINE/I-Nimb</td>\n",
       "      <td>27.88</td>\n",
       "      <td>165</td>\n",
       "      <td>95</td>\n",
       "      <td>3</td>\n",
       "      <td>3</td>\n",
       "      <td>143</td>\n",
       "      <td>1050</td>\n",
       "      <td>1214</td>\n",
       "      <td>7.000000e-11</td>\n",
       "      <td>59.7</td>\n",
       "    </tr>\n",
       "  </tbody>\n",
       "</table>\n",
       "</div>"
      ],
      "text/plain": [
       "                         Query                        Target  PctID  AlnLgth  \\\n",
       "0  evm.model.hcontig_006_028.2        I-2_BF_pol#LINE/Jockey  31.47      143   \n",
       "1  evm.model.hcontig_006_028.2  Outcast-1_BF_pol#LINE/Jockey  31.21      141   \n",
       "2  evm.model.hcontig_006_028.2             I-2_AC_pol#LINE/I  31.88      138   \n",
       "3  evm.model.hcontig_006_028.2       Tad1-1_EP_pol#LINE/Tad1  27.33      172   \n",
       "4  evm.model.hcontig_006_028.2     Nimb-3_DR_pol#LINE/I-Nimb  27.88      165   \n",
       "\n",
       "   NumMis  NumGap  StartQuery  StopQuery  StartTarget  StopTarget  \\\n",
       "0      74       1          25        143         1092        1234   \n",
       "1      73       1          25        141         1135        1275   \n",
       "2      83       4          10        141         1105        1237   \n",
       "3      92       5           5        143         1112        1283   \n",
       "4      95       3           3        143         1050        1214   \n",
       "\n",
       "        e-value  BitScore  \n",
       "0  1.000000e-14      71.2  \n",
       "1  3.000000e-14      70.1  \n",
       "2  7.000000e-13      65.9  \n",
       "3  4.000000e-12      63.5  \n",
       "4  7.000000e-11      59.7  "
      ]
     },
     "execution_count": 8,
     "metadata": {},
     "output_type": "execute_result"
    }
   ],
   "source": [
    "blast_df.head()"
   ]
  },
  {
   "cell_type": "code",
   "execution_count": 4,
   "metadata": {},
   "outputs": [],
   "source": [
    "# Extract 'contigLoc' (e.g. hcontig_006_028.2) from ID in attributes and assign to a\n",
    "# temporary new column for ease of access & comparison.\n",
    "ID_SEARCH = re.compile(r'^.*ID=(.*?)(;|$)')\n",
    "P_CONTIG_LOC_SEARCH = re.compile(r'^.*\\.(pcontig_\\d{3}\\.\\d+)(?:\\.|$)') # P_CONTIG_LOC_SEARCH.match('cds.evm.model.pcontig_000.1').group(1) will yield 'pcontig_000.1'\n",
    "H_CONTIG_LOC_SEARCH = re.compile(r'^.*\\.((?:p|h)contig_\\d{3}(?:_\\d{3})?\\.\\d+)(?:\\.|$)') # H_CONTIG_LOC_SEARCH.match('evm.model.hcontig_006_028.2').group(1) will yield 'hcontig_006_028.2'\n",
    "\n",
    "pCtg_gff_df['contigID'] = pCtg_gff_df['attributes'].apply(lambda s: ID_SEARCH.match(s).group(1))\n",
    "htg_gff_df['contigID'] = htg_gff_df['attributes'].apply(lambda s: ID_SEARCH.match(s).group(1))\n",
    "pCtg_gff_df['contigLoc'] = pCtg_gff_df['contigID'].apply(lambda s: P_CONTIG_LOC_SEARCH.match(s).group(1))\n",
    "htg_gff_df['contigLoc'] = htg_gff_df['contigID'].apply(lambda s: H_CONTIG_LOC_SEARCH.match(s).group(1))\n",
    "\n",
    "tpsi_df['contigLoc'] = tpsi_df[5].apply(lambda s: s.replace('evm.model.', ''))\n",
    "blast_df['contigLoc'] = blast_df['Query'].apply(lambda s: s.replace('evm.model.', ''))"
   ]
  },
  {
   "cell_type": "code",
   "execution_count": 5,
   "metadata": {},
   "outputs": [
    {
     "name": "stderr",
     "output_type": "stream",
     "text": [
      "/home/gamran/anaconda3/lib/python3.5/site-packages/ipykernel/__main__.py:25: SettingWithCopyWarning: \n",
      "A value is trying to be set on a copy of a slice from a DataFrame.\n",
      "Try using .loc[row_indexer,col_indexer] = value instead\n",
      "\n",
      "See the caveats in the documentation: http://pandas.pydata.org/pandas-docs/stable/indexing.html#indexing-view-versus-copy\n",
      "/home/gamran/anaconda3/lib/python3.5/site-packages/ipykernel/__main__.py:35: SettingWithCopyWarning: \n",
      "A value is trying to be set on a copy of a slice from a DataFrame\n",
      "\n",
      "See the caveats in the documentation: http://pandas.pydata.org/pandas-docs/stable/indexing.html#indexing-view-versus-copy\n",
      "/home/gamran/anaconda3/lib/python3.5/site-packages/ipykernel/__main__.py:36: SettingWithCopyWarning: \n",
      "A value is trying to be set on a copy of a slice from a DataFrame\n",
      "\n",
      "See the caveats in the documentation: http://pandas.pydata.org/pandas-docs/stable/indexing.html#indexing-view-versus-copy\n"
     ]
    },
    {
     "name": "stdout",
     "output_type": "stream",
     "text": [
      "Number of elements filtered out: 5344\n"
     ]
    }
   ],
   "source": [
    "# filter out any elements that are in either the blast_df or the tpsi_df (note these DataFrames have already been filtered by e-value)\n",
    "filtered_htg_gff_df = htg_gff_df[(~htg_gff_df['contigLoc'].isin(blast_df['contigLoc'])) & (~htg_gff_df['contigLoc'].isin(tpsi_df['contigLoc']))]\n",
    "filtered_pCtg_gff_df = pCtg_gff_df[(~pCtg_gff_df['contigLoc'].isin(blast_df['contigLoc'])) & (~pCtg_gff_df['contigLoc'].isin(tpsi_df['contigLoc']))]\n",
    "\n",
    "## THIS PART OF THE CODE IS NOT NEEDED FOR FUTURE STRAINS.\n",
    "########## START ##########\n",
    "\n",
    "## Discovered bug due to incomplete renaming when re-assigning pwoh to htgs; changed seqid\n",
    "## but did not change attributes column. Thus, the ID tag of the attributes column was \n",
    "## still the same as the initial primary contigs (pcontig_xxx.x instead of hcontig_xxx_xxx.x)\n",
    "## blast dataframe was already generated with this incorrect labelling, so we filter FIRST \n",
    "## (above) based on these incorrect labels, and then fix the labels after (below).\n",
    "# fix attributes column before writing to gff.\n",
    "def fixHtgAttributes(row):\n",
    "    attributes = row['attributes']\n",
    "    contigLoc = row['contigLoc']\n",
    "    seqid = row['seqid']\n",
    "    \n",
    "    numberSuffix = contigLoc.split('.')[-1]\n",
    "    if attributes.find('pcontig') == -1:\n",
    "        return attributes\n",
    "    return attributes.replace(contigLoc, '%s.%s' %(seqid, str(numberSuffix)))\n",
    "\n",
    "# fix attributes column (may not be required in future versions)\n",
    "filtered_htg_gff_df['attributes'] = filtered_htg_gff_df.apply(fixHtgAttributes, axis=1)\n",
    "\n",
    "########## END ##########\n",
    "\n",
    "# report how many elements were filtered\n",
    "sumBeforeFilter = htg_gff_df['contigLoc'].unique().size + pCtg_gff_df['contigLoc'].unique().size\n",
    "sumAfterFilter = filtered_htg_gff_df['contigLoc'].unique().size + filtered_pCtg_gff_df['contigLoc'].unique().size\n",
    "print(\"Number of elements filtered out: %s\" % (sumBeforeFilter - sumAfterFilter))\n",
    "\n",
    "# drop temporarily-created columns\n",
    "filtered_htg_gff_df.drop(['contigID', 'contigLoc'], inplace=True, axis=1)\n",
    "filtered_pCtg_gff_df.drop(['contigID', 'contigLoc'], inplace=True, axis=1)\n",
    "\n",
    "# write to new CSV\n",
    "filtered_htg_gff_df.to_csv(os.path.join(FILTERED_OUT_PATH, GENOME_OUT + '_h_ctg.anno.gff3'), sep='\\t', header=None, index=None)\n",
    "filtered_pCtg_gff_df.to_csv(os.path.join(FILTERED_OUT_PATH, GENOME_OUT + '_p_ctg.anno.gff3'), sep='\\t', header=None, index=None)"
   ]
  },
  {
   "cell_type": "code",
   "execution_count": 6,
   "metadata": {},
   "outputs": [
    {
     "name": "stdout",
     "output_type": "stream",
     "text": [
      "Number of unique TE hits found from BLAST (e < 1e-10): 5042\n",
      "Number of unique TE hits from TPSI (e < 1e-10): 3758\n",
      "Number of unique TE hits from BLAST or TPSI (e < 1e-10): 5344\n"
     ]
    }
   ],
   "source": [
    "print(\"Number of unique TE hits found from BLAST (e < 1e-10): %s\" % blast_df['Query'].unique().size)\n",
    "print(\"Number of unique TE hits from TPSI (e < 1e-10): %s\" % tpsi_df[5].unique().size)\n",
    "print(\"Number of unique TE hits from BLAST or TPSI (e < 1e-10): %s\" % pd.concat([tpsi_df[5], blast_df['Query']], axis=0).unique().size)"
   ]
  },
  {
   "cell_type": "code",
   "execution_count": null,
   "metadata": {},
   "outputs": [],
   "source": []
  }
 ],
 "metadata": {
  "anaconda-cloud": {},
  "kernelspec": {
   "display_name": "Python [default]",
   "language": "python",
   "name": "python3"
  },
  "language_info": {
   "codemirror_mode": {
    "name": "ipython",
    "version": 3
   },
   "file_extension": ".py",
   "mimetype": "text/x-python",
   "name": "python",
   "nbconvert_exporter": "python",
   "pygments_lexer": "ipython3",
   "version": "3.5.2"
  }
 },
 "nbformat": 4,
 "nbformat_minor": 1
}
