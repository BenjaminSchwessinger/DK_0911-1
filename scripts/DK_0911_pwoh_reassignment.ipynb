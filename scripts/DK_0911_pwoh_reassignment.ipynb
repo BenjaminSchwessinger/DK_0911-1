{
 "cells": [
  {
   "cell_type": "code",
   "execution_count": 71,
   "metadata": {
    "collapsed": false
   },
   "outputs": [
    {
     "data": {
      "text/plain": [
       "1176"
      ]
     },
     "execution_count": 71,
     "metadata": {},
     "output_type": "execute_result"
    }
   ],
   "source": [
    "import os\n",
    "from Bio import SeqIO\n",
    "\n",
    "file_path = '/home/gamran/genome_analysis/Warrior/genome/'\n",
    "p_file_name = 'DK_0911_v01_p_ctg.fa'\n",
    "h_file_name = 'DK_0911_v01_h_ctg.fa'\n",
    "\n",
    "h_ctg_file_loc = file_path + h_file_name\n",
    "p_ctg_file_loc = file_path + p_file_name\n",
    "\n",
    "output_dir = '/home/gamran/genome_analysis/Warrior/genome/'\n",
    "\n",
    "htgs = [h for h in SeqIO.parse(h_ctg_file_loc, 'fasta')]\n",
    "pCtgs = [p for p in SeqIO.parse(p_ctg_file_loc, 'fasta')]\n",
    "\n",
    "def getPCtgNum(ctg):\n",
    "    '''returns the primary contig number to which a haplotig or primary contig belongs,\n",
    "    e.g. hcontig_003_048 will return 003\n",
    "    e.g. pcontig_008 will return 008'''\n",
    "    return ctg[8:11]\n",
    "\n",
    "def getPCtg(num, pCtgs):\n",
    "    '''gets a primary contig by its ID number'''\n",
    "    for pCtg in pCtgs:\n",
    "        if int(getPCtgNum(pCtg.id)) == num:\n",
    "            return pCtg\n",
    "    print('ERROR: primary contig of number: ' + str(num) + ' could not be found.')\n",
    "\n",
    "def changeName(htg, pCtgNum):\n",
    "    pCtgNum = str(pCtgNum)\n",
    "    if len(pCtgNum) < 3:\n",
    "        pCtgNum = '0'*(3-len(pCtgNum)) + str(pCtgNum)\n",
    "        # print('h' + htg.id[1:][:-3] + pCtgNum + '_' + htg.id[-3:])\n",
    "    return 'h' + htg.id[1:][:-3] + pCtgNum + '_' + htg.id[-3:]\n",
    "\n",
    "def assignPwohToPwh(pwohNum, pCtgNum, htgs, pCtgs):\n",
    "    '''Takes a pwoh, changes its id and removes it from pCtgs\n",
    "    and adds it to htgs. Returns list of pCtgs and htgs.\n",
    "    For example, if pwoh.id = 049 and pCtgNum = 005,\n",
    "    pcontig_049 will become hcontig_005_049'''\n",
    "    \n",
    "    for i in range (len(pCtgs)):\n",
    "        if int(getPCtgNum(pCtgs[i].id)) == pwohNum:\n",
    "            htg = pCtgs.pop(i)\n",
    "            \n",
    "            # HACK FIX HERE\n",
    "            if getPCtgNum(htg.id) == '103':\n",
    "                htg = htg.reverse_complement(id = htg.id, description = 'reverse complement')\n",
    "            break\n",
    "\n",
    "    htg.id = changeName(htg, pCtgNum)\n",
    "    \n",
    "    htgs.append(htg)\n",
    "    return pCtgs, htgs\n",
    "\n",
    "def assignManyPwohToPwh(pairs, htgs, pCtgs):\n",
    "    '''takes a list of [(pwohNum, pCtgNum), ...] pairs and changes the pwoh\n",
    "    to a haplotig paired with pCtgNum. Returns a list of pCtgs and htgs.'''\n",
    "    for pwohNum, pCtgNum in pairs:\n",
    "        pCtgs, htgs = assignPwohToPwh(pwohNum, pCtgNum, htgs, pCtgs)\n",
    "    return pCtgs, htgs\n",
    "\n",
    "\n",
    "assignmentPairs = [(86, 39), \\\n",
    "                   (96, 33), \\\n",
    "                   (97, 39), \\\n",
    "                   (100, 33), \\\n",
    "                   (103, 74)]\n",
    "\n",
    "pCtgs, htgs = assignManyPwohToPwh(assignmentPairs, htgs, pCtgs)\n",
    "\n",
    "SeqIO.write(pCtgs, output_dir + 'DK_0911_v03_p_ctg.fa', 'fasta')\n",
    "SeqIO.write(htgs, output_dir + 'DK_0911_v03_h_ctg.fa', 'fasta')"
   ]
  },
  {
   "cell_type": "code",
   "execution_count": null,
   "metadata": {
    "collapsed": true
   },
   "outputs": [],
   "source": []
  }
 ],
 "metadata": {
  "kernelspec": {
   "display_name": "Python [conda root]",
   "language": "python",
   "name": "conda-root-py"
  },
  "language_info": {
   "codemirror_mode": {
    "name": "ipython",
    "version": 3
   },
   "file_extension": ".py",
   "mimetype": "text/x-python",
   "name": "python",
   "nbconvert_exporter": "python",
   "pygments_lexer": "ipython3",
   "version": "3.5.2"
  }
 },
 "nbformat": 4,
 "nbformat_minor": 1
}
