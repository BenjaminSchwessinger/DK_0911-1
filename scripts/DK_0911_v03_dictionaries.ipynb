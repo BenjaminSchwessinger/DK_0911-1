{
 "cells": [
  {
   "cell_type": "code",
   "execution_count": 16,
   "metadata": {},
   "outputs": [],
   "source": [
    "import os\n",
    "import pandas as pd\n",
    "import re\n",
    "\n",
    "# GENOME_PATH = '/home/gamran/genome_analysis/Warrior/Richard/output/genome_v03/'\n",
    "\n",
    "P_GFF = pd.read_csv(os.path.join(GENOME_PATH, 'DK_0911_v03_p_ctg.anno.gff3'), sep='\\t', header=None)\n",
    "H_GFF = pd.read_csv(os.path.join(GENOME_PATH, 'DK_0911_v03_h_ctg.anno.gff3'), sep='\\t', header=None)\n",
    "\n",
    "def getLocusToIdDict(p_gff=P_GFF, h_gff=H_GFF):\n",
    "    '''returns a dictionary with key: locus_tag and val: ID from a\n",
    "    DataFrame of a gff3 file containing attribute entries (column 9) such as\n",
    "    ID=evm.TU.pcontig_000.1;locus_tag=DK0911_00000;Name=EVM prediction pcontig_000.1'''\n",
    "    \n",
    "    p_gff_genes = p_gff.loc[p_gff[2] == 'mRNA']\n",
    "    h_gff_genes = h_gff.loc[h_gff[2] == 'mRNA']\n",
    "    \n",
    "    dSeries = pd.concat([h_gff_genes[8], p_gff_genes[8]], ignore_index=True)\n",
    "\n",
    "    idSearch = re.compile(r'ID=(.*?);')\n",
    "    locusSearch = re.compile(r'^.*locus_tag=(.*?)(;|$)')\n",
    "\n",
    "    d = {}\n",
    "\n",
    "    for attr in dSeries:\n",
    "        key = locusSearch.match(attr).group(1)\n",
    "        val = idSearch.match(attr).group(1)\n",
    "        if key in d.keys():\n",
    "            print('Unexpected: locus tag: %s is already in dictionary!' % key)\n",
    "        d[key] = val\n",
    "    return d"
   ]
  },
  {
   "cell_type": "code",
   "execution_count": null,
   "metadata": {},
   "outputs": [],
   "source": []
  }
 ],
 "metadata": {
  "anaconda-cloud": {},
  "kernelspec": {
   "display_name": "Python [default]",
   "language": "python",
   "name": "python3"
  },
  "language_info": {
   "codemirror_mode": {
    "name": "ipython",
    "version": 3
   },
   "file_extension": ".py",
   "mimetype": "text/x-python",
   "name": "python",
   "nbconvert_exporter": "python",
   "pygments_lexer": "ipython3",
   "version": "3.5.2"
  }
 },
 "nbformat": 4,
 "nbformat_minor": 1
}
