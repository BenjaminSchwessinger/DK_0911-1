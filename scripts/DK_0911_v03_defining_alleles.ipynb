{
 "cells": [
  {
   "cell_type": "markdown",
   "metadata": {},
   "source": [
    "## Defining Alleles"
   ]
  },
  {
   "cell_type": "markdown",
   "metadata": {},
   "source": [
    "This notebook is aimed at doing allelic comparison between primary contigs and hapltotigs. This was used to generate DataFrames used during the analysis and evolved during the analysis. So it might be a bit more complicated than it needs to be, but it works.\n",
    "\n",
    "Based on original code by Benjamin Schwessinger."
   ]
  },
  {
   "cell_type": "markdown",
   "metadata": {},
   "source": [
    "This notebook defines alleles based on a Falcon-Unzip assembly where relational information between two contigs are available.\n",
    "\n",
    "#### The input as follows:\n",
    "* Assemblytics alingment of all haplotigs onto their corresponding primary contigs. The *.oriented_coords.csv will be converted to a gff file of haplotig alingments onto their respective primary contigs\n",
    "* gff file of all features. This will be filtered down to genes only and separated out for each contig\n",
    "* protein and gene fa files for reciprocal blast of haplotig sequences onto primary sequences\n",
    "\n",
    "#### What happens:\n",
    "* for each primary gene/protein the the overlapping haplotig is pulled out and added to the blast dataframe\n",
    "* this blast dataframe of primary proteins onto haplotig proteins is than used for filtering to provide the following files\n",
    "* best blast hits are first filtered on e-value minimums followed by BitScore maximum\n",
    "\n",
    "#### What comes out in the alleles folder:\n",
    "##### for primary genes/proteins\n",
    "* a set of files that contain two proteins IDs identifying the two alleles.  \n",
    "* *_p_ctg.h_contig_overlap.alleles contains best blast hits of the primary protein on haplotig proteins of the overlapping haplotig (truely linked alleles).\n",
    "* *_p_ctg.no_respective_h_contig_overlap.alleles contains all primary protein that don't have a blast hit on the overlapping haplotig but another haplotig associated with its primary contig.\n",
    "* *_p_ctg.no_specific_h_contig_overlap.alleles contains all primary proteins that don't have a blast hit on an associated haplotig but another haplotig.\n",
    "* *_p_ctg.no_alleles contains all primary proteins without blast hit on haplotigs.\n",
    "\n",
    "##### for haplotig genes/proteins\n",
    "* *_h_ctg.no.alleles contains all haplotig proteins that are not associated with a primary allele in the above analysis.\n",
    "* *_h_ctg.no.best_p_hits.alleles contains all haplotig proteins that are not associated with a primary allele in the above analysis but have a blast hit non-withstanding. This might be duplications in the haplotigs.\n",
    "* *_h_ctg.no.no_p_hits.alleles contains all haplotig proteins that have no blast hit.\n",
    "\n",
    "##### filtering of blast output\n",
    "* filtering of blast output is possible on Query coverage of the blast hit [Qcov] and the percentage identity of the aligenment [PctID]. This generates additional outfiles with *.QcovXX.PctIDYY.alleles. The default values are set to Qcov80 and PctID70.\n",
    "\n",
    "#### What else to consider:\n",
    "* the script was tested for outputing the right number of protein sequences for primary and haplotig sequences.\n",
    "* this is a script and not a program. No warrenties.\n",
    "* Feedback always welcome.\n",
    "* Path and other variables are defined at the top of the script.\n",
    "* It assumes that primary contig sequences are labled as e.g. pcontig_000 and associated haplotigs as hcontig_000_0xx.\n",
    "\n",
    "#### Downstream considerations:\n",
    "* Why have some proteins no blast hits? Is it simple that their gene models are missing? Seen this and working on this.\n",
    "* In case of primary genes without blast hits do those lie in homozygous coverage areas? Working on this.\n",
    "* Are some of the h genes/proteins without alleles but with blast hits duplications that diverget?\n",
    "* Do some of the primary proteins/genes without blast hit on haplotigs have a good blast hit on other primary contigs? Is this reciprocal?\n",
    "* Can we use some of this information to talk about linkage of contigs or does this go to far without fully phased genomes using loooong reads or single nucleii sequencing? Would say yes so far.\n",
    "* Some primary proteins have two equal got hits are those duplications in the haplotig?\n",
    "* If we perform downstream genetic variation analysis between alleles do we see any GO, KEGG, effector or other functional domains enriched?\n"
   ]
  },
  {
   "cell_type": "markdown",
   "metadata": {},
   "source": [
    "This second version of this allele analysis take the proteinortho5.pl input as reference for syntany analysis.\n",
    "\n",
    "This was run as follows:\n",
    "\n",
    "proteinortho5.pl -project=ph_ctg  -synteny ph_ctg/Pst_104E_v12_h_ctg_protein.faa ph_ctg/Pst_104E_v12_p_ctg_protein.faa\n",
    "\n",
    "<- this gave different results in the graph and regular file in verison 5.15.\n",
    "\n",
    "run the latest version with \n",
    "\n",
    "perl ~/anaconda3/envs/funannotate/proteinortho_v5.16/proteinortho5.pl -cpus=20 -project=ph_ctg_516  -synteny ph_ctg/Pst_104E_v12_h_ctg_protein.faa ph_ctg/Pst_104E_v12_p_ctg_protein.faa\n",
    "\n",
    "Use the poff-graph and poff-proteinortho-graph as bases for analysis\n",
    "\n",
    "Depending on this run the poff_header needs to be defined. In current case 'Target' followed 'Query'\n",
    "\n",
    "#### The additional input required\n",
    "* is the .poff from proteinortho. This will be used for filtering as all alleles need have a True in the PO_allele column to be included in the output. All other filtering is done as described above.\n",
    "\n"
   ]
  },
  {
   "cell_type": "code",
   "execution_count": 2,
   "metadata": {},
   "outputs": [],
   "source": [
    "%matplotlib inline"
   ]
  },
  {
   "cell_type": "code",
   "execution_count": 3,
   "metadata": {},
   "outputs": [],
   "source": [
    "import pandas as pd\n",
    "import os\n",
    "import re\n",
    "from Bio import SeqIO\n",
    "import pysam\n",
    "from Bio.SeqRecord import SeqRecord\n",
    "from pybedtools import BedTool\n",
    "import numpy as np\n",
    "import pybedtools\n",
    "import time\n",
    "import matplotlib.pyplot as plt\n",
    "import sys\n",
    "import subprocess\n",
    "import shutil\n"
   ]
  },
  {
   "cell_type": "code",
   "execution_count": 4,
   "metadata": {},
   "outputs": [],
   "source": [
    "#Define the PATH\n",
    "BASE_OUT_PATH = '/home/gamran/genome_analysis/Warrior/Richard/output/defining_alleles/'\n",
    "GENOME_PATH = '/home/gamran/genome_analysis/Warrior/Richard/output/genome_v03/'\n",
    "ASSEMBLYTICS_IN_PATH = '/home/gamran/genome_analysis/Warrior/Richard/output/nucmer_assemblytics/Assemblytics'\n",
    "\n",
    "BLAST_DB = os.path.join(BASE_OUT_PATH, 'blast_DB')\n",
    "OUT_PATH = os.path.join(BASE_OUT_PATH, 'allele_analysis')\n",
    "OUT_tmp = os.path.join(OUT_PATH, 'tmp')\n",
    "PROTEINORTHO_OUT_PATH = os.path.join(BASE_OUT_PATH, 'proteinortho')\n",
    "\n",
    "#renamed the allele path to reflect the proteinortho results\n",
    "ALLELE_PATH = os.path.join(OUT_PATH, 'alleles_proteinortho_graph516')\n",
    "if not os.path.isdir(OUT_PATH):\n",
    "    os.mkdir(OUT_PATH)\n",
    "if not os.path.isdir(OUT_tmp):\n",
    "    os.mkdir(OUT_tmp)\n",
    "if not os.path.exists(ALLELE_PATH):\n",
    "    os.mkdir(ALLELE_PATH)\n",
    "if not os.path.exists(BLAST_DB):\n",
    "    os.mkdir(BLAST_DB)\n",
    "if not os.path.exists(PROTEINORTHO_OUT_PATH):\n",
    "    os.mkdir(PROTEINORTHO_OUT_PATH)\n"
   ]
  },
  {
   "cell_type": "code",
   "execution_count": 5,
   "metadata": {},
   "outputs": [],
   "source": [
    "#Define your p and h genome and move it into the allele analysis folder\n",
    "p_genome = 'DK_0911_v03_p_ctg'\n",
    "h_genome = 'DK_0911_v03_h_ctg'\n",
    "genome_file_suffix = '.genome_file'\n",
    "for x in (x + '.fa' for x in [p_genome, h_genome]):\n",
    "    shutil.copy2(GENOME_PATH+'/'+x, OUT_tmp)"
   ]
  },
  {
   "cell_type": "code",
   "execution_count": 6,
   "metadata": {},
   "outputs": [],
   "source": [
    "#get proteinortho synteny file which ends with .poff\n",
    "poff_graph_fn = os.path.join(PROTEINORTHO_OUT_PATH, 'ph_ctg_516.poff-graph')"
   ]
  },
  {
   "cell_type": "code",
   "execution_count": 7,
   "metadata": {},
   "outputs": [],
   "source": [
    "#Define ENV parameters for blast hits and threads used in blast analysis\n",
    "n_threads = 16\n",
    "e_value = 1e-3\n",
    "Qcov_cut_off = 0 #this defines the mimimum coverage of the Query to be required for filtering. Will become part of name.\n",
    "PctID_cut_off = 70 #this defines the mimimum PctID accross the alignment to be required for filtering. Will become part of name."
   ]
  },
  {
   "cell_type": "code",
   "execution_count": 8,
   "metadata": {},
   "outputs": [],
   "source": [
    "def att_column_p(x, y, z, a, b):\n",
    "    '''Generate attribute column of h on p p_gff dataframe.\n",
    "    '''\n",
    "    string = 'h_contig=%s;query_start=%s;query_stop=%s;query_length=%s;query_aln_ln=%s' % (x, str(y), str(z), str(a), str(b))\n",
    "    return string"
   ]
  },
  {
   "cell_type": "code",
   "execution_count": 9,
   "metadata": {},
   "outputs": [],
   "source": [
    "def att_column_h(x, y, z, a, b):\n",
    "    '''Generate attribute column of h on p h_gff dataframe.\n",
    "    '''\n",
    "    string = 'p_contig=%s;ref_start=%s;ref_stop=%s;ref_length=%s;ref_aln_ln=%s' % (x, str(y), str(z), str(a), str(b))\n",
    "    return string"
   ]
  },
  {
   "cell_type": "code",
   "execution_count": 10,
   "metadata": {},
   "outputs": [],
   "source": [
    "def gene_contig_subset(df, contig, feature):\n",
    "    '''Input the gff and subset the feature columne by gene.\n",
    "        Return data frame subset by contig and gene'''\n",
    "    tmp_df = df[(df[0].str.contains(contig)) & (df[2]==feature)]\n",
    "    tmp_df.sort_values(3,inplace=True)\n",
    "    tmp_df.reset_index(drop=True, inplace=True)\n",
    "    return tmp_df"
   ]
  },
  {
   "cell_type": "code",
   "execution_count": 11,
   "metadata": {},
   "outputs": [],
   "source": [
    "def same_contig_blast(x,y):\n",
    "    '''Function that checks if the blast hit in column y is on the same contig as the the query sequence in\n",
    "    column y.\n",
    "    '''\n",
    "    q_contig = re.search(r'[p|h]([a-z]*_[0-9]*)_?', x).group(1)\n",
    "    if y != 'NaN':\n",
    "        hit_contig = re.search(r'[p|h]([a-z]*_[0-9]*)_?', y).group(1)\n",
    "    else:\n",
    "        hit_contig = 'NaN'\n",
    "    return q_contig == hit_contig"
   ]
  },
  {
   "cell_type": "code",
   "execution_count": 12,
   "metadata": {},
   "outputs": [],
   "source": [
    "def target_on_mapped_haplotig(t_contig, h_contig_overlap):\n",
    "    '''Simple function that checks if the target contig is in the list of h overlapping contigs'''\n",
    "    if t_contig == False or h_contig_overlap == False:\n",
    "        return False\n",
    "    return t_contig in h_contig_overlap"
   ]
  },
  {
   "cell_type": "markdown",
   "metadata": {},
   "source": [
    "#### Considerations for blast analysis\n",
    "Do gene blast and protein blast. Initially go off protein blast results. They should be more imformative as it also includes the coding region and the frame.\n",
    "> Pull this in as a dataframe and filter it down as well to each contig. Do blasts both ways as well.\n",
    "> Copy over primary & haplotig .protein.fa and .gene.fa files from the BASE_A_folder, if not already present."
   ]
  },
  {
   "cell_type": "code",
   "execution_count": 13,
   "metadata": {},
   "outputs": [
    {
     "name": "stdout",
     "output_type": "stream",
     "text": [
      "All databases generated and ready to go!\n"
     ]
    }
   ],
   "source": [
    "#generate the blast databases if not already present\n",
    "os.chdir(BLAST_DB)\n",
    "#copy over .protein.fa and .gene.fa files from the BASE_A_folder\n",
    "#if not already present. for both primary and haplotigs\n",
    "\n",
    "blast_dir_content = os.listdir(BLAST_DB)\n",
    "for x in blast_dir_content:\n",
    "    if x.endswith('.fa') and ({os.path.isfile(x + e) for e in ['.psq', '.phr', '.pin'] } != {True}\\\n",
    "           and {os.path.isfile(x + e) for e in ['.nin', '.nhr', '.nsq'] } != {True} ):\n",
    "\n",
    "        make_DB_options = ['-in']\n",
    "        make_DB_options.append(x)\n",
    "        make_DB_options.append('-dbtype')\n",
    "        if 'protein' in x:\n",
    "            make_DB_options.append('prot')\n",
    "        else:\n",
    "            make_DB_options.append('nucl')\n",
    "        make_DB_command = 'makeblastdb %s' % ' '.join(make_DB_options)\n",
    "        make_DB_stderr = subprocess.check_output(make_DB_command, shell=True, stderr=subprocess.STDOUT)\n",
    "        print('%s is done!' % make_DB_command)\n",
    "print(\"All databases generated and ready to go!\")"
   ]
  },
  {
   "cell_type": "code",
   "execution_count": 14,
   "metadata": {
    "scrolled": false
   },
   "outputs": [
    {
     "name": "stdout",
     "output_type": "stream",
     "text": [
      "\n",
      "Blasting DK_0911_v03_h_ctg.protein.fa ...\n",
      "Blast command generated:\n",
      "blastp -query DK_0911_v03_p_ctg.protein.fa -db DK_0911_v03_h_ctg.protein.fa -outfmt 6 -evalue 0.001 -num_threads 16 > /home/gamran/genome_analysis/Warrior/Richard/output/defining_alleles/allele_analysis/DK_0911_v03_p_ctg.DK_0911_v03_h_ctg.0.001.blastp.outfmt6\n",
      "Blast command previous completed!\n",
      "\n",
      "Blasting DK_0911_v03_p_ctg.protein.fa ...\n",
      "Blast command generated:\n",
      "blastp -query DK_0911_v03_h_ctg.protein.fa -db DK_0911_v03_p_ctg.protein.fa -outfmt 6 -evalue 0.001 -num_threads 16 > /home/gamran/genome_analysis/Warrior/Richard/output/defining_alleles/allele_analysis/DK_0911_v03_h_ctg.DK_0911_v03_p_ctg.0.001.blastp.outfmt6\n",
      "Blast command previous completed!\n",
      "\n",
      "Blasting DK_0911_v03_p_ctg.gene.fa ...\n",
      "Blast command generated:\n",
      "blastn -query DK_0911_v03_h_ctg.gene.fa -db DK_0911_v03_p_ctg.gene.fa -outfmt 6 -evalue 0.001 -num_threads 16 > /home/gamran/genome_analysis/Warrior/Richard/output/defining_alleles/allele_analysis/DK_0911_v03_h_ctg.DK_0911_v03_p_ctg.0.001.blastn.outfmt6\n",
      "Blast command previous completed!\n",
      "\n",
      "Blasting DK_0911_v03_h_ctg.gene.fa ...\n",
      "Blast command generated:\n",
      "blastn -query DK_0911_v03_p_ctg.gene.fa -db DK_0911_v03_h_ctg.gene.fa -outfmt 6 -evalue 0.001 -num_threads 16 > /home/gamran/genome_analysis/Warrior/Richard/output/defining_alleles/allele_analysis/DK_0911_v03_p_ctg.DK_0911_v03_h_ctg.0.001.blastn.outfmt6\n",
      "Blast command previous completed!\n"
     ]
    }
   ],
   "source": [
    "blast_dict = {}\n",
    "blast_dict['gene_fa'] = [x for x  in os.listdir(BLAST_DB) if x.endswith('gene.fa') and 'ph_ctg' not in x]\n",
    "blast_dict['protein_fa'] = [x for x  in os.listdir(BLAST_DB) if x.endswith('protein.fa') and 'ph_ctg' not in x]\n",
    "blast_stderr_dict = {}\n",
    "for key in blast_dict.keys():\n",
    "    for n, query in enumerate(blast_dict[key]):\n",
    "        tmp_list = blast_dict[key][:]\n",
    "        tmp_stderr_list = []\n",
    "        #this loops through all remaining files and does blast against all those\n",
    "        del tmp_list[n]\n",
    "        for db in tmp_list:\n",
    "            print(\"\\nBlasting %s ...\" %db)\n",
    "            blast_options = ['-query']\n",
    "            blast_options.append(query)\n",
    "            blast_options.append('-db')\n",
    "\n",
    "            blast_options.append(db)\n",
    "            blast_options.append('-outfmt 6')\n",
    "            blast_options.append('-evalue')\n",
    "            blast_options.append(str(e_value))\n",
    "            blast_options.append('-num_threads')\n",
    "            blast_options.append(str(n_threads))\n",
    "            blast_options.append('>')\n",
    "            if 'gene' in query and 'gene' in db:\n",
    "                out_name_list = [ query.split('.')[0], db.split('.')[0], str(e_value), 'blastn.outfmt6']\n",
    "                out_name = os.path.join(OUT_PATH,'.'.join(out_name_list))\n",
    "                blast_options.append(out_name)\n",
    "                blast_command = 'blastn %s' % ' '.join(blast_options)\n",
    "            elif 'protein' in query and 'protein' in db:\n",
    "                out_name_list = [ query.split('.')[0], db.split('.')[0], str(e_value), 'blastp.outfmt6']\n",
    "                out_name = os.path.join(OUT_PATH,'.'.join(out_name_list))\n",
    "                blast_options.append(out_name)\n",
    "                blast_command = 'blastp %s' % ' '.join(blast_options)\n",
    "            print(\"Blast command generated:\\n%s\" % blast_command)\n",
    "            if not os.path.exists(out_name):\n",
    "                print(\"Executing new blast command...\")\n",
    "                blast_stderr_dict[blast_command] = subprocess.check_output(blast_command, shell=True, stderr=subprocess.STDOUT)\n",
    "                print(\"New blast executed!\")\n",
    "            else:\n",
    "                blast_stderr_dict[blast_command] = 'Previously done already!'\n",
    "                print(\"Blast command completed previously!\")"
   ]
  },
  {
   "cell_type": "code",
   "execution_count": 15,
   "metadata": {},
   "outputs": [],
   "source": [
    "#make a sequence length dict for all genes and proteins for which blast was performed\n",
    "seq_list = []\n",
    "length_list =[]\n",
    "for key in blast_dict.keys():\n",
    "    for file in blast_dict[key]:\n",
    "        for seq in SeqIO.parse(open(file), 'fasta'):\n",
    "            seq_list.append(seq.id)\n",
    "            length_list.append(len(seq.seq))\n",
    "length_dict = dict(zip(seq_list, length_list))"
   ]
  },
  {
   "cell_type": "code",
   "execution_count": 16,
   "metadata": {},
   "outputs": [],
   "source": [
    "#get assemblytics folders\n",
    "ass_folders = [os.path.join(ASSEMBLYTICS_IN_PATH, x) for x in os.listdir(ASSEMBLYTICS_IN_PATH) if x.endswith('_php_8kbp')]\n",
    "ass_folders.sort()"
   ]
  },
  {
   "cell_type": "code",
   "execution_count": 19,
   "metadata": {},
   "outputs": [],
   "source": [
    "os.chdir('/home/gamran/genome_analysis/Warrior/Richard/scripts')\n",
    "%run DK_0911_v03_dictionaries.ipynb\n",
    "locusToIdDict = getLocusToIdDict()"
   ]
  },
  {
   "cell_type": "code",
   "execution_count": 267,
   "metadata": {},
   "outputs": [],
   "source": [
    "def same_contig_blast(x,y):\n",
    "    '''Function that checks if the blast hit in columne y is on the same contig as the the query sequence in\n",
    "    column y.\n",
    "    '''\n",
    "    try:\n",
    "        q_contig = re.search(r'[p|h]([a-z]*_[0-9]*)_?', x).group(1)\n",
    "        if y != 'NaN':\n",
    "            hit_contig = re.search(r'[p|h]([a-z]*_[0-9]*)_?', y).group(1)\n",
    "        else:\n",
    "            hit_contig = 'NaN'\n",
    "        return q_contig == hit_contig\n",
    "    except AttributeError:\n",
    "        print(\"AttributeError\\nx: %s\\ny: %s\" % (x, y))\n",
    "        sys.exit()\n",
    "    except TypeError:\n",
    "        print(\"x: %s\\ny: %s\" % (x, y))\n",
    "        print(\"TypeError\\ntype(x): %s\\ntype(y): %s\" % (type(x), type(y)))\n",
    "        sys.exit()\n"
   ]
  },
  {
   "cell_type": "code",
   "execution_count": 268,
   "metadata": {},
   "outputs": [],
   "source": [
    "def mapWithDict(x):\n",
    "    if x == 'NaN':\n",
    "        return x\n",
    "    if x in locusToIdDict:\n",
    "        return locusToIdDict[x]\n",
    "    print(\"x: %s\\n is not in the dictionary mapping loci to id.\" %x)\n",
    "    sys.exit()"
   ]
  },
  {
   "cell_type": "code",
   "execution_count": 269,
   "metadata": {},
   "outputs": [],
   "source": [
    "#read in the blast df and add QLgth and QCov columns\n",
    "blast_out_dict = {}\n",
    "blast_header = ['Query', 'Target', 'PctID', 'AlnLgth', 'NumMis', 'NumGap', 'StartQuery', 'StopQuery', 'StartTarget',\\\n",
    "              'StopTarget', 'e-value','BitScore']\n",
    "for key in blast_stderr_dict.keys():\n",
    "    file_loc = key.split('>')[-1][1:]\n",
    "    # file_loc = .../output/defining_alleles/allele_analysis/DK_0911_v03_h_ctg.DK_0911_v03_p_ctg.0.001.blastp.outfmt6\n",
    "    \n",
    "    file_name = file_loc.split('/')[-1]\n",
    "    # DK_0911_v03_h_ctg.DK_0911_v03_p_ctg.0.001.blastp.outfmt6\n",
    "    \n",
    "    tmp_df = pd.read_csv(file_loc, sep='\\t', header=None, names=blast_header)\n",
    "    \n",
    "    tmp_df['QLgth'] = tmp_df['Query'].apply(lambda x: length_dict[x])\n",
    "    tmp_df['QCov'] = tmp_df['AlnLgth']/tmp_df['QLgth']*100\n",
    "    \n",
    "    tmp_df.sort_values(by=['Query', 'e-value','BitScore', ],ascending=[True, True, False], inplace=True)\n",
    "    \n",
    "    # assert(len(tmp_df.loc[tmp_df['Query'] == 'pcontig_000:10023-10824']) == 0)\n",
    "    \n",
    "    #now make sure to add proteins/genes without blast hit to the DataFrame\n",
    "    #check if gene blast or protein blast and pull out respective query file\n",
    "    if file_loc.split('.')[-2] == 'blastp':\n",
    "        tmp_blast_seq = [x for x in blast_dict['protein_fa'] if x.startswith(file_name.split('.')[0])][0]\n",
    "    elif file_loc.split('.')[-2] == 'blastn':\n",
    "        tmp_blast_seq = [x for x in blast_dict['gene_fa'] if x.startswith(file_name.split('.')[0])][0]\n",
    "    tmp_all_blast_seq = []\n",
    "    #make list of all query sequences\n",
    "    for seq in SeqIO.parse(os.path.join(BLAST_DB, tmp_blast_seq), 'fasta'):\n",
    "        tmp_all_blast_seq.append(str(seq.id))\n",
    "    tmp_all_queries_w_hit = tmp_df[\"Query\"].unique()\n",
    "    tmp_queries_no_hit = set(tmp_all_blast_seq) - set(tmp_all_queries_w_hit)\n",
    "    no_hit_list = []\n",
    "    \n",
    "    #loop over the quieres with no hit and make list of list out of them the first element being the query id\n",
    "    for x in tmp_queries_no_hit:\n",
    "        NA_list = ['NaN'] * len(tmp_df.columns)\n",
    "        NA_list[0] = x\n",
    "        no_hit_list.append(NA_list)\n",
    "    \n",
    "    tmp_no_hit_df = pd.DataFrame(no_hit_list)\n",
    "    tmp_no_hit_df.columns = tmp_df.columns\n",
    "    tmp_no_hit_df['QLgth'] = tmp_no_hit_df.Query.apply(lambda x: length_dict[x])\n",
    "    #map stuff ad the tmp level\n",
    "    \n",
    "    tmp_df = tmp_df.append(tmp_no_hit_df)\n",
    "    assert(len(tmp_df.loc[tmp_df['Query'] == 'NaN']) == 0)\n",
    "    \n",
    "    # assert(len(tmp_df.loc[tmp_df['Query'] == 'pcontig_000:10023-10824']) == 0)\n",
    "    tmp_df['Query'] = tmp_df['Query'].apply(mapWithDict)\n",
    "    tmp_df['Target'] = tmp_df['Target'].apply(mapWithDict)\n",
    "    \n",
    "    tmp_df['q_contig'] = tmp_df['Query'].str.extract(r'([p|h][a-z]*_[^.]*).?', expand = False)\n",
    "    tmp_df['t_contig'] = tmp_df['Target'].str.extract(r'([p|h][a-z]*_[^.]*).?', expand = False)\n",
    "    # print(tmp_df['q_contig'])\n",
    "    \n",
    "    #fix that if you don't extract anything return False and not 'nan'\n",
    "    tmp_df['t_contig'].fillna(False, inplace=True)\n",
    "    \n",
    "    # print(tmp_df.apply(lambda row: print(row['Query'])), axis = 1)\n",
    "    \n",
    "    tmp_df['q_contig == t_contig'] = tmp_df.apply(lambda row: same_contig_blast(row['Query'], row['Target']), axis = 1)\n",
    "    tmp_df.reset_index(inplace=True, drop=True)\n",
    "    blast_out_dict[file_name] = tmp_df.iloc[:,:]"
   ]
  },
  {
   "cell_type": "code",
   "execution_count": 270,
   "metadata": {},
   "outputs": [
    {
     "name": "stderr",
     "output_type": "stream",
     "text": [
      "/home/gamran/anaconda3/lib/python3.5/site-packages/ipykernel/__main__.py:5: SettingWithCopyWarning: \n",
      "A value is trying to be set on a copy of a slice from a DataFrame\n",
      "\n",
      "See the caveats in the documentation: http://pandas.pydata.org/pandas-docs/stable/indexing.html#indexing-view-versus-copy\n"
     ]
    },
    {
     "name": "stdout",
     "output_type": "stream",
     "text": [
      "Check on /home/gamran/genome_analysis/Warrior/Richard/output/nucmer_assemblytics/Assemblytics/DK_0911_v03_pcontig_075_php_8kbp assemblytics\n"
     ]
    }
   ],
   "source": [
    "for folder in ass_folders:\n",
    "    '''\n",
    "    From oriented_coords.csv files generate gff files with the following set up.\n",
    "    h_contig overlap\n",
    "    'query', 'ref', 'h_feature', 'query_start', 'query_end', 'query_aln_len', 'strand', 'frame', 'attribute_h'\n",
    "    p_contig overlap\n",
    "    'ref', 'query', 'p_feature','ref_start','ref_end', 'alignment_length', 'strand', 'frame', 'attribute_p'.\n",
    "    Save those file in a new folder for further downstream analysis. The same folder should include the contig and gene filtered\n",
    "    gffs. \n",
    "    '''\n",
    "    orient_coords_file = [os.path.join(folder, x) for x in os.listdir(folder) if x.endswith('oriented_coords.csv')][0]\n",
    "    #load in df and generate several additions columns\n",
    "    tmp_df = pd.read_csv(orient_coords_file, sep=',')\n",
    "    #check if there is any resonable alignment if not go to the next one\n",
    "    if len(tmp_df) == 0:\n",
    "        print('Check on %s assemblytics' % (folder))\n",
    "        continue\n",
    "    tmp_df['p_feature'] = \"haplotig\"\n",
    "    tmp_df['h_feature'] ='primary_contig'\n",
    "    tmp_df['strand'] = \"+\"\n",
    "    tmp_df['frame'] = 0\n",
    "    tmp_df['query_aln_len'] = abs(tmp_df['query_end']-tmp_df['query_start'])\n",
    "    tmp_df['alignment_length'] = abs(tmp_df['ref_end'] - tmp_df['ref_start'])\n",
    "    tmp_df.reset_index(drop=True, inplace=True)\n",
    "    tmp_df.sort_values('query', inplace=True)\n",
    "    tmp_df['attribute_p'] = tmp_df.apply(lambda row: att_column_p(row['query'],row['query_start'], row['query_end'],\\\n",
    "                                                         row['query_length'], row['query_aln_len']), axis=1)\n",
    "    \n",
    "    tmp_df['attribute_h'] = tmp_df.apply(lambda row: att_column_h(row['ref'], row['ref_start'], row['ref_end'],\\\n",
    "                                                                  row['ref_length'], row['alignment_length']), axis=1)\n",
    "    \n",
    "    #generate tmp gff dataframe\n",
    "    tmp_p_gff_df = tmp_df.loc[:, ['ref', 'query', 'p_feature','ref_start','ref_end', 'alignment_length', 'strand', 'frame', 'attribute_p']]\n",
    "    #now filter added if start < stop swap round. And if start == 0. This was mostly?! only? the case for haplotigs\n",
    "    tmp_p_gff_df['comp'] = tmp_p_gff_df['ref_start'] - tmp_p_gff_df['ref_end']\n",
    "    tmp_swap_index  = tmp_p_gff_df['comp'] > 0\n",
    "    tmp_p_gff_df.loc[tmp_swap_index, 'ref_start'] , tmp_p_gff_df.loc[tmp_swap_index, 'ref_end'] = tmp_p_gff_df['ref_end'], tmp_p_gff_df['ref_start']\n",
    "    #and if 'ref_start' == g\n",
    "    is_null_index  = tmp_p_gff_df['ref_start'] == 0\n",
    "    tmp_p_gff_df.loc[is_null_index, 'ref_start'] = 1\n",
    "    tmp_p_gff_df = tmp_p_gff_df.iloc[:, 0:9]\n",
    "    tmp_p_gff_df.sort_values('ref_start',inplace=True)\n",
    "    tmp_h_gff_df = tmp_df.loc[:, ['query', 'ref', 'h_feature', 'query_start', 'query_end', 'query_aln_len', 'strand', 'frame', 'attribute_h']]\n",
    "    #same fix for tmp_h_gff\n",
    "    tmp_h_gff_df['comp'] = tmp_h_gff_df['query_start'] - tmp_h_gff_df['query_end']\n",
    "    tmp_swap_index  = tmp_h_gff_df['comp'] > 0\n",
    "    tmp_h_gff_df.loc[tmp_swap_index, 'query_start'] , tmp_h_gff_df.loc[tmp_swap_index, 'query_end'] = tmp_h_gff_df['query_end'], tmp_h_gff_df['query_start']\n",
    "    #and if 'query_start' == g\n",
    "    is_null_index  = tmp_h_gff_df['query_start'] == 0\n",
    "    tmp_h_gff_df.loc[is_null_index, 'query_start'] = 1\n",
    "    tmp_h_gff_df = tmp_h_gff_df.iloc[:, 0:9]\n",
    "    tmp_h_gff_df.sort_values('query_start', inplace=True)\n",
    "    #make the outfolder and save gff files of overlap and filtered gene files\n",
    "    folder_suffix = folder.split('/')[-1]\n",
    "    #get the contig\n",
    "    contig = re.search(r'p([a-z]*_[0-9]*)_', folder_suffix).group(1)\n",
    "    out_folder = os.path.join(OUT_PATH, folder_suffix)\n",
    "    if not os.path.exists(out_folder):\n",
    "        os.mkdir(out_folder)\n",
    "    out_name_p = os.path.join(out_folder, folder_suffix )\n",
    "    tmp_p_gff_df.to_csv(out_name_p+'.p_by_h_cov.gff', sep='\\t' ,header=None, index =None)\n",
    "    out_name_h =  os.path.join(out_folder, folder_suffix)\n",
    "    tmp_h_gff_df.to_csv(out_name_h+'.h_by_p_cov.gff' , sep='\\t' ,header=None, index =None)\n",
    "    #write those out to new folder for php together with the p and h gff of genes\n",
    "    p_gene_gff = gene_contig_subset(p_gff, contig, 'gene')\n",
    "    p_gene_gff.to_csv(out_name_p+'.p_gene.gff', sep='\\t' ,header=None, index =None)\n",
    "    h_gene_gff = gene_contig_subset(h_gff, contig, 'gene')\n",
    "    h_gene_gff.to_csv(out_name_h+'.h_gene.gff', sep='\\t' ,header=None, index =None)\n",
    "    \n",
    "    #next would be to do overlap between the gene gff and the corresponding alignment gff. Write this out. Dict for each gene and its corresponding h_contig/p_contig\n",
    "    "
   ]
  },
  {
   "cell_type": "code",
   "execution_count": 271,
   "metadata": {},
   "outputs": [
    {
     "data": {
      "text/html": [
       "<div>\n",
       "<table border=\"1\" class=\"dataframe\">\n",
       "  <thead>\n",
       "    <tr style=\"text-align: right;\">\n",
       "      <th></th>\n",
       "      <th>0</th>\n",
       "      <th>1</th>\n",
       "      <th>2</th>\n",
       "      <th>3</th>\n",
       "      <th>4</th>\n",
       "      <th>5</th>\n",
       "      <th>6</th>\n",
       "      <th>7</th>\n",
       "      <th>8</th>\n",
       "    </tr>\n",
       "  </thead>\n",
       "  <tbody>\n",
       "    <tr>\n",
       "      <th>0</th>\n",
       "      <td>pcontig_107</td>\n",
       "      <td>EVM</td>\n",
       "      <td>gene</td>\n",
       "      <td>17</td>\n",
       "      <td>416</td>\n",
       "      <td>.</td>\n",
       "      <td>-</td>\n",
       "      <td>.</td>\n",
       "      <td>ID=evm.TU.pcontig_107.1;locus_tag=DK0911_18212...</td>\n",
       "    </tr>\n",
       "    <tr>\n",
       "      <th>1</th>\n",
       "      <td>pcontig_107</td>\n",
       "      <td>EVM</td>\n",
       "      <td>gene</td>\n",
       "      <td>570</td>\n",
       "      <td>1161</td>\n",
       "      <td>.</td>\n",
       "      <td>+</td>\n",
       "      <td>.</td>\n",
       "      <td>ID=evm.TU.pcontig_107.2;locus_tag=DK0911_18213...</td>\n",
       "    </tr>\n",
       "    <tr>\n",
       "      <th>2</th>\n",
       "      <td>pcontig_107</td>\n",
       "      <td>EVM</td>\n",
       "      <td>gene</td>\n",
       "      <td>1726</td>\n",
       "      <td>4134</td>\n",
       "      <td>.</td>\n",
       "      <td>+</td>\n",
       "      <td>.</td>\n",
       "      <td>ID=evm.TU.pcontig_107.3;locus_tag=DK0911_18214...</td>\n",
       "    </tr>\n",
       "    <tr>\n",
       "      <th>3</th>\n",
       "      <td>pcontig_107</td>\n",
       "      <td>EVM</td>\n",
       "      <td>gene</td>\n",
       "      <td>4177</td>\n",
       "      <td>6307</td>\n",
       "      <td>.</td>\n",
       "      <td>+</td>\n",
       "      <td>.</td>\n",
       "      <td>ID=evm.TU.pcontig_107.4;locus_tag=DK0911_18215...</td>\n",
       "    </tr>\n",
       "    <tr>\n",
       "      <th>4</th>\n",
       "      <td>pcontig_107</td>\n",
       "      <td>EVM</td>\n",
       "      <td>gene</td>\n",
       "      <td>6742</td>\n",
       "      <td>7821</td>\n",
       "      <td>.</td>\n",
       "      <td>-</td>\n",
       "      <td>.</td>\n",
       "      <td>ID=evm.TU.pcontig_107.5;locus_tag=DK0911_18216...</td>\n",
       "    </tr>\n",
       "  </tbody>\n",
       "</table>\n",
       "</div>"
      ],
      "text/plain": [
       "             0    1     2     3     4  5  6  7  \\\n",
       "0  pcontig_107  EVM  gene    17   416  .  -  .   \n",
       "1  pcontig_107  EVM  gene   570  1161  .  +  .   \n",
       "2  pcontig_107  EVM  gene  1726  4134  .  +  .   \n",
       "3  pcontig_107  EVM  gene  4177  6307  .  +  .   \n",
       "4  pcontig_107  EVM  gene  6742  7821  .  -  .   \n",
       "\n",
       "                                                   8  \n",
       "0  ID=evm.TU.pcontig_107.1;locus_tag=DK0911_18212...  \n",
       "1  ID=evm.TU.pcontig_107.2;locus_tag=DK0911_18213...  \n",
       "2  ID=evm.TU.pcontig_107.3;locus_tag=DK0911_18214...  \n",
       "3  ID=evm.TU.pcontig_107.4;locus_tag=DK0911_18215...  \n",
       "4  ID=evm.TU.pcontig_107.5;locus_tag=DK0911_18216...  "
      ]
     },
     "execution_count": 271,
     "metadata": {},
     "output_type": "execute_result"
    }
   ],
   "source": [
    "p_gene_gff.head()"
   ]
  },
  {
   "cell_type": "code",
   "execution_count": 272,
   "metadata": {},
   "outputs": [],
   "source": [
    "#now loop over the outfolders\n",
    "out_folders = [os.path.join(OUT_PATH, x) for x in os.listdir(OUT_PATH) if x.endswith('_php_8kbp')]\n",
    "out_folders.sort()"
   ]
  },
  {
   "cell_type": "code",
   "execution_count": 273,
   "metadata": {},
   "outputs": [
    {
     "name": "stdout",
     "output_type": "stream",
     "text": [
      "This is the length of the intersect 786\n"
     ]
    },
    {
     "name": "stderr",
     "output_type": "stream",
     "text": [
      "/home/gamran/anaconda3/lib/python3.5/site-packages/pybedtools/bedtool.py:3287: UserWarning: Default names for filetype gff are:\n",
      "['seqname', 'source', 'feature', 'start', 'end', 'score', 'strand', 'frame', 'attributes']\n",
      "but file has 18 fields; you can supply custom names with the `names` kwarg\n",
      "  % (self.file_type, _names, self.field_count()))\n"
     ]
    },
    {
     "name": "stdout",
     "output_type": "stream",
     "text": [
      "This is the length of the intersect 472\n"
     ]
    },
    {
     "name": "stderr",
     "output_type": "stream",
     "text": [
      "/home/gamran/anaconda3/lib/python3.5/site-packages/pybedtools/bedtool.py:3287: UserWarning: Default names for filetype gff are:\n",
      "['seqname', 'source', 'feature', 'start', 'end', 'score', 'strand', 'frame', 'attributes']\n",
      "but file has 18 fields; you can supply custom names with the `names` kwarg\n",
      "  % (self.file_type, _names, self.field_count()))\n"
     ]
    },
    {
     "name": "stdout",
     "output_type": "stream",
     "text": [
      "This is the length of the intersect 552\n"
     ]
    },
    {
     "name": "stderr",
     "output_type": "stream",
     "text": [
      "/home/gamran/anaconda3/lib/python3.5/site-packages/pybedtools/bedtool.py:3287: UserWarning: Default names for filetype gff are:\n",
      "['seqname', 'source', 'feature', 'start', 'end', 'score', 'strand', 'frame', 'attributes']\n",
      "but file has 18 fields; you can supply custom names with the `names` kwarg\n",
      "  % (self.file_type, _names, self.field_count()))\n"
     ]
    },
    {
     "name": "stdout",
     "output_type": "stream",
     "text": [
      "This is the length of the intersect 500\n"
     ]
    },
    {
     "name": "stderr",
     "output_type": "stream",
     "text": [
      "/home/gamran/anaconda3/lib/python3.5/site-packages/pybedtools/bedtool.py:3287: UserWarning: Default names for filetype gff are:\n",
      "['seqname', 'source', 'feature', 'start', 'end', 'score', 'strand', 'frame', 'attributes']\n",
      "but file has 18 fields; you can supply custom names with the `names` kwarg\n",
      "  % (self.file_type, _names, self.field_count()))\n"
     ]
    },
    {
     "name": "stdout",
     "output_type": "stream",
     "text": [
      "This is the length of the intersect 498\n"
     ]
    },
    {
     "name": "stderr",
     "output_type": "stream",
     "text": [
      "/home/gamran/anaconda3/lib/python3.5/site-packages/pybedtools/bedtool.py:3287: UserWarning: Default names for filetype gff are:\n",
      "['seqname', 'source', 'feature', 'start', 'end', 'score', 'strand', 'frame', 'attributes']\n",
      "but file has 18 fields; you can supply custom names with the `names` kwarg\n",
      "  % (self.file_type, _names, self.field_count()))\n"
     ]
    },
    {
     "name": "stdout",
     "output_type": "stream",
     "text": [
      "This is the length of the intersect 457\n"
     ]
    },
    {
     "name": "stderr",
     "output_type": "stream",
     "text": [
      "/home/gamran/anaconda3/lib/python3.5/site-packages/pybedtools/bedtool.py:3287: UserWarning: Default names for filetype gff are:\n",
      "['seqname', 'source', 'feature', 'start', 'end', 'score', 'strand', 'frame', 'attributes']\n",
      "but file has 18 fields; you can supply custom names with the `names` kwarg\n",
      "  % (self.file_type, _names, self.field_count()))\n"
     ]
    },
    {
     "name": "stdout",
     "output_type": "stream",
     "text": [
      "This is the length of the intersect 358\n"
     ]
    },
    {
     "name": "stderr",
     "output_type": "stream",
     "text": [
      "/home/gamran/anaconda3/lib/python3.5/site-packages/pybedtools/bedtool.py:3287: UserWarning: Default names for filetype gff are:\n",
      "['seqname', 'source', 'feature', 'start', 'end', 'score', 'strand', 'frame', 'attributes']\n",
      "but file has 18 fields; you can supply custom names with the `names` kwarg\n",
      "  % (self.file_type, _names, self.field_count()))\n"
     ]
    },
    {
     "name": "stdout",
     "output_type": "stream",
     "text": [
      "This is the length of the intersect 334\n"
     ]
    },
    {
     "name": "stderr",
     "output_type": "stream",
     "text": [
      "/home/gamran/anaconda3/lib/python3.5/site-packages/pybedtools/bedtool.py:3287: UserWarning: Default names for filetype gff are:\n",
      "['seqname', 'source', 'feature', 'start', 'end', 'score', 'strand', 'frame', 'attributes']\n",
      "but file has 18 fields; you can supply custom names with the `names` kwarg\n",
      "  % (self.file_type, _names, self.field_count()))\n"
     ]
    },
    {
     "name": "stdout",
     "output_type": "stream",
     "text": [
      "This is the length of the intersect 417\n"
     ]
    },
    {
     "name": "stderr",
     "output_type": "stream",
     "text": [
      "/home/gamran/anaconda3/lib/python3.5/site-packages/pybedtools/bedtool.py:3287: UserWarning: Default names for filetype gff are:\n",
      "['seqname', 'source', 'feature', 'start', 'end', 'score', 'strand', 'frame', 'attributes']\n",
      "but file has 18 fields; you can supply custom names with the `names` kwarg\n",
      "  % (self.file_type, _names, self.field_count()))\n"
     ]
    },
    {
     "name": "stdout",
     "output_type": "stream",
     "text": [
      "This is the length of the intersect 302\n"
     ]
    },
    {
     "name": "stderr",
     "output_type": "stream",
     "text": [
      "/home/gamran/anaconda3/lib/python3.5/site-packages/pybedtools/bedtool.py:3287: UserWarning: Default names for filetype gff are:\n",
      "['seqname', 'source', 'feature', 'start', 'end', 'score', 'strand', 'frame', 'attributes']\n",
      "but file has 18 fields; you can supply custom names with the `names` kwarg\n",
      "  % (self.file_type, _names, self.field_count()))\n"
     ]
    },
    {
     "name": "stdout",
     "output_type": "stream",
     "text": [
      "This is the length of the intersect 365\n"
     ]
    },
    {
     "name": "stderr",
     "output_type": "stream",
     "text": [
      "/home/gamran/anaconda3/lib/python3.5/site-packages/pybedtools/bedtool.py:3287: UserWarning: Default names for filetype gff are:\n",
      "['seqname', 'source', 'feature', 'start', 'end', 'score', 'strand', 'frame', 'attributes']\n",
      "but file has 18 fields; you can supply custom names with the `names` kwarg\n",
      "  % (self.file_type, _names, self.field_count()))\n"
     ]
    },
    {
     "name": "stdout",
     "output_type": "stream",
     "text": [
      "This is the length of the intersect 344\n"
     ]
    },
    {
     "name": "stderr",
     "output_type": "stream",
     "text": [
      "/home/gamran/anaconda3/lib/python3.5/site-packages/pybedtools/bedtool.py:3287: UserWarning: Default names for filetype gff are:\n",
      "['seqname', 'source', 'feature', 'start', 'end', 'score', 'strand', 'frame', 'attributes']\n",
      "but file has 18 fields; you can supply custom names with the `names` kwarg\n",
      "  % (self.file_type, _names, self.field_count()))\n"
     ]
    },
    {
     "name": "stdout",
     "output_type": "stream",
     "text": [
      "This is the length of the intersect 402\n"
     ]
    },
    {
     "name": "stderr",
     "output_type": "stream",
     "text": [
      "/home/gamran/anaconda3/lib/python3.5/site-packages/pybedtools/bedtool.py:3287: UserWarning: Default names for filetype gff are:\n",
      "['seqname', 'source', 'feature', 'start', 'end', 'score', 'strand', 'frame', 'attributes']\n",
      "but file has 18 fields; you can supply custom names with the `names` kwarg\n",
      "  % (self.file_type, _names, self.field_count()))\n"
     ]
    },
    {
     "name": "stdout",
     "output_type": "stream",
     "text": [
      "This is the length of the intersect 95\n"
     ]
    },
    {
     "name": "stderr",
     "output_type": "stream",
     "text": [
      "/home/gamran/anaconda3/lib/python3.5/site-packages/pybedtools/bedtool.py:3287: UserWarning: Default names for filetype gff are:\n",
      "['seqname', 'source', 'feature', 'start', 'end', 'score', 'strand', 'frame', 'attributes']\n",
      "but file has 18 fields; you can supply custom names with the `names` kwarg\n",
      "  % (self.file_type, _names, self.field_count()))\n"
     ]
    },
    {
     "name": "stdout",
     "output_type": "stream",
     "text": [
      "This is the length of the intersect 336\n"
     ]
    },
    {
     "name": "stderr",
     "output_type": "stream",
     "text": [
      "/home/gamran/anaconda3/lib/python3.5/site-packages/pybedtools/bedtool.py:3287: UserWarning: Default names for filetype gff are:\n",
      "['seqname', 'source', 'feature', 'start', 'end', 'score', 'strand', 'frame', 'attributes']\n",
      "but file has 18 fields; you can supply custom names with the `names` kwarg\n",
      "  % (self.file_type, _names, self.field_count()))\n"
     ]
    },
    {
     "name": "stdout",
     "output_type": "stream",
     "text": [
      "This is the length of the intersect 291\n"
     ]
    },
    {
     "name": "stderr",
     "output_type": "stream",
     "text": [
      "/home/gamran/anaconda3/lib/python3.5/site-packages/pybedtools/bedtool.py:3287: UserWarning: Default names for filetype gff are:\n",
      "['seqname', 'source', 'feature', 'start', 'end', 'score', 'strand', 'frame', 'attributes']\n",
      "but file has 18 fields; you can supply custom names with the `names` kwarg\n",
      "  % (self.file_type, _names, self.field_count()))\n"
     ]
    },
    {
     "name": "stdout",
     "output_type": "stream",
     "text": [
      "This is the length of the intersect 302\n"
     ]
    },
    {
     "name": "stderr",
     "output_type": "stream",
     "text": [
      "/home/gamran/anaconda3/lib/python3.5/site-packages/pybedtools/bedtool.py:3287: UserWarning: Default names for filetype gff are:\n",
      "['seqname', 'source', 'feature', 'start', 'end', 'score', 'strand', 'frame', 'attributes']\n",
      "but file has 18 fields; you can supply custom names with the `names` kwarg\n",
      "  % (self.file_type, _names, self.field_count()))\n"
     ]
    },
    {
     "name": "stdout",
     "output_type": "stream",
     "text": [
      "This is the length of the intersect 241\n"
     ]
    },
    {
     "name": "stderr",
     "output_type": "stream",
     "text": [
      "/home/gamran/anaconda3/lib/python3.5/site-packages/pybedtools/bedtool.py:3287: UserWarning: Default names for filetype gff are:\n",
      "['seqname', 'source', 'feature', 'start', 'end', 'score', 'strand', 'frame', 'attributes']\n",
      "but file has 18 fields; you can supply custom names with the `names` kwarg\n",
      "  % (self.file_type, _names, self.field_count()))\n"
     ]
    },
    {
     "name": "stdout",
     "output_type": "stream",
     "text": [
      "This is the length of the intersect 241\n"
     ]
    },
    {
     "name": "stderr",
     "output_type": "stream",
     "text": [
      "/home/gamran/anaconda3/lib/python3.5/site-packages/pybedtools/bedtool.py:3287: UserWarning: Default names for filetype gff are:\n",
      "['seqname', 'source', 'feature', 'start', 'end', 'score', 'strand', 'frame', 'attributes']\n",
      "but file has 18 fields; you can supply custom names with the `names` kwarg\n",
      "  % (self.file_type, _names, self.field_count()))\n"
     ]
    },
    {
     "name": "stdout",
     "output_type": "stream",
     "text": [
      "This is the length of the intersect 275\n"
     ]
    },
    {
     "name": "stderr",
     "output_type": "stream",
     "text": [
      "/home/gamran/anaconda3/lib/python3.5/site-packages/pybedtools/bedtool.py:3287: UserWarning: Default names for filetype gff are:\n",
      "['seqname', 'source', 'feature', 'start', 'end', 'score', 'strand', 'frame', 'attributes']\n",
      "but file has 18 fields; you can supply custom names with the `names` kwarg\n",
      "  % (self.file_type, _names, self.field_count()))\n"
     ]
    },
    {
     "name": "stdout",
     "output_type": "stream",
     "text": [
      "This is the length of the intersect 246\n"
     ]
    },
    {
     "name": "stderr",
     "output_type": "stream",
     "text": [
      "/home/gamran/anaconda3/lib/python3.5/site-packages/pybedtools/bedtool.py:3287: UserWarning: Default names for filetype gff are:\n",
      "['seqname', 'source', 'feature', 'start', 'end', 'score', 'strand', 'frame', 'attributes']\n",
      "but file has 18 fields; you can supply custom names with the `names` kwarg\n",
      "  % (self.file_type, _names, self.field_count()))\n"
     ]
    },
    {
     "name": "stdout",
     "output_type": "stream",
     "text": [
      "This is the length of the intersect 135\n"
     ]
    },
    {
     "name": "stderr",
     "output_type": "stream",
     "text": [
      "/home/gamran/anaconda3/lib/python3.5/site-packages/pybedtools/bedtool.py:3287: UserWarning: Default names for filetype gff are:\n",
      "['seqname', 'source', 'feature', 'start', 'end', 'score', 'strand', 'frame', 'attributes']\n",
      "but file has 18 fields; you can supply custom names with the `names` kwarg\n",
      "  % (self.file_type, _names, self.field_count()))\n"
     ]
    },
    {
     "name": "stdout",
     "output_type": "stream",
     "text": [
      "This is the length of the intersect 250\n"
     ]
    },
    {
     "name": "stderr",
     "output_type": "stream",
     "text": [
      "/home/gamran/anaconda3/lib/python3.5/site-packages/pybedtools/bedtool.py:3287: UserWarning: Default names for filetype gff are:\n",
      "['seqname', 'source', 'feature', 'start', 'end', 'score', 'strand', 'frame', 'attributes']\n",
      "but file has 18 fields; you can supply custom names with the `names` kwarg\n",
      "  % (self.file_type, _names, self.field_count()))\n"
     ]
    },
    {
     "name": "stdout",
     "output_type": "stream",
     "text": [
      "This is the length of the intersect 205\n"
     ]
    },
    {
     "name": "stderr",
     "output_type": "stream",
     "text": [
      "/home/gamran/anaconda3/lib/python3.5/site-packages/pybedtools/bedtool.py:3287: UserWarning: Default names for filetype gff are:\n",
      "['seqname', 'source', 'feature', 'start', 'end', 'score', 'strand', 'frame', 'attributes']\n",
      "but file has 18 fields; you can supply custom names with the `names` kwarg\n",
      "  % (self.file_type, _names, self.field_count()))\n"
     ]
    },
    {
     "name": "stdout",
     "output_type": "stream",
     "text": [
      "This is the length of the intersect 0\n",
      "This is the length of the intersect 207\n"
     ]
    },
    {
     "name": "stderr",
     "output_type": "stream",
     "text": [
      "/home/gamran/anaconda3/lib/python3.5/site-packages/pybedtools/bedtool.py:3287: UserWarning: Default names for filetype gff are:\n",
      "['seqname', 'source', 'feature', 'start', 'end', 'score', 'strand', 'frame', 'attributes']\n",
      "but file has 18 fields; you can supply custom names with the `names` kwarg\n",
      "  % (self.file_type, _names, self.field_count()))\n"
     ]
    },
    {
     "name": "stdout",
     "output_type": "stream",
     "text": [
      "This is the length of the intersect 89\n"
     ]
    },
    {
     "name": "stderr",
     "output_type": "stream",
     "text": [
      "/home/gamran/anaconda3/lib/python3.5/site-packages/pybedtools/bedtool.py:3287: UserWarning: Default names for filetype gff are:\n",
      "['seqname', 'source', 'feature', 'start', 'end', 'score', 'strand', 'frame', 'attributes']\n",
      "but file has 18 fields; you can supply custom names with the `names` kwarg\n",
      "  % (self.file_type, _names, self.field_count()))\n"
     ]
    },
    {
     "name": "stdout",
     "output_type": "stream",
     "text": [
      "This is the length of the intersect 107\n"
     ]
    },
    {
     "name": "stderr",
     "output_type": "stream",
     "text": [
      "/home/gamran/anaconda3/lib/python3.5/site-packages/pybedtools/bedtool.py:3287: UserWarning: Default names for filetype gff are:\n",
      "['seqname', 'source', 'feature', 'start', 'end', 'score', 'strand', 'frame', 'attributes']\n",
      "but file has 18 fields; you can supply custom names with the `names` kwarg\n",
      "  % (self.file_type, _names, self.field_count()))\n"
     ]
    },
    {
     "name": "stdout",
     "output_type": "stream",
     "text": [
      "This is the length of the intersect 173\n"
     ]
    },
    {
     "name": "stderr",
     "output_type": "stream",
     "text": [
      "/home/gamran/anaconda3/lib/python3.5/site-packages/pybedtools/bedtool.py:3287: UserWarning: Default names for filetype gff are:\n",
      "['seqname', 'source', 'feature', 'start', 'end', 'score', 'strand', 'frame', 'attributes']\n",
      "but file has 18 fields; you can supply custom names with the `names` kwarg\n",
      "  % (self.file_type, _names, self.field_count()))\n"
     ]
    },
    {
     "name": "stdout",
     "output_type": "stream",
     "text": [
      "This is the length of the intersect 219\n"
     ]
    },
    {
     "name": "stderr",
     "output_type": "stream",
     "text": [
      "/home/gamran/anaconda3/lib/python3.5/site-packages/pybedtools/bedtool.py:3287: UserWarning: Default names for filetype gff are:\n",
      "['seqname', 'source', 'feature', 'start', 'end', 'score', 'strand', 'frame', 'attributes']\n",
      "but file has 18 fields; you can supply custom names with the `names` kwarg\n",
      "  % (self.file_type, _names, self.field_count()))\n"
     ]
    },
    {
     "name": "stdout",
     "output_type": "stream",
     "text": [
      "This is the length of the intersect 115\n"
     ]
    },
    {
     "name": "stderr",
     "output_type": "stream",
     "text": [
      "/home/gamran/anaconda3/lib/python3.5/site-packages/pybedtools/bedtool.py:3287: UserWarning: Default names for filetype gff are:\n",
      "['seqname', 'source', 'feature', 'start', 'end', 'score', 'strand', 'frame', 'attributes']\n",
      "but file has 18 fields; you can supply custom names with the `names` kwarg\n",
      "  % (self.file_type, _names, self.field_count()))\n"
     ]
    },
    {
     "name": "stdout",
     "output_type": "stream",
     "text": [
      "This is the length of the intersect 224\n"
     ]
    },
    {
     "name": "stderr",
     "output_type": "stream",
     "text": [
      "/home/gamran/anaconda3/lib/python3.5/site-packages/pybedtools/bedtool.py:3287: UserWarning: Default names for filetype gff are:\n",
      "['seqname', 'source', 'feature', 'start', 'end', 'score', 'strand', 'frame', 'attributes']\n",
      "but file has 18 fields; you can supply custom names with the `names` kwarg\n",
      "  % (self.file_type, _names, self.field_count()))\n"
     ]
    },
    {
     "name": "stdout",
     "output_type": "stream",
     "text": [
      "This is the length of the intersect 196\n"
     ]
    },
    {
     "name": "stderr",
     "output_type": "stream",
     "text": [
      "/home/gamran/anaconda3/lib/python3.5/site-packages/pybedtools/bedtool.py:3287: UserWarning: Default names for filetype gff are:\n",
      "['seqname', 'source', 'feature', 'start', 'end', 'score', 'strand', 'frame', 'attributes']\n",
      "but file has 18 fields; you can supply custom names with the `names` kwarg\n",
      "  % (self.file_type, _names, self.field_count()))\n"
     ]
    },
    {
     "name": "stdout",
     "output_type": "stream",
     "text": [
      "This is the length of the intersect 213\n"
     ]
    },
    {
     "name": "stderr",
     "output_type": "stream",
     "text": [
      "/home/gamran/anaconda3/lib/python3.5/site-packages/pybedtools/bedtool.py:3287: UserWarning: Default names for filetype gff are:\n",
      "['seqname', 'source', 'feature', 'start', 'end', 'score', 'strand', 'frame', 'attributes']\n",
      "but file has 18 fields; you can supply custom names with the `names` kwarg\n",
      "  % (self.file_type, _names, self.field_count()))\n"
     ]
    },
    {
     "name": "stdout",
     "output_type": "stream",
     "text": [
      "This is the length of the intersect 165\n"
     ]
    },
    {
     "name": "stderr",
     "output_type": "stream",
     "text": [
      "/home/gamran/anaconda3/lib/python3.5/site-packages/pybedtools/bedtool.py:3287: UserWarning: Default names for filetype gff are:\n",
      "['seqname', 'source', 'feature', 'start', 'end', 'score', 'strand', 'frame', 'attributes']\n",
      "but file has 18 fields; you can supply custom names with the `names` kwarg\n",
      "  % (self.file_type, _names, self.field_count()))\n"
     ]
    },
    {
     "name": "stdout",
     "output_type": "stream",
     "text": [
      "This is the length of the intersect 185\n"
     ]
    },
    {
     "name": "stderr",
     "output_type": "stream",
     "text": [
      "/home/gamran/anaconda3/lib/python3.5/site-packages/pybedtools/bedtool.py:3287: UserWarning: Default names for filetype gff are:\n",
      "['seqname', 'source', 'feature', 'start', 'end', 'score', 'strand', 'frame', 'attributes']\n",
      "but file has 18 fields; you can supply custom names with the `names` kwarg\n",
      "  % (self.file_type, _names, self.field_count()))\n"
     ]
    },
    {
     "name": "stdout",
     "output_type": "stream",
     "text": [
      "This is the length of the intersect 148\n"
     ]
    },
    {
     "name": "stderr",
     "output_type": "stream",
     "text": [
      "/home/gamran/anaconda3/lib/python3.5/site-packages/pybedtools/bedtool.py:3287: UserWarning: Default names for filetype gff are:\n",
      "['seqname', 'source', 'feature', 'start', 'end', 'score', 'strand', 'frame', 'attributes']\n",
      "but file has 18 fields; you can supply custom names with the `names` kwarg\n",
      "  % (self.file_type, _names, self.field_count()))\n"
     ]
    },
    {
     "name": "stdout",
     "output_type": "stream",
     "text": [
      "This is the length of the intersect 89\n"
     ]
    },
    {
     "name": "stderr",
     "output_type": "stream",
     "text": [
      "/home/gamran/anaconda3/lib/python3.5/site-packages/pybedtools/bedtool.py:3287: UserWarning: Default names for filetype gff are:\n",
      "['seqname', 'source', 'feature', 'start', 'end', 'score', 'strand', 'frame', 'attributes']\n",
      "but file has 18 fields; you can supply custom names with the `names` kwarg\n",
      "  % (self.file_type, _names, self.field_count()))\n"
     ]
    },
    {
     "name": "stdout",
     "output_type": "stream",
     "text": [
      "This is the length of the intersect 144\n"
     ]
    },
    {
     "name": "stderr",
     "output_type": "stream",
     "text": [
      "/home/gamran/anaconda3/lib/python3.5/site-packages/pybedtools/bedtool.py:3287: UserWarning: Default names for filetype gff are:\n",
      "['seqname', 'source', 'feature', 'start', 'end', 'score', 'strand', 'frame', 'attributes']\n",
      "but file has 18 fields; you can supply custom names with the `names` kwarg\n",
      "  % (self.file_type, _names, self.field_count()))\n"
     ]
    },
    {
     "name": "stdout",
     "output_type": "stream",
     "text": [
      "This is the length of the intersect 154\n"
     ]
    },
    {
     "name": "stderr",
     "output_type": "stream",
     "text": [
      "/home/gamran/anaconda3/lib/python3.5/site-packages/pybedtools/bedtool.py:3287: UserWarning: Default names for filetype gff are:\n",
      "['seqname', 'source', 'feature', 'start', 'end', 'score', 'strand', 'frame', 'attributes']\n",
      "but file has 18 fields; you can supply custom names with the `names` kwarg\n",
      "  % (self.file_type, _names, self.field_count()))\n"
     ]
    },
    {
     "name": "stdout",
     "output_type": "stream",
     "text": [
      "This is the length of the intersect 115\n"
     ]
    },
    {
     "name": "stderr",
     "output_type": "stream",
     "text": [
      "/home/gamran/anaconda3/lib/python3.5/site-packages/pybedtools/bedtool.py:3287: UserWarning: Default names for filetype gff are:\n",
      "['seqname', 'source', 'feature', 'start', 'end', 'score', 'strand', 'frame', 'attributes']\n",
      "but file has 18 fields; you can supply custom names with the `names` kwarg\n",
      "  % (self.file_type, _names, self.field_count()))\n"
     ]
    },
    {
     "name": "stdout",
     "output_type": "stream",
     "text": [
      "This is the length of the intersect 114\n"
     ]
    },
    {
     "name": "stderr",
     "output_type": "stream",
     "text": [
      "/home/gamran/anaconda3/lib/python3.5/site-packages/pybedtools/bedtool.py:3287: UserWarning: Default names for filetype gff are:\n",
      "['seqname', 'source', 'feature', 'start', 'end', 'score', 'strand', 'frame', 'attributes']\n",
      "but file has 18 fields; you can supply custom names with the `names` kwarg\n",
      "  % (self.file_type, _names, self.field_count()))\n"
     ]
    },
    {
     "name": "stdout",
     "output_type": "stream",
     "text": [
      "This is the length of the intersect 6\n"
     ]
    },
    {
     "name": "stderr",
     "output_type": "stream",
     "text": [
      "/home/gamran/anaconda3/lib/python3.5/site-packages/pybedtools/bedtool.py:3287: UserWarning: Default names for filetype gff are:\n",
      "['seqname', 'source', 'feature', 'start', 'end', 'score', 'strand', 'frame', 'attributes']\n",
      "but file has 18 fields; you can supply custom names with the `names` kwarg\n",
      "  % (self.file_type, _names, self.field_count()))\n"
     ]
    },
    {
     "name": "stdout",
     "output_type": "stream",
     "text": [
      "This is the length of the intersect 131\n"
     ]
    },
    {
     "name": "stderr",
     "output_type": "stream",
     "text": [
      "/home/gamran/anaconda3/lib/python3.5/site-packages/pybedtools/bedtool.py:3287: UserWarning: Default names for filetype gff are:\n",
      "['seqname', 'source', 'feature', 'start', 'end', 'score', 'strand', 'frame', 'attributes']\n",
      "but file has 18 fields; you can supply custom names with the `names` kwarg\n",
      "  % (self.file_type, _names, self.field_count()))\n"
     ]
    },
    {
     "name": "stdout",
     "output_type": "stream",
     "text": [
      "This is the length of the intersect 74\n"
     ]
    },
    {
     "name": "stderr",
     "output_type": "stream",
     "text": [
      "/home/gamran/anaconda3/lib/python3.5/site-packages/pybedtools/bedtool.py:3287: UserWarning: Default names for filetype gff are:\n",
      "['seqname', 'source', 'feature', 'start', 'end', 'score', 'strand', 'frame', 'attributes']\n",
      "but file has 18 fields; you can supply custom names with the `names` kwarg\n",
      "  % (self.file_type, _names, self.field_count()))\n"
     ]
    },
    {
     "name": "stdout",
     "output_type": "stream",
     "text": [
      "This is the length of the intersect 71\n"
     ]
    },
    {
     "name": "stderr",
     "output_type": "stream",
     "text": [
      "/home/gamran/anaconda3/lib/python3.5/site-packages/pybedtools/bedtool.py:3287: UserWarning: Default names for filetype gff are:\n",
      "['seqname', 'source', 'feature', 'start', 'end', 'score', 'strand', 'frame', 'attributes']\n",
      "but file has 18 fields; you can supply custom names with the `names` kwarg\n",
      "  % (self.file_type, _names, self.field_count()))\n"
     ]
    },
    {
     "name": "stdout",
     "output_type": "stream",
     "text": [
      "This is the length of the intersect 81\n"
     ]
    },
    {
     "name": "stderr",
     "output_type": "stream",
     "text": [
      "/home/gamran/anaconda3/lib/python3.5/site-packages/pybedtools/bedtool.py:3287: UserWarning: Default names for filetype gff are:\n",
      "['seqname', 'source', 'feature', 'start', 'end', 'score', 'strand', 'frame', 'attributes']\n",
      "but file has 18 fields; you can supply custom names with the `names` kwarg\n",
      "  % (self.file_type, _names, self.field_count()))\n"
     ]
    },
    {
     "name": "stdout",
     "output_type": "stream",
     "text": [
      "This is the length of the intersect 73\n"
     ]
    },
    {
     "name": "stderr",
     "output_type": "stream",
     "text": [
      "/home/gamran/anaconda3/lib/python3.5/site-packages/pybedtools/bedtool.py:3287: UserWarning: Default names for filetype gff are:\n",
      "['seqname', 'source', 'feature', 'start', 'end', 'score', 'strand', 'frame', 'attributes']\n",
      "but file has 18 fields; you can supply custom names with the `names` kwarg\n",
      "  % (self.file_type, _names, self.field_count()))\n"
     ]
    },
    {
     "name": "stdout",
     "output_type": "stream",
     "text": [
      "This is the length of the intersect 77\n"
     ]
    },
    {
     "name": "stderr",
     "output_type": "stream",
     "text": [
      "/home/gamran/anaconda3/lib/python3.5/site-packages/pybedtools/bedtool.py:3287: UserWarning: Default names for filetype gff are:\n",
      "['seqname', 'source', 'feature', 'start', 'end', 'score', 'strand', 'frame', 'attributes']\n",
      "but file has 18 fields; you can supply custom names with the `names` kwarg\n",
      "  % (self.file_type, _names, self.field_count()))\n"
     ]
    },
    {
     "name": "stdout",
     "output_type": "stream",
     "text": [
      "This is the length of the intersect 104\n"
     ]
    },
    {
     "name": "stderr",
     "output_type": "stream",
     "text": [
      "/home/gamran/anaconda3/lib/python3.5/site-packages/pybedtools/bedtool.py:3287: UserWarning: Default names for filetype gff are:\n",
      "['seqname', 'source', 'feature', 'start', 'end', 'score', 'strand', 'frame', 'attributes']\n",
      "but file has 18 fields; you can supply custom names with the `names` kwarg\n",
      "  % (self.file_type, _names, self.field_count()))\n"
     ]
    },
    {
     "name": "stdout",
     "output_type": "stream",
     "text": [
      "This is the length of the intersect 43\n"
     ]
    },
    {
     "name": "stderr",
     "output_type": "stream",
     "text": [
      "/home/gamran/anaconda3/lib/python3.5/site-packages/pybedtools/bedtool.py:3287: UserWarning: Default names for filetype gff are:\n",
      "['seqname', 'source', 'feature', 'start', 'end', 'score', 'strand', 'frame', 'attributes']\n",
      "but file has 18 fields; you can supply custom names with the `names` kwarg\n",
      "  % (self.file_type, _names, self.field_count()))\n"
     ]
    },
    {
     "name": "stdout",
     "output_type": "stream",
     "text": [
      "This is the length of the intersect 72\n"
     ]
    },
    {
     "name": "stderr",
     "output_type": "stream",
     "text": [
      "/home/gamran/anaconda3/lib/python3.5/site-packages/pybedtools/bedtool.py:3287: UserWarning: Default names for filetype gff are:\n",
      "['seqname', 'source', 'feature', 'start', 'end', 'score', 'strand', 'frame', 'attributes']\n",
      "but file has 18 fields; you can supply custom names with the `names` kwarg\n",
      "  % (self.file_type, _names, self.field_count()))\n"
     ]
    },
    {
     "name": "stdout",
     "output_type": "stream",
     "text": [
      "This is the length of the intersect 92\n"
     ]
    },
    {
     "name": "stderr",
     "output_type": "stream",
     "text": [
      "/home/gamran/anaconda3/lib/python3.5/site-packages/pybedtools/bedtool.py:3287: UserWarning: Default names for filetype gff are:\n",
      "['seqname', 'source', 'feature', 'start', 'end', 'score', 'strand', 'frame', 'attributes']\n",
      "but file has 18 fields; you can supply custom names with the `names` kwarg\n",
      "  % (self.file_type, _names, self.field_count()))\n"
     ]
    },
    {
     "name": "stdout",
     "output_type": "stream",
     "text": [
      "This is the length of the intersect 82\n"
     ]
    },
    {
     "name": "stderr",
     "output_type": "stream",
     "text": [
      "/home/gamran/anaconda3/lib/python3.5/site-packages/pybedtools/bedtool.py:3287: UserWarning: Default names for filetype gff are:\n",
      "['seqname', 'source', 'feature', 'start', 'end', 'score', 'strand', 'frame', 'attributes']\n",
      "but file has 18 fields; you can supply custom names with the `names` kwarg\n",
      "  % (self.file_type, _names, self.field_count()))\n"
     ]
    },
    {
     "name": "stdout",
     "output_type": "stream",
     "text": [
      "This is the length of the intersect 108\n"
     ]
    },
    {
     "name": "stderr",
     "output_type": "stream",
     "text": [
      "/home/gamran/anaconda3/lib/python3.5/site-packages/pybedtools/bedtool.py:3287: UserWarning: Default names for filetype gff are:\n",
      "['seqname', 'source', 'feature', 'start', 'end', 'score', 'strand', 'frame', 'attributes']\n",
      "but file has 18 fields; you can supply custom names with the `names` kwarg\n",
      "  % (self.file_type, _names, self.field_count()))\n"
     ]
    },
    {
     "name": "stdout",
     "output_type": "stream",
     "text": [
      "This is the length of the intersect 84\n"
     ]
    },
    {
     "name": "stderr",
     "output_type": "stream",
     "text": [
      "/home/gamran/anaconda3/lib/python3.5/site-packages/pybedtools/bedtool.py:3287: UserWarning: Default names for filetype gff are:\n",
      "['seqname', 'source', 'feature', 'start', 'end', 'score', 'strand', 'frame', 'attributes']\n",
      "but file has 18 fields; you can supply custom names with the `names` kwarg\n",
      "  % (self.file_type, _names, self.field_count()))\n"
     ]
    },
    {
     "name": "stdout",
     "output_type": "stream",
     "text": [
      "This is the length of the intersect 79\n"
     ]
    },
    {
     "name": "stderr",
     "output_type": "stream",
     "text": [
      "/home/gamran/anaconda3/lib/python3.5/site-packages/pybedtools/bedtool.py:3287: UserWarning: Default names for filetype gff are:\n",
      "['seqname', 'source', 'feature', 'start', 'end', 'score', 'strand', 'frame', 'attributes']\n",
      "but file has 18 fields; you can supply custom names with the `names` kwarg\n",
      "  % (self.file_type, _names, self.field_count()))\n"
     ]
    },
    {
     "name": "stdout",
     "output_type": "stream",
     "text": [
      "This is the length of the intersect 0\n",
      "This is the length of the intersect 3\n"
     ]
    },
    {
     "name": "stderr",
     "output_type": "stream",
     "text": [
      "/home/gamran/anaconda3/lib/python3.5/site-packages/pybedtools/bedtool.py:3287: UserWarning: Default names for filetype gff are:\n",
      "['seqname', 'source', 'feature', 'start', 'end', 'score', 'strand', 'frame', 'attributes']\n",
      "but file has 18 fields; you can supply custom names with the `names` kwarg\n",
      "  % (self.file_type, _names, self.field_count()))\n"
     ]
    },
    {
     "name": "stdout",
     "output_type": "stream",
     "text": [
      "This is the length of the intersect 52\n"
     ]
    },
    {
     "name": "stderr",
     "output_type": "stream",
     "text": [
      "/home/gamran/anaconda3/lib/python3.5/site-packages/pybedtools/bedtool.py:3287: UserWarning: Default names for filetype gff are:\n",
      "['seqname', 'source', 'feature', 'start', 'end', 'score', 'strand', 'frame', 'attributes']\n",
      "but file has 18 fields; you can supply custom names with the `names` kwarg\n",
      "  % (self.file_type, _names, self.field_count()))\n"
     ]
    },
    {
     "name": "stdout",
     "output_type": "stream",
     "text": [
      "This is the length of the intersect 42\n"
     ]
    },
    {
     "name": "stderr",
     "output_type": "stream",
     "text": [
      "/home/gamran/anaconda3/lib/python3.5/site-packages/pybedtools/bedtool.py:3287: UserWarning: Default names for filetype gff are:\n",
      "['seqname', 'source', 'feature', 'start', 'end', 'score', 'strand', 'frame', 'attributes']\n",
      "but file has 18 fields; you can supply custom names with the `names` kwarg\n",
      "  % (self.file_type, _names, self.field_count()))\n"
     ]
    },
    {
     "name": "stdout",
     "output_type": "stream",
     "text": [
      "This is the length of the intersect 35\n"
     ]
    },
    {
     "name": "stderr",
     "output_type": "stream",
     "text": [
      "/home/gamran/anaconda3/lib/python3.5/site-packages/pybedtools/bedtool.py:3287: UserWarning: Default names for filetype gff are:\n",
      "['seqname', 'source', 'feature', 'start', 'end', 'score', 'strand', 'frame', 'attributes']\n",
      "but file has 18 fields; you can supply custom names with the `names` kwarg\n",
      "  % (self.file_type, _names, self.field_count()))\n"
     ]
    },
    {
     "name": "stdout",
     "output_type": "stream",
     "text": [
      "This is the length of the intersect 40\n"
     ]
    },
    {
     "name": "stderr",
     "output_type": "stream",
     "text": [
      "/home/gamran/anaconda3/lib/python3.5/site-packages/pybedtools/bedtool.py:3287: UserWarning: Default names for filetype gff are:\n",
      "['seqname', 'source', 'feature', 'start', 'end', 'score', 'strand', 'frame', 'attributes']\n",
      "but file has 18 fields; you can supply custom names with the `names` kwarg\n",
      "  % (self.file_type, _names, self.field_count()))\n"
     ]
    },
    {
     "name": "stdout",
     "output_type": "stream",
     "text": [
      "This is the length of the intersect 13\n"
     ]
    },
    {
     "name": "stderr",
     "output_type": "stream",
     "text": [
      "/home/gamran/anaconda3/lib/python3.5/site-packages/pybedtools/bedtool.py:3287: UserWarning: Default names for filetype gff are:\n",
      "['seqname', 'source', 'feature', 'start', 'end', 'score', 'strand', 'frame', 'attributes']\n",
      "but file has 18 fields; you can supply custom names with the `names` kwarg\n",
      "  % (self.file_type, _names, self.field_count()))\n"
     ]
    },
    {
     "name": "stdout",
     "output_type": "stream",
     "text": [
      "This is the length of the intersect 64\n"
     ]
    },
    {
     "name": "stderr",
     "output_type": "stream",
     "text": [
      "/home/gamran/anaconda3/lib/python3.5/site-packages/pybedtools/bedtool.py:3287: UserWarning: Default names for filetype gff are:\n",
      "['seqname', 'source', 'feature', 'start', 'end', 'score', 'strand', 'frame', 'attributes']\n",
      "but file has 18 fields; you can supply custom names with the `names` kwarg\n",
      "  % (self.file_type, _names, self.field_count()))\n"
     ]
    },
    {
     "name": "stdout",
     "output_type": "stream",
     "text": [
      "This is the length of the intersect 26\n"
     ]
    },
    {
     "name": "stderr",
     "output_type": "stream",
     "text": [
      "/home/gamran/anaconda3/lib/python3.5/site-packages/pybedtools/bedtool.py:3287: UserWarning: Default names for filetype gff are:\n",
      "['seqname', 'source', 'feature', 'start', 'end', 'score', 'strand', 'frame', 'attributes']\n",
      "but file has 18 fields; you can supply custom names with the `names` kwarg\n",
      "  % (self.file_type, _names, self.field_count()))\n"
     ]
    },
    {
     "name": "stdout",
     "output_type": "stream",
     "text": [
      "This is the length of the intersect 8\n"
     ]
    },
    {
     "name": "stderr",
     "output_type": "stream",
     "text": [
      "/home/gamran/anaconda3/lib/python3.5/site-packages/pybedtools/bedtool.py:3287: UserWarning: Default names for filetype gff are:\n",
      "['seqname', 'source', 'feature', 'start', 'end', 'score', 'strand', 'frame', 'attributes']\n",
      "but file has 18 fields; you can supply custom names with the `names` kwarg\n",
      "  % (self.file_type, _names, self.field_count()))\n"
     ]
    },
    {
     "name": "stdout",
     "output_type": "stream",
     "text": [
      "This is the length of the intersect 21\n"
     ]
    },
    {
     "name": "stderr",
     "output_type": "stream",
     "text": [
      "/home/gamran/anaconda3/lib/python3.5/site-packages/pybedtools/bedtool.py:3287: UserWarning: Default names for filetype gff are:\n",
      "['seqname', 'source', 'feature', 'start', 'end', 'score', 'strand', 'frame', 'attributes']\n",
      "but file has 18 fields; you can supply custom names with the `names` kwarg\n",
      "  % (self.file_type, _names, self.field_count()))\n"
     ]
    },
    {
     "name": "stdout",
     "output_type": "stream",
     "text": [
      "This is the length of the intersect 17\n"
     ]
    },
    {
     "name": "stderr",
     "output_type": "stream",
     "text": [
      "/home/gamran/anaconda3/lib/python3.5/site-packages/pybedtools/bedtool.py:3287: UserWarning: Default names for filetype gff are:\n",
      "['seqname', 'source', 'feature', 'start', 'end', 'score', 'strand', 'frame', 'attributes']\n",
      "but file has 18 fields; you can supply custom names with the `names` kwarg\n",
      "  % (self.file_type, _names, self.field_count()))\n"
     ]
    },
    {
     "name": "stdout",
     "output_type": "stream",
     "text": [
      "This is the length of the intersect 21\n"
     ]
    },
    {
     "name": "stderr",
     "output_type": "stream",
     "text": [
      "/home/gamran/anaconda3/lib/python3.5/site-packages/pybedtools/bedtool.py:3287: UserWarning: Default names for filetype gff are:\n",
      "['seqname', 'source', 'feature', 'start', 'end', 'score', 'strand', 'frame', 'attributes']\n",
      "but file has 18 fields; you can supply custom names with the `names` kwarg\n",
      "  % (self.file_type, _names, self.field_count()))\n"
     ]
    },
    {
     "name": "stdout",
     "output_type": "stream",
     "text": [
      "This is the length of the intersect 23\n"
     ]
    },
    {
     "name": "stderr",
     "output_type": "stream",
     "text": [
      "/home/gamran/anaconda3/lib/python3.5/site-packages/pybedtools/bedtool.py:3287: UserWarning: Default names for filetype gff are:\n",
      "['seqname', 'source', 'feature', 'start', 'end', 'score', 'strand', 'frame', 'attributes']\n",
      "but file has 18 fields; you can supply custom names with the `names` kwarg\n",
      "  % (self.file_type, _names, self.field_count()))\n"
     ]
    },
    {
     "name": "stdout",
     "output_type": "stream",
     "text": [
      "This is the length of the intersect 31\n"
     ]
    },
    {
     "name": "stderr",
     "output_type": "stream",
     "text": [
      "/home/gamran/anaconda3/lib/python3.5/site-packages/pybedtools/bedtool.py:3287: UserWarning: Default names for filetype gff are:\n",
      "['seqname', 'source', 'feature', 'start', 'end', 'score', 'strand', 'frame', 'attributes']\n",
      "but file has 18 fields; you can supply custom names with the `names` kwarg\n",
      "  % (self.file_type, _names, self.field_count()))\n"
     ]
    },
    {
     "name": "stdout",
     "output_type": "stream",
     "text": [
      "This is the length of the intersect 10\n"
     ]
    },
    {
     "name": "stderr",
     "output_type": "stream",
     "text": [
      "/home/gamran/anaconda3/lib/python3.5/site-packages/pybedtools/bedtool.py:3287: UserWarning: Default names for filetype gff are:\n",
      "['seqname', 'source', 'feature', 'start', 'end', 'score', 'strand', 'frame', 'attributes']\n",
      "but file has 18 fields; you can supply custom names with the `names` kwarg\n",
      "  % (self.file_type, _names, self.field_count()))\n"
     ]
    },
    {
     "name": "stdout",
     "output_type": "stream",
     "text": [
      "This is the length of the intersect 14\n"
     ]
    },
    {
     "name": "stderr",
     "output_type": "stream",
     "text": [
      "/home/gamran/anaconda3/lib/python3.5/site-packages/pybedtools/bedtool.py:3287: UserWarning: Default names for filetype gff are:\n",
      "['seqname', 'source', 'feature', 'start', 'end', 'score', 'strand', 'frame', 'attributes']\n",
      "but file has 18 fields; you can supply custom names with the `names` kwarg\n",
      "  % (self.file_type, _names, self.field_count()))\n"
     ]
    },
    {
     "name": "stdout",
     "output_type": "stream",
     "text": [
      "This is the length of the intersect 20\n"
     ]
    },
    {
     "name": "stderr",
     "output_type": "stream",
     "text": [
      "/home/gamran/anaconda3/lib/python3.5/site-packages/pybedtools/bedtool.py:3287: UserWarning: Default names for filetype gff are:\n",
      "['seqname', 'source', 'feature', 'start', 'end', 'score', 'strand', 'frame', 'attributes']\n",
      "but file has 18 fields; you can supply custom names with the `names` kwarg\n",
      "  % (self.file_type, _names, self.field_count()))\n"
     ]
    },
    {
     "name": "stdout",
     "output_type": "stream",
     "text": [
      "This is the length of the intersect 7\n"
     ]
    },
    {
     "name": "stderr",
     "output_type": "stream",
     "text": [
      "/home/gamran/anaconda3/lib/python3.5/site-packages/pybedtools/bedtool.py:3287: UserWarning: Default names for filetype gff are:\n",
      "['seqname', 'source', 'feature', 'start', 'end', 'score', 'strand', 'frame', 'attributes']\n",
      "but file has 18 fields; you can supply custom names with the `names` kwarg\n",
      "  % (self.file_type, _names, self.field_count()))\n"
     ]
    },
    {
     "name": "stdout",
     "output_type": "stream",
     "text": [
      "This is the length of the intersect 7\n"
     ]
    },
    {
     "name": "stderr",
     "output_type": "stream",
     "text": [
      "/home/gamran/anaconda3/lib/python3.5/site-packages/pybedtools/bedtool.py:3287: UserWarning: Default names for filetype gff are:\n",
      "['seqname', 'source', 'feature', 'start', 'end', 'score', 'strand', 'frame', 'attributes']\n",
      "but file has 18 fields; you can supply custom names with the `names` kwarg\n",
      "  % (self.file_type, _names, self.field_count()))\n"
     ]
    },
    {
     "name": "stdout",
     "output_type": "stream",
     "text": [
      "This is the length of the intersect 8\n"
     ]
    },
    {
     "name": "stderr",
     "output_type": "stream",
     "text": [
      "/home/gamran/anaconda3/lib/python3.5/site-packages/pybedtools/bedtool.py:3287: UserWarning: Default names for filetype gff are:\n",
      "['seqname', 'source', 'feature', 'start', 'end', 'score', 'strand', 'frame', 'attributes']\n",
      "but file has 18 fields; you can supply custom names with the `names` kwarg\n",
      "  % (self.file_type, _names, self.field_count()))\n"
     ]
    },
    {
     "name": "stdout",
     "output_type": "stream",
     "text": [
      "This is the length of the intersect 12\n"
     ]
    },
    {
     "name": "stderr",
     "output_type": "stream",
     "text": [
      "/home/gamran/anaconda3/lib/python3.5/site-packages/pybedtools/bedtool.py:3287: UserWarning: Default names for filetype gff are:\n",
      "['seqname', 'source', 'feature', 'start', 'end', 'score', 'strand', 'frame', 'attributes']\n",
      "but file has 18 fields; you can supply custom names with the `names` kwarg\n",
      "  % (self.file_type, _names, self.field_count()))\n"
     ]
    },
    {
     "name": "stdout",
     "output_type": "stream",
     "text": [
      "This is the length of the intersect 8\n"
     ]
    },
    {
     "name": "stderr",
     "output_type": "stream",
     "text": [
      "/home/gamran/anaconda3/lib/python3.5/site-packages/pybedtools/bedtool.py:3287: UserWarning: Default names for filetype gff are:\n",
      "['seqname', 'source', 'feature', 'start', 'end', 'score', 'strand', 'frame', 'attributes']\n",
      "but file has 18 fields; you can supply custom names with the `names` kwarg\n",
      "  % (self.file_type, _names, self.field_count()))\n"
     ]
    },
    {
     "name": "stdout",
     "output_type": "stream",
     "text": [
      "This is the length of the intersect 7\n"
     ]
    },
    {
     "name": "stderr",
     "output_type": "stream",
     "text": [
      "/home/gamran/anaconda3/lib/python3.5/site-packages/pybedtools/bedtool.py:3287: UserWarning: Default names for filetype gff are:\n",
      "['seqname', 'source', 'feature', 'start', 'end', 'score', 'strand', 'frame', 'attributes']\n",
      "but file has 18 fields; you can supply custom names with the `names` kwarg\n",
      "  % (self.file_type, _names, self.field_count()))\n"
     ]
    },
    {
     "name": "stdout",
     "output_type": "stream",
     "text": [
      "This is the length of the intersect 25\n"
     ]
    },
    {
     "name": "stderr",
     "output_type": "stream",
     "text": [
      "/home/gamran/anaconda3/lib/python3.5/site-packages/pybedtools/bedtool.py:3287: UserWarning: Default names for filetype gff are:\n",
      "['seqname', 'source', 'feature', 'start', 'end', 'score', 'strand', 'frame', 'attributes']\n",
      "but file has 18 fields; you can supply custom names with the `names` kwarg\n",
      "  % (self.file_type, _names, self.field_count()))\n"
     ]
    },
    {
     "name": "stdout",
     "output_type": "stream",
     "text": [
      "This is the length of the intersect 4\n"
     ]
    },
    {
     "name": "stderr",
     "output_type": "stream",
     "text": [
      "/home/gamran/anaconda3/lib/python3.5/site-packages/pybedtools/bedtool.py:3287: UserWarning: Default names for filetype gff are:\n",
      "['seqname', 'source', 'feature', 'start', 'end', 'score', 'strand', 'frame', 'attributes']\n",
      "but file has 18 fields; you can supply custom names with the `names` kwarg\n",
      "  % (self.file_type, _names, self.field_count()))\n"
     ]
    },
    {
     "name": "stdout",
     "output_type": "stream",
     "text": [
      "This is the length of the intersect 0\n",
      "This is the length of the intersect 1\n"
     ]
    },
    {
     "name": "stderr",
     "output_type": "stream",
     "text": [
      "/home/gamran/anaconda3/lib/python3.5/site-packages/pybedtools/bedtool.py:3287: UserWarning: Default names for filetype gff are:\n",
      "['seqname', 'source', 'feature', 'start', 'end', 'score', 'strand', 'frame', 'attributes']\n",
      "but file has 18 fields; you can supply custom names with the `names` kwarg\n",
      "  % (self.file_type, _names, self.field_count()))\n"
     ]
    }
   ],
   "source": [
    "p_gene_h_contig_overlap_dict = {}\n",
    "for out_folder in out_folders:\n",
    "    tmp_folder_content = os.listdir(out_folder)\n",
    "    tmp_p_gene_gff = [os.path.join(out_folder, x) for x in tmp_folder_content if x.endswith('p_gene.gff') ][0]\n",
    "    tmp_p_gene_bed = pybedtools.BedTool(tmp_p_gene_gff).remove_invalid().saveas()\n",
    "    tmp_p_by_h_gff = [os.path.join(out_folder, x) for x in tmp_folder_content if x.endswith('p_by_h_cov.gff') ][0]\n",
    "    tmp_p_by_h_bed = pybedtools.BedTool(tmp_p_by_h_gff).remove_invalid().saveas()\n",
    "    #generate a bed intersect\n",
    "    p_gene_and_p_by_h = tmp_p_gene_bed.intersect(tmp_p_by_h_bed, wb=True)\n",
    "    #check the length of the obtained intersect is \n",
    "    print(\"This is the length of the intersect %i\" %len(p_gene_and_p_by_h ))\n",
    "    if len(p_gene_and_p_by_h) == 0:\n",
    "        continue\n",
    "    #turn this into a dataframe \n",
    "    p_gene_and_p_by_h_df = p_gene_and_p_by_h.to_dataframe()\n",
    "    p_gene_and_p_by_h_df['p_gene'] = p_gene_and_p_by_h_df[8].str.extract(r'ID=([^;]*);', expand=False)\n",
    "    p_gene_and_p_by_h_df['p_protein'] = p_gene_and_p_by_h_df['p_gene'].str.replace('TU', 'model')\n",
    "    #save this in the same folder as dataframe\n",
    "    p_gene_and_p_by_h_df.to_csv(tmp_p_gene_gff.replace('p_gene.gff', 'gene_haplotig_intersect.df'), sep='\\t', index=None)\n",
    "    p_gene_and_p_by_h_df_2 = p_gene_and_p_by_h_df.loc[:, [10, 'p_protein']]\n",
    "    #make a dict for the overlap of each gene with it's correspoding haplotig\n",
    "    tmp_p_gene_h_overlap_df = p_gene_and_p_by_h_df_2.groupby('p_protein')[10].apply(list)\n",
    "    tmp_p_gene_h_overlap_dict = dict(zip(tmp_p_gene_h_overlap_df.index, tmp_p_gene_h_overlap_df.values))\n",
    "    p_gene_h_contig_overlap_dict.update(tmp_p_gene_h_overlap_dict)\n",
    "    "
   ]
  },
  {
   "cell_type": "code",
   "execution_count": 274,
   "metadata": {},
   "outputs": [],
   "source": [
    "#get out the p_protein on h_protein blast out dataframe and appand the h_contig overlap for each protein\n",
    "_key = [x for x in blast_out_dict.keys() if x.startswith(p_genome) and x.split('.')[-2] == 'blastp' and x.endswith('outfmt6')][0]\n",
    "p_gene_h_contig_overlap_df = pd.DataFrame([p_gene_h_contig_overlap_dict.keys(), p_gene_h_contig_overlap_dict.values()],  index = ['p_protein', 'h_contig_overlap']).T\n",
    "_tmp_df = blast_out_dict[_key]\n",
    "_tmp_df = _tmp_df.merge(p_gene_h_contig_overlap_df, how='outer' ,left_on='Query', right_on='p_protein')\n",
    "_tmp_df['h_contig_overlap'].fillna(False, inplace=True)\n",
    "#check if the protein hit resites on the overlapping haplotig\n",
    "_tmp_df['t_contig == h_contig_overlap'] = _tmp_df.apply(lambda row: target_on_mapped_haplotig(row['t_contig'], row['h_contig_overlap']), axis =1 )\n",
    "#blast_out_dict[_key] = _tmp_df"
   ]
  },
  {
   "cell_type": "code",
   "execution_count": 275,
   "metadata": {},
   "outputs": [],
   "source": [
    "# p_gene_h_contig_overlap_df['p_protein'] = p_gene_h_contig_overlap_df['p_protein'].apply(lambda x: x.replace('model', 'TU'))"
   ]
  },
  {
   "cell_type": "code",
   "execution_count": 3,
   "metadata": {},
   "outputs": [
    {
     "ename": "NameError",
     "evalue": "name '_tmp_df' is not defined",
     "output_type": "error",
     "traceback": [
      "\u001b[0;31m---------------------------------------------------------------------------\u001b[0m",
      "\u001b[0;31mNameError\u001b[0m                                 Traceback (most recent call last)",
      "\u001b[0;32m<ipython-input-3-79a25f8a9fd2>\u001b[0m in \u001b[0;36m<module>\u001b[0;34m()\u001b[0m\n\u001b[1;32m      1\u001b[0m \u001b[0;31m#write the dataframe again\u001b[0m\u001b[0;34m\u001b[0m\u001b[0;34m\u001b[0m\u001b[0m\n\u001b[0;32m----> 2\u001b[0;31m \u001b[0m_tmp_df\u001b[0m\u001b[0;34m.\u001b[0m\u001b[0mto_csv\u001b[0m\u001b[0;34m(\u001b[0m\u001b[0mos\u001b[0m\u001b[0;34m.\u001b[0m\u001b[0mpath\u001b[0m\u001b[0;34m.\u001b[0m\u001b[0mjoin\u001b[0m\u001b[0;34m(\u001b[0m\u001b[0mOUT_PATH\u001b[0m\u001b[0;34m,\u001b[0m \u001b[0m_key\u001b[0m\u001b[0;34m+\u001b[0m\u001b[0;34m'.allele_analysis'\u001b[0m\u001b[0;34m)\u001b[0m\u001b[0;34m,\u001b[0m \u001b[0mindex\u001b[0m\u001b[0;34m=\u001b[0m\u001b[0;32mNone\u001b[0m\u001b[0;34m,\u001b[0m \u001b[0msep\u001b[0m\u001b[0;34m=\u001b[0m\u001b[0;34m'\\t'\u001b[0m\u001b[0;34m)\u001b[0m\u001b[0;34m\u001b[0m\u001b[0m\n\u001b[0m",
      "\u001b[0;31mNameError\u001b[0m: name '_tmp_df' is not defined"
     ]
    }
   ],
   "source": [
    "#write the dataframe again\n",
    "_tmp_df.to_csv(os.path.join(OUT_PATH, _key+'.allele_analysis'), index=None, sep='\\t')"
   ]
  },
  {
   "cell_type": "code",
   "execution_count": 277,
   "metadata": {},
   "outputs": [],
   "source": [
    "#now mangale the data a bit\n",
    "#write out t_contig == h_contig_overlap best hits"
   ]
  },
  {
   "cell_type": "code",
   "execution_count": 278,
   "metadata": {},
   "outputs": [],
   "source": [
    "#Qcov_cut_off = ''\n",
    "#PctID_cut_off = ''\n",
    "if Qcov_cut_off and PctID_cut_off:\n",
    "    pass\n",
    "else: \n",
    "    print('No cut off defined! Do you want to define it. Please go ahead above.')"
   ]
  },
  {
   "cell_type": "code",
   "execution_count": 279,
   "metadata": {},
   "outputs": [],
   "source": [
    "#now pull in the proteinortho_df for allele analysis\n",
    "#this will add a new column to the dataframe called PO_allele which will be True when protein_ortho\n",
    "#says it is \n",
    "#co-orthologs will be filtered based on same contig, and e-values"
   ]
  },
  {
   "cell_type": "code",
   "execution_count": 4,
   "metadata": {},
   "outputs": [
    {
     "name": "stdout",
     "output_type": "stream",
     "text": [
      "Checking for correct files and directories...\n",
      "gff file at: /home/gamran/genome_analysis/Warrior/Richard/output/defining_alleles/proteinortho/ph_ctg_516/DK_0911_v03_h_ctg.protein.gff already exists... no new gff file was generated.\n",
      "gff file at: /home/gamran/genome_analysis/Warrior/Richard/output/defining_alleles/proteinortho/ph_ctg_516/DK_0911_v03_p_ctg.protein.gff already exists... no new gff file was generated.\n",
      "Files and directories required for proteinortho analysis exist.\n",
      "\n",
      "Checking whether proteinortho files already exist in /home/gamran/genome_analysis/Warrior/Richard/output/defining_alleles/proteinortho...\n",
      "Folder reference dictionary:\n",
      "{'poff-graph': 1, 'pin': 2, 'proteinortho': 1, 'phr': 2, 'proteinortho-graph': 1, 'blast-graph': 1, 'faa': 2, 'psq': 2, 'gff': 2, 'ffadj-graph': 1, 'poff': 1}\n",
      "All proteinortho files, according to the reference dictionary, appear to already exist.\n",
      "\n",
      "Proteinortho appears to have been ran previously, therefore it was not run this time.\n"
     ]
    }
   ],
   "source": [
    "os.chdir('/home/gamran/genome_analysis/Warrior/Richard/scripts')\n",
    "%run 'DK_0911_v03_proteinortho.ipynb'"
   ]
  },
  {
   "cell_type": "code",
   "execution_count": 281,
   "metadata": {
    "scrolled": true
   },
   "outputs": [],
   "source": [
    "poff_graph_header = ['Target', 'Query', 'evalue_ab', 'bitscore_ab', 'evalue_ba', 'bitscore_ba', 'same_strand' , 'simscore']\n",
    "po_df = pd.read_csv(poff_graph_fn, sep='\\t', header=None, names=poff_graph_header, comment='#' )\n",
    "po_df['Query'] = po_df['Query'].map(locusToIdDict)\n",
    "po_df['Target'] = po_df['Target'].map(locusToIdDict)"
   ]
  },
  {
   "cell_type": "code",
   "execution_count": 282,
   "metadata": {},
   "outputs": [],
   "source": [
    "#filter out the co-orthologs\n",
    "#co_po_df = po_df[po_df.Target.str.contains(',')].loc[:, ['Target', 'Query']].copy()\n",
    "#po_df = po_df[~po_df.Target.str.contains(',')].loc[:, ['Target', 'Query']]\n",
    "#not required anymore as those are pairs in the graph file as well"
   ]
  },
  {
   "cell_type": "code",
   "execution_count": 283,
   "metadata": {},
   "outputs": [],
   "source": [
    "#no add a comparision column to po_df and _tmp_df\n",
    "po_df['comp'] = po_df['Query'] + po_df['Target']\n",
    "_tmp_df['comp'] = _tmp_df['Query'] + _tmp_df['Target']\n",
    "#generate a new PO_allele column\n",
    "_tmp_df['PO_allele'] = False\n",
    "#and set it to True\n",
    "_tmp_df.loc[_tmp_df[_tmp_df.comp.isin(po_df.comp.unique())].index, 'PO_allele' ] = True\n",
    "#now drop the comp column again\n",
    "_tmp_df = _tmp_df.drop('comp', 1)"
   ]
  },
  {
   "cell_type": "code",
   "execution_count": 284,
   "metadata": {},
   "outputs": [],
   "source": [
    "# This accounts for proteinortho allele analysis as well\n",
    "_tmp_grouped = _tmp_df[(_tmp_df['t_contig == h_contig_overlap'] == True)\\\n",
    "                      & (_tmp_df['PO_allele'] ==  True)].groupby('Query')\n",
    "\n",
    "#filter on the evalue and than on the BitScore\n",
    "best_hits_t_contig_and_h_contig = _tmp_grouped.apply(lambda g: g[(g['e-value'] == g['e-value'].min())])\n",
    "best_hits_t_contig_and_h_contig = best_hits_t_contig_and_h_contig.reset_index(drop=True).groupby('Query').apply(lambda g: g[(g['BitScore'] == g['BitScore'].max())])\n",
    "\n",
    "out_name = p_genome + '.h_contig_overlap.alleles'\n",
    "\n",
    "best_hits_t_contig_and_h_contig.loc[:, ['Query', 'Target']].to_csv(os.path.join(ALLELE_PATH, out_name), sep='\\t', index=None, header=None)\n",
    "#now save including the filter as well\n",
    "if Qcov_cut_off and PctID_cut_off:\n",
    "    out_name = p_genome + '.h_contig_overlap.Qcov%s.PctID%s.alleles' % (Qcov_cut_off,PctID_cut_off)\n",
    "    best_hits_t_contig_and_h_contig[(best_hits_t_contig_and_h_contig['QCov'] >= Qcov_cut_off) & (best_hits_t_contig_and_h_contig['PctID'] >= PctID_cut_off)]\\\n",
    "    .loc[:, ['Query', 'Target']].to_csv(os.path.join(ALLELE_PATH, out_name), sep='\\t', index=None, header=None)\n",
    "else:\n",
    "    print(\"No filter selected for Qcov and PctID cut-off. If single filter desired set other filter to 1000.\")"
   ]
  },
  {
   "cell_type": "code",
   "execution_count": 285,
   "metadata": {},
   "outputs": [
    {
     "name": "stdout",
     "output_type": "stream",
     "text": [
      "All good please proceed!\n"
     ]
    }
   ],
   "source": [
    "#test if filtering like this works\n",
    "if set(_tmp_df[(_tmp_df['t_contig == h_contig_overlap'] == True)\\\n",
    "                      & (_tmp_df['PO_allele'] ==  True)]['Query'].unique()) == set(best_hits_t_contig_and_h_contig['Query'].unique().tolist()):\n",
    "    print(\"All good please proceed!\")\n",
    "else:\n",
    "    print('The filter threw an error. Not the expected output')"
   ]
  },
  {
   "cell_type": "code",
   "execution_count": 286,
   "metadata": {},
   "outputs": [],
   "source": [
    "#now drop everything that was already captured\n",
    "query_ids_to_drop = best_hits_t_contig_and_h_contig['Query'].unique().tolist()\n",
    "target_ids_to_drop = best_hits_t_contig_and_h_contig['Target'].unique().tolist()"
   ]
  },
  {
   "cell_type": "code",
   "execution_count": 287,
   "metadata": {},
   "outputs": [],
   "source": [
    "#get all queries that are on the respective haplotig but have not been caught before\n",
    "_tmp_groupbed = _tmp_df[(~_tmp_df['Query'].isin(query_ids_to_drop))&\\\n",
    "                        (_tmp_df['q_contig == t_contig'] == True)&\\\n",
    "                        (_tmp_df['PO_allele'] ==  True)].groupby('Query')\n",
    "best_hits_same_contig_no_overlap = _tmp_groupbed.apply(lambda g: g[(g['e-value'] == g['e-value'].min())]) \n",
    "best_hits_same_contig_no_overlap = best_hits_same_contig_no_overlap.reset_index(drop=True).groupby('Query').apply(lambda g: g[(g['BitScore'] == g['BitScore'].max())])\n",
    "out_name = p_genome + '.no_specific_h_contig_overlap.alleles'\n",
    "best_hits_same_contig_no_overlap.loc[:, ['Query', 'Target']].to_csv(os.path.join(ALLELE_PATH, out_name), sep='\\t', index=None, header=None)\n",
    "\n",
    "#now save including the filter as well\n",
    "if Qcov_cut_off and PctID_cut_off:\n",
    "    out_name = p_genome + '.no_specific_h_contig_overlap.Qcov%s.PctID%s.alleles' % (Qcov_cut_off,PctID_cut_off)\n",
    "    best_hits_same_contig_no_overlap[(best_hits_same_contig_no_overlap['QCov'] >= Qcov_cut_off) & (best_hits_same_contig_no_overlap['PctID'] >= PctID_cut_off)]\\\n",
    "    .loc[:, ['Query', 'Target']].to_csv(os.path.join(ALLELE_PATH, out_name), sep='\\t', index=None, header=None)\n",
    "else:\n",
    "    print(\"No filter selected for Qcov and PctID cut-off. If single filter desired set other filter to 1000.\")"
   ]
  },
  {
   "cell_type": "code",
   "execution_count": 288,
   "metadata": {},
   "outputs": [
    {
     "name": "stdout",
     "output_type": "stream",
     "text": [
      "All good please proceed!\n"
     ]
    }
   ],
   "source": [
    "#test if filtering like this works\n",
    "if set(_tmp_df[(~_tmp_df['Query'].isin(query_ids_to_drop))& (_tmp_df['q_contig == t_contig'] == True)\\\n",
    "              & (_tmp_df['PO_allele'] ==  True)]['Query'].unique())\\\n",
    "        == set(best_hits_same_contig_no_overlap['Query'].unique().tolist()):\n",
    "    print(\"All good please proceed!\")\n",
    "else:\n",
    "    print('The filter threw an error. Not the expected output')"
   ]
  },
  {
   "cell_type": "code",
   "execution_count": 289,
   "metadata": {},
   "outputs": [],
   "source": [
    "#now drop everything that was already captured\n",
    "query_ids_to_drop = query_ids_to_drop + best_hits_same_contig_no_overlap['Query'].unique().tolist()\n",
    "target_ids_to_drop = target_ids_to_drop + best_hits_same_contig_no_overlap['Target'].unique().tolist()"
   ]
  },
  {
   "cell_type": "code",
   "execution_count": 290,
   "metadata": {},
   "outputs": [],
   "source": [
    "#get all else. Meaning not on the corresponding haplotig but other haplotig"
   ]
  },
  {
   "cell_type": "code",
   "execution_count": 291,
   "metadata": {},
   "outputs": [],
   "source": [
    "_tmp_groupbed = _tmp_df[(~_tmp_df['Query'].isin(query_ids_to_drop))&\\\n",
    "                        (_tmp_df['q_contig == t_contig'] == False)\\\n",
    "                        & (_tmp_df['Target'] != 'NaN' )&\n",
    "                        (_tmp_df['PO_allele'] ==  True)].groupby('Query')\n",
    "best_hits_different_contig = _tmp_groupbed.apply(lambda g: g[(g['e-value'] == g['e-value'].min()) ])\n",
    "best_hits_different_contig = best_hits_different_contig .reset_index(drop=True).groupby('Query').apply(lambda g: g[(g['BitScore'] == g['BitScore'].max())])\n",
    "out_name = p_genome + '.no_respective_h_contig_overlap.alleles'\n",
    "best_hits_different_contig.loc[:, ['Query', 'Target']].to_csv(os.path.join(ALLELE_PATH, out_name), sep='\\t', index=None, header=None)\n",
    "\n",
    "#now save including the filter as well\n",
    "if Qcov_cut_off and PctID_cut_off:\n",
    "    out_name = p_genome + '.no_respective_h_contig_overlap.Qcov%s.PctID%s.alleles' % (Qcov_cut_off,PctID_cut_off)\n",
    "    best_hits_different_contig[(best_hits_different_contig['QCov'] >= Qcov_cut_off) & (best_hits_different_contig['PctID'] >= PctID_cut_off)]\\\n",
    "    .loc[:, ['Query', 'Target']].to_csv(os.path.join(ALLELE_PATH, out_name), sep='\\t', index=None, header=None)\n",
    "else:\n",
    "    print(\"No filter selected for Qcov and PctID cut-off. If single filter desired set other filter to 1000.\")"
   ]
  },
  {
   "cell_type": "code",
   "execution_count": 292,
   "metadata": {},
   "outputs": [
    {
     "name": "stdout",
     "output_type": "stream",
     "text": [
      "All good please proceed!\n"
     ]
    }
   ],
   "source": [
    "if set(_tmp_df[(~_tmp_df['Query'].isin(query_ids_to_drop))& (_tmp_df['q_contig == t_contig'] == False) &\\\n",
    "               (_tmp_df['Target'] != 'NaN' )\\\n",
    "              &(_tmp_df['PO_allele'] ==  True)]['Query'].unique().tolist())\\\n",
    "        == set(best_hits_different_contig['Query'].unique().tolist()):\n",
    "    print(\"All good please proceed!\")\n",
    "else:\n",
    "    print('The filter threw an error. Not the expected output')"
   ]
  },
  {
   "cell_type": "code",
   "execution_count": 293,
   "metadata": {},
   "outputs": [],
   "source": [
    "#now drop everything that was already captured\n",
    "query_ids_to_drop = query_ids_to_drop + best_hits_different_contig['Query'].unique().tolist()\n",
    "target_ids_to_drop = target_ids_to_drop + best_hits_different_contig['Target'].unique().tolist()"
   ]
  },
  {
   "cell_type": "code",
   "execution_count": 294,
   "metadata": {},
   "outputs": [],
   "source": [
    "#now print out the p_proteins without alleles\n",
    "out_name = p_genome + '.no_alleles'\n",
    "_tmp_df[~_tmp_df['Query'].isin(query_ids_to_drop)].drop_duplicates(subset='Query')['Query'].to_csv(os.path.join(ALLELE_PATH, out_name), sep='\\t', index=None, header=None)\n",
    "\n",
    "#for filtering different query and targets to drop are required to be dropped\n",
    "if Qcov_cut_off and PctID_cut_off:\n",
    "    query_ids_to_drop_filtered = \\\n",
    "    best_hits_t_contig_and_h_contig[(best_hits_t_contig_and_h_contig['QCov'] >= Qcov_cut_off) & (best_hits_t_contig_and_h_contig['PctID']>= PctID_cut_off)]['Query'].unique().tolist() \\\n",
    "    + best_hits_same_contig_no_overlap[(best_hits_same_contig_no_overlap['QCov'] >= Qcov_cut_off) & (best_hits_same_contig_no_overlap['PctID'] >= PctID_cut_off)]['Query'].unique().tolist()\\\n",
    "    + best_hits_different_contig[(best_hits_different_contig['QCov'] >= Qcov_cut_off) & (best_hits_different_contig['PctID'] >= PctID_cut_off)]['Query'].unique().tolist()\n",
    "    \n",
    "    target_ids_to_drop_filtered = \\\n",
    "    best_hits_t_contig_and_h_contig[(best_hits_t_contig_and_h_contig['QCov'] >= Qcov_cut_off) & (best_hits_t_contig_and_h_contig['PctID']>= PctID_cut_off)]['Target'].unique().tolist()\\\n",
    "    + best_hits_same_contig_no_overlap[(best_hits_same_contig_no_overlap['QCov'] >= Qcov_cut_off) & (best_hits_same_contig_no_overlap['PctID'] >= PctID_cut_off)]['Target'].unique().tolist() \\\n",
    "    + best_hits_different_contig[(best_hits_different_contig['QCov'] >= Qcov_cut_off) & (best_hits_different_contig['PctID'] >= PctID_cut_off)]['Target'].unique().tolist()\n",
    "    out_name = p_genome + '.Qcov%s.PctID%s.no_alleles' % (Qcov_cut_off,PctID_cut_off)\n",
    "    #save the dataframe\n",
    "    _tmp_df[~_tmp_df['Query'].isin(query_ids_to_drop_filtered)].drop_duplicates(subset='Query')['Query'].to_csv(os.path.join(ALLELE_PATH, out_name), sep='\\t', index=None, header=None)    \n",
    "else:\n",
    "    print(\"No filter selected for Qcov and PctID cut-off. If single filter desired set other filter to 1000.\")                                                                                                                             "
   ]
  },
  {
   "cell_type": "code",
   "execution_count": 295,
   "metadata": {},
   "outputs": [],
   "source": [
    "#save back the dataframe with '.analyzed' added to the key\n",
    "blast_out_dict[_key+'.analyzed'] = _tmp_df"
   ]
  },
  {
   "cell_type": "code",
   "execution_count": 296,
   "metadata": {},
   "outputs": [],
   "source": [
    "#pull out the h on p blast dataframe\n",
    "_key = [x for x in blast_out_dict.keys() if x.startswith(h_genome) and x.split('.')[-2] == 'blastp' and x.endswith('outfmt6')][0]\n",
    "_tmp_df = blast_out_dict[_key]\n"
   ]
  },
  {
   "cell_type": "code",
   "execution_count": 297,
   "metadata": {},
   "outputs": [],
   "source": [
    "#pull out all h_contigs without alleles\n",
    "_tmp_df_no_alleles = _tmp_df[~_tmp_df['Query'].isin(target_ids_to_drop)]\n",
    "out_name = h_genome + '.no_alleles'\n",
    "_tmp_df_no_alleles.drop_duplicates(subset='Query')['Query'].to_csv(os.path.join(ALLELE_PATH, out_name), sep='\\t', index=None, header=None)"
   ]
  },
  {
   "cell_type": "code",
   "execution_count": 298,
   "metadata": {},
   "outputs": [],
   "source": [
    "#now pull out all h_proteins that have a blast hit but were left behind with selection \n",
    "#based on proteinortho and best blast hits above. No QCov and PctID filtering\n",
    "_tmp_df_no_alleles_grouped = _tmp_df_no_alleles[_tmp_df_no_alleles[\"Target\"] != 'NaN'].groupby('Query')\n",
    "h_protein_no_alleles = _tmp_df_no_alleles_grouped.apply(lambda g: g[(g['e-value'] == g['e-value'].min())]) \n",
    "h_protein_no_alleles = h_protein_no_alleles.reset_index(drop=True).groupby('Query').apply(lambda g: g[(g['BitScore'] == g['BitScore'].max())])\n",
    "out_name = h_genome + '.best_p_hits.no_alleles'\n",
    "h_protein_no_alleles.loc[:, ['Query', 'Target']].to_csv(os.path.join(ALLELE_PATH, out_name), sep='\\t', index=None, header=None)\n",
    "#write done the hits with no blast hit at all. Meaning blasting h on p gave no results\n",
    "out_name = h_genome + '.no_p_hits.no_alleles'\n",
    "_tmp_df_no_alleles[_tmp_df_no_alleles[\"Target\"] == 'NaN']['Query'].to_csv(os.path.join(ALLELE_PATH, out_name), sep='\\t', index=None, header=None) "
   ]
  },
  {
   "cell_type": "code",
   "execution_count": 311,
   "metadata": {},
   "outputs": [
    {
     "name": "stdout",
     "output_type": "stream",
     "text": [
      "No filter selected for Qcov and PctID cut-off. If single filter desired set other filter to 1000.\n"
     ]
    }
   ],
   "source": [
    "#now pull out all h_proteins that have a blast hit but were left behind with selection of best blast hits above. With QCov and PctID filtering.\n",
    "if Qcov_cut_off and PctID_cut_off:\n",
    "#pull out all h proteins without alleles when filtering was applied\n",
    "    _tmp_df_no_alleles_filtered = _tmp_df[~_tmp_df['Query'].isin(target_ids_to_drop_filtered)]\n",
    "    out_name = h_genome + '.Qcov%s.PctID%s.no_alleles' % (Qcov_cut_off,PctID_cut_off)\n",
    "    _tmp_df_no_alleles_filtered.drop_duplicates(subset='Query')['Query'].to_csv(os.path.join(ALLELE_PATH, out_name), sep='\\t', index=None, header=None)\n",
    "\n",
    "#pull out all the h proteins with blast hit when filtering was applied and filter those as well.\n",
    "    #first get ride of all NAs in future version maybe convert QCov and PctID to floats or ints so this is not neccessary anymore\n",
    "    _tmp_df_no_alleles_filtered_no_NA = _tmp_df_no_alleles_filtered[(_tmp_df_no_alleles_filtered[\"Target\"] != 'NaN')]\n",
    "    _tmp_df_no_alleles_filtered_grouped = \\\n",
    "        _tmp_df_no_alleles_filtered_no_NA[(_tmp_df_no_alleles_filtered_no_NA['QCov'] >= Qcov_cut_off) &\\\n",
    "                                    (_tmp_df_no_alleles_filtered_no_NA['PctID'] >= PctID_cut_off)].groupby('Query') \n",
    "\n",
    "    h_protein_no_alleles_filtered = _tmp_df_no_alleles_filtered_grouped.apply(lambda g: g[(g['e-value'] == g['e-value'].min())]) \n",
    "    h_protein_no_alleles_filtered = h_protein_no_alleles_filtered.reset_index(drop=True).groupby('Query').apply(lambda g: g[(g['BitScore'] == g['BitScore'].max())])\n",
    "    out_name = h_genome + '.best_p_hits.Qcov%s.PctID%s.no_alleles' % (Qcov_cut_off,PctID_cut_off)\n",
    "    h_protein_no_alleles_filtered.loc[:, ['Query', 'Target']].to_csv(os.path.join(ALLELE_PATH, out_name), sep='\\t', index=None, header=None)\n",
    "    target_ids_to_drop_filtered = target_ids_to_drop_filtered + h_protein_no_alleles_filtered['Query'].unique().tolist()\n",
    "    out_name = h_genome + '.no_p_hits.Qcov%s.PctID%s.no_alleles' % (Qcov_cut_off,PctID_cut_off)\n",
    "    _tmp_df_no_alleles_filtered[~_tmp_df_no_alleles_filtered['Query'].isin(target_ids_to_drop_filtered)].drop_duplicates(subset='Query')['Query']\\\n",
    "    .to_csv(os.path.join(ALLELE_PATH, out_name), sep='\\t', index=None, header=None)\n",
    "else:\n",
    "    print(\"No filter selected for Qcov and PctID cut-off. If single filter desired set other filter to 1000.\")"
   ]
  },
  {
   "cell_type": "code",
   "execution_count": 312,
   "metadata": {},
   "outputs": [],
   "source": [
    "#write the dataframe again\n",
    "_tmp_df.to_csv(os.path.join(OUT_PATH, _key+'.allele_analysis'), index=None, sep='\\t')"
   ]
  },
  {
   "cell_type": "code",
   "execution_count": 313,
   "metadata": {},
   "outputs": [
    {
     "data": {
      "text/plain": [
       "Index(['Query', 'Target', 'PctID', 'AlnLgth', 'NumMis', 'NumGap', 'StartQuery',\n",
       "       'StopQuery', 'StartTarget', 'StopTarget', 'e-value', 'BitScore',\n",
       "       'QLgth', 'QCov', 'q_contig', 't_contig', 'q_contig == t_contig'],\n",
       "      dtype='object')"
      ]
     },
     "execution_count": 313,
     "metadata": {},
     "output_type": "execute_result"
    }
   ],
   "source": [
    "_tmp_df.columns"
   ]
  },
  {
   "cell_type": "code",
   "execution_count": 314,
   "metadata": {},
   "outputs": [
    {
     "data": {
      "text/plain": [
       "Index(['Query', 'Target', 'PctID', 'AlnLgth', 'NumMis', 'NumGap', 'StartQuery',\n",
       "       'StopQuery', 'StartTarget', 'StopTarget', 'e-value', 'BitScore',\n",
       "       'QLgth', 'QCov', 'q_contig', 't_contig', 'q_contig == t_contig',\n",
       "       'p_protein', 'h_contig_overlap', 't_contig == h_contig_overlap',\n",
       "       'PO_allele'],\n",
       "      dtype='object')"
      ]
     },
     "execution_count": 314,
     "metadata": {},
     "output_type": "execute_result"
    }
   ],
   "source": [
    "#might be good to write these analyzed dataframes out as well to make life a bit easier\n",
    "blast_out_dict['DK_0911_v03_p_ctg.DK_0911_v03_h_ctg.0.001.blastp.outfmt6.analyzed'].columns"
   ]
  },
  {
   "cell_type": "code",
   "execution_count": null,
   "metadata": {},
   "outputs": [],
   "source": [
    "#write the dataframe again\n",
    "_tmp_df.to_csv(os.path.join(OUT_PATH, _key+'.allele_analysis'), index=None, sep='\\t')"
   ]
  },
  {
   "cell_type": "code",
   "execution_count": null,
   "metadata": {},
   "outputs": [],
   "source": []
  }
 ],
 "metadata": {
  "anaconda-cloud": {},
  "kernelspec": {
   "display_name": "Python [default]",
   "language": "python",
   "name": "python3"
  },
  "language_info": {
   "codemirror_mode": {
    "name": "ipython",
    "version": 3
   },
   "file_extension": ".py",
   "mimetype": "text/x-python",
   "name": "python",
   "nbconvert_exporter": "python",
   "pygments_lexer": "ipython3",
   "version": "3.5.2"
  }
 },
 "nbformat": 4,
 "nbformat_minor": 1
}
