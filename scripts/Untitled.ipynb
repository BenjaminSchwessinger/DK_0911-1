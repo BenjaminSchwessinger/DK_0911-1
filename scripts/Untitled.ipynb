{
 "cells": [
  {
   "cell_type": "code",
   "execution_count": 4,
   "metadata": {},
   "outputs": [
    {
     "name": "stdout",
     "output_type": "stream",
     "text": [
      "/home/benjamin/anaconda3/bin/mummerplot\n"
     ]
    }
   ],
   "source": [
    "!which mummerplot"
   ]
  },
  {
   "cell_type": "code",
   "execution_count": 5,
   "metadata": {},
   "outputs": [
    {
     "name": "stdout",
     "output_type": "stream",
     "text": [
      "env: PATH=\"/home/benjamin/anaconda3/mummer-4.0.0/bin:/home/benjamin/anaconda3/bin:/home/benjamin/anaconda3/bin:/usr/local/bioinfo/tcoffee11/bin:/home/benjamin/bin:/home/benjamin/anaconda3/bin:/usr/local/bioinfo/tcoffee11/bin:/usr/local/sbin:/usr/local/bin:/usr/sbin:/usr/bin:/sbin:/bin:/snap/bin:/usr/local/bioinfo/a5/bin:/usr/local/bioinfo/aragorn1.2.38:/usr/local/bioinfo/barrnap-0.7/bin:/usr/local/bioinfo/ca/bin:/usr/local/bioinfo/canu/bin:/usr/local/bioinfo/cap3:/usr/local/bioinfo/hisat2:/usr/local/bioinfo/kraken-0.10.5-beta:/usr/local/bioinfo/nanopolish:/usr/local/bioinfo/NOVOPlasty:/usr/local/bioinfo/Organelle_PBA:/usr/local/bioinfo/PASApipeline/bin:/usr/local/bioinfo/phylip:/usr/local/bioinfo/pilon:/usr/local/bioinfo/Platypus_0.8.1:/usr/local/bioinfo/prokka/bin:/usr/local/bioinfo/prottest3:/usr/local/bioinfo/signalp-4.1:/usr/local/bioinfo/soap:/usr/local/bioinfo/SPAdes/bin:/usr/local/bioinfo/sprai/bin:/usr/local/bioinfo/SSPACE-LongRead_v1-1:/usr/local/bioinfo/stacks-1.41:/usr/local/bioinfo/subread/bin:/usr/local/bioinfo/Unicycler:/usr/local/bioinfo/velvet:/usr/local/bioinfo/samtools/bin:/usr/local/bioinfo/Salmon-0.9.1/bin\"\n"
     ]
    }
   ],
   "source": [
    "%set_env PATH=\"/home/benjamin/anaconda3/mummer-4.0.0/bin:/home/benjamin/anaconda3/bin:/home/benjamin/anaconda3/bin:/usr/local/bioinfo/tcoffee11/bin:/home/benjamin/bin:/home/benjamin/anaconda3/bin:/usr/local/bioinfo/tcoffee11/bin:/usr/local/sbin:/usr/local/bin:/usr/sbin:/usr/bin:/sbin:/bin:/snap/bin:/usr/local/bioinfo/a5/bin:/usr/local/bioinfo/aragorn1.2.38:/usr/local/bioinfo/barrnap-0.7/bin:/usr/local/bioinfo/ca/bin:/usr/local/bioinfo/canu/bin:/usr/local/bioinfo/cap3:/usr/local/bioinfo/hisat2:/usr/local/bioinfo/kraken-0.10.5-beta:/usr/local/bioinfo/nanopolish:/usr/local/bioinfo/NOVOPlasty:/usr/local/bioinfo/Organelle_PBA:/usr/local/bioinfo/PASApipeline/bin:/usr/local/bioinfo/phylip:/usr/local/bioinfo/pilon:/usr/local/bioinfo/Platypus_0.8.1:/usr/local/bioinfo/prokka/bin:/usr/local/bioinfo/prottest3:/usr/local/bioinfo/signalp-4.1:/usr/local/bioinfo/soap:/usr/local/bioinfo/SPAdes/bin:/usr/local/bioinfo/sprai/bin:/usr/local/bioinfo/SSPACE-LongRead_v1-1:/usr/local/bioinfo/stacks-1.41:/usr/local/bioinfo/subread/bin:/usr/local/bioinfo/Unicycler:/usr/local/bioinfo/velvet:/usr/local/bioinfo/samtools/bin:/usr/local/bioinfo/Salmon-0.9.1/bin\" "
   ]
  },
  {
   "cell_type": "code",
   "execution_count": 6,
   "metadata": {},
   "outputs": [
    {
     "name": "stdout",
     "output_type": "stream",
     "text": [
      "/home/benjamin/anaconda3/bin/mummerplot\n"
     ]
    }
   ],
   "source": [
    "!which mummerplot"
   ]
  },
  {
   "cell_type": "code",
   "execution_count": 5,
   "metadata": {},
   "outputs": [
    {
     "name": "stdout",
     "output_type": "stream",
     "text": [
      "env: PATH=\"/home/benjamin/anaconda3/mummer-4.0.0/bin:%s\" % path[0]\n"
     ]
    }
   ],
   "source": [
    "%set_env PATH=\"/home/benjamin/anaconda3/mummer-4.0.0/bin:/home/benjamin/anaconda3/bin:/home/benjamin/anaconda3/bin:/usr/local/bioinfo/tcoffee11/bin:/home/benjamin/bin:/home/benjamin/anaconda3/bin:/usr/local/bioinfo/tcoffee11/bin:/usr/local/sbin:/usr/local/bin:/usr/sbin:/usr/bin:/sbin:/bin:/snap/bin:/usr/local/bioinfo/a5/bin:/usr/local/bioinfo/aragorn1.2.38:/usr/local/bioinfo/barrnap-0.7/bin:/usr/local/bioinfo/ca/bin:/usr/local/bioinfo/canu/bin:/usr/local/bioinfo/cap3:/usr/local/bioinfo/hisat2:/usr/local/bioinfo/kraken-0.10.5-beta:/usr/local/bioinfo/nanopolish:/usr/local/bioinfo/NOVOPlasty:/usr/local/bioinfo/Organelle_PBA:/usr/local/bioinfo/PASApipeline/bin:/usr/local/bioinfo/phylip:/usr/local/bioinfo/pilon:/usr/local/bioinfo/Platypus_0.8.1:/usr/local/bioinfo/prokka/bin:/usr/local/bioinfo/prottest3:/usr/local/bioinfo/signalp-4.1:/usr/local/bioinfo/soap:/usr/local/bioinfo/SPAdes/bin:/usr/local/bioinfo/sprai/bin:/usr/local/bioinfo/SSPACE-LongRead_v1-1:/usr/local/bioinfo/stacks-1.41:/usr/local/bioinfo/subread/bin:/usr/local/bioinfo/Unicycler:/usr/local/bioinfo/velvet:/usr/local/bioinfo/samtools/bin:/usr/local/bioinfo/Salmon-0.9.1/bin\" % path[0]"
   ]
  },
  {
   "cell_type": "code",
   "execution_count": 7,
   "metadata": {},
   "outputs": [
    {
     "name": "stdout",
     "output_type": "stream",
     "text": [
      "\"/home/benjamin/anaconda3/mummer-4.0.0/bin:/home/benjamin/anaconda3/bin:/home/benjamin/anaconda3/bin:/usr/local/bioinfo/tcoffee11/bin:/home/benjamin/bin:/home/benjamin/anaconda3/bin:/usr/local/bioinfo/tcoffee11/bin:/usr/local/sbin:/usr/local/bin:/usr/sbin:/usr/bin:/sbin:/bin:/snap/bin:/usr/local/bioinfo/a5/bin:/usr/local/bioinfo/aragorn1.2.38:/usr/local/bioinfo/barrnap-0.7/bin:/usr/local/bioinfo/ca/bin:/usr/local/bioinfo/canu/bin:/usr/local/bioinfo/cap3:/usr/local/bioinfo/hisat2:/usr/local/bioinfo/kraken-0.10.5-beta:/usr/local/bioinfo/nanopolish:/usr/local/bioinfo/NOVOPlasty:/usr/local/bioinfo/Organelle_PBA:/usr/local/bioinfo/PASApipeline/bin:/usr/local/bioinfo/phylip:/usr/local/bioinfo/pilon:/usr/local/bioinfo/Platypus_0.8.1:/usr/local/bioinfo/prokka/bin:/usr/local/bioinfo/prottest3:/usr/local/bioinfo/signalp-4.1:/usr/local/bioinfo/soap:/usr/local/bioinfo/SPAdes/bin:/usr/local/bioinfo/sprai/bin:/usr/local/bioinfo/SSPACE-LongRead_v1-1:/usr/local/bioinfo/stacks-1.41:/usr/local/bioinfo/subread/bin:/usr/local/bioinfo/Unicycler:/usr/local/bioinfo/velvet:/usr/local/bioinfo/samtools/bin:/usr/local/bioinfo/Salmon-0.9.1/bin\"\n"
     ]
    }
   ],
   "source": [
    "!echo $PATH"
   ]
  },
  {
   "cell_type": "code",
   "execution_count": 9,
   "metadata": {},
   "outputs": [
    {
     "name": "stdout",
     "output_type": "stream",
     "text": [
      "\n",
      "  USAGE: mummerplot  [options]  <match file>\n",
      "    \n",
      "Try '/home/benjamin/anaconda3/bin/mummerplot -h' for more information.\n"
     ]
    }
   ],
   "source": [
    "!mummerplot"
   ]
  },
  {
   "cell_type": "code",
   "execution_count": 11,
   "metadata": {},
   "outputs": [
    {
     "name": "stdout",
     "output_type": "stream",
     "text": [
      "JUPYTER_PATH\n"
     ]
    }
   ],
   "source": [
    "!echo JUPYTER_PATH"
   ]
  },
  {
   "cell_type": "code",
   "execution_count": null,
   "metadata": {},
   "outputs": [],
   "source": []
  }
 ],
 "metadata": {
  "kernelspec": {
   "display_name": "Python [default]",
   "language": "python",
   "name": "python3"
  },
  "language_info": {
   "codemirror_mode": {
    "name": "ipython",
    "version": 3
   },
   "file_extension": ".py",
   "mimetype": "text/x-python",
   "name": "python",
   "nbconvert_exporter": "python",
   "pygments_lexer": "ipython3",
   "version": "3.5.3"
  }
 },
 "nbformat": 4,
 "nbformat_minor": 2
}
