{
 "cells": [
  {
   "cell_type": "markdown",
   "metadata": {},
   "source": [
    "This notebook is aimed at summarzing the REPET output at different levels of the nomenclature and to plot this out. Parts of it are really slow.\n",
    "\n",
    "\n",
    "This notebook was only designed for the purpose of analyzing the Pst-104E genome. No gurantees it works in any other situtation. It will have spelling errors due to the lack of autocorrection."
   ]
  },
  {
   "cell_type": "code",
   "execution_count": 364,
   "metadata": {
    "ExecuteTime": {
     "end_time": "2018-04-03T02:45:27.448377Z",
     "start_time": "2018-04-03T02:45:27.410880Z"
    }
   },
   "outputs": [],
   "source": [
    "%matplotlib inline\n",
    "import pandas as pd\n",
    "import os\n",
    "import re\n",
    "from Bio import SeqIO\n",
    "import pysam\n",
    "from Bio.SeqRecord import SeqRecord\n",
    "from Bio.Seq import Seq\n",
    "from Bio import SearchIO\n",
    "from pybedtools import BedTool\n",
    "import numpy as np\n",
    "import pybedtools\n",
    "import multiprocessing\n",
    "import re\n",
    "import time\n",
    "import matplotlib.pyplot as plt\n",
    "import json\n",
    "from ipywidgets import widgets\n",
    "from IPython.display import display\n",
    "from sklearn.externals.joblib import Parallel, delayed\n",
    "import seaborn as sns\n",
    "import matplotlib"
   ]
  },
  {
   "cell_type": "code",
   "execution_count": 2,
   "metadata": {
    "ExecuteTime": {
     "end_time": "2018-03-29T02:40:11.053664Z",
     "start_time": "2018-03-29T02:40:10.966092Z"
    },
    "collapsed": true
   },
   "outputs": [],
   "source": [
    "def ID_filter_gff(_feature, _id):\n",
    "    \"\"\"\n",
    "    This filter parses out the top level id form the 9th gff column form a REPET gff file.\n",
    "    It has a specific search pattern for each feature type in column 2.\n",
    "    _type is defined by the feature '_'.join(feature.split(\"_\")[-2:])\n",
    "    This function expects that the variable genome either ends with p_ctg or h_ctg and adapts the\n",
    "    search pattern accordingly.\n",
    "    \"\"\"\n",
    "    _type = '_'.join(_feature.split(\"_\")[-2:])\n",
    "    if _type == 'REPET_TEs':\n",
    "        if genome.endswith('p_ctg'):\n",
    "            TE_pattern = r'ID=[A-Z,a-z,0-9,-]*_[A-Z,a-z,0-9]*_[0-9]*_([^;| ]*)'\n",
    "        elif genome.endswith('h_ctg'):\n",
    "            TE_pattern = r'ID=[A-Z,a-z,0-9,-]*_[A-Z,a-z,0-9]*_[0-9]*_[0-9]*_([^;| ]*)'\n",
    "        TE_prog = re.compile(TE_pattern)\n",
    "        TE_match = TE_prog.search(_id)\n",
    "\n",
    "        try:\n",
    "            return TE_match.group(1)\n",
    "        except AttributeError:\n",
    "            print(_id)\n",
    "\n",
    "    if _type == 'REPET_SSRs':\n",
    "        if genome.endswith('p_ctg'):\n",
    "            SSR_pattern = 'ID=[A-Z,a-z,0-9,-]*_[A-Z,a-z,0-9]*_[0-9]*_([A-Z,a-z,0-9,-]*)'\n",
    "        elif genome.endswith('h_ctg'):\n",
    "            SSR_pattern = 'ID=[A-Z,a-z,0-9,-]*_[A-Z,a-z,0-9]*_[0-9]*_[0-9]*_([A-Z,a-z,0-9,-]*)'\n",
    "        SSR_prog = re.compile(SSR_pattern)\n",
    "        SSR_match = SSR_prog.search(_id)\n",
    "        return SSR_match.group(1)\n",
    "    if _type == 'REPET_tblastx' or _type == 'REPET_blastx':\n",
    "        if genome.endswith('p_ctg'):\n",
    "            blast_prog = re.compile(r'ID=[A-Z,a-z,0-9,-]*_[A-Z,a-z,0-9]*_[0-9]*_([^;| ]*)')\n",
    "        elif genome.endswith('h_ctg'):\n",
    "             blast_prog = re.compile(r'ID=[A-Z,a-z,0-9,-]*_[A-Z,a-z,0-9]*_[0-9]*_[0-9]*_([^;| ]*)')\n",
    "        #blast_prog = re.compile(blast_pattern)\n",
    "        blast_match = blast_prog.search(_id)\n",
    "        return blast_match.group(1)\n"
   ]
  },
  {
   "cell_type": "code",
   "execution_count": 3,
   "metadata": {
    "ExecuteTime": {
     "end_time": "2018-03-29T02:40:11.337638Z",
     "start_time": "2018-03-29T02:40:11.267167Z"
    },
    "collapsed": true
   },
   "outputs": [],
   "source": [
    "def blast_hit_gff(_feature, _row8, _id):\n",
    "    \"\"\"\n",
    "    This filter parses the blast hit for REPET_TEs from the new 'ID' column. If no blast hit available returns Pastec ids.\n",
    "    If the result is blast already the value is simple parse the blast hit.\n",
    "    SSRs also get SSR\n",
    "    !!!Requires the three_letter_dict to be defined previously.!!!\n",
    "    _type is defined by the feature '_'.join(feature.split(\"_\")[-2:])\n",
    "    \"\"\"\n",
    "    _type = '_'.join(_feature.split(\"_\")[-2:])\n",
    "    if _type == 'REPET_TEs':\n",
    "        #split the pastec_cat into the first three letter code\n",
    "        #the spliting of the 'ID' column needs to be done differently depending on the h or p contigs.\n",
    "        #h contigs contain one additional '_' in the contig id\n",
    "\n",
    "        pastec_cat = _id.split('_')[0]\n",
    "        if 'TE_BLR' in _row8:\n",
    "            #hit_list = [x.split(';')[3] for x in _row8]\n",
    "            blast_hit_pattern = r'TE_BLR\\w*: (\\S*)[ |;]'\n",
    "            blast_hit_prog = re.compile(blast_hit_pattern)\n",
    "            TE_match = blast_hit_prog.findall(_row8)\n",
    "            first_sub_class = ':'.join(TE_match[0][:-1].split(':')[1:])\n",
    "            if len([x for x in TE_match if first_sub_class in x]) == len(TE_match):\n",
    "                if ';' in first_sub_class:\n",
    "                    return first_sub_class.split(';')[0]\n",
    "                else:\n",
    "                    return first_sub_class\n",
    "#fix this here to include the there letter code of the first bit of the ID similar to the blast hits\n",
    "#e.g. ClassI:?:? and so on. a dict might be the easiest here.\n",
    "            \n",
    "            else:\n",
    "                return three_letter_dict[pastec_cat]\n",
    "        else:\n",
    "            return three_letter_dict[pastec_cat]\n",
    "    if _type == 'REPET_SSRs':\n",
    "        return 'SSR'\n",
    "        \n",
    "\n",
    "        return SSR_match.group(1)\n",
    "    if _type == 'REPET_tblastx' or _type == 'REPET_blastx':\n",
    "        return ':'.join(_id.split(':')[1:])"
   ]
  },
  {
   "cell_type": "code",
   "execution_count": 4,
   "metadata": {
    "ExecuteTime": {
     "end_time": "2018-03-29T02:40:12.106884Z",
     "start_time": "2018-03-29T02:40:12.060519Z"
    },
    "collapsed": true
   },
   "outputs": [],
   "source": [
    "def TE_classification_filter(_id, level = 0):\n",
    "    \"\"\"\n",
    "    This function pulls out the class == level1, Order == level2, Superfamily == leve3.\n",
    "    If SSR or noCat return these values.\n",
    "    \n",
    "    \"\"\"\n",
    "    if len(_id.split(':')) == 1:\n",
    "        return _id\n",
    "    if level == 0:\n",
    "        _class = _id.split(':')[0]\n",
    "        if _class == 'ClassI':\n",
    "            return 'Retrotransposon'\n",
    "        if _class == 'ClassII':\n",
    "            return 'DNA_transposon'\n",
    "    elif level == 1:\n",
    "        _order = _id.split(':')[1]\n",
    "        if _order == '?':\n",
    "            return 'noCat'\n",
    "        else:\n",
    "            return _order\n",
    "    elif level == 2:\n",
    "        _superfamily = _id.split(':')[2]\n",
    "        if _superfamily == '?':\n",
    "            return 'noCat'\n",
    "        else:\n",
    "            return _superfamily\n",
    "    else:\n",
    "        print('Something wrong! Check if level is 0, 1 or 2')"
   ]
  },
  {
   "cell_type": "markdown",
   "metadata": {},
   "source": [
    "### Description\n",
    "This notebook runs on DK0911v03/4 which are the same as the pwoh to h re-assignment has already been completed. \n",
    "REPET was run in the two round annotation mode (see /home/benjamin/genome_assembly/Warrior/REPET/TEanno/primary/TEanno01_finish.sh) for details. The repeat database was 104Ep_DK0911p/104Ep_DK0911p_withoutRedundancy.fa which was produced by combining newly discovered REPEATs from DK0911 and Pst104Ep. The classif_table in the SQL was 104Ep_DK0911p_classif.\n",
    "All REPET gff files got combined as follows using the the naming convention GENOME.DENOVODATABASE.REPET.gff.\n",
    "\n",
    "DK_0911_v04_p_ctg.104Ep_DK0911p.REPET.gff3"
   ]
  },
  {
   "cell_type": "markdown",
   "metadata": {},
   "source": [
    "### Change following input here."
   ]
  },
  {
   "cell_type": "code",
   "execution_count": 330,
   "metadata": {
    "ExecuteTime": {
     "end_time": "2018-04-03T00:53:41.897874Z",
     "start_time": "2018-04-03T00:53:41.888875Z"
    },
    "collapsed": true
   },
   "outputs": [],
   "source": [
    "source_dir = '/home/benjamin/genome_assembly/Warrior/genome_v04/'\n",
    "genome = 'DK_0911_v04_p_ctg'\n",
    "#in case the genome version for the REPET run had a different ID.\n",
    "genome_repet = 'DK0911v03p_a1'\n",
    "Tenovodb = '104Ep_DK0911p'\n",
    "out_dir = '/home/benjamin/genome_assembly/Warrior/TE_analysis'\n",
    "repet_db_dir = '/home/benjamin/databases/REPET'\n",
    "#This needs to be updated here according to genome\n",
    "TE_postanalysis_dir = '/home/benjamin/genome_assembly/Warrior/REPET/TEanno/primary/TEanno_full/postanalysis'\n",
    "#threads to use for multithreading\n",
    "threads = 8"
   ]
  },
  {
   "cell_type": "code",
   "execution_count": 6,
   "metadata": {
    "ExecuteTime": {
     "end_time": "2018-03-29T02:40:14.407930Z",
     "start_time": "2018-03-29T02:40:14.402661Z"
    },
    "collapsed": true
   },
   "outputs": [],
   "source": [
    "if not os.path.exists(out_dir):\n",
    "    os.mkdir(out_dir)"
   ]
  },
  {
   "cell_type": "code",
   "execution_count": 10,
   "metadata": {
    "ExecuteTime": {
     "end_time": "2018-03-29T02:42:13.799357Z",
     "start_time": "2018-03-29T02:42:13.321645Z"
    }
   },
   "outputs": [],
   "source": [
    "#remove all commenting lines from the initial repet file\n",
    "!grep -v \"^#\" {source_dir}/{genome}.{Tenovodb}.REPET.gff3 > {out_dir}/{genome}.{Tenovodb}.REPET.gff3"
   ]
  },
  {
   "cell_type": "code",
   "execution_count": 11,
   "metadata": {
    "ExecuteTime": {
     "end_time": "2018-03-29T02:42:16.905823Z",
     "start_time": "2018-03-29T02:42:15.137920Z"
    }
   },
   "outputs": [],
   "source": [
    "#read in repet_gff file\n",
    "repet_gff = pd.read_csv(os.path.join(out_dir, '%s.%s.REPET.gff3'%(genome,Tenovodb)), sep='\\t', header=None)"
   ]
  },
  {
   "cell_type": "code",
   "execution_count": 12,
   "metadata": {
    "ExecuteTime": {
     "end_time": "2018-03-29T02:42:16.911829Z",
     "start_time": "2018-03-29T02:42:16.908099Z"
    },
    "collapsed": true
   },
   "outputs": [],
   "source": [
    "TE_post_analysis_p_header = 'TE      length  covg    frags   fullLgthFrags   copies  fullLgthCopies  meanId  sdId    minId   q25Id   medId   q75Id   maxId   meanLgth        sdLgth  minLgth q25Lgth medLgth q75Lgth maxLgth meanLgthPerc    sdLgthPerc      minLgthPerc  q25LgthPerc     medLgthPerc     q75LgthPerc     maxLgthPerc'.split(' ')"
   ]
  },
  {
   "cell_type": "code",
   "execution_count": 13,
   "metadata": {
    "ExecuteTime": {
     "end_time": "2018-03-29T02:42:17.542862Z",
     "start_time": "2018-03-29T02:42:17.537643Z"
    },
    "collapsed": true
   },
   "outputs": [],
   "source": [
    "TE_post_analysis_p_header = [x for x in TE_post_analysis_p_header if x != '']"
   ]
  },
  {
   "cell_type": "code",
   "execution_count": 14,
   "metadata": {
    "ExecuteTime": {
     "end_time": "2018-03-29T02:42:22.663259Z",
     "start_time": "2018-03-29T02:42:22.525796Z"
    }
   },
   "outputs": [
    {
     "name": "stdout",
     "output_type": "stream",
     "text": [
      "blastclust.log\r\n",
      "DK0911v03p_a1_chr_allTEs_nr_noSSR_join_path.annotStatsPerTE_FullLengthCopy.fa\r\n",
      "DK0911v03p_a1_chr_allTEs_nr_noSSR_join_path.annotStatsPerTE_FullLengthCopy.txt\r\n",
      "DK0911v03p_a1_chr_allTEs_nr_noSSR_join_path.annotStatsPerTE_FullLengthFrag.fa\r\n",
      "DK0911v03p_a1_chr_allTEs_nr_noSSR_join_path.annotStatsPerTE_FullLengthFrag.txt\r\n",
      "DK0911v03p_a1_chr_allTEs_nr_noSSR_join_path.annotStatsPerTE_OneCopyAndMore.fa\r\n",
      "DK0911v03p_a1_chr_allTEs_nr_noSSR_join_path.annotStatsPerTE_OneCopyAndMore.txt\r\n",
      "DK0911v03p_a1_chr_allTEs_nr_noSSR_join_path.annotStatsPerTE.tab\r\n",
      "DK0911v03p_a1_chr_allTEs_nr_noSSR_join_path.globalAnnotStatsPerTE.txt\r\n",
      "DK0911v03p_a1_chr_allTEs_path.annotStatsPerTE_FullLengthCopy.fa\r\n",
      "DK0911v03p_a1_chr_allTEs_path.annotStatsPerTE_FullLengthCopy.txt\r\n",
      "DK0911v03p_a1_chr_allTEs_path.annotStatsPerTE_FullLengthFrag.fa\r\n",
      "DK0911v03p_a1_chr_allTEs_path.annotStatsPerTE_FullLengthFrag.txt\r\n",
      "DK0911v03p_a1_chr_allTEs_path.annotStatsPerTE_OneCopyAndMore.fa\r\n",
      "DK0911v03p_a1_chr_allTEs_path.annotStatsPerTE_OneCopyAndMore.txt\r\n",
      "DK0911v03p_a1_chr_allTEs_path.annotStatsPerTE.tab\r\n",
      "DK0911v03p_a1_chr_allTEs_path.globalAnnotStatsPerTE.txt\r\n",
      "DK0911v03p_a1_chr_bankBLRtx_path.annotStatsPerTE_FullLengthCopy.fa\r\n",
      "DK0911v03p_a1_chr_bankBLRtx_path.annotStatsPerTE_FullLengthCopy.txt\r\n",
      "DK0911v03p_a1_chr_bankBLRtx_path.annotStatsPerTE_FullLengthFrag.fa\r\n",
      "DK0911v03p_a1_chr_bankBLRtx_path.annotStatsPerTE_FullLengthFrag.txt\r\n",
      "DK0911v03p_a1_chr_bankBLRtx_path.annotStatsPerTE_OneCopyAndMore.fa\r\n",
      "DK0911v03p_a1_chr_bankBLRtx_path.annotStatsPerTE_OneCopyAndMore.txt\r\n",
      "DK0911v03p_a1_chr_bankBLRtx_path.annotStatsPerTE.tab\r\n",
      "DK0911v03p_a1_chr_bankBLRtx_path.globalAnnotStatsPerTE.txt\r\n",
      "DK0911v03p_a1_chr_bankBLRx_path.annotStatsPerTE_FullLengthCopy.fa\r\n",
      "DK0911v03p_a1_chr_bankBLRx_path.annotStatsPerTE_FullLengthCopy.txt\r\n",
      "DK0911v03p_a1_chr_bankBLRx_path.annotStatsPerTE_FullLengthFrag.fa\r\n",
      "DK0911v03p_a1_chr_bankBLRx_path.annotStatsPerTE_FullLengthFrag.txt\r\n",
      "DK0911v03p_a1_chr_bankBLRx_path.annotStatsPerTE_OneCopyAndMore.fa\r\n",
      "DK0911v03p_a1_chr_bankBLRx_path.annotStatsPerTE_OneCopyAndMore.txt\r\n",
      "DK0911v03p_a1_chr_bankBLRx_path.annotStatsPerTE.tab\r\n",
      "DK0911v03p_a1_chr_bankBLRx_path.globalAnnotStatsPerTE.txt\r\n",
      "DK0911v03p_a1_refTEs.fa\r\n",
      "DK0911v03p_a1_refTEs.fa_blastclust.classifStatsPerCluster.tab\r\n",
      "DK0911v03p_a1_refTEs.fa_blastclust.globalStatsPerCluster.txt\r\n",
      "DK0911v03p_a1_refTEs.fa_blastclust.statsPerCluster.tab\r\n",
      "DK0911v03p_a1_refTEs.fa_blastclust.tab\r\n",
      "error.log\r\n"
     ]
    }
   ],
   "source": [
    "!ls {TE_postanalysis_dir}"
   ]
  },
  {
   "cell_type": "markdown",
   "metadata": {},
   "source": [
    "#### This needs to be updated here according to genome"
   ]
  },
  {
   "cell_type": "code",
   "execution_count": 15,
   "metadata": {
    "ExecuteTime": {
     "end_time": "2018-03-29T02:42:26.338780Z",
     "start_time": "2018-03-29T02:42:26.289376Z"
    },
    "code_folding": []
   },
   "outputs": [],
   "source": [
    "#this needs to be fixed up to pick the proper summary table\n",
    "#this reads in the REPET summary dataframe\n",
    "REPET_sdf = pd.read_csv(os.path.join(TE_postanalysis_dir,\\\n",
    "                    '%s_chr_allTEs_nr_noSSR_join_path.annotStatsPerTE.tab' % genome_repet),\\\n",
    "                        names = TE_post_analysis_p_header, header=None, sep='\\t', skiprows=1 )\n",
    "#this pulls out the TE classificaiton from the TE column\n",
    "REPET_sdf['Code'] = REPET_sdf['TE'].apply(lambda x: x.split('_')[0])\n",
    "code_keys = REPET_sdf['Code'].unique()\n",
    "code_keys.sort()\n"
   ]
  },
  {
   "cell_type": "code",
   "execution_count": 25,
   "metadata": {
    "ExecuteTime": {
     "end_time": "2018-04-02T04:40:43.390472Z",
     "start_time": "2018-04-02T04:40:43.382807Z"
    }
   },
   "outputs": [],
   "source": [
    "#load the previous code_dict from file in the repet database folder\n",
    "with open(os.path.join(repet_db_dir, 'code_dict.dict'), 'r') as file:\n",
    "    code_dict = json.loads(file.read())"
   ]
  },
  {
   "cell_type": "code",
   "execution_count": 26,
   "metadata": {
    "ExecuteTime": {
     "end_time": "2018-04-02T04:40:44.291435Z",
     "start_time": "2018-04-02T04:40:44.275569Z"
    }
   },
   "outputs": [],
   "source": [
    "#now check if all code keys to long classifications are already in the dict\n",
    "#if this isn't the case get the missing keys\n",
    "execute_cell = False\n",
    "if set(code_keys).issubset(set(code_dict.keys()))  == False:\n",
    "    execute_cell = True\n",
    "    missing_keys = []\n",
    "    for x in code_keys:\n",
    "        if x not in code_dict.keys():\n",
    "            missing_keys.append(x)\n",
    "            print('Please add the following key value pair to the dictionary and save it out: %s'%x)  "
   ]
  },
  {
   "cell_type": "code",
   "execution_count": 28,
   "metadata": {
    "ExecuteTime": {
     "end_time": "2018-04-02T04:41:18.609120Z",
     "start_time": "2018-04-02T04:41:18.592128Z"
    }
   },
   "outputs": [
    {
     "name": "stdout",
     "output_type": "stream",
     "text": [
      "Nothing new\n"
     ]
    }
   ],
   "source": [
    "#now get some user input for the missing code: long namenclature pairing via a widget\n",
    "dict_parings = 'Nothing new'\n",
    "if execute_cell == True:\n",
    "    dict_parings = widgets.Text()\n",
    "    print('These are the new required additions to the dictionary\\n\\n')\n",
    "    print(missing_keys)\n",
    "    print('Please enter as key:value, key:value') #define how the widget should be filled\n",
    "    ##TO DO, write a test for this being entered correctly###\n",
    "    print('\\n\\n')\n",
    "    print(code_dict)\n",
    "else:\n",
    "    print(dict_parings)"
   ]
  },
  {
   "cell_type": "code",
   "execution_count": 29,
   "metadata": {
    "ExecuteTime": {
     "end_time": "2018-04-02T04:43:36.461797Z",
     "start_time": "2018-04-02T04:43:36.442142Z"
    }
   },
   "outputs": [],
   "source": [
    "#now add the new key: value pair to the dictionary\n",
    "if dict_parings != 'Nothing new':\n",
    "    print(dict_parings.value)\n",
    "    keys = []\n",
    "    values = []\n",
    "    for element in dict_parings.value.split(','):\n",
    "        keys.append(element.split(':')[0].strip())\n",
    "        values.append(element.split(':')[1].strip())\n",
    "    code_dict.update(dict(zip(keys,values)))\n",
    "    print(\"Updating the code_dict\")\n",
    "    with open(os.path.join(repet_db_dir, 'code_dict.dict'), 'w') as file:\n",
    "        file.write(json.dumps(code_dict))"
   ]
  },
  {
   "cell_type": "code",
   "execution_count": 32,
   "metadata": {
    "ExecuteTime": {
     "end_time": "2018-04-02T04:50:06.582983Z",
     "start_time": "2018-04-02T04:50:06.539166Z"
    }
   },
   "outputs": [
    {
     "name": "stdout",
     "output_type": "stream",
     "text": [
      "quick summary for each category based on the REPET summary dataframe\n"
     ]
    },
    {
     "data": {
      "text/html": [
       "<div>\n",
       "<style>\n",
       "    .dataframe thead tr:only-child th {\n",
       "        text-align: right;\n",
       "    }\n",
       "\n",
       "    .dataframe thead th {\n",
       "        text-align: left;\n",
       "    }\n",
       "\n",
       "    .dataframe tbody tr th {\n",
       "        vertical-align: top;\n",
       "    }\n",
       "</style>\n",
       "<table border=\"1\" class=\"dataframe\">\n",
       "  <thead>\n",
       "    <tr style=\"text-align: right;\">\n",
       "      <th></th>\n",
       "      <th>copies</th>\n",
       "      <th>covg</th>\n",
       "      <th>length</th>\n",
       "    </tr>\n",
       "    <tr>\n",
       "      <th>Code long</th>\n",
       "      <th></th>\n",
       "      <th></th>\n",
       "      <th></th>\n",
       "    </tr>\n",
       "  </thead>\n",
       "  <tbody>\n",
       "    <tr>\n",
       "      <th>DNA_transposon Helitron</th>\n",
       "      <td>1868</td>\n",
       "      <td>1221825</td>\n",
       "      <td>6899.236842</td>\n",
       "    </tr>\n",
       "    <tr>\n",
       "      <th>DNA_transposon MITE</th>\n",
       "      <td>3800</td>\n",
       "      <td>992624</td>\n",
       "      <td>499.387324</td>\n",
       "    </tr>\n",
       "    <tr>\n",
       "      <th>DNA_transposon Maverick</th>\n",
       "      <td>297</td>\n",
       "      <td>487988</td>\n",
       "      <td>9560.400000</td>\n",
       "    </tr>\n",
       "    <tr>\n",
       "      <th>DNA_transposon TIR</th>\n",
       "      <td>20311</td>\n",
       "      <td>12383056</td>\n",
       "      <td>4936.592445</td>\n",
       "    </tr>\n",
       "    <tr>\n",
       "      <th>DNA_transposon noCat</th>\n",
       "      <td>3662</td>\n",
       "      <td>1331115</td>\n",
       "      <td>2433.123894</td>\n",
       "    </tr>\n",
       "    <tr>\n",
       "      <th>Potential Host Gene</th>\n",
       "      <td>1127</td>\n",
       "      <td>853373</td>\n",
       "      <td>5761.200000</td>\n",
       "    </tr>\n",
       "    <tr>\n",
       "      <th>Retrotransposon DIRS</th>\n",
       "      <td>1014</td>\n",
       "      <td>990172</td>\n",
       "      <td>8387.952381</td>\n",
       "    </tr>\n",
       "    <tr>\n",
       "      <th>Retrotransposon LARD</th>\n",
       "      <td>9390</td>\n",
       "      <td>4633375</td>\n",
       "      <td>5832.432314</td>\n",
       "    </tr>\n",
       "    <tr>\n",
       "      <th>Retrotransposon LINE</th>\n",
       "      <td>314</td>\n",
       "      <td>204427</td>\n",
       "      <td>4402.636364</td>\n",
       "    </tr>\n",
       "    <tr>\n",
       "      <th>Retrotransposon LTR</th>\n",
       "      <td>17246</td>\n",
       "      <td>14222026</td>\n",
       "      <td>6927.039886</td>\n",
       "    </tr>\n",
       "    <tr>\n",
       "      <th>Retrotransposon PLE</th>\n",
       "      <td>53</td>\n",
       "      <td>29358</td>\n",
       "      <td>8955.000000</td>\n",
       "    </tr>\n",
       "    <tr>\n",
       "      <th>Retrotransposon SINE</th>\n",
       "      <td>68</td>\n",
       "      <td>13481</td>\n",
       "      <td>327.900000</td>\n",
       "    </tr>\n",
       "    <tr>\n",
       "      <th>Retrotransposon TRIM</th>\n",
       "      <td>355</td>\n",
       "      <td>156834</td>\n",
       "      <td>1384.727273</td>\n",
       "    </tr>\n",
       "    <tr>\n",
       "      <th>Retrotransposon noCat</th>\n",
       "      <td>93</td>\n",
       "      <td>58091</td>\n",
       "      <td>5051.000000</td>\n",
       "    </tr>\n",
       "    <tr>\n",
       "      <th>noCat</th>\n",
       "      <td>990</td>\n",
       "      <td>660044</td>\n",
       "      <td>1520.680000</td>\n",
       "    </tr>\n",
       "  </tbody>\n",
       "</table>\n",
       "</div>"
      ],
      "text/plain": [
       "                         copies      covg       length\n",
       "Code long                                             \n",
       "DNA_transposon Helitron    1868   1221825  6899.236842\n",
       "DNA_transposon MITE        3800    992624   499.387324\n",
       "DNA_transposon Maverick     297    487988  9560.400000\n",
       "DNA_transposon TIR        20311  12383056  4936.592445\n",
       "DNA_transposon noCat       3662   1331115  2433.123894\n",
       "Potential Host Gene        1127    853373  5761.200000\n",
       "Retrotransposon DIRS       1014    990172  8387.952381\n",
       "Retrotransposon LARD       9390   4633375  5832.432314\n",
       "Retrotransposon LINE        314    204427  4402.636364\n",
       "Retrotransposon LTR       17246  14222026  6927.039886\n",
       "Retrotransposon PLE          53     29358  8955.000000\n",
       "Retrotransposon SINE         68     13481   327.900000\n",
       "Retrotransposon TRIM        355    156834  1384.727273\n",
       "Retrotransposon noCat        93     58091  5051.000000\n",
       "noCat                       990    660044  1520.680000"
      ]
     },
     "execution_count": 32,
     "metadata": {},
     "output_type": "execute_result"
    }
   ],
   "source": [
    "#quick summary for each category based on the REPET summary dataframe\n",
    "REPET_sdf['Code long'] = REPET_sdf['Code'].apply(lambda x: code_dict[x])\n",
    "REPET_sdf_sum_df = pd.pivot_table(REPET_sdf, values=['covg', 'copies'], index='Code long', aggfunc=np.sum)\n",
    "REPET_sdf_mean_df = pd.pivot_table(REPET_sdf, values='length', index='Code long', aggfunc=np.mean)\n",
    "print('quick summary for each category based on the REPET summary dataframe')\n",
    "pd.concat([REPET_sdf_sum_df,REPET_sdf_mean_df], axis=1 )"
   ]
  },
  {
   "cell_type": "code",
   "execution_count": 35,
   "metadata": {
    "ExecuteTime": {
     "end_time": "2018-04-02T04:58:22.993463Z",
     "start_time": "2018-04-02T04:58:20.540948Z"
    }
   },
   "outputs": [],
   "source": [
    "#now read in all actuall REPET GFF file\n",
    "REPET_gff_df = pd.read_csv(os.path.join(out_dir,'%s.%s.REPET.gff3' % (genome, Tenovodb))\\\n",
    "                           , sep='\\t', header = None)\n",
    "#filter out host genes\n",
    "REPET_gff_df = REPET_gff_df[~REPET_gff_df[8].str.contains(\"Potential\")]"
   ]
  },
  {
   "cell_type": "code",
   "execution_count": 44,
   "metadata": {
    "collapsed": true
   },
   "outputs": [],
   "source": [
    "#filter out potential host genes\n",
    "p_repet_gff_filtered = p_repet_gff_filtered[~p_repet_gff_filtered[8].str.contains(\"Potential\")]"
   ]
  },
  {
   "cell_type": "code",
   "execution_count": 36,
   "metadata": {
    "ExecuteTime": {
     "end_time": "2018-04-02T05:02:02.803623Z",
     "start_time": "2018-04-02T05:01:41.483760Z"
    },
    "collapsed": true
   },
   "outputs": [],
   "source": [
    "REPET_gff_df['ID'] = REPET_gff_df.apply(lambda row: ID_filter_gff(row[1], row[8]), axis=1)"
   ]
  },
  {
   "cell_type": "code",
   "execution_count": 42,
   "metadata": {
    "ExecuteTime": {
     "end_time": "2018-04-02T05:08:21.196987Z",
     "start_time": "2018-04-02T05:08:20.536374Z"
    }
   },
   "outputs": [
    {
     "name": "stdout",
     "output_type": "stream",
     "text": [
      "Aas\n"
     ]
    }
   ],
   "source": [
    "code_keys_gff = REPET_gff_df[REPET_gff_df[1].str.contains('REPET_TE')]['ID'].unique()\n",
    "code_keys_gff = list({x.split('_')[0] for x in code_keys_gff})\n",
    "three_letter_code = list({x for x in code_keys_gff})\n",
    "three_letter_code.sort()\n",
    "three_letter_values = []\n",
    "for x in three_letter_code:\n",
    "    if 'MITE' in x:\n",
    "        _value = \"ClassII:MITE:?\"\n",
    "        three_letter_values.append(_value)\n",
    "        continue\n",
    "    if 'LARD' in x:\n",
    "        _value = 'ClassI:LARD:?'\n",
    "        three_letter_values.append(_value)\n",
    "        continue\n",
    "    if 'TRIM' in x:\n",
    "        _value = 'ClassI:TRIM:?'\n",
    "        three_letter_values.append(_value)\n",
    "        continue\n",
    "    _value =''\n",
    "    if x[0] == 'D':\n",
    "        _value = _value + 'ClassII:'\n",
    "    if x[0] == 'R':\n",
    "        _value = _value + 'ClassI:'\n",
    "    if x[0] != 'D' and x[0] != 'R':\n",
    "        _value = 'noCat'\n",
    "        three_letter_values.append(_value)\n",
    "        continue\n",
    "    if x[1] == 'T':\n",
    "        _value = _value + 'TIR:?'\n",
    "    if x[1] == 'H':\n",
    "        _value = _value + 'Helitron:?'\n",
    "    if x[1] == 'M':\n",
    "        _value = _value + 'Maverick:?'\n",
    "    if x[0:2] == 'DY':\n",
    "        _value = _value + ':Crypton:?'\n",
    "    if x[1] == 'X':\n",
    "        _value = _value + '?:?'\n",
    "    if x[1] == 'I':\n",
    "        _value = _value + 'LINE:?'\n",
    "    if x[1] == 'L':\n",
    "        _value = _value + 'LTR:?'\n",
    "    if x[1] == 'P':\n",
    "        _value = _value + 'Penelope:?'\n",
    "    if x[1] == 'S':\n",
    "        _value = _value + 'SINE:?'\n",
    "    if x[0:2] == 'RY':\n",
    "        _value = _value + 'DIRS:?'    \n",
    "    three_letter_values.append(_value)\n",
    "\n",
    "if len(three_letter_code) == len(three_letter_values):\n",
    "    print(\"Aas\")\n",
    "    three_letter_dict = dict(zip(three_letter_code, three_letter_values))"
   ]
  },
  {
   "cell_type": "code",
   "execution_count": 43,
   "metadata": {
    "ExecuteTime": {
     "end_time": "2018-04-02T05:08:23.023602Z",
     "start_time": "2018-04-02T05:08:23.015051Z"
    }
   },
   "outputs": [
    {
     "data": {
      "text/plain": [
       "{'DHX-comp': 'ClassII:Helitron:?',\n",
       " 'DHX-comp-chim': 'ClassII:Helitron:?',\n",
       " 'DHX-incomp': 'ClassII:Helitron:?',\n",
       " 'DHX-incomp-chim': 'ClassII:Helitron:?',\n",
       " 'DMX-incomp': 'ClassII:Maverick:?',\n",
       " 'DTX-comp': 'ClassII:TIR:?',\n",
       " 'DTX-comp-chim': 'ClassII:TIR:?',\n",
       " 'DTX-incomp': 'ClassII:TIR:?',\n",
       " 'DTX-incomp-chim': 'ClassII:TIR:?',\n",
       " 'DXX': 'ClassII:?:?',\n",
       " 'DXX-MITE': 'ClassII:MITE:?',\n",
       " 'DXX-MITE-chim': 'ClassII:MITE:?',\n",
       " 'RIX-comp': 'ClassI:LINE:?',\n",
       " 'RIX-incomp': 'ClassI:LINE:?',\n",
       " 'RIX-incomp-chim': 'ClassI:LINE:?',\n",
       " 'RLX-comp': 'ClassI:LTR:?',\n",
       " 'RLX-comp-chim': 'ClassI:LTR:?',\n",
       " 'RLX-incomp': 'ClassI:LTR:?',\n",
       " 'RLX-incomp-chim': 'ClassI:LTR:?',\n",
       " 'RPX-incomp-chim': 'ClassI:Penelope:?',\n",
       " 'RSX-incomp': 'ClassI:SINE:?',\n",
       " 'RSX-incomp-chim': 'ClassI:SINE:?',\n",
       " 'RXX': 'ClassI:?:?',\n",
       " 'RXX-LARD': 'ClassI:LARD:?',\n",
       " 'RXX-LARD-chim': 'ClassI:LARD:?',\n",
       " 'RXX-TRIM': 'ClassI:TRIM:?',\n",
       " 'RXX-TRIM-chim': 'ClassI:TRIM:?',\n",
       " 'RXX-chim': 'ClassI:?:?',\n",
       " 'RYX-comp': 'ClassI:DIRS:?',\n",
       " 'RYX-comp-chim': 'ClassI:DIRS:?',\n",
       " 'RYX-incomp': 'ClassI:DIRS:?',\n",
       " 'RYX-incomp-chim': 'ClassI:DIRS:?',\n",
       " 'noCat': 'noCat'}"
      ]
     },
     "execution_count": 43,
     "metadata": {},
     "output_type": "execute_result"
    }
   ],
   "source": [
    "#this three letter dict is required for the blast_hit_gff function to work and needs to be generated\n",
    "three_letter_dict"
   ]
  },
  {
   "cell_type": "code",
   "execution_count": 44,
   "metadata": {
    "ExecuteTime": {
     "end_time": "2018-04-02T05:11:10.856842Z",
     "start_time": "2018-04-02T05:10:47.704937Z"
    },
    "collapsed": true
   },
   "outputs": [],
   "source": [
    "REPET_gff_df['Class:Order:Superfamily'] = REPET_gff_df.apply(lambda row: blast_hit_gff(row[1], row[8], row['ID']), axis=1)"
   ]
  },
  {
   "cell_type": "code",
   "execution_count": 45,
   "metadata": {
    "ExecuteTime": {
     "end_time": "2018-04-02T05:15:47.628961Z",
     "start_time": "2018-04-02T05:15:46.264672Z"
    }
   },
   "outputs": [],
   "source": [
    "#generate a dict that can be used to rename the Class:Order:Superfamily column \n",
    "#considering that partial matches ([2] == match_part) might contain different\n",
    "#IDs even though they are the same TE only partial.\n",
    "_tmp_subset = REPET_gff_df[~REPET_gff_df[1].str.contains('SSR')].loc[:, 'ID':].sort_values(by=['ID','Class:Order:Superfamily'])\\\n",
    ".drop_duplicates(subset='ID', keep ='last')\n",
    "\n",
    "TE_COS_dict = dict(zip(_tmp_subset.loc[:, 'ID'], _tmp_subset.loc[:, 'Class:Order:Superfamily' ]))\n",
    "\n",
    "_tmp_subset = REPET_gff_df[REPET_gff_df[1].str.contains('SSR')].loc[:, 'ID':].sort_values(by=['ID','Class:Order:Superfamily'])\\\n",
    ".drop_duplicates(subset='ID', keep ='last')\n",
    "\n",
    "_tmp_dict = dict(zip(_tmp_subset.loc[:, 'ID'], _tmp_subset.loc[:, 'Class:Order:Superfamily' ]))\n",
    "\n",
    "TE_COS_dict.update(_tmp_dict)\n",
    "#remove all backslashes from the values as this will conflict with the output later on\n",
    "for x in TE_COS_dict.keys():\n",
    "    if '/' in TE_COS_dict[x]:\n",
    "        value = TE_COS_dict[x]\n",
    "        print(value)\n",
    "        TE_COS_dict[x] = value.replace('/','_')\n",
    "        print(TE_COS_dict[x])"
   ]
  },
  {
   "cell_type": "code",
   "execution_count": 47,
   "metadata": {
    "ExecuteTime": {
     "end_time": "2018-04-02T05:18:46.266640Z",
     "start_time": "2018-04-02T05:18:40.397927Z"
    },
    "collapsed": true
   },
   "outputs": [],
   "source": [
    "REPET_gff_df.to_csv(os.path.join(out_dir,'%s.%s.REPET.long.df' % (genome, Tenovodb)),\n",
    "                    sep='\\t', header = None, index=None )"
   ]
  },
  {
   "cell_type": "code",
   "execution_count": 49,
   "metadata": {
    "ExecuteTime": {
     "end_time": "2018-04-02T05:20:01.966678Z",
     "start_time": "2018-04-02T05:20:01.732647Z"
    },
    "collapsed": true
   },
   "outputs": [],
   "source": [
    "REPET_gff_df['Class:Order:Superfamily'] = REPET_gff_df['ID'].apply(lambda x: TE_COS_dict[x])"
   ]
  },
  {
   "cell_type": "code",
   "execution_count": 50,
   "metadata": {
    "ExecuteTime": {
     "end_time": "2018-04-02T05:20:12.414849Z",
     "start_time": "2018-04-02T05:20:12.369423Z"
    },
    "collapsed": true
   },
   "outputs": [
    {
     "name": "stdout",
     "output_type": "stream",
     "text": [
      "These are the unique Class:Order:Superfamily classifiers of this dataframe:\n",
      "['ClassII:Helitron:?' 'ClassII:TIR:PIF-Harbinger' 'ClassII:TIR:MuDR'\n",
      " 'ClassII:TIR:?' 'ClassII:TIR:hAT' 'ClassII:TIR:CACTA'\n",
      " 'ClassII:TIR:Tc1-Mariner' 'ClassII:MITE:?' 'ClassII:?:?' 'noCat'\n",
      " 'ClassI:LTR:Copia' 'ClassI:LTR:Gypsy' 'ClassI:LTR:?' 'ClassI:Penelope:?'\n",
      " 'ClassI:LINE:Jockey' 'ClassI:LARD:?' 'ClassI:DIRS:DIRS' 'ClassI:LINE:I'\n",
      " 'ClassI:TRIM:?' 'ClassII:?:Academ' 'ClassII:Helitron:Helitron'\n",
      " 'ClassII:Maverick:?' 'ClassI:DIRS:?' 'ClassII:TIR:P' 'ClassI:LINE:?'\n",
      " 'ClassI:SINE:?' 'ClassII:Maverick:Maverick' 'SSR' 'ClassI:LTR:ERV'\n",
      " 'ClassI:LTR:Retrovirus' 'ClassI:?:?' 'ClassI:LTR:Bel-Pao'\n",
      " 'ClassII:TIR:Transib' 'ClassII:?:Ginger1' 'ClassI:LINE:RTE'\n",
      " 'ClassI:PLE:Penelope' 'ClassII:Crypton:Crypton' 'ClassII:?:Sola'\n",
      " 'ClassII:?:Kolobok' 'ClassI:LINE:L1' 'ClassII:TIR:PiggyBac'\n",
      " 'ClassI:LINE:R2']\n"
     ]
    }
   ],
   "source": [
    "print('These are the unique Class:Order:Superfamily classifiers of this dataframe:')\n",
    "print(REPET_gff_df['Class:Order:Superfamily'].unique())"
   ]
  },
  {
   "cell_type": "code",
   "execution_count": 51,
   "metadata": {
    "ExecuteTime": {
     "end_time": "2018-04-02T05:23:46.000273Z",
     "start_time": "2018-04-02T05:23:26.697578Z"
    },
    "collapsed": true
   },
   "outputs": [],
   "source": [
    "#have a rough summary of the coverage not considering overlaps.\n",
    "REPET_gff_df.drop_duplicates(subset=[3,4,'ID'], inplace =True) \n",
    "#this drops all duplicates in the df that completey overlap and have the same ID. Avoid double counting.\n",
    "REPET_gff_df['Length'] = REPET_gff_df[4] - REPET_gff_df[3]\n",
    "REPET_gff_df['Class'] = REPET_gff_df.apply(lambda row: TE_classification_filter(row['Class:Order:Superfamily'], 0), axis=1)\n",
    "REPET_gff_df['Order'] = REPET_gff_df.apply(lambda row: TE_classification_filter(row['Class:Order:Superfamily'], 1), axis=1)\n",
    "REPET_gff_df['Superfamily'] = REPET_gff_df.apply(lambda row: TE_classification_filter(row['Class:Order:Superfamily'], 2), axis=1)\n",
    "REPET_gff_df_COS = REPET_gff_df.groupby(by=['Class','Order','Superfamily'])['Length'].sum()\n",
    "REPET_gff_df_S = REPET_gff_df.groupby(by=['Class:Order:Superfamily'])['Length'].sum()"
   ]
  },
  {
   "cell_type": "code",
   "execution_count": 53,
   "metadata": {
    "ExecuteTime": {
     "end_time": "2018-04-02T05:24:02.243533Z",
     "start_time": "2018-04-02T05:24:02.230971Z"
    },
    "collapsed": true
   },
   "outputs": [
    {
     "name": "stdout",
     "output_type": "stream",
     "text": [
      "This is the summary of overlapping coverage according to Class, Order, Superfamily\n",
      "Class            Order     Superfamily  \n",
      "DNA_transposon   Crypton   Crypton              1211\n",
      "                 Helitron  Helitron          1458876\n",
      "                           noCat             1393562\n",
      "                 MITE      noCat             1235216\n",
      "                 Maverick  Maverick            25808\n",
      "                           noCat              657405\n",
      "                 TIR       CACTA             1705320\n",
      "                           MuDR              3814837\n",
      "                           P                  213687\n",
      "                           PIF-Harbinger     4011921\n",
      "                           PiggyBac              695\n",
      "                           Tc1-Mariner       3063489\n",
      "                           Transib              1343\n",
      "                           hAT               7992022\n",
      "                           noCat             6254935\n",
      "                 noCat     Academ            1896800\n",
      "                           Ginger1              3247\n",
      "                           Kolobok              1317\n",
      "                           Sola                15335\n",
      "                           noCat             6376553\n",
      "Retrotransposon  DIRS      DIRS              1030249\n",
      "                           noCat              189975\n",
      "                 LARD      noCat             3161819\n",
      "                 LINE      I                  664436\n",
      "                           Jockey              71669\n",
      "                           L1                    907\n",
      "                           R2                   4274\n",
      "                           RTE                  2955\n",
      "                           noCat               60393\n",
      "                 LTR       Bel-Pao              5153\n",
      "                           Copia            11281137\n",
      "                           ERV                113124\n",
      "                           Gypsy            23736233\n",
      "                           Retrovirus          23584\n",
      "                           noCat             3173516\n",
      "                 PLE       Penelope             6782\n",
      "                 Penelope  noCat               40372\n",
      "                 SINE      noCat               13413\n",
      "                 TRIM      noCat              129893\n",
      "                 noCat     noCat               67423\n",
      "SSR              SSR       SSR               1805686\n",
      "noCat            noCat     noCat              908980\n",
      "Name: Length, dtype: int64\n"
     ]
    }
   ],
   "source": [
    "print(\"This is the summary of overlapping coverage according to Class, Order, Superfamily\")\n",
    "print(REPET_gff_df_COS)"
   ]
  },
  {
   "cell_type": "code",
   "execution_count": 58,
   "metadata": {
    "ExecuteTime": {
     "end_time": "2018-04-02T05:33:03.108875Z",
     "start_time": "2018-04-02T05:33:03.035941Z"
    },
    "collapsed": true
   },
   "outputs": [
    {
     "name": "stdout",
     "output_type": "stream",
     "text": [
      "This is the summary of unqiue TE insertions for each Class, Order, Superfamily\n",
      "Class            Order     Superfamily  \n",
      "DNA_transposon   Crypton   Crypton              7\n",
      "                 Helitron  Helitron          2939\n",
      "                           noCat             2009\n",
      "                 MITE      noCat             4132\n",
      "                 Maverick  Maverick            43\n",
      "                           noCat              339\n",
      "                 TIR       CACTA             2757\n",
      "                           MuDR              7874\n",
      "                           P                  799\n",
      "                           PIF-Harbinger     9630\n",
      "                           PiggyBac             6\n",
      "                           Tc1-Mariner       7494\n",
      "                           Transib              6\n",
      "                           hAT              18316\n",
      "                           noCat             9527\n",
      "                 noCat     Academ            2620\n",
      "                           Ginger1             40\n",
      "                           Kolobok              3\n",
      "                           Sola                24\n",
      "                           noCat            21719\n",
      "Retrotransposon  DIRS      DIRS              2192\n",
      "                           noCat              185\n",
      "                 LARD      noCat             5035\n",
      "                 LINE      I                 1535\n",
      "                           Jockey             311\n",
      "                           L1                  11\n",
      "                           R2                  11\n",
      "                           RTE                 25\n",
      "                           noCat               83\n",
      "                 LTR       Bel-Pao             35\n",
      "                           Copia            29028\n",
      "                           ERV               1262\n",
      "                           Gypsy            63346\n",
      "                           Retrovirus          77\n",
      "                           noCat             7081\n",
      "                 PLE       Penelope            34\n",
      "                 Penelope  noCat               73\n",
      "                 SINE      noCat               68\n",
      "                 TRIM      noCat              293\n",
      "                 noCat     noCat              143\n",
      "SSR              SSR       SSR              68960\n",
      "noCat            noCat     noCat             1211\n",
      "Name: Length, dtype: int64\n"
     ]
    }
   ],
   "source": [
    "print(\"This is the summary of unqiue TE insertions for each Class, Order, Superfamily\")\n",
    "print(REPET_gff_df.groupby(by=['Class','Order','Superfamily'])['Length'].count())"
   ]
  },
  {
   "cell_type": "code",
   "execution_count": 54,
   "metadata": {
    "ExecuteTime": {
     "end_time": "2018-04-02T05:26:29.545148Z",
     "start_time": "2018-04-02T05:26:29.537790Z"
    }
   },
   "outputs": [
    {
     "name": "stdout",
     "output_type": "stream",
     "text": [
      "This is the summary of overlapping coverage according to Superfamily\n",
      "Class:Order:Superfamily\n",
      "ClassI:?:?                      67423\n",
      "ClassI:DIRS:?                  189975\n",
      "ClassI:DIRS:DIRS              1030249\n",
      "ClassI:LARD:?                 3161819\n",
      "ClassI:LINE:?                   60393\n",
      "ClassI:LINE:I                  664436\n",
      "ClassI:LINE:Jockey              71669\n",
      "ClassI:LINE:L1                    907\n",
      "ClassI:LINE:R2                   4274\n",
      "ClassI:LINE:RTE                  2955\n",
      "ClassI:LTR:?                  3173516\n",
      "ClassI:LTR:Bel-Pao               5153\n",
      "ClassI:LTR:Copia             11281137\n",
      "ClassI:LTR:ERV                 113124\n",
      "ClassI:LTR:Gypsy             23736233\n",
      "ClassI:LTR:Retrovirus           23584\n",
      "ClassI:PLE:Penelope              6782\n",
      "ClassI:Penelope:?               40372\n",
      "ClassI:SINE:?                   13413\n",
      "ClassI:TRIM:?                  129893\n",
      "ClassII:?:?                   6376553\n",
      "ClassII:?:Academ              1896800\n",
      "ClassII:?:Ginger1                3247\n",
      "ClassII:?:Kolobok                1317\n",
      "ClassII:?:Sola                  15335\n",
      "ClassII:Crypton:Crypton          1211\n",
      "ClassII:Helitron:?            1393562\n",
      "ClassII:Helitron:Helitron     1458876\n",
      "ClassII:MITE:?                1235216\n",
      "ClassII:Maverick:?             657405\n",
      "ClassII:Maverick:Maverick       25808\n",
      "ClassII:TIR:?                 6254935\n",
      "ClassII:TIR:CACTA             1705320\n",
      "ClassII:TIR:MuDR              3814837\n",
      "ClassII:TIR:P                  213687\n",
      "ClassII:TIR:PIF-Harbinger     4011921\n",
      "ClassII:TIR:PiggyBac              695\n",
      "ClassII:TIR:Tc1-Mariner       3063489\n",
      "ClassII:TIR:Transib              1343\n",
      "ClassII:TIR:hAT               7992022\n",
      "SSR                           1805686\n",
      "noCat                          908980\n",
      "Name: Length, dtype: int64\n"
     ]
    }
   ],
   "source": [
    "print(\"This is the summary of overlapping coverage according to Superfamily\")\n",
    "print(REPET_gff_df_S)"
   ]
  },
  {
   "cell_type": "code",
   "execution_count": 55,
   "metadata": {
    "ExecuteTime": {
     "end_time": "2018-04-02T05:27:49.335899Z",
     "start_time": "2018-04-02T05:27:48.672836Z"
    }
   },
   "outputs": [
    {
     "name": "stdout",
     "output_type": "stream",
     "text": [
      "This is the number of unique TEs: 12152\n",
      "This is the number of unique TE superfamilies: 41\n"
     ]
    }
   ],
   "source": [
    "num_unique_TEs = len(REPET_gff_df[~REPET_gff_df[1].str.contains('SSR')]['ID'].unique())\n",
    "num_unique_TE_super = len(REPET_gff_df[~REPET_gff_df[1].str.contains('SSR')]['Class:Order:Superfamily'].unique())\n",
    "\n",
    "print('This is the number of unique TEs: %i\\nThis is the number of unique TE superfamilies: %i' % (num_unique_TEs, num_unique_TE_super))"
   ]
  },
  {
   "cell_type": "code",
   "execution_count": 61,
   "metadata": {
    "ExecuteTime": {
     "end_time": "2018-04-02T05:35:55.274597Z",
     "start_time": "2018-04-02T05:35:55.230752Z"
    },
    "collapsed": true
   },
   "outputs": [
    {
     "name": "stdout",
     "output_type": "stream",
     "text": [
      "This is the count of unique TEs in each category\n",
      "Class:Order:Superfamily\n",
      "ClassI:?:?                     143\n",
      "ClassI:DIRS:?                  185\n",
      "ClassI:DIRS:DIRS              2192\n",
      "ClassI:LARD:?                 5035\n",
      "ClassI:LINE:?                   83\n",
      "ClassI:LINE:I                 1535\n",
      "ClassI:LINE:Jockey             311\n",
      "ClassI:LINE:L1                  11\n",
      "ClassI:LINE:R2                  11\n",
      "ClassI:LINE:RTE                 25\n",
      "ClassI:LTR:?                  7081\n",
      "ClassI:LTR:Bel-Pao              35\n",
      "ClassI:LTR:Copia             29028\n",
      "ClassI:LTR:ERV                1262\n",
      "ClassI:LTR:Gypsy             63346\n",
      "ClassI:LTR:Retrovirus           77\n",
      "ClassI:PLE:Penelope             34\n",
      "ClassI:Penelope:?               73\n",
      "ClassI:SINE:?                   68\n",
      "ClassI:TRIM:?                  293\n",
      "ClassII:?:?                  21719\n",
      "ClassII:?:Academ              2620\n",
      "ClassII:?:Ginger1               40\n",
      "ClassII:?:Kolobok                3\n",
      "ClassII:?:Sola                  24\n",
      "ClassII:Crypton:Crypton          7\n",
      "ClassII:Helitron:?            2009\n",
      "ClassII:Helitron:Helitron     2939\n",
      "ClassII:MITE:?                4132\n",
      "ClassII:Maverick:?             339\n",
      "ClassII:Maverick:Maverick       43\n",
      "ClassII:TIR:?                 9527\n",
      "ClassII:TIR:CACTA             2757\n",
      "ClassII:TIR:MuDR              7874\n",
      "ClassII:TIR:P                  799\n",
      "ClassII:TIR:PIF-Harbinger     9630\n",
      "ClassII:TIR:PiggyBac             6\n",
      "ClassII:TIR:Tc1-Mariner       7494\n",
      "ClassII:TIR:Transib              6\n",
      "ClassII:TIR:hAT              18316\n",
      "SSR                          68960\n",
      "noCat                         1211\n",
      "Name: Length, dtype: int64\n"
     ]
    }
   ],
   "source": [
    "print('This is the count of unique TEs in each category')\n",
    "print(REPET_gff_df.groupby(by=['Class:Order:Superfamily'])['Length'].count())"
   ]
  },
  {
   "cell_type": "code",
   "execution_count": 67,
   "metadata": {
    "ExecuteTime": {
     "end_time": "2018-04-02T05:39:09.187347Z",
     "start_time": "2018-04-02T05:39:08.824372Z"
    }
   },
   "outputs": [
    {
     "name": "stdout",
     "output_type": "stream",
     "text": [
      "This is the relative number of identified element in each category\n"
     ]
    },
    {
     "data": {
      "text/plain": [
       "Class:Order:Superfamily\n",
       "ClassI:?:?                    0.070679\n",
       "ClassI:DIRS:?                 0.091438\n",
       "ClassI:DIRS:DIRS              1.083416\n",
       "ClassI:LARD:?                 2.488595\n",
       "ClassI:LINE:?                 0.041024\n",
       "ClassI:LINE:I                 0.758688\n",
       "ClassI:LINE:Jockey            0.153715\n",
       "ClassI:LINE:L1                0.005437\n",
       "ClassI:LINE:R2                0.005437\n",
       "ClassI:LINE:RTE               0.012356\n",
       "ClassI:LTR:?                  3.499849\n",
       "ClassI:LTR:Bel-Pao            0.017299\n",
       "ClassI:LTR:Copia             14.347355\n",
       "ClassI:LTR:ERV                0.623755\n",
       "ClassI:LTR:Gypsy             31.309342\n",
       "ClassI:LTR:Retrovirus         0.038058\n",
       "ClassI:PLE:Penelope           0.016805\n",
       "ClassI:Penelope:?             0.036081\n",
       "ClassI:SINE:?                 0.033610\n",
       "ClassI:TRIM:?                 0.144818\n",
       "ClassII:?:?                  10.734815\n",
       "ClassII:?:Academ              1.294959\n",
       "ClassII:?:Ginger1             0.019770\n",
       "ClassII:?:Kolobok             0.001483\n",
       "ClassII:?:Sola                0.011862\n",
       "ClassII:Crypton:Crypton       0.003460\n",
       "ClassII:Helitron:?            0.992967\n",
       "ClassII:Helitron:Helitron     1.452628\n",
       "ClassII:MITE:?                2.042279\n",
       "ClassII:Maverick:?            0.167554\n",
       "ClassII:Maverick:Maverick     0.021253\n",
       "ClassII:TIR:?                 4.708807\n",
       "ClassII:TIR:CACTA             1.362673\n",
       "ClassII:TIR:MuDR              3.891797\n",
       "ClassII:TIR:P                 0.394913\n",
       "ClassII:TIR:PIF-Harbinger     4.759716\n",
       "ClassII:TIR:PiggyBac          0.002966\n",
       "ClassII:TIR:Tc1-Mariner       3.703978\n",
       "ClassII:TIR:Transib           0.002966\n",
       "ClassII:TIR:hAT               9.052851\n",
       "noCat                         0.598548\n",
       "Name: Length, dtype: float64"
      ]
     },
     "execution_count": 67,
     "metadata": {},
     "output_type": "execute_result"
    }
   ],
   "source": [
    "REPET_gff_wo_SSRs_df = REPET_gff_df[~REPET_gff_df[1].str.contains('SSR')]\n",
    "print('This is the relative number of identified element in each category')\n",
    "REPET_gff_wo_SSRs_df.groupby(by=['Class:Order:Superfamily'])['Length'].count()/REPET_gff_wo_SSRs_df .groupby(by=['Class:Order:Superfamily'])['Length'].count().sum()*100"
   ]
  },
  {
   "cell_type": "code",
   "execution_count": 68,
   "metadata": {
    "ExecuteTime": {
     "end_time": "2018-04-02T05:39:59.146230Z",
     "start_time": "2018-04-02T05:39:55.824947Z"
    }
   },
   "outputs": [],
   "source": [
    "REPET_gff_df.to_csv(os.path.join(out_dir,'%s.%s.REPET.long_v2.df' % (genome, Tenovodb)),\\\n",
    "                    sep='\\t', header = None, index=None)"
   ]
  },
  {
   "cell_type": "code",
   "execution_count": 75,
   "metadata": {
    "ExecuteTime": {
     "end_time": "2018-04-02T06:03:58.775083Z",
     "start_time": "2018-04-02T06:03:58.767534Z"
    }
   },
   "outputs": [
    {
     "data": {
      "text/plain": [
       "'/home/benjamin/genome_assembly/Warrior/TE_analysis'"
      ]
     },
     "execution_count": 75,
     "metadata": {},
     "output_type": "execute_result"
    }
   ],
   "source": [
    "out_dir"
   ]
  },
  {
   "cell_type": "code",
   "execution_count": 76,
   "metadata": {
    "ExecuteTime": {
     "end_time": "2018-04-02T06:04:30.602468Z",
     "start_time": "2018-04-02T06:04:29.269777Z"
    }
   },
   "outputs": [],
   "source": [
    "#make new gff files where the ID column is the superfamily level\n",
    "REPET_gff_superfamily = REPET_gff_df.iloc[:,:]\n",
    "REPET_gff_superfamily[8] = REPET_gff_df['Class:Order:Superfamily']\n",
    "REPET_gff_superfamily.iloc[:,0:9].to_csv(\\\n",
    "    os.path.join(out_dir,'%s.%s.REPET.superfamily.gff' % (genome, Tenovodb)),\\\n",
    "                                         sep='\\t', header = None, index=None,columns=None)"
   ]
  },
  {
   "cell_type": "code",
   "execution_count": 72,
   "metadata": {
    "ExecuteTime": {
     "end_time": "2018-04-02T05:43:57.353629Z",
     "start_time": "2018-04-02T05:43:55.528216Z"
    },
    "collapsed": true
   },
   "outputs": [],
   "source": [
    "#make new gff file where the ID column is the TE level\n",
    "REPET_gff_TE = REPET_gff_df.iloc[:,:]\n",
    "REPET_gff_TE[8] = REPET_gff_TE['ID']\n",
    "REPET_gff_TE.iloc[:,0:9].to_csv(\\\n",
    "    os.path.join(out_dir,'%s.%s.REPET.TE.gff' % (genome, Tenovodb)),\\\n",
    "    sep='\\t', header = None, index=None,columns=None)"
   ]
  },
  {
   "cell_type": "code",
   "execution_count": 73,
   "metadata": {
    "ExecuteTime": {
     "end_time": "2018-04-02T05:44:34.327891Z",
     "start_time": "2018-04-02T05:44:34.310310Z"
    },
    "collapsed": true
   },
   "outputs": [],
   "source": [
    "#generate the directory structure to safe specific coverage files\n",
    "TE_types = ['Retrotransposon', 'DNA_transposon', 'noCat', 'SSR']\n",
    "TE_path = [os.path.join(out_dir, x) for x in TE_types]\n",
    "TE_path_dict = dict(zip(TE_types, TE_path))\n",
    "for TE_type in TE_types:\n",
    "    new_path = os.path.join(out_dir, TE_type)\n",
    "    if not os.path.exists(new_path):\n",
    "        os.mkdir(new_path)"
   ]
  },
  {
   "cell_type": "code",
   "execution_count": 110,
   "metadata": {
    "ExecuteTime": {
     "end_time": "2018-04-02T07:06:12.848158Z",
     "start_time": "2018-04-02T07:06:12.802485Z"
    },
    "collapsed": true
   },
   "outputs": [],
   "source": [
    "# subset the id and safe in specific folder\n",
    "# return the subsetted file as bedtool\n",
    "def subset_id(_id, bed_fh, repet_prefix, genome_file_fh):\n",
    "    '''A function that takes the a ID, e.g. from the ID column 9 of a gff,\n",
    "    a bed file handle, e.g. the gff frame, a certain file prefix, and a genome_file handle.\n",
    "    It saves out the coverage file and the gff file for the specific ID.'''\n",
    "    #ClassI are retrotransposon form blast\n",
    "    if 'ClassI:' in _id:\n",
    "        out_path = TE_path_dict['Retrotransposon']   \n",
    "    #ClassII are DNA_transponson\n",
    "    elif 'ClassII' in _id:\n",
    "        out_path = TE_path_dict['DNA_transposon'] \n",
    "    #The rest with '_' should be REPET_TEs\n",
    "    elif _id == 'noCat':\n",
    "        out_path = TE_path_dict['noCat']\n",
    "    #everything without '_' at the end should be SSR\n",
    "    elif _id == 'SSR':\n",
    "        out_path = TE_path_dict['SSR']\n",
    "    cov_fh = os.path.join(out_path,'%s.%s.cov' %(repet_prefix,_id))\n",
    "    gff_fh = cov_fh.replace('.cov', '.gff')\n",
    "    result = pybedtools.BedTool(bed_fh).filter(id_filter, _id).saveas(gff_fh)\n",
    "    result.genome_coverage(dz=True,g=genome_file_fh).saveas(cov_fh)\n",
    "    print('Done with callculating coverage of %s.'% _id)"
   ]
  },
  {
   "cell_type": "code",
   "execution_count": 89,
   "metadata": {
    "ExecuteTime": {
     "end_time": "2018-04-02T06:30:02.827860Z",
     "start_time": "2018-04-02T06:30:02.818940Z"
    },
    "collapsed": true
   },
   "outputs": [],
   "source": [
    "# Next, we create a function to pass only features for a particular\n",
    "# featuretype.  This is similar to a \"grep\" operation when applied to every\n",
    "# feature in a BedTool\n",
    "def id_filter(feature, _id):\n",
    "    if feature[8] == _id:\n",
    "        return True\n",
    "    return False"
   ]
  },
  {
   "cell_type": "code",
   "execution_count": 77,
   "metadata": {
    "ExecuteTime": {
     "end_time": "2018-04-02T06:04:46.243394Z",
     "start_time": "2018-04-02T06:04:46.238462Z"
    },
    "collapsed": true
   },
   "outputs": [],
   "source": [
    "REPET_sf_gff_fh = os.path.join(out_dir,'%s.%s.REPET.superfamily.gff' % (genome, Tenovodb))\n",
    "REPET_TE_gff_fh = os.path.join(out_dir,'%s.%s.REPET.TE.gff' % (genome, Tenovodb))"
   ]
  },
  {
   "cell_type": "code",
   "execution_count": 78,
   "metadata": {
    "ExecuteTime": {
     "end_time": "2018-04-02T06:06:18.076424Z",
     "start_time": "2018-04-02T06:06:18.059837Z"
    },
    "collapsed": true
   },
   "outputs": [],
   "source": [
    "#define some prefixes used to aggregate coverages\n",
    "#and the genome file for bedtools\n",
    "repet_prefix_TE = '%s.%s.REPET.TE' % (genome, Tenovodb)\n",
    "repet_prefix_S =  '%s.%s.REPET.superfamily' % (genome, Tenovodb)\n",
    "genome_file_fh = os.path.join(source_dir, '%s.genome_file' % genome)\n",
    "genome_df = pd.read_csv(genome_file_fh, sep='\\t', header=None,names=['contig', 'length'])\n",
    "genome_size = genome_df['length'].sum()"
   ]
  },
  {
   "cell_type": "code",
   "execution_count": 79,
   "metadata": {
    "ExecuteTime": {
     "end_time": "2018-04-02T06:06:28.194418Z",
     "start_time": "2018-04-02T06:06:19.307021Z"
    },
    "collapsed": true
   },
   "outputs": [],
   "source": [
    "#generate the bedobjects\n",
    "RE_TE_gff = pybedtools.BedTool(REPET_TE_gff_fh)\n",
    "g_TE = RE_TE_gff.remove_invalid().saveas(REPET_TE_gff_fh.replace('gff', 'bedobject'))\n",
    "#use the blast filtered dataframe as well\n",
    "RE_S_gff = pybedtools.BedTool(REPET_sf_gff_fh)\n",
    "g_S = RE_S_gff.remove_invalid().saveas(REPET_sf_gff_fh.replace('gff', 'bedobject'))"
   ]
  },
  {
   "cell_type": "code",
   "execution_count": 87,
   "metadata": {
    "ExecuteTime": {
     "end_time": "2018-04-02T06:29:05.648803Z",
     "start_time": "2018-04-02T06:29:05.619885Z"
    },
    "collapsed": true
   },
   "outputs": [
    {
     "data": {
      "text/html": [
       "<div>\n",
       "<style>\n",
       "    .dataframe thead tr:only-child th {\n",
       "        text-align: right;\n",
       "    }\n",
       "\n",
       "    .dataframe thead th {\n",
       "        text-align: left;\n",
       "    }\n",
       "\n",
       "    .dataframe tbody tr th {\n",
       "        vertical-align: top;\n",
       "    }\n",
       "</style>\n",
       "<table border=\"1\" class=\"dataframe\">\n",
       "  <thead>\n",
       "    <tr style=\"text-align: right;\">\n",
       "      <th></th>\n",
       "      <th>0</th>\n",
       "      <th>1</th>\n",
       "      <th>2</th>\n",
       "      <th>3</th>\n",
       "      <th>4</th>\n",
       "      <th>5</th>\n",
       "      <th>6</th>\n",
       "      <th>7</th>\n",
       "      <th>8</th>\n",
       "      <th>ID</th>\n",
       "      <th>Class:Order:Superfamily</th>\n",
       "      <th>Length</th>\n",
       "      <th>Class</th>\n",
       "      <th>Order</th>\n",
       "      <th>Superfamily</th>\n",
       "    </tr>\n",
       "  </thead>\n",
       "  <tbody>\n",
       "    <tr>\n",
       "      <th>0</th>\n",
       "      <td>pcontig_000</td>\n",
       "      <td>DK0911v03p_a1_REPET_TEs</td>\n",
       "      <td>match</td>\n",
       "      <td>4242314</td>\n",
       "      <td>4242377</td>\n",
       "      <td>0.0</td>\n",
       "      <td>+</td>\n",
       "      <td>.</td>\n",
       "      <td>ClassII:Helitron:?</td>\n",
       "      <td>DHX-incomp-chim_DK0911v03p_dn-L-B92-Map1_reversed</td>\n",
       "      <td>ClassII:Helitron:?</td>\n",
       "      <td>63</td>\n",
       "      <td>DNA_transposon</td>\n",
       "      <td>Helitron</td>\n",
       "      <td>noCat</td>\n",
       "    </tr>\n",
       "    <tr>\n",
       "      <th>2</th>\n",
       "      <td>pcontig_000</td>\n",
       "      <td>DK0911v03p_a1_REPET_TEs</td>\n",
       "      <td>match</td>\n",
       "      <td>4362621</td>\n",
       "      <td>4362764</td>\n",
       "      <td>0.0</td>\n",
       "      <td>+</td>\n",
       "      <td>.</td>\n",
       "      <td>ClassII:TIR:PIF-Harbinger</td>\n",
       "      <td>DTX-comp-chim_DK0911v03p_dn-L-B598-Map1_reversed</td>\n",
       "      <td>ClassII:TIR:PIF-Harbinger</td>\n",
       "      <td>143</td>\n",
       "      <td>DNA_transposon</td>\n",
       "      <td>TIR</td>\n",
       "      <td>PIF-Harbinger</td>\n",
       "    </tr>\n",
       "    <tr>\n",
       "      <th>4</th>\n",
       "      <td>pcontig_000</td>\n",
       "      <td>DK0911v03p_a1_REPET_TEs</td>\n",
       "      <td>match</td>\n",
       "      <td>4281341</td>\n",
       "      <td>4284490</td>\n",
       "      <td>0.0</td>\n",
       "      <td>-</td>\n",
       "      <td>.</td>\n",
       "      <td>ClassII:TIR:PIF-Harbinger</td>\n",
       "      <td>DTX-comp_Pst79_REPET-B-G1326-Map3_reversed</td>\n",
       "      <td>ClassII:TIR:PIF-Harbinger</td>\n",
       "      <td>3149</td>\n",
       "      <td>DNA_transposon</td>\n",
       "      <td>TIR</td>\n",
       "      <td>PIF-Harbinger</td>\n",
       "    </tr>\n",
       "    <tr>\n",
       "      <th>6</th>\n",
       "      <td>pcontig_000</td>\n",
       "      <td>DK0911v03p_a1_REPET_TEs</td>\n",
       "      <td>match</td>\n",
       "      <td>4189902</td>\n",
       "      <td>4190140</td>\n",
       "      <td>0.0</td>\n",
       "      <td>+</td>\n",
       "      <td>.</td>\n",
       "      <td>ClassII:TIR:MuDR</td>\n",
       "      <td>DTX-incomp-chim_DK0911v03p_dn-L-B103-Map1_reve...</td>\n",
       "      <td>ClassII:TIR:MuDR</td>\n",
       "      <td>238</td>\n",
       "      <td>DNA_transposon</td>\n",
       "      <td>TIR</td>\n",
       "      <td>MuDR</td>\n",
       "    </tr>\n",
       "    <tr>\n",
       "      <th>8</th>\n",
       "      <td>pcontig_000</td>\n",
       "      <td>DK0911v03p_a1_REPET_TEs</td>\n",
       "      <td>match</td>\n",
       "      <td>4191004</td>\n",
       "      <td>4191046</td>\n",
       "      <td>0.0</td>\n",
       "      <td>+</td>\n",
       "      <td>.</td>\n",
       "      <td>ClassII:TIR:MuDR</td>\n",
       "      <td>DTX-incomp-chim_DK0911v03p_dn-L-B103-Map1_reve...</td>\n",
       "      <td>ClassII:TIR:MuDR</td>\n",
       "      <td>42</td>\n",
       "      <td>DNA_transposon</td>\n",
       "      <td>TIR</td>\n",
       "      <td>MuDR</td>\n",
       "    </tr>\n",
       "  </tbody>\n",
       "</table>\n",
       "</div>"
      ],
      "text/plain": [
       "             0                        1      2        3        4    5  6  7  \\\n",
       "0  pcontig_000  DK0911v03p_a1_REPET_TEs  match  4242314  4242377  0.0  +  .   \n",
       "2  pcontig_000  DK0911v03p_a1_REPET_TEs  match  4362621  4362764  0.0  +  .   \n",
       "4  pcontig_000  DK0911v03p_a1_REPET_TEs  match  4281341  4284490  0.0  -  .   \n",
       "6  pcontig_000  DK0911v03p_a1_REPET_TEs  match  4189902  4190140  0.0  +  .   \n",
       "8  pcontig_000  DK0911v03p_a1_REPET_TEs  match  4191004  4191046  0.0  +  .   \n",
       "\n",
       "                           8  \\\n",
       "0         ClassII:Helitron:?   \n",
       "2  ClassII:TIR:PIF-Harbinger   \n",
       "4  ClassII:TIR:PIF-Harbinger   \n",
       "6           ClassII:TIR:MuDR   \n",
       "8           ClassII:TIR:MuDR   \n",
       "\n",
       "                                                  ID  \\\n",
       "0  DHX-incomp-chim_DK0911v03p_dn-L-B92-Map1_reversed   \n",
       "2   DTX-comp-chim_DK0911v03p_dn-L-B598-Map1_reversed   \n",
       "4         DTX-comp_Pst79_REPET-B-G1326-Map3_reversed   \n",
       "6  DTX-incomp-chim_DK0911v03p_dn-L-B103-Map1_reve...   \n",
       "8  DTX-incomp-chim_DK0911v03p_dn-L-B103-Map1_reve...   \n",
       "\n",
       "     Class:Order:Superfamily  Length           Class     Order    Superfamily  \n",
       "0         ClassII:Helitron:?      63  DNA_transposon  Helitron          noCat  \n",
       "2  ClassII:TIR:PIF-Harbinger     143  DNA_transposon       TIR  PIF-Harbinger  \n",
       "4  ClassII:TIR:PIF-Harbinger    3149  DNA_transposon       TIR  PIF-Harbinger  \n",
       "6           ClassII:TIR:MuDR     238  DNA_transposon       TIR           MuDR  \n",
       "8           ClassII:TIR:MuDR      42  DNA_transposon       TIR           MuDR  "
      ]
     },
     "execution_count": 87,
     "metadata": {},
     "output_type": "execute_result"
    }
   ],
   "source": [
    "REPET_gff_df.head()"
   ]
  },
  {
   "cell_type": "code",
   "execution_count": 112,
   "metadata": {
    "ExecuteTime": {
     "end_time": "2018-04-02T07:08:10.960067Z",
     "start_time": "2018-04-02T07:07:01.367056Z"
    }
   },
   "outputs": [
    {
     "name": "stdout",
     "output_type": "stream",
     "text": [
      "Done with callculating coverage of ClassII:TIR:CACTA.\n",
      "Done with callculating coverage of ClassII:MITE:?.\n",
      "Done with callculating coverage of ClassII:Helitron:?.\n",
      "Done with callculating coverage of ClassII:TIR:Tc1-Mariner.\n",
      "Done with callculating coverage of ClassII:TIR:MuDR.\n",
      "Done with callculating coverage of ClassII:TIR:PIF-Harbinger.\n",
      "Done with callculating coverage of noCat.\n",
      "Done with callculating coverage of ClassI:Penelope:?.\n",
      "Done with callculating coverage of ClassI:LINE:Jockey.\n",
      "Done with callculating coverage of ClassII:TIR:hAT.\n",
      "Done with callculating coverage of ClassI:DIRS:DIRS.\n",
      "Done with callculating coverage of ClassI:LTR:?.\n",
      "Done with callculating coverage of ClassI:TRIM:?.\n",
      "Done with callculating coverage of ClassI:LINE:I.\n",
      "Done with callculating coverage of ClassII:TIR:?.\n",
      "Done with callculating coverage of ClassI:DIRS:?.\n",
      "Done with callculating coverage of ClassI:LARD:?.\n",
      "Done with callculating coverage of ClassII:?:?.\n",
      "Done with callculating coverage of ClassII:Helitron:Helitron.\n",
      "Done with callculating coverage of ClassII:Maverick:?.\n",
      "Done with callculating coverage of ClassII:?:Academ.\n",
      "Done with callculating coverage of ClassI:LINE:?.\n",
      "Done with callculating coverage of ClassII:TIR:P.\n",
      "Done with callculating coverage of ClassI:SINE:?.\n",
      "Done with callculating coverage of ClassII:Maverick:Maverick.\n",
      "Done with callculating coverage of ClassI:LTR:Copia.\n",
      "Done with callculating coverage of ClassI:LTR:ERV.\n",
      "Done with callculating coverage of ClassI:LTR:Retrovirus.\n",
      "Done with callculating coverage of ClassI:?:?.\n",
      "Done with callculating coverage of ClassI:LTR:Bel-Pao.\n",
      "Done with callculating coverage of ClassII:TIR:Transib.\n",
      "Done with callculating coverage of ClassII:?:Ginger1.\n",
      "Done with callculating coverage of ClassI:LINE:RTE.\n",
      "Done with callculating coverage of SSR.\n",
      "Done with callculating coverage of ClassI:PLE:Penelope.\n",
      "Done with callculating coverage of ClassII:?:Sola.\n",
      "Done with callculating coverage of ClassII:Crypton:Crypton.\n",
      "Done with callculating coverage of ClassI:LINE:L1.\n",
      "Done with callculating coverage of ClassII:?:Kolobok.\n",
      "Done with callculating coverage of ClassII:TIR:PiggyBac.\n",
      "Done with callculating coverage of ClassI:LINE:R2.\n",
      "Done with callculating coverage of ClassI:LTR:Gypsy.\n"
     ]
    },
    {
     "data": {
      "text/plain": [
       "[None,\n",
       " None,\n",
       " None,\n",
       " None,\n",
       " None,\n",
       " None,\n",
       " None,\n",
       " None,\n",
       " None,\n",
       " None,\n",
       " None,\n",
       " None,\n",
       " None,\n",
       " None,\n",
       " None,\n",
       " None,\n",
       " None,\n",
       " None,\n",
       " None,\n",
       " None,\n",
       " None,\n",
       " None,\n",
       " None,\n",
       " None,\n",
       " None,\n",
       " None,\n",
       " None,\n",
       " None,\n",
       " None,\n",
       " None,\n",
       " None,\n",
       " None,\n",
       " None,\n",
       " None,\n",
       " None,\n",
       " None,\n",
       " None,\n",
       " None,\n",
       " None,\n",
       " None,\n",
       " None,\n",
       " None]"
      ]
     },
     "execution_count": 112,
     "metadata": {},
     "output_type": "execute_result"
    }
   ],
   "source": [
    "#use simple loop to loop over the bedcov genome coverage per classification. Keep track if everything is already done.\n",
    "jobs = []\n",
    "superfamily_bed_fh = REPET_sf_gff_fh.replace('gff', 'bedobject')\n",
    "superfamilies = REPET_gff_df['Class:Order:Superfamily'].unique()\n",
    "Parallel(n_jobs=threads)(delayed(subset_id)(ID, superfamily_bed_fh, repet_prefix_S, genome_file_fh)\\\n",
    "                      for ID in superfamilies)"
   ]
  },
  {
   "cell_type": "code",
   "execution_count": 113,
   "metadata": {
    "ExecuteTime": {
     "end_time": "2018-04-02T07:12:54.307154Z",
     "start_time": "2018-04-02T07:12:54.296708Z"
    }
   },
   "outputs": [
    {
     "data": {
      "text/plain": [
       "['/home/benjamin/genome_assembly/Warrior/TE_analysis/Retrotransposon',\n",
       " '/home/benjamin/genome_assembly/Warrior/TE_analysis/DNA_transposon',\n",
       " '/home/benjamin/genome_assembly/Warrior/TE_analysis/noCat',\n",
       " '/home/benjamin/genome_assembly/Warrior/TE_analysis/SSR']"
      ]
     },
     "execution_count": 113,
     "metadata": {},
     "output_type": "execute_result"
    }
   ],
   "source": [
    "TE_path"
   ]
  },
  {
   "cell_type": "code",
   "execution_count": 115,
   "metadata": {
    "ExecuteTime": {
     "end_time": "2018-04-02T07:15:29.412381Z",
     "start_time": "2018-04-02T07:15:29.406109Z"
    }
   },
   "outputs": [
    {
     "data": {
      "text/plain": [
       "[]"
      ]
     },
     "execution_count": 115,
     "metadata": {},
     "output_type": "execute_result"
    }
   ],
   "source": [
    "class_cov_files"
   ]
  },
  {
   "cell_type": "code",
   "execution_count": 116,
   "metadata": {
    "ExecuteTime": {
     "end_time": "2018-04-02T07:18:59.422318Z",
     "start_time": "2018-04-02T07:15:47.410012Z"
    },
    "collapsed": true
   },
   "outputs": [
    {
     "name": "stdout",
     "output_type": "stream",
     "text": [
      "/home/benjamin/genome_assembly/Warrior/TE_analysis/DNA_transposon/DK_0911_v04_p_ctg.104Ep_DK0911p.REPET.superfamily.ClassII:?:?.cov\n",
      "ClassII:?:?\n",
      "/home/benjamin/genome_assembly/Warrior/TE_analysis/DNA_transposon/DK_0911_v04_p_ctg.104Ep_DK0911p.REPET.superfamily.ClassII:?:Academ.cov\n",
      "ClassII:?:Academ\n",
      "/home/benjamin/genome_assembly/Warrior/TE_analysis/DNA_transposon/DK_0911_v04_p_ctg.104Ep_DK0911p.REPET.superfamily.ClassII:?:Ginger1.cov\n",
      "ClassII:?:Ginger1\n",
      "/home/benjamin/genome_assembly/Warrior/TE_analysis/DNA_transposon/DK_0911_v04_p_ctg.104Ep_DK0911p.REPET.superfamily.ClassII:?:Kolobok.cov\n",
      "ClassII:?:Kolobok\n",
      "/home/benjamin/genome_assembly/Warrior/TE_analysis/DNA_transposon/DK_0911_v04_p_ctg.104Ep_DK0911p.REPET.superfamily.ClassII:?:Sola.cov\n",
      "ClassII:?:Sola\n",
      "/home/benjamin/genome_assembly/Warrior/TE_analysis/DNA_transposon/DK_0911_v04_p_ctg.104Ep_DK0911p.REPET.superfamily.ClassII:Crypton:Crypton.cov\n",
      "ClassII:Crypton:Crypton\n",
      "/home/benjamin/genome_assembly/Warrior/TE_analysis/DNA_transposon/DK_0911_v04_p_ctg.104Ep_DK0911p.REPET.superfamily.ClassII:Helitron:?.cov\n",
      "ClassII:Helitron:?\n",
      "/home/benjamin/genome_assembly/Warrior/TE_analysis/DNA_transposon/DK_0911_v04_p_ctg.104Ep_DK0911p.REPET.superfamily.ClassII:Helitron:Helitron.cov\n",
      "ClassII:Helitron:Helitron\n",
      "/home/benjamin/genome_assembly/Warrior/TE_analysis/DNA_transposon/DK_0911_v04_p_ctg.104Ep_DK0911p.REPET.superfamily.ClassII:MITE:?.cov\n",
      "ClassII:MITE:?\n",
      "/home/benjamin/genome_assembly/Warrior/TE_analysis/DNA_transposon/DK_0911_v04_p_ctg.104Ep_DK0911p.REPET.superfamily.ClassII:Maverick:?.cov\n",
      "ClassII:Maverick:?\n",
      "/home/benjamin/genome_assembly/Warrior/TE_analysis/DNA_transposon/DK_0911_v04_p_ctg.104Ep_DK0911p.REPET.superfamily.ClassII:Maverick:Maverick.cov\n",
      "ClassII:Maverick:Maverick\n",
      "/home/benjamin/genome_assembly/Warrior/TE_analysis/DNA_transposon/DK_0911_v04_p_ctg.104Ep_DK0911p.REPET.superfamily.ClassII:TIR:?.cov\n",
      "ClassII:TIR:?\n",
      "/home/benjamin/genome_assembly/Warrior/TE_analysis/DNA_transposon/DK_0911_v04_p_ctg.104Ep_DK0911p.REPET.superfamily.ClassII:TIR:CACTA.cov\n",
      "ClassII:TIR:CACTA\n",
      "/home/benjamin/genome_assembly/Warrior/TE_analysis/DNA_transposon/DK_0911_v04_p_ctg.104Ep_DK0911p.REPET.superfamily.ClassII:TIR:MuDR.cov\n",
      "ClassII:TIR:MuDR\n",
      "/home/benjamin/genome_assembly/Warrior/TE_analysis/DNA_transposon/DK_0911_v04_p_ctg.104Ep_DK0911p.REPET.superfamily.ClassII:TIR:P.cov\n",
      "ClassII:TIR:P\n",
      "/home/benjamin/genome_assembly/Warrior/TE_analysis/DNA_transposon/DK_0911_v04_p_ctg.104Ep_DK0911p.REPET.superfamily.ClassII:TIR:PIF-Harbinger.cov\n",
      "ClassII:TIR:PIF-Harbinger\n",
      "/home/benjamin/genome_assembly/Warrior/TE_analysis/DNA_transposon/DK_0911_v04_p_ctg.104Ep_DK0911p.REPET.superfamily.ClassII:TIR:PiggyBac.cov\n",
      "ClassII:TIR:PiggyBac\n",
      "/home/benjamin/genome_assembly/Warrior/TE_analysis/DNA_transposon/DK_0911_v04_p_ctg.104Ep_DK0911p.REPET.superfamily.ClassII:TIR:Tc1-Mariner.cov\n",
      "ClassII:TIR:Tc1-Mariner\n",
      "/home/benjamin/genome_assembly/Warrior/TE_analysis/DNA_transposon/DK_0911_v04_p_ctg.104Ep_DK0911p.REPET.superfamily.ClassII:TIR:Transib.cov\n",
      "ClassII:TIR:Transib\n",
      "/home/benjamin/genome_assembly/Warrior/TE_analysis/DNA_transposon/DK_0911_v04_p_ctg.104Ep_DK0911p.REPET.superfamily.ClassII:TIR:hAT.cov\n",
      "ClassII:TIR:hAT\n",
      "/home/benjamin/genome_assembly/Warrior/TE_analysis/Retrotransposon/DK_0911_v04_p_ctg.104Ep_DK0911p.REPET.superfamily.ClassI:?:?.cov\n",
      "ClassI:?:?\n",
      "/home/benjamin/genome_assembly/Warrior/TE_analysis/Retrotransposon/DK_0911_v04_p_ctg.104Ep_DK0911p.REPET.superfamily.ClassI:DIRS:?.cov\n",
      "ClassI:DIRS:?\n",
      "/home/benjamin/genome_assembly/Warrior/TE_analysis/Retrotransposon/DK_0911_v04_p_ctg.104Ep_DK0911p.REPET.superfamily.ClassI:DIRS:DIRS.cov\n",
      "ClassI:DIRS:DIRS\n",
      "/home/benjamin/genome_assembly/Warrior/TE_analysis/Retrotransposon/DK_0911_v04_p_ctg.104Ep_DK0911p.REPET.superfamily.ClassI:LARD:?.cov\n",
      "ClassI:LARD:?\n",
      "/home/benjamin/genome_assembly/Warrior/TE_analysis/Retrotransposon/DK_0911_v04_p_ctg.104Ep_DK0911p.REPET.superfamily.ClassI:LINE:?.cov\n",
      "ClassI:LINE:?\n",
      "/home/benjamin/genome_assembly/Warrior/TE_analysis/Retrotransposon/DK_0911_v04_p_ctg.104Ep_DK0911p.REPET.superfamily.ClassI:LINE:I.cov\n",
      "ClassI:LINE:I\n",
      "/home/benjamin/genome_assembly/Warrior/TE_analysis/Retrotransposon/DK_0911_v04_p_ctg.104Ep_DK0911p.REPET.superfamily.ClassI:LINE:Jockey.cov\n",
      "ClassI:LINE:Jockey\n",
      "/home/benjamin/genome_assembly/Warrior/TE_analysis/Retrotransposon/DK_0911_v04_p_ctg.104Ep_DK0911p.REPET.superfamily.ClassI:LINE:L1.cov\n",
      "ClassI:LINE:L1\n",
      "/home/benjamin/genome_assembly/Warrior/TE_analysis/Retrotransposon/DK_0911_v04_p_ctg.104Ep_DK0911p.REPET.superfamily.ClassI:LINE:R2.cov\n",
      "ClassI:LINE:R2\n",
      "/home/benjamin/genome_assembly/Warrior/TE_analysis/Retrotransposon/DK_0911_v04_p_ctg.104Ep_DK0911p.REPET.superfamily.ClassI:LINE:RTE.cov\n",
      "ClassI:LINE:RTE\n",
      "/home/benjamin/genome_assembly/Warrior/TE_analysis/Retrotransposon/DK_0911_v04_p_ctg.104Ep_DK0911p.REPET.superfamily.ClassI:LTR:?.cov\n",
      "ClassI:LTR:?\n",
      "/home/benjamin/genome_assembly/Warrior/TE_analysis/Retrotransposon/DK_0911_v04_p_ctg.104Ep_DK0911p.REPET.superfamily.ClassI:LTR:Bel-Pao.cov\n",
      "ClassI:LTR:Bel-Pao\n",
      "/home/benjamin/genome_assembly/Warrior/TE_analysis/Retrotransposon/DK_0911_v04_p_ctg.104Ep_DK0911p.REPET.superfamily.ClassI:LTR:Copia.cov\n",
      "ClassI:LTR:Copia\n",
      "/home/benjamin/genome_assembly/Warrior/TE_analysis/Retrotransposon/DK_0911_v04_p_ctg.104Ep_DK0911p.REPET.superfamily.ClassI:LTR:ERV.cov\n",
      "ClassI:LTR:ERV\n",
      "/home/benjamin/genome_assembly/Warrior/TE_analysis/Retrotransposon/DK_0911_v04_p_ctg.104Ep_DK0911p.REPET.superfamily.ClassI:LTR:Gypsy.cov\n",
      "ClassI:LTR:Gypsy\n",
      "/home/benjamin/genome_assembly/Warrior/TE_analysis/Retrotransposon/DK_0911_v04_p_ctg.104Ep_DK0911p.REPET.superfamily.ClassI:LTR:Retrovirus.cov\n",
      "ClassI:LTR:Retrovirus\n",
      "/home/benjamin/genome_assembly/Warrior/TE_analysis/Retrotransposon/DK_0911_v04_p_ctg.104Ep_DK0911p.REPET.superfamily.ClassI:PLE:Penelope.cov\n",
      "ClassI:PLE:Penelope\n",
      "/home/benjamin/genome_assembly/Warrior/TE_analysis/Retrotransposon/DK_0911_v04_p_ctg.104Ep_DK0911p.REPET.superfamily.ClassI:Penelope:?.cov\n",
      "ClassI:Penelope:?\n",
      "/home/benjamin/genome_assembly/Warrior/TE_analysis/Retrotransposon/DK_0911_v04_p_ctg.104Ep_DK0911p.REPET.superfamily.ClassI:SINE:?.cov\n",
      "ClassI:SINE:?\n",
      "/home/benjamin/genome_assembly/Warrior/TE_analysis/Retrotransposon/DK_0911_v04_p_ctg.104Ep_DK0911p.REPET.superfamily.ClassI:TRIM:?.cov\n",
      "ClassI:TRIM:?\n",
      "/home/benjamin/genome_assembly/Warrior/TE_analysis/SSR/DK_0911_v04_p_ctg.104Ep_DK0911p.REPET.superfamily.SSR.cov\n",
      "SSR\n",
      "/home/benjamin/genome_assembly/Warrior/TE_analysis/noCat/DK_0911_v04_p_ctg.104Ep_DK0911p.REPET.superfamily.noCat.cov\n",
      "noCat\n"
     ]
    }
   ],
   "source": [
    "class_cov_files = []\n",
    "for path in TE_path:\n",
    "    cov_files = [os.path.join(path, x) for x in os.listdir(path) if x.endswith('.cov')]\n",
    "    for file in cov_files:\n",
    "        class_cov_files.append(file)\n",
    "\n",
    "#make a large summary dataframe from all the cov files where the last \n",
    "df_list =[]\n",
    "class_cov_files.sort()\n",
    "for file in class_cov_files:\n",
    "    #print(file)\n",
    "    tmp_df = pd.read_csv(file, sep='\\t', header = None)\n",
    "    tmp_df[\"Class:Order:Superfamily\"] = file.split('.')[-2]\n",
    "    tmp_df.drop_duplicates(inplace=True) #drop all the duplicates meaning same position in the genome and same superfamily\n",
    "    df_list.append(tmp_df)\n",
    "    print(file.split('.')[-2])\n",
    "\n",
    "df_REPET_classification = pd.concat(df_list)\n",
    "df_REPET_classification.to_csv(out_dir+'/'+ repet_prefix_S +'.cov', sep='\\t', header =None, index=None)\n",
    "\n",
    "cov_per_superfamily = df_REPET_classification.pivot_table(values=1, columns= \"Class:Order:Superfamily\", aggfunc='count')\n",
    "#cov_per_contig_per_superfamily = df_REPET_classification.groupby([0, \"Class:Order:Superfamily\"])[1].count()"
   ]
  },
  {
   "cell_type": "code",
   "execution_count": 119,
   "metadata": {
    "ExecuteTime": {
     "end_time": "2018-04-02T07:21:40.234887Z",
     "start_time": "2018-04-02T07:21:22.520561Z"
    },
    "collapsed": true
   },
   "outputs": [],
   "source": [
    "cov_all_TEs = df_REPET_classification.drop_duplicates([0,1]) #this gets ride of the overlap between different TE families and classes\n",
    "cov_all_TEs = len(cov_all_TEs)"
   ]
  },
  {
   "cell_type": "code",
   "execution_count": 150,
   "metadata": {
    "ExecuteTime": {
     "end_time": "2018-04-02T07:38:21.819228Z",
     "start_time": "2018-04-02T07:38:21.782573Z"
    }
   },
   "outputs": [],
   "source": [
    "#make superfamily df and add columns for Class, order and superfamily\n",
    "cov_per_superfamily['cov_all_TEs'] = cov_all_TEs\n",
    "cov_per_superfamily_df = cov_per_superfamily.T\n",
    "cov_per_superfamily_df.rename(columns={1: 'bp'}, inplace=True)\n",
    "cov_per_superfamily_df['%'] = cov_per_superfamily_df['bp']/genome_size*100\n",
    "cov_per_superfamily_df['Class:Order:Superfamily'] = cov_per_superfamily_df.index\n",
    "\n",
    "cov_per_superfamily_df['Class'] = cov_per_superfamily_df.apply(lambda row: TE_classification_filter(row['Class:Order:Superfamily'], 0), axis=1)\n",
    "cov_per_superfamily_df['Order'] = cov_per_superfamily_df.apply(lambda row: TE_classification_filter(row['Class:Order:Superfamily'], 1), axis=1)\n",
    "cov_per_superfamily_df['Superfamily'] = cov_per_superfamily_df.apply(lambda row: TE_classification_filter(row['Class:Order:Superfamily'], 2), axis=1)"
   ]
  },
  {
   "cell_type": "code",
   "execution_count": 152,
   "metadata": {
    "ExecuteTime": {
     "end_time": "2018-04-02T07:38:58.594681Z",
     "start_time": "2018-04-02T07:38:58.582320Z"
    },
    "collapsed": true
   },
   "outputs": [],
   "source": [
    "cov_per_superfamily_df.to_csv(out_dir+'/'+repet_prefix_S+'.tab', sep='\\t')"
   ]
  },
  {
   "cell_type": "code",
   "execution_count": 151,
   "metadata": {
    "ExecuteTime": {
     "end_time": "2018-04-02T07:38:25.904302Z",
     "start_time": "2018-04-02T07:38:25.864560Z"
    }
   },
   "outputs": [
    {
     "data": {
      "text/html": [
       "<div>\n",
       "<style>\n",
       "    .dataframe thead tr:only-child th {\n",
       "        text-align: right;\n",
       "    }\n",
       "\n",
       "    .dataframe thead th {\n",
       "        text-align: left;\n",
       "    }\n",
       "\n",
       "    .dataframe tbody tr th {\n",
       "        vertical-align: top;\n",
       "    }\n",
       "</style>\n",
       "<table border=\"1\" class=\"dataframe\">\n",
       "  <thead>\n",
       "    <tr style=\"text-align: right;\">\n",
       "      <th></th>\n",
       "      <th>bp</th>\n",
       "      <th>%</th>\n",
       "      <th>Class:Order:Superfamily</th>\n",
       "      <th>Class</th>\n",
       "      <th>Order</th>\n",
       "      <th>Superfamily</th>\n",
       "    </tr>\n",
       "    <tr>\n",
       "      <th>Class:Order:Superfamily</th>\n",
       "      <th></th>\n",
       "      <th></th>\n",
       "      <th></th>\n",
       "      <th></th>\n",
       "      <th></th>\n",
       "      <th></th>\n",
       "    </tr>\n",
       "  </thead>\n",
       "  <tbody>\n",
       "    <tr>\n",
       "      <th>ClassI:?:?</th>\n",
       "      <td>38713</td>\n",
       "      <td>0.052014</td>\n",
       "      <td>ClassI:?:?</td>\n",
       "      <td>Retrotransposon</td>\n",
       "      <td>noCat</td>\n",
       "      <td>noCat</td>\n",
       "    </tr>\n",
       "    <tr>\n",
       "      <th>ClassI:DIRS:?</th>\n",
       "      <td>159884</td>\n",
       "      <td>0.214818</td>\n",
       "      <td>ClassI:DIRS:?</td>\n",
       "      <td>Retrotransposon</td>\n",
       "      <td>DIRS</td>\n",
       "      <td>noCat</td>\n",
       "    </tr>\n",
       "    <tr>\n",
       "      <th>ClassI:DIRS:DIRS</th>\n",
       "      <td>456248</td>\n",
       "      <td>0.613009</td>\n",
       "      <td>ClassI:DIRS:DIRS</td>\n",
       "      <td>Retrotransposon</td>\n",
       "      <td>DIRS</td>\n",
       "      <td>DIRS</td>\n",
       "    </tr>\n",
       "    <tr>\n",
       "      <th>ClassI:LARD:?</th>\n",
       "      <td>2760026</td>\n",
       "      <td>3.708336</td>\n",
       "      <td>ClassI:LARD:?</td>\n",
       "      <td>Retrotransposon</td>\n",
       "      <td>LARD</td>\n",
       "      <td>noCat</td>\n",
       "    </tr>\n",
       "    <tr>\n",
       "      <th>ClassI:LINE:?</th>\n",
       "      <td>56015</td>\n",
       "      <td>0.075261</td>\n",
       "      <td>ClassI:LINE:?</td>\n",
       "      <td>Retrotransposon</td>\n",
       "      <td>LINE</td>\n",
       "      <td>noCat</td>\n",
       "    </tr>\n",
       "    <tr>\n",
       "      <th>ClassI:LINE:I</th>\n",
       "      <td>246546</td>\n",
       "      <td>0.331256</td>\n",
       "      <td>ClassI:LINE:I</td>\n",
       "      <td>Retrotransposon</td>\n",
       "      <td>LINE</td>\n",
       "      <td>I</td>\n",
       "    </tr>\n",
       "    <tr>\n",
       "      <th>ClassI:LINE:Jockey</th>\n",
       "      <td>65448</td>\n",
       "      <td>0.087935</td>\n",
       "      <td>ClassI:LINE:Jockey</td>\n",
       "      <td>Retrotransposon</td>\n",
       "      <td>LINE</td>\n",
       "      <td>Jockey</td>\n",
       "    </tr>\n",
       "    <tr>\n",
       "      <th>ClassI:LINE:L1</th>\n",
       "      <td>675</td>\n",
       "      <td>0.000907</td>\n",
       "      <td>ClassI:LINE:L1</td>\n",
       "      <td>Retrotransposon</td>\n",
       "      <td>LINE</td>\n",
       "      <td>L1</td>\n",
       "    </tr>\n",
       "    <tr>\n",
       "      <th>ClassI:LINE:R2</th>\n",
       "      <td>1946</td>\n",
       "      <td>0.002615</td>\n",
       "      <td>ClassI:LINE:R2</td>\n",
       "      <td>Retrotransposon</td>\n",
       "      <td>LINE</td>\n",
       "      <td>R2</td>\n",
       "    </tr>\n",
       "    <tr>\n",
       "      <th>ClassI:LINE:RTE</th>\n",
       "      <td>2503</td>\n",
       "      <td>0.003363</td>\n",
       "      <td>ClassI:LINE:RTE</td>\n",
       "      <td>Retrotransposon</td>\n",
       "      <td>LINE</td>\n",
       "      <td>RTE</td>\n",
       "    </tr>\n",
       "    <tr>\n",
       "      <th>ClassI:LTR:?</th>\n",
       "      <td>2345064</td>\n",
       "      <td>3.150798</td>\n",
       "      <td>ClassI:LTR:?</td>\n",
       "      <td>Retrotransposon</td>\n",
       "      <td>LTR</td>\n",
       "      <td>noCat</td>\n",
       "    </tr>\n",
       "    <tr>\n",
       "      <th>ClassI:LTR:Bel-Pao</th>\n",
       "      <td>3862</td>\n",
       "      <td>0.005189</td>\n",
       "      <td>ClassI:LTR:Bel-Pao</td>\n",
       "      <td>Retrotransposon</td>\n",
       "      <td>LTR</td>\n",
       "      <td>Bel-Pao</td>\n",
       "    </tr>\n",
       "    <tr>\n",
       "      <th>ClassI:LTR:Copia</th>\n",
       "      <td>5807742</td>\n",
       "      <td>7.803208</td>\n",
       "      <td>ClassI:LTR:Copia</td>\n",
       "      <td>Retrotransposon</td>\n",
       "      <td>LTR</td>\n",
       "      <td>Copia</td>\n",
       "    </tr>\n",
       "    <tr>\n",
       "      <th>ClassI:LTR:ERV</th>\n",
       "      <td>113017</td>\n",
       "      <td>0.151848</td>\n",
       "      <td>ClassI:LTR:ERV</td>\n",
       "      <td>Retrotransposon</td>\n",
       "      <td>LTR</td>\n",
       "      <td>ERV</td>\n",
       "    </tr>\n",
       "    <tr>\n",
       "      <th>ClassI:LTR:Gypsy</th>\n",
       "      <td>12213097</td>\n",
       "      <td>16.409362</td>\n",
       "      <td>ClassI:LTR:Gypsy</td>\n",
       "      <td>Retrotransposon</td>\n",
       "      <td>LTR</td>\n",
       "      <td>Gypsy</td>\n",
       "    </tr>\n",
       "    <tr>\n",
       "      <th>ClassI:LTR:Retrovirus</th>\n",
       "      <td>18974</td>\n",
       "      <td>0.025493</td>\n",
       "      <td>ClassI:LTR:Retrovirus</td>\n",
       "      <td>Retrotransposon</td>\n",
       "      <td>LTR</td>\n",
       "      <td>Retrovirus</td>\n",
       "    </tr>\n",
       "    <tr>\n",
       "      <th>ClassI:PLE:Penelope</th>\n",
       "      <td>3766</td>\n",
       "      <td>0.005060</td>\n",
       "      <td>ClassI:PLE:Penelope</td>\n",
       "      <td>Retrotransposon</td>\n",
       "      <td>PLE</td>\n",
       "      <td>Penelope</td>\n",
       "    </tr>\n",
       "    <tr>\n",
       "      <th>ClassI:Penelope:?</th>\n",
       "      <td>32323</td>\n",
       "      <td>0.043429</td>\n",
       "      <td>ClassI:Penelope:?</td>\n",
       "      <td>Retrotransposon</td>\n",
       "      <td>Penelope</td>\n",
       "      <td>noCat</td>\n",
       "    </tr>\n",
       "    <tr>\n",
       "      <th>ClassI:SINE:?</th>\n",
       "      <td>13481</td>\n",
       "      <td>0.018113</td>\n",
       "      <td>ClassI:SINE:?</td>\n",
       "      <td>Retrotransposon</td>\n",
       "      <td>SINE</td>\n",
       "      <td>noCat</td>\n",
       "    </tr>\n",
       "    <tr>\n",
       "      <th>ClassI:TRIM:?</th>\n",
       "      <td>124424</td>\n",
       "      <td>0.167175</td>\n",
       "      <td>ClassI:TRIM:?</td>\n",
       "      <td>Retrotransposon</td>\n",
       "      <td>TRIM</td>\n",
       "      <td>noCat</td>\n",
       "    </tr>\n",
       "    <tr>\n",
       "      <th>ClassII:?:?</th>\n",
       "      <td>4380494</td>\n",
       "      <td>5.885576</td>\n",
       "      <td>ClassII:?:?</td>\n",
       "      <td>DNA_transposon</td>\n",
       "      <td>noCat</td>\n",
       "      <td>noCat</td>\n",
       "    </tr>\n",
       "    <tr>\n",
       "      <th>ClassII:?:Academ</th>\n",
       "      <td>745999</td>\n",
       "      <td>1.002315</td>\n",
       "      <td>ClassII:?:Academ</td>\n",
       "      <td>DNA_transposon</td>\n",
       "      <td>noCat</td>\n",
       "      <td>Academ</td>\n",
       "    </tr>\n",
       "    <tr>\n",
       "      <th>ClassII:?:Ginger1</th>\n",
       "      <td>3287</td>\n",
       "      <td>0.004416</td>\n",
       "      <td>ClassII:?:Ginger1</td>\n",
       "      <td>DNA_transposon</td>\n",
       "      <td>noCat</td>\n",
       "      <td>Ginger1</td>\n",
       "    </tr>\n",
       "    <tr>\n",
       "      <th>ClassII:?:Kolobok</th>\n",
       "      <td>1320</td>\n",
       "      <td>0.001774</td>\n",
       "      <td>ClassII:?:Kolobok</td>\n",
       "      <td>DNA_transposon</td>\n",
       "      <td>noCat</td>\n",
       "      <td>Kolobok</td>\n",
       "    </tr>\n",
       "    <tr>\n",
       "      <th>ClassII:?:Sola</th>\n",
       "      <td>10445</td>\n",
       "      <td>0.014034</td>\n",
       "      <td>ClassII:?:Sola</td>\n",
       "      <td>DNA_transposon</td>\n",
       "      <td>noCat</td>\n",
       "      <td>Sola</td>\n",
       "    </tr>\n",
       "    <tr>\n",
       "      <th>ClassII:Crypton:Crypton</th>\n",
       "      <td>729</td>\n",
       "      <td>0.000979</td>\n",
       "      <td>ClassII:Crypton:Crypton</td>\n",
       "      <td>DNA_transposon</td>\n",
       "      <td>Crypton</td>\n",
       "      <td>Crypton</td>\n",
       "    </tr>\n",
       "    <tr>\n",
       "      <th>ClassII:Helitron:?</th>\n",
       "      <td>1095133</td>\n",
       "      <td>1.471407</td>\n",
       "      <td>ClassII:Helitron:?</td>\n",
       "      <td>DNA_transposon</td>\n",
       "      <td>Helitron</td>\n",
       "      <td>noCat</td>\n",
       "    </tr>\n",
       "    <tr>\n",
       "      <th>ClassII:Helitron:Helitron</th>\n",
       "      <td>593825</td>\n",
       "      <td>0.797856</td>\n",
       "      <td>ClassII:Helitron:Helitron</td>\n",
       "      <td>DNA_transposon</td>\n",
       "      <td>Helitron</td>\n",
       "      <td>Helitron</td>\n",
       "    </tr>\n",
       "    <tr>\n",
       "      <th>ClassII:MITE:?</th>\n",
       "      <td>1152604</td>\n",
       "      <td>1.548624</td>\n",
       "      <td>ClassII:MITE:?</td>\n",
       "      <td>DNA_transposon</td>\n",
       "      <td>MITE</td>\n",
       "      <td>noCat</td>\n",
       "    </tr>\n",
       "    <tr>\n",
       "      <th>ClassII:Maverick:?</th>\n",
       "      <td>516376</td>\n",
       "      <td>0.693796</td>\n",
       "      <td>ClassII:Maverick:?</td>\n",
       "      <td>DNA_transposon</td>\n",
       "      <td>Maverick</td>\n",
       "      <td>noCat</td>\n",
       "    </tr>\n",
       "    <tr>\n",
       "      <th>ClassII:Maverick:Maverick</th>\n",
       "      <td>23099</td>\n",
       "      <td>0.031036</td>\n",
       "      <td>ClassII:Maverick:Maverick</td>\n",
       "      <td>DNA_transposon</td>\n",
       "      <td>Maverick</td>\n",
       "      <td>Maverick</td>\n",
       "    </tr>\n",
       "    <tr>\n",
       "      <th>ClassII:TIR:?</th>\n",
       "      <td>5144747</td>\n",
       "      <td>6.912417</td>\n",
       "      <td>ClassII:TIR:?</td>\n",
       "      <td>DNA_transposon</td>\n",
       "      <td>TIR</td>\n",
       "      <td>noCat</td>\n",
       "    </tr>\n",
       "    <tr>\n",
       "      <th>ClassII:TIR:CACTA</th>\n",
       "      <td>951184</td>\n",
       "      <td>1.277999</td>\n",
       "      <td>ClassII:TIR:CACTA</td>\n",
       "      <td>DNA_transposon</td>\n",
       "      <td>TIR</td>\n",
       "      <td>CACTA</td>\n",
       "    </tr>\n",
       "    <tr>\n",
       "      <th>ClassII:TIR:MuDR</th>\n",
       "      <td>1856862</td>\n",
       "      <td>2.494856</td>\n",
       "      <td>ClassII:TIR:MuDR</td>\n",
       "      <td>DNA_transposon</td>\n",
       "      <td>TIR</td>\n",
       "      <td>MuDR</td>\n",
       "    </tr>\n",
       "    <tr>\n",
       "      <th>ClassII:TIR:P</th>\n",
       "      <td>99377</td>\n",
       "      <td>0.133522</td>\n",
       "      <td>ClassII:TIR:P</td>\n",
       "      <td>DNA_transposon</td>\n",
       "      <td>TIR</td>\n",
       "      <td>P</td>\n",
       "    </tr>\n",
       "    <tr>\n",
       "      <th>ClassII:TIR:PIF-Harbinger</th>\n",
       "      <td>2168124</td>\n",
       "      <td>2.913064</td>\n",
       "      <td>ClassII:TIR:PIF-Harbinger</td>\n",
       "      <td>DNA_transposon</td>\n",
       "      <td>TIR</td>\n",
       "      <td>PIF-Harbinger</td>\n",
       "    </tr>\n",
       "    <tr>\n",
       "      <th>ClassII:TIR:PiggyBac</th>\n",
       "      <td>360</td>\n",
       "      <td>0.000484</td>\n",
       "      <td>ClassII:TIR:PiggyBac</td>\n",
       "      <td>DNA_transposon</td>\n",
       "      <td>TIR</td>\n",
       "      <td>PiggyBac</td>\n",
       "    </tr>\n",
       "    <tr>\n",
       "      <th>ClassII:TIR:Tc1-Mariner</th>\n",
       "      <td>1756287</td>\n",
       "      <td>2.359725</td>\n",
       "      <td>ClassII:TIR:Tc1-Mariner</td>\n",
       "      <td>DNA_transposon</td>\n",
       "      <td>TIR</td>\n",
       "      <td>Tc1-Mariner</td>\n",
       "    </tr>\n",
       "    <tr>\n",
       "      <th>ClassII:TIR:Transib</th>\n",
       "      <td>654</td>\n",
       "      <td>0.000879</td>\n",
       "      <td>ClassII:TIR:Transib</td>\n",
       "      <td>DNA_transposon</td>\n",
       "      <td>TIR</td>\n",
       "      <td>Transib</td>\n",
       "    </tr>\n",
       "    <tr>\n",
       "      <th>ClassII:TIR:hAT</th>\n",
       "      <td>4308551</td>\n",
       "      <td>5.788914</td>\n",
       "      <td>ClassII:TIR:hAT</td>\n",
       "      <td>DNA_transposon</td>\n",
       "      <td>TIR</td>\n",
       "      <td>hAT</td>\n",
       "    </tr>\n",
       "    <tr>\n",
       "      <th>SSR</th>\n",
       "      <td>1874646</td>\n",
       "      <td>2.518751</td>\n",
       "      <td>SSR</td>\n",
       "      <td>SSR</td>\n",
       "      <td>SSR</td>\n",
       "      <td>SSR</td>\n",
       "    </tr>\n",
       "    <tr>\n",
       "      <th>noCat</th>\n",
       "      <td>784799</td>\n",
       "      <td>1.054446</td>\n",
       "      <td>noCat</td>\n",
       "      <td>noCat</td>\n",
       "      <td>noCat</td>\n",
       "      <td>noCat</td>\n",
       "    </tr>\n",
       "    <tr>\n",
       "      <th>cov_all_TEs</th>\n",
       "      <td>41036973</td>\n",
       "      <td>55.136755</td>\n",
       "      <td>cov_all_TEs</td>\n",
       "      <td>cov_all_TEs</td>\n",
       "      <td>cov_all_TEs</td>\n",
       "      <td>cov_all_TEs</td>\n",
       "    </tr>\n",
       "  </tbody>\n",
       "</table>\n",
       "</div>"
      ],
      "text/plain": [
       "                                 bp          %    Class:Order:Superfamily  \\\n",
       "Class:Order:Superfamily                                                     \n",
       "ClassI:?:?                    38713   0.052014                 ClassI:?:?   \n",
       "ClassI:DIRS:?                159884   0.214818              ClassI:DIRS:?   \n",
       "ClassI:DIRS:DIRS             456248   0.613009           ClassI:DIRS:DIRS   \n",
       "ClassI:LARD:?               2760026   3.708336              ClassI:LARD:?   \n",
       "ClassI:LINE:?                 56015   0.075261              ClassI:LINE:?   \n",
       "ClassI:LINE:I                246546   0.331256              ClassI:LINE:I   \n",
       "ClassI:LINE:Jockey            65448   0.087935         ClassI:LINE:Jockey   \n",
       "ClassI:LINE:L1                  675   0.000907             ClassI:LINE:L1   \n",
       "ClassI:LINE:R2                 1946   0.002615             ClassI:LINE:R2   \n",
       "ClassI:LINE:RTE                2503   0.003363            ClassI:LINE:RTE   \n",
       "ClassI:LTR:?                2345064   3.150798               ClassI:LTR:?   \n",
       "ClassI:LTR:Bel-Pao             3862   0.005189         ClassI:LTR:Bel-Pao   \n",
       "ClassI:LTR:Copia            5807742   7.803208           ClassI:LTR:Copia   \n",
       "ClassI:LTR:ERV               113017   0.151848             ClassI:LTR:ERV   \n",
       "ClassI:LTR:Gypsy           12213097  16.409362           ClassI:LTR:Gypsy   \n",
       "ClassI:LTR:Retrovirus         18974   0.025493      ClassI:LTR:Retrovirus   \n",
       "ClassI:PLE:Penelope            3766   0.005060        ClassI:PLE:Penelope   \n",
       "ClassI:Penelope:?             32323   0.043429          ClassI:Penelope:?   \n",
       "ClassI:SINE:?                 13481   0.018113              ClassI:SINE:?   \n",
       "ClassI:TRIM:?                124424   0.167175              ClassI:TRIM:?   \n",
       "ClassII:?:?                 4380494   5.885576                ClassII:?:?   \n",
       "ClassII:?:Academ             745999   1.002315           ClassII:?:Academ   \n",
       "ClassII:?:Ginger1              3287   0.004416          ClassII:?:Ginger1   \n",
       "ClassII:?:Kolobok              1320   0.001774          ClassII:?:Kolobok   \n",
       "ClassII:?:Sola                10445   0.014034             ClassII:?:Sola   \n",
       "ClassII:Crypton:Crypton         729   0.000979    ClassII:Crypton:Crypton   \n",
       "ClassII:Helitron:?          1095133   1.471407         ClassII:Helitron:?   \n",
       "ClassII:Helitron:Helitron    593825   0.797856  ClassII:Helitron:Helitron   \n",
       "ClassII:MITE:?              1152604   1.548624             ClassII:MITE:?   \n",
       "ClassII:Maverick:?           516376   0.693796         ClassII:Maverick:?   \n",
       "ClassII:Maverick:Maverick     23099   0.031036  ClassII:Maverick:Maverick   \n",
       "ClassII:TIR:?               5144747   6.912417              ClassII:TIR:?   \n",
       "ClassII:TIR:CACTA            951184   1.277999          ClassII:TIR:CACTA   \n",
       "ClassII:TIR:MuDR            1856862   2.494856           ClassII:TIR:MuDR   \n",
       "ClassII:TIR:P                 99377   0.133522              ClassII:TIR:P   \n",
       "ClassII:TIR:PIF-Harbinger   2168124   2.913064  ClassII:TIR:PIF-Harbinger   \n",
       "ClassII:TIR:PiggyBac            360   0.000484       ClassII:TIR:PiggyBac   \n",
       "ClassII:TIR:Tc1-Mariner     1756287   2.359725    ClassII:TIR:Tc1-Mariner   \n",
       "ClassII:TIR:Transib             654   0.000879        ClassII:TIR:Transib   \n",
       "ClassII:TIR:hAT             4308551   5.788914            ClassII:TIR:hAT   \n",
       "SSR                         1874646   2.518751                        SSR   \n",
       "noCat                        784799   1.054446                      noCat   \n",
       "cov_all_TEs                41036973  55.136755                cov_all_TEs   \n",
       "\n",
       "                                     Class        Order    Superfamily  \n",
       "Class:Order:Superfamily                                                 \n",
       "ClassI:?:?                 Retrotransposon        noCat          noCat  \n",
       "ClassI:DIRS:?              Retrotransposon         DIRS          noCat  \n",
       "ClassI:DIRS:DIRS           Retrotransposon         DIRS           DIRS  \n",
       "ClassI:LARD:?              Retrotransposon         LARD          noCat  \n",
       "ClassI:LINE:?              Retrotransposon         LINE          noCat  \n",
       "ClassI:LINE:I              Retrotransposon         LINE              I  \n",
       "ClassI:LINE:Jockey         Retrotransposon         LINE         Jockey  \n",
       "ClassI:LINE:L1             Retrotransposon         LINE             L1  \n",
       "ClassI:LINE:R2             Retrotransposon         LINE             R2  \n",
       "ClassI:LINE:RTE            Retrotransposon         LINE            RTE  \n",
       "ClassI:LTR:?               Retrotransposon          LTR          noCat  \n",
       "ClassI:LTR:Bel-Pao         Retrotransposon          LTR        Bel-Pao  \n",
       "ClassI:LTR:Copia           Retrotransposon          LTR          Copia  \n",
       "ClassI:LTR:ERV             Retrotransposon          LTR            ERV  \n",
       "ClassI:LTR:Gypsy           Retrotransposon          LTR          Gypsy  \n",
       "ClassI:LTR:Retrovirus      Retrotransposon          LTR     Retrovirus  \n",
       "ClassI:PLE:Penelope        Retrotransposon          PLE       Penelope  \n",
       "ClassI:Penelope:?          Retrotransposon     Penelope          noCat  \n",
       "ClassI:SINE:?              Retrotransposon         SINE          noCat  \n",
       "ClassI:TRIM:?              Retrotransposon         TRIM          noCat  \n",
       "ClassII:?:?                 DNA_transposon        noCat          noCat  \n",
       "ClassII:?:Academ            DNA_transposon        noCat         Academ  \n",
       "ClassII:?:Ginger1           DNA_transposon        noCat        Ginger1  \n",
       "ClassII:?:Kolobok           DNA_transposon        noCat        Kolobok  \n",
       "ClassII:?:Sola              DNA_transposon        noCat           Sola  \n",
       "ClassII:Crypton:Crypton     DNA_transposon      Crypton        Crypton  \n",
       "ClassII:Helitron:?          DNA_transposon     Helitron          noCat  \n",
       "ClassII:Helitron:Helitron   DNA_transposon     Helitron       Helitron  \n",
       "ClassII:MITE:?              DNA_transposon         MITE          noCat  \n",
       "ClassII:Maverick:?          DNA_transposon     Maverick          noCat  \n",
       "ClassII:Maverick:Maverick   DNA_transposon     Maverick       Maverick  \n",
       "ClassII:TIR:?               DNA_transposon          TIR          noCat  \n",
       "ClassII:TIR:CACTA           DNA_transposon          TIR          CACTA  \n",
       "ClassII:TIR:MuDR            DNA_transposon          TIR           MuDR  \n",
       "ClassII:TIR:P               DNA_transposon          TIR              P  \n",
       "ClassII:TIR:PIF-Harbinger   DNA_transposon          TIR  PIF-Harbinger  \n",
       "ClassII:TIR:PiggyBac        DNA_transposon          TIR       PiggyBac  \n",
       "ClassII:TIR:Tc1-Mariner     DNA_transposon          TIR    Tc1-Mariner  \n",
       "ClassII:TIR:Transib         DNA_transposon          TIR        Transib  \n",
       "ClassII:TIR:hAT             DNA_transposon          TIR            hAT  \n",
       "SSR                                    SSR          SSR            SSR  \n",
       "noCat                                noCat        noCat          noCat  \n",
       "cov_all_TEs                    cov_all_TEs  cov_all_TEs    cov_all_TEs  "
      ]
     },
     "execution_count": 151,
     "metadata": {},
     "output_type": "execute_result"
    }
   ],
   "source": [
    "cov_per_superfamily_df"
   ]
  },
  {
   "cell_type": "code",
   "execution_count": 153,
   "metadata": {
    "ExecuteTime": {
     "end_time": "2018-04-02T07:46:51.369326Z",
     "start_time": "2018-04-02T07:40:28.379704Z"
    }
   },
   "outputs": [
    {
     "name": "stdout",
     "output_type": "stream",
     "text": [
      "ClassII\n",
      "ClassII\n",
      "ClassII\n",
      "ClassII\n",
      "ClassII\n",
      "ClassII\n",
      "ClassII\n",
      "ClassII\n",
      "ClassII\n",
      "ClassII\n",
      "ClassII\n",
      "ClassII\n",
      "ClassII\n",
      "ClassII\n",
      "ClassII\n",
      "ClassII\n",
      "ClassII\n",
      "ClassII\n",
      "ClassII\n",
      "ClassII\n",
      "ClassI\n",
      "ClassI\n",
      "ClassI\n",
      "ClassI\n",
      "ClassI\n",
      "ClassI\n",
      "ClassI\n",
      "ClassI\n",
      "ClassI\n",
      "ClassI\n",
      "ClassI\n",
      "ClassI\n",
      "ClassI\n",
      "ClassI\n",
      "ClassI\n",
      "ClassI\n",
      "ClassI\n",
      "ClassI\n",
      "ClassI\n",
      "ClassI\n",
      "SSR\n",
      "noCat\n"
     ]
    }
   ],
   "source": [
    "for file in class_cov_files:\n",
    "    tmp_df = pd.read_csv(file, sep='\\t', header = None)\n",
    "    tmp_df[\"Class\"] = file.split('.')[-2].split(':')[0] #parse out the Class from the file name\n",
    "    tmp_df.drop_duplicates(inplace=True) #drop all the duplicates meaning same position in the genome and same Class\n",
    "    df_list.append(tmp_df)\n",
    "    #print(file.split('.')[-2].split(':')[0])\n",
    "\n",
    "df_REPET_classification_class = pd.concat(df_list)\n",
    "df_REPET_classification_class.drop_duplicates(inplace=True)\n",
    "df_REPET_classification_class.to_csv(out_dir+'/'+ repet_prefix_S.replace('superfamily', 'Class') +'.cov', sep='\\t', header =None, index=None)\n",
    "\n",
    "cov_per_class = df_REPET_classification_class.pivot_table(values=1, columns= \"Class\", aggfunc='count')\n",
    "#cov_per_contig_per_class = df_REPET_classification_class.groupby([0, \"Class\"])[1].count()"
   ]
  },
  {
   "cell_type": "code",
   "execution_count": 310,
   "metadata": {
    "ExecuteTime": {
     "end_time": "2018-04-02T09:22:52.599840Z",
     "start_time": "2018-04-02T09:19:33.754087Z"
    }
   },
   "outputs": [],
   "source": [
    "#make a large summary dataframe from all the cov files where the last \n",
    "df_list =[]\n",
    "class_cov_files.sort()\n",
    "for file in class_cov_files:\n",
    "    tmp_df = pd.read_csv(file, sep='\\t', header = None)\n",
    "    if ':' in file:\n",
    "        tmp_df[\"Order\"] = ':'.join(file.split('.')[-2].split(':')[0:2]) #parse out the order from the file name\n",
    "        #print(':'.join(file.split('.')[-2].split(':')[0:2]))\n",
    "    else:\n",
    "        tmp_df[\"Order\"] = file.split('.')[-2].split(':')[0]\n",
    "        #print(file.split('.')[-2].split(':')[0])\n",
    "    tmp_df.drop_duplicates(inplace=True) #drop all the duplicates meaning same position in the genome and same Order\n",
    "    df_list.append(tmp_df)\n",
    "\n",
    "df_REPET_orderification_order = pd.concat(df_list)\n",
    "df_REPET_orderification_order.drop_duplicates(inplace=True)\n",
    "df_REPET_orderification_order.to_csv(out_dir+'/'+ repet_prefix_S.replace('superfamily', 'Order') +'.cov', sep='\\t', header =None, index=None)\n",
    "\n",
    "cov_per_order = df_REPET_orderification_order.pivot_table(values=1, columns= \"Order\", aggfunc='count')\n",
    "#cov_per_contig_per_order = df_REPET_orderification_order.groupby([0, \"Order\"])[1].count()"
   ]
  },
  {
   "cell_type": "code",
   "execution_count": 311,
   "metadata": {
    "ExecuteTime": {
     "end_time": "2018-04-02T09:22:52.611232Z",
     "start_time": "2018-04-02T09:22:52.602398Z"
    }
   },
   "outputs": [],
   "source": [
    "cov_per_order['cov_all_TEs'] = cov_all_TEs\n",
    "cov_per_order_df = cov_per_order.T\n",
    "cov_per_order_df.rename(columns={1: 'bp'}, inplace=True)\n",
    "\n",
    "cov_per_order_df['%'] = round(cov_per_order_df['bp']/genome_size*100, 3)"
   ]
  },
  {
   "cell_type": "code",
   "execution_count": 157,
   "metadata": {
    "ExecuteTime": {
     "end_time": "2018-04-02T07:49:30.402178Z",
     "start_time": "2018-04-02T07:49:30.381383Z"
    }
   },
   "outputs": [],
   "source": [
    "cov_per_class['cov_all_TEs'] = cov_all_TEs\n",
    "cov_per_class_df = cov_per_class.T\n",
    "cov_per_class_df.rename(columns={1: 'bp'}, inplace=True)\n",
    "\n",
    "cov_per_class_df['%'] = round(cov_per_class_df['bp']/genome_size*100, 3)"
   ]
  },
  {
   "cell_type": "code",
   "execution_count": 162,
   "metadata": {
    "ExecuteTime": {
     "end_time": "2018-04-02T07:53:50.415215Z",
     "start_time": "2018-04-02T07:53:50.410475Z"
    }
   },
   "outputs": [],
   "source": [
    "cov_per_class_df.rename(index={'cov_all_TEs': 'Total RE coverage'}, inplace=True)"
   ]
  },
  {
   "cell_type": "code",
   "execution_count": 187,
   "metadata": {
    "ExecuteTime": {
     "end_time": "2018-04-02T08:03:28.294750Z",
     "start_time": "2018-04-02T08:03:28.287714Z"
    }
   },
   "outputs": [],
   "source": [
    "cov_per_class_df.sort_values('bp', ascending=True, inplace=True)"
   ]
  },
  {
   "cell_type": "code",
   "execution_count": 312,
   "metadata": {
    "ExecuteTime": {
     "end_time": "2018-04-02T09:22:53.962445Z",
     "start_time": "2018-04-02T09:22:52.613046Z"
    }
   },
   "outputs": [
    {
     "data": {
      "image/png": "[encoded data removed]",
      "text/plain": [
       "<matplotlib.figure.Figure at 0x7fae77904e80>"
      ]
     },
     "metadata": {},
     "output_type": "display_data"
    }
   ],
   "source": [
    "plt.style.use('seaborn-talk')\n",
    "fig, (ax0, ax1, ax2) = plt.subplots(nrows=3, ncols=1, figsize=(12,15))\n",
    "fig.suptitle(\"Repetitive elements in P. striformis f. sp. tritici %s\" % genome, fontsize=14, fontweight = 'bold')\n",
    "\n",
    "#color cycle from color blind people \n",
    "CB_color_cycle = ['#377eb8', '#ff7f00', '#4daf4a',\n",
    "                  '#f781bf', '#a65628', '#984ea3',\n",
    "'#999999', '#e41a1c', '#dede00']\n",
    "\n",
    "#plot the overall genome coverage by repetitive element category\n",
    "cov_per_class_df.plot(kind='barh', y='%', ax=ax0,  color='r')\n",
    "ax0.set_xlim([-5,60])\n",
    "ax0.legend().set_visible(False)\n",
    "ax0.set_yticklabels(list(cov_per_class_df.index),fontsize=10, fontweight='bold')\n",
    "ax0.set_ylabel(ylabel='RE categories', fontsize=14, fontweight='bold')\n",
    "\n",
    "#plot class I \n",
    "classI_df = cov_per_superfamily_df[cov_per_superfamily_df['Class'] == 'Retrotransposon'].sort_values('%',\\\n",
    "                                                            ascending=True)\n",
    "#pick out the colors to do color matching on the order level\n",
    "tmp_cn = len(classI_df['Order'].unique())\n",
    "tmp_colors = CB_color_cycle[0:tmp_cn]\n",
    "tmp_col_dict = dict(zip(classI_df['Order'].unique(), tmp_colors))\n",
    "classI_df['Color'] = classI_df['Order'].apply(lambda x: tmp_col_dict[x])\n",
    "ax1.barh(np.arange(len(classI_df.index)), classI_df['%'],\n",
    "        color=classI_df['Color'], ecolor='black')\n",
    "ax1.set_yticks(np.arange(len(classI_df.index)))\n",
    "ax1.set_xlim([-2,25])\n",
    "ax1.set_yticklabels(list(classI_df.index),fontsize=10, fontweight='bold')\n",
    "ax1.set_ylabel(ylabel='Class:Order:Superfamily', fontsize=14, fontweight='bold')\n",
    "ax1.set_title('ClassI: Retrotransposons', fontsize=14, fontweight='bold')\n",
    "\n",
    "#add tick lables\n",
    "\n",
    "for p, value in zip(ax1.patches, classI_df['%']):\n",
    "    ax1.annotate('{0:.3f}'.format(value), (18,p.get_y() * 1.005),fontsize=10, fontweight='bold' )\n",
    "\n",
    "#plot class II\n",
    "classII_df = cov_per_superfamily_df[cov_per_superfamily_df['Class'] == 'DNA_transposon'].sort_values('%',\\\n",
    "                                                                                        ascending=True)\n",
    "\n",
    "#pick out the colors to do color matching on the order level\n",
    "tmp_cn = len(classII_df['Order'].unique())\n",
    "tmp_colors = CB_color_cycle[0:tmp_cn]\n",
    "tmp_col_dict = dict(zip(classII_df['Order'].unique(), tmp_colors))\n",
    "classII_df['Color'] = classII_df['Order'].apply(lambda x: tmp_col_dict[x])\n",
    "\n",
    "#plot the class II out\n",
    "\n",
    "ax2.barh(np.arange(len(classII_df.index)), classII_df['%'],\n",
    "        color=classII_df['Color'], ecolor='black')\n",
    "\n",
    "ax2.set_xlim([-2,25])\n",
    "ax2.set_yticks(np.arange(len(classII_df.index)))\n",
    "\n",
    "ax2.set_yticklabels(list(classII_df.index),fontsize=10, fontweight='bold')\n",
    "ax2.set_ylabel(ylabel='Class:Order:Superfamily', fontsize=14, fontweight='bold')\n",
    "ax2.set_title('ClassII: DNA transposons', fontsize=14, fontweight='bold')\n",
    "ax2.set_xlabel('% genome coverage', fontsize=14, fontweight='bold')\n",
    "\n",
    "#add tick lables\n",
    "\n",
    "for p, value in zip(ax2.patches, classII_df['%']):\n",
    "    ax2.annotate('{0:.3f}'.format(value), (18 ,p.get_y() * 1.005),fontsize=10, fontweight='bold' )\n",
    "    \n",
    "#fig.savefig(genome+'.REPET_summary.seaborn-talk.png', dpi=600, bbox_inches=\"tight\")"
   ]
  },
  {
   "cell_type": "markdown",
   "metadata": {},
   "source": [
    "## Thats how far we got ##"
   ]
  },
  {
   "cell_type": "code",
   "execution_count": 328,
   "metadata": {
    "ExecuteTime": {
     "end_time": "2018-04-02T09:36:42.805989Z",
     "start_time": "2018-04-02T09:36:41.015835Z"
    }
   },
   "outputs": [
    {
     "data": {
      "image/png": "[encoded data removed]",
      "text/plain": [
       "<matplotlib.figure.Figure at 0x7faebb8097b8>"
      ]
     },
     "metadata": {},
     "output_type": "display_data"
    }
   ],
   "source": [
    "plt.style.use('seaborn-talk')\n",
    "fig, (ax0, ax1, ax2) = plt.subplots(nrows=3, ncols=1, figsize=(12,15))\n",
    "fig.suptitle(\"Repetitive elements in P. striformis f. sp. tritici %s\" % genome, fontsize=14, fontweight = 'bold')\n",
    "\n",
    "#color cycle from color blind people \n",
    "CB_color_cycle = ['#377eb8', '#ff7f00', '#4daf4a',\n",
    "                  '#f781bf', '#a65628', '#984ea3',\n",
    "'#999999', '#e41a1c', '#dede00']\n",
    "\n",
    "#plot the overall genome coverage by repetitive element category\n",
    "cov_per_class_df.plot(kind='barh', y='bp', ax=ax0,  color='r')\n",
    "ax0.set_xlim([-5,50000000])\n",
    "ax0.legend().set_visible(False)\n",
    "ax0.set_yticklabels(list(cov_per_class_df.index),fontsize=10, fontweight='bold')\n",
    "ax0.set_ylabel(ylabel='RE categories', fontsize=14, fontweight='bold')\n",
    "\n",
    "#plot class I \n",
    "classI_df = cov_per_superfamily_df[cov_per_superfamily_df['Class'] == 'Retrotransposon'].sort_values('%',\\\n",
    "                                                            ascending=True)\n",
    "#pick out the colors to do color matching on the order level\n",
    "tmp_cn = len(classI_df['Order'].unique())\n",
    "tmp_colors = CB_color_cycle[0:tmp_cn]\n",
    "tmp_col_dict = dict(zip(classI_df['Order'].unique(), tmp_colors))\n",
    "classI_df['Color'] = classI_df['Order'].apply(lambda x: tmp_col_dict[x])\n",
    "ax1.barh(np.arange(len(classI_df.index)), classI_df['bp'],\n",
    "        color=classI_df['Color'], ecolor='black')\n",
    "ax1.set_yticks(np.arange(len(classI_df.index)))\n",
    "ax1.set_xlim([-2,14000000])\n",
    "ax1.set_yticklabels(list(classI_df.index),fontsize=10, fontweight='bold')\n",
    "ax1.set_ylabel(ylabel='Class:Order:Superfamily', fontsize=14, fontweight='bold')\n",
    "ax1.set_title('ClassI: Retrotransposons', fontsize=14, fontweight='bold')\n",
    "\n",
    "#add tick lables\n",
    "\n",
    "for p, value in zip(ax1.patches, classI_df['bp']):\n",
    "    ax1.annotate('{0:.2E}'.format(value), (14000000,p.get_y() * 1.005),fontsize=10, fontweight='bold' )\n",
    "\n",
    "#plot class II\n",
    "classII_df = cov_per_superfamily_df[cov_per_superfamily_df['Class'] == 'DNA_transposon'].sort_values('%',\\\n",
    "                                                                                        ascending=True)\n",
    "\n",
    "#pick out the colors to do color matching on the order level\n",
    "tmp_cn = len(classII_df['Order'].unique())\n",
    "tmp_colors = CB_color_cycle[0:tmp_cn]\n",
    "tmp_col_dict = dict(zip(classII_df['Order'].unique(), tmp_colors))\n",
    "classII_df['Color'] = classII_df['Order'].apply(lambda x: tmp_col_dict[x])\n",
    "\n",
    "#plot the class II out\n",
    "\n",
    "ax2.barh(np.arange(len(classII_df.index)), classII_df['bp'],\n",
    "        color=classII_df['Color'], ecolor='black')\n",
    "\n",
    "ax2.set_xlim([-2,14000000])\n",
    "ax2.set_yticks(np.arange(len(classII_df.index)))\n",
    "\n",
    "ax2.set_yticklabels(list(classII_df.index),fontsize=10, fontweight='bold')\n",
    "ax2.set_ylabel(ylabel='Class:Order:Superfamily', fontsize=14, fontweight='bold')\n",
    "ax2.set_title('ClassII: DNA transposons', fontsize=14, fontweight='bold')\n",
    "ax2.set_xlabel('bp genome coverage', fontsize=14, fontweight='bold')\n",
    "\n",
    "#add tick lables\n",
    "\n",
    "for p, value in zip(ax2.patches, classII_df['bp']):\n",
    "    ax2.annotate('{0:.2E}'.format(value), (14000000 ,p.get_y() * 1.005),fontsize=10, fontweight='bold' )\n",
    "    \n",
    "#fig.savefig(genome+'.REPET_summary.seaborn-talk.png', dpi=600, bbox_inches=\"tight\")"
   ]
  },
  {
   "cell_type": "markdown",
   "metadata": {},
   "source": [
    "### Now some analysis of the divergence of the TEs"
   ]
  },
  {
   "cell_type": "code",
   "execution_count": 331,
   "metadata": {
    "ExecuteTime": {
     "end_time": "2018-04-03T00:54:13.904039Z",
     "start_time": "2018-04-03T00:54:13.242571Z"
    }
   },
   "outputs": [
    {
     "name": "stdout",
     "output_type": "stream",
     "text": [
      "blastclust.log\r\n",
      "DK0911v03p_a1_chr_allTEs_nr_noSSR_join_path.annotStatsPerTE_FullLengthCopy.fa\r\n",
      "DK0911v03p_a1_chr_allTEs_nr_noSSR_join_path.annotStatsPerTE_FullLengthCopy.txt\r\n",
      "DK0911v03p_a1_chr_allTEs_nr_noSSR_join_path.annotStatsPerTE_FullLengthFrag.fa\r\n",
      "DK0911v03p_a1_chr_allTEs_nr_noSSR_join_path.annotStatsPerTE_FullLengthFrag.txt\r\n",
      "DK0911v03p_a1_chr_allTEs_nr_noSSR_join_path.annotStatsPerTE_OneCopyAndMore.fa\r\n",
      "DK0911v03p_a1_chr_allTEs_nr_noSSR_join_path.annotStatsPerTE_OneCopyAndMore.txt\r\n",
      "DK0911v03p_a1_chr_allTEs_nr_noSSR_join_path.annotStatsPerTE.tab\r\n",
      "DK0911v03p_a1_chr_allTEs_nr_noSSR_join_path.globalAnnotStatsPerTE.txt\r\n",
      "DK0911v03p_a1_chr_allTEs_path.annotStatsPerTE_FullLengthCopy.fa\r\n",
      "DK0911v03p_a1_chr_allTEs_path.annotStatsPerTE_FullLengthCopy.txt\r\n",
      "DK0911v03p_a1_chr_allTEs_path.annotStatsPerTE_FullLengthFrag.fa\r\n",
      "DK0911v03p_a1_chr_allTEs_path.annotStatsPerTE_FullLengthFrag.txt\r\n",
      "DK0911v03p_a1_chr_allTEs_path.annotStatsPerTE_OneCopyAndMore.fa\r\n",
      "DK0911v03p_a1_chr_allTEs_path.annotStatsPerTE_OneCopyAndMore.txt\r\n",
      "DK0911v03p_a1_chr_allTEs_path.annotStatsPerTE.tab\r\n",
      "DK0911v03p_a1_chr_allTEs_path.globalAnnotStatsPerTE.txt\r\n",
      "DK0911v03p_a1_chr_bankBLRtx_path.annotStatsPerTE_FullLengthCopy.fa\r\n",
      "DK0911v03p_a1_chr_bankBLRtx_path.annotStatsPerTE_FullLengthCopy.txt\r\n",
      "DK0911v03p_a1_chr_bankBLRtx_path.annotStatsPerTE_FullLengthFrag.fa\r\n",
      "DK0911v03p_a1_chr_bankBLRtx_path.annotStatsPerTE_FullLengthFrag.txt\r\n",
      "DK0911v03p_a1_chr_bankBLRtx_path.annotStatsPerTE_OneCopyAndMore.fa\r\n",
      "DK0911v03p_a1_chr_bankBLRtx_path.annotStatsPerTE_OneCopyAndMore.txt\r\n",
      "DK0911v03p_a1_chr_bankBLRtx_path.annotStatsPerTE.tab\r\n",
      "DK0911v03p_a1_chr_bankBLRtx_path.globalAnnotStatsPerTE.txt\r\n",
      "DK0911v03p_a1_chr_bankBLRx_path.annotStatsPerTE_FullLengthCopy.fa\r\n",
      "DK0911v03p_a1_chr_bankBLRx_path.annotStatsPerTE_FullLengthCopy.txt\r\n",
      "DK0911v03p_a1_chr_bankBLRx_path.annotStatsPerTE_FullLengthFrag.fa\r\n",
      "DK0911v03p_a1_chr_bankBLRx_path.annotStatsPerTE_FullLengthFrag.txt\r\n",
      "DK0911v03p_a1_chr_bankBLRx_path.annotStatsPerTE_OneCopyAndMore.fa\r\n",
      "DK0911v03p_a1_chr_bankBLRx_path.annotStatsPerTE_OneCopyAndMore.txt\r\n",
      "DK0911v03p_a1_chr_bankBLRx_path.annotStatsPerTE.tab\r\n",
      "DK0911v03p_a1_chr_bankBLRx_path.globalAnnotStatsPerTE.txt\r\n",
      "DK0911v03p_a1_refTEs.fa\r\n",
      "DK0911v03p_a1_refTEs.fa_blastclust.classifStatsPerCluster.tab\r\n",
      "DK0911v03p_a1_refTEs.fa_blastclust.globalStatsPerCluster.txt\r\n",
      "DK0911v03p_a1_refTEs.fa_blastclust.statsPerCluster.tab\r\n",
      "DK0911v03p_a1_refTEs.fa_blastclust.tab\r\n",
      "error.log\r\n"
     ]
    }
   ],
   "source": [
    "!ls {TE_postanalysis_dir}"
   ]
  },
  {
   "cell_type": "code",
   "execution_count": 333,
   "metadata": {
    "ExecuteTime": {
     "end_time": "2018-04-03T00:57:24.706247Z",
     "start_time": "2018-04-03T00:57:24.373328Z"
    }
   },
   "outputs": [],
   "source": [
    "#now get the summary of allTEs == TEs specificaly identified by TEdenovo from REPET\n",
    "REPET_denovoTEs_df = pd.read_csv(\\\n",
    "        os.path.join(TE_postanalysis_dir, '%s_chr_allTEs_nr_noSSR_join_path.annotStatsPerTE.tab' % genome_repet),\\\n",
    "                                names = TE_post_analysis_p_header, header=None, sep='\\t', skiprows=1 )\n",
    "\n",
    "#now get in the summary of all bankBLRx TEs == TEs identified by repbase20.05_ntSeq_cleaned_TE\n",
    "REPET_nt_repbase_df = pd.read_csv(\\\n",
    "    os.path.join(TE_postanalysis_dir, '%s_chr_bankBLRx_path.annotStatsPerTE.tab' % genome_repet) ,\\\n",
    "    names = TE_post_analysis_p_header, header=None, sep='\\t', skiprows=1 )\n",
    "\n",
    "#now get in the summary of all bankBLRtx TEs == TEs identified by repbase20.05_aaSeq_cleaned_TE\n",
    "REPET_aa_repbase_df = pd.read_csv(\\\n",
    "    os.path.join(TE_postanalysis_dir, '%s_chr_bankBLRtx_path.annotStatsPerTE.tab' % genome_repet) ,\\\n",
    "    names = TE_post_analysis_p_header, header=None, sep='\\t', skiprows=1 )\n"
   ]
  },
  {
   "cell_type": "code",
   "execution_count": 336,
   "metadata": {
    "ExecuteTime": {
     "end_time": "2018-04-03T02:13:56.996400Z",
     "start_time": "2018-04-03T02:13:56.979300Z"
    },
    "collapsed": true
   },
   "outputs": [],
   "source": [
    "#generate a df that contains all TEs: TEdenovo, blastx, blastn\n",
    "REPET_all_TEs_df = pd.concat([REPET_denovoTEs_df ,REPET_nt_repbase_df,\\\n",
    "                                       REPET_aa_repbase_df], axis=0)"
   ]
  },
  {
   "cell_type": "code",
   "execution_count": 337,
   "metadata": {
    "ExecuteTime": {
     "end_time": "2018-04-03T02:13:57.859060Z",
     "start_time": "2018-04-03T02:13:57.826028Z"
    },
    "collapsed": true
   },
   "outputs": [],
   "source": [
    "REPET_all_TEs_df = REPET_all_TEs_df[REPET_all_TEs_df.copies > 0]\n",
    "REPET_all_TEs_df = REPET_all_TEs_df[~REPET_all_TEs_df.TE.str.startswith(\"Potential\")]"
   ]
  },
  {
   "cell_type": "code",
   "execution_count": 360,
   "metadata": {
    "ExecuteTime": {
     "end_time": "2018-04-03T02:42:53.508370Z",
     "start_time": "2018-04-03T02:42:53.481672Z"
    },
    "collapsed": true
   },
   "outputs": [],
   "source": [
    "#update the TE_COS_dict with missing values that come mostly from blastx and blastn searches.\n",
    "missing_TE_keys = list(set(REPET_all_TEs_df.TE.unique())- set(TE_COS_dict.keys()))\n",
    "missing_TE_values  = [x[x.find(':')+1:] for x in missing_TE_keys]\n",
    "TE_COS_dict.update(dict(zip(missing_TE_keys ,missing_TE_values )))"
   ]
  },
  {
   "cell_type": "code",
   "execution_count": 361,
   "metadata": {
    "ExecuteTime": {
     "end_time": "2018-04-03T02:42:54.073797Z",
     "start_time": "2018-04-03T02:42:54.057198Z"
    }
   },
   "outputs": [],
   "source": [
    "#get the Class/order/superfamily column to the dataframe based on the TE_COS_dict\n",
    "REPET_all_TEs_df[\"COS\"] = REPET_all_TEs_df[\"TE\"].apply(lambda x: TE_COS_dict[x])"
   ]
  },
  {
   "cell_type": "code",
   "execution_count": 366,
   "metadata": {
    "ExecuteTime": {
     "end_time": "2018-04-03T02:47:24.488400Z",
     "start_time": "2018-04-03T02:47:24.463079Z"
    },
    "collapsed": true
   },
   "outputs": [],
   "source": [
    "#using the formula T=D/t in arXiv:1209.0176 [q-bio] to approximate TE age\n",
    "# where D = (100-meanId)/100 and \n",
    "# t the substitution rate per site per year\n",
    "# generations per year are estimate at 15 10.1111/j.1365-294X.2007.03513.x\n",
    "# estimate of subsitution rate per year = 2 * 10-9 10.1093/oxfordjournals.molbev.a004056 and\n",
    "# 10.1016/j.fbr.2010.03.001\n",
    "REPET_all_TEs_df['TE_age_Mya'] = (((100-REPET_all_TEs_df.meanId)/100)\\\n",
    "                                        /(2*10**-9))/10**6\n",
    "REPET_all_TEs_df['TE_age'] = (((100-REPET_all_TEs_df.meanId)/100)\\\n",
    "                                        /(2*10**-9))\n",
    "REPET_all_TEs_df = REPET_all_TEs_df[REPET_all_TEs_df.copies > 5]\n"
   ]
  },
  {
   "cell_type": "code",
   "execution_count": 367,
   "metadata": {
    "ExecuteTime": {
     "end_time": "2018-04-03T02:47:26.600181Z",
     "start_time": "2018-04-03T02:47:26.581031Z"
    },
    "collapsed": true
   },
   "outputs": [],
   "source": [
    "REPET_ClassI_TEs_df = REPET_all_TEs_df[REPET_all_TEs_df.COS.str.startswith('ClassI:')]\n",
    "REPET_ClassII_TEs_df = REPET_all_TEs_df[REPET_all_TEs_df.COS.str.startswith('ClassII:')]"
   ]
  },
  {
   "cell_type": "code",
   "execution_count": 368,
   "metadata": {
    "ExecuteTime": {
     "end_time": "2018-04-03T02:47:30.399237Z",
     "start_time": "2018-04-03T02:47:30.388356Z"
    },
    "collapsed": true
   },
   "outputs": [],
   "source": [
    "font = {'family' : 'normal',\n",
    "        'weight' : 'bold',\n",
    "        'size'   : 20}\n",
    "label_config_x = {'fontsize'            : 'large',\n",
    "      'verticalalignment'   : 'top',\n",
    "      'horizontalalignment' : 'center'\n",
    "      }\n",
    "label_config_y = {'fontsize'            : 'large',\n",
    "      'verticalalignment'   : 'bottom',\n",
    "      'horizontalalignment' : 'center'\n",
    "      }\n",
    "matplotlib.rc('font', **font)"
   ]
  },
  {
   "cell_type": "code",
   "execution_count": 371,
   "metadata": {
    "ExecuteTime": {
     "end_time": "2018-04-03T02:54:48.492865Z",
     "start_time": "2018-04-03T02:54:36.965728Z"
    }
   },
   "outputs": [
    {
     "name": "stderr",
     "output_type": "stream",
     "text": [
      "/home/benjamin/anaconda3/lib/python3.5/site-packages/ipykernel/__main__.py:7: SettingWithCopyWarning: \n",
      "A value is trying to be set on a copy of a slice from a DataFrame\n",
      "\n",
      "See the caveats in the documentation: http://pandas.pydata.org/pandas-docs/stable/indexing.html#indexing-view-versus-copy\n"
     ]
    },
    {
     "data": {
      "image/png": "[encoded data removed]",
      "text/plain": [
       "<matplotlib.figure.Figure at 0x7faeb9a3b8d0>"
      ]
     },
     "metadata": {},
     "output_type": "display_data"
    }
   ],
   "source": [
    "sns.set(style=\"ticks\")\n",
    "\n",
    "# Initialize the figure with a logarithmic x axis\n",
    "f, ax = plt.subplots(figsize=(7, 6))\n",
    "ax.set_xscale(\"log\")\n",
    "\n",
    "REPET_ClassI_TEs_df.sort_values(by='COS', inplace=True)\n",
    "sns.boxplot(x='TE_age', y='COS', data=REPET_ClassI_TEs_df,palette=\"vlag\")\n",
    "\n",
    "plt.xlim(5*10**6, 10**9)\n",
    "plt.ylabel(\"Class:Order:Superfamily\",fontsize = 12, weight= 'bold')\n",
    "plt.xlabel(\"Age [years]\",fontsize = 12, weight= 'bold')\n",
    "\n",
    "ax.xaxis.grid(True)\n",
    "sns.despine(trim=True, left=True)\n",
    "out_fn = os.path.join(out_dir, '%s_%s_ClassI_age.png' % (genome, Tenovodb))\n",
    "f.savefig(out_fn, dpi=600,bbox_inches=\"tight\")\n",
    "\n"
   ]
  },
  {
   "cell_type": "code",
   "execution_count": 372,
   "metadata": {
    "ExecuteTime": {
     "end_time": "2018-04-03T02:55:09.226843Z",
     "start_time": "2018-04-03T02:54:59.511098Z"
    }
   },
   "outputs": [
    {
     "name": "stderr",
     "output_type": "stream",
     "text": [
      "/home/benjamin/anaconda3/lib/python3.5/site-packages/ipykernel/__main__.py:7: SettingWithCopyWarning: \n",
      "A value is trying to be set on a copy of a slice from a DataFrame\n",
      "\n",
      "See the caveats in the documentation: http://pandas.pydata.org/pandas-docs/stable/indexing.html#indexing-view-versus-copy\n"
     ]
    },
    {
     "data": {
      "image/png": "[encoded data removed]",
      "text/plain": [
       "<matplotlib.figure.Figure at 0x7fae77302438>"
      ]
     },
     "metadata": {},
     "output_type": "display_data"
    }
   ],
   "source": [
    "sns.set(style=\"ticks\")\n",
    "\n",
    "# Initialize the figure with a logarithmic x axis\n",
    "f, ax = plt.subplots(figsize=(7, 6))\n",
    "ax.set_xscale(\"log\")\n",
    "\n",
    "REPET_ClassII_TEs_df.sort_values(by='COS', inplace=True)\n",
    "sns.boxplot(x='TE_age', y='COS', data=REPET_ClassII_TEs_df,palette=\"vlag\")\n",
    "\n",
    "plt.xlim(5*10**6, 10**9)\n",
    "plt.ylabel(\"Class:Order:Superfamily\",fontsize = 12, weight= 'bold')\n",
    "plt.xlabel(\"Age [years]\",fontsize = 12, weight= 'bold')\n",
    "\n",
    "ax.xaxis.grid(True)\n",
    "sns.despine(trim=True, left=True)\n",
    "out_fn = os.path.join(out_dir, '%s_%s_ClassII_age.png' % (genome, Tenovodb))\n",
    "f.savefig(out_fn, dpi=600,bbox_inches=\"tight\")\n"
   ]
  },
  {
   "cell_type": "code",
   "execution_count": 373,
   "metadata": {
    "ExecuteTime": {
     "end_time": "2018-04-03T02:56:41.558812Z",
     "start_time": "2018-04-03T02:56:41.548000Z"
    },
    "collapsed": true
   },
   "outputs": [],
   "source": [
    "sub_df_young_many = REPET_all_TEs_df[(REPET_all_TEs_df.copies > 50) &( REPET_all_TEs_df.TE_age_Mya < 100)]"
   ]
  },
  {
   "cell_type": "code",
   "execution_count": 374,
   "metadata": {
    "ExecuteTime": {
     "end_time": "2018-04-03T02:56:48.466689Z",
     "start_time": "2018-04-03T02:56:48.454732Z"
    },
    "collapsed": true
   },
   "outputs": [],
   "source": [
    "sub_df_young_many_by_COS_sum = sub_df_young_many.groupby('COS').sum()"
   ]
  },
  {
   "cell_type": "code",
   "execution_count": 375,
   "metadata": {
    "ExecuteTime": {
     "end_time": "2018-04-03T02:57:13.265493Z",
     "start_time": "2018-04-03T02:57:13.254156Z"
    },
    "collapsed": true
   },
   "outputs": [],
   "source": [
    "sub_df_young_many_by_COS_sum['Class'] = 'noCat'\n",
    "sub_df_young_many_by_COS_sum[\"Index\"] = sub_df_young_many_by_COS_sum.index\n",
    "sub_df_young_many_by_COS_sum['Order'] = 'noCat'\n",
    "sub_df_young_many_by_COS_sum['Class:Order'] = 'noCat'"
   ]
  },
  {
   "cell_type": "code",
   "execution_count": 376,
   "metadata": {
    "ExecuteTime": {
     "end_time": "2018-04-03T02:57:40.259565Z",
     "start_time": "2018-04-03T02:57:40.215378Z"
    },
    "collapsed": true
   },
   "outputs": [],
   "source": [
    "#generate Class column or noCat\n",
    "sub_df_young_many_by_COS_sum.loc[\\\n",
    "sub_df_young_many_by_COS_sum[sub_df_young_many_by_COS_sum.index.str.contains(':')].index\\\n",
    "                                 , \"Class\"] =\\\n",
    "sub_df_young_many_by_COS_sum[sub_df_young_many_by_COS_sum.index.str.contains(':')].Index.apply\\\n",
    "(lambda x: x.split(':')[0])\n",
    "\n",
    "#generate Order column or noCat\n",
    "sub_df_young_many_by_COS_sum.loc[\\\n",
    "sub_df_young_many_by_COS_sum[sub_df_young_many_by_COS_sum.index.str.contains(':')].index\\\n",
    "                                 , \"Order\"] =\\\n",
    "sub_df_young_many_by_COS_sum[sub_df_young_many_by_COS_sum.index.str.contains(':')].Index.apply\\\n",
    "(lambda x: x.split(':')[1])\n",
    "\n",
    "\n",
    "#generate Class order column\n",
    "sub_df_young_many_by_COS_sum.loc[\\\n",
    "sub_df_young_many_by_COS_sum[sub_df_young_many_by_COS_sum.index.str.contains(':')].index\\\n",
    "                                 , \"Class:Order\"] =\\\n",
    "sub_df_young_many_by_COS_sum[sub_df_young_many_by_COS_sum.index.str.contains(':')]['Class']\\\n",
    "+ ':' +\\\n",
    "sub_df_young_many_by_COS_sum[sub_df_young_many_by_COS_sum.index.str.contains(':')]['Order']"
   ]
  },
  {
   "cell_type": "code",
   "execution_count": 377,
   "metadata": {
    "ExecuteTime": {
     "end_time": "2018-04-03T02:58:04.381323Z",
     "start_time": "2018-04-03T02:58:04.343012Z"
    }
   },
   "outputs": [
    {
     "data": {
      "text/html": [
       "<div>\n",
       "<style>\n",
       "    .dataframe thead tr:only-child th {\n",
       "        text-align: right;\n",
       "    }\n",
       "\n",
       "    .dataframe thead th {\n",
       "        text-align: left;\n",
       "    }\n",
       "\n",
       "    .dataframe tbody tr th {\n",
       "        vertical-align: top;\n",
       "    }\n",
       "</style>\n",
       "<table border=\"1\" class=\"dataframe\">\n",
       "  <thead>\n",
       "    <tr style=\"text-align: right;\">\n",
       "      <th></th>\n",
       "      <th>length</th>\n",
       "      <th>covg</th>\n",
       "      <th>frags</th>\n",
       "      <th>fullLgthFrags</th>\n",
       "      <th>copies</th>\n",
       "      <th>fullLgthCopies</th>\n",
       "      <th>meanId</th>\n",
       "      <th>sdId</th>\n",
       "      <th>minId</th>\n",
       "      <th>q25Id</th>\n",
       "      <th>...</th>\n",
       "      <th>q25LgthPerc</th>\n",
       "      <th>medLgthPerc</th>\n",
       "      <th>q75LgthPerc</th>\n",
       "      <th>maxLgthPerc</th>\n",
       "      <th>TE_age_Mya</th>\n",
       "      <th>TE_age</th>\n",
       "      <th>Class</th>\n",
       "      <th>Index</th>\n",
       "      <th>Order</th>\n",
       "      <th>Class:Order</th>\n",
       "    </tr>\n",
       "    <tr>\n",
       "      <th>COS</th>\n",
       "      <th></th>\n",
       "      <th></th>\n",
       "      <th></th>\n",
       "      <th></th>\n",
       "      <th></th>\n",
       "      <th></th>\n",
       "      <th></th>\n",
       "      <th></th>\n",
       "      <th></th>\n",
       "      <th></th>\n",
       "      <th></th>\n",
       "      <th></th>\n",
       "      <th></th>\n",
       "      <th></th>\n",
       "      <th></th>\n",
       "      <th></th>\n",
       "      <th></th>\n",
       "      <th></th>\n",
       "      <th></th>\n",
       "      <th></th>\n",
       "      <th></th>\n",
       "    </tr>\n",
       "  </thead>\n",
       "  <tbody>\n",
       "    <tr>\n",
       "      <th>ClassI:LARD:?</th>\n",
       "      <td>71324</td>\n",
       "      <td>295630</td>\n",
       "      <td>702</td>\n",
       "      <td>13</td>\n",
       "      <td>617</td>\n",
       "      <td>13</td>\n",
       "      <td>751.77</td>\n",
       "      <td>82.12</td>\n",
       "      <td>568.74</td>\n",
       "      <td>696.19</td>\n",
       "      <td>...</td>\n",
       "      <td>13.31</td>\n",
       "      <td>29.47</td>\n",
       "      <td>67.57</td>\n",
       "      <td>900.03</td>\n",
       "      <td>741.15</td>\n",
       "      <td>7.411500e+08</td>\n",
       "      <td>ClassI</td>\n",
       "      <td>ClassI:LARD:?</td>\n",
       "      <td>LARD</td>\n",
       "      <td>ClassI:LARD</td>\n",
       "    </tr>\n",
       "    <tr>\n",
       "      <th>ClassI:LINE:I</th>\n",
       "      <td>15052</td>\n",
       "      <td>42556</td>\n",
       "      <td>155</td>\n",
       "      <td>1</td>\n",
       "      <td>140</td>\n",
       "      <td>1</td>\n",
       "      <td>80.51</td>\n",
       "      <td>8.21</td>\n",
       "      <td>55.20</td>\n",
       "      <td>76.10</td>\n",
       "      <td>...</td>\n",
       "      <td>0.48</td>\n",
       "      <td>0.97</td>\n",
       "      <td>1.79</td>\n",
       "      <td>100.00</td>\n",
       "      <td>97.45</td>\n",
       "      <td>9.745000e+07</td>\n",
       "      <td>ClassI</td>\n",
       "      <td>ClassI:LINE:I</td>\n",
       "      <td>LINE</td>\n",
       "      <td>ClassI:LINE</td>\n",
       "    </tr>\n",
       "    <tr>\n",
       "      <th>ClassI:LTR:?</th>\n",
       "      <td>95038</td>\n",
       "      <td>398542</td>\n",
       "      <td>1113</td>\n",
       "      <td>163</td>\n",
       "      <td>953</td>\n",
       "      <td>178</td>\n",
       "      <td>922.61</td>\n",
       "      <td>97.12</td>\n",
       "      <td>673.49</td>\n",
       "      <td>860.96</td>\n",
       "      <td>...</td>\n",
       "      <td>188.69</td>\n",
       "      <td>225.96</td>\n",
       "      <td>259.09</td>\n",
       "      <td>1122.58</td>\n",
       "      <td>886.95</td>\n",
       "      <td>8.869500e+08</td>\n",
       "      <td>ClassI</td>\n",
       "      <td>ClassI:LTR:?</td>\n",
       "      <td>LTR</td>\n",
       "      <td>ClassI:LTR</td>\n",
       "    </tr>\n",
       "    <tr>\n",
       "      <th>ClassI:LTR:Copia</th>\n",
       "      <td>156822</td>\n",
       "      <td>714433</td>\n",
       "      <td>1427</td>\n",
       "      <td>12</td>\n",
       "      <td>1211</td>\n",
       "      <td>12</td>\n",
       "      <td>991.11</td>\n",
       "      <td>110.55</td>\n",
       "      <td>746.70</td>\n",
       "      <td>908.10</td>\n",
       "      <td>...</td>\n",
       "      <td>7.90</td>\n",
       "      <td>20.73</td>\n",
       "      <td>58.70</td>\n",
       "      <td>1196.73</td>\n",
       "      <td>1044.45</td>\n",
       "      <td>1.044450e+09</td>\n",
       "      <td>ClassI</td>\n",
       "      <td>ClassI:LTR:Copia</td>\n",
       "      <td>LTR</td>\n",
       "      <td>ClassI:LTR</td>\n",
       "    </tr>\n",
       "    <tr>\n",
       "      <th>ClassI:LTR:Gypsy</th>\n",
       "      <td>349667</td>\n",
       "      <td>1493802</td>\n",
       "      <td>2438</td>\n",
       "      <td>34</td>\n",
       "      <td>2066</td>\n",
       "      <td>34</td>\n",
       "      <td>2016.64</td>\n",
       "      <td>232.27</td>\n",
       "      <td>1511.12</td>\n",
       "      <td>1849.53</td>\n",
       "      <td>...</td>\n",
       "      <td>21.90</td>\n",
       "      <td>63.53</td>\n",
       "      <td>180.61</td>\n",
       "      <td>2397.76</td>\n",
       "      <td>1916.80</td>\n",
       "      <td>1.916800e+09</td>\n",
       "      <td>ClassI</td>\n",
       "      <td>ClassI:LTR:Gypsy</td>\n",
       "      <td>LTR</td>\n",
       "      <td>ClassI:LTR</td>\n",
       "    </tr>\n",
       "  </tbody>\n",
       "</table>\n",
       "<p>5 rows × 33 columns</p>\n",
       "</div>"
      ],
      "text/plain": [
       "                  length     covg  frags  fullLgthFrags  copies  \\\n",
       "COS                                                               \n",
       "ClassI:LARD:?      71324   295630    702             13     617   \n",
       "ClassI:LINE:I      15052    42556    155              1     140   \n",
       "ClassI:LTR:?       95038   398542   1113            163     953   \n",
       "ClassI:LTR:Copia  156822   714433   1427             12    1211   \n",
       "ClassI:LTR:Gypsy  349667  1493802   2438             34    2066   \n",
       "\n",
       "                  fullLgthCopies   meanId    sdId    minId    q25Id  \\\n",
       "COS                                                                   \n",
       "ClassI:LARD:?                 13   751.77   82.12   568.74   696.19   \n",
       "ClassI:LINE:I                  1    80.51    8.21    55.20    76.10   \n",
       "ClassI:LTR:?                 178   922.61   97.12   673.49   860.96   \n",
       "ClassI:LTR:Copia              12   991.11  110.55   746.70   908.10   \n",
       "ClassI:LTR:Gypsy              34  2016.64  232.27  1511.12  1849.53   \n",
       "\n",
       "                     ...       q25LgthPerc  medLgthPerc  q75LgthPerc  \\\n",
       "COS                  ...                                               \n",
       "ClassI:LARD:?        ...             13.31        29.47        67.57   \n",
       "ClassI:LINE:I        ...              0.48         0.97         1.79   \n",
       "ClassI:LTR:?         ...            188.69       225.96       259.09   \n",
       "ClassI:LTR:Copia     ...              7.90        20.73        58.70   \n",
       "ClassI:LTR:Gypsy     ...             21.90        63.53       180.61   \n",
       "\n",
       "                  maxLgthPerc  TE_age_Mya        TE_age   Class  \\\n",
       "COS                                                               \n",
       "ClassI:LARD:?          900.03      741.15  7.411500e+08  ClassI   \n",
       "ClassI:LINE:I          100.00       97.45  9.745000e+07  ClassI   \n",
       "ClassI:LTR:?          1122.58      886.95  8.869500e+08  ClassI   \n",
       "ClassI:LTR:Copia      1196.73     1044.45  1.044450e+09  ClassI   \n",
       "ClassI:LTR:Gypsy      2397.76     1916.80  1.916800e+09  ClassI   \n",
       "\n",
       "                             Index  Order  Class:Order  \n",
       "COS                                                     \n",
       "ClassI:LARD:?        ClassI:LARD:?   LARD  ClassI:LARD  \n",
       "ClassI:LINE:I        ClassI:LINE:I   LINE  ClassI:LINE  \n",
       "ClassI:LTR:?          ClassI:LTR:?    LTR   ClassI:LTR  \n",
       "ClassI:LTR:Copia  ClassI:LTR:Copia    LTR   ClassI:LTR  \n",
       "ClassI:LTR:Gypsy  ClassI:LTR:Gypsy    LTR   ClassI:LTR  \n",
       "\n",
       "[5 rows x 33 columns]"
      ]
     },
     "execution_count": 377,
     "metadata": {},
     "output_type": "execute_result"
    }
   ],
   "source": [
    "sub_df_young_many_by_COS_sum.head()"
   ]
  },
  {
   "cell_type": "code",
   "execution_count": 378,
   "metadata": {
    "ExecuteTime": {
     "end_time": "2018-04-03T02:59:24.233930Z",
     "start_time": "2018-04-03T02:59:24.224734Z"
    },
    "collapsed": true
   },
   "outputs": [],
   "source": [
    "#get color column sorted\n",
    "colors = sns.color_palette('cubehelix', n_colors=\\\n",
    "                           len(sub_df_young_many_by_COS_sum['Class:Order'].unique()))\n",
    "color_dict = dict(zip(sub_df_young_many_by_COS_sum['Class:Order'].unique(), colors))"
   ]
  },
  {
   "cell_type": "code",
   "execution_count": 379,
   "metadata": {
    "ExecuteTime": {
     "end_time": "2018-04-03T02:59:36.816689Z",
     "start_time": "2018-04-03T02:59:36.808549Z"
    },
    "collapsed": true
   },
   "outputs": [],
   "source": [
    "sub_df_young_many_by_COS_sum['color'] = sub_df_young_many_by_COS_sum['Class:Order'].apply(\\\n",
    "        lambda x: color_dict[x])\n",
    "color_index_dict = dict(zip(sub_df_young_many_by_COS_sum.Index, sub_df_young_many_by_COS_sum.color))"
   ]
  },
  {
   "cell_type": "code",
   "execution_count": 382,
   "metadata": {
    "ExecuteTime": {
     "end_time": "2018-04-03T03:03:12.159378Z",
     "start_time": "2018-04-03T03:03:03.786619Z"
    }
   },
   "outputs": [
    {
     "data": {
      "image/png": "[encoded data removed]",
      "text/plain": [
       "<matplotlib.figure.Figure at 0x7fae77206128>"
      ]
     },
     "metadata": {},
     "output_type": "display_data"
    }
   ],
   "source": [
    "sns.set(style=\"ticks\")\n",
    "\n",
    "# Initialize the figure with a logarithmic x axis\n",
    "f, ax = plt.subplots(figsize=(7, 6))\n",
    "sns.barplot(sub_df_young_many_by_COS_sum.index, sub_df_young_many_by_COS_sum.covg/10**6,\\\n",
    "           palette=color_index_dict)\n",
    "\n",
    "plt.ylabel(\"Coverage [Mb]\",fontsize = 12, weight= 'bold')\n",
    "plt.xlabel(\"\",fontsize = 12, weight= 'bold'\"\")\n",
    "sns.despine(trim=True)\n",
    "\n",
    "#change the colors of the legend\n",
    "key_list = list(color_dict.keys())\n",
    "key_list.sort()\n",
    "plt.legend(key_list, loc=(1, 0.1))\n",
    "leg = ax.get_legend()\n",
    "for (x,y) in zip(key_list, leg.legendHandles):\n",
    "    y.set_color(color_dict[x])\n",
    "    \n",
    "\n",
    "\n",
    "for l in ax.get_xticklabels():\n",
    "    l.set_rotation(90)\n",
    "\n",
    "out_fn = os.path.join(out_dir, '%s_%s_TEs_young_and_plenty.png'  % (genome, Tenovodb))\n",
    "f.savefig(out_fn, dpi=600, bbox_inches=\"tight\")\n",
    "\n"
   ]
  },
  {
   "cell_type": "code",
   "execution_count": null,
   "metadata": {
    "collapsed": true
   },
   "outputs": [],
   "source": []
  }
 ],
 "metadata": {
  "kernelspec": {
   "display_name": "Python [default]",
   "language": "python",
   "name": "python3"
  },
  "language_info": {
   "codemirror_mode": {
    "name": "ipython",
    "version": 3
   },
   "file_extension": ".py",
   "mimetype": "text/x-python",
   "name": "python",
   "nbconvert_exporter": "python",
   "pygments_lexer": "ipython3",
   "version": "3.5.3"
  }
 },
 "nbformat": 4,
 "nbformat_minor": 1
}
