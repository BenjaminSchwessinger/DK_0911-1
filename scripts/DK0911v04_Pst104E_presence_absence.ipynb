{
 "cells": [
  {
   "cell_type": "markdown",
   "metadata": {},
   "source": [
    "#### Presence absence analysis of the DK0911 genome\n",
    "\n",
    "Different level of analysis  \n",
    "- mapping\n",
    "- whole genome alignment\n",
    "- synteny\n",
    "- orthology  \n",
    "\n",
    "both ways with\n",
    "- genes\n",
    "- TEs"
   ]
  },
  {
   "cell_type": "markdown",
   "metadata": {
    "collapsed": true
   },
   "source": [
    "#### What to get\n",
    "\n",
    "- Pull in all the lowcov at different level and substract out the own files at the same level. Use bedtools subtract.\n",
    "- Do some randomization for the lowcov and the WGA mapping. This can hopefully be used to test for specificty in losses. If not do a X-square or fisher exact test.\n",
    "- Pull in all the TE files at the superfamily and family level to see what is missing in the different genomes from each other. Ask the question if certain subfamiles are more likely different.\n",
    "- Maybe use LTRs to look for the divergence time. This could be great to see when they last had a common ancestor."
   ]
  },
  {
   "cell_type": "markdown",
   "metadata": {},
   "source": [
    "#### Usefull folders\n",
    "\n",
    "- Warrior TE analysis: /home/benjamin/genome_assembly/Warrior/TE_analysis\n",
    "- Pst_104_TE analysis: /home/benjamin/genome_assembly/PST79/FALCON/p_assemblies/v9_1/Pst_104E_v12/Warrior_comp_runs/REPET/TE_analysis\n",
    "- comparative coverage: /home/benjamin/genome_assembly/Warrior/TE_analysis\n"
   ]
  },
  {
   "cell_type": "markdown",
   "metadata": {},
   "source": [
    "## Start with filtering the mapping files at the appropriate level"
   ]
  },
  {
   "cell_type": "code",
   "execution_count": 1,
   "metadata": {
    "ExecuteTime": {
     "end_time": "2019-04-30T06:32:09.289321Z",
     "start_time": "2019-04-30T06:32:06.135745Z"
    },
    "collapsed": true
   },
   "outputs": [],
   "source": [
    "%matplotlib inline"
   ]
  },
  {
   "cell_type": "code",
   "execution_count": 2,
   "metadata": {
    "ExecuteTime": {
     "end_time": "2019-04-30T06:32:13.997215Z",
     "start_time": "2019-04-30T06:32:09.291252Z"
    },
    "collapsed": true
   },
   "outputs": [],
   "source": [
    "import os\n",
    "from pybedtools import BedTool\n",
    "import pandas as pd\n",
    "import scipy\n",
    "import pandas as pd\n",
    "import numpy as np # need for  stats\n",
    "import matplotlib.pyplot as plt\n",
    "import seaborn as sns\n",
    "import re\n",
    "from scipy.stats import mannwhitneyu\n",
    "from scipy.stats import fisher_exact\n",
    "from scipy.stats import spearmanr\n",
    "from scipy.stats import wilcoxon\n",
    "from scipy.stats import kruskal\n",
    "from statsmodels.stats.multitest import multipletests\n",
    "from seaborn import boxenplot"
   ]
  },
  {
   "cell_type": "code",
   "execution_count": 3,
   "metadata": {
    "ExecuteTime": {
     "end_time": "2019-04-30T06:32:14.029150Z",
     "start_time": "2019-04-30T06:32:14.010497Z"
    },
    "collapsed": true
   },
   "outputs": [],
   "source": [
    "SRM_cov_dir = '/home/benjamin/genome_assembly/Warrior/DK0911_v04/comp_COV/SRM_mapping'\n",
    "SRM_cov_outdir = os.path.join(SRM_cov_dir, 'filtered')\n",
    "SRM_cov_rand_outdir = os.path.join(SRM_cov_outdir, 'randomized')\n",
    "DK0911_genome_file_fn = '/home/benjamin/genome_assembly/Warrior/genome_v04/DK_0911_v04_ph_ctg.genome_file'\n",
    "Pst_104E_genome_file_fn = \\\n",
    "'/home/benjamin/genome_assembly/PST79/FALCON/p_assemblies/v9_1/092017_assembly/Pst_104E_v13_ph_ctg.genome_file'\n",
    "if not os.path.exists(SRM_cov_outdir):\n",
    "    os.mkdir(SRM_cov_outdir)\n",
    "if not os.path.exists(SRM_cov_rand_outdir):\n",
    "    os.mkdir(SRM_cov_rand_outdir)"
   ]
  },
  {
   "cell_type": "code",
   "execution_count": 4,
   "metadata": {
    "ExecuteTime": {
     "end_time": "2019-04-30T06:32:14.042929Z",
     "start_time": "2019-04-30T06:32:14.030846Z"
    },
    "collapsed": true
   },
   "outputs": [],
   "source": [
    "###all the bedfiles\n",
    "Pst_104E_annotation_dir = '/home/benjamin/genome_assembly/Warrior/DK0911_v04/comp_orthology/Pst104E_annotations/'\n",
    "Pst_104E_dict = {}\n",
    "Pst_104E_dict['Busco'] = os.path.join(Pst_104E_annotation_dir, 'Pst_104E_v13_ph_ctg.busco.gene.bed')\n",
    "Pst_104E_dict['All_genes'] = os.path.join(Pst_104E_annotation_dir, 'Pst_104E_v13_ph_ctg.genes.gene.bed')\n",
    "Pst_104E_dict['Secretome'] = os.path.join(Pst_104E_annotation_dir, 'Pst_104E_v13_ph_ctg.secretome.gene.bed')\n",
    "Pst_104E_dict['Ceffectors'] = os.path.join(Pst_104E_annotation_dir, 'Pst_104E_v13_ph_ctg.ceffectors.gene.bed')\n",
    "Pst_104E_dict['EffectorP'] = os.path.join(Pst_104E_annotation_dir, 'Pst_104E_v13_ph_ctg.effectorp.gene.bed')"
   ]
  },
  {
   "cell_type": "code",
   "execution_count": 5,
   "metadata": {
    "ExecuteTime": {
     "end_time": "2019-04-30T06:32:14.065219Z",
     "start_time": "2019-04-30T06:32:14.044272Z"
    },
    "collapsed": true
   },
   "outputs": [],
   "source": [
    "###all the bedfiles\n",
    "DK0911_annotation_dir = '/home/benjamin/genome_assembly/Warrior/DK0911_v04/comp_orthology/DK0911_annotations/'\n",
    "DK0911_dict = {}\n",
    "DK0911_dict['Busco'] = os.path.join(DK0911_annotation_dir, 'DK_0911_v04_ph_ctg.busco.gene.bed')\n",
    "DK0911_dict['All_genes'] = os.path.join(DK0911_annotation_dir, 'DK_0911_v04_ph_ctg.genes.gene.bed')\n",
    "DK0911_dict['Secretome'] = os.path.join(DK0911_annotation_dir, 'DK_0911_v04_ph_ctg.secretome.gene.bed')\n",
    "DK0911_dict['Ceffectors'] = os.path.join(DK0911_annotation_dir, 'DK_0911_v04_ph_ctg.effectorp20.gene.bed')\n",
    "DK0911_dict['EffectorP'] = os.path.join(DK0911_annotation_dir, 'DK_0911_v04_ph_ctg.effectorp20.gene.bed')"
   ]
  },
  {
   "cell_type": "code",
   "execution_count": 32,
   "metadata": {
    "ExecuteTime": {
     "end_time": "2019-05-01T02:46:33.229314Z",
     "start_time": "2019-05-01T02:46:33.189102Z"
    },
    "collapsed": true
   },
   "outputs": [],
   "source": [
    "def filter_bed(pairing):\n",
    "    \"\"\"Filter bedfiels by substracting one from the other and return resulting bed as dataframe.\n",
    "    Input: Tripled pairing of abs file path target, reference, ouf filename.\"\"\"\n",
    "    traget_bed_fn = pairing[0]\n",
    "    ref_bed_fn = pairing[1]\n",
    "    out_fn = pairing[2]\n",
    "    if not traget_bed_fn.split('.')[-1] == ref_bed_fn.split('.')[-1]:\n",
    "        print('oh no!')\n",
    "    traget_bed = BedTool(traget_bed_fn)\n",
    "    ref_bed = BedTool(ref_bed_fn)\n",
    "    filtered_bed = traget_bed.subtract(ref_bed).saveas(out_fn)\n",
    "    return filtered_bed.to_dataframe()"
   ]
  },
  {
   "cell_type": "code",
   "execution_count": 33,
   "metadata": {
    "ExecuteTime": {
     "end_time": "2019-05-01T02:46:38.951914Z",
     "start_time": "2019-05-01T02:46:38.944299Z"
    },
    "collapsed": true
   },
   "outputs": [],
   "source": [
    "def non_covered_bases(df):\n",
    "    return sum(df['end'] - df['start'])"
   ]
  },
  {
   "cell_type": "code",
   "execution_count": 34,
   "metadata": {
    "ExecuteTime": {
     "end_time": "2019-05-01T02:46:45.510275Z",
     "start_time": "2019-05-01T02:46:45.495582Z"
    },
    "collapsed": true
   },
   "outputs": [],
   "source": [
    "def randomize_bed(bed_in, genome_file_fn, out_dir, n=10):\n",
    "    out_fn = os.path.join(out_dir, os.path.basename(bed_in).replace('.bed', '.random_%s.bed'))\n",
    "    bed = BedTool(bed_in)\n",
    "    for x in range(0, n):\n",
    "        bed.shuffle(g=genome_file_fn).saveas(out_fn % x)"
   ]
  },
  {
   "cell_type": "code",
   "execution_count": 35,
   "metadata": {
    "ExecuteTime": {
     "end_time": "2019-05-01T02:46:52.430433Z",
     "start_time": "2019-05-01T02:46:52.421478Z"
    },
    "collapsed": true
   },
   "outputs": [],
   "source": [
    "def count_overlap_features(feature_bed, absence_bed, min_f_overlap):\n",
    "    filtered_bed = BedTool(absence_bed)\n",
    "    target_bed = BedTool(feature_bed)\n",
    "    return target_bed.intersect(filtered_bed, f=min_f_overlap).to_dataframe().name.unique().shape[0]"
   ]
  },
  {
   "cell_type": "code",
   "execution_count": null,
   "metadata": {
    "collapsed": true
   },
   "outputs": [],
   "source": [
    "def summary_dict_to_df(summary_dict, outer_index, inner_index):\n",
    "    assert(outer_index[0:int(len(outer_index)/2)] == outer_index[int(len(outer_index)/2):])\n",
    "    assert(inner_index[0:int(len(inner_index)/2)] == inner_index[int(len(inner_index)/2):])\n",
    "    df = pd.DataFrame.from_dict(summary_dict)\n",
    "    df['Cut_off'] = [float(x.replace('0','.')) for x in outer_index[0:int(len(outer_index)/2)]]\n",
    "    df['Type'] = inner_index[0:int(len(inner_index)/2)]\n",
    "    df.sort_values(['Cut_off', 'Type'], inplace = True)\n",
    "    index = pd.MultiIndex.from_tuples(list(zip(df['Cut_off'] , df['Type'])), names=['Cut-off', 'Type'])\n",
    "    df.index = index\n",
    "    return df.loc[:, df.columns[:2]].copy()"
   ]
  },
  {
   "cell_type": "code",
   "execution_count": null,
   "metadata": {
    "collapsed": true
   },
   "outputs": [],
   "source": []
  },
  {
   "cell_type": "code",
   "execution_count": null,
   "metadata": {
    "collapsed": true
   },
   "outputs": [],
   "source": []
  },
  {
   "cell_type": "code",
   "execution_count": null,
   "metadata": {
    "collapsed": true
   },
   "outputs": [],
   "source": []
  },
  {
   "cell_type": "markdown",
   "metadata": {},
   "source": [
    "### This part looks at generating filtered bed files and random shuffled bed files for 0.3 cut-off\n",
    "\n",
    "The 0.3 coverage cut-off is choosen based on the DK0911 BUSCOs being pretty stable until this coverage cut-off."
   ]
  },
  {
   "cell_type": "code",
   "execution_count": 6,
   "metadata": {
    "ExecuteTime": {
     "end_time": "2019-04-30T06:32:14.093197Z",
     "start_time": "2019-04-30T06:32:14.066762Z"
    },
    "collapsed": true
   },
   "outputs": [],
   "source": [
    "all_bed_fns = [os.path.join(SRM_cov_dir, x) for x in os.listdir(SRM_cov_dir) if x.endswith('bed') ] "
   ]
  },
  {
   "cell_type": "code",
   "execution_count": 7,
   "metadata": {
    "ExecuteTime": {
     "end_time": "2019-04-30T06:32:14.105126Z",
     "start_time": "2019-04-30T06:32:14.094862Z"
    },
    "collapsed": true
   },
   "outputs": [],
   "source": [
    "references = [x for x in all_bed_fns if os.path.basename(x).startswith('DK_0911_v04_ph_ctg.bwamem.DK0911_gDNA.RG.')\\\n",
    "              or  os.path.basename(x).startswith('Pst_104E_v13_ph_ctg.bwamem.Pst79_folder5.')]\n",
    "references.sort()\n",
    "\n",
    "targets = [x for x in all_bed_fns if x not in references]\n",
    "targets.sort()\n",
    "\n",
    "out_fns = [os.path.join(SRM_cov_outdir, os.path.basename(x).replace('bed','.filtered.bed')) for x in targets]\n",
    "\n",
    "pairings = [x for x in zip(targets,references, out_fns)]"
   ]
  },
  {
   "cell_type": "code",
   "execution_count": null,
   "metadata": {
    "collapsed": true
   },
   "outputs": [],
   "source": [
    "#filter the parings\n",
    "for pair in pairings:\n",
    "    filter_bed(pair)"
   ]
  },
  {
   "cell_type": "code",
   "execution_count": 37,
   "metadata": {
    "ExecuteTime": {
     "end_time": "2019-05-01T02:49:20.521782Z",
     "start_time": "2019-05-01T02:49:20.515291Z"
    }
   },
   "outputs": [
    {
     "name": "stdout",
     "output_type": "stream",
     "text": [
      "This is the file that got randomized: /home/benjamin/genome_assembly/Warrior/DK0911_v04/comp_COV/SRM_mapping/filtered/DK_0911_v04_ph_ctg.bwamem.Pst79_TS.RG.mark_dup.ph_window_w1000s200.ph_mapping.lowcov03.filtered.bed\n",
      "\n",
      "\n",
      "This is the file that got randomized: /home/benjamin/genome_assembly/Warrior/DK0911_v04/comp_COV/SRM_mapping/filtered/Pst_104E_v13_ph_ctg.bwamem.DK0911_gDNA.ph_window_w1000s200.ph_mapping.lowcov03.filtered.bed\n",
      "\n",
      "\n"
     ]
    }
   ],
   "source": [
    "print(\"This is the file that got randomized: %s\\n\\n\" % pairings[4][2])\n",
    "print(\"This is the file that got randomized: %s\\n\\n\" % pairings[-4][2])"
   ]
  },
  {
   "cell_type": "code",
   "execution_count": null,
   "metadata": {
    "collapsed": true
   },
   "outputs": [],
   "source": [
    "#randomize the bedfiles of the lowcov targted. Yet first look at the results of fishers exact tests and\n",
    "#pick the appropriate coveraged cut off\n",
    "randomize_bed(pairings[4][2], Pst_104E_genome_file_fn, SRM_cov_rand_outdir, n=5000)\n",
    "randomize_bed(pairings[-4][2], DK0911_genome_file_fn, SRM_cov_rand_outdir, n=5000)"
   ]
  },
  {
   "cell_type": "markdown",
   "metadata": {},
   "source": [
    "### The next session compares the observed low coverage regions with different genes types in the two isolates\n",
    "First the results are saved in a dictionary and then converted to a multiindex dataframe"
   ]
  },
  {
   "cell_type": "code",
   "execution_count": 19,
   "metadata": {
    "ExecuteTime": {
     "end_time": "2019-04-30T06:32:43.065304Z",
     "start_time": "2019-04-30T06:32:23.162463Z"
    },
    "collapsed": true
   },
   "outputs": [],
   "source": [
    "Fishers_summary_dict = {}\n",
    "Absence_summary_dict = {}\n",
    "outer_index = [] #being the cut off\n",
    "inner_index = [] #being the type of gene to look at\n",
    "Fishers_summary_dict['DK0911'] = []\n",
    "Fishers_summary_dict['Pst_104E'] = []\n",
    "Absence_summary_dict['DK0911'] = []\n",
    "Absence_summary_dict['Pst_104E'] = []\n",
    "min_overlap = 1.0\n",
    "keys = Pst_104E_dict.keys()\n",
    "for pair in pairings:\n",
    "    if os.path.basename(pair[2]).startswith('DK_0911'):\n",
    "        expect_list = [count_overlap_features(DK0911_dict['All_genes'],pair[2],min_overlap) ,\\\n",
    "                       pd.read_csv(DK0911_dict['All_genes'], sep='\\t').shape[0]]\n",
    "        cut_off = os.path.basename(pair[2]).split('.')[-3].replace('lowcov', '')\n",
    "        for key in keys:\n",
    "            inner_index.append(key)\n",
    "            outer_index.append(cut_off)\n",
    "            test_list = [count_overlap_features(DK0911_dict[key],pair[2],min_overlap),\\\n",
    "                         pd.read_csv(DK0911_dict[key], sep='\\t').shape[0]]\n",
    "            Fishers_summary_dict['DK0911'].append(fisher_exact([test_list, expect_list])[1])\n",
    "            Absence_summary_dict['DK0911'].append(count_overlap_features(DK0911_dict[key],pair[2],min_overlap))\n",
    "    if os.path.basename(pair[2]).startswith('Pst_104E_v13_ph_ctg'):\n",
    "        expect_list = [count_overlap_features(Pst_104E_dict['All_genes'],pair[2],min_overlap) ,\\\n",
    "                       pd.read_csv(Pst_104E_dict['All_genes'], sep='\\t').shape[0]]\n",
    "        cut_off = os.path.basename(pair[2]).split('.')[-3].replace('lowcov', '')\n",
    "        for key in keys:\n",
    "            inner_index.append(key)\n",
    "            outer_index.append(cut_off)\n",
    "            test_list = [count_overlap_features(Pst_104E_dict[key],pair[2],min_overlap),\\\n",
    "                         pd.read_csv(Pst_104E_dict[key], sep='\\t').shape[0]]\n",
    "            Fishers_summary_dict['Pst_104E'].append(fisher_exact([test_list, expect_list])[1])\n",
    "            Absence_summary_dict['Pst_104E'].append(count_overlap_features(Pst_104E_dict[key],pair[2],min_overlap))"
   ]
  },
  {
   "cell_type": "code",
   "execution_count": 26,
   "metadata": {
    "ExecuteTime": {
     "end_time": "2019-04-30T07:13:40.149225Z",
     "start_time": "2019-04-30T07:13:40.098750Z"
    }
   },
   "outputs": [],
   "source": [
    "Fishers_df = summary_dict_to_df(Fishers_summary_dict, outer_index, inner_index)\n",
    "Absence_df = summary_dict_to_df(Absence_summary_dict, outer_index, inner_index)"
   ]
  },
  {
   "cell_type": "code",
   "execution_count": 27,
   "metadata": {
    "ExecuteTime": {
     "end_time": "2019-04-30T07:13:45.009172Z",
     "start_time": "2019-04-30T07:13:44.956390Z"
    }
   },
   "outputs": [
    {
     "data": {
      "text/html": [
       "<div>\n",
       "<style scoped>\n",
       "    .dataframe tbody tr th:only-of-type {\n",
       "        vertical-align: middle;\n",
       "    }\n",
       "\n",
       "    .dataframe tbody tr th {\n",
       "        vertical-align: top;\n",
       "    }\n",
       "\n",
       "    .dataframe thead th {\n",
       "        text-align: right;\n",
       "    }\n",
       "</style>\n",
       "<table border=\"1\" class=\"dataframe\">\n",
       "  <thead>\n",
       "    <tr style=\"text-align: right;\">\n",
       "      <th></th>\n",
       "      <th></th>\n",
       "      <th>DK0911</th>\n",
       "      <th>Pst_104E</th>\n",
       "    </tr>\n",
       "    <tr>\n",
       "      <th>Cut-off</th>\n",
       "      <th>Type</th>\n",
       "      <th></th>\n",
       "      <th></th>\n",
       "    </tr>\n",
       "  </thead>\n",
       "  <tbody>\n",
       "    <tr>\n",
       "      <th rowspan=\"5\" valign=\"top\">0.10</th>\n",
       "      <th>All_genes</th>\n",
       "      <td>1.000000e+00</td>\n",
       "      <td>1.000000e+00</td>\n",
       "    </tr>\n",
       "    <tr>\n",
       "      <th>Busco</th>\n",
       "      <td>2.095908e-12</td>\n",
       "      <td>5.452251e-10</td>\n",
       "    </tr>\n",
       "    <tr>\n",
       "      <th>Ceffectors</th>\n",
       "      <td>3.326086e-02</td>\n",
       "      <td>5.835868e-02</td>\n",
       "    </tr>\n",
       "    <tr>\n",
       "      <th>EffectorP</th>\n",
       "      <td>3.326086e-02</td>\n",
       "      <td>4.918653e-02</td>\n",
       "    </tr>\n",
       "    <tr>\n",
       "      <th>Secretome</th>\n",
       "      <td>1.436923e-06</td>\n",
       "      <td>5.983780e-02</td>\n",
       "    </tr>\n",
       "    <tr>\n",
       "      <th rowspan=\"5\" valign=\"top\">0.20</th>\n",
       "      <th>All_genes</th>\n",
       "      <td>1.000000e+00</td>\n",
       "      <td>1.000000e+00</td>\n",
       "    </tr>\n",
       "    <tr>\n",
       "      <th>Busco</th>\n",
       "      <td>6.310735e-17</td>\n",
       "      <td>3.119838e-08</td>\n",
       "    </tr>\n",
       "    <tr>\n",
       "      <th>Ceffectors</th>\n",
       "      <td>1.857437e-01</td>\n",
       "      <td>1.044646e-01</td>\n",
       "    </tr>\n",
       "    <tr>\n",
       "      <th>EffectorP</th>\n",
       "      <td>1.857437e-01</td>\n",
       "      <td>7.858847e-03</td>\n",
       "    </tr>\n",
       "    <tr>\n",
       "      <th>Secretome</th>\n",
       "      <td>2.056203e-07</td>\n",
       "      <td>1.289605e-01</td>\n",
       "    </tr>\n",
       "    <tr>\n",
       "      <th rowspan=\"5\" valign=\"top\">0.25</th>\n",
       "      <th>All_genes</th>\n",
       "      <td>1.000000e+00</td>\n",
       "      <td>1.000000e+00</td>\n",
       "    </tr>\n",
       "    <tr>\n",
       "      <th>Busco</th>\n",
       "      <td>5.577766e-14</td>\n",
       "      <td>8.647120e-07</td>\n",
       "    </tr>\n",
       "    <tr>\n",
       "      <th>Ceffectors</th>\n",
       "      <td>1.985610e-01</td>\n",
       "      <td>8.101202e-02</td>\n",
       "    </tr>\n",
       "    <tr>\n",
       "      <th>EffectorP</th>\n",
       "      <td>1.985610e-01</td>\n",
       "      <td>6.307230e-03</td>\n",
       "    </tr>\n",
       "    <tr>\n",
       "      <th>Secretome</th>\n",
       "      <td>3.146984e-06</td>\n",
       "      <td>1.803824e-01</td>\n",
       "    </tr>\n",
       "    <tr>\n",
       "      <th rowspan=\"5\" valign=\"top\">0.30</th>\n",
       "      <th>All_genes</th>\n",
       "      <td>1.000000e+00</td>\n",
       "      <td>1.000000e+00</td>\n",
       "    </tr>\n",
       "    <tr>\n",
       "      <th>Busco</th>\n",
       "      <td>1.388569e-17</td>\n",
       "      <td>3.204988e-06</td>\n",
       "    </tr>\n",
       "    <tr>\n",
       "      <th>Ceffectors</th>\n",
       "      <td>9.441717e-02</td>\n",
       "      <td>1.500362e-01</td>\n",
       "    </tr>\n",
       "    <tr>\n",
       "      <th>EffectorP</th>\n",
       "      <td>9.441717e-02</td>\n",
       "      <td>3.009929e-03</td>\n",
       "    </tr>\n",
       "    <tr>\n",
       "      <th>Secretome</th>\n",
       "      <td>7.890919e-08</td>\n",
       "      <td>3.212371e-01</td>\n",
       "    </tr>\n",
       "    <tr>\n",
       "      <th rowspan=\"5\" valign=\"top\">0.35</th>\n",
       "      <th>All_genes</th>\n",
       "      <td>1.000000e+00</td>\n",
       "      <td>1.000000e+00</td>\n",
       "    </tr>\n",
       "    <tr>\n",
       "      <th>Busco</th>\n",
       "      <td>2.021682e-24</td>\n",
       "      <td>2.206528e-05</td>\n",
       "    </tr>\n",
       "    <tr>\n",
       "      <th>Ceffectors</th>\n",
       "      <td>4.462727e-01</td>\n",
       "      <td>1.137832e-01</td>\n",
       "    </tr>\n",
       "    <tr>\n",
       "      <th>EffectorP</th>\n",
       "      <td>4.462727e-01</td>\n",
       "      <td>2.889571e-03</td>\n",
       "    </tr>\n",
       "    <tr>\n",
       "      <th>Secretome</th>\n",
       "      <td>1.298732e-06</td>\n",
       "      <td>4.272960e-01</td>\n",
       "    </tr>\n",
       "    <tr>\n",
       "      <th rowspan=\"5\" valign=\"top\">0.40</th>\n",
       "      <th>All_genes</th>\n",
       "      <td>1.000000e+00</td>\n",
       "      <td>1.000000e+00</td>\n",
       "    </tr>\n",
       "    <tr>\n",
       "      <th>Busco</th>\n",
       "      <td>6.157951e-23</td>\n",
       "      <td>4.794413e-05</td>\n",
       "    </tr>\n",
       "    <tr>\n",
       "      <th>Ceffectors</th>\n",
       "      <td>6.863553e-01</td>\n",
       "      <td>1.536092e-02</td>\n",
       "    </tr>\n",
       "    <tr>\n",
       "      <th>EffectorP</th>\n",
       "      <td>6.863553e-01</td>\n",
       "      <td>1.189007e-02</td>\n",
       "    </tr>\n",
       "    <tr>\n",
       "      <th>Secretome</th>\n",
       "      <td>7.661602e-06</td>\n",
       "      <td>1.909251e-01</td>\n",
       "    </tr>\n",
       "    <tr>\n",
       "      <th rowspan=\"5\" valign=\"top\">0.45</th>\n",
       "      <th>All_genes</th>\n",
       "      <td>1.000000e+00</td>\n",
       "      <td>1.000000e+00</td>\n",
       "    </tr>\n",
       "    <tr>\n",
       "      <th>Busco</th>\n",
       "      <td>4.695157e-26</td>\n",
       "      <td>1.145350e-04</td>\n",
       "    </tr>\n",
       "    <tr>\n",
       "      <th>Ceffectors</th>\n",
       "      <td>6.297686e-01</td>\n",
       "      <td>1.450041e-02</td>\n",
       "    </tr>\n",
       "    <tr>\n",
       "      <th>EffectorP</th>\n",
       "      <td>6.297686e-01</td>\n",
       "      <td>1.922877e-02</td>\n",
       "    </tr>\n",
       "    <tr>\n",
       "      <th>Secretome</th>\n",
       "      <td>9.148189e-05</td>\n",
       "      <td>1.647942e-01</td>\n",
       "    </tr>\n",
       "    <tr>\n",
       "      <th rowspan=\"5\" valign=\"top\">0.50</th>\n",
       "      <th>All_genes</th>\n",
       "      <td>1.000000e+00</td>\n",
       "      <td>1.000000e+00</td>\n",
       "    </tr>\n",
       "    <tr>\n",
       "      <th>Busco</th>\n",
       "      <td>4.695157e-26</td>\n",
       "      <td>3.866778e-05</td>\n",
       "    </tr>\n",
       "    <tr>\n",
       "      <th>Ceffectors</th>\n",
       "      <td>6.297686e-01</td>\n",
       "      <td>3.993055e-02</td>\n",
       "    </tr>\n",
       "    <tr>\n",
       "      <th>EffectorP</th>\n",
       "      <td>6.297686e-01</td>\n",
       "      <td>3.175162e-03</td>\n",
       "    </tr>\n",
       "    <tr>\n",
       "      <th>Secretome</th>\n",
       "      <td>9.148189e-05</td>\n",
       "      <td>4.806112e-01</td>\n",
       "    </tr>\n",
       "  </tbody>\n",
       "</table>\n",
       "</div>"
      ],
      "text/plain": [
       "                          DK0911      Pst_104E\n",
       "Cut-off Type                                  \n",
       "0.10    All_genes   1.000000e+00  1.000000e+00\n",
       "        Busco       2.095908e-12  5.452251e-10\n",
       "        Ceffectors  3.326086e-02  5.835868e-02\n",
       "        EffectorP   3.326086e-02  4.918653e-02\n",
       "        Secretome   1.436923e-06  5.983780e-02\n",
       "0.20    All_genes   1.000000e+00  1.000000e+00\n",
       "        Busco       6.310735e-17  3.119838e-08\n",
       "        Ceffectors  1.857437e-01  1.044646e-01\n",
       "        EffectorP   1.857437e-01  7.858847e-03\n",
       "        Secretome   2.056203e-07  1.289605e-01\n",
       "0.25    All_genes   1.000000e+00  1.000000e+00\n",
       "        Busco       5.577766e-14  8.647120e-07\n",
       "        Ceffectors  1.985610e-01  8.101202e-02\n",
       "        EffectorP   1.985610e-01  6.307230e-03\n",
       "        Secretome   3.146984e-06  1.803824e-01\n",
       "0.30    All_genes   1.000000e+00  1.000000e+00\n",
       "        Busco       1.388569e-17  3.204988e-06\n",
       "        Ceffectors  9.441717e-02  1.500362e-01\n",
       "        EffectorP   9.441717e-02  3.009929e-03\n",
       "        Secretome   7.890919e-08  3.212371e-01\n",
       "0.35    All_genes   1.000000e+00  1.000000e+00\n",
       "        Busco       2.021682e-24  2.206528e-05\n",
       "        Ceffectors  4.462727e-01  1.137832e-01\n",
       "        EffectorP   4.462727e-01  2.889571e-03\n",
       "        Secretome   1.298732e-06  4.272960e-01\n",
       "0.40    All_genes   1.000000e+00  1.000000e+00\n",
       "        Busco       6.157951e-23  4.794413e-05\n",
       "        Ceffectors  6.863553e-01  1.536092e-02\n",
       "        EffectorP   6.863553e-01  1.189007e-02\n",
       "        Secretome   7.661602e-06  1.909251e-01\n",
       "0.45    All_genes   1.000000e+00  1.000000e+00\n",
       "        Busco       4.695157e-26  1.145350e-04\n",
       "        Ceffectors  6.297686e-01  1.450041e-02\n",
       "        EffectorP   6.297686e-01  1.922877e-02\n",
       "        Secretome   9.148189e-05  1.647942e-01\n",
       "0.50    All_genes   1.000000e+00  1.000000e+00\n",
       "        Busco       4.695157e-26  3.866778e-05\n",
       "        Ceffectors  6.297686e-01  3.993055e-02\n",
       "        EffectorP   6.297686e-01  3.175162e-03\n",
       "        Secretome   9.148189e-05  4.806112e-01"
      ]
     },
     "execution_count": 27,
     "metadata": {},
     "output_type": "execute_result"
    }
   ],
   "source": [
    "Fishers_df"
   ]
  },
  {
   "cell_type": "code",
   "execution_count": 31,
   "metadata": {
    "ExecuteTime": {
     "end_time": "2019-05-01T02:40:29.507367Z",
     "start_time": "2019-05-01T02:40:29.482807Z"
    }
   },
   "outputs": [
    {
     "data": {
      "text/html": [
       "<div>\n",
       "<style scoped>\n",
       "    .dataframe tbody tr th:only-of-type {\n",
       "        vertical-align: middle;\n",
       "    }\n",
       "\n",
       "    .dataframe tbody tr th {\n",
       "        vertical-align: top;\n",
       "    }\n",
       "\n",
       "    .dataframe thead th {\n",
       "        text-align: right;\n",
       "    }\n",
       "</style>\n",
       "<table border=\"1\" class=\"dataframe\">\n",
       "  <thead>\n",
       "    <tr style=\"text-align: right;\">\n",
       "      <th></th>\n",
       "      <th></th>\n",
       "      <th>DK0911</th>\n",
       "      <th>Pst_104E</th>\n",
       "    </tr>\n",
       "    <tr>\n",
       "      <th>Cut-off</th>\n",
       "      <th>Type</th>\n",
       "      <th></th>\n",
       "      <th></th>\n",
       "    </tr>\n",
       "  </thead>\n",
       "  <tbody>\n",
       "    <tr>\n",
       "      <th rowspan=\"5\" valign=\"top\">0.10</th>\n",
       "      <th>All_genes</th>\n",
       "      <td>724</td>\n",
       "      <td>2394</td>\n",
       "    </tr>\n",
       "    <tr>\n",
       "      <th>Busco</th>\n",
       "      <td>13</td>\n",
       "      <td>126</td>\n",
       "    </tr>\n",
       "    <tr>\n",
       "      <th>Ceffectors</th>\n",
       "      <td>25</td>\n",
       "      <td>244</td>\n",
       "    </tr>\n",
       "    <tr>\n",
       "      <th>EffectorP</th>\n",
       "      <td>25</td>\n",
       "      <td>189</td>\n",
       "    </tr>\n",
       "    <tr>\n",
       "      <th>Secretome</th>\n",
       "      <td>55</td>\n",
       "      <td>327</td>\n",
       "    </tr>\n",
       "    <tr>\n",
       "      <th rowspan=\"5\" valign=\"top\">0.20</th>\n",
       "      <th>All_genes</th>\n",
       "      <td>864</td>\n",
       "      <td>2844</td>\n",
       "    </tr>\n",
       "    <tr>\n",
       "      <th>Busco</th>\n",
       "      <td>12</td>\n",
       "      <td>167</td>\n",
       "    </tr>\n",
       "    <tr>\n",
       "      <th>Ceffectors</th>\n",
       "      <td>36</td>\n",
       "      <td>298</td>\n",
       "    </tr>\n",
       "    <tr>\n",
       "      <th>EffectorP</th>\n",
       "      <td>36</td>\n",
       "      <td>233</td>\n",
       "    </tr>\n",
       "    <tr>\n",
       "      <th>Secretome</th>\n",
       "      <td>66</td>\n",
       "      <td>400</td>\n",
       "    </tr>\n",
       "    <tr>\n",
       "      <th rowspan=\"5\" valign=\"top\">0.25</th>\n",
       "      <th>All_genes</th>\n",
       "      <td>705</td>\n",
       "      <td>3310</td>\n",
       "    </tr>\n",
       "    <tr>\n",
       "      <th>Busco</th>\n",
       "      <td>10</td>\n",
       "      <td>211</td>\n",
       "    </tr>\n",
       "    <tr>\n",
       "      <th>Ceffectors</th>\n",
       "      <td>29</td>\n",
       "      <td>347</td>\n",
       "    </tr>\n",
       "    <tr>\n",
       "      <th>EffectorP</th>\n",
       "      <td>29</td>\n",
       "      <td>269</td>\n",
       "    </tr>\n",
       "    <tr>\n",
       "      <th>Secretome</th>\n",
       "      <td>54</td>\n",
       "      <td>473</td>\n",
       "    </tr>\n",
       "    <tr>\n",
       "      <th rowspan=\"5\" valign=\"top\">0.30</th>\n",
       "      <th>All_genes</th>\n",
       "      <td>909</td>\n",
       "      <td>3253</td>\n",
       "    </tr>\n",
       "    <tr>\n",
       "      <th>Busco</th>\n",
       "      <td>13</td>\n",
       "      <td>211</td>\n",
       "    </tr>\n",
       "    <tr>\n",
       "      <th>Ceffectors</th>\n",
       "      <td>36</td>\n",
       "      <td>347</td>\n",
       "    </tr>\n",
       "    <tr>\n",
       "      <th>EffectorP</th>\n",
       "      <td>36</td>\n",
       "      <td>269</td>\n",
       "    </tr>\n",
       "    <tr>\n",
       "      <th>Secretome</th>\n",
       "      <td>69</td>\n",
       "      <td>473</td>\n",
       "    </tr>\n",
       "    <tr>\n",
       "      <th rowspan=\"5\" valign=\"top\">0.35</th>\n",
       "      <th>All_genes</th>\n",
       "      <td>1310</td>\n",
       "      <td>3675</td>\n",
       "    </tr>\n",
       "    <tr>\n",
       "      <th>Busco</th>\n",
       "      <td>19</td>\n",
       "      <td>251</td>\n",
       "    </tr>\n",
       "    <tr>\n",
       "      <th>Ceffectors</th>\n",
       "      <td>62</td>\n",
       "      <td>391</td>\n",
       "    </tr>\n",
       "    <tr>\n",
       "      <th>EffectorP</th>\n",
       "      <td>62</td>\n",
       "      <td>301</td>\n",
       "    </tr>\n",
       "    <tr>\n",
       "      <th>Secretome</th>\n",
       "      <td>119</td>\n",
       "      <td>541</td>\n",
       "    </tr>\n",
       "    <tr>\n",
       "      <th rowspan=\"5\" valign=\"top\">0.40</th>\n",
       "      <th>All_genes</th>\n",
       "      <td>1154</td>\n",
       "      <td>4107</td>\n",
       "    </tr>\n",
       "    <tr>\n",
       "      <th>Busco</th>\n",
       "      <td>15</td>\n",
       "      <td>288</td>\n",
       "    </tr>\n",
       "    <tr>\n",
       "      <th>Ceffectors</th>\n",
       "      <td>57</td>\n",
       "      <td>419</td>\n",
       "    </tr>\n",
       "    <tr>\n",
       "      <th>EffectorP</th>\n",
       "      <td>57</td>\n",
       "      <td>324</td>\n",
       "    </tr>\n",
       "    <tr>\n",
       "      <th>Secretome</th>\n",
       "      <td>106</td>\n",
       "      <td>592</td>\n",
       "    </tr>\n",
       "    <tr>\n",
       "      <th rowspan=\"5\" valign=\"top\">0.45</th>\n",
       "      <th>All_genes</th>\n",
       "      <td>1452</td>\n",
       "      <td>4030</td>\n",
       "    </tr>\n",
       "    <tr>\n",
       "      <th>Busco</th>\n",
       "      <td>22</td>\n",
       "      <td>286</td>\n",
       "    </tr>\n",
       "    <tr>\n",
       "      <th>Ceffectors</th>\n",
       "      <td>72</td>\n",
       "      <td>410</td>\n",
       "    </tr>\n",
       "    <tr>\n",
       "      <th>EffectorP</th>\n",
       "      <td>72</td>\n",
       "      <td>315</td>\n",
       "    </tr>\n",
       "    <tr>\n",
       "      <th>Secretome</th>\n",
       "      <td>148</td>\n",
       "      <td>578</td>\n",
       "    </tr>\n",
       "    <tr>\n",
       "      <th rowspan=\"5\" valign=\"top\">0.50</th>\n",
       "      <th>All_genes</th>\n",
       "      <td>1452</td>\n",
       "      <td>4475</td>\n",
       "    </tr>\n",
       "    <tr>\n",
       "      <th>Busco</th>\n",
       "      <td>22</td>\n",
       "      <td>316</td>\n",
       "    </tr>\n",
       "    <tr>\n",
       "      <th>Ceffectors</th>\n",
       "      <td>72</td>\n",
       "      <td>468</td>\n",
       "    </tr>\n",
       "    <tr>\n",
       "      <th>EffectorP</th>\n",
       "      <td>72</td>\n",
       "      <td>360</td>\n",
       "    </tr>\n",
       "    <tr>\n",
       "      <th>Secretome</th>\n",
       "      <td>148</td>\n",
       "      <td>664</td>\n",
       "    </tr>\n",
       "  </tbody>\n",
       "</table>\n",
       "</div>"
      ],
      "text/plain": [
       "                    DK0911  Pst_104E\n",
       "Cut-off Type                        \n",
       "0.10    All_genes      724      2394\n",
       "        Busco           13       126\n",
       "        Ceffectors      25       244\n",
       "        EffectorP       25       189\n",
       "        Secretome       55       327\n",
       "0.20    All_genes      864      2844\n",
       "        Busco           12       167\n",
       "        Ceffectors      36       298\n",
       "        EffectorP       36       233\n",
       "        Secretome       66       400\n",
       "0.25    All_genes      705      3310\n",
       "        Busco           10       211\n",
       "        Ceffectors      29       347\n",
       "        EffectorP       29       269\n",
       "        Secretome       54       473\n",
       "0.30    All_genes      909      3253\n",
       "        Busco           13       211\n",
       "        Ceffectors      36       347\n",
       "        EffectorP       36       269\n",
       "        Secretome       69       473\n",
       "0.35    All_genes     1310      3675\n",
       "        Busco           19       251\n",
       "        Ceffectors      62       391\n",
       "        EffectorP       62       301\n",
       "        Secretome      119       541\n",
       "0.40    All_genes     1154      4107\n",
       "        Busco           15       288\n",
       "        Ceffectors      57       419\n",
       "        EffectorP       57       324\n",
       "        Secretome      106       592\n",
       "0.45    All_genes     1452      4030\n",
       "        Busco           22       286\n",
       "        Ceffectors      72       410\n",
       "        EffectorP       72       315\n",
       "        Secretome      148       578\n",
       "0.50    All_genes     1452      4475\n",
       "        Busco           22       316\n",
       "        Ceffectors      72       468\n",
       "        EffectorP       72       360\n",
       "        Secretome      148       664"
      ]
     },
     "execution_count": 31,
     "metadata": {},
     "output_type": "execute_result"
    }
   ],
   "source": [
    "Absence_df"
   ]
  },
  {
   "cell_type": "markdown",
   "metadata": {},
   "source": [
    "### Look over the different filtered lowcov regions and caculate the amount of uncovered bases"
   ]
  },
  {
   "cell_type": "code",
   "execution_count": null,
   "metadata": {
    "collapsed": true
   },
   "outputs": [],
   "source": [
    "#loop over the different lowcoverage file, filter them and count the total bases of lowcoverage\n",
    "summary_dict = {}\n",
    "summary_dict['DK0911'] = []\n",
    "summary_dict['Pst_104E'] = []\n",
    "index = []\n",
    "for pair in pairings:\n",
    "    non_cov_bases = non_covered_bases(filter_bed(pair))\n",
    "    cut_off = pair[2].split('.')[-3].replace('lowcov','')\n",
    "    index.append(cut_off)\n",
    "    if pair[2].split('.')[2].startswith('Pst79_'):\n",
    "        summary_dict['DK0911'].append(non_cov_bases)\n",
    "    elif pair[2].split('.')[2].startswith('DK0911_'):\n",
    "        summary_dict['Pst_104E'].append(non_cov_bases)"
   ]
  },
  {
   "cell_type": "code",
   "execution_count": 30,
   "metadata": {
    "ExecuteTime": {
     "end_time": "2019-04-30T07:22:48.945144Z",
     "start_time": "2019-04-30T07:22:48.910767Z"
    }
   },
   "outputs": [
    {
     "data": {
      "text/html": [
       "<div>\n",
       "<style scoped>\n",
       "    .dataframe tbody tr th:only-of-type {\n",
       "        vertical-align: middle;\n",
       "    }\n",
       "\n",
       "    .dataframe tbody tr th {\n",
       "        vertical-align: top;\n",
       "    }\n",
       "\n",
       "    .dataframe thead th {\n",
       "        text-align: right;\n",
       "    }\n",
       "</style>\n",
       "<table border=\"1\" class=\"dataframe\">\n",
       "  <thead>\n",
       "    <tr style=\"text-align: right;\">\n",
       "      <th></th>\n",
       "      <th>DK0911</th>\n",
       "      <th>Pst_104E</th>\n",
       "    </tr>\n",
       "  </thead>\n",
       "  <tbody>\n",
       "    <tr>\n",
       "      <th>0.10</th>\n",
       "      <td>6363272</td>\n",
       "      <td>20821493</td>\n",
       "    </tr>\n",
       "    <tr>\n",
       "      <th>0.20</th>\n",
       "      <td>8207965</td>\n",
       "      <td>23931160</td>\n",
       "    </tr>\n",
       "    <tr>\n",
       "      <th>0.25</th>\n",
       "      <td>7258527</td>\n",
       "      <td>27039841</td>\n",
       "    </tr>\n",
       "    <tr>\n",
       "      <th>0.30</th>\n",
       "      <td>9478055</td>\n",
       "      <td>26696752</td>\n",
       "    </tr>\n",
       "    <tr>\n",
       "      <th>0.35</th>\n",
       "      <td>13378670</td>\n",
       "      <td>29523551</td>\n",
       "    </tr>\n",
       "    <tr>\n",
       "      <th>0.40</th>\n",
       "      <td>12340369</td>\n",
       "      <td>32520559</td>\n",
       "    </tr>\n",
       "    <tr>\n",
       "      <th>0.45</th>\n",
       "      <td>15598968</td>\n",
       "      <td>31975598</td>\n",
       "    </tr>\n",
       "    <tr>\n",
       "      <th>0.50</th>\n",
       "      <td>15598968</td>\n",
       "      <td>35131544</td>\n",
       "    </tr>\n",
       "  </tbody>\n",
       "</table>\n",
       "</div>"
      ],
      "text/plain": [
       "        DK0911  Pst_104E\n",
       "0.10   6363272  20821493\n",
       "0.20   8207965  23931160\n",
       "0.25   7258527  27039841\n",
       "0.30   9478055  26696752\n",
       "0.35  13378670  29523551\n",
       "0.40  12340369  32520559\n",
       "0.45  15598968  31975598\n",
       "0.50  15598968  35131544"
      ]
     },
     "execution_count": 30,
     "metadata": {},
     "output_type": "execute_result"
    }
   ],
   "source": [
    "length = len(index) \n",
    "index[0:int(length/2)] == index[int(length/2):]\n",
    "df = pd.DataFrame.from_dict(summary_dict)\n",
    "df.index = [float(x.replace('0','.')) for x in index[0:int(length/2)]]\n",
    "df.sort_index(inplace=True)\n",
    "#check on Pst_104E mapping on DK0911\n",
    "df"
   ]
  },
  {
   "cell_type": "markdown",
   "metadata": {},
   "source": [
    "### Now look do the permutation tests at the 0.3 lowcov value for all gene groups in both isolates"
   ]
  },
  {
   "cell_type": "code",
   "execution_count": null,
   "metadata": {
    "ExecuteTime": {
     "start_time": "2019-05-01T04:54:36.177Z"
    }
   },
   "outputs": [],
   "source": [
    "#loop over all gene files\n",
    "#for each gene file do the whole permuation test and safe it as part of a dictionary\n",
    "Pst_104E_random_fn = [os.path.join(SRM_cov_rand_outdir, x) for x in os.listdir(SRM_cov_rand_outdir) if x.startswith('Pst')]\n",
    "Pst_104E_random_fn.sort()\n",
    "DK0911_random_fn = [os.path.join(SRM_cov_rand_outdir, x) for x in os.listdir(SRM_cov_rand_outdir) if x.startswith('DK')]\n",
    "DK0911_random_fn.sort()\n",
    "Pst_random_dict = {}\n",
    "DK0911_random_dict = {}\n",
    "keys = Pst_104E_dict.keys()\n",
    "min_overlap = 1.0\n",
    "for key in keys:\n",
    "    Pst_random_dict[key] = []\n",
    "    for rand_fn in Pst_104E_random_fn:\n",
    "        Pst_random_dict[key].append(count_overlap_features(Pst_104E_dict[key], rand_fn, min_overlap))\n",
    "    DK0911_random_dict[key] = []\n",
    "    for rand_fn in DK0911_random_fn:\n",
    "        DK0911_random_dict[key].append(count_overlap_features(DK0911_dict[key], rand_fn, min_overlap))"
   ]
  },
  {
   "cell_type": "code",
   "execution_count": null,
   "metadata": {
    "collapsed": true
   },
   "outputs": [],
   "source": []
  },
  {
   "cell_type": "code",
   "execution_count": null,
   "metadata": {
    "collapsed": true
   },
   "outputs": [],
   "source": []
  },
  {
   "cell_type": "code",
   "execution_count": null,
   "metadata": {
    "collapsed": true
   },
   "outputs": [],
   "source": []
  },
  {
   "cell_type": "code",
   "execution_count": null,
   "metadata": {
    "collapsed": true
   },
   "outputs": [],
   "source": [
    "count_overlap_features"
   ]
  },
  {
   "cell_type": "code",
   "execution_count": 200,
   "metadata": {
    "ExecuteTime": {
     "end_time": "2019-04-30T05:22:42.973157Z",
     "start_time": "2019-04-30T05:22:42.966621Z"
    },
    "collapsed": true
   },
   "outputs": [],
   "source": [
    "filtered_bed_fn = pairings[8][2]"
   ]
  },
  {
   "cell_type": "code",
   "execution_count": 166,
   "metadata": {
    "ExecuteTime": {
     "end_time": "2019-04-30T03:15:31.761178Z",
     "start_time": "2019-04-30T03:15:31.740268Z"
    },
    "collapsed": true
   },
   "outputs": [],
   "source": [
    "filtered_bed = BedTool(filtered_bed_fn)\n",
    "target_bed = BedTool(Pst_104E_secretome_bed)"
   ]
  },
  {
   "cell_type": "code",
   "execution_count": 167,
   "metadata": {
    "ExecuteTime": {
     "end_time": "2019-04-30T03:15:32.301273Z",
     "start_time": "2019-04-30T03:15:32.206359Z"
    },
    "collapsed": true
   },
   "outputs": [],
   "source": [
    "out_bed = target_bed.intersect(filtered_bed)"
   ]
  },
  {
   "cell_type": "code",
   "execution_count": 168,
   "metadata": {
    "ExecuteTime": {
     "end_time": "2019-04-30T03:15:32.649181Z",
     "start_time": "2019-04-30T03:15:32.614718Z"
    },
    "collapsed": true
   },
   "outputs": [],
   "source": [
    "number_of_overlap = out_bed.to_dataframe().name.unique().shape[0]"
   ]
  },
  {
   "cell_type": "code",
   "execution_count": 227,
   "metadata": {
    "ExecuteTime": {
     "end_time": "2019-04-30T05:26:44.365203Z",
     "start_time": "2019-04-30T05:26:44.342766Z"
    },
    "collapsed": true
   },
   "outputs": [],
   "source": []
  },
  {
   "cell_type": "code",
   "execution_count": 221,
   "metadata": {
    "ExecuteTime": {
     "end_time": "2019-04-30T05:25:49.181188Z",
     "start_time": "2019-04-30T05:25:49.078513Z"
    }
   },
   "outputs": [
    {
     "data": {
      "text/plain": [
       "327"
      ]
     },
     "execution_count": 221,
     "metadata": {},
     "output_type": "execute_result"
    }
   ],
   "source": [
    "count_overlap_features(Pst_104E_secretome_bed,filtered_bed_fn)"
   ]
  },
  {
   "cell_type": "code",
   "execution_count": 171,
   "metadata": {
    "ExecuteTime": {
     "end_time": "2019-04-30T03:15:34.333257Z",
     "start_time": "2019-04-30T03:15:34.246684Z"
    },
    "collapsed": true
   },
   "outputs": [],
   "source": [
    "Pst_104E_random_fn = [os.path.join(SRM_cov_rand_outdir, x) for x in os.listdir(SRM_cov_rand_outdir) if x.startswith('Pst')]"
   ]
  },
  {
   "cell_type": "code",
   "execution_count": 39,
   "metadata": {
    "ExecuteTime": {
     "end_time": "2019-05-01T04:50:42.333190Z",
     "start_time": "2019-05-01T04:50:42.291650Z"
    }
   },
   "outputs": [
    {
     "ename": "NameError",
     "evalue": "name 'Pst_104E_random_fn' is not defined",
     "output_type": "error",
     "traceback": [
      "\u001b[0;31m---------------------------------------------------------------------------\u001b[0m",
      "\u001b[0;31mNameError\u001b[0m                                 Traceback (most recent call last)",
      "\u001b[0;32m<ipython-input-39-44da965a0923>\u001b[0m in \u001b[0;36m<module>\u001b[0;34m()\u001b[0m\n\u001b[0;32m----> 1\u001b[0;31m \u001b[0mPst_104E_random_fn\u001b[0m\u001b[0;34m.\u001b[0m\u001b[0msort\u001b[0m\u001b[0;34m(\u001b[0m\u001b[0;34m)\u001b[0m\u001b[0;34m\u001b[0m\u001b[0m\n\u001b[0m",
      "\u001b[0;31mNameError\u001b[0m: name 'Pst_104E_random_fn' is not defined"
     ]
    }
   ],
   "source": [
    "Pst_104E_random_fn.sor"
   ]
  },
  {
   "cell_type": "code",
   "execution_count": 153,
   "metadata": {
    "ExecuteTime": {
     "end_time": "2019-04-30T00:56:25.857497Z",
     "start_time": "2019-04-30T00:46:44.018617Z"
    },
    "collapsed": true
   },
   "outputs": [],
   "source": [
    "Pst_secretome_index = []\n",
    "Pst_secretome_value = []\n",
    "for x in Pst_104E_random_fn:\n",
    "    Pst_secretome_index.append(int(x.split('.')[-2].replace('random_','')))\n",
    "    Pst_secretome_value.append(count_overlap_features(Pst_104E_secretome_bed, x))\n",
    "    "
   ]
  },
  {
   "cell_type": "code",
   "execution_count": 173,
   "metadata": {
    "ExecuteTime": {
     "end_time": "2019-04-30T03:15:42.774404Z",
     "start_time": "2019-04-30T03:15:42.194432Z"
    }
   },
   "outputs": [
    {
     "data": {
      "image/png": "[encoded data removed]",
      "text/plain": [
       "<Figure size 288x504 with 1 Axes>"
      ]
     },
     "metadata": {},
     "output_type": "display_data"
    }
   ],
   "source": [
    "overlap = count_overlap_features(Pst_104E_secretome_bed,filtered_bed_fn)\n",
    "random_values = Pst_secretome_value\n",
    "\n",
    "count = 0 \n",
    "for i in random_values:\n",
    "    if i > overlap:\n",
    "        count += 1\n",
    "p = count/len(random_values)\n",
    "\n",
    "\n",
    "\n",
    "f, ax = plt.subplots(figsize=(4, 7))\n",
    "plt.style.use('fast')\n",
    "sns.violinplot(y=random_values, color='c')\n",
    "plt.axhline(y=overlap, color='r', linestyle='-')\n",
    "#plt.title(heading, fontsize=16)\n",
    "plt.ylabel('Number of overlapping genes', fontsize=16)\n",
    "plt.xlabel('p=' + str(p), fontsize=16)\n",
    "plt.rc('xtick', labelsize=16)\n",
    "plt.rc('ytick', labelsize=16)"
   ]
  },
  {
   "cell_type": "code",
   "execution_count": 222,
   "metadata": {
    "ExecuteTime": {
     "end_time": "2019-04-30T05:25:53.721300Z",
     "start_time": "2019-04-30T05:25:53.622561Z"
    }
   },
   "outputs": [
    {
     "data": {
      "text/plain": [
       "126"
      ]
     },
     "execution_count": 222,
     "metadata": {},
     "output_type": "execute_result"
    }
   ],
   "source": [
    "count_overlap_features(Pst_104E_dict['Busco'], filtered_bed_fn)"
   ]
  },
  {
   "cell_type": "code",
   "execution_count": 223,
   "metadata": {
    "ExecuteTime": {
     "end_time": "2019-04-30T05:25:54.785276Z",
     "start_time": "2019-04-30T05:25:54.642552Z"
    }
   },
   "outputs": [
    {
     "data": {
      "text/plain": [
       "1877"
      ]
     },
     "execution_count": 223,
     "metadata": {},
     "output_type": "execute_result"
    }
   ],
   "source": [
    "count_overlap_features(Pst_104E_allgene_bed_fn,Pst_104E_random_fn[900])"
   ]
  },
  {
   "cell_type": "code",
   "execution_count": 224,
   "metadata": {
    "ExecuteTime": {
     "end_time": "2019-04-30T05:25:55.873269Z",
     "start_time": "2019-04-30T05:25:55.722620Z"
    }
   },
   "outputs": [
    {
     "data": {
      "text/plain": [
       "2394"
      ]
     },
     "execution_count": 224,
     "metadata": {},
     "output_type": "execute_result"
    }
   ],
   "source": [
    "count_overlap_features(Pst_104E_allgene_bed_fn,filtered_bed_fn)"
   ]
  },
  {
   "cell_type": "code",
   "execution_count": 207,
   "metadata": {
    "ExecuteTime": {
     "end_time": "2019-04-30T05:23:34.973283Z",
     "start_time": "2019-04-30T05:23:34.934866Z"
    }
   },
   "outputs": [
    {
     "data": {
      "text/plain": [
       "(0.95412657761736053, 0.25913854377075035)"
      ]
     },
     "execution_count": 207,
     "metadata": {},
     "output_type": "execute_result"
    }
   ],
   "source": [
    "fisher_exact([[810, 4637], [4454, 30249]])"
   ]
  },
  {
   "cell_type": "code",
   "execution_count": 187,
   "metadata": {
    "ExecuteTime": {
     "end_time": "2019-04-30T03:21:18.998455Z",
     "start_time": "2019-04-30T03:21:18.989405Z"
    }
   },
   "outputs": [
    {
     "data": {
      "text/plain": [
       "(6.7778113004097476, 0.0)"
      ]
     },
     "execution_count": 187,
     "metadata": {},
     "output_type": "execute_result"
    }
   ],
   "source": [
    "fisher_exact([[1039, 4637], [1000, 30249]])"
   ]
  },
  {
   "cell_type": "code",
   "execution_count": 225,
   "metadata": {
    "ExecuteTime": {
     "end_time": "2019-04-30T05:26:13.137248Z",
     "start_time": "2019-04-30T05:26:13.106593Z"
    }
   },
   "outputs": [
    {
     "data": {
      "text/plain": [
       "(0.57892822966507174, 4.4873123857584314e-10)"
      ]
     },
     "execution_count": 225,
     "metadata": {},
     "output_type": "execute_result"
    }
   ],
   "source": [
    "fisher_exact([[126, 2750], [2394, 30249]])"
   ]
  },
  {
   "cell_type": "code",
   "execution_count": 179,
   "metadata": {
    "ExecuteTime": {
     "end_time": "2019-04-30T03:18:37.449264Z",
     "start_time": "2019-04-30T03:18:37.229179Z"
    }
   },
   "outputs": [
    {
     "name": "stdout",
     "output_type": "stream",
     "text": [
      "  30249  181494 1379342\r\n"
     ]
    }
   ],
   "source": [
    "!cat {Pst_104E_allgene_bed_fn} | wc"
   ]
  },
  {
   "cell_type": "code",
   "execution_count": 180,
   "metadata": {
    "ExecuteTime": {
     "end_time": "2019-04-30T03:18:50.832007Z",
     "start_time": "2019-04-30T03:18:50.594749Z"
    }
   },
   "outputs": [
    {
     "name": "stdout",
     "output_type": "stream",
     "text": [
      "   4637   27822  211767\r\n"
     ]
    }
   ],
   "source": [
    "!cat {Pst_104E_secretome_bed_fn} | wc"
   ]
  },
  {
   "cell_type": "code",
   "execution_count": 196,
   "metadata": {
    "ExecuteTime": {
     "end_time": "2019-04-30T03:53:34.365263Z",
     "start_time": "2019-04-30T03:53:34.172416Z"
    }
   },
   "outputs": [
    {
     "name": "stdout",
     "output_type": "stream",
     "text": [
      "   2740   16440  125170\r\n"
     ]
    }
   ],
   "source": [
    "!cat {Pst_104E_dict['Busco']} | wc"
   ]
  },
  {
   "cell_type": "code",
   "execution_count": 190,
   "metadata": {
    "ExecuteTime": {
     "end_time": "2019-04-30T03:22:29.065174Z",
     "start_time": "2019-04-30T03:22:29.029397Z"
    }
   },
   "outputs": [
    {
     "data": {
      "text/plain": [
       "26696752"
      ]
     },
     "execution_count": 190,
     "metadata": {},
     "output_type": "execute_result"
    }
   ],
   "source": [
    "non_covered_bases(BedTool(Pst_104E_random_fn[2]).to_dataframe())"
   ]
  },
  {
   "cell_type": "code",
   "execution_count": null,
   "metadata": {
    "collapsed": true
   },
   "outputs": [],
   "source": []
  }
 ],
 "metadata": {
  "kernelspec": {
   "display_name": "Python [default]",
   "language": "python",
   "name": "python3"
  },
  "language_info": {
   "codemirror_mode": {
    "name": "ipython",
    "version": 3
   },
   "file_extension": ".py",
   "mimetype": "text/x-python",
   "name": "python",
   "nbconvert_exporter": "python",
   "pygments_lexer": "ipython3",
   "version": "3.5.4"
  },
  "toc": {
   "nav_menu": {},
   "number_sections": true,
   "sideBar": true,
   "skip_h1_title": false,
   "title_cell": "Table of Contents",
   "title_sidebar": "Contents",
   "toc_cell": false,
   "toc_position": {},
   "toc_section_display": true,
   "toc_window_display": false
  }
 },
 "nbformat": 4,
 "nbformat_minor": 2
}
