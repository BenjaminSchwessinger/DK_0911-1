{
 "cells": [
  {
   "cell_type": "markdown",
   "metadata": {},
   "source": [
    "#### Presence absence analysis of the DK0911 genome\n",
    "\n",
    "Different level of analysis  \n",
    "- mapping\n",
    "- whole genome alignment\n",
    "- synteny\n",
    "- orthology  \n",
    "\n",
    "both ways with\n",
    "- genes\n",
    "- TEs"
   ]
  },
  {
   "cell_type": "markdown",
   "metadata": {
    "collapsed": true
   },
   "source": [
    "#### What to get\n",
    "\n",
    "- Pull in all the lowcov at different level and substract out the own files at the same level. Use bedtools subtract.\n",
    "- Do some randomization for the lowcov and the WGA mapping. This can hopefully be used to test for specificty in losses. If not do a X-square or fisher exact test.\n",
    "- Pull in all the TE files at the superfamily and family level to see what is missing in the different genomes from each other. Ask the question if certain subfamiles are more likely different.\n",
    "- Maybe use LTRs to look for the divergence time. This could be great to see when they last had a common ancestor."
   ]
  },
  {
   "cell_type": "markdown",
   "metadata": {},
   "source": [
    "#### Usefull folders\n",
    "\n",
    "- Warrior TE analysis: /home/benjamin/genome_assembly/Warrior/TE_analysis\n",
    "- Pst_104_TE analysis: /home/benjamin/genome_assembly/PST79/FALCON/p_assemblies/v9_1/Pst_104E_v12/Warrior_comp_runs/REPET/TE_analysis\n",
    "- comparative coverage: /home/benjamin/genome_assembly/Warrior/TE_analysis\n"
   ]
  },
  {
   "cell_type": "markdown",
   "metadata": {},
   "source": [
    "## Start with filtering the mapping files at the appropriate level"
   ]
  },
  {
   "cell_type": "code",
   "execution_count": 1,
   "metadata": {
    "ExecuteTime": {
     "end_time": "2019-08-27T04:30:49.429269Z",
     "start_time": "2019-08-27T04:30:49.091351Z"
    },
    "collapsed": true
   },
   "outputs": [],
   "source": [
    "%matplotlib inline"
   ]
  },
  {
   "cell_type": "code",
   "execution_count": 65,
   "metadata": {
    "ExecuteTime": {
     "end_time": "2019-08-28T08:45:19.179976Z",
     "start_time": "2019-08-28T08:45:19.166110Z"
    },
    "collapsed": true
   },
   "outputs": [],
   "source": [
    "import os\n",
    "from pybedtools import BedTool\n",
    "import pandas as pd\n",
    "import scipy\n",
    "import pandas as pd\n",
    "import numpy as np # need for  stats\n",
    "import matplotlib.pyplot as plt\n",
    "import seaborn as sns\n",
    "import re\n",
    "import matplotlib\n",
    "from scipy.stats import mannwhitneyu\n",
    "from scipy.stats import fisher_exact\n",
    "from scipy.stats import spearmanr\n",
    "from scipy.stats import wilcoxon\n",
    "from scipy.stats import kruskal\n",
    "from statsmodels.stats.multitest import multipletests\n",
    "from seaborn import boxenplot\n",
    "import pybedtools"
   ]
  },
  {
   "cell_type": "code",
   "execution_count": 3,
   "metadata": {
    "ExecuteTime": {
     "end_time": "2019-08-27T04:30:50.525139Z",
     "start_time": "2019-08-27T04:30:50.514175Z"
    },
    "collapsed": true
   },
   "outputs": [],
   "source": [
    "SRM_cov_dir = '/home/benjamin/genome_assembly/Warrior/DK0911_v04/comp_COV/SRM_mapping'\n",
    "SRM_cov_outdir = os.path.join(SRM_cov_dir, 'filtered')\n",
    "SRM_cov_rand_outdir = os.path.join(SRM_cov_outdir, 'randomized')\n",
    "DK0911_genome_file_fn = '/home/benjamin/genome_assembly/Warrior/genome_v04/DK_0911_v04_ph_ctg.genome_file'\n",
    "Pst_104E_genome_file_fn = \\\n",
    "'/home/benjamin/genome_assembly/PST79/FALCON/p_assemblies/v9_1/092017_assembly/Pst_104E_v13_ph_ctg.genome_file'\n",
    "if not os.path.exists(SRM_cov_outdir):\n",
    "    os.mkdir(SRM_cov_outdir)\n",
    "if not os.path.exists(SRM_cov_rand_outdir):\n",
    "    os.mkdir(SRM_cov_rand_outdir)"
   ]
  },
  {
   "cell_type": "code",
   "execution_count": 4,
   "metadata": {
    "ExecuteTime": {
     "end_time": "2019-08-27T04:30:50.542156Z",
     "start_time": "2019-08-27T04:30:50.527910Z"
    },
    "collapsed": true
   },
   "outputs": [],
   "source": [
    "#look at the mummer coverage as well\n",
    "WGA_cov_dir = '/home/benjamin/genome_assembly/Warrior/DK0911_v04/comp_COV/mummer4/'\n",
    "WGA_cov_rand_outdir = os.path.join(WGA_cov_dir, 'randomized')\n",
    "if not os.path.exists(WGA_cov_rand_outdir):\n",
    "    os.mkdir(WGA_cov_rand_outdir)\n",
    "OUT_dir = '/home/benjamin/genome_assembly/Warrior/DK0911_v04/comp_COV/analysis'"
   ]
  },
  {
   "cell_type": "code",
   "execution_count": 5,
   "metadata": {
    "ExecuteTime": {
     "end_time": "2019-08-27T04:30:50.558305Z",
     "start_time": "2019-08-27T04:30:50.544747Z"
    },
    "collapsed": true
   },
   "outputs": [],
   "source": [
    "###all the bedfiles\n",
    "Pst_104E_annotation_dir = '/home/benjamin/genome_assembly/Warrior/DK0911_v04/comp_orthology/Pst104E_annotations/'\n",
    "Pst_104E_dict = {}\n",
    "Pst_104E_dict['Busco'] = os.path.join(Pst_104E_annotation_dir, 'Pst_104E_v13_ph_ctg.busco.gene.bed')\n",
    "Pst_104E_dict['All_genes'] = os.path.join(Pst_104E_annotation_dir, 'Pst_104E_v13_ph_ctg.genes.gene.bed')\n",
    "Pst_104E_dict['Secretome'] = os.path.join(Pst_104E_annotation_dir, 'Pst_104E_v13_ph_ctg.secretome.gene.bed')\n",
    "Pst_104E_dict['Ceffectors'] = os.path.join(Pst_104E_annotation_dir, 'Pst_104E_v13_ph_ctg.ceffectors.gene.bed')\n",
    "Pst_104E_dict['EffectorP'] = os.path.join(Pst_104E_annotation_dir, 'Pst_104E_v13_ph_ctg.effectorp.gene.bed')\n",
    "Pst_104E_dict['TE_superfamily'] = os.path.join(Pst_104E_annotation_dir, 'Pst_104E_v13_ph_ctg.104Ep_DK0911p.REPET.superfamily.gff')"
   ]
  },
  {
   "cell_type": "code",
   "execution_count": 6,
   "metadata": {
    "ExecuteTime": {
     "end_time": "2019-08-27T04:30:50.573089Z",
     "start_time": "2019-08-27T04:30:50.560747Z"
    },
    "collapsed": true
   },
   "outputs": [],
   "source": [
    "###all the bedfiles\n",
    "DK0911_annotation_dir = '/home/benjamin/genome_assembly/Warrior/DK0911_v04/comp_orthology/DK0911_annotations/'\n",
    "DK0911_dict = {}\n",
    "DK0911_dict['Busco'] = os.path.join(DK0911_annotation_dir, 'DK_0911_v04_ph_ctg.busco.gene.bed')\n",
    "DK0911_dict['All_genes'] = os.path.join(DK0911_annotation_dir, 'DK_0911_v04_ph_ctg.genes.gene.bed')\n",
    "DK0911_dict['Secretome'] = os.path.join(DK0911_annotation_dir, 'DK_0911_v04_ph_ctg.secretome.gene.bed')\n",
    "DK0911_dict['Ceffectors'] = os.path.join(DK0911_annotation_dir, 'DK_0911_v04_ph_ctg.effectorp20.gene.bed')\n",
    "DK0911_dict['EffectorP'] = os.path.join(DK0911_annotation_dir, 'DK_0911_v04_ph_ctg.effectorp20.gene.bed')\n",
    "DK0911_dict['TE_superfamily'] = os.path.join(DK0911_annotation_dir, 'DK_0911_v04_ph_ctg.104Ep_DK0911p.REPET.superfamily.gff')"
   ]
  },
  {
   "cell_type": "code",
   "execution_count": 66,
   "metadata": {
    "ExecuteTime": {
     "end_time": "2019-08-28T08:45:29.268168Z",
     "start_time": "2019-08-28T08:45:29.264962Z"
    },
    "collapsed": true
   },
   "outputs": [],
   "source": [
    "##OUTPATH for figures\n",
    "OUTPATH='/home/benjamin/genome_assembly/Warrior/DK0911_v04/figures'"
   ]
  },
  {
   "cell_type": "code",
   "execution_count": 7,
   "metadata": {
    "ExecuteTime": {
     "end_time": "2019-08-27T04:30:50.593215Z",
     "start_time": "2019-08-27T04:30:50.575246Z"
    },
    "collapsed": true
   },
   "outputs": [],
   "source": [
    "def filter_bed(pairing):\n",
    "    \"\"\"Filter bedfiels by substracting one from the other and return resulting bed as dataframe.\n",
    "    Input: Tripled pairing of abs file path target, reference, ouf filename.\"\"\"\n",
    "    traget_bed_fn = pairing[0]\n",
    "    ref_bed_fn = pairing[1]\n",
    "    out_fn = pairing[2]\n",
    "    if not traget_bed_fn.split('.')[-1] == ref_bed_fn.split('.')[-1]:\n",
    "        print('oh no!')\n",
    "    traget_bed = BedTool(traget_bed_fn)\n",
    "    ref_bed = BedTool(ref_bed_fn)\n",
    "    filtered_bed = traget_bed.subtract(ref_bed).saveas(out_fn)\n",
    "    pybedtools.cleanup()\n",
    "    return filtered_bed.to_dataframe()"
   ]
  },
  {
   "cell_type": "code",
   "execution_count": 8,
   "metadata": {
    "ExecuteTime": {
     "end_time": "2019-08-27T04:30:50.600079Z",
     "start_time": "2019-08-27T04:30:50.595731Z"
    },
    "collapsed": true
   },
   "outputs": [],
   "source": [
    "def non_covered_bases(df):\n",
    "    \"\"\"Calculate the coverage of a bed file provided as dataframe.\"\"\"\n",
    "    return sum(df['end'] - df['start'])"
   ]
  },
  {
   "cell_type": "code",
   "execution_count": 9,
   "metadata": {
    "ExecuteTime": {
     "end_time": "2019-08-27T04:30:50.612493Z",
     "start_time": "2019-08-27T04:30:50.602418Z"
    },
    "collapsed": true
   },
   "outputs": [],
   "source": [
    "def randomize_bed(bed_in, genome_file_fn, out_dir, n=10):\n",
    "    \"\"\"Randomize a bedfile using shuffle of bedtools.\"\"\"\n",
    "    out_fn = os.path.join(out_dir, os.path.basename(bed_in).replace('.bed', '.random_%s.bed'))\n",
    "    bed = BedTool(bed_in)\n",
    "    for x in range(0, n):\n",
    "        bed.shuffle(g=genome_file_fn).saveas(out_fn % x)\n",
    "    pybedtools.cleanup()"
   ]
  },
  {
   "cell_type": "code",
   "execution_count": 10,
   "metadata": {
    "ExecuteTime": {
     "end_time": "2019-08-27T04:30:50.620987Z",
     "start_time": "2019-08-27T04:30:50.614994Z"
    },
    "collapsed": true
   },
   "outputs": [],
   "source": [
    "def count_overlap_features(feature_bed, absence_bed, min_f_overlap):\n",
    "    \"\"\"Count the number of unqiue genes that intersect witht basence bedfile.\"\"\"\n",
    "    filtered_bed = BedTool(absence_bed)\n",
    "    target_bed = BedTool(feature_bed)\n",
    "    return target_bed.intersect(filtered_bed, f=min_f_overlap).to_dataframe().name.unique().shape[0]"
   ]
  },
  {
   "cell_type": "code",
   "execution_count": 11,
   "metadata": {
    "ExecuteTime": {
     "end_time": "2019-08-27T04:30:50.654308Z",
     "start_time": "2019-08-27T04:30:50.623127Z"
    },
    "collapsed": true
   },
   "outputs": [],
   "source": [
    "def summary_dict_to_df(summary_dict, outer_index, inner_index):\n",
    "    \"\"\"Convert as summary dict with multiple keys and values of same length. To a multiindex dataframe.\"\"\"\n",
    "    assert(outer_index[0:int(len(outer_index)/2)] == outer_index[int(len(outer_index)/2):])\n",
    "    assert(inner_index[0:int(len(inner_index)/2)] == inner_index[int(len(inner_index)/2):])\n",
    "    df = pd.DataFrame.from_dict(summary_dict)\n",
    "    if any([x for x in outer_index if x.startswith('0')]):\n",
    "        df['Cut_off'] = [float(x.replace('0','.')) for x in outer_index[0:int(len(outer_index)/2)]]\n",
    "    else:\n",
    "        df['Cut_off'] = [float(x) for x in outer_index[0:int(len(outer_index)/2)]]\n",
    "    df['Type'] = inner_index[0:int(len(inner_index)/2)]\n",
    "    df.sort_values(['Cut_off', 'Type'], inplace = True)\n",
    "    index = pd.MultiIndex.from_tuples(list(zip(df['Cut_off'] , df['Type'])), names=['Cut-off', 'Type'])\n",
    "    df.index = index\n",
    "    return df.loc[:, df.columns[:2]].copy()"
   ]
  },
  {
   "cell_type": "code",
   "execution_count": 12,
   "metadata": {
    "ExecuteTime": {
     "end_time": "2019-08-27T04:30:50.664801Z",
     "start_time": "2019-08-27T04:30:50.656277Z"
    },
    "collapsed": true
   },
   "outputs": [],
   "source": [
    "def get_TE_sf_df(fn):    \n",
    "    TE_header = ['Chrom', 'source', 'type', 'start', 'stop', 'score', 'strand', 'blank', 'superfamily']\n",
    "    TE_df = pd.read_csv(fn, sep='\\t', header = None, names=TE_header)\n",
    "    TE_df[\"interval\"] = TE_df.stop - TE_df.start + 1\n",
    "    TE_sf_cov_df= TE_df.groupby('superfamily')['interval'].sum()\n",
    "    return TE_sf_cov_df"
   ]
  },
  {
   "cell_type": "code",
   "execution_count": 13,
   "metadata": {
    "ExecuteTime": {
     "end_time": "2019-08-27T04:30:50.680547Z",
     "start_time": "2019-08-27T04:30:50.667180Z"
    },
    "collapsed": true
   },
   "outputs": [],
   "source": [
    "def count_base_overlap_TE(feature_bed, absence_bed):\n",
    "    \"\"\"Count the number of basepair overlaps of a gff file with that intersect of \n",
    "    a basence bedfile.\n",
    "    Returns a series containing gff attributes as index and sum of missing bases as value.\"\"\"\n",
    "    filtered_bed = BedTool(absence_bed)\n",
    "    target_bed = BedTool(feature_bed)\n",
    "    overlap_df = target_bed.intersect(filtered_bed).to_dataframe()\n",
    "    overlap_df['interval'] = overlap_df.end - overlap_df.start + 1\n",
    "    overlap_sf_cov_df = overlap_df.groupby('attributes')['interval'].sum()\n",
    "    pybedtools.cleanup()\n",
    "    return overlap_sf_cov_df"
   ]
  },
  {
   "cell_type": "code",
   "execution_count": 14,
   "metadata": {
    "ExecuteTime": {
     "end_time": "2019-08-27T04:30:50.747970Z",
     "start_time": "2019-08-27T04:30:50.682231Z"
    },
    "collapsed": true
   },
   "outputs": [],
   "source": [
    "def plot_TE_cov_expect(genome, TE_random_dict, color, out_fn):\n",
    "    TE_random_df = pd.concat(TE_random_dict, axis=1, sort=True)\n",
    "    TE_random_df.fillna(0, inplace=True)\n",
    "    rows = len(TE_random_df.index)//5\n",
    "    f1, ax = plt.subplots(rows, 5, figsize=(20, 30))\n",
    "\n",
    "\n",
    "    for key,y in zip(TE_random_df.index, product(range(0, rows), range(0,5))):\n",
    "        overlap = TE_sf_cov_dict[genome][key]\n",
    "        random_values = TE_random_df.loc[key,:]\n",
    "        count = 0 \n",
    "        for i in random_values:\n",
    "            if i > overlap:\n",
    "                count += 1\n",
    "        p = count/len(random_values)\n",
    "\n",
    "        two_side_p = 2*p\n",
    "\n",
    "        if two_side_p > 1:\n",
    "            two_side_p = round(2 - two_side_p, 3)\n",
    "        else:\n",
    "            two_side_p = round(two_side_p, 3)\n",
    "        sns.violinplot(y=random_values, color=color, ax=ax[y[0], y[1]])\n",
    "        ax[y[0], y[1]].axhline(y=overlap, color='r', linestyle='-')\n",
    "        ax[y[0], y[1]].set_title(key, fontsize=16)\n",
    "        ax[y[0], y[1]].set_yticklabels([])\n",
    "        ax[y[0], y[1]].set_ylabel('')\n",
    "        ax[y[0], y[1]].set_xlabel('p=' + str(two_side_p), fontsize=16)\n",
    "        ax[y[0] ,0].set_ylabel('Number of overlapping bases', fontsize=16)\n",
    "    plt.tight_layout()\n",
    "    #f1.suptitle(os.path.basename(out_fn))\n",
    "    plt.savefig(out_fn, dpi =300)\n",
    "    return f1"
   ]
  },
  {
   "cell_type": "code",
   "execution_count": 15,
   "metadata": {
    "ExecuteTime": {
     "end_time": "2019-08-27T04:30:50.752044Z",
     "start_time": "2019-08-27T04:30:50.749741Z"
    },
    "collapsed": true
   },
   "outputs": [],
   "source": [
    "from itertools import product"
   ]
  },
  {
   "cell_type": "markdown",
   "metadata": {},
   "source": [
    "### Get some input values sorted"
   ]
  },
  {
   "cell_type": "code",
   "execution_count": 16,
   "metadata": {
    "ExecuteTime": {
     "end_time": "2019-08-27T04:30:52.517982Z",
     "start_time": "2019-08-27T04:30:50.753699Z"
    },
    "collapsed": true
   },
   "outputs": [],
   "source": [
    "genome_size_dict = {}\n",
    "genome_size_dict['DK0911'] = pd.read_csv(DK0911_genome_file_fn, sep='\\t',header = None)[1].sum()\n",
    "genome_size_dict['Pst_104E'] = pd.read_csv(Pst_104E_genome_file_fn, sep='\\t',header = None)[1].sum()\n",
    "TE_sf_cov_dict = {}\n",
    "TE_sf_cov_dict['DK0911'] = get_TE_sf_df(DK0911_dict['TE_superfamily'])\n",
    "TE_sf_cov_dict['Pst_104E'] = get_TE_sf_df(Pst_104E_dict['TE_superfamily'])"
   ]
  },
  {
   "cell_type": "markdown",
   "metadata": {},
   "source": [
    "### This part looks at generating filtered bed files and random shuffled bed files for 0.3 cut-off\n",
    "\n",
    "The 0.3 coverage cut-off is choosen based on the DK0911 BUSCOs being pretty stable until this coverage cut-off."
   ]
  },
  {
   "cell_type": "code",
   "execution_count": 17,
   "metadata": {
    "ExecuteTime": {
     "end_time": "2019-08-27T04:30:52.524348Z",
     "start_time": "2019-08-27T04:30:52.520515Z"
    },
    "collapsed": true
   },
   "outputs": [],
   "source": [
    "all_bed_fns = [os.path.join(SRM_cov_dir, x) for x in os.listdir(SRM_cov_dir) if x.endswith('bed') ] "
   ]
  },
  {
   "cell_type": "code",
   "execution_count": 18,
   "metadata": {
    "ExecuteTime": {
     "end_time": "2019-08-27T04:30:52.545735Z",
     "start_time": "2019-08-27T04:30:52.526857Z"
    },
    "collapsed": true
   },
   "outputs": [],
   "source": [
    "references = [x for x in all_bed_fns if os.path.basename(x).startswith('DK_0911_v04_ph_ctg.bwamem.DK0911_gDNA.RG.')\\\n",
    "              or  os.path.basename(x).startswith('Pst_104E_v13_ph_ctg.bwamem.Pst79_folder5.')]\n",
    "references.sort()\n",
    "\n",
    "targets = [x for x in all_bed_fns if x not in references]\n",
    "targets.sort()\n",
    "\n",
    "out_fns = [os.path.join(SRM_cov_outdir, os.path.basename(x).replace('bed','.filtered.bed')) for x in targets]\n",
    "\n",
    "pairings = [x for x in zip(targets,references, out_fns)]"
   ]
  },
  {
   "cell_type": "code",
   "execution_count": 19,
   "metadata": {
    "ExecuteTime": {
     "end_time": "2019-08-27T04:30:53.753734Z",
     "start_time": "2019-08-27T04:30:52.548165Z"
    },
    "collapsed": true
   },
   "outputs": [],
   "source": [
    "#filter the parings\n",
    "for pair in pairings:\n",
    "    filter_bed(pair)"
   ]
  },
  {
   "cell_type": "code",
   "execution_count": 20,
   "metadata": {
    "ExecuteTime": {
     "end_time": "2019-08-27T04:30:53.763079Z",
     "start_time": "2019-08-27T04:30:53.756353Z"
    }
   },
   "outputs": [
    {
     "name": "stdout",
     "output_type": "stream",
     "text": [
      "This is the file that got randomized: /home/benjamin/genome_assembly/Warrior/DK0911_v04/comp_COV/SRM_mapping/filtered/DK_0911_v04_ph_ctg.bwamem.Pst79_TS.RG.mark_dup.ph_window_w1000s200.ph_mapping.lowcov01.filtered.bed\n",
      "\n",
      "\n",
      "This is the file that got randomized: /home/benjamin/genome_assembly/Warrior/DK0911_v04/comp_COV/SRM_mapping/filtered/Pst_104E_v13_ph_ctg.bwamem.DK0911_gDNA.ph_window_w1000s200.ph_mapping.lowcov01.filtered.bed\n",
      "\n",
      "\n"
     ]
    }
   ],
   "source": [
    "print(\"This is the file that got randomized: %s\\n\\n\" % pairings[0][2])\n",
    "print(\"This is the file that got randomized: %s\\n\\n\" % pairings[-8][2])"
   ]
  },
  {
   "cell_type": "code",
   "execution_count": 21,
   "metadata": {
    "ExecuteTime": {
     "end_time": "2019-08-27T04:35:33.021080Z",
     "start_time": "2019-08-27T04:30:53.765703Z"
    },
    "collapsed": true
   },
   "outputs": [],
   "source": [
    "#randomize the bedfiles of the lowcov targted. Yet first look at the results of fishers exact tests and\n",
    "#pick the appropriate coveraged cut off\n",
    "randomize_bed(pairings[-8][2], Pst_104E_genome_file_fn, SRM_cov_rand_outdir, n=5000)\n",
    "randomize_bed(pairings[0][2], DK0911_genome_file_fn, SRM_cov_rand_outdir, n=5000)"
   ]
  },
  {
   "cell_type": "markdown",
   "metadata": {},
   "source": [
    "### The next session compares the observed low coverage regions with different genes types in the two isolates\n",
    "First the results are saved in a dictionary and then converted to a multiindex dataframe"
   ]
  },
  {
   "cell_type": "code",
   "execution_count": 22,
   "metadata": {
    "ExecuteTime": {
     "end_time": "2019-08-27T04:35:33.031466Z",
     "start_time": "2019-08-27T04:35:33.024246Z"
    }
   },
   "outputs": [
    {
     "data": {
      "text/plain": [
       "dict_keys(['Ceffectors', 'Busco', 'Secretome', 'EffectorP', 'TE_superfamily', 'All_genes'])"
      ]
     },
     "execution_count": 22,
     "metadata": {},
     "output_type": "execute_result"
    }
   ],
   "source": [
    "Pst_104E_dict.keys()"
   ]
  },
  {
   "cell_type": "code",
   "execution_count": 23,
   "metadata": {
    "ExecuteTime": {
     "end_time": "2019-08-27T04:35:33.035975Z",
     "start_time": "2019-08-27T04:35:33.033228Z"
    },
    "collapsed": true
   },
   "outputs": [],
   "source": [
    "keys = ['All_genes','Busco', 'Ceffectors',  'EffectorP',   'Secretome']"
   ]
  },
  {
   "cell_type": "code",
   "execution_count": 24,
   "metadata": {
    "ExecuteTime": {
     "end_time": "2019-08-27T04:35:43.017738Z",
     "start_time": "2019-08-27T04:35:33.038241Z"
    },
    "collapsed": true
   },
   "outputs": [],
   "source": [
    "Fishers_summary_dict = {}\n",
    "Absence_summary_dict = {}\n",
    "outer_index = [] #being the cut off\n",
    "inner_index = [] #being the type of gene to look at\n",
    "Fishers_summary_dict['DK0911'] = []\n",
    "Fishers_summary_dict['Pst_104E'] = []\n",
    "Absence_summary_dict['DK0911'] = []\n",
    "Absence_summary_dict['Pst_104E'] = []\n",
    "min_overlap = 1\n",
    "keys = ['All_genes','Busco', 'Ceffectors',  'EffectorP',   'Secretome']\n",
    "#pair[2] is the filtered lowcov file as reference\n",
    "for pair in pairings:\n",
    "    if os.path.basename(pair[2]).startswith('DK_0911'):\n",
    "        expect_list = [count_overlap_features(DK0911_dict['All_genes'],pair[2],min_overlap) ,\\\n",
    "                       pd.read_csv(DK0911_dict['All_genes'], sep='\\t').shape[0]]\n",
    "        cut_off = os.path.basename(pair[2]).split('.')[-3].replace('lowcov', '')\n",
    "        for key in keys:\n",
    "            inner_index.append(key)\n",
    "            outer_index.append(cut_off)\n",
    "            test_list = [count_overlap_features(DK0911_dict[key],pair[2],min_overlap),\\\n",
    "                         pd.read_csv(DK0911_dict[key], sep='\\t').shape[0]]\n",
    "            Fishers_summary_dict['DK0911'].append(fisher_exact([test_list, expect_list])[1])\n",
    "            Absence_summary_dict['DK0911'].append(count_overlap_features(DK0911_dict[key],pair[2],min_overlap))\n",
    "    if os.path.basename(pair[2]).startswith('Pst_104E_v13_ph_ctg'):\n",
    "        expect_list = [count_overlap_features(Pst_104E_dict['All_genes'],pair[2],min_overlap) ,\\\n",
    "                       pd.read_csv(Pst_104E_dict['All_genes'], sep='\\t').shape[0]]\n",
    "        cut_off = os.path.basename(pair[2]).split('.')[-3].replace('lowcov', '')\n",
    "        for key in keys:\n",
    "            inner_index.append(key)\n",
    "            outer_index.append(cut_off)\n",
    "            test_list = [count_overlap_features(Pst_104E_dict[key],pair[2],min_overlap),\\\n",
    "                         pd.read_csv(Pst_104E_dict[key], sep='\\t').shape[0]]\n",
    "            Fishers_summary_dict['Pst_104E'].append(fisher_exact([test_list, expect_list])[1])\n",
    "            Absence_summary_dict['Pst_104E'].append(count_overlap_features(Pst_104E_dict[key],pair[2],min_overlap))"
   ]
  },
  {
   "cell_type": "code",
   "execution_count": 25,
   "metadata": {
    "ExecuteTime": {
     "end_time": "2019-08-27T04:35:43.040340Z",
     "start_time": "2019-08-27T04:35:43.020379Z"
    },
    "collapsed": true
   },
   "outputs": [],
   "source": [
    "Fishers_df = summary_dict_to_df(Fishers_summary_dict, outer_index, inner_index)\n",
    "Absence_df = summary_dict_to_df(Absence_summary_dict, outer_index, inner_index)"
   ]
  },
  {
   "cell_type": "code",
   "execution_count": 26,
   "metadata": {
    "ExecuteTime": {
     "end_time": "2019-08-27T04:35:43.109245Z",
     "start_time": "2019-08-27T04:35:43.043645Z"
    }
   },
   "outputs": [
    {
     "data": {
      "text/html": [
       "<div>\n",
       "<style scoped>\n",
       "    .dataframe tbody tr th:only-of-type {\n",
       "        vertical-align: middle;\n",
       "    }\n",
       "\n",
       "    .dataframe tbody tr th {\n",
       "        vertical-align: top;\n",
       "    }\n",
       "\n",
       "    .dataframe thead th {\n",
       "        text-align: right;\n",
       "    }\n",
       "</style>\n",
       "<table border=\"1\" class=\"dataframe\">\n",
       "  <thead>\n",
       "    <tr style=\"text-align: right;\">\n",
       "      <th></th>\n",
       "      <th></th>\n",
       "      <th>DK0911</th>\n",
       "      <th>Pst_104E</th>\n",
       "    </tr>\n",
       "    <tr>\n",
       "      <th>Cut-off</th>\n",
       "      <th>Type</th>\n",
       "      <th></th>\n",
       "      <th></th>\n",
       "    </tr>\n",
       "  </thead>\n",
       "  <tbody>\n",
       "    <tr>\n",
       "      <th rowspan=\"5\" valign=\"top\">0.10</th>\n",
       "      <th>All_genes</th>\n",
       "      <td>1.000000e+00</td>\n",
       "      <td>1.000000e+00</td>\n",
       "    </tr>\n",
       "    <tr>\n",
       "      <th>Busco</th>\n",
       "      <td>2.095908e-12</td>\n",
       "      <td>5.452251e-10</td>\n",
       "    </tr>\n",
       "    <tr>\n",
       "      <th>Ceffectors</th>\n",
       "      <td>3.326086e-02</td>\n",
       "      <td>5.835868e-02</td>\n",
       "    </tr>\n",
       "    <tr>\n",
       "      <th>EffectorP</th>\n",
       "      <td>3.326086e-02</td>\n",
       "      <td>4.918653e-02</td>\n",
       "    </tr>\n",
       "    <tr>\n",
       "      <th>Secretome</th>\n",
       "      <td>1.436923e-06</td>\n",
       "      <td>5.983780e-02</td>\n",
       "    </tr>\n",
       "    <tr>\n",
       "      <th rowspan=\"5\" valign=\"top\">0.20</th>\n",
       "      <th>All_genes</th>\n",
       "      <td>1.000000e+00</td>\n",
       "      <td>1.000000e+00</td>\n",
       "    </tr>\n",
       "    <tr>\n",
       "      <th>Busco</th>\n",
       "      <td>6.310735e-17</td>\n",
       "      <td>3.119838e-08</td>\n",
       "    </tr>\n",
       "    <tr>\n",
       "      <th>Ceffectors</th>\n",
       "      <td>1.857437e-01</td>\n",
       "      <td>1.044646e-01</td>\n",
       "    </tr>\n",
       "    <tr>\n",
       "      <th>EffectorP</th>\n",
       "      <td>1.857437e-01</td>\n",
       "      <td>7.858847e-03</td>\n",
       "    </tr>\n",
       "    <tr>\n",
       "      <th>Secretome</th>\n",
       "      <td>2.056203e-07</td>\n",
       "      <td>1.289605e-01</td>\n",
       "    </tr>\n",
       "    <tr>\n",
       "      <th rowspan=\"5\" valign=\"top\">0.25</th>\n",
       "      <th>All_genes</th>\n",
       "      <td>1.000000e+00</td>\n",
       "      <td>1.000000e+00</td>\n",
       "    </tr>\n",
       "    <tr>\n",
       "      <th>Busco</th>\n",
       "      <td>5.577766e-14</td>\n",
       "      <td>8.647120e-07</td>\n",
       "    </tr>\n",
       "    <tr>\n",
       "      <th>Ceffectors</th>\n",
       "      <td>1.985610e-01</td>\n",
       "      <td>8.101202e-02</td>\n",
       "    </tr>\n",
       "    <tr>\n",
       "      <th>EffectorP</th>\n",
       "      <td>1.985610e-01</td>\n",
       "      <td>6.307230e-03</td>\n",
       "    </tr>\n",
       "    <tr>\n",
       "      <th>Secretome</th>\n",
       "      <td>3.146984e-06</td>\n",
       "      <td>1.803824e-01</td>\n",
       "    </tr>\n",
       "    <tr>\n",
       "      <th rowspan=\"5\" valign=\"top\">0.30</th>\n",
       "      <th>All_genes</th>\n",
       "      <td>1.000000e+00</td>\n",
       "      <td>1.000000e+00</td>\n",
       "    </tr>\n",
       "    <tr>\n",
       "      <th>Busco</th>\n",
       "      <td>1.388569e-17</td>\n",
       "      <td>3.204988e-06</td>\n",
       "    </tr>\n",
       "    <tr>\n",
       "      <th>Ceffectors</th>\n",
       "      <td>9.441717e-02</td>\n",
       "      <td>1.500362e-01</td>\n",
       "    </tr>\n",
       "    <tr>\n",
       "      <th>EffectorP</th>\n",
       "      <td>9.441717e-02</td>\n",
       "      <td>3.009929e-03</td>\n",
       "    </tr>\n",
       "    <tr>\n",
       "      <th>Secretome</th>\n",
       "      <td>7.890919e-08</td>\n",
       "      <td>3.212371e-01</td>\n",
       "    </tr>\n",
       "    <tr>\n",
       "      <th rowspan=\"5\" valign=\"top\">0.35</th>\n",
       "      <th>All_genes</th>\n",
       "      <td>1.000000e+00</td>\n",
       "      <td>1.000000e+00</td>\n",
       "    </tr>\n",
       "    <tr>\n",
       "      <th>Busco</th>\n",
       "      <td>2.021682e-24</td>\n",
       "      <td>2.206528e-05</td>\n",
       "    </tr>\n",
       "    <tr>\n",
       "      <th>Ceffectors</th>\n",
       "      <td>4.462727e-01</td>\n",
       "      <td>1.137832e-01</td>\n",
       "    </tr>\n",
       "    <tr>\n",
       "      <th>EffectorP</th>\n",
       "      <td>4.462727e-01</td>\n",
       "      <td>2.889571e-03</td>\n",
       "    </tr>\n",
       "    <tr>\n",
       "      <th>Secretome</th>\n",
       "      <td>1.298732e-06</td>\n",
       "      <td>4.272960e-01</td>\n",
       "    </tr>\n",
       "    <tr>\n",
       "      <th rowspan=\"5\" valign=\"top\">0.40</th>\n",
       "      <th>All_genes</th>\n",
       "      <td>1.000000e+00</td>\n",
       "      <td>1.000000e+00</td>\n",
       "    </tr>\n",
       "    <tr>\n",
       "      <th>Busco</th>\n",
       "      <td>6.157951e-23</td>\n",
       "      <td>4.794413e-05</td>\n",
       "    </tr>\n",
       "    <tr>\n",
       "      <th>Ceffectors</th>\n",
       "      <td>6.863553e-01</td>\n",
       "      <td>1.536092e-02</td>\n",
       "    </tr>\n",
       "    <tr>\n",
       "      <th>EffectorP</th>\n",
       "      <td>6.863553e-01</td>\n",
       "      <td>1.189007e-02</td>\n",
       "    </tr>\n",
       "    <tr>\n",
       "      <th>Secretome</th>\n",
       "      <td>7.661602e-06</td>\n",
       "      <td>1.909251e-01</td>\n",
       "    </tr>\n",
       "    <tr>\n",
       "      <th rowspan=\"5\" valign=\"top\">0.45</th>\n",
       "      <th>All_genes</th>\n",
       "      <td>1.000000e+00</td>\n",
       "      <td>1.000000e+00</td>\n",
       "    </tr>\n",
       "    <tr>\n",
       "      <th>Busco</th>\n",
       "      <td>4.695157e-26</td>\n",
       "      <td>1.145350e-04</td>\n",
       "    </tr>\n",
       "    <tr>\n",
       "      <th>Ceffectors</th>\n",
       "      <td>6.297686e-01</td>\n",
       "      <td>1.450041e-02</td>\n",
       "    </tr>\n",
       "    <tr>\n",
       "      <th>EffectorP</th>\n",
       "      <td>6.297686e-01</td>\n",
       "      <td>1.922877e-02</td>\n",
       "    </tr>\n",
       "    <tr>\n",
       "      <th>Secretome</th>\n",
       "      <td>9.148189e-05</td>\n",
       "      <td>1.647942e-01</td>\n",
       "    </tr>\n",
       "    <tr>\n",
       "      <th rowspan=\"5\" valign=\"top\">0.50</th>\n",
       "      <th>All_genes</th>\n",
       "      <td>1.000000e+00</td>\n",
       "      <td>1.000000e+00</td>\n",
       "    </tr>\n",
       "    <tr>\n",
       "      <th>Busco</th>\n",
       "      <td>4.695157e-26</td>\n",
       "      <td>3.866778e-05</td>\n",
       "    </tr>\n",
       "    <tr>\n",
       "      <th>Ceffectors</th>\n",
       "      <td>6.297686e-01</td>\n",
       "      <td>3.993055e-02</td>\n",
       "    </tr>\n",
       "    <tr>\n",
       "      <th>EffectorP</th>\n",
       "      <td>6.297686e-01</td>\n",
       "      <td>3.175162e-03</td>\n",
       "    </tr>\n",
       "    <tr>\n",
       "      <th>Secretome</th>\n",
       "      <td>9.148189e-05</td>\n",
       "      <td>4.806112e-01</td>\n",
       "    </tr>\n",
       "  </tbody>\n",
       "</table>\n",
       "</div>"
      ],
      "text/plain": [
       "                          DK0911      Pst_104E\n",
       "Cut-off Type                                  \n",
       "0.10    All_genes   1.000000e+00  1.000000e+00\n",
       "        Busco       2.095908e-12  5.452251e-10\n",
       "        Ceffectors  3.326086e-02  5.835868e-02\n",
       "        EffectorP   3.326086e-02  4.918653e-02\n",
       "        Secretome   1.436923e-06  5.983780e-02\n",
       "0.20    All_genes   1.000000e+00  1.000000e+00\n",
       "        Busco       6.310735e-17  3.119838e-08\n",
       "        Ceffectors  1.857437e-01  1.044646e-01\n",
       "        EffectorP   1.857437e-01  7.858847e-03\n",
       "        Secretome   2.056203e-07  1.289605e-01\n",
       "0.25    All_genes   1.000000e+00  1.000000e+00\n",
       "        Busco       5.577766e-14  8.647120e-07\n",
       "        Ceffectors  1.985610e-01  8.101202e-02\n",
       "        EffectorP   1.985610e-01  6.307230e-03\n",
       "        Secretome   3.146984e-06  1.803824e-01\n",
       "0.30    All_genes   1.000000e+00  1.000000e+00\n",
       "        Busco       1.388569e-17  3.204988e-06\n",
       "        Ceffectors  9.441717e-02  1.500362e-01\n",
       "        EffectorP   9.441717e-02  3.009929e-03\n",
       "        Secretome   7.890919e-08  3.212371e-01\n",
       "0.35    All_genes   1.000000e+00  1.000000e+00\n",
       "        Busco       2.021682e-24  2.206528e-05\n",
       "        Ceffectors  4.462727e-01  1.137832e-01\n",
       "        EffectorP   4.462727e-01  2.889571e-03\n",
       "        Secretome   1.298732e-06  4.272960e-01\n",
       "0.40    All_genes   1.000000e+00  1.000000e+00\n",
       "        Busco       6.157951e-23  4.794413e-05\n",
       "        Ceffectors  6.863553e-01  1.536092e-02\n",
       "        EffectorP   6.863553e-01  1.189007e-02\n",
       "        Secretome   7.661602e-06  1.909251e-01\n",
       "0.45    All_genes   1.000000e+00  1.000000e+00\n",
       "        Busco       4.695157e-26  1.145350e-04\n",
       "        Ceffectors  6.297686e-01  1.450041e-02\n",
       "        EffectorP   6.297686e-01  1.922877e-02\n",
       "        Secretome   9.148189e-05  1.647942e-01\n",
       "0.50    All_genes   1.000000e+00  1.000000e+00\n",
       "        Busco       4.695157e-26  3.866778e-05\n",
       "        Ceffectors  6.297686e-01  3.993055e-02\n",
       "        EffectorP   6.297686e-01  3.175162e-03\n",
       "        Secretome   9.148189e-05  4.806112e-01"
      ]
     },
     "execution_count": 26,
     "metadata": {},
     "output_type": "execute_result"
    }
   ],
   "source": [
    "out_fn = os.path.join(OUT_dir, 'Lowcov_fisher_mo%s_df.tsv' % min_overlap)\n",
    "Fishers_df.to_csv(out_fn, sep='\\t')\n",
    "Fishers_df"
   ]
  },
  {
   "cell_type": "code",
   "execution_count": 27,
   "metadata": {
    "ExecuteTime": {
     "end_time": "2019-08-27T04:35:43.129794Z",
     "start_time": "2019-08-27T04:35:43.111749Z"
    }
   },
   "outputs": [
    {
     "data": {
      "text/html": [
       "<div>\n",
       "<style scoped>\n",
       "    .dataframe tbody tr th:only-of-type {\n",
       "        vertical-align: middle;\n",
       "    }\n",
       "\n",
       "    .dataframe tbody tr th {\n",
       "        vertical-align: top;\n",
       "    }\n",
       "\n",
       "    .dataframe thead th {\n",
       "        text-align: right;\n",
       "    }\n",
       "</style>\n",
       "<table border=\"1\" class=\"dataframe\">\n",
       "  <thead>\n",
       "    <tr style=\"text-align: right;\">\n",
       "      <th></th>\n",
       "      <th></th>\n",
       "      <th>DK0911</th>\n",
       "      <th>Pst_104E</th>\n",
       "    </tr>\n",
       "    <tr>\n",
       "      <th>Cut-off</th>\n",
       "      <th>Type</th>\n",
       "      <th></th>\n",
       "      <th></th>\n",
       "    </tr>\n",
       "  </thead>\n",
       "  <tbody>\n",
       "    <tr>\n",
       "      <th rowspan=\"5\" valign=\"top\">0.10</th>\n",
       "      <th>All_genes</th>\n",
       "      <td>724</td>\n",
       "      <td>2394</td>\n",
       "    </tr>\n",
       "    <tr>\n",
       "      <th>Busco</th>\n",
       "      <td>13</td>\n",
       "      <td>126</td>\n",
       "    </tr>\n",
       "    <tr>\n",
       "      <th>Ceffectors</th>\n",
       "      <td>25</td>\n",
       "      <td>244</td>\n",
       "    </tr>\n",
       "    <tr>\n",
       "      <th>EffectorP</th>\n",
       "      <td>25</td>\n",
       "      <td>189</td>\n",
       "    </tr>\n",
       "    <tr>\n",
       "      <th>Secretome</th>\n",
       "      <td>55</td>\n",
       "      <td>327</td>\n",
       "    </tr>\n",
       "    <tr>\n",
       "      <th rowspan=\"5\" valign=\"top\">0.20</th>\n",
       "      <th>All_genes</th>\n",
       "      <td>864</td>\n",
       "      <td>2844</td>\n",
       "    </tr>\n",
       "    <tr>\n",
       "      <th>Busco</th>\n",
       "      <td>12</td>\n",
       "      <td>167</td>\n",
       "    </tr>\n",
       "    <tr>\n",
       "      <th>Ceffectors</th>\n",
       "      <td>36</td>\n",
       "      <td>298</td>\n",
       "    </tr>\n",
       "    <tr>\n",
       "      <th>EffectorP</th>\n",
       "      <td>36</td>\n",
       "      <td>233</td>\n",
       "    </tr>\n",
       "    <tr>\n",
       "      <th>Secretome</th>\n",
       "      <td>66</td>\n",
       "      <td>400</td>\n",
       "    </tr>\n",
       "    <tr>\n",
       "      <th rowspan=\"5\" valign=\"top\">0.25</th>\n",
       "      <th>All_genes</th>\n",
       "      <td>705</td>\n",
       "      <td>3310</td>\n",
       "    </tr>\n",
       "    <tr>\n",
       "      <th>Busco</th>\n",
       "      <td>10</td>\n",
       "      <td>211</td>\n",
       "    </tr>\n",
       "    <tr>\n",
       "      <th>Ceffectors</th>\n",
       "      <td>29</td>\n",
       "      <td>347</td>\n",
       "    </tr>\n",
       "    <tr>\n",
       "      <th>EffectorP</th>\n",
       "      <td>29</td>\n",
       "      <td>269</td>\n",
       "    </tr>\n",
       "    <tr>\n",
       "      <th>Secretome</th>\n",
       "      <td>54</td>\n",
       "      <td>473</td>\n",
       "    </tr>\n",
       "    <tr>\n",
       "      <th rowspan=\"5\" valign=\"top\">0.30</th>\n",
       "      <th>All_genes</th>\n",
       "      <td>909</td>\n",
       "      <td>3253</td>\n",
       "    </tr>\n",
       "    <tr>\n",
       "      <th>Busco</th>\n",
       "      <td>13</td>\n",
       "      <td>211</td>\n",
       "    </tr>\n",
       "    <tr>\n",
       "      <th>Ceffectors</th>\n",
       "      <td>36</td>\n",
       "      <td>347</td>\n",
       "    </tr>\n",
       "    <tr>\n",
       "      <th>EffectorP</th>\n",
       "      <td>36</td>\n",
       "      <td>269</td>\n",
       "    </tr>\n",
       "    <tr>\n",
       "      <th>Secretome</th>\n",
       "      <td>69</td>\n",
       "      <td>473</td>\n",
       "    </tr>\n",
       "    <tr>\n",
       "      <th rowspan=\"5\" valign=\"top\">0.35</th>\n",
       "      <th>All_genes</th>\n",
       "      <td>1310</td>\n",
       "      <td>3675</td>\n",
       "    </tr>\n",
       "    <tr>\n",
       "      <th>Busco</th>\n",
       "      <td>19</td>\n",
       "      <td>251</td>\n",
       "    </tr>\n",
       "    <tr>\n",
       "      <th>Ceffectors</th>\n",
       "      <td>62</td>\n",
       "      <td>391</td>\n",
       "    </tr>\n",
       "    <tr>\n",
       "      <th>EffectorP</th>\n",
       "      <td>62</td>\n",
       "      <td>301</td>\n",
       "    </tr>\n",
       "    <tr>\n",
       "      <th>Secretome</th>\n",
       "      <td>119</td>\n",
       "      <td>541</td>\n",
       "    </tr>\n",
       "    <tr>\n",
       "      <th rowspan=\"5\" valign=\"top\">0.40</th>\n",
       "      <th>All_genes</th>\n",
       "      <td>1154</td>\n",
       "      <td>4107</td>\n",
       "    </tr>\n",
       "    <tr>\n",
       "      <th>Busco</th>\n",
       "      <td>15</td>\n",
       "      <td>288</td>\n",
       "    </tr>\n",
       "    <tr>\n",
       "      <th>Ceffectors</th>\n",
       "      <td>57</td>\n",
       "      <td>419</td>\n",
       "    </tr>\n",
       "    <tr>\n",
       "      <th>EffectorP</th>\n",
       "      <td>57</td>\n",
       "      <td>324</td>\n",
       "    </tr>\n",
       "    <tr>\n",
       "      <th>Secretome</th>\n",
       "      <td>106</td>\n",
       "      <td>592</td>\n",
       "    </tr>\n",
       "    <tr>\n",
       "      <th rowspan=\"5\" valign=\"top\">0.45</th>\n",
       "      <th>All_genes</th>\n",
       "      <td>1452</td>\n",
       "      <td>4030</td>\n",
       "    </tr>\n",
       "    <tr>\n",
       "      <th>Busco</th>\n",
       "      <td>22</td>\n",
       "      <td>286</td>\n",
       "    </tr>\n",
       "    <tr>\n",
       "      <th>Ceffectors</th>\n",
       "      <td>72</td>\n",
       "      <td>410</td>\n",
       "    </tr>\n",
       "    <tr>\n",
       "      <th>EffectorP</th>\n",
       "      <td>72</td>\n",
       "      <td>315</td>\n",
       "    </tr>\n",
       "    <tr>\n",
       "      <th>Secretome</th>\n",
       "      <td>148</td>\n",
       "      <td>578</td>\n",
       "    </tr>\n",
       "    <tr>\n",
       "      <th rowspan=\"5\" valign=\"top\">0.50</th>\n",
       "      <th>All_genes</th>\n",
       "      <td>1452</td>\n",
       "      <td>4475</td>\n",
       "    </tr>\n",
       "    <tr>\n",
       "      <th>Busco</th>\n",
       "      <td>22</td>\n",
       "      <td>316</td>\n",
       "    </tr>\n",
       "    <tr>\n",
       "      <th>Ceffectors</th>\n",
       "      <td>72</td>\n",
       "      <td>468</td>\n",
       "    </tr>\n",
       "    <tr>\n",
       "      <th>EffectorP</th>\n",
       "      <td>72</td>\n",
       "      <td>360</td>\n",
       "    </tr>\n",
       "    <tr>\n",
       "      <th>Secretome</th>\n",
       "      <td>148</td>\n",
       "      <td>664</td>\n",
       "    </tr>\n",
       "  </tbody>\n",
       "</table>\n",
       "</div>"
      ],
      "text/plain": [
       "                    DK0911  Pst_104E\n",
       "Cut-off Type                        \n",
       "0.10    All_genes      724      2394\n",
       "        Busco           13       126\n",
       "        Ceffectors      25       244\n",
       "        EffectorP       25       189\n",
       "        Secretome       55       327\n",
       "0.20    All_genes      864      2844\n",
       "        Busco           12       167\n",
       "        Ceffectors      36       298\n",
       "        EffectorP       36       233\n",
       "        Secretome       66       400\n",
       "0.25    All_genes      705      3310\n",
       "        Busco           10       211\n",
       "        Ceffectors      29       347\n",
       "        EffectorP       29       269\n",
       "        Secretome       54       473\n",
       "0.30    All_genes      909      3253\n",
       "        Busco           13       211\n",
       "        Ceffectors      36       347\n",
       "        EffectorP       36       269\n",
       "        Secretome       69       473\n",
       "0.35    All_genes     1310      3675\n",
       "        Busco           19       251\n",
       "        Ceffectors      62       391\n",
       "        EffectorP       62       301\n",
       "        Secretome      119       541\n",
       "0.40    All_genes     1154      4107\n",
       "        Busco           15       288\n",
       "        Ceffectors      57       419\n",
       "        EffectorP       57       324\n",
       "        Secretome      106       592\n",
       "0.45    All_genes     1452      4030\n",
       "        Busco           22       286\n",
       "        Ceffectors      72       410\n",
       "        EffectorP       72       315\n",
       "        Secretome      148       578\n",
       "0.50    All_genes     1452      4475\n",
       "        Busco           22       316\n",
       "        Ceffectors      72       468\n",
       "        EffectorP       72       360\n",
       "        Secretome      148       664"
      ]
     },
     "execution_count": 27,
     "metadata": {},
     "output_type": "execute_result"
    }
   ],
   "source": [
    "out_fn = os.path.join(OUT_dir, 'Lowcov_absence_mo%s_df.tsv' % min_overlap)\n",
    "Absence_df.to_csv(out_fn, sep='\\t')\n",
    "Absence_df"
   ]
  },
  {
   "cell_type": "markdown",
   "metadata": {},
   "source": [
    "### Look over the different filtered lowcov regions and caculate the amount of uncovered bases"
   ]
  },
  {
   "cell_type": "code",
   "execution_count": 28,
   "metadata": {
    "ExecuteTime": {
     "end_time": "2019-08-27T04:35:44.769088Z",
     "start_time": "2019-08-27T04:35:43.131465Z"
    }
   },
   "outputs": [
    {
     "data": {
      "text/html": [
       "<div>\n",
       "<style scoped>\n",
       "    .dataframe tbody tr th:only-of-type {\n",
       "        vertical-align: middle;\n",
       "    }\n",
       "\n",
       "    .dataframe tbody tr th {\n",
       "        vertical-align: top;\n",
       "    }\n",
       "\n",
       "    .dataframe thead th {\n",
       "        text-align: right;\n",
       "    }\n",
       "</style>\n",
       "<table border=\"1\" class=\"dataframe\">\n",
       "  <thead>\n",
       "    <tr style=\"text-align: right;\">\n",
       "      <th></th>\n",
       "      <th>DK0911</th>\n",
       "      <th>Pst_104E</th>\n",
       "    </tr>\n",
       "  </thead>\n",
       "  <tbody>\n",
       "    <tr>\n",
       "      <th>0.10</th>\n",
       "      <td>6363272</td>\n",
       "      <td>20821493</td>\n",
       "    </tr>\n",
       "    <tr>\n",
       "      <th>0.20</th>\n",
       "      <td>8207965</td>\n",
       "      <td>23931160</td>\n",
       "    </tr>\n",
       "    <tr>\n",
       "      <th>0.25</th>\n",
       "      <td>7258527</td>\n",
       "      <td>27039841</td>\n",
       "    </tr>\n",
       "    <tr>\n",
       "      <th>0.30</th>\n",
       "      <td>9478055</td>\n",
       "      <td>26696752</td>\n",
       "    </tr>\n",
       "    <tr>\n",
       "      <th>0.35</th>\n",
       "      <td>13378670</td>\n",
       "      <td>29523551</td>\n",
       "    </tr>\n",
       "    <tr>\n",
       "      <th>0.40</th>\n",
       "      <td>12340369</td>\n",
       "      <td>32520559</td>\n",
       "    </tr>\n",
       "    <tr>\n",
       "      <th>0.45</th>\n",
       "      <td>15598968</td>\n",
       "      <td>31975598</td>\n",
       "    </tr>\n",
       "    <tr>\n",
       "      <th>0.50</th>\n",
       "      <td>15598968</td>\n",
       "      <td>35131544</td>\n",
       "    </tr>\n",
       "  </tbody>\n",
       "</table>\n",
       "</div>"
      ],
      "text/plain": [
       "        DK0911  Pst_104E\n",
       "0.10   6363272  20821493\n",
       "0.20   8207965  23931160\n",
       "0.25   7258527  27039841\n",
       "0.30   9478055  26696752\n",
       "0.35  13378670  29523551\n",
       "0.40  12340369  32520559\n",
       "0.45  15598968  31975598\n",
       "0.50  15598968  35131544"
      ]
     },
     "execution_count": 28,
     "metadata": {},
     "output_type": "execute_result"
    }
   ],
   "source": [
    "#loop over the different lowcoverage file, filter them and count the total bases of lowcoverage\n",
    "summary_dict = {}\n",
    "summary_dict['DK0911'] = []\n",
    "summary_dict['Pst_104E'] = []\n",
    "index = []\n",
    "for pair in pairings:\n",
    "    non_cov_bases = non_covered_bases(filter_bed(pair))\n",
    "    cut_off = pair[2].split('.')[-3].replace('lowcov','')\n",
    "    index.append(cut_off)\n",
    "    if pair[2].split('.')[2].startswith('Pst79_'):\n",
    "        summary_dict['DK0911'].append(non_cov_bases)\n",
    "    elif pair[2].split('.')[2].startswith('DK0911_'):\n",
    "        summary_dict['Pst_104E'].append(non_cov_bases)\n",
    "\n",
    "length = len(index) \n",
    "index[0:int(length/2)] == index[int(length/2):]\n",
    "df = pd.DataFrame.from_dict(summary_dict)\n",
    "df.index = [float(x.replace('0','.')) for x in index[0:int(length/2)]]\n",
    "df.sort_index(inplace=True)\n",
    "#check on Pst_104E mapping on DK0911\n",
    "out_fn = os.path.join(OUT_dir, 'Lowcov_missing_bases_df.tsv')\n",
    "df.to_csv(out_fn, sep='\\t')\n",
    "df"
   ]
  },
  {
   "cell_type": "markdown",
   "metadata": {},
   "source": [
    "### Now look do the permutation tests at the 0.3 lowcov value for all gene groups in both isolates"
   ]
  },
  {
   "cell_type": "code",
   "execution_count": 46,
   "metadata": {
    "ExecuteTime": {
     "end_time": "2019-08-28T02:36:14.074409Z",
     "start_time": "2019-08-28T02:36:14.060477Z"
    },
    "collapsed": true
   },
   "outputs": [],
   "source": [
    "Pst_random_dict_lowcov = {}\n",
    "DK0911_random_dict_lowcov = {}"
   ]
  },
  {
   "cell_type": "code",
   "execution_count": 47,
   "metadata": {
    "ExecuteTime": {
     "end_time": "2019-08-28T03:24:26.251320Z",
     "start_time": "2019-08-28T02:36:14.901663Z"
    },
    "collapsed": true
   },
   "outputs": [],
   "source": [
    "#loop over all gene files\n",
    "#for each gene file do the whole permuation test and safe it as part of a dictionary\n",
    "Pst_104E_random_fn_lowcov = [os.path.join(SRM_cov_rand_outdir, x) for x in os.listdir(SRM_cov_rand_outdir) if x.startswith('Pst')]\n",
    "Pst_104E_random_fn_lowcov.sort()\n",
    "DK0911_random_fn_lowcov = [os.path.join(SRM_cov_rand_outdir, x) for x in os.listdir(SRM_cov_rand_outdir) if x.startswith('DK')]\n",
    "DK0911_random_fn_lowcov.sort()\n",
    "min_overlap = 1.0\n",
    "for key in keys:\n",
    "    Pst_random_dict_lowcov[key] = []\n",
    "    for rand_fn in Pst_104E_random_fn_lowcov:\n",
    "        Pst_random_dict_lowcov[key].append(count_overlap_features(Pst_104E_dict[key], rand_fn, min_overlap))\n",
    "    DK0911_random_dict_lowcov[key] = []\n",
    "    for rand_fn in DK0911_random_fn_lowcov:\n",
    "        DK0911_random_dict_lowcov[key].append(count_overlap_features(DK0911_dict[key], rand_fn, min_overlap))"
   ]
  },
  {
   "cell_type": "code",
   "execution_count": 48,
   "metadata": {
    "ExecuteTime": {
     "end_time": "2019-08-28T03:24:26.260626Z",
     "start_time": "2019-08-28T03:24:26.254085Z"
    },
    "collapsed": true
   },
   "outputs": [],
   "source": [
    "pallete = [sns.color_palette('colorblind')[x] for x in [0,1]]\n",
    "reference_bed_fn = pairings[-8][2]\n",
    "columns = len(keys)"
   ]
  },
  {
   "cell_type": "code",
   "execution_count": 67,
   "metadata": {
    "ExecuteTime": {
     "end_time": "2019-08-28T08:45:36.741145Z",
     "start_time": "2019-08-28T08:45:36.735190Z"
    }
   },
   "outputs": [],
   "source": [
    "font = {'family' : 'DejaVu Sans',\n",
    "        'weight' : 'bold',\n",
    "        'size'   : 20}\n",
    "label_config_x = {'fontsize'            : 'large',\n",
    "      'verticalalignment'   : 'top',\n",
    "      'horizontalalignment' : 'center'\n",
    "      }\n",
    "label_config_y = {'fontsize'            : 'large',\n",
    "      'verticalalignment'   : 'bottom',\n",
    "      'horizontalalignment' : 'center'\n",
    "      }\n",
    "matplotlib.rc('font', **font)"
   ]
  },
  {
   "cell_type": "code",
   "execution_count": 72,
   "metadata": {
    "ExecuteTime": {
     "end_time": "2019-08-28T08:50:08.042380Z",
     "start_time": "2019-08-28T08:50:08.035215Z"
    },
    "collapsed": true
   },
   "outputs": [],
   "source": [
    "column_rename_dict = {'All_genes': 'All genes',\n",
    "                         'Busco': \"BUSCOs\",\n",
    "                         'Ceffectors': 'Candidate effectors',\n",
    "                         'EffectorP' : 'EffectorP',\n",
    "                         'Secretome' : 'Secretome'}"
   ]
  },
  {
   "cell_type": "markdown",
   "metadata": {},
   "source": [
    "### Supplemental Figure 3 B"
   ]
  },
  {
   "cell_type": "code",
   "execution_count": 87,
   "metadata": {
    "ExecuteTime": {
     "end_time": "2019-08-28T08:57:28.555190Z",
     "start_time": "2019-08-28T08:57:22.023677Z"
    }
   },
   "outputs": [
    {
     "name": "stdout",
     "output_type": "stream",
     "text": [
      "/home/benjamin/genome_assembly/Warrior/DK0911_v04/comp_COV/SRM_mapping/filtered/Pst_104E_v13_ph_ctg.bwamem.DK0911_gDNA.ph_window_w1000s200.ph_mapping.lowcov01.filtered.bed\n"
     ]
    },
    {
     "data": {
      "image/png": "[encoded data removed]",
      "text/plain": [
       "<Figure size 1440x288 with 5 Axes>"
      ]
     },
     "metadata": {},
     "output_type": "display_data"
    }
   ],
   "source": [
    "reference_bed_fn = pairings[-8][2]\n",
    "print(reference_bed_fn)\n",
    "f1, ax = plt.subplots(1, columns, figsize=(20, 4))\n",
    "for n, key in enumerate(keys):\n",
    "    overlap = count_overlap_features(Pst_104E_dict[key],reference_bed_fn, min_overlap)\n",
    "    random_values = Pst_random_dict_lowcov[key]\n",
    "    count = 0 \n",
    "    for i in random_values:\n",
    "        if i > overlap:\n",
    "            count += 1\n",
    "    p = count/len(random_values)\n",
    "    \n",
    "    two_side_p = 2*p\n",
    "    \n",
    "    if two_side_p > 1:\n",
    "        two_side_p = round(2 - two_side_p, 3)\n",
    "    sns.violinplot(y=random_values, color=pallete[0], ax=ax[n])\n",
    "    ax[n].axhline(y=overlap, color='r', linestyle='-')\n",
    "    ax[n].set_title(column_rename_dict[key], fontsize=16, fontweight='bold')\n",
    "    ax[n].set_xlabel('p={:.3f}'.format(two_side_p), fontsize=16, fontweight='bold')\n",
    "    ax[0].set_ylabel('Number of overlapping genes', fontsize=16, fontweight='bold')\n",
    "    \n",
    "    for axis in ['bottom','left']:\n",
    "        ax[n].spines[axis].set_linewidth(2)\n",
    "    for axis in ['top','right']:\n",
    "        ax[n].spines[axis].set_linewidth(0)\n",
    "    ax[n].tick_params(width=2)\n",
    "    \n",
    "    \n",
    "    \n",
    "    \n",
    "    out_fn = os.path.join(OUTPATH, 'SF3B_Pst104E_noncovered_%s_lowcov01_mo%s.facett.tiff' % (key,min_overlap))\n",
    "    \n",
    "    \n",
    "    \n",
    "    \n",
    "    plt.savefig(out_fn, dpi =600, bbox_inches='tight') "
   ]
  },
  {
   "cell_type": "code",
   "execution_count": 50,
   "metadata": {
    "ExecuteTime": {
     "end_time": "2019-08-28T03:24:42.269102Z",
     "start_time": "2019-08-28T03:24:37.252409Z"
    }
   },
   "outputs": [
    {
     "data": {
      "image/png": "[encoded data removed]",
      "text/plain": [
       "<Figure size 288x504 with 1 Axes>"
      ]
     },
     "metadata": {},
     "output_type": "display_data"
    },
    {
     "data": {
      "image/png": "[encoded data removed]",
      "text/plain": [
       "<Figure size 288x504 with 1 Axes>"
      ]
     },
     "metadata": {},
     "output_type": "display_data"
    },
    {
     "data": {
      "image/png": "[encoded data removed]",
      "text/plain": [
       "<Figure size 288x504 with 1 Axes>"
      ]
     },
     "metadata": {},
     "output_type": "display_data"
    },
    {
     "data": {
      "image/png": "[encoded data removed]",
      "text/plain": [
       "<Figure size 288x504 with 1 Axes>"
      ]
     },
     "metadata": {},
     "output_type": "display_data"
    },
    {
     "data": {
      "image/png": "[encoded data removed]",
      "text/plain": [
       "<Figure size 288x504 with 1 Axes>"
      ]
     },
     "metadata": {},
     "output_type": "display_data"
    }
   ],
   "source": [
    "reference_bed_fn = pairings[-8][2]\n",
    "for key in keys:\n",
    "    overlap = count_overlap_features(Pst_104E_dict[key],reference_bed_fn, min_overlap)\n",
    "    random_values = Pst_random_dict_lowcov[key]\n",
    "\n",
    "    count = 0 \n",
    "    for i in random_values:\n",
    "        if i > overlap:\n",
    "            count += 1\n",
    "    p = count/len(random_values)\n",
    "    \n",
    "    two_side_p = 2*p\n",
    "    \n",
    "    if two_side_p > 1:\n",
    "        two_side_p = round(2 - two_side_p, 3)\n",
    "\n",
    "\n",
    "    f, ax = plt.subplots(figsize=(4, 7))\n",
    "    plt.style.use('fast')\n",
    "    sns.violinplot(y=random_values, color=pallete[0])\n",
    "    plt.axhline(y=overlap, color='r', linestyle='-')\n",
    "    plt.title(key, fontsize=16)\n",
    "    plt.ylabel('Number of overlapping genes', fontsize=16)\n",
    "    plt.xlabel('p=' + str(two_side_p), fontsize=16)\n",
    "    plt.rc('xtick', labelsize=16)\n",
    "    plt.rc('ytick', labelsize=16)\n",
    "    out_fn = os.path.join(OUT_dir, 'Pst104E_noncovered_%s_lowcov01_mo%s.png' % (key,min_overlap))\n",
    "    plt.savefig(out_fn, dpi =300)"
   ]
  },
  {
   "cell_type": "markdown",
   "metadata": {},
   "source": [
    "### Supplemental Figure 3 A"
   ]
  },
  {
   "cell_type": "code",
   "execution_count": 86,
   "metadata": {
    "ExecuteTime": {
     "end_time": "2019-08-28T08:57:11.800153Z",
     "start_time": "2019-08-28T08:57:05.450801Z"
    }
   },
   "outputs": [
    {
     "name": "stdout",
     "output_type": "stream",
     "text": [
      "/home/benjamin/genome_assembly/Warrior/DK0911_v04/comp_COV/SRM_mapping/filtered/DK_0911_v04_ph_ctg.bwamem.Pst79_TS.RG.mark_dup.ph_window_w1000s200.ph_mapping.lowcov01.filtered.bed\n"
     ]
    },
    {
     "data": {
      "image/png": "[encoded data removed]",
      "text/plain": [
       "<Figure size 1440x288 with 5 Axes>"
      ]
     },
     "metadata": {},
     "output_type": "display_data"
    }
   ],
   "source": [
    "reference_bed_fn = pairings[0][2]\n",
    "print(reference_bed_fn)\n",
    "columns = len(keys)\n",
    "f1, ax = plt.subplots(1, columns, figsize=(20, 4))\n",
    "\n",
    "\n",
    "\n",
    "\n",
    "\n",
    "\n",
    "for n, key in enumerate(keys):\n",
    "    overlap = count_overlap_features(DK0911_dict[key],reference_bed_fn, min_overlap)\n",
    "    random_values = DK0911_random_dict_lowcov[key]\n",
    "    \n",
    "    \n",
    "    \n",
    "    \n",
    "    count = 0 \n",
    "    for i in random_values:\n",
    "        if i > overlap:\n",
    "            count += 1\n",
    "    p = count/len(random_values)\n",
    "    \n",
    "    two_side_p = 2*p\n",
    "    \n",
    "    if two_side_p > 1:\n",
    "        two_side_p = round(2 - two_side_p, 3)\n",
    "    sns.violinplot(y=random_values, color=pallete[1], ax=ax[n])\n",
    "    ax[n].axhline(y=overlap, color='r', linestyle='-')\n",
    "    ax[n].set_title(column_rename_dict[key], fontsize=16, fontweight='bold')\n",
    "    ax[n].set_xlabel('p={:.3f}'.format(two_side_p), fontsize=16, fontweight='bold')\n",
    "    ax[0].set_ylabel('Number of overlapping genes', fontsize=16, fontweight='bold')\n",
    "    \n",
    "    for axis in ['bottom','left']:\n",
    "        ax[n].spines[axis].set_linewidth(2)\n",
    "    for axis in ['top','right']:\n",
    "        ax[n].spines[axis].set_linewidth(0)\n",
    "    ax[n].tick_params(width=2)\n",
    "    \n",
    "    \n",
    "    \n",
    "    \n",
    "    \n",
    "    \n",
    "    \n",
    "    \n",
    "    \n",
    "    \n",
    "    out_fn = os.path.join(OUTPATH, 'SF3A_DK0911_noncovered_%s_lowcov01_mo%s.facett.tiff' % (key,min_overlap))\n",
    "    plt.savefig(out_fn, dpi =600, bbox_inches='tight')  "
   ]
  },
  {
   "cell_type": "code",
   "execution_count": 52,
   "metadata": {
    "ExecuteTime": {
     "end_time": "2019-08-28T03:24:57.311104Z",
     "start_time": "2019-08-28T03:24:52.892799Z"
    }
   },
   "outputs": [
    {
     "data": {
      "image/png": "[encoded data removed]",
      "text/plain": [
       "<Figure size 288x504 with 1 Axes>"
      ]
     },
     "metadata": {},
     "output_type": "display_data"
    },
    {
     "data": {
      "image/png": "[encoded data removed]",
      "text/plain": [
       "<Figure size 288x504 with 1 Axes>"
      ]
     },
     "metadata": {},
     "output_type": "display_data"
    },
    {
     "data": {
      "image/png": "[encoded data removed]",
      "text/plain": [
       "<Figure size 288x504 with 1 Axes>"
      ]
     },
     "metadata": {},
     "output_type": "display_data"
    },
    {
     "data": {
      "image/png": "[encoded data removed]",
      "text/plain": [
       "<Figure size 288x504 with 1 Axes>"
      ]
     },
     "metadata": {},
     "output_type": "display_data"
    },
    {
     "data": {
      "image/png": "[encoded data removed]",
      "text/plain": [
       "<Figure size 288x504 with 1 Axes>"
      ]
     },
     "metadata": {},
     "output_type": "display_data"
    }
   ],
   "source": [
    "reference_bed_fn = pairings[0][2]\n",
    "for key in keys:\n",
    "    overlap = count_overlap_features(DK0911_dict[key],reference_bed_fn, min_overlap)\n",
    "    random_values = DK0911_random_dict_lowcov[key]\n",
    "\n",
    "    count = 0 \n",
    "    for i in random_values:\n",
    "        if i > overlap:\n",
    "            count += 1\n",
    "    p = count/len(random_values)\n",
    "    \n",
    "    two_side_p = 2*p\n",
    "    \n",
    "    if two_side_p > 1:\n",
    "        two_side_p = round(2 - two_side_p, 3)\n",
    "\n",
    "\n",
    "\n",
    "    f, ax = plt.subplots(figsize=(4, 7))\n",
    "    plt.style.use('fast')\n",
    "    sns.violinplot(y=random_values, color=pallete[1])\n",
    "    plt.axhline(y=overlap, color='r', linestyle='-')\n",
    "    plt.title(key, fontsize=16)\n",
    "    plt.ylabel('Number of overlapping genes', fontsize=16)\n",
    "    plt.xlabel('p=' + str(two_side_p), fontsize=16)\n",
    "    plt.rc('xtick', labelsize=16)\n",
    "    plt.rc('ytick', labelsize=16)\n",
    "    out_fn = os.path.join(OUT_dir, 'DK0911_noncovered_%s_lowcov01_mo%s.png' % (key,min_overlap))\n",
    "    plt.savefig(out_fn, dpi =300)"
   ]
  },
  {
   "cell_type": "markdown",
   "metadata": {
    "collapsed": true
   },
   "source": [
    "There doesn't seem anything specific about any gene family when looking for coverage of the mapping and what is missing. All seem to be significantly enriched.\n",
    "\n",
    "### To-do\n",
    "\n",
    "* look at the coverage files and the mapping files in igv and see if they line up.\n",
    "    * done that and they looked just fine in case of DK0911 mapping onto Pst104E\n",
    "* look at the coverage plots that are part of the het cov plotting\n",
    "* genes that are not covered by Pst_104E reads by DK0911 could be genes related to sexual reproduction or infection of the host\n",
    "* check into the overlap of genes that are not covered in both methods (lowcov01 and WGA95) and orthofinder. See if there is anything special in terms of length, expression, or function.\n",
    "* check if there is non-random overlap between TE superfamilies and lowcov or WGA95 do this on the base overlap basis. If anything sticks out maybe look into family level and such.\n",
    "* consider doing the absence presence polymorphism on the gene level. For all genes count how often they are totally absent <- this doesn't work as the size of real observations is 1.\n",
    "* check if from the absent genes of of DK0911 in Pst104E are often both pairs of the allele or singletons\n",
    "\n",
    "\n",
    "### Orthology analysis\n",
    "\n",
    "* look into the singleton levels in other fungal species. Similar?"
   ]
  },
  {
   "cell_type": "markdown",
   "metadata": {},
   "source": [
    "## Now look at mummer whole genome alignment in the same way"
   ]
  },
  {
   "cell_type": "code",
   "execution_count": 53,
   "metadata": {
    "ExecuteTime": {
     "end_time": "2019-08-28T03:24:57.323277Z",
     "start_time": "2019-08-28T03:24:57.315299Z"
    },
    "collapsed": true
   },
   "outputs": [],
   "source": [
    "mummer_files = [os.path.join(WGA_cov_dir, x) for x in os.listdir(WGA_cov_dir) if x.endswith('.bed')]\n",
    "mummer_files.sort()"
   ]
  },
  {
   "cell_type": "code",
   "execution_count": 54,
   "metadata": {
    "ExecuteTime": {
     "end_time": "2019-08-28T03:25:16.567133Z",
     "start_time": "2019-08-28T03:24:57.326408Z"
    },
    "collapsed": true
   },
   "outputs": [],
   "source": [
    "Fishers_summary_dict = {}\n",
    "Absence_summary_dict = {}\n",
    "outer_index = [] #being the cut off\n",
    "inner_index = [] #being the type of gene to look at\n",
    "Fishers_summary_dict['DK0911'] = []\n",
    "Fishers_summary_dict['Pst_104E'] = []\n",
    "Absence_summary_dict['DK0911'] = []\n",
    "Absence_summary_dict['Pst_104E'] = []\n",
    "min_overlap = 1.0\n",
    "for m_fn in mummer_files:\n",
    "    if os.path.basename(m_fn).startswith('DK_0911'):\n",
    "        expect_list = [count_overlap_features(DK0911_dict['All_genes'],m_fn,min_overlap) ,\\\n",
    "                       pd.read_csv(DK0911_dict['All_genes'], sep='\\t').shape[0]]\n",
    "        cut_off = os.path.basename(m_fn).split('.')[-3].replace('deltafilter_i', '').replace('mu0g_','')\n",
    "        for key in keys:\n",
    "            inner_index.append(key)\n",
    "            outer_index.append(cut_off)\n",
    "            test_list = [count_overlap_features(DK0911_dict[key],m_fn,min_overlap),\\\n",
    "                         pd.read_csv(DK0911_dict[key], sep='\\t').shape[0]]\n",
    "            Fishers_summary_dict['DK0911'].append(fisher_exact([test_list, expect_list])[1])\n",
    "            Absence_summary_dict['DK0911'].append(count_overlap_features(DK0911_dict[key],m_fn,min_overlap))\n",
    "    if os.path.basename(m_fn).startswith('Pst_104E_v13_ph_ctg'):\n",
    "        expect_list = [count_overlap_features(Pst_104E_dict['All_genes'],m_fn,min_overlap) ,\\\n",
    "                       pd.read_csv(Pst_104E_dict['All_genes'], sep='\\t').shape[0]]\n",
    "        cut_off = os.path.basename(m_fn).split('.')[-3].replace('deltafilter_i', '').replace('mu0g_','')\n",
    "        for key in keys:\n",
    "            inner_index.append(key)\n",
    "            outer_index.append(cut_off)\n",
    "            test_list = [count_overlap_features(Pst_104E_dict[key],m_fn,min_overlap),\\\n",
    "                         pd.read_csv(Pst_104E_dict[key], sep='\\t').shape[0]]\n",
    "            Fishers_summary_dict['Pst_104E'].append(fisher_exact([test_list, expect_list])[1])\n",
    "            Absence_summary_dict['Pst_104E'].append(count_overlap_features(Pst_104E_dict[key],m_fn,min_overlap))"
   ]
  },
  {
   "cell_type": "code",
   "execution_count": 55,
   "metadata": {
    "ExecuteTime": {
     "end_time": "2019-08-28T03:25:16.594019Z",
     "start_time": "2019-08-28T03:25:16.570813Z"
    },
    "collapsed": true
   },
   "outputs": [],
   "source": [
    "Fishers_df = summary_dict_to_df(Fishers_summary_dict, outer_index, inner_index)\n",
    "Absence_df = summary_dict_to_df(Absence_summary_dict, outer_index, inner_index)"
   ]
  },
  {
   "cell_type": "code",
   "execution_count": 56,
   "metadata": {
    "ExecuteTime": {
     "end_time": "2019-08-28T03:25:16.621558Z",
     "start_time": "2019-08-28T03:25:16.596143Z"
    }
   },
   "outputs": [
    {
     "data": {
      "text/html": [
       "<div>\n",
       "<style scoped>\n",
       "    .dataframe tbody tr th:only-of-type {\n",
       "        vertical-align: middle;\n",
       "    }\n",
       "\n",
       "    .dataframe tbody tr th {\n",
       "        vertical-align: top;\n",
       "    }\n",
       "\n",
       "    .dataframe thead th {\n",
       "        text-align: right;\n",
       "    }\n",
       "</style>\n",
       "<table border=\"1\" class=\"dataframe\">\n",
       "  <thead>\n",
       "    <tr style=\"text-align: right;\">\n",
       "      <th></th>\n",
       "      <th></th>\n",
       "      <th>DK0911</th>\n",
       "      <th>Pst_104E</th>\n",
       "    </tr>\n",
       "    <tr>\n",
       "      <th>Cut-off</th>\n",
       "      <th>Type</th>\n",
       "      <th></th>\n",
       "      <th></th>\n",
       "    </tr>\n",
       "  </thead>\n",
       "  <tbody>\n",
       "    <tr>\n",
       "      <th rowspan=\"5\" valign=\"top\">70.0</th>\n",
       "      <th>All_genes</th>\n",
       "      <td>1.000000</td>\n",
       "      <td>1.000000e+00</td>\n",
       "    </tr>\n",
       "    <tr>\n",
       "      <th>Busco</th>\n",
       "      <td>0.000017</td>\n",
       "      <td>4.601254e-15</td>\n",
       "    </tr>\n",
       "    <tr>\n",
       "      <th>Ceffectors</th>\n",
       "      <td>1.000000</td>\n",
       "      <td>5.513537e-03</td>\n",
       "    </tr>\n",
       "    <tr>\n",
       "      <th>EffectorP</th>\n",
       "      <td>1.000000</td>\n",
       "      <td>4.608696e-01</td>\n",
       "    </tr>\n",
       "    <tr>\n",
       "      <th>Secretome</th>\n",
       "      <td>0.037733</td>\n",
       "      <td>3.946967e-03</td>\n",
       "    </tr>\n",
       "    <tr>\n",
       "      <th rowspan=\"5\" valign=\"top\">80.0</th>\n",
       "      <th>All_genes</th>\n",
       "      <td>1.000000</td>\n",
       "      <td>1.000000e+00</td>\n",
       "    </tr>\n",
       "    <tr>\n",
       "      <th>Busco</th>\n",
       "      <td>0.000017</td>\n",
       "      <td>4.601254e-15</td>\n",
       "    </tr>\n",
       "    <tr>\n",
       "      <th>Ceffectors</th>\n",
       "      <td>1.000000</td>\n",
       "      <td>5.513537e-03</td>\n",
       "    </tr>\n",
       "    <tr>\n",
       "      <th>EffectorP</th>\n",
       "      <td>1.000000</td>\n",
       "      <td>4.608696e-01</td>\n",
       "    </tr>\n",
       "    <tr>\n",
       "      <th>Secretome</th>\n",
       "      <td>0.037733</td>\n",
       "      <td>3.946967e-03</td>\n",
       "    </tr>\n",
       "    <tr>\n",
       "      <th rowspan=\"5\" valign=\"top\">85.0</th>\n",
       "      <th>All_genes</th>\n",
       "      <td>1.000000</td>\n",
       "      <td>1.000000e+00</td>\n",
       "    </tr>\n",
       "    <tr>\n",
       "      <th>Busco</th>\n",
       "      <td>0.000017</td>\n",
       "      <td>4.601254e-15</td>\n",
       "    </tr>\n",
       "    <tr>\n",
       "      <th>Ceffectors</th>\n",
       "      <td>1.000000</td>\n",
       "      <td>5.513537e-03</td>\n",
       "    </tr>\n",
       "    <tr>\n",
       "      <th>EffectorP</th>\n",
       "      <td>1.000000</td>\n",
       "      <td>4.608696e-01</td>\n",
       "    </tr>\n",
       "    <tr>\n",
       "      <th>Secretome</th>\n",
       "      <td>0.037733</td>\n",
       "      <td>3.946967e-03</td>\n",
       "    </tr>\n",
       "    <tr>\n",
       "      <th rowspan=\"5\" valign=\"top\">90.0</th>\n",
       "      <th>All_genes</th>\n",
       "      <td>1.000000</td>\n",
       "      <td>1.000000e+00</td>\n",
       "    </tr>\n",
       "    <tr>\n",
       "      <th>Busco</th>\n",
       "      <td>0.000017</td>\n",
       "      <td>3.588639e-15</td>\n",
       "    </tr>\n",
       "    <tr>\n",
       "      <th>Ceffectors</th>\n",
       "      <td>1.000000</td>\n",
       "      <td>6.231400e-03</td>\n",
       "    </tr>\n",
       "    <tr>\n",
       "      <th>EffectorP</th>\n",
       "      <td>1.000000</td>\n",
       "      <td>4.342227e-01</td>\n",
       "    </tr>\n",
       "    <tr>\n",
       "      <th>Secretome</th>\n",
       "      <td>0.037733</td>\n",
       "      <td>4.461713e-03</td>\n",
       "    </tr>\n",
       "    <tr>\n",
       "      <th rowspan=\"5\" valign=\"top\">95.0</th>\n",
       "      <th>All_genes</th>\n",
       "      <td>1.000000</td>\n",
       "      <td>1.000000e+00</td>\n",
       "    </tr>\n",
       "    <tr>\n",
       "      <th>Busco</th>\n",
       "      <td>0.000046</td>\n",
       "      <td>1.719902e-13</td>\n",
       "    </tr>\n",
       "    <tr>\n",
       "      <th>Ceffectors</th>\n",
       "      <td>0.923490</td>\n",
       "      <td>3.478190e-03</td>\n",
       "    </tr>\n",
       "    <tr>\n",
       "      <th>EffectorP</th>\n",
       "      <td>0.923490</td>\n",
       "      <td>5.002761e-01</td>\n",
       "    </tr>\n",
       "    <tr>\n",
       "      <th>Secretome</th>\n",
       "      <td>0.018395</td>\n",
       "      <td>2.438179e-03</td>\n",
       "    </tr>\n",
       "    <tr>\n",
       "      <th rowspan=\"5\" valign=\"top\">96.0</th>\n",
       "      <th>All_genes</th>\n",
       "      <td>1.000000</td>\n",
       "      <td>1.000000e+00</td>\n",
       "    </tr>\n",
       "    <tr>\n",
       "      <th>Busco</th>\n",
       "      <td>0.000012</td>\n",
       "      <td>4.032448e-11</td>\n",
       "    </tr>\n",
       "    <tr>\n",
       "      <th>Ceffectors</th>\n",
       "      <td>0.851965</td>\n",
       "      <td>2.201587e-03</td>\n",
       "    </tr>\n",
       "    <tr>\n",
       "      <th>EffectorP</th>\n",
       "      <td>0.851965</td>\n",
       "      <td>5.726985e-01</td>\n",
       "    </tr>\n",
       "    <tr>\n",
       "      <th>Secretome</th>\n",
       "      <td>0.029680</td>\n",
       "      <td>4.224420e-03</td>\n",
       "    </tr>\n",
       "    <tr>\n",
       "      <th rowspan=\"5\" valign=\"top\">97.0</th>\n",
       "      <th>All_genes</th>\n",
       "      <td>1.000000</td>\n",
       "      <td>1.000000e+00</td>\n",
       "    </tr>\n",
       "    <tr>\n",
       "      <th>Busco</th>\n",
       "      <td>0.000094</td>\n",
       "      <td>4.268641e-06</td>\n",
       "    </tr>\n",
       "    <tr>\n",
       "      <th>Ceffectors</th>\n",
       "      <td>1.000000</td>\n",
       "      <td>2.093214e-03</td>\n",
       "    </tr>\n",
       "    <tr>\n",
       "      <th>EffectorP</th>\n",
       "      <td>1.000000</td>\n",
       "      <td>6.948678e-01</td>\n",
       "    </tr>\n",
       "    <tr>\n",
       "      <th>Secretome</th>\n",
       "      <td>0.162495</td>\n",
       "      <td>4.572518e-02</td>\n",
       "    </tr>\n",
       "    <tr>\n",
       "      <th rowspan=\"5\" valign=\"top\">98.0</th>\n",
       "      <th>All_genes</th>\n",
       "      <td>1.000000</td>\n",
       "      <td>1.000000e+00</td>\n",
       "    </tr>\n",
       "    <tr>\n",
       "      <th>Busco</th>\n",
       "      <td>0.000293</td>\n",
       "      <td>1.565639e-01</td>\n",
       "    </tr>\n",
       "    <tr>\n",
       "      <th>Ceffectors</th>\n",
       "      <td>0.943618</td>\n",
       "      <td>1.182754e-02</td>\n",
       "    </tr>\n",
       "    <tr>\n",
       "      <th>EffectorP</th>\n",
       "      <td>0.943618</td>\n",
       "      <td>1.239965e-01</td>\n",
       "    </tr>\n",
       "    <tr>\n",
       "      <th>Secretome</th>\n",
       "      <td>0.964157</td>\n",
       "      <td>7.933231e-01</td>\n",
       "    </tr>\n",
       "    <tr>\n",
       "      <th rowspan=\"5\" valign=\"top\">99.0</th>\n",
       "      <th>All_genes</th>\n",
       "      <td>1.000000</td>\n",
       "      <td>1.000000e+00</td>\n",
       "    </tr>\n",
       "    <tr>\n",
       "      <th>Busco</th>\n",
       "      <td>0.755995</td>\n",
       "      <td>1.130160e-01</td>\n",
       "    </tr>\n",
       "    <tr>\n",
       "      <th>Ceffectors</th>\n",
       "      <td>0.051098</td>\n",
       "      <td>2.983810e-02</td>\n",
       "    </tr>\n",
       "    <tr>\n",
       "      <th>EffectorP</th>\n",
       "      <td>0.051098</td>\n",
       "      <td>9.907005e-03</td>\n",
       "    </tr>\n",
       "    <tr>\n",
       "      <th>Secretome</th>\n",
       "      <td>0.702317</td>\n",
       "      <td>2.399763e-01</td>\n",
       "    </tr>\n",
       "    <tr>\n",
       "      <th rowspan=\"5\" valign=\"top\">100.0</th>\n",
       "      <th>All_genes</th>\n",
       "      <td>1.000000</td>\n",
       "      <td>1.000000e+00</td>\n",
       "    </tr>\n",
       "    <tr>\n",
       "      <th>Busco</th>\n",
       "      <td>0.899560</td>\n",
       "      <td>9.662264e-01</td>\n",
       "    </tr>\n",
       "    <tr>\n",
       "      <th>Ceffectors</th>\n",
       "      <td>0.953178</td>\n",
       "      <td>3.873449e-11</td>\n",
       "    </tr>\n",
       "    <tr>\n",
       "      <th>EffectorP</th>\n",
       "      <td>0.953178</td>\n",
       "      <td>9.741524e-01</td>\n",
       "    </tr>\n",
       "    <tr>\n",
       "      <th>Secretome</th>\n",
       "      <td>0.970235</td>\n",
       "      <td>1.000000e+00</td>\n",
       "    </tr>\n",
       "  </tbody>\n",
       "</table>\n",
       "</div>"
      ],
      "text/plain": [
       "                      DK0911      Pst_104E\n",
       "Cut-off Type                              \n",
       "70.0    All_genes   1.000000  1.000000e+00\n",
       "        Busco       0.000017  4.601254e-15\n",
       "        Ceffectors  1.000000  5.513537e-03\n",
       "        EffectorP   1.000000  4.608696e-01\n",
       "        Secretome   0.037733  3.946967e-03\n",
       "80.0    All_genes   1.000000  1.000000e+00\n",
       "        Busco       0.000017  4.601254e-15\n",
       "        Ceffectors  1.000000  5.513537e-03\n",
       "        EffectorP   1.000000  4.608696e-01\n",
       "        Secretome   0.037733  3.946967e-03\n",
       "85.0    All_genes   1.000000  1.000000e+00\n",
       "        Busco       0.000017  4.601254e-15\n",
       "        Ceffectors  1.000000  5.513537e-03\n",
       "        EffectorP   1.000000  4.608696e-01\n",
       "        Secretome   0.037733  3.946967e-03\n",
       "90.0    All_genes   1.000000  1.000000e+00\n",
       "        Busco       0.000017  3.588639e-15\n",
       "        Ceffectors  1.000000  6.231400e-03\n",
       "        EffectorP   1.000000  4.342227e-01\n",
       "        Secretome   0.037733  4.461713e-03\n",
       "95.0    All_genes   1.000000  1.000000e+00\n",
       "        Busco       0.000046  1.719902e-13\n",
       "        Ceffectors  0.923490  3.478190e-03\n",
       "        EffectorP   0.923490  5.002761e-01\n",
       "        Secretome   0.018395  2.438179e-03\n",
       "96.0    All_genes   1.000000  1.000000e+00\n",
       "        Busco       0.000012  4.032448e-11\n",
       "        Ceffectors  0.851965  2.201587e-03\n",
       "        EffectorP   0.851965  5.726985e-01\n",
       "        Secretome   0.029680  4.224420e-03\n",
       "97.0    All_genes   1.000000  1.000000e+00\n",
       "        Busco       0.000094  4.268641e-06\n",
       "        Ceffectors  1.000000  2.093214e-03\n",
       "        EffectorP   1.000000  6.948678e-01\n",
       "        Secretome   0.162495  4.572518e-02\n",
       "98.0    All_genes   1.000000  1.000000e+00\n",
       "        Busco       0.000293  1.565639e-01\n",
       "        Ceffectors  0.943618  1.182754e-02\n",
       "        EffectorP   0.943618  1.239965e-01\n",
       "        Secretome   0.964157  7.933231e-01\n",
       "99.0    All_genes   1.000000  1.000000e+00\n",
       "        Busco       0.755995  1.130160e-01\n",
       "        Ceffectors  0.051098  2.983810e-02\n",
       "        EffectorP   0.051098  9.907005e-03\n",
       "        Secretome   0.702317  2.399763e-01\n",
       "100.0   All_genes   1.000000  1.000000e+00\n",
       "        Busco       0.899560  9.662264e-01\n",
       "        Ceffectors  0.953178  3.873449e-11\n",
       "        EffectorP   0.953178  9.741524e-01\n",
       "        Secretome   0.970235  1.000000e+00"
      ]
     },
     "execution_count": 56,
     "metadata": {},
     "output_type": "execute_result"
    }
   ],
   "source": [
    "out_fn = os.path.join(OUT_dir, 'WGA_fisher_df.tsv')\n",
    "Fishers_df.to_csv(out_fn, sep='\\t')\n",
    "Fishers_df"
   ]
  },
  {
   "cell_type": "code",
   "execution_count": 57,
   "metadata": {
    "ExecuteTime": {
     "end_time": "2019-08-28T03:25:16.645270Z",
     "start_time": "2019-08-28T03:25:16.623422Z"
    }
   },
   "outputs": [
    {
     "data": {
      "text/html": [
       "<div>\n",
       "<style scoped>\n",
       "    .dataframe tbody tr th:only-of-type {\n",
       "        vertical-align: middle;\n",
       "    }\n",
       "\n",
       "    .dataframe tbody tr th {\n",
       "        vertical-align: top;\n",
       "    }\n",
       "\n",
       "    .dataframe thead th {\n",
       "        text-align: right;\n",
       "    }\n",
       "</style>\n",
       "<table border=\"1\" class=\"dataframe\">\n",
       "  <thead>\n",
       "    <tr style=\"text-align: right;\">\n",
       "      <th></th>\n",
       "      <th></th>\n",
       "      <th>DK0911</th>\n",
       "      <th>Pst_104E</th>\n",
       "    </tr>\n",
       "    <tr>\n",
       "      <th>Cut-off</th>\n",
       "      <th>Type</th>\n",
       "      <th></th>\n",
       "      <th></th>\n",
       "    </tr>\n",
       "  </thead>\n",
       "  <tbody>\n",
       "    <tr>\n",
       "      <th rowspan=\"5\" valign=\"top\">70.0</th>\n",
       "      <th>All_genes</th>\n",
       "      <td>536</td>\n",
       "      <td>1973</td>\n",
       "    </tr>\n",
       "    <tr>\n",
       "      <th>Busco</th>\n",
       "      <td>18</td>\n",
       "      <td>79</td>\n",
       "    </tr>\n",
       "    <tr>\n",
       "      <th>Ceffectors</th>\n",
       "      <td>28</td>\n",
       "      <td>185</td>\n",
       "    </tr>\n",
       "    <tr>\n",
       "      <th>EffectorP</th>\n",
       "      <td>28</td>\n",
       "      <td>142</td>\n",
       "    </tr>\n",
       "    <tr>\n",
       "      <th>Secretome</th>\n",
       "      <td>57</td>\n",
       "      <td>248</td>\n",
       "    </tr>\n",
       "    <tr>\n",
       "      <th rowspan=\"5\" valign=\"top\">80.0</th>\n",
       "      <th>All_genes</th>\n",
       "      <td>536</td>\n",
       "      <td>1973</td>\n",
       "    </tr>\n",
       "    <tr>\n",
       "      <th>Busco</th>\n",
       "      <td>18</td>\n",
       "      <td>79</td>\n",
       "    </tr>\n",
       "    <tr>\n",
       "      <th>Ceffectors</th>\n",
       "      <td>28</td>\n",
       "      <td>185</td>\n",
       "    </tr>\n",
       "    <tr>\n",
       "      <th>EffectorP</th>\n",
       "      <td>28</td>\n",
       "      <td>142</td>\n",
       "    </tr>\n",
       "    <tr>\n",
       "      <th>Secretome</th>\n",
       "      <td>57</td>\n",
       "      <td>248</td>\n",
       "    </tr>\n",
       "    <tr>\n",
       "      <th rowspan=\"5\" valign=\"top\">85.0</th>\n",
       "      <th>All_genes</th>\n",
       "      <td>536</td>\n",
       "      <td>1973</td>\n",
       "    </tr>\n",
       "    <tr>\n",
       "      <th>Busco</th>\n",
       "      <td>18</td>\n",
       "      <td>79</td>\n",
       "    </tr>\n",
       "    <tr>\n",
       "      <th>Ceffectors</th>\n",
       "      <td>28</td>\n",
       "      <td>185</td>\n",
       "    </tr>\n",
       "    <tr>\n",
       "      <th>EffectorP</th>\n",
       "      <td>28</td>\n",
       "      <td>142</td>\n",
       "    </tr>\n",
       "    <tr>\n",
       "      <th>Secretome</th>\n",
       "      <td>57</td>\n",
       "      <td>248</td>\n",
       "    </tr>\n",
       "    <tr>\n",
       "      <th rowspan=\"5\" valign=\"top\">90.0</th>\n",
       "      <th>All_genes</th>\n",
       "      <td>536</td>\n",
       "      <td>1980</td>\n",
       "    </tr>\n",
       "    <tr>\n",
       "      <th>Busco</th>\n",
       "      <td>18</td>\n",
       "      <td>79</td>\n",
       "    </tr>\n",
       "    <tr>\n",
       "      <th>Ceffectors</th>\n",
       "      <td>28</td>\n",
       "      <td>186</td>\n",
       "    </tr>\n",
       "    <tr>\n",
       "      <th>EffectorP</th>\n",
       "      <td>28</td>\n",
       "      <td>143</td>\n",
       "    </tr>\n",
       "    <tr>\n",
       "      <th>Secretome</th>\n",
       "      <td>57</td>\n",
       "      <td>250</td>\n",
       "    </tr>\n",
       "    <tr>\n",
       "      <th rowspan=\"5\" valign=\"top\">95.0</th>\n",
       "      <th>All_genes</th>\n",
       "      <td>553</td>\n",
       "      <td>2084</td>\n",
       "    </tr>\n",
       "    <tr>\n",
       "      <th>Busco</th>\n",
       "      <td>20</td>\n",
       "      <td>91</td>\n",
       "    </tr>\n",
       "    <tr>\n",
       "      <th>Ceffectors</th>\n",
       "      <td>28</td>\n",
       "      <td>194</td>\n",
       "    </tr>\n",
       "    <tr>\n",
       "      <th>EffectorP</th>\n",
       "      <td>28</td>\n",
       "      <td>149</td>\n",
       "    </tr>\n",
       "    <tr>\n",
       "      <th>Secretome</th>\n",
       "      <td>57</td>\n",
       "      <td>261</td>\n",
       "    </tr>\n",
       "    <tr>\n",
       "      <th rowspan=\"5\" valign=\"top\">96.0</th>\n",
       "      <th>All_genes</th>\n",
       "      <td>584</td>\n",
       "      <td>2249</td>\n",
       "    </tr>\n",
       "    <tr>\n",
       "      <th>Busco</th>\n",
       "      <td>20</td>\n",
       "      <td>111</td>\n",
       "    </tr>\n",
       "    <tr>\n",
       "      <th>Ceffectors</th>\n",
       "      <td>32</td>\n",
       "      <td>209</td>\n",
       "    </tr>\n",
       "    <tr>\n",
       "      <th>EffectorP</th>\n",
       "      <td>32</td>\n",
       "      <td>159</td>\n",
       "    </tr>\n",
       "    <tr>\n",
       "      <th>Secretome</th>\n",
       "      <td>62</td>\n",
       "      <td>287</td>\n",
       "    </tr>\n",
       "    <tr>\n",
       "      <th rowspan=\"5\" valign=\"top\">97.0</th>\n",
       "      <th>All_genes</th>\n",
       "      <td>674</td>\n",
       "      <td>2800</td>\n",
       "    </tr>\n",
       "    <tr>\n",
       "      <th>Busco</th>\n",
       "      <td>28</td>\n",
       "      <td>178</td>\n",
       "    </tr>\n",
       "    <tr>\n",
       "      <th>Ceffectors</th>\n",
       "      <td>35</td>\n",
       "      <td>266</td>\n",
       "    </tr>\n",
       "    <tr>\n",
       "      <th>EffectorP</th>\n",
       "      <td>35</td>\n",
       "      <td>194</td>\n",
       "    </tr>\n",
       "    <tr>\n",
       "      <th>Secretome</th>\n",
       "      <td>81</td>\n",
       "      <td>383</td>\n",
       "    </tr>\n",
       "    <tr>\n",
       "      <th rowspan=\"5\" valign=\"top\">98.0</th>\n",
       "      <th>All_genes</th>\n",
       "      <td>1032</td>\n",
       "      <td>4551</td>\n",
       "    </tr>\n",
       "    <tr>\n",
       "      <th>Busco</th>\n",
       "      <td>53</td>\n",
       "      <td>380</td>\n",
       "    </tr>\n",
       "    <tr>\n",
       "      <th>Ceffectors</th>\n",
       "      <td>55</td>\n",
       "      <td>465</td>\n",
       "    </tr>\n",
       "    <tr>\n",
       "      <th>EffectorP</th>\n",
       "      <td>55</td>\n",
       "      <td>337</td>\n",
       "    </tr>\n",
       "    <tr>\n",
       "      <th>Secretome</th>\n",
       "      <td>146</td>\n",
       "      <td>689</td>\n",
       "    </tr>\n",
       "    <tr>\n",
       "      <th rowspan=\"5\" valign=\"top\">99.0</th>\n",
       "      <th>All_genes</th>\n",
       "      <td>3012</td>\n",
       "      <td>9088</td>\n",
       "    </tr>\n",
       "    <tr>\n",
       "      <th>Busco</th>\n",
       "      <td>258</td>\n",
       "      <td>878</td>\n",
       "    </tr>\n",
       "    <tr>\n",
       "      <th>Ceffectors</th>\n",
       "      <td>187</td>\n",
       "      <td>973</td>\n",
       "    </tr>\n",
       "    <tr>\n",
       "      <th>EffectorP</th>\n",
       "      <td>187</td>\n",
       "      <td>689</td>\n",
       "    </tr>\n",
       "    <tr>\n",
       "      <th>Secretome</th>\n",
       "      <td>420</td>\n",
       "      <td>1447</td>\n",
       "    </tr>\n",
       "    <tr>\n",
       "      <th rowspan=\"5\" valign=\"top\">100.0</th>\n",
       "      <th>All_genes</th>\n",
       "      <td>25840</td>\n",
       "      <td>30166</td>\n",
       "    </tr>\n",
       "    <tr>\n",
       "      <th>Busco</th>\n",
       "      <td>2178</td>\n",
       "      <td>2735</td>\n",
       "    </tr>\n",
       "    <tr>\n",
       "      <th>Ceffectors</th>\n",
       "      <td>1373</td>\n",
       "      <td>2951</td>\n",
       "    </tr>\n",
       "    <tr>\n",
       "      <th>EffectorP</th>\n",
       "      <td>1373</td>\n",
       "      <td>2029</td>\n",
       "    </tr>\n",
       "    <tr>\n",
       "      <th>Secretome</th>\n",
       "      <td>3688</td>\n",
       "      <td>4625</td>\n",
       "    </tr>\n",
       "  </tbody>\n",
       "</table>\n",
       "</div>"
      ],
      "text/plain": [
       "                    DK0911  Pst_104E\n",
       "Cut-off Type                        \n",
       "70.0    All_genes      536      1973\n",
       "        Busco           18        79\n",
       "        Ceffectors      28       185\n",
       "        EffectorP       28       142\n",
       "        Secretome       57       248\n",
       "80.0    All_genes      536      1973\n",
       "        Busco           18        79\n",
       "        Ceffectors      28       185\n",
       "        EffectorP       28       142\n",
       "        Secretome       57       248\n",
       "85.0    All_genes      536      1973\n",
       "        Busco           18        79\n",
       "        Ceffectors      28       185\n",
       "        EffectorP       28       142\n",
       "        Secretome       57       248\n",
       "90.0    All_genes      536      1980\n",
       "        Busco           18        79\n",
       "        Ceffectors      28       186\n",
       "        EffectorP       28       143\n",
       "        Secretome       57       250\n",
       "95.0    All_genes      553      2084\n",
       "        Busco           20        91\n",
       "        Ceffectors      28       194\n",
       "        EffectorP       28       149\n",
       "        Secretome       57       261\n",
       "96.0    All_genes      584      2249\n",
       "        Busco           20       111\n",
       "        Ceffectors      32       209\n",
       "        EffectorP       32       159\n",
       "        Secretome       62       287\n",
       "97.0    All_genes      674      2800\n",
       "        Busco           28       178\n",
       "        Ceffectors      35       266\n",
       "        EffectorP       35       194\n",
       "        Secretome       81       383\n",
       "98.0    All_genes     1032      4551\n",
       "        Busco           53       380\n",
       "        Ceffectors      55       465\n",
       "        EffectorP       55       337\n",
       "        Secretome      146       689\n",
       "99.0    All_genes     3012      9088\n",
       "        Busco          258       878\n",
       "        Ceffectors     187       973\n",
       "        EffectorP      187       689\n",
       "        Secretome      420      1447\n",
       "100.0   All_genes    25840     30166\n",
       "        Busco         2178      2735\n",
       "        Ceffectors    1373      2951\n",
       "        EffectorP     1373      2029\n",
       "        Secretome     3688      4625"
      ]
     },
     "execution_count": 57,
     "metadata": {},
     "output_type": "execute_result"
    }
   ],
   "source": [
    "out_fn = os.path.join(OUT_dir, 'WGA_absence_df.tsv')\n",
    "Absence_df.to_csv(out_fn, sep='\\t')\n",
    "Absence_df"
   ]
  },
  {
   "cell_type": "code",
   "execution_count": 58,
   "metadata": {
    "ExecuteTime": {
     "end_time": "2019-08-28T03:25:16.792913Z",
     "start_time": "2019-08-28T03:25:16.647191Z"
    }
   },
   "outputs": [
    {
     "data": {
      "text/html": [
       "<div>\n",
       "<style scoped>\n",
       "    .dataframe tbody tr th:only-of-type {\n",
       "        vertical-align: middle;\n",
       "    }\n",
       "\n",
       "    .dataframe tbody tr th {\n",
       "        vertical-align: top;\n",
       "    }\n",
       "\n",
       "    .dataframe thead th {\n",
       "        text-align: right;\n",
       "    }\n",
       "</style>\n",
       "<table border=\"1\" class=\"dataframe\">\n",
       "  <thead>\n",
       "    <tr style=\"text-align: right;\">\n",
       "      <th></th>\n",
       "      <th>DK0911</th>\n",
       "      <th>Pst_104E</th>\n",
       "    </tr>\n",
       "  </thead>\n",
       "  <tbody>\n",
       "    <tr>\n",
       "      <th>70.0</th>\n",
       "      <td>4044908</td>\n",
       "      <td>16452382</td>\n",
       "    </tr>\n",
       "    <tr>\n",
       "      <th>80.0</th>\n",
       "      <td>4044908</td>\n",
       "      <td>16452382</td>\n",
       "    </tr>\n",
       "    <tr>\n",
       "      <th>85.0</th>\n",
       "      <td>4044908</td>\n",
       "      <td>16452382</td>\n",
       "    </tr>\n",
       "    <tr>\n",
       "      <th>90.0</th>\n",
       "      <td>4047543</td>\n",
       "      <td>16458336</td>\n",
       "    </tr>\n",
       "    <tr>\n",
       "      <th>95.0</th>\n",
       "      <td>4125467</td>\n",
       "      <td>16912063</td>\n",
       "    </tr>\n",
       "    <tr>\n",
       "      <th>96.0</th>\n",
       "      <td>4290256</td>\n",
       "      <td>17499925</td>\n",
       "    </tr>\n",
       "    <tr>\n",
       "      <th>97.0</th>\n",
       "      <td>4679529</td>\n",
       "      <td>19618957</td>\n",
       "    </tr>\n",
       "    <tr>\n",
       "      <th>98.0</th>\n",
       "      <td>6215870</td>\n",
       "      <td>26365995</td>\n",
       "    </tr>\n",
       "    <tr>\n",
       "      <th>99.0</th>\n",
       "      <td>14281977</td>\n",
       "      <td>45756967</td>\n",
       "    </tr>\n",
       "    <tr>\n",
       "      <th>100.0</th>\n",
       "      <td>126112766</td>\n",
       "      <td>156396447</td>\n",
       "    </tr>\n",
       "  </tbody>\n",
       "</table>\n",
       "</div>"
      ],
      "text/plain": [
       "          DK0911   Pst_104E\n",
       "70.0     4044908   16452382\n",
       "80.0     4044908   16452382\n",
       "85.0     4044908   16452382\n",
       "90.0     4047543   16458336\n",
       "95.0     4125467   16912063\n",
       "96.0     4290256   17499925\n",
       "97.0     4679529   19618957\n",
       "98.0     6215870   26365995\n",
       "99.0    14281977   45756967\n",
       "100.0  126112766  156396447"
      ]
     },
     "execution_count": 58,
     "metadata": {},
     "output_type": "execute_result"
    }
   ],
   "source": [
    "#loop over the different lowcoverage file, filter them and count the total bases of lowcoverage\n",
    "summary_dict = {}\n",
    "summary_dict['DK0911'] = []\n",
    "summary_dict['Pst_104E'] = []\n",
    "index = []\n",
    "for m_fn in mummer_files:\n",
    "    non_cov_bases = non_covered_bases(pd.read_csv(m_fn, sep='\\t', header=None, names=['chrom', 'start', 'end']))\n",
    "    cut_off = os.path.basename(m_fn).split('.')[-3].replace('deltafilter_i', '').replace('mu0g_','')\n",
    "    index.append(cut_off)\n",
    "    if m_fn.split('.')[1].startswith('Pst_'):\n",
    "        summary_dict['DK0911'].append(non_cov_bases)\n",
    "    elif m_fn.split('.')[1].startswith('DK_0911_'):\n",
    "        summary_dict['Pst_104E'].append(non_cov_bases)\n",
    "\n",
    "length = len(index) \n",
    "index[0:int(length/2)] == index[int(length/2):]\n",
    "df = pd.DataFrame.from_dict(summary_dict)\n",
    "df.index = [float(x) for x in index[0:int(length/2)]]\n",
    "df.sort_index(inplace=True)\n",
    "#check on Pst_104E mapping on DK0911\n",
    "out_fn = os.path.join(OUT_dir, 'WGA_missing_bases_df.tsv')\n",
    "df.to_csv(out_fn, sep='\\t')\n",
    "df"
   ]
  },
  {
   "cell_type": "code",
   "execution_count": 59,
   "metadata": {
    "ExecuteTime": {
     "end_time": "2019-08-28T03:25:16.801565Z",
     "start_time": "2019-08-28T03:25:16.795690Z"
    }
   },
   "outputs": [
    {
     "name": "stdout",
     "output_type": "stream",
     "text": [
      "This is the file that got randomized: /home/benjamin/genome_assembly/Warrior/DK0911_v04/comp_COV/mummer4/Pst_104E_v13_ph_ctg.DK_0911_v04_ph_ctg.l100.c500.mm.deltafilter_i95mu0g_.nr_reverse.bed\n",
      "\n",
      "\n",
      "This is the file that got randomized: /home/benjamin/genome_assembly/Warrior/DK0911_v04/comp_COV/mummer4/DK_0911_v04_ph_ctg.Pst_104E_v13_ph_ctg.l100.c500.mm.deltafilter_i95mu0g_.nr_reverse.bed\n",
      "\n",
      "\n"
     ]
    }
   ],
   "source": [
    "print(\"This is the file that got randomized: %s\\n\\n\" % mummer_files[-5])\n",
    "print(\"This is the file that got randomized: %s\\n\\n\" % mummer_files[5])"
   ]
  },
  {
   "cell_type": "code",
   "execution_count": 60,
   "metadata": {
    "ExecuteTime": {
     "end_time": "2019-08-28T03:33:36.440330Z",
     "start_time": "2019-08-28T03:25:16.804354Z"
    },
    "collapsed": true
   },
   "outputs": [],
   "source": [
    "#randomize the bedfiles of the WGA targted. Yet first look at the results of fishers exact tests and\n",
    "#pick the appropriate coveraged cut off\n",
    "randomize_bed(mummer_files[-5], Pst_104E_genome_file_fn, WGA_cov_rand_outdir, n=5000)\n",
    "randomize_bed(mummer_files[5], DK0911_genome_file_fn, WGA_cov_rand_outdir, n=5000)"
   ]
  },
  {
   "cell_type": "code",
   "execution_count": 62,
   "metadata": {
    "ExecuteTime": {
     "end_time": "2019-08-28T06:50:24.742116Z",
     "start_time": "2019-08-28T06:43:34.008802Z"
    }
   },
   "outputs": [
    {
     "ename": "NameError",
     "evalue": "name 'DK0911_random_dict_WGA' is not defined",
     "output_type": "error",
     "traceback": [
      "\u001b[0;31m---------------------------------------------------------------------------\u001b[0m",
      "\u001b[0;31mNameError\u001b[0m                                 Traceback (most recent call last)",
      "\u001b[0;32m<ipython-input-62-75ff164eab99>\u001b[0m in \u001b[0;36m<module>\u001b[0;34m()\u001b[0m\n\u001b[1;32m     11\u001b[0m     \u001b[0;32mfor\u001b[0m \u001b[0mrand_fn\u001b[0m \u001b[0;32min\u001b[0m \u001b[0mPst_104E_random_fn_WGA\u001b[0m\u001b[0;34m:\u001b[0m\u001b[0;34m\u001b[0m\u001b[0m\n\u001b[1;32m     12\u001b[0m         \u001b[0mPst_random_dict_WGA\u001b[0m\u001b[0;34m[\u001b[0m\u001b[0mkey\u001b[0m\u001b[0;34m]\u001b[0m\u001b[0;34m.\u001b[0m\u001b[0mappend\u001b[0m\u001b[0;34m(\u001b[0m\u001b[0mcount_overlap_features\u001b[0m\u001b[0;34m(\u001b[0m\u001b[0mPst_104E_dict\u001b[0m\u001b[0;34m[\u001b[0m\u001b[0mkey\u001b[0m\u001b[0;34m]\u001b[0m\u001b[0;34m,\u001b[0m \u001b[0mrand_fn\u001b[0m\u001b[0;34m,\u001b[0m \u001b[0mmin_overlap\u001b[0m\u001b[0;34m)\u001b[0m\u001b[0;34m)\u001b[0m\u001b[0;34m\u001b[0m\u001b[0m\n\u001b[0;32m---> 13\u001b[0;31m     \u001b[0mDK0911_random_dict_WGA\u001b[0m\u001b[0;34m[\u001b[0m\u001b[0mkey\u001b[0m\u001b[0;34m]\u001b[0m \u001b[0;34m=\u001b[0m \u001b[0;34m[\u001b[0m\u001b[0;34m]\u001b[0m\u001b[0;34m\u001b[0m\u001b[0m\n\u001b[0m\u001b[1;32m     14\u001b[0m     \u001b[0;32mfor\u001b[0m \u001b[0mrand_fn\u001b[0m \u001b[0;32min\u001b[0m \u001b[0mDK0911_random_fn_WGA\u001b[0m\u001b[0;34m:\u001b[0m\u001b[0;34m\u001b[0m\u001b[0m\n\u001b[1;32m     15\u001b[0m         \u001b[0mDK0911_random_dict_WGA\u001b[0m\u001b[0;34m[\u001b[0m\u001b[0mkey\u001b[0m\u001b[0;34m]\u001b[0m\u001b[0;34m.\u001b[0m\u001b[0mappend\u001b[0m\u001b[0;34m(\u001b[0m\u001b[0mcount_overlap_features\u001b[0m\u001b[0;34m(\u001b[0m\u001b[0mDK0911_dict\u001b[0m\u001b[0;34m[\u001b[0m\u001b[0mkey\u001b[0m\u001b[0;34m]\u001b[0m\u001b[0;34m,\u001b[0m \u001b[0mrand_fn\u001b[0m\u001b[0;34m,\u001b[0m \u001b[0mmin_overlap\u001b[0m\u001b[0;34m)\u001b[0m\u001b[0;34m)\u001b[0m\u001b[0;34m\u001b[0m\u001b[0m\n",
      "\u001b[0;31mNameError\u001b[0m: name 'DK0911_random_dict_WGA' is not defined"
     ]
    }
   ],
   "source": [
    "#loop over all gene files\n",
    "#for each gene file do the whole permuation test and safe it as part of a dictionary\n",
    "Pst_104E_random_fn_WGA = [os.path.join(WGA_cov_rand_outdir, x) for x in os.listdir(WGA_cov_rand_outdir) if x.startswith('Pst')]\n",
    "Pst_104E_random_fn_WGA.sort()\n",
    "DK0911_random_fn_WGA = [os.path.join(WGA_cov_rand_outdir, x) for x in os.listdir(WGA_cov_rand_outdir) if x.startswith('DK')]\n",
    "DK0911_random_fn_WGA.sort()\n",
    "Pst_random_dict_WGA = {}\n",
    "DK0911_random_dict_WGA = {}\n",
    "min_overlap = 1.0\n",
    "for key in keys:\n",
    "    Pst_random_dict_WGA[key] = []\n",
    "    for rand_fn in Pst_104E_random_fn_WGA:\n",
    "        Pst_random_dict_WGA[key].append(count_overlap_features(Pst_104E_dict[key], rand_fn, min_overlap))\n",
    "    DK0911_random_dict_WGA[key] = []\n",
    "    for rand_fn in DK0911_random_fn_WGA:\n",
    "        DK0911_random_dict_WGA[key].append(count_overlap_features(DK0911_dict[key], rand_fn, min_overlap))"
   ]
  },
  {
   "cell_type": "code",
   "execution_count": null,
   "metadata": {
    "ExecuteTime": {
     "end_time": "2019-08-28T03:33:36.531933Z",
     "start_time": "2019-08-28T02:36:42.255Z"
    }
   },
   "outputs": [],
   "source": [
    "reference_bed_fn = mummer_files[-5]\n",
    "columns = len(keys)\n",
    "f1, ax = plt.subplots(1, columns, figsize=(20, 4))\n",
    "\n",
    "\n",
    "for n, key in enumerate(keys):\n",
    "    overlap = count_overlap_features(Pst_104E_dict[key],reference_bed_fn, min_overlap)\n",
    "    random_values = Pst_random_dict_WGA[key]\n",
    "    count = 0 \n",
    "    for i in random_values:\n",
    "        if i > overlap:\n",
    "            count += 1\n",
    "    p = count/len(random_values)\n",
    "    \n",
    "    two_side_p = 2*p\n",
    "    \n",
    "    if two_side_p > 1:\n",
    "        two_side_p = round(2 - two_side_p, 3)\n",
    "    sns.violinplot(y=random_values, color=pallete[0], ax=ax[n])\n",
    "    ax[n].axhline(y=overlap, color='r', linestyle='-')\n",
    "    ax[n].set_title(key, fontsize=16)\n",
    "    ax[n].set_xlabel('p=' + str(two_side_p), fontsize=16)\n",
    "    ax[0].set_ylabel('Number of overlapping genes', fontsize=16)\n",
    "    out_fn = os.path.join(OUT_dir, 'Pst104E_noncovered_%s_WGAmi95_mo%s.facett.png' % (key,min_overlap))\n",
    "    plt.savefig(out_fn, dpi =300)\n",
    "for key in keys:\n",
    "    overlap = count_overlap_features(Pst_104E_dict[key],reference_bed_fn, min_overlap)\n",
    "    random_values = Pst_random_dict_WGA[key]\n",
    "\n",
    "    count = 0 \n",
    "    for i in random_values:\n",
    "        if i > overlap:\n",
    "            count += 1\n",
    "    p = count/len(random_values)\n",
    "    \n",
    "    two_side_p = 2*p\n",
    "    \n",
    "    if two_side_p > 1:\n",
    "        two_side_p = round(2 - two_side_p, 3)\n",
    "        \n",
    "    f, ax = plt.subplots(figsize=(4, 7))\n",
    "    plt.style.use('fast')\n",
    "    sns.violinplot(y=random_values, color=pallete[0])\n",
    "    plt.axhline(y=overlap, color='r', linestyle='-')\n",
    "    plt.title(key, fontsize=16)\n",
    "    plt.ylabel('Number of overlapping genes', fontsize=16)\n",
    "\n",
    "    plt.rc('xtick', labelsize=16)\n",
    "    plt.rc('ytick', labelsize=16)\n",
    "    out_fn = os.path.join(OUT_dir, 'Pst104E_noncovered_%s_WGAmi95_mo%s.png' % (key,min_overlap))\n",
    "    plt.savefig(out_fn, dpi =300)"
   ]
  },
  {
   "cell_type": "code",
   "execution_count": null,
   "metadata": {
    "ExecuteTime": {
     "end_time": "2019-08-28T03:33:36.533111Z",
     "start_time": "2019-08-28T02:36:42.446Z"
    }
   },
   "outputs": [],
   "source": [
    "reference_bed_fn = mummer_files[5]\n",
    "columns = len(keys)\n",
    "f1, ax = plt.subplots(1, columns, figsize=(20, 4))\n",
    "\n",
    "\n",
    "for n, key in enumerate(keys):\n",
    "    overlap = count_overlap_features(DK0911_dict[key],reference_bed_fn, min_overlap)\n",
    "    random_values = DK0911_random_dict_WGA[key]\n",
    "    count = 0 \n",
    "    for i in random_values:\n",
    "        if i > overlap:\n",
    "            count += 1\n",
    "    p = count/len(random_values)\n",
    "    \n",
    "    two_side_p = 2*p\n",
    "    \n",
    "    if two_side_p > 1:\n",
    "        two_side_p = round(2 - two_side_p, 3)\n",
    "    sns.violinplot(y=random_values, color=pallete[1], ax=ax[n])\n",
    "    ax[n].axhline(y=overlap, color='r', linestyle='-')\n",
    "    ax[n].set_title(key, fontsize=16)\n",
    "    ax[n].set_xlabel('p=' + str(two_side_p), fontsize=16)\n",
    "    ax[0].set_ylabel('Number of overlapping genes', fontsize=16)\n",
    "    out_fn = os.path.join(OUT_dir, 'DK0911_noncovered_%s_WGAmi95_mo%s.facett.png' % (key,min_overlap))\n",
    "    plt.savefig(out_fn, dpi =300)    \n",
    "\n",
    "\n",
    "\n",
    "for key in keys:\n",
    "    overlap = count_overlap_features(DK0911_dict[key],reference_bed_fn, min_overlap)\n",
    "    random_values = DK0911_random_dict_WGA[key]\n",
    "\n",
    "    count = 0 \n",
    "    for i in random_values:\n",
    "        if i > overlap:\n",
    "            count += 1\n",
    "    p = count/len(random_values)\n",
    "    \n",
    "    two_side_p = 2*p\n",
    "    \n",
    "    if two_side_p > 1:\n",
    "        two_side_p = round(2 - two_side_p, 3)\n",
    "\n",
    "\n",
    "\n",
    "    f, ax = plt.subplots(figsize=(4, 7))\n",
    "    plt.style.use('fast')\n",
    "    sns.violinplot(y=random_values, color=pallete[1])\n",
    "    plt.axhline(y=overlap, color='r', linestyle='-')\n",
    "    plt.title(key, fontsize=16)\n",
    "    plt.ylabel('Number of overlapping genes', fontsize=16)\n",
    "    plt.xlabel('p=' + str(two_side_p), fontsize=16)\n",
    "    plt.rc('xtick', labelsize=16)\n",
    "    plt.rc('ytick', labelsize=16)\n",
    "    out_fn = os.path.join(OUT_dir, 'DK0911_noncovered_%s_WGAmi95_mo%s.png' % (key,min_overlap))\n",
    "    plt.savefig(out_fn, dpi =300)\n",
    "        "
   ]
  },
  {
   "cell_type": "markdown",
   "metadata": {},
   "source": [
    "### To-Do\n",
    "\n",
    "* look at transposable elements. Think about sliglthly different analysis including superfamily and family level"
   ]
  },
  {
   "cell_type": "code",
   "execution_count": null,
   "metadata": {
    "ExecuteTime": {
     "start_time": "2019-08-28T08:58:14.687Z"
    },
    "collapsed": true
   },
   "outputs": [],
   "source": [
    "#loop over all gene files\n",
    "#for each gene file do the whole permuation test and safe it as part of a dictionary\n",
    "Pst_104E_random_fn_lowcov = [os.path.join(SRM_cov_rand_outdir, x) for x in os.listdir(SRM_cov_rand_outdir) if x.startswith('Pst')]\n",
    "Pst_104E_random_fn_lowcov.sort()\n",
    "DK0911_random_fn_lowcov = [os.path.join(SRM_cov_rand_outdir, x) for x in os.listdir(SRM_cov_rand_outdir) if x.startswith('DK')]\n",
    "DK0911_random_fn_lowcov.sort()\n",
    "\n",
    "DK0911_random_dict_lowcov['TE_superfamily'] = []\n",
    "Pst_random_dict_lowcov['TE_superfamily'] = []\n",
    "for rand_fn in DK0911_random_fn_lowcov[:2500]:\n",
    "    DK0911_random_dict_lowcov['TE_superfamily'].append(count_base_overlap_TE(DK0911_dict['TE_superfamily'], rand_fn))\n",
    "for rand_fn in Pst_104E_random_fn_lowcov[:2500]:\n",
    "    #print(rand_fn)\n",
    "    Pst_random_dict_lowcov['TE_superfamily'].append(count_base_overlap_TE(Pst_104E_dict['TE_superfamily'], rand_fn))\n",
    "pybedtools.cleanup()"
   ]
  },
  {
   "cell_type": "code",
   "execution_count": null,
   "metadata": {
    "ExecuteTime": {
     "start_time": "2019-08-28T08:58:15.704Z"
    },
    "collapsed": true
   },
   "outputs": [],
   "source": [
    "#loop over all gene files\n",
    "#for each gene file do the whole permuation test and safe it as part of a dictionary\n",
    "Pst_104E_random_fn_WGA = [os.path.join(WGA_cov_rand_outdir, x) for x in os.listdir(WGA_cov_rand_outdir) if x.startswith('Pst')]\n",
    "Pst_104E_random_fn_WGA.sort()\n",
    "DK0911_random_fn_WGA = [os.path.join(WGA_cov_rand_outdir, x) for x in os.listdir(WGA_cov_rand_outdir) if x.startswith('DK')]\n",
    "DK0911_random_fn_WGA.sort()\n",
    "Pst_random_dict_WGA['TE_superfamily'] = []\n",
    "DK0911_random_dict_WGA['TE_superfamily'] = []\n",
    "for rand_fn in DK0911_random_fn_WGA[:2500]:\n",
    "    DK0911_random_dict_WGA['TE_superfamily'].append(count_base_overlap_TE(DK0911_dict['TE_superfamily'], rand_fn))\n",
    "for rand_fn in Pst_104E_random_fn_WGA[:2500]:\n",
    "    Pst_random_dict_WGA['TE_superfamily'].append(count_base_overlap_TE(Pst_104E_dict['TE_superfamily'], rand_fn))"
   ]
  },
  {
   "cell_type": "code",
   "execution_count": null,
   "metadata": {
    "ExecuteTime": {
     "start_time": "2019-08-28T08:58:29.355Z"
    }
   },
   "outputs": [],
   "source": [
    "out_fn = os.path.join(OUT_dir, 'DK0911_noncovered_TE_superfamily_lowcov01_mo.facett.png' )\n",
    "plot_TE_cov_expect('DK0911', DK0911_random_dict_lowcov['TE_superfamily'], pallete[1], out_fn)\n",
    "\n",
    "out_fn = os.path.join(OUT_dir, 'DK0911_noncovered_TE_superfamily_WGAmi95.facett.png' )\n",
    "plot_TE_cov_expect('DK0911', DK0911_random_dict_WGA['TE_superfamily'],pallete[1], out_fn)\n",
    "\n",
    "#Pst104E\n",
    "out_fn = os.path.join(OUT_dir, 'Pst104E_noncovered_TE_superfamily_lowcov01.facett.png')\n",
    "plot_TE_cov_expect('Pst_104E', Pst_random_dict_lowcov['TE_superfamily'],pallete[0], out_fn)\n",
    "\n",
    "out_fn = os.path.join(OUT_dir, 'Pst104E_noncovered_TE_superfamily_WGAmi95.facett.png')\n",
    "plot_TE_cov_expect('Pst_104E', Pst_random_dict_WGA['TE_superfamily'],pallete[0], out_fn)"
   ]
  },
  {
   "cell_type": "code",
   "execution_count": null,
   "metadata": {
    "ExecuteTime": {
     "end_time": "2019-08-28T03:33:36.537801Z",
     "start_time": "2019-08-28T02:36:46.631Z"
    }
   },
   "outputs": [],
   "source": [
    "print(\"hello\")"
   ]
  },
  {
   "cell_type": "code",
   "execution_count": null,
   "metadata": {
    "collapsed": true
   },
   "outputs": [],
   "source": []
  }
 ],
 "metadata": {
  "kernelspec": {
   "display_name": "Python [default]",
   "language": "python",
   "name": "python3"
  },
  "language_info": {
   "codemirror_mode": {
    "name": "ipython",
    "version": 3
   },
   "file_extension": ".py",
   "mimetype": "text/x-python",
   "name": "python",
   "nbconvert_exporter": "python",
   "pygments_lexer": "ipython3",
   "version": "3.5.4"
  },
  "toc": {
   "nav_menu": {},
   "number_sections": true,
   "sideBar": true,
   "skip_h1_title": false,
   "title_cell": "Table of Contents",
   "title_sidebar": "Contents",
   "toc_cell": false,
   "toc_position": {},
   "toc_section_display": true,
   "toc_window_display": false
  }
 },
 "nbformat": 4,
 "nbformat_minor": 2
}
