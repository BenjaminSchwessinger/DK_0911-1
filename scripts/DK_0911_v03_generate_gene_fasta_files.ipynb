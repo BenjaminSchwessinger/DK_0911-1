{
 "cells": [
  {
   "cell_type": "code",
   "execution_count": 50,
   "metadata": {
    "collapsed": false
   },
   "outputs": [],
   "source": [
    "import pandas as pd\n",
    "import os\n",
    "\n",
    "BASE_DIR = '/home/gamran/genome_analysis/Warrior/Richard/output/genome_v03/'\n",
    "\n",
    "H_CTG_GFF_LOC = BASE_DIR + 'DK_0911_v03_h_ctg.anno.gff3'\n",
    "P_CTG_GFF_LOC = BASE_DIR + 'DK_0911_v03_p_ctg.anno.gff3'\n",
    "\n",
    "pgff_df = pd.read_table(P_CTG_GFF_LOC, skiprows = 1, header = None,  \\\n",
    "                  names = ['seqid', 'source', 'type', 'start', 'end', 'score', 'strand', 'phase', 'attributes'])\n",
    "hgff_df = pd.read_table(H_CTG_GFF_LOC, skiprows = 1, header = None,  \\\n",
    "                  names = ['seqid', 'source', 'type', 'start', 'end', 'score', 'strand', 'phase', 'attributes']) \n"
   ]
  },
  {
   "cell_type": "code",
   "execution_count": null,
   "metadata": {
    "collapsed": false
   },
   "outputs": [],
   "source": [
    "# make pCtg BED6 DataFrame\n",
    "pbed_df = pgff_df.loc[:, ['seqid', 'start', 'end', 'type', 'score', 'strand']]\n",
    "pbed_df = pbed_df.rename(index=str, columns={'seqid':'chrom', 'start':'chromStart', 'end':'chromEnd', 'type':'name'})\n",
    "\n",
    "pbed_df['chromStart'] = pbed_df['chromStart'] - 1\n",
    "pbed_df['name'] = pbed_df['chrom']\n",
    "pbed_df['chrom'] = pbed_df['chrom'].apply(lambda s: s[8:11])\n",
    "pbed_df.set_index('chrom', inplace = True)"
   ]
  },
  {
   "cell_type": "code",
   "execution_count": 61,
   "metadata": {
    "collapsed": true
   },
   "outputs": [],
   "source": [
    "# make htg BED6 DataFrame\n",
    "hbed_df = hgff_df.loc[:, ['seqid', 'start', 'end', 'type', 'score', 'strand']]\n",
    "hbed_df = hbed_df.rename(index=str, columns={'seqid':'chrom', 'start':'chromStart', 'end':'chromEnd', 'type':'name'})\n",
    "\n",
    "hbed_df['chromStart'] = hbed_df['chromStart'] - 1\n",
    "hbed_df['name'] = hbed_df['chrom']\n",
    "hbed_df['chrom'] = hbed_df['chrom'].apply(lambda s: s[8:11])\n",
    "hbed_df.set_index('chrom', inplace = True)"
   ]
  },
  {
   "cell_type": "code",
   "execution_count": 63,
   "metadata": {
    "collapsed": false
   },
   "outputs": [],
   "source": [
    "# write pCtg BED6 DataFrame to BED file\n",
    "base_filename = 'DK_0911_v03_p_ctg.anno.bed'\n",
    "\n",
    "with open(os.path.join(BASE_DIR, base_filename), 'w') as outfile:\n",
    "    pbed_df.to_csv(outfile, sep='\\t', header = False)"
   ]
  },
  {
   "cell_type": "code",
   "execution_count": 64,
   "metadata": {
    "collapsed": false
   },
   "outputs": [],
   "source": [
    "# write htg BED6 DataFrame to BED file\n",
    "base_filename = 'DK_0911_v03_h_ctg.anno.bed'\n",
    "\n",
    "with open(os.path.join(BASE_DIR, base_filename), 'w') as outfile:\n",
    "    hbed_df.to_csv(outfile, sep='\\t', header = False)"
   ]
  },
  {
   "cell_type": "code",
   "execution_count": null,
   "metadata": {
    "collapsed": true
   },
   "outputs": [],
   "source": []
  }
 ],
 "metadata": {
  "anaconda-cloud": {},
  "kernelspec": {
   "display_name": "Python [conda root]",
   "language": "python",
   "name": "conda-root-py"
  },
  "language_info": {
   "codemirror_mode": {
    "name": "ipython",
    "version": 3
   },
   "file_extension": ".py",
   "mimetype": "text/x-python",
   "name": "python",
   "nbconvert_exporter": "python",
   "pygments_lexer": "ipython3",
   "version": "3.5.2"
  }
 },
 "nbformat": 4,
 "nbformat_minor": 1
}
