{
 "cells": [
  {
   "cell_type": "markdown",
   "metadata": {},
   "source": [
    "# Defining Alleles v02"
   ]
  },
  {
   "cell_type": "markdown",
   "metadata": {},
   "source": [
    "Based on original code by Benjamin Schwessinger."
   ]
  },
  {
   "cell_type": "markdown",
   "metadata": {},
   "source": [
    "#### Inputs\n",
    "* Assemblytics alignment of all haplotigs onto their corresponding primary contigs. The *.oriented_coords.csv will be converted to a gff file of haplotig alignments onto their respective primary contigs\n",
    "* gff file of all features. This will be filtered down to genes only and separated out for each contig\n",
    "* protein and gene *fasta* files for reciprocal BLAST of haplotig sequences onto primary sequences\n",
    "* the .poff from proteinortho.\n",
    "\n",
    "#### Process\n",
    "* for each primary gene/protein the overlapping haplotig is pulled out and added to the BLAST DataFrame\n",
    "* best BLAST hits are first filtered on e-value minimum followed by BitScore maximum\n",
    "\n",
    "* proteinortho was also used to identify alleles. This was run as follows:\n",
    "```\n",
    "/home/gamran/anaconda3/proteinortho_v5.16b/proteinortho5.pl -project=ph_ctg_516 -synteny ph_ctg_516/DK_0911_v04_h_ctg.protein.faa ph_ctg_516/DK_0911_v04_p_ctg.protein.faa\n",
    "```\n",
    "* Use the poff-graph and poff-proteinortho-graph for analysis\n",
    "* Depending on the run, the poff_header needs to be defined. In the current case, 'Target' followed 'Query'\n",
    "\n",
    "#### Outputs\n",
    "* *DK_0911_v0x_p_ctg.full_df.alleles*: contains all proteinortho hits and the best BLAST (p on h) pairs out of those primary proteins not identified as having an allele pair by proteinortho.\n",
    "* *DK_0911_v0x_h_ctg.full_df.alleles*: contains all the best BLAST (h on p) hits (h on p).\n",
    "  * NOTE that initial allele cutoffs (QCov/TCov/PctID) are defined in `DK_0911_post_allele_analysis_v02`, and therefore the initial set of alleles is not defined in this notebook. Since we only want the best reciprocal BLAST hits for haplotig proteins that were not already identified as alleles, the filtering for removing haplotig proteins that have already been paired with a primary protein must occur in `DK_0911_post_allele_analysis_v02`.\n",
    "* These files can be filtered based on QCov/TCov/%ID/Levenshtein similarity in `DK_0911_post_allele_analysis`."
   ]
  },
  {
   "cell_type": "code",
   "execution_count": 1,
   "metadata": {
    "ExecuteTime": {
     "end_time": "2018-02-21T00:51:44.412858Z",
     "start_time": "2018-02-21T00:51:43.858425Z"
    },
    "collapsed": true
   },
   "outputs": [],
   "source": [
    "%matplotlib inline"
   ]
  },
  {
   "cell_type": "code",
   "execution_count": 2,
   "metadata": {
    "ExecuteTime": {
     "end_time": "2018-02-21T00:51:45.837921Z",
     "start_time": "2018-02-21T00:51:44.699843Z"
    },
    "collapsed": true
   },
   "outputs": [],
   "source": [
    "import pandas as pd\n",
    "import os\n",
    "import re\n",
    "from Bio import SeqIO\n",
    "import pysam\n",
    "from Bio.SeqRecord import SeqRecord\n",
    "from pybedtools import BedTool\n",
    "import numpy as np\n",
    "import pybedtools\n",
    "import time\n",
    "import matplotlib.pyplot as plt\n",
    "import sys\n",
    "import subprocess\n",
    "import shutil\n"
   ]
  },
  {
   "cell_type": "code",
   "execution_count": 3,
   "metadata": {
    "ExecuteTime": {
     "end_time": "2018-02-21T00:51:47.622965Z",
     "start_time": "2018-02-21T00:51:47.312358Z"
    },
    "collapsed": true
   },
   "outputs": [],
   "source": [
    "#Define the PATH\n",
    "\n",
    "GENOME_VERSION = 'v04'\n",
    "\n",
    "BASE_OUT_PATH = '/home/benjamin/genome_assembly/Warrior/allele_analysis/%s' % GENOME_VERSION\n",
    "GENOME_PATH = '/home/benjamin/genome_assembly/Warrior/genome_%s/' % GENOME_VERSION\n",
    "ASSEMBLYTICS_IN_PATH = '/home/benjamin/genome_assembly/Warrior/Richard/output/nucmer_assemblytics/%s/Assemblytics/' % GENOME_VERSION\n",
    "\n",
    "BLAST_DB = os.path.join(BASE_OUT_PATH, 'blast_DB')\n",
    "OUT_PATH = os.path.join(BASE_OUT_PATH, 'allele_analysis')\n",
    "OUT_tmp = os.path.join(OUT_PATH, 'tmp')\n",
    "PROTEINORTHO_OUT_PATH = os.path.join(BASE_OUT_PATH, 'proteinortho')\n",
    "    \n",
    "#renamed the allele path to reflect the proteinortho results\n",
    "ALLELE_PATH = os.path.join(OUT_PATH, 'alleles_proteinortho_graph516')\n",
    "if not os.path.exists(BASE_OUT_PATH):\n",
    "    os.mkdir(BASE_OUT_PATH)\n",
    "if not os.path.isdir(OUT_PATH):\n",
    "    os.mkdir(OUT_PATH)\n",
    "if not os.path.isdir(OUT_tmp):\n",
    "    os.mkdir(OUT_tmp)\n",
    "if not os.path.exists(ALLELE_PATH):\n",
    "    os.mkdir(ALLELE_PATH)\n",
    "if not os.path.exists(BLAST_DB):\n",
    "    os.mkdir(BLAST_DB)\n",
    "if not os.path.exists(PROTEINORTHO_OUT_PATH):\n",
    "    os.mkdir(PROTEINORTHO_OUT_PATH)\n",
    "\n",
    "#Define your p and h genome and move it into the allele analysis folder\n",
    "P_GENOME = 'DK_0911_%s_p_ctg' % GENOME_VERSION\n",
    "H_GENOME = 'DK_0911_%s_h_ctg' % GENOME_VERSION\n",
    "for x in (x + '.fa' for x in [P_GENOME, H_GENOME]):\n",
    "    shutil.copy2(GENOME_PATH+'/'+x, OUT_tmp)"
   ]
  },
  {
   "cell_type": "code",
   "execution_count": 5,
   "metadata": {
    "ExecuteTime": {
     "end_time": "2018-02-21T00:51:51.284677Z",
     "start_time": "2018-02-21T00:51:51.279348Z"
    },
    "collapsed": true
   },
   "outputs": [],
   "source": [
    "#get proteinortho synteny file which ends with .poff\n",
    "poff_graph_fn = os.path.join(PROTEINORTHO_OUT_PATH, 'ph_ctg_516.poff-graph')"
   ]
  },
  {
   "cell_type": "code",
   "execution_count": 6,
   "metadata": {
    "ExecuteTime": {
     "end_time": "2018-02-21T00:51:53.925277Z",
     "start_time": "2018-02-21T00:51:53.920030Z"
    },
    "collapsed": true
   },
   "outputs": [],
   "source": [
    "#Define ENV parameters for blast hits and threads used in blast analysis\n",
    "n_threads = 16\n",
    "e_value = 1e-3"
   ]
  },
  {
   "cell_type": "code",
   "execution_count": 7,
   "metadata": {
    "ExecuteTime": {
     "end_time": "2018-02-21T00:51:55.417347Z",
     "start_time": "2018-02-21T00:51:55.330319Z"
    },
    "collapsed": true
   },
   "outputs": [],
   "source": [
    "def att_column_p(x, y, z, a, b):\n",
    "    '''Generate attribute column of h on p p_gff dataframe.\n",
    "    '''\n",
    "    string = 'h_contig=%s;query_start=%s;query_stop=%s;query_length=%s;query_aln_ln=%s' % (x, str(y), str(z), str(a), str(b))\n",
    "    return string\n",
    "\n",
    "def att_column_h(x, y, z, a, b):\n",
    "    '''Generate attribute column of h on p h_gff dataframe.\n",
    "    '''\n",
    "    string = 'p_contig=%s;ref_start=%s;ref_stop=%s;ref_length=%s;ref_aln_ln=%s' % (x, str(y), str(z), str(a), str(b))\n",
    "    return string\n",
    "\n",
    "def gene_contig_subset(df, contig, feature):\n",
    "    '''Input the gff and subset the feature columne by gene.\n",
    "        Return data frame subset by contig and gene'''\n",
    "    tmp_df = df[(df[0].str.contains(contig)) & (df[2]==feature)]\n",
    "    tmp_df.sort_values(3,inplace=True)\n",
    "    tmp_df.reset_index(drop=True, inplace=True)\n",
    "    return tmp_df\n",
    "\n",
    "def same_contig_blast(x,y):\n",
    "    '''Function that checks if the blast hit in column y is on the same contig as the the query sequence in\n",
    "    column y.\n",
    "    '''\n",
    "    q_contig = re.search(r'[p|h]([a-z]*_[0-9]*)_?', x).group(1)\n",
    "    if y != 'NaN':\n",
    "        hit_contig = re.search(r'[p|h]([a-z]*_[0-9]*)_?', y).group(1)\n",
    "    else:\n",
    "        hit_contig = 'NaN'\n",
    "    return q_contig == hit_contig\n",
    "\n",
    "def target_on_mapped_haplotig(t_contig, h_contig_overlap):\n",
    "    '''Simple function that checks if the target contig is in the list of h overlapping contigs'''\n",
    "    if t_contig == False or h_contig_overlap == False:\n",
    "        return False\n",
    "    return t_contig in h_contig_overlap"
   ]
  },
  {
   "cell_type": "code",
   "execution_count": 72,
   "metadata": {
    "ExecuteTime": {
     "end_time": "2018-02-21T02:03:22.075451Z",
     "start_time": "2018-02-21T02:03:22.060860Z"
    },
    "collapsed": true
   },
   "outputs": [],
   "source": [
    "def checkblastoutdf(updatedblastdf, proteinqueryfh):\n",
    "    \"\"\"Checks if the df has as many unique Queries as the input proteinquery file.\n",
    "    Returns True or False.\"\"\"\n",
    "    inproteincount = 0\n",
    "    with open(proteinqueryfh) as fh:\n",
    "        for line in fh:\n",
    "            if line.startswith('>'):\n",
    "                inproteincount += 1\n",
    "            else:\n",
    "                continue\n",
    "    if len(updatedblastdf.Query.unique()) == inproteincount:\n",
    "        return True\n",
    "    else:\n",
    "        return False"
   ]
  },
  {
   "cell_type": "code",
   "execution_count": 73,
   "metadata": {
    "ExecuteTime": {
     "end_time": "2018-02-21T02:03:57.910987Z",
     "start_time": "2018-02-21T02:03:57.895342Z"
    },
    "collapsed": true
   },
   "outputs": [],
   "source": [
    "def addBlastNoHits(blastdf, proteinquery_fh):\n",
    "    \"\"\"Add all no hits to a blastdf\"\"\"\n",
    "    allproteins = []\n",
    "    for seq in SeqIO.parse(proteinquery_fh, 'fasta'):\n",
    "        allproteins.append(seq.id)\n",
    "    \n",
    "    blastproteins = blastdf.iloc[:, 0].unique()\n",
    "    missing_protein = set(allproteins) - set(blastproteins)\n",
    "    tmp_df = pd.DataFrame(index=range(0,len(missing_protein)),columns=blastdf.columns)                    \n",
    "    tmp_df['Query'] = missing_protein\n",
    "    return blastdf.append(tmp_df).reset_index(drop=True)"
   ]
  },
  {
   "cell_type": "code",
   "execution_count": 74,
   "metadata": {
    "ExecuteTime": {
     "end_time": "2018-02-21T02:04:23.822357Z",
     "start_time": "2018-02-21T02:04:23.799616Z"
    },
    "collapsed": true
   },
   "outputs": [],
   "source": [
    "def same_contig_blast(x,y):\n",
    "    '''Function that checks if the blast hit in column y is on the same contig as the the query sequence in\n",
    "    column y.\n",
    "    '''\n",
    "    try:\n",
    "        q_contig = re.search(r'[p|h]([a-z]*_[0-9]*)_?', x).group(1)\n",
    "        if y != 'NaN':\n",
    "            hit_contig = re.search(r'[p|h]([a-z]*_[0-9]*)_?', y).group(1)\n",
    "        else:\n",
    "            hit_contig = 'NaN'\n",
    "        return q_contig == hit_contig\n",
    "    except AttributeError:\n",
    "        print(\"AttributeError\\nx: %s\\ny: %s\" % (x, y))\n",
    "        sys.exit()\n",
    "    except TypeError:\n",
    "        print(\"x: %s\\ny: %s\" % (x, y))\n",
    "        print(\"TypeError\\ntype(x): %s\\ntype(y): %s\" % (type(x), type(y)))\n",
    "        sys.exit()\n"
   ]
  },
  {
   "cell_type": "code",
   "execution_count": 75,
   "metadata": {
    "ExecuteTime": {
     "end_time": "2018-02-21T02:04:57.004251Z",
     "start_time": "2018-02-21T02:04:56.993429Z"
    },
    "collapsed": true
   },
   "outputs": [],
   "source": [
    "def get_h_gene_p_contig_overlap_dict(p_gene_h_contig_overlap_dict):\n",
    "    d = {}\n",
    "    for key in p_gene_h_contig_overlap_dict.keys():\n",
    "        for val in p_gene_h_contig_overlap_dict[key]:\n",
    "            if val in d:\n",
    "                d[val].append(key)\n",
    "            else:\n",
    "                d[val] = [key]\n",
    "    return d"
   ]
  },
  {
   "cell_type": "code",
   "execution_count": 76,
   "metadata": {
    "ExecuteTime": {
     "end_time": "2018-02-21T02:05:21.771638Z",
     "start_time": "2018-02-21T02:05:21.747108Z"
    },
    "collapsed": true
   },
   "outputs": [],
   "source": [
    "def reduceGroups(g, labels, maxBest):\n",
    "    '''returns the best hit based on e-value and BitScore per group'''\n",
    "    for label, maxBest in zip(labels, maxBest):\n",
    "        if len(g) == 1:\n",
    "            return g\n",
    "        if maxBest:\n",
    "            g = g[g[label] == g[label].max()]\n",
    "        else:\n",
    "            g = g[g[label] == g[label].min()]\n",
    "#     if len(g) > 1:\n",
    "#         print('Could not reduce group to 1 element. %s ' % g['Query'])\n",
    "    return g"
   ]
  },
  {
   "cell_type": "markdown",
   "metadata": {},
   "source": [
    "#### Considerations for blast analysis\n",
    "Do gene blast and protein blast. Initially go off protein blast results. They should be more imformative as it also includes the coding region and the frame.\n",
    "> Pull this in as a dataframe and filter it down as well to each contig. Do blasts both ways as well.\n",
    "> Copy over primary & haplotig .protein.fa and .gene.fa files from the BASE_A_folder, if not already present."
   ]
  },
  {
   "cell_type": "code",
   "execution_count": 8,
   "metadata": {
    "ExecuteTime": {
     "end_time": "2018-02-21T00:51:58.430004Z",
     "start_time": "2018-02-21T00:51:58.255262Z"
    }
   },
   "outputs": [
    {
     "name": "stdout",
     "output_type": "stream",
     "text": [
      "All databases generated and ready to go!\n"
     ]
    }
   ],
   "source": [
    "#generate the blast databases if not already present\n",
    "os.chdir(BLAST_DB)\n",
    "# copy over .protein.fa and .gene.fa files from the GENOME_PATH folder\n",
    "# if not already present, for both primary and haplotigs\n",
    "shutil.copy2(os.path.join(GENOME_PATH, P_GENOME + '.protein.fa'), BLAST_DB)\n",
    "shutil.copy2(os.path.join(GENOME_PATH, P_GENOME + '.gene.fa'), BLAST_DB)\n",
    "shutil.copy2(os.path.join(GENOME_PATH, H_GENOME + '.protein.fa'), BLAST_DB)\n",
    "shutil.copy2(os.path.join(GENOME_PATH, H_GENOME + '.gene.fa'), BLAST_DB)\n",
    "\n",
    "blast_dir_content = os.listdir(BLAST_DB)\n",
    "for x in blast_dir_content:\n",
    "    if x.endswith('.fa') and ({os.path.isfile(x + e) for e in ['.psq', '.phr', '.pin'] } != {True}\\\n",
    "           and {os.path.isfile(x + e) for e in ['.nin', '.nhr', '.nsq'] } != {True} ):\n",
    "\n",
    "        make_DB_options = ['-in']\n",
    "        make_DB_options.append(x)\n",
    "        make_DB_options.append('-dbtype')\n",
    "        if 'protein' in x:\n",
    "            make_DB_options.append('prot')\n",
    "        else:\n",
    "            make_DB_options.append('nucl')\n",
    "        make_DB_command = 'makeblastdb %s' % ' '.join(make_DB_options)\n",
    "        make_DB_stderr = subprocess.check_output(make_DB_command, shell=True, stderr=subprocess.STDOUT)\n",
    "        print('%s is done!' % make_DB_command)\n",
    "print(\"All databases generated and ready to go!\")"
   ]
  },
  {
   "cell_type": "code",
   "execution_count": 9,
   "metadata": {
    "ExecuteTime": {
     "end_time": "2018-02-21T00:52:00.714648Z",
     "start_time": "2018-02-21T00:52:00.599147Z"
    },
    "scrolled": false
   },
   "outputs": [
    {
     "name": "stdout",
     "output_type": "stream",
     "text": [
      "\n",
      "Blasting DK_0911_v04_h_ctg.protein.fa ...\n",
      "Blast command generated:\n",
      "blastp -query DK_0911_v04_p_ctg.protein.fa -db DK_0911_v04_h_ctg.protein.fa -outfmt 6 -evalue 0.001 -num_threads 16 > /home/benjamin/genome_assembly/Warrior/allele_analysis/v04/allele_analysis/DK_0911_v04_p_ctg.DK_0911_v04_h_ctg.0.001.blastp.outfmt6\n",
      "Blast command completed previously!\n",
      "\n",
      "Blasting DK_0911_v04_p_ctg.protein.fa ...\n",
      "Blast command generated:\n",
      "blastp -query DK_0911_v04_h_ctg.protein.fa -db DK_0911_v04_p_ctg.protein.fa -outfmt 6 -evalue 0.001 -num_threads 16 > /home/benjamin/genome_assembly/Warrior/allele_analysis/v04/allele_analysis/DK_0911_v04_h_ctg.DK_0911_v04_p_ctg.0.001.blastp.outfmt6\n",
      "Blast command completed previously!\n",
      "\n",
      "Blasting DK_0911_v04_p_ctg.gene.fa ...\n",
      "Blast command generated:\n",
      "blastn -query DK_0911_v04_h_ctg.gene.fa -db DK_0911_v04_p_ctg.gene.fa -outfmt 6 -evalue 0.001 -num_threads 16 > /home/benjamin/genome_assembly/Warrior/allele_analysis/v04/allele_analysis/DK_0911_v04_h_ctg.DK_0911_v04_p_ctg.0.001.blastn.outfmt6\n",
      "Blast command completed previously!\n",
      "\n",
      "Blasting DK_0911_v04_h_ctg.gene.fa ...\n",
      "Blast command generated:\n",
      "blastn -query DK_0911_v04_p_ctg.gene.fa -db DK_0911_v04_h_ctg.gene.fa -outfmt 6 -evalue 0.001 -num_threads 16 > /home/benjamin/genome_assembly/Warrior/allele_analysis/v04/allele_analysis/DK_0911_v04_p_ctg.DK_0911_v04_h_ctg.0.001.blastn.outfmt6\n",
      "Blast command completed previously!\n"
     ]
    }
   ],
   "source": [
    "blast_dict = {}\n",
    "blast_dict['gene_fa'] = [x for x  in os.listdir(BLAST_DB) if x.endswith('gene.fa') and 'ph_ctg' not in x]\n",
    "blast_dict['protein_fa'] = [x for x  in os.listdir(BLAST_DB) if x.endswith('protein.fa') and 'ph_ctg' not in x]\n",
    "blast_stderr_dict = {}\n",
    "\n",
    "for key in blast_dict.keys():\n",
    "    for n, query in enumerate(blast_dict[key]):\n",
    "        tmp_list = blast_dict[key][:]\n",
    "        tmp_stderr_list = []\n",
    "        #this loops through all remaining files and does blast against all those\n",
    "        del tmp_list[n]\n",
    "        for db in tmp_list:\n",
    "            print(\"\\nBlasting %s ...\" %db)\n",
    "            blast_options = ['-query']\n",
    "            blast_options.append(query)\n",
    "            blast_options.append('-db')\n",
    "\n",
    "            blast_options.append(db)\n",
    "            blast_options.append('-outfmt 6')\n",
    "            blast_options.append('-evalue')\n",
    "            blast_options.append(str(e_value))\n",
    "            blast_options.append('-num_threads')\n",
    "            blast_options.append(str(n_threads))\n",
    "            blast_options.append('>')\n",
    "            if 'gene' in query and 'gene' in db:\n",
    "                out_name_list = [ query.split('.')[0], db.split('.')[0], str(e_value), 'blastn.outfmt6']\n",
    "                out_name = os.path.join(OUT_PATH,'.'.join(out_name_list))\n",
    "                blast_options.append(out_name)\n",
    "                blast_command = 'blastn %s' % ' '.join(blast_options)\n",
    "            elif 'protein' in query and 'protein' in db:\n",
    "                out_name_list = [ query.split('.')[0], db.split('.')[0], str(e_value), 'blastp.outfmt6']\n",
    "                out_name = os.path.join(OUT_PATH,'.'.join(out_name_list))\n",
    "                blast_options.append(out_name)\n",
    "                blast_command = 'blastp %s' % ' '.join(blast_options)\n",
    "            print(\"Blast command generated:\\n%s\" % blast_command)\n",
    "            if not os.path.exists(out_name):\n",
    "                print(\"Executing new blast command...\")\n",
    "                blast_stderr_dict[blast_command] = subprocess.check_output(blast_command, shell=True, stderr=subprocess.STDOUT)\n",
    "                print(\"New blast executed!\")\n",
    "            else:\n",
    "                blast_stderr_dict[blast_command] = 'Previously done already!'\n",
    "                print(\"Blast command completed previously!\")"
   ]
  },
  {
   "cell_type": "code",
   "execution_count": 10,
   "metadata": {
    "ExecuteTime": {
     "end_time": "2018-02-21T00:52:05.653253Z",
     "start_time": "2018-02-21T00:52:04.305032Z"
    },
    "collapsed": true
   },
   "outputs": [],
   "source": [
    "# make a sequence length dict for all genes and proteins for which blast was performed\n",
    "seq_list = []\n",
    "length_list = []\n",
    "for key in blast_dict.keys():\n",
    "    for file in blast_dict[key]:\n",
    "        for seq in SeqIO.parse(open(file), 'fasta'):\n",
    "            seq_list.append(seq.id)\n",
    "            length_list.append(len(seq.seq))\n",
    "length_dict = dict(zip(seq_list, length_list))"
   ]
  },
  {
   "cell_type": "code",
   "execution_count": 11,
   "metadata": {
    "ExecuteTime": {
     "end_time": "2018-02-21T00:52:08.050690Z",
     "start_time": "2018-02-21T00:52:08.041290Z"
    },
    "collapsed": true
   },
   "outputs": [],
   "source": [
    "# get assemblytics folders\n",
    "ass_folders = [os.path.join(ASSEMBLYTICS_IN_PATH, x) for x in os.listdir(ASSEMBLYTICS_IN_PATH) if x.endswith('_php_8kbp')]\n",
    "ass_folders.sort()"
   ]
  },
  {
   "cell_type": "code",
   "execution_count": 12,
   "metadata": {
    "ExecuteTime": {
     "end_time": "2018-02-21T00:52:10.112846Z",
     "start_time": "2018-02-21T00:52:09.335957Z"
    },
    "collapsed": true
   },
   "outputs": [],
   "source": [
    "# read in the gff files\n",
    "p_gff = pd.read_csv(os.path.join(GENOME_PATH, P_GENOME+'.anno.gff3'), sep='\\t', header=None)\n",
    "h_gff = pd.read_csv(os.path.join(GENOME_PATH, H_GENOME+'.anno.gff3'), sep='\\t', header=None)"
   ]
  },
  {
   "cell_type": "code",
   "execution_count": 14,
   "metadata": {
    "ExecuteTime": {
     "end_time": "2018-02-21T00:52:43.775160Z",
     "start_time": "2018-02-21T00:52:18.088286Z"
    },
    "collapsed": true
   },
   "outputs": [],
   "source": [
    "#read in the blast df and add QLgth and QCov columns\n",
    "blast_out_dict = {}\n",
    "blast_header = ['Query', 'Target', 'PctID', 'AlnLgth', 'NumMis', 'NumGap', 'StartQuery', 'StopQuery', 'StartTarget',\\\n",
    "              'StopTarget', 'e-value','BitScore']\n",
    "for key in blast_stderr_dict.keys():\n",
    "    file_loc = key.split('>')[-1][1:]\n",
    "    # file_loc = .../output/defining_alleles/allele_analysis/DK_0911_v03_h_ctg.DK_0911_v03_p_ctg.0.001.blastp.outfmt6\n",
    "    \n",
    "    file_name = file_loc.split('/')[-1]\n",
    "    # DK_0911_v03_h_ctg.DK_0911_v03_p_ctg.0.001.blastp.outfmt6\n",
    "    \n",
    "    tmp_df = pd.read_csv(file_loc, sep='\\t', header=None, names=blast_header)\n",
    "\n",
    "    tmp_df['QLgth'] = tmp_df['Query'].apply(lambda x: length_dict[x])\n",
    "    tmp_df['QCov'] = tmp_df['AlnLgth']/tmp_df['QLgth']*100\n",
    "    \n",
    "    tmp_df['TLgth'] = tmp_df['Target'].map(length_dict)\n",
    "    tmp_df['TCov'] = tmp_df['AlnLgth']/tmp_df['TLgth']*100\n",
    "    \n",
    "    tmp_df.sort_values(by=['Query', 'e-value','BitScore', ],ascending=[True, True, False], inplace=True)\n",
    "    \n",
    "    # assert(len(tmp_df.loc[tmp_df['Query'] == 'pcontig_000:10023-10824']) == 0)\n",
    "    \n",
    "    #now make sure to add proteins/genes without blast hit to the DataFrame\n",
    "    #check if gene blast or protein blast and pull out respective query file\n",
    "    if file_loc.split('.')[-2] == 'blastp':\n",
    "        tmp_blast_seq = [x for x in blast_dict['protein_fa'] if x.startswith(file_name.split('.')[0])][0]\n",
    "    elif file_loc.split('.')[-2] == 'blastn':\n",
    "        tmp_blast_seq = [x for x in blast_dict['gene_fa'] if x.startswith(file_name.split('.')[0])][0]\n",
    "    tmp_all_blast_seq = []\n",
    "    #make list of all query sequences\n",
    "    for seq in SeqIO.parse(os.path.join(BLAST_DB, tmp_blast_seq), 'fasta'):\n",
    "        tmp_all_blast_seq.append(str(seq.id))\n",
    "    tmp_all_queries_w_hit = tmp_df[\"Query\"].unique()\n",
    "    tmp_queries_no_hit = set(tmp_all_blast_seq) - set(tmp_all_queries_w_hit)\n",
    "    no_hit_list = []\n",
    "    \n",
    "    #loop over the quieres with no hit and make list of list out of them the first element being the query id\n",
    "    for x in tmp_queries_no_hit:\n",
    "        NA_list = ['NaN'] * len(tmp_df.columns)\n",
    "        NA_list[0] = x\n",
    "        no_hit_list.append(NA_list)\n",
    "    \n",
    "    tmp_no_hit_df = pd.DataFrame(no_hit_list)\n",
    "    tmp_no_hit_df.columns = tmp_df.columns\n",
    "    tmp_no_hit_df['QLgth'] = tmp_no_hit_df.Query.apply(lambda x: length_dict[x])\n",
    "    #map stuff at the tmp level\n",
    "    \n",
    "    tmp_df = tmp_df.append(tmp_no_hit_df)\n",
    "    assert(len(tmp_df.loc[tmp_df['Query'] == 'NaN']) == 0)\n",
    "    \n",
    "    tmp_df['q_contig'] = tmp_df['Query'].str.extract(r'([p|h][a-z]*_[^.]*).?', expand = False)\n",
    "    tmp_df['t_contig'] = tmp_df['Target'].str.extract(r'([p|h][a-z]*_[^.]*).?', expand = False)\n",
    "    # print(tmp_df['q_contig'])\n",
    "    \n",
    "    #fix that if you don't extract anything return False and not 'nan'\n",
    "    tmp_df['t_contig'].fillna(False, inplace=True)\n",
    "    \n",
    "    # print(tmp_df.apply(lambda row: print(row['Query'])), axis = 1)\n",
    "    \n",
    "    tmp_df['q_contig == t_contig'] = tmp_df.apply(lambda row: same_contig_blast(row['Query'], row['Target']), axis = 1)\n",
    "    tmp_df.reset_index(inplace=True, drop=True)\n",
    "    blast_out_dict[file_name] = tmp_df.iloc[:,:]"
   ]
  },
  {
   "cell_type": "code",
   "execution_count": 15,
   "metadata": {
    "ExecuteTime": {
     "end_time": "2018-02-21T00:53:19.779915Z",
     "start_time": "2018-02-21T00:52:43.778490Z"
    }
   },
   "outputs": [
    {
     "name": "stderr",
     "output_type": "stream",
     "text": [
      "/home/benjamin/anaconda3/lib/python3.5/site-packages/ipykernel/__main__.py:17: SettingWithCopyWarning: \n",
      "A value is trying to be set on a copy of a slice from a DataFrame\n",
      "\n",
      "See the caveats in the documentation: http://pandas.pydata.org/pandas-docs/stable/indexing.html#indexing-view-versus-copy\n"
     ]
    },
    {
     "name": "stdout",
     "output_type": "stream",
     "text": [
      "Check on /home/benjamin/genome_assembly/Warrior/Richard/output/nucmer_assemblytics/v04/Assemblytics/DK_0911_v04_pcontig_075_php_8kbp assemblytics\n"
     ]
    }
   ],
   "source": [
    "for folder in ass_folders:\n",
    "    '''\n",
    "    From oriented_coords.csv files generate gff files with the following set up.\n",
    "    h_contig overlap\n",
    "    'query', 'ref', 'h_feature', 'query_start', 'query_end', 'query_aln_len', 'strand', 'frame', 'attribute_h'\n",
    "    p_contig overlap\n",
    "    'ref', 'query', 'p_feature','ref_start','ref_end', 'alignment_length', 'strand', 'frame', 'attribute_p'.\n",
    "    Save those file in a new folder for further downstream analysis. The same folder should include the contig and gene filtered\n",
    "    gffs. \n",
    "    '''\n",
    "    orient_coords_file = [os.path.join(folder, x) for x in os.listdir(folder) if x.endswith('oriented_coords.csv')][0]\n",
    "    #load in df and generate several additions columns\n",
    "    tmp_df = pd.read_csv(orient_coords_file, sep=',')\n",
    "    #check if there is any resonable alignment if not go to the next one\n",
    "    if len(tmp_df) == 0:\n",
    "        print('Check on %s assemblytics' % (folder))\n",
    "        continue\n",
    "    tmp_df['p_feature'] = \"haplotig\"\n",
    "    tmp_df['h_feature'] ='primary_contig'\n",
    "    tmp_df['strand'] = \"+\"\n",
    "    tmp_df['frame'] = 0\n",
    "    tmp_df['query_aln_len'] = abs(tmp_df['query_end']-tmp_df['query_start'])\n",
    "    tmp_df['alignment_length'] = abs(tmp_df['ref_end'] - tmp_df['ref_start'])\n",
    "    tmp_df.reset_index(drop=True, inplace=True)\n",
    "    tmp_df.sort_values('query', inplace=True)\n",
    "    tmp_df['attribute_p'] = tmp_df.apply(lambda row: att_column_p(row['query'],row['query_start'], row['query_end'],\\\n",
    "                                                         row['query_length'], row['query_aln_len']), axis=1)\n",
    "    \n",
    "    tmp_df['attribute_h'] = tmp_df.apply(lambda row: att_column_h(row['ref'], row['ref_start'], row['ref_end'],\\\n",
    "                                                                  row['ref_length'], row['alignment_length']), axis=1)\n",
    "    \n",
    "    #generate tmp gff dataframe\n",
    "    tmp_p_gff_df = tmp_df.loc[:, ['ref', 'query', 'p_feature','ref_start','ref_end', 'alignment_length', 'strand', 'frame', 'attribute_p']]\n",
    "    #now filter added if start < stop swap round. And if start == 0. This was mostly?! only? the case for haplotigs\n",
    "    tmp_p_gff_df['comp'] = tmp_p_gff_df['ref_start'] - tmp_p_gff_df['ref_end']\n",
    "    tmp_swap_index  = tmp_p_gff_df['comp'] > 0\n",
    "    tmp_p_gff_df.loc[tmp_swap_index, 'ref_start'] , tmp_p_gff_df.loc[tmp_swap_index, 'ref_end'] = tmp_p_gff_df['ref_end'], tmp_p_gff_df['ref_start']\n",
    "    #and if 'ref_start' == g\n",
    "    is_null_index  = tmp_p_gff_df['ref_start'] == 0\n",
    "    tmp_p_gff_df.loc[is_null_index, 'ref_start'] = 1\n",
    "    tmp_p_gff_df = tmp_p_gff_df.iloc[:, 0:9]\n",
    "    tmp_p_gff_df.sort_values('ref_start',inplace=True)\n",
    "    tmp_h_gff_df = tmp_df.loc[:, ['query', 'ref', 'h_feature', 'query_start', 'query_end', 'query_aln_len', 'strand', 'frame', 'attribute_h']]\n",
    "    #same fix for tmp_h_gff\n",
    "    tmp_h_gff_df['comp'] = tmp_h_gff_df['query_start'] - tmp_h_gff_df['query_end']\n",
    "    tmp_swap_index  = tmp_h_gff_df['comp'] > 0\n",
    "    tmp_h_gff_df.loc[tmp_swap_index, 'query_start'] , tmp_h_gff_df.loc[tmp_swap_index, 'query_end'] = tmp_h_gff_df['query_end'], tmp_h_gff_df['query_start']\n",
    "    #and if 'query_start' == g\n",
    "    is_null_index  = tmp_h_gff_df['query_start'] == 0\n",
    "    tmp_h_gff_df.loc[is_null_index, 'query_start'] = 1\n",
    "    tmp_h_gff_df = tmp_h_gff_df.iloc[:, 0:9]\n",
    "    tmp_h_gff_df.sort_values('query_start', inplace=True)\n",
    "    #make the outfolder and save gff files of overlap and filtered gene files\n",
    "    folder_suffix = folder.split('/')[-1]\n",
    "    #get the contig\n",
    "    contig = re.search(r'p([a-z]*_[0-9]*)_', folder_suffix).group(1)\n",
    "    out_folder = os.path.join(OUT_PATH, folder_suffix)\n",
    "    if not os.path.exists(out_folder):\n",
    "        os.mkdir(out_folder)\n",
    "    out_name_p = os.path.join(out_folder, folder_suffix )\n",
    "    tmp_p_gff_df.to_csv(out_name_p+'.p_by_h_cov.gff', sep='\\t' ,header=None, index =None)\n",
    "    out_name_h =  os.path.join(out_folder, folder_suffix)\n",
    "    tmp_h_gff_df.to_csv(out_name_h+'.h_by_p_cov.gff' , sep='\\t' ,header=None, index =None)\n",
    "    #write those out to new folder for php together with the p and h gff of genes\n",
    "    p_gene_gff = gene_contig_subset(p_gff, contig, 'gene')\n",
    "    p_gene_gff.to_csv(out_name_p+'.p_gene.gff', sep='\\t' ,header=None, index =None)\n",
    "    h_gene_gff = gene_contig_subset(h_gff, contig, 'gene')\n",
    "    h_gene_gff.to_csv(out_name_h+'.h_gene.gff', sep='\\t' ,header=None, index =None)\n",
    "    \n",
    "    #next would be to do overlap between the gene gff and the corresponding alignment gff. Write this out. Dict for each gene and its corresponding h_contig/p_contig\n",
    "    "
   ]
  },
  {
   "cell_type": "code",
   "execution_count": 17,
   "metadata": {
    "ExecuteTime": {
     "end_time": "2018-02-21T00:53:19.813408Z",
     "start_time": "2018-02-21T00:53:19.806227Z"
    },
    "collapsed": true
   },
   "outputs": [],
   "source": [
    "#now loop over the outfolders\n",
    "out_folders = [os.path.join(OUT_PATH, x) for x in os.listdir(OUT_PATH) if x.endswith('_php_8kbp')]\n",
    "out_folders.sort()"
   ]
  },
  {
   "cell_type": "code",
   "execution_count": 18,
   "metadata": {
    "ExecuteTime": {
     "end_time": "2018-02-21T00:53:28.682892Z",
     "start_time": "2018-02-21T00:53:19.816318Z"
    }
   },
   "outputs": [
    {
     "name": "stdout",
     "output_type": "stream",
     "text": [
      "This is the length of the intersect 661\n"
     ]
    },
    {
     "name": "stderr",
     "output_type": "stream",
     "text": [
      "/home/benjamin/anaconda3/lib/python3.5/site-packages/pybedtools/bedtool.py:3287: UserWarning: Default names for filetype gff are:\n",
      "['seqname', 'source', 'feature', 'start', 'end', 'score', 'strand', 'frame', 'attributes']\n",
      "but file has 18 fields; you can supply custom names with the `names` kwarg\n",
      "  % (self.file_type, _names, self.field_count()))\n"
     ]
    },
    {
     "name": "stdout",
     "output_type": "stream",
     "text": [
      "This is the length of the intersect 403\n",
      "This is the length of the intersect 451\n"
     ]
    },
    {
     "name": "stderr",
     "output_type": "stream",
     "text": [
      "/home/benjamin/anaconda3/lib/python3.5/site-packages/pybedtools/bedtool.py:3287: UserWarning: Default names for filetype gff are:\n",
      "['seqname', 'source', 'feature', 'start', 'end', 'score', 'strand', 'frame', 'attributes']\n",
      "but file has 18 fields; you can supply custom names with the `names` kwarg\n",
      "  % (self.file_type, _names, self.field_count()))\n",
      "/home/benjamin/anaconda3/lib/python3.5/site-packages/pybedtools/bedtool.py:3287: UserWarning: Default names for filetype gff are:\n",
      "['seqname', 'source', 'feature', 'start', 'end', 'score', 'strand', 'frame', 'attributes']\n",
      "but file has 18 fields; you can supply custom names with the `names` kwarg\n",
      "  % (self.file_type, _names, self.field_count()))\n"
     ]
    },
    {
     "name": "stdout",
     "output_type": "stream",
     "text": [
      "This is the length of the intersect 407\n",
      "This is the length of the intersect 382\n"
     ]
    },
    {
     "name": "stderr",
     "output_type": "stream",
     "text": [
      "/home/benjamin/anaconda3/lib/python3.5/site-packages/pybedtools/bedtool.py:3287: UserWarning: Default names for filetype gff are:\n",
      "['seqname', 'source', 'feature', 'start', 'end', 'score', 'strand', 'frame', 'attributes']\n",
      "but file has 18 fields; you can supply custom names with the `names` kwarg\n",
      "  % (self.file_type, _names, self.field_count()))\n",
      "/home/benjamin/anaconda3/lib/python3.5/site-packages/pybedtools/bedtool.py:3287: UserWarning: Default names for filetype gff are:\n",
      "['seqname', 'source', 'feature', 'start', 'end', 'score', 'strand', 'frame', 'attributes']\n",
      "but file has 18 fields; you can supply custom names with the `names` kwarg\n",
      "  % (self.file_type, _names, self.field_count()))\n"
     ]
    },
    {
     "name": "stdout",
     "output_type": "stream",
     "text": [
      "This is the length of the intersect 380\n",
      "This is the length of the intersect 295\n"
     ]
    },
    {
     "name": "stderr",
     "output_type": "stream",
     "text": [
      "/home/benjamin/anaconda3/lib/python3.5/site-packages/pybedtools/bedtool.py:3287: UserWarning: Default names for filetype gff are:\n",
      "['seqname', 'source', 'feature', 'start', 'end', 'score', 'strand', 'frame', 'attributes']\n",
      "but file has 18 fields; you can supply custom names with the `names` kwarg\n",
      "  % (self.file_type, _names, self.field_count()))\n",
      "/home/benjamin/anaconda3/lib/python3.5/site-packages/pybedtools/bedtool.py:3287: UserWarning: Default names for filetype gff are:\n",
      "['seqname', 'source', 'feature', 'start', 'end', 'score', 'strand', 'frame', 'attributes']\n",
      "but file has 18 fields; you can supply custom names with the `names` kwarg\n",
      "  % (self.file_type, _names, self.field_count()))\n"
     ]
    },
    {
     "name": "stdout",
     "output_type": "stream",
     "text": [
      "This is the length of the intersect 297\n",
      "This is the length of the intersect 347\n"
     ]
    },
    {
     "name": "stderr",
     "output_type": "stream",
     "text": [
      "/home/benjamin/anaconda3/lib/python3.5/site-packages/pybedtools/bedtool.py:3287: UserWarning: Default names for filetype gff are:\n",
      "['seqname', 'source', 'feature', 'start', 'end', 'score', 'strand', 'frame', 'attributes']\n",
      "but file has 18 fields; you can supply custom names with the `names` kwarg\n",
      "  % (self.file_type, _names, self.field_count()))\n",
      "/home/benjamin/anaconda3/lib/python3.5/site-packages/pybedtools/bedtool.py:3287: UserWarning: Default names for filetype gff are:\n",
      "['seqname', 'source', 'feature', 'start', 'end', 'score', 'strand', 'frame', 'attributes']\n",
      "but file has 18 fields; you can supply custom names with the `names` kwarg\n",
      "  % (self.file_type, _names, self.field_count()))\n"
     ]
    },
    {
     "name": "stdout",
     "output_type": "stream",
     "text": [
      "This is the length of the intersect 249\n",
      "This is the length of the intersect 271\n"
     ]
    },
    {
     "name": "stderr",
     "output_type": "stream",
     "text": [
      "/home/benjamin/anaconda3/lib/python3.5/site-packages/pybedtools/bedtool.py:3287: UserWarning: Default names for filetype gff are:\n",
      "['seqname', 'source', 'feature', 'start', 'end', 'score', 'strand', 'frame', 'attributes']\n",
      "but file has 18 fields; you can supply custom names with the `names` kwarg\n",
      "  % (self.file_type, _names, self.field_count()))\n",
      "/home/benjamin/anaconda3/lib/python3.5/site-packages/pybedtools/bedtool.py:3287: UserWarning: Default names for filetype gff are:\n",
      "['seqname', 'source', 'feature', 'start', 'end', 'score', 'strand', 'frame', 'attributes']\n",
      "but file has 18 fields; you can supply custom names with the `names` kwarg\n",
      "  % (self.file_type, _names, self.field_count()))\n"
     ]
    },
    {
     "name": "stdout",
     "output_type": "stream",
     "text": [
      "This is the length of the intersect 277\n",
      "This is the length of the intersect 324\n"
     ]
    },
    {
     "name": "stderr",
     "output_type": "stream",
     "text": [
      "/home/benjamin/anaconda3/lib/python3.5/site-packages/pybedtools/bedtool.py:3287: UserWarning: Default names for filetype gff are:\n",
      "['seqname', 'source', 'feature', 'start', 'end', 'score', 'strand', 'frame', 'attributes']\n",
      "but file has 18 fields; you can supply custom names with the `names` kwarg\n",
      "  % (self.file_type, _names, self.field_count()))\n",
      "/home/benjamin/anaconda3/lib/python3.5/site-packages/pybedtools/bedtool.py:3287: UserWarning: Default names for filetype gff are:\n",
      "['seqname', 'source', 'feature', 'start', 'end', 'score', 'strand', 'frame', 'attributes']\n",
      "but file has 18 fields; you can supply custom names with the `names` kwarg\n",
      "  % (self.file_type, _names, self.field_count()))\n"
     ]
    },
    {
     "name": "stdout",
     "output_type": "stream",
     "text": [
      "This is the length of the intersect 78\n",
      "This is the length of the intersect 303\n",
      "This is the length of the intersect 232\n"
     ]
    },
    {
     "name": "stderr",
     "output_type": "stream",
     "text": [
      "/home/benjamin/anaconda3/lib/python3.5/site-packages/pybedtools/bedtool.py:3287: UserWarning: Default names for filetype gff are:\n",
      "['seqname', 'source', 'feature', 'start', 'end', 'score', 'strand', 'frame', 'attributes']\n",
      "but file has 18 fields; you can supply custom names with the `names` kwarg\n",
      "  % (self.file_type, _names, self.field_count()))\n",
      "/home/benjamin/anaconda3/lib/python3.5/site-packages/pybedtools/bedtool.py:3287: UserWarning: Default names for filetype gff are:\n",
      "['seqname', 'source', 'feature', 'start', 'end', 'score', 'strand', 'frame', 'attributes']\n",
      "but file has 18 fields; you can supply custom names with the `names` kwarg\n",
      "  % (self.file_type, _names, self.field_count()))\n",
      "/home/benjamin/anaconda3/lib/python3.5/site-packages/pybedtools/bedtool.py:3287: UserWarning: Default names for filetype gff are:\n",
      "['seqname', 'source', 'feature', 'start', 'end', 'score', 'strand', 'frame', 'attributes']\n",
      "but file has 18 fields; you can supply custom names with the `names` kwarg\n",
      "  % (self.file_type, _names, self.field_count()))\n",
      "/home/benjamin/anaconda3/lib/python3.5/site-packages/pybedtools/bedtool.py:3287: UserWarning: Default names for filetype gff are:\n",
      "['seqname', 'source', 'feature', 'start', 'end', 'score', 'strand', 'frame', 'attributes']\n",
      "but file has 18 fields; you can supply custom names with the `names` kwarg\n",
      "  % (self.file_type, _names, self.field_count()))\n"
     ]
    },
    {
     "name": "stdout",
     "output_type": "stream",
     "text": [
      "This is the length of the intersect 247\n",
      "This is the length of the intersect 186\n"
     ]
    },
    {
     "name": "stderr",
     "output_type": "stream",
     "text": [
      "/home/benjamin/anaconda3/lib/python3.5/site-packages/pybedtools/bedtool.py:3287: UserWarning: Default names for filetype gff are:\n",
      "['seqname', 'source', 'feature', 'start', 'end', 'score', 'strand', 'frame', 'attributes']\n",
      "but file has 18 fields; you can supply custom names with the `names` kwarg\n",
      "  % (self.file_type, _names, self.field_count()))\n",
      "/home/benjamin/anaconda3/lib/python3.5/site-packages/pybedtools/bedtool.py:3287: UserWarning: Default names for filetype gff are:\n",
      "['seqname', 'source', 'feature', 'start', 'end', 'score', 'strand', 'frame', 'attributes']\n",
      "but file has 18 fields; you can supply custom names with the `names` kwarg\n",
      "  % (self.file_type, _names, self.field_count()))\n",
      "/home/benjamin/anaconda3/lib/python3.5/site-packages/pybedtools/bedtool.py:3287: UserWarning: Default names for filetype gff are:\n",
      "['seqname', 'source', 'feature', 'start', 'end', 'score', 'strand', 'frame', 'attributes']\n",
      "but file has 18 fields; you can supply custom names with the `names` kwarg\n",
      "  % (self.file_type, _names, self.field_count()))\n"
     ]
    },
    {
     "name": "stdout",
     "output_type": "stream",
     "text": [
      "This is the length of the intersect 204\n",
      "This is the length of the intersect 240\n",
      "This is the length of the intersect 218\n",
      "This is the length of the intersect 111\n"
     ]
    },
    {
     "name": "stderr",
     "output_type": "stream",
     "text": [
      "/home/benjamin/anaconda3/lib/python3.5/site-packages/pybedtools/bedtool.py:3287: UserWarning: Default names for filetype gff are:\n",
      "['seqname', 'source', 'feature', 'start', 'end', 'score', 'strand', 'frame', 'attributes']\n",
      "but file has 18 fields; you can supply custom names with the `names` kwarg\n",
      "  % (self.file_type, _names, self.field_count()))\n",
      "/home/benjamin/anaconda3/lib/python3.5/site-packages/pybedtools/bedtool.py:3287: UserWarning: Default names for filetype gff are:\n",
      "['seqname', 'source', 'feature', 'start', 'end', 'score', 'strand', 'frame', 'attributes']\n",
      "but file has 18 fields; you can supply custom names with the `names` kwarg\n",
      "  % (self.file_type, _names, self.field_count()))\n"
     ]
    },
    {
     "name": "stdout",
     "output_type": "stream",
     "text": [
      "This is the length of the intersect 214\n",
      "This is the length of the intersect 167\n",
      "This is the length of the intersect 0\n"
     ]
    },
    {
     "name": "stderr",
     "output_type": "stream",
     "text": [
      "/home/benjamin/anaconda3/lib/python3.5/site-packages/pybedtools/bedtool.py:3287: UserWarning: Default names for filetype gff are:\n",
      "['seqname', 'source', 'feature', 'start', 'end', 'score', 'strand', 'frame', 'attributes']\n",
      "but file has 18 fields; you can supply custom names with the `names` kwarg\n",
      "  % (self.file_type, _names, self.field_count()))\n",
      "/home/benjamin/anaconda3/lib/python3.5/site-packages/pybedtools/bedtool.py:3287: UserWarning: Default names for filetype gff are:\n",
      "['seqname', 'source', 'feature', 'start', 'end', 'score', 'strand', 'frame', 'attributes']\n",
      "but file has 18 fields; you can supply custom names with the `names` kwarg\n",
      "  % (self.file_type, _names, self.field_count()))\n"
     ]
    },
    {
     "name": "stdout",
     "output_type": "stream",
     "text": [
      "This is the length of the intersect 168\n",
      "This is the length of the intersect 79\n"
     ]
    },
    {
     "name": "stderr",
     "output_type": "stream",
     "text": [
      "/home/benjamin/anaconda3/lib/python3.5/site-packages/pybedtools/bedtool.py:3287: UserWarning: Default names for filetype gff are:\n",
      "['seqname', 'source', 'feature', 'start', 'end', 'score', 'strand', 'frame', 'attributes']\n",
      "but file has 18 fields; you can supply custom names with the `names` kwarg\n",
      "  % (self.file_type, _names, self.field_count()))\n",
      "/home/benjamin/anaconda3/lib/python3.5/site-packages/pybedtools/bedtool.py:3287: UserWarning: Default names for filetype gff are:\n",
      "['seqname', 'source', 'feature', 'start', 'end', 'score', 'strand', 'frame', 'attributes']\n",
      "but file has 18 fields; you can supply custom names with the `names` kwarg\n",
      "  % (self.file_type, _names, self.field_count()))\n"
     ]
    },
    {
     "name": "stdout",
     "output_type": "stream",
     "text": [
      "This is the length of the intersect 100\n",
      "This is the length of the intersect 151\n"
     ]
    },
    {
     "name": "stderr",
     "output_type": "stream",
     "text": [
      "/home/benjamin/anaconda3/lib/python3.5/site-packages/pybedtools/bedtool.py:3287: UserWarning: Default names for filetype gff are:\n",
      "['seqname', 'source', 'feature', 'start', 'end', 'score', 'strand', 'frame', 'attributes']\n",
      "but file has 18 fields; you can supply custom names with the `names` kwarg\n",
      "  % (self.file_type, _names, self.field_count()))\n",
      "/home/benjamin/anaconda3/lib/python3.5/site-packages/pybedtools/bedtool.py:3287: UserWarning: Default names for filetype gff are:\n",
      "['seqname', 'source', 'feature', 'start', 'end', 'score', 'strand', 'frame', 'attributes']\n",
      "but file has 18 fields; you can supply custom names with the `names` kwarg\n",
      "  % (self.file_type, _names, self.field_count()))\n"
     ]
    },
    {
     "name": "stdout",
     "output_type": "stream",
     "text": [
      "This is the length of the intersect 173\n",
      "This is the length of the intersect 86\n"
     ]
    },
    {
     "name": "stderr",
     "output_type": "stream",
     "text": [
      "/home/benjamin/anaconda3/lib/python3.5/site-packages/pybedtools/bedtool.py:3287: UserWarning: Default names for filetype gff are:\n",
      "['seqname', 'source', 'feature', 'start', 'end', 'score', 'strand', 'frame', 'attributes']\n",
      "but file has 18 fields; you can supply custom names with the `names` kwarg\n",
      "  % (self.file_type, _names, self.field_count()))\n",
      "/home/benjamin/anaconda3/lib/python3.5/site-packages/pybedtools/bedtool.py:3287: UserWarning: Default names for filetype gff are:\n",
      "['seqname', 'source', 'feature', 'start', 'end', 'score', 'strand', 'frame', 'attributes']\n",
      "but file has 18 fields; you can supply custom names with the `names` kwarg\n",
      "  % (self.file_type, _names, self.field_count()))\n"
     ]
    },
    {
     "name": "stdout",
     "output_type": "stream",
     "text": [
      "This is the length of the intersect 159\n",
      "This is the length of the intersect 162\n"
     ]
    },
    {
     "name": "stderr",
     "output_type": "stream",
     "text": [
      "/home/benjamin/anaconda3/lib/python3.5/site-packages/pybedtools/bedtool.py:3287: UserWarning: Default names for filetype gff are:\n",
      "['seqname', 'source', 'feature', 'start', 'end', 'score', 'strand', 'frame', 'attributes']\n",
      "but file has 18 fields; you can supply custom names with the `names` kwarg\n",
      "  % (self.file_type, _names, self.field_count()))\n",
      "/home/benjamin/anaconda3/lib/python3.5/site-packages/pybedtools/bedtool.py:3287: UserWarning: Default names for filetype gff are:\n",
      "['seqname', 'source', 'feature', 'start', 'end', 'score', 'strand', 'frame', 'attributes']\n",
      "but file has 18 fields; you can supply custom names with the `names` kwarg\n",
      "  % (self.file_type, _names, self.field_count()))\n"
     ]
    },
    {
     "name": "stdout",
     "output_type": "stream",
     "text": [
      "This is the length of the intersect 185\n",
      "This is the length of the intersect 126\n"
     ]
    },
    {
     "name": "stderr",
     "output_type": "stream",
     "text": [
      "/home/benjamin/anaconda3/lib/python3.5/site-packages/pybedtools/bedtool.py:3287: UserWarning: Default names for filetype gff are:\n",
      "['seqname', 'source', 'feature', 'start', 'end', 'score', 'strand', 'frame', 'attributes']\n",
      "but file has 18 fields; you can supply custom names with the `names` kwarg\n",
      "  % (self.file_type, _names, self.field_count()))\n",
      "/home/benjamin/anaconda3/lib/python3.5/site-packages/pybedtools/bedtool.py:3287: UserWarning: Default names for filetype gff are:\n",
      "['seqname', 'source', 'feature', 'start', 'end', 'score', 'strand', 'frame', 'attributes']\n",
      "but file has 18 fields; you can supply custom names with the `names` kwarg\n",
      "  % (self.file_type, _names, self.field_count()))\n"
     ]
    },
    {
     "name": "stdout",
     "output_type": "stream",
     "text": [
      "This is the length of the intersect 161\n",
      "This is the length of the intersect 122\n",
      "This is the length of the intersect 66\n"
     ]
    },
    {
     "name": "stderr",
     "output_type": "stream",
     "text": [
      "/home/benjamin/anaconda3/lib/python3.5/site-packages/pybedtools/bedtool.py:3287: UserWarning: Default names for filetype gff are:\n",
      "['seqname', 'source', 'feature', 'start', 'end', 'score', 'strand', 'frame', 'attributes']\n",
      "but file has 18 fields; you can supply custom names with the `names` kwarg\n",
      "  % (self.file_type, _names, self.field_count()))\n",
      "/home/benjamin/anaconda3/lib/python3.5/site-packages/pybedtools/bedtool.py:3287: UserWarning: Default names for filetype gff are:\n",
      "['seqname', 'source', 'feature', 'start', 'end', 'score', 'strand', 'frame', 'attributes']\n",
      "but file has 18 fields; you can supply custom names with the `names` kwarg\n",
      "  % (self.file_type, _names, self.field_count()))\n",
      "/home/benjamin/anaconda3/lib/python3.5/site-packages/pybedtools/bedtool.py:3287: UserWarning: Default names for filetype gff are:\n",
      "['seqname', 'source', 'feature', 'start', 'end', 'score', 'strand', 'frame', 'attributes']\n",
      "but file has 18 fields; you can supply custom names with the `names` kwarg\n",
      "  % (self.file_type, _names, self.field_count()))\n"
     ]
    },
    {
     "name": "stdout",
     "output_type": "stream",
     "text": [
      "This is the length of the intersect 130\n",
      "This is the length of the intersect 135\n",
      "This is the length of the intersect 103\n"
     ]
    },
    {
     "name": "stderr",
     "output_type": "stream",
     "text": [
      "/home/benjamin/anaconda3/lib/python3.5/site-packages/pybedtools/bedtool.py:3287: UserWarning: Default names for filetype gff are:\n",
      "['seqname', 'source', 'feature', 'start', 'end', 'score', 'strand', 'frame', 'attributes']\n",
      "but file has 18 fields; you can supply custom names with the `names` kwarg\n",
      "  % (self.file_type, _names, self.field_count()))\n",
      "/home/benjamin/anaconda3/lib/python3.5/site-packages/pybedtools/bedtool.py:3287: UserWarning: Default names for filetype gff are:\n",
      "['seqname', 'source', 'feature', 'start', 'end', 'score', 'strand', 'frame', 'attributes']\n",
      "but file has 18 fields; you can supply custom names with the `names` kwarg\n",
      "  % (self.file_type, _names, self.field_count()))\n",
      "/home/benjamin/anaconda3/lib/python3.5/site-packages/pybedtools/bedtool.py:3287: UserWarning: Default names for filetype gff are:\n",
      "['seqname', 'source', 'feature', 'start', 'end', 'score', 'strand', 'frame', 'attributes']\n",
      "but file has 18 fields; you can supply custom names with the `names` kwarg\n",
      "  % (self.file_type, _names, self.field_count()))\n"
     ]
    },
    {
     "name": "stdout",
     "output_type": "stream",
     "text": [
      "This is the length of the intersect 98\n",
      "This is the length of the intersect 5\n",
      "This is the length of the intersect 116\n"
     ]
    },
    {
     "name": "stderr",
     "output_type": "stream",
     "text": [
      "/home/benjamin/anaconda3/lib/python3.5/site-packages/pybedtools/bedtool.py:3287: UserWarning: Default names for filetype gff are:\n",
      "['seqname', 'source', 'feature', 'start', 'end', 'score', 'strand', 'frame', 'attributes']\n",
      "but file has 18 fields; you can supply custom names with the `names` kwarg\n",
      "  % (self.file_type, _names, self.field_count()))\n",
      "/home/benjamin/anaconda3/lib/python3.5/site-packages/pybedtools/bedtool.py:3287: UserWarning: Default names for filetype gff are:\n",
      "['seqname', 'source', 'feature', 'start', 'end', 'score', 'strand', 'frame', 'attributes']\n",
      "but file has 18 fields; you can supply custom names with the `names` kwarg\n",
      "  % (self.file_type, _names, self.field_count()))\n",
      "/home/benjamin/anaconda3/lib/python3.5/site-packages/pybedtools/bedtool.py:3287: UserWarning: Default names for filetype gff are:\n",
      "['seqname', 'source', 'feature', 'start', 'end', 'score', 'strand', 'frame', 'attributes']\n",
      "but file has 18 fields; you can supply custom names with the `names` kwarg\n",
      "  % (self.file_type, _names, self.field_count()))\n"
     ]
    },
    {
     "name": "stdout",
     "output_type": "stream",
     "text": [
      "This is the length of the intersect 67\n",
      "This is the length of the intersect 58\n"
     ]
    },
    {
     "name": "stderr",
     "output_type": "stream",
     "text": [
      "/home/benjamin/anaconda3/lib/python3.5/site-packages/pybedtools/bedtool.py:3287: UserWarning: Default names for filetype gff are:\n",
      "['seqname', 'source', 'feature', 'start', 'end', 'score', 'strand', 'frame', 'attributes']\n",
      "but file has 18 fields; you can supply custom names with the `names` kwarg\n",
      "  % (self.file_type, _names, self.field_count()))\n",
      "/home/benjamin/anaconda3/lib/python3.5/site-packages/pybedtools/bedtool.py:3287: UserWarning: Default names for filetype gff are:\n",
      "['seqname', 'source', 'feature', 'start', 'end', 'score', 'strand', 'frame', 'attributes']\n",
      "but file has 18 fields; you can supply custom names with the `names` kwarg\n",
      "  % (self.file_type, _names, self.field_count()))\n"
     ]
    },
    {
     "name": "stdout",
     "output_type": "stream",
     "text": [
      "This is the length of the intersect 73\n",
      "This is the length of the intersect 69\n"
     ]
    },
    {
     "name": "stderr",
     "output_type": "stream",
     "text": [
      "/home/benjamin/anaconda3/lib/python3.5/site-packages/pybedtools/bedtool.py:3287: UserWarning: Default names for filetype gff are:\n",
      "['seqname', 'source', 'feature', 'start', 'end', 'score', 'strand', 'frame', 'attributes']\n",
      "but file has 18 fields; you can supply custom names with the `names` kwarg\n",
      "  % (self.file_type, _names, self.field_count()))\n",
      "/home/benjamin/anaconda3/lib/python3.5/site-packages/pybedtools/bedtool.py:3287: UserWarning: Default names for filetype gff are:\n",
      "['seqname', 'source', 'feature', 'start', 'end', 'score', 'strand', 'frame', 'attributes']\n",
      "but file has 18 fields; you can supply custom names with the `names` kwarg\n",
      "  % (self.file_type, _names, self.field_count()))\n"
     ]
    },
    {
     "name": "stdout",
     "output_type": "stream",
     "text": [
      "This is the length of the intersect 70\n",
      "This is the length of the intersect 80\n",
      "This is the length of the intersect 35\n"
     ]
    },
    {
     "name": "stderr",
     "output_type": "stream",
     "text": [
      "/home/benjamin/anaconda3/lib/python3.5/site-packages/pybedtools/bedtool.py:3287: UserWarning: Default names for filetype gff are:\n",
      "['seqname', 'source', 'feature', 'start', 'end', 'score', 'strand', 'frame', 'attributes']\n",
      "but file has 18 fields; you can supply custom names with the `names` kwarg\n",
      "  % (self.file_type, _names, self.field_count()))\n",
      "/home/benjamin/anaconda3/lib/python3.5/site-packages/pybedtools/bedtool.py:3287: UserWarning: Default names for filetype gff are:\n",
      "['seqname', 'source', 'feature', 'start', 'end', 'score', 'strand', 'frame', 'attributes']\n",
      "but file has 18 fields; you can supply custom names with the `names` kwarg\n",
      "  % (self.file_type, _names, self.field_count()))\n",
      "/home/benjamin/anaconda3/lib/python3.5/site-packages/pybedtools/bedtool.py:3287: UserWarning: Default names for filetype gff are:\n",
      "['seqname', 'source', 'feature', 'start', 'end', 'score', 'strand', 'frame', 'attributes']\n",
      "but file has 18 fields; you can supply custom names with the `names` kwarg\n",
      "  % (self.file_type, _names, self.field_count()))\n"
     ]
    },
    {
     "name": "stdout",
     "output_type": "stream",
     "text": [
      "This is the length of the intersect 62\n",
      "This is the length of the intersect 87\n",
      "This is the length of the intersect 75\n"
     ]
    },
    {
     "name": "stderr",
     "output_type": "stream",
     "text": [
      "/home/benjamin/anaconda3/lib/python3.5/site-packages/pybedtools/bedtool.py:3287: UserWarning: Default names for filetype gff are:\n",
      "['seqname', 'source', 'feature', 'start', 'end', 'score', 'strand', 'frame', 'attributes']\n",
      "but file has 18 fields; you can supply custom names with the `names` kwarg\n",
      "  % (self.file_type, _names, self.field_count()))\n",
      "/home/benjamin/anaconda3/lib/python3.5/site-packages/pybedtools/bedtool.py:3287: UserWarning: Default names for filetype gff are:\n",
      "['seqname', 'source', 'feature', 'start', 'end', 'score', 'strand', 'frame', 'attributes']\n",
      "but file has 18 fields; you can supply custom names with the `names` kwarg\n",
      "  % (self.file_type, _names, self.field_count()))\n",
      "/home/benjamin/anaconda3/lib/python3.5/site-packages/pybedtools/bedtool.py:3287: UserWarning: Default names for filetype gff are:\n",
      "['seqname', 'source', 'feature', 'start', 'end', 'score', 'strand', 'frame', 'attributes']\n",
      "but file has 18 fields; you can supply custom names with the `names` kwarg\n",
      "  % (self.file_type, _names, self.field_count()))\n"
     ]
    },
    {
     "name": "stdout",
     "output_type": "stream",
     "text": [
      "This is the length of the intersect 91\n",
      "This is the length of the intersect 74\n"
     ]
    },
    {
     "name": "stderr",
     "output_type": "stream",
     "text": [
      "/home/benjamin/anaconda3/lib/python3.5/site-packages/pybedtools/bedtool.py:3287: UserWarning: Default names for filetype gff are:\n",
      "['seqname', 'source', 'feature', 'start', 'end', 'score', 'strand', 'frame', 'attributes']\n",
      "but file has 18 fields; you can supply custom names with the `names` kwarg\n",
      "  % (self.file_type, _names, self.field_count()))\n",
      "/home/benjamin/anaconda3/lib/python3.5/site-packages/pybedtools/bedtool.py:3287: UserWarning: Default names for filetype gff are:\n",
      "['seqname', 'source', 'feature', 'start', 'end', 'score', 'strand', 'frame', 'attributes']\n",
      "but file has 18 fields; you can supply custom names with the `names` kwarg\n",
      "  % (self.file_type, _names, self.field_count()))\n"
     ]
    },
    {
     "name": "stdout",
     "output_type": "stream",
     "text": [
      "This is the length of the intersect 60\n",
      "This is the length of the intersect 0\n",
      "This is the length of the intersect 3\n",
      "This is the length of the intersect 42\n"
     ]
    },
    {
     "name": "stderr",
     "output_type": "stream",
     "text": [
      "/home/benjamin/anaconda3/lib/python3.5/site-packages/pybedtools/bedtool.py:3287: UserWarning: Default names for filetype gff are:\n",
      "['seqname', 'source', 'feature', 'start', 'end', 'score', 'strand', 'frame', 'attributes']\n",
      "but file has 18 fields; you can supply custom names with the `names` kwarg\n",
      "  % (self.file_type, _names, self.field_count()))\n",
      "/home/benjamin/anaconda3/lib/python3.5/site-packages/pybedtools/bedtool.py:3287: UserWarning: Default names for filetype gff are:\n",
      "['seqname', 'source', 'feature', 'start', 'end', 'score', 'strand', 'frame', 'attributes']\n",
      "but file has 18 fields; you can supply custom names with the `names` kwarg\n",
      "  % (self.file_type, _names, self.field_count()))\n",
      "/home/benjamin/anaconda3/lib/python3.5/site-packages/pybedtools/bedtool.py:3287: UserWarning: Default names for filetype gff are:\n",
      "['seqname', 'source', 'feature', 'start', 'end', 'score', 'strand', 'frame', 'attributes']\n",
      "but file has 18 fields; you can supply custom names with the `names` kwarg\n",
      "  % (self.file_type, _names, self.field_count()))\n"
     ]
    },
    {
     "name": "stdout",
     "output_type": "stream",
     "text": [
      "This is the length of the intersect 38\n",
      "This is the length of the intersect 33\n"
     ]
    },
    {
     "name": "stderr",
     "output_type": "stream",
     "text": [
      "/home/benjamin/anaconda3/lib/python3.5/site-packages/pybedtools/bedtool.py:3287: UserWarning: Default names for filetype gff are:\n",
      "['seqname', 'source', 'feature', 'start', 'end', 'score', 'strand', 'frame', 'attributes']\n",
      "but file has 18 fields; you can supply custom names with the `names` kwarg\n",
      "  % (self.file_type, _names, self.field_count()))\n",
      "/home/benjamin/anaconda3/lib/python3.5/site-packages/pybedtools/bedtool.py:3287: UserWarning: Default names for filetype gff are:\n",
      "['seqname', 'source', 'feature', 'start', 'end', 'score', 'strand', 'frame', 'attributes']\n",
      "but file has 18 fields; you can supply custom names with the `names` kwarg\n",
      "  % (self.file_type, _names, self.field_count()))\n"
     ]
    },
    {
     "name": "stdout",
     "output_type": "stream",
     "text": [
      "This is the length of the intersect 39\n",
      "This is the length of the intersect 8\n",
      "This is the length of the intersect 60\n"
     ]
    },
    {
     "name": "stderr",
     "output_type": "stream",
     "text": [
      "/home/benjamin/anaconda3/lib/python3.5/site-packages/pybedtools/bedtool.py:3287: UserWarning: Default names for filetype gff are:\n",
      "['seqname', 'source', 'feature', 'start', 'end', 'score', 'strand', 'frame', 'attributes']\n",
      "but file has 18 fields; you can supply custom names with the `names` kwarg\n",
      "  % (self.file_type, _names, self.field_count()))\n",
      "/home/benjamin/anaconda3/lib/python3.5/site-packages/pybedtools/bedtool.py:3287: UserWarning: Default names for filetype gff are:\n",
      "['seqname', 'source', 'feature', 'start', 'end', 'score', 'strand', 'frame', 'attributes']\n",
      "but file has 18 fields; you can supply custom names with the `names` kwarg\n",
      "  % (self.file_type, _names, self.field_count()))\n",
      "/home/benjamin/anaconda3/lib/python3.5/site-packages/pybedtools/bedtool.py:3287: UserWarning: Default names for filetype gff are:\n",
      "['seqname', 'source', 'feature', 'start', 'end', 'score', 'strand', 'frame', 'attributes']\n",
      "but file has 18 fields; you can supply custom names with the `names` kwarg\n",
      "  % (self.file_type, _names, self.field_count()))\n"
     ]
    },
    {
     "name": "stdout",
     "output_type": "stream",
     "text": [
      "This is the length of the intersect 25\n",
      "This is the length of the intersect 8\n",
      "This is the length of the intersect 19\n"
     ]
    },
    {
     "name": "stderr",
     "output_type": "stream",
     "text": [
      "/home/benjamin/anaconda3/lib/python3.5/site-packages/pybedtools/bedtool.py:3287: UserWarning: Default names for filetype gff are:\n",
      "['seqname', 'source', 'feature', 'start', 'end', 'score', 'strand', 'frame', 'attributes']\n",
      "but file has 18 fields; you can supply custom names with the `names` kwarg\n",
      "  % (self.file_type, _names, self.field_count()))\n",
      "/home/benjamin/anaconda3/lib/python3.5/site-packages/pybedtools/bedtool.py:3287: UserWarning: Default names for filetype gff are:\n",
      "['seqname', 'source', 'feature', 'start', 'end', 'score', 'strand', 'frame', 'attributes']\n",
      "but file has 18 fields; you can supply custom names with the `names` kwarg\n",
      "  % (self.file_type, _names, self.field_count()))\n",
      "/home/benjamin/anaconda3/lib/python3.5/site-packages/pybedtools/bedtool.py:3287: UserWarning: Default names for filetype gff are:\n",
      "['seqname', 'source', 'feature', 'start', 'end', 'score', 'strand', 'frame', 'attributes']\n",
      "but file has 18 fields; you can supply custom names with the `names` kwarg\n",
      "  % (self.file_type, _names, self.field_count()))\n"
     ]
    },
    {
     "name": "stdout",
     "output_type": "stream",
     "text": [
      "This is the length of the intersect 8\n",
      "This is the length of the intersect 20\n",
      "This is the length of the intersect 21\n"
     ]
    },
    {
     "name": "stderr",
     "output_type": "stream",
     "text": [
      "/home/benjamin/anaconda3/lib/python3.5/site-packages/pybedtools/bedtool.py:3287: UserWarning: Default names for filetype gff are:\n",
      "['seqname', 'source', 'feature', 'start', 'end', 'score', 'strand', 'frame', 'attributes']\n",
      "but file has 18 fields; you can supply custom names with the `names` kwarg\n",
      "  % (self.file_type, _names, self.field_count()))\n",
      "/home/benjamin/anaconda3/lib/python3.5/site-packages/pybedtools/bedtool.py:3287: UserWarning: Default names for filetype gff are:\n",
      "['seqname', 'source', 'feature', 'start', 'end', 'score', 'strand', 'frame', 'attributes']\n",
      "but file has 18 fields; you can supply custom names with the `names` kwarg\n",
      "  % (self.file_type, _names, self.field_count()))\n",
      "/home/benjamin/anaconda3/lib/python3.5/site-packages/pybedtools/bedtool.py:3287: UserWarning: Default names for filetype gff are:\n",
      "['seqname', 'source', 'feature', 'start', 'end', 'score', 'strand', 'frame', 'attributes']\n",
      "but file has 18 fields; you can supply custom names with the `names` kwarg\n",
      "  % (self.file_type, _names, self.field_count()))\n"
     ]
    },
    {
     "name": "stdout",
     "output_type": "stream",
     "text": [
      "This is the length of the intersect 28\n",
      "This is the length of the intersect 8\n",
      "This is the length of the intersect 14\n"
     ]
    },
    {
     "name": "stderr",
     "output_type": "stream",
     "text": [
      "/home/benjamin/anaconda3/lib/python3.5/site-packages/pybedtools/bedtool.py:3287: UserWarning: Default names for filetype gff are:\n",
      "['seqname', 'source', 'feature', 'start', 'end', 'score', 'strand', 'frame', 'attributes']\n",
      "but file has 18 fields; you can supply custom names with the `names` kwarg\n",
      "  % (self.file_type, _names, self.field_count()))\n",
      "/home/benjamin/anaconda3/lib/python3.5/site-packages/pybedtools/bedtool.py:3287: UserWarning: Default names for filetype gff are:\n",
      "['seqname', 'source', 'feature', 'start', 'end', 'score', 'strand', 'frame', 'attributes']\n",
      "but file has 18 fields; you can supply custom names with the `names` kwarg\n",
      "  % (self.file_type, _names, self.field_count()))\n",
      "/home/benjamin/anaconda3/lib/python3.5/site-packages/pybedtools/bedtool.py:3287: UserWarning: Default names for filetype gff are:\n",
      "['seqname', 'source', 'feature', 'start', 'end', 'score', 'strand', 'frame', 'attributes']\n",
      "but file has 18 fields; you can supply custom names with the `names` kwarg\n",
      "  % (self.file_type, _names, self.field_count()))\n"
     ]
    },
    {
     "name": "stdout",
     "output_type": "stream",
     "text": [
      "This is the length of the intersect 20\n",
      "This is the length of the intersect 6\n",
      "This is the length of the intersect 7\n"
     ]
    },
    {
     "name": "stderr",
     "output_type": "stream",
     "text": [
      "/home/benjamin/anaconda3/lib/python3.5/site-packages/pybedtools/bedtool.py:3287: UserWarning: Default names for filetype gff are:\n",
      "['seqname', 'source', 'feature', 'start', 'end', 'score', 'strand', 'frame', 'attributes']\n",
      "but file has 18 fields; you can supply custom names with the `names` kwarg\n",
      "  % (self.file_type, _names, self.field_count()))\n",
      "/home/benjamin/anaconda3/lib/python3.5/site-packages/pybedtools/bedtool.py:3287: UserWarning: Default names for filetype gff are:\n",
      "['seqname', 'source', 'feature', 'start', 'end', 'score', 'strand', 'frame', 'attributes']\n",
      "but file has 18 fields; you can supply custom names with the `names` kwarg\n",
      "  % (self.file_type, _names, self.field_count()))\n",
      "/home/benjamin/anaconda3/lib/python3.5/site-packages/pybedtools/bedtool.py:3287: UserWarning: Default names for filetype gff are:\n",
      "['seqname', 'source', 'feature', 'start', 'end', 'score', 'strand', 'frame', 'attributes']\n",
      "but file has 18 fields; you can supply custom names with the `names` kwarg\n",
      "  % (self.file_type, _names, self.field_count()))\n"
     ]
    },
    {
     "name": "stdout",
     "output_type": "stream",
     "text": [
      "This is the length of the intersect 8\n",
      "This is the length of the intersect 7\n"
     ]
    },
    {
     "name": "stderr",
     "output_type": "stream",
     "text": [
      "/home/benjamin/anaconda3/lib/python3.5/site-packages/pybedtools/bedtool.py:3287: UserWarning: Default names for filetype gff are:\n",
      "['seqname', 'source', 'feature', 'start', 'end', 'score', 'strand', 'frame', 'attributes']\n",
      "but file has 18 fields; you can supply custom names with the `names` kwarg\n",
      "  % (self.file_type, _names, self.field_count()))\n",
      "/home/benjamin/anaconda3/lib/python3.5/site-packages/pybedtools/bedtool.py:3287: UserWarning: Default names for filetype gff are:\n",
      "['seqname', 'source', 'feature', 'start', 'end', 'score', 'strand', 'frame', 'attributes']\n",
      "but file has 18 fields; you can supply custom names with the `names` kwarg\n",
      "  % (self.file_type, _names, self.field_count()))\n"
     ]
    },
    {
     "name": "stdout",
     "output_type": "stream",
     "text": [
      "This is the length of the intersect 8\n",
      "This is the length of the intersect 5\n",
      "This is the length of the intersect 22\n"
     ]
    },
    {
     "name": "stderr",
     "output_type": "stream",
     "text": [
      "/home/benjamin/anaconda3/lib/python3.5/site-packages/pybedtools/bedtool.py:3287: UserWarning: Default names for filetype gff are:\n",
      "['seqname', 'source', 'feature', 'start', 'end', 'score', 'strand', 'frame', 'attributes']\n",
      "but file has 18 fields; you can supply custom names with the `names` kwarg\n",
      "  % (self.file_type, _names, self.field_count()))\n",
      "/home/benjamin/anaconda3/lib/python3.5/site-packages/pybedtools/bedtool.py:3287: UserWarning: Default names for filetype gff are:\n",
      "['seqname', 'source', 'feature', 'start', 'end', 'score', 'strand', 'frame', 'attributes']\n",
      "but file has 18 fields; you can supply custom names with the `names` kwarg\n",
      "  % (self.file_type, _names, self.field_count()))\n",
      "/home/benjamin/anaconda3/lib/python3.5/site-packages/pybedtools/bedtool.py:3287: UserWarning: Default names for filetype gff are:\n",
      "['seqname', 'source', 'feature', 'start', 'end', 'score', 'strand', 'frame', 'attributes']\n",
      "but file has 18 fields; you can supply custom names with the `names` kwarg\n",
      "  % (self.file_type, _names, self.field_count()))\n"
     ]
    },
    {
     "name": "stdout",
     "output_type": "stream",
     "text": [
      "This is the length of the intersect 4\n",
      "This is the length of the intersect 0\n",
      "This is the length of the intersect 1\n"
     ]
    },
    {
     "name": "stderr",
     "output_type": "stream",
     "text": [
      "/home/benjamin/anaconda3/lib/python3.5/site-packages/pybedtools/bedtool.py:3287: UserWarning: Default names for filetype gff are:\n",
      "['seqname', 'source', 'feature', 'start', 'end', 'score', 'strand', 'frame', 'attributes']\n",
      "but file has 18 fields; you can supply custom names with the `names` kwarg\n",
      "  % (self.file_type, _names, self.field_count()))\n",
      "/home/benjamin/anaconda3/lib/python3.5/site-packages/pybedtools/bedtool.py:3287: UserWarning: Default names for filetype gff are:\n",
      "['seqname', 'source', 'feature', 'start', 'end', 'score', 'strand', 'frame', 'attributes']\n",
      "but file has 18 fields; you can supply custom names with the `names` kwarg\n",
      "  % (self.file_type, _names, self.field_count()))\n"
     ]
    }
   ],
   "source": [
    "p_gene_h_contig_overlap_dict = {}\n",
    "for out_folder in out_folders:\n",
    "    tmp_folder_content = os.listdir(out_folder)\n",
    "    tmp_p_gene_gff = [os.path.join(out_folder, x) for x in tmp_folder_content if x.endswith('p_gene.gff') ][0]\n",
    "    tmp_p_gene_bed = pybedtools.BedTool(tmp_p_gene_gff).remove_invalid().saveas()\n",
    "    tmp_p_by_h_gff = [os.path.join(out_folder, x) for x in tmp_folder_content if x.endswith('p_by_h_cov.gff') ][0]\n",
    "    tmp_p_by_h_bed = pybedtools.BedTool(tmp_p_by_h_gff).remove_invalid().saveas()\n",
    "    #generate a bed intersect\n",
    "    p_gene_and_p_by_h = tmp_p_gene_bed.intersect(tmp_p_by_h_bed, wb=True)\n",
    "    #check the length of the obtained intersect is \n",
    "    print(\"This is the length of the intersect %i\" %len(p_gene_and_p_by_h ))\n",
    "    if len(p_gene_and_p_by_h) == 0:\n",
    "        continue\n",
    "    #turn this into a dataframe \n",
    "    p_gene_and_p_by_h_df = p_gene_and_p_by_h.to_dataframe()\n",
    "    p_gene_and_p_by_h_df['p_gene'] = p_gene_and_p_by_h_df[8].str.extract(r'ID=([^;]*);', expand=False)\n",
    "    p_gene_and_p_by_h_df['p_protein'] = p_gene_and_p_by_h_df['p_gene'].str.replace('TU', 'model')\n",
    "    #save this in the same folder as dataframe\n",
    "    p_gene_and_p_by_h_df.to_csv(tmp_p_gene_gff.replace('p_gene.gff', 'gene_haplotig_intersect.df'), sep='\\t', index=None)\n",
    "    p_gene_and_p_by_h_df_2 = p_gene_and_p_by_h_df.loc[:, [10, 'p_protein']]\n",
    "    #make a dict for the overlap of each gene with it's correspoding haplotig\n",
    "    tmp_p_gene_h_overlap_df = p_gene_and_p_by_h_df_2.groupby('p_protein')[10].apply(list)\n",
    "    tmp_p_gene_h_overlap_dict = dict(zip(tmp_p_gene_h_overlap_df.index, tmp_p_gene_h_overlap_df.values))\n",
    "    p_gene_h_contig_overlap_dict.update(tmp_p_gene_h_overlap_dict)\n",
    "    "
   ]
  },
  {
   "cell_type": "code",
   "execution_count": 19,
   "metadata": {
    "ExecuteTime": {
     "end_time": "2018-02-21T00:53:28.704368Z",
     "start_time": "2018-02-21T00:53:28.686210Z"
    },
    "collapsed": true
   },
   "outputs": [],
   "source": [
    "h_gene_p_contig_overlap_dict = get_h_gene_p_contig_overlap_dict(p_gene_h_contig_overlap_dict)"
   ]
  },
  {
   "cell_type": "code",
   "execution_count": 20,
   "metadata": {
    "ExecuteTime": {
     "end_time": "2018-02-21T00:54:24.943958Z",
     "start_time": "2018-02-21T00:54:16.229937Z"
    },
    "collapsed": true
   },
   "outputs": [],
   "source": [
    "#get out the p_protein on h_protein blast out dataframe and appand the h_contig overlap for each protein\n",
    "_key = [x for x in blast_out_dict.keys() if x.startswith(P_GENOME) and x.split('.')[-2] == 'blastp' and x.endswith('outfmt6')][0]\n",
    "p_gene_h_contig_overlap_df = pd.DataFrame([p_gene_h_contig_overlap_dict.keys(), p_gene_h_contig_overlap_dict.values()],  index = ['p_protein', 'h_contig_overlap']).T\n",
    "PctgOnhtgBlast = blast_out_dict[_key]\n",
    "PctgOnhtgBlast = PctgOnhtgBlast.merge(p_gene_h_contig_overlap_df, how='outer' ,left_on='Query', right_on='p_protein')\n",
    "PctgOnhtgBlast['h_contig_overlap'].fillna(False, inplace=True)\n",
    "#check if the protein hit resites on the overlapping haplotig\n",
    "PctgOnhtgBlast['t_contig == h_contig_overlap'] = PctgOnhtgBlast.apply(lambda row: target_on_mapped_haplotig(row['t_contig'], row['h_contig_overlap']), axis =1 )\n",
    "#blast_out_dict[_key] = PctgOnhtgBlast"
   ]
  },
  {
   "cell_type": "code",
   "execution_count": 22,
   "metadata": {
    "ExecuteTime": {
     "end_time": "2018-02-21T00:55:14.293384Z",
     "start_time": "2018-02-21T00:55:11.127734Z"
    },
    "collapsed": true
   },
   "outputs": [],
   "source": [
    "#write the dataframe again\n",
    "PctgOnhtgBlast.to_csv(os.path.join(OUT_PATH, _key+'.allele_analysis'), index=None, sep='\\t')"
   ]
  },
  {
   "cell_type": "code",
   "execution_count": 23,
   "metadata": {
    "ExecuteTime": {
     "end_time": "2018-02-19T04:50:40.298237Z",
     "start_time": "2018-02-19T04:35:21.761726Z"
    }
   },
   "outputs": [
    {
     "name": "stdout",
     "output_type": "stream",
     "text": [
      "this is the genome Path /home/benjamin/genome_assembly/Warrior/genome_v04/:\n",
      "Checking for correct files and directories...\n",
      "Created directory: /home/benjamin/genome_assembly/Warrior/allele_analysis/v04/proteinortho/ph_ctg_516\n",
      "Copying DK_0911_v04_h_ctg.protein.faa file to /home/benjamin/genome_assembly/Warrior/allele_analysis/v04/proteinortho/ph_ctg_516\n",
      "Copying DK_0911_v04_p_ctg.protein.faa file to /home/benjamin/genome_assembly/Warrior/allele_analysis/v04/proteinortho/ph_ctg_516\n",
      "Writing a new proteinortho-compatible gff file at /home/benjamin/genome_assembly/Warrior/allele_analysis/v04/proteinortho/ph_ctg_516/DK_0911_v04_h_ctg.protein.gff based on original at /home/benjamin/genome_assembly/Warrior/genome_v04/DK_0911_v04_h_ctg.anno.gff3\n",
      "Writing a new proteinortho-compatible gff file at /home/benjamin/genome_assembly/Warrior/allele_analysis/v04/proteinortho/ph_ctg_516/DK_0911_v04_p_ctg.protein.gff based on original at /home/benjamin/genome_assembly/Warrior/genome_v04/DK_0911_v04_p_ctg.anno.gff3\n",
      "Files and directories required for proteinortho analysis exist.\n",
      "\n",
      "Checking whether proteinortho files already exist in /home/benjamin/genome_assembly/Warrior/allele_analysis/v04/proteinortho...\n",
      "Folder reference dictionary:\n",
      "{'blast-graph': 1, 'ffadj-graph': 1, 'proteinortho': 1, 'psq': 2, 'poff-graph': 1, 'pin': 2, 'poff': 1, 'gff': 2, 'proteinortho-graph': 1, 'faa': 2, 'phr': 2}\n",
      "proteinortho: Discrepancy in *.blast-graph files: 0 [FOLDER] vs 1 [REF]\n",
      "proteinortho: Discrepancy in *.ffadj-graph files: 0 [FOLDER] vs 1 [REF]\n",
      "proteinortho: Discrepancy in *.proteinortho files: 0 [FOLDER] vs 1 [REF]\n",
      "proteinortho: Discrepancy in *.psq files: 0 [FOLDER] vs 2 [REF]\n",
      "proteinortho: Discrepancy in *.poff-graph files: 0 [FOLDER] vs 1 [REF]\n",
      "proteinortho: Discrepancy in *.pin files: 0 [FOLDER] vs 2 [REF]\n",
      "proteinortho: Discrepancy in *.poff files: 0 [FOLDER] vs 1 [REF]\n",
      "proteinortho: Discrepancy in *.proteinortho-graph files: 0 [FOLDER] vs 1 [REF]\n",
      "proteinortho: Discrepancy in *.phr files: 0 [FOLDER] vs 2 [REF]\n",
      "\n",
      "Not all files supposed to be generated by proteinortho appear to be present. Running proteinortho now (this may take some time)...\n",
      "b'*****************************************************************'\n",
      "b'Proteinortho with PoFF version 5.16b - An orthology detection tool'\n",
      "b'*****************************************************************'\n",
      "b'Detected 56 available CPU threads, Detected NCBI BLAST version 2.2.31+'\n",
      "b'Checking input files'\n",
      "b'Checking ph_ctg_516/DK_0911_v04_h_ctg.protein.faa... ph_ctg_516/DK_0911_v04_h_ctg.protein.faa\\t10870 genes\\tok'\n",
      "b'Checking ph_ctg_516/DK_0911_v04_p_ctg.protein.faa... ph_ctg_516/DK_0911_v04_p_ctg.protein.faa\\t15070 genes\\tok'\n",
      "b''\n",
      "b'**Step 1**'\n",
      "b'Generating indices'\n",
      "b\"Building database for 'ph_ctg_516/DK_0911_v04_p_ctg.protein.faa'\\t(15070 sequences)\"\n",
      "b\"Building database for 'ph_ctg_516/DK_0911_v04_h_ctg.protein.faa'\\t(10870 sequences)\"\n",
      "b''\n",
      "b'**Step 2**'\n",
      "b'\\r                                                                               \\rRunning blast analysis: 0% (0/1)\\r                                                                               \\rRunning blast analysis: 100% (1/1)\\r                                                                               \\rRunning blast analysis: 100% (1/1)'\n",
      "b'[OUTPUT] -> written to ph_ctg_516.blast-graph'\n",
      "b''\n",
      "b'**Step 3**'\n",
      "b'Clustering by similarity (Proteinortho mode)'\n",
      "b'Reading ph_ctg_516.blast-graph'\n",
      "b'2 species'\n",
      "b'16707 paired proteins'\n",
      "b'9067 bidirectional edges'\n",
      "b'\\r                          \\rClustering: 0.01%\\r                          \\rClustering: 0.02%\\r                          \\rClustering: 0.04%\\r                          \\rClustering: 0.05%\\r                          \\rClustering: 0.06%\\r                          \\rClustering: 0.07%\\r                          \\rClustering: 0.08%\\r                          \\rClustering: 0.10%\\r                          \\rClustering: 0.11%\\r                          \\rClustering: 0.12%\\r                          \\rClustering: 0.13%\\r                          \\rClustering: 0.14%\\r                          \\rClustering: 0.16%\\r                          \\rClustering: 0.17%\\r                          \\rClustering: 0.18%\\r                          \\rClustering: 0.19%\\r                          \\rClustering: 0.20%\\r                          \\rClustering: 0.22%\\r                          \\rClustering: 0.23%\\r                          \\rClustering: 0.24%\\r                          \\rClustering: 0.25%\\r                          \\rClustering: 0.26%\\r                          \\rClustering: 0.28%\\r                          \\rClustering: 0.29%\\r                          \\rClustering: 0.30%\\r                          \\rClustering: 0.31%\\r                          \\rClustering: 0.32%\\r                          \\rClustering: 0.34%\\r                          \\rClustering: 0.35%\\r                          \\rClustering: 0.36%\\r                          \\rClustering: 0.37%\\r                          \\rClustering: 0.38%\\r                          \\rClustering: 0.40%\\r                          \\rClustering: 0.41%\\r                          \\rClustering: 0.42%\\r                          \\rClustering: 0.43%\\r                          \\rClustering: 0.44%\\r                          \\rClustering: 0.45%\\r                          \\rClustering: 0.46%\\r                          \\rClustering: 0.47%\\r                          \\rClustering: 0.48%\\r                          \\rClustering: 0.50%\\r                          \\rClustering: 0.51%\\r                          \\rClustering: 0.52%\\r                          \\rClustering: 0.53%\\r                          \\rClustering: 0.54%\\r                          \\rClustering: 0.56%\\r                          \\rClustering: 0.57%\\r                          \\rClustering: 0.58%\\r                          \\rClustering: 0.59%\\r                          \\rClustering: 0.60%\\r                          \\rClustering: 0.63%\\r                          \\rClustering: 0.64%\\r                          \\rClustering: 0.65%\\r                          \\rClustering: 0.66%\\r                          \\rClustering: 0.68%\\r                          \\rClustering: 0.69%\\r                          \\rClustering: 0.70%\\r                          \\rClustering: 0.71%\\r                          \\rClustering: 0.72%\\r                          \\rClustering: 0.74%\\r                          \\rClustering: 0.75%\\r                          \\rClustering: 0.76%\\r                          \\rClustering: 0.77%\\r                          \\rClustering: 0.80%\\r                          \\rClustering: 0.81%\\r                          \\rClustering: 0.82%\\r                          \\rClustering: 0.83%\\r                          \\rClustering: 0.84%\\r                          \\rClustering: 0.86%\\r                          \\rClustering: 0.87%\\r                          \\rClustering: 0.88%\\r                          \\rClustering: 0.89%\\r                          \\rClustering: 0.90%\\r                          \\rClustering: 0.92%\\r                          \\rClustering: 0.93%\\r                          \\rClustering: 0.94%\\r                          \\rClustering: 0.95%\\r                          \\rClustering: 0.96%\\r                          \\rClustering: 0.98%\\r                          \\rClustering: 0.99%\\r                          \\rClustering: 1.00%\\r                          \\rClustering: 1.01%\\r                          \\rClustering: 1.02%\\r                          \\rClustering: 1.04%\\r                          \\rClustering: 1.05%\\r                          \\rClustering: 1.06%\\r                          \\rClustering: 1.07%\\r                          \\rClustering: 1.08%\\r                          \\rClustering: 1.10%\\r                          \\rClustering: 1.11%\\r                          \\rClustering: 1.12%\\r                          \\rClustering: 1.13%\\r                          \\rClustering: 1.14%\\r                          \\rClustering: 1.16%\\r                          \\rClustering: 1.17%\\r                          \\rClustering: 1.18%\\r                          \\rClustering: 1.19%\\r                          \\rClustering: 1.20%\\r                          \\rClustering: 1.23%\\r                          \\rClustering: 1.25%\\r                          \\rClustering: 1.27%\\r                          \\rClustering: 1.30%\\r                          \\rClustering: 1.32%\\r                          \\rClustering: 1.35%\\r                          \\rClustering: 1.37%\\r                          \\rClustering: 1.39%\\r                          \\rClustering: 1.42%\\r                          \\rClustering: 1.45%\\r                          \\rClustering: 1.47%\\r                          \\rClustering: 1.51%\\r                          \\rClustering: 1.53%\\r                          \\rClustering: 1.56%\\r                          \\rClustering: 1.58%\\r                          \\rClustering: 1.60%\\r                          \\rClustering: 1.63%\\r                          \\rClustering: 1.65%\\r                          \\rClustering: 1.68%\\r                          \\rClustering: 1.70%\\r                          \\rClustering: 1.72%\\r                          \\rClustering: 1.75%\\r                          \\rClustering: 1.77%\\r                          \\rClustering: 1.80%\\r                          \\rClustering: 1.82%\\r                          \\rClustering: 1.84%\\r                          \\rClustering: 1.87%\\r                          \\rClustering: 1.89%\\r                          \\rClustering: 1.92%\\r                          \\rClustering: 1.94%\\r                          \\rClustering: 1.96%\\r                          \\rClustering: 1.99%\\r                          \\rClustering: 2.01%\\r                          \\rClustering: 2.04%\\r                          \\rClustering: 2.06%\\r                          \\rClustering: 2.08%\\r                          \\rClustering: 2.11%\\r                          \\rClustering: 2.13%\\r                          \\rClustering: 2.15%\\r                          \\rClustering: 2.18%\\r                          \\rClustering: 2.20%\\r                          \\rClustering: 2.23%\\r                          \\rClustering: 2.25%\\r                          \\rClustering: 2.27%\\r                          \\rClustering: 2.30%\\r                          \\rClustering: 2.32%\\r                          \\rClustering: 2.35%\\r                          \\rClustering: 2.37%\\r                          \\rClustering: 2.40%\\r                          \\rClustering: 2.44%\\r                          \\rClustering: 2.48%\\r                          \\rClustering: 2.51%\\r                          \\rClustering: 2.55%\\r                          \\rClustering: 2.59%\\r                          \\rClustering: 2.62%\\r                          \\rClustering: 2.66%\\r                          \\rClustering: 2.69%\\r                          \\rClustering: 2.73%\\r                          \\rClustering: 2.77%\\r                          \\rClustering: 2.81%\\r                          \\rClustering: 2.85%\\r                          \\rClustering: 2.88%\\r                          \\rClustering: 2.91%\\r                          \\rClustering: 2.94%\\r                          \\rClustering: 2.98%\\r                          \\rClustering: 3.01%\\r                          \\rClustering: 3.05%\\r                          \\rClustering: 3.08%\\r                          \\rClustering: 3.12%\\r                          \\rClustering: 3.17%\\r                          \\rClustering: 3.20%\\r                          \\rClustering: 3.24%\\r                          \\rClustering: 3.27%\\r                          \\rClustering: 3.31%\\r                          \\rClustering: 3.35%\\r                          \\rClustering: 3.38%\\r                          \\rClustering: 3.42%\\r                          \\rClustering: 3.48%\\r                          \\rClustering: 3.51%\\r                          \\rClustering: 3.55%\\r                          \\rClustering: 3.59%\\r                          \\rClustering: 3.62%\\r                          \\rClustering: 3.66%\\r                          \\rClustering: 3.71%\\r                          \\rClustering: 3.75%\\r                          \\rClustering: 3.80%\\r                          \\rClustering: 3.85%\\r                          \\rClustering: 3.90%\\r                          \\rClustering: 3.94%\\r                          \\rClustering: 4.00%\\r                          \\rClustering: 4.05%\\r                          \\rClustering: 4.10%\\r                          \\rClustering: 4.15%\\r                          \\rClustering: 4.20%\\r                          \\rClustering: 4.25%\\r                          \\rClustering: 4.30%\\r                          \\rClustering: 4.35%\\r                          \\rClustering: 4.40%\\r                          \\rClustering: 4.45%\\r                          \\rClustering: 4.50%\\r                          \\rClustering: 4.55%\\r                          \\rClustering: 4.60%\\r                          \\rClustering: 4.65%\\r                          \\rClustering: 4.70%\\r                          \\rClustering: 4.75%\\r                          \\rClustering: 4.80%\\r                          \\rClustering: 4.86%\\r                          \\rClustering: 4.94%\\r                          \\rClustering: 5.00%\\r                          \\rClustering: 5.06%\\r                          \\rClustering: 5.12%\\r                          \\rClustering: 5.18%\\r                          \\rClustering: 5.24%\\r                          \\rClustering: 5.30%\\r                          \\rClustering: 5.36%\\r                          \\rClustering: 5.42%\\r                          \\rClustering: 5.48%\\r                          \\rClustering: 5.54%\\r                          \\rClustering: 5.60%\\r                          \\rClustering: 5.66%\\r                          \\rClustering: 5.72%\\r                          \\rClustering: 5.78%\\r                          \\rClustering: 5.85%\\r                          \\rClustering: 5.91%\\r                          \\rClustering: 5.97%\\r                          \\rClustering: 6.03%\\r                          \\rClustering: 6.10%\\r                          \\rClustering: 6.17%\\r                          \\rClustering: 6.24%\\r                          \\rClustering: 6.32%\\r                          \\rClustering: 6.39%\\r                          \\rClustering: 6.46%\\r                          \\rClustering: 6.54%\\r                          \\rClustering: 6.61%\\r                          \\rClustering: 6.68%\\r                          \\rClustering: 6.75%\\r                          \\rClustering: 6.82%\\r                          \\rClustering: 6.90%\\r                          \\rClustering: 6.97%\\r                          \\rClustering: 7.04%\\r                          \\rClustering: 7.11%\\r                          \\rClustering: 7.18%\\r                          \\rClustering: 7.28%\\r                          \\rClustering: 7.36%\\r                          \\rClustering: 7.43%\\r                          \\rClustering: 7.52%\\r                          \\rClustering: 7.60%\\r                          \\rClustering: 7.69%\\r                          \\rClustering: 7.77%\\r                          \\rClustering: 7.89%\\r                          \\rClustering: 7.97%\\r                          \\rClustering: 8.06%\\r                          \\rClustering: 8.14%\\r                          \\rClustering: 8.22%\\r                          \\rClustering: 8.31%\\r                          \\rClustering: 8.40%\\r                          \\rClustering: 8.49%\\r                          \\rClustering: 8.59%\\r                          \\rClustering: 8.68%\\r                          \\rClustering: 8.78%\\r                          \\rClustering: 8.88%\\r                          \\rClustering: 8.97%\\r                          \\rClustering: 9.08%\\r                          \\rClustering: 9.18%\\r                          \\rClustering: 9.27%\\r                          \\rClustering: 9.37%\\r                          \\rClustering: 9.46%\\r                          \\rClustering: 9.56%\\r                          \\rClustering: 9.66%\\r                          \\rClustering: 9.77%\\r                          \\rClustering: 9.88%\\r                          \\rClustering: 9.98%\\r                          \\rClustering: 10.09%\\r                          \\rClustering: 10.20%\\r                          \\rClustering: 10.31%\\r                          \\rClustering: 10.42%\\r                          \\rClustering: 10.53%\\r                          \\rClustering: 10.64%\\r                          \\rClustering: 10.74%\\r                          \\rClustering: 10.85%\\r                          \\rClustering: 10.97%\\r                          \\rClustering: 11.09%\\r                          \\rClustering: 11.21%\\r                          \\rClustering: 11.33%\\r                          \\rClustering: 11.45%\\r                          \\rClustering: 11.57%\\r                          \\rClustering: 11.70%\\r                          \\rClustering: 11.82%\\r                          \\rClustering: 11.94%\\r                          \\rClustering: 12.06%\\r                          \\rClustering: 12.19%\\r                          \\rClustering: 12.32%\\r                          \\rClustering: 12.46%\\r                          \\rClustering: 12.59%\\r                          \\rClustering: 12.72%\\r                          \\rClustering: 12.86%\\r                          \\rClustering: 13.00%\\r                          \\rClustering: 13.13%\\r                          \\rClustering: 13.26%\\r                          \\rClustering: 13.41%\\r                          \\rClustering: 13.55%\\r                          \\rClustering: 13.68%\\r                          \\rClustering: 13.83%\\r                          \\rClustering: 13.98%\\r                          \\rClustering: 14.12%\\r                          \\rClustering: 14.28%\\r                          \\rClustering: 14.42%\\r                          \\rClustering: 14.57%\\r                          \\rClustering: 14.72%\\r                          \\rClustering: 14.88%\\r                          \\rClustering: 15.04%\\r                          \\rClustering: 15.19%\\r                          \\rClustering: 15.35%\\r                          \\rClustering: 15.50%\\r                          \\rClustering: 15.66%\\r                          \\rClustering: 15.83%\\r                          \\rClustering: 16.00%\\r                          \\rClustering: 16.16%\\r                          \\rClustering: 16.33%\\r                          \\rClustering: 16.50%\\r                          \\rClustering: 16.67%\\r                          \\rClustering: 16.84%\\r                          \\rClustering: 17.02%\\r                          \\rClustering: 17.20%\\r                          \\rClustering: 17.38%\\r                          \\rClustering: 17.56%\\r                          \\rClustering: 17.74%\\r                          \\rClustering: 17.92%\\r                          \\rClustering: 18.11%\\r                          \\rClustering: 18.30%\\r                          \\rClustering: 18.49%\\r                          \\rClustering: 18.68%\\r                          \\rClustering: 18.87%\\r                          \\rClustering: 19.07%\\r                          \\rClustering: 19.26%\\r                          \\rClustering: 19.46%\\r                          \\rClustering: 19.67%\\r                          \\rClustering: 19.88%\\r                          \\rClustering: 20.09%\\r                          \\rClustering: 20.29%\\r                          \\rClustering: 20.50%\\r                          \\rClustering: 20.71%\\r                          \\rClustering: 20.93%\\r                          \\rClustering: 21.14%\\r                          \\rClustering: 21.36%\\r                          \\rClustering: 21.58%\\r                          \\rClustering: 21.81%\\r                          \\rClustering: 22.03%\\r                          \\rClustering: 22.25%\\r                          \\rClustering: 22.51%\\r                          \\rClustering: 22.74%\\r                          \\rClustering: 22.98%\\r                          \\rClustering: 23.22%\\r                          \\rClustering: 23.45%\\r                          \\rClustering: 23.70%\\r                          \\rClustering: 23.94%\\r                          \\rClustering: 24.18%\\r                          \\rClustering: 24.43%\\r                          \\rClustering: 24.68%\\r                          \\rClustering: 24.94%\\r                          \\rClustering: 25.19%\\r                          \\rClustering: 25.46%\\r                          \\rClustering: 25.72%\\r                          \\rClustering: 25.98%\\r                          \\rClustering: 26.25%\\r                          \\rClustering: 26.51%\\r                          \\rClustering: 26.79%\\r                          \\rClustering: 27.05%\\r                          \\rClustering: 27.34%\\r                          \\rClustering: 27.62%\\r                          \\rClustering: 27.91%\\r                          \\rClustering: 28.19%\\r                          \\rClustering: 28.48%\\r                          \\rClustering: 28.77%\\r                          \\rClustering: 29.07%\\r                          \\rClustering: 29.36%\\r                          \\rClustering: 29.67%\\r                          \\rClustering: 29.97%\\r                          \\rClustering: 30.27%\\r                          \\rClustering: 30.59%\\r                          \\rClustering: 30.90%\\r                          \\rClustering: 31.21%\\r                          \\rClustering: 31.54%\\r                          \\rClustering: 31.86%\\r                          \\rClustering: 32.19%\\r                          \\rClustering: 32.51%\\r                          \\rClustering: 32.85%\\r                          \\rClustering: 33.19%\\r                          \\rClustering: 33.53%\\r                          \\rClustering: 33.87%\\r                          \\rClustering: 34.21%\\r                          \\rClustering: 34.56%\\r                          \\rClustering: 34.91%\\r                          \\rClustering: 35.27%\\r                          \\rClustering: 35.63%\\r                          \\rClustering: 35.98%\\r                          \\rClustering: 36.36%\\r                          \\rClustering: 36.73%\\r                          \\rClustering: 37.10%\\r                          \\rClustering: 37.48%\\r                          \\rClustering: 37.86%\\r                          \\rClustering: 38.25%\\r                          \\rClustering: 38.64%\\r                          \\rClustering: 39.04%\\r                          \\rClustering: 39.43%\\r                          \\rClustering: 39.83%\\r                          \\rClustering: 40.23%\\r                          \\rClustering: 40.65%\\r                          \\rClustering: 41.05%\\r                          \\rClustering: 41.47%\\r                          \\rClustering: 41.89%\\r                          \\rClustering: 42.31%\\r                          \\rClustering: 42.73%\\r                          \\rClustering: 43.16%\\r                          \\rClustering: 43.60%\\r                          \\rClustering: 44.04%\\r                          \\rClustering: 44.48%\\r                          \\rClustering: 44.94%\\r                          \\rClustering: 45.39%\\r                          \\rClustering: 45.85%\\r                          \\rClustering: 46.32%\\r                          \\rClustering: 46.78%\\r                          \\rClustering: 47.26%\\r                          \\rClustering: 47.73%\\r                          \\rClustering: 48.22%\\r                          \\rClustering: 48.71%\\r                          \\rClustering: 49.21%\\r                          \\rClustering: 49.70%\\r                          \\rClustering: 50.21%\\r                          \\rClustering: 50.72%\\r                          \\rClustering: 51.22%\\r                          \\rClustering: 51.74%\\r                          \\rClustering: 52.27%\\r                          \\rClustering: 52.80%\\r                          \\rClustering: 53.33%\\r                          \\rClustering: 53.87%\\r                          \\rClustering: 54.42%\\r                          \\rClustering: 54.97%\\r                          \\rClustering: 55.52%\\r                          \\rClustering: 56.08%\\r                          \\rClustering: 56.64%\\r                          \\rClustering: 57.22%\\r                          \\rClustering: 57.80%\\r                          \\rClustering: 58.38%\\r                          \\rClustering: 58.98%\\r                          \\rClustering: 59.57%\\r                          \\rClustering: 60.18%\\r                          \\rClustering: 60.79%\\r                          \\rClustering: 61.41%\\r                          \\rClustering: 62.03%\\r                          \\rClustering: 62.66%\\r                          \\rClustering: 63.29%\\r                          \\rClustering: 63.93%\\r                          \\rClustering: 64.57%\\r                          \\rClustering: 65.24%\\r                          \\rClustering: 65.89%\\r                          \\rClustering: 66.56%\\r                          \\rClustering: 67.24%\\r                          \\rClustering: 67.91%\\r                          \\rClustering: 68.60%\\r                          \\rClustering: 69.29%\\r                          \\rClustering: 69.98%\\r                          \\rClustering: 70.69%\\r                          \\rClustering: 71.41%\\r                          \\rClustering: 72.13%\\r                          \\rClustering: 72.87%\\r                          \\rClustering: 73.60%\\r                          \\rClustering: 74.33%\\r                          \\rClustering: 75.09%\\r                          \\rClustering: 75.85%\\r                          \\rClustering: 76.61%\\r                          \\rClustering: 77.38%\\r                          \\rClustering: 78.17%\\r                          \\rClustering: 78.95%\\r                          \\rClustering: 79.75%\\r                          \\rClustering: 80.55%\\r                          \\rClustering: 81.36%\\r                          \\rClustering: 82.17%\\r                          \\rClustering: 83.00%\\r                          \\rClustering: 83.83%\\r                          \\rClustering: 84.68%\\r                          \\rClustering: 85.53%\\r                          \\rClustering: 86.39%\\r                          \\rClustering: 87.27%\\r                          \\rClustering: 88.14%\\r                          \\rClustering: 89.03%\\r                          \\rClustering: 89.93%\\r                          \\rClustering: 90.84%\\r                          \\rClustering: 91.75%\\r                          \\rClustering: 92.68%\\r                          \\rClustering: 93.61%\\r                          \\rClustering: 94.55%\\r                          \\rClustering: 95.50%\\r                          \\rClustering: 96.46%\\r                          \\rClustering: 97.43%\\r                          \\rClustering: 98.41%\\r                          \\rClustering: 99.40%\\rDone'\n",
      "b'Adding singles...'\n"
     ]
    },
    {
     "name": "stdout",
     "output_type": "stream",
     "text": [
      "b'[OUTPUT] -> written to ph_ctg_516.proteinortho'\n",
      "b'Writing graph...'\n",
      "b'Cleaning edge list...'\n",
      "b'Removed 13 / 9067 edges'\n",
      "b'Done.'\n",
      "b'[OUTPUT] -> written to ph_ctg_516.proteinortho-graph'\n",
      "b''\n",
      "b'Clustering by gene-order (POFF mode)'\n",
      "b'Reading ph_ctg_516.ffadj-graph'\n",
      "b'2 species'\n",
      "b'16125 paired proteins'\n",
      "b'8142 bidirectional edges'\n",
      "b'\\r                          \\rClustering: 0.01%\\r                          \\rClustering: 0.02%\\r                          \\rClustering: 0.04%\\r                          \\rClustering: 0.05%\\r                          \\rClustering: 0.06%\\r                          \\rClustering: 0.07%\\r                          \\rClustering: 0.09%\\r                          \\rClustering: 0.10%\\r                          \\rClustering: 0.11%\\r                          \\rClustering: 0.12%\\r                          \\rClustering: 0.14%\\r                          \\rClustering: 0.15%\\r                          \\rClustering: 0.16%\\r                          \\rClustering: 0.17%\\r                          \\rClustering: 0.19%\\r                          \\rClustering: 0.20%\\r                          \\rClustering: 0.21%\\r                          \\rClustering: 0.22%\\r                          \\rClustering: 0.24%\\r                          \\rClustering: 0.25%\\r                          \\rClustering: 0.26%\\r                          \\rClustering: 0.27%\\r                          \\rClustering: 0.29%\\r                          \\rClustering: 0.30%\\r                          \\rClustering: 0.31%\\r                          \\rClustering: 0.32%\\r                          \\rClustering: 0.33%\\r                          \\rClustering: 0.35%\\r                          \\rClustering: 0.36%\\r                          \\rClustering: 0.37%\\r                          \\rClustering: 0.38%\\r                          \\rClustering: 0.40%\\r                          \\rClustering: 0.41%\\r                          \\rClustering: 0.42%\\r                          \\rClustering: 0.43%\\r                          \\rClustering: 0.45%\\r                          \\rClustering: 0.46%\\r                          \\rClustering: 0.47%\\r                          \\rClustering: 0.48%\\r                          \\rClustering: 0.50%\\r                          \\rClustering: 0.51%\\r                          \\rClustering: 0.52%\\r                          \\rClustering: 0.53%\\r                          \\rClustering: 0.55%\\r                          \\rClustering: 0.56%\\r                          \\rClustering: 0.57%\\r                          \\rClustering: 0.58%\\r                          \\rClustering: 0.60%\\r                          \\rClustering: 0.61%\\r                          \\rClustering: 0.62%\\r                          \\rClustering: 0.63%\\r                          \\rClustering: 0.64%\\r                          \\rClustering: 0.66%\\r                          \\rClustering: 0.67%\\r                          \\rClustering: 0.68%\\r                          \\rClustering: 0.69%\\r                          \\rClustering: 0.71%\\r                          \\rClustering: 0.72%\\r                          \\rClustering: 0.73%\\r                          \\rClustering: 0.74%\\r                          \\rClustering: 0.76%\\r                          \\rClustering: 0.77%\\r                          \\rClustering: 0.78%\\r                          \\rClustering: 0.79%\\r                          \\rClustering: 0.81%\\r                          \\rClustering: 0.82%\\r                          \\rClustering: 0.83%\\r                          \\rClustering: 0.84%\\r                          \\rClustering: 0.86%\\r                          \\rClustering: 0.87%\\r                          \\rClustering: 0.88%\\r                          \\rClustering: 0.89%\\r                          \\rClustering: 0.91%\\r                          \\rClustering: 0.92%\\r                          \\rClustering: 0.93%\\r                          \\rClustering: 0.94%\\r                          \\rClustering: 0.96%\\r                          \\rClustering: 0.97%\\r                          \\rClustering: 0.98%\\r                          \\rClustering: 0.99%\\r                          \\rClustering: 1.00%\\r                          \\rClustering: 1.02%\\r                          \\rClustering: 1.03%\\r                          \\rClustering: 1.04%\\r                          \\rClustering: 1.05%\\r                          \\rClustering: 1.07%\\r                          \\rClustering: 1.08%\\r                          \\rClustering: 1.09%\\r                          \\rClustering: 1.10%\\r                          \\rClustering: 1.12%\\r                          \\rClustering: 1.13%\\r                          \\rClustering: 1.14%\\r                          \\rClustering: 1.15%\\r                          \\rClustering: 1.17%\\r                          \\rClustering: 1.18%\\r                          \\rClustering: 1.19%\\r                          \\rClustering: 1.20%\\r                          \\rClustering: 1.22%\\r                          \\rClustering: 1.23%\\r                          \\rClustering: 1.24%\\r                          \\rClustering: 1.27%\\r                          \\rClustering: 1.29%\\r                          \\rClustering: 1.31%\\r                          \\rClustering: 1.34%\\r                          \\rClustering: 1.36%\\r                          \\rClustering: 1.39%\\r                          \\rClustering: 1.41%\\r                          \\rClustering: 1.44%\\r                          \\rClustering: 1.46%\\r                          \\rClustering: 1.49%\\r                          \\rClustering: 1.51%\\r                          \\rClustering: 1.54%\\r                          \\rClustering: 1.56%\\r                          \\rClustering: 1.59%\\r                          \\rClustering: 1.61%\\r                          \\rClustering: 1.64%\\r                          \\rClustering: 1.66%\\r                          \\rClustering: 1.69%\\r                          \\rClustering: 1.71%\\r                          \\rClustering: 1.74%\\r                          \\rClustering: 1.76%\\r                          \\rClustering: 1.79%\\r                          \\rClustering: 1.81%\\r                          \\rClustering: 1.84%\\r                          \\rClustering: 1.86%\\r                          \\rClustering: 1.89%\\r                          \\rClustering: 1.91%\\r                          \\rClustering: 1.93%\\r                          \\rClustering: 1.96%\\r                          \\rClustering: 1.98%\\r                          \\rClustering: 2.01%\\r                          \\rClustering: 2.03%\\r                          \\rClustering: 2.06%\\r                          \\rClustering: 2.08%\\r                          \\rClustering: 2.11%\\r                          \\rClustering: 2.13%\\r                          \\rClustering: 2.16%\\r                          \\rClustering: 2.18%\\r                          \\rClustering: 2.21%\\r                          \\rClustering: 2.23%\\r                          \\rClustering: 2.26%\\r                          \\rClustering: 2.28%\\r                          \\rClustering: 2.31%\\r                          \\rClustering: 2.33%\\r                          \\rClustering: 2.36%\\r                          \\rClustering: 2.38%\\r                          \\rClustering: 2.41%\\r                          \\rClustering: 2.43%\\r                          \\rClustering: 2.46%\\r                          \\rClustering: 2.48%\\r                          \\rClustering: 2.52%\\r                          \\rClustering: 2.56%\\r                          \\rClustering: 2.59%\\r                          \\rClustering: 2.63%\\r                          \\rClustering: 2.67%\\r                          \\rClustering: 2.70%\\r                          \\rClustering: 2.74%\\r                          \\rClustering: 2.77%\\r                          \\rClustering: 2.80%\\r                          \\rClustering: 2.83%\\r                          \\rClustering: 2.87%\\r                          \\rClustering: 2.91%\\r                          \\rClustering: 2.95%\\r                          \\rClustering: 2.98%\\r                          \\rClustering: 3.02%\\r                          \\rClustering: 3.06%\\r                          \\rClustering: 3.09%\\r                          \\rClustering: 3.13%\\r                          \\rClustering: 3.17%\\r                          \\rClustering: 3.21%\\r                          \\rClustering: 3.24%\\r                          \\rClustering: 3.28%\\r                          \\rClustering: 3.32%\\r                          \\rClustering: 3.36%\\r                          \\rClustering: 3.39%\\r                          \\rClustering: 3.44%\\r                          \\rClustering: 3.48%\\r                          \\rClustering: 3.52%\\r                          \\rClustering: 3.55%\\r                          \\rClustering: 3.59%\\r                          \\rClustering: 3.63%\\r                          \\rClustering: 3.67%\\r                          \\rClustering: 3.70%\\r                          \\rClustering: 3.74%\\r                          \\rClustering: 3.79%\\r                          \\rClustering: 3.84%\\r                          \\rClustering: 3.89%\\r                          \\rClustering: 3.94%\\r                          \\rClustering: 3.99%\\r                          \\rClustering: 4.07%\\r                          \\rClustering: 4.12%\\r                          \\rClustering: 4.17%\\r                          \\rClustering: 4.22%\\r                          \\rClustering: 4.27%\\r                          \\rClustering: 4.32%\\r                          \\rClustering: 4.37%\\r                          \\rClustering: 4.42%\\r                          \\rClustering: 4.47%\\r                          \\rClustering: 4.51%\\r                          \\rClustering: 4.56%\\r                          \\rClustering: 4.61%\\r                          \\rClustering: 4.66%\\r                          \\rClustering: 4.71%\\r                          \\rClustering: 4.76%\\r                          \\rClustering: 4.81%\\r                          \\rClustering: 4.86%\\r                          \\rClustering: 4.91%\\r                          \\rClustering: 4.97%\\r                          \\rClustering: 5.03%\\r                          \\rClustering: 5.09%\\r                          \\rClustering: 5.15%\\r                          \\rClustering: 5.22%\\r                          \\rClustering: 5.28%\\r                          \\rClustering: 5.34%\\r                          \\rClustering: 5.40%\\r                          \\rClustering: 5.46%\\r                          \\rClustering: 5.53%\\r                          \\rClustering: 5.59%\\r                          \\rClustering: 5.65%\\r                          \\rClustering: 5.71%\\r                          \\rClustering: 5.77%\\r                          \\rClustering: 5.84%\\r                          \\rClustering: 5.90%\\r                          \\rClustering: 5.96%\\r                          \\rClustering: 6.02%\\r                          \\rClustering: 6.08%\\r                          \\rClustering: 6.15%\\r                          \\rClustering: 6.21%\\r                          \\rClustering: 6.28%\\r                          \\rClustering: 6.36%\\r                          \\rClustering: 6.43%\\r                          \\rClustering: 6.51%\\r                          \\rClustering: 6.58%\\r                          \\rClustering: 6.65%\\r                          \\rClustering: 6.73%\\r                          \\rClustering: 6.80%\\r                          \\rClustering: 6.88%\\r                          \\rClustering: 6.95%\\r                          \\rClustering: 7.03%\\r                          \\rClustering: 7.10%\\r                          \\rClustering: 7.18%\\r                          \\rClustering: 7.25%\\r                          \\rClustering: 7.32%\\r                          \\rClustering: 7.40%\\r                          \\rClustering: 7.47%\\r                          \\rClustering: 7.56%\\r                          \\rClustering: 7.65%\\r                          \\rClustering: 7.73%\\r                          \\rClustering: 7.82%\\r                          \\rClustering: 7.91%\\r                          \\rClustering: 7.99%\\r                          \\rClustering: 8.08%\\r                          \\rClustering: 8.17%\\r                          \\rClustering: 8.25%\\r                          \\rClustering: 8.34%\\r                          \\rClustering: 8.43%\\r                          \\rClustering: 8.51%\\r                          \\rClustering: 8.60%\\r                          \\rClustering: 8.69%\\r                          \\rClustering: 8.79%\\r                          \\rClustering: 8.89%\\r                          \\rClustering: 8.99%\\r                          \\rClustering: 9.09%\\r                          \\rClustering: 9.19%\\r                          \\rClustering: 9.29%\\r                          \\rClustering: 9.39%\\r                          \\rClustering: 9.49%\\r                          \\rClustering: 9.59%\\r                          \\rClustering: 9.69%\\r                          \\rClustering: 9.79%\\r                          \\rClustering: 9.89%\\r                          \\rClustering: 9.98%\\r                          \\rClustering: 10.10%\\r                          \\rClustering: 10.21%\\r                          \\rClustering: 10.32%\\r                          \\rClustering: 10.43%\\r                          \\rClustering: 10.54%\\r                          \\rClustering: 10.65%\\r                          \\rClustering: 10.77%\\r                          \\rClustering: 10.88%\\r                          \\rClustering: 10.99%\\r                          \\rClustering: 11.10%\\r                          \\rClustering: 11.21%\\r                          \\rClustering: 11.34%\\r                          \\rClustering: 11.46%\\r                          \\rClustering: 11.58%\\r                          \\rClustering: 11.71%\\r                          \\rClustering: 11.83%\\r                          \\rClustering: 11.96%\\r                          \\rClustering: 12.08%\\r                          \\rClustering: 12.20%\\r                          \\rClustering: 12.33%\\r                          \\rClustering: 12.45%\\r                          \\rClustering: 12.59%\\r                          \\rClustering: 12.73%\\r                          \\rClustering: 12.86%\\r                          \\rClustering: 13.00%\\r                          \\rClustering: 13.13%\\r                          \\rClustering: 13.27%\\r                          \\rClustering: 13.41%\\r                          \\rClustering: 13.54%\\r                          \\rClustering: 13.68%\\r                          \\rClustering: 13.83%\\r                          \\rClustering: 13.98%\\r                          \\rClustering: 14.13%\\r                          \\rClustering: 14.28%\\r                          \\rClustering: 14.42%\\r                          \\rClustering: 14.57%\\r                          \\rClustering: 14.72%\\r                          \\rClustering: 14.87%\\r                          \\rClustering: 15.02%\\r                          \\rClustering: 15.18%\\r                          \\rClustering: 15.34%\\r                          \\rClustering: 15.50%\\r                          \\rClustering: 15.67%\\r                          \\rClustering: 15.83%\\r                          \\rClustering: 15.99%\\r                          \\rClustering: 16.15%\\r                          \\rClustering: 16.32%\\r                          \\rClustering: 16.50%\\r                          \\rClustering: 16.67%\\r                          \\rClustering: 16.84%\\r                          \\rClustering: 17.02%\\r                          \\rClustering: 17.22%\\r                          \\rClustering: 17.39%\\r                          \\rClustering: 17.57%\\r                          \\rClustering: 17.76%\\r                          \\rClustering: 17.94%\\r                          \\rClustering: 18.13%\\r                          \\rClustering: 18.31%\\r                          \\rClustering: 18.50%\\r                          \\rClustering: 18.69%\\r                          \\rClustering: 18.88%\\r                          \\rClustering: 19.08%\\r                          \\rClustering: 19.28%\\r                          \\rClustering: 19.48%\\r                          \\rClustering: 19.68%\\r                          \\rClustering: 19.88%\\r                          \\rClustering: 20.09%\\r                          \\rClustering: 20.30%\\r                          \\rClustering: 20.51%\\r                          \\rClustering: 20.72%\\r                          \\rClustering: 20.93%\\r                          \\rClustering: 21.14%\\r                          \\rClustering: 21.36%\\r                          \\rClustering: 21.58%\\r                          \\rClustering: 21.80%\\r                          \\rClustering: 22.03%\\r                          \\rClustering: 22.25%\\r                          \\rClustering: 22.47%\\r                          \\rClustering: 22.71%\\r                          \\rClustering: 22.95%\\r                          \\rClustering: 23.18%\\r                          \\rClustering: 23.42%\\r                          \\rClustering: 23.65%\\r                          \\rClustering: 23.90%\\r                          \\rClustering: 24.16%\\r                          \\rClustering: 24.41%\\r                          \\rClustering: 24.66%\\r                          \\rClustering: 24.92%\\r                          \\rClustering: 25.18%\\r                          \\rClustering: 25.44%\\r                          \\rClustering: 25.70%\\r                          \\rClustering: 25.96%\\r                          \\rClustering: 26.22%\\r                          \\rClustering: 26.49%\\r                          \\rClustering: 26.76%\\r                          \\rClustering: 27.04%\\r                          \\rClustering: 27.32%\\r                          \\rClustering: 27.60%\\r                          \\rClustering: 27.89%\\r                          \\rClustering: 28.17%\\r                          \\rClustering: 28.46%\\r                          \\rClustering: 28.74%\\r                          \\rClustering: 29.04%\\r                          \\rClustering: 29.34%\\r                          \\rClustering: 29.64%\\r                          \\rClustering: 29.93%\\r                          \\rClustering: 30.24%\\r                          \\rClustering: 30.56%\\r                          \\rClustering: 30.87%\\r                          \\rClustering: 31.18%\\r                          \\rClustering: 31.50%\\r                          \\rClustering: 31.82%\\r                          \\rClustering: 32.14%\\r                          \\rClustering: 32.47%\\r                          \\rClustering: 32.80%\\r                          \\rClustering: 33.13%\\r                          \\rClustering: 33.47%\\r                          \\rClustering: 33.80%\\r                          \\rClustering: 34.15%\\r                          \\rClustering: 34.50%\\r                          \\rClustering: 34.85%\\r                          \\rClustering: 35.21%\\r                          \\rClustering: 35.57%\\r                          \\rClustering: 35.93%\\r                          \\rClustering: 36.30%\\r                          \\rClustering: 36.67%\\r                          \\rClustering: 37.04%\\r                          \\rClustering: 37.41%\\r                          \\rClustering: 37.80%\\r                          \\rClustering: 38.18%\\r                          \\rClustering: 38.57%\\r                          \\rClustering: 38.96%\\r                          \\rClustering: 39.36%\\r                          \\rClustering: 39.76%\\r                          \\rClustering: 40.17%\\r                          \\rClustering: 40.58%\\r                          \\rClustering: 40.99%\\r                          \\rClustering: 41.41%\\r                          \\rClustering: 41.83%\\r                          \\rClustering: 42.25%\\r                          \\rClustering: 42.69%\\r                          \\rClustering: 43.11%\\r                          \\rClustering: 43.55%\\r                          \\rClustering: 43.99%\\r                          \\rClustering: 44.44%\\r                          \\rClustering: 44.89%\\r                          \\rClustering: 45.34%\\r                          \\rClustering: 45.80%\\r                          \\rClustering: 46.26%\\r                          \\rClustering: 46.73%\\r                          \\rClustering: 47.20%\\r                          \\rClustering: 47.68%\\r                          \\rClustering: 48.16%\\r                          \\rClustering: 48.64%\\r                          \\rClustering: 49.14%\\r                          \\rClustering: 49.64%\\r                          \\rClustering: 50.15%\\r                          \\rClustering: 50.65%\\r                          \\rClustering: 51.16%\\r                          \\rClustering: 51.68%\\r                          \\rClustering: 52.20%\\r                          \\rClustering: 52.74%\\r                          \\rClustering: 53.27%\\r                          \\rClustering: 53.80%\\r                          \\rClustering: 54.35%\\r                          \\rClustering: 54.90%\\r                          \\rClustering: 55.45%\\r                          \\rClustering: 56.01%\\r                          \\rClustering: 56.58%\\r                          \\rClustering: 57.15%\\r                          \\rClustering: 57.74%\\r                          \\rClustering: 58.32%\\r                          \\rClustering: 58.91%\\r                          \\rClustering: 59.52%\\r                          \\rClustering: 60.11%\\r                          \\rClustering: 60.72%\\r                          \\rClustering: 61.33%\\r                          \\rClustering: 61.95%\\r                          \\rClustering: 62.57%\\r                          \\rClustering: 63.20%\\r                          \\rClustering: 63.83%\\r                          \\rClustering: 64.47%\\r                          \\rClustering: 65.12%\\r                          \\rClustering: 65.77%\\r                          \\rClustering: 66.44%\\r                          \\rClustering: 67.11%\\r                          \\rClustering: 67.80%\\r                          \\rClustering: 68.48%\\r                          \\rClustering: 69.17%\\r                          \\rClustering: 69.87%\\r                          \\rClustering: 70.57%\\r                          \\rClustering: 71.28%\\r                          \\rClustering: 71.99%\\r                          \\rClustering: 72.73%\\r                          \\rClustering: 73.46%\\r                          \\rClustering: 74.20%\\r                          \\rClustering: 74.95%\\r                          \\rClustering: 75.70%\\r                          \\rClustering: 76.47%\\r                          \\rClustering: 77.24%\\r                          \\rClustering: 78.02%\\r                          \\rClustering: 78.80%\\r                          \\rClustering: 79.60%\\r                          \\rClustering: 80.40%\\r                          \\rClustering: 81.21%\\r                          \\rClustering: 82.04%\\r                          \\rClustering: 82.87%\\r                          \\rClustering: 83.70%\\r                          \\rClustering: 84.54%\\r                          \\rClustering: 85.40%\\r                          \\rClustering: 86.25%\\r                          \\rClustering: 87.12%\\r                          \\rClustering: 87.99%\\r                          \\rClustering: 88.87%\\r                          \\rClustering: 89.77%\\r                          \\rClustering: 90.67%\\r                          \\rClustering: 91.58%\\r                          \\rClustering: 92.50%\\r                          \\rClustering: 93.43%\\r                          \\rClustering: 94.38%\\r                          \\rClustering: 95.33%\\r                          \\rClustering: 96.29%\\r                          \\rClustering: 97.25%\\r                          \\rClustering: 98.23%\\r                          \\rClustering: 99.22%\\rDone'\n",
      "b'Adding singles...'\n"
     ]
    },
    {
     "name": "stdout",
     "output_type": "stream",
     "text": [
      "b'[OUTPUT] -> written to ph_ctg_516.poff'\n",
      "b'Writing graph...'\n",
      "b'Cleaning edge list...'\n",
      "b'Removed 0 / 8142 edges'\n",
      "b'Done.'\n",
      "b'[OUTPUT] -> written to ph_ctg_516.poff-graph'\n",
      "b''\n",
      "b'All finished.'\n",
      "Proteinortho finished running.\n"
     ]
    }
   ],
   "source": [
    "os.chdir('/home/benjamin/genome_assembly/Warrior/RT_script_base/DK_0911-1/scripts')\n",
    "%run 'DK_0911_proteinortho.ipynb'"
   ]
  },
  {
   "cell_type": "code",
   "execution_count": 25,
   "metadata": {
    "ExecuteTime": {
     "end_time": "2018-02-21T00:56:01.207947Z",
     "start_time": "2018-02-21T00:56:01.168564Z"
    },
    "collapsed": true
   },
   "outputs": [],
   "source": [
    "poff_graph_header = ['Target', 'Query', 'evalue_ab', 'bitscore_ab', 'evalue_ba', 'bitscore_ba', 'same_strand' , 'simscore']\n",
    "po_df = pd.read_csv(poff_graph_fn, sep='\\t', header=None, names=poff_graph_header, comment='#' )"
   ]
  },
  {
   "cell_type": "code",
   "execution_count": 28,
   "metadata": {
    "ExecuteTime": {
     "end_time": "2018-02-21T00:56:33.869250Z",
     "start_time": "2018-02-21T00:56:33.507076Z"
    }
   },
   "outputs": [
    {
     "name": "stdout",
     "output_type": "stream",
     "text": [
      "Index(['Query', 'Target', 'PctID', 'AlnLgth', 'NumMis', 'NumGap', 'StartQuery',\n",
      "       'StopQuery', 'StartTarget', 'StopTarget', 'e-value', 'BitScore',\n",
      "       'QLgth', 'QCov', 'TLgth', 'TCov', 'q_contig', 't_contig',\n",
      "       'q_contig == t_contig', 'p_protein', 'h_contig_overlap',\n",
      "       't_contig == h_contig_overlap', 'allele_source'],\n",
      "      dtype='object')\n"
     ]
    }
   ],
   "source": [
    "# Add a comparision column to po_df and PctgOnhtgBlast\n",
    "po_df['comp'] = po_df['Query'] + po_df['Target']\n",
    "PctgOnhtgBlast['comp'] = PctgOnhtgBlast['Query'] + PctgOnhtgBlast['Target']\n",
    "#generate a new allele_source column\n",
    "PctgOnhtgBlast['allele_source'] = 'BLAST'\n",
    "PctgOnhtgBlast.loc[PctgOnhtgBlast[PctgOnhtgBlast.comp.isin(po_df.comp.unique())].index, 'allele_source' ] = 'PO'\n",
    "#now drop the comp column again\n",
    "PctgOnhtgBlast = PctgOnhtgBlast.drop('comp', 1)\n",
    "\n",
    "print(PctgOnhtgBlast.columns)"
   ]
  },
  {
   "cell_type": "code",
   "execution_count": 30,
   "metadata": {
    "ExecuteTime": {
     "end_time": "2018-02-21T00:57:16.808285Z",
     "start_time": "2018-02-21T00:57:02.413705Z"
    }
   },
   "outputs": [
    {
     "name": "stdout",
     "output_type": "stream",
     "text": [
      "21448\n",
      "21448\n",
      "21448\n"
     ]
    }
   ],
   "source": [
    "print(len(PctgOnhtgBlast))\n",
    "no_PO_df = PctgOnhtgBlast[PctgOnhtgBlast['allele_source'] == 'BLAST']\n",
    "PO_df = PctgOnhtgBlast[PctgOnhtgBlast['allele_source'] == 'PO']\n",
    "\n",
    "no_PO_df = no_PO_df.groupby('Query').apply(lambda g: reduceGroups(g, ['e-value', 'BitScore'], [False, True]))\n",
    "PctgOnhtgBlast = no_PO_df.append(PO_df, ignore_index=True)\n",
    "print(len(PctgOnhtgBlast))\n",
    "#now remove hits of the dataframe where query and target are the same\n",
    "PctgOnhtgBlast.drop_duplicates(['Query', 'Target'], inplace=True)\n",
    "print(len(PctgOnhtgBlast))"
   ]
  },
  {
   "cell_type": "code",
   "execution_count": 35,
   "metadata": {
    "ExecuteTime": {
     "end_time": "2018-02-21T01:43:27.934014Z",
     "start_time": "2018-02-21T01:43:27.494148Z"
    },
    "collapsed": true
   },
   "outputs": [],
   "source": [
    "PctgOnhtgBlast.to_csv(os.path.join(ALLELE_PATH, P_GENOME + '.full_df.alleles'), sep='\\t', index=None)"
   ]
  },
  {
   "cell_type": "code",
   "execution_count": 63,
   "metadata": {
    "ExecuteTime": {
     "end_time": "2018-02-21T01:57:07.672316Z",
     "start_time": "2018-02-21T01:56:25.846983Z"
    },
    "collapsed": true
   },
   "outputs": [],
   "source": [
    "htgOnPctgBlast = pd.read_csv(os.path.join(OUT_PATH, '%s.%s.0.001.blastp.outfmt6' % (H_GENOME, P_GENOME)), sep='\\t', index_col=None, header=None, names=blast_header)\n",
    "htgOnPctgBlast['QLgth'] = htgOnPctgBlast['Query'].apply(lambda x: length_dict[x])\n",
    "\n",
    "## for the h on p BLAST, calculating QCov=AlnLgth/QLgth*100% provides a misleading figure,\n",
    "## as the Query becomes the haplotig, which is shorter than the primary contig.\n",
    "## Thus we also calculate: TCov=AlnLgth/TLgth*100% (i.e. alignment/(primary protein length))\n",
    "htgOnPctgBlast['QCov'] = htgOnPctgBlast['AlnLgth']/htgOnPctgBlast['QLgth']*100\n",
    "htgOnPctgBlast['TLgth'] = htgOnPctgBlast['Target'].map(length_dict)\n",
    "htgOnPctgBlast['TCov'] = htgOnPctgBlast['AlnLgth']/htgOnPctgBlast['TLgth']*100\n",
    "\n",
    "htgOnPctgBlast['q_contig'] = htgOnPctgBlast['Query'].str.extract(r'([p|h][a-z]*_[^.]*).?', expand = False)\n",
    "htgOnPctgBlast['t_contig'] = htgOnPctgBlast['Target'].str.extract(r'([p|h][a-z]*_[^.]*).?', expand = False)\n",
    "\n",
    "htgOnPctgBlast['q_contig == t_contig'] = htgOnPctgBlast.apply(lambda row: same_contig_blast(row['Query'], row['Target']), axis = 1)\n",
    "htgOnPctgBlast.reset_index(inplace=True, drop=True)\n",
    "\n",
    "#get out the p_protein on h_protein blast out dataframe and append the h_contig overlap for each protein\n",
    "p_gene_h_contig_overlap_df = pd.DataFrame([h_gene_p_contig_overlap_dict.keys(), h_gene_p_contig_overlap_dict.values()],  index = ['p_protein', 'h_contig_overlap']).T\n",
    "\n",
    "htgOnPctgBlast = htgOnPctgBlast.merge(p_gene_h_contig_overlap_df, how='outer' ,left_on='q_contig', right_on='p_protein')\n",
    "htgOnPctgBlast['h_contig_overlap'].fillna(False, inplace=True)\n",
    "# check if the protein hit resides on the overlapping haplotig\n",
    "\n",
    "htgOnPctgBlast['t_contig == h_contig_overlap'] = htgOnPctgBlast.apply(lambda row: target_on_mapped_haplotig(row['Target'], row['h_contig_overlap']), axis = 1)\n",
    "htgOnPctgBlast['allele_source'] = 'h_rBLAST'\n",
    "htgOnPctgBlast = htgOnPctgBlast.groupby('Query').apply(lambda g: reduceGroups(g, ['e-value', 'BitScore'], [False, True]))\n",
    "#now remove hits of the dataframe where query and target are the same\n",
    "\n",
    "htgOnPctgBlast.drop_duplicates(['Query', 'Target'], inplace=True)\n",
    "#add the missing protein identifiers that do not have blast hits\n",
    "htgOnPctgBlast = addBlastNoHits(htgOnPctgBlast, os.path.join(GENOME_PATH, H_GENOME + '.protein.fa') )"
   ]
  },
  {
   "cell_type": "code",
   "execution_count": 64,
   "metadata": {
    "ExecuteTime": {
     "end_time": "2018-02-21T01:57:08.310193Z",
     "start_time": "2018-02-21T01:57:07.676620Z"
    },
    "collapsed": true
   },
   "outputs": [],
   "source": [
    "htgOnPctgBlast.to_csv(os.path.join(ALLELE_PATH, H_GENOME + '.full_df.alleles'), sep='\\t', index=None, header=True)"
   ]
  },
  {
   "cell_type": "code",
   "execution_count": 65,
   "metadata": {
    "ExecuteTime": {
     "end_time": "2018-02-21T01:57:08.335420Z",
     "start_time": "2018-02-21T01:57:08.321658Z"
    },
    "collapsed": true
   },
   "outputs": [],
   "source": [
    "for boolean in PctgOnhtgBlast.columns == htgOnPctgBlast.columns:\n",
    "    if boolean == False:\n",
    "        raise Exception('Both these DataFrames must have the same column headers for DK_0911_post_allele_analysis_v02 to work.')"
   ]
  },
  {
   "cell_type": "code",
   "execution_count": 66,
   "metadata": {
    "ExecuteTime": {
     "end_time": "2018-02-21T01:57:08.427368Z",
     "start_time": "2018-02-21T01:57:08.338122Z"
    },
    "collapsed": true
   },
   "outputs": [],
   "source": [
    "if PctgOnhtgBlast[PctgOnhtgBlast.allele_source == 'PO'].shape[0] == po_df.shape[0] == False:\n",
    "    raise Exception('Please check the proteinortho input and the blast input.\\\n",
    "    There are an incorrect number of allele pairings in the final dataframe.')"
   ]
  },
  {
   "cell_type": "code",
   "execution_count": 71,
   "metadata": {
    "ExecuteTime": {
     "end_time": "2018-02-21T01:59:58.400851Z",
     "start_time": "2018-02-21T01:59:58.302542Z"
    }
   },
   "outputs": [
    {
     "name": "stdout",
     "output_type": "stream",
     "text": [
      "Updated Blast dataframes appear to have all input proteins present\n"
     ]
    }
   ],
   "source": [
    "if checkblastoutdf(htgOnPctgBlast, os.path.join(GENOME_PATH, H_GENOME + '.protein.fa')) and \\\n",
    "    checkblastoutdf(PctgOnhtgBlast,os.path.join(GENOME_PATH, P_GENOME + '.protein.fa') ) == True:\n",
    "        print(\"Updated Blast dataframes appear to have all input proteins present\")\n",
    "else:\n",
    "    print(\"Please check the updated blast dataframes that they contain all query proteins. Including\\\n",
    "    those without hits.\")"
   ]
  }
 ],
 "metadata": {
  "anaconda-cloud": {},
  "kernelspec": {
   "display_name": "Python [default]",
   "language": "python",
   "name": "python3"
  },
  "language_info": {
   "codemirror_mode": {
    "name": "ipython",
    "version": 3
   },
   "file_extension": ".py",
   "mimetype": "text/x-python",
   "name": "python",
   "nbconvert_exporter": "python",
   "pygments_lexer": "ipython3",
   "version": "3.5.3"
  }
 },
 "nbformat": 4,
 "nbformat_minor": 1
}
