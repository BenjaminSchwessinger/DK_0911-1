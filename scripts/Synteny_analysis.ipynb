{
 "cells": [
  {
   "cell_type": "markdown",
   "metadata": {},
   "source": [
    "### Notebook to get synteny measures between two assemblies\n",
    "The goal is to get a tool that takes in orthofinder results and a CDS files to check fof the length of synteny with different gene categories.\n",
    "\n",
    "The idea is that BUSCOs are more syntenous then effectors or such. \n",
    "\n",
    "The program tries to count how many neighbours of an allele pair are in the same orthogroup. This requires first to anchor the allele pairing e.g. find out what the 1:1 allele is and then walk outward to see if each others neighbours are in the same orthogroup. For now we won't allow for any skips and just go one by one.\n",
    "\n",
    "GENOMEA_orthoarray =  [1,2,3,4]\n",
    "GENOMEB_orthoarray =  [1,2,3,4]\n",
    "\n",
    "should result into a tuple that where the first element is the number of observed matches and the second is the number of possible matches. here this would be (8,8).\n",
    "\n",
    "If this analysis is performed on two different set of gene groups this may tell something if microsynteny is more conserved within one gene group then another."
   ]
  },
  {
   "cell_type": "markdown",
   "metadata": {},
   "source": [
    "#### initial outline\n",
    "\n",
    "get a gene ID -> get its neightbours n in two different arrays up and down stream -> get the orthogroup arrays for the neighbours \n",
    "get a gene ID  -> get orthogroup of the gene -> get all members of the orthogroup that belong to the other genome -> get their neighbours +/- 1 -> get the best seed where both neighbours add up,  \n",
    "* if we have only one best match that is easy. Use this seed as 1:1 match get the neighbourhood array up and down -> compare the arrays one element at a time and safe the tuple in a dictonary.\n",
    "* if multiple hits. Move one further out with each hit and look at those with the same ideas.\n",
    "\n",
    "Things also to generate:\n",
    "A match dictionary for allele pairing.  \n",
    "A unqiue gene dictionary.  \n",
    "A paraloge dictionray. Meaning where there is no allele pairing but thing are in the same ortho group."
   ]
  },
  {
   "cell_type": "code",
   "execution_count": 1,
   "metadata": {},
   "outputs": [
    {
     "name": "stderr",
     "output_type": "stream",
     "text": [
      "/home/benjamin/anaconda3/lib/python3.5/site-packages/Bio/SearchIO/__init__.py:211: BiopythonExperimentalWarning: Bio.SearchIO is an experimental submodule which may undergo significant changes prior to its future official release.\n",
      "  BiopythonExperimentalWarning)\n"
     ]
    }
   ],
   "source": [
    "import pandas as pd\n",
    "import os\n",
    "import re\n",
    "from Bio import SeqIO\n",
    "from Bio import SeqUtils\n",
    "import pysam\n",
    "from Bio.SeqRecord import SeqRecord\n",
    "from pybedtools import BedTool\n",
    "import numpy as np\n",
    "import pybedtools\n",
    "import time\n",
    "import matplotlib.pyplot as plt\n",
    "import sys\n",
    "import subprocess\n",
    "import shutil\n",
    "from Bio.Seq import Seq\n",
    "import pysam\n",
    "from Bio import SearchIO\n",
    "import json\n",
    "import glob\n",
    "import scipy.stats as stats\n",
    "import statsmodels as sms\n",
    "import statsmodels.sandbox.stats.multicomp\n",
    "import distance\n",
    "import seaborn as sns\n",
    "from pybedtools import BedTool\n",
    "import matplotlib\n",
    "from sklearn.externals.joblib import Parallel, delayed\n",
    "import itertools as it\n",
    "import tempfile\n",
    "from scipy.signal import argrelextrema\n",
    "import scipy\n",
    "from IPython.display import Image\n",
    "from PIL import Image\n",
    "from collections import OrderedDict"
   ]
  },
  {
   "cell_type": "code",
   "execution_count": 2,
   "metadata": {},
   "outputs": [],
   "source": [
    "### define some path that at the end should come as args\n",
    "ORTHOFINDER_FILE_NAME = '/home/benjamin/genome_assembly/Warrior/DK0911_v04/comp_orthology/orthofinder/OrthoFinder_all/Orthogroups_2.txt'\n",
    "QUERY_GENOME_GENE_BED6 = '/home/benjamin/genome_assembly/Warrior/DK0911_v04/comp_orthology/Pst104E_annotations/Pst_104E_v13_p_ctg.gene.bed'\n",
    "SUBJECT_GENOME_GENE_BED6 = '/home/benjamin/genome_assembly/Warrior/DK0911_v04/comp_orthology/DK0911_annotations/DK_0911_v04_p_ctg.genes.gene.bed'\n",
    "QUERY_SELECT_GENE_BED6 = '/home/benjamin/genome_assembly/Warrior/DK0911_v04/comp_orthology/orthofinder/test_folder/Pst_104E_v13_p_ctg.gene1000.bed'"
   ]
  },
  {
   "cell_type": "code",
   "execution_count": 45,
   "metadata": {},
   "outputs": [],
   "source": [
    "#now write some functions\n",
    "def get_neighbours(gene_id, bed_filename, n=5, direction='up'):\n",
    "    \"\"\"A function that either takes a filename to return an array of downstream and upstream neighbouring genes.\n",
    "    Input: \n",
    "        gene_id\n",
    "        bed6 filename\n",
    "        n being the number of neighbours we want to get\n",
    "        direction being up or down.\n",
    "    Output:\n",
    "        returns the largest possible array of neighbours up to n.\n",
    "        The 0 element is always the closest neighbour now matter if you return and 'up' or 'down' array.\"\"\"\n",
    "    bed_6_header = ['chrom', 'start', 'stop', 'gene_id', 'phase', 'strand']\n",
    "    try:\n",
    "        bed_df = pd.read_csv(bed_filename, sep='\\t', header=None, names=bed_6_header)\n",
    "    except:\n",
    "        print('Check if the bedfiles are bed6')\n",
    "    if not direction in ['up', 'down']:\n",
    "        print('Ensure direction is up or down.')\n",
    "        \n",
    "    #fix to make sure the gene id is actually in the bed_file if not just return an empty list    \n",
    "    if gene_id not in bed_df['gene_id'].unique():\n",
    "        return []\n",
    "    gene_index = bed_df[bed_df['gene_id'] == gene_id].index[0]\n",
    "    contig = bed_df.loc[gene_index, ['chrom']]['chrom']\n",
    "    contig_index = bed_df[bed_df['chrom']== contig].index\n",
    "    if direction == 'up':\n",
    "        index_list = []\n",
    "        if (gene_index+(n)) in contig_index:\n",
    "            for i in range(gene_index+1, gene_index+(n+1)):\n",
    "                index_list.append(i)\n",
    "        else:\n",
    "            for i in range(gene_index+1, contig_index[-1]+1):\n",
    "                index_list.append(i)\n",
    "        return bed_df.loc[index_list, ['gene_id']]['gene_id'].tolist()\n",
    "    if direction == 'down':\n",
    "        index_list = []\n",
    "        if (gene_index-n) in contig_index:\n",
    "            for i in range(gene_index-(n), gene_index):\n",
    "                index_list.append(i)\n",
    "        else:\n",
    "            for i in range(contig_index[0], gene_index):\n",
    "                index_list.append(i)\n",
    "        index_list.reverse()\n",
    "        return bed_df.loc[index_list, ['gene_id']]['gene_id'].tolist()"
   ]
  },
  {
   "cell_type": "code",
   "execution_count": 4,
   "metadata": {},
   "outputs": [],
   "source": [
    "def get_orthologs(gene_id, gene_to_ortho_dict, orthofinder_dict, other_id):\n",
    "    \"\"\"The function returns all the potential orthologs of the comparative species\n",
    "    Input:\n",
    "        gene_id\n",
    "        gene_to_ortho_dict, the ortho dict\n",
    "        orthofinder_dict, the dictionary of the orthgroups to get all genes belonging to the orthogroup in question.\n",
    "        other_id, is the identifier of the comparative species.\"\"\"\n",
    "\n",
    "    return [x for x in orthofinder_dict[gene_to_ortho_dict[gene_id]] if x.startswith(other_id)]"
   ]
  },
  {
   "cell_type": "code",
   "execution_count": 15,
   "metadata": {},
   "outputs": [],
   "source": [
    "def count_pairings(query_ortho, subject_ortho, simple = True):\n",
    "    \"\"\"Function that counts the pair wise overlap of two lists.\n",
    "    In the simple = True mode this is a stricked 1:1 pairing.\n",
    "    In the simple = Flase mode this is a sliding window of 1 vs [0, 1 , 2] elements.\n",
    "    Input: \n",
    "        query_ortho list\n",
    "        subject_orth list\n",
    "        simple True or False\n",
    "    output:\n",
    "        obs the number of observed pairings\n",
    "        max_len the number of potential pairings\"\"\"\n",
    "    if len(query_ortho) <= len(subject_ortho):\n",
    "        max_len = len(query_ortho)\n",
    "    else:\n",
    "        max_len = len(subject_ortho)\n",
    "    obs = 0\n",
    "    if simple == True:\n",
    "        for i in range(0, max_len):\n",
    "            if query_ortho[i] == subject_ortho[i]:\n",
    "                obs = obs + 1\n",
    "        return obs, max_len\n",
    "            \n",
    "        \n",
    "    if simple == False:\n",
    "        for i in range(0, max_len):\n",
    "            if i > 0 and i < max_len -1:    \n",
    "                if query_ortho[i] == subject_ortho[i] or query_ortho[i] == subject_ortho[i-1] \\\n",
    "                or query_ortho[i] == subject_ortho[i+1]:\n",
    "                    obs = obs + 1\n",
    "            elif i == max_len -1:\n",
    "                if query_ortho[i] == subject_ortho[i] or query_ortho[i] == subject_ortho[i-1]:\n",
    "                    obs = obs + 1\n",
    "            elif query_ortho[i] == subject_ortho[i]:\n",
    "                obs = obs + 1\n",
    "            elif i == 0:\n",
    "                if query_ortho[i] == subject_ortho[i] or query_ortho[i] == subject_ortho[i+1]:\n",
    "                    obs = obs + 1\n",
    "            \n",
    "        return obs, max_len"
   ]
  },
  {
   "cell_type": "code",
   "execution_count": 118,
   "metadata": {},
   "outputs": [],
   "source": [
    "def get_up_and_down(gene_id, query_downstream_ortho,query_upstream_ortho, subject_bed_fn, n, simple):\n",
    "    \"\"\"A function that returns a list of two tuples. The first tuple is the for the downstream pairing the second for the\n",
    "    upstream pairing of obs, max possible matches of orthologs.\n",
    "    Input: \n",
    "           Gene_id to check from the subject genome, e.g. initial orthogroup matches of query gene.\n",
    "           query_downstream_ortho is the list of downstream ortho groups from the gene_ids neighbours.\n",
    "           query_upstream_ortho is the list of upstream ortho groups from the gene_ids neighbours.\n",
    "           subject_bed_fn is the absolute path of the subject_bed_fn to get the neighbouring genes of the gene_id.\n",
    "           n is the numbers of neighbours to search.\n",
    "           simple can be True or False for searching without skiping (window of three) or with skipping enabled.\n",
    "    Output:\n",
    "           [(obs_down, max_down), (obs_up, max_up)]\"\"\"\n",
    "    \n",
    "    \n",
    "    if simple not in [True, False]:\n",
    "        simple = True\n",
    "    \n",
    "    subject_upstream_ortho = [gene_to_ortho_dict[x] for x in get_neighbours(gene_id, subject_bed_fn, n=n, direction='up')]\n",
    "    subject_downstream_ortho = [gene_to_ortho_dict[x] for x in get_neighbours(gene_id, subject_bed_fn, n=n, direction='down')]\n",
    "    \n",
    "    #define in case something has no upstream or downstream hits\n",
    "    obs_up, max_up, obs_down, max_down = 0, 0, 0, 0\n",
    "    \n",
    "    if len(query_upstream_ortho) > 0 and len(subject_upstream_ortho) > 0: \n",
    "        if query_upstream_ortho[0] == subject_upstream_ortho[0]:   \n",
    "            obs_up, max_up = count_pairings(query_upstream_ortho, subject_upstream_ortho, simple=simple)       \n",
    "            #now look at the downstream\n",
    "            obs_down, max_down = count_pairings(query_downstream_ortho, subject_downstream_ortho, simple=simple)\n",
    "            \n",
    "            if len(query_downstream_ortho) > 0 and len(query_upstream_ortho):\n",
    "                if query_downstream_ortho[0] == query_upstream_ortho[0]:\n",
    "                    print(\"Orthogroups of up and downstream are the same. Gene_id: %s\" % gene_id)\n",
    "                    if len(subject_downstream_ortho) > 0 and len(query_upstream_ortho) >0 :\n",
    "                        obs_up_new, max_up_new = count_pairings(query_upstream_ortho, subject_downstream_ortho, simple=simple)\n",
    "                        obs_down_new, max_down_new = count_pairings(query_downstream_ortho, subject_upstream_ortho, simple=simple)\n",
    "                        if up_down_ratio([(obs_down_new, max_down_new), (obs_up_new, max_up_new)])\\\n",
    "                        > up_down_ratio([(obs_down, max_down), (obs_up, max_up)]):\n",
    "                        #think about if we also want to test for \n",
    "                        #(max_down_new+max_up_new) > (max_down, max_up) :\n",
    "                            obs_up, max_up = obs_up_new, max_up_new\n",
    "                            obs_down, max_down = obs_down_new, max_down_new\n",
    "            \n",
    "            \n",
    "            return [(obs_down, max_down), (obs_up, max_up)]\n",
    "        \n",
    "    if len(subject_downstream_ortho) > 0 and len(query_upstream_ortho) >0 :\n",
    "        if query_upstream_ortho[0] == subject_downstream_ortho[0]:\n",
    "            obs_up, max_up = count_pairings(query_upstream_ortho, subject_downstream_ortho, simple=simple)\n",
    "            obs_down, max_down = count_pairings(query_downstream_ortho, subject_upstream_ortho, simple=simple)\n",
    "            return [(obs_down, max_down), (obs_up, max_up)]\n",
    "        \n",
    "    if len(subject_downstream_ortho) > 0 and len(query_downstream_ortho) > 0:\n",
    "        if subject_downstream_ortho[0] == query_downstream_ortho[0]:\n",
    "            obs_up, max_up = count_pairings(query_upstream_ortho, subject_upstream_ortho, simple=simple)       \n",
    "            #now look at the downstream\n",
    "            obs_down, max_down = count_pairings(query_downstream_ortho, subject_downstream_ortho, simple=simple)\n",
    "            return [(obs_down, max_down), (obs_up, max_up)]\n",
    "    \n",
    "    return [(obs_down, max_down), (obs_up, max_up)]"
   ]
  },
  {
   "cell_type": "code",
   "execution_count": 101,
   "metadata": {},
   "outputs": [],
   "source": [
    "def up_down_ratio(up_down_list):\n",
    "    if len(up_and_down_list) == 0:\n",
    "        return 0\n",
    "    if (up_and_down_list[0][1] + up_and_down_list[1][1]) > 0:\n",
    "        ratio = (up_and_down_list[0][0] + up_and_down_list[1][0]) / (up_and_down_list[0][1] + up_and_down_list[1][1])\n",
    "        return ratio\n",
    "    else:\n",
    "        return 0"
   ]
  },
  {
   "cell_type": "code",
   "execution_count": 84,
   "metadata": {},
   "outputs": [],
   "source": [
    "#generate dicts that will be used to track things\n",
    "allele_dict = {}\n",
    "singleton_dict = {}\n",
    "paralog_dict = {}\n",
    "up_down_dict = {}"
   ]
  },
  {
   "cell_type": "code",
   "execution_count": 8,
   "metadata": {},
   "outputs": [],
   "source": [
    "#get the identifiers if not provided.\n",
    "query_id = pd.read_csv(QUERY_GENOME_GENE_BED6, sep='\\t', header=None).loc[0,[3]][3].split('_')[0]\n",
    "subject_id = pd.read_csv(SUBJECT_GENOME_GENE_BED6, sep='\\t', header=None).loc[0,[3]][3].split('_')[0]"
   ]
  },
  {
   "cell_type": "code",
   "execution_count": 9,
   "metadata": {},
   "outputs": [],
   "source": [
    "#get the orthofinder results read in\n",
    "#this is the dict for all orthogroups and what members they have\n",
    "orthofinder_dict = {}\n",
    "with open(ORTHOFINDER_FILE_NAME) as fh:\n",
    "    for line in fh:\n",
    "        line.strip()\n",
    "        orthofinder_dict[line.split(':')[0]] = line.split(':')[1].strip().split(' ')"
   ]
  },
  {
   "cell_type": "code",
   "execution_count": 10,
   "metadata": {},
   "outputs": [],
   "source": [
    "#this is the dict for proteins and what orthogroup they have\n",
    "gene_to_ortho_dict = {}\n",
    "for key,value in orthofinder_dict.items():\n",
    "    for item in value:\n",
    "        gene_to_ortho_dict[item] = key"
   ]
  },
  {
   "cell_type": "code",
   "execution_count": 83,
   "metadata": {},
   "outputs": [
    {
     "name": "stdout",
     "output_type": "stream",
     "text": [
      "['DK0911_15063']\n"
     ]
    }
   ],
   "source": [
    "#gene_id = 'Pst104E_00003'\n",
    "gene_id = 'Pst104E_00008'\n",
    "print([x for x in orthofinder_dict[gene_to_ortho_dict[gene_id]]if x.startswith('DK0911')])\n",
    "n=8\n",
    "simple = False"
   ]
  },
  {
   "cell_type": "code",
   "execution_count": 80,
   "metadata": {},
   "outputs": [],
   "source": [
    "#orthofinder_dict[gene_to_ortho_dict[gene_id]]"
   ]
  },
  {
   "cell_type": "code",
   "execution_count": 81,
   "metadata": {},
   "outputs": [],
   "source": [
    "#populate the query arrays for neighbours and their corresponding ortho group ids\n",
    "query_upstream = get_neighbours(gene_id, QUERY_GENOME_GENE_BED6, n=n, direction='up')\n",
    "query_downstream = get_neighbours(gene_id, QUERY_GENOME_GENE_BED6, n=n, direction='down')\n",
    "query_upstream_ortho = [gene_to_ortho_dict[x] for x in query_upstream]\n",
    "query_downstream_ortho = [gene_to_ortho_dict[x] for x in query_downstream]"
   ]
  },
  {
   "cell_type": "code",
   "execution_count": 96,
   "metadata": {},
   "outputs": [
    {
     "name": "stdout",
     "output_type": "stream",
     "text": [
      "[(6, 7), (1, 8)]\n"
     ]
    }
   ],
   "source": [
    "#get the first orthologs (aka potential allele pairings)\n",
    "first_orthologs = get_orthologs(gene_id, gene_to_ortho_dict, orthofinder_dict, subject_id)\n",
    "if len(first_orthologs) == 0:\n",
    "    singleton_dict[gene_id] = True\n",
    "elif len(first_orthologs) == 1:\n",
    "    up_and_down_list = get_up_and_down(first_orthologs[0],query_downstream_ortho,query_upstream_ortho, SUBJECT_GENOME_GENE_BED6, n=n, simple=simple)\n",
    "    up_down_dict[gene_id] = up_and_down_list\n",
    "    if up_and_down_list[0][0] > 0 and up_and_down_list[1][0] > 0:\n",
    "        allele_dict[gene_id] = first_orthologs[0]\n",
    "    else:\n",
    "        paralog_dict[gene_id] = first_orthologs[0]\n",
    "elif len(first_orthologs) > 1:\n",
    "    ortho_dict = {}\n",
    "    for ortho in first_orthologs:\n",
    "        up_and_down_list = get_up_and_down(ortho,query_downstream_ortho,query_upstream_ortho, SUBJECT_GENOME_GENE_BED6, n=n, simple=simple)\n",
    "        if up_and_down_list[0][0] == 0 and up_and_down_list[1][0] == 0:\n",
    "            continue\n",
    "        else:\n",
    "            ortho_dict[ortho] = up_and_down_list\n",
    "    max_list = [(0,0), (0,0)]\n",
    "    for ortho, ortho_list in ortho_dict.items():\n",
    "        if up_down_ratio(ortho_list) > up_down_ratio(max_list):\n",
    "            max_list = ortho_list\n",
    "    if max_list[0][0] > 0 and max_list[1][0] > 0:\n",
    "        allele_dict[gene_id] = first_orthologs[0]\n",
    "    else:\n",
    "        paralog_dict[gene_id] = first_orthologs[0] \n",
    "\n",
    "print(up_and_down_list)\n",
    "#think about catching paralogs meaning that +1/-1 are not in the same orthogroup"
   ]
  },
  {
   "cell_type": "code",
   "execution_count": 119,
   "metadata": {},
   "outputs": [
    {
     "name": "stdout",
     "output_type": "stream",
     "text": [
      "Orthogroups of up and downstream are the same. Gene_id: DK0911_04075\n",
      "Orthogroups of up and downstream are the same. Gene_id: DK0911_04078\n",
      "Orthogroups of up and downstream are the same. Gene_id: DK0911_05541\n",
      "Orthogroups of up and downstream are the same. Gene_id: DK0911_05542\n",
      "Orthogroups of up and downstream are the same. Gene_id: DK0911_05543\n",
      "Orthogroups of up and downstream are the same. Gene_id: DK0911_05544\n",
      "Orthogroups of up and downstream are the same. Gene_id: DK0911_05545\n",
      "Orthogroups of up and downstream are the same. Gene_id: DK0911_05546\n",
      "Orthogroups of up and downstream are the same. Gene_id: DK0911_10714\n",
      "Orthogroups of up and downstream are the same. Gene_id: DK0911_10715\n",
      "Orthogroups of up and downstream are the same. Gene_id: DK0911_10816\n",
      "Orthogroups of up and downstream are the same. Gene_id: DK0911_10817\n",
      "Orthogroups of up and downstream are the same. Gene_id: DK0911_13032\n",
      "Orthogroups of up and downstream are the same. Gene_id: DK0911_14113\n",
      "Orthogroups of up and downstream are the same. Gene_id: DK0911_14114\n",
      "Orthogroups of up and downstream are the same. Gene_id: DK0911_14142\n",
      "Orthogroups of up and downstream are the same. Gene_id: DK0911_14147\n",
      "Orthogroups of up and downstream are the same. Gene_id: DK0911_15110\n",
      "Orthogroups of up and downstream are the same. Gene_id: DK0911_15111\n",
      "Orthogroups of up and downstream are the same. Gene_id: DK0911_15112\n",
      "Orthogroups of up and downstream are the same. Gene_id: DK0911_15113\n",
      "Orthogroups of up and downstream are the same. Gene_id: DK0911_15187\n",
      "Orthogroups of up and downstream are the same. Gene_id: DK0911_15429\n",
      "Orthogroups of up and downstream are the same. Gene_id: DK0911_15430\n",
      "Orthogroups of up and downstream are the same. Gene_id: DK0911_15433\n",
      "Orthogroups of up and downstream are the same. Gene_id: DK0911_15459\n",
      "Orthogroups of up and downstream are the same. Gene_id: DK0911_15541\n",
      "Orthogroups of up and downstream are the same. Gene_id: DK0911_17433\n",
      "Orthogroups of up and downstream are the same. Gene_id: DK0911_17434\n",
      "Orthogroups of up and downstream are the same. Gene_id: DK0911_17435\n",
      "Orthogroups of up and downstream are the same. Gene_id: DK0911_17436\n",
      "Orthogroups of up and downstream are the same. Gene_id: DK0911_17439\n",
      "Orthogroups of up and downstream are the same. Gene_id: DK0911_17596\n",
      "Orthogroups of up and downstream are the same. Gene_id: DK0911_17597\n",
      "Orthogroups of up and downstream are the same. Gene_id: DK0911_17601\n",
      "Orthogroups of up and downstream are the same. Gene_id: DK0911_17602\n",
      "Orthogroups of up and downstream are the same. Gene_id: DK0911_15101\n",
      "Orthogroups of up and downstream are the same. Gene_id: DK0911_04075\n",
      "Orthogroups of up and downstream are the same. Gene_id: DK0911_04078\n",
      "Orthogroups of up and downstream are the same. Gene_id: DK0911_05541\n",
      "Orthogroups of up and downstream are the same. Gene_id: DK0911_05542\n",
      "Orthogroups of up and downstream are the same. Gene_id: DK0911_05543\n",
      "Orthogroups of up and downstream are the same. Gene_id: DK0911_05544\n",
      "Orthogroups of up and downstream are the same. Gene_id: DK0911_05545\n",
      "Orthogroups of up and downstream are the same. Gene_id: DK0911_05546\n",
      "Orthogroups of up and downstream are the same. Gene_id: DK0911_10714\n",
      "Orthogroups of up and downstream are the same. Gene_id: DK0911_10715\n",
      "Orthogroups of up and downstream are the same. Gene_id: DK0911_10816\n",
      "Orthogroups of up and downstream are the same. Gene_id: DK0911_10817\n",
      "Orthogroups of up and downstream are the same. Gene_id: DK0911_13032\n",
      "Orthogroups of up and downstream are the same. Gene_id: DK0911_14113\n",
      "Orthogroups of up and downstream are the same. Gene_id: DK0911_14114\n",
      "Orthogroups of up and downstream are the same. Gene_id: DK0911_14142\n",
      "Orthogroups of up and downstream are the same. Gene_id: DK0911_14147\n",
      "Orthogroups of up and downstream are the same. Gene_id: DK0911_15110\n",
      "Orthogroups of up and downstream are the same. Gene_id: DK0911_15111\n",
      "Orthogroups of up and downstream are the same. Gene_id: DK0911_15112\n",
      "Orthogroups of up and downstream are the same. Gene_id: DK0911_15113\n",
      "Orthogroups of up and downstream are the same. Gene_id: DK0911_15187\n",
      "Orthogroups of up and downstream are the same. Gene_id: DK0911_15429\n",
      "Orthogroups of up and downstream are the same. Gene_id: DK0911_15430\n",
      "Orthogroups of up and downstream are the same. Gene_id: DK0911_15433\n",
      "Orthogroups of up and downstream are the same. Gene_id: DK0911_15459\n",
      "Orthogroups of up and downstream are the same. Gene_id: DK0911_15541\n",
      "Orthogroups of up and downstream are the same. Gene_id: DK0911_17433\n",
      "Orthogroups of up and downstream are the same. Gene_id: DK0911_17434\n",
      "Orthogroups of up and downstream are the same. Gene_id: DK0911_17435\n",
      "Orthogroups of up and downstream are the same. Gene_id: DK0911_17436\n",
      "Orthogroups of up and downstream are the same. Gene_id: DK0911_17439\n",
      "Orthogroups of up and downstream are the same. Gene_id: DK0911_17596\n",
      "Orthogroups of up and downstream are the same. Gene_id: DK0911_17597\n",
      "Orthogroups of up and downstream are the same. Gene_id: DK0911_17601\n",
      "Orthogroups of up and downstream are the same. Gene_id: DK0911_17602\n",
      "Orthogroups of up and downstream are the same. Gene_id: DK0911_04075\n",
      "Orthogroups of up and downstream are the same. Gene_id: DK0911_04078\n",
      "Orthogroups of up and downstream are the same. Gene_id: DK0911_05541\n",
      "Orthogroups of up and downstream are the same. Gene_id: DK0911_05542\n",
      "Orthogroups of up and downstream are the same. Gene_id: DK0911_05543\n",
      "Orthogroups of up and downstream are the same. Gene_id: DK0911_05544\n",
      "Orthogroups of up and downstream are the same. Gene_id: DK0911_05545\n",
      "Orthogroups of up and downstream are the same. Gene_id: DK0911_05546\n",
      "Orthogroups of up and downstream are the same. Gene_id: DK0911_10714\n",
      "Orthogroups of up and downstream are the same. Gene_id: DK0911_10715\n",
      "Orthogroups of up and downstream are the same. Gene_id: DK0911_10816\n",
      "Orthogroups of up and downstream are the same. Gene_id: DK0911_10817\n",
      "Orthogroups of up and downstream are the same. Gene_id: DK0911_13032\n",
      "Orthogroups of up and downstream are the same. Gene_id: DK0911_14113\n",
      "Orthogroups of up and downstream are the same. Gene_id: DK0911_14114\n",
      "Orthogroups of up and downstream are the same. Gene_id: DK0911_14142\n",
      "Orthogroups of up and downstream are the same. Gene_id: DK0911_14147\n",
      "Orthogroups of up and downstream are the same. Gene_id: DK0911_15110\n",
      "Orthogroups of up and downstream are the same. Gene_id: DK0911_15111\n",
      "Orthogroups of up and downstream are the same. Gene_id: DK0911_15112\n",
      "Orthogroups of up and downstream are the same. Gene_id: DK0911_15113\n",
      "Orthogroups of up and downstream are the same. Gene_id: DK0911_15187\n",
      "Orthogroups of up and downstream are the same. Gene_id: DK0911_15429\n",
      "Orthogroups of up and downstream are the same. Gene_id: DK0911_15430\n",
      "Orthogroups of up and downstream are the same. Gene_id: DK0911_15433\n",
      "Orthogroups of up and downstream are the same. Gene_id: DK0911_15459\n",
      "Orthogroups of up and downstream are the same. Gene_id: DK0911_15541\n",
      "Orthogroups of up and downstream are the same. Gene_id: DK0911_17433\n",
      "Orthogroups of up and downstream are the same. Gene_id: DK0911_17434\n",
      "Orthogroups of up and downstream are the same. Gene_id: DK0911_17435\n",
      "Orthogroups of up and downstream are the same. Gene_id: DK0911_17436\n",
      "Orthogroups of up and downstream are the same. Gene_id: DK0911_17439\n",
      "Orthogroups of up and downstream are the same. Gene_id: DK0911_17596\n",
      "Orthogroups of up and downstream are the same. Gene_id: DK0911_17597\n",
      "Orthogroups of up and downstream are the same. Gene_id: DK0911_17601\n",
      "Orthogroups of up and downstream are the same. Gene_id: DK0911_17602\n",
      "Orthogroups of up and downstream are the same. Gene_id: DK0911_15121\n",
      "Orthogroups of up and downstream are the same. Gene_id: DK0911_04075\n",
      "Orthogroups of up and downstream are the same. Gene_id: DK0911_04078\n",
      "Orthogroups of up and downstream are the same. Gene_id: DK0911_05541\n",
      "Orthogroups of up and downstream are the same. Gene_id: DK0911_05542\n",
      "Orthogroups of up and downstream are the same. Gene_id: DK0911_05543\n",
      "Orthogroups of up and downstream are the same. Gene_id: DK0911_05544\n",
      "Orthogroups of up and downstream are the same. Gene_id: DK0911_05545\n",
      "Orthogroups of up and downstream are the same. Gene_id: DK0911_05546\n",
      "Orthogroups of up and downstream are the same. Gene_id: DK0911_10714\n",
      "Orthogroups of up and downstream are the same. Gene_id: DK0911_10715\n",
      "Orthogroups of up and downstream are the same. Gene_id: DK0911_10816\n",
      "Orthogroups of up and downstream are the same. Gene_id: DK0911_10817\n",
      "Orthogroups of up and downstream are the same. Gene_id: DK0911_13032\n",
      "Orthogroups of up and downstream are the same. Gene_id: DK0911_14113\n",
      "Orthogroups of up and downstream are the same. Gene_id: DK0911_14114\n",
      "Orthogroups of up and downstream are the same. Gene_id: DK0911_14142\n",
      "Orthogroups of up and downstream are the same. Gene_id: DK0911_14147\n",
      "Orthogroups of up and downstream are the same. Gene_id: DK0911_15110\n",
      "Orthogroups of up and downstream are the same. Gene_id: DK0911_15111\n",
      "Orthogroups of up and downstream are the same. Gene_id: DK0911_15112\n",
      "Orthogroups of up and downstream are the same. Gene_id: DK0911_15113\n",
      "Orthogroups of up and downstream are the same. Gene_id: DK0911_15187\n",
      "Orthogroups of up and downstream are the same. Gene_id: DK0911_15429\n",
      "Orthogroups of up and downstream are the same. Gene_id: DK0911_15430\n",
      "Orthogroups of up and downstream are the same. Gene_id: DK0911_15433\n",
      "Orthogroups of up and downstream are the same. Gene_id: DK0911_15459\n",
      "Orthogroups of up and downstream are the same. Gene_id: DK0911_15541\n",
      "Orthogroups of up and downstream are the same. Gene_id: DK0911_17433\n",
      "Orthogroups of up and downstream are the same. Gene_id: DK0911_17434\n",
      "Orthogroups of up and downstream are the same. Gene_id: DK0911_17435\n",
      "Orthogroups of up and downstream are the same. Gene_id: DK0911_17436\n",
      "Orthogroups of up and downstream are the same. Gene_id: DK0911_17439\n",
      "Orthogroups of up and downstream are the same. Gene_id: DK0911_17596\n",
      "Orthogroups of up and downstream are the same. Gene_id: DK0911_17597\n",
      "Orthogroups of up and downstream are the same. Gene_id: DK0911_17601\n",
      "Orthogroups of up and downstream are the same. Gene_id: DK0911_17602\n",
      "Orthogroups of up and downstream are the same. Gene_id: DK0911_04001\n",
      "Orthogroups of up and downstream are the same. Gene_id: DK0911_03901\n",
      "Orthogroups of up and downstream are the same. Gene_id: DK0911_03890\n",
      "Orthogroups of up and downstream are the same. Gene_id: DK0911_03891\n",
      "Orthogroups of up and downstream are the same. Gene_id: DK0911_03826\n",
      "Orthogroups of up and downstream are the same. Gene_id: DK0911_03827\n",
      "Orthogroups of up and downstream are the same. Gene_id: DK0911_03799\n",
      "Orthogroups of up and downstream are the same. Gene_id: DK0911_03796\n",
      "Orthogroups of up and downstream are the same. Gene_id: DK0911_03797\n",
      "Orthogroups of up and downstream are the same. Gene_id: DK0911_03738\n",
      "Orthogroups of up and downstream are the same. Gene_id: DK0911_02455\n",
      "Orthogroups of up and downstream are the same. Gene_id: DK0911_03735\n",
      "Orthogroups of up and downstream are the same. Gene_id: DK0911_03736\n",
      "Orthogroups of up and downstream are the same. Gene_id: DK0911_08858\n",
      "Orthogroups of up and downstream are the same. Gene_id: DK0911_03711\n",
      "Orthogroups of up and downstream are the same. Gene_id: DK0911_03723\n",
      "Orthogroups of up and downstream are the same. Gene_id: DK0911_03724\n",
      "Orthogroups of up and downstream are the same. Gene_id: DK0911_05078\n",
      "Orthogroups of up and downstream are the same. Gene_id: DK0911_05079\n",
      "Orthogroups of up and downstream are the same. Gene_id: DK0911_05080\n",
      "Orthogroups of up and downstream are the same. Gene_id: DK0911_13797\n",
      "Orthogroups of up and downstream are the same. Gene_id: DK0911_13798\n",
      "Orthogroups of up and downstream are the same. Gene_id: DK0911_13803\n",
      "Orthogroups of up and downstream are the same. Gene_id: DK0911_13804\n",
      "Orthogroups of up and downstream are the same. Gene_id: DK0911_14555\n",
      "Orthogroups of up and downstream are the same. Gene_id: DK0911_03695\n",
      "Orthogroups of up and downstream are the same. Gene_id: DK0911_03696\n",
      "Orthogroups of up and downstream are the same. Gene_id: DK0911_03697\n",
      "Orthogroups of up and downstream are the same. Gene_id: DK0911_03532\n",
      "Orthogroups of up and downstream are the same. Gene_id: DK0911_03513\n",
      "Orthogroups of up and downstream are the same. Gene_id: DK0911_03517\n",
      "Orthogroups of up and downstream are the same. Gene_id: DK0911_03520\n",
      "Orthogroups of up and downstream are the same. Gene_id: DK0911_03523\n",
      "Orthogroups of up and downstream are the same. Gene_id: DK0911_03524\n",
      "Orthogroups of up and downstream are the same. Gene_id: DK0911_04895\n",
      "Orthogroups of up and downstream are the same. Gene_id: DK0911_04896\n",
      "Orthogroups of up and downstream are the same. Gene_id: DK0911_04897\n",
      "Orthogroups of up and downstream are the same. Gene_id: DK0911_09340\n",
      "Orthogroups of up and downstream are the same. Gene_id: DK0911_09343\n",
      "Orthogroups of up and downstream are the same. Gene_id: DK0911_14021\n",
      "Orthogroups of up and downstream are the same. Gene_id: DK0911_16231\n",
      "Orthogroups of up and downstream are the same. Gene_id: DK0911_03513\n",
      "Orthogroups of up and downstream are the same. Gene_id: DK0911_03517\n",
      "Orthogroups of up and downstream are the same. Gene_id: DK0911_03520\n",
      "Orthogroups of up and downstream are the same. Gene_id: DK0911_03523\n",
      "Orthogroups of up and downstream are the same. Gene_id: DK0911_03524\n",
      "Orthogroups of up and downstream are the same. Gene_id: DK0911_04895\n",
      "Orthogroups of up and downstream are the same. Gene_id: DK0911_04896\n",
      "Orthogroups of up and downstream are the same. Gene_id: DK0911_04897\n",
      "Orthogroups of up and downstream are the same. Gene_id: DK0911_09340\n",
      "Orthogroups of up and downstream are the same. Gene_id: DK0911_09343\n",
      "Orthogroups of up and downstream are the same. Gene_id: DK0911_14021\n",
      "Orthogroups of up and downstream are the same. Gene_id: DK0911_16231\n",
      "Orthogroups of up and downstream are the same. Gene_id: DK0911_03513\n",
      "Orthogroups of up and downstream are the same. Gene_id: DK0911_03517\n",
      "Orthogroups of up and downstream are the same. Gene_id: DK0911_03520\n",
      "Orthogroups of up and downstream are the same. Gene_id: DK0911_03523\n",
      "Orthogroups of up and downstream are the same. Gene_id: DK0911_03524\n",
      "Orthogroups of up and downstream are the same. Gene_id: DK0911_04895\n",
      "Orthogroups of up and downstream are the same. Gene_id: DK0911_04896\n",
      "Orthogroups of up and downstream are the same. Gene_id: DK0911_04897\n",
      "Orthogroups of up and downstream are the same. Gene_id: DK0911_09340\n",
      "Orthogroups of up and downstream are the same. Gene_id: DK0911_09343\n",
      "Orthogroups of up and downstream are the same. Gene_id: DK0911_14021\n",
      "Orthogroups of up and downstream are the same. Gene_id: DK0911_16231\n",
      "Orthogroups of up and downstream are the same. Gene_id: DK0911_10199\n",
      "Orthogroups of up and downstream are the same. Gene_id: DK0911_17184\n",
      "Orthogroups of up and downstream are the same. Gene_id: DK0911_05040\n",
      "Orthogroups of up and downstream are the same. Gene_id: DK0911_01012\n",
      "Orthogroups of up and downstream are the same. Gene_id: DK0911_04944\n",
      "Orthogroups of up and downstream are the same. Gene_id: DK0911_04905\n",
      "Orthogroups of up and downstream are the same. Gene_id: DK0911_04902\n",
      "Orthogroups of up and downstream are the same. Gene_id: DK0911_04903\n",
      "Orthogroups of up and downstream are the same. Gene_id: DK0911_03513\n",
      "Orthogroups of up and downstream are the same. Gene_id: DK0911_03517\n",
      "Orthogroups of up and downstream are the same. Gene_id: DK0911_03520\n",
      "Orthogroups of up and downstream are the same. Gene_id: DK0911_03523\n",
      "Orthogroups of up and downstream are the same. Gene_id: DK0911_03524\n",
      "Orthogroups of up and downstream are the same. Gene_id: DK0911_04895\n",
      "Orthogroups of up and downstream are the same. Gene_id: DK0911_04896\n",
      "Orthogroups of up and downstream are the same. Gene_id: DK0911_04897\n",
      "Orthogroups of up and downstream are the same. Gene_id: DK0911_09340\n",
      "Orthogroups of up and downstream are the same. Gene_id: DK0911_09343\n",
      "Orthogroups of up and downstream are the same. Gene_id: DK0911_14021\n",
      "Orthogroups of up and downstream are the same. Gene_id: DK0911_16231\n",
      "Orthogroups of up and downstream are the same. Gene_id: DK0911_03513\n",
      "Orthogroups of up and downstream are the same. Gene_id: DK0911_03517\n",
      "Orthogroups of up and downstream are the same. Gene_id: DK0911_03520\n",
      "Orthogroups of up and downstream are the same. Gene_id: DK0911_03523\n",
      "Orthogroups of up and downstream are the same. Gene_id: DK0911_03524\n",
      "Orthogroups of up and downstream are the same. Gene_id: DK0911_04895\n",
      "Orthogroups of up and downstream are the same. Gene_id: DK0911_04896\n",
      "Orthogroups of up and downstream are the same. Gene_id: DK0911_04897\n",
      "Orthogroups of up and downstream are the same. Gene_id: DK0911_09340\n",
      "Orthogroups of up and downstream are the same. Gene_id: DK0911_09343\n",
      "Orthogroups of up and downstream are the same. Gene_id: DK0911_14021\n",
      "Orthogroups of up and downstream are the same. Gene_id: DK0911_16231\n",
      "Orthogroups of up and downstream are the same. Gene_id: DK0911_04836\n",
      "Orthogroups of up and downstream are the same. Gene_id: DK0911_04810\n",
      "Orthogroups of up and downstream are the same. Gene_id: DK0911_04811\n",
      "Orthogroups of up and downstream are the same. Gene_id: DK0911_04806\n",
      "Orthogroups of up and downstream are the same. Gene_id: DK0911_04787\n",
      "Orthogroups of up and downstream are the same. Gene_id: DK0911_04774\n",
      "Orthogroups of up and downstream are the same. Gene_id: DK0911_04717\n"
     ]
    }
   ],
   "source": [
    "gene_done_list = []\n",
    "for x in range(0,1000):\n",
    "    if x < 10:\n",
    "        gene_id = 'Pst104E_0000%s' % x\n",
    "    elif x < 100:\n",
    "        gene_id = 'Pst104E_000%s' % x\n",
    "    elif x < 1000:\n",
    "        gene_id = 'Pst104E_00%s' % x\n",
    "    gene_done_list.append(gene_id)\n",
    "    #now some testing here    \n",
    "    query_upstream = get_neighbours(gene_id, QUERY_GENOME_GENE_BED6, n=n, direction='up')\n",
    "    query_downstream = get_neighbours(gene_id, QUERY_GENOME_GENE_BED6, n=n, direction='down')\n",
    "    query_upstream_ortho = [gene_to_ortho_dict[x] for x in query_upstream]\n",
    "    query_downstream_ortho = [gene_to_ortho_dict[x] for x in query_downstream]\n",
    "    \n",
    "    first_orthologs = get_orthologs(gene_id, gene_to_ortho_dict, orthofinder_dict, subject_id)\n",
    "    if len(first_orthologs) == 0:\n",
    "        singleton_dict[gene_id] = True\n",
    "    elif len(first_orthologs) == 1:\n",
    "        up_and_down_list = get_up_and_down(first_orthologs[0],query_downstream_ortho,query_upstream_ortho, SUBJECT_GENOME_GENE_BED6, n=n, simple=simple)\n",
    "        up_down_dict[gene_id] = up_and_down_list\n",
    "        if up_and_down_list[0][0] > 0 and up_and_down_list[1][0] > 0:\n",
    "            allele_dict[gene_id] = first_orthologs[0]\n",
    "        else:\n",
    "            paralog_dict[gene_id] = first_orthologs[0]\n",
    "    elif len(first_orthologs) > 1:\n",
    "        ortho_dict = {}\n",
    "        for ortho in first_orthologs:\n",
    "            up_and_down_list = get_up_and_down(ortho,query_downstream_ortho,query_upstream_ortho, SUBJECT_GENOME_GENE_BED6, n=n, simple=simple)\n",
    "            if up_and_down_list[0][0] == 0 and up_and_down_list[1][0] == 0:\n",
    "                continue\n",
    "            else:\n",
    "                ortho_dict[ortho] = up_and_down_list\n",
    "        max_list = [(0,0), (0,0)]\n",
    "        for ortho, ortho_list in ortho_dict.items():\n",
    "            if up_down_ratio(ortho_list) > up_down_ratio(max_list) and ortho_list[0][0] > 0 and ortho_list[1][0] >0:\n",
    "                max_list = ortho_list\n",
    "        if max_list[0][0] > 0 and max_list[1][0] > 0:\n",
    "            allele_dict[gene_id] = first_orthologs[0]\n",
    "        else:\n",
    "            paralog_dict[gene_id] = first_orthologs[0] "
   ]
  },
  {
   "cell_type": "code",
   "execution_count": 120,
   "metadata": {},
   "outputs": [
    {
     "data": {
      "text/plain": [
       "{'Pst104E_00006': True,\n",
       " 'Pst104E_00023': True,\n",
       " 'Pst104E_00109': True,\n",
       " 'Pst104E_00112': True,\n",
       " 'Pst104E_00115': True,\n",
       " 'Pst104E_00158': True,\n",
       " 'Pst104E_00173': True,\n",
       " 'Pst104E_00204': True,\n",
       " 'Pst104E_00290': True,\n",
       " 'Pst104E_00322': True,\n",
       " 'Pst104E_00358': True,\n",
       " 'Pst104E_00359': True,\n",
       " 'Pst104E_00369': True,\n",
       " 'Pst104E_00373': True,\n",
       " 'Pst104E_00379': True,\n",
       " 'Pst104E_00417': True,\n",
       " 'Pst104E_00450': True,\n",
       " 'Pst104E_00455': True,\n",
       " 'Pst104E_00475': True,\n",
       " 'Pst104E_00495': True,\n",
       " 'Pst104E_00505': True,\n",
       " 'Pst104E_00511': True,\n",
       " 'Pst104E_00531': True,\n",
       " 'Pst104E_00573': True,\n",
       " 'Pst104E_00582': True,\n",
       " 'Pst104E_00661': True,\n",
       " 'Pst104E_00738': True,\n",
       " 'Pst104E_00739': True,\n",
       " 'Pst104E_00753': True,\n",
       " 'Pst104E_00757': True,\n",
       " 'Pst104E_00765': True,\n",
       " 'Pst104E_00904': True,\n",
       " 'Pst104E_00916': True,\n",
       " 'Pst104E_00923': True,\n",
       " 'Pst104E_00982': True,\n",
       " 'Pst104E_00984': True,\n",
       " 'Pst104E_00990': True,\n",
       " 'Pst104E_00993': True}"
      ]
     },
     "execution_count": 120,
     "metadata": {},
     "output_type": "execute_result"
    }
   ],
   "source": [
    "singleton_dict"
   ]
  },
  {
   "cell_type": "code",
   "execution_count": 116,
   "metadata": {},
   "outputs": [],
   "source": [
    "allele_list = list(allele_dict.keys())\n",
    "singleton_list = list(singleton_dict.keys())\n",
    "paralogs_list = list(paralog_dict.keys())"
   ]
  },
  {
   "cell_type": "code",
   "execution_count": 117,
   "metadata": {},
   "outputs": [
    {
     "data": {
      "text/plain": [
       "{'Pst104E_00364'}"
      ]
     },
     "execution_count": 117,
     "metadata": {},
     "output_type": "execute_result"
    }
   ],
   "source": [
    "set(gene_done_list) - set(allele_list) - set(singleton_list) - set(paralogs_list)"
   ]
  },
  {
   "cell_type": "code",
   "execution_count": 115,
   "metadata": {},
   "outputs": [
    {
     "data": {
      "text/plain": [
       "dict_keys(['Pst104E_00232', 'Pst104E_00356', 'Pst104E_00100', 'Pst104E_00214', 'Pst104E_00077', 'Pst104E_00053', 'Pst104E_00260', 'Pst104E_00316', 'Pst104E_00000', 'Pst104E_00345', 'Pst104E_00291', 'Pst104E_00087', 'Pst104E_00230', 'Pst104E_00002', 'Pst104E_00355', 'Pst104E_00056', 'Pst104E_00140', 'Pst104E_00238', 'Pst104E_00186', 'Pst104E_00142', 'Pst104E_00222', 'Pst104E_00009', 'Pst104E_00121', 'Pst104E_00183', 'Pst104E_00058', 'Pst104E_00244', 'Pst104E_00196', 'Pst104E_00308', 'Pst104E_00174', 'Pst104E_00313', 'Pst104E_00333', 'Pst104E_00341', 'Pst104E_00282', 'Pst104E_00089', 'Pst104E_00195', 'Pst104E_00046', 'Pst104E_00011', 'Pst104E_00317', 'Pst104E_00074', 'Pst104E_00078', 'Pst104E_00025', 'Pst104E_00256', 'Pst104E_00270', 'Pst104E_00331', 'Pst104E_00094', 'Pst104E_00342', 'Pst104E_00034', 'Pst104E_00111', 'Pst104E_00152', 'Pst104E_00325', 'Pst104E_00163', 'Pst104E_00150', 'Pst104E_00105', 'Pst104E_00155', 'Pst104E_00170', 'Pst104E_00266', 'Pst104E_00149', 'Pst104E_00172', 'Pst104E_00130', 'Pst104E_00081', 'Pst104E_00101', 'Pst104E_00296', 'Pst104E_00030', 'Pst104E_00219', 'Pst104E_00063', 'Pst104E_00245', 'Pst104E_00224', 'Pst104E_00165', 'Pst104E_00134', 'Pst104E_00344', 'Pst104E_00060', 'Pst104E_00221', 'Pst104E_00132', 'Pst104E_00360', 'Pst104E_00277', 'Pst104E_00323', 'Pst104E_00241', 'Pst104E_00071', 'Pst104E_00187', 'Pst104E_00093', 'Pst104E_00263', 'Pst104E_00281', 'Pst104E_00004', 'Pst104E_00090', 'Pst104E_00143', 'Pst104E_00229', 'Pst104E_00176', 'Pst104E_00303', 'Pst104E_00021', 'Pst104E_00113', 'Pst104E_00264', 'Pst104E_00206', 'Pst104E_00015', 'Pst104E_00289', 'Pst104E_00108', 'Pst104E_00027', 'Pst104E_00343', 'Pst104E_00080', 'Pst104E_00259', 'Pst104E_00024', 'Pst104E_00191', 'Pst104E_00007', 'Pst104E_00072', 'Pst104E_00026', 'Pst104E_00318', 'Pst104E_00314', 'Pst104E_00315', 'Pst104E_00148', 'Pst104E_00135', 'Pst104E_00019', 'Pst104E_00018', 'Pst104E_00357', 'Pst104E_00147', 'Pst104E_00180', 'Pst104E_00324', 'Pst104E_00205', 'Pst104E_00190', 'Pst104E_00249', 'Pst104E_00099', 'Pst104E_00055', 'Pst104E_00145', 'Pst104E_00177', 'Pst104E_00001', 'Pst104E_00223', 'Pst104E_00076', 'Pst104E_00320', 'Pst104E_00054', 'Pst104E_00166', 'Pst104E_00022', 'Pst104E_00319', 'Pst104E_00312', 'Pst104E_00188', 'Pst104E_00171', 'Pst104E_00175', 'Pst104E_00301', 'Pst104E_00181', 'Pst104E_00283', 'Pst104E_00028', 'Pst104E_00350', 'Pst104E_00064', 'Pst104E_00311', 'Pst104E_00274', 'Pst104E_00153', 'Pst104E_00005', 'Pst104E_00226', 'Pst104E_00144', 'Pst104E_00307', 'Pst104E_00107', 'Pst104E_00095', 'Pst104E_00278', 'Pst104E_00179', 'Pst104E_00126', 'Pst104E_00141', 'Pst104E_00106', 'Pst104E_00061', 'Pst104E_00069', 'Pst104E_00146', 'Pst104E_00008', 'Pst104E_00052', 'Pst104E_00136', 'Pst104E_00129', 'Pst104E_00193', 'Pst104E_00119', 'Pst104E_00169', 'Pst104E_00079'])"
      ]
     },
     "execution_count": 115,
     "metadata": {},
     "output_type": "execute_result"
    }
   ],
   "source": [
    "up_down_dict.keys()"
   ]
  },
  {
   "cell_type": "code",
   "execution_count": 85,
   "metadata": {},
   "outputs": [
    {
     "data": {
      "text/plain": [
       "1"
      ]
     },
     "execution_count": 85,
     "metadata": {},
     "output_type": "execute_result"
    }
   ],
   "source": [
    "up_and_down_list[0][0]"
   ]
  },
  {
   "cell_type": "code",
   "execution_count": 28,
   "metadata": {},
   "outputs": [
    {
     "data": {
      "text/plain": [
       "['DK0911_03127',\n",
       " 'DK0911_03133',\n",
       " 'DK0911_03917',\n",
       " 'DK0911_08493',\n",
       " 'DK0911_08500',\n",
       " 'DK0911_08605',\n",
       " 'DK0911_08613',\n",
       " 'DK0911_09268',\n",
       " 'DK0911_12572',\n",
       " 'DK0911_12633',\n",
       " 'DK0911_15059',\n",
       " 'DK0911_15247',\n",
       " 'DK0911_16983',\n",
       " 'DK0911_17341',\n",
       " 'DK0911_20052',\n",
       " 'DK0911_30677']"
      ]
     },
     "execution_count": 28,
     "metadata": {},
     "output_type": "execute_result"
    }
   ],
   "source": [
    "first_orthologs"
   ]
  },
  {
   "cell_type": "markdown",
   "metadata": {},
   "source": [
    "#now we need to work on the case when we have multiple orthologs. This will be done on a 1:1 basis moving outward if the first neighbours match return a 1.\n",
    "#if in the first round nothing matches don't move forward. Just return all possible paraloge pairings.\n",
    "#if multiple match move one further out and add half a point for each match either side.\n",
    "#still need to think about missing orthologs from the original search and how to pull those in  "
   ]
  },
  {
   "cell_type": "code",
   "execution_count": 92,
   "metadata": {},
   "outputs": [],
   "source": [
    "def up_down_ratio(up_down_list):\n",
    "    if len(up_and_down_list) == 0:\n",
    "        return 0\n",
    "    if (up_and_down_list[0][1] + up_and_down_list[1][1]) > 0:\n",
    "        ratio = (up_and_down_list[0][0] + up_and_down_list[1][0]) / (up_and_down_list[0][1] + up_and_down_list[1][1])\n",
    "        return ratio\n",
    "    else:\n",
    "        return 0"
   ]
  },
  {
   "cell_type": "code",
   "execution_count": 93,
   "metadata": {},
   "outputs": [
    {
     "name": "stdout",
     "output_type": "stream",
     "text": [
      "DK0911_15063\n"
     ]
    }
   ],
   "source": [
    "ortho_dict = {}\n",
    "for ortho in first_orthologs:\n",
    "    print(ortho)\n",
    "    up_and_down_list = get_up_and_down(ortho,query_downstream_ortho,query_upstream_ortho, SUBJECT_GENOME_GENE_BED6, n=n, simple=simple)\n",
    "    if up_and_down_list[0][0] == 0 and up_and_down_list[1][0] == 0:\n",
    "        continue\n",
    "    else:\n",
    "        ortho_dict[ortho] = up_and_down_list\n",
    "max_list = [(0,0), (0,0)]\n",
    "for ortho, ortho_list in ortho_dict.items():\n",
    "    if up_down_ratio(max_list) < up_down_ratio(ortho_list):\n",
    "        max_list = ortho_list\n"
   ]
  },
  {
   "cell_type": "code",
   "execution_count": 94,
   "metadata": {},
   "outputs": [
    {
     "data": {
      "text/plain": [
       "{'DK0911_15063': [(6, 7), (1, 8)]}"
      ]
     },
     "execution_count": 94,
     "metadata": {},
     "output_type": "execute_result"
    }
   ],
   "source": [
    "ortho_dict"
   ]
  },
  {
   "cell_type": "code",
   "execution_count": 56,
   "metadata": {},
   "outputs": [
    {
     "data": {
      "text/plain": [
       "'OG0000028'"
      ]
     },
     "execution_count": 56,
     "metadata": {},
     "output_type": "execute_result"
    }
   ],
   "source": [
    "broken = ortho\n",
    "gene_to_ortho_dict[ortho]"
   ]
  },
  {
   "cell_type": "code",
   "execution_count": 47,
   "metadata": {},
   "outputs": [
    {
     "name": "stdout",
     "output_type": "stream",
     "text": [
      "[]\n",
      "[]\n"
     ]
    }
   ],
   "source": [
    "print([gene_to_ortho_dict[x] for x in get_neighbours(ortho, SUBJECT_GENOME_GENE_BED6, n=n, direction='up')])\n",
    "print([gene_to_ortho_dict[x] for x in get_neighbours(ortho, SUBJECT_GENOME_GENE_BED6, n=n, direction='down')])"
   ]
  },
  {
   "cell_type": "code",
   "execution_count": 44,
   "metadata": {},
   "outputs": [
    {
     "data": {
      "text/plain": [
       "'DK0911_20052'"
      ]
     },
     "execution_count": 44,
     "metadata": {},
     "output_type": "execute_result"
    }
   ],
   "source": [
    "ortho"
   ]
  },
  {
   "cell_type": "code",
   "execution_count": null,
   "metadata": {},
   "outputs": [],
   "source": []
  },
  {
   "cell_type": "code",
   "execution_count": 126,
   "metadata": {},
   "outputs": [],
   "source": [
    "#get the first orthologs (aka potential allele pairings)\n",
    "first_orthologs = get_orthologs(gene_id, gene_to_ortho_dict, orthofinder_dict, subject_id)\n",
    "if len(first_orthologs) == 0:\n",
    "    singleton_dict[gene_id] = True\n",
    "elif len(first_orthologs) == 1:\n",
    "    subject_upstream_ortho = [gene_to_ortho_dict[x] for x in get_neighbours(first_orthologs[0], SUBJECT_GENOME_GENE_BED6, n=n, direction='up')]\n",
    "    subject_downstream_ortho = [gene_to_ortho_dict[x] for x in get_neighbours(first_orthologs[0], SUBJECT_GENOME_GENE_BED6, n=n, direction='down')]\n",
    "    if query_upstream_ortho[0] == subject_upstream_ortho[0]:   \n",
    "        obs_up, max_up = count_pairings(query_upstream_ortho, subject_upstream_ortho, simple=simple)       \n",
    "        #now look at the downstream\n",
    "        obs_down, max_down = count_pairings(query_downstream_ortho, subject_downstream_ortho, simple=simple)\n",
    "    elif query_upstream_ortho[0] == subject_downstream_ortho[0]:\n",
    "        obs_up, max_up = count_pairings(query_upstream_ortho, subject_downstream_ortho, simple=simple)\n",
    "        obs_down, max_down = count_pairings(query_downstream_ortho, subject_upstream_ortho, simple=simple)"
   ]
  },
  {
   "cell_type": "code",
   "execution_count": 100,
   "metadata": {},
   "outputs": [
    {
     "name": "stdout",
     "output_type": "stream",
     "text": [
      "obs_up 3, max_up 5, obs_down 2, max_down 2\n",
      "sub_up ['OG0000028', 'OG0005025', 'OG0015028', 'OG0012676', 'OG0039656']\n",
      "query_up ['OG0000028', 'OG0005025', 'OG0015028', 'OG0037814', 'OG0012676']\n",
      "sub_down ['OG0009613', 'OG0006130']\n",
      "query_down ['OG0009613', 'OG0006130']\n"
     ]
    }
   ],
   "source": [
    "#now we need to look at the pairing of the directions\n",
    "#and add stuff up\n",
    "if query_upstream_ortho[0] == subject_upstream_ortho[0]:\n",
    "    obs_up = 0\n",
    "    obs_down = 0 \n",
    "    if len(query_upstream_ortho) <= len(subject_upstream_ortho):\n",
    "        \n",
    "        max_up = len(query_upstream_ortho)\n",
    "    else:\n",
    "        max_up = len(subject_upstream_ortho)\n",
    "        \n",
    "    for i in range(0, max_up):\n",
    "        if query_upstream_ortho[i] == subject_upstream_ortho[i]:\n",
    "            obs_up = obs_up + 1\n",
    "            \n",
    "    #now look at the downstream\n",
    "    if len(query_downstream_ortho) <= len(subject_downstream_ortho):\n",
    "        \n",
    "        max_down = len(query_downstream_ortho)\n",
    "    else:\n",
    "        max_down = len(subject_downstream_ortho)\n",
    "        \n",
    "    for i in range(0, max_down):\n",
    "        if query_downstream_ortho[i] == subject_downstream_ortho[i]:\n",
    "            obs_down = obs_down + 1\n",
    "    \n",
    "elif query_upstream_ortho[0] == subject_downstream_ortho[0]:\n",
    "    obs_up = 0\n",
    "    obs_down = 0\n",
    "    if len(query_upstream_ortho) <= len(subject_downstream_ortho):\n",
    "        max_up = len(query_upstream_ortho)\n",
    "    else:\n",
    "        max_up = len(subject_downstream_ortho)\n",
    "    for i in range(0, obs_down):\n",
    "        if query_upstream_ortho[i] == subject_downstream_ortho[i]:\n",
    "            obs_up = obs_up + 1\n",
    "            \n",
    "    #now look at the downstream\n",
    "    if len(query_downstream_ortho) <= len(subject_upstream_ortho):\n",
    "        \n",
    "        max_down = len(query_downstream_ortho)\n",
    "    else:\n",
    "        max_down = len(subject_upstream_ortho)\n",
    "        \n",
    "    for i in range(0, max_down):\n",
    "        if query_downstream_ortho[i] == subject_upstream_ortho[i]:\n",
    "            obs_down = obs_down + 1\n",
    "print('obs_up %i, max_up %i, obs_down %i, max_down %i' % (obs_up, max_up, obs_down, max_down))\n",
    "print('sub_up %s\\nquery_up %s\\nsub_down %s\\nquery_down %s' % (subject_upstream_ortho, query_upstream_ortho,subject_downstream_ortho,query_downstream_ortho ))"
   ]
  },
  {
   "cell_type": "code",
   "execution_count": 110,
   "metadata": {},
   "outputs": [],
   "source": [
    "def count_pairings(query_ortho, subject_ortho, simple = True):\n",
    "    \"\"\"Function that counts the pair wise overlap of two lists.\n",
    "    In the simple = True mode this is a stricked 1:1 pairing.\n",
    "    In the simple = Flase mode this is a sliding window of 1 vs [0, 1 , 2] elements.\n",
    "    Input: \n",
    "        query_ortho list\n",
    "        subject_orth list\n",
    "        simple True or False\n",
    "    output:\n",
    "        obs the number of observed pairings\n",
    "        max_len the number of potential pairings\"\"\"\n",
    "    if len(query_ortho) <= len(subject_ortho):\n",
    "        max_len = len(query_ortho)\n",
    "    else:\n",
    "        max_len = len(subject_ortho)\n",
    "    obs = 0\n",
    "    if simple == True:\n",
    "        for i in range(0, max_len):\n",
    "            if query_ortho[i] == subject_ortho[i]:\n",
    "                obs = obs + 1\n",
    "        return obs, max_len\n",
    "            \n",
    "        \n",
    "    if simple == False:\n",
    "        for i in range(0, max_len):\n",
    "            if i > 0 and i < max_len -1:    \n",
    "                if query_ortho[i] == subject_ortho[i] or query_ortho[i] == subject_ortho[i-1] \\\n",
    "                or query_ortho[i] == subject_ortho[i+1]:\n",
    "                    obs = obs + 1\n",
    "            elif i == max_up -1:\n",
    "                if query_ortho[i] == subject_ortho[i] or query_ortho[i] == subject_ortho[i-1]:\n",
    "                    obs = obs + 1\n",
    "            elif query_ortho[i] == subject_ortho[i]:\n",
    "                obs = obs + 1\n",
    "            elif i == 0:\n",
    "                if query_ortho[i] == subject_ortho[i] or query_ortho[i] == subject_ortho[i+1]:\n",
    "                    obs = obs + 1\n",
    "            \n",
    "        return obs, max_len"
   ]
  },
  {
   "cell_type": "code",
   "execution_count": 107,
   "metadata": {},
   "outputs": [
    {
     "name": "stdout",
     "output_type": "stream",
     "text": [
      "obs_up 3, max_up 5, obs_down 2, max_down 2\n",
      "sub_up ['OG0000028', 'OG0005025', 'OG0015028', 'OG0012676', 'OG0039656']\n",
      "query_up ['OG0000028', 'OG0005025', 'OG0015028', 'OG0037814', 'OG0012676']\n",
      "sub_down ['OG0009613', 'OG0006130']\n",
      "query_down ['OG0009613', 'OG0006130']\n"
     ]
    }
   ],
   "source": [
    "#second iterations that allows for +1/=-1 difference once the first neighbour is the same\n",
    "#now we need to look at the pairing of the directions\n",
    "#and add stuff up\n",
    "if query_upstream_ortho[0] == subject_upstream_ortho[0]:   \n",
    "    obs_up, max_up = count_pairings(query_upstream_ortho, subject_upstream_ortho)       \n",
    "    #now look at the downstream\n",
    "    obs_down, max_down = count_pairings(query_downstream_ortho, subject_downstream_ortho)\n",
    "elif query_upstream_ortho[0] == subject_downstream_ortho[0]:\n",
    "    obs_up, max_up = count_pairings(query_upstream_ortho, subject_downstream_ortho)\n",
    "    obs_down, max_down = count_pairings(query_downstream_ortho, subject_upstream_ortho)\n",
    "print('obs_up %i, max_up %i, obs_down %i, max_down %i' % (obs_up, max_up, obs_down, max_down))\n",
    "print('sub_up %s\\nquery_up %s\\nsub_down %s\\nquery_down %s' % (subject_upstream_ortho, query_upstream_ortho,subject_downstream_ortho,query_downstream_ortho ))"
   ]
  },
  {
   "cell_type": "code",
   "execution_count": 109,
   "metadata": {},
   "outputs": [
    {
     "name": "stdout",
     "output_type": "stream",
     "text": [
      "obs_up 4, max_up 5, obs_down 2, max_down 2\n",
      "sub_up ['OG0000028', 'OG0005025', 'OG0015028', 'OG0012676', 'OG0039656']\n",
      "query_up ['OG0000028', 'OG0005025', 'OG0015028', 'OG0037814', 'OG0012676']\n",
      "sub_down ['OG0009613', 'OG0006130']\n",
      "query_down ['OG0009613', 'OG0006130']\n"
     ]
    }
   ],
   "source": [
    "#second iterations that allows for +1/=-1 difference once the first neighbour is the same\n",
    "#now we need to look at the pairing of the directions\n",
    "#and add stuff up\n",
    "if query_upstream_ortho[0] == subject_upstream_ortho[0]:   \n",
    "    obs_up, max_up = count_pairings(query_upstream_ortho, subject_upstream_ortho, False)       \n",
    "    #now look at the downstream\n",
    "    obs_down, max_down = count_pairings(query_downstream_ortho, subject_downstream_ortho, False)\n",
    "elif query_upstream_ortho[0] == subject_downstream_ortho[0]:\n",
    "    obs_up, max_up = count_pairings(query_upstream_ortho, subject_downstream_ortho, False)\n",
    "    obs_down, max_down = count_pairings(query_downstream_ortho, subject_upstream_ortho, False)\n",
    "print('obs_up %i, max_up %i, obs_down %i, max_down %i' % (obs_up, max_up, obs_down, max_down))\n",
    "print('sub_up %s\\nquery_up %s\\nsub_down %s\\nquery_down %s' % (subject_upstream_ortho, query_upstream_ortho,subject_downstream_ortho,query_downstream_ortho ))"
   ]
  },
  {
   "cell_type": "code",
   "execution_count": 60,
   "metadata": {},
   "outputs": [
    {
     "data": {
      "text/plain": [
       "['DK0911_15057', 'DK0911_15056']"
      ]
     },
     "execution_count": 60,
     "metadata": {},
     "output_type": "execute_result"
    }
   ],
   "source": [
    "get_neighbours(first_orthologs[0], SUBJECT_GENOME_GENE_BED6, n=n, direction='down')"
   ]
  },
  {
   "cell_type": "code",
   "execution_count": 61,
   "metadata": {},
   "outputs": [
    {
     "data": {
      "text/plain": [
       "['DK0911_15058']"
      ]
     },
     "execution_count": 61,
     "metadata": {},
     "output_type": "execute_result"
    }
   ],
   "source": [
    "first_orthologs"
   ]
  },
  {
   "cell_type": "code",
   "execution_count": 56,
   "metadata": {},
   "outputs": [
    {
     "data": {
      "text/plain": [
       "['OG0000028', 'OG0005025', 'OG0015028', 'OG0037814', 'OG0012676']"
      ]
     },
     "execution_count": 56,
     "metadata": {},
     "output_type": "execute_result"
    }
   ],
   "source": [
    "query_upstream_ortho"
   ]
  },
  {
   "cell_type": "code",
   "execution_count": 57,
   "metadata": {},
   "outputs": [
    {
     "data": {
      "text/plain": [
       "['OG0000028', 'OG0005025', 'OG0015028', 'OG0012676', 'OG0039656']"
      ]
     },
     "execution_count": 57,
     "metadata": {},
     "output_type": "execute_result"
    }
   ],
   "source": [
    "subject_upstream_ortho"
   ]
  },
  {
   "cell_type": "code",
   "execution_count": 58,
   "metadata": {},
   "outputs": [
    {
     "data": {
      "text/plain": [
       "['OG0009613', 'OG0006130']"
      ]
     },
     "execution_count": 58,
     "metadata": {},
     "output_type": "execute_result"
    }
   ],
   "source": [
    "query_downstream_ortho"
   ]
  },
  {
   "cell_type": "code",
   "execution_count": 59,
   "metadata": {},
   "outputs": [
    {
     "data": {
      "text/plain": [
       "['OG0009613', 'OG0006130']"
      ]
     },
     "execution_count": 59,
     "metadata": {},
     "output_type": "execute_result"
    }
   ],
   "source": [
    "subject_downstream_ortho"
   ]
  },
  {
   "cell_type": "code",
   "execution_count": 32,
   "metadata": {},
   "outputs": [
    {
     "data": {
      "text/plain": [
       "'Pst104E_25431'"
      ]
     },
     "execution_count": 32,
     "metadata": {},
     "output_type": "execute_result"
    }
   ],
   "source": [
    "line.split(':')[1].strip()"
   ]
  },
  {
   "cell_type": "code",
   "execution_count": 25,
   "metadata": {},
   "outputs": [
    {
     "data": {
      "text/plain": [
       "['Pst104E_00001', 'Pst104E_00000']"
      ]
     },
     "execution_count": 25,
     "metadata": {},
     "output_type": "execute_result"
    }
   ],
   "source": [
    "get_neighbours('Pst104E_00002', QUERY_GENOME_GENE_BED6, n=10, direction = 'down')"
   ]
  },
  {
   "cell_type": "code",
   "execution_count": 8,
   "metadata": {},
   "outputs": [],
   "source": [
    "bed_6_header = ['chrom', 'start', 'stop', 'gene_id', 'phase', 'strand']\n",
    "bed_df = pd.read_csv(QUERY_GENOME_GENE_BED6, sep='\\t', header=None, names=bed_6_header)\n",
    "gene_id = pd.read_csv(QUERY_SELECT_GENE_BED6, sep='\\t', header=None, names=bed_6_header).loc[0,['gene_id']]['gene_id']\n"
   ]
  },
  {
   "cell_type": "code",
   "execution_count": 40,
   "metadata": {},
   "outputs": [],
   "source": [
    "n=5\n",
    "direction = 'up'\n",
    "gene_index = bed_df[bed_df['gene_id'] == gene_id].index[0]\n",
    "contig = bed_df.loc[gene_index, ['chrom']]['chrom']"
   ]
  },
  {
   "cell_type": "code",
   "execution_count": 42,
   "metadata": {},
   "outputs": [],
   "source": [
    "contig_index = bed_df[bed_df['chrom']== contig].index"
   ]
  },
  {
   "cell_type": "code",
   "execution_count": 79,
   "metadata": {},
   "outputs": [
    {
     "name": "stdout",
     "output_type": "stream",
     "text": [
      "['Pst104E_00001', 'Pst104E_00000']\n"
     ]
    }
   ],
   "source": [
    "gene_id = 'Pst104E_00002'\n",
    "gene_index = bed_df[bed_df['gene_id'] == gene_id].index[0]\n",
    "contig = bed_df.loc[gene_index, ['chrom']]['chrom']\n",
    "contig_index = bed_df[bed_df['chrom']== contig].index\n",
    "direction = 'down'\n",
    "if direction == 'up':\n",
    "    index_list = []\n",
    "    if (gene_index+(n)) in contig_index:\n",
    "        for i in range(gene_index+1, gene_index+(n+1)):\n",
    "            index_list.append(i)\n",
    "    else:\n",
    "        for i in range(gene_index+1, contig_index[-1]+1):\n",
    "            index_list.append(i)\n",
    "    print(bed_df.loc[index_list, ['gene_id']]['gene_id'].tolist())\n",
    "if direction == 'down':\n",
    "    index_list = []\n",
    "    if (gene_index-n) in contig_index:\n",
    "        for i in range(gene_index-(n), gene_index):\n",
    "            index_list.append(i)\n",
    "    else:\n",
    "        for i in range(contig_index[0], gene_index):\n",
    "            index_list.append(i)\n",
    "    index_list.reverse()\n",
    "    print(bed_df.loc[index_list, ['gene_id']]['gene_id'].tolist())"
   ]
  },
  {
   "cell_type": "code",
   "execution_count": 67,
   "metadata": {},
   "outputs": [
    {
     "data": {
      "text/plain": [
       "True"
      ]
     },
     "execution_count": 67,
     "metadata": {},
     "output_type": "execute_result"
    }
   ],
   "source": [
    "gene_index-n in contig_index"
   ]
  },
  {
   "cell_type": "code",
   "execution_count": 65,
   "metadata": {},
   "outputs": [
    {
     "data": {
      "text/plain": [
       "[994, 995, 996, 997, 998]"
      ]
     },
     "execution_count": 65,
     "metadata": {},
     "output_type": "execute_result"
    }
   ],
   "source": [
    "index_list"
   ]
  },
  {
   "cell_type": "code",
   "execution_count": 36,
   "metadata": {},
   "outputs": [
    {
     "data": {
      "text/plain": [
       "999"
      ]
     },
     "execution_count": 36,
     "metadata": {},
     "output_type": "execute_result"
    }
   ],
   "source": [
    "gene_index[0]"
   ]
  },
  {
   "cell_type": "code",
   "execution_count": 50,
   "metadata": {},
   "outputs": [
    {
     "ename": "SyntaxError",
     "evalue": "invalid syntax (<ipython-input-50-0f1b2462552f>, line 1)",
     "output_type": "error",
     "traceback": [
      "\u001b[0;36m  File \u001b[0;32m\"<ipython-input-50-0f1b2462552f>\"\u001b[0;36m, line \u001b[0;32m1\u001b[0m\n\u001b[0;31m    [gene_index: gene_index+6]\u001b[0m\n\u001b[0m               ^\u001b[0m\n\u001b[0;31mSyntaxError\u001b[0m\u001b[0;31m:\u001b[0m invalid syntax\n"
     ]
    }
   ],
   "source": [
    "[gene_index: gene_index+6]"
   ]
  },
  {
   "cell_type": "code",
   "execution_count": null,
   "metadata": {},
   "outputs": [],
   "source": []
  }
 ],
 "metadata": {
  "kernelspec": {
   "display_name": "Python [default]",
   "language": "python",
   "name": "python3"
  },
  "language_info": {
   "codemirror_mode": {
    "name": "ipython",
    "version": 3
   },
   "file_extension": ".py",
   "mimetype": "text/x-python",
   "name": "python",
   "nbconvert_exporter": "python",
   "pygments_lexer": "ipython3",
   "version": "3.5.3"
  }
 },
 "nbformat": 4,
 "nbformat_minor": 2
}
