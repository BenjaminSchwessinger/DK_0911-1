{
 "cells": [
  {
   "cell_type": "markdown",
   "metadata": {},
   "source": [
    "### Notebook to get synteny measures between two assemblies\n",
    "The goal is to get a tool that takes in orthofinder results and a CDS files to check fof the length of synteny with different gene categories.\n",
    "\n",
    "The idea is that BUSCOs are more syntenous then effectors or such. \n",
    "\n",
    "The program tries to count how many neighbours of an allele pair are in the same orthogroup. This requires first to anchor the allele pairing e.g. find out what the 1:1 allele is and then walk outward to see if each others neighbours are in the same orthogroup. We can run this simple without allowing for skips and in simple=Flase mode to allow for a skip by one.\n",
    "\n",
    "GENOMEA_orthoarray =  [1,2,3,4]\n",
    "GENOMEB_orthoarray =  [1,2,3,5]\n",
    "\n",
    "The result of a comparison is an array of length n where n is the size of the tested synteny block. The initial outcome is an array of length n where 1 represents a orthology mathch, where 0 represents not an orthology match and where np.nan represents the lack of test for orthology match (e.g. where one of the genes is at the edge of a contig). These arrays can be converted in tuples, where the first is number of observed matches (sum of 1s) and where the second value is the number of possible values (0 and 1 == non np.nan in the array).  \n",
    "For the case above the match array for n = 5 should be [1,1,1,0,nan] and the tuple (3,4)\n",
    "\n",
    "If this analysis is performed on two different set of gene groups this may tell something if microsynteny is more conserved within one gene group then another. Also have a look at http://chibba.pgml.uga.edu/mcscan2/ for synteny analysis."
   ]
  },
  {
   "cell_type": "markdown",
   "metadata": {},
   "source": [
    "#### initial outline\n",
    "\n",
    "get a gene ID -> get its neightbours n in two different arrays up and down stream -> get the orthogroup arrays for the neighbours \n",
    "get a gene ID  -> get orthogroup of the gene -> get all members of the orthogroup that belong to the other genome -> get their neighbours +/- 1 -> get the best seed where both neighbours add up,  \n",
    "* if we have only one best match that is easy. Use this seed as 1:1 match get the neighbourhood array up and down -> compare the arrays one element at a time and safe the match_up and match_down dictionray.\n",
    "* if multiple hits. Move one further out with each hit and look at those with the same ideas.\n",
    "\n",
    "Things also to generate:\n",
    "A match dictionary for allele pairing.  \n",
    "A unqiue gene dictionary.  \n",
    "A paraloge dictionray. Meaning where there is no allele pairing but thing are in the same ortho group."
   ]
  },
  {
   "cell_type": "code",
   "execution_count": 3,
   "metadata": {
    "ExecuteTime": {
     "end_time": "2019-02-15T02:57:29.237345Z",
     "start_time": "2019-02-15T02:57:26.546650Z"
    }
   },
   "outputs": [
    {
     "name": "stderr",
     "output_type": "stream",
     "text": [
      "/home/benjamin/anaconda3/lib/python3.5/site-packages/Bio/SearchIO/__init__.py:211: BiopythonExperimentalWarning: Bio.SearchIO is an experimental submodule which may undergo significant changes prior to its future official release.\n",
      "  BiopythonExperimentalWarning)\n"
     ]
    }
   ],
   "source": [
    "import pandas as pd\n",
    "import os\n",
    "import re\n",
    "from Bio import SeqIO\n",
    "from Bio import SeqUtils\n",
    "import pysam\n",
    "from Bio.SeqRecord import SeqRecord\n",
    "from pybedtools import BedTool\n",
    "import numpy as np\n",
    "import pybedtools\n",
    "import time\n",
    "import matplotlib.pyplot as plt\n",
    "import sys\n",
    "import subprocess\n",
    "import shutil\n",
    "from Bio.Seq import Seq\n",
    "import pysam\n",
    "from Bio import SearchIO\n",
    "import json\n",
    "import glob\n",
    "import scipy.stats as stats\n",
    "import statsmodels as sms\n",
    "import statsmodels.sandbox.stats.multicomp\n",
    "import distance\n",
    "import seaborn as sns\n",
    "from pybedtools import BedTool\n",
    "import matplotlib\n",
    "from sklearn.externals.joblib import Parallel, delayed\n",
    "import itertools as it\n",
    "import tempfile\n",
    "from scipy.signal import argrelextrema\n",
    "import scipy\n",
    "from IPython.display import Image\n",
    "from PIL import Image\n",
    "from collections import OrderedDict"
   ]
  },
  {
   "cell_type": "code",
   "execution_count": 4,
   "metadata": {
    "ExecuteTime": {
     "end_time": "2019-02-15T02:57:29.249147Z",
     "start_time": "2019-02-15T02:57:29.239416Z"
    },
    "collapsed": true
   },
   "outputs": [],
   "source": [
    "### define some path that at the end should come as args\n",
    "ORTHOFINDER_FILE_NAME = '/home/benjamin/genome_assembly/Warrior/DK0911_v04/comp_orthology/orthofinder/OrthoFinder_all/Orthogroups_2.txt'\n",
    "QUERY_GENOME_GENE_BED6 = '/home/benjamin/genome_assembly/Warrior/DK0911_v04/comp_orthology/Pst104E_annotations/Pst_104E_v13_p_ctg.gene.bed'\n",
    "SUBJECT_GENOME_GENE_BED6 = '/home/benjamin/genome_assembly/Warrior/DK0911_v04/comp_orthology/DK0911_annotations/DK_0911_v04_p_ctg.genes.gene.bed'\n",
    "QUERY_SELECT_GENE_BED6 = '/home/benjamin/genome_assembly/Warrior/DK0911_v04/comp_orthology/orthofinder/test_folder/Pst_104E_v13_p_ctg.gene1000.bed'"
   ]
  },
  {
   "cell_type": "code",
   "execution_count": 5,
   "metadata": {
    "ExecuteTime": {
     "end_time": "2019-02-15T02:57:29.269160Z",
     "start_time": "2019-02-15T02:57:29.250677Z"
    },
    "collapsed": true
   },
   "outputs": [],
   "source": [
    "OUT_PATH = '/home/benjamin/genome_assembly/Warrior/DK0911_v04/comp_orthology/orthofinder/test_folder/'"
   ]
  },
  {
   "cell_type": "code",
   "execution_count": 6,
   "metadata": {
    "ExecuteTime": {
     "end_time": "2019-02-15T02:57:29.397195Z",
     "start_time": "2019-02-15T02:57:29.270853Z"
    },
    "collapsed": true
   },
   "outputs": [],
   "source": [
    "#now write some functions\n",
    "def get_neighbours(gene_id, bed_filename, n=5, direction='up'):\n",
    "    \"\"\"A function that either takes a filename to return an array of downstream and upstream neighbouring genes.\n",
    "    Input: \n",
    "        gene_id\n",
    "        bed6 filename\n",
    "        n being the number of neighbours we want to get\n",
    "        direction being up or down.\n",
    "    Output:\n",
    "        returns the largest possible array of neighbours up to n.\n",
    "        The 0 element is always the closest neighbour no matter if you return and 'up' or 'down' array.\"\"\"\n",
    "    bed_6_header = ['chrom', 'start', 'stop', 'gene_id', 'phase', 'strand']\n",
    "    try:\n",
    "        bed_df = pd.read_csv(bed_filename, sep='\\t', header=None, names=bed_6_header)\n",
    "    except:\n",
    "        print('Check if the bedfiles are bed6')\n",
    "    if not direction in ['up', 'down']:\n",
    "        print('Ensure direction is up or down.')\n",
    "        \n",
    "    #fix to make sure the gene id is actually in the bed_file if not just return an empty list    \n",
    "    if gene_id not in bed_df['gene_id'].unique():\n",
    "        print('Warning gene %s is not in bed file!' % gene_id)\n",
    "        return []\n",
    "    gene_index = bed_df[bed_df['gene_id'] == gene_id].index[0]\n",
    "    contig = bed_df.loc[gene_index, ['chrom']]['chrom']\n",
    "    contig_index = bed_df[bed_df['chrom']== contig].index\n",
    "    if direction == 'up':\n",
    "        index_list = []\n",
    "        if (gene_index+(n)) in contig_index:\n",
    "            for i in range(gene_index+1, gene_index+(n+1)):\n",
    "                index_list.append(i)\n",
    "        else:\n",
    "            for i in range(gene_index+1, contig_index[-1]+1):\n",
    "                index_list.append(i)\n",
    "        return bed_df.loc[index_list, ['gene_id']]['gene_id'].tolist()\n",
    "    if direction == 'down':\n",
    "        index_list = []\n",
    "        if (gene_index-n) in contig_index:\n",
    "            for i in range(gene_index-(n), gene_index):\n",
    "                index_list.append(i)\n",
    "        else:\n",
    "            for i in range(contig_index[0], gene_index):\n",
    "                index_list.append(i)\n",
    "        index_list.reverse()\n",
    "        return bed_df.loc[index_list, ['gene_id']]['gene_id'].tolist()"
   ]
  },
  {
   "cell_type": "code",
   "execution_count": 7,
   "metadata": {
    "ExecuteTime": {
     "end_time": "2019-02-15T02:57:29.425183Z",
     "start_time": "2019-02-15T02:57:29.399116Z"
    },
    "collapsed": true
   },
   "outputs": [],
   "source": [
    "def get_ortho_dict(file_name):\n",
    "    \"\"\"Function that takes a orthofinder file name and generates an orthofinder dict.\n",
    "    Input:\n",
    "        Filename of orthofinder output.\n",
    "    Output:\n",
    "        Orthofinder dict with keys intergers of the numerical part of the orthofinder group.\n",
    "        Values are the gene identifier of each orthogroup.\"\"\"\n",
    "    orthofinder_dict = {}\n",
    "    try:\n",
    "        with open(file_name) as fh:\n",
    "            for line in fh:\n",
    "                line.strip()\n",
    "                orthofinder_dict[int(line.split(':')[0].strip('OG'))] = line.split(':')[1].strip().split(' ')\n",
    "        return orthofinder_dict\n",
    "    except FileNotFoundError:\n",
    "        print(\"Please check the orthofinder in put file.\")"
   ]
  },
  {
   "cell_type": "code",
   "execution_count": 8,
   "metadata": {
    "ExecuteTime": {
     "end_time": "2019-02-15T02:57:29.945187Z",
     "start_time": "2019-02-15T02:57:29.926645Z"
    },
    "collapsed": true
   },
   "outputs": [],
   "source": [
    "def get_gene_to_ortho_dict(orthofinder_dict):\n",
    "    \"\"\"Function that makes a gene to ortho dict.\"\"\"\n",
    "    gene_to_ortho_dict = {}\n",
    "    for key,value in orthofinder_dict.items():\n",
    "        for item in value:\n",
    "            gene_to_ortho_dict[item] = key\n",
    "    return gene_to_ortho_dict"
   ]
  },
  {
   "cell_type": "code",
   "execution_count": 9,
   "metadata": {
    "ExecuteTime": {
     "end_time": "2019-02-15T02:57:30.445167Z",
     "start_time": "2019-02-15T02:57:30.430682Z"
    },
    "collapsed": true
   },
   "outputs": [],
   "source": [
    "def get_orthologs(gene_id, gene_to_ortho_dict, orthofinder_dict, other_id):\n",
    "    \"\"\"The function returns all the potential orthologs of the comparative species\n",
    "    Input:\n",
    "        gene_id\n",
    "        gene_to_ortho_dict, the ortho dict\n",
    "        orthofinder_dict, the dictionary of the orthgroups to get all genes belonging to the orthogroup in question.\n",
    "        other_id, is the identifier of the comparative species.\"\"\"\n",
    "\n",
    "    return [x for x in orthofinder_dict[gene_to_ortho_dict[gene_id]] if x.startswith(other_id)]"
   ]
  },
  {
   "cell_type": "code",
   "execution_count": null,
   "metadata": {
    "ExecuteTime": {
     "end_time": "2019-02-12T03:33:33.004406Z",
     "start_time": "2019-02-12T03:33:32.926288Z"
    },
    "collapsed": true
   },
   "outputs": [],
   "source": [
    "def count_pairings(query_ortho, subject_ortho, simple = True):\n",
    "    \"\"\"Function that counts the pair wise overlap of two lists.\n",
    "    In the simple = True mode this is a stricked 1:1 pairing.\n",
    "    In the simple = Flase mode this is a sliding window of 1 vs [0, 1 , 2] elements.\n",
    "    Input: \n",
    "        query_ortho list\n",
    "        subject_orth list\n",
    "        simple True or False\n",
    "    output:\n",
    "        obs the number of observed pairings\n",
    "        max_len the number of potential pairings\"\"\"\n",
    "    if len(query_ortho) <= len(subject_ortho):\n",
    "        max_len = len(query_ortho)\n",
    "    else:\n",
    "        max_len = len(subject_ortho)\n",
    "    obs = 0\n",
    "    if simple == True:\n",
    "        for i in range(0, max_len):\n",
    "            if query_ortho[i] == subject_ortho[i]:\n",
    "                obs = obs + 1\n",
    "        return obs, max_len\n",
    "            \n",
    "        \n",
    "    if simple == False:\n",
    "        for i in range(0, max_len):\n",
    "            if i > 0 and i < max_len -1:    \n",
    "                if query_ortho[i] == subject_ortho[i] or query_ortho[i] == subject_ortho[i-1] \\\n",
    "                or query_ortho[i] == subject_ortho[i+1]:\n",
    "                    obs = obs + 1\n",
    "            elif i == max_len -1:\n",
    "                if query_ortho[i] == subject_ortho[i] or query_ortho[i] == subject_ortho[i-1]:\n",
    "                    obs = obs + 1\n",
    "            elif query_ortho[i] == subject_ortho[i]:\n",
    "                obs = obs + 1\n",
    "            elif i == 0:\n",
    "                if query_ortho[i] == subject_ortho[i] or query_ortho[i] == subject_ortho[i+1]:\n",
    "                    obs = obs + 1\n",
    "            \n",
    "        return obs, max_len"
   ]
  },
  {
   "cell_type": "code",
   "execution_count": 31,
   "metadata": {
    "ExecuteTime": {
     "end_time": "2019-02-15T03:14:26.221185Z",
     "start_time": "2019-02-15T03:14:25.965686Z"
    },
    "collapsed": true
   },
   "outputs": [],
   "source": [
    "def get_up_and_down(gene_id, query_downstream_ortho,query_upstream_ortho, subject_bed_fn, n, simple):\n",
    "    \"\"\"A function that returns a list of two tuples. The first tuple is the for the downstream pairing the second for the\n",
    "    upstream pairing of obs, max possible matches of orthologs.\n",
    "    Input: \n",
    "           Gene_id to check from the subject genome, e.g. initial orthogroup matches of query gene.\n",
    "           query_downstream_ortho is the list of downstream ortho groups from the gene_ids neighbours.\n",
    "           query_upstream_ortho is the list of upstream ortho groups from the gene_ids neighbours.\n",
    "           subject_bed_fn is the absolute path of the subject_bed_fn to get the neighbouring genes of the gene_id.\n",
    "           n is the numbers of neighbours to search.\n",
    "           simple can be True or False for searching without skiping (window of three) or with skipping enabled.\n",
    "    Output:\n",
    "           [(obs_down, max_down), (obs_up, max_up)]\"\"\"\n",
    "    \n",
    "    \n",
    "    if simple not in [True, False]:\n",
    "        simple = True\n",
    "    \n",
    "    subject_upstream_ortho = [gene_to_ortho_dict[x] for x in get_neighbours(gene_id, subject_bed_fn, n=n, direction='up')]\n",
    "    subject_downstream_ortho = [gene_to_ortho_dict[x] for x in get_neighbours(gene_id, subject_bed_fn, n=n, direction='down')]\n",
    "    \n",
    "    #define in case something has no upstream or downstream hits\n",
    "    obs_up, max_up, obs_down, max_down = 0, 0, 0, 0\n",
    "    \n",
    "    if len(query_upstream_ortho) > 0 and len(subject_upstream_ortho) > 0: \n",
    "        if query_upstream_ortho[0] == subject_upstream_ortho[0]:   \n",
    "            obs_up, max_up = count_pairings(query_upstream_ortho, subject_upstream_ortho, simple=simple)       \n",
    "            #now look at the downstream\n",
    "            obs_down, max_down = count_pairings(query_downstream_ortho, subject_downstream_ortho, simple=simple)\n",
    "            \n",
    "            if len(query_downstream_ortho) > 0 and len(query_upstream_ortho):\n",
    "                if query_downstream_ortho[0] == query_upstream_ortho[0]:\n",
    "                    print(\"Orthogroups of up and downstream are the same. Gene_id: %s\" % gene_id)\n",
    "                    if len(subject_downstream_ortho) > 0 and len(query_upstream_ortho) >0 :\n",
    "                        obs_up_new, max_up_new = count_pairings(query_upstream_ortho, subject_downstream_ortho, simple=simple)\n",
    "                        obs_down_new, max_down_new = count_pairings(query_downstream_ortho, subject_upstream_ortho, simple=simple)\n",
    "                        if up_down_ratio([(obs_down_new, max_down_new), (obs_up_new, max_up_new)])\\\n",
    "                        > up_down_ratio([(obs_down, max_down), (obs_up, max_up)]):\n",
    "                        #think about if we also want to test for \n",
    "                        #(max_down_new+max_up_new) > (max_down, max_up) :\n",
    "                            obs_up, max_up = obs_up_new, max_up_new\n",
    "                            obs_down, max_down = obs_down_new, max_down_new\n",
    "            \n",
    "            \n",
    "            return [(obs_down, max_down), (obs_up, max_up)]\n",
    "        \n",
    "    if len(subject_downstream_ortho) > 0 and len(query_upstream_ortho) >0 :\n",
    "        if query_upstream_ortho[0] == subject_downstream_ortho[0]:\n",
    "            obs_up, max_up = count_pairings(query_upstream_ortho, subject_downstream_ortho, simple=simple)\n",
    "            obs_down, max_down = count_pairings(query_downstream_ortho, subject_upstream_ortho, simple=simple)\n",
    "            return [(obs_down, max_down), (obs_up, max_up)]\n",
    "        \n",
    "    if len(subject_downstream_ortho) > 0 and len(query_downstream_ortho) > 0:\n",
    "        if subject_downstream_ortho[0] == query_downstream_ortho[0]:\n",
    "            obs_up, max_up = count_pairings(query_upstream_ortho, subject_upstream_ortho, simple=simple)       \n",
    "            #now look at the downstream\n",
    "            obs_down, max_down = count_pairings(query_downstream_ortho, subject_downstream_ortho, simple=simple)\n",
    "            return [(obs_down, max_down), (obs_up, max_up)]\n",
    "    \n",
    "    return [(obs_down, max_down), (obs_up, max_up)]"
   ]
  },
  {
   "cell_type": "code",
   "execution_count": 32,
   "metadata": {
    "ExecuteTime": {
     "end_time": "2019-02-15T03:14:26.465172Z",
     "start_time": "2019-02-15T03:14:26.222993Z"
    },
    "collapsed": true
   },
   "outputs": [],
   "source": [
    "def count_pairings_array(query_ortho, subject_ortho, n=5, simple = False):\n",
    "    \"\"\"Function that does a pairwise by element comparison of two arrays.\n",
    "    In the simple = True mode this is a stricked 1:1 pairing.\n",
    "    In the simple = Flase mode this is a sliding window of 1 either way. E.g. position query 1 is compared\n",
    "    to position subject 0, 1 and 2.\n",
    "    Input: \n",
    "        query_ortho list\n",
    "        subject_orth list\n",
    "        n is the length of the comparison to be made.\n",
    "        simple True or False, default is Flase allowing for skiping of 1.\n",
    "    output:\n",
    "        result array that has the positional overlap of the array.\n",
    "        e.g. for n = 8 with one list being length 8 and the other length 6\n",
    "        [0, 1, 0, 1, 0, 1, nan, nan]\"\"\"\n",
    "    \n",
    "    array = np.empty(n)\n",
    "    array[:] = np.nan\n",
    "    array\n",
    "    \n",
    "    if simple == True:\n",
    "        #this is a simple 1:1 comparison for the two arrays.\n",
    "        #comparison is only possible till the shortest list is done.\n",
    "        for i in range(0, n):\n",
    "            if i < len(query_ortho) and i < len(subject_ortho):\n",
    "                if query_ortho[i] == subject_ortho[i]:\n",
    "                    array[i] = int(1)\n",
    "                else:\n",
    "                    array[i] = int(0)\n",
    "            else:\n",
    "                continue\n",
    "        return array\n",
    "            \n",
    "        \n",
    "    if simple == False:\n",
    "        #do a three point comparison when possible else do whats possible.\n",
    "        #retunr the array\n",
    "        for i in range(0, len(query_ortho)):\n",
    "            \n",
    "            if i == len(subject_ortho)-1:\n",
    "                if query_ortho[i] == subject_ortho[i-1] or query_ortho[i] == subject_ortho[i]:\n",
    "                    array[i] = int(1)\n",
    "                else:\n",
    "                    array[i] = int(0)\n",
    "            elif i > 0 and i < len(subject_ortho):    \n",
    "                if query_ortho[i] == subject_ortho[i] or query_ortho[i] == subject_ortho[i-1] \\\n",
    "                or query_ortho[i] == subject_ortho[i+1]:\n",
    "                    array[i] = int(1)\n",
    "                else:\n",
    "                    array[i] = int(0)\n",
    "\n",
    "            elif i == 0:\n",
    "                do_it = False\n",
    "                try:\n",
    "                    if query_ortho[i] == subject_ortho[i+1]:\n",
    "                        do_it = True\n",
    "                except IndexError:\n",
    "                        pass\n",
    "                try:\n",
    "                    if query_ortho[i] == subject_ortho[i]:\n",
    "                        do_it = True\n",
    "                except IndexError:\n",
    "                        pass\n",
    "                if do_it == True:\n",
    "                    array[i] = int(1)\n",
    "                else:\n",
    "                    array[i] = int(0)\n",
    "        return array\n",
    "        \n",
    "        "
   ]
  },
  {
   "cell_type": "raw",
   "metadata": {},
   "source": [
    "(array([  1.,   1.,   0.,   1.,   1.,  nan,  nan,  nan]), 5)"
   ]
  },
  {
   "cell_type": "code",
   "execution_count": 10,
   "metadata": {
    "ExecuteTime": {
     "end_time": "2019-02-15T02:57:35.293149Z",
     "start_time": "2019-02-15T02:57:35.278502Z"
    }
   },
   "outputs": [
    {
     "data": {
      "text/plain": [
       "array([  1.,   1.,   0.,  nan,  nan])"
      ]
     },
     "execution_count": 10,
     "metadata": {},
     "output_type": "execute_result"
    }
   ],
   "source": [
    "count_pairings_array([0, 1, 2, 6, 6, 7],[0, 0, 1], n=5)"
   ]
  },
  {
   "cell_type": "code",
   "execution_count": 12,
   "metadata": {
    "ExecuteTime": {
     "end_time": "2019-02-15T02:58:44.581153Z",
     "start_time": "2019-02-15T02:58:44.570389Z"
    }
   },
   "outputs": [
    {
     "data": {
      "text/plain": [
       "array([  1.,   1.,   1.,   0.,   0.,  nan])"
      ]
     },
     "execution_count": 12,
     "metadata": {},
     "output_type": "execute_result"
    }
   ],
   "source": [
    "#minimal testing\n",
    "count_pairings_array([0,0,1,4,6,8],[0,1,2,5,8], n=6)"
   ]
  },
  {
   "cell_type": "code",
   "execution_count": 35,
   "metadata": {
    "ExecuteTime": {
     "end_time": "2019-02-15T03:35:21.561249Z",
     "start_time": "2019-02-15T03:35:20.398960Z"
    },
    "collapsed": true
   },
   "outputs": [],
   "source": [
    "def get_up_and_down_array(gene_id, query_downstream_ortho,query_upstream_ortho, subject_bed_fn, n, simple):\n",
    "    ### TO-DO think about adding control on how to initially find pairings 0-0 and how to do the counting\n",
    "    ### of matches later.\n",
    "    \n",
    "    \"\"\"A function that returns a list two arrays. The first array is the for the downstream pairing the second for the\n",
    "    upstream pairing 1 being a match, 0 being no match, nan being no match possible.\n",
    "    Input: \n",
    "           Gene_id to check from the subject genome, e.g. initial orthogroup matches of query gene.\n",
    "           query_downstream_ortho is the list of downstream ortho groups from the gene_ids neighbours.\n",
    "           query_upstream_ortho is the list of upstream ortho groups from the gene_ids neighbours.\n",
    "           subject_bed_fn is the absolute path of the subject_bed_fn to get the neighbouring genes of the gene_id.\n",
    "           n is the numbers of neighbours to search.\n",
    "           simple can be True or False for searching without skiping (window of three) or with skipping enabled.\n",
    "    Output:\n",
    "           [down_array,up_array]\"\"\"\n",
    "    \n",
    "    \n",
    "    if simple not in [True, False]:\n",
    "        simple = False\n",
    "    \n",
    "    #get the ortho dictionaries for the gene_id which is an ortho hit of the query.\n",
    "    subject_upstream_ortho = [gene_to_ortho_dict[x] for x \\\n",
    "                              in get_neighbours(gene_id, subject_bed_fn, n=n, direction='up')]\n",
    "    subject_downstream_ortho = [gene_to_ortho_dict[x] for x \\\n",
    "                                in get_neighbours(gene_id, subject_bed_fn, n=n, direction='down')]\n",
    "    \n",
    "    #now move to empty arrays\n",
    "    \n",
    "    \n",
    "    #define in case something has no upstream or downstream hits\n",
    "    array = array = np.empty(n)\n",
    "    array[:] = np.nan\n",
    "    up_array, down_array = array, array\n",
    "    \n",
    "    if simple == True:\n",
    "        \n",
    "        if len(query_upstream_ortho) > 0 and len(subject_upstream_ortho) > 0: \n",
    "        #check the upstream upstream matching and ask if 0 in subject is 0 in the query  \n",
    "        #TO-DO check if we maybe want to do 0, 1 subject == 0 as well.\n",
    "            if query_upstream_ortho[0] == subject_upstream_ortho[0]:   \n",
    "                up_array = count_pairings_array(query_upstream_ortho, subject_upstream_ortho, n, simple=simple)       \n",
    "                #now look at the downstream\n",
    "                down_array = count_pairings_array(query_downstream_ortho, subject_downstream_ortho,n, simple=simple)\n",
    "\n",
    "                if len(query_downstream_ortho) > 0:\n",
    "                    if query_downstream_ortho[0] == subject_upstream_ortho[0]:\n",
    "                        print(\"Orthogroups of up and downstream are the same. Gene_id: %s\" % gene_id)\n",
    "                        up_array_new = count_pairings_array(query_upstream_ortho, subject_downstream_ortho, n, simple=simple)\n",
    "                        down_array_new = count_pairings_array(query_downstream_ortho, subject_upstream_ortho, n, simple=simple)\n",
    "                        #this compares if the one has more pairing then the other combination of possible \n",
    "                        #neighboorhood match arrays\n",
    "                        if up_down_ratio_array([down_array_new, up_array_new])\\\n",
    "                            > up_down_ratio_array([down_array, up_array]):\n",
    "                            #think about if we also want to test for \n",
    "                            #(max_down_new+max_up_new) > (max_down, max_up) :\n",
    "                            down_array, up_array = down_array_new, up_array_new\n",
    "\n",
    "\n",
    "                return [down_array, up_array]\n",
    "\n",
    "        if len(query_upstream_ortho) >0 and len(subject_downstream_ortho) > 0:\n",
    "            \n",
    "            if query_upstream_ortho[0] == subject_downstream_ortho[0]:\n",
    "                up_array = count_pairings_array(query_upstream_ortho, subject_downstream_ortho, n, simple=simple)\n",
    "                down_array = count_pairings_array(query_downstream_ortho, subject_upstream_ortho, n, simple=simple)\n",
    "                return [down_array, up_array]\n",
    "\n",
    "        if len(query_downstream_ortho) > 0 and len(subject_downstream_ortho) > 0: \n",
    "            if subject_downstream_ortho[0] == query_downstream_ortho[0]:\n",
    "                up_array = count_pairings_array(query_upstream_ortho, subject_upstream_ortho,n, simple=simple)       \n",
    "                #now look at the downstream\n",
    "                down_array = count_pairings(query_downstream_ortho, subject_downstream_ortho,n, simple=simple)\n",
    "                return [down_array, up_array]\n",
    "\n",
    "        return [down_array, up_array]\n",
    "    \n",
    "    elif simple == False:\n",
    "        \n",
    "        do_it = False\n",
    "        one_exists = False\n",
    "        \n",
    "        if len(query_upstream_ortho) > 0 and len(subject_upstream_ortho) > 0: \n",
    "            try:\n",
    "                if query_upstream_ortho[0] == subject_upstream_ortho[0] or \\\n",
    "                query_upstream_ortho[0] == subject_upstream_ortho[1]:\n",
    "                    do_it = True\n",
    "            \n",
    "            except IndexError:\n",
    "                if query_upstream_ortho[0] == subject_upstream_ortho[0]:\n",
    "                    do_it = True\n",
    "                    \n",
    "            if do_it == True:        \n",
    "                up_array = count_pairings_array(query_upstream_ortho, subject_upstream_ortho, n, simple=simple)       \n",
    "                #now look at the downstream\n",
    "                down_array = count_pairings_array(query_downstream_ortho, subject_downstream_ortho,n, simple=simple)\n",
    "\n",
    "                if len(query_downstream_ortho) > 0 and len(subject_upstream_ortho) > 0:\n",
    "                    do_it_too = False\n",
    "                    try:\n",
    "                        if query_downstream_ortho[0] == subject_upstream_ortho[0] or \\\n",
    "                        query_downstream_ortho[0] == subject_upstream_ortho[1]:\n",
    "                            do_it_too = True\n",
    "                    except IndexError:\n",
    "                        if query_downstream_ortho[0] == subject_upstream_ortho[0]:\n",
    "                            do_it_too = True\n",
    "                            \n",
    "                        if do_it_too == True:\n",
    "                            print(\"Orthogroups of up and downstream are the same. Gene_id: %s\" % gene_id)\n",
    "                            up_array_new = count_pairings_array(query_upstream_ortho, subject_downstream_ortho, n, simple=simple)\n",
    "                            down_array_new = count_pairings_array(query_downstream_ortho, subject_upstream_ortho, n, simple=simple)\n",
    "                            if up_down_ratio_array([down_array_new, up_array_new])\\\n",
    "                                > up_down_ratio_array([down_array, up_array]):\n",
    "                                #think about if we also want to test for \n",
    "                                #(max_down_new+max_up_new) > (max_down, max_up) :\n",
    "                                down_array, up_array = down_array_new, up_array_new\n",
    "\n",
    "\n",
    "                    return [down_array, up_array]\n",
    "\n",
    "        if len(query_upstream_ortho) >0 and len(subject_downstream_ortho) > 0:\n",
    "            try:\n",
    "                \n",
    "                if query_upstream_ortho[0] == subject_downstream_ortho[0] or \\\n",
    "                query_upstream_ortho[0] == subject_downstream_ortho[1]:\n",
    "                    do_it = True\n",
    "            except IndexError:\n",
    "                if query_upstream_ortho[0] == subject_downstream_ortho[0]:\n",
    "                    do_it = True\n",
    "            if do_it == True:\n",
    "                up_array = count_pairings_array(query_upstream_ortho, subject_downstream_ortho, n, simple=simple)\n",
    "                down_array = count_pairings_array(query_downstream_ortho, subject_upstream_ortho, n, simple=simple)\n",
    "                return [down_array, up_array]\n",
    "\n",
    "        if len(query_downstream_ortho) > 0 and len(subject_downstream_ortho) > 0:\n",
    "            try: \n",
    "                if subject_downstream_ortho[0] == query_downstream_ortho[0] or \\\n",
    "                subject_downstream_ortho[0] == query_downstream_ortho[1]:\n",
    "                    do_it = True\n",
    "            except IndexError:\n",
    "                if subject_downstream_ortho[0] == query_downstream_ortho[0]:\n",
    "                    do_it = True\n",
    "            if do_it == True:\n",
    "                up_array = count_pairings_array(query_upstream_ortho, subject_upstream_ortho,n, simple=simple)       \n",
    "                    #now look at the downstream\n",
    "                down_array = count_pairings_array(query_downstream_ortho, subject_downstream_ortho,n, simple=simple)\n",
    "                return [down_array, up_array]\n",
    "\n",
    "        return [down_array, up_array]"
   ]
  },
  {
   "cell_type": "code",
   "execution_count": 14,
   "metadata": {
    "ExecuteTime": {
     "end_time": "2019-02-15T03:00:36.793182Z",
     "start_time": "2019-02-15T03:00:36.775049Z"
    },
    "collapsed": true
   },
   "outputs": [],
   "source": [
    "def array_to_tuple(array_list):\n",
    "    \"\"\"Converts arrays to (obs, max_poss_obs) tuples ignoring nans.\"\"\"\n",
    "    if len(array_list) != 2:\n",
    "        print('The length of the list is not 2.')\n",
    "        return 0\n",
    "    tuple_list = []\n",
    "    for array in array_list:\n",
    "        tuple_list.append(((np.nan_to_num(array)).sum(),np.count_nonzero(~np.isnan(array)) ))\n",
    "    return tuple_list"
   ]
  },
  {
   "cell_type": "code",
   "execution_count": 37,
   "metadata": {
    "ExecuteTime": {
     "end_time": "2019-02-15T03:38:57.713155Z",
     "start_time": "2019-02-15T03:38:57.685377Z"
    },
    "collapsed": true
   },
   "outputs": [],
   "source": [
    "def up_down_ratio_array(up_down_list):\n",
    "    \"\"\"Returns the ratio of observed matches over possible matches of both down and up array together.\"\"\"\n",
    "    if len(up_down_list) != 2:\n",
    "        print('The length of the list is not 2.')\n",
    "        return 0\n",
    "    sum_observed = np.nan_to_num(up_down_list[0]).sum() + np.nan_to_num(up_down_list[1]).sum()\n",
    "    sum_possible = np.count_nonzero(~np.isnan(up_down_list[0])) + np.count_nonzero(~np.isnan(up_down_list[1]))\n",
    "    if sum_possible > 0:\n",
    "        \n",
    "        return sum_observed/sum_possible\n",
    "    else:\n",
    "        return 0"
   ]
  },
  {
   "cell_type": "code",
   "execution_count": 52,
   "metadata": {
    "ExecuteTime": {
     "end_time": "2019-02-15T03:52:13.957173Z",
     "start_time": "2019-02-15T03:52:13.935400Z"
    },
    "collapsed": true
   },
   "outputs": [],
   "source": [
    "def up_down_ratio(up_down_list):\n",
    "    \"\"\"Up down ratio for tuples (obs, max_poss_obs).\"\"\"\n",
    "    if len(up_down_list) == 0:\n",
    "        return 0\n",
    "    if (up_down_list[0][1] + up_down_list[1][1]) > 0:\n",
    "        ratio = (up_down_list[0][0] + up_down_list[1][0]) / (up_down_list[0][1] + up_down_list[1][1])\n",
    "        return ratio\n",
    "    else:\n",
    "        return 0"
   ]
  },
  {
   "cell_type": "code",
   "execution_count": 38,
   "metadata": {
    "ExecuteTime": {
     "end_time": "2019-02-15T03:39:11.985145Z",
     "start_time": "2019-02-15T03:39:11.970469Z"
    },
    "collapsed": true
   },
   "outputs": [],
   "source": [
    "#generate dicts that will be used to track things\n",
    "allele_dict = {}\n",
    "singleton_dict = {}\n",
    "paralog_dict = {}\n",
    "up_match_dict = {}\n",
    "down_match_dict = {}"
   ]
  },
  {
   "cell_type": "code",
   "execution_count": 39,
   "metadata": {
    "ExecuteTime": {
     "end_time": "2019-02-15T03:39:12.601175Z",
     "start_time": "2019-02-15T03:39:12.498343Z"
    },
    "collapsed": true
   },
   "outputs": [],
   "source": [
    "#get the identifiers if not provided.\n",
    "query_id = pd.read_csv(QUERY_GENOME_GENE_BED6, sep='\\t', header=None).loc[0,[3]][3].split('_')[0]\n",
    "subject_id = pd.read_csv(SUBJECT_GENOME_GENE_BED6, sep='\\t', header=None).loc[0,[3]][3].split('_')[0]"
   ]
  },
  {
   "cell_type": "code",
   "execution_count": 40,
   "metadata": {
    "ExecuteTime": {
     "end_time": "2019-02-15T03:39:14.713252Z",
     "start_time": "2019-02-15T03:39:13.266514Z"
    },
    "collapsed": true
   },
   "outputs": [],
   "source": [
    "#get the orthofinder results read in\n",
    "#this is the dict for all orthogroups and what members they have\n",
    "orthofinder_dict = get_ortho_dict(ORTHOFINDER_FILE_NAME)"
   ]
  },
  {
   "cell_type": "code",
   "execution_count": 41,
   "metadata": {
    "ExecuteTime": {
     "end_time": "2019-02-15T03:39:15.825205Z",
     "start_time": "2019-02-15T03:39:15.206674Z"
    }
   },
   "outputs": [],
   "source": [
    "#this is the dict for proteins and what orthogroup they have\n",
    "gene_to_ortho_dict = get_gene_to_ortho_dict(orthofinder_dict)"
   ]
  },
  {
   "cell_type": "code",
   "execution_count": 42,
   "metadata": {
    "ExecuteTime": {
     "end_time": "2019-02-15T03:39:15.973147Z",
     "start_time": "2019-02-15T03:39:15.962249Z"
    }
   },
   "outputs": [
    {
     "name": "stdout",
     "output_type": "stream",
     "text": [
      "['DK0911_15056']\n"
     ]
    }
   ],
   "source": [
    "#gene_id = 'Pst104E_00003'\n",
    "gene_id = 'Pst104E_00000'\n",
    "print([x for x in orthofinder_dict[gene_to_ortho_dict[gene_id]]if x.startswith('DK0911')])\n",
    "n=8\n",
    "simple = False"
   ]
  },
  {
   "cell_type": "code",
   "execution_count": 43,
   "metadata": {
    "ExecuteTime": {
     "end_time": "2019-02-15T03:39:17.153173Z",
     "start_time": "2019-02-15T03:39:17.022344Z"
    },
    "collapsed": true
   },
   "outputs": [],
   "source": [
    "#populate the query arrays for neighbours and their corresponding ortho group ids\n",
    "query_upstream = get_neighbours(gene_id, QUERY_GENOME_GENE_BED6, n=n, direction='up')\n",
    "query_downstream = get_neighbours(gene_id, QUERY_GENOME_GENE_BED6, n=n, direction='down')\n",
    "query_upstream_ortho = [gene_to_ortho_dict[x] for x in query_upstream]\n",
    "query_downstream_ortho = [gene_to_ortho_dict[x] for x in query_downstream]"
   ]
  },
  {
   "cell_type": "code",
   "execution_count": 44,
   "metadata": {
    "ExecuteTime": {
     "end_time": "2019-02-15T03:39:19.585152Z",
     "start_time": "2019-02-15T03:39:19.246381Z"
    }
   },
   "outputs": [
    {
     "name": "stdout",
     "output_type": "stream",
     "text": [
      "[array([ nan,  nan,  nan,  nan,  nan,  nan,  nan,  nan]), array([ 1.,  1.,  1.,  1.,  1.,  0.,  1.,  1.])]\n"
     ]
    }
   ],
   "source": [
    "#get the first orthologs (aka potential allele pairings)\n",
    "first_orthologs = get_orthologs(gene_id, gene_to_ortho_dict, orthofinder_dict, subject_id)\n",
    "if len(first_orthologs) == 0:\n",
    "    singleton_dict[gene_id] = True\n",
    "elif len(first_orthologs) == 1:\n",
    "    down_up_list = get_up_and_down_array(first_orthologs[0],\\\n",
    "                        query_downstream_ortho,query_upstream_ortho, SUBJECT_GENOME_GENE_BED6,\\\n",
    "                                         n=n, simple=simple)\n",
    "    down_match_dict[gene_id], up_match_dict[gene_id] = down_up_list[0], down_up_list[1]\n",
    "    if sum((~np.isnan(down_up_list[0]))) > 0 and sum((~np.isnan(down_up_list[1]))) > 0:\n",
    "        allele_dict[gene_id] = first_orthologs[0]\n",
    "    else:\n",
    "        paralog_dict[gene_id] = first_orthologs[0]\n",
    "elif len(first_orthologs) > 1:\n",
    "    ortho_dict = {}\n",
    "    for ortho in first_orthologs:\n",
    "        down_up_list = get_up_and_down_array(ortho,query_downstream_ortho,query_upstream_ortho,\\\n",
    "                                           SUBJECT_GENOME_GENE_BED6, n=n, simple=simple)\n",
    "        if sum((~np.isnan(down_up_list[0]))) == 0 and sum((~np.isnan(down_up_list[1]))) == 0:\n",
    "            continue\n",
    "        else:\n",
    "            ortho_dict[ortho] = down_up_list\n",
    "    \n",
    "    \n",
    "    max_list = [(0,0), (0,0)]\n",
    "    real_ortho = ''\n",
    "    real_ortho_list = []\n",
    "    \n",
    "    for ortho, ortho_list in ortho_dict.items():\n",
    "        ortho_tuple_list = array_to_tuple(ortho_list)\n",
    "        if up_down_ratio(ortho_tuple_list) > up_down_ratio(max_list):\n",
    "            print(ortho_tuple_list)\n",
    "            max_list = ortho_list\n",
    "            real_ortho = ortho\n",
    "            real_ortho_list = ortho_list\n",
    "            down_up_list = real_ortho_list\n",
    "    if max_list != [(0,0), (0,0)]:\n",
    "        allele_dict[gene_id] = real_ortho\n",
    "        down_match_dict[gene_id], up_match_dict[gene_id] = ortho_list[0], ortho_list[1]\n",
    "    else:\n",
    "        paralog_dict[gene_id] = list(ortho_dict.keys())\n",
    "\n",
    "print(down_up_list)\n",
    "#think about catching paralogs meaning that +1/-1 are not in the same orthogroup"
   ]
  },
  {
   "cell_type": "code",
   "execution_count": 45,
   "metadata": {
    "ExecuteTime": {
     "end_time": "2019-02-15T03:39:23.669153Z",
     "start_time": "2019-02-15T03:39:23.658406Z"
    }
   },
   "outputs": [
    {
     "data": {
      "text/plain": [
       "{'Pst104E_00000': array([ nan,  nan,  nan,  nan,  nan,  nan,  nan,  nan])}"
      ]
     },
     "execution_count": 45,
     "metadata": {},
     "output_type": "execute_result"
    }
   ],
   "source": [
    "down_match_dict"
   ]
  },
  {
   "cell_type": "code",
   "execution_count": 46,
   "metadata": {
    "ExecuteTime": {
     "end_time": "2019-02-15T03:39:25.597184Z",
     "start_time": "2019-02-15T03:39:25.586340Z"
    }
   },
   "outputs": [
    {
     "data": {
      "text/plain": [
       "{'Pst104E_00000': array([ 1.,  1.,  1.,  1.,  1.,  0.,  1.,  1.])}"
      ]
     },
     "execution_count": 46,
     "metadata": {},
     "output_type": "execute_result"
    }
   ],
   "source": [
    "up_match_dict"
   ]
  },
  {
   "cell_type": "code",
   "execution_count": 47,
   "metadata": {
    "ExecuteTime": {
     "end_time": "2019-02-15T03:39:26.465272Z",
     "start_time": "2019-02-15T03:39:26.438496Z"
    }
   },
   "outputs": [
    {
     "name": "stdout",
     "output_type": "stream",
     "text": [
      "[] [9613, 8683, 28, 5025, 15028, 37814, 12676, 39656]\n"
     ]
    }
   ],
   "source": [
    "print(query_downstream_ortho, query_upstream_ortho)"
   ]
  },
  {
   "cell_type": "code",
   "execution_count": 48,
   "metadata": {
    "ExecuteTime": {
     "end_time": "2019-02-15T03:39:27.645144Z",
     "start_time": "2019-02-15T03:39:27.454753Z"
    }
   },
   "outputs": [
    {
     "name": "stdout",
     "output_type": "stream",
     "text": [
      "[] [9613, 8683, 28, 5025, 15028, 12676, 39656, 8482]\n"
     ]
    }
   ],
   "source": [
    "if len(first_orthologs) == 1:\n",
    "    subject_ortho_up = [gene_to_ortho_dict[x] for x in get_neighbours(first_orthologs[0], SUBJECT_GENOME_GENE_BED6, n=n, direction='up')]\n",
    "    subject_ortho_down = [gene_to_ortho_dict[x] for x in get_neighbours(first_orthologs[0], SUBJECT_GENOME_GENE_BED6, n=n, direction='down')]\n",
    "elif len(first_orthologs) > 1:\n",
    "    subject_ortho_up = [gene_to_ortho_dict[x] for x in get_neighbours(real_ortho, SUBJECT_GENOME_GENE_BED6, n=n, direction='up')]\n",
    "    subject_ortho_down = [gene_to_ortho_dict[x] for x in get_neighbours(real_ortho, SUBJECT_GENOME_GENE_BED6, n=n, direction='down')]\n",
    "\n",
    "print(subject_ortho_down, subject_ortho_up)    \n",
    "\n",
    "    "
   ]
  },
  {
   "cell_type": "code",
   "execution_count": 49,
   "metadata": {
    "ExecuteTime": {
     "end_time": "2019-02-15T03:39:30.177172Z",
     "start_time": "2019-02-15T03:39:30.042434Z"
    }
   },
   "outputs": [
    {
     "data": {
      "text/plain": [
       "[array([ nan,  nan,  nan,  nan,  nan,  nan,  nan,  nan]),\n",
       " array([ 1.,  1.,  1.,  1.,  1.,  0.,  1.,  1.])]"
      ]
     },
     "execution_count": 49,
     "metadata": {},
     "output_type": "execute_result"
    }
   ],
   "source": [
    "get_up_and_down_array(first_orthologs[0],\\\n",
    "                        query_downstream_ortho,query_upstream_ortho, SUBJECT_GENOME_GENE_BED6,\\\n",
    "                                         n=n, simple=simple)"
   ]
  },
  {
   "cell_type": "code",
   "execution_count": 50,
   "metadata": {
    "ExecuteTime": {
     "end_time": "2019-02-15T03:39:30.765199Z",
     "start_time": "2019-02-15T03:39:30.630749Z"
    }
   },
   "outputs": [
    {
     "name": "stdout",
     "output_type": "stream",
     "text": [
      "[array([ nan,  nan,  nan,  nan,  nan,  nan,  nan,  nan]), array([ 1.,  1.,  1.,  1.,  1.,  0.,  1.,  1.])]\n"
     ]
    }
   ],
   "source": [
    "for x in first_orthologs:\n",
    "    print(get_up_and_down_array(x,\\\n",
    "                        query_downstream_ortho,query_upstream_ortho, SUBJECT_GENOME_GENE_BED6,\\\n",
    "                                         n=n, simple=simple))"
   ]
  },
  {
   "cell_type": "code",
   "execution_count": null,
   "metadata": {
    "ExecuteTime": {
     "start_time": "2019-02-15T04:55:37.227Z"
    }
   },
   "outputs": [],
   "source": [
    "#testing set loop\n",
    "gene_done_list = []\n",
    "for x in range(0,1000):\n",
    "    if x < 10:\n",
    "        gene_id = 'Pst104E_0000%s' % x\n",
    "    elif x < 100:\n",
    "        gene_id = 'Pst104E_000%s' % x\n",
    "    elif x < 1000:\n",
    "        gene_id = 'Pst104E_00%s' % x\n",
    "    gene_done_list.append(gene_id)\n",
    "    #now some testing here    \n",
    "    query_upstream = get_neighbours(gene_id, QUERY_GENOME_GENE_BED6, n=n, direction='up')\n",
    "    query_downstream = get_neighbours(gene_id, QUERY_GENOME_GENE_BED6, n=n, direction='down')\n",
    "    query_upstream_ortho = [gene_to_ortho_dict[x] for x in query_upstream]\n",
    "    query_downstream_ortho = [gene_to_ortho_dict[x] for x in query_downstream]\n",
    "    \n",
    "    first_orthologs = get_orthologs(gene_id, gene_to_ortho_dict, orthofinder_dict, subject_id)\n",
    "    if len(first_orthologs) == 0:\n",
    "        #if we don't have an ortho hit put it in the singleton dict\n",
    "        singleton_dict[gene_id] = True\n",
    "    elif len(first_orthologs) == 1:\n",
    "        down_up_list = get_up_and_down_array(first_orthologs[0],\\\n",
    "                            query_downstream_ortho,query_upstream_ortho, SUBJECT_GENOME_GENE_BED6,\\\n",
    "                                             n=n, simple=simple)\n",
    "        down_match_dict[gene_id], up_match_dict[gene_id] = down_up_list[0], down_up_list[1]\n",
    "        \n",
    "        #this here defines \"alleles\". Alleles are genes where the immediate neighbour is conserved.\n",
    "        #consider simple True/False here.\n",
    "        try:\n",
    "            if down_up_list[0][0] == 1 and down_up_list[1][0] == 1:\n",
    "                allele_dict[gene_id] = first_orthologs[0]\n",
    "            else:\n",
    "                paralog_dict[gene_id] = first_orthologs[0]\n",
    "        except IndexError:\n",
    "                paralog_dict[gene_id] = first_orthologs[0]\n",
    "    \n",
    "    elif len(first_orthologs) > 1:\n",
    "        #generate a potential ortho_dict that stores the options\n",
    "        #afterwards we loop over the option and see what is best.\n",
    "        ortho_dict = {}\n",
    "        for ortho in first_orthologs:\n",
    "            down_up_list = get_up_and_down_array(ortho,query_downstream_ortho,query_upstream_ortho,\\\n",
    "                                               SUBJECT_GENOME_GENE_BED6, n=n, simple=simple)\n",
    "            if sum((~np.isnan(down_up_list[0]))) == 0 and sum((~np.isnan(down_up_list[1]))) == 0:\n",
    "                continue\n",
    "            else:\n",
    "                ortho_dict[ortho] = down_up_list\n",
    "\n",
    "\n",
    "        max_list = [(0,0), (0,0)]\n",
    "        real_ortho = ''\n",
    "        real_ortho_list = []\n",
    "        \n",
    "        #this loop intentifies the best ortho hit. If two get the best score\n",
    "        #the first one is kept. has a change element.\n",
    "        #TO-DO consider how splits are handled better.\n",
    "        for ortho, ortho_list in ortho_dict.items():\n",
    "            ortho_tuple_list = array_to_tuple(ortho_list)\n",
    "            if up_down_ratio(ortho_tuple_list) > up_down_ratio(max_list):\n",
    "                print(ortho_tuple_list)\n",
    "                max_list = ortho_tuple_list\n",
    "                real_ortho = ortho\n",
    "                real_ortho_list = ortho_list\n",
    "        \n",
    "        if max_list != [(0,0), (0,0)]:\n",
    "            down_match_dict[gene_id], up_match_dict[gene_id] = real_ortho_list[0], real_ortho_list[1]\n",
    "        \n",
    "        #this is how alleles and paralogs are defined.\n",
    "        #TO-DO consider if paralogs should be treated differently then simply assiging all in the\n",
    "        #ortho dict\n",
    "        try:\n",
    "            if real_ortho_list[0][0] == 1 and real_ortho_list[1][0] == 1:\n",
    "                allele_dict[gene_id] = real_ortho\n",
    "            else:\n",
    "                paralog_dict[gene_id] = list(ortho_dict.keys())\n",
    "        except IndexError:\n",
    "            paralog_dict[gene_id] = list(ortho_dict.keys())\n",
    "        print('Done comparing!')"
   ]
  },
  {
   "cell_type": "code",
   "execution_count": 55,
   "metadata": {
    "ExecuteTime": {
     "end_time": "2019-02-15T04:49:57.265145Z",
     "start_time": "2019-02-15T04:49:57.258605Z"
    }
   },
   "outputs": [
    {
     "name": "stdout",
     "output_type": "stream",
     "text": [
      "Pst104E_00110\n"
     ]
    }
   ],
   "source": [
    "#problem gene_id\n",
    "print(gene_id)"
   ]
  },
  {
   "cell_type": "code",
   "execution_count": null,
   "metadata": {
    "collapsed": true
   },
   "outputs": [],
   "source": []
  },
  {
   "cell_type": "raw",
   "metadata": {},
   "source": [
    "<ipython-input-72-cc707f5a2a2e> in count_pairings_array(query_ortho, subject_ortho, n, simple)\n",
    "     47                 try:\n",
    "---> 48                     if query_ortho[i] == subject_ortho[i] or query_ortho[i] == subject_ortho[i+1]:\n",
    "     49                         do_it = True"
   ]
  },
  {
   "cell_type": "code",
   "execution_count": 56,
   "metadata": {
    "ExecuteTime": {
     "end_time": "2019-02-15T04:50:16.583172Z",
     "start_time": "2019-02-15T04:50:16.574423Z"
    }
   },
   "outputs": [
    {
     "name": "stdout",
     "output_type": "stream",
     "text": [
      "[4978, 2810, 11103, 7975, 8222, 19, 19, 19] [4820, 94583, 1646, 5912, 22866, 1622, 7956, 4516]\n"
     ]
    }
   ],
   "source": [
    "print(query_downstream_ortho, query_upstream_ortho)"
   ]
  },
  {
   "cell_type": "code",
   "execution_count": null,
   "metadata": {
    "ExecuteTime": {
     "end_time": "2019-02-12T03:22:57.516613Z",
     "start_time": "2019-02-12T03:22:57.508534Z"
    },
    "collapsed": true
   },
   "outputs": [],
   "source": [
    "down_match_dict"
   ]
  },
  {
   "cell_type": "code",
   "execution_count": null,
   "metadata": {
    "ExecuteTime": {
     "end_time": "2019-02-12T03:23:13.274290Z",
     "start_time": "2019-02-12T03:23:13.268939Z"
    },
    "collapsed": true
   },
   "outputs": [],
   "source": [
    "query_upstream"
   ]
  },
  {
   "cell_type": "code",
   "execution_count": null,
   "metadata": {
    "collapsed": true
   },
   "outputs": [],
   "source": [
    "'DK0911_15063'"
   ]
  },
  {
   "cell_type": "code",
   "execution_count": 58,
   "metadata": {
    "ExecuteTime": {
     "end_time": "2019-02-15T04:50:41.833223Z",
     "start_time": "2019-02-15T04:50:41.786852Z"
    },
    "collapsed": true
   },
   "outputs": [],
   "source": [
    "import pandas as pd"
   ]
  },
  {
   "cell_type": "code",
   "execution_count": 59,
   "metadata": {
    "ExecuteTime": {
     "end_time": "2019-02-15T04:50:42.445236Z",
     "start_time": "2019-02-15T04:50:42.355941Z"
    },
    "collapsed": true
   },
   "outputs": [],
   "source": [
    "down_match_df = pd.DataFrame.from_dict(down_match_dict).T\n",
    "up_match_df = pd.DataFrame.from_dict(up_match_dict).T"
   ]
  },
  {
   "cell_type": "code",
   "execution_count": 60,
   "metadata": {
    "ExecuteTime": {
     "end_time": "2019-02-15T04:50:43.001218Z",
     "start_time": "2019-02-15T04:50:42.954398Z"
    }
   },
   "outputs": [],
   "source": [
    "up_match_df.to_csv(os.path.join(OUT_PATH, '14022019_up_match_df.csv'))\n",
    "down_match_df.to_csv(os.path.join(OUT_PATH, '14022019_down_match_df.csv'))"
   ]
  },
  {
   "cell_type": "code",
   "execution_count": null,
   "metadata": {
    "ExecuteTime": {
     "end_time": "2019-02-12T07:50:28.303975Z",
     "start_time": "2019-02-12T07:50:28.251424Z"
    }
   },
   "outputs": [],
   "source": [
    "#check on only NaNs before proceeding\n",
    "up_match_df"
   ]
  },
  {
   "cell_type": "code",
   "execution_count": null,
   "metadata": {
    "collapsed": true
   },
   "outputs": [],
   "source": [
    "gene_done_list = []\n",
    "for x in range(0,1000):\n",
    "    if x < 10:\n",
    "        gene_id = 'Pst104E_0000%s' % x\n",
    "    elif x < 100:\n",
    "        gene_id = 'Pst104E_000%s' % x\n",
    "    elif x < 1000:\n",
    "        gene_id = 'Pst104E_00%s' % x\n",
    "    gene_done_list.append(gene_id)\n",
    "    #now some testing here    \n",
    "    query_upstream = get_neighbours(gene_id, QUERY_GENOME_GENE_BED6, n=n, direction='up')\n",
    "    query_downstream = get_neighbours(gene_id, QUERY_GENOME_GENE_BED6, n=n, direction='down')\n",
    "    query_upstream_ortho = [gene_to_ortho_dict[x] for x in query_upstream]\n",
    "    query_downstream_ortho = [gene_to_ortho_dict[x] for x in query_downstream]\n",
    "    \n",
    "    first_orthologs = get_orthologs(gene_id, gene_to_ortho_dict, orthofinder_dict, subject_id)\n",
    "    if len(first_orthologs) == 0:\n",
    "        singleton_dict[gene_id] = True\n",
    "    elif len(first_orthologs) == 1:\n",
    "        up_and_down_list = get_up_and_down(first_orthologs[0],query_downstream_ortho,query_upstream_ortho, SUBJECT_GENOME_GENE_BED6, n=n, simple=simple)\n",
    "        up_down_dict[gene_id] = up_and_down_list\n",
    "        if up_and_down_list[0][0] > 0 and up_and_down_list[1][0] > 0:\n",
    "            allele_dict[gene_id] = first_orthologs[0]\n",
    "        else:\n",
    "            paralog_dict[gene_id] = first_orthologs[0]\n",
    "    elif len(first_orthologs) > 1:\n",
    "        ortho_dict = {}\n",
    "        for ortho in first_orthologs:\n",
    "            up_and_down_list = get_up_and_down(ortho,query_downstream_ortho,query_upstream_ortho, SUBJECT_GENOME_GENE_BED6, n=n, simple=simple)\n",
    "            if up_and_down_list[0][0] == 0 and up_and_down_list[1][0] == 0:\n",
    "                continue\n",
    "            else:\n",
    "                ortho_dict[ortho] = up_and_down_list\n",
    "        max_list = [(0,0), (0,0)]\n",
    "        for ortho, ortho_list in ortho_dict.items():\n",
    "            if up_down_ratio(ortho_list) > up_down_ratio(max_list) and ortho_list[0][0] > 0 and ortho_list[1][0] >0:\n",
    "                max_list = ortho_list\n",
    "        if max_list[0][0] > 0 and max_list[1][0] > 0:\n",
    "            allele_dict[gene_id] = first_orthologs[0]\n",
    "        else:\n",
    "            paralog_dict[gene_id] = first_orthologs[0] "
   ]
  },
  {
   "cell_type": "markdown",
   "metadata": {},
   "source": [
    "### get in the ideas of np arrarys"
   ]
  },
  {
   "cell_type": "code",
   "execution_count": null,
   "metadata": {
    "ExecuteTime": {
     "end_time": "2019-02-11T06:12:43.014789Z",
     "start_time": "2019-02-11T06:12:43.004681Z"
    },
    "collapsed": true
   },
   "outputs": [],
   "source": [
    "array = np.empty(8)\n",
    "array[:] = np.nan\n",
    "array"
   ]
  },
  {
   "cell_type": "code",
   "execution_count": null,
   "metadata": {
    "ExecuteTime": {
     "end_time": "2019-02-11T06:10:06.451580Z",
     "start_time": "2019-02-11T06:10:06.439046Z"
    },
    "collapsed": true
   },
   "outputs": [],
   "source": [
    "array = np.empty(8)\n",
    "array[:] = np.nan\n",
    "array\n",
    "array[2] = int(1)\n",
    "\n",
    "np.count_nonzero(np.isnan(array))\n"
   ]
  },
  {
   "cell_type": "code",
   "execution_count": null,
   "metadata": {
    "ExecuteTime": {
     "end_time": "2019-02-11T06:10:11.998769Z",
     "start_time": "2019-02-11T06:10:11.989895Z"
    },
    "collapsed": true
   },
   "outputs": [],
   "source": [
    "[array, array]"
   ]
  },
  {
   "cell_type": "code",
   "execution_count": null,
   "metadata": {
    "ExecuteTime": {
     "end_time": "2019-01-07T06:34:15.108102Z",
     "start_time": "2019-01-07T06:34:15.100410Z"
    },
    "collapsed": true
   },
   "outputs": [],
   "source": [
    "np.concatenate((array,array),axis=0)"
   ]
  },
  {
   "cell_type": "code",
   "execution_count": null,
   "metadata": {
    "ExecuteTime": {
     "end_time": "2019-01-07T06:31:44.657692Z",
     "start_time": "2019-01-07T06:31:44.650590Z"
    },
    "collapsed": true
   },
   "outputs": [],
   "source": [
    "array + array"
   ]
  },
  {
   "cell_type": "code",
   "execution_count": null,
   "metadata": {
    "collapsed": true
   },
   "outputs": [],
   "source": [
    "singleton_dict"
   ]
  },
  {
   "cell_type": "code",
   "execution_count": null,
   "metadata": {
    "collapsed": true
   },
   "outputs": [],
   "source": [
    "allele_list = list(allele_dict.keys())\n",
    "singleton_list = list(singleton_dict.keys())\n",
    "paralogs_list = list(paralog_dict.keys())"
   ]
  },
  {
   "cell_type": "code",
   "execution_count": null,
   "metadata": {
    "collapsed": true
   },
   "outputs": [],
   "source": [
    "set(gene_done_list) - set(allele_list) - set(singleton_list) - set(paralogs_list)"
   ]
  },
  {
   "cell_type": "code",
   "execution_count": null,
   "metadata": {
    "collapsed": true
   },
   "outputs": [],
   "source": [
    "up_down_dict.keys()"
   ]
  },
  {
   "cell_type": "code",
   "execution_count": null,
   "metadata": {
    "collapsed": true
   },
   "outputs": [],
   "source": [
    "up_and_down_list[0][0]"
   ]
  },
  {
   "cell_type": "code",
   "execution_count": null,
   "metadata": {
    "collapsed": true
   },
   "outputs": [],
   "source": [
    "first_orthologs"
   ]
  },
  {
   "cell_type": "markdown",
   "metadata": {},
   "source": [
    "#now we need to work on the case when we have multiple orthologs. This will be done on a 1:1 basis moving outward if the first neighbours match return a 1.\n",
    "#if in the first round nothing matches don't move forward. Just return all possible paraloge pairings.\n",
    "#if multiple match move one further out and add half a point for each match either side.\n",
    "#still need to think about missing orthologs from the original search and how to pull those in  "
   ]
  },
  {
   "cell_type": "code",
   "execution_count": null,
   "metadata": {
    "collapsed": true
   },
   "outputs": [],
   "source": [
    "def up_down_ratio(up_down_list):\n",
    "    if len(up_and_down_list) == 0:\n",
    "        return 0\n",
    "    if (up_and_down_list[0][1] + up_and_down_list[1][1]) > 0:\n",
    "        ratio = (up_and_down_list[0][0] + up_and_down_list[1][0]) / (up_and_down_list[0][1] + up_and_down_list[1][1])\n",
    "        return ratio\n",
    "    else:\n",
    "        return 0"
   ]
  },
  {
   "cell_type": "code",
   "execution_count": null,
   "metadata": {
    "collapsed": true
   },
   "outputs": [],
   "source": [
    "ortho_dict = {}\n",
    "for ortho in first_orthologs:\n",
    "    print(ortho)\n",
    "    up_and_down_list = get_up_and_down(ortho,query_downstream_ortho,query_upstream_ortho, SUBJECT_GENOME_GENE_BED6, n=n, simple=simple)\n",
    "    if up_and_down_list[0][0] == 0 and up_and_down_list[1][0] == 0:\n",
    "        continue\n",
    "    else:\n",
    "        ortho_dict[ortho] = up_and_down_list\n",
    "max_list = [(0,0), (0,0)]\n",
    "for ortho, ortho_list in ortho_dict.items():\n",
    "    if up_down_ratio(max_list) < up_down_ratio(ortho_list):\n",
    "        max_list = ortho_list\n"
   ]
  },
  {
   "cell_type": "code",
   "execution_count": null,
   "metadata": {
    "collapsed": true
   },
   "outputs": [],
   "source": [
    "ortho_dict"
   ]
  },
  {
   "cell_type": "code",
   "execution_count": null,
   "metadata": {
    "collapsed": true
   },
   "outputs": [],
   "source": [
    "broken = ortho\n",
    "gene_to_ortho_dict[ortho]"
   ]
  },
  {
   "cell_type": "code",
   "execution_count": null,
   "metadata": {
    "collapsed": true
   },
   "outputs": [],
   "source": [
    "print([gene_to_ortho_dict[x] for x in get_neighbours(ortho, SUBJECT_GENOME_GENE_BED6, n=n, direction='up')])\n",
    "print([gene_to_ortho_dict[x] for x in get_neighbours(ortho, SUBJECT_GENOME_GENE_BED6, n=n, direction='down')])"
   ]
  },
  {
   "cell_type": "code",
   "execution_count": null,
   "metadata": {
    "collapsed": true
   },
   "outputs": [],
   "source": [
    "ortho"
   ]
  },
  {
   "cell_type": "code",
   "execution_count": null,
   "metadata": {
    "collapsed": true
   },
   "outputs": [],
   "source": []
  },
  {
   "cell_type": "code",
   "execution_count": null,
   "metadata": {
    "collapsed": true
   },
   "outputs": [],
   "source": [
    "#get the first orthologs (aka potential allele pairings)\n",
    "first_orthologs = get_orthologs(gene_id, gene_to_ortho_dict, orthofinder_dict, subject_id)\n",
    "if len(first_orthologs) == 0:\n",
    "    singleton_dict[gene_id] = True\n",
    "elif len(first_orthologs) == 1:\n",
    "    subject_upstream_ortho = [gene_to_ortho_dict[x] for x in get_neighbours(first_orthologs[0], SUBJECT_GENOME_GENE_BED6, n=n, direction='up')]\n",
    "    subject_downstream_ortho = [gene_to_ortho_dict[x] for x in get_neighbours(first_orthologs[0], SUBJECT_GENOME_GENE_BED6, n=n, direction='down')]\n",
    "    if query_upstream_ortho[0] == subject_upstream_ortho[0]:   \n",
    "        obs_up, max_up = count_pairings(query_upstream_ortho, subject_upstream_ortho, simple=simple)       \n",
    "        #now look at the downstream\n",
    "        obs_down, max_down = count_pairings(query_downstream_ortho, subject_downstream_ortho, simple=simple)\n",
    "    elif query_upstream_ortho[0] == subject_downstream_ortho[0]:\n",
    "        obs_up, max_up = count_pairings(query_upstream_ortho, subject_downstream_ortho, simple=simple)\n",
    "        obs_down, max_down = count_pairings(query_downstream_ortho, subject_upstream_ortho, simple=simple)"
   ]
  },
  {
   "cell_type": "code",
   "execution_count": null,
   "metadata": {
    "collapsed": true
   },
   "outputs": [],
   "source": [
    "#now we need to look at the pairing of the directions\n",
    "#and add stuff up\n",
    "if query_upstream_ortho[0] == subject_upstream_ortho[0]:\n",
    "    obs_up = 0\n",
    "    obs_down = 0 \n",
    "    if len(query_upstream_ortho) <= len(subject_upstream_ortho):\n",
    "        \n",
    "        max_up = len(query_upstream_ortho)\n",
    "    else:\n",
    "        max_up = len(subject_upstream_ortho)\n",
    "        \n",
    "    for i in range(0, max_up):\n",
    "        if query_upstream_ortho[i] == subject_upstream_ortho[i]:\n",
    "            obs_up = obs_up + 1\n",
    "            \n",
    "    #now look at the downstream\n",
    "    if len(query_downstream_ortho) <= len(subject_downstream_ortho):\n",
    "        \n",
    "        max_down = len(query_downstream_ortho)\n",
    "    else:\n",
    "        max_down = len(subject_downstream_ortho)\n",
    "        \n",
    "    for i in range(0, max_down):\n",
    "        if query_downstream_ortho[i] == subject_downstream_ortho[i]:\n",
    "            obs_down = obs_down + 1\n",
    "    \n",
    "elif query_upstream_ortho[0] == subject_downstream_ortho[0]:\n",
    "    obs_up = 0\n",
    "    obs_down = 0\n",
    "    if len(query_upstream_ortho) <= len(subject_downstream_ortho):\n",
    "        max_up = len(query_upstream_ortho)\n",
    "    else:\n",
    "        max_up = len(subject_downstream_ortho)\n",
    "    for i in range(0, obs_down):\n",
    "        if query_upstream_ortho[i] == subject_downstream_ortho[i]:\n",
    "            obs_up = obs_up + 1\n",
    "            \n",
    "    #now look at the downstream\n",
    "    if len(query_downstream_ortho) <= len(subject_upstream_ortho):\n",
    "        \n",
    "        max_down = len(query_downstream_ortho)\n",
    "    else:\n",
    "        max_down = len(subject_upstream_ortho)\n",
    "        \n",
    "    for i in range(0, max_down):\n",
    "        if query_downstream_ortho[i] == subject_upstream_ortho[i]:\n",
    "            obs_down = obs_down + 1\n",
    "print('obs_up %i, max_up %i, obs_down %i, max_down %i' % (obs_up, max_up, obs_down, max_down))\n",
    "print('sub_up %s\\nquery_up %s\\nsub_down %s\\nquery_down %s' % (subject_upstream_ortho, query_upstream_ortho,subject_downstream_ortho,query_downstream_ortho ))"
   ]
  },
  {
   "cell_type": "code",
   "execution_count": null,
   "metadata": {
    "collapsed": true
   },
   "outputs": [],
   "source": [
    "def count_pairings(query_ortho, subject_ortho, simple = True):\n",
    "    \"\"\"Function that counts the pair wise overlap of two lists.\n",
    "    In the simple = True mode this is a stricked 1:1 pairing.\n",
    "    In the simple = Flase mode this is a sliding window of 1 vs [0, 1 , 2] elements.\n",
    "    Input: \n",
    "        query_ortho list\n",
    "        subject_orth list\n",
    "        simple True or False\n",
    "    output:\n",
    "        obs the number of observed pairings\n",
    "        max_len the number of potential pairings\"\"\"\n",
    "    if len(query_ortho) <= len(subject_ortho):\n",
    "        max_len = len(query_ortho)\n",
    "    else:\n",
    "        max_len = len(subject_ortho)\n",
    "    obs = 0\n",
    "    if simple == True:\n",
    "        for i in range(0, max_len):\n",
    "            if query_ortho[i] == subject_ortho[i]:\n",
    "                obs = obs + 1\n",
    "        return obs, max_len\n",
    "            \n",
    "        \n",
    "    if simple == False:\n",
    "        for i in range(0, max_len):\n",
    "            if i > 0 and i < max_len -1:    \n",
    "                if query_ortho[i] == subject_ortho[i] or query_ortho[i] == subject_ortho[i-1] \\\n",
    "                or query_ortho[i] == subject_ortho[i+1]:\n",
    "                    obs = obs + 1\n",
    "            elif i == max_up -1:\n",
    "                if query_ortho[i] == subject_ortho[i] or query_ortho[i] == subject_ortho[i-1]:\n",
    "                    obs = obs + 1\n",
    "            elif query_ortho[i] == subject_ortho[i]:\n",
    "                obs = obs + 1\n",
    "            elif i == 0:\n",
    "                if query_ortho[i] == subject_ortho[i] or query_ortho[i] == subject_ortho[i+1]:\n",
    "                    obs = obs + 1\n",
    "            \n",
    "        return obs, max_len"
   ]
  },
  {
   "cell_type": "code",
   "execution_count": null,
   "metadata": {
    "collapsed": true
   },
   "outputs": [],
   "source": [
    "#second iterations that allows for +1/=-1 difference once the first neighbour is the same\n",
    "#now we need to look at the pairing of the directions\n",
    "#and add stuff up\n",
    "if query_upstream_ortho[0] == subject_upstream_ortho[0]:   \n",
    "    obs_up, max_up = count_pairings(query_upstream_ortho, subject_upstream_ortho)       \n",
    "    #now look at the downstream\n",
    "    obs_down, max_down = count_pairings(query_downstream_ortho, subject_downstream_ortho)\n",
    "elif query_upstream_ortho[0] == subject_downstream_ortho[0]:\n",
    "    obs_up, max_up = count_pairings(query_upstream_ortho, subject_downstream_ortho)\n",
    "    obs_down, max_down = count_pairings(query_downstream_ortho, subject_upstream_ortho)\n",
    "print('obs_up %i, max_up %i, obs_down %i, max_down %i' % (obs_up, max_up, obs_down, max_down))\n",
    "print('sub_up %s\\nquery_up %s\\nsub_down %s\\nquery_down %s' % (subject_upstream_ortho, query_upstream_ortho,subject_downstream_ortho,query_downstream_ortho ))"
   ]
  },
  {
   "cell_type": "code",
   "execution_count": null,
   "metadata": {
    "collapsed": true
   },
   "outputs": [],
   "source": [
    "#second iterations that allows for +1/=-1 difference once the first neighbour is the same\n",
    "#now we need to look at the pairing of the directions\n",
    "#and add stuff up\n",
    "if query_upstream_ortho[0] == subject_upstream_ortho[0]:   \n",
    "    obs_up, max_up = count_pairings(query_upstream_ortho, subject_upstream_ortho, False)       \n",
    "    #now look at the downstream\n",
    "    obs_down, max_down = count_pairings(query_downstream_ortho, subject_downstream_ortho, False)\n",
    "elif query_upstream_ortho[0] == subject_downstream_ortho[0]:\n",
    "    obs_up, max_up = count_pairings(query_upstream_ortho, subject_downstream_ortho, False)\n",
    "    obs_down, max_down = count_pairings(query_downstream_ortho, subject_upstream_ortho, False)\n",
    "print('obs_up %i, max_up %i, obs_down %i, max_down %i' % (obs_up, max_up, obs_down, max_down))\n",
    "print('sub_up %s\\nquery_up %s\\nsub_down %s\\nquery_down %s' % (subject_upstream_ortho, query_upstream_ortho,subject_downstream_ortho,query_downstream_ortho ))"
   ]
  },
  {
   "cell_type": "code",
   "execution_count": null,
   "metadata": {
    "collapsed": true
   },
   "outputs": [],
   "source": [
    "get_neighbours(first_orthologs[0], SUBJECT_GENOME_GENE_BED6, n=n, direction='down')"
   ]
  },
  {
   "cell_type": "code",
   "execution_count": null,
   "metadata": {
    "collapsed": true
   },
   "outputs": [],
   "source": [
    "first_orthologs"
   ]
  },
  {
   "cell_type": "code",
   "execution_count": null,
   "metadata": {
    "collapsed": true
   },
   "outputs": [],
   "source": [
    "query_upstream_ortho"
   ]
  },
  {
   "cell_type": "code",
   "execution_count": null,
   "metadata": {
    "collapsed": true
   },
   "outputs": [],
   "source": [
    "subject_upstream_ortho"
   ]
  },
  {
   "cell_type": "code",
   "execution_count": null,
   "metadata": {
    "collapsed": true
   },
   "outputs": [],
   "source": [
    "query_downstream_ortho"
   ]
  },
  {
   "cell_type": "code",
   "execution_count": null,
   "metadata": {
    "collapsed": true
   },
   "outputs": [],
   "source": [
    "subject_downstream_ortho"
   ]
  },
  {
   "cell_type": "code",
   "execution_count": null,
   "metadata": {
    "collapsed": true
   },
   "outputs": [],
   "source": [
    "line.split(':')[1].strip()"
   ]
  },
  {
   "cell_type": "code",
   "execution_count": null,
   "metadata": {
    "collapsed": true
   },
   "outputs": [],
   "source": [
    "get_neighbours('Pst104E_00002', QUERY_GENOME_GENE_BED6, n=10, direction = 'down')"
   ]
  },
  {
   "cell_type": "code",
   "execution_count": null,
   "metadata": {
    "collapsed": true
   },
   "outputs": [],
   "source": [
    "bed_6_header = ['chrom', 'start', 'stop', 'gene_id', 'phase', 'strand']\n",
    "bed_df = pd.read_csv(QUERY_GENOME_GENE_BED6, sep='\\t', header=None, names=bed_6_header)\n",
    "gene_id = pd.read_csv(QUERY_SELECT_GENE_BED6, sep='\\t', header=None, names=bed_6_header).loc[0,['gene_id']]['gene_id']\n"
   ]
  },
  {
   "cell_type": "code",
   "execution_count": null,
   "metadata": {
    "collapsed": true
   },
   "outputs": [],
   "source": [
    "n=5\n",
    "direction = 'up'\n",
    "gene_index = bed_df[bed_df['gene_id'] == gene_id].index[0]\n",
    "contig = bed_df.loc[gene_index, ['chrom']]['chrom']"
   ]
  },
  {
   "cell_type": "code",
   "execution_count": null,
   "metadata": {
    "collapsed": true
   },
   "outputs": [],
   "source": [
    "contig_index = bed_df[bed_df['chrom']== contig].index"
   ]
  },
  {
   "cell_type": "code",
   "execution_count": null,
   "metadata": {
    "collapsed": true
   },
   "outputs": [],
   "source": [
    "gene_id = 'Pst104E_00002'\n",
    "gene_index = bed_df[bed_df['gene_id'] == gene_id].index[0]\n",
    "contig = bed_df.loc[gene_index, ['chrom']]['chrom']\n",
    "contig_index = bed_df[bed_df['chrom']== contig].index\n",
    "direction = 'down'\n",
    "if direction == 'up':\n",
    "    index_list = []\n",
    "    if (gene_index+(n)) in contig_index:\n",
    "        for i in range(gene_index+1, gene_index+(n+1)):\n",
    "            index_list.append(i)\n",
    "    else:\n",
    "        for i in range(gene_index+1, contig_index[-1]+1):\n",
    "            index_list.append(i)\n",
    "    print(bed_df.loc[index_list, ['gene_id']]['gene_id'].tolist())\n",
    "if direction == 'down':\n",
    "    index_list = []\n",
    "    if (gene_index-n) in contig_index:\n",
    "        for i in range(gene_index-(n), gene_index):\n",
    "            index_list.append(i)\n",
    "    else:\n",
    "        for i in range(contig_index[0], gene_index):\n",
    "            index_list.append(i)\n",
    "    index_list.reverse()\n",
    "    print(bed_df.loc[index_list, ['gene_id']]['gene_id'].tolist())"
   ]
  },
  {
   "cell_type": "code",
   "execution_count": null,
   "metadata": {
    "collapsed": true
   },
   "outputs": [],
   "source": [
    "gene_index-n in contig_index"
   ]
  },
  {
   "cell_type": "code",
   "execution_count": null,
   "metadata": {
    "collapsed": true
   },
   "outputs": [],
   "source": [
    "index_list"
   ]
  },
  {
   "cell_type": "code",
   "execution_count": null,
   "metadata": {
    "collapsed": true
   },
   "outputs": [],
   "source": [
    "gene_index[0]"
   ]
  },
  {
   "cell_type": "code",
   "execution_count": null,
   "metadata": {
    "collapsed": true
   },
   "outputs": [],
   "source": [
    "[gene_index: gene_index+6]"
   ]
  },
  {
   "cell_type": "code",
   "execution_count": null,
   "metadata": {
    "collapsed": true
   },
   "outputs": [],
   "source": []
  }
 ],
 "metadata": {
  "kernelspec": {
   "display_name": "Python [default]",
   "language": "python",
   "name": "python3"
  },
  "toc": {
   "nav_menu": {},
   "number_sections": true,
   "sideBar": true,
   "skip_h1_title": false,
   "title_cell": "Table of Contents",
   "title_sidebar": "Contents",
   "toc_cell": false,
   "toc_position": {},
   "toc_section_display": true,
   "toc_window_display": false
  }
 },
 "nbformat": 4,
 "nbformat_minor": 2
}
