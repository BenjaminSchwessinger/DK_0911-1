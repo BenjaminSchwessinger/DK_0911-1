{
 "cells": [
  {
   "cell_type": "markdown",
   "metadata": {},
   "source": [
    "### Notebook to get synteny measures between two assemblies\n",
    "The goal is to get a tool that takes in orthofinder results and a CDS files to check fof the length of synteny with different gene categories.\n",
    "\n",
    "The idea is that BUSCOs are more syntenous then effectors or such. \n",
    "\n",
    "The program tries to count how many neighbours of an allele pair are in the same orthogroup. This requires first to anchor the allele pairing e.g. find out what the 1:1 allele is and then walk outward to see if each others neighbours are in the same orthogroup. For now we won't allow for any skips and just go one by one.\n",
    "\n",
    "GENOMEA_orthoarray =  [1,2,3,4]\n",
    "GENOMEB_orthoarray =  [1,2,3,4]\n",
    "\n",
    "should result into a tuple that where the first element is the number of observed matches and the second is the number of possible matches. here this would be (8,8).\n",
    "\n",
    "If this analysis is performed on two different set of gene groups this may tell something if microsynteny is more conserved within one gene group then another."
   ]
  },
  {
   "cell_type": "markdown",
   "metadata": {},
   "source": [
    "#### initial outline\n",
    "\n",
    "get a gene ID -> get its neightbours n in two different arrays up and down stream -> get the orthogroup arrays for the neighbours \n",
    "get a gene ID  -> get orthogroup of the gene -> get all members of the orthogroup that belong to the other genome -> get their neighbours +/- 1 -> get the best seed where both neighbours add up,  \n",
    "* if we have only one best match that is easy. Use this seed as 1:1 match get the neighbourhood array up and down -> compare the arrays one element at a time and safe the tuple in a dictonary.\n",
    "* if multiple hits. Move one further out with each hit and look at those with the same ideas.\n",
    "\n",
    "Things also to generate:\n",
    "A match dictionary for allele pairing.  \n",
    "A unqiue gene dictionary.  \n",
    "A paraloge dictionray. Meaning where there is no allele pairing but thing are in the same ortho group."
   ]
  },
  {
   "cell_type": "code",
   "execution_count": 4,
   "metadata": {},
   "outputs": [
    {
     "name": "stderr",
     "output_type": "stream",
     "text": [
      "/home/benjamin/anaconda3/lib/python3.5/site-packages/Bio/SearchIO/__init__.py:211: BiopythonExperimentalWarning: Bio.SearchIO is an experimental submodule which may undergo significant changes prior to its future official release.\n",
      "  BiopythonExperimentalWarning)\n"
     ]
    }
   ],
   "source": [
    "import pandas as pd\n",
    "import os\n",
    "import re\n",
    "from Bio import SeqIO\n",
    "from Bio import SeqUtils\n",
    "import pysam\n",
    "from Bio.SeqRecord import SeqRecord\n",
    "from pybedtools import BedTool\n",
    "import numpy as np\n",
    "import pybedtools\n",
    "import time\n",
    "import matplotlib.pyplot as plt\n",
    "import sys\n",
    "import subprocess\n",
    "import shutil\n",
    "from Bio.Seq import Seq\n",
    "import pysam\n",
    "from Bio import SearchIO\n",
    "import json\n",
    "import glob\n",
    "import scipy.stats as stats\n",
    "import statsmodels as sms\n",
    "import statsmodels.sandbox.stats.multicomp\n",
    "import distance\n",
    "import seaborn as sns\n",
    "from pybedtools import BedTool\n",
    "import matplotlib\n",
    "from sklearn.externals.joblib import Parallel, delayed\n",
    "import itertools as it\n",
    "import tempfile\n",
    "from scipy.signal import argrelextrema\n",
    "import scipy\n",
    "from IPython.display import Image\n",
    "from PIL import Image\n",
    "from collections import OrderedDict"
   ]
  },
  {
   "cell_type": "code",
   "execution_count": 17,
   "metadata": {},
   "outputs": [],
   "source": [
    "### define some path that at the end should come as args\n",
    "ORTHOFINDER_FILE_NAME = '/home/benjamin/genome_assembly/Warrior/DK0911_v04/comp_orthology/orthofinder/OrthoFinder_all/Orthogroups_2.txt'\n",
    "QUERY_GENOME_GENE_BED6 = '/home/benjamin/genome_assembly/Warrior/DK0911_v04/comp_orthology/Pst104E_annotations/Pst_104E_v13_p_ctg.gene.bed'\n",
    "SUBJECT_GENOME_GENE_BED6 = '/home/benjamin/genome_assembly/Warrior/DK0911_v04/comp_orthology/DK0911_annotations/DK_0911_v04_p_ctg.genes.gene.bed'\n",
    "QUERY_SELECT_GENE_BED6 = '/home/benjamin/genome_assembly/Warrior/DK0911_v04/comp_orthology/orthofinder/test_folder/Pst_104E_v13_p_ctg.gene1000.bed'"
   ]
  },
  {
   "cell_type": "code",
   "execution_count": 22,
   "metadata": {},
   "outputs": [],
   "source": [
    "#now write some functions\n",
    "def get_neighbours(gene_id, bed_filename, n=5, direction='up'):\n",
    "    \"\"\"A function that either takes a filename to return an array of downstream and upstream neighbouring genes.\n",
    "    Input: \n",
    "        gene_id\n",
    "        bed6 filename\n",
    "        n being the number of neighbours we want to get\n",
    "        direction being up or down.\n",
    "    Output:\n",
    "        returns the largest possible array of neighbours up to n.\n",
    "        The 0 element is always the closest neighbour now matter if you return and 'up' or 'down' array.\"\"\"\n",
    "    bed_6_header = ['chrom', 'start', 'stop', 'gene_id', 'phase', 'strand']\n",
    "    try:\n",
    "        bed_df = pd.read_csv(bed_filename, sep='\\t', header=None, names=bed_6_header)\n",
    "    except:\n",
    "        print('Check if the bedfiles are bed6')\n",
    "    if not direction in ['up', 'down']:\n",
    "        print('Ensure direction is up or down.')\n",
    "    gene_index = bed_df[bed_df['gene_id'] == gene_id].index[0]\n",
    "    contig = bed_df.loc[gene_index, ['chrom']]['chrom']\n",
    "    contig_index = bed_df[bed_df['chrom']== contig].index\n",
    "    if direction == 'up':\n",
    "        index_list = []\n",
    "        if (gene_index+(n)) in contig_index:\n",
    "            for i in range(gene_index+1, gene_index+(n+1)):\n",
    "                index_list.append(i)\n",
    "        else:\n",
    "            for i in range(gene_index+1, contig_index[-1]+1):\n",
    "                index_list.append(i)\n",
    "        return bed_df.loc[index_list, ['gene_id']]['gene_id'].tolist()\n",
    "    if direction == 'down':\n",
    "        index_list = []\n",
    "        if (gene_index-n) in contig_index:\n",
    "            for i in range(gene_index-(n), gene_index):\n",
    "                index_list.append(i)\n",
    "        else:\n",
    "            for i in range(contig_index[0], gene_index):\n",
    "                index_list.append(i)\n",
    "        index_list.reverse()\n",
    "        return bed_df.loc[index_list, ['gene_id']]['gene_id'].tolist()"
   ]
  },
  {
   "cell_type": "code",
   "execution_count": 62,
   "metadata": {},
   "outputs": [],
   "source": [
    "def get_orthologs(gene_id, gene_to_ortho_dict, orthofinder_dict, other_id):\n",
    "    \"\"\"The function returns all the potential orthologs of the comparative species\n",
    "    Input:\n",
    "        gene_id\n",
    "        gene_to_ortho_dict, the ortho dict\n",
    "        orthofinder_dict, the dictionary of the orthgroups to get all genes belonging to the orthogroup in question.\n",
    "        other_id, is the identifier of the comparative species.\"\"\"\n",
    "\n",
    "    return [x for x in orthofinder_dict[gene_to_ortho_dict[gene_id]] if x.startswith(other_id)]"
   ]
  },
  {
   "cell_type": "code",
   "execution_count": 28,
   "metadata": {},
   "outputs": [],
   "source": [
    "#get the identifiers if not provided.\n",
    "query_id = pd.read_csv(QUERY_GENOME_GENE_BED6, sep='\\t', header=None).loc[0,[3]][3].split('_')[0]\n",
    "subject_id = pd.read_csv(SUBJECT_GENOME_GENE_BED6, sep='\\t', header=None).loc[0,[3]][3].split('_')[0]"
   ]
  },
  {
   "cell_type": "code",
   "execution_count": 34,
   "metadata": {},
   "outputs": [],
   "source": [
    "#get the orthofinder results read in\n",
    "#this is the dict for all orthogroups and what members they have\n",
    "orthofinder_dict = {}\n",
    "with open(ORTHOFINDER_FILE_NAME) as fh:\n",
    "    for line in fh:\n",
    "        line.strip()\n",
    "        orthofinder_dict[line.split(':')[0]] = line.split(':')[1].strip().split(' ')"
   ]
  },
  {
   "cell_type": "code",
   "execution_count": 38,
   "metadata": {},
   "outputs": [],
   "source": [
    "#this is the dict for proteins and what orthogroup they have\n",
    "gene_to_ortho_dict = {}\n",
    "for key,value in orthofinder_dict.items():\n",
    "    for item in value:\n",
    "        gene_to_ortho_dict[item] = key"
   ]
  },
  {
   "cell_type": "code",
   "execution_count": 84,
   "metadata": {},
   "outputs": [
    {
     "name": "stdout",
     "output_type": "stream",
     "text": [
      "['DK0911_15058']\n"
     ]
    }
   ],
   "source": [
    "gene_id = 'Pst104E_00002'\n",
    "print([x for x in orthofinder_dict[gene_to_ortho_dict[gene_id]]if x.startswith('DK0911')])\n",
    "n=8"
   ]
  },
  {
   "cell_type": "code",
   "execution_count": 74,
   "metadata": {},
   "outputs": [
    {
     "data": {
      "text/plain": [
       "['DK0911_15058',\n",
       " 'KNZ49618.1',\n",
       " 'POW13770.1',\n",
       " 'POW17438.1',\n",
       " 'Pst104E_00002',\n",
       " 'XP_007406928.1',\n",
       " 'jgi|Croqu1|660945|fgenesh1_kg.106_#_31_#_Locus8754v1rpkm8.61',\n",
       " 'jgi|Melap1finSC_191|1668711|estExt_Genemark1.C_9250008',\n",
       " 'jgi|Melli1|206489|MELLI_sc_4122.1',\n",
       " 'jgi|Mellp2_3|103969|Mellp1.fgenesh2_pg.7_277',\n",
       " 'jgi|PuccoSD80_1|7118|PCA_SD_11668-T1',\n",
       " 'jgi|Pucst1|495976|maker-PST130_28344-snap-gene-0.5-mRNA-1',\n",
       " 'jgi|Pucst_PST78_1|4751|PSTG_14207T0',\n",
       " 'jgi|Puctr1|2417|PTTG_28700T0']"
      ]
     },
     "execution_count": 74,
     "metadata": {},
     "output_type": "execute_result"
    }
   ],
   "source": [
    "orthofinder_dict[gene_to_ortho_dict[gene_id]]"
   ]
  },
  {
   "cell_type": "code",
   "execution_count": 75,
   "metadata": {},
   "outputs": [],
   "source": [
    "query_upstream = get_neighbours(gene_id, QUERY_GENOME_GENE_BED6, n=n, direction='up')\n",
    "query_downstream = get_neighbours(gene_id, QUERY_GENOME_GENE_BED6, n=n, direction='down')\n",
    "query_upstream_ortho = [gene_to_ortho_dict[x] for x in query_upstream]\n",
    "query_downstream_ortho = [gene_to_ortho_dict[x] for x in query_downstream]"
   ]
  },
  {
   "cell_type": "code",
   "execution_count": 76,
   "metadata": {},
   "outputs": [],
   "source": [
    "first_orthologs = get_orthologs(gene_id, gene_to_ortho_dict, orthofinder_dict, subject_id)\n",
    "if len(first_orthologs) == 1:\n",
    "    subject_upstream_ortho = [gene_to_ortho_dict[x] for x in get_neighbours(first_orthologs[0], SUBJECT_GENOME_GENE_BED6, n=n, direction='up')]\n",
    "    subject_downstream_ortho = [gene_to_ortho_dict[x] for x in get_neighbours(first_orthologs[0], SUBJECT_GENOME_GENE_BED6, n=n, direction='down')]"
   ]
  },
  {
   "cell_type": "code",
   "execution_count": 77,
   "metadata": {},
   "outputs": [],
   "source": [
    "#now we need to look at the pairing of the directions\n",
    "#and add stuff up\n",
    "if query_upstream_ortho[0] == subject_upstream_ortho[0]:\n",
    "    obs_up = 0\n",
    "    obs_down = 0 \n",
    "    if len(query_upstream_ortho) <= len(subject_upstream_ortho):\n",
    "        \n",
    "        max_up = len(query_upstream_ortho)\n",
    "    else:\n",
    "        max_up = len(subject_upstream_ortho)\n",
    "        \n",
    "    for i in range(0, max_up):\n",
    "        if query_upstream_ortho[i] == subject_upstream_ortho[i]:\n",
    "            obs_up = obs_up + 1\n",
    "            \n",
    "    #now look at the downstream\n",
    "    if len(query_downstream_ortho) <= len(subject_downstream_ortho):\n",
    "        \n",
    "        max_down = len(query_downstream_ortho)\n",
    "    else:\n",
    "        max_down = len(subject_downstream_ortho)\n",
    "        \n",
    "    for i in range(0, max_down):\n",
    "        if query_downstream_ortho[i] == subject_downstream_ortho[i]:\n",
    "            obs_down = obs_down + 1\n",
    "    \n",
    "elif query_upstream_ortho[0] == subject_downstream_ortho[0]:\n",
    "    obs_up = 0\n",
    "    obs_down = 0\n",
    "    if len(query_upstream_ortho) <= len(subject_downstream_ortho):\n",
    "        max_up = len(query_upstream_ortho)\n",
    "    else:\n",
    "        max_up = len(subject_downstream_ortho)\n",
    "    for i in range(0, obs_down):\n",
    "        if query_upstream_ortho[i] == subject_downstream_ortho[i]:\n",
    "            obs_up = obs_up + 1\n",
    "            \n",
    "    #now look at the downstream\n",
    "    if len(query_downstream_ortho) <= len(subject_upstream_ortho):\n",
    "        \n",
    "        max_down = len(query_downstream_ortho)\n",
    "    else:\n",
    "        max_down = len(subject_upstream_ortho)\n",
    "        \n",
    "    for i in range(0, max_down):\n",
    "        if query_downstream_ortho[i] == subject_upstream_ortho[i]:\n",
    "            obs_down = obs_down + 1"
   ]
  },
  {
   "cell_type": "code",
   "execution_count": 78,
   "metadata": {},
   "outputs": [
    {
     "name": "stdout",
     "output_type": "stream",
     "text": [
      "obs_up 3, max_up 8, obs_down 2, max_down 2\n"
     ]
    }
   ],
   "source": [
    "print('obs_up %i, max_up %i, obs_down %i, max_down %i' % (obs_up, max_up, obs_down, max_down))"
   ]
  },
  {
   "cell_type": "code",
   "execution_count": 81,
   "metadata": {},
   "outputs": [
    {
     "name": "stdout",
     "output_type": "stream",
     "text": [
      "sub_up ['OG0000028', 'OG0005025', 'OG0015028', 'OG0012676', 'OG0039656', 'OG0008482', 'OG0000157', 'OG0000001']\n",
      "query_up ['OG0000028', 'OG0005025', 'OG0015028', 'OG0037814', 'OG0012676', 'OG0039656', 'OG0008482', 'OG0002271']\n",
      "sub_down ['OG0009613', 'OG0006130']\n",
      "query_down ['OG0009613', 'OG0006130']\n"
     ]
    }
   ],
   "source": [
    "print('sub_up %s\\nquery_up %s\\nsub_down %s\\nquery_down %s' % (subject_upstream_ortho, query_upstream_ortho,subject_downstream_ortho,query_downstream_ortho ))"
   ]
  },
  {
   "cell_type": "code",
   "execution_count": 60,
   "metadata": {},
   "outputs": [
    {
     "data": {
      "text/plain": [
       "['DK0911_15057', 'DK0911_15056']"
      ]
     },
     "execution_count": 60,
     "metadata": {},
     "output_type": "execute_result"
    }
   ],
   "source": [
    "get_neighbours(first_orthologs[0], SUBJECT_GENOME_GENE_BED6, n=n, direction='down')"
   ]
  },
  {
   "cell_type": "code",
   "execution_count": 61,
   "metadata": {},
   "outputs": [
    {
     "data": {
      "text/plain": [
       "['DK0911_15058']"
      ]
     },
     "execution_count": 61,
     "metadata": {},
     "output_type": "execute_result"
    }
   ],
   "source": [
    "first_orthologs"
   ]
  },
  {
   "cell_type": "code",
   "execution_count": 56,
   "metadata": {},
   "outputs": [
    {
     "data": {
      "text/plain": [
       "['OG0000028', 'OG0005025', 'OG0015028', 'OG0037814', 'OG0012676']"
      ]
     },
     "execution_count": 56,
     "metadata": {},
     "output_type": "execute_result"
    }
   ],
   "source": [
    "query_upstream_ortho"
   ]
  },
  {
   "cell_type": "code",
   "execution_count": 57,
   "metadata": {},
   "outputs": [
    {
     "data": {
      "text/plain": [
       "['OG0000028', 'OG0005025', 'OG0015028', 'OG0012676', 'OG0039656']"
      ]
     },
     "execution_count": 57,
     "metadata": {},
     "output_type": "execute_result"
    }
   ],
   "source": [
    "subject_upstream_ortho"
   ]
  },
  {
   "cell_type": "code",
   "execution_count": 58,
   "metadata": {},
   "outputs": [
    {
     "data": {
      "text/plain": [
       "['OG0009613', 'OG0006130']"
      ]
     },
     "execution_count": 58,
     "metadata": {},
     "output_type": "execute_result"
    }
   ],
   "source": [
    "query_downstream_ortho"
   ]
  },
  {
   "cell_type": "code",
   "execution_count": 59,
   "metadata": {},
   "outputs": [
    {
     "data": {
      "text/plain": [
       "['OG0009613', 'OG0006130']"
      ]
     },
     "execution_count": 59,
     "metadata": {},
     "output_type": "execute_result"
    }
   ],
   "source": [
    "subject_downstream_ortho"
   ]
  },
  {
   "cell_type": "code",
   "execution_count": 32,
   "metadata": {},
   "outputs": [
    {
     "data": {
      "text/plain": [
       "'Pst104E_25431'"
      ]
     },
     "execution_count": 32,
     "metadata": {},
     "output_type": "execute_result"
    }
   ],
   "source": [
    "line.split(':')[1].strip()"
   ]
  },
  {
   "cell_type": "code",
   "execution_count": 25,
   "metadata": {},
   "outputs": [
    {
     "data": {
      "text/plain": [
       "['Pst104E_00001', 'Pst104E_00000']"
      ]
     },
     "execution_count": 25,
     "metadata": {},
     "output_type": "execute_result"
    }
   ],
   "source": [
    "get_neighbours('Pst104E_00002', QUERY_GENOME_GENE_BED6, n=10, direction = 'down')"
   ]
  },
  {
   "cell_type": "code",
   "execution_count": 8,
   "metadata": {},
   "outputs": [],
   "source": [
    "bed_6_header = ['chrom', 'start', 'stop', 'gene_id', 'phase', 'strand']\n",
    "bed_df = pd.read_csv(QUERY_GENOME_GENE_BED6, sep='\\t', header=None, names=bed_6_header)\n",
    "gene_id = pd.read_csv(QUERY_SELECT_GENE_BED6, sep='\\t', header=None, names=bed_6_header).loc[0,['gene_id']]['gene_id']\n"
   ]
  },
  {
   "cell_type": "code",
   "execution_count": 40,
   "metadata": {},
   "outputs": [],
   "source": [
    "n=5\n",
    "direction = 'up'\n",
    "gene_index = bed_df[bed_df['gene_id'] == gene_id].index[0]\n",
    "contig = bed_df.loc[gene_index, ['chrom']]['chrom']"
   ]
  },
  {
   "cell_type": "code",
   "execution_count": 42,
   "metadata": {},
   "outputs": [],
   "source": [
    "contig_index = bed_df[bed_df['chrom']== contig].index"
   ]
  },
  {
   "cell_type": "code",
   "execution_count": 79,
   "metadata": {},
   "outputs": [
    {
     "name": "stdout",
     "output_type": "stream",
     "text": [
      "['Pst104E_00001', 'Pst104E_00000']\n"
     ]
    }
   ],
   "source": [
    "gene_id = 'Pst104E_00002'\n",
    "gene_index = bed_df[bed_df['gene_id'] == gene_id].index[0]\n",
    "contig = bed_df.loc[gene_index, ['chrom']]['chrom']\n",
    "contig_index = bed_df[bed_df['chrom']== contig].index\n",
    "direction = 'down'\n",
    "if direction == 'up':\n",
    "    index_list = []\n",
    "    if (gene_index+(n)) in contig_index:\n",
    "        for i in range(gene_index+1, gene_index+(n+1)):\n",
    "            index_list.append(i)\n",
    "    else:\n",
    "        for i in range(gene_index+1, contig_index[-1]+1):\n",
    "            index_list.append(i)\n",
    "    print(bed_df.loc[index_list, ['gene_id']]['gene_id'].tolist())\n",
    "if direction == 'down':\n",
    "    index_list = []\n",
    "    if (gene_index-n) in contig_index:\n",
    "        for i in range(gene_index-(n), gene_index):\n",
    "            index_list.append(i)\n",
    "    else:\n",
    "        for i in range(contig_index[0], gene_index):\n",
    "            index_list.append(i)\n",
    "    index_list.reverse()\n",
    "    print(bed_df.loc[index_list, ['gene_id']]['gene_id'].tolist())"
   ]
  },
  {
   "cell_type": "code",
   "execution_count": 67,
   "metadata": {},
   "outputs": [
    {
     "data": {
      "text/plain": [
       "True"
      ]
     },
     "execution_count": 67,
     "metadata": {},
     "output_type": "execute_result"
    }
   ],
   "source": [
    "gene_index-n in contig_index"
   ]
  },
  {
   "cell_type": "code",
   "execution_count": 65,
   "metadata": {},
   "outputs": [
    {
     "data": {
      "text/plain": [
       "[994, 995, 996, 997, 998]"
      ]
     },
     "execution_count": 65,
     "metadata": {},
     "output_type": "execute_result"
    }
   ],
   "source": [
    "index_list"
   ]
  },
  {
   "cell_type": "code",
   "execution_count": 36,
   "metadata": {},
   "outputs": [
    {
     "data": {
      "text/plain": [
       "999"
      ]
     },
     "execution_count": 36,
     "metadata": {},
     "output_type": "execute_result"
    }
   ],
   "source": [
    "gene_index[0]"
   ]
  },
  {
   "cell_type": "code",
   "execution_count": 50,
   "metadata": {},
   "outputs": [
    {
     "ename": "SyntaxError",
     "evalue": "invalid syntax (<ipython-input-50-0f1b2462552f>, line 1)",
     "output_type": "error",
     "traceback": [
      "\u001b[0;36m  File \u001b[0;32m\"<ipython-input-50-0f1b2462552f>\"\u001b[0;36m, line \u001b[0;32m1\u001b[0m\n\u001b[0;31m    [gene_index: gene_index+6]\u001b[0m\n\u001b[0m               ^\u001b[0m\n\u001b[0;31mSyntaxError\u001b[0m\u001b[0;31m:\u001b[0m invalid syntax\n"
     ]
    }
   ],
   "source": [
    "[gene_index: gene_index+6]"
   ]
  },
  {
   "cell_type": "code",
   "execution_count": null,
   "metadata": {},
   "outputs": [],
   "source": []
  }
 ],
 "metadata": {
  "kernelspec": {
   "display_name": "Python [default]",
   "language": "python",
   "name": "python3"
  },
  "language_info": {
   "codemirror_mode": {
    "name": "ipython",
    "version": 3
   },
   "file_extension": ".py",
   "mimetype": "text/x-python",
   "name": "python",
   "nbconvert_exporter": "python",
   "pygments_lexer": "ipython3",
   "version": "3.5.3"
  }
 },
 "nbformat": 4,
 "nbformat_minor": 2
}
