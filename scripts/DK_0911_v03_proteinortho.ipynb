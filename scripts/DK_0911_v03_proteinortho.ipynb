{
 "cells": [
  {
   "cell_type": "code",
   "execution_count": 3,
   "metadata": {},
   "outputs": [],
   "source": [
    "import re\n",
    "\n",
    "def getIdToLocusTagDict(df):\n",
    "    df = df[df['type'] == 'mRNA']\n",
    "    \n",
    "    locusSearch = re.compile(r'^.*locus_tag=(.*?)(;|$)')\n",
    "    idSearch = re.compile(r'ID=(.*?);')\n",
    "    \n",
    "    d = {}\n",
    "    \n",
    "    for attr in df['attributes']:\n",
    "        val = locusSearch.match(attr).group(1)\n",
    "        key = idSearch.match(attr).group(1)\n",
    "        if key in d.keys():\n",
    "            print(\"Unexpected: id key: %s already in dictionary.\" % key)\n",
    "        d[key] = val\n",
    "    return d"
   ]
  },
  {
   "cell_type": "code",
   "execution_count": 4,
   "metadata": {},
   "outputs": [],
   "source": [
    "import pandas as pd\n",
    "import os\n",
    "import sys\n",
    "import subprocess\n",
    "\n",
    "BASE_OUT_PATH = '/home/gamran/genome_analysis/Warrior/Richard/output/defining_alleles/'\n",
    "GENOME_PATH = '/home/gamran/genome_analysis/Warrior/Richard/output/genome_v03/'\n",
    "PROTEINORTHO_OUT_PATH = os.path.join(BASE_OUT_PATH, 'proteinortho')\n",
    "\n",
    "ORIG_H_CTG_GFF_PATH = os.path.join(GENOME_PATH, 'DK_0911_v03_h_ctg.anno.gff3')\n",
    "ORIG_P_CTG_GFF_PATH = os.path.join(GENOME_PATH, 'DK_0911_v03_p_ctg.anno.gff3')\n",
    "\n",
    "PROTEINORTHO_PATH = '/home/gamran/anaconda3/proteinortho_v5.16b/proteinortho5.pl'\n",
    "PROJECT_NAME = 'ph_ctg_516'\n",
    "H_CTG_FAA = 'DK_0911_v03_h_ctg.protein.faa'\n",
    "P_CTG_FAA = 'DK_0911_v03_p_ctg.protein.faa'"
   ]
  },
  {
   "cell_type": "code",
   "execution_count": 5,
   "metadata": {},
   "outputs": [],
   "source": [
    "def rewriteGffForProteinortho(gff_in_loc, gff_out_loc):\n",
    "    '''Takes a gff file at gff_in_loc and rewrites it to conform to\n",
    "    the format required for proteinortho analysis.'''\n",
    "    ctg_df = pd.read_table(gff_in_loc, skiprows = 1, header = None, \\\n",
    "                           names = ['seqid', 'source', 'type', 'start', 'end', 'score', 'strand', 'phase', 'attributes'])\n",
    "    \n",
    "    # get dict mapping ID to locus_tag from mRNA entries\n",
    "    # need attribute to have 'ID=locus_tag' because .faa file has ID=locus_tag\n",
    "    # will be used in this way: CDS.parent = mRNA.id =(d)> locus_tag\n",
    "    d = getIdToLocusTagDict(ctg_df)\n",
    "    \n",
    "    # subset DataFrame to only CDS type (only type required for proteinortho analysis)\n",
    "    ctg_df = ctg_df[ctg_df['type'] == 'CDS']\n",
    "    \n",
    "    # turn attribute column into parent value\n",
    "    parentSearch = re.compile(r'^.*Parent=(.*?)(;|$)')\n",
    "    ctg_df['attributes'] = ctg_df['attributes'].apply(lambda x: parentSearch.match(x).group(1))\n",
    "    \n",
    "    # map CDS.parent values (= mRNA.id) in attribute column to locus_tag\n",
    "    ctg_df['attributes'] = ctg_df['attributes'].map(d)\n",
    "    \n",
    "    # make attribute column into format 'ID=locus_tag' to be readable by proteinortho\n",
    "    ctg_df['attributes'] = ctg_df['attributes'].apply(lambda x: 'ID=%s;'%x)\n",
    "    \n",
    "    with open(gff_out_loc, 'w') as outfile:\n",
    "        ctg_df.to_csv(outfile, sep='\\t', header = False, index = False)\n",
    "    return ctg_df"
   ]
  },
  {
   "cell_type": "code",
   "execution_count": 6,
   "metadata": {
    "scrolled": true
   },
   "outputs": [],
   "source": [
    "def getProteinorthoScript():\n",
    "    '''Returns a string containing the commands required to run\n",
    "    proteinortho on the two .faa files in synteny mode'''\n",
    "    s = ''\n",
    "    s += 'cd %s\\n' % PROTEINORTHO_OUT_PATH\n",
    "    s += 'source activate py27\\n'\n",
    "    s += '%s -project=%s -synteny %s/%s %s/%s'\\\n",
    "        % (PROTEINORTHO_PATH, PROJECT_NAME, PROJECT_NAME, H_CTG_FAA, PROJECT_NAME, P_CTG_FAA)\n",
    "    return s\n"
   ]
  },
  {
   "cell_type": "code",
   "execution_count": 7,
   "metadata": {},
   "outputs": [],
   "source": [
    "def exitIfFileNotInCwd(fileName):\n",
    "    '''Checks if a file is in the current working directory (cwd)\n",
    "    and if not, alerts the user to take action.'''\n",
    "    if not os.path.exists(fileName):\n",
    "        print(\"Please copy %s file to %s\" \\\n",
    "              % (fileName, os.getcwd()))   \n",
    "        sys.exit()\n",
    "    return True\n",
    "\n",
    "def writeGffIfDoesntExist(new_gff_file_path, orig_gff_file_path):\n",
    "    '''Writes the new proteinortho-compatible gff file at the\n",
    "    new_gff_file_path if it does not already exist. If the gff at\n",
    "    new_gff_file_path already exists, it will not be re-written.'''\n",
    "    if not os.path.exists(new_gff_file_path):\n",
    "        rewriteGffForProteinortho(orig_gff_file_path, new_gff_file_path)\n",
    "    else:\n",
    "        print('gff file at: %s already exists... no new gff file was generated.' % new_gff_file_path)\n",
    "\n",
    "def setUp():\n",
    "    print(\"Checking for correct files and directories...\")\n",
    "    os.chdir(PROTEINORTHO_OUT_PATH)\n",
    "    if not os.path.isdir(PROJECT_NAME):\n",
    "        print(\"Created directory: \" + os.path.join(os.getcwd(), PROJECT_NAME))\n",
    "        os.mkdir(PROJECT_NAME)\n",
    "    os.chdir(PROJECT_NAME)\n",
    "    \n",
    "    exitIfFileNotInCwd(H_CTG_FAA)\n",
    "    exitIfFileNotInCwd(P_CTG_FAA)\n",
    "    \n",
    "    NEW_H_CTG_GFF_PATH = os.path.join(os.getcwd(), H_CTG_FAA[:-3] + \"gff\")\n",
    "    NEW_P_CTG_GFF_PATH = os.path.join(os.getcwd(), P_CTG_FAA[:-3] + \"gff\")\n",
    "    \n",
    "    writeGffIfDoesntExist(NEW_H_CTG_GFF_PATH, ORIG_H_CTG_GFF_PATH)\n",
    "    writeGffIfDoesntExist(NEW_P_CTG_GFF_PATH, ORIG_P_CTG_GFF_PATH)\n",
    "\n",
    "    exitIfFileNotInCwd(P_CTG_FAA[:-3] + \"gff\")\n",
    "    exitIfFileNotInCwd(H_CTG_FAA[:-3] + \"gff\")\n",
    "    \n",
    "    print(\"Files and directories required for proteinortho analysis now exist.\\n\")\n",
    "    \n",
    "    return True\n",
    "    "
   ]
  },
  {
   "cell_type": "code",
   "execution_count": 8,
   "metadata": {},
   "outputs": [],
   "source": [
    "def main():\n",
    "    assert(setUp())\n",
    "    print(\"Execute the following commands on the command line:\\n\")\n",
    "    print(getProteinorthoScript())"
   ]
  },
  {
   "cell_type": "code",
   "execution_count": 9,
   "metadata": {},
   "outputs": [
    {
     "name": "stdout",
     "output_type": "stream",
     "text": [
      "Checking for correct files and directories...\n",
      "gff file at: /home/gamran/genome_analysis/Warrior/Richard/output/defining_alleles/proteinortho/ph_ctg_516/DK_0911_v03_h_ctg.protein.gff already exists... no new gff file was generated.\n",
      "gff file at: /home/gamran/genome_analysis/Warrior/Richard/output/defining_alleles/proteinortho/ph_ctg_516/DK_0911_v03_p_ctg.protein.gff already exists... no new gff file was generated.\n",
      "Files and directories required for proteinortho analysis now exist.\n",
      "\n",
      "Execute the following commands on the command line:\n",
      "\n",
      "cd /home/gamran/genome_analysis/Warrior/Richard/output/defining_alleles/proteinortho\n",
      "source activate py27\n",
      "/home/gamran/anaconda3/proteinortho_v5.16b/proteinortho5.pl -project=ph_ctg_516 -synteny ph_ctg_516/DK_0911_v03_h_ctg.protein.faa ph_ctg_516/DK_0911_v03_p_ctg.protein.faa\n"
     ]
    }
   ],
   "source": [
    "if __name__ == \"__main__\":\n",
    "    main()"
   ]
  },
  {
   "cell_type": "code",
   "execution_count": null,
   "metadata": {},
   "outputs": [],
   "source": []
  }
 ],
 "metadata": {
  "anaconda-cloud": {},
  "kernelspec": {
   "display_name": "Python [default]",
   "language": "python",
   "name": "python3"
  },
  "language_info": {
   "codemirror_mode": {
    "name": "ipython",
    "version": 3
   },
   "file_extension": ".py",
   "mimetype": "text/x-python",
   "name": "python",
   "nbconvert_exporter": "python",
   "pygments_lexer": "ipython3",
   "version": "3.5.2"
  }
 },
 "nbformat": 4,
 "nbformat_minor": 1
}
