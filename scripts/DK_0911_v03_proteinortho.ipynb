{
 "cells": [
  {
   "cell_type": "code",
   "execution_count": 59,
   "metadata": {
    "collapsed": true
   },
   "outputs": [],
   "source": [
    "import re\n",
    "\n",
    "def getIdToLocusTagDict(df):\n",
    "    df = df[df['type'] == 'mRNA']\n",
    "    \n",
    "    locusSearch = re.compile(r'^.*locus_tag=(.*?)(;|$)')\n",
    "    idSearch = re.compile(r'ID=(.*?);')\n",
    "    \n",
    "    d = {}\n",
    "    \n",
    "    for attr in df['attributes']:\n",
    "        val = locusSearch.match(attr).group(1)\n",
    "        key = idSearch.match(attr).group(1)\n",
    "        if key in d.keys():\n",
    "            print(\"Unexpected: id key: %s already in dictionary.\" % key)\n",
    "        d[key] = val\n",
    "    return d"
   ]
  },
  {
   "cell_type": "code",
   "execution_count": 60,
   "metadata": {
    "collapsed": false
   },
   "outputs": [],
   "source": [
    "import pandas as pd\n",
    "import os\n",
    "BASE_DIR = '/home/gamran/genome_analysis/Warrior/Richard/output/genome_v03/'\n",
    "OUT_DIR = '/home/gamran/genome_analysis/Warrior/Richard/output/defining_alleles/Proteinortho/'\n",
    "\n",
    "H_CTG_GFF_LOC = os.path.join(BASE_DIR, 'DK_0911_v03_h_ctg.anno.gff3')\n",
    "P_CTG_GFF_LOC = os.path.join(BASE_DIR, 'DK_0911_v03_p_ctg.anno.gff3')\n",
    "        \n",
    "\n",
    "def rewriteGffForProteinOrtho(gff_in_loc, gff_out_loc): \n",
    "    ctg_df = pd.read_table(gff_in_loc, skiprows = 1, header = None, \\\n",
    "                  names = ['seqid', 'source', 'type', 'start', 'end', 'score', 'strand', 'phase', 'attributes'])\n",
    "    \n",
    "    # get dict mapping ID to locus_tag from mRNA entries\n",
    "    # need attribute to have 'ID=locus_tag' because .faa file has ID=locus_tag\n",
    "    # will be used in this way: CDS.parent = mRNA.id =(d)> locus_tag\n",
    "    d = getIdToLocusTagDict(ctg_df)\n",
    "    \n",
    "    # subset DataFrame to only CDS type (only type required for proteinortho analysis)\n",
    "    ctg_df = ctg_df[ctg_df['type'] == 'CDS']\n",
    "    \n",
    "    # turn attribute column into parent value\n",
    "    parentSearch = re.compile(r'^.*Parent=(.*?)(;|$)')\n",
    "    ctg_df['attributes'] = ctg_df['attributes'].apply(lambda x: parentSearch.match(x).group(1))\n",
    "    \n",
    "    # map CDS.parent values (= mRNA.id) in attribute column to locus_tag\n",
    "    ctg_df['attributes'] = ctg_df['attributes'].map(d)\n",
    "    \n",
    "    # make attribute column into format 'ID=locus_tag' to be readable by proteinortho\n",
    "    ctg_df['attributes'] = ctg_df['attributes'].apply(lambda x: 'ID=%s;'%x)\n",
    "    \n",
    "    with open(gff_out_loc, 'w') as outfile:\n",
    "        ctg_df.to_csv(outfile, sep='\\t', header = False, index = False)\n",
    "    return ctg_df\n",
    "\n",
    "htg_df = rewriteGffForProteinOrtho(H_CTG_GFF_LOC, OUT_DIR + 'DK_0911_v03_h_ctg.protein.gff')\n",
    "pCtg_df = rewriteGffForProteinOrtho(P_CTG_GFF_LOC, OUT_DIR + 'DK_0911_v03_p_ctg.protein.gff')"
   ]
  },
  {
   "cell_type": "code",
   "execution_count": 62,
   "metadata": {
    "collapsed": false
   },
   "outputs": [
    {
     "data": {
      "text/html": [
       "<div>\n",
       "<table border=\"1\" class=\"dataframe\">\n",
       "  <thead>\n",
       "    <tr style=\"text-align: right;\">\n",
       "      <th></th>\n",
       "      <th>seqid</th>\n",
       "      <th>source</th>\n",
       "      <th>type</th>\n",
       "      <th>start</th>\n",
       "      <th>end</th>\n",
       "      <th>score</th>\n",
       "      <th>strand</th>\n",
       "      <th>phase</th>\n",
       "      <th>attributes</th>\n",
       "    </tr>\n",
       "  </thead>\n",
       "  <tbody>\n",
       "    <tr>\n",
       "      <th>2</th>\n",
       "      <td>hcontig_000_001</td>\n",
       "      <td>EVM</td>\n",
       "      <td>CDS</td>\n",
       "      <td>2114</td>\n",
       "      <td>2632</td>\n",
       "      <td>.</td>\n",
       "      <td>-</td>\n",
       "      <td>0</td>\n",
       "      <td>ID=DK0911_18236;</td>\n",
       "    </tr>\n",
       "    <tr>\n",
       "      <th>4</th>\n",
       "      <td>hcontig_000_001</td>\n",
       "      <td>EVM</td>\n",
       "      <td>CDS</td>\n",
       "      <td>1903</td>\n",
       "      <td>2006</td>\n",
       "      <td>.</td>\n",
       "      <td>-</td>\n",
       "      <td>0</td>\n",
       "      <td>ID=DK0911_18236;</td>\n",
       "    </tr>\n",
       "    <tr>\n",
       "      <th>6</th>\n",
       "      <td>hcontig_000_001</td>\n",
       "      <td>EVM</td>\n",
       "      <td>CDS</td>\n",
       "      <td>1679</td>\n",
       "      <td>1837</td>\n",
       "      <td>.</td>\n",
       "      <td>-</td>\n",
       "      <td>1</td>\n",
       "      <td>ID=DK0911_18236;</td>\n",
       "    </tr>\n",
       "    <tr>\n",
       "      <th>8</th>\n",
       "      <td>hcontig_000_001</td>\n",
       "      <td>EVM</td>\n",
       "      <td>CDS</td>\n",
       "      <td>1463</td>\n",
       "      <td>1595</td>\n",
       "      <td>.</td>\n",
       "      <td>-</td>\n",
       "      <td>1</td>\n",
       "      <td>ID=DK0911_18236;</td>\n",
       "    </tr>\n",
       "    <tr>\n",
       "      <th>10</th>\n",
       "      <td>hcontig_000_001</td>\n",
       "      <td>EVM</td>\n",
       "      <td>CDS</td>\n",
       "      <td>1168</td>\n",
       "      <td>1381</td>\n",
       "      <td>.</td>\n",
       "      <td>-</td>\n",
       "      <td>0</td>\n",
       "      <td>ID=DK0911_18236;</td>\n",
       "    </tr>\n",
       "  </tbody>\n",
       "</table>\n",
       "</div>"
      ],
      "text/plain": [
       "              seqid source type  start   end score strand phase  \\\n",
       "2   hcontig_000_001    EVM  CDS   2114  2632     .      -     0   \n",
       "4   hcontig_000_001    EVM  CDS   1903  2006     .      -     0   \n",
       "6   hcontig_000_001    EVM  CDS   1679  1837     .      -     1   \n",
       "8   hcontig_000_001    EVM  CDS   1463  1595     .      -     1   \n",
       "10  hcontig_000_001    EVM  CDS   1168  1381     .      -     0   \n",
       "\n",
       "          attributes  \n",
       "2   ID=DK0911_18236;  \n",
       "4   ID=DK0911_18236;  \n",
       "6   ID=DK0911_18236;  \n",
       "8   ID=DK0911_18236;  \n",
       "10  ID=DK0911_18236;  "
      ]
     },
     "execution_count": 62,
     "metadata": {},
     "output_type": "execute_result"
    }
   ],
   "source": [
    "htg_df.head()"
   ]
  },
  {
   "cell_type": "code",
   "execution_count": null,
   "metadata": {
    "collapsed": true
   },
   "outputs": [],
   "source": [
    "os.chdir(OUT_DIR)\n",
    "\n",
    "# !/home/gamran/anaconda3/proteinortho_v5.16b/proteinortho5.pl -project=test -synteny DK_0911_v03_h_ctg.protein.faa DK_0911_v03_p_ctg.protein.faa"
   ]
  }
 ],
 "metadata": {
  "anaconda-cloud": {},
  "kernelspec": {
   "display_name": "Python [default]",
   "language": "python",
   "name": "python3"
  },
  "language_info": {
   "codemirror_mode": {
    "name": "ipython",
    "version": 3
   },
   "file_extension": ".py",
   "mimetype": "text/x-python",
   "name": "python",
   "nbconvert_exporter": "python",
   "pygments_lexer": "ipython3",
   "version": "3.5.2"
  }
 },
 "nbformat": 4,
 "nbformat_minor": 1
}
