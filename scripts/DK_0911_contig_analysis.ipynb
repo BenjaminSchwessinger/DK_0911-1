{
 "cells": [
  {
   "cell_type": "code",
   "execution_count": 218,
   "metadata": {
    "collapsed": false
   },
   "outputs": [],
   "source": [
    "import os\n",
    "import itertools\n",
    "from Bio import SeqIO"
   ]
  },
  {
   "cell_type": "code",
   "execution_count": 219,
   "metadata": {
    "collapsed": true
   },
   "outputs": [],
   "source": [
    "file_path = '/home/gamran/genome_analysis/Warrior/genome/'\n",
    "p_file_name = 'DK_0911_v01_p_ctg.fa'\n",
    "h_file_name = 'DK_0911_v01_h_ctg.fa'\n",
    "\n",
    "h_ctg_file_loc = file_path + h_file_name\n",
    "p_file_loc = file_path + p_file_name\n",
    "\n",
    "output_dir = '/home/gamran/genome_analysis/Warrior/Richard/output/'"
   ]
  },
  {
   "cell_type": "code",
   "execution_count": 220,
   "metadata": {
    "collapsed": true
   },
   "outputs": [],
   "source": [
    "# returns the primary contig number to which a haplotig or primary contig belongs,\n",
    "# e.g. hcontig_003_048 will return 003\n",
    "# e.g. pcontig_008 will return 008\n",
    "\n",
    "def getPCtgNum(ctg):\n",
    "    return ctg[8:11]"
   ]
  },
  {
   "cell_type": "code",
   "execution_count": 221,
   "metadata": {
    "collapsed": false
   },
   "outputs": [],
   "source": [
    "h_ctgs = [h for h in SeqIO.parse(h_ctg_file_loc, 'fasta')]\n",
    "p_ctgs = [p for p in SeqIO.parse(p_ctg_file_loc, 'fasta')]"
   ]
  },
  {
   "cell_type": "code",
   "execution_count": 222,
   "metadata": {
    "collapsed": false
   },
   "outputs": [],
   "source": [
    "# returns True if primary contig (pCtg) has an associated haplotig\n",
    "def isCtgPaired(pCtgNum, haplotigs):\n",
    "    for haplotig in haplotigs:\n",
    "        if getPCtgNum(haplotig.id) == pCtgNum:\n",
    "            return True\n",
    "    return False"
   ]
  },
  {
   "cell_type": "code",
   "execution_count": 223,
   "metadata": {
    "collapsed": false
   },
   "outputs": [
    {
     "name": "stdout",
     "output_type": "stream",
     "text": [
      "pcontig_000\n",
      "Seq('TGTTGTCTATTTTTACTCGTCATTCATGTAAAATGATGTATTTCTTCATTCCTG...gtt', SingleLetterAlphabet())\n",
      "4476905\n",
      "000\n"
     ]
    }
   ],
   "source": [
    "for seq_record in itertools.islice(p_ctgs, 1):\n",
    "    print(seq_record.id)\n",
    "    print(repr(seq_record.seq))\n",
    "    print(len(seq_record))\n",
    "    print(getPCtgNum(seq_record.id))"
   ]
  },
  {
   "cell_type": "code",
   "execution_count": 229,
   "metadata": {
    "collapsed": false
   },
   "outputs": [],
   "source": [
    "p_with_h = []\n",
    "p_without_h = []\n",
    "\n",
    "for pContig in p_ctgs:\n",
    "    pCtgNumber = getPCtgNum(pContig.id)\n",
    "    pContigFileName = p_file_name[:-3] + \"_\" + getPCtgNum(pContig.id) + \".fa\"\n",
    "    if isCtgPaired(pCtgNumber, h_ctgs):\n",
    "        p_with_h.append(pContig)\n",
    "        SeqIO.write(pContig, output_dir + 'pwh/' + pContigFileName, 'fasta')\n",
    "    else:\n",
    "        p_without_h.append(pContig)\n",
    "        SeqIO.write(pContig, output_dir + 'pwoh/' + pContigFileName, 'fasta')\n",
    "\n",
    "assert len(p_with_h) + len(p_without_h) == len(p_ctgs)"
   ]
  },
  {
   "cell_type": "code",
   "execution_count": 228,
   "metadata": {
    "collapsed": false
   },
   "outputs": [
    {
     "data": {
      "text/plain": [
       "13"
      ]
     },
     "execution_count": 228,
     "metadata": {},
     "output_type": "execute_result"
    }
   ],
   "source": [
    "SeqIO.write(p_with_h, output_dir + 'pwh/' + p_file_name[:-3] + '_pwh.fa', 'fasta')\n",
    "SeqIO.write(p_without_h, output_dir + 'pwoh/' + p_file_name[:-3] + '_pwoh.fa', 'fasta')"
   ]
  },
  {
   "cell_type": "code",
   "execution_count": 226,
   "metadata": {
    "collapsed": false
   },
   "outputs": [
    {
     "data": {
      "text/plain": [
       "12"
      ]
     },
     "execution_count": 226,
     "metadata": {},
     "output_type": "execute_result"
    }
   ],
   "source": [
    "bash_script_q=\"ph_ctg_qmapping.sh\"\n",
    "bash_script_g=\"ph_ctg_gmapping.sh\"\n",
    "outfq = open(output_dir + bash_script_q, 'w')\n",
    "outfq.write('#!/bin/bash\\n')\n"
   ]
  },
  {
   "cell_type": "code",
   "execution_count": null,
   "metadata": {
    "collapsed": false,
    "scrolled": true
   },
   "outputs": [],
   "source": []
  },
  {
   "cell_type": "code",
   "execution_count": null,
   "metadata": {
    "collapsed": true
   },
   "outputs": [],
   "source": []
  }
 ],
 "metadata": {
  "anaconda-cloud": {},
  "kernelspec": {
   "display_name": "Python [conda root]",
   "language": "python",
   "name": "conda-root-py"
  },
  "language_info": {
   "codemirror_mode": {
    "name": "ipython",
    "version": 3
   },
   "file_extension": ".py",
   "mimetype": "text/x-python",
   "name": "python",
   "nbconvert_exporter": "python",
   "pygments_lexer": "ipython3",
   "version": "3.5.2"
  }
 },
 "nbformat": 4,
 "nbformat_minor": 1
}
