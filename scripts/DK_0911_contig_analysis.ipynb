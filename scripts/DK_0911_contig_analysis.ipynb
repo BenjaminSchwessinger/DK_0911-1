{
 "cells": [
  {
   "cell_type": "code",
   "execution_count": 184,
   "metadata": {
    "collapsed": false
   },
   "outputs": [
    {
     "name": "stdout",
     "output_type": "stream",
     "text": [
      "\n"
     ]
    }
   ],
   "source": [
    "import os\n",
    "import itertools\n",
    "from Bio import SeqIO\n",
    "\n",
    "file_path = '/home/gamran/genome_analysis/Warrior/genome/'\n",
    "p_file_name = 'DK_0911_v01_p_ctg.fa'\n",
    "h_file_name = 'DK_0911_v01_h_ctg.fa'\n",
    "\n",
    "h_ctg_file_loc = file_path + h_file_name\n",
    "p_ctg_file_loc = file_path + p_file_name\n",
    "\n",
    "output_dir = '/home/gamran/genome_analysis/Warrior/Richard/output/'\n",
    "\n",
    "def getPCtgNum(ctg):\n",
    "    '''returns the primary contig number to which a haplotig or primary contig belongs,\n",
    "    e.g. hcontig_003_048 will return 003\n",
    "    e.g. pcontig_008 will return 008'''\n",
    "    return ctg[8:11]\n",
    "\n",
    "def isCtgPaired(pCtgNum, haplotigs):\n",
    "    '''returns True if primary contig (pCtg) has an associated haplotig'''\n",
    "    for haplotig in haplotigs:\n",
    "        if getPCtgNum(haplotig.id) == pCtgNum:\n",
    "            return True\n",
    "    return False\n",
    "    \n",
    "def getPairedUnpairedContigs(PCtgs, htgs):\n",
    "    '''returns a tuple containing all (pwhs, pwohs)\n",
    "    from a <SeqRecord> list of PCtgs and htgs.\n",
    "    While doing so, generates pwh and pwoh fasta files in organised directories.'''\n",
    "    pwhs = []\n",
    "    pwohs = []\n",
    "\n",
    "    for pContig in pCtgs:\n",
    "        pCtgNumber = getPCtgNum(pContig.id)\n",
    "        pContigFileName = p_file_name[:-3] + \"_\" + getPCtgNum(pContig.id) + \".fa\"\n",
    "        if isCtgPaired(pCtgNumber, htgs):\n",
    "            pwhs.append(pContig)\n",
    "            SeqIO.write(pContig, output_dir + 'pwh/' + pContigFileName, 'fasta')\n",
    "        else:\n",
    "            pwohs.append(pContig)\n",
    "            directory = output_dir + 'pwoh/' + pContigFileName[:-3] + '/'\n",
    "            if not os.path.exists(directory):\n",
    "                os.makedirs(directory)\n",
    "            SeqIO.write(pContig, directory + pContigFileName, 'fasta')\n",
    "\n",
    "    assert len(pwhs) + len(pwohs) == len(pCtgs)\n",
    "    \n",
    "    return pwhs, pwohs\n",
    "\n",
    "\n",
    "def getPairedCtgsHtgs(pCtgs, htgs):\n",
    "    '''returns a list of lists [[pCtg, [htgs]],...] containing primary contigs with \n",
    "    a list of their associated haplotigs'''\n",
    "    '''N.B. dictionary with pCtg as key does not work as SeqRecord object is unhashable'''\n",
    "    \n",
    "    d = {}\n",
    "    \n",
    "    # dictionary of pCtg ID as key which returns a list of associated haplotigs\n",
    "    for htg in htgs:\n",
    "        htgNum = getPCtgNum(htg.id) # the id of the primary contig associated with the haplotig\n",
    "        if htgNum not in d:\n",
    "            d[htgNum] = [htg]\n",
    "        else:\n",
    "            d[htgNum].append(htg)\n",
    "    # generating list to return, with pCtg <SeqRecord> as opposed to ID\n",
    "    l = []\n",
    "    for pCtg in pCtgs:\n",
    "        pCtgNum = getPCtgNum(pCtg.id)\n",
    "        if pCtgNum in d:\n",
    "            l.append((pCtg, d[pCtgNum]))\n",
    "    return l\n",
    "\n",
    "def assignHaplotig(pairsList, pwoh, pwh):\n",
    "    '''Assigns a pwoh as a htg paired to a pwh, and returns a modified list containing\n",
    "    [[pCtg, [htgs]], ...]'''\n",
    "    for pair in pairsList:\n",
    "        if getPCtgNum(pair[0].id) == getPCtgNum(pwh.id):\n",
    "            pair[1].append(pwoh)\n",
    "            return pairsList\n",
    "    \n",
    "def writeScript(in_loc1, in_loc2, out_loc, qFilter = True):\n",
    "    ''' from two .fa file locations and an output directory, returns a section\n",
    "    of bash script that compares the two fasta inputs files using either a -g \n",
    "    or -q filter'''\n",
    "    \n",
    "    base_path_0 = '/home/gamran/anaconda3/bin/'\n",
    "    base_path_1 = '/usr/bin/'\n",
    "    \n",
    "    s = 'cd ' + out_loc + '\\n'\n",
    "    \n",
    "    # qfilter\n",
    "    if qFilter:\n",
    "        s += base_path_1 + 'nucmer ' + in_loc1 + ' ' + in_loc2 + ' > out.delta\\n'\n",
    "        s += base_path_1 + 'delta-filter -q out.delta > _qfiltered.delta\\n'\n",
    "        s += base_path_1 + 'show-coords -T _qfiltered.delta > _.qcoords\\n'\n",
    "        s += base_path_0 + 'mummerplot -p _qfiltered --postscript _qfiltered.delta\\n'\n",
    "        s += base_path_0 + 'mummerplot -c -p _qfiltered_cov --postscript _qfiltered.delta\\n'\n",
    "    #gfilter\n",
    "    else:\n",
    "        s += base_path_1 + 'nucmer ' + in_loc1 + ' ' + in_loc2 + ' > out.delta\\n'\n",
    "        s += base_path_1 + 'delta-filter -g out.delta > _gfiltered.delta\\n'\n",
    "        s += base_path_1 + 'show-coords -T _gfiltered.delta > _.gcoords\\n'\n",
    "        s += base_path_0 + 'mummerplot -p _gfiltered --postscript _gfiltered.delta\\n'\n",
    "        s += base_path_0 + 'mummerplot -c -p _gfiltered_cov --postscript _gfiltered.delta\\n'\n",
    "    return s"
   ]
  },
  {
   "cell_type": "code",
   "execution_count": 177,
   "metadata": {
    "collapsed": false
   },
   "outputs": [],
   "source": [
    "htgs = [h for h in SeqIO.parse(h_ctg_file_loc, 'fasta')]\n",
    "pCtgs = [p for p in SeqIO.parse(p_ctg_file_loc, 'fasta')]\n",
    "\n",
    "pairsList = getPairedCtgsHtgs(pCtgs, htgs)"
   ]
  },
  {
   "cell_type": "code",
   "execution_count": 127,
   "metadata": {
    "collapsed": false,
    "scrolled": true
   },
   "outputs": [
    {
     "data": {
      "text/plain": [
       "13"
      ]
     },
     "execution_count": 127,
     "metadata": {},
     "output_type": "execute_result"
    }
   ],
   "source": [
    "htgs = [h for h in SeqIO.parse(h_ctg_file_loc, 'fasta')]\n",
    "pCtgs = [p for p in SeqIO.parse(p_ctg_file_loc, 'fasta')]\n",
    "\n",
    "pwhs, pwohs = getPairedUnpairedContigs(pCtgs, htgs)\n",
    "\n",
    "SeqIO.write(pwhs, output_dir + 'pwh/' + p_file_name[:-3] + '_pwh.fa', 'fasta')\n",
    "SeqIO.write(pwohs, output_dir + 'pwoh/' + p_file_name[:-3] + '_pwoh.fa', 'fasta')"
   ]
  },
  {
   "cell_type": "code",
   "execution_count": 125,
   "metadata": {
    "collapsed": false
   },
   "outputs": [],
   "source": [
    "bash_script_q=\"ph_ctg_qmapping.sh\"\n",
    "bash_script_g=\"ph_ctg_gmapping.sh\"\n",
    "outfq = open(output_dir + bash_script_q, 'w')\n",
    "outfq.write('#!/bin/bash\\n')\n",
    "outfg = open(output_dir + bash_script_g, 'w')\n",
    "outfg.write('#!/bin/bash\\n')\n",
    "\n",
    "for pwoh in pwohs:\n",
    "    pwoh_name = 'DK_0911_v01_p_ctg_' + getPCtgNum(pwoh.id)\n",
    "    pwhs_loc = output_dir + 'pwh/DK_0911_v01_p_ctg_pwh.fa'\n",
    "    pwhoh_loc = output_dir + 'pwoh/' + 'DK_0911_v01_p_ctg_' + getPCtgNum(pwoh.id) + '/' + pwoh_name + '.fa'\n",
    "    out_loc = output_dir + 'pwoh/' + pwoh_name + '/'\n",
    "    s = writeScript(pwoh, pwhs, True)\n",
    "    outfq.write(s)\n",
    "    s = writeScript(pwoh, pwhs, False)\n",
    "    outfg.write(s)\n",
    "\n",
    "outfq.write(writeScript(pwohs[0], pwhs, True))\n",
    "outfq.close()\n",
    "outfg.close()"
   ]
  },
  {
   "cell_type": "code",
   "execution_count": null,
   "metadata": {
    "collapsed": false
   },
   "outputs": [],
   "source": []
  },
  {
   "cell_type": "code",
   "execution_count": null,
   "metadata": {
    "collapsed": true
   },
   "outputs": [],
   "source": []
  }
 ],
 "metadata": {
  "anaconda-cloud": {},
  "kernelspec": {
   "display_name": "Python [conda root]",
   "language": "python",
   "name": "conda-root-py"
  },
  "language_info": {
   "codemirror_mode": {
    "name": "ipython",
    "version": 3
   },
   "file_extension": ".py",
   "mimetype": "text/x-python",
   "name": "python",
   "nbconvert_exporter": "python",
   "pygments_lexer": "ipython3",
   "version": "3.5.2"
  }
 },
 "nbformat": 4,
 "nbformat_minor": 1
}
