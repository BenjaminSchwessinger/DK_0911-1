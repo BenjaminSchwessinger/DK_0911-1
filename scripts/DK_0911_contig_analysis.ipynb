{
 "cells": [
  {
   "cell_type": "code",
   "execution_count": 123,
   "metadata": {
    "collapsed": true
   },
   "outputs": [],
   "source": [
    "import os\n",
    "import itertools\n",
    "from Bio import SeqIO\n",
    "\n",
    "file_path = '/home/gamran/genome_analysis/Warrior/genome/'\n",
    "p_file_name = 'DK_0911_v01_p_ctg.fa'\n",
    "h_file_name = 'DK_0911_v01_h_ctg.fa'\n",
    "\n",
    "h_ctg_file_loc = file_path + h_file_name\n",
    "p_ctg_file_loc = file_path + p_file_name\n",
    "\n",
    "output_dir = '/home/gamran/genome_analysis/Warrior/Richard/output/'\n",
    "\n",
    "def getPCtgNum(ctg):\n",
    "    '''returns the primary contig number to which a haplotig or primary contig belongs,\n",
    "    e.g. hcontig_003_048 will return 003\n",
    "    e.g. pcontig_008 will return 008'''\n",
    "    return ctg[8:11]\n",
    "\n",
    "# returns True if primary contig (pCtg) has an associated haplotig\n",
    "def isCtgPaired(pCtgNum, haplotigs):\n",
    "    for haplotig in haplotigs:\n",
    "        if getPCtgNum(haplotig.id) == pCtgNum:\n",
    "            return True\n",
    "    return False\n",
    "\n",
    "def getPairedUnpairedContigs(p_ctgs, h_ctgs):\n",
    "    '''returns a tuple containing all (pwhs, pwohs)\n",
    "    from a <SeqRecord> list of p_ctgs and h_ctgs'''\n",
    "    p_with_h = []\n",
    "    p_without_h = []\n",
    "\n",
    "    for pContig in p_ctgs:\n",
    "        pCtgNumber = getPCtgNum(pContig.id)\n",
    "        pContigFileName = p_file_name[:-3] + \"_\" + getPCtgNum(pContig.id) + \".fa\"\n",
    "        if isCtgPaired(pCtgNumber, h_ctgs):\n",
    "            p_with_h.append(pContig)\n",
    "            SeqIO.write(pContig, output_dir + 'pwh/' + pContigFileName, 'fasta')\n",
    "        else:\n",
    "            p_without_h.append(pContig)\n",
    "            directory = output_dir + 'pwoh/' + pContigFileName[:-3] + '/'\n",
    "            if not os.path.exists(directory):\n",
    "                os.makedirs(directory)\n",
    "            SeqIO.write(pContig, directory + pContigFileName, 'fasta')\n",
    "\n",
    "    assert len(p_with_h) + len(p_without_h) == len(p_ctgs)\n",
    "    \n",
    "    return p_with_h, p_without_h\n",
    "\n",
    "def writeScript(pwoh, pwhs, qFilter = True):\n",
    "    '''from a single <SeqRecord> pwoh and list of <SeqRecord> pwhs,\n",
    "    returns a section of bash script that compares a single pwoh to all pwhs,\n",
    "    using either a -g or -q filter'''\n",
    "    \n",
    "    pwhs_loc = output_dir + 'pwh/DK_0911_v01_p_ctg_pwh.fa'\n",
    "    pwoh_dir = output_dir + 'pwoh/'\n",
    "    \n",
    "    pwoh_name = 'DK_0911_v01_p_ctg_' + getPCtgNum(pwoh.id)\n",
    "    pwoh_loc = pwoh_dir + pwoh_name + '/' + pwoh_name + '.fa'\n",
    "    \n",
    "    specific_out_dir = output_dir + 'pwoh/' + pwoh_name + '/'\n",
    "    \n",
    "    base_path_0 = '/home/gamran/anaconda3/bin/'\n",
    "    base_path_1 = '/usr/bin/'\n",
    "    \n",
    "    s = 'cd ' + specific_out_dir + '\\n'\n",
    "    \n",
    "    # qfilter\n",
    "    if qFilter:\n",
    "        s += base_path_1 + 'nucmer ' + pwhs_loc + ' ' + pwoh_loc + ' > out.delta\\n'\n",
    "        s += base_path_1 + 'delta-filter -q out.delta > ' + pwoh_name + '_qfiltered.delta\\n'\n",
    "        s += base_path_1 + 'show-coords -T ' + pwoh_name + \"_qfiltered.delta > \" + pwoh_name + '.qcoords\\n'\n",
    "        s += base_path_0 + 'mummerplot -p ' + pwoh_name + '_qfiltered --postscript ' + pwoh_name + '_qfiltered.delta\\n'\n",
    "        s += base_path_0 + 'mummerplot -c -p ' + pwoh_name + '_qfiltered_cov --postscript ' + pwoh_name + '_qfiltered.delta\\n'\n",
    "    #gfilter\n",
    "    else:\n",
    "        s += base_path_1 + 'nucmer ' + pwhs_loc + ' ' + pwoh_loc + ' > out.delta\\n'\n",
    "        s += base_path_1 + 'delta-filter -g out.delta > ' + pwoh_name + '_gfiltered.delta\\n'\n",
    "        s += base_path_1 + 'show-coords -T ' + pwoh_name + \"_gfiltered.delta > \" + pwoh_name + '.gcoords\\n'\n",
    "        s += base_path_0 + 'mummerplot -p ' + pwoh_name + '_gfiltered --postscript ' + pwoh_name + '_gfiltered.delta\\n'\n",
    "        s += base_path_0 + 'mummerplot -c -p ' + pwoh_name + '_gfiltered_cov --postscript ' + pwoh_name + '_gfiltered.delta\\n'\n",
    "    return s"
   ]
  },
  {
   "cell_type": "code",
   "execution_count": 124,
   "metadata": {
    "collapsed": false,
    "scrolled": true
   },
   "outputs": [
    {
     "data": {
      "text/plain": [
       "13"
      ]
     },
     "execution_count": 124,
     "metadata": {},
     "output_type": "execute_result"
    }
   ],
   "source": [
    "h_ctgs = [h for h in SeqIO.parse(h_ctg_file_loc, 'fasta')]\n",
    "p_ctgs = [p for p in SeqIO.parse(p_ctg_file_loc, 'fasta')]\n",
    "\n",
    "pwhs, pwohs = getPairedUnpairedContigs(p_ctgs, h_ctgs)\n",
    "\n",
    "SeqIO.write(pwhs, output_dir + 'pwh/' + p_file_name[:-3] + '_pwh.fa', 'fasta')\n",
    "SeqIO.write(pwohs, output_dir + 'pwoh/' + p_file_name[:-3] + '_pwoh.fa', 'fasta')"
   ]
  },
  {
   "cell_type": "code",
   "execution_count": 125,
   "metadata": {
    "collapsed": false
   },
   "outputs": [],
   "source": [
    "bash_script_q=\"ph_ctg_qmapping.sh\"\n",
    "bash_script_g=\"ph_ctg_gmapping.sh\"\n",
    "outfq = open(output_dir + bash_script_q, 'w')\n",
    "outfq.write('#!/bin/bash\\n')\n",
    "outfg = open(output_dir + bash_script_g, 'w')\n",
    "outfg.write('#!/bin/bash\\n')\n",
    "\n",
    "for pwoh in pwohs:\n",
    "    s = writeScript(pwoh, pwhs, True)\n",
    "    outfq.write(s)\n",
    "    s = writeScript(pwoh, pwhs, False)\n",
    "    outfg.write(s)\n",
    "\n",
    "\n",
    "outfq.write(writeScript(pwohs[0], pwhs, True))\n",
    "outfq.close()\n",
    "outfg.close()"
   ]
  },
  {
   "cell_type": "code",
   "execution_count": null,
   "metadata": {
    "collapsed": true
   },
   "outputs": [],
   "source": []
  }
 ],
 "metadata": {
  "anaconda-cloud": {},
  "kernelspec": {
   "display_name": "Python [conda root]",
   "language": "python",
   "name": "conda-root-py"
  },
  "language_info": {
   "codemirror_mode": {
    "name": "ipython",
    "version": 3
   },
   "file_extension": ".py",
   "mimetype": "text/x-python",
   "name": "python",
   "nbconvert_exporter": "python",
   "pygments_lexer": "ipython3",
   "version": "3.5.2"
  }
 },
 "nbformat": 4,
 "nbformat_minor": 1
}
