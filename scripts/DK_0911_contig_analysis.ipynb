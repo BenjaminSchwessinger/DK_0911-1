{
 "cells": [
  {
   "cell_type": "code",
   "execution_count": 72,
   "metadata": {
    "collapsed": false
   },
   "outputs": [],
   "source": [
    "import os\n",
    "import itertools\n",
    "from Bio import SeqIO"
   ]
  },
  {
   "cell_type": "code",
   "execution_count": 73,
   "metadata": {
    "collapsed": true
   },
   "outputs": [],
   "source": [
    "file_path = '/home/gamran/genome_analysis/Warrior/genome/'\n",
    "p_file_name = 'DK_0911_v01_p_ctg.fa'\n",
    "h_file_name = 'DK_0911_v01_h_ctg.fa'\n",
    "\n",
    "h_ctg_file_loc = file_path + h_file_name\n",
    "p_ctg_file_loc = file_path + p_file_name\n",
    "\n",
    "output_dir = '/home/gamran/genome_analysis/Warrior/Richard/output/'"
   ]
  },
  {
   "cell_type": "code",
   "execution_count": 74,
   "metadata": {
    "collapsed": true
   },
   "outputs": [],
   "source": [
    "# returns the primary contig number to which a haplotig or primary contig belongs,\n",
    "# e.g. hcontig_003_048 will return 003\n",
    "# e.g. pcontig_008 will return 008\n",
    "\n",
    "def getPCtgNum(ctg):\n",
    "    return ctg[8:11]"
   ]
  },
  {
   "cell_type": "code",
   "execution_count": 75,
   "metadata": {
    "collapsed": false
   },
   "outputs": [],
   "source": [
    "h_ctgs = [h for h in SeqIO.parse(h_ctg_file_loc, 'fasta')]\n",
    "p_ctgs = [p for p in SeqIO.parse(p_ctg_file_loc, 'fasta')]"
   ]
  },
  {
   "cell_type": "code",
   "execution_count": 76,
   "metadata": {
    "collapsed": false
   },
   "outputs": [],
   "source": [
    "# returns True if primary contig (pCtg) has an associated haplotig\n",
    "def isCtgPaired(pCtgNum, haplotigs):\n",
    "    for haplotig in haplotigs:\n",
    "        if getPCtgNum(haplotig.id) == pCtgNum:\n",
    "            return True\n",
    "    return False"
   ]
  },
  {
   "cell_type": "code",
   "execution_count": 77,
   "metadata": {
    "collapsed": false
   },
   "outputs": [
    {
     "name": "stdout",
     "output_type": "stream",
     "text": [
      "<class 'Bio.SeqRecord.SeqRecord'>\n",
      "pcontig_000\n",
      "Seq('TGTTGTCTATTTTTACTCGTCATTCATGTAAAATGATGTATTTCTTCATTCCTG...gtt', SingleLetterAlphabet())\n",
      "4476905\n",
      "000\n"
     ]
    }
   ],
   "source": [
    "'''\n",
    "for seq_record in itertools.islice(p_ctgs, 1):\n",
    "    print(type(seq_record))\n",
    "    print(seq_record.id)\n",
    "    print(repr(seq_record.seq))\n",
    "    print(len(seq_record))\n",
    "    print(getPCtgNum(seq_record.id))\n",
    "'''"
   ]
  },
  {
   "cell_type": "code",
   "execution_count": 85,
   "metadata": {
    "collapsed": false
   },
   "outputs": [],
   "source": [
    "def getPairedUnpairedContigs(p_ctgs, h_ctgs):\n",
    "    p_with_h = []\n",
    "    p_without_h = []\n",
    "\n",
    "    for pContig in p_ctgs:\n",
    "        pCtgNumber = getPCtgNum(pContig.id)\n",
    "        pContigFileName = p_file_name[:-3] + \"_\" + getPCtgNum(pContig.id) + \".fa\"\n",
    "        if isCtgPaired(pCtgNumber, h_ctgs):\n",
    "            p_with_h.append(pContig)\n",
    "            SeqIO.write(pContig, output_dir + 'pwh/' + pContigFileName, 'fasta')\n",
    "        else:\n",
    "            p_without_h.append(pContig)\n",
    "            directory = output_dir + 'pwoh/' + pContigFileName[:-3] + '/'\n",
    "            if not os.path.exists(directory):\n",
    "                os.makedirs(directory)\n",
    "            SeqIO.write(pContig, directory + pContigFileName, 'fasta')\n",
    "\n",
    "    assert len(p_with_h) + len(p_without_h) == len(p_ctgs)\n",
    "    \n",
    "    return p_with_h, p_without_h\n",
    "\n",
    "pwhs, pwohs = getPairedUnpairedContigs(p_ctgs, h_ctgs)"
   ]
  },
  {
   "cell_type": "code",
   "execution_count": 79,
   "metadata": {
    "collapsed": false
   },
   "outputs": [
    {
     "data": {
      "text/plain": [
       "13"
      ]
     },
     "execution_count": 79,
     "metadata": {},
     "output_type": "execute_result"
    }
   ],
   "source": [
    "SeqIO.write(pwhs, output_dir + 'pwh/' + p_file_name[:-3] + '_pwh.fa', 'fasta')\n",
    "SeqIO.write(pwohs, output_dir + 'pwoh/' + p_file_name[:-3] + '_pwoh.fa', 'fasta')"
   ]
  },
  {
   "cell_type": "code",
   "execution_count": 118,
   "metadata": {
    "collapsed": false,
    "scrolled": true
   },
   "outputs": [
    {
     "name": "stdout",
     "output_type": "stream",
     "text": [
      "cd /home/gamran/genome_analysis/Warrior/Richard/output/pwoh/DK_0911_v01_p_ctg_077/\n",
      "/usr/bin/nucmer /home/gamran/genome_analysis/Warrior/Richard/output/pwh/DK_0911_v01_p_ctg_pwh.fa /home/gamran/genome_analysis/Warrior/Richard/output/pwoh/DK_0911_v01_p_ctg_077/DK_0911_v01_p_ctg_077.fa > out.delta\n",
      "/usr/bin/delta-filter -q out.delta > DK_0911_v01_p_ctg_077_qfiltered.delta\n",
      "/usr/bin/show-coords -T DK_0911_v01_p_ctg_077_qfiltered.delta > DK_0911_v01_p_ctg_077.qcoords\n",
      "/home/gamran/anaconda3/bin/mummerplot -p DK_0911_v01_p_ctg_077_qfiltered --postscript DK_0911_v01_p_ctg_077_qfiltered.delta\n",
      "/home/gamran/anaconda3/bin/mummerplot -c -p DK_0911_v01_p_ctg_077_qfiltered_cov --postscript DK_0911_v01_p_ctg_077_qfiltered.delta\n",
      "\n"
     ]
    }
   ],
   "source": [
    "# pwoh = one primary contig without a haplotig <SeqRecord>\n",
    "# pwhs = primary contigs with haplotigs (all) <list of SeqRecords>\n",
    "def writeScript(pwoh, pwhs, qFilter = True):\n",
    "    pwhs_loc = '/home/gamran/genome_analysis/Warrior/Richard/output/pwh/DK_0911_v01_p_ctg_pwh.fa'\n",
    "    pwoh_dir = '/home/gamran/genome_analysis/Warrior/Richard/output/pwoh/'\n",
    "    \n",
    "    pwoh_name = 'DK_0911_v01_p_ctg_' + getPCtgNum(pwoh.id)\n",
    "    pwoh_loc = pwoh_dir + pwoh_name + '/' + pwoh_name + '.fa'\n",
    "    \n",
    "    specific_out_dir = output_dir + 'pwoh/' + pwoh_name + '/'\n",
    "    \n",
    "    base_path_0 = '/home/gamran/anaconda3/bin/'\n",
    "    base_path_1 = '/usr/bin/'\n",
    "    \n",
    "    s = 'cd ' + specific_out_dir + '\\n'\n",
    "    \n",
    "    # qfilter\n",
    "    if qFilter:\n",
    "        s += base_path_1 + 'nucmer ' + pwhs_loc + ' ' + pwoh_loc + ' > out.delta\\n'\n",
    "        s += base_path_1 + 'delta-filter -q out.delta > ' + pwoh_name + '_qfiltered.delta\\n'\n",
    "        s += base_path_1 + 'show-coords -T ' + pwoh_name + \"_qfiltered.delta > \" + pwoh_name + '.qcoords\\n'\n",
    "        s += base_path_0 + 'mummerplot -p ' + pwoh_name + '_qfiltered --postscript ' + pwoh_name + '_qfiltered.delta\\n'\n",
    "        s += base_path_0 + 'mummerplot -c -p ' + pwoh_name + '_qfiltered_cov --postscript ' + pwoh_name + '_qfiltered.delta\\n'\n",
    "    #gfilter\n",
    "    else:\n",
    "        s += base_path_1 + 'nucmer ' + pwhs_loc + ' ' + pwoh_loc + ' > out.delta\\n'\n",
    "        s += base_path_1 + 'delta-filter -g out.delta > ' + pwoh_name + '_gfiltered.delta\\n'\n",
    "        s += base_path_1 + 'show-coords -T ' + pwoh_name + \"_gfiltered.delta > \" + pwoh_name + '.gcoords\\n'\n",
    "        s += base_path_0 + 'mummerplot -p ' + pwoh_name + '_gfiltered --postscript ' + pwoh_name + '_gfiltered.delta\\n'\n",
    "        s += base_path_0 + 'mummerplot -c -p ' + pwoh_name + '_gfiltered_cov --postscript ' + pwoh_name + '_gfiltered.delta\\n'\n",
    "    return s\n",
    "\n",
    "print(writeScript(pwohs[1], pwhs))"
   ]
  },
  {
   "cell_type": "code",
   "execution_count": 119,
   "metadata": {
    "collapsed": false
   },
   "outputs": [],
   "source": [
    "bash_script_q=\"ph_ctg_qmapping.sh\"\n",
    "bash_script_g=\"ph_ctg_gmapping.sh\"\n",
    "outfq = open(output_dir + bash_script_q, 'w')\n",
    "outfq.write('#!/bin/bash\\n')\n",
    "outfg = open(output_dir + bash_script_g, 'w')\n",
    "outfg.write('#!/bin/bash\\n')\n",
    "\n",
    "for pwoh in pwohs:\n",
    "    s = writeScript(pwoh, pwhs, True)\n",
    "    outfq.write(s)\n",
    "    s = writeScript(pwoh, pwhs, False)\n",
    "    outfg.write(s)\n",
    "\n",
    "\n",
    "outfq.write(writeScript(pwohs[0], pwhs, True))\n",
    "outfq.close()\n",
    "outfg.close()"
   ]
  },
  {
   "cell_type": "code",
   "execution_count": null,
   "metadata": {
    "collapsed": true
   },
   "outputs": [],
   "source": []
  }
 ],
 "metadata": {
  "anaconda-cloud": {},
  "kernelspec": {
   "display_name": "Python [conda root]",
   "language": "python",
   "name": "conda-root-py"
  },
  "language_info": {
   "codemirror_mode": {
    "name": "ipython",
    "version": 3
   },
   "file_extension": ".py",
   "mimetype": "text/x-python",
   "name": "python",
   "nbconvert_exporter": "python",
   "pygments_lexer": "ipython3",
   "version": "3.5.2"
  }
 },
 "nbformat": 4,
 "nbformat_minor": 1
}
